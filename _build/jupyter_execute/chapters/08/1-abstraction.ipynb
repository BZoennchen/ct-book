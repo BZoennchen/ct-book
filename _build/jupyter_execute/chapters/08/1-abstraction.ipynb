{
 "cells": [
  {
   "cell_type": "markdown",
   "id": "practical-strip",
   "metadata": {},
   "source": [
    "# Abstraktion des Computers\n",
    "\n",
    "Im Kapitel [Der digitale Computer](sec-information-processing) haben wir uns angesehen wie \n",
    "\n",
    "1. ein digitaler Computer die **Informationsverarbeitung** realisiert, \n",
    "2. wie auf dem Computer [Information](sec-information) **repräsentiert** und **digitalisiert** wird und \n",
    "3. wie dieser durch **Logikgatter** (realisiert durch elektronische Bauteile) Information **manipulieren**.\n",
    "\n",
    "Sie haben gesehen, dass die einfache Addition von zwei natürlichen Zahlen durch eine Vielzahl an Interaktionen der einzelnen Bauteile des Computers umgesetzt wird.\n",
    "Der Computer muss erst *booten*.\n",
    "Dann muss das Programm in den Speicher geladen werden.\n",
    "Dieses muss ausgeführt werden, was wiederum die zu addierenden Zahlen schlussendlich in Register platziert.\n",
    "Die arithmetische Einheit berechnet dann das Ergebnis was wiederum in den Hauptspeicher zurückgeschrieben werden muss.\n",
    "Welch ein Aufwand!\n",
    "Müssen wir uns um all das kümmern?\n",
    "\n",
    "Ja und nein lautet unsere Antwort.\n",
    "**Programmiersprachen abstrahieren die Spezifika des digitalen Computers.**\n",
    "Die Hardware wird durch Programmiersprachen so weit abstrahiert, dass wir uns um Register, Kontrolleinheit, arithmetische Einheit und oft nicht einmal den Hauptspeicher kümmern müssen.\n",
    "Je nach Wahl der Programmiersprache unterscheidet sich dieses Abstraktionniveau.\n",
    "\n",
    "In [Berechenbarkeit](sec-computability) haben wir Ihnen gezeigt, dass Computer als auch Programmiersprachen *Turing-vollständig* sind.\n",
    "Der Computer ist eine *universelle Turingmaschine* und simuliert die *Turingmaschinen* (Programme) die in seinem Speicher liegen.\n",
    "Der Computer spricht [binär](sec-binary-system), d.h. jeder Teil des Befehls\n",
    "\n",
    "$$\\text{ADD } \\text{Reg}_1 \\text{ Reg}_2 \\text{ Reg}_3$$\n",
    "\n",
    "wird durch codiert und durch eine Folge von $0$, und $1$ repräsentiert.\n",
    "Zum Beispiel könnte es sein, dass $\\text{ADD }$ durch $1001$ codiert wird.\n",
    "Uns Menschen fällt es extrem schwer ein Programm in Form einer langen Sequenz von $0$ und $1$ zu lesen.\n",
    "Deshalb gibt es Programme (*Interpreter* oder *Compiler*), die einen abstrakten Programmcode, geschrieben in Sprache ``A`` in maschinennäheren Code der Sprache ``B`` überführen.\n",
    "\n",
    "In sogenannten Hochsprachen kümmern Sie sich nicht mehr um Register.\n",
    "Ein Befehl wie\n",
    "\n",
    "```python\n",
    "z = x + y\n",
    "```\n",
    "\n",
    "Wird schrittweise von der Hochsprache in immer maschinennähere Sprachen übersetzt.\n",
    "Zunächst möglicherweise in ``Assembler`` eine Sprache, welche auf Registerebene arbeitet und dann ein zweitesmal in binären Maschinencode.\n",
    "\n",
    "\n",
    "```{exercise} Kompilieren und Interpretieren\n",
    ":label: languages-abstraction-exercise\n",
    "Angenommen es gäbe eine Sprache ``SimplePython`` die äquivalent zu ``Python`` ist aber keine Multiplikation und auch keine Schleifen/Iteration kennt.\n",
    "\n",
    "Schreiben Sie eine ``Python``-Funktion ``spython_compile_mul(a,b)``, welche ein ``SimplePython``-Programm ausgibt (``print``) welches ``c = a * b`` ausgibt\n",
    "``a`` und ``b`` nehmen Sie als Werte nicht als Variablen an.\n",
    "\n",
    "```\n",
    "\n",
    "````{solution} languages-abstraction-exercise\n",
    ":label: languages-abstraction-solution\n",
    ":class: dropdown\n",
    "\n",
    "```python\n",
    "def python_compile_mul(a,b):\n",
    "    print(\"c = 0\")\n",
    "    for _ in range(a):\n",
    "        print(f\"c = c + {b}\")\n",
    "\n",
    "python_compile_mul(3, 4)\n",
    "```\n",
    "\n",
    "````\n",
    "\n",
    "Sprachen wie ``Java``, ``Python`` und ``C#`` bieten ein sehr hohes Abstraktionniveau wohingegen ``C++`` maschinennäher ist.\n",
    "Doch selbst wenn das Abstraktionniveau weniger hoch ist, können wir uns als Programmier\\*innen selbst auf ein höheres Niveau hieven.\n",
    "Nehmen wir zum Beispiel einmal an, unsere Sprache könnte keine Zahlen multiplizieren.\n",
    "Das einzige was wir zur Verfügung haben ist die Addition ``+`` und die Möglichkeit Anweisungen ``n``-mal zu wiederholen ``for i in range(n)``.\n",
    "Mit diesen Mitteln können wir uns die Multiplikation selbst bauen:"
   ]
  },
  {
   "cell_type": "code",
   "execution_count": 1,
   "id": "light-dictionary",
   "metadata": {},
   "outputs": [],
   "source": [
    "def mul(a, b):\n",
    "    result = 0\n",
    "    for _ in range(a):\n",
    "        result = result + b\n",
    "    return result"
   ]
  },
  {
   "cell_type": "markdown",
   "id": "french-possibility",
   "metadata": {},
   "source": [
    "Wenn wir dann in unserem Code die Multiplikation ausführen wollen z.B."
   ]
  },
  {
   "cell_type": "code",
   "execution_count": 2,
   "id": "institutional-conclusion",
   "metadata": {},
   "outputs": [
    {
     "data": {
      "text/plain": [
       "20"
      ]
     },
     "execution_count": 2,
     "metadata": {},
     "output_type": "execute_result"
    }
   ],
   "source": [
    "mul(4,5)"
   ]
  },
  {
   "cell_type": "markdown",
   "id": "loved-geneva",
   "metadata": {},
   "source": [
    "Wird stattdessen unsere Funktion ``mul`` mit den Argumenten ``a = 4, b = 5`` *aufgerufen*.\n",
    "Anders ausgedrückt der Code ``mul(a, b)`` wird ersetzt durch"
   ]
  },
  {
   "cell_type": "code",
   "execution_count": 3,
   "id": "flexible-butter",
   "metadata": {},
   "outputs": [
    {
     "data": {
      "text/plain": [
       "20"
      ]
     },
     "execution_count": 3,
     "metadata": {},
     "output_type": "execute_result"
    }
   ],
   "source": [
    "result = 0\n",
    "for _ in range(4):\n",
    "    result = result + 5\n",
    "result"
   ]
  },
  {
   "cell_type": "markdown",
   "id": "classified-museum",
   "metadata": {},
   "source": [
    "und zusätzlich wird aus ``mul(4, 5)`` der Wert den die Funktion zurückgibt ``return result``.\n",
    "Wir sagen auch ``mul(4, 5)`` wird zum Wert ``20`` evaluiert/ausgewertet.\n",
    "Wir **abstrahieren** die Berechnung und gleichzeitig wird das **Muster** ``mul(a, b)`` durch den Code der Funktion ersetzt.\n",
    "\n",
    "Das gleiche passiert bei der (maschinennahen) Addition zweier Zahlen.\n",
    "Wann welcher Wert in welches Register geschrieben wird, ist durch eine Funktion bereits festgelegt.\n",
    "Diese wird aufgerufen wenn wir"
   ]
  },
  {
   "cell_type": "code",
   "execution_count": 4,
   "id": "received-tobacco",
   "metadata": {},
   "outputs": [
    {
     "data": {
      "text/plain": [
       "13"
      ]
     },
     "execution_count": 4,
     "metadata": {},
     "output_type": "execute_result"
    }
   ],
   "source": [
    "x = 4 + 9\n",
    "x"
   ]
  },
  {
   "cell_type": "markdown",
   "id": "aggressive-static",
   "metadata": {},
   "source": [
    "berechnen.\n",
    "Der ``Python``-Code wird in immer maschinennäheren Code umgewandelt bis wir am Ende wieder beim Addieren von Werten in Registern herauskommen.\n",
    "Somit kontrollieren wir den Computer nicht direkt, sondern befehligen ein Program welches unsere Anweisungen in maschinennahe Anweisungen umwandelt!\n",
    "Erstellen wir zum Beispiel eine Liste"
   ]
  },
  {
   "cell_type": "code",
   "execution_count": 5,
   "id": "polished-disabled",
   "metadata": {},
   "outputs": [
    {
     "data": {
      "text/plain": [
       "[1, 2, 3, 4, 5]"
      ]
     },
     "execution_count": 5,
     "metadata": {},
     "output_type": "execute_result"
    }
   ],
   "source": [
    "numbers = [1, 2, 3, 4, 5]\n",
    "numbers"
   ]
  },
  {
   "cell_type": "markdown",
   "id": "assigned-fishing",
   "metadata": {},
   "source": [
    "werden auf maschinennaher Ebene die Zahlen nebeneinander in den Hauptspeicher geschrieben.\n",
    "\n",
    "Programme geschrieben in verschiedenen Programmiersprachen steuern den Computer und abstrahieren damit die reale physikalische Welt der elektrischen Schaltungen und Transistoren.\n",
    "Sie hieven uns in eine abstrakte Welt der Algorithmen und Datenstrukturen.\n",
    "Wir treten aus der Welt der Register und Speicheradressen hinaus in eine Welt der Variablen, Listen, Tupel, Schleifen, Bedingungen, Objekte und alles was wiederum von diesen Konstrukten abstrahiert werden kann.\n",
    "Wir verlieren jedoch auch nichts [essenzielles](sec-essenz-of-computers-and-languages), da jede Hochsprache eben auch *Turing-vollständig* ist!\n",
    "\n",
    "Als *Computational Thinker\\*innen* konzipieren Sie Algorithmen durch Nachdenken, Skizzen und Mitschriften.\n",
    "Können Sie ihr Problem durch einen [Algorithmus](def-algorithm) lösen, so existiert eine *Turingmaschine* der ihr Problem löst.\n",
    "Da alle gängigen Programmiersprachen *Turing-vollständig* sind, können Sie jeden [Algorithmus](def-algorithm) in einer solchen Sprache formulieren!\n",
    "Diese Gewissheit befreit Sie von\n",
    "\n",
    "1. der physischen Welt der Computer aber auch\n",
    "2. von der konkreten Programmiersprache\n",
    "\n",
    "```{admonition} Nutzen der Programmiersprachen\n",
    ":name: languages-usfulness-complete\n",
    ":class: hint\n",
    "\n",
    "Da alle gängigen [Programmiersprachen](sec-programming-languages) *Turing-vollständig* sind, können Sie jeden [Algorithmus](def-algorithm) in einer solchen Sprache formulieren!\n",
    "[Programmiersprachen](sec-programming-languages) sind das Bindeglied zwischen Mensch und Maschine.\n",
    "\n",
    "```"
   ]
  }
 ],
 "metadata": {
  "jupytext": {
   "formats": "md:myst",
   "text_representation": {
    "extension": ".md",
    "format_name": "myst"
   }
  },
  "kernelspec": {
   "display_name": "Python 3",
   "language": "python",
   "name": "python3"
  },
  "language_info": {
   "codemirror_mode": {
    "name": "ipython",
    "version": 3
   },
   "file_extension": ".py",
   "mimetype": "text/x-python",
   "name": "python",
   "nbconvert_exporter": "python",
   "pygments_lexer": "ipython3",
   "version": "3.9.6"
  },
  "source_map": [
   11,
   86,
   92,
   96,
   98,
   103,
   108,
   118,
   121,
   128,
   131
  ]
 },
 "nbformat": 4,
 "nbformat_minor": 5
}