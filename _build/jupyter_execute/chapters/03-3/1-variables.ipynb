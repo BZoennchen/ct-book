{
 "cells": [
  {
   "cell_type": "markdown",
   "id": "subsequent-vulnerability",
   "metadata": {},
   "source": [
    "(sec-variables)=\n",
    "# Variablen\n",
    "\n",
    "*Variablen* können wir uns intuitiv zunächst als Namen oder Bezeichnung eines Wertes vorstellen.\n",
    "Mit diesem Namen können wir einen Wert im [Arbeitsspeicherspeicher](def-main-memory) des Computers identifizieren.\n",
    "So können wir uns Zwischenergebnisse merken und damit weiter rechnen.\n",
    "\n",
    "## Initialisierung und Zuweisung\n",
    "\n",
    "Durch das ``=`` Zeichen weisen wir einer *Variablen* auf der linken Seite den Wert des *Ausdrucks* auf der rechten Seite zu.\n",
    "Zum Beispiel, weist"
   ]
  },
  {
   "cell_type": "code",
   "execution_count": 1,
   "id": "elementary-filter",
   "metadata": {},
   "outputs": [],
   "source": [
    "x = 3 + 10"
   ]
  },
  {
   "cell_type": "markdown",
   "id": "organized-sense",
   "metadata": {},
   "source": [
    "den ausgewerteten Wert ``3 + 10`` also ``13`` der Variablen ``x`` zu.\n",
    "Es ist äußerst wichtig, dass die den zwischen dem ``=`` und dem mathematischen $=$ unterscheiden.\n",
    "\n",
    "$$x = 13$$\n",
    "\n",
    "bedeutet, dass $x$ gleich $13$ ist, wohingegen"
   ]
  },
  {
   "cell_type": "code",
   "execution_count": 2,
   "id": "unique-surface",
   "metadata": {},
   "outputs": [],
   "source": [
    "x = 13"
   ]
  },
  {
   "cell_type": "markdown",
   "id": "filled-patio",
   "metadata": {},
   "source": [
    "den Wert der Variablen ``x`` auf ``13`` setzt oder genaue die Variable auf einen Speicherbereich verweisen lässt, welcher den Wert ``13`` enthält.\n",
    "Um das mathematisch auszurücken verwendet man oft $\\leftarrow$, also \n",
    "\n",
    "$$x \\leftarrow 13.$$\n",
    "\n",
    "Dies verdeutlicht, dass es sich um eine *Zuweisung* handelt.\n",
    "Mit"
   ]
  },
  {
   "cell_type": "code",
   "execution_count": 3,
   "id": "adjustable-monte",
   "metadata": {},
   "outputs": [],
   "source": [
    "x = None"
   ]
  },
  {
   "cell_type": "markdown",
   "id": "eleven-kelly",
   "metadata": {},
   "source": [
    "weisen wir ``x`` den Wert ``None`` d.h. 'Nichts' zu. Doch ist dieses 'Nichts' nicht nichts ;). Versuchen wir eine *Variable* zu verarbeiten, die noch nicht initialisiert wurde, so erhalten wir einen Fehler:"
   ]
  },
  {
   "cell_type": "code",
   "execution_count": 4,
   "id": "swedish-sunset",
   "metadata": {
    "tags": [
     "raises-exception"
    ]
   },
   "outputs": [
    {
     "ename": "NameError",
     "evalue": "name 'v' is not defined",
     "output_type": "error",
     "traceback": [
      "\u001b[0;31m---------------------------------------------------------------------------\u001b[0m",
      "\u001b[0;31mNameError\u001b[0m                                 Traceback (most recent call last)",
      "\u001b[0;32m<ipython-input-4-4f5acf813e7b>\u001b[0m in \u001b[0;36m<module>\u001b[0;34m\u001b[0m\n\u001b[0;32m----> 1\u001b[0;31m \u001b[0mv\u001b[0m \u001b[0;34m+\u001b[0m \u001b[0;36m20\u001b[0m\u001b[0;34m\u001b[0m\u001b[0;34m\u001b[0m\u001b[0m\n\u001b[0m",
      "\u001b[0;31mNameError\u001b[0m: name 'v' is not defined"
     ]
    }
   ],
   "source": [
    "v + 20"
   ]
  },
  {
   "cell_type": "markdown",
   "id": "elementary-event",
   "metadata": {},
   "source": [
    "Hierbei würde es zu einem Fehler ``name 'v' is not defined`` kommen, da die *Variable* ``v`` noch nicht *initialisiert* wurde.\n",
    "\n",
    "\n",
    "In ``Python`` reicht es wenn Sie der *Variablen* einen Wert zuweisen.\n",
    "Sie wird automatisch erzeugt, d.h., *initialisiert*.\n",
    "Besitzt Sie noch keinen Wert so existiert sie auch nicht bzw. ist noch nicht *initialisiert*.\n",
    "\n",
    "```{admonition} Initialisierung mit Notebooks\n",
    ":name: warning-evaluation-ordering\n",
    ":class: warning\n",
    "Nach Ausführung dieser Codezeilen funktioniert auch der obige Code.\n",
    "Dies hängt an der funktionsweise der Notebooks zusammen.\n",
    "Sobald ``z`` *initialisiert* wurde, existiert ``z`` für alle Zellen des Notebooks.\n",
    "```\n",
    "\n",
    "## Variablen und der Arbeitsspeicher\n",
    "\n",
    "Eine Variable können wir als Paar von **Wert** und **Arbeitsspeicheradresse** verstehen.\n",
    "Der **Wert** der Variablen steht im [Arbeitspeicher](def-main-memory)) an einer bestimmten **Arbeitsspeicheradresse**.\n",
    "Variablen abstrahieren diesen Zusammenhang, sodass Sie uns die Arbeit mit dem Arbeitsspeicher erleichtern.\n",
    "\n",
    "Mit"
   ]
  },
  {
   "cell_type": "code",
   "execution_count": 5,
   "id": "civic-briefs",
   "metadata": {},
   "outputs": [],
   "source": [
    "x = 25"
   ]
  },
  {
   "cell_type": "markdown",
   "id": "approved-lesbian",
   "metadata": {},
   "source": [
    "Wird der **Wert** ``25`` in den Arbeitsspeicher an eine freie **Speicheradresse** geschrieben. Diese **Adresse** erhält die *Variable* ``x``. ``x`` *zeigt* auf den Speicherbereich in dem der **Wert** ``25`` steht!\n",
    "\n",
    "Folgende Abbildung verdeutlicht die Situation:\n",
    "\n",
    "```{figure} ../../figs/python-tutorial/variables/variable.png\n",
    "---\n",
    "width: 800px\n",
    "name: fig-variable\n",
    "---\n",
    "Initialisierung und Zuweisung einer Variable ``x``  mit dem Wert ``25``. Der Wert steht im Arbeitspeicher an der Speicheradresse 6. Die Variable zeigt auf diese Adresse im Speicher.\n",
    "```\n",
    "\n",
    "``id``: Mit der *built-in*-Funktion ``id`` können Sie sich eine Identifikationsnummer einer Variablen ausgeben lassen. Für zwei *Variablen* ist diese genau dann gleich, wenn deren **Arbeitsspeicheradressen** gleich sind."
   ]
  },
  {
   "cell_type": "code",
   "execution_count": 6,
   "id": "elect-exhaust",
   "metadata": {},
   "outputs": [
    {
     "name": "stdout",
     "output_type": "stream",
     "text": [
      "4561550384\n",
      "4561550384\n"
     ]
    }
   ],
   "source": [
    "x = 25\n",
    "z = 25\n",
    "print(id(x))\n",
    "print(id(z))"
   ]
  },
  {
   "cell_type": "markdown",
   "id": "increasing-muslim",
   "metadata": {},
   "source": [
    "Sie sehen dass die ``id`` der Variablen ``x`` und ``z`` identisch sind. Ebenso ist ihr Wert identisch.\n",
    "Diese Situation sieht demnach wie folgt aus:\n",
    "\n",
    "```{figure} ../../figs/python-tutorial/variables/variable-equal-id.png\n",
    "---\n",
    "width: 800px\n",
    "name: fig-variable-equal-id\n",
    "---\n",
    "Initialisierung und Zuweisung einer Variablen ``x`` und ``z``  mit dem Wert ``25``. Die Adresse beider Variablen ist identisch.\n",
    "```\n",
    "\n",
    "``Python``-erkennt, dass es ausreicht, wenn beide *Variablen* auf den gleichen Speicherbereich zeigen. Wir als Programmierer\\*innen bekommen davon gar nichts mit. Verändern wir den Wert von ``z`` dann verändert sich auch deren ``id``:"
   ]
  },
  {
   "cell_type": "code",
   "execution_count": 7,
   "id": "interstate-scheme",
   "metadata": {},
   "outputs": [
    {
     "name": "stdout",
     "output_type": "stream",
     "text": [
      "4561550384\n",
      "4561550352\n"
     ]
    }
   ],
   "source": [
    "x = 25\n",
    "z = 24\n",
    "print(id(x))\n",
    "print(id(z))"
   ]
  },
  {
   "cell_type": "markdown",
   "id": "hired-brighton",
   "metadata": {},
   "source": [
    "Die Situation könnte in etwa wie folgt aussehen:\n",
    "\n",
    "```{figure} ../../figs/python-tutorial/variables/variable-unequal-id.png\n",
    "---\n",
    "width: 800px\n",
    "name: fig-variable-unequal-id\n",
    "---\n",
    "Initialisierung und Zuweisung einer Variablen ``x`` und ``z``  mit dem Wert ``25`` und ``24``. Die Adresse beider Variablen ist nicht identisch.\n",
    "```\n",
    "\n",
    "```{admonition} Gleichheit und Identität\n",
    ":name: warning-equality-and-identity\n",
    ":class: warning\n",
    "Ist die ``id`` (*Identität*) bzw. die **Adresse** zweier Variablen gleich, so ist auch deren Wert identisch.\n",
    "Jedoch kann der Wert der Variablen identisch sein und deren ``id`` (*Identität*) nicht.\n",
    "```\n",
    "\n",
    "Ein Beispiel für zwei Variablen mit gleichem **Wert** und unterschiedlicher **Identität** ist leicht konstruiert:"
   ]
  },
  {
   "cell_type": "code",
   "execution_count": 8,
   "id": "quick-fountain",
   "metadata": {},
   "outputs": [
    {
     "name": "stdout",
     "output_type": "stream",
     "text": [
      "4602661072\n",
      "4602662736\n"
     ]
    }
   ],
   "source": [
    "x = 2131313\n",
    "z = 2131313\n",
    "print(id(x))\n",
    "print(id(z))"
   ]
  },
  {
   "cell_type": "markdown",
   "id": "proud-floor",
   "metadata": {},
   "source": [
    "Hmm?? \n",
    "Warum war die ``id`` beim Wert ``25`` identisch aber beim Wert ``2131313`` nicht?\n",
    "Hier kommen wir in tiefen Details von ``Python``, welche fürs erste nicht so wichtig sind.\n",
    "Zur Optimierung der Laufzeit legt ``Python`` alle kleinen ganze Zahlen bei Start der Ausführung in den Speicher, sodass Speicherplatz gespart wird.\n",
    "Das geht jedoch nur für eine endliche Anzahl an Zahlen (deshalb für die ersten $k$ kleinen Zahlen). \n",
    "``2131313`` zählt nicht dazu und somit wird der Wert jedesmal neu in den Speicher geschrieben.\n",
    "\n",
    "Folgender Code berechnet die erste Zahl die nicht bereits bei der Ausführung im Speicher liegt:"
   ]
  },
  {
   "cell_type": "code",
   "execution_count": 9,
   "id": "official-september",
   "metadata": {},
   "outputs": [
    {
     "data": {
      "text/plain": [
       "257"
      ]
     },
     "execution_count": 9,
     "metadata": {},
     "output_type": "execute_result"
    }
   ],
   "source": [
    "x = 0\n",
    "z = 0\n",
    "while(id(x) == id(z)):\n",
    "    x = x + 1\n",
    "    z = z + 1\n",
    "x"
   ]
  },
  {
   "cell_type": "markdown",
   "id": "interior-shopper",
   "metadata": {},
   "source": [
    "Wie sieht es mit negativen Zahlen aus?:"
   ]
  },
  {
   "cell_type": "code",
   "execution_count": 10,
   "id": "diagnostic-luther",
   "metadata": {},
   "outputs": [
    {
     "data": {
      "text/plain": [
       "-6"
      ]
     },
     "execution_count": 10,
     "metadata": {},
     "output_type": "execute_result"
    }
   ],
   "source": [
    "x = 0\n",
    "z = 0\n",
    "while(id(x) == id(z)):\n",
    "    x = x - 1\n",
    "    z = z - 1\n",
    "x"
   ]
  },
  {
   "cell_type": "markdown",
   "id": "affiliated-scratch",
   "metadata": {},
   "source": [
    "## Veränderung\n",
    "\n",
    "Wie der Name bereits betont, sind *Variablen* **variabel** und können somit verändert werden.\n",
    "Wir müssen jedoch zwischen zwei Veränderungen einer Variablen ``x`` unterscheiden:\n",
    "\n",
    "1. der Veränderung ihrer Wertes ``x``\n",
    "2. der Veränderung ihrer Speicheradresse ``id(x)`` (die auf den Wert zeigt)\n",
    "\n",
    "### Zuweisung eines neuen Werts\n",
    "\n",
    "Eine *Variable* kann immer nur einen **Wert** bzw. auf einen bestimmten Speicherbereich *zeigen*.\n",
    "Weisen wir einer *Variablen* erneut einen **Wert** zu, wird dieser **Wert** in den Speicher an eine freie **Adresse** geschrieben und die **Adresse** der Variablen auf jene neue **Adresse** gesetzt."
   ]
  },
  {
   "cell_type": "code",
   "execution_count": 11,
   "id": "judicial-merchant",
   "metadata": {},
   "outputs": [
    {
     "name": "stdout",
     "output_type": "stream",
     "text": [
      "value of half = 0.5\n",
      "id of half = 4602662224\n",
      "value of x = 25\n",
      "id of x = 4561550384\n",
      "value of x = 24\n",
      "id of x = 4561550352\n"
     ]
    }
   ],
   "source": [
    "half = 1/2\n",
    "print(f'value of half = {half}')\n",
    "print(f'id of half = {id(half)}')\n",
    "\n",
    "x = 25\n",
    "print(f'value of x = {x}')\n",
    "print(f'id of x = {id(x)}')\n",
    "\n",
    "x = 24\n",
    "print(f'value of x = {x}')\n",
    "print(f'id of x = {id(x)}')"
   ]
  },
  {
   "cell_type": "markdown",
   "id": "numerical-princess",
   "metadata": {},
   "source": [
    "Veränderungen der einen *Variablen* haben keinen Effekt auf die **Adresse** bzw. *Identität ``id`` anderer *Variablen*."
   ]
  },
  {
   "cell_type": "code",
   "execution_count": 12,
   "id": "sunset-charity",
   "metadata": {},
   "outputs": [
    {
     "name": "stdout",
     "output_type": "stream",
     "text": [
      "value of half = 0.5\n",
      "id of half = 4602662224\n"
     ]
    }
   ],
   "source": [
    "print(f'value of half = {half}')\n",
    "print(f'id of half = {id(half)}')"
   ]
  },
  {
   "cell_type": "markdown",
   "id": "smart-gauge",
   "metadata": {},
   "source": [
    "Verändern wir *Variablen* nicht so behalten ihre **Adresse** über das gesamte Notebook hinweg.\n",
    "\n",
    "### Zuweisung einer neuen Adresse\n",
    "\n",
    "Weisen wir einer Variblen ``x`` eine andere Variable ``y`` zu, so ändern wir die **Adresse** von ``x`` auf jene von ``y``. Das heißt, nach der *Zuweisung* zeigen beide Variablen auf den gleichen Speicherbereich und damit auf den gleichen **Wert**."
   ]
  },
  {
   "cell_type": "code",
   "execution_count": 13,
   "id": "applied-springfield",
   "metadata": {},
   "outputs": [
    {
     "name": "stdout",
     "output_type": "stream",
     "text": [
      "value of x = 2131313\n",
      "id of x = 4603957872\n",
      "value of y = 10\n",
      "id of y = 4561549904\n",
      "value of z = 2131313\n",
      "id of z = 4603958096\n"
     ]
    }
   ],
   "source": [
    "x = 2131313\n",
    "y = 10\n",
    "z = 2131313\n",
    "\n",
    "print(f'value of x = {x}')\n",
    "print(f'id of x = {id(x)}')\n",
    "\n",
    "print(f'value of y = {y}')\n",
    "print(f'id of y = {id(y)}')\n",
    "\n",
    "print(f'value of z = {z}')\n",
    "print(f'id of z = {id(z)}')"
   ]
  },
  {
   "cell_type": "code",
   "execution_count": 14,
   "id": "foster-trunk",
   "metadata": {},
   "outputs": [
    {
     "name": "stdout",
     "output_type": "stream",
     "text": [
      "value of x = 2131313\n",
      "id of x = 4603957872\n",
      "value of y = 2131313\n",
      "id of y = 4603957872\n",
      "value of z = 2131313\n",
      "id of z = 4603958096\n"
     ]
    }
   ],
   "source": [
    "y = x\n",
    "\n",
    "print(f'value of x = {x}')\n",
    "print(f'id of x = {id(x)}')\n",
    "\n",
    "print(f'value of y = {y}')\n",
    "print(f'id of y = {id(y)}')\n",
    "\n",
    "print(f'value of z = {z}')\n",
    "print(f'id of z = {id(z)}')"
   ]
  },
  {
   "cell_type": "markdown",
   "id": "preceding-virginia",
   "metadata": {},
   "source": [
    "### Seiteneffekte\n",
    "\n",
    "Wie bereits erwähnt: Verändern wir eine *Variable* so können wir dadurch nicht die **Adresse** / *Identität* ``id`` einer anderen Variablen ändern! Wie verhält es sich jedoch mit dem **Wert** einer *Variablen*?\n",
    "\n",
    "Die Antwort ist etwas komplizierter und ist erst dann begreiflich wenn wir das Thema Datentypen besprechen. Dennoch versuchen wir unser Glück:\n",
    "\n",
    "Eine Variable kann nicht nur einen einzelnen atomaren **Wert** wie eine Zahl enthalten, sondern auch einen **Wert** der sich aus anderen **Werten** zusammensetzt. Zum Beispiel:"
   ]
  },
  {
   "cell_type": "code",
   "execution_count": 15,
   "id": "occupational-fiction",
   "metadata": {},
   "outputs": [
    {
     "data": {
      "text/plain": [
       "[1, 2, 3, 4, 5]"
      ]
     },
     "execution_count": 15,
     "metadata": {},
     "output_type": "execute_result"
    }
   ],
   "source": [
    "x = [1,2,3,4,5]\n",
    "x"
   ]
  },
  {
   "cell_type": "markdown",
   "id": "accepted-hello",
   "metadata": {},
   "source": [
    "Der Variablen ``x`` weisen wir hierbei eine sog. *Liste* ``list`` zu, also eine geordnete Menge an Zahlen. In unserem Fall besteht die Liste und somit ``x`` aus den Werten ``1, 2, 3, 4`` und ``5``.\n",
    "\n",
    "Um auf einen bestimmten **Wert** der Liste zuzugreifen brauchen wir seinen Index. Zum Beispiel liefert uns der Index ``1`` den Wert ``2``:"
   ]
  },
  {
   "cell_type": "code",
   "execution_count": 16,
   "id": "seeing-sydney",
   "metadata": {},
   "outputs": [
    {
     "data": {
      "text/plain": [
       "2"
      ]
     },
     "execution_count": 16,
     "metadata": {},
     "output_type": "execute_result"
    }
   ],
   "source": [
    "x[1]"
   ]
  },
  {
   "cell_type": "markdown",
   "id": "laden-tract",
   "metadata": {},
   "source": [
    "Wie sieht das nun im Speicher aus??? Welche Adresse hat ``x`` und wie sieht der Speicher an der Adresse von ``x`` aus? Der Aufruf"
   ]
  },
  {
   "cell_type": "code",
   "execution_count": 17,
   "id": "bacterial-trademark",
   "metadata": {},
   "outputs": [
    {
     "data": {
      "text/plain": [
       "4602689600"
      ]
     },
     "execution_count": 17,
     "metadata": {},
     "output_type": "execute_result"
    }
   ],
   "source": [
    "id(x)"
   ]
  },
  {
   "cell_type": "markdown",
   "id": "needed-premium",
   "metadata": {},
   "source": [
    "Liefert uns eine ``id``, allerdings lieft uns der Aufruf"
   ]
  },
  {
   "cell_type": "code",
   "execution_count": 18,
   "id": "military-dispute",
   "metadata": {},
   "outputs": [
    {
     "data": {
      "text/plain": [
       "4561549648"
      ]
     },
     "execution_count": 18,
     "metadata": {},
     "output_type": "execute_result"
    }
   ],
   "source": [
    "id(x[1])"
   ]
  },
  {
   "cell_type": "markdown",
   "id": "federal-stone",
   "metadata": {},
   "source": [
    "ebenfalls eine (andere) ``id``."
   ]
  },
  {
   "cell_type": "code",
   "execution_count": 19,
   "id": "signal-vienna",
   "metadata": {},
   "outputs": [
    {
     "data": {
      "text/plain": [
       "4561549680"
      ]
     },
     "execution_count": 19,
     "metadata": {},
     "output_type": "execute_result"
    }
   ],
   "source": [
    "id(x[2])"
   ]
  },
  {
   "cell_type": "markdown",
   "id": "configured-correction",
   "metadata": {},
   "source": [
    "Eine Liste ``list`` mit $n$ Elementen besteht in ``Python`` aus $n$ Adressen. Jede dieser Adressen zeigt auf den Wert des Listenelements. Das heißt, eigentlich sieht unsere Liste ``x`` wie folgt aus:\n",
    "\n",
    "```python\n",
    "[id(x[0]), id(x[1]), id(x[2]), id(x[3]), id(x[4])]\n",
    "```\n",
    "\n",
    "Doch ``Python`` vereinfacht uns den Umgang mit Listen und verbirgt diese Tatsache geschickt.\n",
    "\n",
    "Was aber passiert mit ``x`` wenn wir eines seiner Listenelemente verändern? Hier wird es spannend:"
   ]
  },
  {
   "cell_type": "code",
   "execution_count": 20,
   "id": "generous-savage",
   "metadata": {},
   "outputs": [
    {
     "name": "stdout",
     "output_type": "stream",
     "text": [
      "value of x = [1, 2, 3, 4, 5]\n",
      "id of x = 4602689600\n",
      "value of x[1] = 2\n",
      "id of x[1] = 4561549648\n",
      "\n",
      "value of x = [1, -10, 3, 4, 5]\n",
      "id of x = 4602689600\n",
      "value of x[1] = -10\n",
      "id of x[1] = 4603958224\n"
     ]
    }
   ],
   "source": [
    "print(f'value of x = {x}')\n",
    "print(f'id of x = {id(x)}')\n",
    "\n",
    "print(f'value of x[1] = {x[1]}')\n",
    "print(f'id of x[1] = {id(x[1])}')\n",
    "\n",
    "print()\n",
    "\n",
    "x[1] = -10\n",
    "print(f'value of x = {x}')\n",
    "print(f'id of x = {id(x)}')\n",
    "\n",
    "print(f'value of x[1] = {x[1]}')\n",
    "print(f'id of x[1] = {id(x[1])}')"
   ]
  },
  {
   "cell_type": "markdown",
   "id": "headed-wayne",
   "metadata": {},
   "source": [
    "Die Adresse von ``x`` ändert sich nicht!!! Es ändert sich nur die Adresse von ``x[1]``!!! Mit anderen Worten durch die *Zuweisung* von ``x[1] = -10`` wird keine neue Liste im Speicher angelegt sondern nur ein neues Element!\n",
    "\n",
    "Warum? Listen können groß werden und würden wir bei jeder Änderung eines Listenelements die gesamte Liste im Speicher kopieren, wäre das zu teuer was die Laufzeit angeht.\n",
    "\n",
    "Dieses Verhalten hat jedoch Konsequenzen! Folgender Code führt zur Veränderung des Wertes der Variablen ``y`` von ``y = [[1, 2, 3], [1, 2, 3], [1,2,3]]`` nach ``y` = [[-10, 2, 3], [-10, 2, 3], [1,2,3]]`` obwohl wir nicht direkt mit ``y`` interagieren."
   ]
  },
  {
   "cell_type": "code",
   "execution_count": 21,
   "id": "serial-whole",
   "metadata": {},
   "outputs": [
    {
     "name": "stdout",
     "output_type": "stream",
     "text": [
      "[[1, 2, 3], [1, 2, 3], [1, 2, 3]]\n",
      "[[-10, 2, 3], [-10, 2, 3], [1, 2, 3]]\n"
     ]
    }
   ],
   "source": [
    "x = [1, 2, 3]\n",
    "y = [x, x, [1,2,3]]\n",
    "print(y)\n",
    "\n",
    "x[0] = -10\n",
    "print(y)"
   ]
  },
  {
   "cell_type": "markdown",
   "id": "sharing-macedonia",
   "metadata": {},
   "source": [
    "Solche Veränderungen eines Wertes einer Variablen durch die Veränderung eines Werts einer anderen Variablen, nennen wir *Seiteneffekt*.\n",
    "\n",
    "## Das Nichts\n",
    "\n",
    "Um einer *Variable* 'keinen' Wert zuzuweisen gibt es das Signalwort ``None``.\n",
    "Dies steht für 'kein' Wert bzw. das Nichts.\n",
    "Dennoch besitzt die *Variable* einen Wert, eben den Wert ``None`` 'kein' Wert.\n",
    "``None`` repräsentiert somit das Nichts."
   ]
  },
  {
   "cell_type": "code",
   "execution_count": 22,
   "id": "velvet-breathing",
   "metadata": {},
   "outputs": [],
   "source": [
    "z = 0\n",
    "z + 20\n",
    "z = None\n",
    "z"
   ]
  },
  {
   "cell_type": "markdown",
   "id": "offensive-wallpaper",
   "metadata": {},
   "source": [
    "Die Ausgabemechanik des Notebooks ignoriert ``None``, jedoch können wir die *Variable* in eine Zeichenkette umwandeln und dann ausgeben:"
   ]
  },
  {
   "cell_type": "code",
   "execution_count": 23,
   "id": "corresponding-standard",
   "metadata": {},
   "outputs": [
    {
     "name": "stdout",
     "output_type": "stream",
     "text": [
      "None\n"
     ]
    }
   ],
   "source": [
    "z = None\n",
    "print(z)"
   ]
  },
  {
   "cell_type": "markdown",
   "id": "absent-cream",
   "metadata": {},
   "source": [
    "``None`` wird uns wieder begegnen wenn wir uns ``Python``-Funktionen ansehen.\n",
    "Vorab sei gesagt, dass falls eine Funktionen keinen Rückgabewert besitzt sie dann ``None`` zurückliefert.\n",
    "\n",
    "## Namenskonvention\n",
    "\n",
    "Namen müssen mit einem Klein- oder Großbuchstaben beginnen und können aus Zahlen und Buchstaben bestehen.\n",
    "Aus Gründen der Lesbarkeit folgen wir der Konvention von ``Python`` und schreiben *Variablen* komplett in Kleinbuchstaben, Zahlen und dem ``_``.\n",
    "Außerdem verwenden wir die englische Sprache, alle Signalwörter von ``Python`` in englisch formuliert werden müssen.\n",
    "Mit dem ``_`` trennen wir zusammengesetzte Namen.\n",
    "Beispiele für *Variablen* wären: ``x``, ``x1``, ``x2``, ``number``, ``x_direction``, ``temperature``."
   ]
  }
 ],
 "metadata": {
  "jupytext": {
   "formats": "md:myst",
   "text_representation": {
    "extension": ".md",
    "format_name": "myst"
   }
  },
  "kernelspec": {
   "display_name": "Python 3",
   "language": "python",
   "name": "python3"
  },
  "language_info": {
   "codemirror_mode": {
    "name": "ipython",
    "version": 3
   },
   "file_extension": ".py",
   "mimetype": "text/x-python",
   "name": "python",
   "nbconvert_exporter": "python",
   "pygments_lexer": "ipython3",
   "version": "3.9.8"
  },
  "source_map": [
   11,
   25,
   27,
   36,
   38,
   48,
   50,
   54,
   59,
   84,
   86,
   102,
   107,
   122,
   127,
   148,
   153,
   164,
   171,
   175,
   182,
   197,
   209,
   213,
   216,
   224,
   240,
   251,
   261,
   264,
   270,
   272,
   276,
   278,
   282,
   284,
   288,
   290,
   302,
   317,
   325,
   332,
   343,
   348,
   352,
   355
  ]
 },
 "nbformat": 4,
 "nbformat_minor": 5
}