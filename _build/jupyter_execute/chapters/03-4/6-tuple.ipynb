{
 "cells": [
  {
   "cell_type": "markdown",
   "id": "statewide-budapest",
   "metadata": {},
   "source": [
    "(sec-tuple)=\n",
    "# Tupel - tuple\n",
    "\n",
    "[Listen](sec-list) und [Tupel](https://docs.python.org/3/library/stdtypes.html#tuple) ``tuple`` (wie auch [Zeichenketten](sec-string), und [Zahlenbereiche](sec-range)) sind allesamt [Sequenzen](https://docs.python.org/3/library/stdtypes.html#sequence-types-list-tuple-range) und haben dadurch sehr ähnliche Eigenschaften.\n",
    "Einzig bei der Erstellung verwenden wir statt der eckigen die runden Klammern:"
   ]
  },
  {
   "cell_type": "code",
   "execution_count": null,
   "id": "fancy-constitutional",
   "metadata": {},
   "outputs": [],
   "source": [
    "numbers = (1, 2, 3, 4, 5)\n",
    "numbers"
   ]
  },
  {
   "cell_type": "markdown",
   "id": "democratic-russell",
   "metadata": {},
   "source": [
    "Die Indexierung ist identisch zur [Indexierung von Listen](sec-list-index)."
   ]
  },
  {
   "cell_type": "code",
   "execution_count": null,
   "id": "structural-calibration",
   "metadata": {},
   "outputs": [],
   "source": [
    "numbers = (1, 2, 3, 4, 5)\n",
    "print(numbers[2:4])"
   ]
  },
  {
   "cell_type": "markdown",
   "id": "sitting-expansion",
   "metadata": {},
   "source": [
    "Der große Unterschied lieft in der Veränderbarkeit, denn Tupel ``tuple`` sind **unveränderlich** (engl. **immutable**)!\n",
    "\n",
    "```{admonition} Unveränderlichkeit\n",
    ":class: attention\n",
    ":name: attention-immutable-tuple\n",
    "Im Gegensatz zu Listen sind Tupel *unveränderliche* Datenstrukturen.\n",
    "```\n",
    "\n",
    "Aber Vorsicht ist geboten, denn das bedeutet nicht, dass wir ein Tupel überhaupt nicht verändern können.\n",
    "Was wir jedoch nicht verändern können sind die **Adressen** bzw. ``id``s seiner Elemente!\n",
    "\n",
    "Folgender Code führt zu einem Fehler:"
   ]
  },
  {
   "cell_type": "code",
   "execution_count": null,
   "id": "valued-national",
   "metadata": {
    "tags": [
     "raises-exception"
    ]
   },
   "outputs": [],
   "source": [
    "numbers = (1, 2, 3, 4, 5)\n",
    "numbers[2] = -10"
   ]
  },
  {
   "cell_type": "markdown",
   "id": "sophisticated-playlist",
   "metadata": {},
   "source": [
    "Doch können wir eine *Datenstruktur*, die Element eines Tupels ist, durchaus verändern:"
   ]
  },
  {
   "cell_type": "code",
   "execution_count": null,
   "id": "apart-johnson",
   "metadata": {},
   "outputs": [],
   "source": [
    "numbers = (1, 2, [3, 4, 5])\n",
    "numbers[2][0] = 'a'\n",
    "numbers"
   ]
  },
  {
   "cell_type": "markdown",
   "id": "joint-university",
   "metadata": {},
   "source": [
    "Tupel werden oft verwendet wenn wir eine Ansammlung von heterogenen Datentypen zusammenfassen wollen, und wir explizit ausdrücken bzw. sicher gehen wollen, dass dieses Tupel nicht verändert wird.\n",
    "\n",
    "Um beispielsweise das sich nicht ändernde Alphabet zu modellieren, eignet sich ein Tupel:"
   ]
  },
  {
   "cell_type": "code",
   "execution_count": null,
   "id": "permanent-tactics",
   "metadata": {
    "tags": [
     "output_scroll"
    ]
   },
   "outputs": [],
   "source": [
    "alphabet = ('A', 'B', 'C', 'D', 'E', 'F', 'G', 'H', 'I', 'J', 'K', 'L', 'M', 'N', 'O', 'P', 'Q', 'R', 'S', 'T', 'U', 'V', 'W', 'X', 'Y', 'Z')\n",
    "alphabet"
   ]
  },
  {
   "cell_type": "markdown",
   "id": "phantom-handling",
   "metadata": {},
   "source": [
    "``Python`` bietet eine etwas hässliche Abkürzung für die Erstellung eines Tupels mit nur einem Element:"
   ]
  },
  {
   "cell_type": "code",
   "execution_count": null,
   "id": "pharmaceutical-symbol",
   "metadata": {},
   "outputs": [],
   "source": [
    "singleton = 1,\n",
    "singleton"
   ]
  },
  {
   "cell_type": "markdown",
   "id": "secret-brunei",
   "metadata": {},
   "source": [
    "entspricht"
   ]
  },
  {
   "cell_type": "code",
   "execution_count": null,
   "id": "alternate-nursing",
   "metadata": {},
   "outputs": [],
   "source": [
    "singleton = (1,)\n",
    "singleton"
   ]
  },
  {
   "cell_type": "markdown",
   "id": "hourly-franchise",
   "metadata": {},
   "source": [
    "Achtung"
   ]
  },
  {
   "cell_type": "code",
   "execution_count": null,
   "id": "fleet-equity",
   "metadata": {},
   "outputs": [],
   "source": [
    "number = (1)\n",
    "number"
   ]
  },
  {
   "cell_type": "markdown",
   "id": "behind-requirement",
   "metadata": {},
   "source": [
    "funktioniert nicht!\n",
    "\n",
    "``Python`` bietet auch das Konzept des *tuple-packing* und *tuple-unpacking*, was enorm praktisch ist:"
   ]
  },
  {
   "cell_type": "code",
   "execution_count": null,
   "id": "japanese-lincoln",
   "metadata": {},
   "outputs": [],
   "source": [
    "triple = (1, 2, 3)\n",
    "x, y, z = triple  # unpacking\n",
    "print(f'x = {x}')\n",
    "print(f'y = {y}')\n",
    "print(f'z = {z}')\n",
    "packing = x, y, z # packing\n",
    "print(f'packing = {packing}')"
   ]
  },
  {
   "cell_type": "markdown",
   "id": "round-biography",
   "metadata": {},
   "source": [
    "Ziemlich cool, wie wir finden.\n",
    "Packing bzw. unpacking ist insbesondere praktisch, wenn Sie eine Funktion schreiben möchten, die mehr als ein Rückgabewert hat:"
   ]
  },
  {
   "cell_type": "code",
   "execution_count": null,
   "id": "basic-detector",
   "metadata": {},
   "outputs": [],
   "source": [
    "import random as rnd\n",
    "def random_rgb_color():\n",
    "    r = rnd.randint(0, 255)\n",
    "    g = rnd.randint(0, 255)\n",
    "    b = rnd.randint(0, 255)\n",
    "    return r, g, b\n",
    "\n",
    "r, g, b = random_rgb_color()\n",
    "print(f'red = {r}, green = {g}, blue = {b}')"
   ]
  },
  {
   "cell_type": "markdown",
   "id": "powerful-intensity",
   "metadata": {},
   "source": [
    "Im Falle der Listen hat der ``+=``-Operator die Liste verändert.\n",
    "Was glauben Sie macht der ``+=``-Operator für Tupel?\n",
    "Ist er definiert?\n",
    "Testen wir es aus:"
   ]
  },
  {
   "cell_type": "code",
   "execution_count": null,
   "id": "relevant-upper",
   "metadata": {
    "tags": [
     "raises-exception"
    ]
   },
   "outputs": [],
   "source": [
    "numbers = (1, 2, 3, 4, 5)\n",
    "numbers += (6,7,8)\n",
    "numbers"
   ]
  },
  {
   "cell_type": "markdown",
   "id": "enclosed-trade",
   "metadata": {},
   "source": [
    "Kein Fehler!\n",
    "Wird nun doch ``numbers`` verändert?\n",
    "Ja und nein.\n",
    "Der Speicherbereich des ursprünglichen Tupels bleibt unverändert, stattdessen wird eine Kopie angelegt."
   ]
  },
  {
   "cell_type": "code",
   "execution_count": null,
   "id": "nutritional-championship",
   "metadata": {
    "tags": [
     "raises-exception"
    ]
   },
   "outputs": [],
   "source": [
    "numbers = (1, 2, 3, 4, 5)\n",
    "numbers_copy = numbers\n",
    "print(f'id before += {id(numbers)}')\n",
    "numbers += (6,7,8)\n",
    "print(f'id after += {id(numbers)}')\n",
    "print(f'id after += of the original {id(numbers_copy)}')\n",
    "print(f'numbers: {numbers}')\n",
    "print(f'numbers_copy: {numbers_copy}')"
   ]
  },
  {
   "cell_type": "markdown",
   "id": "raising-closer",
   "metadata": {},
   "source": [
    "Diese Inkonsistenz kann gefährlich sein, denn obwohl die [Syntax](def-syntax) der Listenverkettung und Tupelverkettung sehr ähnlich sind, ist ihre [Semantik](def-semantik) sehr verschieden.\n",
    "\n",
    "````{exercise} Effizienzbetrachtung von Tupeln und Listen\n",
    ":label: tuple-vs-lists-appending-exercise\n",
    "Welche der folgenden Code-Teile benötigt nach Ihrer Meinung mehr Computerressourcen und warum?\n",
    "\n",
    "Listenerzeugung durch Anhängen:\n",
    "\n",
    "```python\n",
    "numbers = []\n",
    "i = 0\n",
    "while i < 100:\n",
    "    numbers += [i]\n",
    "    i += 1\n",
    "numbers\n",
    "```\n",
    "\n",
    "Tupelerzeugung durch Anhängen:\n",
    "\n",
    "```python\n",
    "numbers = tuple()\n",
    "i = 0\n",
    "while i < 100:\n",
    "    numbers += (i,)\n",
    "    i += 1\n",
    "numbers\n",
    "```\n",
    "````\n",
    "\n",
    "```{solution} tuple-vs-lists-appending-exercise\n",
    ":label: tuple-vs-lists-appending-solution\n",
    ":class: dropdown\n",
    "\n",
    "Die Tupelerzeugung durch Anhängen ist deutlich langsamer und speicherintensiver, denn bei jeder Konkatenation ``+=`` wird ``numbers`` im Speicher kopiert.\n",
    "Der Code erzeugt damit 100 unterschiedliche Tupel!\n",
    "Im Fall der Liste wird einfach nur ein Element hinten dran gehängt.\n",
    "\n",
    "```"
   ]
  }
 ],
 "metadata": {
  "jupytext": {
   "formats": "md:myst",
   "text_representation": {
    "extension": ".md",
    "format_name": "myst"
   }
  },
  "kernelspec": {
   "display_name": "Python 3",
   "language": "python",
   "name": "python3"
  },
  "source_map": [
   11,
   19,
   22,
   26,
   29,
   44,
   50,
   54,
   58,
   65,
   71,
   75,
   78,
   82,
   85,
   89,
   92,
   98,
   106,
   111,
   121,
   128,
   135,
   142,
   154
  ]
 },
 "nbformat": 4,
 "nbformat_minor": 5
}