{
 "cells": [
  {
   "cell_type": "markdown",
   "id": "966bac8d",
   "metadata": {},
   "source": [
    "(sec-python-data-types)=\n",
    "# Datentypen (Grundlagen)\n",
    "\n",
    "Wie in Abschnitt [Repräsentation](sec-representation) beschrieben, befinden sich im Speicher des (digitalen) Computers ausschließlich [Bits](def-bit).\n",
    "Sie können sich den Speicher als eine lange lange Liste von Bits vorstellen.\n",
    "Diese Bits können nur einen von zwei Zuständen (0 und 1) annehmen.\n",
    "Dennoch verarbeiten Computer Zahlen, Text, Bilder und mehr.\n",
    "\n",
    "Diese 'Magie' geschieht durch die Wahl und Implementierung einer [Interpretation](sec-interpretation).\n",
    "Unterschiedliche Interpretationen ermöglichen es, Bits und [Byte](def-byte) als Zahlen, Text, Bilder usw. zu verarbeiten.\n",
    "\n",
    "Im Abschnitt [Variablen](sec-variables) haben wir von einer *Variable* als Tupel von **Wert** und **Speicheradresse** gesprochen.\n",
    "Die *Variable* 'kennt' die Speicheradresse an der der Wert im Speicher steht.\n",
    "Soweit so gut, woher aber weiß der Interpreter ob es sich bei der Folge von Bits um eine Zahl oder um etwas anderes handelt?\n",
    "\n",
    "Weisen wir der Variablen ``char`` den Wert ``'a'`` zu"
   ]
  },
  {
   "cell_type": "code",
   "execution_count": 1,
   "id": "2a4ec916",
   "metadata": {},
   "outputs": [
    {
     "data": {
      "text/plain": [
       "'a'"
      ]
     },
     "execution_count": 1,
     "metadata": {},
     "output_type": "execute_result"
    }
   ],
   "source": [
    "char = 'a'\n",
    "char"
   ]
  },
  {
   "cell_type": "markdown",
   "id": "807206c6",
   "metadata": {},
   "source": [
    "so wird im Speicher irgendwo der **Wert** als binärer ASCII-Code stehen:\n",
    "\n",
    "$$01100001_2.$$\n",
    "\n",
    "Würde man diese Bitfolge als ganze Zahl interpretieren wäre dies gleich\n",
    "\n",
    "$$2^0 + 2^5 + 2^6 = 97_{10}.$$\n",
    "\n",
    "Warum gibt uns der Interpreter aber ``'a'`` und nicht ``97`` aus?\n",
    "Und weshalb kommt es bei folgender Addition"
   ]
  },
  {
   "cell_type": "code",
   "execution_count": 2,
   "id": "c5e15579",
   "metadata": {
    "tags": [
     "raises-exception"
    ]
   },
   "outputs": [
    {
     "ename": "TypeError",
     "evalue": "unsupported operand type(s) for +: 'int' and 'str'",
     "output_type": "error",
     "traceback": [
      "\u001b[0;31m---------------------------------------------------------------------------\u001b[0m",
      "\u001b[0;31mTypeError\u001b[0m                                 Traceback (most recent call last)",
      "\u001b[0;32m/var/folders/j4/6x0yfkp53d99gq8g0hxfl_tw0000gn/T/ipykernel_81664/1811043096.py\u001b[0m in \u001b[0;36m<module>\u001b[0;34m\u001b[0m\n\u001b[1;32m      1\u001b[0m \u001b[0mx\u001b[0m \u001b[0;34m=\u001b[0m \u001b[0;36m3\u001b[0m\u001b[0;34m\u001b[0m\u001b[0;34m\u001b[0m\u001b[0m\n\u001b[1;32m      2\u001b[0m \u001b[0mchar\u001b[0m \u001b[0;34m=\u001b[0m \u001b[0;34m'a'\u001b[0m\u001b[0;34m\u001b[0m\u001b[0;34m\u001b[0m\u001b[0m\n\u001b[0;32m----> 3\u001b[0;31m \u001b[0mx\u001b[0m \u001b[0;34m+\u001b[0m \u001b[0mchar\u001b[0m\u001b[0;34m\u001b[0m\u001b[0;34m\u001b[0m\u001b[0m\n\u001b[0m",
      "\u001b[0;31mTypeError\u001b[0m: unsupported operand type(s) for +: 'int' and 'str'"
     ]
    }
   ],
   "source": [
    "x = 3\n",
    "char = 'a'\n",
    "x + char"
   ]
  },
  {
   "cell_type": "markdown",
   "id": "f023aa4b",
   "metadata": {},
   "source": [
    "zu einem Fehler?\n",
    "Die kurze Antwort lautet: Wegen der Datentypen der Variablen ``x`` bzw. ``char``."
   ]
  },
  {
   "cell_type": "code",
   "execution_count": 3,
   "id": "79d20a20",
   "metadata": {},
   "outputs": [
    {
     "name": "stdout",
     "output_type": "stream",
     "text": [
      "type of x: <class 'int'>\n",
      "type of char: <class 'str'>\n"
     ]
    }
   ],
   "source": [
    "print(f'type of x: {type(x)}')\n",
    "print(f'type of char: {type(char)}')"
   ]
  },
  {
   "cell_type": "markdown",
   "id": "778c1d52",
   "metadata": {},
   "source": [
    "Der Datentyp der Variablen ``char`` ist ``str`` ([Zeichenkette](sec-string)).\n",
    "Diese Information erhält der [Interpreter](def-interpreter) und *interpretiert* deshalb die Bitfolge im Speicher als Zeichenkette.\n",
    "Die ``+``-Operation ist für die Kombination von Datentypen ``int`` und ``str`` nicht definiert.\n",
    "Deshalb kommt es zu einem Fehler.\n",
    "\n",
    "Das ist allerdings eine unbefriedigende Erklärung, denn wir wissen noch nicht wie Datentypen realisiert werden.\n",
    "Wie ist der Zusammenhang zwischen den Programmiersprachen, welche alle auf Datentypen basieren, und den [Übersetzern](def-compiler) oder [Interpretern](def-interpreter) und der Computerhardware?\n",
    "\n",
    "In diesem und nächstem Kapitel unternehmen wir den Versuch Ihnen das Konzept der Datentypen zu vermitteln.\n",
    "Dies beinhaltet Theorie und Praxis.\n",
    "Um in ``Python`` mit den Datentypen praktisch umgehen zu können reicht Ihnen dieses Kapitel.\n",
    "Im nächsten Kapitel [Datentypen (Fortsetzung)](sec-data-types-advanced) werden wir hingegen genauer untersuchen, weshalb es Datentypen gibt und welchen Einfluss diese im Detail haben.\n",
    "Möchten Sie also ein tieferes Verständnis davon bekommen wie Datentypen mit dem Ablauf eines Programms und der Computerhardware zusammenhängen, lohnt sich der Blick in das nächste Kapitel [Datentypen (Fortsetzung)](sec-data-types-advanced).\n",
    "\n",
    "Wir versuchen folgende Fragen zu beantworten:\n",
    "\n",
    "1. Grundlagen\n",
    "   1. Was kann ich in ``Python`` mit einer Variable eines bestimmten Typs anfangen? Abschnitt 4.1 bis 4.9.\n",
    "   2. Welche Typisierung verwendet ``Python``? Abschnitt [4.2 Pythons Typisierung](sec-typing-in-python).\n",
    "\n",
    "2. Fortsetzung\n",
    "   1. Was ist der Unterschied zwischen statischer und dynamischer Typisierung? Abschnitt [5.1 Dynamische und statische Typisierung](sec-type-systems).\n",
    "   2. Weshalb gibt es überhaupt Datentypen? Abschnitt [5.2 Existenzberechtigung](sec-why-data-types).\n",
    "   3. Was passiert bei einer Änderung des Datentyps einer Variablen? Abschnitt [5.3 Interpretationswechsel](sec-change-of-data-types).\n",
    "   4. Welche Datentypen gibt es? Abschnitt [5.4 Arten von Datentypen](sec-kind-of-data-types).\n",
    "   5. Warum gibt es in Python keine primitiven Datentypen? Abschnitt [5.5 Primitive Datentypen in Python?](sec-primitive-data-types-in-python))."
   ]
  }
 ],
 "metadata": {
  "jupytext": {
   "formats": "md:myst",
   "text_representation": {
    "extension": ".md",
    "format_name": "myst"
   }
  },
  "kernelspec": {
   "display_name": "Python 3",
   "language": "python",
   "name": "python3"
  },
  "language_info": {
   "codemirror_mode": {
    "name": "ipython",
    "version": 3
   },
   "file_extension": ".py",
   "mimetype": "text/x-python",
   "name": "python",
   "nbconvert_exporter": "python",
   "pygments_lexer": "ipython3",
   "version": "3.9.7"
  },
  "source_map": [
   11,
   30,
   33,
   46,
   53,
   58,
   61
  ]
 },
 "nbformat": 4,
 "nbformat_minor": 5
}