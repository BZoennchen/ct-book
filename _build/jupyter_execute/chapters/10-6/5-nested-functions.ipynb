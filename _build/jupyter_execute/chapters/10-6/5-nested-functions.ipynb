{
 "cells": [
  {
   "cell_type": "markdown",
   "id": "middle-hurricane",
   "metadata": {},
   "source": [
    "# Umschlossene Funktionen\n",
    "\n",
    "Eine *umschlossene Funktion* ist eine Funktion, welche innerhalb einer anderen Funktion definiert wurde."
   ]
  },
  {
   "cell_type": "code",
   "execution_count": 1,
   "id": "bridal-murray",
   "metadata": {},
   "outputs": [
    {
     "data": {
      "text/plain": [
       "62"
      ]
     },
     "execution_count": 1,
     "metadata": {},
     "output_type": "execute_result"
    }
   ],
   "source": [
    "def f(x, y):\n",
    "    z = 5\n",
    "    def square(x):\n",
    "        return x * x\n",
    "    return square(z) + square(x) + 2 * y\n",
    "\n",
    "f(5, 6)"
   ]
  },
  {
   "cell_type": "markdown",
   "id": "distributed-negotiation",
   "metadata": {},
   "source": [
    "Sie werden vermutlich nur selten in die Verlegenheit kommen eine *umschlossene Funktion* zu verwenden.\n",
    "Dennoch, in manchen Fällen kann dies sinnvoll sein um zum Beispiel doppelten Code zu reduzieren.\n",
    "\n",
    "Spezieller wird es, wenn wir diese *umschlossene Funktion* zurückgeben und nach der Abarbeitung der *umschließenden Funktion* weiter verwenden:"
   ]
  },
  {
   "cell_type": "code",
   "execution_count": 2,
   "id": "speaking-webcam",
   "metadata": {},
   "outputs": [
    {
     "data": {
      "text/plain": [
       "45"
      ]
     },
     "execution_count": 2,
     "metadata": {},
     "output_type": "execute_result"
    }
   ],
   "source": [
    "def f(x, y):\n",
    "    z = 5\n",
    "    def h(x):\n",
    "        return x * x * z\n",
    "    return h\n",
    "\n",
    "func = f(5, 6)\n",
    "func(3)"
   ]
  },
  {
   "cell_type": "markdown",
   "id": "brazilian-novel",
   "metadata": {},
   "source": [
    "Zu beachten ist, dass dabei der sog. [umschließende Namensraum](sec-local-namespace) ins Spiel kommt.\n",
    "Dieser bleibt auch dann am Leben, wenn die *umschließenden Funktion* abgearbeitet wurde.\n",
    "Im obigen Fall existiert das ``z`` aus der Funktion ``f()`` beim Aufruf ``func(3)`` noch und hat den Wert ``5``.\n",
    "Der Aufruf ``func(3)`` wird zu ``h(3)`` und dies wird zu ``3 * 3 * 5`` ausgewertet."
   ]
  }
 ],
 "metadata": {
  "jupytext": {
   "formats": "md:myst",
   "text_representation": {
    "extension": ".md",
    "format_name": "myst"
   }
  },
  "kernelspec": {
   "display_name": "Python 3",
   "language": "python",
   "name": "python3"
  },
  "language_info": {
   "codemirror_mode": {
    "name": "ipython",
    "version": 3
   },
   "file_extension": ".py",
   "mimetype": "text/x-python",
   "name": "python",
   "nbconvert_exporter": "python",
   "pygments_lexer": "ipython3",
   "version": "3.9.8"
  },
  "source_map": [
   11,
   17,
   25,
   32,
   41
  ]
 },
 "nbformat": 4,
 "nbformat_minor": 5
}