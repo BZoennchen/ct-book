{
 "cells": [
  {
   "cell_type": "markdown",
   "id": "romantic-eight",
   "metadata": {},
   "source": [
    "(sec-list)=\n",
    "# Listen - list\n",
    "\n",
    "Listen (engl. [List](https://docs.python.org/3/library/stdtypes.html#list)) ``list`` sind eine der wichtigsten *Datentypen* und zugleich einfachsten *Datenstrukturen* in ``Python``.\n",
    "Sobald Sie irgendetwas sinnvolles programmieren möchten, kommen Sie um die Liste kaum herum.\n",
    "Das Grundkonzept einer Liste ist einfach und doch so fundamental wichtig!\n",
    "\n",
    "## Motivation\n",
    "\n",
    "Nehmen wir einmal an wir bekämen den Auftrag ein Programm zu schreiben, welches ``n`` ganze Zahlen aufaddiert, wobei wir weder ``n`` noch die Zahlen kennen.\n",
    "Zugegeben, das Programm ist nicht gerade interessant aber aller Anfang ist klein.\n",
    "Eine variable Anzahl an unbekannten Zahlen lässt sich hervorragend durch eine *Liste* modellieren.\n",
    "Wir gehen also davon aus, dass wir eine Liste ``numbers`` bekommen und daraus die Summe berechnen müssen.\n",
    "Folgender Code löst die Aufgabe.\n",
    "``numbers`` ist eine Liste, welche zwei Zahlen (1 und 2) enthält."
   ]
  },
  {
   "cell_type": "code",
   "execution_count": 1,
   "id": "immune-traffic",
   "metadata": {},
   "outputs": [
    {
     "data": {
      "text/plain": [
       "3"
      ]
     },
     "execution_count": 1,
     "metadata": {},
     "output_type": "execute_result"
    }
   ],
   "source": [
    "numbers = [1, 2]\n",
    "\n",
    "result = 0\n",
    "for x in numbers:\n",
    "  result += x\n",
    "\n",
    "result"
   ]
  },
  {
   "cell_type": "markdown",
   "id": "related-tennessee",
   "metadata": {},
   "source": [
    "Der Code funktioniert auch noch wenn ``numbers`` mehr, weniger oder andere Zahlen enthält!\n",
    "Probieren Sie es aus.\n",
    "\n",
    "```{admonition} Python's Datenstrukturen\n",
    ":class: important\n",
    "In ``Python`` können Datenstrukturen Werte von unterschiedlichen Datentypen enthalten.\n",
    "```\n",
    "\n",
    "Wie alle Datenstrukturen in ``Python``, können Listen Werte mit unterschiedlichen Datentypen enthalten."
   ]
  },
  {
   "cell_type": "code",
   "execution_count": 2,
   "id": "primary-prague",
   "metadata": {},
   "outputs": [
    {
     "data": {
      "text/plain": [
       "[1, 2, 3, 'a', 'b', 'c', 1.0, 2.0, 3.0]"
      ]
     },
     "execution_count": 2,
     "metadata": {},
     "output_type": "execute_result"
    }
   ],
   "source": [
    "mylist = [1,2,3,'a','b','c',1.0,2.0,3.0]\n",
    "mylist"
   ]
  },
  {
   "cell_type": "markdown",
   "id": "biological-minimum",
   "metadata": {},
   "source": [
    "Listen können selbstverständlich andere Listen (bzw. Datenstrukturen) enthalten:"
   ]
  },
  {
   "cell_type": "code",
   "execution_count": 3,
   "id": "forward-begin",
   "metadata": {},
   "outputs": [
    {
     "data": {
      "text/plain": [
       "[['a', 'b', 'c'], 2, 3, [1, 2, 3]]"
      ]
     },
     "execution_count": 3,
     "metadata": {},
     "output_type": "execute_result"
    }
   ],
   "source": [
    "mylist = [['a','b','c'], 2, 3, [1, 2, 3]]\n",
    "mylist"
   ]
  },
  {
   "cell_type": "markdown",
   "id": "tender-respondent",
   "metadata": {},
   "source": [
    "## Erstellung\n",
    "\n",
    "Es gibt unterschiedliche Möglichkeiten eine Liste zu erzeugen.\n",
    "Wir können z.B. mit einer leeren Liste starten und diese füllen:"
   ]
  },
  {
   "cell_type": "code",
   "execution_count": 4,
   "id": "rubber-general",
   "metadata": {},
   "outputs": [
    {
     "data": {
      "text/plain": [
       "[0, 1, 2, 3, 4, 5]"
      ]
     },
     "execution_count": 4,
     "metadata": {},
     "output_type": "execute_result"
    }
   ],
   "source": [
    "numbers = []\n",
    "numbers.append(0)\n",
    "numbers.append(1)\n",
    "numbers.append(2)\n",
    "numbers.append(3)\n",
    "numbers.append(4)\n",
    "numbers.append(5)\n",
    "numbers"
   ]
  },
  {
   "cell_type": "markdown",
   "id": "familiar-mobile",
   "metadata": {},
   "source": [
    "oder kürzer"
   ]
  },
  {
   "cell_type": "code",
   "execution_count": 5,
   "id": "opening-plant",
   "metadata": {},
   "outputs": [
    {
     "data": {
      "text/plain": [
       "[0, 1, 2, 3, 4, 5]"
      ]
     },
     "execution_count": 5,
     "metadata": {},
     "output_type": "execute_result"
    }
   ],
   "source": [
    "numbers = []\n",
    "for i in range(6):\n",
    "  numbers.append(i)\n",
    "\n",
    "numbers"
   ]
  },
  {
   "cell_type": "markdown",
   "id": "thermal-shirt",
   "metadata": {},
   "source": [
    "Oder wir starten mit einer vollen Liste."
   ]
  },
  {
   "cell_type": "code",
   "execution_count": 6,
   "id": "alternate-camping",
   "metadata": {},
   "outputs": [
    {
     "data": {
      "text/plain": [
       "[0, 1, 2, 3, 4, 5]"
      ]
     },
     "execution_count": 6,
     "metadata": {},
     "output_type": "execute_result"
    }
   ],
   "source": [
    "numbers = [0, 1, 2, 3, 4, 5]\n",
    "numbers"
   ]
  },
  {
   "cell_type": "markdown",
   "id": "proper-morris",
   "metadata": {},
   "source": [
    "Die *built-in* Funktion ``range()`` erzeugt einen sog. Zahlenbereich (engl. [Range](https://docs.python.org/3/library/stdtypes.html#typesseq-range)), welchen wir im Abschnitt [Bereich - range](sec-range) erörtern.\n",
    "Wir können diesen Bereich, der auch eine Sequenz ist, in eine Liste packen bzw. in eine Liste umwandeln:"
   ]
  },
  {
   "cell_type": "code",
   "execution_count": 7,
   "id": "reverse-rough",
   "metadata": {},
   "outputs": [
    {
     "data": {
      "text/plain": [
       "[0, 1, 2, 3, 4, 5, 6, 7, 8, 9]"
      ]
     },
     "execution_count": 7,
     "metadata": {},
     "output_type": "execute_result"
    }
   ],
   "source": [
    "numbers = [i for i in range(10)]\n",
    "numbers"
   ]
  },
  {
   "cell_type": "markdown",
   "id": "reduced-warner",
   "metadata": {},
   "source": [
    "oder noch kürzer:"
   ]
  },
  {
   "cell_type": "code",
   "execution_count": 8,
   "id": "brown-stomach",
   "metadata": {},
   "outputs": [
    {
     "data": {
      "text/plain": [
       "[0, 1, 2, 3, 4, 5, 6, 7, 8, 9]"
      ]
     },
     "execution_count": 8,
     "metadata": {},
     "output_type": "execute_result"
    }
   ],
   "source": [
    "numbers = list(range(10))\n",
    "numbers"
   ]
  },
  {
   "cell_type": "markdown",
   "id": "rural-discount",
   "metadata": {},
   "source": [
    "(sec-list-index)=\n",
    "## Indexierung\n",
    "\n",
    "Wir können auf die Elemente einer Liste mit einem Index zugreifen.\n",
    "Dieser Index beginnt bei 0 und endet bei der Länge der Liste - 1, d.h. ``len(mylist) - 1``.\n",
    "``len(mylist)`` gibt eine natürliche Zahl (0 inklusive) zurück, welche die Länge der Liste ``mylist`` angibt."
   ]
  },
  {
   "cell_type": "code",
   "execution_count": 9,
   "id": "voluntary-doctrine",
   "metadata": {},
   "outputs": [
    {
     "data": {
      "text/plain": [
       "9"
      ]
     },
     "execution_count": 9,
     "metadata": {},
     "output_type": "execute_result"
    }
   ],
   "source": [
    "mylist = [1,2,3,'a','b','c',1.0,2.0,3.0]\n",
    "len(mylist)"
   ]
  },
  {
   "cell_type": "markdown",
   "id": "molecular-pocket",
   "metadata": {},
   "source": [
    "In anderen Worten: Die Elemente einer Liste sind in aufsteigender Reihenfolge angeordnet.\n",
    "Jedes Element hat seinen Platz bzw. Index und kein Platz ist leer!"
   ]
  },
  {
   "cell_type": "code",
   "execution_count": 10,
   "id": "elegant-segment",
   "metadata": {},
   "outputs": [
    {
     "name": "stdout",
     "output_type": "stream",
     "text": [
      "1\n",
      "3.0\n"
     ]
    }
   ],
   "source": [
    "print(mylist[0])\n",
    "print(mylist[len(mylist)-1])"
   ]
  },
  {
   "cell_type": "markdown",
   "id": "stuffed-blair",
   "metadata": {},
   "source": [
    "In ``Python`` können wir statt ``mylist[len(mylist)-1]``  auch ``mylist[-1]`` schreiben."
   ]
  },
  {
   "cell_type": "code",
   "execution_count": 11,
   "id": "demonstrated-receptor",
   "metadata": {},
   "outputs": [
    {
     "name": "stdout",
     "output_type": "stream",
     "text": [
      "3.0\n",
      "3.0\n"
     ]
    }
   ],
   "source": [
    "print(mylist[len(mylist)-1])\n",
    "print(mylist[-1])"
   ]
  },
  {
   "cell_type": "markdown",
   "id": "mighty-sodium",
   "metadata": {},
   "source": [
    "``Python`` bietet eine angenehme und mächtige [Syntax](def-syntax) um einen Teil der Liste in eine neue Liste zu **kopieren** (*flache Kopie*).\n",
    "Mit ``mylist[start:ende:i]`` nehmen wir jedes ``i``-te Element beginnend von ``start`` bis ``ende``.\n",
    "Dabei ist ``i`` optional und ist gleich ``1``, wenn es nicht angegeben wird.\n",
    "Bei diesem Operationen bleibt ``mylist`` unverändert."
   ]
  },
  {
   "cell_type": "code",
   "execution_count": 12,
   "id": "desirable-cursor",
   "metadata": {},
   "outputs": [
    {
     "name": "stdout",
     "output_type": "stream",
     "text": [
      "[2, 'a', 'c', 2.0]\n",
      "[2, 3, 'a', 'b', 'c', 1.0, 2.0]\n",
      "[2, 3, 'a', 'b', 'c', 1.0, 2.0]\n",
      "[1, 2, 3, 'a', 'b', 'c', 1.0, 2.0, 3.0]\n"
     ]
    }
   ],
   "source": [
    "mylist = [1,2,3,'a','b','c',1.0,2.0,3.0]\n",
    "print(mylist[1:8:2])\n",
    "print(mylist[1:8:1])\n",
    "print(mylist[1:8])\n",
    "print(mylist)"
   ]
  },
  {
   "cell_type": "markdown",
   "id": "under-browse",
   "metadata": {},
   "source": [
    "Auch eine negative Indexierung ist erlaubt."
   ]
  },
  {
   "cell_type": "code",
   "execution_count": 13,
   "id": "understanding-round",
   "metadata": {},
   "outputs": [
    {
     "name": "stdout",
     "output_type": "stream",
     "text": [
      "[3.0, 1.0, 'b', 3]\n",
      "[1.0, 'b', 3]\n"
     ]
    }
   ],
   "source": [
    "mylist = [1,2,3,'a','b','c',1.0,2.0,3.0]\n",
    "print(mylist[8:1:-2])\n",
    "print(mylist[-3:-8:-2])"
   ]
  },
  {
   "cell_type": "markdown",
   "id": "corrected-soldier",
   "metadata": {},
   "source": [
    "## Veränderung\n",
    "\n",
    "Anders als [Tupel](sec-tuple) ``tuple`` sind Listen *veränderbar*, d.h. wir können Elemente löschen und hinzufügen."
   ]
  },
  {
   "cell_type": "code",
   "execution_count": 14,
   "id": "alternative-pointer",
   "metadata": {},
   "outputs": [
    {
     "name": "stdout",
     "output_type": "stream",
     "text": [
      "chars: ['a', 'b', 'c'] before append.\n",
      "chars: ['a', 'b', 'c', 'd'] before remove.\n",
      "chars: ['a', 'c', 'd'] after remove.\n"
     ]
    }
   ],
   "source": [
    "chars = ['a','b','c']\n",
    "print(f'chars: {chars} before append.')\n",
    "chars.append('d')\n",
    "print(f'chars: {chars} before remove.')\n",
    "chars.remove('b')\n",
    "print(f'chars: {chars} after remove.')"
   ]
  },
  {
   "cell_type": "markdown",
   "id": "offensive-genius",
   "metadata": {},
   "source": [
    "Dabei fügt ``append`` das neue Element hinten an.\n",
    "Um ein Listenelement anhand seines Indexes zu löschen können wir ``del`` (engl. delete) verwenden."
   ]
  },
  {
   "cell_type": "code",
   "execution_count": 15,
   "id": "alone-senegal",
   "metadata": {},
   "outputs": [
    {
     "name": "stdout",
     "output_type": "stream",
     "text": [
      "chars: ['a', 'b', 'c'] before del.\n",
      "chars: ['a', 'c'] after del.\n"
     ]
    }
   ],
   "source": [
    "chars = ['a','b','c']\n",
    "print(f'chars: {chars} before del.')\n",
    "del chars[1]\n",
    "print(f'chars: {chars} after del.')"
   ]
  },
  {
   "cell_type": "markdown",
   "id": "sharing-convention",
   "metadata": {},
   "source": [
    "``del`` funktioniert in Kombination mit dem Indexieren, d.h. wir können viele Elemente mit einem Befehl löschen.\n",
    "Im folgenden löschen wir jedes 2-te Element wodurch nur ungerade Zahlen übrig bleiben."
   ]
  },
  {
   "cell_type": "code",
   "execution_count": 16,
   "id": "dominant-upper",
   "metadata": {},
   "outputs": [
    {
     "name": "stdout",
     "output_type": "stream",
     "text": [
      "numbers: [0, 1, 2, 3, 4, 5, 6, 7, 8, 9, 10, 11, 12, 13, 14, 15, 16, 17, 18, 19] before del.\n",
      "numbers: [1, 3, 5, 7, 9, 11, 13, 15, 17, 19] after del.\n"
     ]
    }
   ],
   "source": [
    "numbers = list(range(20))\n",
    "print(f'numbers: {numbers} before del.')\n",
    "del numbers[::2]\n",
    "print(f'numbers: {numbers} after del.')"
   ]
  },
  {
   "cell_type": "markdown",
   "id": "leading-roulette",
   "metadata": {},
   "source": [
    "Sobald ein Element gelöscht wird, verkleinert sich auch die Liste.\n",
    "Es entstehen keine Lücken.\n",
    "\n",
    "Wir können auch ein Element an einer bestimmten Stelle einfügen."
   ]
  },
  {
   "cell_type": "code",
   "execution_count": 17,
   "id": "difficult-highland",
   "metadata": {},
   "outputs": [
    {
     "name": "stdout",
     "output_type": "stream",
     "text": [
      "chars: ['a', 'b', 'c'] before insert.\n",
      "chars: ['a', 'd', 'b', 'c'] after insert.\n"
     ]
    }
   ],
   "source": [
    "chars = ['a','b','c']\n",
    "print(f'chars: {chars} before insert.')\n",
    "chars.insert(1, 'd')\n",
    "print(f'chars: {chars} after insert.')"
   ]
  },
  {
   "cell_type": "markdown",
   "id": "stretch-albuquerque",
   "metadata": {},
   "source": [
    "Dies fügt das Element ``'d'`` vor das Element mit dem Index 1 ein.\n",
    "Anders ausgedrückt: Das eingefügte Element ``element`` hat nach der Operation ``insert(index, element)`` den Index ``index``.\n",
    "\n",
    "(sec-list-and-memory)=\n",
    "## Listen und der Speicher\n",
    "\n",
    "Wie funktioniert eine Liste im tieferen Sinne?\n",
    "Also wie ist sie im Speicher abgelegt, was passiert wenn wir sie verändern und wie greifen wir auf sie und ihre Elemente über **Adressen** zu?\n",
    "\n",
    "### Anordnung im Speicher\n",
    "\n",
    "Um zu verstehen wie und warum Listen funktionieren müssen wir eine wichtige Tatsache festhalten, die wir bereits im Abschnitt [Variablen](sec-variables) unbemerkt verwendet haben:\n",
    "Kennen wir eine **Adresse** eines **Wertes**, kurz gesagt die *Variable* welche auf den Wert zeigt, so ist der Zugriff auf diesen Wert extrem schnell!\n",
    "Solange wir die **Adressen** kennen, ist der Zugriff in den **Arbeitsspeicher** generell extrem schnell.\n",
    "Es gibt kleine 'Strafen', wenn **Adressen** weit auseinander liegen, diese sind jedoch in den meisten Anwendungen vernachlässigbar.\n",
    "\n",
    "Mit dieser Information, lassen Sie uns anhand eines Beispiel testen, wie sich die **Adressen** und **Werte** einer ``list`` (aus Zahlen) verhalten."
   ]
  },
  {
   "cell_type": "code",
   "execution_count": 18,
   "id": "bound-innocent",
   "metadata": {},
   "outputs": [
    {
     "name": "stdout",
     "output_type": "stream",
     "text": [
      "value of numbers = [1, 2, 3, 4, 5]\n",
      "id of numbers = 4349624512\n",
      "value of numbers[2] = 3\n",
      "id of numbers[2] = 4299934064\n",
      "change value of numbers[2]\n",
      "value of numbers = [1, 2, -20, 4, 5]\n",
      "id of numbers = 4349624512\n",
      "value of numbers[2] = -20\n",
      "id of numbers[2] = 4349670512\n"
     ]
    }
   ],
   "source": [
    "numbers = [1, 2, 3, 4, 5]\n",
    "print(f'value of numbers = {numbers}')\n",
    "print(f'id of numbers = {id(numbers)}')\n",
    "\n",
    "print(f'value of numbers[2] = {numbers[2]}')\n",
    "print(f'id of numbers[2] = {id(numbers[2])}')\n",
    "print('change value of numbers[2]')\n",
    "\n",
    "numbers[2] = -20\n",
    "\n",
    "print(f'value of numbers = {numbers}')\n",
    "print(f'id of numbers = {id(numbers)}')\n",
    "print(f'value of numbers[2] = {numbers[2]}')\n",
    "print(f'id of numbers[2] = {id(numbers[2])}')"
   ]
  },
  {
   "cell_type": "markdown",
   "id": "defensive-luxury",
   "metadata": {},
   "source": [
    "Im obigen Code erstellen wir eine Liste, welche die Zahlen 1 bis 5 enthält.\n",
    "Dann verändern wir das zweite Element der Liste (eine Liste startet mit dem 0-ten Element).\n",
    "Die **Adresse** der *Variable* ``numbers`` ändert sich bei diesem Vorgang nicht!\n",
    "Allerdings ändert sich die Adresse des Elements ``numbers[2]`` und der **Wert** von ``numbers``.\n",
    "\n",
    "```{figure} ../../figs/python-tutorial/datatypes/list.png\n",
    "---\n",
    "width: 600px\n",
    "name: fig-data-type-list\n",
    "---\n",
    "Die Liste aus unserem obigen Beispiel **bevor** wir den Wert ``3`` auf ``-20`` gesetzt haben.\n",
    "```\n",
    "\n",
    "Ändern wir den **Wert** eines Listenelements, so verändern wir die **Adresse** am Index dieses Elements.\n",
    "In unserem Beispiel ändern wir den Wert am Index 2 von 5 auf -20.\n",
    "Dadurch verändert sich die Adresse von $adr_2^*$ auf $adr_2'$.\n",
    "Vergleichen Sie die {numref}`Abbildung {number} <fig-data-type-list>` und {numref}`{number} <fig-data-type-list-2>`.\n",
    "\n",
    "```{figure} ../../figs/python-tutorial/datatypes/list-2.png\n",
    "---\n",
    "width: 600px\n",
    "name: fig-data-type-list-2\n",
    "---\n",
    "Die Liste aus unserem obigen Beispiel **nachdem** wir den Wert ``3`` auf ``-20`` gesetzt haben.\n",
    "```\n",
    "\n",
    "Alle *Datenstrukturen* sind *Behälter*, die andere Daten aufnehmen können, ähnlich wie Schließfächer, Ordner oder Rucksäcke.\n",
    "Nehmen wir als Analogie die Schließfächer aus der echten Welt.\n",
    "Stellen wir uns vor, der Platz in einem Schließfach wäre ein Teil des Speicherplatzes, welcher von unserer Liste benötigt wird.\n",
    "Was befindet sich nun in unseren Schließfächern?\n",
    "In ``Python`` sind es **nicht** die Objekte/Werte selbst sondern die **Adresse** der Objekte/Werte.\n",
    "Es befindet sich quasi ein Zettel auf dem der Hinweis steht, wo wir das Objekt, was zu jenem Schließfach gehört, finden.\n",
    "Oder aber wir stellen uns eine Schnur vor, die von dem Schließfach auf das Objekt verweist.\n",
    "\n",
    "Blicken wir auf ein etwas komplizierteres Beispiel: eine Liste die wiederum eine Liste enthält."
   ]
  },
  {
   "cell_type": "code",
   "execution_count": 19,
   "id": "painted-resolution",
   "metadata": {},
   "outputs": [
    {
     "name": "stdout",
     "output_type": "stream",
     "text": [
      "value of mylist = [1, ['a', 'b'], 5]\n",
      "id of mylist = 4349625152\n",
      "value of mylist[1] = ['a', 'b']\n",
      "id of mylist[1] = 4349623936\n",
      "change value mylist[1][0]\n",
      "value of mylist = [1, ['c', 'b'], 5]\n",
      "id of mylist = 4349625152\n",
      "value of mylist[1] = ['c', 'b']\n",
      "id of numbers[1] = 4349623936\n"
     ]
    }
   ],
   "source": [
    "mylist = [1, ['a', 'b'], 5]\n",
    "print(f'value of mylist = {mylist}')\n",
    "print(f'id of mylist = {id(mylist)}')\n",
    "\n",
    "print(f'value of mylist[1] = {mylist[1]}')\n",
    "print(f'id of mylist[1] = {id(mylist[1])}')\n",
    "print('change value mylist[1][0]')\n",
    "\n",
    "mylist[1][0] = 'c'\n",
    "\n",
    "print(f'value of mylist = {mylist}')\n",
    "print(f'id of mylist = {id(mylist)}')\n",
    "print(f'value of mylist[1] = {mylist[1]}')\n",
    "print(f'id of numbers[1] = {id(mylist[1])}')"
   ]
  },
  {
   "cell_type": "markdown",
   "id": "executive-liberty",
   "metadata": {},
   "source": [
    "In diesem Beispiel verändern wir ein Element der Datenstruktur, welche unsere Liste ``mylist`` enthält.\n",
    "Der Effekt ist ein anderer als zuvor, denn die Adresse $adr_1^*$ ändert sich diesmal nicht!\n",
    "Stattdessen verändern wir die Adresse $adr_{1,0}^*$ der Datenstruktur, welche unsere Liste enthält.\n",
    "\n",
    "```{figure} ../../figs/python-tutorial/datatypes/list-in-list.png\n",
    "---\n",
    "width: 400px\n",
    "name: fig-data-type-list-in-list\n",
    "---\n",
    "Die Liste aus unserem obigen Beispiel **bevor** wir den Wert ``'a'`` auf ``'c'`` gesetzt haben.\n",
    "```\n",
    "\n",
    "Die **Adressen** welche ``mylist`` enthält bleiben **unverändert** und trotzdem ändern wir den Inhalt von ``mylist``.\n",
    "Vergleichen Sie die {numref}`Abbildung {number} <fig-data-type-list-in-list>` und {numref}`{number} <fig-data-type-list-in-list-2>`.\n",
    "\n",
    "```{figure} ../../figs/python-tutorial/datatypes/list-in-list-2.png\n",
    "---\n",
    "width: 400px\n",
    "name: fig-data-type-list-in-list-2\n",
    "---\n",
    "Die Liste aus unserem obigen Beispiel **nachdem** wir den Wert ``'a'`` auf ``'c'`` gesetzt haben.\n",
    "```\n",
    "\n",
    "Selbst wenn wir Anstatt einer Liste einen **unveränderlichen** [Tupel](sec-tuple) verwenden würden, könnten wir diese Veränderung durchführen.\n",
    "\n",
    "```{admonition} Unveränderlichkeit in Python\n",
    ":class: warning\n",
    "Ist eine Datenstruktur *unveränderlich* bedeutet dies lediglich, dass sich die Adressen, welche die Datenstruktur enthält nicht ändern können.\n",
    "Enthält die Datenstruktur jedoch eine weitere Datenstruktur, so können sich die Adressen dieser Datenstruktur und damit der Wert unserer Liste durchaus ändern!\n",
    "```\n",
    "\n",
    "Das besondere einer Liste, bzw. die Charakteristik welches Sie auszeichnet ist, dass \n",
    "\n",
    "1. die **Adressen** Ihrer Elemente ohne Lücke nebeneinander im Speicher liegen und\n",
    "2. diese **Adressen** veränderlich sind.\n",
    "\n",
    "### Adressenberechnung\n",
    "\n",
    "Da **Adressen** immer die gleiche feste Anzahl an Bits benötigen, kann man für eine gegebene\n",
    "\n",
    "+ Adresse $adr$ einer Liste und\n",
    "+ des Index $i$ eines Elements,\n",
    "\n",
    "die Speicheradresse $adr_i^*$ an der Speicheradresse $adr_i$, die auf das $i$-te Element zeigt extrem schnell berechnen.\n",
    "Das klingt verwirrend, ist im Grunde aber ganz simpel.\n",
    "\n",
    "Angenommen die Adresse der Liste ``mylist`` ist $adr$ und jede Adresse benötigt 4 Byte und wir können 1 Byte adressieren, dann befindet sich die Adresse $adr_i^*$ des $i$-ten Elements an der Speicheradresse:\n",
    "\n",
    "$$adr_i = adr + i \\cdot 4.$$\n",
    "\n",
    "Vergleichen Sie die {numref}`Abbildung {number} <fig-data-type-list-in-list>` und {numref}`{number} <fig-data-type-list-in-list-2>`.\n",
    "Diese Rechnung kann der Rechner sehr schnell durchführen und deshalb können wir auf Elemente einer Liste deren Index $i$ wir kennen extrem schnell zugreifen.\n",
    "\n",
    "### Übung\n",
    "\n",
    "Um dieses Konzept besser zu verstehen und herauszufinden wie sich *atomare* wie auch *zusammengesetzt Datentypen* verhalten, hilft oft nur eins: Ausprobieren!\n",
    "\n",
    "Im Kapitel [Speicher - alles ist eine Liste](sec-memory) erstellen wir unser eigenes Speichermanagementsystem durch ``Python``-Listen.\n",
    "Diese Übung bietet detaillierte Einblicke in die funktionsweise des Speichers und wie es gelingt Listen voller **Adressen** zu verwalten.\n",
    "\n",
    "## Der Unterschied zwischen + und +=\n",
    "\n",
    "Der ``+`` und auch der ``+=``-Operator ist in ``Python`` auch für Listen definiert.\n",
    "Ähnlich wie bei [Zeichenketten](sec-string), verkettet er zwei Listen.\n",
    "Überraschenderweise bewirkt jedoch folgender Code"
   ]
  },
  {
   "cell_type": "code",
   "execution_count": 20,
   "id": "urban-commissioner",
   "metadata": {},
   "outputs": [
    {
     "name": "stdout",
     "output_type": "stream",
     "text": [
      " id before concat: 4349555904\n",
      " id after concat: 4349543936\n"
     ]
    },
    {
     "data": {
      "text/plain": [
       "[1, 2, 3, 4, 5, 6]"
      ]
     },
     "execution_count": 20,
     "metadata": {},
     "output_type": "execute_result"
    }
   ],
   "source": [
    "list1 = [1, 2, 3]\n",
    "list2 = [4, 5, 6]\n",
    "print(f' id before concat: {id(list1)}')\n",
    "list1 = list1 + list2\n",
    "print(f' id after concat: {id(list1)}')\n",
    "list1"
   ]
  },
  {
   "cell_type": "markdown",
   "id": "criminal-integrity",
   "metadata": {},
   "source": [
    "nicht das selbe wie"
   ]
  },
  {
   "cell_type": "code",
   "execution_count": 21,
   "id": "forward-validity",
   "metadata": {},
   "outputs": [
    {
     "name": "stdout",
     "output_type": "stream",
     "text": [
      " id before concat: 4349619328\n",
      " id after concat: 4349619328\n"
     ]
    },
    {
     "data": {
      "text/plain": [
       "[1, 2, 3, 4, 5, 6]"
      ]
     },
     "execution_count": 21,
     "metadata": {},
     "output_type": "execute_result"
    }
   ],
   "source": [
    "list1 = [1, 2, 3]\n",
    "list2 = [4, 5, 6]\n",
    "print(f' id before concat: {id(list1)}')\n",
    "list1 += list2\n",
    "print(f' id after concat: {id(list1)}')\n",
    "list1"
   ]
  },
  {
   "cell_type": "markdown",
   "id": "fleet-bottle",
   "metadata": {},
   "source": [
    "auch wenn ``list1`` in beiden Fällen die gleichen Werte enthält so ändert sich im ersten Fall die **Adresse** von ``list1``.\n",
    "Im zweiten Fall bleibt die ``id`` und damit die **Adresse** unverändert.\n",
    "Was bedeutet das?\n",
    "\n",
    "Verwenden wir ``liste1 + liste2`` so wird eine neue Liste im Speicher angelegt und die Verkettung der beiden Listen wird dort abgelegt.\n",
    "D.h. die **Adressen** $adr_0^*, adr_1^0, \\ldots$ der Listenelemente der beiden Listen werden **kopiert**!\n",
    "Die beiden Listen die bei der Operation teilnehmen bleiben unverändert.\n",
    "\n",
    "Verwenden wir hingegen ``liste1 += liste2`` so werden die **Adressen** der Elemente von ``liste2`` kopiert und an ``liste1`` angehängt.\n",
    "Damit wird ``list1`` verändert und es wird keine neue Liste angelegt!\n",
    "``liste1 += liste2`` entspricht somit"
   ]
  },
  {
   "cell_type": "code",
   "execution_count": 22,
   "id": "immediate-person",
   "metadata": {},
   "outputs": [
    {
     "data": {
      "text/plain": [
       "[1, 2, 3, 4, 5, 6]"
      ]
     },
     "execution_count": 22,
     "metadata": {},
     "output_type": "execute_result"
    }
   ],
   "source": [
    "list1 = [1, 2, 3]\n",
    "list2 = [4, 5, 6]\n",
    "for x in list2:\n",
    "    list1.append(x)\n",
    "list1"
   ]
  },
  {
   "cell_type": "markdown",
   "id": "utility-tuesday",
   "metadata": {},
   "source": [
    "und ``concat_list = liste1 + liste2`` entspricht"
   ]
  },
  {
   "cell_type": "code",
   "execution_count": 23,
   "id": "external-stereo",
   "metadata": {},
   "outputs": [
    {
     "data": {
      "text/plain": [
       "[1, 2, 3, 4, 5, 6]"
      ]
     },
     "execution_count": 23,
     "metadata": {},
     "output_type": "execute_result"
    }
   ],
   "source": [
    "list1 = [1, 2, 3]\n",
    "list2 = [4, 5, 6]\n",
    "concat_list = []\n",
    "for x in list1:\n",
    "    concat_list.append(x)\n",
    "for x in list2:\n",
    "    concat_list.append(x)\n",
    "concat_list"
   ]
  },
  {
   "cell_type": "markdown",
   "id": "raising-laugh",
   "metadata": {},
   "source": [
    "```{admonition} += und +\n",
    ":class: hint\n",
    "Nicht nur ``+=`` und ``+`` verhalten sich in dieser Art und Weise, sondern auch ``-=`` und ``-`` oder ``|=`` und ``|`` und viele weitere Operatoren.\n",
    "```\n",
    "\n",
    "(sec-copy-of-ds)=\n",
    "## Tiefe und flache Kopien\n",
    "\n",
    "Wir müssen uns noch einmal dem wichtigen unterschied zwischen [Identität und Gleichheit](warning-equality-and-identity) widmen.\n",
    "\n",
    "### Identität vs Gleichheit\n",
    "\n",
    "Wollen wir einen Wert einer Variablen ``x`` kopieren, so stellt sich die Frage: Soll das Original ``x`` und die Kopie ``y`` **gleich** oder **identisch** sein?\n",
    "Ein Beispiel:"
   ]
  },
  {
   "cell_type": "code",
   "execution_count": 24,
   "id": "killing-swimming",
   "metadata": {},
   "outputs": [
    {
     "name": "stdout",
     "output_type": "stream",
     "text": [
      "x and y are identical? answer: True\n",
      "x and y are equals? answer: True\n"
     ]
    }
   ],
   "source": [
    "# shallow copy\n",
    "x = 100_000\n",
    "y = x\n",
    "print(f'x and y are identical? answer: {x is y}')\n",
    "print(f'x and y are equals? answer: {x == y}')"
   ]
  },
  {
   "cell_type": "code",
   "execution_count": 25,
   "id": "consolidated-husband",
   "metadata": {},
   "outputs": [
    {
     "name": "stdout",
     "output_type": "stream",
     "text": [
      "x and y are identical? answer: False\n",
      "x and y are equals? answer: True\n"
     ]
    }
   ],
   "source": [
    "# deep copy\n",
    "x = 100_000\n",
    "y = 100_000\n",
    "print(f'x and y are identical? answer: {x is y}')\n",
    "print(f'x and y are equals? answer: {x == y}')"
   ]
  },
  {
   "cell_type": "markdown",
   "id": "champion-daily",
   "metadata": {},
   "source": [
    "Im ersten Fall setzten wir die Adresse von ``y`` auf die Adresse von ``x``.\n",
    "Somit *zeigen* beide Variablen auf die gleiche Adresse d.h. auf den *identischen* Wert.\n",
    "Sind zwei Variablen identisch so sind sie immer auch gleich.\n",
    "\n",
    "Im zweiten Fall setzten wir den Wert beider Variablen auf den gleichen Wert.\n",
    "Jedoch *zeigen* die Variablen ``x`` und ``y`` auf unterschiedliche Speicherbereiche.\n",
    "Somit sind die Variablen gleich aber nicht identisch.\n",
    "\n",
    "Kopieren wir eine Variable, so gibt es diese beiden Möglichkeiten.\n",
    "Entweder ist die Kopie *identisch* oder aber *gleich*.\n",
    "Und je nachdem was wir erzielen, sprechen wir von einer *flachen* oder *tiefen Kopie*.\n",
    "\n",
    "Im ersten Fall, handelt es sich um eine *flache* und im zweiten obigen Fall um eine *tiefe Kopie*\n",
    "Im Fall von *atomaren Datentypen* spielt es keine Rolle ob wir eine flache oder tiefe Kopie machen.\n",
    "Warum? Weil wir den Wert im Speicher eines *atomaren Datentyps* ohnehin nicht verändern können.\n",
    "Egal auf welche Speicheradresse ``y`` im obigen Beispiel zeigt, solange ihr Wert den richtigen Wert ``100_000`` hat, kann nichts schief gehen. \n",
    "Um Speicherplatz zu sparen, sind deshalb *flache Kopien* für *atomare Datentypen* vorzuziehen.\n",
    "\n",
    "Anders als für *atomare Datentypen* ist es für *Datenstrukturen* ganz und gar nicht egal ob wir eine *flache* oder *tiefe Kopie* erzeugen."
   ]
  },
  {
   "cell_type": "code",
   "execution_count": 26,
   "id": "latest-voltage",
   "metadata": {},
   "outputs": [
    {
     "name": "stdout",
     "output_type": "stream",
     "text": [
      "x and y are identical? answer: True\n",
      "x and y are equals? answer: True\n",
      "change y\n",
      "x and y are identical? answer: True\n",
      "x and y are equals? answer: True\n",
      "value of x: [-20, 2, 3]\n",
      "value of y: [-20, 2, 3]\n"
     ]
    }
   ],
   "source": [
    "# shallow copy\n",
    "x = [1,2,3]\n",
    "y = x\n",
    "\n",
    "print(f'x and y are identical? answer: {x is y}')\n",
    "print(f'x and y are equals? answer: {x == y}')\n",
    "y[0] = -20\n",
    "print(f'change y')\n",
    "print(f'x and y are identical? answer: {x is y}')\n",
    "print(f'x and y are equals? answer: {x == y}')\n",
    "print(f'value of x: {x}')\n",
    "print(f'value of y: {y}')"
   ]
  },
  {
   "cell_type": "code",
   "execution_count": 27,
   "id": "according-miniature",
   "metadata": {},
   "outputs": [
    {
     "name": "stdout",
     "output_type": "stream",
     "text": [
      "x and y are identical? answer: False\n",
      "x and y are equals? answer: True\n",
      "change y\n",
      "x and y are identical? answer: False\n",
      "x and y are equals? answer: False\n",
      "value of x: [1, 2, 3]\n",
      "value of y: [-20, 2, 3]\n"
     ]
    }
   ],
   "source": [
    "# deep copy\n",
    "x = [1,2,3]\n",
    "y = [1,2,3]\n",
    "\n",
    "print(f'x and y are identical? answer: {x is y}')\n",
    "print(f'x and y are equals? answer: {x == y}')\n",
    "y[0] = -20\n",
    "print(f'change y')\n",
    "print(f'x and y are identical? answer: {x is y}')\n",
    "print(f'x and y are equals? answer: {x == y}')\n",
    "print(f'value of x: {x}')\n",
    "print(f'value of y: {y}')"
   ]
  },
  {
   "cell_type": "markdown",
   "id": "certain-genius",
   "metadata": {},
   "source": [
    "Handelt es sich um eine *flache Kopie* so zeigen beide **Adresse** der Variablen auf den gleichen Speicherbereich.\n",
    "Ändern wir diesen Speicherbereich, so wirkt sich das auf beide Variablen gleichermaßen aus.\n",
    "Im Fall einer *tiefen Kopie* wirkt sich keine Änderung der des Werts der einen Variablen auf die andere aus.\n",
    "Vergleichen Sie das obige Beispiel.\n",
    "\n",
    "### Datenstrukturen kopieren\n",
    "\n",
    "Für Datenstrukturen gibt es nicht nur die eine *flache Kopie*.\n",
    "Stattdessen kommt es ganz darauf an, wie tief wir Kopien anlegen.\n",
    "\n",
    "```{admonition} Tiefe Kopie einer Datenstruktur\n",
    "Wir sprechen nur dann von einer *tiefen Kopie* (engl. deep copy) ``y`` von einer *Datenstruktur* ``x``, wenn jede **Adresse** die ``y`` und deren *Kinder* enthalten zu den **Adressen** die ``x`` und dessen *Kinder* enthalten, verschieden sind.\n",
    "```\n",
    "\n",
    "Eine Datenstruktur ``z``, die sich in einer anderen Datenstruktur ``x`` befindet, bezeichnen wir als *Kind* von ``x``.\n",
    "Alle *Kinder* von ``z`` sind wiederum auch *Kinder* von ``x`` und so weiter und so fort.\n",
    "\n",
    "```{admonition} Flache Kopie einer Datenstruktur\n",
    "Wir sprechen nur dann von einer *flachen Kopie* (engl. shallow copy) ``y`` von einer *Datenstruktur* ``x``, wenn ``y`` keine *tiefe Kopie* ist.\n",
    "```\n",
    "\n",
    "Kopieren wir eine Liste durch Indexierung oder durch die Funktion ``mylist.copy()`` so wird noch immer eine *flache* (engl. shallow) Kopie angelegt.\n",
    "Es werden lediglich die **Adressen**, welche sich in der Liste befinden kopiert, siehe {numref}`Abbildung {number} <fig-data-type-list>` oder {numref}`{number} <fig-data-type-list-in-list>`.\n",
    "Genau wie bei Variablen *atomarer Datentypen* ist dies in jedem Fall ausreichend sofern diese **Adressen** auf Werte *atomare Datentypen* zeigen.\n",
    "In diesem Fall macht es keinen Unterschied ob die *atomaren Datentypen* Kopien sind oder nicht.\n",
    "\n",
    "Folgender Code zeigt, dass die **Adressen** der Elemente der Kopie identisch sind:"
   ]
  },
  {
   "cell_type": "code",
   "execution_count": 28,
   "id": "meaning-mileage",
   "metadata": {},
   "outputs": [
    {
     "name": "stdout",
     "output_type": "stream",
     "text": [
      "ids of numbers\n",
      "4299934000\n",
      "4299934032\n",
      "4299934064\n",
      "ids of numbers_shallow_copy\n",
      "4299934000\n",
      "4299934032\n",
      "4299934064\n"
     ]
    }
   ],
   "source": [
    "numbers = [1, 2, 3]\n",
    "numbers_shallow_copy = numbers[:]\n",
    "\n",
    "print('ids of numbers')\n",
    "for x in numbers:\n",
    "    print(id(x))\n",
    "\n",
    "print('ids of numbers_shallow_copy')\n",
    "for x in numbers_shallow_copy:\n",
    "    print(id(x))"
   ]
  },
  {
   "cell_type": "markdown",
   "id": "funky-database",
   "metadata": {},
   "source": [
    "Problematisch kann es werden, wenn wir in einer *Datenstruktur* eine weitere *Datenstruktur* halten und eine *flache Kopie* anfertigen.\n",
    "Blicken Sie auf folgendes Beispiel:"
   ]
  },
  {
   "cell_type": "code",
   "execution_count": 29,
   "id": "coral-tolerance",
   "metadata": {},
   "outputs": [
    {
     "data": {
      "text/plain": [
       "[1, 2, ['b', 4, 5]]"
      ]
     },
     "execution_count": 29,
     "metadata": {},
     "output_type": "execute_result"
    }
   ],
   "source": [
    "numbers = [1, 2, [3, 4, 5]]\n",
    "numbers_shallow_copy = numbers[:]\n",
    "\n",
    "numbers[2][0] = 'b' \n",
    "numbers_shallow_copy"
   ]
  },
  {
   "cell_type": "markdown",
   "id": "bored-version",
   "metadata": {},
   "source": [
    "Wir ändern etwas in der Liste ``number`` und diese Änderung wird auch in ``numbers_shallow_copy`` übernommen.\n",
    "Warum?\n",
    "Nunja, die **Adressen**"
   ]
  },
  {
   "cell_type": "code",
   "execution_count": 30,
   "id": "encouraging-supplier",
   "metadata": {},
   "outputs": [
    {
     "name": "stdout",
     "output_type": "stream",
     "text": [
      "4340221952\n",
      "4340221952\n"
     ]
    }
   ],
   "source": [
    "print(id(numbers[2]))\n",
    "print(id(numbers_shallow_copy[2]))"
   ]
  },
  {
   "cell_type": "markdown",
   "id": "fifty-flower",
   "metadata": {},
   "source": [
    "sind identisch!\n",
    "Wir verändern den Speicherbereich der sich an **Adresse** befindet und da beide Listen auf diesen Bereich zeigen, werden beide Listen verändert.\n",
    "\n",
    "Dieses Verhalten kann auch durchaus wünschenswert sein.\n",
    "Allerdings wollen wir häufig eine echte d.h. *tiefe Kopie* einer Datenstruktur erhalten.\n",
    "Um dies zu erreichen, reicht es nicht, nur die *Datenstruktur* zu kopieren.\n",
    "Sie müssen stattdessen alle *Datenstrukturen*, die diese *Datenstruktur* enthält, ebenfalls kopieren und auch alle *Datenstrukturen* die diese enthalten und so weiter und so fort.\n",
    "Anders ausgedrückt: Sie müssen alle *Kinder* der Datenstruktur kopieren.\n",
    "\n",
    "Für unser obiges Beispiel erstellen wir wie folgt eine *tiefe Kopie*:"
   ]
  },
  {
   "cell_type": "code",
   "execution_count": 31,
   "id": "local-tablet",
   "metadata": {},
   "outputs": [
    {
     "name": "stdout",
     "output_type": "stream",
     "text": [
      "ids of numbers:\n",
      "4299934000\n",
      "4299934032\n",
      "4349624704\n",
      "\n",
      "ids of numbers_deep_copy:\n",
      "4299934000\n",
      "4299934032\n",
      "4349623936\n"
     ]
    },
    {
     "data": {
      "text/plain": [
       "[1, 2, ['a', 'b', 'c']]"
      ]
     },
     "execution_count": 31,
     "metadata": {},
     "output_type": "execute_result"
    }
   ],
   "source": [
    "mylist = [1, 2, ['a', 'b', 'c']]\n",
    "mylist_deep_copy = []\n",
    "\n",
    "for x in mylist:\n",
    "    if type(x) != list:\n",
    "        mylist_deep_copy.append(x)\n",
    "    else:\n",
    "        mylist_deep_copy.append(x.copy())\n",
    "\n",
    "\n",
    "print('ids of numbers:')\n",
    "for x in mylist:\n",
    "    print(id(x))\n",
    "\n",
    "print('\\nids of numbers_deep_copy:')\n",
    "for x in mylist_deep_copy:\n",
    "    print(id(x))\n",
    "\n",
    "mylist_deep_copy"
   ]
  },
  {
   "cell_type": "markdown",
   "id": "collaborative-progress",
   "metadata": {},
   "source": [
    "Es hat sich nicht nur die Adresse der kopierten Liste sondern auch des letzten Elements der Liste verändert.\n",
    "Wie sieht es mit den Adressen der Elemente des Kindes aus?:"
   ]
  },
  {
   "cell_type": "code",
   "execution_count": 32,
   "id": "cooked-dependence",
   "metadata": {},
   "outputs": [
    {
     "name": "stdout",
     "output_type": "stream",
     "text": [
      "ids of mylist[2]\n",
      "4301539632\n",
      "4300974256\n",
      "4300686512\n",
      "\n",
      "ids of mylist_deep_copy[2]\n",
      "4301539632\n",
      "4300974256\n",
      "4300686512\n"
     ]
    }
   ],
   "source": [
    "print('ids of mylist[2]')\n",
    "for x in mylist[2]:\n",
    "    print(id(x))\n",
    "\n",
    "print('\\nids of mylist_deep_copy[2]')\n",
    "for x in mylist_deep_copy[2]:\n",
    "    print(id(x))"
   ]
  },
  {
   "cell_type": "markdown",
   "id": "supposed-prague",
   "metadata": {},
   "source": [
    "Diese sind gleich geblieben, da es sich um *atomare Datentypen* handelt und somit eine Kopie lediglich Speicher verbrauchen würde.\n",
    "\n",
    "Und was machen wir wenn wir eine dreidimensionale oder gar vierdimensionale Liste haben?\n",
    "Wir bräuchten eine sog. *rekursive Funktion*, welche uns eine Kopie erstellt.\n",
    "Glücklicherweise bietet uns ``Python`` durch das ``copy``-Modul bereits Funktionen zur Erstellung *flacher* und *tiefer Kopien*.\n",
    "Die Funktion ``copy()`` liefert eine *flache* und die Funktion ``deepcopy()`` eine *tiefe Kopie*:"
   ]
  },
  {
   "cell_type": "code",
   "execution_count": 33,
   "id": "dedicated-observer",
   "metadata": {},
   "outputs": [
    {
     "name": "stdout",
     "output_type": "stream",
     "text": [
      "shallow copy: [1, 2, [3, ['b', 5]]]"
     ]
    },
    {
     "name": "stdout",
     "output_type": "stream",
     "text": [
      "\n",
      "deep copy: [1, 2, [3, [4, 5]]]\n"
     ]
    }
   ],
   "source": [
    "import copy\n",
    "\n",
    "numbers = [1, 2, [3, [4, 5]]]\n",
    "numbers_shallow_copy = copy.copy(numbers)\n",
    "numbers_deep_copy = copy.deepcopy(numbers)\n",
    "\n",
    "numbers[2][1][0] = 'b'\n",
    "\n",
    "print(f'shallow copy: {numbers_shallow_copy}')\n",
    "print(f'deep copy: {numbers_deep_copy}')"
   ]
  }
 ],
 "metadata": {
  "jupytext": {
   "formats": "md:myst",
   "text_representation": {
    "extension": ".md",
    "format_name": "myst"
   }
  },
  "kernelspec": {
   "display_name": "Python 3",
   "language": "python",
   "name": "python3"
  },
  "language_info": {
   "codemirror_mode": {
    "name": "ipython",
    "version": 3
   },
   "file_extension": ".py",
   "mimetype": "text/x-python",
   "name": "python",
   "nbconvert_exporter": "python",
   "pygments_lexer": "ipython3",
   "version": "3.9.8"
  },
  "source_map": [
   11,
   29,
   37,
   49,
   52,
   56,
   59,
   66,
   75,
   79,
   85,
   89,
   92,
   97,
   100,
   104,
   107,
   115,
   118,
   123,
   126,
   130,
   133,
   140,
   146,
   150,
   154,
   160,
   167,
   172,
   177,
   182,
   187,
   194,
   199,
   219,
   234,
   272,
   287,
   355,
   362,
   366,
   373,
   387,
   393,
   397,
   406,
   423,
   431,
   437,
   459,
   474,
   487,
   517,
   528,
   533,
   539,
   545,
   548,
   561,
   581,
   586,
   594,
   603
  ]
 },
 "nbformat": 4,
 "nbformat_minor": 5
}