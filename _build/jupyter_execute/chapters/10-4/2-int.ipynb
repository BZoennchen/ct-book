{
 "cells": [
  {
   "cell_type": "markdown",
   "id": "running-gauge",
   "metadata": {},
   "source": [
    "# Ganze Zahlen - int\n",
    "\n",
    "Ganze Zahlen ``int`` ist ein *atomarer Datentyp* und verhält sich so wie wir es erwarten.\n",
    "\n",
    "Falls Sie bereits Programmierkenntnisse besitzen, so gibt es in ``Python`` eine Besonderheit: Ganze Zahlen können nicht überlaufen.\n",
    "Anders als Fließkommazahlen benötigen ganze Zahlen ``int`` in ``Python`` eine variable Anzahl an Bits.\n",
    "Anders ausgedrückt: Nicht jede Zahl benötigt die gleiche Anzahl an Bits im Speicher!\n",
    "Solange Ihr Speicher nicht komplett belegt ist, können Sie in ``Python`` somit mit sehr großen ganzen Zahlen rechnen."
   ]
  },
  {
   "cell_type": "code",
   "execution_count": 1,
   "id": "conceptual-typing",
   "metadata": {},
   "outputs": [
    {
     "name": "stdout",
     "output_type": "stream",
     "text": [
      "<class 'int'>\n",
      "10000000000000000000000000000000000000000000000000000000000000000000000000000000000000000000000000000\n"
     ]
    }
   ],
   "source": [
    "large_number = 10**100\n",
    "print(type(large_number))\n",
    "print(large_number)"
   ]
  },
  {
   "cell_type": "markdown",
   "id": "japanese-durham",
   "metadata": {},
   "source": [
    "Da wir bei mathematischen Operationen wie ``+``, ``-``, ``*``, ``/``, ``//`` und ``**`` ganze Zahlen ``int`` und Fließkommazahlen ``float`` vermischen können, müssen wir darauf achten welcher Datentyp am Ende herauskommt.\n",
    "Sobald eine Fließkommazahl teil der Berechnung ist, ist das Ergebnis vom Typ ``float``."
   ]
  },
  {
   "cell_type": "code",
   "execution_count": 2,
   "id": "silver-macintosh",
   "metadata": {},
   "outputs": [
    {
     "name": "stdout",
     "output_type": "stream",
     "text": [
      "<class 'float'>\n",
      "3.0\n"
     ]
    }
   ],
   "source": [
    "x = 3 * 1.0     # int * float -> float   \n",
    "print(type(x))\n",
    "print(x)"
   ]
  },
  {
   "cell_type": "code",
   "execution_count": 3,
   "id": "proof-thomson",
   "metadata": {},
   "outputs": [
    {
     "name": "stdout",
     "output_type": "stream",
     "text": [
      "<class 'float'>\n",
      "1e+100\n"
     ]
    }
   ],
   "source": [
    "large_number = 10.0**100\n",
    "print(type(large_number))\n",
    "print(large_number)"
   ]
  },
  {
   "cell_type": "markdown",
   "id": "million-building",
   "metadata": {},
   "source": [
    "Auch bei der ganzzahligen Division ``//`` erhalten wir als Datentyp eine Fließkommazahl sofern eine Fließkommazahl bei der Operation teilnimmt:"
   ]
  },
  {
   "cell_type": "code",
   "execution_count": 4,
   "id": "handy-candle",
   "metadata": {},
   "outputs": [
    {
     "name": "stdout",
     "output_type": "stream",
     "text": [
      "<class 'float'>\n",
      "1.0\n"
     ]
    }
   ],
   "source": [
    "x = 3.0 // 2     # float // int -> float   \n",
    "print(type(x))\n",
    "print(x)"
   ]
  },
  {
   "cell_type": "code",
   "execution_count": 5,
   "id": "electoral-oakland",
   "metadata": {},
   "outputs": [
    {
     "name": "stdout",
     "output_type": "stream",
     "text": [
      "<class 'float'>\n",
      "1.0\n"
     ]
    }
   ],
   "source": [
    "x = 3 // 2.0     # int // float -> float   \n",
    "print(type(x))\n",
    "print(x)"
   ]
  },
  {
   "cell_type": "code",
   "execution_count": 6,
   "id": "exclusive-variance",
   "metadata": {},
   "outputs": [
    {
     "name": "stdout",
     "output_type": "stream",
     "text": [
      "<class 'int'>\n",
      "1\n"
     ]
    }
   ],
   "source": [
    "x = 3 // 2     # int // int -> int   \n",
    "print(type(x))\n",
    "print(x)"
   ]
  }
 ],
 "metadata": {
  "jupytext": {
   "formats": "md:myst",
   "text_representation": {
    "extension": ".md",
    "format_name": "myst"
   }
  },
  "kernelspec": {
   "display_name": "Python 3",
   "language": "python",
   "name": "python3"
  },
  "language_info": {
   "codemirror_mode": {
    "name": "ipython",
    "version": 3
   },
   "file_extension": ".py",
   "mimetype": "text/x-python",
   "name": "python",
   "nbconvert_exporter": "python",
   "pygments_lexer": "ipython3",
   "version": "3.9.6"
  },
  "source_map": [
   11,
   22,
   26,
   31,
   37,
   41,
   45,
   51,
   57
  ]
 },
 "nbformat": 4,
 "nbformat_minor": 5
}