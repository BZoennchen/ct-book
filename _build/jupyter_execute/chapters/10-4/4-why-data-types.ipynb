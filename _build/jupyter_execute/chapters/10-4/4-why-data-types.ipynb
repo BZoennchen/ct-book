{
 "cells": [
  {
   "cell_type": "markdown",
   "id": "hispanic-continent",
   "metadata": {},
   "source": [
    "(sec-why-data-types)=\n",
    "# Existenzberechtigung\n",
    "\n",
    "Kommen wir noch einmal zurück zu unserer Analogie mit den *Dateiformaten*.\n",
    "Weshalb enden PDF-Dokumente mit ``.pdf`` und Bilder mit z.B. ``.png``?\n",
    "Ändern wir die Dateiendung oder lassen Sie Weg, so ändert sich der Inhalt der Datei nicht.\n",
    "Allerdings kann Ihr Programm zum Lesen von PDFs, ausschließlich PDFs lesen.\n",
    "Die Dateiendung ist ein Versprechen, dass es sich bei dieser Datei auch wirklich um eine PDF handelt.\n",
    "Zudem leitet Ihr Betriebssystem das öffnen der Datei an ein Programm weiter, welches das entsprechende Dateiformat verarbeiten kann.\n",
    "Da das Betriebssystem nicht alle Dateiformate kennen kann (jeden Tag entstehen neue Formate) achtet es auf die Dateiendung.\n",
    "Wir als Benutzer können dem Betriebssystem mitteilen, welche Datei mit welchem Programm geöffnet werden soll.\n",
    "\n",
    "Datentypen existieren aus dem gleichen Grund.\n",
    "Sie sind ein verpflichtendes Versprechen, wie der Speicherbereich (die Bits und Byte) der den Wert ergibt aussieht und wie er interpretiert wird.\n",
    "Funktionen und Operationen verlassen sich auf dieses Versprechen.\n",
    "Nur so können Sie Informationen verarbeiten, indem die [Interpretation](sec-interpretation) bekannt ist und auch eingehalten wird.\n",
    "Zum Beispiel erwartet die Addition ``+`` zwei Zahlen.\n",
    "Dabei kann es sich bei jeder der beiden Zahlen entweder um eine ganze Zahl ``int`` oder um eine Fließkommazahl handeln."
   ]
  },
  {
   "cell_type": "code",
   "execution_count": 1,
   "id": "challenging-scotland",
   "metadata": {},
   "outputs": [
    {
     "data": {
      "text/plain": [
       "12.1"
      ]
     },
     "execution_count": 1,
     "metadata": {},
     "output_type": "execute_result"
    }
   ],
   "source": [
    "3 + 9       # int + int\n",
    "3 + 8.6     # int + float\n",
    "-3.6 + 3.4  # float + float\n",
    "3.1 + 9     # float + int"
   ]
  },
  {
   "cell_type": "markdown",
   "id": "focused-topic",
   "metadata": {},
   "source": [
    "Der Datentyp des Ergebnisses der Addition hängt von den Datentypen der beiden Summanden ab."
   ]
  },
  {
   "cell_type": "code",
   "execution_count": 2,
   "id": "satisfied-concentration",
   "metadata": {},
   "outputs": [
    {
     "name": "stdout",
     "output_type": "stream",
     "text": [
      "<class 'int'>\n",
      "<class 'float'>\n",
      "<class 'float'>\n",
      "<class 'float'>\n"
     ]
    }
   ],
   "source": [
    "print(type(3 + 9))      # int + int -> int\n",
    "print(type(3 + 8.6))    # int + float -> float\n",
    "print(type(-3.6 + 3.4)) # float + float -> float\n",
    "print(type(3.1 + 9))    # float + int -> float"
   ]
  },
  {
   "cell_type": "markdown",
   "id": "organized-harvest",
   "metadata": {},
   "source": [
    "Zudem wird nicht jeder Datentyp von der Addition unterstützt:"
   ]
  },
  {
   "cell_type": "code",
   "execution_count": 3,
   "id": "polyphonic-republican",
   "metadata": {
    "tags": [
     "raises-exception"
    ]
   },
   "outputs": [
    {
     "ename": "TypeError",
     "evalue": "unsupported operand type(s) for +: 'int' and 'str'",
     "output_type": "error",
     "traceback": [
      "\u001b[0;31m---------------------------------------------------------------------------\u001b[0m",
      "\u001b[0;31mTypeError\u001b[0m                                 Traceback (most recent call last)",
      "\u001b[0;32m<ipython-input-3-20f79e7a2649>\u001b[0m in \u001b[0;36m<module>\u001b[0;34m\u001b[0m\n\u001b[0;32m----> 1\u001b[0;31m \u001b[0;36m3\u001b[0m \u001b[0;34m+\u001b[0m \u001b[0;34m'a'\u001b[0m \u001b[0;31m# int + str -> Fehler!\u001b[0m\u001b[0;34m\u001b[0m\u001b[0;34m\u001b[0m\u001b[0m\n\u001b[0m",
      "\u001b[0;31mTypeError\u001b[0m: unsupported operand type(s) for +: 'int' and 'str'"
     ]
    }
   ],
   "source": [
    "3 + 'a' # int + str -> Fehler!"
   ]
  },
  {
   "cell_type": "markdown",
   "id": "pointed-demonstration",
   "metadata": {},
   "source": [
    "Der Fehler der durch diesen Code erzeugt wird besagt: ``unsupported operand type(s) for +: 'int' and 'str'``, d.h. diese Kombination aus Datentypen (``int`` und ``str``) wird nicht unterstützt.\n",
    "Was passiert wenn wir zwei Zeichenketten 'addieren'?"
   ]
  },
  {
   "cell_type": "code",
   "execution_count": 4,
   "id": "clean-employment",
   "metadata": {},
   "outputs": [
    {
     "data": {
      "text/plain": [
       "'ab'"
      ]
     },
     "execution_count": 4,
     "metadata": {},
     "output_type": "execute_result"
    }
   ],
   "source": [
    "'a' + 'b' # str + str -> str!"
   ]
  },
  {
   "cell_type": "markdown",
   "id": "cognitive-lawsuit",
   "metadata": {},
   "source": [
    "Überraschenderweise führt dies nicht zu einem Fehler.\n",
    "Wir sprechen hierbei nicht mehr von einer Addition, stattdessen handelt es sich um die sog. Konkatenation (Verkettung) von Zeichenketten.\n",
    "In anderen Worten: Es entscheiden die Datentypen darüber, welche Operation der ``+``-Operator definiert bzw. welche Operation ausgeführt wird!\n",
    "\n",
    "Betrachten wir ein weiteres Beispiel:"
   ]
  },
  {
   "cell_type": "code",
   "execution_count": 5,
   "id": "junior-narrative",
   "metadata": {},
   "outputs": [
    {
     "data": {
      "text/plain": [
       "5"
      ]
     },
     "execution_count": 5,
     "metadata": {},
     "output_type": "execute_result"
    }
   ],
   "source": [
    "max([1,2,3,4,5])"
   ]
  },
  {
   "cell_type": "markdown",
   "id": "funky-equipment",
   "metadata": {},
   "source": [
    "und"
   ]
  },
  {
   "cell_type": "code",
   "execution_count": 6,
   "id": "other-phase",
   "metadata": {},
   "outputs": [
    {
     "data": {
      "text/plain": [
       "'b'"
      ]
     },
     "execution_count": 6,
     "metadata": {},
     "output_type": "execute_result"
    }
   ],
   "source": [
    "max('a','b')"
   ]
  },
  {
   "cell_type": "markdown",
   "id": "infinite-rebel",
   "metadata": {},
   "source": [
    "Wir rufen beide Male die *built-in Funktion* ``max`` auf.\n",
    "Einmal ist das Argument eine Liste ``list`` und einmal rufen wir ``max`` mit zwei Argumenten, zwei ganzen Zeichenketten ``str`` auf.\n",
    "Das Ergebnis ist einmal das größte Element der Liste und einmal das lexikographisch größere Element der beiden Argumente.\n",
    "Der Datentyp des Rückgabewerte ist einmal eine ganze Zahl ``int`` und einmal eine Zeichenkette ``str``.\n",
    "\n",
    "Wird folgender Code funktionieren?"
   ]
  },
  {
   "cell_type": "code",
   "execution_count": 7,
   "id": "pretty-projector",
   "metadata": {
    "tags": [
     "raises-exception"
    ]
   },
   "outputs": [
    {
     "ename": "TypeError",
     "evalue": "'>' not supported between instances of 'str' and 'int'",
     "output_type": "error",
     "traceback": [
      "\u001b[0;31m---------------------------------------------------------------------------\u001b[0m",
      "\u001b[0;31mTypeError\u001b[0m                                 Traceback (most recent call last)",
      "\u001b[0;32m<ipython-input-7-ce3c1a936c84>\u001b[0m in \u001b[0;36m<module>\u001b[0;34m\u001b[0m\n\u001b[0;32m----> 1\u001b[0;31m \u001b[0mmax\u001b[0m\u001b[0;34m(\u001b[0m\u001b[0;36m3\u001b[0m\u001b[0;34m,\u001b[0m\u001b[0;34m'b'\u001b[0m\u001b[0;34m)\u001b[0m\u001b[0;34m\u001b[0m\u001b[0;34m\u001b[0m\u001b[0m\n\u001b[0m",
      "\u001b[0;31mTypeError\u001b[0m: '>' not supported between instances of 'str' and 'int'"
     ]
    }
   ],
   "source": [
    "max(3,'b')"
   ]
  },
  {
   "cell_type": "markdown",
   "id": "eight-brown",
   "metadata": {},
   "source": [
    "Wir können das an dieser Stelle nicht wissen.\n",
    "Es kommt darauf an **wie** die Funktion ``max`` implementiert wurde und **was** sie genau macht.\n",
    "Macht aus Ihrer Sicht ein solcher Aufruf Sinn?\n",
    "\n",
    "Führen wir den Code aus, so kommt es zu einem weiteren Fehler: ``'>' not supported between instances of 'str' and 'int'``.\n",
    "Was soll das nun bedeuten?\n",
    "Wer hat denn was von größer ``>`` gesagt?\n",
    "Nun, scheinbar verwendet die Funktion ``max`` den Größer-[Vergleichsoperator](sec-python-operator-compare) und dieser kann mit der Kombination ``str`` und ``int`` nicht umgehen.\n",
    "Wir erhalten den gleichen Fehler mit"
   ]
  },
  {
   "cell_type": "code",
   "execution_count": 8,
   "id": "oriented-intervention",
   "metadata": {
    "tags": [
     "raises-exception"
    ]
   },
   "outputs": [
    {
     "ename": "TypeError",
     "evalue": "'>' not supported between instances of 'int' and 'str'",
     "output_type": "error",
     "traceback": [
      "\u001b[0;31m---------------------------------------------------------------------------\u001b[0m",
      "\u001b[0;31mTypeError\u001b[0m                                 Traceback (most recent call last)",
      "\u001b[0;32m<ipython-input-8-c502c5c8c73d>\u001b[0m in \u001b[0;36m<module>\u001b[0;34m\u001b[0m\n\u001b[0;32m----> 1\u001b[0;31m \u001b[0;36m3\u001b[0m \u001b[0;34m>\u001b[0m \u001b[0;34m'b'\u001b[0m\u001b[0;34m\u001b[0m\u001b[0;34m\u001b[0m\u001b[0m\n\u001b[0m",
      "\u001b[0;31mTypeError\u001b[0m: '>' not supported between instances of 'int' and 'str'"
     ]
    }
   ],
   "source": [
    "3 > 'b'"
   ]
  },
  {
   "cell_type": "markdown",
   "id": "ethical-lancaster",
   "metadata": {},
   "source": [
    "Es ist im Allgemeinen unklar wie wir eine Zahl mit einem Buchstaben vergleichen sollen.\n",
    "Wir können selbstverständlich einen solchen Vergleich selbst definieren.\n",
    "Wir greifen hier etwas vor:"
   ]
  },
  {
   "cell_type": "code",
   "execution_count": 9,
   "id": "regional-profit",
   "metadata": {},
   "outputs": [
    {
     "data": {
      "text/plain": [
       "'b'"
      ]
     },
     "execution_count": 9,
     "metadata": {},
     "output_type": "execute_result"
    }
   ],
   "source": [
    "def get_key(value):\n",
    "    if type(value) == str:\n",
    "        return ord(value[0])\n",
    "    else:\n",
    "        return value\n",
    "\n",
    "max(3, 'b', key=get_key)"
   ]
  },
  {
   "cell_type": "markdown",
   "id": "federal-toddler",
   "metadata": {},
   "source": [
    "Was passiert hier?\n",
    "Wir definieren eine eigene Funktion ``get_key``.\n",
    "Diese transformiert den Wert, welchen wir vergleichen wollen, in einen anderen Wert.\n",
    "Ist der Wert eine Zeichenkette, so transformieren wir diese in eine ganze Zahl (ihren ASCII-Code).\n",
    "Andernfalls geben wir den Wert zurück (keine Transformation).\n",
    "\n",
    "Wir sagen der Funktion ``max`` Sie solle doch bitte vor jedem Vergleich die zu vergleichenden Werte durch unsere Funktion ``get_key`` transformieren.\n",
    "Was also passiert ist das ``max``"
   ]
  },
  {
   "cell_type": "code",
   "execution_count": 10,
   "id": "convertible-paris",
   "metadata": {},
   "outputs": [
    {
     "data": {
      "text/plain": [
       "False"
      ]
     },
     "execution_count": 10,
     "metadata": {},
     "output_type": "execute_result"
    }
   ],
   "source": [
    "get_key(3) > get_key('b')"
   ]
  },
  {
   "cell_type": "markdown",
   "id": "daily-ethiopia",
   "metadata": {},
   "source": [
    "ausführt, also"
   ]
  },
  {
   "cell_type": "code",
   "execution_count": 11,
   "id": "canadian-graduation",
   "metadata": {},
   "outputs": [
    {
     "data": {
      "text/plain": [
       "False"
      ]
     },
     "execution_count": 11,
     "metadata": {},
     "output_type": "execute_result"
    }
   ],
   "source": [
    "3 > ord('b')"
   ]
  },
  {
   "cell_type": "markdown",
   "id": "narrative-volume",
   "metadata": {},
   "source": [
    "und ``ord('b')`` ergibt ``98``.\n",
    "Der Rückgabewert ist eine Zeichenkette ``str``.\n",
    "Rufen wir allerdings folgenden Code auf"
   ]
  },
  {
   "cell_type": "code",
   "execution_count": 12,
   "id": "ignored-welding",
   "metadata": {},
   "outputs": [
    {
     "data": {
      "text/plain": [
       "100"
      ]
     },
     "execution_count": 12,
     "metadata": {},
     "output_type": "execute_result"
    }
   ],
   "source": [
    "def get_key(value):\n",
    "    if type(value) == str:\n",
    "        return ord(value[0])\n",
    "    else:\n",
    "        return value\n",
    "\n",
    "max(100, 'b', key=get_key)"
   ]
  },
  {
   "cell_type": "markdown",
   "id": "ultimate-banking",
   "metadata": {},
   "source": [
    "so ist der Rückgabewert eine ganze Zahl ``int``.\n",
    "Auch das ist in vielen anderen Sprachen anders.\n",
    "In ``Java``, ``C/C++`` ist der Rückgabewert einer Funktion immer vom gleichen Datentyp, denn diese Sprachen sind *statisch getypt* wohingegen ``Python`` oder auch ``JavaScript`` *dynamisch getypt* sind."
   ]
  }
 ],
 "metadata": {
  "jupytext": {
   "formats": "md:myst",
   "text_representation": {
    "extension": ".md",
    "format_name": "myst"
   }
  },
  "kernelspec": {
   "display_name": "Python 3",
   "language": "python",
   "name": "python3"
  },
  "language_info": {
   "codemirror_mode": {
    "name": "ipython",
    "version": 3
   },
   "file_extension": ".py",
   "mimetype": "text/x-python",
   "name": "python",
   "nbconvert_exporter": "python",
   "pygments_lexer": "ipython3",
   "version": "3.9.6"
  },
  "source_map": [
   11,
   32,
   37,
   41,
   46,
   50,
   55,
   60,
   62,
   70,
   72,
   76,
   78,
   87,
   92,
   104,
   109,
   115,
   123,
   134,
   136,
   140,
   142,
   148,
   156
  ]
 },
 "nbformat": 4,
 "nbformat_minor": 5
}