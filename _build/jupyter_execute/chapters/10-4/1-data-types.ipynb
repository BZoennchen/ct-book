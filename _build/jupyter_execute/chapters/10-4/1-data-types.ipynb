{
 "cells": [
  {
   "cell_type": "markdown",
   "id": "domestic-ministry",
   "metadata": {},
   "source": [
    "# Pythons wichtigste built-in Datentypen\n",
    "\n",
    "## Ganze Zahlen - int\n",
    "\n",
    "TODO\n",
    "\n",
    "## Wahrheitswerte - bool\n",
    "\n",
    "TODO\n",
    "\n",
    "## Fließkommazahlen - float\n",
    "\n",
    "Computer sind gebaut um numerische Berechnungen auszuführen.\n",
    "\n",
    "## Zeichenketten - str\n",
    "\n",
    "TODO\n",
    "\n",
    "## Listen - list\n",
    "\n",
    "TODO\n",
    "\n",
    "## Tupel - tuple\n",
    "\n",
    "TODO\n",
    "\n",
    "## Mengen - set\n",
    "\n",
    "TODO\n",
    "\n",
    "## Wörterbücher - dict\n",
    "\n",
    "TODO"
   ]
  }
 ],
 "metadata": {
  "jupytext": {
   "formats": "md:myst",
   "text_representation": {
    "extension": ".md",
    "format_name": "myst"
   }
  },
  "kernelspec": {
   "display_name": "Python 3",
   "language": "python",
   "name": "python3"
  },
  "language_info": {
   "codemirror_mode": {
    "name": "ipython",
    "version": 3
   },
   "file_extension": ".py",
   "mimetype": "text/x-python",
   "name": "python",
   "nbconvert_exporter": "python",
   "pygments_lexer": "ipython3",
   "version": "3.9.6"
  },
  "source_map": [
   11
  ]
 },
 "nbformat": 4,
 "nbformat_minor": 5
}