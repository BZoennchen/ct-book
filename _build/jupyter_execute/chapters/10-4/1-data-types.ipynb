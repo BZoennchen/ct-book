{
 "cells": [
  {
   "cell_type": "markdown",
   "id": "lonely-explanation",
   "metadata": {},
   "source": [
    "(sec-working-with-data-types)=\n",
    "# Pythons Datentypen\n",
    "\n",
    "Beginnen wir mit der Praxis und sehen uns an welche Datentypen uns ``Python`` bietet und was wir mit diesen anfangen können.\n",
    "Die von ``Python`` vorab definierten Datentypen nennt man *built-in Datentypen*.\n",
    "Wir werden in diesem Abschnitt nicht alle *built-in Datentypen* besprechen, sondern jene mit denen Sie die meiste Zeit zu tun haben.\n",
    "Eine vollständige Liste der Datentypen finden Sie in Abschnitt [Built-in Datentypen](sec-built-in-data-types).\n",
    "\n",
    "Wir können die *built-in Datentypen* in weitere zwei Kategorien zerteilen:\n",
    "\n",
    "1. *Atomare Datentypen*, also Datentypen die sich auf einen einzelnen Wert beziehen und\n",
    "2. *Zusammengesetzt Datentypen*\n",
    "\n",
    "Haben Sie bereits Programmiererfahrung werden Sie *atomare Datentypen* als *primitive Datentypen* wahrnehmen, doch streng genommen gibt es in ``Python`` keine primitiven Datentypen.\n",
    "Dennoch verhalten sich *atomare Datentypen* wie *primitive Datentypen*.\n",
    "\n",
    "*Atomare Datentypen* sind: Ganze Zahlen ``int``, Wahrheitswerte ``bool`` und Fließkommazahlen.\n",
    "*Zusammengesetzte Datentypen* sind: Zeichenketten ``str``, Listen ``list``, Tupel ``tuple``, Mengen ``set`` und Wörterbücher ``dict``.\n",
    "\n",
    "## Atomare Datentypen \n",
    "\n",
    "Eine wesentlich Eigenschaft von *atomare Datentypen* ist, dass der **Wert** einer Variable *atomare Datentyps* unverändert im Speicher ist.\n",
    "Wird der **Wert** von keiner Variablen mehr adressiert, wird er zwar gelöscht um den Speicher wieder freizugeben, doch kann er nicht verändert werden solange eine Variable den Wert noch adressiert.\n",
    "Wir haben dieses Phänomen bereits im Abschnitt [Variablen](sec-variables) beobachtet.\n",
    "Wir hatten festgehalten, dass Veränderungen der einen Variablen haben keinen Effekt auf die **Adresse** bzw. *Identität id anderer Variablen.\n",
    "Für *atomare Datentypen* gilt noch mehr.\n",
    "Ändern wir den **Wert** einer Variable vom Typ ``int``, ``bool`` oder ``float``, so kann diese Änderung nicht den **Wert** einer anderen Variablen verändern:"
   ]
  },
  {
   "cell_type": "code",
   "execution_count": 1,
   "id": "steady-knock",
   "metadata": {},
   "outputs": [
    {
     "name": "stdout",
     "output_type": "stream",
     "text": [
      "value of x = 12313\n",
      "id of x = 4397493232\n",
      "value of z = 12313\n",
      "id of z = 4397493232\n",
      "change value of x\n",
      "value of x = 11341\n",
      "id of x = 4397494000\n",
      "value of z = 12313\n",
      "id of z = 4397493232\n"
     ]
    }
   ],
   "source": [
    "x = 12313\n",
    "z = x\n",
    "print(f'value of x = {x}')\n",
    "print(f'id of x = {id(x)}')\n",
    "\n",
    "print(f'value of z = {z}')\n",
    "print(f'id of z = {id(z)}')\n",
    "print('change value of x')\n",
    "x = 11341\n",
    "print(f'value of x = {x}')\n",
    "print(f'id of x = {id(x)}')\n",
    "\n",
    "print(f'value of z = {z}')\n",
    "print(f'id of z = {id(z)}')"
   ]
  },
  {
   "cell_type": "markdown",
   "id": "incorporate-romance",
   "metadata": {},
   "source": [
    "*Atomare Datentypen* bestehen nur aus einem *atomaren* Wert, den wir nicht weiter zerteilen können.\n",
    "\n",
    "## Zusammengesetzte Datentypen\n",
    "\n",
    "Zusammengesetzte Datentypen oder auch Datenstrukturen bestehen hingegen aus mehreren Werten.\n",
    "Sie strukturieren diese Werte.\n",
    "\n",
    "Anders als bei *atomaren Datentypen* lassen sich diese strukturierten Werte ändern.\n",
    "Nehmen wir einmal an eine Datenstruktur enthält ausschließlich ganze Zahlen ``int``.\n",
    "Verändern wir nun eine dieser Zahlen wird der **Wert** im Speicher der diese Zahl repräsentiert nicht verändert -- es ist ja ein *atomarer Datentyp*!\n",
    "**Aber** es wird ein neuer Wert in den Speicher geschrieben und die Datenstruktur wird so manipuliert, dass Sie nun auf diesen neuen Wert zeigt.\n",
    "\n",
    "Lassen Sie uns das noch einmal an einem Beispiel testen.\n",
    "Wir wählen als Datenstruktur eine Liste ``list`` aus Zahlen."
   ]
  },
  {
   "cell_type": "code",
   "execution_count": 2,
   "id": "competitive-trout",
   "metadata": {},
   "outputs": [
    {
     "name": "stdout",
     "output_type": "stream",
     "text": [
      "value of numbers = [1, 2, 3, 4, 5]\n",
      "id of numbers = 4397965952\n",
      "value of numbers[2] = 3\n",
      "id of numbers[2] = 4360128880\n",
      "change value of numbers[2]\n",
      "value of numbers = [1, 2, -20, 4, 5]\n",
      "id of numbers = 4397965952\n",
      "value of numbers[2] = -20\n",
      "id of numbers[2] = 4397493360\n"
     ]
    }
   ],
   "source": [
    "numbers = [1, 2, 3, 4, 5]\n",
    "print(f'value of numbers = {numbers}')\n",
    "print(f'id of numbers = {id(numbers)}')\n",
    "\n",
    "print(f'value of numbers[2] = {numbers[2]}')\n",
    "print(f'id of numbers[2] = {id(numbers[2])}')\n",
    "print('change value of numbers[2]')\n",
    "\n",
    "numbers[2] = -20\n",
    "\n",
    "print(f'value of numbers = {numbers}')\n",
    "print(f'id of numbers = {id(numbers)}')\n",
    "print(f'value of numbers[2] = {numbers[2]}')\n",
    "print(f'id of numbers[2] = {id(numbers[2])}')"
   ]
  },
  {
   "cell_type": "markdown",
   "id": "acting-count",
   "metadata": {},
   "source": [
    "Im obigen Code erstellen wir eine Liste, welche die Zahlen 1 bis 5 enthält.\n",
    "Dann verändern wir das zweite Element der Liste (eine Liste startet mit dem 0-ten Element).\n",
    "Die **Adresse** der *Variable* ``numbers`` ändert sich bei diesem Vorgang nicht!\n",
    "Allerdings ändert sich die Adresse des Elements ``numbers[2]`` und der **Wert** von ``numbers``.\n",
    "\n",
    "Datenstrukturen sind Behälter die andere Daten aufnehmen können, ähnlich wie ein Schließfächer, Ordner oder Rucksäcke.\n",
    "Nehmen wir als Analogie Schließfächer aus der echten Welt.\n",
    "Stellen wir uns vor, der Platz in einem Schließfach wäre ein Teil des Speicherplatzes, welches unsere Liste benötigt.\n",
    "Alle Schließfächer als ganzes benötigen so viel Speicher wie unsere Liste.\n",
    "Was befindet sich nun in unseren Schließfächern?\n",
    "Es sind **nicht** die Objekte/Werte selbst sondern die **Adresse** der Objekte/Werte.\n",
    "Quasi ein Zettel auf dem der Hinweis steht, wo wir das Objekt was zu jenem Schließfach gehört finden.\n",
    "Oder eine Schnur die von dem Schließfach auf das Objekt verweist.\n",
    "\n",
    "```{figure} ../../figs/python-tutorial/datatypes/list.png\n",
    "---\n",
    "width: 600px\n",
    "name: fig-data-type-list\n",
    "---\n",
    "Die Liste aus unsrem obigen Beispiel bevor wir den Wert ``3`` auf ``-20`` gesetzt haben.\n",
    "```\n",
    "\n",
    "Ändern wir den Wert eines Listenelements, ändern wir diesen Hinweis!\n",
    "\n",
    "```{figure} ../../figs/python-tutorial/datatypes/list-2.png\n",
    "---\n",
    "width: 600px\n",
    "name: fig-data-type-list-2\n",
    "---\n",
    "Die Liste aus unsrem obigen Beispiel nachdem wir den Wert ``3`` auf ``-20`` gesetzt haben.\n",
    "```\n",
    "\n",
    "Um dieses Konzept besser zu verstehen und herauszufinden wie sich *atomare* wich auch *zusammengesetzt Datentypen* verhalten hilft oft nur eins: Ausprobieren!\n",
    "\n",
    "## Ganze Zahlen - int\n",
    "\n",
    "Ganze Zahlen ``int`` ist ein *atomarer Datentyp* und verhält sich so wie wir es erwarten.\n",
    "\n",
    "Falls Sie bereits Programmierkenntnisse so gibt es in ``Python`` eine Besonderheit: ganze Zahlen können nicht überlaufen.\n",
    "Anders als Fließkommazahlen benötigen ganze Zahlen ``int`` in ``Python`` eine Variable Anzahl an Bits.\n",
    "Anders ausgedrückt: Nicht jede Zahl benötigt die gleiche Anzahl an Bits im Speicher!\n",
    "Solange Ihr Speicher nicht komplett belegt ist, können Sie in ``Python`` somit mit sehr großen ganzen Zahlen rechnen."
   ]
  },
  {
   "cell_type": "code",
   "execution_count": 3,
   "id": "grand-sending",
   "metadata": {},
   "outputs": [
    {
     "name": "stdout",
     "output_type": "stream",
     "text": [
      "<class 'int'>\n",
      "10000000000000000000000000000000000000000000000000000000000000000000000000000000000000000000000000000\n"
     ]
    }
   ],
   "source": [
    "large_number = 10**100\n",
    "print(type(large_number))\n",
    "print(large_number)"
   ]
  },
  {
   "cell_type": "markdown",
   "id": "available-antenna",
   "metadata": {},
   "source": [
    "Da wir bei mathematischen Operationen wie ``+``, ``-``, ``*``, ``/``, ``//`` und ``**`` ganze Zahlen ``int`` und Fließkommazahlen ``float`` vermischen können, müssen wir darauf achten welcher Datentyp am Ende herauskommt.\n",
    "Sobald eine Fließkommazahl teil der Berechnung ist, ist das Ergebnis vom Typ ``float``."
   ]
  },
  {
   "cell_type": "code",
   "execution_count": 4,
   "id": "laughing-rolling",
   "metadata": {},
   "outputs": [
    {
     "name": "stdout",
     "output_type": "stream",
     "text": [
      "<class 'float'>\n",
      "3.0\n"
     ]
    }
   ],
   "source": [
    "x = 3 * 1.0     # int * float -> float   \n",
    "print(type(x))\n",
    "print(x)"
   ]
  },
  {
   "cell_type": "code",
   "execution_count": 5,
   "id": "theoretical-respect",
   "metadata": {},
   "outputs": [
    {
     "name": "stdout",
     "output_type": "stream",
     "text": [
      "<class 'float'>\n",
      "1e+100\n"
     ]
    }
   ],
   "source": [
    "large_number = 10.0**100\n",
    "print(type(large_number))\n",
    "print(large_number)"
   ]
  },
  {
   "cell_type": "markdown",
   "id": "determined-antibody",
   "metadata": {},
   "source": [
    "Auch bei der ganzzahligen Division ``//`` erhalten wir als Datentyp eine Fließkommazahl:"
   ]
  },
  {
   "cell_type": "code",
   "execution_count": 6,
   "id": "proprietary-mission",
   "metadata": {},
   "outputs": [
    {
     "name": "stdout",
     "output_type": "stream",
     "text": [
      "<class 'float'>\n",
      "1.0\n"
     ]
    }
   ],
   "source": [
    "x = 3.0 // 2     # float // int -> float   \n",
    "print(type(x))\n",
    "print(x)"
   ]
  },
  {
   "cell_type": "code",
   "execution_count": 7,
   "id": "ideal-edward",
   "metadata": {},
   "outputs": [
    {
     "name": "stdout",
     "output_type": "stream",
     "text": [
      "<class 'float'>\n",
      "1.0\n"
     ]
    }
   ],
   "source": [
    "x = 3 // 2.0     # int // float -> float   \n",
    "print(type(x))\n",
    "print(x)"
   ]
  },
  {
   "cell_type": "code",
   "execution_count": 8,
   "id": "communist-andrews",
   "metadata": {},
   "outputs": [
    {
     "name": "stdout",
     "output_type": "stream",
     "text": [
      "<class 'int'>\n",
      "1\n"
     ]
    }
   ],
   "source": [
    "x = 3 // 2     # int // int -> int   \n",
    "print(type(x))\n",
    "print(x)"
   ]
  },
  {
   "cell_type": "markdown",
   "id": "disabled-reflection",
   "metadata": {},
   "source": [
    "## Fließkommazahlen - float\n",
    "\n",
    "Im Gegensatz zu ganzen Zahlen benötigen Fließkommazahlen immer die gleiche Anzahl an Bits.\n",
    "Wie ist es unter diesen Bedingungen möglich Zahlen darzustellen deren absoluter Wert sehr verschieden ist.\n",
    "Zum Beispiel können wir problemlos die Zahl $0.0000000001$ und die Zahl $10000000.0$ als Fließkommazahl definieren:"
   ]
  },
  {
   "cell_type": "code",
   "execution_count": 9,
   "id": "adopted-neighbor",
   "metadata": {},
   "outputs": [
    {
     "name": "stdout",
     "output_type": "stream",
     "text": [
      "1e-10\n",
      "10000000.0\n"
     ]
    }
   ],
   "source": [
    "small_float = 0.0000000001\n",
    "large_float = 10000000.0\n",
    "print(small_float)\n",
    "print(large_float)"
   ]
  },
  {
   "cell_type": "markdown",
   "id": "academic-celtic",
   "metadata": {},
   "source": [
    "Physiker kennen dieses Problem.\n",
    "Sie möchten ebenfalls einen riesigen Zahlenbereich kompakt notieren können und haben deshalb die wissenschaftliche Notation eingeführt.\n",
    "Fließkommazahlen sind aus dieser Notation entstanden.\n",
    "In dieser Notation wird aus $10000000.0 = 1.0 \\cdot 10^7$ und aus $0.0000000001 = 1.0 \\cdot 10^{-10}$.\n",
    "\n",
    "Soweit so gut.\n",
    "Was passiert aber wenn jede Ziffer von 0 verschieden ist und sich endlos fortsetzt z.B. $\\pi = 3.14159265359 \\ldots$ oder auch $1/3 = 0.33333333333 \\ldots$?\n",
    "In diesem Fall \n",
    "\n",
    "## Wahrheitswerte - bool\n",
    "\n",
    "TODO\n",
    "\n",
    "## Zeichenketten - str\n",
    "\n",
    "TODO\n",
    "\n",
    "## Listen - list\n",
    "\n",
    "TODO\n",
    "\n",
    "## Tupel - tuple\n",
    "\n",
    "TODO\n",
    "\n",
    "## Mengen - set\n",
    "\n",
    "TODO\n",
    "\n",
    "## Wörterbücher - dict\n",
    "\n",
    "TODO"
   ]
  }
 ],
 "metadata": {
  "jupytext": {
   "formats": "md:myst",
   "text_representation": {
    "extension": ".md",
    "format_name": "myst"
   }
  },
  "kernelspec": {
   "display_name": "Python 3",
   "language": "python",
   "name": "python3"
  },
  "language_info": {
   "codemirror_mode": {
    "name": "ipython",
    "version": 3
   },
   "file_extension": ".py",
   "mimetype": "text/x-python",
   "name": "python",
   "nbconvert_exporter": "python",
   "pygments_lexer": "ipython3",
   "version": "3.9.6"
  },
  "source_map": [
   11,
   41,
   56,
   73,
   88,
   133,
   137,
   142,
   148,
   152,
   156,
   162,
   168,
   172,
   180,
   185
  ]
 },
 "nbformat": 4,
 "nbformat_minor": 5
}