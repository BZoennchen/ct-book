{
 "cells": [
  {
   "cell_type": "markdown",
   "id": "demographic-moscow",
   "metadata": {},
   "source": [
    "(sec-working-with-data-types)=\n",
    "# Pythons Datentypen\n",
    "\n",
    "Beginnen wir mit der Praxis und sehen uns an welche Datentypen uns ``Python`` bietet und was wir mit diesen anfangen können.\n",
    "Die von ``Python`` vorab definierten Datentypen nennt man *built-in Datentypen*.\n",
    "Wir werden in diesem Abschnitt nicht alle *built-in Datentypen* besprechen, sondern jene mit denen Sie die meiste Zeit zu tun haben.\n",
    "Eine vollständige Liste der Datentypen finden Sie im Abschnitt [Built-in Datentypen](sec-built-in-data-types).\n",
    "\n",
    "Wir können die *built-in Datentypen* in weitere zwei Kategorien zerteilen:\n",
    "\n",
    "1. *Atomare Datentypen*, also Datentypen die sich auf einen einzelnen Wert beziehen und\n",
    "2. *Zusammengesetzt Datentypen*\n",
    "\n",
    "Haben Sie bereits Programmiererfahrung, so werden Sie *atomare Datentypen* als *primitive Datentypen* wahrnehmen, doch streng genommen gibt es in ``Python`` keine primitiven Datentypen.\n",
    "Dennoch verhalten sich *atomare Datentypen* ähnlich wie *primitive Datentypen*.\n",
    "\n",
    "*Atomare Datentypen* sind: Ganze Zahlen ``int``, Wahrheitswerte ``bool`` und Fließkommazahlen.\n",
    "*Zusammengesetzte Datentypen* sind: Zeichenketten ``str``, Listen ``list``, Tupel ``tuple``, Mengen ``set`` und Wörterbücher ``dict``.\n",
    "\n",
    "Den Datentyp einer Variable oder eines Wertes erfragen Sie mit der *built-in* Funktion ``type``."
   ]
  },
  {
   "cell_type": "code",
   "execution_count": 1,
   "id": "caroline-station",
   "metadata": {},
   "outputs": [
    {
     "name": "stdout",
     "output_type": "stream",
     "text": [
      "<class 'int'>\n",
      "<class 'str'>\n",
      "<class 'float'>\n"
     ]
    }
   ],
   "source": [
    "x = 5\n",
    "text = 'Hello'\n",
    "print(type(x))\n",
    "print(type(text))\n",
    "print(type(3.1))"
   ]
  },
  {
   "cell_type": "markdown",
   "id": "brave-special",
   "metadata": {},
   "source": [
    "## Atomare Datentypen \n",
    "\n",
    "Eine wesentlich Eigenschaft von *atomaren Datentypen* ist, dass der **Wert** einer Variable eines *atomaren Datentyps* **unverändert** im Speicher liegt.\n",
    "Wird der **Wert** von keiner Variablen mehr adressiert, wird er zwar gelöscht, um den Speicher wieder freizugeben, doch kann er nicht verändert werden solange eine Variable den Wert noch adressiert.\n",
    "\n",
    "Wir haben dieses Phänomen bereits im Abschnitt [Variablen](sec-variables) beobachtet.\n",
    "Wir hatten festgehalten, dass Veränderungen der einen Variablen keinen Effekt auf die **Adresse** bzw. *Identität* ``id`` anderer Variablen haben.\n",
    "Für *atomare Datentypen* gilt noch mehr.\n",
    "Ändern wir den **Wert** einer Variable vom Typ ``int``, ``bool`` oder ``float``, so kann diese Änderung nicht den **Wert** einer anderen Variablen verändern:"
   ]
  },
  {
   "cell_type": "code",
   "execution_count": 2,
   "id": "clinical-syndicate",
   "metadata": {},
   "outputs": [
    {
     "name": "stdout",
     "output_type": "stream",
     "text": [
      "value of x = 12313\n",
      "id of x = 4528151504\n",
      "value of z = 12313\n",
      "id of z = 4528151504\n",
      "change value of x\n",
      "value of x = 11341\n",
      "id of x = 4528151728\n",
      "value of z = 12313\n",
      "id of z = 4528151504\n"
     ]
    }
   ],
   "source": [
    "x = 12313\n",
    "z = x\n",
    "print(f'value of x = {x}')\n",
    "print(f'id of x = {id(x)}')\n",
    "\n",
    "print(f'value of z = {z}')\n",
    "print(f'id of z = {id(z)}')\n",
    "print('change value of x')\n",
    "x = 11341\n",
    "print(f'value of x = {x}')\n",
    "print(f'id of x = {id(x)}')\n",
    "\n",
    "print(f'value of z = {z}')\n",
    "print(f'id of z = {id(z)}')"
   ]
  },
  {
   "cell_type": "markdown",
   "id": "looking-syntax",
   "metadata": {},
   "source": [
    "*Atomare Datentypen* bestehen nur aus einem *atomaren* **Wert**, den wir nicht weiter zerteilen können.\n",
    "\n",
    "## Zusammengesetzte Datentypen\n",
    "\n",
    "*Zusammengesetzte Datentypen* oder auch *Datenstrukturen* bestehen hingegen aus mehreren Werten.\n",
    "Sie strukturieren diese Werte.\n",
    "\n",
    "Anders als bei *atomaren Datentypen* lässt sich der Wert einer Datenstruktur verändern.\n",
    "Damit ist gemeint, dass es sich verändern lässt, was die Datenstruktur enthält.\n",
    "\n",
    "Nehmen wir einmal an, eine Datenstruktur enthält ausschließlich ganze Zahlen ``int``.\n",
    "Verändern wir nun eine dieser Zahlen, so wird der **Wert** im Speicher, der diese Zahl repräsentiert, nicht verändert -- es ist ja ein *atomarer Datentyp*!\n",
    "**Aber** es wird ein neuer Wert in den Speicher geschrieben und die Datenstruktur wird so manipuliert, dass Sie nun auf diesen neuen Wert zeigt.\n",
    "\n",
    "Im Abschnitt [Wie funktioniert eine Liste](sec-list-and-memory) sehen wir uns an was genau im Speicher vor sich geht, wenn wir mit Listen arbeiten.\n",
    "\n",
    "## Ganze Zahlen - int\n",
    "\n",
    "Ganze Zahlen ``int`` ist ein *atomarer Datentyp* und verhält sich so wie wir es erwarten.\n",
    "\n",
    "Falls Sie bereits Programmierkenntnisse besitzen, so gibt es in ``Python`` eine Besonderheit: Ganze Zahlen können nicht überlaufen.\n",
    "Anders als Fließkommazahlen benötigen ganze Zahlen ``int`` in ``Python`` eine variable Anzahl an Bits.\n",
    "Anders ausgedrückt: Nicht jede Zahl benötigt die gleiche Anzahl an Bits im Speicher!\n",
    "Solange Ihr Speicher nicht komplett belegt ist, können Sie in ``Python`` somit mit sehr großen ganzen Zahlen rechnen."
   ]
  },
  {
   "cell_type": "code",
   "execution_count": 3,
   "id": "minute-burst",
   "metadata": {},
   "outputs": [
    {
     "name": "stdout",
     "output_type": "stream",
     "text": [
      "<class 'int'>\n",
      "10000000000000000000000000000000000000000000000000000000000000000000000000000000000000000000000000000\n"
     ]
    }
   ],
   "source": [
    "large_number = 10**100\n",
    "print(type(large_number))\n",
    "print(large_number)"
   ]
  },
  {
   "cell_type": "markdown",
   "id": "pleased-choice",
   "metadata": {},
   "source": [
    "Da wir bei mathematischen Operationen wie ``+``, ``-``, ``*``, ``/``, ``//`` und ``**`` ganze Zahlen ``int`` und Fließkommazahlen ``float`` vermischen können, müssen wir darauf achten welcher Datentyp am Ende herauskommt.\n",
    "Sobald eine Fließkommazahl teil der Berechnung ist, ist das Ergebnis vom Typ ``float``."
   ]
  },
  {
   "cell_type": "code",
   "execution_count": 4,
   "id": "declared-category",
   "metadata": {},
   "outputs": [
    {
     "name": "stdout",
     "output_type": "stream",
     "text": [
      "<class 'float'>\n",
      "3.0\n"
     ]
    }
   ],
   "source": [
    "x = 3 * 1.0     # int * float -> float   \n",
    "print(type(x))\n",
    "print(x)"
   ]
  },
  {
   "cell_type": "code",
   "execution_count": 5,
   "id": "flush-updating",
   "metadata": {},
   "outputs": [
    {
     "name": "stdout",
     "output_type": "stream",
     "text": [
      "<class 'float'>\n",
      "1e+100\n"
     ]
    }
   ],
   "source": [
    "large_number = 10.0**100\n",
    "print(type(large_number))\n",
    "print(large_number)"
   ]
  },
  {
   "cell_type": "markdown",
   "id": "powerful-being",
   "metadata": {},
   "source": [
    "Auch bei der ganzzahligen Division ``//`` erhalten wir als Datentyp eine Fließkommazahl sofern eine Fließkommazahl bei der Operation teilnimmt:"
   ]
  },
  {
   "cell_type": "code",
   "execution_count": 6,
   "id": "graphic-carol",
   "metadata": {},
   "outputs": [
    {
     "name": "stdout",
     "output_type": "stream",
     "text": [
      "<class 'float'>\n",
      "1.0\n"
     ]
    }
   ],
   "source": [
    "x = 3.0 // 2     # float // int -> float   \n",
    "print(type(x))\n",
    "print(x)"
   ]
  },
  {
   "cell_type": "code",
   "execution_count": 7,
   "id": "duplicate-embassy",
   "metadata": {},
   "outputs": [
    {
     "name": "stdout",
     "output_type": "stream",
     "text": [
      "<class 'float'>\n",
      "1.0\n"
     ]
    }
   ],
   "source": [
    "x = 3 // 2.0     # int // float -> float   \n",
    "print(type(x))\n",
    "print(x)"
   ]
  },
  {
   "cell_type": "code",
   "execution_count": 8,
   "id": "informal-white",
   "metadata": {},
   "outputs": [
    {
     "name": "stdout",
     "output_type": "stream",
     "text": [
      "<class 'int'>\n",
      "1\n"
     ]
    }
   ],
   "source": [
    "x = 3 // 2     # int // int -> int   \n",
    "print(type(x))\n",
    "print(x)"
   ]
  },
  {
   "cell_type": "markdown",
   "id": "crazy-turkey",
   "metadata": {},
   "source": [
    "## Fließkommazahlen - float\n",
    "\n",
    "Zunächst ist zu sagen, dass Sie für Fließkommazahlen nicht das Komma ``,`` sondern den (englischsprachigen) Punkt ``.`` verwenden.\n",
    "\n",
    "Im Gegensatz zu ganzen Zahlen benötigen Fließkommazahlen immer die gleiche Anzahl an Bits.\n",
    "Da stellt sich die Frage: Wie ist es unter diesen Bedingungen möglich Zahlen darzustellen deren absoluter Wert sehr verschieden ist?\n",
    "Zum Beispiel können wir problemlos die Zahl $0.0000000001$ und die Zahl $10000000.0$ als Fließkommazahl definieren:"
   ]
  },
  {
   "cell_type": "code",
   "execution_count": 9,
   "id": "neither-furniture",
   "metadata": {},
   "outputs": [
    {
     "name": "stdout",
     "output_type": "stream",
     "text": [
      "1e-10\n",
      "10000000.0\n"
     ]
    }
   ],
   "source": [
    "small_float = 0.0000000001\n",
    "large_float = 10000000.0\n",
    "print(small_float)\n",
    "print(large_float)"
   ]
  },
  {
   "cell_type": "markdown",
   "id": "uniform-discipline",
   "metadata": {},
   "source": [
    "``1e-10`` bedeutet $1 \\cdot 10^{-10}$.\n",
    "Diese Darstellung liefert uns bereits die Antwort.\n",
    "Physiker\\*innen kennen das Problem der Zahlen aus sehr unterschiedlichen Skalen.\n",
    "Die Lichtgeschwindigkeit in km/h ist eine sehr große Zahl, wohingegen die Ladung eines Elektrons in Coulomb eine sehr kleine Zahl ist.\n",
    "Physiker\\*innen möchten ebenfalls in einem riesigen Zahlenbereich rechnen und dabei Zahlen kompakt notieren können.\n",
    "Deshalb haben sie die wissenschaftliche Notation eingeführt.\n",
    "Fließkommazahlen sind aus dieser Notation entstanden.\n",
    "In dieser Notation schreiben wir $10000000.0$ als $0.1 \\cdot 10^8$ und aus $0.0000000001$ wird $0.1 \\cdot 10^{-9}$.\n",
    "\n",
    "Ohne zu sehr ins Detail zu gehen, besteht eine Fließkommazahl ``float`` aus Bits für die einzelnen Teile dieser Schreibweise:\n",
    "\n",
    "+ das *Vorzeichen*, \n",
    "+ die *Mantisse* und \n",
    "+ den Exponenten.\n",
    "\n",
    "Für $0.1 \\cdot 10^8$ wäre das *Vorzeichen* gleich +, die *Mantisse* gleich 0.1 und der *Exponent* gleich 7.\n",
    "Da der Computer jedoch im Binärsystem rechnet, verwendet er als Basis die 2 anstatt die 10.\n",
    "\n",
    "Nehmen wir die Zahl \n",
    "\n",
    "$$0.875_{10} = 8 \\cdot 10^{-1} + 7 \\cdot 10^{-2} + 5 \\cdot 10^{-3}.$$\n",
    "\n",
    "Binär können wir die Zahl wie folgt ausdrücken:\n",
    "\n",
    "$$0.111_2 = 1 \\cdot 2^{-1} + 1 \\cdot 2^{-2} + 1 \\cdot 3^{-3}.$$\n",
    "\n",
    "Soweit so gut.\n",
    "Was passiert aber wenn jede Ziffer von 0 verschieden ist und sich endlos fortsetzt z.B. $\\pi = 3.14159265359 \\ldots$ oder auch $1/3 = 0.33333333333 \\ldots$?\n",
    "In diesem Fall wird die Zahl abgeschnitten sobald keine Bits mehr zur Verfügung stehen.\n",
    "Demnach ist eine Fließkommazahl immer nur eine gute **Annäherung** des echten Werts!!!\n",
    "\n",
    "Weshalb folgende Rechnung nicht 0.3 ergibt erklärt sich durch diese **Annäherung** in Kombination mit der Binärdarstellung!"
   ]
  },
  {
   "cell_type": "code",
   "execution_count": 10,
   "id": "ready-public",
   "metadata": {},
   "outputs": [
    {
     "data": {
      "text/plain": [
       "0.30000000000000004"
      ]
     },
     "execution_count": 10,
     "metadata": {},
     "output_type": "execute_result"
    }
   ],
   "source": [
    "0.2 + 0.1"
   ]
  },
  {
   "cell_type": "markdown",
   "id": "alive-corporation",
   "metadata": {},
   "source": [
    "Denn \n",
    "\n",
    "$$0.1_{10} = 0.0001100110011 \\ldots_2.$$\n",
    "\n",
    "Dieses Verhalten kann nicht nur zu kleinen Ungenauigkeiten, sondern zu großen Fehlern führen.\n",
    "Folgender Code subtrahiert 20 mal $1.0 \\cdot 10^{-14}$ von $1.0 \\cdot 10^10$.\n",
    "Doch verändern diese Subtraktionen ``x`` nicht."
   ]
  },
  {
   "cell_type": "code",
   "execution_count": 11,
   "id": "sticky-plenty",
   "metadata": {},
   "outputs": [
    {
     "name": "stdout",
     "output_type": "stream",
     "text": [
      "epsilon = 1e-14\n",
      "x = 10000000000.0 before subtraction\n",
      "x = 10000000000.0 after subtraction\n"
     ]
    }
   ],
   "source": [
    "x = 1e10\n",
    "epsilon = 1e-14\n",
    "\n",
    "print(f'epsilon = {epsilon}')\n",
    "print(f'x = {x} before subtraction')\n",
    "\n",
    "for i in range(20):\n",
    "  x = x - epsilon\n",
    "\n",
    "print(f'x = {x} after subtraction')"
   ]
  },
  {
   "cell_type": "markdown",
   "id": "industrial-embassy",
   "metadata": {},
   "source": [
    "Das zeigt, dass der (akkumulierte) Fehler theoretisch unendlich groß werden kann.\n",
    "Besonders kritisch ist die Subtraktion und Addition.\n",
    "Die Multiplikation und Division ist für Fließkommazahlen sehr viel ungefährlicher."
   ]
  },
  {
   "cell_type": "code",
   "execution_count": 12,
   "id": "roman-direction",
   "metadata": {},
   "outputs": [
    {
     "name": "stdout",
     "output_type": "stream",
     "text": [
      "epsilon = 1e-14\n",
      "x = 10000000000.0 before multiplication\n",
      "x = 0.0001 after multiplication\n"
     ]
    }
   ],
   "source": [
    "x = 1e10\n",
    "epsilon = 1e-14\n",
    "\n",
    "print(f'epsilon = {epsilon}')\n",
    "print(f'x = {x} before multiplication')\n",
    "x = x * epsilon\n",
    "print(f'x = {x} after multiplication')"
   ]
  },
  {
   "cell_type": "markdown",
   "id": "fluid-division",
   "metadata": {},
   "source": [
    "Obiger Code liefert das korrekte Ergebnis von: \n",
    "\n",
    "$$(1.0 \\cdot 10^{10}) \\cdot (1.0 \\cdot 10^{-14}) = 1.0 \\cdot 10^{10-14} = 1.0 \\cdot 10^{-4} = 0.0001.$$\n",
    "\n",
    "## Wahrheitswerte - bool\n",
    "\n",
    "Ein Wahrheitswert ``bool`` kann, genau wie ein [Bit](def-bit) einen von zwei Wahrheitswerten ``True`` (1) oder ``False`` (0) annehmen.\n",
    "``True`` bedeutet wahr und ``False`` falsch.\n",
    "Sehr selten verwenden wir explizit ``True`` oder ``False`` vielmehr wird ein logischer Ausdruck, nach *Auswertung* entweder ``True`` oder ``False`` ist."
   ]
  },
  {
   "cell_type": "code",
   "execution_count": 13,
   "id": "continent-aluminum",
   "metadata": {},
   "outputs": [
    {
     "name": "stdout",
     "output_type": "stream",
     "text": [
      "True\n"
     ]
    }
   ],
   "source": [
    "x = 9\n",
    "is_lesser_than_10 = x < 10\n",
    "print(is_lesser_than_10)"
   ]
  },
  {
   "cell_type": "markdown",
   "id": "cooperative-bottle",
   "metadata": {},
   "source": [
    "In diesem Beispiel verwenden wir einen [Vergleichsoperator](sec-python-operator-compare), der den Ausdruck $x < 10$ zu ``True`` auswertet, da $x = 9 < 10$ gilt.\n",
    "*Boolsche* bzw. *logische Ausdrücke* lassen sich durch [logische Operatoren](sec-logic-expressions) verknüpfen.\n",
    "\n",
    "*Boolsche Ausdrücke* und damit Wahrheitswerte ``bool`` benötigen wir für die Steuerung unseres Programmablaufs.\n",
    "*Kontrollstrukturen* führen, je nach Auswertung eines *boolschen Ausdrucks*, unterschiedliche Code-Teile aus."
   ]
  },
  {
   "cell_type": "code",
   "execution_count": 14,
   "id": "worthy-separation",
   "metadata": {},
   "outputs": [
    {
     "name": "stdout",
     "output_type": "stream",
     "text": [
      "0 is less than 10\n",
      "1 is less than 10\n",
      "2 is less than 10\n",
      "3 is less than 10\n",
      "4 is less than 10\n",
      "5 is less than 10\n",
      "6 is less than 10\n",
      "7 is less than 10\n",
      "8 is less than 10\n",
      "9 is less than 10\n",
      "10 not is less than 10\n"
     ]
    }
   ],
   "source": [
    "for x in range(11):\n",
    "  if x < 10:      # is True if and only if x < 10\n",
    "    print(f'{x} is less than 10')\n",
    "  else:\n",
    "    print(f'{x} not is less than 10')"
   ]
  },
  {
   "cell_type": "markdown",
   "id": "favorite-estonia",
   "metadata": {},
   "source": [
    "## Listen - list\n",
    "\n",
    "Listen sind eine der wichtigsten *Datentypen* und zugleich einfachsten *Datenstrukturen* in ``Python``.\n",
    "Sobald Sie irgendetwas sinnvolles programmieren möchten, kommen Sie um die Liste kaum herum.\n",
    "Das Grundkonzept einer Liste ist einfach und doch so fundamental wichtig!\n",
    "\n",
    "Listen sind eng mit der Wiederholung und somit mit Schleifen verbunden.\n",
    "Auch wir können Schleifen an dieser Stelle nicht vermeiden, auch wenn wir sie noch nicht im Detail besprochen haben.\n",
    "\n",
    "Nehmen wir einmal an wir bekämen den Auftrag ein Programm zu schreiben, dass ``n`` ganze Zahlen aufaddiert, wobei wir weder ``n`` noch die Zahlen kennen.\n",
    "Zugegeben, das Programm ist nicht gerade interessant aber aller Anfang ist klein.\n",
    "Eine variable Anzahl an Zahlen lässt sich hervorragend durch eine *Liste* modellieren.\n",
    "Wir gehen also davon aus, dass wir eine Liste ``numbers`` bekommen und daraus die Summe berechnen müssen.\n",
    "Folgender Code löst die Aufgabe.\n",
    "``numbers`` ist eine Liste, welche zwei Zahlen (1 und 2) enthält."
   ]
  },
  {
   "cell_type": "code",
   "execution_count": 15,
   "id": "union-waterproof",
   "metadata": {},
   "outputs": [
    {
     "data": {
      "text/plain": [
       "3"
      ]
     },
     "execution_count": 15,
     "metadata": {},
     "output_type": "execute_result"
    }
   ],
   "source": [
    "numbers = [1, 2]\n",
    "\n",
    "result = 0\n",
    "for x in numbers:\n",
    "  result += x\n",
    "\n",
    "result"
   ]
  },
  {
   "cell_type": "markdown",
   "id": "vietnamese-whale",
   "metadata": {},
   "source": [
    "Der Code funktioniert auch noch wenn ``numbers`` mehr, weniger oder andere Zahlen enthält!\n",
    "Probieren Sie es aus.\n",
    "\n",
    "Wie alle Datenstrukturen in ``Python`` können Listen Werte mit unterschiedlichen Datentypen enthalten."
   ]
  },
  {
   "cell_type": "code",
   "execution_count": 16,
   "id": "authorized-cooling",
   "metadata": {},
   "outputs": [
    {
     "data": {
      "text/plain": [
       "[1, 2, 3, 'a', 'b', 'c', 1.0, 2.0, 3.0]"
      ]
     },
     "execution_count": 16,
     "metadata": {},
     "output_type": "execute_result"
    }
   ],
   "source": [
    "mylist = [1,2,3,'a','b','c',1.0,2.0,3.0]\n",
    "mylist"
   ]
  },
  {
   "cell_type": "markdown",
   "id": "numerous-supply",
   "metadata": {},
   "source": [
    "Listen können selbstverständlich andere Listen enthalten:"
   ]
  },
  {
   "cell_type": "code",
   "execution_count": 17,
   "id": "universal-sixth",
   "metadata": {},
   "outputs": [
    {
     "data": {
      "text/plain": [
       "[['a', 'b', 'c'], 2, 3, [1, 2, 3]]"
      ]
     },
     "execution_count": 17,
     "metadata": {},
     "output_type": "execute_result"
    }
   ],
   "source": [
    "mylist = [['a','b','c'], 2, 3, [1, 2, 3]]\n",
    "mylist"
   ]
  },
  {
   "cell_type": "markdown",
   "id": "internal-forge",
   "metadata": {},
   "source": [
    "### Erstellung\n",
    "\n",
    "Es gibt unterschiedliche Möglichkeiten eine Liste zu erzeugen.\n",
    "Wir können z.B. mit einer leeren Liste starten und diese füllen:"
   ]
  },
  {
   "cell_type": "code",
   "execution_count": 18,
   "id": "pleased-wisconsin",
   "metadata": {},
   "outputs": [],
   "source": [
    "numbers = []\n",
    "numbers.append(0)\n",
    "numbers.append(1)\n",
    "numbers.append(2)\n",
    "numbers.append(3)\n",
    "numbers.append(4)\n",
    "numbers.append(5)"
   ]
  },
  {
   "cell_type": "markdown",
   "id": "charged-prairie",
   "metadata": {},
   "source": [
    "oder kürzer"
   ]
  },
  {
   "cell_type": "code",
   "execution_count": 19,
   "id": "precious-induction",
   "metadata": {},
   "outputs": [
    {
     "data": {
      "text/plain": [
       "[0, 1, 2, 3, 4, 5]"
      ]
     },
     "execution_count": 19,
     "metadata": {},
     "output_type": "execute_result"
    }
   ],
   "source": [
    "numbers = []\n",
    "for i in range(6):\n",
    "  numbers.append(i)\n",
    "\n",
    "numbers"
   ]
  },
  {
   "cell_type": "markdown",
   "id": "hungarian-palmer",
   "metadata": {},
   "source": [
    "Oder wir starten mit einer vollen Liste."
   ]
  },
  {
   "cell_type": "code",
   "execution_count": 20,
   "id": "annoying-projector",
   "metadata": {},
   "outputs": [
    {
     "data": {
      "text/plain": [
       "[0, 1, 2, 3, 4, 5]"
      ]
     },
     "execution_count": 20,
     "metadata": {},
     "output_type": "execute_result"
    }
   ],
   "source": [
    "numbers = [0, 1, 2, 3, 4, 5]\n",
    "numbers"
   ]
  },
  {
   "cell_type": "markdown",
   "id": "lovely-puppy",
   "metadata": {},
   "source": [
    "Für Fälle in denen wir eine Liste aus einer anderen Sequenz generieren gibt es eine sehr kompakte Schreibweise.\n",
    "``range(10)`` ist eine sog. lazy Sequenz, dahinter steckt eine Funktion, die immer wieder aufgerufen wird und die Zahl die sie zurückgibt immer um eins erhöht.\n",
    "Wir können diese Sequenz in eine Liste packen:"
   ]
  },
  {
   "cell_type": "code",
   "execution_count": 21,
   "id": "complimentary-mayor",
   "metadata": {},
   "outputs": [
    {
     "data": {
      "text/plain": [
       "[0, 1, 2, 3, 4, 5, 6, 7, 8, 9]"
      ]
     },
     "execution_count": 21,
     "metadata": {},
     "output_type": "execute_result"
    }
   ],
   "source": [
    "numbers = [i for i in range(10)]\n",
    "numbers"
   ]
  },
  {
   "cell_type": "markdown",
   "id": "elder-table",
   "metadata": {},
   "source": [
    "oder noch kürzer:"
   ]
  },
  {
   "cell_type": "code",
   "execution_count": 22,
   "id": "incident-falls",
   "metadata": {},
   "outputs": [
    {
     "data": {
      "text/plain": [
       "[0, 1, 2, 3, 4, 5, 6, 7, 8, 9]"
      ]
     },
     "execution_count": 22,
     "metadata": {},
     "output_type": "execute_result"
    }
   ],
   "source": [
    "numbers = list(range(10))\n",
    "numbers"
   ]
  },
  {
   "cell_type": "markdown",
   "id": "flexible-certification",
   "metadata": {},
   "source": [
    "### Indexierung\n",
    "\n",
    "Wir können auf die Elemente einer Liste mit einem Index zugreifen.\n",
    "Dieser Index beginnt bei 0 und endet bei der Länge der Liste - 1, d.h. ``len(mylist) - 1``.\n",
    "``len(mylist)`` gibt eine natürliche Zahl (0 inklusive) zurück, welche die Länge der Liste ``mylist`` angibt."
   ]
  },
  {
   "cell_type": "code",
   "execution_count": 23,
   "id": "looking-supervision",
   "metadata": {},
   "outputs": [
    {
     "data": {
      "text/plain": [
       "9"
      ]
     },
     "execution_count": 23,
     "metadata": {},
     "output_type": "execute_result"
    }
   ],
   "source": [
    "mylist = [1,2,3,'a','b','c',1.0,2.0,3.0]\n",
    "len(mylist)"
   ]
  },
  {
   "cell_type": "markdown",
   "id": "fixed-plastic",
   "metadata": {},
   "source": [
    "In anderen Worten: Die Elemente einer Liste sind in aufsteigender Reihenfolge angeordnet.\n",
    "Jedes Element hat seinen Platz bzw. Index und kein Platz ist leer!"
   ]
  },
  {
   "cell_type": "code",
   "execution_count": 24,
   "id": "rough-duplicate",
   "metadata": {},
   "outputs": [
    {
     "name": "stdout",
     "output_type": "stream",
     "text": [
      "1\n",
      "3.0\n"
     ]
    }
   ],
   "source": [
    "print(mylist[0])\n",
    "print(mylist[len(mylist)-1])"
   ]
  },
  {
   "cell_type": "markdown",
   "id": "bright-consultancy",
   "metadata": {},
   "source": [
    "In ``Python`` können wir statt ``mylist[len(mylist)-1]``  auch ``mylist[-1]`` schreiben."
   ]
  },
  {
   "cell_type": "code",
   "execution_count": 25,
   "id": "distinguished-river",
   "metadata": {},
   "outputs": [
    {
     "name": "stdout",
     "output_type": "stream",
     "text": [
      "3.0\n",
      "3.0\n"
     ]
    }
   ],
   "source": [
    "print(mylist[len(mylist)-1])\n",
    "print(mylist[-1])"
   ]
  },
  {
   "cell_type": "markdown",
   "id": "rough-paraguay",
   "metadata": {},
   "source": [
    "``Python`` bietet eine angenehme und mächtige Syntax um einen Teil der Liste in eine neue Liste zu kopieren.\n",
    "Mit ``mylist[start:ende:i]`` nehmen wir jedes ``i``-te Element beginnend von ``start`` bis ``ende``.\n",
    "Dabei ist ``i`` optional und ist gleich ``1``, wenn es nicht angegeben wird.\n",
    "Bei diesem Operationen bleibt ``mylist`` unverändert."
   ]
  },
  {
   "cell_type": "code",
   "execution_count": 26,
   "id": "intelligent-china",
   "metadata": {},
   "outputs": [
    {
     "name": "stdout",
     "output_type": "stream",
     "text": [
      "[2, 'a', 'c', 2.0]\n",
      "[2, 3, 'a', 'b', 'c', 1.0, 2.0]\n",
      "[2, 3, 'a', 'b', 'c', 1.0, 2.0]\n",
      "[1, 2, 3, 'a', 'b', 'c', 1.0, 2.0, 3.0]\n"
     ]
    }
   ],
   "source": [
    "mylist = [1,2,3,'a','b','c',1.0,2.0,3.0]\n",
    "print(mylist[1:8:2])\n",
    "print(mylist[1:8:1])\n",
    "print(mylist[1:8])\n",
    "print(mylist)"
   ]
  },
  {
   "cell_type": "markdown",
   "id": "arranged-defense",
   "metadata": {},
   "source": [
    "Auch eine negative Indexierung ist erlaubt."
   ]
  },
  {
   "cell_type": "code",
   "execution_count": 27,
   "id": "broadband-announcement",
   "metadata": {},
   "outputs": [
    {
     "name": "stdout",
     "output_type": "stream",
     "text": [
      "[3.0, 1.0, 'b', 3]\n",
      "[1.0, 'b', 3]\n"
     ]
    }
   ],
   "source": [
    "mylist = [1,2,3,'a','b','c',1.0,2.0,3.0]\n",
    "print(mylist[8:1:-2])\n",
    "print(mylist[-3:-8:-2])"
   ]
  },
  {
   "cell_type": "markdown",
   "id": "destroyed-exchange",
   "metadata": {},
   "source": [
    "### Veränderung\n",
    "\n",
    "Anders als Tupel ``tuple`` sind Listen veränderbar, d.h. wir können Elemente löschen und hinzufügen."
   ]
  },
  {
   "cell_type": "code",
   "execution_count": 28,
   "id": "inclusive-brand",
   "metadata": {},
   "outputs": [
    {
     "name": "stdout",
     "output_type": "stream",
     "text": [
      "chars: ['a', 'b', 'c'] before append.\n",
      "chars: ['a', 'b', 'c', 'd'] before remove.\n",
      "chars: ['a', 'c', 'd'] after remove.\n"
     ]
    }
   ],
   "source": [
    "chars = ['a','b','c']\n",
    "print(f'chars: {chars} before append.')\n",
    "chars.append('d')\n",
    "print(f'chars: {chars} before remove.')\n",
    "chars.remove('b')\n",
    "print(f'chars: {chars} after remove.')"
   ]
  },
  {
   "cell_type": "markdown",
   "id": "certain-channel",
   "metadata": {},
   "source": [
    "Dabei fügt ``append`` das neue Element hinten an.\n",
    "Um ein Listenelement anhand seines Indexes zu löschen können wir ``del`` (delete) verwenden."
   ]
  },
  {
   "cell_type": "code",
   "execution_count": 29,
   "id": "competent-unemployment",
   "metadata": {},
   "outputs": [
    {
     "name": "stdout",
     "output_type": "stream",
     "text": [
      "chars: ['a', 'b', 'c'] before del.\n",
      "chars: ['a', 'c'] after del.\n"
     ]
    }
   ],
   "source": [
    "chars = ['a','b','c']\n",
    "print(f'chars: {chars} before del.')\n",
    "del chars[1]\n",
    "print(f'chars: {chars} after del.')"
   ]
  },
  {
   "cell_type": "markdown",
   "id": "empirical-french",
   "metadata": {},
   "source": [
    "``del`` funktioniert ebenfalls mit dem Indexieren, d.h. wir können viele Elemente mit einem Befehl löschen.\n",
    "Im folgenden löschen wir jedes 2-te Element wodurch nur ungerade Zahlen übrig bleiben."
   ]
  },
  {
   "cell_type": "code",
   "execution_count": 30,
   "id": "selected-circuit",
   "metadata": {},
   "outputs": [
    {
     "name": "stdout",
     "output_type": "stream",
     "text": [
      "numbers: [0, 1, 2, 3, 4, 5, 6, 7, 8, 9, 10, 11, 12, 13, 14, 15, 16, 17, 18, 19] before del.\n",
      "numbers: [1, 3, 5, 7, 9, 11, 13, 15, 17, 19] after del.\n"
     ]
    }
   ],
   "source": [
    "numbers = list(range(20))\n",
    "print(f'numbers: {numbers} before del.')\n",
    "del numbers[::2]\n",
    "print(f'numbers: {numbers} after del.')"
   ]
  },
  {
   "cell_type": "markdown",
   "id": "unexpected-newman",
   "metadata": {},
   "source": [
    "Sobald ein Element gelöscht wird, verkleinert sich auch die Liste.\n",
    "Es entstehen keine Lücken.\n",
    "\n",
    "Wir können auch ein Element an einer bestimmten Stelle einfügen."
   ]
  },
  {
   "cell_type": "code",
   "execution_count": 31,
   "id": "breathing-envelope",
   "metadata": {},
   "outputs": [
    {
     "name": "stdout",
     "output_type": "stream",
     "text": [
      "chars: ['a', 'b', 'c'] before insert.\n",
      "chars: ['a', 'd', 'b', 'c'] after insert.\n"
     ]
    }
   ],
   "source": [
    "chars = ['a','b','c']\n",
    "print(f'chars: {chars} before insert.')\n",
    "chars.insert(1, 'd')\n",
    "print(f'chars: {chars} after insert.')"
   ]
  },
  {
   "cell_type": "markdown",
   "id": "alpine-investigation",
   "metadata": {},
   "source": [
    "Dies fügt das Element ``'d'`` an vor das Element mit dem Index 1 ein.\n",
    "Anders ausgedrückt, das eingefügte Element hat nach der Operation den Index, welchen wir bei ``insert`` angeben.\n",
    "\n",
    "(sec-list-and-memory)=\n",
    "### Wie funktioniert eine Liste?\n",
    "\n",
    "Wie funktioniert eine Liste im tieferen Sinne?\n",
    "Also wie ist sie im Speicher abgelegt, was passiert wenn wir sie verändern und wie greifen wir auf sie und ihre Elemente über **Adressen** zu?\n",
    "\n",
    "Um zu verstehen wie und warum Listen funktionieren müssen wir wichtige Tatsache festhalten, die wir bereits im Abschnitt [Variablen](sec-variables) unbemerkt verwendet haben:\n",
    "Kennen wir eine **Adresse** eines **Wertes**, kurz gesagt die *Variable* welche auf den Wert zeigt, so ist der Zugriff auf diesen Wert extrem schnell!\n",
    "Solange wir die **Adressen** kennen, ist er Zugriff in den **Arbeitsspeicher** generell extrem schnell.\n",
    "Es gibt kleine 'Strafen' wenn **Adressen** weit auseinander liegen.\n",
    "\n",
    "Mit dieser Information, lassen Sie uns anhand eines Beispiel testen, wie sich die **Adressen** und **Werte** einer ``list`` (aus Zahlen) verhalten."
   ]
  },
  {
   "cell_type": "code",
   "execution_count": 32,
   "id": "representative-salem",
   "metadata": {},
   "outputs": [
    {
     "name": "stdout",
     "output_type": "stream",
     "text": [
      "value of numbers = [1, 2, 3, 4, 5]\n",
      "id of numbers = 4528623872\n",
      "value of numbers[2] = 3\n",
      "id of numbers[2] = 4490783088\n",
      "change value of numbers[2]\n",
      "value of numbers = [1, 2, -20, 4, 5]\n",
      "id of numbers = 4528623872\n",
      "value of numbers[2] = -20\n",
      "id of numbers[2] = 4528550672\n"
     ]
    }
   ],
   "source": [
    "numbers = [1, 2, 3, 4, 5]\n",
    "print(f'value of numbers = {numbers}')\n",
    "print(f'id of numbers = {id(numbers)}')\n",
    "\n",
    "print(f'value of numbers[2] = {numbers[2]}')\n",
    "print(f'id of numbers[2] = {id(numbers[2])}')\n",
    "print('change value of numbers[2]')\n",
    "\n",
    "numbers[2] = -20\n",
    "\n",
    "print(f'value of numbers = {numbers}')\n",
    "print(f'id of numbers = {id(numbers)}')\n",
    "print(f'value of numbers[2] = {numbers[2]}')\n",
    "print(f'id of numbers[2] = {id(numbers[2])}')"
   ]
  },
  {
   "cell_type": "markdown",
   "id": "located-furniture",
   "metadata": {},
   "source": [
    "Im obigen Code erstellen wir eine Liste, welche die Zahlen 1 bis 5 enthält.\n",
    "Dann verändern wir das zweite Element der Liste (eine Liste startet mit dem 0-ten Element).\n",
    "Die **Adresse** der *Variable* ``numbers`` ändert sich bei diesem Vorgang nicht!\n",
    "Allerdings ändert sich die Adresse des Elements ``numbers[2]`` und der **Wert** von ``numbers``.\n",
    "\n",
    "```{figure} ../../figs/python-tutorial/datatypes/list.png\n",
    "---\n",
    "width: 600px\n",
    "name: fig-data-type-list\n",
    "---\n",
    "Die Liste aus unsrem obigen Beispiel **bevor** wir den Wert ``3`` auf ``-20`` gesetzt haben.\n",
    "```\n",
    "\n",
    "Ändern wir den Wert eines Listenelements, ändern wir diesen Hinweis!\n",
    "\n",
    "```{figure} ../../figs/python-tutorial/datatypes/list-2.png\n",
    "---\n",
    "width: 600px\n",
    "name: fig-data-type-list-2\n",
    "---\n",
    "Die Liste aus unsrem obigen Beispiel **nachdem** wir den Wert ``3`` auf ``-20`` gesetzt haben.\n",
    "```\n",
    "\n",
    "Alle *Datenstrukturen* sind *Behälter*, die andere Daten aufnehmen können, ähnlich wie Schließfächer, Ordner oder Rucksäcke.\n",
    "Nehmen wir als Analogie Schließfächer aus der echten Welt.\n",
    "Stellen wir uns vor, der Platz in einem Schließfach wäre ein Teil des Speicherplatzes, welcher von unserer Liste benötigt wird.\n",
    "Was befindet sich nun in unseren Schließfächern?\n",
    "In ``Python`` sind es **nicht** die Objekte/Werte selbst sondern die **Adresse** der Objekte/Werte.\n",
    "Es befindet sich quasi ein Zettel auf dem der Hinweis steht, wo wir das Objekt, was zu jenem Schließfach gehört, finden.\n",
    "Oder aber wir stellen uns eine Schnur vor, die von dem Schließfach auf das Objekt verweist.\n",
    "\n",
    "Das besondere einer Liste, bzw. die Charakteristik welches Sie auszeichnet ist, dass die **Adressen** Ihrer Elemente im Speicher ohne Lücke nebeneinander liegen.\n",
    "Da **Adressen** immer die gleiche feste Anzahl an Bits benötigen, kann man für eine gegebene Adresse einer Liste und den Index eines Elements, die Speicheradresse der Speicheradresse, die auf das Element zeigt berechnen.\n",
    "\n",
    "Angenommen die Adresse der Liste ``mylist`` ist $Start$ und jede Adresse benötigt 4 Byte und wir können 1 Byte adressieren, dann befindet sich die Adresse $adr_i$ des $i$-ten Elements an der Speicheradresse:\n",
    "\n",
    "$$Start + i \\cdot 4.$$\n",
    "\n",
    "Diese Rechnung kann der Rechner sehr schnell durchführen und deshalb können wir auf Elemente einer Liste deren Index wir kennen extrem schnell zugreifen.\n",
    "\n",
    "Um dieses Konzept besser zu verstehen und herauszufinden wie sich *atomare* wie auch *zusammengesetzt Datentypen* verhalten, hilft oft nur eins: Ausprobieren!\n",
    "\n",
    "## Tupel - tuple\n",
    "\n",
    "TODO\n",
    "\n",
    "## Zeichenketten - str\n",
    "\n",
    "Eine Zeichenkette ist eine *Sequenz* von Zeichen.\n",
    "Wie ein Tupel ist eine Zeichenkette **unveränderlich** (engl. immutable). \n",
    "``Python`` bietet uns viele nützliche Funktionen um auf Zeichenketten zu operieren.\n",
    "Zeichenketten können durch einfache ``'text'`` oder doppelte ``\"text\"`` Anführungszeichen umschlossen sein."
   ]
  },
  {
   "cell_type": "code",
   "execution_count": 33,
   "id": "binding-split",
   "metadata": {},
   "outputs": [],
   "source": [
    "text = 'Hello World!'\n",
    "text = \"Hello World!\""
   ]
  },
  {
   "cell_type": "markdown",
   "id": "protecting-pottery",
   "metadata": {},
   "source": [
    "Was wir bereits exzessive genutzt haben ist die Ausgabe von Zeichenketten durch die *built-in* Funktion ``print``."
   ]
  },
  {
   "cell_type": "code",
   "execution_count": 34,
   "id": "ultimate-mixer",
   "metadata": {},
   "outputs": [
    {
     "name": "stdout",
     "output_type": "stream",
     "text": [
      "Hello World!\n"
     ]
    }
   ],
   "source": [
    "text = 'Hello World!'\n",
    "print(text)"
   ]
  },
  {
   "cell_type": "markdown",
   "id": "unusual-impact",
   "metadata": {},
   "source": [
    "Um Variablen oder Werte anderer Datentypen mit ``print`` auszugeben mussen wir diese immer mit der *built-in Funktion* ``str`` in eine Zeichenkette umwandeln.\n",
    "Da dies so häufig gemacht werden musst, haben die Entwickler\\*innen von ``Python`` sich etwas einfallen lassen.\n",
    "Stellen wir vor unsere Zeichenkette ein ``f`` so handelt es sich um eine formatierte Zeichenkette.\n",
    "Die hilft uns Variablen oder Werte direkt in diese formatierte Zeichenkette einzufügen:"
   ]
  },
  {
   "cell_type": "code",
   "execution_count": 35,
   "id": "opening-hollywood",
   "metadata": {},
   "outputs": [
    {
     "name": "stdout",
     "output_type": "stream",
     "text": [
      "x + y = 5 + 10 = 15\n",
      "x + y = 5 + 10 = 15\n"
     ]
    }
   ],
   "source": [
    "x = 5\n",
    "y = 10\n",
    "print('x + y = ' + str(x) + ' + ' + str(y) + ' = ' + str(x+y)) # ugly\n",
    "print(f'x + y = {x} + {y} = {x+y}')                            # beautiful"
   ]
  },
  {
   "cell_type": "markdown",
   "id": "established-storm",
   "metadata": {},
   "source": [
    "Das vereinfacht das Schreiben und Lesen solcher Ausgaben ungemein.\n",
    "Sie können formatierte Zeichenketten auch ohne ``print`` verwenden."
   ]
  },
  {
   "cell_type": "code",
   "execution_count": 36,
   "id": "physical-grounds",
   "metadata": {},
   "outputs": [
    {
     "data": {
      "text/plain": [
       "'x + y = 5 + 10 = 15'"
      ]
     },
     "execution_count": 36,
     "metadata": {},
     "output_type": "execute_result"
    }
   ],
   "source": [
    "x = 5\n",
    "y = 10\n",
    "formatted_str = f'x + y = {x} + {y} = {x+y}'\n",
    "formatted_str"
   ]
  },
  {
   "cell_type": "markdown",
   "id": "designing-massachusetts",
   "metadata": {},
   "source": [
    "Zwei Zeichenketten lassen sich mit dem ``+``-Operator verketten."
   ]
  },
  {
   "cell_type": "code",
   "execution_count": 37,
   "id": "bright-insight",
   "metadata": {},
   "outputs": [
    {
     "name": "stdout",
     "output_type": "stream",
     "text": [
      "Hello\n",
      " Welt!\n",
      "Hello Welt!\n"
     ]
    }
   ],
   "source": [
    "prefix = 'Hello'\n",
    "suffix = ' Welt!'\n",
    "text = prefix + suffix\n",
    "print(prefix)\n",
    "print(suffix)\n",
    "print(text)"
   ]
  },
  {
   "cell_type": "markdown",
   "id": "verified-japan",
   "metadata": {},
   "source": [
    "Bestimmte Zeichen kontrollieren die Darstellung des Textes, z.B. ob eine Leerzeile ein Leerzeichen oder ein Tab eingefügt werden soll."
   ]
  },
  {
   "cell_type": "code",
   "execution_count": 38,
   "id": "sonic-procedure",
   "metadata": {},
   "outputs": [
    {
     "name": "stdout",
     "output_type": "stream",
     "text": [
      "Hello World\n",
      "!\n"
     ]
    }
   ],
   "source": [
    "space = ' '\n",
    "space_line = '\\n'\n",
    "\n",
    "print('Hello' + space + 'World' + space_line + '!')"
   ]
  },
  {
   "cell_type": "markdown",
   "id": "sudden-spelling",
   "metadata": {},
   "source": [
    "Die *leere Zeichenkette* verändert bei der Verkettung eine andere Zeichenkette nicht.\n",
    "Es ist das neutrale Element der Zeichenverkettung."
   ]
  },
  {
   "cell_type": "code",
   "execution_count": 39,
   "id": "conditional-moderator",
   "metadata": {},
   "outputs": [
    {
     "name": "stdout",
     "output_type": "stream",
     "text": [
      "The correct answer is 42!\n",
      "The correct answer is 42!\n"
     ]
    },
    {
     "data": {
      "text/plain": [
       "True"
      ]
     },
     "execution_count": 39,
     "metadata": {},
     "output_type": "execute_result"
    }
   ],
   "source": [
    "empty_str = ''\n",
    "\n",
    "print('The correct answer is 42!')\n",
    "print('The correct' + empty_str + empty_str + empty_str + ' answer is 42!')\n",
    "\n",
    "'Hello' == 'Hello' + empty_str"
   ]
  },
  {
   "cell_type": "markdown",
   "id": "revised-somewhere",
   "metadata": {},
   "source": [
    "Zeichenketten lassen sich wie Listen und Tupel indexieren und mit der *built-in Funktion* ``len``, kann man die Länge einer Zeichenkette erfragen.\n",
    "Folgender Code gibt jedes einzelne Zeichen einer Zeichenkette aus."
   ]
  },
  {
   "cell_type": "code",
   "execution_count": 40,
   "id": "blind-leather",
   "metadata": {},
   "outputs": [
    {
     "name": "stdout",
     "output_type": "stream",
     "text": [
      "H\n",
      "e\n",
      "l\n",
      "l\n",
      "o\n",
      " \n",
      "W\n",
      "o\n",
      "r\n",
      "l\n",
      "d\n",
      "!\n"
     ]
    }
   ],
   "source": [
    "text = 'Hello World!'\n",
    "\n",
    "for i in range(len(text)):\n",
    "  print(text[i])"
   ]
  },
  {
   "cell_type": "markdown",
   "id": "compatible-offer",
   "metadata": {},
   "source": [
    "Das lässt sich jedoch auch einfacher schreiben:"
   ]
  },
  {
   "cell_type": "code",
   "execution_count": 41,
   "id": "novel-throw",
   "metadata": {},
   "outputs": [
    {
     "name": "stdout",
     "output_type": "stream",
     "text": [
      "H\n",
      "e\n",
      "l\n",
      "l\n",
      "o\n",
      " \n",
      "W\n",
      "o\n",
      "r\n",
      "l\n",
      "d\n",
      "!\n"
     ]
    }
   ],
   "source": [
    "text = 'Hello World!'\n",
    "\n",
    "for char in text:\n",
    "  print(char)"
   ]
  },
  {
   "cell_type": "markdown",
   "id": "thirty-australian",
   "metadata": {},
   "source": [
    "Auch bei Zeichenketten können wir negative Indices verwenden.\n",
    "``text[-1]`` gibt uns das letzte und ``text[-2]`` das vorletzte Zeichen."
   ]
  },
  {
   "cell_type": "code",
   "execution_count": 42,
   "id": "arbitrary-interim",
   "metadata": {},
   "outputs": [
    {
     "name": "stdout",
     "output_type": "stream",
     "text": [
      "t\n",
      "a\n"
     ]
    }
   ],
   "source": [
    "text = 'Zeichensalat'\n",
    "\n",
    "print(text[-1])\n",
    "print(text[-2])"
   ]
  },
  {
   "cell_type": "markdown",
   "id": "original-taste",
   "metadata": {},
   "source": [
    "Lassen Sie uns eine Zeichenkette umdrehen:"
   ]
  },
  {
   "cell_type": "code",
   "execution_count": 43,
   "id": "traditional-gathering",
   "metadata": {},
   "outputs": [
    {
     "name": "stdout",
     "output_type": "stream",
     "text": [
      "Zeichensalat\n",
      "talasnehcieZ\n"
     ]
    }
   ],
   "source": [
    "text = 'Zeichensalat'\n",
    "reverse_text = ''\n",
    "\n",
    "for i in range(len(text)):\n",
    "  reverse_text += text[-(i+1)]\n",
    "\n",
    "print(text)\n",
    "print(reverse_text)"
   ]
  },
  {
   "cell_type": "markdown",
   "id": "through-cooperation",
   "metadata": {},
   "source": [
    "Wie bei Listen und Tupeln können wir auch einen Teil einer Zeichenkette ausschneiden (indexieren)."
   ]
  },
  {
   "cell_type": "code",
   "execution_count": 44,
   "id": "behind-friend",
   "metadata": {},
   "outputs": [
    {
     "name": "stdout",
     "output_type": "stream",
     "text": [
      "Ze\n",
      "Zeichensalat\n",
      "Zeichensa\n",
      "eichensala\n",
      "la\n",
      "ichensalat\n"
     ]
    }
   ],
   "source": [
    "text = 'Zeichensalat'\n",
    "print(text[0:2])\n",
    "print(text[0:len(text)])   # take it all\n",
    "print(text[0:-3])          # negative indexing\n",
    "print(text[1:-1])          # skip first and last\n",
    "print(text[-3:-1])         # negative indexing\n",
    "print(text[2:])            # skip the first 2 and take the rest"
   ]
  },
  {
   "cell_type": "markdown",
   "id": "cosmetic-celebrity",
   "metadata": {},
   "source": [
    "Dabei ist ``text[2:]`` eine Kurzschreibweise für ``text[2:len(text)]`` und ``text[:2]`` für ``text[0:2]``.\n",
    "\n",
    "Hin und wieder kann es vorkommen, dass Sie Zeichen schreiben möchten, welche bereits in ``Python`` mit einer Bedeutung belegt sind.\n",
    "Wie schreiben wir beispielsweise ``Anna sagte: 'Wie geht es dir'``?\n",
    "Dafür müssen wir das ``'``-Zeichen mit einem ``\\`` maskieren:"
   ]
  },
  {
   "cell_type": "code",
   "execution_count": 45,
   "id": "authentic-heavy",
   "metadata": {},
   "outputs": [
    {
     "name": "stdout",
     "output_type": "stream",
     "text": [
      "Anna sagte: 'Wie geht es dir'\n"
     ]
    }
   ],
   "source": [
    "print('Anna sagte: \\'Wie geht es dir\\'')"
   ]
  },
  {
   "cell_type": "markdown",
   "id": "impaired-amsterdam",
   "metadata": {},
   "source": [
    "Auf Zeichenketten können wir viele nützliche Funktionen aufrufen.\n",
    "Zu beachten ist, dass Zeichenketten unveränderlich sind, d.h. die Funktionen liefern eine neue Zeichenkette zurück, die ursprüngliche bleibt unverändert.\n",
    "Mit ``text.upper()`` können wir beispielsweise alle Zeichen einer Zeichenkette in Großbuchstaben transformieren."
   ]
  },
  {
   "cell_type": "code",
   "execution_count": 46,
   "id": "blind-flour",
   "metadata": {},
   "outputs": [
    {
     "name": "stdout",
     "output_type": "stream",
     "text": [
      "Zeichensalat\n",
      "ZEICHENSALAT\n"
     ]
    }
   ],
   "source": [
    "text = 'Zeichensalat'\n",
    "text_upper = text.upper()\n",
    "print(text)\n",
    "print(text_upper)"
   ]
  },
  {
   "cell_type": "markdown",
   "id": "accredited-forum",
   "metadata": {},
   "source": [
    "Wir die Vorkommnisse eines Zeichen in einer Zeichenkette zählen oder ganze Zeichenfolgen ersetzten:"
   ]
  },
  {
   "cell_type": "code",
   "execution_count": 47,
   "id": "aggressive-residence",
   "metadata": {},
   "outputs": [
    {
     "name": "stdout",
     "output_type": "stream",
     "text": [
      "2\n",
      "Zeichenspinat\n"
     ]
    }
   ],
   "source": [
    "text = 'Zeichensalat'\n",
    "print(text.count('a'))\n",
    "print(text.replace('salat', 'spinat'))"
   ]
  },
  {
   "cell_type": "markdown",
   "id": "artificial-landing",
   "metadata": {},
   "source": [
    "Es würde zu weit gehen alle Funktionen zu besprechen -- das wäre auch ziemlich langweilig.\n",
    "Schauen Sie sich einfach die [Dokumentation](https://docs.python.org/3/library/string.html) an, wenn Sie nach einer Funktion suchen oder verwenden Sie die eingebaute Hilfe ``help(str)``.\n",
    "\n",
    "## Mengen - set\n",
    "\n",
    "TODO\n",
    "\n",
    "## Wörterbücher - dict\n",
    "\n",
    "TODO"
   ]
  }
 ],
 "metadata": {
  "jupytext": {
   "formats": "md:myst",
   "text_representation": {
    "extension": ".md",
    "format_name": "myst"
   }
  },
  "kernelspec": {
   "display_name": "Python 3",
   "language": "python",
   "name": "python3"
  },
  "language_info": {
   "codemirror_mode": {
    "name": "ipython",
    "version": 3
   },
   "file_extension": ".py",
   "mimetype": "text/x-python",
   "name": "python",
   "nbconvert_exporter": "python",
   "pygments_lexer": "ipython3",
   "version": "3.9.6"
  },
  "source_map": [
   11,
   34,
   40,
   52,
   67,
   94,
   98,
   103,
   109,
   113,
   117,
   123,
   129,
   133,
   143,
   148,
   183,
   185,
   195,
   206,
   212,
   220,
   232,
   236,
   244,
   250,
   268,
   276,
   283,
   286,
   290,
   293,
   300,
   308,
   312,
   318,
   322,
   325,
   331,
   334,
   338,
   341,
   349,
   352,
   357,
   360,
   364,
   367,
   374,
   380,
   384,
   388,
   394,
   401,
   406,
   411,
   416,
   421,
   428,
   433,
   451,
   466,
   521,
   524,
   528,
   531,
   538,
   543,
   548,
   553,
   557,
   564,
   568,
   573,
   578,
   585,
   590,
   595,
   599,
   604,
   609,
   614,
   619,
   628,
   632,
   640,
   648,
   650,
   656,
   661,
   665,
   669
  ]
 },
 "nbformat": 4,
 "nbformat_minor": 5
}