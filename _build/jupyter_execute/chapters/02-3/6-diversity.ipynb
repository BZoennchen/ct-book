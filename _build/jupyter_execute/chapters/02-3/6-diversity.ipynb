{
 "cells": [
  {
   "cell_type": "markdown",
   "id": "c946c738",
   "metadata": {},
   "source": [
    "# Diversität\n",
    "\n",
    "Die Diversität der Programmiersprachen ist wichtig.\n",
    "Es gibt keine perfekte Sprache für alle Zwecke.\n",
    "Unterschiedliche Sprachen fördern unterschiedliche Denkweisen.\n",
    "Wir als Programmierer\\*innen tendieren dazu, jene Konstrukte einer Sprache zu verwenden, welche am einfachsten zugänglich sind.\n",
    "\n",
    "Maschinennähe führt zu mehr Kontrolle aber wir zahlen mit einer detaillierteren und damit längeren Beschreibung.\n",
    "Limitierungen einer Sprache können hinderlich sein, sie können aber auch eine bewährte Praxis erzwingen und so Programmierer\\*innen vor schlechtem Programmierstil schützen.\n",
    "Limitierungen können auch eine Quelle der Kreativität sein -- Not macht eben immernoch erfinderisch.\n",
    "Stehen uns alle Möglichkeiten offen, so haben wir möglicherweise Schwierigkeiten überhaupt erst anzufangen."
   ]
  },
  {
   "cell_type": "code",
   "execution_count": 1,
   "id": "35f945fc",
   "metadata": {},
   "outputs": [],
   "source": [
    "# Python\n",
    "something = 1\n",
    "something = 'hello'"
   ]
  },
  {
   "cell_type": "markdown",
   "id": "54d8ec11",
   "metadata": {},
   "source": [
    "```java\n",
    "// Java, number muss eine Ganzahl bleiben\n",
    "int number = 1;\n",
    "// number = \"hello\" geht in Java nicht\n",
    "```\n",
    "\n",
    "Bis jetzt haben wir Programmiersprachen objektiv betrachtet.\n",
    "Doch eine der wohl wichtigsten Kriterien sich für die eine oder andere Programmiersprache zu entscheiden liegt in der subjektiven Wahrnehmung bzw. Ihrem ganz persönlichem Geschmack.\n",
    "\n",
    "Wir Menschen sind diverse Wesen, deshalb finden unterschiedliche Sprachen unterschiedliche Unterstützer\\*innen.\n",
    "Die Ästhetik spielt hierbei eine große Rolle.\n",
    "Macht es Ihnen Spaß in dieser Programmiersprache zu programmieren?\n",
    "Finden Sie darin Schönheit?\n",
    "Stellt es Sie zufrieden?\n",
    "Gefallen Ihnen die Werkzeuge mit denen Sie programmieren?\n",
    "Das sind denke ich die wichtige Fragen, die entscheiden welche Programmiersprachen Sie erlernen werden."
   ]
  }
 ],
 "metadata": {
  "jupytext": {
   "formats": "md:myst",
   "text_representation": {
    "extension": ".md",
    "format_name": "myst"
   }
  },
  "kernelspec": {
   "display_name": "Python 3",
   "language": "python",
   "name": "python3"
  },
  "language_info": {
   "codemirror_mode": {
    "name": "ipython",
    "version": 3
   },
   "file_extension": ".py",
   "mimetype": "text/x-python",
   "name": "python",
   "nbconvert_exporter": "python",
   "pygments_lexer": "ipython3",
   "version": "3.11.4"
  },
  "source_map": [
   11,
   25,
   29
  ]
 },
 "nbformat": 4,
 "nbformat_minor": 5
}