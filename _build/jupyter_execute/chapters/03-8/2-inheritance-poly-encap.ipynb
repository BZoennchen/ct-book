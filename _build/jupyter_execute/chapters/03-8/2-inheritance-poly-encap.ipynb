{
 "cells": [
  {
   "cell_type": "markdown",
   "id": "comparable-ballet",
   "metadata": {},
   "source": [
    "(sec-inheritance)=\n",
    "# Vererbung, Kapselung und Polymorphie\n",
    "\n",
    "*Objektorientierte Programmierung OOP* ist ein mächtiges Modellierungswerkzeug bei der wir Daten und Methoden in eine zusammenhängende Struktur bringen.\n",
    "Es deckt sich mit der 'natürlichen' denkweise von uns Menschen.\n",
    "Wir denken gerne in Objekten wie Bäume, Häuser, Personen, Rechtecken, und so weiter und so fort.\n",
    "Deshalb kann die OOP dabei helfen die Komplexität einer Software besser zu begreifen.\n",
    "Dazu ist es notwendig, dass alle beteiligten Entwickler\\*innen dem OOP-Paradigma folgen und die gleiche Sprache sprechen.\n",
    "\n",
    "Neben dem Strukturieren der Programmierlogik durch Objekte bietet die OOP weitere drei wichtige Konzepte an:\n",
    "\n",
    "1. **Vererbung**\n",
    "2. **Kapselung**\n",
    "3. **Polymorphie**\n",
    "\n",
    "## Vererbung\n",
    "\n",
    "Vererbung ist eine Möglichkeit Funktionalität und Attribute einer Eltern-Klasse in eine Kind-Klasse zu übernehmen -- zu *vererben*.\n",
    "Wir sagen, die Kind-Klasse *erbt* von der *Eltern-Klasse*.\n",
    "Dabei geht es um Ähnlichkeiten.\n",
    "\n",
    "Zum Beispiel könnte es Sinn machen eine Eltern-Klasse ``Person`` zu schreiben und unsere Kind-Klasse ``Student`` von dieser *erben* zu lassen.\n",
    "Ein ``Student`` ist eine *spezielle* ``Person``.\n",
    "Wir könnten eine weitere *spezielle* ``Person``, beispielsweise den ``Lecturer`` definieren.\n",
    "\n",
    "Unsere Eltern-Klasse oder auch Basis-Klasse ``Person`` ist eine **Abstraktion** von ``Student`` und ``Lecturer``:"
   ]
  },
  {
   "cell_type": "code",
   "execution_count": 1,
   "id": "advised-texture",
   "metadata": {},
   "outputs": [],
   "source": [
    "class Person():\n",
    "    def __init__(self, name, age):\n",
    "        self.name = name\n",
    "        self.age = age\n",
    "        \n",
    "    def __str__(self):\n",
    "        return f'name: {self.name}, age: {self.age}'\n",
    "\n",
    "    def say_name(self):\n",
    "        print(f'My name is {self.name}.')\n",
    "\n",
    "    def report(self):\n",
    "        self.say_name()\n",
    "        print(f'My age is: {self.age}')"
   ]
  },
  {
   "cell_type": "markdown",
   "id": "extended-participant",
   "metadata": {},
   "source": [
    "Die beiden Kind-Klassen *erben* von ``Person`` und sind weniger abstrakt bzw. konkretere Dinge oder Subjekte:"
   ]
  },
  {
   "cell_type": "code",
   "execution_count": 2,
   "id": "affecting-wrestling",
   "metadata": {},
   "outputs": [],
   "source": [
    "class Student(Person):\n",
    "    def __init__(self, sid, name, age):\n",
    "        super().__init__(name, age)\n",
    "        self.sid = sid\n",
    "        self.type = 'learning'\n",
    "\n",
    "    def __str__(self):\n",
    "        return f'{super().__str__()}, sid: {self.sid}'\n",
    "\n",
    "    def report(self, score):\n",
    "        super().report()\n",
    "        print(f'My id is: {self.sid}')\n",
    "        print(f'My score is: {score}')\n",
    "        print(f'I am a student.')\n",
    "\n",
    "class Lecturer(Person):\n",
    "    def __init__(self, name, age, title):\n",
    "        super().__init__(name, age)\n",
    "        self.title = title\n",
    "\n",
    "    def __str__(self):\n",
    "        return f'{self.title} {self.name}'"
   ]
  },
  {
   "cell_type": "markdown",
   "id": "ordinary-retrieval",
   "metadata": {},
   "source": [
    "``Student`` und ``Lecturer`` **erben** von ``Person``, d.h. beide erhalten die *Attribute* ``name`` und ``age`` sowie alle Methoden, die in ``Person`` definiert wurden.\n",
    "Beide Kind-Klassen werden um die Attribute ``name`` und ``age`` **erweitert**.\n",
    "Diese Attribute können in den Kind-Klassen durch\n",
    "\n",
    "```python\n",
    "self.name\n",
    "self.age\n",
    "```\n",
    "\n",
    "angesprochen werden, was wir in ``__str__(self)`` von ``Lecturer`` demonstrieren.\n",
    "\n",
    "```{admonition} Vererbte Objektattribute\n",
    ":class: hint\n",
    "Attribute eines Objekts egal ob *vererbt* oder nicht werden **immer** durch ``self.attributename`` und **niemals** über ``super().attributename`` angesprochen.\n",
    "```\n",
    "\n",
    "``Student`` **überschreibt** die Methode ``report`` der Klasse ``Person``, wohingegen ``Lecturer`` diese unberührt lässt.\n",
    "Damit wird ``Lecturer`` um die Methode ``report`` der Klasse ``Person`` **erweitert**.\n",
    "\n",
    "Um zwischen diesen beiden gleichnamigen Methoden ``report`` der Klasse ``Person`` und ``Student`` zu unterscheiden, verwenden wir einmal ``self`` und einmal ``super()``.\n",
    "Mit ``super()`` greifen wir auf die Methoden der Eltern-Klasse zu.\n",
    "Anstelle von ``super()`` können wir die Eltern-Klasse auch explizit angeben, müssen dann jedoch das ``self`` übergeben.\n",
    "Aus\n",
    "\n",
    "```python\n",
    "...\n",
    "super().__init__(name, age)\n",
    "...\n",
    "```\n",
    "\n",
    "wird \n",
    "\n",
    "```python\n",
    "...\n",
    "Person.__init__(self, name, age)\n",
    "...\n",
    "```\n",
    "\n",
    "Lassen Sie uns ein Objekt von jeder Klasse erzeugen und die Methoden testen:"
   ]
  },
  {
   "cell_type": "code",
   "execution_count": 3,
   "id": "naked-charles",
   "metadata": {},
   "outputs": [
    {
     "name": "stdout",
     "output_type": "stream",
     "text": [
      "name: Bene, age: 25\n",
      "My name is Bene.\n",
      "My age is: 25\n"
     ]
    }
   ],
   "source": [
    "person = Person('Bene', 25)\n",
    "print(person)\n",
    "person.report()"
   ]
  },
  {
   "cell_type": "code",
   "execution_count": 4,
   "id": "fresh-bleeding",
   "metadata": {},
   "outputs": [
    {
     "name": "stdout",
     "output_type": "stream",
     "text": [
      "name: Anna, age: 22, sid: 3131\n",
      "My name is Anna.\n",
      "My age is: 22\n",
      "My id is: 3131\n",
      "My score is: 413\n",
      "I am a student.\n"
     ]
    }
   ],
   "source": [
    "student = Student('3131', 'Anna', 22)\n",
    "print(student)\n",
    "student.report(413)"
   ]
  },
  {
   "cell_type": "code",
   "execution_count": 5,
   "id": "utility-lounge",
   "metadata": {},
   "outputs": [
    {
     "name": "stdout",
     "output_type": "stream",
     "text": [
      "Prof. Huber\n",
      "My name is Huber.\n",
      "My age is: 45\n"
     ]
    }
   ],
   "source": [
    "lecturer = Lecturer('Huber', 45, 'Prof.')\n",
    "print(lecturer)\n",
    "lecturer.report()"
   ]
  },
  {
   "cell_type": "markdown",
   "id": "dangerous-pixel",
   "metadata": {},
   "source": [
    "``Lecturer`` definiert keine Methode ``report``, doch da ``Person`` eine solche Methode enthält, existiert diese auch in ``Lecturer``.\n",
    "Der folgende Code hätte die gleiche Wirkung:"
   ]
  },
  {
   "cell_type": "code",
   "execution_count": 6,
   "id": "brilliant-translation",
   "metadata": {},
   "outputs": [],
   "source": [
    "class Lecturer(Person):\n",
    "    def __init__(self, name, age, title):\n",
    "        super().__init__(name, age)\n",
    "        self.title = title\n",
    "\n",
    "    def __str__(self):\n",
    "        return f'{super().__str__()}, title: {self.title}'\n",
    "\n",
    "    def report(self, score):\n",
    "        super().report()"
   ]
  },
  {
   "cell_type": "markdown",
   "id": "suspected-pound",
   "metadata": {},
   "source": [
    "Es wird demnach einfach die ``report`` Methode von ``Person`` aufgerufen!\n",
    "Alles in allem sparen wir Codezeilen bzw. doppelten Code.\n",
    "Es ist, zum Beispiel, möglich den Code aus ``Person.__init__()`` zu kopieren und die gesamte Initialisierung zu überschreiben:\n",
    "\n",
    "```python\n",
    "class Lecturer(Person):\n",
    "    def __init__(self, name, age, title):\n",
    "        self.name = name\n",
    "        self.age = age\n",
    "        self.sid = sid\n",
    "        self.title = title\n",
    "\n",
    "    ...\n",
    "```\n",
    "\n",
    "Doch wenn wir die Initialisierung einer Person ``Person.__init__()`` ändern und sich diese Änderung auch auf alle Kinder auswirken soll, so müssten wir ``Lecturer.__init__()`` entsprechend anpassen.\n",
    "\n",
    "```{admonition} Vererbung aber wann?\n",
    ":class: warning\n",
    "Gehen Sie besser sparsam mit der Vererbung um. \n",
    "Ruft die ``__init__``-Methode nicht ihre Eltern-``__init__`` auf, so ist die Vererbung an dieser Stelle wahrscheinlich nicht die richtige Wahl der Modellierung.\n",
    "```\n",
    "\n",
    "## Vererbung und Komposition\n",
    "\n",
    "Vererbung ist ein mächtiges Werkzeug, doch sollten Sie damit bedacht und sparsam umgehen.\n",
    "Tiefe Vererbungshierarchien tendieren dazu unverständlich zu werden.\n",
    "Die Mehrfachvererbung, welche wir in diesem Kurs nicht besprechen werden, ist in ``Python`` möglich, doch in den allermeisten Fällen nicht sinnvoll.\n",
    "\n",
    "Bei der Vererbung müssen Sie sich immer auf die Datenstruktur beziehen.\n",
    "So könnte man schnell zu dem Schluss kommen, dass ein Quadrat ein spezielles Rechteck ist und dass es somit eine gute Idee ist Quadrat von Rechteck erben zu lassen.\n",
    "Doch besitzt ein Quadrat lediglich eine Position und eine Breite wohingegen ein Rechteck noch eine zusätzliche Höhe besitzt.\n",
    "Vererben wir Rechteck an Quadrat erhält es ein überflüssiges Attribut, welches schnell zu Problemen führen wird!\n",
    "\n",
    "Oftmals ist es besser die *Komposition* der *Vererbung* vorzuziehen.\n",
    "*Komposition* bedeutet, dass wir eine Klasse definieren, die als Attribute weitere komplexere Klassen beinhaltet.\n",
    "So könnten wir uns als Klasse ein Auto vorstellen, welches aus den Attributen Rad, Motor, usw. besteht. \n",
    "\n",
    "```python\n",
    "class Car():\n",
    "    def __init__(self, wheel, engine):\n",
    "        self.wheel = wheel\n",
    "        self.engine = engine\n",
    "        ...\n",
    "\n",
    "    ...\n",
    "```\n",
    "\n",
    "Rad und Motor könnten Klassen sein, die mit Funktionalität ausgestattet sind.\n",
    "Diese Funktionalität können wir dann in der Klasse ``Car`` nutzten.\n",
    "So gelangt Funktionalität nicht über Vererbung sondern durch Komposition in die Klasse und somit in seine Objekte.\n",
    "\n",
    "## Kapselung\n",
    "\n",
    "*Kapselung* ist ein weiteres fundamentales, wenn nicht sogar DAS fundamentalste aller Konzept der OOP.\n",
    "Zum einen geht es darum den gesamten sich ändernden Zustand eines Programms in kleine Zuständigkeiten aka Objekte aufzuteilen.\n",
    "\n",
    "Jedes Objekt kennt sein Innenleben und schützt dieses vor dem Zugriff von außen.\n",
    "Nach außen bietet das Objekt eine öffentliche Schnittstelle.\n",
    "Nur über diese ist es möglich das Innenleben des Objekts zu verändern.\n",
    "Demnach verändert das Objekt sein Innenleben selbst indem es durch seine öffentlichen Methoden dazu aufgefordert wird.\n",
    "\n",
    "Die Einschränkung des Zugriffs auf bestimmte *Methoden* und *Attribute* eines *Objekts* ist ein wesentlicher Aspekt und wird durch die *Klasse* eines *Objekts* definiert.\n",
    "Die Idee dahinter ist es Komplexität vor dem Benutzer der Klasse und Objekte zu verbergen und das 'Innenleben' eines Objekts vor ungewollter Veränderung zu schützten.\n",
    "Der Benutzer muss lediglich wissen **WAS** eine Methode bewirkt, **WIE** dies erreicht wird bleibt verborgen und gehört zur Zuständigkeit des *Objekts*.\n",
    "\n",
    "Angenommen wir konstruieren eine Klasse ``Circle`` mit den Attributen ``radius``, ``center`` und ``diameter``.\n",
    "Wir fügen noch eine Methode ``dist`` und ``contains`` hinzu.\n",
    "``dist`` berechnet die distanz zwischen dem Kreis und einem Punkt.\n",
    "Die Distanz ist negativ wenn sich der Punkt innerhalb des Kreises befindet.\n",
    "``contains`` prüft ob sich ein Punkt innerhalb des Kreises befindet."
   ]
  },
  {
   "cell_type": "code",
   "execution_count": 7,
   "id": "supposed-telephone",
   "metadata": {},
   "outputs": [],
   "source": [
    "class Circle():\n",
    "    def __init__(self, center, radius):\n",
    "        self.center = center\n",
    "        self.__radius = radius\n",
    "        self.__diameter = 2*radius\n",
    "\n",
    "    def __str__(self):\n",
    "        return f'center: {self.center}, radius: {self.__radius}, diameter: {self.__diameter}'\n",
    "\n",
    "    def contains(self, point):\n",
    "        return self.dist(point) <= 0\n",
    "        \n",
    "    def dist(point):\n",
    "        dx = self.center[0] - point[0]\n",
    "        dy = self.center[1] - point[1]\n",
    "        return (dx*dx + dy*dy)**0.5 - radius\n",
    "\n",
    "    def set_radius(self, radius):\n",
    "        self.__radius = radius\n",
    "        self.__diameter = 2*radius\n",
    "\n",
    "    def get_radius(self):\n",
    "        return self.__radius\n",
    "\n",
    "    def get_diameter(self):\n",
    "        return self.__diameter"
   ]
  },
  {
   "cell_type": "markdown",
   "id": "purple-coordinator",
   "metadata": {},
   "source": [
    "Zusätzlich bieten wir eine Methode ``set_radius`` an, welche den ``radius`` des Kreises ändert.\n",
    "Da der Durchmesser ``diameter`` vom Radius abhängt müssen wir, wann immer wir den Radius anpassen, auch den Durchmesser anpassen.\n",
    "Deshalb wollen wir dem Benutzer nicht erlauben, den Durchmesser selbst zu ändern.\n",
    "Damit der Benutzer nicht mehr direkt auf die Attribute ``radius`` und ``diamant`` zugreifen kann, fügen wir vor deren Namen zwei Unterstriche ``__`` an.\n",
    "Dadurch werden diese Attribute *privat*."
   ]
  },
  {
   "cell_type": "code",
   "execution_count": 8,
   "id": "supported-panama",
   "metadata": {},
   "outputs": [
    {
     "name": "stdout",
     "output_type": "stream",
     "text": [
      "center: (0, 0), radius: 3, diameter: 6\n"
     ]
    }
   ],
   "source": [
    "circle = Circle((0,0), 3)\n",
    "print(circle)"
   ]
  },
  {
   "cell_type": "markdown",
   "id": "traditional-darkness",
   "metadata": {},
   "source": [
    "Versuchen wir auf die geschützten Attribute zuzugreifen, erhalten wir einen Fehler:"
   ]
  },
  {
   "cell_type": "code",
   "execution_count": 9,
   "id": "biological-publisher",
   "metadata": {
    "tags": [
     "raises-exception"
    ]
   },
   "outputs": [
    {
     "name": "stdout",
     "output_type": "stream",
     "text": [
      "center: (6, 6), radius: 3, diameter: 6\n"
     ]
    },
    {
     "ename": "AttributeError",
     "evalue": "'Circle' object has no attribute '__radius'",
     "output_type": "error",
     "traceback": [
      "\u001b[0;31m---------------------------------------------------------------------------\u001b[0m",
      "\u001b[0;31mAttributeError\u001b[0m                            Traceback (most recent call last)",
      "\u001b[0;32m<ipython-input-9-9ba1ec09e2b6>\u001b[0m in \u001b[0;36m<module>\u001b[0;34m\u001b[0m\n\u001b[1;32m      1\u001b[0m \u001b[0mcircle\u001b[0m\u001b[0;34m.\u001b[0m\u001b[0mcenter\u001b[0m \u001b[0;34m=\u001b[0m \u001b[0;34m(\u001b[0m\u001b[0;36m6\u001b[0m\u001b[0;34m,\u001b[0m \u001b[0;36m6\u001b[0m\u001b[0;34m)\u001b[0m\u001b[0;34m\u001b[0m\u001b[0;34m\u001b[0m\u001b[0m\n\u001b[1;32m      2\u001b[0m \u001b[0mprint\u001b[0m\u001b[0;34m(\u001b[0m\u001b[0mcircle\u001b[0m\u001b[0;34m)\u001b[0m\u001b[0;34m\u001b[0m\u001b[0;34m\u001b[0m\u001b[0m\n\u001b[0;32m----> 3\u001b[0;31m \u001b[0mprint\u001b[0m\u001b[0;34m(\u001b[0m\u001b[0mcircle\u001b[0m\u001b[0;34m.\u001b[0m\u001b[0m__radius\u001b[0m\u001b[0;34m)\u001b[0m\u001b[0;34m\u001b[0m\u001b[0;34m\u001b[0m\u001b[0m\n\u001b[0m",
      "\u001b[0;31mAttributeError\u001b[0m: 'Circle' object has no attribute '__radius'"
     ]
    }
   ],
   "source": [
    "circle.center = (6, 6)\n",
    "print(circle)\n",
    "print(circle.__radius)"
   ]
  },
  {
   "cell_type": "markdown",
   "id": "adequate-cholesterol",
   "metadata": {},
   "source": [
    "Zwar können wir ``center`` verändern, da dies nicht geschützt ist, doch ``__radius`` lässt sich nicht von Außen verändern!\n",
    "Wir bezeichnen dieses Attribut als *privates* Attribut der Klasse.\n",
    "\n",
    "In der Klasse finden sich die Methoden ``get_radius`` und ``set_radius`` über die wir den Radius wiederum verändern und auf den Wert des Radius zugreifen können:"
   ]
  },
  {
   "cell_type": "code",
   "execution_count": 10,
   "id": "likely-macintosh",
   "metadata": {},
   "outputs": [
    {
     "name": "stdout",
     "output_type": "stream",
     "text": [
      "center: (6, 6), radius: 10, diameter: 20"
     ]
    },
    {
     "name": "stdout",
     "output_type": "stream",
     "text": [
      "\n",
      "10\n"
     ]
    }
   ],
   "source": [
    "circle.set_radius(10)\n",
    "print(circle)\n",
    "print(circle.get_radius())"
   ]
  },
  {
   "cell_type": "markdown",
   "id": "searching-colorado",
   "metadata": {},
   "source": [
    "Doch dadurch dass wir eine Methode für die Veränderung verwenden, können wir sicherstellen, dass der Durchmesser ebenfalls korrekt abgeändert wird.\n",
    "\n",
    "Durch die gleiche Schreibweise können wir auch *Methoden* in private Methoden umwandeln, sodass diese nur innerhalb der Klasse sichtbar und aufrufbar sind.\n",
    "Dies kann sinnvoll für Hilfsmethoden sein, die als solches, getrennt vom Aufruf anderer Methoden, nicht aufgerufen werden sollten.\n",
    "\n",
    "Das obige Beispiel ist etwas künstlich, denn eigentlich macht das Attribut ``diameter`` an dieser stelle keinen rechten Sinn.\n",
    "Eine bessere Variante bietet folgender Code:"
   ]
  },
  {
   "cell_type": "code",
   "execution_count": 11,
   "id": "palestinian-apollo",
   "metadata": {},
   "outputs": [],
   "source": [
    "class Circle():\n",
    "    def __init__(self, center, radius):\n",
    "        self.center = center\n",
    "        self.__radius = radius\n",
    "\n",
    "    def __str__(self):\n",
    "        return f'center: {self.center}, radius: {self.get_radius()}, diameter: {self.get_diameter()}'\n",
    "\n",
    "    def contains(self, point):\n",
    "        return self.dist(point) <= 0\n",
    "        \n",
    "    def dist(point):\n",
    "        dx = self.center[0] - point[0]\n",
    "        dy = self.center[1] - point[1]\n",
    "        return (dx*dx + dy*dy)**0.5 - radius\n",
    "\n",
    "    def set_radius(self, radius):\n",
    "        self.__radius = radius\n",
    "\n",
    "    def get_radius(self):\n",
    "        return self.__radius\n",
    "\n",
    "    def get_diameter(self):\n",
    "        return self.__radius*2"
   ]
  },
  {
   "cell_type": "markdown",
   "id": "pleasant-television",
   "metadata": {},
   "source": [
    "## Polymorphie\n",
    "\n",
    "Polymorphie ist das Angebot einer einzelnen Schnittstelle für Objekte unterschiedlichen Typs.\n",
    "\n",
    "Wir haben schon einige Beispiele gesehen in der Polymorphie zum Einsatz kam.\n",
    "Der ``+``-Operator angewendet auf ganzen Zahlen und Zeichenketten wäre ein solches Beispiel:"
   ]
  },
  {
   "cell_type": "code",
   "execution_count": 12,
   "id": "worst-completion",
   "metadata": {},
   "outputs": [
    {
     "name": "stdout",
     "output_type": "stream",
     "text": [
      "9\n",
      "36\n"
     ]
    }
   ],
   "source": [
    "print(3 + 6)\n",
    "print('3' + '6')"
   ]
  },
  {
   "cell_type": "markdown",
   "id": "injured-magazine",
   "metadata": {},
   "source": [
    "Die Schnittstelle ist dabei der ``+``-Operator und die unterschiedlichen Objekte sind einmal vom Typ ``int`` und einmal vom Typ ``str``.\n",
    "Aber auch unser Beispiel mit den Klassen ``Person``, ``Student``, ``Lecturer`` bietet Polymorphie.\n",
    "Die gemeinsame Schnittstelle ist die Basisklasse ``Person``.\n",
    "Ein ``Student`` und ``Lecturer`` sind auch jeweils eine ``Person`` und bieten uns alle Attribute und Methoden die auch eine ``Person`` bietet.\n",
    "Deren konkrete Implementierung kann sich jedoch unterscheiden.\n",
    "\n",
    "Wir könnten nun eine Funktion schreiben, die eine ``Person`` erwartet.\n",
    "Da diese Funktion mit ``Person`` als Typ umgehen kann, kann sie auch mit den Typen ``Lecturer`` und ``Student`` umgehen."
   ]
  },
  {
   "cell_type": "code",
   "execution_count": 13,
   "id": "behind-action",
   "metadata": {},
   "outputs": [
    {
     "name": "stdout",
     "output_type": "stream",
     "text": [
      "Anna\n",
      "Huber\n"
     ]
    }
   ],
   "source": [
    "def printName(person):\n",
    "    print(person.name)\n",
    "\n",
    "student = Student('3131', 'Anna', 22)\n",
    "lecturer = Lecturer('Huber', 45, 'Prof.')\n",
    "\n",
    "printName(student)\n",
    "printName(lecturer)"
   ]
  },
  {
   "cell_type": "markdown",
   "id": "precise-electric",
   "metadata": {},
   "source": [
    "An dieser Stelle wissen wir nicht genau welchen Typ die Variable ``person`` hat.\n",
    "Wir wissen allerdings, dass was auch immer der Typ ist, dessen Basisklasse ``Person`` ist und deshalb ein Attribut ``name`` vorhanden sein muss.\n",
    "\n",
    "Wundert es uns nicht, dass die Funktion ``print`` jeden Wert von jedwedem Datentyp ausgeben kann?\n",
    "Wie funktioniert das?\n",
    "Die Antwort lautet: Polymorphie!\n",
    "``print(ob)`` geht davon aus, dass das Objekt ``ob`` eine Methode ``__str__()`` besitzt und diese eine Zeichenkette zurückliefert.\n",
    "Das ist der Grund weshalb auch unsere Objekte in schöner Art und Weise ausgegeben werden!\n",
    "Wir haben diese Methode ebenfalls definiert.\n",
    "\n",
    "Funktionen und Methoden, welche andere Objekte verarbeiten erwarten von diesen ein bestimmte Menge an Methoden und Attribute.\n",
    "Diese Menge bezeichnen wir als Schnittstelle (engl. Interface).\n",
    "\n",
    "Selbst unsere ``for``-Schleife\n",
    "\n",
    "```python\n",
    "for i in sequenz:\n",
    "    # do something\n",
    "```\n",
    "\n",
    "erwartet von der Variablen ``sequenz``, dass es sich um eine ``Sequenz`` handelt.\n",
    "Das heißt um ein *Objekt* das wir iterieren können.\n",
    "Es ist der Schleife egal ob es eine Liste, ein Bereich, ein Tupel oder sonst etwas iterierbares ist.\n",
    "Es muss lediglich die Schnittstelle ``Iterable`` erfüllen.\n",
    "\n",
    "Es sei angemerkt, dass *Polymorphie* ein Konzept ist, was über die objektorientierte Programmierung hinausreicht.\n",
    "Auch in der prozeduralen wie auch funktionalen Programmierung nutzten wir die *Polymorphie*."
   ]
  }
 ],
 "metadata": {
  "jupytext": {
   "formats": "md:myst",
   "text_representation": {
    "extension": ".md",
    "format_name": "myst"
   }
  },
  "kernelspec": {
   "display_name": "Python 3",
   "language": "python",
   "name": "python3"
  },
  "language_info": {
   "codemirror_mode": {
    "name": "ipython",
    "version": 3
   },
   "file_extension": ".py",
   "mimetype": "text/x-python",
   "name": "python",
   "nbconvert_exporter": "python",
   "pygments_lexer": "ipython3",
   "version": "3.9.8"
  },
  "source_map": [
   11,
   40,
   55,
   59,
   82,
   124,
   130,
   136,
   140,
   145,
   156,
   230,
   257,
   265,
   268,
   272,
   280,
   287,
   291,
   301,
   326,
   335,
   338,
   349,
   358
  ]
 },
 "nbformat": 4,
 "nbformat_minor": 5
}