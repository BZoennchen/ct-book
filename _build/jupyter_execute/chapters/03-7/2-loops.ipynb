{
 "cells": [
  {
   "cell_type": "markdown",
   "id": "f732af87",
   "metadata": {},
   "source": [
    "(sec-loops)=\n",
    "# Schleifen\n",
    "\n",
    "Viele Aufgaben, die wir über unser Leben hinweg verrichten sind langweilig, da wir immer und immer wieder die gleichen Basisschritte wiederholen müssen. \n",
    "\n",
    "Nehmen Sie nur das Nachschlagen einer Telefonnummer im Telefonbuch (falls Sie so etwas überhaupt noch kennen). Wir gehen dabei Seite für Seite durch und suchen nach einem bestimmten Namen - langweilig ...\n",
    "\n",
    "Auch ganz alltägliche Dinge wie der Abwasch, Zähneputzen, Kochen, ja nahezu jede Aktion beinhaltet die eine oder andere Art der Wiederholung.\n",
    "\n",
    "Wie sich gezeigt hat, können wir interessanterweise durch diese langweiligen Wiederholungen ganz erstaunliche Dinge vollbringen. \n",
    "\n",
    "```{admonition} Wiederholung\n",
    ":class: remark\n",
    ":name: remark-repetition\n",
    "\n",
    "Wiederholung ist die Grundlage aller Berechnung.\n",
    "```\n",
    "\n",
    "## Motivation\n",
    "\n",
    "Lassen Sie uns einmal auf unseren Roboter blicken.\n",
    "Dieser bewegt sich auf einem Gitter.\n",
    "Jeder Gitterpunkt ist entweder begehbar oder durch ein Hindernis belegt.\n",
    "Der Roboter kann nur nach vorne laufen und sich nach links um 90 Grad drehen.\n",
    "Eine genauere Beschreibung des Roboters und seiner Welt finden Sie in der Übung [Roboterwelt](sec-robo-world).\n",
    "\n",
    "Die folgende Welt enthält unseren Roboter (türkis), das Ziel (gelb), begehbare Zellen (lila) und unbegehbare Hindernisse (blau)."
   ]
  },
  {
   "cell_type": "code",
   "execution_count": 1,
   "id": "ca38a671",
   "metadata": {},
   "outputs": [
    {
     "data": {
      "image/png": "[encoded data removed]",
      "text/plain": [
       "<Figure size 280x200 with 1 Axes>"
      ]
     },
     "execution_count": 1,
     "metadata": {
      "filenames": {
       "image/png": "/Users/bzoennchen/repositories/GitHub/ct-book/_build/jupyter_execute/chapters/03-7/2-loops_1_0.png"
      }
     },
     "output_type": "execute_result"
    }
   ],
   "source": [
    "import roboworld as rw\n",
    "\n",
    "world = rw.complex_maze(nrows=5, ncols=7)\n",
    "world.show()"
   ]
  },
  {
   "cell_type": "markdown",
   "id": "be4b883a",
   "metadata": {},
   "source": [
    "Wir sollen nun einen Algorithmus entwerfen, welcher den Roboter zum Ziel führt (sofern dies möglich ist).\n",
    "Diese Aufgabe scheint überwältigend schwierig!\n",
    "\n",
    "Wir verwenden das ``random``-Modul um einen *fairen Münzwurf* zu simulieren.\n",
    "Zudem verwenden wir lediglich folgende Methoden des Roboters:\n",
    "+ ``turn_left()``\n",
    "+ ``is_wall_in_front()``\n",
    "+ ``move()``\n",
    "+ ``is_at_goal()``\n",
    "\n",
    "In wie vielen Zeilen Code können wir dieses Problem lösen?\n",
    "Durch das Potenzial der **Wiederholung** brauchen wir ca. 10 Zeilen Code!\n",
    "\n",
    "Zuerst definieren wir eine Funktion ``random_move(robo)`` welche den Roboter um einen zufälligen Nachbargitterpunkt bewegt (falls dies möglich ist)."
   ]
  },
  {
   "cell_type": "code",
   "execution_count": 2,
   "id": "e4fa381c",
   "metadata": {},
   "outputs": [],
   "source": [
    "import random as rnd\n",
    "\n",
    "def random_move(robo):\n",
    "    turns = rnd.choice([0,1,2,3])\n",
    "    for _ in range(turns):\n",
    "        robo.turn_left()\n",
    "    if not robo.is_wall_in_front():\n",
    "        robo.move()"
   ]
  },
  {
   "cell_type": "markdown",
   "id": "ad01b647",
   "metadata": {},
   "source": [
    "Dann nutzten wir die Wiederholung und bewegen den Roboter immer weiter auf zufällige Nachbargitterpunkte bis er am Ziel angekommen ist:"
   ]
  },
  {
   "cell_type": "code",
   "execution_count": 3,
   "id": "2a9bab91",
   "metadata": {},
   "outputs": [],
   "source": [
    "robo = world.get_robo()\n",
    "robo.disable_print()\n",
    "while not robo.is_at_goal():\n",
    "    random_move(robo)"
   ]
  },
  {
   "cell_type": "markdown",
   "id": "990219a1",
   "metadata": {},
   "source": [
    "Lassen Sie uns die sog. *Zufallsfahrt* des Roboters ansehen:"
   ]
  },
  {
   "cell_type": "code",
   "execution_count": 4,
   "id": "0b1ffd43",
   "metadata": {},
   "outputs": [
    {
     "data": {
      "text/html": [
       "\n",
       "<link rel=\"stylesheet\"\n",
       "href=\"https://maxcdn.bootstrapcdn.com/font-awesome/4.4.0/css/font-awesome.min.css\">\n",
       "<script language=\"javascript\">\n",
       "  function isInternetExplorer() {\n",
       "    ua = navigator.userAgent;\n",
       "    /* MSIE used to detect old browsers and Trident used to newer ones*/\n",
       "    return ua.indexOf(\"MSIE \") > -1 || ua.indexOf(\"Trident/\") > -1;\n",
       "  }\n",
       "\n",
       "  /* Define the Animation class */\n",
       "  function Animation(frames, img_id, slider_id, interval, loop_select_id){\n",
       "    this.img_id = img_id;\n",
       "    this.slider_id = slider_id;\n",
       "    this.loop_select_id = loop_select_id;\n",
       "    this.interval = interval;\n",
       "    this.current_frame = 0;\n",
       "    this.direction = 0;\n",
       "    this.timer = null;\n",
       "    this.frames = new Array(frames.length);\n",
       "\n",
       "    for (var i=0; i<frames.length; i++)\n",
       "    {\n",
       "     this.frames[i] = new Image();\n",
       "     this.frames[i].src = frames[i];\n",
       "    }\n",
       "    var slider = document.getElementById(this.slider_id);\n",
       "    slider.max = this.frames.length - 1;\n",
       "    if (isInternetExplorer()) {\n",
       "        // switch from oninput to onchange because IE <= 11 does not conform\n",
       "        // with W3C specification. It ignores oninput and onchange behaves\n",
       "        // like oninput. In contrast, Microsoft Edge behaves correctly.\n",
       "        slider.setAttribute('onchange', slider.getAttribute('oninput'));\n",
       "        slider.setAttribute('oninput', null);\n",
       "    }\n",
       "    this.set_frame(this.current_frame);\n",
       "  }\n",
       "\n",
       "  Animation.prototype.get_loop_state = function(){\n",
       "    var button_group = document[this.loop_select_id].state;\n",
       "    for (var i = 0; i < button_group.length; i++) {\n",
       "        var button = button_group[i];\n",
       "        if (button.checked) {\n",
       "            return button.value;\n",
       "        }\n",
       "    }\n",
       "    return undefined;\n",
       "  }\n",
       "\n",
       "  Animation.prototype.set_frame = function(frame){\n",
       "    this.current_frame = frame;\n",
       "    document.getElementById(this.img_id).src =\n",
       "            this.frames[this.current_frame].src;\n",
       "    document.getElementById(this.slider_id).value = this.current_frame;\n",
       "  }\n",
       "\n",
       "  Animation.prototype.next_frame = function()\n",
       "  {\n",
       "    this.set_frame(Math.min(this.frames.length - 1, this.current_frame + 1));\n",
       "  }\n",
       "\n",
       "  Animation.prototype.previous_frame = function()\n",
       "  {\n",
       "    this.set_frame(Math.max(0, this.current_frame - 1));\n",
       "  }\n",
       "\n",
       "  Animation.prototype.first_frame = function()\n",
       "  {\n",
       "    this.set_frame(0);\n",
       "  }\n",
       "\n",
       "  Animation.prototype.last_frame = function()\n",
       "  {\n",
       "    this.set_frame(this.frames.length - 1);\n",
       "  }\n",
       "\n",
       "  Animation.prototype.slower = function()\n",
       "  {\n",
       "    this.interval /= 0.7;\n",
       "    if(this.direction > 0){this.play_animation();}\n",
       "    else if(this.direction < 0){this.reverse_animation();}\n",
       "  }\n",
       "\n",
       "  Animation.prototype.faster = function()\n",
       "  {\n",
       "    this.interval *= 0.7;\n",
       "    if(this.direction > 0){this.play_animation();}\n",
       "    else if(this.direction < 0){this.reverse_animation();}\n",
       "  }\n",
       "\n",
       "  Animation.prototype.anim_step_forward = function()\n",
       "  {\n",
       "    this.current_frame += 1;\n",
       "    if(this.current_frame < this.frames.length){\n",
       "      this.set_frame(this.current_frame);\n",
       "    }else{\n",
       "      var loop_state = this.get_loop_state();\n",
       "      if(loop_state == \"loop\"){\n",
       "        this.first_frame();\n",
       "      }else if(loop_state == \"reflect\"){\n",
       "        this.last_frame();\n",
       "        this.reverse_animation();\n",
       "      }else{\n",
       "        this.pause_animation();\n",
       "        this.last_frame();\n",
       "      }\n",
       "    }\n",
       "  }\n",
       "\n",
       "  Animation.prototype.anim_step_reverse = function()\n",
       "  {\n",
       "    this.current_frame -= 1;\n",
       "    if(this.current_frame >= 0){\n",
       "      this.set_frame(this.current_frame);\n",
       "    }else{\n",
       "      var loop_state = this.get_loop_state();\n",
       "      if(loop_state == \"loop\"){\n",
       "        this.last_frame();\n",
       "      }else if(loop_state == \"reflect\"){\n",
       "        this.first_frame();\n",
       "        this.play_animation();\n",
       "      }else{\n",
       "        this.pause_animation();\n",
       "        this.first_frame();\n",
       "      }\n",
       "    }\n",
       "  }\n",
       "\n",
       "  Animation.prototype.pause_animation = function()\n",
       "  {\n",
       "    this.direction = 0;\n",
       "    if (this.timer){\n",
       "      clearInterval(this.timer);\n",
       "      this.timer = null;\n",
       "    }\n",
       "  }\n",
       "\n",
       "  Animation.prototype.play_animation = function()\n",
       "  {\n",
       "    this.pause_animation();\n",
       "    this.direction = 1;\n",
       "    var t = this;\n",
       "    if (!this.timer) this.timer = setInterval(function() {\n",
       "        t.anim_step_forward();\n",
       "    }, this.interval);\n",
       "  }\n",
       "\n",
       "  Animation.prototype.reverse_animation = function()\n",
       "  {\n",
       "    this.pause_animation();\n",
       "    this.direction = -1;\n",
       "    var t = this;\n",
       "    if (!this.timer) this.timer = setInterval(function() {\n",
       "        t.anim_step_reverse();\n",
       "    }, this.interval);\n",
       "  }\n",
       "</script>\n",
       "\n",
       "<style>\n",
       ".animation {\n",
       "    display: inline-block;\n",
       "    text-align: center;\n",
       "}\n",
       "input[type=range].anim-slider {\n",
       "    width: 374px;\n",
       "    margin-left: auto;\n",
       "    margin-right: auto;\n",
       "}\n",
       ".anim-buttons {\n",
       "    margin: 8px 0px;\n",
       "}\n",
       ".anim-buttons button {\n",
       "    padding: 0;\n",
       "    width: 36px;\n",
       "}\n",
       ".anim-state label {\n",
       "    margin-right: 8px;\n",
       "}\n",
       ".anim-state input {\n",
       "    margin: 0;\n",
       "    vertical-align: middle;\n",
       "}\n",
       "</style>\n",
       "\n",
       "<div class=\"animation\">\n",
       "  <img id=\"_anim_imgfa064f5a8cca4f69a5ad2e7e890f8bff\">\n",
       "  <div class=\"anim-controls\">\n",
       "    <input id=\"_anim_sliderfa064f5a8cca4f69a5ad2e7e890f8bff\" type=\"range\" class=\"anim-slider\"\n",
       "           name=\"points\" min=\"0\" max=\"1\" step=\"1\" value=\"0\"\n",
       "           oninput=\"animfa064f5a8cca4f69a5ad2e7e890f8bff.set_frame(parseInt(this.value));\">\n",
       "    <div class=\"anim-buttons\">\n",
       "      <button title=\"Decrease speed\" aria-label=\"Decrease speed\" onclick=\"animfa064f5a8cca4f69a5ad2e7e890f8bff.slower()\">\n",
       "          <i class=\"fa fa-minus\"></i></button>\n",
       "      <button title=\"First frame\" aria-label=\"First frame\" onclick=\"animfa064f5a8cca4f69a5ad2e7e890f8bff.first_frame()\">\n",
       "        <i class=\"fa fa-fast-backward\"></i></button>\n",
       "      <button title=\"Previous frame\" aria-label=\"Previous frame\" onclick=\"animfa064f5a8cca4f69a5ad2e7e890f8bff.previous_frame()\">\n",
       "          <i class=\"fa fa-step-backward\"></i></button>\n",
       "      <button title=\"Play backwards\" aria-label=\"Play backwards\" onclick=\"animfa064f5a8cca4f69a5ad2e7e890f8bff.reverse_animation()\">\n",
       "          <i class=\"fa fa-play fa-flip-horizontal\"></i></button>\n",
       "      <button title=\"Pause\" aria-label=\"Pause\" onclick=\"animfa064f5a8cca4f69a5ad2e7e890f8bff.pause_animation()\">\n",
       "          <i class=\"fa fa-pause\"></i></button>\n",
       "      <button title=\"Play\" aria-label=\"Play\" onclick=\"animfa064f5a8cca4f69a5ad2e7e890f8bff.play_animation()\">\n",
       "          <i class=\"fa fa-play\"></i></button>\n",
       "      <button title=\"Next frame\" aria-label=\"Next frame\" onclick=\"animfa064f5a8cca4f69a5ad2e7e890f8bff.next_frame()\">\n",
       "          <i class=\"fa fa-step-forward\"></i></button>\n",
       "      <button title=\"Last frame\" aria-label=\"Last frame\" onclick=\"animfa064f5a8cca4f69a5ad2e7e890f8bff.last_frame()\">\n",
       "          <i class=\"fa fa-fast-forward\"></i></button>\n",
       "      <button title=\"Increase speed\" aria-label=\"Increase speed\" onclick=\"animfa064f5a8cca4f69a5ad2e7e890f8bff.faster()\">\n",
       "          <i class=\"fa fa-plus\"></i></button>\n",
       "    </div>\n",
       "    <form title=\"Repetition mode\" aria-label=\"Repetition mode\" action=\"#n\" name=\"_anim_loop_selectfa064f5a8cca4f69a5ad2e7e890f8bff\"\n",
       "          class=\"anim-state\">\n",
       "      <input type=\"radio\" name=\"state\" value=\"once\" id=\"_anim_radio1_fa064f5a8cca4f69a5ad2e7e890f8bff\"\n",
       "             >\n",
       "      <label for=\"_anim_radio1_fa064f5a8cca4f69a5ad2e7e890f8bff\">Once</label>\n",
       "      <input type=\"radio\" name=\"state\" value=\"loop\" id=\"_anim_radio2_fa064f5a8cca4f69a5ad2e7e890f8bff\"\n",
       "             checked>\n",
       "      <label for=\"_anim_radio2_fa064f5a8cca4f69a5ad2e7e890f8bff\">Loop</label>\n",
       "      <input type=\"radio\" name=\"state\" value=\"reflect\" id=\"_anim_radio3_fa064f5a8cca4f69a5ad2e7e890f8bff\"\n",
       "             >\n",
       "      <label for=\"_anim_radio3_fa064f5a8cca4f69a5ad2e7e890f8bff\">Reflect</label>\n",
       "    </form>\n",
       "  </div>\n",
       "</div>\n",
       "\n",
       "\n",
       "<script language=\"javascript\">\n",
       "  /* Instantiate the Animation class. */\n",
       "  /* The IDs given should match those used in the template above. */\n",
       "  (function() {\n",
       "    var img_id = \"_anim_imgfa064f5a8cca4f69a5ad2e7e890f8bff\";\n",
       "    var slider_id = \"_anim_sliderfa064f5a8cca4f69a5ad2e7e890f8bff\";\n",
       "    var loop_select_id = \"_anim_loop_selectfa064f5a8cca4f69a5ad2e7e890f8bff\";\n",
       "    var frames = new Array(10);\n",
       "\n",
       "  frames[0] = \"data:image/png;base64,iVBORw0KGgoAAAANSUhEUgAAANIAAACWCAYAAACrUNY4AAAAOXRFWHRTb2Z0d2FyZQBNYXRwbG90\\\n",
       "bGliIHZlcnNpb24zLjYuMywgaHR0cHM6Ly9tYXRwbG90bGliLm9yZy/P9b71AAAACXBIWXMAAAk6\\\n",
       "AAAJOgHwZJJKAAADCElEQVR4nO3dQWoTYRzG4a+SQKNgSTd1EQNdSILS1dymp+q6d+kR2o0LGQSF\\\n",
       "EjdDaZCgU4RSL/Hyfeg8zwVeJsMPZpX/0dnZ2ct2uy21PT09lePj48nsHg6H6pullDKfzyf1O7fa\\\n",
       "nW2323J9fV19eLfbldVqNZndm5ubcnt7W3338vJyUr9zq91X1RfhPyQkCBASBAgJAoQEAUKCACFB\\\n",
       "gJAgQEgQICQIEBIECAkChAQBQoIAIUGAkCBASBAgJAgQEgQICQKEBAFCggAhQYCQIEBIECAkCBAS\\\n",
       "BAgJAo4uLi5erq6uqg8Pw1D2+3313fV6XRaLRfXdcRwntTu19zs7PT1t8u/9fd83uc6w2WwmdSWh\\\n",
       "1e7U3q9POwgQEgQICQKEBAFCggAhQYCQIEBIECAkCBASBAgJAoQEAUKCACFBgJAgQEgQICQIEBIE\\\n",
       "CAkChAQBQoIAIUGAkCBASBAgJAgQEgQICQKEBAHNrlG4zlDHcrmc1FWIVu+32TUK1xnq6LpuUlch\\\n",
       "Wr1fn3YQICQIEBIECAkChAQBQoIAIUGAkCBASBAgJAgQEgQICQKEBAFCggAhQYCQIEBIECAkCBAS\\\n",
       "BAgJAoQEAUKCACFBgJAgQEgQICQIEBIECAkCml2j+DX+KfPXb6vvPv/eN7lW8DAcyuFn9dnybjWb\\\n",
       "1FWIVlc/ml2j+PbjoZy8/1h9d7y/a/K8379+Kf3no+q75x8Wk7oK0erqh087CBASBAgJAoQEAUKC\\\n",
       "ACFBgJAgQEgQICQIEBIECAkChAQBQoIAIUGAkCBASBAgJAgQEgQICQKEBAFCggAhQYCQIEBIECAk\\\n",
       "CBASBAgJAoQEAbPHx8ey2+2qDz+PYxnv76rvjuPY5HnfnIzl/FP9KwnjuG7yvMMwlL7vq+8ul8vS\\\n",
       "dV313WbXKFpdK5jalYTNZjOp5+26zjUK+FcJCQKEBAFCggAhQYCQIEBIECAkCBASBAgJAoQEAUKC\\\n",
       "ACFBgJAgQEgQICQIEBIECAkChAQBQoIAIUGAkCBASBAgJAgQEgQICQKEBAFCgoC/hWLQ79CrbxwA\\\n",
       "AAAASUVORK5CYII=\\\n",
       "\"\n",
       "  frames[1] = \"data:image/png;base64,iVBORw0KGgoAAAANSUhEUgAAANIAAACWCAYAAACrUNY4AAAAOXRFWHRTb2Z0d2FyZQBNYXRwbG90\\\n",
       "bGliIHZlcnNpb24zLjYuMywgaHR0cHM6Ly9tYXRwbG90bGliLm9yZy/P9b71AAAACXBIWXMAAAk6\\\n",
       "AAAJOgHwZJJKAAAC4klEQVR4nO3dMWp0ZRiG4S+aQFJOEGIRByxkpgkW07iWrCp11uAW0tukspDw\\\n",
       "F4JOFZQgIybd7yZuzoee69rAy5zDDaea5+zm5ubzfr8fS/v4+BiXl5eruXs6nRa/OcYYFxcXq3rO\\\n",
       "s+6e7/f78fj4uPjh4/E4bm9vV3P36elpPD8/L373/v5+Vc951t0vFr8I/0NCgoCQICAkCAgJAkKC\\\n",
       "gJAgICQICAkCQoKAkCAgJAgICQJCgoCQICAkCAgJAkKCgJAgICQICAkCQoKAkCAgJAgICQJCgoCQ\\\n",
       "ICAkCJzd3d19fnh4WPzw6+vreHt7W/zudrsdV1dXi999f39f1d21vd/z6+vrKf/e//LyMmWdYbfb\\\n",
       "rWolYdbdtb1fn3YQEBIEhAQBIUFASBAQEgSEBAEhQUBIEBASBIQEASFBQEgQEBIEhAQBIUFASBAQ\\\n",
       "EgSEBAEhQUBIEBASBIQEASFBQEgQEBIEhAQBIUFg2hqFdYZlbDabVa1CzHq/09YorDMs43A4rGoV\\\n",
       "Ytb79WkHASFBQEgQEBIEhAQBIUFASBAQEgSEBAEhQUBIEBASBIQEASFBQEgQEBIEhAQBIUFASBAQ\\\n",
       "EgSEBAEhQUBIEBASBIQEASFBQEgQEBIEpq1RHP/8exz/+XLxu99/NaasFfzxehqnvxY/O76+PV/V\\\n",
       "KsSs1Y9paxQ//f5p/Pjb8g/6h2/GlN/766dfxsvPZ4vf/fa7q1WtQsxa/fBpBwEhQUBIEBASBIQE\\\n",
       "ASFBQEgQEBIEhAQBIUFASBAQEgSEBAEhQUBIEBASBIQEASFBQEgQEBIEhAQBIUFASBAQEgSEBAEh\\\n",
       "QUBIEBASBKatUcxaK1jbSsJ2u13V791sNutao5i1VrC2lYTdbreq33s4HKxRwH+VkCAgJAgICQJC\\\n",
       "goCQICAkCAgJAkKCgJAgICQICAkCQoKAkCAgJAgICQJCgoCQICAkCAgJAkKCgJAgICQICAkCQoKA\\\n",
       "kCAgJAgICQL/AmuMyMFvt/xpAAAAAElFTkSuQmCC\\\n",
       "\"\n",
       "  frames[2] = \"data:image/png;base64,iVBORw0KGgoAAAANSUhEUgAAANIAAACWCAYAAACrUNY4AAAAOXRFWHRTb2Z0d2FyZQBNYXRwbG90\\\n",
       "bGliIHZlcnNpb24zLjYuMywgaHR0cHM6Ly9tYXRwbG90bGliLm9yZy/P9b71AAAACXBIWXMAAAk6\\\n",
       "AAAJOgHwZJJKAAADBUlEQVR4nO3dMWobURiF0ecggUSKIDcOQQhcGAmCq9mNV+Xae/ESXBkShAsX\\\n",
       "ERiGYOOoGHXOJi7vkbxzNnAZDR9Mpf/s4uLiY7fbldpOp1NZLBbd7B6Px+qbpZQyn8+7+p1b7c52\\\n",
       "u125u7urPnw4HMp6ve5m9/7+vjw8PFTfvbm56ep3brX7qfoi/IeEBAFCggAhQYCQIEBIECAkCBAS\\\n",
       "BAgJAoQEAUKCACFBgJAgQEgQICQIEBIECAkChAQBQoIAIUGAkCBASBAgJAgQEgQICQKEBAFCggAh\\\n",
       "QcDZ9fX1x+3tbfXhcRzL29tb9d3NZlOWy2X13Wmautrt7f3Ozs/Pm/x7/36/b3KdYbvddnUlodVu\\\n",
       "b+/Xpx0ECAkChAQBQoIAIUGAkCBASBAgJAgQEgQICQKEBAFCggAhQYCQIEBIECAkCBASBAgJAoQE\\\n",
       "AUKCACFBgJAgQEgQICQIEBIECAkChAQBQoKAZtcoXGeoY7VadXUVotX7bXaNwnWGOoZh6OoqRKv3\\\n",
       "69MOAoQEAUKCACFBgJAgQEgQICQIEBIECAkChAQBQoIAIUGAkCBASBAgJAgQEgQICQKEBAFCggAh\\\n",
       "QYCQIEBIECAkCBASBAgJAoQEAUKCACFBQLNrFOOfqbyXRfXd9fzU5FrB7/FYju/VZ8vX9ayrqxCt\\\n",
       "rn40u0bx9ONXefz4Vn33avnS5Hmfn36W/eNZ9d3Lq2VXVyFaXf3waQcBQoIAIUGAkCBASBAgJAgQ\\\n",
       "EgQICQKEBAFCggAhQYCQIEBIECAkCBASBAgJAoQEAUKCACFBgJAgQEgQICQIEBIECAkChAQBQoIA\\\n",
       "IUGAkCBg9vr6Wg6HQ/Xh9fxUrpYv1XenaWryvJ+/TOXye/0rCdO0afK84ziW/X5ffXe1WpVhGKrv\\\n",
       "NrtG0epaQW9XErbbbVfPOwyDaxTwrxISBAgJAoQEAUKCACFBgJAgQEgQICQIEBIECAkChAQBQoIA\\\n",
       "IUGAkCBASBAgJAgQEgQICQKEBAFCggAhQYCQIEBIECAkCBASBAgJAoQEAX8BZe7MdAieongAAAAA\\\n",
       "SUVORK5CYII=\\\n",
       "\"\n",
       "  frames[3] = \"data:image/png;base64,iVBORw0KGgoAAAANSUhEUgAAANIAAACWCAYAAACrUNY4AAAAOXRFWHRTb2Z0d2FyZQBNYXRwbG90\\\n",
       "bGliIHZlcnNpb24zLjYuMywgaHR0cHM6Ly9tYXRwbG90bGliLm9yZy/P9b71AAAACXBIWXMAAAk6\\\n",
       "AAAJOgHwZJJKAAADB0lEQVR4nO3dQUokBxiG4TJoUFyElgGzEMFF6Ibgqm/jqVx7F4/gKovQZGA2\\\n",
       "DYFm0ITOUC6EySVeqkjqeS7wUV28UKv+T66vr79vNpthau/v78P5+flido/H4+SbwzAMZ2dni/qd\\\n",
       "59o93Ww2w9PT0+TD+/1+uLm5Wczu8/Pz8PLyMvnuw8PDon7nuXZ/mHwR/oeEBAEhQUBIEBASBIQE\\\n",
       "ASFBQEgQEBIEhAQBIUFASBAQEgSEBAEhQUBIEBASBIQEASFBQEgQEBIEhAQBIUFASBAQEgSEBAEh\\\n",
       "QUBIEDi5v7///vj4OPnw4XAY3t7eJt+9vb0dLi4uJt8dx3FRu0t7v6dXV1ez/Hv/breb5TrDer1e\\\n",
       "1JWEuXaX9n592kFASBAQEgSEBAEhQUBIEBASBIQEASFBQEgQEBIEhAQBIUFASBAQEgSEBAEhQUBI\\\n",
       "EBASBIQEASFBQEgQEBIEhAQBIUFASBAQEgSEBIHZrlG4zjCN1Wq1qKsQc73f2a5RuM4wje12u6ir\\\n",
       "EHO9X592EBASBIQEASFBQEgQEBIEhAQBIUFASBAQEgSEBAEhQUBIEBASBIQEASFBQEgQEBIEhAQB\\\n",
       "IUFASBAQEgSEBAEhQUBIEBASBIQEASFBYLZrFH99ex8+frycfPfy459ZrhV8PRyH49+Tzw4/35wu\\\n",
       "6irEXFc/ZrtG8fXLn8O3q7vJdz8dP8/yvF/++H3Y/XYy+e7dLxeLugox19UPn3YQEBIEhAQBIUFA\\\n",
       "SBAQEgSEBAEhQUBIEBASBIQEASFBQEgQEBIEhAQBIUFASBAQEgSEBAEhQUBIEBASBIQEASFBQEgQ\\\n",
       "EBIEhAQBIUHg9PX1ddjv95MPX36Mw6fj58l3x3Gc53l/Goe7X6e/kjCOt7M87+FwGHa73eS7q9Vq\\\n",
       "2G63k+/Odo1irmsFS7uSsF6vF/W82+3WNQr4rxISBIQEASFBQEgQEBIEhAQBIUFASBAQEgSEBAEh\\\n",
       "QUBIEBASBIQEASFBQEgQEBIEhAQBIUFASBAQEgSEBAEhQUBIEBASBIQEASFB4F8x7c9Pk7SKCQAA\\\n",
       "AABJRU5ErkJggg==\\\n",
       "\"\n",
       "  frames[4] = \"data:image/png;base64,iVBORw0KGgoAAAANSUhEUgAAANIAAACWCAYAAACrUNY4AAAAOXRFWHRTb2Z0d2FyZQBNYXRwbG90\\\n",
       "bGliIHZlcnNpb24zLjYuMywgaHR0cHM6Ly9tYXRwbG90bGliLm9yZy/P9b71AAAACXBIWXMAAAk6\\\n",
       "AAAJOgHwZJJKAAADBElEQVR4nO3dQWorBRzH8amk0PJASRTqovTRhSSoXeU2vYwXcFF4u96lR+jK\\\n",
       "xSP4wE1WQakSH+lCqJf4MoPO53OBH5nhC7PK/+zq6upts9kMY3t9fR0uLi5ms3s8HkffHIZhOD8/\\\n",
       "n9Vznmp3sdlshsfHx9GH9/v9cH19PZvdp6en4fn5efTd+/v7WT3nqXa/GH0R/oeEBAEhQUBIEBAS\\\n",
       "BIQEASFBQEgQEBIEhAQBIUFASBAQEgSEBAEhQUBIEBASBIQEASFBQEgQEBIEhAQBIUFASBAQEgSE\\\n",
       "BAEhQUBIEDi7u7t7e3h4GH34cDgMLy8vo+/e3NwMl5eXo++eTqdZ7c7t/S5Wq9Uk/96/2+0muc6w\\\n",
       "Xq9ndSVhqt25vV+fdhAQEgSEBAEhQUBIEBASBIQEASFBQEgQEBIEhAQBIUFASBAQEgSEBAEhQUBI\\\n",
       "EBASBIQEASFBQEgQEBIEhAQBIUFASBAQEgSEBAEhQWCyaxSuM4xjuVzO6irEVO93smsUrjOMY7vd\\\n",
       "zuoqxFTv16cdBIQEASFBQEgQEBIEhAQBIUFASBAQEgSEBAEhQUBIEBASBIQEASFBQEgQEBIEhAQB\\\n",
       "IUFASBAQEgSEBAEhQUBIEBASBIQEASFBQEgQOPv+x7u3n37+MPrwu3/+ntW1gt8Px+H41+izw7fX\\\n",
       "i1k956mufiy+XH49fF7djj78zfHTrK4V/Pbrx2H3y9nou7ffXc7qOU919cOnHQSEBAEhQUBIEBAS\\\n",
       "BIQEASFBQEgQEBIEhAQBIUFASBAQEgSEBAEhQUBIEBASBIQEASFBQEgQEBIEhAQBIUFASBAQEgSE\\\n",
       "BAEhQUBIEFh8/vOP4f3x0+jDp9Np2O/3s9l999VpuP1h/CsJp9PNJL/3cDgMu91u9N3lcjlst9vR\\\n",
       "dxer1WpW1wrmdiVhvV7P6vdut1vXKOC/SkgQEBIEhAQBIUFASBAQEgSEBAEhQUBIEBASBIQEASFB\\\n",
       "QEgQEBIEhAQBIUFASBAQEgSEBAEhQUBIEBASBIQEASFBQEgQEBIEhASBfwH9Ws8/dlFb+gAAAABJ\\\n",
       "RU5ErkJggg==\\\n",
       "\"\n",
       "  frames[5] = \"data:image/png;base64,iVBORw0KGgoAAAANSUhEUgAAANIAAACWCAYAAACrUNY4AAAAOXRFWHRTb2Z0d2FyZQBNYXRwbG90\\\n",
       "bGliIHZlcnNpb24zLjYuMywgaHR0cHM6Ly9tYXRwbG90bGliLm9yZy/P9b71AAAACXBIWXMAAAk6\\\n",
       "AAAJOgHwZJJKAAADAklEQVR4nO3dsWosBRiG4YlsIMHisIsQixg4heyixmbvJrdkE6sDuZdcQk5j\\\n",
       "IYuFcNhqFaMEnDQSb+JlBp3nuYGPneGFqfY/u7q6etvtdsPUXl9fh4uLi8Xsvry8TL45DMNwfn6+\\\n",
       "qOc81+5qt9sNDw8Pkw8fj8fh+vp6MbuPj4/D09PT5Lt3d3eLes5z7X42+SL8DwkJAkKCgJAgICQI\\\n",
       "CAkCQoKAkCAgJAgICQJCgoCQICAkCAgJAkKCgJAgICQICAkCQoKAkCAgJAgICQJCgoCQICAkCAgJ\\\n",
       "AkKCgJAgcHZ7e/t2f38/+fDpdBqen58n3725uRkuLy8n3x3HcVG7S3u/q81mM8u/9x8Oh1muM2y3\\\n",
       "20VdSZhrd2nv16cdBIQEASFBQEgQEBIEhAQBIUFASBAQEgSEBAEhQUBIEBASBIQEASFBQEgQEBIE\\\n",
       "hAQBIUFASBAQEgSEBAEhQUBIEBASBIQEASFBQEgQmO0ahesM01iv14u6CjHX+53tGoXrDNPY7/eL\\\n",
       "ugox1/v1aQcBIUFASBAQEgSEBAEhQUBIEBASBIQEASFBQEgQEBIEhAQBIUFASBAQEgSEBAEhQUBI\\\n",
       "EBASBIQEASFBQEgQEBIEhAQBIUFASBAQEgTOvrv9/u2HHz9MPvzP38+Lulbw++llePlr8tnhy+vV\\\n",
       "op7zXFc/VuvNF8O7r76ZfHj89HFR1wp+/eXn4fDT2eS777++XNRznuvqh087CAgJAkKCgJAgICQI\\\n",
       "CAkCQoKAkCAgJAgICQJCgoCQICAkCAgJAkKCgJAgICQICAkCQoKAkCAgJAgICQJCgoCQICAkCAgJ\\\n",
       "AkKCgJAgsPrzj9+G8dPHyYfHcRyOx+Nidj9/Nw7vv53+SsI43szye0+n03A4HCbfXa/Xw36/n3x3\\\n",
       "tdlsFnWtYGlXErbb7aJ+736/d40C/quEBAEhQUBIEBASBIQEASFBQEgQEBIEhAQBIUFASBAQEgSE\\\n",
       "BAEhQUBIEBASBIQEASFBQEgQEBIEhAQBIUFASBAQEgSEBAEhQUBIEPgXUC7Q5pan2E8AAAAASUVO\\\n",
       "RK5CYII=\\\n",
       "\"\n",
       "  frames[6] = \"data:image/png;base64,iVBORw0KGgoAAAANSUhEUgAAANIAAACWCAYAAACrUNY4AAAAOXRFWHRTb2Z0d2FyZQBNYXRwbG90\\\n",
       "bGliIHZlcnNpb24zLjYuMywgaHR0cHM6Ly9tYXRwbG90bGliLm9yZy/P9b71AAAACXBIWXMAAAk6\\\n",
       "AAAJOgHwZJJKAAAC60lEQVR4nO3dMWoEdRyG4VlJJAELdxFiERcsdFdwsdjGs6TxGF7BcuucwSvk\\\n",
       "CKksJFgIkioIQbZIuniJlxn0/zwX+LEzvDDVfqubm5uP/X4/ze39/X26uroa5u75fJ795jRN0+Xl\\\n",
       "5VDPeam7F/v9frq/v5/98PPz83R7ezvM3YeHh+nx8XH2u3d3d0M956XufjL7RfgfEhIEhAQBIUFA\\\n",
       "SBAQEgSEBAEhQUBIEBASBIQEASFBQEgQEBIEhAQBIUFASBAQEgSEBAEhQUBIEBASBIQEASFBQEgQ\\\n",
       "EBIEhAQBIUFgdTgcPk6n0+yHX15eptfX19nvbrfb6fr6eva7b29vQ90d7f1ebDabRf69/+npaZF1\\\n",
       "ht1uN9RKwlJ3R3u/Pu0gICQICAkCQoKAkCAgJAgICQJCgoCQICAkCAgJAkKCgJAgICQICAkCQoKA\\\n",
       "kCAgJAgICQJCgoCQICAkCAgJAkKCgJAgICQICAkCQoLAYmsU1hnmsV6vh1qFWOr9LrZGYZ1hHsfj\\\n",
       "cahViKXer087CAgJAkKCgJAgICQICAkCQoKAkCAgJAgICQJCgoCQICAkCAgJAkKCgJAgICQICAkC\\\n",
       "QoKAkCAgJAgICQJCgoCQICAkCAgJAkKCgJAgsPr2u+8/fvr5l9kP//DFNNRawd8v5+n8z+xnpy9v\\\n",
       "L4Z6zkutflx8+tnn069/zf+Df/xqGmqt4M8/fp+eflvNfvfrb66Hes5LrX74tIOAkCAgJAgICQJC\\\n",
       "goCQICAkCAgJAkKCgJAgICQICAkCQoKAkCAgJAgICQJCgoCQICAkCAgJAkKCgJAgICQICAkCQoKA\\\n",
       "kCAgJAgICQKrw+HwcTqdZj+81FrBaCsJ2+12qN+7Xq+XWaPYbDZDrRWMtpKw2+2G+r3H49EaBfxX\\\n",
       "CQkCQoKAkCAgJAgICQJCgoCQICAkCAgJAkKCgJAgICQICAkCQoKAkCAgJAgICQJCgoCQICAkCAgJ\\\n",
       "AkKCgJAgICQICAkCQoKAkCDwL74FxtNqOHLyAAAAAElFTkSuQmCC\\\n",
       "\"\n",
       "  frames[7] = \"data:image/png;base64,iVBORw0KGgoAAAANSUhEUgAAANIAAACWCAYAAACrUNY4AAAAOXRFWHRTb2Z0d2FyZQBNYXRwbG90\\\n",
       "bGliIHZlcnNpb24zLjYuMywgaHR0cHM6Ly9tYXRwbG90bGliLm9yZy/P9b71AAAACXBIWXMAAAk6\\\n",
       "AAAJOgHwZJJKAAAC4klEQVR4nO3dMWp0ZRiG4S+aQFJOEGIRByxkpgkW07iWrCp11uAW0tukspDw\\\n",
       "F4JOFZQgIybd7yZuzoee69rAy5zDDaea5+zm5ubzfr8fS/v4+BiXl5eruXs6nRa/OcYYFxcXq3rO\\\n",
       "s+6e7/f78fj4uPjh4/E4bm9vV3P36elpPD8/L373/v5+Vc951t0vFr8I/0NCgoCQICAkCAgJAkKC\\\n",
       "gJAgICQICAkCQoKAkCAgJAgICQJCgoCQICAkCAgJAkKCgJAgICQICAkCQoKAkCAgJAgICQJCgoCQ\\\n",
       "ICAkCJzd3d19fnh4WPzw6+vreHt7W/zudrsdV1dXi999f39f1d21vd/z6+vrKf/e//LyMmWdYbfb\\\n",
       "rWolYdbdtb1fn3YQEBIEhAQBIUFASBAQEgSEBAEhQUBIEBASBIQEASFBQEgQEBIEhAQBIUFASBAQ\\\n",
       "EgSEBAEhQUBIEBASBIQEASFBQEgQEBIEhAQBIUFg2hqFdYZlbDabVa1CzHq/09YorDMs43A4rGoV\\\n",
       "Ytb79WkHASFBQEgQEBIEhAQBIUFASBAQEgSEBAEhQUBIEBASBIQEASFBQEgQEBIEhAQBIUFASBAQ\\\n",
       "EgSEBAEhQUBIEBASBIQEASFBQEgQEBIEpq1RHP/8exz/+XLxu99/NaasFfzxehqnvxY/O76+PV/V\\\n",
       "KsSs1Y9paxQ//f5p/Pjb8g/6h2/GlN/766dfxsvPZ4vf/fa7q1WtQsxa/fBpBwEhQUBIEBASBIQE\\\n",
       "ASFBQEgQEBIEhAQBIUFASBAQEgSEBAEhQUBIEBASBIQEASFBQEgQEBIEhAQBIUFASBAQEgSEBAEh\\\n",
       "QUBIEBASBKatUcxaK1jbSsJ2u13V791sNutao5i1VrC2lYTdbreq33s4HKxRwH+VkCAgJAgICQJC\\\n",
       "goCQICAkCAgJAkKCgJAgICQICAkCQoKAkCAgJAgICQJCgoCQICAkCAgJAkKCgJAgICQICAkCQoKA\\\n",
       "kCAgJAgICQL/AmuMyMFvt/xpAAAAAElFTkSuQmCC\\\n",
       "\"\n",
       "  frames[8] = \"data:image/png;base64,iVBORw0KGgoAAAANSUhEUgAAANIAAACWCAYAAACrUNY4AAAAOXRFWHRTb2Z0d2FyZQBNYXRwbG90\\\n",
       "bGliIHZlcnNpb24zLjYuMywgaHR0cHM6Ly9tYXRwbG90bGliLm9yZy/P9b71AAAACXBIWXMAAAk6\\\n",
       "AAAJOgHwZJJKAAAC0ElEQVR4nO3dMWpUaxyH4RNNMCknxc0twoCgzDSpZjfZwt1M6qzBLaS/TSqr\\\n",
       "YKdTBSTIiEkh6CZezkG/59nAn5mPF6aa39HFxcWv7XY7ze3l5WU6PT0d5u7hcJj95jRN08nJyVDf\\\n",
       "81J3j7fb7XR7ezv74f1+P11eXg5z9+7ubrq/v5/97vX19VDf81J3X81+Ef5CQoKAkCAgJAgICQJC\\\n",
       "goCQICAkCAgJAkKCgJAgICQICAkCQoKAkCAgJAgICQJCgoCQICAkCAgJAkKCgJAgICQICAkCQoKA\\\n",
       "kCAgJAgcXV1d/bq5uZn98OPj4/T09DT73fV6PZ2dnc1+9/n5eai7o73v8fn5+SL/3v/w8LDIOsNm\\\n",
       "sxlqJWGpu6O9r592EBASBIQEASFBQEgQEBIEhAQBIUFASBAQEgSEBAEhQUBIEBASBIQEASFBQEgQ\\\n",
       "EBIEhAQBIUFASBAQEgSEBAEhQUBIEBASBIQEASFBYLE1CusM81itVkOtQiz1voutUVhnmMdutxtq\\\n",
       "FWKp9/XTDgJCgoCQICAkCAgJAkKCgJAgICQICAkCQoKAkCAgJAgICQJCgoCQICAkCAgJAkKCgJAg\\\n",
       "ICQICAkCQoKAkCAgJAgICQJCgoCQICAkCAy3RrH/+n3a/3g9+913b35Oh2+zn53+vTweahViqdWP\\\n",
       "4dYo/v/yafrwef4H/u+fw/Tw8Wj2u2/fnw31vkutfvhpBwEhQUBIEBASBIQEASFBQEgQEBIEhAQB\\\n",
       "IUFASBAQEgSEBAEhQUBIEBASBIQEASFBQEgQEBIEhAQBIUFASBAQEgSEBAEhQUBIEBASBIZboxht\\\n",
       "JWG9Xg/1eVerlTWKv/nuUisJm81mqM+72+2sUcCfSkgQEBIEhAQBIUFASBAQEgSEBAEhQUBIEBAS\\\n",
       "BIQEASFBQEgQEBIEhAQBIUFASBAQEgSEBAEhQUBIEBASBIQEASFBQEgQEBIEhASB30Edyvsuu1cM\\\n",
       "AAAAAElFTkSuQmCC\\\n",
       "\"\n",
       "  frames[9] = \"data:image/png;base64,iVBORw0KGgoAAAANSUhEUgAAANIAAACWCAYAAACrUNY4AAAAOXRFWHRTb2Z0d2FyZQBNYXRwbG90\\\n",
       "bGliIHZlcnNpb24zLjYuMywgaHR0cHM6Ly9tYXRwbG90bGliLm9yZy/P9b71AAAACXBIWXMAAAk6\\\n",
       "AAAJOgHwZJJKAAAC2ElEQVR4nO3dMWojdxyG4XGwwSZFkBunMIYtFgmCK93Gp3Ltu/gIrrZYRIpt\\\n",
       "VInFJqgYd5tLvPyHZJ7nAh+a4YWp9Lu4u7v7tdvtptE+Pz+n6+vr1eyez+fhm9M0TVdXV6t6zkvt\\\n",
       "Xu52u+nl5WX48PF4nO7v71ez+/r6Or29vQ3ffXp6WtVzXmr3t+GL8D8kJAgICQJCgoCQICAkCAgJ\\\n",
       "AkKCgJAgICQICAkCQoKAkCAgJAgICQJCgoCQICAkCAgJAkKCgJAgICQICAkCQoKAkCAgJAgICQJC\\\n",
       "gsDF4+Pjr+fn5+HDp9Np+vj4GL778PAw3dzcDN+d53lVu2t7v5e3t7eL/Hv/4XBY5DrDdrtd1ZWE\\\n",
       "pXbX9n592kFASBAQEgSEBAEhQUBIEBASBIQEASFBQEgQEBIEhAQBIUFASBAQEgSEBAEhQUBIEBAS\\\n",
       "BIQEASFBQEgQEBIEhAQBIUFASBAQEgSEBIHFrlG4zjDGZrNZ1VWIpd7vYtcoXGcYY7/fr+oqxFLv\\\n",
       "16cdBIQEASFBQEgQEBIEhAQBIUFASBAQEgSEBAEhQUBIEBASBIQEASFBQEgQEBIEhAQBIUFASBAQ\\\n",
       "EgSEBAEhQUBIEBASBIQEASFBQEgQcI1ikJ+n83T+Z/js9Of95aqe81JXP1yjGOTH39+nw7eL4btf\\\n",
       "vt6s6jkvdfXDpx0EhAQBIUFASBAQEgSEBAEhQUBIEBASBIQEASFBQEgQEBIEhAQBIUFASBAQEgSE\\\n",
       "BAEhQUBIEBASBIQEASFBQEgQEBIEhAQBIUFASBC4fH9/n47H4/DheZ5Xtfv7H/P05a/xVxLm+WGR\\\n",
       "33s6nabD4TB8d7PZTPv9fviuaxSDLHUlYbvdrur37vd71yjgv0pIEBASBIQEASFBQEgQEBIEhAQB\\\n",
       "IUFASBAQEgSEBAEhQUBIEBASBIQEASFBQEgQEBIEhAQBIUFASBAQEgSEBAEhQUBIEBASBIQEgX8B\\\n",
       "H1vQ7vBVqacAAAAASUVORK5CYII=\\\n",
       "\"\n",
       "\n",
       "\n",
       "    /* set a timeout to make sure all the above elements are created before\n",
       "       the object is initialized. */\n",
       "    setTimeout(function() {\n",
       "        animfa064f5a8cca4f69a5ad2e7e890f8bff = new Animation(frames, img_id, slider_id, 149.0,\n",
       "                                 loop_select_id);\n",
       "    }, 0);\n",
       "  })()\n",
       "</script>\n"
      ],
      "text/plain": [
       "<IPython.core.display.HTML object>"
      ]
     },
     "metadata": {},
     "output_type": "display_data"
    }
   ],
   "source": [
    "rw.animate(world)"
   ]
  },
  {
   "cell_type": "markdown",
   "id": "78b9d1a0",
   "metadata": {},
   "source": [
    "Ist dieser Algorithmus besonders klever?\n",
    "Nein!\n",
    "Der Algorithmus ist sehr einfach und benötigt unter Umständen sehr viel Rechenzeit.\n",
    "Dennoch zeigt dieses Beispiel, dass die Wiederholung von einfachen Befehlen zu komplexen Lösungen führen können!\n",
    "\n",
    "```{admonition} Wiederholung und Codekomplexität\n",
    ":class: remark\n",
    ":name: remark-complexity-of-repetition\n",
    "*Wiederholung* trennt den Aufwand zum Lösen einer Aufgabe von der Komplexität des Codes.\n",
    "Eine Berechnung kann enorm aufwendig sein und dennoch benötigen wir wenig Denkarbeit (wenig Code) um einen Algorithmus für die Lösung zu entwerfen!\n",
    "```\n",
    "\n",
    "(sec-for)=\n",
    "## Die ``for``-Schleife\n",
    "\n",
    "Die ``for``-Schleife verwenden wir immer dann, wenn wir (zur Laufzeit) vor dem Eintritt in die Wiederholung wissen, wie viele Wiederholungen wir **maximal** benötigen.\n",
    "Dabei wollen wir entweder\n",
    "\n",
    "1. für eine bestimmte Anzahl $n \\in \\mathbb{N}$, oder\n",
    "2. für jedes Element einer *Datenstruktur* (Liste, Tupel, usw.)\n",
    "\n",
    "einen Befehlsblock ausführen.\n",
    "\n",
    "Im zweiten Fall spricht man auch von der sog. *Foreach-Schleife*.\n",
    "Durch den Zahlenbereich ``range()`` reduziert ``Python`` den ersten Fall auf den zweiten.\n",
    "\n",
    "### Die klassische ``for``-Schleife (Fall 1)\n",
    "\n",
    "```python\n",
    "n = ...\n",
    "for i in range(n):\n",
    "    # Codeblock\n",
    "```\n",
    "\n",
    "Der Name der *Zählervariable* (hier ``i``) kann frei gewählt werden, allerdings verwendet man für Fall 1 gewöhnlich: ``i``, ``j`` oder ``k``."
   ]
  },
  {
   "cell_type": "code",
   "execution_count": 5,
   "id": "ce93a301",
   "metadata": {},
   "outputs": [
    {
     "name": "stdout",
     "output_type": "stream",
     "text": [
      "0\n",
      "1\n",
      "4\n",
      "9\n",
      "16\n",
      "25\n",
      "36\n",
      "49\n",
      "64\n",
      "81\n"
     ]
    }
   ],
   "source": [
    "for i in range(10):\n",
    "    print(i**2)"
   ]
  },
  {
   "cell_type": "markdown",
   "id": "473f7467",
   "metadata": {},
   "source": [
    "Will man andeutet, dass die *Zählervariable* nicht benötigt wird, so verwendet man den Unterstrich ``_`` als ihren Namen."
   ]
  },
  {
   "cell_type": "code",
   "execution_count": 6,
   "id": "8f6cd315",
   "metadata": {},
   "outputs": [
    {
     "name": "stdout",
     "output_type": "stream",
     "text": [
      "42 ist die Antwort!\n",
      "42 ist die Antwort!\n",
      "42 ist die Antwort!\n",
      "42 ist die Antwort!\n",
      "42 ist die Antwort!\n",
      "42 ist die Antwort!\n",
      "42 ist die Antwort!\n",
      "42 ist die Antwort!\n",
      "42 ist die Antwort!\n",
      "42 ist die Antwort!\n"
     ]
    }
   ],
   "source": [
    "for _ in range(10):\n",
    "    print('42 ist die Antwort!')"
   ]
  },
  {
   "cell_type": "markdown",
   "id": "48beed9b",
   "metadata": {},
   "source": [
    "### Die Foreach-Schleife (Fall 2)\n",
    "\n",
    "```python\n",
    "sequenz = ... # some Sequenz of Elements\n",
    "for element in sequenz:\n",
    "    # Codeblock\n",
    "```\n",
    "\n",
    "Der Name mit dem wir die Elemente der Sequenz ansprechen (hier ``element``) kann frei gewählt werden und sollte beschreiben über welche Elemente wir *iterieren*."
   ]
  },
  {
   "cell_type": "code",
   "execution_count": 7,
   "id": "ef5b1dd7",
   "metadata": {},
   "outputs": [
    {
     "name": "stdout",
     "output_type": "stream",
     "text": [
      "Sarah\n",
      "Sebastian\n",
      "Babar\n",
      "Simon\n",
      "Martin\n"
     ]
    }
   ],
   "source": [
    "names = ['Sarah', 'Sebastian', 'Babar', 'Simon', 'Martin']\n",
    "\n",
    "for name in names:\n",
    "    print(name)"
   ]
  },
  {
   "cell_type": "markdown",
   "id": "fd3abd00",
   "metadata": {},
   "source": [
    "``range()`` ist, genau wie eine Liste und ein Tupel, auch eine *Sequenz*.\n",
    "Eine ``for``-Schleife läuft über die Einträge einer *Sequenz* oder anderer *iterierbarer* Strukturen.\n",
    "\n",
    "Es kann durchaus sein, dass wir die ``for``-Schleife auch dann verwenden, wenn nicht genau klar ist wie viele Wiederholungen wir benötigen.\n",
    "Ist uns bekannt wie viele Wiederholungen wir **maximal** benötigen ist dies kein Problem.\n",
    "\n",
    "Nehmen wir den Test ob eine Zahl $n$ eine Primzahl ist.\n",
    "Ein einfacher Algorithmus für den Test, testet für jede Zahl $m \\in \\{2, 3, \\ldots, n-1\\}$ ob $m$ die Zahl $n$ teilt.\n",
    "Wenn dies der Fall ist, ist $n$ keine Primzahl und wir können die Wiederholung stoppen.\n",
    "Wir wissen demnach, dass wir maximal $n-m-3$ Wiederholungen benötigen.\n",
    "Es könnten jedoch auch weniger sein:"
   ]
  },
  {
   "cell_type": "code",
   "execution_count": 8,
   "id": "a54dfd61",
   "metadata": {},
   "outputs": [
    {
     "name": "stdout",
     "output_type": "stream",
     "text": [
      "True\n",
      "True\n",
      "False\n",
      "True\n"
     ]
    }
   ],
   "source": [
    "def is_prime(n):\n",
    "    prime = True\n",
    "    for i in range(2, n):\n",
    "        if n % i == 0:\n",
    "            prime = False\n",
    "            break\n",
    "    return prime\n",
    "\n",
    "print(is_prime(2))\n",
    "print(is_prime(13))\n",
    "print(is_prime(25))\n",
    "print(is_prime(83))"
   ]
  },
  {
   "cell_type": "markdown",
   "id": "eb85cc75",
   "metadata": {},
   "source": [
    "Um die ``for``-Schleife frühzeitig zu beenden verwenden wir ``break``.\n",
    "Mit ``break`` springen wir aus der **innersten** Schleife heraus.\n",
    "Wir könnten stattdessen auch ``return`` verwenden, um aus der gesamten Funktion herauszuspringen:"
   ]
  },
  {
   "cell_type": "code",
   "execution_count": 9,
   "id": "f11b0943",
   "metadata": {},
   "outputs": [
    {
     "name": "stdout",
     "output_type": "stream",
     "text": [
      "True\n",
      "True\n",
      "False\n",
      "True\n"
     ]
    }
   ],
   "source": [
    "def is_prime(n):\n",
    "    for i in range(2, n):\n",
    "        if n % i == 0:\n",
    "            return False\n",
    "    return True\n",
    "\n",
    "print(is_prime(2))\n",
    "print(is_prime(13))\n",
    "print(is_prime(25))\n",
    "print(is_prime(83))"
   ]
  },
  {
   "cell_type": "markdown",
   "id": "c8518c77",
   "metadata": {},
   "source": [
    "Eine weitere Steuermöglichkeit bietet ``continue``.\n",
    "Mit ``continue`` springen wir nicht aus der Schleife heraus sondern springen zurück zum Schleifenkopf.\n",
    "Der Code nach ``continue`` wird übersprungen:"
   ]
  },
  {
   "cell_type": "code",
   "execution_count": 10,
   "id": "67158f4f",
   "metadata": {},
   "outputs": [
    {
     "name": "stdout",
     "output_type": "stream",
     "text": [
      "0\n",
      "2\n",
      "4\n",
      "6\n",
      "8\n"
     ]
    },
    {
     "data": {
      "text/plain": [
       "[0, 4, 8, 12, 16]"
      ]
     },
     "execution_count": 10,
     "metadata": {},
     "output_type": "execute_result"
    }
   ],
   "source": [
    "def double_even_numbers(numbers):\n",
    "    result = []\n",
    "    for number in numbers:\n",
    "        if number % 2 == 1:\n",
    "            continue\n",
    "            \n",
    "        print(number)\n",
    "        result.append(number*2)\n",
    "    return result\n",
    "numbers = list(range(10))\n",
    "double_even_numbers(numbers)"
   ]
  },
  {
   "cell_type": "markdown",
   "id": "0afe82ea",
   "metadata": {},
   "source": [
    "Allerdings braucht man ``continue`` so gut wie nie und wenn es verwendet wird handelt es sich oftmals um schlecht leserlichen Code."
   ]
  },
  {
   "cell_type": "code",
   "execution_count": 11,
   "id": "00a42d45",
   "metadata": {},
   "outputs": [
    {
     "name": "stdout",
     "output_type": "stream",
     "text": [
      "0\n",
      "2\n",
      "4\n",
      "6\n",
      "8\n"
     ]
    },
    {
     "data": {
      "text/plain": [
       "[0, 4, 8, 12, 16]"
      ]
     },
     "execution_count": 11,
     "metadata": {},
     "output_type": "execute_result"
    }
   ],
   "source": [
    "def double_even_numbers(numbers):\n",
    "    result = []\n",
    "    for number in numbers:\n",
    "        if number % 2 == 0:    \n",
    "            print(number)\n",
    "            result.append(number*2)\n",
    "    return result\n",
    "numbers = list(range(10))\n",
    "double_even_numbers(numbers)"
   ]
  },
  {
   "cell_type": "markdown",
   "id": "97212718",
   "metadata": {},
   "source": [
    "```{admonition} Kontrollmechanismen der for-Schleife\n",
    ":class: remark\n",
    ":name: remark-control-structures-for\n",
    "Gehen Sie sparsam mit ``break`` und ``continue`` um, oftmals brauchen Sie es nicht!\n",
    "```\n",
    "\n",
    "### Die ``while``-Schleife\n",
    "\n",
    "Die ``while``-Schleife verwenden wir immer dann, wenn wir (zur Laufzeit) **nicht** wissen wie viele Wiederholungen wir maximal benötigen.\n",
    "Die Wiederholung endet sobald eine bestimmte Bedingung, d.h. ein *logischer Ausdruck* ``P`` zu ``False`` ausgewertet wird.\n",
    "\n",
    "```python\n",
    "while P:\n",
    "    # Codeblock1\n",
    "else: # (optional)\n",
    "    # Codeblock2\n",
    "```\n",
    "\n",
    "``Codeblock2`` wird einmal ausgeführt sobald ``P`` zu ``False`` ausgewertet wird und die ``while``-Schleife verlassen wird, d.h. als letzter Schritt.\n",
    "\n",
    "```{admonition} Endlosschleifen\n",
    ":class: attention\n",
    ":name: attention-endless-loop\n",
    "Wird ``P`` niemals ``False``, so endet die Wiederholung niemals und wir haben eine sog. *Endlosschleife*!\n",
    "```"
   ]
  },
  {
   "cell_type": "code",
   "execution_count": 12,
   "id": "58446f57",
   "metadata": {},
   "outputs": [
    {
     "name": "stdout",
     "output_type": "stream",
     "text": [
      "1\n",
      "2\n",
      "3\n",
      "4\n",
      "5\n",
      "6\n",
      "7\n",
      "8\n",
      "9\n",
      "10\n",
      "end of the while-loop\n"
     ]
    }
   ],
   "source": [
    "i = 0\n",
    "while i < 10:\n",
    "    i += 1\n",
    "    print(i)\n",
    "else:\n",
    "    print('end of the while-loop')"
   ]
  },
  {
   "cell_type": "markdown",
   "id": "33d70f04",
   "metadata": {},
   "source": [
    "```{admonition} Mächtigkeit der While-Schleife\n",
    ":class: theorem\n",
    ":name: theorem-while-vs-for\n",
    "Jede ``for``-Schleife lässt sich in eine ``while``-Schleife transformieren!\n",
    "```"
   ]
  },
  {
   "cell_type": "code",
   "execution_count": 13,
   "id": "96ffb040",
   "metadata": {},
   "outputs": [
    {
     "name": "stdout",
     "output_type": "stream",
     "text": [
      "Sarah\n",
      "Sebastian\n",
      "Babar\n",
      "Simon\n",
      "Martin\n",
      "\n",
      "Sarah\n",
      "Sebastian\n",
      "Babar\n",
      "Simon\n",
      "Martin\n"
     ]
    }
   ],
   "source": [
    "names = ['Sarah', 'Sebastian', 'Babar', 'Simon', 'Martin']\n",
    "\n",
    "for name in names:\n",
    "    print(name)\n",
    "\n",
    "print()\n",
    "\n",
    "i = 0\n",
    "while i < len(names):\n",
    "    print(names[i])\n",
    "    i += 1"
   ]
  },
  {
   "cell_type": "markdown",
   "id": "0d02c905",
   "metadata": {},
   "source": [
    "``while``-Schleifen sind mächtiger aber auch gefährlicher bzw. oftmals schwerer zu lesen und zu verstehen als ``for``-Schleifen.\n",
    "\n",
    "```{admonition} Verwendungskriterium\n",
    ":class: remark\n",
    ":name: remark-while-vs-for\n",
    "Verwenden Sie die ``while``-Schleife nur wenn die ``for``-Schleife ungeeignet ist.\n",
    "```\n",
    "\n",
    "``break`` und ``continue`` funktionieren für die ``while``-Schleife genauso wie für die ``for``-Schleife.\n",
    "\n",
    "```{admonition} Verwendungskriterium While-Schleife\n",
    ":class: remark\n",
    ":name: remark-while-usage\n",
    "Gehen Sie sparsam mit ``break`` und ``continue`` um, oftmals brauchen Sie es nicht!\n",
    "```\n",
    "\n",
    "Folgender Code zeigt eine unnötige Verwendung von ``continue``."
   ]
  },
  {
   "cell_type": "code",
   "execution_count": 14,
   "id": "40aaa6c8",
   "metadata": {},
   "outputs": [
    {
     "name": "stdout",
     "output_type": "stream",
     "text": [
      "1\n",
      "3\n",
      "5\n",
      "7\n",
      "9\n"
     ]
    }
   ],
   "source": [
    "# bad code!!!\n",
    "i = 0\n",
    "while i < 10:\n",
    "    i += 1\n",
    "    if i % 2 == 0:\n",
    "        continue\n",
    "    print(i)"
   ]
  },
  {
   "cell_type": "markdown",
   "id": "5e969909",
   "metadata": {},
   "source": [
    "Stattdessen können wir die ``if``-Bedingung anpassen."
   ]
  },
  {
   "cell_type": "code",
   "execution_count": 15,
   "id": "aae2af39",
   "metadata": {},
   "outputs": [
    {
     "name": "stdout",
     "output_type": "stream",
     "text": [
      "1\n",
      "3\n",
      "5\n",
      "7\n",
      "9\n"
     ]
    }
   ],
   "source": [
    "# better!\n",
    "i = 0\n",
    "while i < 10:\n",
    "    i += 1\n",
    "    if i % 2 == 1:\n",
    "        print(i)"
   ]
  },
  {
   "cell_type": "markdown",
   "id": "33f407cc",
   "metadata": {},
   "source": [
    "Oder aber Sie erhöhen die Zählervariable um zwei anstatt um eins."
   ]
  },
  {
   "cell_type": "code",
   "execution_count": 16,
   "id": "d52dec6b",
   "metadata": {},
   "outputs": [
    {
     "name": "stdout",
     "output_type": "stream",
     "text": [
      "1\n",
      "3\n",
      "5\n",
      "7\n",
      "9\n"
     ]
    }
   ],
   "source": [
    "# even better!\n",
    "i = 1\n",
    "while i < 10:      \n",
    "    print(i)\n",
    "    i += 2"
   ]
  },
  {
   "cell_type": "markdown",
   "id": "f92795b4",
   "metadata": {},
   "source": [
    "Am einfachsten zu lesen bleibt jedoch die ``for``-Schleife."
   ]
  },
  {
   "cell_type": "code",
   "execution_count": 17,
   "id": "e84ad33d",
   "metadata": {},
   "outputs": [
    {
     "name": "stdout",
     "output_type": "stream",
     "text": [
      "1\n",
      "3\n",
      "5\n",
      "7\n",
      "9\n"
     ]
    }
   ],
   "source": [
    "# even better!\n",
    "for i in range(1,10,2):\n",
    "  print(i)"
   ]
  },
  {
   "cell_type": "markdown",
   "id": "cbb302b5",
   "metadata": {},
   "source": [
    "```{admonition} Verhindern von Endlosschleifen\n",
    ":class: remark\n",
    ":name: remark-avoid-endless-loop\n",
    "Prüfen Sie immer ob Ihre Bedingung ``P`` durch den Schleifenrumpf garantiert irgendwann ``False`` ergibt!\n",
    "```\n",
    "\n",
    "## Beispiel (ggT)\n",
    "\n",
    "Lassen Sie uns [Euklid's Algorithmus](sec-euclid-alg) ``gcd(m,n)`` zum finden des Größter gemeinsamer Teiler (ggT) zweier ganzer Zahlen von $m$ und $n$ erneut implementieren.\n",
    "\n",
    "Euklid's Algorithmus geht wie folgt vor:\n",
    "\n",
    "1. Berechne den Restwert der Division $m / n$ (Modulodivision). Sei dieser gleich $r$.\n",
    "2. Setze $m \\leftarrow n$, $n \\leftarrow r$ und gehe zurück zu Schritt 1.\n",
    "3. Falls $r = 0$ (und somit $n = 0$), so ist der Algorithmus beendet. Das Ergebnis (ggT) ist $m$. Ansonsten fahre fort."
   ]
  },
  {
   "cell_type": "code",
   "execution_count": 18,
   "id": "b5947bc5",
   "metadata": {},
   "outputs": [
    {
     "data": {
      "text/plain": [
       "12"
      ]
     },
     "execution_count": 18,
     "metadata": {},
     "output_type": "execute_result"
    }
   ],
   "source": [
    "def gcd(m, n):\n",
    "    while n != 0:\n",
    "        r = m % n\n",
    "        m = n\n",
    "        n = r\n",
    "    return m\n",
    "gcd(36, 24)"
   ]
  },
  {
   "cell_type": "markdown",
   "id": "95e92f0d",
   "metadata": {},
   "source": [
    "Durch das packing bzw. unpacking (siehe [Tupel](sec-tuple)) können wir den Code noch verkürzen:"
   ]
  },
  {
   "cell_type": "code",
   "execution_count": 19,
   "id": "eeb98932",
   "metadata": {},
   "outputs": [
    {
     "data": {
      "text/plain": [
       "12"
      ]
     },
     "execution_count": 19,
     "metadata": {},
     "output_type": "execute_result"
    }
   ],
   "source": [
    "def gcd(m, n):\n",
    "    while n != 0:\n",
    "        m, n = n, m % n\n",
    "    return m\n",
    "gcd(36, 24)"
   ]
  }
 ],
 "metadata": {
  "jupytext": {
   "formats": "md:myst",
   "text_representation": {
    "extension": ".md",
    "format_name": "myst"
   }
  },
  "kernelspec": {
   "display_name": "Python 3",
   "language": "python",
   "name": "python3"
  },
  "language_info": {
   "codemirror_mode": {
    "name": "ipython",
    "version": 3
   },
   "file_extension": ".py",
   "mimetype": "text/x-python",
   "name": "python",
   "nbconvert_exporter": "python",
   "pygments_lexer": "ipython3",
   "version": "3.10.8"
  },
  "source_map": [
   11,
   41,
   46,
   63,
   72,
   76,
   81,
   85,
   87,
   125,
   128,
   132,
   135,
   147,
   152,
   166,
   179,
   185,
   196,
   202,
   214,
   218,
   228,
   256,
   263,
   271,
   283,
   303,
   311,
   315,
   322,
   326,
   332,
   336,
   340,
   358,
   366,
   370
  ]
 },
 "nbformat": 4,
 "nbformat_minor": 5
}