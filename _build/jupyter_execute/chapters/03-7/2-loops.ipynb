{
 "cells": [
  {
   "cell_type": "markdown",
   "id": "de57740d",
   "metadata": {},
   "source": [
    "(sec-loops)=\n",
    "# Schleifen\n",
    "\n",
    "Viele Aufgaben, die wir über unser Leben hinweg verrichten sind langweilig, da wir immer und immer wieder die gleichen Basisschritte wiederholen müssen. \n",
    "\n",
    "Nehmen Sie nur das Nachschlagen einer Telefonnummer im Telefonbuch (falls Sie so etwas überhaupt noch kennen). Wir gehen dabei Seite für Seite durch und suchen nach einem bestimmten Namen - langweilig ...\n",
    "\n",
    "Auch ganz alltägliche Dinge wie der Abwasch, Zähneputzen, Kochen, ja nahezu jede Aktion beinhaltet die eine oder andere Art der Wiederholung.\n",
    "\n",
    "Wie sich gezeigt hat, können wir interessanterweise durch diese langweiligen Wiederholungen ganz erstaunliche Dinge vollbringen. \n",
    "\n",
    "```{admonition} Wiederholung\n",
    ":class: remark\n",
    ":name: remark-repetition\n",
    "\n",
    "Wiederholung ist die Grundlage aller Berechnung.\n",
    "```\n",
    "\n",
    "## Motivation\n",
    "\n",
    "Lassen Sie uns einmal auf unseren Roboter blicken.\n",
    "Dieser bewegt sich auf einem Gitter.\n",
    "Jeder Gitterpunkt ist entweder begehbar oder durch ein Hindernis belegt.\n",
    "Der Roboter kann nur nach vorne laufen und sich nach links um 90 Grad drehen.\n",
    "Eine genauere Beschreibung des Roboters und seiner Welt finden Sie in der Übung [Roboterwelt](sec-robo-world).\n",
    "\n",
    "Die folgende Welt enthält unseren Roboter (türkis), das Ziel (gelb), begehbare Zellen (lila) und unbegehbare Hindernisse (blau)."
   ]
  },
  {
   "cell_type": "code",
   "execution_count": 1,
   "id": "a2c560b9",
   "metadata": {},
   "outputs": [
    {
     "data": {
      "image/png": "[encoded data removed]",
      "text/plain": [
       "<Figure size 280x200 with 1 Axes>"
      ]
     },
     "execution_count": 1,
     "metadata": {},
     "output_type": "execute_result"
    }
   ],
   "source": [
    "import roboworld as rw\n",
    "\n",
    "world = rw.complex_maze(nrows=5, ncols=7)\n",
    "world.show()"
   ]
  },
  {
   "cell_type": "markdown",
   "id": "2312ebff",
   "metadata": {},
   "source": [
    "Wir sollen nun einen Algorithmus entwerfen, welcher den Roboter zum Ziel führt (sofern dies möglich ist).\n",
    "Diese Aufgabe scheint überwältigend schwierig!\n",
    "\n",
    "Wir verwenden das ``random``-Modul um einen *fairen Münzwurf* zu simulieren.\n",
    "Zudem verwenden wir lediglich folgende Methoden des Roboters:\n",
    "+ ``turn_left()``\n",
    "+ ``is_wall_in_front()``\n",
    "+ ``move()``\n",
    "+ ``is_at_goal()``\n",
    "\n",
    "In wie vielen Zeilen Code können wir dieses Problem lösen?\n",
    "Durch das Potenzial der **Wiederholung** brauchen wir ca. 10 Zeilen Code!\n",
    "\n",
    "Zuerst definieren wir eine Funktion ``random_move(robo)`` welche den Roboter um einen zufälligen Nachbargitterpunkt bewegt (falls dies möglich ist)."
   ]
  },
  {
   "cell_type": "code",
   "execution_count": 2,
   "id": "d50a7d77",
   "metadata": {},
   "outputs": [],
   "source": [
    "import random as rnd\n",
    "\n",
    "def random_move(robo):\n",
    "    turns = rnd.choice([0,1,2,3])\n",
    "    for _ in range(turns):\n",
    "        robo.turn_left()\n",
    "    if not robo.is_wall_in_front():\n",
    "        robo.move()"
   ]
  },
  {
   "cell_type": "markdown",
   "id": "9fee1a40",
   "metadata": {},
   "source": [
    "Dann nutzten wir die Wiederholung und bewegen den Roboter immer weiter auf zufällige Nachbargitterpunkte bis er am Ziel angekommen ist:"
   ]
  },
  {
   "cell_type": "code",
   "execution_count": 3,
   "id": "360f910c",
   "metadata": {},
   "outputs": [],
   "source": [
    "robo = world.get_robo()\n",
    "robo.disable_print()\n",
    "while not robo.is_at_goal():\n",
    "    random_move(robo)"
   ]
  },
  {
   "cell_type": "markdown",
   "id": "36807ce2",
   "metadata": {},
   "source": [
    "Lassen Sie uns die sog. *Zufallsfahrt* des Roboters ansehen:"
   ]
  },
  {
   "cell_type": "code",
   "execution_count": 4,
   "id": "831e2771",
   "metadata": {},
   "outputs": [
    {
     "data": {
      "text/html": [
       "\n",
       "<link rel=\"stylesheet\"\n",
       "href=\"https://maxcdn.bootstrapcdn.com/font-awesome/4.4.0/css/font-awesome.min.css\">\n",
       "<script language=\"javascript\">\n",
       "  function isInternetExplorer() {\n",
       "    ua = navigator.userAgent;\n",
       "    /* MSIE used to detect old browsers and Trident used to newer ones*/\n",
       "    return ua.indexOf(\"MSIE \") > -1 || ua.indexOf(\"Trident/\") > -1;\n",
       "  }\n",
       "\n",
       "  /* Define the Animation class */\n",
       "  function Animation(frames, img_id, slider_id, interval, loop_select_id){\n",
       "    this.img_id = img_id;\n",
       "    this.slider_id = slider_id;\n",
       "    this.loop_select_id = loop_select_id;\n",
       "    this.interval = interval;\n",
       "    this.current_frame = 0;\n",
       "    this.direction = 0;\n",
       "    this.timer = null;\n",
       "    this.frames = new Array(frames.length);\n",
       "\n",
       "    for (var i=0; i<frames.length; i++)\n",
       "    {\n",
       "     this.frames[i] = new Image();\n",
       "     this.frames[i].src = frames[i];\n",
       "    }\n",
       "    var slider = document.getElementById(this.slider_id);\n",
       "    slider.max = this.frames.length - 1;\n",
       "    if (isInternetExplorer()) {\n",
       "        // switch from oninput to onchange because IE <= 11 does not conform\n",
       "        // with W3C specification. It ignores oninput and onchange behaves\n",
       "        // like oninput. In contrast, Microsoft Edge behaves correctly.\n",
       "        slider.setAttribute('onchange', slider.getAttribute('oninput'));\n",
       "        slider.setAttribute('oninput', null);\n",
       "    }\n",
       "    this.set_frame(this.current_frame);\n",
       "  }\n",
       "\n",
       "  Animation.prototype.get_loop_state = function(){\n",
       "    var button_group = document[this.loop_select_id].state;\n",
       "    for (var i = 0; i < button_group.length; i++) {\n",
       "        var button = button_group[i];\n",
       "        if (button.checked) {\n",
       "            return button.value;\n",
       "        }\n",
       "    }\n",
       "    return undefined;\n",
       "  }\n",
       "\n",
       "  Animation.prototype.set_frame = function(frame){\n",
       "    this.current_frame = frame;\n",
       "    document.getElementById(this.img_id).src =\n",
       "            this.frames[this.current_frame].src;\n",
       "    document.getElementById(this.slider_id).value = this.current_frame;\n",
       "  }\n",
       "\n",
       "  Animation.prototype.next_frame = function()\n",
       "  {\n",
       "    this.set_frame(Math.min(this.frames.length - 1, this.current_frame + 1));\n",
       "  }\n",
       "\n",
       "  Animation.prototype.previous_frame = function()\n",
       "  {\n",
       "    this.set_frame(Math.max(0, this.current_frame - 1));\n",
       "  }\n",
       "\n",
       "  Animation.prototype.first_frame = function()\n",
       "  {\n",
       "    this.set_frame(0);\n",
       "  }\n",
       "\n",
       "  Animation.prototype.last_frame = function()\n",
       "  {\n",
       "    this.set_frame(this.frames.length - 1);\n",
       "  }\n",
       "\n",
       "  Animation.prototype.slower = function()\n",
       "  {\n",
       "    this.interval /= 0.7;\n",
       "    if(this.direction > 0){this.play_animation();}\n",
       "    else if(this.direction < 0){this.reverse_animation();}\n",
       "  }\n",
       "\n",
       "  Animation.prototype.faster = function()\n",
       "  {\n",
       "    this.interval *= 0.7;\n",
       "    if(this.direction > 0){this.play_animation();}\n",
       "    else if(this.direction < 0){this.reverse_animation();}\n",
       "  }\n",
       "\n",
       "  Animation.prototype.anim_step_forward = function()\n",
       "  {\n",
       "    this.current_frame += 1;\n",
       "    if(this.current_frame < this.frames.length){\n",
       "      this.set_frame(this.current_frame);\n",
       "    }else{\n",
       "      var loop_state = this.get_loop_state();\n",
       "      if(loop_state == \"loop\"){\n",
       "        this.first_frame();\n",
       "      }else if(loop_state == \"reflect\"){\n",
       "        this.last_frame();\n",
       "        this.reverse_animation();\n",
       "      }else{\n",
       "        this.pause_animation();\n",
       "        this.last_frame();\n",
       "      }\n",
       "    }\n",
       "  }\n",
       "\n",
       "  Animation.prototype.anim_step_reverse = function()\n",
       "  {\n",
       "    this.current_frame -= 1;\n",
       "    if(this.current_frame >= 0){\n",
       "      this.set_frame(this.current_frame);\n",
       "    }else{\n",
       "      var loop_state = this.get_loop_state();\n",
       "      if(loop_state == \"loop\"){\n",
       "        this.last_frame();\n",
       "      }else if(loop_state == \"reflect\"){\n",
       "        this.first_frame();\n",
       "        this.play_animation();\n",
       "      }else{\n",
       "        this.pause_animation();\n",
       "        this.first_frame();\n",
       "      }\n",
       "    }\n",
       "  }\n",
       "\n",
       "  Animation.prototype.pause_animation = function()\n",
       "  {\n",
       "    this.direction = 0;\n",
       "    if (this.timer){\n",
       "      clearInterval(this.timer);\n",
       "      this.timer = null;\n",
       "    }\n",
       "  }\n",
       "\n",
       "  Animation.prototype.play_animation = function()\n",
       "  {\n",
       "    this.pause_animation();\n",
       "    this.direction = 1;\n",
       "    var t = this;\n",
       "    if (!this.timer) this.timer = setInterval(function() {\n",
       "        t.anim_step_forward();\n",
       "    }, this.interval);\n",
       "  }\n",
       "\n",
       "  Animation.prototype.reverse_animation = function()\n",
       "  {\n",
       "    this.pause_animation();\n",
       "    this.direction = -1;\n",
       "    var t = this;\n",
       "    if (!this.timer) this.timer = setInterval(function() {\n",
       "        t.anim_step_reverse();\n",
       "    }, this.interval);\n",
       "  }\n",
       "</script>\n",
       "\n",
       "<style>\n",
       ".animation {\n",
       "    display: inline-block;\n",
       "    text-align: center;\n",
       "}\n",
       "input[type=range].anim-slider {\n",
       "    width: 374px;\n",
       "    margin-left: auto;\n",
       "    margin-right: auto;\n",
       "}\n",
       ".anim-buttons {\n",
       "    margin: 8px 0px;\n",
       "}\n",
       ".anim-buttons button {\n",
       "    padding: 0;\n",
       "    width: 36px;\n",
       "}\n",
       ".anim-state label {\n",
       "    margin-right: 8px;\n",
       "}\n",
       ".anim-state input {\n",
       "    margin: 0;\n",
       "    vertical-align: middle;\n",
       "}\n",
       "</style>\n",
       "\n",
       "<div class=\"animation\">\n",
       "  <img id=\"_anim_img19311003fdce499a95d61c11fa84df87\">\n",
       "  <div class=\"anim-controls\">\n",
       "    <input id=\"_anim_slider19311003fdce499a95d61c11fa84df87\" type=\"range\" class=\"anim-slider\"\n",
       "           name=\"points\" min=\"0\" max=\"1\" step=\"1\" value=\"0\"\n",
       "           oninput=\"anim19311003fdce499a95d61c11fa84df87.set_frame(parseInt(this.value));\">\n",
       "    <div class=\"anim-buttons\">\n",
       "      <button title=\"Decrease speed\" aria-label=\"Decrease speed\" onclick=\"anim19311003fdce499a95d61c11fa84df87.slower()\">\n",
       "          <i class=\"fa fa-minus\"></i></button>\n",
       "      <button title=\"First frame\" aria-label=\"First frame\" onclick=\"anim19311003fdce499a95d61c11fa84df87.first_frame()\">\n",
       "        <i class=\"fa fa-fast-backward\"></i></button>\n",
       "      <button title=\"Previous frame\" aria-label=\"Previous frame\" onclick=\"anim19311003fdce499a95d61c11fa84df87.previous_frame()\">\n",
       "          <i class=\"fa fa-step-backward\"></i></button>\n",
       "      <button title=\"Play backwards\" aria-label=\"Play backwards\" onclick=\"anim19311003fdce499a95d61c11fa84df87.reverse_animation()\">\n",
       "          <i class=\"fa fa-play fa-flip-horizontal\"></i></button>\n",
       "      <button title=\"Pause\" aria-label=\"Pause\" onclick=\"anim19311003fdce499a95d61c11fa84df87.pause_animation()\">\n",
       "          <i class=\"fa fa-pause\"></i></button>\n",
       "      <button title=\"Play\" aria-label=\"Play\" onclick=\"anim19311003fdce499a95d61c11fa84df87.play_animation()\">\n",
       "          <i class=\"fa fa-play\"></i></button>\n",
       "      <button title=\"Next frame\" aria-label=\"Next frame\" onclick=\"anim19311003fdce499a95d61c11fa84df87.next_frame()\">\n",
       "          <i class=\"fa fa-step-forward\"></i></button>\n",
       "      <button title=\"Last frame\" aria-label=\"Last frame\" onclick=\"anim19311003fdce499a95d61c11fa84df87.last_frame()\">\n",
       "          <i class=\"fa fa-fast-forward\"></i></button>\n",
       "      <button title=\"Increase speed\" aria-label=\"Increase speed\" onclick=\"anim19311003fdce499a95d61c11fa84df87.faster()\">\n",
       "          <i class=\"fa fa-plus\"></i></button>\n",
       "    </div>\n",
       "    <form title=\"Repetition mode\" aria-label=\"Repetition mode\" action=\"#n\" name=\"_anim_loop_select19311003fdce499a95d61c11fa84df87\"\n",
       "          class=\"anim-state\">\n",
       "      <input type=\"radio\" name=\"state\" value=\"once\" id=\"_anim_radio1_19311003fdce499a95d61c11fa84df87\"\n",
       "             >\n",
       "      <label for=\"_anim_radio1_19311003fdce499a95d61c11fa84df87\">Once</label>\n",
       "      <input type=\"radio\" name=\"state\" value=\"loop\" id=\"_anim_radio2_19311003fdce499a95d61c11fa84df87\"\n",
       "             checked>\n",
       "      <label for=\"_anim_radio2_19311003fdce499a95d61c11fa84df87\">Loop</label>\n",
       "      <input type=\"radio\" name=\"state\" value=\"reflect\" id=\"_anim_radio3_19311003fdce499a95d61c11fa84df87\"\n",
       "             >\n",
       "      <label for=\"_anim_radio3_19311003fdce499a95d61c11fa84df87\">Reflect</label>\n",
       "    </form>\n",
       "  </div>\n",
       "</div>\n",
       "\n",
       "\n",
       "<script language=\"javascript\">\n",
       "  /* Instantiate the Animation class. */\n",
       "  /* The IDs given should match those used in the template above. */\n",
       "  (function() {\n",
       "    var img_id = \"_anim_img19311003fdce499a95d61c11fa84df87\";\n",
       "    var slider_id = \"_anim_slider19311003fdce499a95d61c11fa84df87\";\n",
       "    var loop_select_id = \"_anim_loop_select19311003fdce499a95d61c11fa84df87\";\n",
       "    var frames = new Array(9);\n",
       "    \n",
       "  frames[0] = \"data:image/png;base64,iVBORw0KGgoAAAANSUhEUgAAANIAAACWCAYAAACrUNY4AAAAOXRFWHRTb2Z0d2FyZQBNYXRwbG90\\\n",
       "bGliIHZlcnNpb24zLjcuMiwgaHR0cHM6Ly9tYXRwbG90bGliLm9yZy8pXeV/AAAACXBIWXMAAAk6\\\n",
       "AAAJOgHwZJJKAAAC2ElEQVR4nO3dMUo1ZxiG4TFRULuYgOHHCCmC00gKCSRbcRGuxdo1/FuwT2OV\\\n",
       "StIlpxKCBEO0M5u4+T7iXNcGHs6ZuWG6d+/09PR9XddltLe3t+Xw8HD47svLy/DNmQ4ODqb8z7Oe\\\n",
       "76zd/XVdl7u7u+HDu91uOTs7G757f3+/PDw8DN+9urqasnt9fT3lf571fGftfjF8ET4gIUFASBAQ\\\n",
       "EgSEBAEhQUBIEBASBIQEASFBQEgQEBIEhAQBIUFASBAQEgSEBAEhQUBIEBASBIQEASFBQEgQEBIE\\\n",
       "hAQBIUFASBAQEgT21nV9v7m5GT58fn6+HB0dDd99fX21O8DT09Py/Pw8fHfWe7V/fHw85UrCxcXF\\\n",
       "pq4VbG338fFxU++VTzsICAkCQoKAkCAgJAgICQJCgoCQICAkCAgJAkKCgJAgICQICAkCQoKAkCAg\\\n",
       "JAgICQJCgoCQICAkCAgJAkKCgJAgICQICAkCQoKAkCCwd3l5+X57ezt82JWEMbb2e2e9V/snJyeu\\\n",
       "JAww60rC1n7vrPfKpx0EhAQBIUFASBAQEgSEBAEhQUBIEBASBIQEASFBQEgQEBIEhAQBIUFASBAQ\\\n",
       "EgSEBAEhQUBIEBASBIQEASFBQEgQEBIEhAQBIUFASBCYdo3ClYSPvbv7659l9++Xw3d//GbZ1jUK\\\n",
       "VxI+9u6vf/6+fP5j/Av983eLaxTwfyUkCAgJAkKCgJAgICQICAkCQoKAkCAgJAgICQJCgoCQICAk\\\n",
       "CAgJAkKCgJAgICQICAkCQoKAkCAgJAgICQJCgoCQICAkCAgJAkKCwLRrFFu7zjDr+sbXX31aXv4e\\\n",
       "Prt8e7a/qec77RrF1q4zzLq+8ctPn5bH3/aG737/w9Gmnq9POwgICQJCgoCQICAkCAgJAkKCgJAg\\\n",
       "ICQICAkCQoKAkCAgJAgICQJCgoCQICAkCAgJAkKCgJAgICQICAkCQoKAkCAgJAgICQJCgoCQIPAf\\\n",
       "9Z65dNwdPbkAAAAASUVORK5CYII=\\\n",
       "\"\n",
       "  frames[1] = \"data:image/png;base64,iVBORw0KGgoAAAANSUhEUgAAANIAAACWCAYAAACrUNY4AAAAOXRFWHRTb2Z0d2FyZQBNYXRwbG90\\\n",
       "bGliIHZlcnNpb24zLjcuMiwgaHR0cHM6Ly9tYXRwbG90bGliLm9yZy8pXeV/AAAACXBIWXMAAAk6\\\n",
       "AAAJOgHwZJJKAAAC00lEQVR4nO3dMUotZxyH4TEoeOxiCoMchBQXp7GSFNmKi3At1u7FJVhdCEjK\\\n",
       "CAEbubHQzmzi5fuI8zwb+HHOzAvT/Q/Ozs4+13VdRvv4+FiOj4+H7769vQ3fnOno6GjK/zzr+c7a\\\n",
       "PVzXdbm/vx8+/Pz8vOz3++G7Dw8Py+Pj4/Dd6+vrKbs3NzdT/udZz3fW7k/DF+ELEhIEhAQBIUFA\\\n",
       "SBAQEgSEBAEhQUBIEBASBIQEASFBQEgQEBIEhAQBIUFASBAQEgSEBAEhQUBIEBASBIQEASFBQEgQ\\\n",
       "EBIEhAQBIUHgYF3Xz9vb2+HDFxcXy263G777/v5ud4CXl5fl9fV1+O6s9+rw5ORkypWEy8vLTV0r\\\n",
       "2Nru09PTpt4rn3YQEBIEhAQBIUFASBAQEgSEBAEhQUBIEBASBIQEASFBQEgQEBIEhAQBIUFASBAQ\\\n",
       "EgSEBAEhQUBIEBASBIQEASFBQEgQEBIEhAQBIUHg4Orq6vPu7m74sCsJY2zt9856rw5PT09dSRhg\\\n",
       "1pWErf3eWe+VTzsICAkCQoKAkCAgJAgICQJCgoCQICAkCAgJAkKCgJAgICQICAkCQoKAkCAgJAgI\\\n",
       "CQJCgoCQICAkCAgJAkKCgJAgICQICAkCQoKAkCAw7RqFKwlfe/fl3/flx3I8fHd/9LGtaxSuJHzt\\\n",
       "3b/+/Hv5/nk+fPfb7h/XKOD/SkgQEBIEhAQBIUFASBAQEgSEBAEhQUBIEBASBIQEASFBQEgQEBIE\\\n",
       "hAQBIUFASBAQEgSEBAEhQUBIEBASBIQEASFBQEgQEBIEhASBadcoNnedYdL1jV9+Pl/efgyfXX7d\\\n",
       "H27q+U67RrG16wyzrm/88fv58vT9YPjub992m3q+Pu0gICQICAkCQoKAkCAgJAgICQJCgoCQICAk\\\n",
       "CAgJAkKCgJAgICQICAkCQoKAkCAgJAgICQJCgoCQICAkCAgJAkKCgJAgICQICAkCQoLAf+rzupfS\\\n",
       "ftgvAAAAAElFTkSuQmCC\\\n",
       "\"\n",
       "  frames[2] = \"data:image/png;base64,iVBORw0KGgoAAAANSUhEUgAAANIAAACWCAYAAACrUNY4AAAAOXRFWHRTb2Z0d2FyZQBNYXRwbG90\\\n",
       "bGliIHZlcnNpb24zLjcuMiwgaHR0cHM6Ly9tYXRwbG90bGliLm9yZy8pXeV/AAAACXBIWXMAAAk6\\\n",
       "AAAJOgHwZJJKAAAC2klEQVR4nO3dQUpdZxyH4WPRomZUWzAEETIo3okjyaBbcRGuxbF7cQmOMhIC\\\n",
       "mQgBKdhyG3QQMJt4+T7qeZ4N/Lj3nBfO7L9zfHz8utlsltFeXl6W/f394bvb7Xb45kx7e3tT/udZ\\\n",
       "z3fW7u5ms1lubm6GDz88PCwnJyfDd29vb5e7u7vhuxcXF1N2Ly8vp/zPs57vrN1fhi/CGyQkCAgJ\\\n",
       "AkKCgJAgICQICAkCQoKAkCAgJAgICQJCgoCQICAkCAgJAkKCgJAgICQICAkCQoKAkCAgJAgICQJC\\\n",
       "goCQICAkCAgJAkKCwM5ms3m9uroaPnx6erocHBwM331+frY7wOPj4/L09DR8d9Z7tXt4eDjlSsLZ\\\n",
       "2dmqrhWsbff+/n5V75VPOwgICQJCgoCQICAkCAgJAkKCgJAgICQICAkCQoKAkCAgJAgICQJCgoCQ\\\n",
       "ICAkCAgJAkKCgJAgICQICAkCQoKAkCAgJAgICQJCgoCQILBzfn7+en19PXzYlYQx1vZ7Z71Xu0dH\\\n",
       "R64kDDDrSsLafu+s98qnHQSEBAEhQUBIEBASBIQEASFBQEgQEBIEhAQBIUFASBAQEgSEBAEhQUBI\\\n",
       "EBASBIQEASFBQEgQEBIEhAQBIUFASBAQEgSEBAEhQUBIEJh2jcKVhLe9+8/3l+XHr++G77778d+6\\\n",
       "rlG4kvC2d//++m35fvRx+O4f2y+uUcD/lZAgICQICAkCQoKAkCAgJAgICQJCgoCQICAkCAgJAkKC\\\n",
       "gJAgICQICAkCQoKAkCAgJAgICQJCgoCQICAkCAgJAkKCgJAgICQICAkC065RrO06w6zrG7//9mHZ\\\n",
       "/jt8dnl/sruq5zvtGsXarjPMur7x16cPy/3nneG7H/88WNXz9WkHASFBQEgQEBIEhAQBIUFASBAQ\\\n",
       "EgSEBAEhQUBIEBASBIQEASFBQEgQEBIEhAQBIUFASBAQEgSEBAEhQUBIEBASBIQEASFBQEgQEBIE\\\n",
       "fgLdXbu/oV/PkQAAAABJRU5ErkJggg==\\\n",
       "\"\n",
       "  frames[3] = \"data:image/png;base64,iVBORw0KGgoAAAANSUhEUgAAANIAAACWCAYAAACrUNY4AAAAOXRFWHRTb2Z0d2FyZQBNYXRwbG90\\\n",
       "bGliIHZlcnNpb24zLjcuMiwgaHR0cHM6Ly9tYXRwbG90bGliLm9yZy8pXeV/AAAACXBIWXMAAAk6\\\n",
       "AAAJOgHwZJJKAAAC2UlEQVR4nO3dQUp2ZRyH4WMoqIMiGxgfJjQID4EjadBWXIRrcexeXILfpJGT\\\n",
       "BmETCSSkXgnCNnHzPOS5rg38eN9zbjiz/97p6en7uq7LaG9vb8vh4eHw3dfX1+GbMx0cHEz5n2c9\\\n",
       "31m7++u6Lnd3d8OHn56elrOzs+G79/f3y8PDw/Ddq6urKbvX19dT/udZz3fW7hfDF+EDEhIEhAQB\\\n",
       "IUFASBAQEgSEBAEhQUBIEBASBIQEASFBQEgQEBIEhAQBIUFASBAQEgSEBAEhQUBIEBASBIQEASFB\\\n",
       "QEgQEBIEhAQBIUFgb13X95ubm+HD5+fny9HR0fDd3W5nd4Dn5+fl5eVl+O6s92r/+Ph4ypWEi4uL\\\n",
       "TV0r2Nru4+Pjpt4rn3YQEBIEhAQBIUFASBAQEgSEBAEhQUBIEBASBIQEASFBQEgQEBIEhAQBIUFA\\\n",
       "SBAQEgSEBAEhQUBIEBASBIQEASFBQEgQEBIEhAQBIUFg7/Ly8v329nb4sCsJY2zt9856r/ZPTk5c\\\n",
       "SRhg1pWErf3eWe+VTzsICAkCQoKAkCAgJAgICQJCgoCQICAkCAgJAkKCgJAgICQICAkCQoKAkCAg\\\n",
       "JAgICQJCgoCQICAkCAgJAkKCgJAgICQICAkCQoKAkCAw7RqFKwkfe/ev3T/LwfGXw3f//ftlW9co\\\n",
       "XEn42Lu//v7H8tV3Pw7f3f322TUK+L8SEgSEBAEhQUBIEBASBIQEASFBQEgQEBIEhAQBIUFASBAQ\\\n",
       "EgSEBAEhQUBIEBASBIQEASFBQEgQEBIEhAQBIUFASBAQEgSEBAEhQWDaNYqtXWeYdX3jm68/La9/\\\n",
       "Dp9dvj3b39TznXaNYmvXGWZd3/j5p0/L4y97w3e//+FoU8/Xpx0EhAQBIUFASBAQEgSEBAEhQUBI\\\n",
       "EBASBIQEASFBQEgQEBIEhAQBIUFASBAQEgSEBAEhQUBIEBASBIQEASFBQEgQEBIEhAQBIUFASBD4\\\n",
       "D2Rgu65SavjcAAAAAElFTkSuQmCC\\\n",
       "\"\n",
       "  frames[4] = \"data:image/png;base64,iVBORw0KGgoAAAANSUhEUgAAANIAAACWCAYAAACrUNY4AAAAOXRFWHRTb2Z0d2FyZQBNYXRwbG90\\\n",
       "bGliIHZlcnNpb24zLjcuMiwgaHR0cHM6Ly9tYXRwbG90bGliLm9yZy8pXeV/AAAACXBIWXMAAAk6\\\n",
       "AAAJOgHwZJJKAAACy0lEQVR4nO3dMUodaxyH4TEoUYuEGIiQ67WMQ8BKUmQrLsK1WLsXl2CaVLYX\\\n",
       "Kxu5CNEmmE28fB/xPM8Gfpw588J0/63Dw8OXdV2X0Z6fn5fd3d3hu4+Pj8M3Z9rZ2ZnynGf9v7N2\\\n",
       "t9d1Xa6uroYP393dLUdHR8N3r6+vl5ubm+G7Z2dnU3bPz8+nPOdZ/++s3TfDF+EVEhIEhAQBIUFA\\\n",
       "SBAQEgSEBAEhQUBIEBASBIQEASFBQEgQEBIEhAQBIUFASBAQEgSEBAEhQUBIEBASBIQEASFBQEgQ\\\n",
       "EBIEhAQBIUFga13Xl4uLi+HDx8fHy97e3vDdp6cnuwPc398vDw8Pw3dnvVfb+/v7U64knJycbNS1\\\n",
       "gk3bvb293aj3yqcdBIQEASFBQEgQEBIEhAQBIUFASBAQEgSEBAEhQUBIEBASBIQEASFBQEgQEBIE\\\n",
       "hAQBIUFASBAQEgSEBAEhQUBIEBASBIQEASFBQEgQ2Do9PX25vLwcPuxKwhib9ntnvVfbBwcHriQM\\\n",
       "MOtKwqb93lnvlU87CAgJAkKCgJAgICQICAkCQoKAkCAgJAgICQJCgoCQICAkCAgJAkKCgJAgICQI\\\n",
       "CAkCQoKAkCAgJAgICQJCgoCQICAkCAgJAkKCgJAgMO0ahSsJdl/T7rRrFK4k2H1Nuz7tICAkCAgJ\\\n",
       "AkKCgJAgICQICAkCQoKAkCAgJAgICQJCgoCQICAkCAgJAkKCgJAgICQICAkCQoKAkCAgJAgICQJC\\\n",
       "goCQICAkCAgJAkKCwLRrFJt2rWDW9Y2PHz4vj/8Pn10+Hb1ddvbfDd/9/eths65RbNq1glnXN75/\\\n",
       "+7zc/twavvvPl3fL+3+/Dt99+u+HaxTwtxISBIQEASFBQEgQEBIEhAQBIUFASBAQEgSEBAEhQUBI\\\n",
       "EBASBIQEASFBQEgQEBIEhAQBIUFASBAQEgSEBAEhQUBIEBASBIQEASFB4A9Nk7urH6MGvwAAAABJ\\\n",
       "RU5ErkJggg==\\\n",
       "\"\n",
       "  frames[5] = \"data:image/png;base64,iVBORw0KGgoAAAANSUhEUgAAANIAAACWCAYAAACrUNY4AAAAOXRFWHRTb2Z0d2FyZQBNYXRwbG90\\\n",
       "bGliIHZlcnNpb24zLjcuMiwgaHR0cHM6Ly9tYXRwbG90bGliLm9yZy8pXeV/AAAACXBIWXMAAAk6\\\n",
       "AAAJOgHwZJJKAAACyklEQVR4nO3dMUodaxyH4Tk3CmqVeC8IYmydRlJIIHcrLsK1WLuGbMElWKWy\\\n",
       "DVY2EoRoZzbx8n3E8zwb+HHmzAvT/TdHR0dv67ouo72+vi57e3vDd5+fn4dvzrS7uzvlOc/6f2ft\\\n",
       "7qzrutzc3Awffnh4WE5OTobv3t7eLnd3d8N3Ly4upuxeXl5Oec6z/t9Zu/8MX4R3SEgQEBIEhAQB\\\n",
       "IUFASBAQEgSEBAEhQUBIEBASBIQEASFBQEgQEBIEhAQBIUFASBAQEgSEBAEhQUBIEBASBIQEASFB\\\n",
       "QEgQEBIEhASBzbqub1dXV8OHT09Pl/39/eG7Ly8vdgd4fHxcnp6ehu/Oeq92Dg4OplxJODs726pr\\\n",
       "Bdu2e39/v1XvlU87CAgJAkKCgJAgICQICAkCQoKAkCAgJAgICQJCgoCQICAkCAgJAkKCgJAgICQI\\\n",
       "CAkCQoKAkCAgJAgICQJCgoCQICAkCAgJAkKCgJAgsDk/P3+7vr4ePuxKwhjb9ntnvVc7h4eHriQM\\\n",
       "MOtKwrb93lnvlU87CAgJAkKCgJAgICQICAkCQoKAkCAgJAgICQJCgoCQICAkCAgJAkKCgJAgICQI\\\n",
       "CAkCQoKAkCAgJAgICQJCgoCQICAkCAgJAkKCgJAgMO0ahSsJdt/T7rRrFK4k2H1Puz7tICAkCAgJ\\\n",
       "AkKCgJAgICQICAkCQoKAkCAgJAgICQJCgoCQICAkCAgJAkKCgJAgICQICAkCQoKAkCAgJAgICQJC\\\n",
       "goCQICAkCAgJAkKCwLRrFNt2rWDW9Y1/Px0vz7+Gzy67h5vl4feH4btf/lu26xrFtl0rmHV94/+v\\\n",
       "x8v9j83w3Y9fPyzff45/ob99XlyjgL+VkCAgJAgICQJCgoCQICAkCAgJAkKCgJAgICQICAkCQoKA\\\n",
       "kCAgJAgICQJCgoCQICAkCAgJAkKCgJAgICQICAkCQoKAkCAgJAgICQJ/ALPQuZOnaNI1AAAAAElF\\\n",
       "TkSuQmCC\\\n",
       "\"\n",
       "  frames[6] = \"data:image/png;base64,iVBORw0KGgoAAAANSUhEUgAAANIAAACWCAYAAACrUNY4AAAAOXRFWHRTb2Z0d2FyZQBNYXRwbG90\\\n",
       "bGliIHZlcnNpb24zLjcuMiwgaHR0cHM6Ly9tYXRwbG90bGliLm9yZy8pXeV/AAAACXBIWXMAAAk6\\\n",
       "AAAJOgHwZJJKAAACxUlEQVR4nO3dMUocYRyH4TEorKaKKRZEbEJwGitJkat4CM9i7V08glUqeyFg\\\n",
       "I2KhnbnEy/cR93ku8GNn54Xp/nvb7fZjXddltPf392Wz2QzffX19Hb4508HBwZTnPOv/nbW7v67r\\\n",
       "cnt7O3z48fFxOT09Hb57d3e33N/fD9+9vLycsnt1dTXlOc/6f2ftfhm+CJ+QkCAgJAgICQJCgoCQ\\\n",
       "ICAkCAgJAkKCgJAgICQICAkCQoKAkCAgJAgICQJCgoCQICAkCAgJAkKCgJAgICQICAkCQoKAkCAg\\\n",
       "JAgICQJ767p+XF9fDx8+OztbDg8Ph+++vb3ZHeDp6Wl5fn4evjvrvdo/OjqaciXh/Px8p64V7Nru\\\n",
       "w8PDTr1XPu0gICQICAkCQoKAkCAgJAgICQJCgoCQICAkCAgJAkKCgJAgICQICAkCQoKAkCAgJAgI\\\n",
       "CQJCgoCQICAkCAgJAkKCgJAgICQICAkCQoLA3sXFxcfNzc3wYVcSxti13zvrvdo/Pj52JWGAWVcS\\\n",
       "du33znqvfNpBQEgQEBIEhAQBIUFASBAQEgSEBAEhQUBIEBASBIQEASFBQEgQEBIEhAQBIUFASBAQ\\\n",
       "EgSEBAEhQUBIEBASBIQEASFBQEgQEBIEhASBadcoXEmw+5l2p12jcCXB7mfa9WkHASFBQEgQEBIE\\\n",
       "hAQBIUFASBAQEgSEBAEhQUBIEBASBIQEASFBQEgQEBIEhAQBIUFASBAQEgSEBAEhQUBIEBASBIQE\\\n",
       "ASFBQEgQEBIEpl2j2LVrBbOub3z/drK8vgyfXb5u95eXZTN89/TgfbeuUezatYJZ1zd+/zpZHv7s\\\n",
       "Dd/9sd0sfz5Ohu/+PPzrGgX8r4QEASFBQEgQEBIEhAQBIUFASBAQEgSEBAEhQUBIEBASBIQEASFB\\\n",
       "QEgQEBIEhAQBIUFASBAQEgSEBAEhQUBIEBASBIQEASFBQEgQ+AdYabqiDIcGbAAAAABJRU5ErkJg\\\n",
       "gg==\\\n",
       "\"\n",
       "  frames[7] = \"data:image/png;base64,iVBORw0KGgoAAAANSUhEUgAAANIAAACWCAYAAACrUNY4AAAAOXRFWHRTb2Z0d2FyZQBNYXRwbG90\\\n",
       "bGliIHZlcnNpb24zLjcuMiwgaHR0cHM6Ly9tYXRwbG90bGliLm9yZy8pXeV/AAAACXBIWXMAAAk6\\\n",
       "AAAJOgHwZJJKAAACzElEQVR4nO3dPUolaRiG4bLRxp+o7QZBRGYiKzGyO+ituAjXYuxeXILRRMKE\\\n",
       "RiYynBk0aHA2cfN9tOe6NvBw6tQNlb07Jycn7+u6LqO9vb0t+/v7w3c3m83wzZn29vamPOdZ/++s\\\n",
       "3d11XZe7u7vhw09PT8vZ2dnw3fv7++Xh4WH47tXV1ZTd6+vrKc951v87a/fT8EX4gIQEASFBQEgQ\\\n",
       "EBIEhAQBIUFASBAQEgSEBAEhQUBIEBASBIQEASFBQEgQEBIEhAQBIUFASBAQEgSEBAEhQUBIEBAS\\\n",
       "BIQEASFBQEgQ2FnX9f3m5mb48Pn5+XJwcDB89/X11e4Az8/Py8vLy/DdWe/V7uHh4ZQrCRcXF1t1\\\n",
       "rWDbdh8fH7fqvfJpBwEhQUBIEBASBIQEASFBQEgQEBIEhAQBIUFASBAQEgSEBAEhQUBIEBASBIQE\\\n",
       "ASFBQEgQEBIEhAQBIUFASBAQEgSEBAEhQUBIEBASBHYuLy/fb29vhw+7kjDGtv3eWe/V7vHxsSsJ\\\n",
       "A8y6krBtv3fWe+XTDgJCgoCQICAkCAgJAkKCgJAgICQICAkCQoKAkCAgJAgICQJCgoCQICAkCAgJ\\\n",
       "AkKCgJAgICQICAkCQoKAkCAgJAgICQJCgoCQICAkCEy7RuFKgt2PtDvtGoUrCXY/0q5POwgICQJC\\\n",
       "goCQICAkCAgJAkKCgJAgICQICAkCQoKAkCAgJAgICQJCgoCQICAkCAgJAkKCgJAgICQICAkCQoKA\\\n",
       "kCAgJAgICQJCgoCQIDDtGsW2XSuYdX3j65fTZfPP8Nnly+ne8uvz0fDdo1//btc1im27VjDr+sbP\\\n",
       "H6fL4187w3e//3G0/Hf85/Ddb5u/XaOA35WQICAkCAgJAkKCgJAgICQICAkCQoKAkCAgJAgICQJC\\\n",
       "goCQICAkCAgJAkKCgJAgICQICAkCQoKAkCAgJAgICQJCgoCQICAkCAgJAv8D8vy7yW5Ng54AAAAA\\\n",
       "SUVORK5CYII=\\\n",
       "\"\n",
       "  frames[8] = \"data:image/png;base64,iVBORw0KGgoAAAANSUhEUgAAANIAAACWCAYAAACrUNY4AAAAOXRFWHRTb2Z0d2FyZQBNYXRwbG90\\\n",
       "bGliIHZlcnNpb24zLjcuMiwgaHR0cHM6Ly9tYXRwbG90bGliLm9yZy8pXeV/AAAACXBIWXMAAAk6\\\n",
       "AAAJOgHwZJJKAAACuElEQVR4nO3dMUoccRyG4dmwgmsXUxjCIqQITmMlKXIVD+FZrL2LR7BKtb2V\\\n",
       "jYQttDOXeJk/OM9zgY/dmRem+20uLi4+5nmelvb+/j6dnp4uvns8HhffHOnk5GTI/zzq+Y7a3c7z\\\n",
       "PD08PCw+/Pz8PO33+8V3Hx8fp6enp8V3b25uhuze3t4O+Z9HPd9Ru18WX4RPSEgQEBIEhAQBIUFA\\\n",
       "SBAQEgSEBAEhQUBIEBASBIQEASFBQEgQEBIEhAQBIUFASBAQEgSEBAEhQUBIEBASBIQEASFBQEgQ\\\n",
       "EBIEhASBzTzPH3d3d4sPX15eTrvdbvHdt7c3uwt4eXmZXl9fF98d9V5tz87OhlxJuLq6WtW1grXt\\\n",
       "Hg6HVb1XPu0gICQICAkCQoKAkCAgJAgICQJCgoCQICAkCAgJAkKCgJAgICQICAkCQoKAkCAgJAgI\\\n",
       "CQJCgoCQICAkCAgJAkKCgJAgICQICAkCQoLA5vr6+uP+/n7xYVcSlrG23zvqvdqen5+7krCAUVcS\\\n",
       "1vZ7R71XPu0gICQICAkCQoKAkCAgJAgICQJCgoCQICAkCAgJAkKCgJAgICQICAkCQoKAkCAgJAgI\\\n",
       "CQJCgoCQICAkCAgJAkKCgJAgICQICAkCQoLAsGsUriTY/Uy7w65RuJJg9zPt+rSDgJAgICQICAkC\\\n",
       "QoKAkCAgJAgICQJCgoCQICAkCAgJAkKCgJAgICQICAkCQoKAkCAgJAgICQJCgoCQICAkCAgJAkKC\\\n",
       "gJAgICQICAkCw65RrO1awajrG9++/piO/xafnb7vt6t6vsOuUaztWsGo6xt/fv+YDn83i+/+/LVb\\\n",
       "1fP1aQcBIUFASBAQEgSEBAEhQUBIEBASBIQEASFBQEgQEBIEhAQBIUFASBAQEgSEBAEhQUBIEBAS\\\n",
       "BIQEASFBQEgQEBIEhAQBIUFASBAQEgT+A2Cwu66MLyQ+AAAAAElFTkSuQmCC\\\n",
       "\"\n",
       "\n",
       "\n",
       "    /* set a timeout to make sure all the above elements are created before\n",
       "       the object is initialized. */\n",
       "    setTimeout(function() {\n",
       "        anim19311003fdce499a95d61c11fa84df87 = new Animation(frames, img_id, slider_id, 149.0,\n",
       "                                 loop_select_id);\n",
       "    }, 0);\n",
       "  })()\n",
       "</script>\n"
      ],
      "text/plain": [
       "<IPython.core.display.HTML object>"
      ]
     },
     "metadata": {},
     "output_type": "display_data"
    }
   ],
   "source": [
    "rw.animate(world)"
   ]
  },
  {
   "cell_type": "markdown",
   "id": "1ffdeb5c",
   "metadata": {},
   "source": [
    "Ist dieser Algorithmus besonders klever?\n",
    "Nein!\n",
    "Der Algorithmus ist sehr einfach und benötigt unter Umständen sehr viel Rechenzeit.\n",
    "Dennoch zeigt dieses Beispiel, dass die Wiederholung von einfachen Befehlen zu komplexen Lösungen führen können!\n",
    "\n",
    "```{admonition} Wiederholung und Codekomplexität\n",
    ":class: remark\n",
    ":name: remark-complexity-of-repetition\n",
    "*Wiederholung* trennt den Aufwand zum Lösen einer Aufgabe von der Komplexität des Codes.\n",
    "Eine Berechnung kann enorm aufwendig sein und dennoch benötigen wir wenig Denkarbeit (wenig Code) um einen Algorithmus für die Lösung zu entwerfen!\n",
    "```\n",
    "\n",
    "(sec-for)=\n",
    "## Die ``for``-Schleife\n",
    "\n",
    "Die ``for``-Schleife verwenden wir immer dann, wenn wir (zur Laufzeit) vor dem Eintritt in die Wiederholung wissen, wie viele Wiederholungen wir **maximal** benötigen.\n",
    "Dabei wollen wir entweder\n",
    "\n",
    "1. für eine bestimmte Anzahl $n \\in \\mathbb{N}$, oder\n",
    "2. für jedes Element einer *Datenstruktur* (Liste, Tupel, usw.)\n",
    "\n",
    "einen Befehlsblock ausführen.\n",
    "\n",
    "Im zweiten Fall spricht man auch von der sog. *Foreach-Schleife*.\n",
    "Durch den Zahlenbereich ``range()`` reduziert ``Python`` den ersten Fall auf den zweiten.\n",
    "\n",
    "### Die klassische ``for``-Schleife (Fall 1)\n",
    "\n",
    "```python\n",
    "n = ...\n",
    "for i in range(n):\n",
    "    # Codeblock\n",
    "```\n",
    "\n",
    "Der Name der *Zählervariable* (hier ``i``) kann frei gewählt werden, allerdings verwendet man für Fall 1 gewöhnlich: ``i``, ``j`` oder ``k``."
   ]
  },
  {
   "cell_type": "code",
   "execution_count": 5,
   "id": "ccc64710",
   "metadata": {},
   "outputs": [
    {
     "name": "stdout",
     "output_type": "stream",
     "text": [
      "0\n",
      "1\n",
      "4\n",
      "9\n",
      "16\n",
      "25\n",
      "36\n",
      "49\n",
      "64\n",
      "81\n"
     ]
    }
   ],
   "source": [
    "for i in range(10):\n",
    "    print(i**2)"
   ]
  },
  {
   "cell_type": "markdown",
   "id": "e020c66d",
   "metadata": {},
   "source": [
    "Will man andeutet, dass die *Zählervariable* nicht benötigt wird, so verwendet man den Unterstrich ``_`` als ihren Namen."
   ]
  },
  {
   "cell_type": "code",
   "execution_count": 6,
   "id": "605c6fc4",
   "metadata": {},
   "outputs": [
    {
     "name": "stdout",
     "output_type": "stream",
     "text": [
      "42 ist die Antwort!\n",
      "42 ist die Antwort!\n",
      "42 ist die Antwort!\n",
      "42 ist die Antwort!\n",
      "42 ist die Antwort!\n",
      "42 ist die Antwort!\n",
      "42 ist die Antwort!\n",
      "42 ist die Antwort!\n",
      "42 ist die Antwort!\n",
      "42 ist die Antwort!\n"
     ]
    }
   ],
   "source": [
    "for _ in range(10):\n",
    "    print('42 ist die Antwort!')"
   ]
  },
  {
   "cell_type": "markdown",
   "id": "b5d6c6b2",
   "metadata": {},
   "source": [
    "### Die Foreach-Schleife (Fall 2)\n",
    "\n",
    "```python\n",
    "sequenz = ... # some Sequenz of Elements\n",
    "for element in sequenz:\n",
    "    # Codeblock\n",
    "```\n",
    "\n",
    "Der Name mit dem wir die Elemente der Sequenz ansprechen (hier ``element``) kann frei gewählt werden und sollte beschreiben über welche Elemente wir *iterieren*."
   ]
  },
  {
   "cell_type": "code",
   "execution_count": 7,
   "id": "ff7feefd",
   "metadata": {},
   "outputs": [
    {
     "name": "stdout",
     "output_type": "stream",
     "text": [
      "Sarah\n",
      "Sebastian\n",
      "Babar\n",
      "Simon\n",
      "Martin\n"
     ]
    }
   ],
   "source": [
    "names = ['Sarah', 'Sebastian', 'Babar', 'Simon', 'Martin']\n",
    "\n",
    "for name in names:\n",
    "    print(name)"
   ]
  },
  {
   "cell_type": "markdown",
   "id": "9a330bc0",
   "metadata": {},
   "source": [
    "``range()`` ist, genau wie eine Liste und ein Tupel, auch eine *Sequenz*.\n",
    "Eine ``for``-Schleife läuft über die Einträge einer *Sequenz* oder anderer *iterierbarer* Strukturen.\n",
    "\n",
    "Es kann durchaus sein, dass wir die ``for``-Schleife auch dann verwenden, wenn nicht genau klar ist wie viele Wiederholungen wir benötigen.\n",
    "Ist uns bekannt wie viele Wiederholungen wir **maximal** benötigen ist dies kein Problem.\n",
    "\n",
    "Nehmen wir den Test ob eine Zahl $n$ eine Primzahl ist.\n",
    "Ein einfacher Algorithmus für den Test, testet für jede Zahl $m \\in \\{2, 3, \\ldots, n-1\\}$ ob $m$ die Zahl $n$ teilt.\n",
    "Wenn dies der Fall ist, ist $n$ keine Primzahl und wir können die Wiederholung stoppen.\n",
    "Wir wissen demnach, dass wir maximal $n-m-3$ Wiederholungen benötigen.\n",
    "Es könnten jedoch auch weniger sein:"
   ]
  },
  {
   "cell_type": "code",
   "execution_count": 8,
   "id": "0c71aae1",
   "metadata": {},
   "outputs": [
    {
     "name": "stdout",
     "output_type": "stream",
     "text": [
      "True\n",
      "True\n",
      "False\n",
      "True\n"
     ]
    }
   ],
   "source": [
    "def is_prime(n):\n",
    "    prime = True\n",
    "    for i in range(2, n):\n",
    "        if n % i == 0:\n",
    "            prime = False\n",
    "            break\n",
    "    return prime\n",
    "\n",
    "print(is_prime(2))\n",
    "print(is_prime(13))\n",
    "print(is_prime(25))\n",
    "print(is_prime(83))"
   ]
  },
  {
   "cell_type": "markdown",
   "id": "3ef31270",
   "metadata": {},
   "source": [
    "Um die ``for``-Schleife frühzeitig zu beenden verwenden wir ``break``.\n",
    "Mit ``break`` springen wir aus der **innersten** Schleife heraus.\n",
    "Wir könnten stattdessen auch ``return`` verwenden, um aus der gesamten Funktion herauszuspringen:"
   ]
  },
  {
   "cell_type": "code",
   "execution_count": 9,
   "id": "83bd4257",
   "metadata": {},
   "outputs": [
    {
     "name": "stdout",
     "output_type": "stream",
     "text": [
      "True\n",
      "True\n",
      "False\n",
      "True\n"
     ]
    }
   ],
   "source": [
    "def is_prime(n):\n",
    "    for i in range(2, n):\n",
    "        if n % i == 0:\n",
    "            return False\n",
    "    return True\n",
    "\n",
    "print(is_prime(2))\n",
    "print(is_prime(13))\n",
    "print(is_prime(25))\n",
    "print(is_prime(83))"
   ]
  },
  {
   "cell_type": "markdown",
   "id": "7b0c925b",
   "metadata": {},
   "source": [
    "Eine weitere Steuermöglichkeit bietet ``continue``.\n",
    "Mit ``continue`` springen wir nicht aus der Schleife heraus sondern springen zurück zum Schleifenkopf.\n",
    "Der Code nach ``continue`` wird übersprungen:"
   ]
  },
  {
   "cell_type": "code",
   "execution_count": 10,
   "id": "6b1ac460",
   "metadata": {},
   "outputs": [
    {
     "name": "stdout",
     "output_type": "stream",
     "text": [
      "0\n",
      "2\n",
      "4\n",
      "6\n",
      "8\n"
     ]
    },
    {
     "data": {
      "text/plain": [
       "[0, 4, 8, 12, 16]"
      ]
     },
     "execution_count": 10,
     "metadata": {},
     "output_type": "execute_result"
    }
   ],
   "source": [
    "def double_even_numbers(numbers):\n",
    "    result = []\n",
    "    for number in numbers:\n",
    "        if number % 2 == 1:\n",
    "            continue\n",
    "            \n",
    "        print(number)\n",
    "        result.append(number*2)\n",
    "    return result\n",
    "numbers = list(range(10))\n",
    "double_even_numbers(numbers)"
   ]
  },
  {
   "cell_type": "markdown",
   "id": "cfd65e3a",
   "metadata": {},
   "source": [
    "Allerdings braucht man ``continue`` so gut wie nie und wenn es verwendet wird handelt es sich oftmals um schlecht leserlichen Code."
   ]
  },
  {
   "cell_type": "code",
   "execution_count": 11,
   "id": "8bce575b",
   "metadata": {},
   "outputs": [
    {
     "name": "stdout",
     "output_type": "stream",
     "text": [
      "0\n",
      "2\n",
      "4\n",
      "6\n",
      "8\n"
     ]
    },
    {
     "data": {
      "text/plain": [
       "[0, 4, 8, 12, 16]"
      ]
     },
     "execution_count": 11,
     "metadata": {},
     "output_type": "execute_result"
    }
   ],
   "source": [
    "def double_even_numbers(numbers):\n",
    "    result = []\n",
    "    for number in numbers:\n",
    "        if number % 2 == 0:    \n",
    "            print(number)\n",
    "            result.append(number*2)\n",
    "    return result\n",
    "numbers = list(range(10))\n",
    "double_even_numbers(numbers)"
   ]
  },
  {
   "cell_type": "markdown",
   "id": "190e1671",
   "metadata": {},
   "source": [
    "```{admonition} Kontrollmechanismen der for-Schleife\n",
    ":class: remark\n",
    ":name: remark-control-structures-for\n",
    "Gehen Sie sparsam mit ``break`` und ``continue`` um, oftmals brauchen Sie es nicht!\n",
    "```\n",
    "\n",
    "### Die ``while``-Schleife\n",
    "\n",
    "Die ``while``-Schleife verwenden wir immer dann, wenn wir (zur Laufzeit) **nicht** wissen wie viele Wiederholungen wir maximal benötigen.\n",
    "Die Wiederholung endet sobald eine bestimmte Bedingung, d.h. ein *logischer Ausdruck* ``P`` zu ``False`` ausgewertet wird.\n",
    "\n",
    "```python\n",
    "while P:\n",
    "    # Codeblock1\n",
    "else: # (optional)\n",
    "    # Codeblock2\n",
    "```\n",
    "\n",
    "``Codeblock2`` wird einmal ausgeführt sobald ``P`` zu ``False`` ausgewertet wird und die ``while``-Schleife verlassen wird, d.h. als letzter Schritt.\n",
    "\n",
    "```{admonition} Endlosschleifen\n",
    ":class: attention\n",
    ":name: attention-endless-loop\n",
    "Wird ``P`` niemals ``False``, so endet die Wiederholung niemals und wir haben eine sog. *Endlosschleife*!\n",
    "```"
   ]
  },
  {
   "cell_type": "code",
   "execution_count": 12,
   "id": "f928b758",
   "metadata": {},
   "outputs": [
    {
     "name": "stdout",
     "output_type": "stream",
     "text": [
      "1\n",
      "2\n",
      "3\n",
      "4\n",
      "5\n",
      "6\n",
      "7\n",
      "8\n",
      "9\n",
      "10\n",
      "end of the while-loop\n"
     ]
    }
   ],
   "source": [
    "i = 0\n",
    "while i < 10:\n",
    "    i += 1\n",
    "    print(i)\n",
    "else:\n",
    "    print('end of the while-loop')"
   ]
  },
  {
   "cell_type": "markdown",
   "id": "be193932",
   "metadata": {},
   "source": [
    "```{admonition} Mächtigkeit der While-Schleife\n",
    ":class: theorem\n",
    ":name: theorem-while-vs-for\n",
    "Jede ``for``-Schleife lässt sich in eine ``while``-Schleife transformieren!\n",
    "```"
   ]
  },
  {
   "cell_type": "code",
   "execution_count": 13,
   "id": "341a6533",
   "metadata": {},
   "outputs": [
    {
     "name": "stdout",
     "output_type": "stream",
     "text": [
      "Sarah\n",
      "Sebastian\n",
      "Babar\n",
      "Simon\n",
      "Martin\n",
      "\n",
      "Sarah\n",
      "Sebastian\n",
      "Babar\n",
      "Simon\n",
      "Martin\n"
     ]
    }
   ],
   "source": [
    "names = ['Sarah', 'Sebastian', 'Babar', 'Simon', 'Martin']\n",
    "\n",
    "for name in names:\n",
    "    print(name)\n",
    "\n",
    "print()\n",
    "\n",
    "i = 0\n",
    "while i < len(names):\n",
    "    print(names[i])\n",
    "    i += 1"
   ]
  },
  {
   "cell_type": "markdown",
   "id": "4a573c6b",
   "metadata": {},
   "source": [
    "``while``-Schleifen sind mächtiger aber auch gefährlicher bzw. oftmals schwerer zu lesen und zu verstehen als ``for``-Schleifen.\n",
    "\n",
    "```{admonition} Verwendungskriterium\n",
    ":class: remark\n",
    ":name: remark-while-vs-for\n",
    "Verwenden Sie die ``while``-Schleife nur wenn die ``for``-Schleife ungeeignet ist.\n",
    "```\n",
    "\n",
    "``break`` und ``continue`` funktionieren für die ``while``-Schleife genauso wie für die ``for``-Schleife.\n",
    "\n",
    "```{admonition} Verwendungskriterium While-Schleife\n",
    ":class: remark\n",
    ":name: remark-while-usage\n",
    "Gehen Sie sparsam mit ``break`` und ``continue`` um, oftmals brauchen Sie es nicht!\n",
    "```\n",
    "\n",
    "Folgender Code zeigt eine unnötige Verwendung von ``continue``."
   ]
  },
  {
   "cell_type": "code",
   "execution_count": 14,
   "id": "eb067f74",
   "metadata": {},
   "outputs": [
    {
     "name": "stdout",
     "output_type": "stream",
     "text": [
      "1\n",
      "3\n",
      "5\n",
      "7\n",
      "9\n"
     ]
    }
   ],
   "source": [
    "# bad code!!!\n",
    "i = 0\n",
    "while i < 10:\n",
    "    i += 1\n",
    "    if i % 2 == 0:\n",
    "        continue\n",
    "    print(i)"
   ]
  },
  {
   "cell_type": "markdown",
   "id": "4175ef51",
   "metadata": {},
   "source": [
    "Stattdessen können wir die ``if``-Bedingung anpassen."
   ]
  },
  {
   "cell_type": "code",
   "execution_count": 15,
   "id": "6c21c1b9",
   "metadata": {},
   "outputs": [
    {
     "name": "stdout",
     "output_type": "stream",
     "text": [
      "1\n",
      "3\n",
      "5\n",
      "7\n",
      "9\n"
     ]
    }
   ],
   "source": [
    "# better!\n",
    "i = 0\n",
    "while i < 10:\n",
    "    i += 1\n",
    "    if i % 2 == 1:\n",
    "        print(i)"
   ]
  },
  {
   "cell_type": "markdown",
   "id": "2e7da1e0",
   "metadata": {},
   "source": [
    "Oder aber Sie erhöhen die Zählervariable um zwei anstatt um eins."
   ]
  },
  {
   "cell_type": "code",
   "execution_count": 16,
   "id": "fe468e68",
   "metadata": {},
   "outputs": [
    {
     "name": "stdout",
     "output_type": "stream",
     "text": [
      "1\n",
      "3\n",
      "5\n",
      "7\n",
      "9\n"
     ]
    }
   ],
   "source": [
    "# even better!\n",
    "i = 1\n",
    "while i < 10:      \n",
    "    print(i)\n",
    "    i += 2"
   ]
  },
  {
   "cell_type": "markdown",
   "id": "8ec0c8de",
   "metadata": {},
   "source": [
    "Am einfachsten zu lesen bleibt jedoch die ``for``-Schleife."
   ]
  },
  {
   "cell_type": "code",
   "execution_count": 17,
   "id": "b6d3e275",
   "metadata": {},
   "outputs": [
    {
     "name": "stdout",
     "output_type": "stream",
     "text": [
      "1\n",
      "3\n",
      "5\n",
      "7\n",
      "9\n"
     ]
    }
   ],
   "source": [
    "# even better!\n",
    "for i in range(1,10,2):\n",
    "  print(i)"
   ]
  },
  {
   "cell_type": "markdown",
   "id": "e5136cfa",
   "metadata": {},
   "source": [
    "```{admonition} Verhindern von Endlosschleifen\n",
    ":class: remark\n",
    ":name: remark-avoid-endless-loop\n",
    "Prüfen Sie immer ob Ihre Bedingung ``P`` durch den Schleifenrumpf garantiert irgendwann ``False`` ergibt!\n",
    "```\n",
    "\n",
    "## Beispiel (ggT)\n",
    "\n",
    "Lassen Sie uns [Euklid's Algorithmus](sec-euclid-alg) ``gcd(m,n)`` zum finden des Größter gemeinsamer Teiler (ggT) zweier ganzer Zahlen von $m$ und $n$ erneut implementieren.\n",
    "\n",
    "Euklid's Algorithmus geht wie folgt vor:\n",
    "\n",
    "1. Berechne den Restwert der Division $m / n$ (Modulodivision). Sei dieser gleich $r$.\n",
    "2. Setze $m \\leftarrow n$, $n \\leftarrow r$ und gehe zurück zu Schritt 1.\n",
    "3. Falls $r = 0$ (und somit $n = 0$), so ist der Algorithmus beendet. Das Ergebnis (ggT) ist $m$. Ansonsten fahre fort."
   ]
  },
  {
   "cell_type": "code",
   "execution_count": 18,
   "id": "cf3840fc",
   "metadata": {},
   "outputs": [
    {
     "data": {
      "text/plain": [
       "12"
      ]
     },
     "execution_count": 18,
     "metadata": {},
     "output_type": "execute_result"
    }
   ],
   "source": [
    "def gcd(m, n):\n",
    "    while n != 0:\n",
    "        r = m % n\n",
    "        m = n\n",
    "        n = r\n",
    "    return m\n",
    "gcd(36, 24)"
   ]
  },
  {
   "cell_type": "markdown",
   "id": "8df91c02",
   "metadata": {},
   "source": [
    "Durch das packing bzw. unpacking (siehe [Tupel](sec-tuple)) können wir den Code noch verkürzen:"
   ]
  },
  {
   "cell_type": "code",
   "execution_count": 19,
   "id": "25f27ec7",
   "metadata": {},
   "outputs": [
    {
     "data": {
      "text/plain": [
       "12"
      ]
     },
     "execution_count": 19,
     "metadata": {},
     "output_type": "execute_result"
    }
   ],
   "source": [
    "def gcd(m, n):\n",
    "    while n != 0:\n",
    "        m, n = n, m % n\n",
    "    return m\n",
    "gcd(36, 24)"
   ]
  }
 ],
 "metadata": {
  "jupytext": {
   "formats": "md:myst",
   "text_representation": {
    "extension": ".md",
    "format_name": "myst"
   }
  },
  "kernelspec": {
   "display_name": "Python 3",
   "language": "python",
   "name": "python3"
  },
  "language_info": {
   "codemirror_mode": {
    "name": "ipython",
    "version": 3
   },
   "file_extension": ".py",
   "mimetype": "text/x-python",
   "name": "python",
   "nbconvert_exporter": "python",
   "pygments_lexer": "ipython3",
   "version": "3.11.4"
  },
  "source_map": [
   11,
   41,
   46,
   63,
   72,
   76,
   81,
   85,
   87,
   125,
   128,
   132,
   135,
   147,
   152,
   166,
   179,
   185,
   196,
   202,
   214,
   218,
   228,
   256,
   263,
   271,
   283,
   303,
   311,
   315,
   322,
   326,
   332,
   336,
   340,
   358,
   366,
   370
  ]
 },
 "nbformat": 4,
 "nbformat_minor": 5
}