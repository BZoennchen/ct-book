{
 "cells": [
  {
   "cell_type": "markdown",
   "id": "894338b2",
   "metadata": {},
   "source": [
    "(sec-loops)=\n",
    "# Schleifen\n",
    "\n",
    "Viele Aufgaben, die wir über unser Leben hinweg verrichten sind langweilig, da wir immer und immer wieder die gleichen Basisschritte wiederholen müssen. \n",
    "\n",
    "Nehmen Sie nur das Nachschlagen einer Telefonnummer im Telefonbuch (falls Sie so etwas überhaupt noch kennen). Wir gehen dabei Seite für Seite durch und suchen nach einem bestimmten Namen - langweilig ...\n",
    "\n",
    "Auch ganz alltägliche Dinge wie der Abwasch, Zähneputzen, Kochen, ja nahezu jede Aktion beinhaltet die eine oder andere Art der Wiederholung.\n",
    "\n",
    "Wie sich gezeigt hat, können wir interessanterweise durch diese langweiligen Wiederholungen ganz erstaunliche Dinge vollbringen. \n",
    "\n",
    "```{admonition} Wiederholung\n",
    ":class: remark\n",
    ":name: remark-repetition\n",
    "\n",
    "Wiederholung ist die Grundlage aller Berechnung.\n",
    "```\n",
    "\n",
    "## Motivation\n",
    "\n",
    "Lassen Sie uns einmal auf unseren Roboter blicken.\n",
    "Dieser bewegt sich auf einem Gitter.\n",
    "Jeder Gitterpunkt ist entweder begehbar oder durch ein Hindernis belegt.\n",
    "Der Roboter kann nur nach vorne laufen und sich nach links um 90 Grad drehen.\n",
    "Eine genauere Beschreibung des Roboters und seiner Welt finden Sie in der Übung [Roboterwelt](sec-robo-world).\n",
    "\n",
    "Die folgende Welt enthält unseren Roboter (türkis), das Ziel (gelb), begehbare Zellen (lila) und unbegehbare Hindernisse (blau)."
   ]
  },
  {
   "cell_type": "code",
   "execution_count": 1,
   "id": "f233b13c",
   "metadata": {},
   "outputs": [
    {
     "data": {
      "image/png": "[encoded data removed]",
      "text/plain": [
       "<Figure size 280x200 with 1 Axes>"
      ]
     },
     "execution_count": 1,
     "metadata": {
      "filenames": {
       "image/png": "/Users/bzoennchen/repositories/GitHub/ct-book/_build/jupyter_execute/chapters/03-7/2-loops_1_0.png"
      }
     },
     "output_type": "execute_result"
    }
   ],
   "source": [
    "import roboworld as rw\n",
    "\n",
    "world = rw.complex_maze(nrows=5, ncols=7)\n",
    "world.show()"
   ]
  },
  {
   "cell_type": "markdown",
   "id": "d3266140",
   "metadata": {},
   "source": [
    "Wir sollen nun einen Algorithmus entwerfen, welcher den Roboter zum Ziel führt (sofern dies möglich ist).\n",
    "Diese Aufgabe scheint überwältigend schwierig!\n",
    "\n",
    "Wir verwenden das ``random``-Modul um einen *fairen Münzwurf* zu simulieren.\n",
    "Zudem verwenden wir lediglich folgende Methoden des Roboters:\n",
    "+ ``turn_left()``\n",
    "+ ``is_wall_in_front()``\n",
    "+ ``move()``\n",
    "+ ``is_at_goal()``\n",
    "\n",
    "In wie vielen Zeilen Code können wir dieses Problem lösen?\n",
    "Durch das Potenzial der **Wiederholung** brauchen wir ca. 10 Zeilen Code!\n",
    "\n",
    "Zuerst definieren wir eine Funktion ``random_move(robo)`` welche den Roboter um einen zufälligen Nachbargitterpunkt bewegt (falls dies möglich ist)."
   ]
  },
  {
   "cell_type": "code",
   "execution_count": 2,
   "id": "270ab777",
   "metadata": {},
   "outputs": [],
   "source": [
    "import random as rnd\n",
    "\n",
    "def random_move(robo):\n",
    "    turns = rnd.choice([0,1,2,3])\n",
    "    for _ in range(turns):\n",
    "        robo.turn_left()\n",
    "    if not robo.is_wall_in_front():\n",
    "        robo.move()"
   ]
  },
  {
   "cell_type": "markdown",
   "id": "f273330b",
   "metadata": {},
   "source": [
    "Dann nutzten wir die Wiederholung und bewegen den Roboter immer weiter auf zufällige Nachbargitterpunkte bis er am Ziel angekommen ist:"
   ]
  },
  {
   "cell_type": "code",
   "execution_count": 3,
   "id": "e30997ee",
   "metadata": {},
   "outputs": [],
   "source": [
    "robo = world.get_robo()\n",
    "robo.disable_print()\n",
    "while not robo.is_at_goal():\n",
    "    random_move(robo)"
   ]
  },
  {
   "cell_type": "markdown",
   "id": "1e080263",
   "metadata": {},
   "source": [
    "Lassen Sie uns die sog. *Zufallsfahrt* des Roboters ansehen:"
   ]
  },
  {
   "cell_type": "code",
   "execution_count": 4,
   "id": "0214364c",
   "metadata": {},
   "outputs": [
    {
     "data": {
      "text/html": [
       "\n",
       "<link rel=\"stylesheet\"\n",
       "href=\"https://maxcdn.bootstrapcdn.com/font-awesome/4.4.0/css/font-awesome.min.css\">\n",
       "<script language=\"javascript\">\n",
       "  function isInternetExplorer() {\n",
       "    ua = navigator.userAgent;\n",
       "    /* MSIE used to detect old browsers and Trident used to newer ones*/\n",
       "    return ua.indexOf(\"MSIE \") > -1 || ua.indexOf(\"Trident/\") > -1;\n",
       "  }\n",
       "\n",
       "  /* Define the Animation class */\n",
       "  function Animation(frames, img_id, slider_id, interval, loop_select_id){\n",
       "    this.img_id = img_id;\n",
       "    this.slider_id = slider_id;\n",
       "    this.loop_select_id = loop_select_id;\n",
       "    this.interval = interval;\n",
       "    this.current_frame = 0;\n",
       "    this.direction = 0;\n",
       "    this.timer = null;\n",
       "    this.frames = new Array(frames.length);\n",
       "\n",
       "    for (var i=0; i<frames.length; i++)\n",
       "    {\n",
       "     this.frames[i] = new Image();\n",
       "     this.frames[i].src = frames[i];\n",
       "    }\n",
       "    var slider = document.getElementById(this.slider_id);\n",
       "    slider.max = this.frames.length - 1;\n",
       "    if (isInternetExplorer()) {\n",
       "        // switch from oninput to onchange because IE <= 11 does not conform\n",
       "        // with W3C specification. It ignores oninput and onchange behaves\n",
       "        // like oninput. In contrast, Microsoft Edge behaves correctly.\n",
       "        slider.setAttribute('onchange', slider.getAttribute('oninput'));\n",
       "        slider.setAttribute('oninput', null);\n",
       "    }\n",
       "    this.set_frame(this.current_frame);\n",
       "  }\n",
       "\n",
       "  Animation.prototype.get_loop_state = function(){\n",
       "    var button_group = document[this.loop_select_id].state;\n",
       "    for (var i = 0; i < button_group.length; i++) {\n",
       "        var button = button_group[i];\n",
       "        if (button.checked) {\n",
       "            return button.value;\n",
       "        }\n",
       "    }\n",
       "    return undefined;\n",
       "  }\n",
       "\n",
       "  Animation.prototype.set_frame = function(frame){\n",
       "    this.current_frame = frame;\n",
       "    document.getElementById(this.img_id).src =\n",
       "            this.frames[this.current_frame].src;\n",
       "    document.getElementById(this.slider_id).value = this.current_frame;\n",
       "  }\n",
       "\n",
       "  Animation.prototype.next_frame = function()\n",
       "  {\n",
       "    this.set_frame(Math.min(this.frames.length - 1, this.current_frame + 1));\n",
       "  }\n",
       "\n",
       "  Animation.prototype.previous_frame = function()\n",
       "  {\n",
       "    this.set_frame(Math.max(0, this.current_frame - 1));\n",
       "  }\n",
       "\n",
       "  Animation.prototype.first_frame = function()\n",
       "  {\n",
       "    this.set_frame(0);\n",
       "  }\n",
       "\n",
       "  Animation.prototype.last_frame = function()\n",
       "  {\n",
       "    this.set_frame(this.frames.length - 1);\n",
       "  }\n",
       "\n",
       "  Animation.prototype.slower = function()\n",
       "  {\n",
       "    this.interval /= 0.7;\n",
       "    if(this.direction > 0){this.play_animation();}\n",
       "    else if(this.direction < 0){this.reverse_animation();}\n",
       "  }\n",
       "\n",
       "  Animation.prototype.faster = function()\n",
       "  {\n",
       "    this.interval *= 0.7;\n",
       "    if(this.direction > 0){this.play_animation();}\n",
       "    else if(this.direction < 0){this.reverse_animation();}\n",
       "  }\n",
       "\n",
       "  Animation.prototype.anim_step_forward = function()\n",
       "  {\n",
       "    this.current_frame += 1;\n",
       "    if(this.current_frame < this.frames.length){\n",
       "      this.set_frame(this.current_frame);\n",
       "    }else{\n",
       "      var loop_state = this.get_loop_state();\n",
       "      if(loop_state == \"loop\"){\n",
       "        this.first_frame();\n",
       "      }else if(loop_state == \"reflect\"){\n",
       "        this.last_frame();\n",
       "        this.reverse_animation();\n",
       "      }else{\n",
       "        this.pause_animation();\n",
       "        this.last_frame();\n",
       "      }\n",
       "    }\n",
       "  }\n",
       "\n",
       "  Animation.prototype.anim_step_reverse = function()\n",
       "  {\n",
       "    this.current_frame -= 1;\n",
       "    if(this.current_frame >= 0){\n",
       "      this.set_frame(this.current_frame);\n",
       "    }else{\n",
       "      var loop_state = this.get_loop_state();\n",
       "      if(loop_state == \"loop\"){\n",
       "        this.last_frame();\n",
       "      }else if(loop_state == \"reflect\"){\n",
       "        this.first_frame();\n",
       "        this.play_animation();\n",
       "      }else{\n",
       "        this.pause_animation();\n",
       "        this.first_frame();\n",
       "      }\n",
       "    }\n",
       "  }\n",
       "\n",
       "  Animation.prototype.pause_animation = function()\n",
       "  {\n",
       "    this.direction = 0;\n",
       "    if (this.timer){\n",
       "      clearInterval(this.timer);\n",
       "      this.timer = null;\n",
       "    }\n",
       "  }\n",
       "\n",
       "  Animation.prototype.play_animation = function()\n",
       "  {\n",
       "    this.pause_animation();\n",
       "    this.direction = 1;\n",
       "    var t = this;\n",
       "    if (!this.timer) this.timer = setInterval(function() {\n",
       "        t.anim_step_forward();\n",
       "    }, this.interval);\n",
       "  }\n",
       "\n",
       "  Animation.prototype.reverse_animation = function()\n",
       "  {\n",
       "    this.pause_animation();\n",
       "    this.direction = -1;\n",
       "    var t = this;\n",
       "    if (!this.timer) this.timer = setInterval(function() {\n",
       "        t.anim_step_reverse();\n",
       "    }, this.interval);\n",
       "  }\n",
       "</script>\n",
       "\n",
       "<style>\n",
       ".animation {\n",
       "    display: inline-block;\n",
       "    text-align: center;\n",
       "}\n",
       "input[type=range].anim-slider {\n",
       "    width: 374px;\n",
       "    margin-left: auto;\n",
       "    margin-right: auto;\n",
       "}\n",
       ".anim-buttons {\n",
       "    margin: 8px 0px;\n",
       "}\n",
       ".anim-buttons button {\n",
       "    padding: 0;\n",
       "    width: 36px;\n",
       "}\n",
       ".anim-state label {\n",
       "    margin-right: 8px;\n",
       "}\n",
       ".anim-state input {\n",
       "    margin: 0;\n",
       "    vertical-align: middle;\n",
       "}\n",
       "</style>\n",
       "\n",
       "<div class=\"animation\">\n",
       "  <img id=\"_anim_imgd9c190fd2ede4b339212f72774b4e239\">\n",
       "  <div class=\"anim-controls\">\n",
       "    <input id=\"_anim_sliderd9c190fd2ede4b339212f72774b4e239\" type=\"range\" class=\"anim-slider\"\n",
       "           name=\"points\" min=\"0\" max=\"1\" step=\"1\" value=\"0\"\n",
       "           oninput=\"animd9c190fd2ede4b339212f72774b4e239.set_frame(parseInt(this.value));\">\n",
       "    <div class=\"anim-buttons\">\n",
       "      <button title=\"Decrease speed\" aria-label=\"Decrease speed\" onclick=\"animd9c190fd2ede4b339212f72774b4e239.slower()\">\n",
       "          <i class=\"fa fa-minus\"></i></button>\n",
       "      <button title=\"First frame\" aria-label=\"First frame\" onclick=\"animd9c190fd2ede4b339212f72774b4e239.first_frame()\">\n",
       "        <i class=\"fa fa-fast-backward\"></i></button>\n",
       "      <button title=\"Previous frame\" aria-label=\"Previous frame\" onclick=\"animd9c190fd2ede4b339212f72774b4e239.previous_frame()\">\n",
       "          <i class=\"fa fa-step-backward\"></i></button>\n",
       "      <button title=\"Play backwards\" aria-label=\"Play backwards\" onclick=\"animd9c190fd2ede4b339212f72774b4e239.reverse_animation()\">\n",
       "          <i class=\"fa fa-play fa-flip-horizontal\"></i></button>\n",
       "      <button title=\"Pause\" aria-label=\"Pause\" onclick=\"animd9c190fd2ede4b339212f72774b4e239.pause_animation()\">\n",
       "          <i class=\"fa fa-pause\"></i></button>\n",
       "      <button title=\"Play\" aria-label=\"Play\" onclick=\"animd9c190fd2ede4b339212f72774b4e239.play_animation()\">\n",
       "          <i class=\"fa fa-play\"></i></button>\n",
       "      <button title=\"Next frame\" aria-label=\"Next frame\" onclick=\"animd9c190fd2ede4b339212f72774b4e239.next_frame()\">\n",
       "          <i class=\"fa fa-step-forward\"></i></button>\n",
       "      <button title=\"Last frame\" aria-label=\"Last frame\" onclick=\"animd9c190fd2ede4b339212f72774b4e239.last_frame()\">\n",
       "          <i class=\"fa fa-fast-forward\"></i></button>\n",
       "      <button title=\"Increase speed\" aria-label=\"Increase speed\" onclick=\"animd9c190fd2ede4b339212f72774b4e239.faster()\">\n",
       "          <i class=\"fa fa-plus\"></i></button>\n",
       "    </div>\n",
       "    <form title=\"Repetition mode\" aria-label=\"Repetition mode\" action=\"#n\" name=\"_anim_loop_selectd9c190fd2ede4b339212f72774b4e239\"\n",
       "          class=\"anim-state\">\n",
       "      <input type=\"radio\" name=\"state\" value=\"once\" id=\"_anim_radio1_d9c190fd2ede4b339212f72774b4e239\"\n",
       "             >\n",
       "      <label for=\"_anim_radio1_d9c190fd2ede4b339212f72774b4e239\">Once</label>\n",
       "      <input type=\"radio\" name=\"state\" value=\"loop\" id=\"_anim_radio2_d9c190fd2ede4b339212f72774b4e239\"\n",
       "             checked>\n",
       "      <label for=\"_anim_radio2_d9c190fd2ede4b339212f72774b4e239\">Loop</label>\n",
       "      <input type=\"radio\" name=\"state\" value=\"reflect\" id=\"_anim_radio3_d9c190fd2ede4b339212f72774b4e239\"\n",
       "             >\n",
       "      <label for=\"_anim_radio3_d9c190fd2ede4b339212f72774b4e239\">Reflect</label>\n",
       "    </form>\n",
       "  </div>\n",
       "</div>\n",
       "\n",
       "\n",
       "<script language=\"javascript\">\n",
       "  /* Instantiate the Animation class. */\n",
       "  /* The IDs given should match those used in the template above. */\n",
       "  (function() {\n",
       "    var img_id = \"_anim_imgd9c190fd2ede4b339212f72774b4e239\";\n",
       "    var slider_id = \"_anim_sliderd9c190fd2ede4b339212f72774b4e239\";\n",
       "    var loop_select_id = \"_anim_loop_selectd9c190fd2ede4b339212f72774b4e239\";\n",
       "    var frames = new Array(1);\n",
       "    \n",
       "  frames[0] = \"data:image/png;base64,iVBORw0KGgoAAAANSUhEUgAAANIAAACWCAYAAACrUNY4AAAAOXRFWHRTb2Z0d2FyZQBNYXRwbG90\\\n",
       "bGliIHZlcnNpb24zLjYuMCwgaHR0cHM6Ly9tYXRwbG90bGliLm9yZy89olMNAAAACXBIWXMAAAk6\\\n",
       "AAAJOgHwZJJKAAACvElEQVR4nO3dMUpcURiG4WNQ0FIbUwxCiuA0Vu7GVVm7F5dglSIMKdJMNQQk\\\n",
       "TDF2ySZe7gHv82zgYw68cKv5z25vb/9tt9uxtI+Pj3F5ebma3ePxuPjmGGNcXFys6p1n7Z5vt9vx\\\n",
       "8vKy+PB+vx+bzWY1u6+vr+Pt7W3x3aenp1W986zdL4svwickJAgICQJCgoCQICAkCAgJAkKCgJAg\\\n",
       "ICQICAkCQoKAkCAgJAgICQJCgoCQICAkCAgJAkKCgJAgICQICAkCQoKAkCAgJAgICQJCgsDZw8PD\\\n",
       "v+fn58WHD4fDeH9/X3z37u5uXF1dLb57Op2m7K7tnWf93vObm5sp/96/2+2mXGe4v79f1ZWEtb3z\\\n",
       "rN/r0w4CQoKAkCAgJAgICQJCgoCQICAkCAgJAkKCgJAgICQICAkCQoKAkCAgJAgICQJCgoCQICAk\\\n",
       "CAgJAkKCgJAgICQICAkCQoKAkCAgJAis7hrF9fX1qq4zzLqCsbbd1V2jeHx8XNV1hllXMNa269MO\\\n",
       "AkKCgJAgICQICAkCQoKAkCAgJAgICQJCgoCQICAkCAgJAkKCgJAgICQICAkCQoKAkCAgJAgICQJC\\\n",
       "goCQICAkCAgJAkKCgJAgICQITLtG8edwHMe/i8+Or5vzKdcKXN9Yxqx3nnaN4vevn2P342zx3W/f\\\n",
       "r1zfWMCs6xuz3tmnHQSEBAEhQUBIEBASBIQEASFBQEgQEBIEhAQBIUFASBAQEgSEBAEhQUBIEBAS\\\n",
       "BIQEASFBQEgQEBIEhAQBIUFASBAQEgSEBAEhQUBIEJh2jWLW1YBZVxJOp5PdT7w77RrFrKsBs64k\\\n",
       "7Pd7u59416cdBIQEASFBQEgQEBIEhAQBIUFASBAQEgSEBAEhQUBIEBASBIQEASFBQEgQEBIEhAQB\\\n",
       "IUFASBAQEgSEBAEhQUBIEBASBIQEASFBQEgQ+A8hcMq23iDoVgAAAABJRU5ErkJggg==\\\n",
       "\"\n",
       "\n",
       "\n",
       "    /* set a timeout to make sure all the above elements are created before\n",
       "       the object is initialized. */\n",
       "    setTimeout(function() {\n",
       "        animd9c190fd2ede4b339212f72774b4e239 = new Animation(frames, img_id, slider_id, 149.0,\n",
       "                                 loop_select_id);\n",
       "    }, 0);\n",
       "  })()\n",
       "</script>\n"
      ],
      "text/plain": [
       "<IPython.core.display.HTML object>"
      ]
     },
     "metadata": {},
     "output_type": "display_data"
    }
   ],
   "source": [
    "rw.animate(world)"
   ]
  },
  {
   "cell_type": "markdown",
   "id": "d06a10fb",
   "metadata": {},
   "source": [
    "Ist dieser Algorithmus besonders klever?\n",
    "Nein!\n",
    "Der Algorithmus ist sehr einfach und benötigt unter Umständen sehr viel Rechenzeit.\n",
    "Dennoch zeigt dieses Beispiel, dass die Wiederholung von einfachen Befehlen zu komplexen Lösungen führen können!\n",
    "\n",
    "```{admonition} Wiederholung und Codekomplexität\n",
    ":class: remark\n",
    ":name: remark-complexity-of-repetition\n",
    "*Wiederholung* trennt den Aufwand zum Lösen einer Aufgabe von der Komplexität des Codes.\n",
    "Eine Berechnung kann enorm aufwendig sein und dennoch benötigen wir wenig Denkarbeit (wenig Code) um einen Algorithmus für die Lösung zu entwerfen!\n",
    "```\n",
    "\n",
    "(sec-for)=\n",
    "## Die ``for``-Schleife\n",
    "\n",
    "Die ``for``-Schleife verwenden wir immer dann, wenn wir (zur Laufzeit) vor dem Eintritt in die Wiederholung wissen, wie viele Wiederholungen wir **maximal** benötigen.\n",
    "Dabei wollen wir entweder\n",
    "\n",
    "1. für eine bestimmte Anzahl $n \\in \\mathbb{N}$, oder\n",
    "2. für jedes Element einer *Datenstruktur* (Liste, Tupel, usw.)\n",
    "\n",
    "einen Befehlsblock ausführen.\n",
    "\n",
    "Im zweiten Fall spricht man auch von der sog. *Foreach-Schleife*.\n",
    "Durch den Zahlenbereich ``range()`` reduziert ``Python`` den ersten Fall auf den zweiten.\n",
    "\n",
    "### Die klassische ``for``-Schleife (Fall 1)\n",
    "\n",
    "```python\n",
    "n = ...\n",
    "for i in range(n):\n",
    "    # Codeblock\n",
    "```\n",
    "\n",
    "Der Name der *Zählervariable* (hier ``i``) kann frei gewählt werden, allerdings verwendet man für Fall 1 gewöhnlich: ``i``, ``j`` oder ``k``."
   ]
  },
  {
   "cell_type": "code",
   "execution_count": 5,
   "id": "ae10e760",
   "metadata": {},
   "outputs": [
    {
     "name": "stdout",
     "output_type": "stream",
     "text": [
      "0\n",
      "1\n",
      "4\n",
      "9\n",
      "16\n",
      "25\n",
      "36\n",
      "49\n",
      "64\n",
      "81\n"
     ]
    }
   ],
   "source": [
    "for i in range(10):\n",
    "    print(i**2)"
   ]
  },
  {
   "cell_type": "markdown",
   "id": "8bb69ba8",
   "metadata": {},
   "source": [
    "Will man andeutet, dass die *Zählervariable* nicht benötigt wird, so verwendet man den Unterstrich ``_`` als ihren Namen."
   ]
  },
  {
   "cell_type": "code",
   "execution_count": 6,
   "id": "6db46627",
   "metadata": {},
   "outputs": [
    {
     "name": "stdout",
     "output_type": "stream",
     "text": [
      "42 ist die Antwort!\n",
      "42 ist die Antwort!\n",
      "42 ist die Antwort!\n",
      "42 ist die Antwort!\n",
      "42 ist die Antwort!\n",
      "42 ist die Antwort!\n",
      "42 ist die Antwort!\n",
      "42 ist die Antwort!\n",
      "42 ist die Antwort!\n",
      "42 ist die Antwort!\n"
     ]
    }
   ],
   "source": [
    "for _ in range(10):\n",
    "    print('42 ist die Antwort!')"
   ]
  },
  {
   "cell_type": "markdown",
   "id": "47779dfd",
   "metadata": {},
   "source": [
    "### Die Foreach-Schleife (Fall 2)\n",
    "\n",
    "```python\n",
    "sequenz = ... # some Sequenz of Elements\n",
    "for element in sequenz:\n",
    "    # Codeblock\n",
    "```\n",
    "\n",
    "Der Name mit dem wir die Elemente der Sequenz ansprechen (hier ``element``) kann frei gewählt werden und sollte beschreiben über welche Elemente wir *iterieren*."
   ]
  },
  {
   "cell_type": "code",
   "execution_count": 7,
   "id": "6d359c99",
   "metadata": {},
   "outputs": [
    {
     "name": "stdout",
     "output_type": "stream",
     "text": [
      "Sarah\n",
      "Sebastian\n",
      "Babar\n",
      "Simon\n",
      "Martin\n"
     ]
    }
   ],
   "source": [
    "names = ['Sarah', 'Sebastian', 'Babar', 'Simon', 'Martin']\n",
    "\n",
    "for name in names:\n",
    "    print(name)"
   ]
  },
  {
   "cell_type": "markdown",
   "id": "e132c41c",
   "metadata": {},
   "source": [
    "``range()`` ist, genau wie eine Liste und ein Tupel, auch eine *Sequenz*.\n",
    "Eine ``for``-Schleife läuft über die Einträge einer *Sequenz* oder anderer *iterierbarer* Strukturen.\n",
    "\n",
    "Es kann durchaus sein, dass wir die ``for``-Schleife auch dann verwenden, wenn nicht genau klar ist wie viele Wiederholungen wir benötigen.\n",
    "Ist uns bekannt wie viele Wiederholungen wir **maximal** benötigen ist dies kein Problem.\n",
    "\n",
    "Nehmen wir den Test ob eine Zahl $n$ eine Primzahl ist.\n",
    "Ein einfacher Algorithmus für den Test, testet für jede Zahl $m \\in \\{2, 3, \\ldots, n-1\\}$ ob $m$ die Zahl $n$ teilt.\n",
    "Wenn dies der Fall ist, ist $n$ keine Primzahl und wir können die Wiederholung stoppen.\n",
    "Wir wissen demnach, dass wir maximal $n-m-3$ Wiederholungen benötigen.\n",
    "Es könnten jedoch auch weniger sein:"
   ]
  },
  {
   "cell_type": "code",
   "execution_count": 8,
   "id": "266307ab",
   "metadata": {},
   "outputs": [
    {
     "name": "stdout",
     "output_type": "stream",
     "text": [
      "True\n",
      "True\n",
      "False\n",
      "True\n"
     ]
    }
   ],
   "source": [
    "def is_prime(n):\n",
    "    prime = True\n",
    "    for i in range(2, n):\n",
    "        if n % i == 0:\n",
    "            prime = False\n",
    "            break\n",
    "    return prime\n",
    "\n",
    "print(is_prime(2))\n",
    "print(is_prime(13))\n",
    "print(is_prime(25))\n",
    "print(is_prime(83))"
   ]
  },
  {
   "cell_type": "markdown",
   "id": "7cf038e4",
   "metadata": {},
   "source": [
    "Um die ``for``-Schleife frühzeitig zu beenden verwenden wir ``break``.\n",
    "Mit ``break`` springen wir aus der **innersten** Schleife heraus.\n",
    "Wir könnten stattdessen auch ``return`` verwenden, um aus der gesamten Funktion herauszuspringen:"
   ]
  },
  {
   "cell_type": "code",
   "execution_count": 9,
   "id": "62973cbe",
   "metadata": {},
   "outputs": [
    {
     "name": "stdout",
     "output_type": "stream",
     "text": [
      "True\n",
      "True\n",
      "False\n",
      "True\n"
     ]
    }
   ],
   "source": [
    "def is_prime(n):\n",
    "    for i in range(2, n):\n",
    "        if n % i == 0:\n",
    "            return False\n",
    "    return True\n",
    "\n",
    "print(is_prime(2))\n",
    "print(is_prime(13))\n",
    "print(is_prime(25))\n",
    "print(is_prime(83))"
   ]
  },
  {
   "cell_type": "markdown",
   "id": "0e00ae84",
   "metadata": {},
   "source": [
    "Eine weitere Steuermöglichkeit bietet ``continue``.\n",
    "Mit ``continue`` springen wir nicht aus der Schleife heraus sondern springen zurück zum Schleifenkopf.\n",
    "Der Code nach ``continue`` wird übersprungen:"
   ]
  },
  {
   "cell_type": "code",
   "execution_count": 10,
   "id": "d0c18a84",
   "metadata": {},
   "outputs": [
    {
     "name": "stdout",
     "output_type": "stream",
     "text": [
      "0\n",
      "2\n",
      "4\n",
      "6\n",
      "8\n"
     ]
    },
    {
     "data": {
      "text/plain": [
       "[0, 4, 8, 12, 16]"
      ]
     },
     "execution_count": 10,
     "metadata": {},
     "output_type": "execute_result"
    }
   ],
   "source": [
    "def double_even_numbers(numbers):\n",
    "    result = []\n",
    "    for number in numbers:\n",
    "        if number % 2 == 1:\n",
    "            continue\n",
    "            \n",
    "        print(number)\n",
    "        result.append(number*2)\n",
    "    return result\n",
    "numbers = list(range(10))\n",
    "double_even_numbers(numbers)"
   ]
  },
  {
   "cell_type": "markdown",
   "id": "cbd75599",
   "metadata": {},
   "source": [
    "Allerdings braucht man ``continue`` so gut wie nie und wenn es verwendet wird handelt es sich oftmals um schlecht leserlichen Code."
   ]
  },
  {
   "cell_type": "code",
   "execution_count": 11,
   "id": "54c36ba8",
   "metadata": {},
   "outputs": [
    {
     "name": "stdout",
     "output_type": "stream",
     "text": [
      "0\n",
      "2\n",
      "4\n",
      "6\n",
      "8\n"
     ]
    },
    {
     "data": {
      "text/plain": [
       "[0, 4, 8, 12, 16]"
      ]
     },
     "execution_count": 11,
     "metadata": {},
     "output_type": "execute_result"
    }
   ],
   "source": [
    "def double_even_numbers(numbers):\n",
    "    result = []\n",
    "    for number in numbers:\n",
    "        if number % 2 == 0:    \n",
    "            print(number)\n",
    "            result.append(number*2)\n",
    "    return result\n",
    "numbers = list(range(10))\n",
    "double_even_numbers(numbers)"
   ]
  },
  {
   "cell_type": "markdown",
   "id": "3574401f",
   "metadata": {},
   "source": [
    "```{admonition} Kontrollmechanismen der for-Schleife\n",
    ":class: remark\n",
    ":name: remark-control-structures-for\n",
    "Gehen Sie sparsam mit ``break`` und ``continue`` um, oftmals brauchen Sie es nicht!\n",
    "```\n",
    "\n",
    "### Die ``while``-Schleife\n",
    "\n",
    "Die ``while``-Schleife verwenden wir immer dann, wenn wir (zur Laufzeit) **nicht** wissen wie viele Wiederholungen wir maximal benötigen.\n",
    "Die Wiederholung endet sobald eine bestimmte Bedingung, d.h. ein *logischer Ausdruck* ``P`` zu ``False`` ausgewertet wird.\n",
    "\n",
    "```python\n",
    "while P:\n",
    "    # Codeblock1\n",
    "else: # (optional)\n",
    "    # Codeblock2\n",
    "```\n",
    "\n",
    "``Codeblock2`` wird einmal ausgeführt sobald ``P`` zu ``False`` ausgewertet wird und die ``while``-Schleife verlassen wird, d.h. als letzter Schritt.\n",
    "\n",
    "```{admonition} Endlosschleifen\n",
    ":class: attention\n",
    ":name: attention-endless-loop\n",
    "Wird ``P`` niemals ``False``, so endet die Wiederholung niemals und wir haben eine sog. *Endlosschleife*!\n",
    "```"
   ]
  },
  {
   "cell_type": "code",
   "execution_count": 12,
   "id": "a7f3fea8",
   "metadata": {},
   "outputs": [
    {
     "name": "stdout",
     "output_type": "stream",
     "text": [
      "1\n",
      "2\n",
      "3\n",
      "4\n",
      "5\n",
      "6\n",
      "7\n",
      "8\n",
      "9\n",
      "10\n",
      "end of the while-loop\n"
     ]
    }
   ],
   "source": [
    "i = 0\n",
    "while i < 10:\n",
    "    i += 1\n",
    "    print(i)\n",
    "else:\n",
    "    print('end of the while-loop')"
   ]
  },
  {
   "cell_type": "markdown",
   "id": "75967ffa",
   "metadata": {},
   "source": [
    "```{admonition} Mächtigkeit der While-Schleife\n",
    ":class: theorem\n",
    ":name: theorem-while-vs-for\n",
    "Jede ``for``-Schleife lässt sich in eine ``while``-Schleife transformieren!\n",
    "```"
   ]
  },
  {
   "cell_type": "code",
   "execution_count": 13,
   "id": "9e12f26a",
   "metadata": {},
   "outputs": [
    {
     "name": "stdout",
     "output_type": "stream",
     "text": [
      "Sarah\n",
      "Sebastian\n",
      "Babar\n",
      "Simon\n",
      "Martin\n",
      "\n",
      "Sarah\n",
      "Sebastian\n",
      "Babar\n",
      "Simon\n",
      "Martin\n"
     ]
    }
   ],
   "source": [
    "names = ['Sarah', 'Sebastian', 'Babar', 'Simon', 'Martin']\n",
    "\n",
    "for name in names:\n",
    "    print(name)\n",
    "\n",
    "print()\n",
    "\n",
    "i = 0\n",
    "while i < len(names):\n",
    "    print(names[i])\n",
    "    i += 1"
   ]
  },
  {
   "cell_type": "markdown",
   "id": "c5a48538",
   "metadata": {},
   "source": [
    "``while``-Schleifen sind mächtiger aber auch gefährlicher bzw. oftmals schwerer zu lesen und zu verstehen als ``for``-Schleifen.\n",
    "\n",
    "```{admonition} Verwendungskriterium\n",
    ":class: remark\n",
    ":name: remark-while-vs-for\n",
    "Verwenden Sie die ``while``-Schleife nur wenn die ``for``-Schleife ungeeignet ist.\n",
    "```\n",
    "\n",
    "``break`` und ``continue`` funktionieren für die ``while``-Schleife genauso wie für die ``for``-Schleife.\n",
    "\n",
    "```{admonition} Verwendungskriterium While-Schleife\n",
    ":class: remark\n",
    ":name: remark-while-usage\n",
    "Gehen Sie sparsam mit ``break`` und ``continue`` um, oftmals brauchen Sie es nicht!\n",
    "```\n",
    "\n",
    "Folgender Code zeigt eine unnötige Verwendung von ``continue``."
   ]
  },
  {
   "cell_type": "code",
   "execution_count": 14,
   "id": "fc0bc49d",
   "metadata": {},
   "outputs": [
    {
     "name": "stdout",
     "output_type": "stream",
     "text": [
      "1\n",
      "3\n",
      "5\n",
      "7\n",
      "9\n"
     ]
    }
   ],
   "source": [
    "# bad code!!!\n",
    "i = 0\n",
    "while i < 10:\n",
    "    i += 1\n",
    "    if i % 2 == 0:\n",
    "        continue\n",
    "    print(i)"
   ]
  },
  {
   "cell_type": "markdown",
   "id": "6be6e3b1",
   "metadata": {},
   "source": [
    "Stattdessen können wir die ``if``-Bedingung anpassen."
   ]
  },
  {
   "cell_type": "code",
   "execution_count": 15,
   "id": "5b44ad8b",
   "metadata": {},
   "outputs": [
    {
     "name": "stdout",
     "output_type": "stream",
     "text": [
      "1\n",
      "3\n",
      "5\n",
      "7\n",
      "9\n"
     ]
    }
   ],
   "source": [
    "# better!\n",
    "i = 0\n",
    "while i < 10:\n",
    "    i += 1\n",
    "    if i % 2 == 1:\n",
    "        print(i)"
   ]
  },
  {
   "cell_type": "markdown",
   "id": "644117b7",
   "metadata": {},
   "source": [
    "Oder aber Sie erhöhen die Zählervariable um zwei anstatt um eins."
   ]
  },
  {
   "cell_type": "code",
   "execution_count": 16,
   "id": "3d2293c1",
   "metadata": {},
   "outputs": [
    {
     "name": "stdout",
     "output_type": "stream",
     "text": [
      "1\n",
      "3\n",
      "5\n",
      "7\n",
      "9\n"
     ]
    }
   ],
   "source": [
    "# even better!\n",
    "i = 1\n",
    "while i < 10:      \n",
    "    print(i)\n",
    "    i += 2"
   ]
  },
  {
   "cell_type": "markdown",
   "id": "bcd04239",
   "metadata": {},
   "source": [
    "Am einfachsten zu lesen bleibt jedoch die ``for``-Schleife."
   ]
  },
  {
   "cell_type": "code",
   "execution_count": 17,
   "id": "d2686574",
   "metadata": {},
   "outputs": [
    {
     "name": "stdout",
     "output_type": "stream",
     "text": [
      "1\n",
      "3\n",
      "5\n",
      "7\n",
      "9\n"
     ]
    }
   ],
   "source": [
    "# even better!\n",
    "for i in range(1,10,2):\n",
    "  print(i)"
   ]
  },
  {
   "cell_type": "markdown",
   "id": "0565ab4b",
   "metadata": {},
   "source": [
    "```{admonition} Verhindern von Endlosschleifen\n",
    ":class: remark\n",
    ":name: remark-avoid-endless-loop\n",
    "Prüfen Sie immer ob Ihre Bedingung ``P`` durch den Schleifenrumpf garantiert irgendwann ``False`` ergibt!\n",
    "```\n",
    "\n",
    "## Beispiel (ggT)\n",
    "\n",
    "Lassen Sie uns [Euklid's Algorithmus](sec-euclid-alg) ``gcd(m,n)`` zum finden des Größter gemeinsamer Teiler (ggT) zweier ganzer Zahlen von $m$ und $n$ erneut implementieren.\n",
    "\n",
    "Euklid's Algorithmus geht wie folgt vor:\n",
    "\n",
    "1. Berechne den Restwert der Division $m / n$ (Modulodivision). Sei dieser gleich $r$.\n",
    "2. Setze $m \\leftarrow n$, $n \\leftarrow r$ und gehe zurück zu Schritt 1.\n",
    "3. Falls $r = 0$ (und somit $n = 0$), so ist der Algorithmus beendet. Das Ergebnis (ggT) ist $m$. Ansonsten fahre fort."
   ]
  },
  {
   "cell_type": "code",
   "execution_count": 18,
   "id": "083d35a9",
   "metadata": {},
   "outputs": [
    {
     "data": {
      "text/plain": [
       "12"
      ]
     },
     "execution_count": 18,
     "metadata": {},
     "output_type": "execute_result"
    }
   ],
   "source": [
    "def gcd(m, n):\n",
    "    while n != 0:\n",
    "        r = m % n\n",
    "        m = n\n",
    "        n = r\n",
    "    return m\n",
    "gcd(36, 24)"
   ]
  },
  {
   "cell_type": "markdown",
   "id": "b345effe",
   "metadata": {},
   "source": [
    "Durch das packing bzw. unpacking (siehe [Tupel](sec-tuple)) können wir den Code noch verkürzen:"
   ]
  },
  {
   "cell_type": "code",
   "execution_count": 19,
   "id": "3d5796d8",
   "metadata": {},
   "outputs": [
    {
     "data": {
      "text/plain": [
       "12"
      ]
     },
     "execution_count": 19,
     "metadata": {},
     "output_type": "execute_result"
    }
   ],
   "source": [
    "def gcd(m, n):\n",
    "    while n != 0:\n",
    "        m, n = n, m % n\n",
    "    return m\n",
    "gcd(36, 24)"
   ]
  }
 ],
 "metadata": {
  "jupytext": {
   "formats": "md:myst",
   "text_representation": {
    "extension": ".md",
    "format_name": "myst"
   }
  },
  "kernelspec": {
   "display_name": "Python 3",
   "language": "python",
   "name": "python3"
  },
  "language_info": {
   "codemirror_mode": {
    "name": "ipython",
    "version": 3
   },
   "file_extension": ".py",
   "mimetype": "text/x-python",
   "name": "python",
   "nbconvert_exporter": "python",
   "pygments_lexer": "ipython3",
   "version": "3.9.13"
  },
  "source_map": [
   11,
   41,
   46,
   63,
   72,
   76,
   81,
   85,
   87,
   125,
   128,
   132,
   135,
   147,
   152,
   166,
   179,
   185,
   196,
   202,
   214,
   218,
   228,
   256,
   263,
   271,
   283,
   303,
   311,
   315,
   322,
   326,
   332,
   336,
   340,
   358,
   366,
   370
  ]
 },
 "nbformat": 4,
 "nbformat_minor": 5
}