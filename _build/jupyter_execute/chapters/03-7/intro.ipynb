{
 "cells": [
  {
   "cell_type": "markdown",
   "id": "f4496c79",
   "metadata": {},
   "source": [
    "(sec-control-statements)=\n",
    "# Kontrollstrukturen\n",
    "\n",
    "Kontrollstrukturen beeinflussen die Reihenfolge der abzuarbeitenden Befehle. \n",
    "Sie ermöglichen es von einer rein *sequenziellen* Abarbeitung abzuweichen.\n",
    "\n",
    "Erst durch diese Abweichung erlangen wir die nötige Ausdrucksweise um das zu berechnen was *berechenbar* ist.\n",
    "Es gibt lediglich zwei wesentliche Kontrollstrukturen:\n",
    "\n",
    "1. [Fallunterscheidung](sec-cases) (führe entweder Codeabschnitt A oder B aus)\n",
    "2. [Schleifen](sec-loops) (führe Codeabschnitt A öfters aus)\n",
    "\n",
    "Beide Konzepte verwenden wir bereits immerzu in der 'echten' Welt.\n",
    "\n",
    "Funktionen kontrollieren ebenfalls den Programmablauf.\n",
    "Man kann sie auch als Kontrollstrukturen betrachten.\n",
    "Diese haben wir jedoch im Kapitel [Funktionen](sec-functions) besprochen."
   ]
  }
 ],
 "metadata": {
  "jupytext": {
   "formats": "md:myst",
   "text_representation": {
    "extension": ".md",
    "format_name": "myst"
   }
  },
  "kernelspec": {
   "display_name": "Python 3",
   "language": "python",
   "name": "python3"
  },
  "language_info": {
   "codemirror_mode": {
    "name": "ipython",
    "version": 3
   },
   "file_extension": ".py",
   "mimetype": "text/x-python",
   "name": "python",
   "nbconvert_exporter": "python",
   "pygments_lexer": "ipython3",
   "version": "3.9.7"
  },
  "source_map": [
   11
  ]
 },
 "nbformat": 4,
 "nbformat_minor": 5
}