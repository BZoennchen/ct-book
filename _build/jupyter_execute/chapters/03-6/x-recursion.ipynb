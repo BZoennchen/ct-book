{
 "cells": [
  {
   "cell_type": "markdown",
   "id": "coordinated-marble",
   "metadata": {},
   "source": [
    "(sec-recursive-functions)=\n",
    "# Rekursive Funktionen\n",
    "\n",
    "Bevor Sie fortfahren sollten Sie sich den Abschnitt [Wiederholung](sec-repetition-and-recursion) durchgelesen haben.\n",
    "\n",
    "Wir werden in diesem Abschnitt nicht über Rekursion an sich sprechen, sondern wie *rekursive Funktionen* in den allermeisten Programmiersprachen realisiert werden.\n",
    "\n",
    ">Wie realisiert der Computer Rekursion? \n",
    "\n",
    ">Was passiert bei einem rekursiven Aufruf?\n",
    "\n",
    ">Und was sind überhaupt *rekursive Funktionen*?\n",
    "\n",
    "```{admonition} Rekursive Funktionen\n",
    ":class: definition\n",
    ":name: def-recursive-function\n",
    "Als *rekursive Funktion* wird eine Funktion bezeichnet, welche sich für bestimmte Argumente selbst aufruft.\n",
    "```\n",
    "\n",
    "Die folgende Berechnung der Fakultät ist eine rekursive Funktion, welche wir bereits eingeführt hatten."
   ]
  },
  {
   "cell_type": "code",
   "execution_count": 1,
   "id": "constitutional-status",
   "metadata": {},
   "outputs": [
    {
     "data": {
      "text/plain": [
       "24"
      ]
     },
     "execution_count": 1,
     "metadata": {},
     "output_type": "execute_result"
    }
   ],
   "source": [
    "def fac(n):\n",
    "    if n <= 1:    # Base cases!\n",
    "        return 1\n",
    "    else:         # Recursive case\n",
    "        return n * fac(n-1) # Recursive call \n",
    "\n",
    "fac(4)"
   ]
  },
  {
   "cell_type": "markdown",
   "id": "unusual-fabric",
   "metadata": {},
   "source": [
    "Damit eine rekursive Funktion terminiert benötigt sie mindestens einen *Basisfall*, d.h. einen Pfad an Anweisungen, welcher **keinen** Funktionsaufruf der Funktion selbst enthält.\n",
    "Das ist eine notwendige aber noch nicht hinreichende Bedingung.\n",
    "Um formal zu beweisen, dass eine rekursive Funktion terminiert und auch das richtig berechnet, verwendet man die sog. [Induktion](sec-induction).\n",
    "\n",
    "Im obigen Fall sehen wir recht schnell, dass alles korrekt ablaufen sollte, sofern ``n`` eine natürliche Zahl ist.\n",
    "Da wir ``n`` bei jedem rekursiven Aufruf um 1 verkleinern, muss irgendwann die ``if``-Bedingung zutreffen.\n",
    "In anderen Worten kommen wir immer irgendwann in den *Basisfall*!\n",
    "\n",
    "Wie aber werden die Variablen der unterschiedlichen Funktionsaufrufe verwaltet?\n",
    "Gibt es nur ein einzelnes ``n``, welches von allen Funktionsaufrufen verwendet wird?\n",
    "Dieser Punkt ist äußerst wichtig.\n",
    "Lassen Sie uns den Funktionsaufruf ``fac(4)`` einmal 'ausbreiten':\n",
    "``fac(4)`` wird zu ``4 * fac(3)`` wird zu ``4 * fac(2)`` wird zu ``4 * 3 * fac(1)`` wird schließlich zu ``4 * 3 * 2 * 1``.\n",
    "\n",
    "## Stack und Heap\n",
    "\n",
    "Es ist äußerst wichtig zu begreifen, dass bei jedem rekursiven Aufruf ein neuer [lokaler Namensraum](sec-local-namespace) eröffnet wird!\n",
    "Das bedeutet, jeder Funktionsaufruf verwendet einen frischen Satz an Variablen.\n",
    "Dieser Namensraum befindet sich auf dem sog. *Stack*, zu deutsch *Stapel*.\n",
    "\n",
    "```{admonition} Stack (Arbeitsspeicher)\n",
    ":name: def-stack\n",
    ":class: definition\n",
    "\n",
    "Der *Stack* ist ein spezieller Bereich des Arbeitsspeichers, auf welchem die Variablen des lokalen Namensraums liegen.\n",
    "Bei jedem Funktionsaufruf wird ein Namensraum automatisch auf den Stack gelegt und bei jedem Rücksprung (``return``) wird der entsprechende Namensraum automatisch vom Stack gelöscht.\n",
    "```\n",
    "\n",
    "Immer wenn wir ``fac`` aufrufen, wird ein neuer lokaler Namensraum auf den Stack gelegt.\n",
    "Dieser enthält die Variable ``n``.\n",
    "Da die Funktionen rekursiv aufgerufen werden, füllt sich der Stack bis wir uns im Aufruf von ``fac(1)`` befinden.\n",
    "\n",
    "```{figure} ../../figs/python-tutorial/functions/stack_fill.png\n",
    "---\n",
    "width: 500px\n",
    "name: fig-stack_fill\n",
    "---\n",
    "Befüllung des *Stacks* durch den Aufruf der *rekursiven Funktion* ``fac(4)``.\n",
    "```\n",
    "\n",
    "``fac(1)`` gelangt in den *Basisfall* und beendet die Rekursionskette.\n",
    "Es ließt sein ``n`` aus seinem Namensraum (in {numref}`Abbildung {number} <fig-stack_fill>` ist das der ``namespace4``), prüft ``n <= 1`` und liefert ``1`` zurück.\n",
    "Durch diesen Rücksprung, wird der Namensraum gelöscht und der nächste Namensraum auf dem *Stack* definiert den Namensraum des aktuellen Funktionsaufrufs.\n",
    "In diesem hat ``n`` den Wert ``2`` und wir befinden uns bereits an der Stelle ``return n * fac(1)`` und da ``fac(1)`` soeben den Wert ``1`` zurückgeliefert hat, wird dieser Ausdruck zu ``return n * 1`` und somit zu ``return 2 * 1``.\n",
    "\n",
    "Sukzessive leert sich der Stack.\n",
    "\n",
    "```{figure} ../../figs/python-tutorial/functions/stack_clear.png\n",
    "---\n",
    "width: 500px\n",
    "name: fig-stack_clear\n",
    "---\n",
    "Der *Stacks* leert sich beim Rücksprung.\n",
    "```\n",
    "\n",
    "Wann immer eine Funktion aufgerufen wird (egal ob rekursiv oder nicht) wird oben auf dem Stack ein Speicherblock für den lokalen Namensraum reserviert und wann immer die Funktion terminiert/zurückspringt der Speicherblock wird wieder freigegeben.\n",
    "Der Zugriff auf den Stack ist schnell, da die Reservierung und das Freigeben wenig Verwaltungsinformation benötigt.\n",
    "Außerdem ist der Stack ein zusammenhängender Speicherbereich, d.h., aufeinanderfolgende Speicherzugriffe liegen nahe im Speicher beisammen.\n",
    "\n",
    "```{admonition} Stack und Funktionsaufrufe\n",
    ":class: remark\n",
    ":name: remark-stack-speed\n",
    "Damit wir als Programmierer\\*innen Codeblöcke aus Gründen der Laufzeit Funktionen vermeiden, muss der *Stack* sehr effizient sein!\n",
    "```\n",
    "\n",
    "Die maximale Tiefe des *Stacks* ist an eine bestimmte Zahl gebunden.\n",
    "Ist unsere Rekursion zu tief, läuft der Stacks voll:"
   ]
  },
  {
   "cell_type": "code",
   "execution_count": 2,
   "id": "secondary-alaska",
   "metadata": {
    "tags": [
     "raises-exception"
    ]
   },
   "outputs": [
    {
     "ename": "RecursionError",
     "evalue": "maximum recursion depth exceeded in comparison",
     "output_type": "error",
     "traceback": [
      "\u001b[0;31m---------------------------------------------------------------------------\u001b[0m",
      "\u001b[0;31mRecursionError\u001b[0m                            Traceback (most recent call last)",
      "\u001b[0;32m<ipython-input-2-c0f4a2ba333e>\u001b[0m in \u001b[0;36m<module>\u001b[0;34m\u001b[0m\n\u001b[0;32m----> 1\u001b[0;31m \u001b[0mfac\u001b[0m\u001b[0;34m(\u001b[0m\u001b[0;36m5000\u001b[0m\u001b[0;34m)\u001b[0m\u001b[0;34m\u001b[0m\u001b[0;34m\u001b[0m\u001b[0m\n\u001b[0m",
      "\u001b[0;32m<ipython-input-1-452caf8b0569>\u001b[0m in \u001b[0;36mfac\u001b[0;34m(n)\u001b[0m\n\u001b[1;32m      3\u001b[0m         \u001b[0;32mreturn\u001b[0m \u001b[0;36m1\u001b[0m\u001b[0;34m\u001b[0m\u001b[0;34m\u001b[0m\u001b[0m\n\u001b[1;32m      4\u001b[0m     \u001b[0;32melse\u001b[0m\u001b[0;34m:\u001b[0m         \u001b[0;31m# Recursive case\u001b[0m\u001b[0;34m\u001b[0m\u001b[0;34m\u001b[0m\u001b[0m\n\u001b[0;32m----> 5\u001b[0;31m         \u001b[0;32mreturn\u001b[0m \u001b[0mn\u001b[0m \u001b[0;34m*\u001b[0m \u001b[0mfac\u001b[0m\u001b[0;34m(\u001b[0m\u001b[0mn\u001b[0m\u001b[0;34m-\u001b[0m\u001b[0;36m1\u001b[0m\u001b[0;34m)\u001b[0m \u001b[0;31m# Recursive call\u001b[0m\u001b[0;34m\u001b[0m\u001b[0;34m\u001b[0m\u001b[0m\n\u001b[0m\u001b[1;32m      6\u001b[0m \u001b[0;34m\u001b[0m\u001b[0m\n\u001b[1;32m      7\u001b[0m \u001b[0mfac\u001b[0m\u001b[0;34m(\u001b[0m\u001b[0;36m4\u001b[0m\u001b[0;34m)\u001b[0m\u001b[0;34m\u001b[0m\u001b[0;34m\u001b[0m\u001b[0m\n",
      "... last 1 frames repeated, from the frame below ...\n",
      "\u001b[0;32m<ipython-input-1-452caf8b0569>\u001b[0m in \u001b[0;36mfac\u001b[0;34m(n)\u001b[0m\n\u001b[1;32m      3\u001b[0m         \u001b[0;32mreturn\u001b[0m \u001b[0;36m1\u001b[0m\u001b[0;34m\u001b[0m\u001b[0;34m\u001b[0m\u001b[0m\n\u001b[1;32m      4\u001b[0m     \u001b[0;32melse\u001b[0m\u001b[0;34m:\u001b[0m         \u001b[0;31m# Recursive case\u001b[0m\u001b[0;34m\u001b[0m\u001b[0;34m\u001b[0m\u001b[0m\n\u001b[0;32m----> 5\u001b[0;31m         \u001b[0;32mreturn\u001b[0m \u001b[0mn\u001b[0m \u001b[0;34m*\u001b[0m \u001b[0mfac\u001b[0m\u001b[0;34m(\u001b[0m\u001b[0mn\u001b[0m\u001b[0;34m-\u001b[0m\u001b[0;36m1\u001b[0m\u001b[0;34m)\u001b[0m \u001b[0;31m# Recursive call\u001b[0m\u001b[0;34m\u001b[0m\u001b[0;34m\u001b[0m\u001b[0m\n\u001b[0m\u001b[1;32m      6\u001b[0m \u001b[0;34m\u001b[0m\u001b[0m\n\u001b[1;32m      7\u001b[0m \u001b[0mfac\u001b[0m\u001b[0;34m(\u001b[0m\u001b[0;36m4\u001b[0m\u001b[0;34m)\u001b[0m\u001b[0;34m\u001b[0m\u001b[0;34m\u001b[0m\u001b[0m\n",
      "\u001b[0;31mRecursionError\u001b[0m: maximum recursion depth exceeded in comparison"
     ]
    }
   ],
   "source": [
    "fac(5000)"
   ]
  },
  {
   "cell_type": "markdown",
   "id": "quiet-birth",
   "metadata": {},
   "source": [
    "Wir können die maximale erlaubte Rekursionstiefe auch anpassen:"
   ]
  },
  {
   "cell_type": "code",
   "execution_count": 3,
   "id": "popular-cotton",
   "metadata": {
    "tags": [
     "raises-exception"
    ]
   },
   "outputs": [],
   "source": [
    "import sys\n",
    "sys.setrecursionlimit(10**5)\n",
    "\n",
    "fac(5000)"
   ]
  },
  {
   "cell_type": "markdown",
   "id": "prescription-massage",
   "metadata": {},
   "source": [
    "Der andere Speicherbereich, welcher nicht zum *Stack* gehört, bezeichnen wir als *Heap*.\n",
    "\n",
    "```{admonition} Heap (Arbeitsspeicher)\n",
    ":name: def-heap\n",
    ":class: definition\n",
    "Der *Heap* ist ein Speicherbereich für die *dynamische Speicherverwaltung*.\n",
    "Anders als beim *Stack* gibt es kein Muster mit dem der *Heap* gefüllt bzw. geleert werden muss.\n",
    "```\n",
    "\n",
    "Im *Heap* kann man kreuz und quer Speicher reservieren und freigeben.\n",
    "Das macht die Verwaltung des *Heaps* komplexer.\n",
    "Im Vergleich zum *Stack* ist es deutlich aufwendiger zu protokollieren, welche Speicherbereiche frei und welche belegt sind.\n",
    "\n",
    "## Laufzeit\n",
    "\n",
    "Obwohl der *Stack* enorm effizient ist, sind iterative Lösungen fast immer schneller in ihrer Ausführung.\n",
    "Übersetzten wir den Code in Maschinencode, also in die niedrigste bzw. konkreteste Form, so benötigen rekursive Lösungen fast immer mehr Sprungbefehle.\n",
    "\n",
    "Auch benötigt ein Funktionsaufruf mehr Ressourcenmanagement als ein Sprung zum Anfang einer Schleife.\n",
    "Vergleichen wir unsere rekursive Lösung mit der iterativen:"
   ]
  },
  {
   "cell_type": "code",
   "execution_count": 4,
   "id": "other-endorsement",
   "metadata": {},
   "outputs": [],
   "source": [
    "def fac_it(n):\n",
    "    result = 1\n",
    "    for i in range(1,n+1):\n",
    "        result += i\n",
    "    return result"
   ]
  },
  {
   "cell_type": "markdown",
   "id": "unsigned-afternoon",
   "metadata": {},
   "source": [
    "Die iterative Lösung verwendet lediglich drei Variablen nämlich ``n``, ``i`` und ``result``, wohingegen wir bei der rekursiven Lösung für ``fac(n)`` ca. ``n`` Variablen benötigen.\n",
    "\n",
    "Zusätzlich sind [CPU's](def-cpu) in der von [Neumann Architektur](sec-von-neumann) auf Schleifen optimiert.\n",
    "Rücksprünge kann die CPU nur vorhersagen, wenn es von ihnen nicht zu viele hintereinander gibt.\n",
    "Dazu verwendet die CPU einen begrenzten Speicher.\n",
    "Läuft dieser voll, schlägt die Vorhersage fehl und die Ausführungszeit verlängert sich drastisch.\n",
    "\n",
    "Lassen Sie uns die Laufzeiten der beiden Implementierungen vergleichen:"
   ]
  },
  {
   "cell_type": "code",
   "execution_count": 5,
   "id": "composed-inquiry",
   "metadata": {},
   "outputs": [
    {
     "name": "stdout",
     "output_type": "stream",
     "text": [
      "291 µs ± 1.16 µs per loop (mean ± std. dev. of 7 runs, 1000 loops each)\n"
     ]
    }
   ],
   "source": [
    "%timeit fac_it(5000)"
   ]
  },
  {
   "cell_type": "code",
   "execution_count": 6,
   "id": "pacific-rendering",
   "metadata": {},
   "outputs": [
    {
     "ename": "RecursionError",
     "evalue": "maximum recursion depth exceeded in comparison",
     "output_type": "error",
     "traceback": [
      "\u001b[0;31m---------------------------------------------------------------------------\u001b[0m",
      "\u001b[0;31mRecursionError\u001b[0m                            Traceback (most recent call last)",
      "\u001b[0;32m<ipython-input-5-892bdcd3880a>\u001b[0m in \u001b[0;36m<module>\u001b[0;34m\u001b[0m\n\u001b[0;32m----> 1\u001b[0;31m \u001b[0mget_ipython\u001b[0m\u001b[0;34m(\u001b[0m\u001b[0;34m)\u001b[0m\u001b[0;34m.\u001b[0m\u001b[0mrun_line_magic\u001b[0m\u001b[0;34m(\u001b[0m\u001b[0;34m'timeit'\u001b[0m\u001b[0;34m,\u001b[0m \u001b[0;34m'fac(5000)'\u001b[0m\u001b[0;34m)\u001b[0m\u001b[0;34m\u001b[0m\u001b[0;34m\u001b[0m\u001b[0m\n\u001b[0m",
      "\u001b[0;32m~/Development/workspaces/python3env/lib/python3.9/site-packages/IPython/core/interactiveshell.py\u001b[0m in \u001b[0;36mrun_line_magic\u001b[0;34m(self, magic_name, line, _stack_depth)\u001b[0m\n\u001b[1;32m   2334\u001b[0m                 \u001b[0mkwargs\u001b[0m\u001b[0;34m[\u001b[0m\u001b[0;34m'local_ns'\u001b[0m\u001b[0;34m]\u001b[0m \u001b[0;34m=\u001b[0m \u001b[0mself\u001b[0m\u001b[0;34m.\u001b[0m\u001b[0mget_local_scope\u001b[0m\u001b[0;34m(\u001b[0m\u001b[0mstack_depth\u001b[0m\u001b[0;34m)\u001b[0m\u001b[0;34m\u001b[0m\u001b[0;34m\u001b[0m\u001b[0m\n\u001b[1;32m   2335\u001b[0m             \u001b[0;32mwith\u001b[0m \u001b[0mself\u001b[0m\u001b[0;34m.\u001b[0m\u001b[0mbuiltin_trap\u001b[0m\u001b[0;34m:\u001b[0m\u001b[0;34m\u001b[0m\u001b[0;34m\u001b[0m\u001b[0m\n\u001b[0;32m-> 2336\u001b[0;31m                 \u001b[0mresult\u001b[0m \u001b[0;34m=\u001b[0m \u001b[0mfn\u001b[0m\u001b[0;34m(\u001b[0m\u001b[0;34m*\u001b[0m\u001b[0margs\u001b[0m\u001b[0;34m,\u001b[0m \u001b[0;34m**\u001b[0m\u001b[0mkwargs\u001b[0m\u001b[0;34m)\u001b[0m\u001b[0;34m\u001b[0m\u001b[0;34m\u001b[0m\u001b[0m\n\u001b[0m\u001b[1;32m   2337\u001b[0m             \u001b[0;32mreturn\u001b[0m \u001b[0mresult\u001b[0m\u001b[0;34m\u001b[0m\u001b[0;34m\u001b[0m\u001b[0m\n\u001b[1;32m   2338\u001b[0m \u001b[0;34m\u001b[0m\u001b[0m\n",
      "\u001b[0;32m<decorator-gen-53>\u001b[0m in \u001b[0;36mtimeit\u001b[0;34m(self, line, cell, local_ns)\u001b[0m\n",
      "\u001b[0;32m~/Development/workspaces/python3env/lib/python3.9/site-packages/IPython/core/magic.py\u001b[0m in \u001b[0;36m<lambda>\u001b[0;34m(f, *a, **k)\u001b[0m\n\u001b[1;32m    185\u001b[0m     \u001b[0;31m# but it's overkill for just that one bit of state.\u001b[0m\u001b[0;34m\u001b[0m\u001b[0;34m\u001b[0m\u001b[0m\n\u001b[1;32m    186\u001b[0m     \u001b[0;32mdef\u001b[0m \u001b[0mmagic_deco\u001b[0m\u001b[0;34m(\u001b[0m\u001b[0marg\u001b[0m\u001b[0;34m)\u001b[0m\u001b[0;34m:\u001b[0m\u001b[0;34m\u001b[0m\u001b[0;34m\u001b[0m\u001b[0m\n\u001b[0;32m--> 187\u001b[0;31m         \u001b[0mcall\u001b[0m \u001b[0;34m=\u001b[0m \u001b[0;32mlambda\u001b[0m \u001b[0mf\u001b[0m\u001b[0;34m,\u001b[0m \u001b[0;34m*\u001b[0m\u001b[0ma\u001b[0m\u001b[0;34m,\u001b[0m \u001b[0;34m**\u001b[0m\u001b[0mk\u001b[0m\u001b[0;34m:\u001b[0m \u001b[0mf\u001b[0m\u001b[0;34m(\u001b[0m\u001b[0;34m*\u001b[0m\u001b[0ma\u001b[0m\u001b[0;34m,\u001b[0m \u001b[0;34m**\u001b[0m\u001b[0mk\u001b[0m\u001b[0;34m)\u001b[0m\u001b[0;34m\u001b[0m\u001b[0;34m\u001b[0m\u001b[0m\n\u001b[0m\u001b[1;32m    188\u001b[0m \u001b[0;34m\u001b[0m\u001b[0m\n\u001b[1;32m    189\u001b[0m         \u001b[0;32mif\u001b[0m \u001b[0mcallable\u001b[0m\u001b[0;34m(\u001b[0m\u001b[0marg\u001b[0m\u001b[0;34m)\u001b[0m\u001b[0;34m:\u001b[0m\u001b[0;34m\u001b[0m\u001b[0;34m\u001b[0m\u001b[0m\n",
      "\u001b[0;32m~/Development/workspaces/python3env/lib/python3.9/site-packages/IPython/core/magics/execution.py\u001b[0m in \u001b[0;36mtimeit\u001b[0;34m(self, line, cell, local_ns)\u001b[0m\n\u001b[1;32m   1167\u001b[0m             \u001b[0;32mfor\u001b[0m \u001b[0mindex\u001b[0m \u001b[0;32min\u001b[0m \u001b[0mrange\u001b[0m\u001b[0;34m(\u001b[0m\u001b[0;36m0\u001b[0m\u001b[0;34m,\u001b[0m \u001b[0;36m10\u001b[0m\u001b[0;34m)\u001b[0m\u001b[0;34m:\u001b[0m\u001b[0;34m\u001b[0m\u001b[0;34m\u001b[0m\u001b[0m\n\u001b[1;32m   1168\u001b[0m                 \u001b[0mnumber\u001b[0m \u001b[0;34m=\u001b[0m \u001b[0;36m10\u001b[0m \u001b[0;34m**\u001b[0m \u001b[0mindex\u001b[0m\u001b[0;34m\u001b[0m\u001b[0;34m\u001b[0m\u001b[0m\n\u001b[0;32m-> 1169\u001b[0;31m                 \u001b[0mtime_number\u001b[0m \u001b[0;34m=\u001b[0m \u001b[0mtimer\u001b[0m\u001b[0;34m.\u001b[0m\u001b[0mtimeit\u001b[0m\u001b[0;34m(\u001b[0m\u001b[0mnumber\u001b[0m\u001b[0;34m)\u001b[0m\u001b[0;34m\u001b[0m\u001b[0;34m\u001b[0m\u001b[0m\n\u001b[0m\u001b[1;32m   1170\u001b[0m                 \u001b[0;32mif\u001b[0m \u001b[0mtime_number\u001b[0m \u001b[0;34m>=\u001b[0m \u001b[0;36m0.2\u001b[0m\u001b[0;34m:\u001b[0m\u001b[0;34m\u001b[0m\u001b[0;34m\u001b[0m\u001b[0m\n\u001b[1;32m   1171\u001b[0m                     \u001b[0;32mbreak\u001b[0m\u001b[0;34m\u001b[0m\u001b[0;34m\u001b[0m\u001b[0m\n",
      "\u001b[0;32m~/Development/workspaces/python3env/lib/python3.9/site-packages/IPython/core/magics/execution.py\u001b[0m in \u001b[0;36mtimeit\u001b[0;34m(self, number)\u001b[0m\n\u001b[1;32m    167\u001b[0m         \u001b[0mgc\u001b[0m\u001b[0;34m.\u001b[0m\u001b[0mdisable\u001b[0m\u001b[0;34m(\u001b[0m\u001b[0;34m)\u001b[0m\u001b[0;34m\u001b[0m\u001b[0;34m\u001b[0m\u001b[0m\n\u001b[1;32m    168\u001b[0m         \u001b[0;32mtry\u001b[0m\u001b[0;34m:\u001b[0m\u001b[0;34m\u001b[0m\u001b[0;34m\u001b[0m\u001b[0m\n\u001b[0;32m--> 169\u001b[0;31m             \u001b[0mtiming\u001b[0m \u001b[0;34m=\u001b[0m \u001b[0mself\u001b[0m\u001b[0;34m.\u001b[0m\u001b[0minner\u001b[0m\u001b[0;34m(\u001b[0m\u001b[0mit\u001b[0m\u001b[0;34m,\u001b[0m \u001b[0mself\u001b[0m\u001b[0;34m.\u001b[0m\u001b[0mtimer\u001b[0m\u001b[0;34m)\u001b[0m\u001b[0;34m\u001b[0m\u001b[0;34m\u001b[0m\u001b[0m\n\u001b[0m\u001b[1;32m    170\u001b[0m         \u001b[0;32mfinally\u001b[0m\u001b[0;34m:\u001b[0m\u001b[0;34m\u001b[0m\u001b[0;34m\u001b[0m\u001b[0m\n\u001b[1;32m    171\u001b[0m             \u001b[0;32mif\u001b[0m \u001b[0mgcold\u001b[0m\u001b[0;34m:\u001b[0m\u001b[0;34m\u001b[0m\u001b[0;34m\u001b[0m\u001b[0m\n",
      "\u001b[0;32m<magic-timeit>\u001b[0m in \u001b[0;36minner\u001b[0;34m(_it, _timer)\u001b[0m\n",
      "\u001b[0;32m<ipython-input-1-452caf8b0569>\u001b[0m in \u001b[0;36mfac\u001b[0;34m(n)\u001b[0m\n\u001b[1;32m      3\u001b[0m         \u001b[0;32mreturn\u001b[0m \u001b[0;36m1\u001b[0m\u001b[0;34m\u001b[0m\u001b[0;34m\u001b[0m\u001b[0m\n\u001b[1;32m      4\u001b[0m     \u001b[0;32melse\u001b[0m\u001b[0;34m:\u001b[0m         \u001b[0;31m# Recursive case\u001b[0m\u001b[0;34m\u001b[0m\u001b[0;34m\u001b[0m\u001b[0m\n\u001b[0;32m----> 5\u001b[0;31m         \u001b[0;32mreturn\u001b[0m \u001b[0mn\u001b[0m \u001b[0;34m*\u001b[0m \u001b[0mfac\u001b[0m\u001b[0;34m(\u001b[0m\u001b[0mn\u001b[0m\u001b[0;34m-\u001b[0m\u001b[0;36m1\u001b[0m\u001b[0;34m)\u001b[0m \u001b[0;31m# Recursive call\u001b[0m\u001b[0;34m\u001b[0m\u001b[0;34m\u001b[0m\u001b[0m\n\u001b[0m\u001b[1;32m      6\u001b[0m \u001b[0;34m\u001b[0m\u001b[0m\n\u001b[1;32m      7\u001b[0m \u001b[0mfac\u001b[0m\u001b[0;34m(\u001b[0m\u001b[0;36m4\u001b[0m\u001b[0;34m)\u001b[0m\u001b[0;34m\u001b[0m\u001b[0;34m\u001b[0m\u001b[0m\n",
      "... last 1 frames repeated, from the frame below ...\n",
      "\u001b[0;32m<ipython-input-1-452caf8b0569>\u001b[0m in \u001b[0;36mfac\u001b[0;34m(n)\u001b[0m\n\u001b[1;32m      3\u001b[0m         \u001b[0;32mreturn\u001b[0m \u001b[0;36m1\u001b[0m\u001b[0;34m\u001b[0m\u001b[0;34m\u001b[0m\u001b[0m\n\u001b[1;32m      4\u001b[0m     \u001b[0;32melse\u001b[0m\u001b[0;34m:\u001b[0m         \u001b[0;31m# Recursive case\u001b[0m\u001b[0;34m\u001b[0m\u001b[0;34m\u001b[0m\u001b[0m\n\u001b[0;32m----> 5\u001b[0;31m         \u001b[0;32mreturn\u001b[0m \u001b[0mn\u001b[0m \u001b[0;34m*\u001b[0m \u001b[0mfac\u001b[0m\u001b[0;34m(\u001b[0m\u001b[0mn\u001b[0m\u001b[0;34m-\u001b[0m\u001b[0;36m1\u001b[0m\u001b[0;34m)\u001b[0m \u001b[0;31m# Recursive call\u001b[0m\u001b[0;34m\u001b[0m\u001b[0;34m\u001b[0m\u001b[0m\n\u001b[0m\u001b[1;32m      6\u001b[0m \u001b[0;34m\u001b[0m\u001b[0m\n\u001b[1;32m      7\u001b[0m \u001b[0mfac\u001b[0m\u001b[0;34m(\u001b[0m\u001b[0;36m4\u001b[0m\u001b[0;34m)\u001b[0m\u001b[0;34m\u001b[0m\u001b[0;34m\u001b[0m\u001b[0m\n",
      "\u001b[0;31mRecursionError\u001b[0m: maximum recursion depth exceeded in comparison"
     ]
    }
   ],
   "source": [
    "%timeit fac(5000)"
   ]
  },
  {
   "cell_type": "markdown",
   "id": "meaningful-ethernet",
   "metadata": {},
   "source": [
    "Der rekursive Aufruf benötigt ca. 8 Millisekunden, wohingegen die iterative Berechnung ca. 340 Nanosekunden benötigt.\n",
    "Das heißt die iterative Berechnung ist um einen Faktor von\n",
    "\n",
    "$$\\frac{8000}{340} \\approx 24$$\n",
    "\n",
    "schneller!\n",
    "\n",
    "## Endrekursionen (in Python?)\n",
    "\n",
    "Der Laufzeitvergleich hängt jedoch auch mit der verwendeten Programmiersprache zusammen.\n",
    "Funktionale Sprachen bieten, zum Beispiel, das Konzept der optimierten *Endrekursion* (engl. *Tail Recursion*).\n",
    "\n",
    "```{admonition} Endrekursion\n",
    ":name: def-tail-recursion\n",
    ":class: definition\n",
    "*Endrekursion*  ist eine bestimmte Form der Rekursion bei der der rekursive Aufruf einer Funktion auch ihre **letzte Anweisung** ist.\n",
    "```\n",
    "\n",
    "Ist eine Funktion endrekursiv, eliminieren die [Compiler](def-compiler) oder [Interpreter](def-interpreter) von funktionalen Sprachen die rekursiven Aufrufe der Funktion -- der *Stack* bleibt (bis auf einen Eintrag) leer.\n",
    "Unsere ``fac``-Funktion ist keine *Endrekursion*, denn nach dem rekursiven Aufruf folgt eine Multiplikation.\n",
    "Wir können daraus jedoch leicht eine *Endrekursion* machen:"
   ]
  },
  {
   "cell_type": "code",
   "execution_count": null,
   "id": "standard-crossing",
   "metadata": {},
   "outputs": [],
   "source": [
    "def fac_tail(n, acc=1):\n",
    "    if n <= 1:\n",
    "        return acc\n",
    "    else:\n",
    "        return fac_tail(n-1, acc*n)\n",
    "\n",
    "fac_tail(4)"
   ]
  },
  {
   "cell_type": "markdown",
   "id": "colored-iraqi",
   "metadata": {},
   "source": [
    "Alle Arbeit ist getan und dann folgt der rekursive Aufruf.\n",
    "Deshalb können wir eigentlich alle Namensräume, welche auf dem [Stack](def-stack) liegen vergessen.\n",
    "Wir haben ``n`` bereits verarbeitet und brauchen es nicht mehr.\n",
    "Deshalb belastet diese Rekursion den *Stack* nicht, sofern unser [Compiler](def-compiler) oder [Interpreter](def-interpreter) dies auch optimiert.\n",
    "\n",
    "```{admonition} Endrekursion in Python\n",
    ":name: remark-tail-recursion-python\n",
    ":class: remark\n",
    "Der ``Python``-Interpreter nutzt die *Endrekursion* nicht aus.\n",
    "```\n",
    "\n",
    "Der ``Python``-Interpreter optimiert dies nicht!\n",
    "D.h. obwohl wir ``n`` vergessen könnten, wird es auf den *Stack* gelegt.\n",
    "Warum sich die Entwickler\\*innen gegen *elimination von Endrekursionen* (engl. *Tail Recursion Elimination (TRE)*) entschieden haben, hat verschiedene Gründe:\n",
    "\n",
    "+ TRE zerstört den sog. Stack Trace (wichtig für Fehlermeldungen)\n",
    "+ TRE als Option würde Entwickler\\*innen motivieren die Rekursion häufiger zu verwenden, doch würde der Code dann nicht überall gleich effizient laufen\n",
    "+ Entwickler\\*innen von ``Python`` glauben nicht an die Rekursion als Basis jeder Programmierung\n",
    "+ In ``Python`` wäre die Realisierung durch dessen Dynamik äußerst kompliziert, hier ein einfaches Beispiel was bereits zu Problemen führt:"
   ]
  },
  {
   "cell_type": "code",
   "execution_count": null,
   "id": "cellular-lighter",
   "metadata": {},
   "outputs": [],
   "source": [
    "def f(x):\n",
    "    if x > 0:\n",
    "        return f(x-1)\n",
    "    return 0\n",
    "\n",
    "g = f\n",
    "def f(x):\n",
    "    return x\n",
    "g(5)"
   ]
  },
  {
   "cell_type": "markdown",
   "id": "entitled-johns",
   "metadata": {},
   "source": [
    "Wir binden ``g`` an das erste ``f``.\n",
    "Dann aber definieren wir ``f`` neu.\n",
    "``g(5)`` ruft das alte ``f`` auf, nennen wir es ``f_old``.\n",
    "Somit wird ``g(5)`` zu ``f_old(5)``.\n",
    "Diese Funktion ruft nun das nicht rekursive neue ``f`` auf, d.h. ``f(5-1)`` wird zu ``f(4)`` wird zu ``4``.\n",
    "Wie soll der Interpreter protokollieren welche Funktionen rekursiv sind und welche nicht oder nicht mehr?\n",
    "Dadurch, dass wir Funktionsnamen in ``Python`` zur Laufzeit ändern können, wäre dies unglaublich aufwendig.\n",
    "\n",
    "An diesem Beispiel wird deutlich, dass die Flexibilität und Dynamik einer Sprache ihren Preis hat.\n",
    "Für Interpreter und Compiler wird es schwerer und schwerer Optimierungen durchzuführen!"
   ]
  }
 ],
 "metadata": {
  "jupytext": {
   "formats": "md:myst",
   "text_representation": {
    "extension": ".md",
    "format_name": "myst"
   }
  },
  "kernelspec": {
   "display_name": "Python 3",
   "language": "python",
   "name": "python3"
  },
  "language_info": {
   "codemirror_mode": {
    "name": "ipython",
    "version": 3
   },
   "file_extension": ".py",
   "mimetype": "text/x-python",
   "name": "python",
   "nbconvert_exporter": "python",
   "pygments_lexer": "ipython3",
   "version": "3.9.8"
  },
  "source_map": [
   11,
   34,
   42,
   112,
   118,
   122,
   130,
   153,
   159,
   170,
   174,
   176,
   200,
   208,
   230,
   240
  ]
 },
 "nbformat": 4,
 "nbformat_minor": 5
}