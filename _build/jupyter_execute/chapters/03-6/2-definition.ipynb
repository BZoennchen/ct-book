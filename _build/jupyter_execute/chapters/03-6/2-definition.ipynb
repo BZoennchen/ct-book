{
 "cells": [
  {
   "cell_type": "markdown",
   "id": "0d652d54",
   "metadata": {},
   "source": [
    "(sec-functions-basics)=\n",
    "# Grundlagen\n",
    "\n",
    "Ok, lassen Sie ganz frisch starten, von der Definition einer Funktion bis hin zu ihrer Benutzung!\n",
    "\n",
    "## Definition\n",
    "\n",
    "In ``Python`` definieren wir eine Funktion mit dem Signalwort ``def`` (für Definition).\n",
    "Es folgt der Funktionsname und in runden Klammern, getrennt durch Komma, die Parameter der Funktion.\n",
    "Nach dem ``:`` beginnt der Funktionskörper, welcher eingerückt sein muss!\n",
    "\n",
    "```python\n",
    "def name_der_funktion(parameter1, parameter2, ...):\n",
    "    '''\n",
    "    An dieser Stelle steht der sog. \"docstring\".\n",
    "    Dieser wird ausgegeben wenn help() zur Funktion aufgerufen wird.\n",
    "    Er dient der Dokumentation und soll klären WAS Ihre Funktion macht.\n",
    "    '''\n",
    "    # Code\n",
    "    # Code\n",
    "    return output # (optional)\n",
    "```\n",
    "\n",
    "``Python`` erlaubt uns vor den Code des Funktionskörpers eine Zeichenkette zu schreiben.\n",
    "Diese dient lediglich der Dokumentation.\n",
    "Rufen wir zum Beispiel ``help(name_der_funktion)`` auf, erscheint genau jener Text.\n",
    "Nach diesem ``docstring`` folgt unser Befehlsbündel.\n",
    "\n",
    "Eine Funktion kann kein oder mehrere ``return``-Ausdrücke beinhalten.\n",
    "Allerdings liefert eine ``Python``-Funktion immer etwas zurück.\n",
    "Sollte die Funktion keinen ``return``-Ausdruck beinhalten oder das Programm in einen Zweig laufen, welcher ohne ein ``return`` endet, so gibt die Funktion ``None`` zurück.\n",
    "\n",
    "Der Name für ``name_der_funktion`` darf frei vergeben werden.\n",
    "Jedoch achtet man in der Programmierung stets auf **sprechende** Funktions- und Parameternamen.\n",
    "Vergleichen Sie:"
   ]
  },
  {
   "cell_type": "code",
   "execution_count": 1,
   "id": "a0bf676a",
   "metadata": {},
   "outputs": [
    {
     "data": {
      "text/plain": [
       "-1"
      ]
     },
     "execution_count": 1,
     "metadata": {},
     "output_type": "execute_result"
    }
   ],
   "source": [
    "def dddd(something, l):\n",
    "    \"\"\"\n",
    "    computes the subtraction of something and l.\n",
    "    \"\"\"\n",
    "    return something - l\n",
    "dddd(5, 6)"
   ]
  },
  {
   "cell_type": "markdown",
   "id": "119c6603",
   "metadata": {},
   "source": [
    "und"
   ]
  },
  {
   "cell_type": "code",
   "execution_count": 2,
   "id": "ff87f0da",
   "metadata": {},
   "outputs": [
    {
     "data": {
      "text/plain": [
       "-1"
      ]
     },
     "execution_count": 2,
     "metadata": {},
     "output_type": "execute_result"
    }
   ],
   "source": [
    "def subtract(x, y):\n",
    "    \"\"\"\n",
    "    returns x - y\n",
    "    \"\"\"\n",
    "    return x - y\n",
    "subtract(5, 6)"
   ]
  },
  {
   "cell_type": "markdown",
   "id": "55a6aec7",
   "metadata": {},
   "source": [
    "Die erste Benennung erschwert das Lesen und Verstehen der Funktion.\n",
    "Für die zweite Version müssen wir lediglich auf den Namen ``subtract`` und den kurzen ``docstring`` blicken um zu verstehen was die Funktion tut.\n",
    "\n",
    "Den ``docstring`` könnten wir uns auch schenken, doch bedenken Sie dass andere Entwickler\\*innen, welche Ihren Code benutzten, oft nicht in den Code blicken sondern sich lediglich den ``docstring`` ausgeben lassen.\n",
    "\n",
    "```{admonition} Docstrings und Kommentare\n",
    ":class: attention\n",
    ":name: attention-missleading-doc\n",
    "\n",
    "Nichts ist irreführender als fehlerhafte, widersprüchliche oder schlicht falsche Kommentare!\n",
    "```\n",
    "\n",
    "## Rückgabewerte\n",
    "\n",
    "In ``Python`` ist es sehr einfach mehrere Rückgabewerte zu definieren:"
   ]
  },
  {
   "cell_type": "code",
   "execution_count": 3,
   "id": "d52da1e7",
   "metadata": {},
   "outputs": [
    {
     "data": {
      "text/plain": [
       "(1, 3)"
      ]
     },
     "execution_count": 3,
     "metadata": {},
     "output_type": "execute_result"
    }
   ],
   "source": [
    "def modulo(n, k):\n",
    "    \"\"\"\n",
    "    returns div, rest such that n = k * div + rest, \n",
    "    where n, k, div, rest are whole numbers.\n",
    "    \"\"\"\n",
    "    div = n // k\n",
    "    rest = n % k\n",
    "    return div, rest\n",
    "\n",
    "modulo(10, 7)"
   ]
  },
  {
   "cell_type": "markdown",
   "id": "b1c8c802",
   "metadata": {},
   "source": [
    "Doch genau genommen hat eine ``Python``-Funktion genau einen Rückgabewert.\n",
    "Im obigen Beispiel handelt es sich um **ein** Tupel ``tuple``, wodurch der Eindruck entsteht, wir würden mehrere Werte zurückgeben.\n",
    "Durch das packing und unpacking (siehe Abschnitt [Tupel](sec-tuple)) 'simuliert' ``Python`` mehrere Rückgabewerte."
   ]
  },
  {
   "cell_type": "code",
   "execution_count": 4,
   "id": "1ff070b7",
   "metadata": {},
   "outputs": [
    {
     "name": "stdout",
     "output_type": "stream",
     "text": [
      "1\n",
      "3\n"
     ]
    }
   ],
   "source": [
    "div, rest = modulo(10, 7)\n",
    "print(div)\n",
    "print(rest)"
   ]
  },
  {
   "cell_type": "markdown",
   "id": "bc9e7e40",
   "metadata": {},
   "source": [
    "Verwenden wir kein ``return`` so gibt die Funktion (sofern sie keinen Fehler oder eine Endlosschleife verursacht) ``None`` zurück."
   ]
  },
  {
   "cell_type": "code",
   "execution_count": 5,
   "id": "3d48bc09",
   "metadata": {},
   "outputs": [
    {
     "name": "stdout",
     "output_type": "stream",
     "text": [
      "42\n",
      "None\n"
     ]
    }
   ],
   "source": [
    "def print42():\n",
    "    print('42')\n",
    "    \n",
    "print(print42())"
   ]
  },
  {
   "cell_type": "markdown",
   "id": "98a0bdf5",
   "metadata": {},
   "source": [
    "entspricht"
   ]
  },
  {
   "cell_type": "code",
   "execution_count": 6,
   "id": "103539a1",
   "metadata": {},
   "outputs": [
    {
     "name": "stdout",
     "output_type": "stream",
     "text": [
      "42\n",
      "None\n"
     ]
    }
   ],
   "source": [
    "def print42():\n",
    "    print('42')\n",
    "    return None\n",
    "    \n",
    "print(print42())"
   ]
  },
  {
   "cell_type": "markdown",
   "id": "ec2fe067",
   "metadata": {},
   "source": [
    "## Standardargumente für Parameter\n",
    "\n",
    "Wir können Parametern auch einen sog. Standardargumente (Standardwerte) verpassen.\n",
    "Das Standardargument wird genau dann verwendet, wenn der Wert des Parameters beim Aufruf der Funktion nicht definiert wurde.\n",
    "\n",
    "Erinnern Sie sich noch an die Funktion ``range()``?\n",
    "Diese konnten wir mit einem, zwei, oder drei Argumenten aufrufen.\n",
    "Das gelang, weil auch ``range()`` Standardwerte für zwei der drei Parameter festlegt.\n",
    "\n",
    "Lassen Sie uns eine Funktion ``lrange(start, stop, step)`` definieren, welche eine Liste bestehend aus dem entsprechenden Zahlenbereich ``range(start, stop, step)`` zurückliefert:"
   ]
  },
  {
   "cell_type": "code",
   "execution_count": 7,
   "id": "9c8843f5",
   "metadata": {},
   "outputs": [
    {
     "data": {
      "text/plain": [
       "[0, 2, 4, 6, 8]"
      ]
     },
     "execution_count": 7,
     "metadata": {},
     "output_type": "execute_result"
    }
   ],
   "source": [
    "def lrange(start, stop, step):\n",
    "    numbers = list(range(start, stop, step))\n",
    "    return numbers\n",
    "\n",
    "lrange(0, 10, 2)"
   ]
  },
  {
   "cell_type": "markdown",
   "id": "f094cf61",
   "metadata": {},
   "source": [
    "Die Funktion ``lrange()`` verhält sich wie ``range()``, jedoch gibt Sie eine Liste zurück.\n",
    "Ohne Standardargumente können wir die Funktion jedoch nicht mit nur einem Argument aufrufen."
   ]
  },
  {
   "cell_type": "code",
   "execution_count": 8,
   "id": "2bd65973",
   "metadata": {
    "tags": [
     "raises-exception"
    ]
   },
   "outputs": [
    {
     "ename": "TypeError",
     "evalue": "lrange() missing 2 required positional arguments: 'stop' and 'step'",
     "output_type": "error",
     "traceback": [
      "\u001b[0;31m---------------------------------------------------------------------------\u001b[0m",
      "\u001b[0;31mTypeError\u001b[0m                                 Traceback (most recent call last)",
      "Cell \u001b[0;32mIn [8], line 1\u001b[0m\n\u001b[0;32m----> 1\u001b[0m lrange(\u001b[38;5;241m10\u001b[39m)\n",
      "\u001b[0;31mTypeError\u001b[0m: lrange() missing 2 required positional arguments: 'stop' and 'step'"
     ]
    }
   ],
   "source": [
    "lrange(10)"
   ]
  },
  {
   "cell_type": "markdown",
   "id": "203b434f",
   "metadata": {},
   "source": [
    "Definieren wir Standardargumente, müssen wir uns überlegen welche Werte sinnvoll sind.\n",
    "Was soll also passieren wenn wir beim Funktionsaufruf bestimmte Parameter weglassen?\n",
    "\n",
    "Standardargumente setzten wir durch eine Zuweisung im Funktionskopf.\n",
    "Dabei müssen alle Parameter mit Standardargumenten **hinten stehen!** \n",
    "Folgender Code wird ebenfalls zu einem Fehler führen:"
   ]
  },
  {
   "cell_type": "code",
   "execution_count": 9,
   "id": "907d668b",
   "metadata": {
    "tags": [
     "raises-exception"
    ]
   },
   "outputs": [
    {
     "ename": "SyntaxError",
     "evalue": "non-default argument follows default argument (1032400684.py, line 1)",
     "output_type": "error",
     "traceback": [
      "\u001b[0;36m  Cell \u001b[0;32mIn [9], line 1\u001b[0;36m\u001b[0m\n\u001b[0;31m    def lrange(start=0, stop, step=1):\u001b[0m\n\u001b[0m                              ^\u001b[0m\n\u001b[0;31mSyntaxError\u001b[0m\u001b[0;31m:\u001b[0m non-default argument follows default argument\n"
     ]
    }
   ],
   "source": [
    "def lrange(start=0, stop, step=1):\n",
    "    numbers = list(range(start, stop, step))\n",
    "    return numbers\n",
    "\n",
    "lrange(0, 10, 2)"
   ]
  },
  {
   "cell_type": "markdown",
   "id": "a5a31906",
   "metadata": {},
   "source": [
    "Wir müssen die Reihenfolge der Parameter verändern (und diese Änderung auch beim Aufruf der Funktion berücksichtigen):"
   ]
  },
  {
   "cell_type": "code",
   "execution_count": 10,
   "id": "d7de47d1",
   "metadata": {},
   "outputs": [
    {
     "name": "stdout",
     "output_type": "stream",
     "text": [
      "[0, 2, 4, 6, 8]\n",
      "[0, 1, 2, 3, 4, 5, 6, 7, 8, 9]\n"
     ]
    }
   ],
   "source": [
    "def lrange(stop, start=0, step=1):\n",
    "    numbers = list(range(start, stop, step))\n",
    "    return numbers\n",
    "\n",
    "print(lrange(10, 0, 2))\n",
    "print(lrange(10))"
   ]
  },
  {
   "cell_type": "markdown",
   "id": "82dc612c",
   "metadata": {},
   "source": [
    "Wir können auch **einzelne** Standardargumente beim Funktionsaufruf verändern. \n",
    "Zum Beispiel wollen wir vielleicht eine Liste mit ``lrange()`` erzeugen, für die ``stop=10``, ``start=0`` und ``step=2`` gilt. \n",
    "Da wir ``start`` weiterhin auf dem Standardwert ``0`` belassen, müssen wir es nicht angeben."
   ]
  },
  {
   "cell_type": "code",
   "execution_count": 11,
   "id": "50ee63f8",
   "metadata": {},
   "outputs": [
    {
     "data": {
      "text/plain": [
       "[0, 2, 4, 6, 8]"
      ]
     },
     "execution_count": 11,
     "metadata": {},
     "output_type": "execute_result"
    }
   ],
   "source": [
    "lrange(10, step=2)"
   ]
  },
  {
   "cell_type": "markdown",
   "id": "8d235c68",
   "metadata": {},
   "source": [
    "Um den Code besser lesen zu können macht es hin und wieder Sinn, diese Schreibweise auch dann zu verwenden, wenn Sie eigentlich gar nicht notwendig wäre."
   ]
  },
  {
   "cell_type": "code",
   "execution_count": 12,
   "id": "32f2ed76",
   "metadata": {},
   "outputs": [
    {
     "data": {
      "text/plain": [
       "[0, 2, 4, 6, 8]"
      ]
     },
     "execution_count": 12,
     "metadata": {},
     "output_type": "execute_result"
    }
   ],
   "source": [
    "lrange(stop=10, start=0, step=2)"
   ]
  },
  {
   "cell_type": "markdown",
   "id": "40520c15",
   "metadata": {},
   "source": [
    "Verwenden wir diese Schreibweise, können wir auch die Reihenfolge der Parameter missachten:"
   ]
  },
  {
   "cell_type": "code",
   "execution_count": 13,
   "id": "e6720dc7",
   "metadata": {},
   "outputs": [
    {
     "data": {
      "text/plain": [
       "[0, 2, 4, 6, 8]"
      ]
     },
     "execution_count": 13,
     "metadata": {},
     "output_type": "execute_result"
    }
   ],
   "source": [
    "lrange(start=0, stop=10, step=2)"
   ]
  },
  {
   "cell_type": "markdown",
   "id": "3a75274d",
   "metadata": {},
   "source": [
    "Lassen Sie sich nicht verwirren wenn wir einem Parameter eine Variable zuweisen, die denselben Namen trägt:"
   ]
  },
  {
   "cell_type": "code",
   "execution_count": 14,
   "id": "a2100963",
   "metadata": {},
   "outputs": [
    {
     "data": {
      "text/plain": [
       "[0, 2, 4, 6, 8]"
      ]
     },
     "execution_count": 14,
     "metadata": {},
     "output_type": "execute_result"
    }
   ],
   "source": [
    "start = 0\n",
    "lrange(start=start, stop=10, step=2)"
   ]
  },
  {
   "cell_type": "markdown",
   "id": "0cd7b1e2",
   "metadata": {},
   "source": [
    "Diese beiden Variablen mit dem Namen ``start`` sind nicht dieselben Variablen.\n",
    "Das linke ``start`` ist der Parameter welches die Funktion schlussendlich verwendet und das rechte ``start`` ist das Argument, welches wir zuvor definiert haben.\n",
    "Wir setzten beim Aufruf die Adresse des linken ``start`` auf die Adresse des rechten ``start``."
   ]
  }
 ],
 "metadata": {
  "jupytext": {
   "formats": "md:myst",
   "text_representation": {
    "extension": ".md",
    "format_name": "myst"
   }
  },
  "kernelspec": {
   "display_name": "Python 3",
   "language": "python",
   "name": "python3"
  },
  "language_info": {
   "codemirror_mode": {
    "name": "ipython",
    "version": 3
   },
   "file_extension": ".py",
   "mimetype": "text/x-python",
   "name": "python",
   "nbconvert_exporter": "python",
   "pygments_lexer": "ipython3",
   "version": "3.9.13"
  },
  "source_map": [
   11,
   49,
   56,
   60,
   67,
   85,
   96,
   103,
   107,
   111,
   116,
   120,
   126,
   139,
   145,
   150,
   155,
   164,
   173,
   177,
   184,
   190,
   192,
   196,
   198,
   202,
   204,
   208,
   211
  ]
 },
 "nbformat": 4,
 "nbformat_minor": 5
}