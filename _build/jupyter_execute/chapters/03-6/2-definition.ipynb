{
 "cells": [
  {
   "cell_type": "markdown",
   "id": "executed-snapshot",
   "metadata": {},
   "source": [
    "(sec-functions-basics)=\n",
    "# Grundlagen\n",
    "\n",
    "Ok, lassen Sie ganz frisch starten, von der Definition einer Funktion bis hin zu ihrer Benutzung!\n",
    "\n",
    "## Definition\n",
    "\n",
    "In ``Python`` definieren wir eine Funktion mit dem Signalwort ``def`` (für Definition).\n",
    "Es folgt der Funktionsname und in runden Klammern, getrennt durch Komma, die Parameter der Funktion.\n",
    "Nach dem ``:`` beginnt der Funktionskörper, welcher eingerückt sein muss!\n",
    "\n",
    "```python\n",
    "def name_der_funktion(parameter1, parameter2, ...):\n",
    "    '''\n",
    "    An dieser Stelle steht der sog. \"docstring\".\n",
    "    Dieser wird ausgegeben wenn help() zur Funktion aufgerufen wird.\n",
    "    Er dient der Dokumentation und soll klären WAS Ihre Funktion macht.\n",
    "    '''\n",
    "    # Code\n",
    "    # Code\n",
    "    return output # (optional)\n",
    "```\n",
    "\n",
    "``Python`` erlaubt uns vor den Code des Funktionskörpers eine Zeichenkette zu schreiben.\n",
    "Diese dient lediglich der Dokumentation.\n",
    "Rufen wir zum Beispiel ``help(name_der_funktion)`` auf, erscheint genau jener Text.\n",
    "Nach diesem ``docstring`` folgt unser Befehlsbündel.\n",
    "\n",
    "Eine Funktion kann kein oder mehrere ``return``-Ausdrücke beinhalten.\n",
    "Allerdings liefert eine ``Python``-Funktion immer etwas zurück.\n",
    "Sollte die Funktion keinen ``return``-Ausdruck beinhalten oder das Programm in einen Zweig laufen, welcher ohne ein ``return`` endet, so gibt die Funktion ``None`` zurück.\n",
    "\n",
    "Der Name für ``name_der_funktion`` darf frei vergeben werden.\n",
    "Jedoch achtet man in der Programmierung stets auf **sprechende** Funktions- und Parameternamen.\n",
    "Vergleichen Sie:"
   ]
  },
  {
   "cell_type": "code",
   "execution_count": null,
   "id": "spread-folks",
   "metadata": {},
   "outputs": [],
   "source": [
    "def dddd(something, l):\n",
    "    \"\"\"\n",
    "    computes the subtraction of something and l.\n",
    "    \"\"\"\n",
    "    return something - l\n",
    "dddd(5, 6)"
   ]
  },
  {
   "cell_type": "markdown",
   "id": "grand-thread",
   "metadata": {},
   "source": [
    "und"
   ]
  },
  {
   "cell_type": "code",
   "execution_count": null,
   "id": "grave-entrepreneur",
   "metadata": {},
   "outputs": [],
   "source": [
    "def subtract(x, y):\n",
    "    \"\"\"\n",
    "    returns x - y\n",
    "    \"\"\"\n",
    "    return x - y\n",
    "subtract(5, 6)"
   ]
  },
  {
   "cell_type": "markdown",
   "id": "positive-excuse",
   "metadata": {},
   "source": [
    "Die erste Benennung erschwert das Lesen und Verstehen der Funktion.\n",
    "Für die zweite Version müssen wir lediglich auf den Namen ``subtract`` und den kurzen ``docstring`` blicken um zu verstehen was die Funktion tut.\n",
    "\n",
    "Den ``docstring`` könnten wir uns auch schenken, doch bedenken Sie dass andere Entwickler\\*innen, welche Ihren Code benutzten, oft nicht in den Code blicken sondern sich lediglich den ``docstring`` ausgeben lassen.\n",
    "\n",
    "```{admonition} Docstrings und Kommentare\n",
    ":class: attention\n",
    ":name: attention-missleading-doc\n",
    "\n",
    "Nichts ist irreführender als fehlerhafte, widersprüchliche oder schlicht falsche Kommentare!\n",
    "```\n",
    "\n",
    "## Rückgabewerte\n",
    "\n",
    "In ``Python`` ist es sehr einfach mehrere Rückgabewerte zu definieren:"
   ]
  },
  {
   "cell_type": "code",
   "execution_count": null,
   "id": "coordinate-honolulu",
   "metadata": {},
   "outputs": [],
   "source": [
    "def modulo(n, k):\n",
    "    \"\"\"\n",
    "    returns div, rest such that n = k * div + rest, \n",
    "    where n, k, div, rest are whole numbers.\n",
    "    \"\"\"\n",
    "    div = n // k\n",
    "    rest = n % k\n",
    "    return div, rest\n",
    "\n",
    "modulo(10, 7)"
   ]
  },
  {
   "cell_type": "markdown",
   "id": "appreciated-somerset",
   "metadata": {},
   "source": [
    "Doch genau genommen hat eine ``Python``-Funktion genau einen Rückgabewert.\n",
    "Im obigen Beispiel handelt es sich um **ein** Tupel ``tuple``, wodurch der Eindruck entsteht, wir würden mehrere Werte zurückgeben.\n",
    "Durch das packing und unpacking (siehe Abschnitt [Tupel](sec-tuple)) 'simuliert' ``Python`` mehrere Rückgabewerte."
   ]
  },
  {
   "cell_type": "code",
   "execution_count": null,
   "id": "challenging-photography",
   "metadata": {},
   "outputs": [],
   "source": [
    "div, rest = modulo(10, 7)\n",
    "print(div)\n",
    "print(rest)"
   ]
  },
  {
   "cell_type": "markdown",
   "id": "loved-referral",
   "metadata": {},
   "source": [
    "Verwenden wir kein ``return`` so gibt die Funktion (sofern sie keinen Fehler oder eine Endlosschleife verursacht) ``None`` zurück."
   ]
  },
  {
   "cell_type": "code",
   "execution_count": null,
   "id": "median-bracket",
   "metadata": {},
   "outputs": [],
   "source": [
    "def print42():\n",
    "    print('42')\n",
    "    \n",
    "print(print42())"
   ]
  },
  {
   "cell_type": "markdown",
   "id": "acute-market",
   "metadata": {},
   "source": [
    "entspricht"
   ]
  },
  {
   "cell_type": "code",
   "execution_count": null,
   "id": "cardiovascular-paradise",
   "metadata": {},
   "outputs": [],
   "source": [
    "def print42():\n",
    "    print('42')\n",
    "    return None\n",
    "    \n",
    "print(print42())"
   ]
  },
  {
   "cell_type": "markdown",
   "id": "corporate-march",
   "metadata": {},
   "source": [
    "## Standardargumente für Parameter\n",
    "\n",
    "Wir können Parametern auch einen sog. Standardargumente (Standardwerte) verpassen.\n",
    "Das Standardargument wird genau dann verwendet, wenn der Wert des Parameters beim Aufruf der Funktion nicht definiert wurde.\n",
    "\n",
    "Erinnern Sie sich noch an die Funktion ``range()``?\n",
    "Diese konnten wir mit einem, zwei, oder drei Argumenten aufrufen.\n",
    "Das gelang, weil auch ``range()`` Standardwerte für zwei der drei Parameter festlegt.\n",
    "\n",
    "Lassen Sie uns eine Funktion ``lrange(start, stop, step)`` definieren, welche eine Liste bestehend aus dem entsprechenden Zahlenbereich ``range(start, stop, step)`` zurückliefert:"
   ]
  },
  {
   "cell_type": "code",
   "execution_count": null,
   "id": "pacific-palace",
   "metadata": {},
   "outputs": [],
   "source": [
    "def lrange(start, stop, step):\n",
    "    numbers = list(range(start, stop, step))\n",
    "    return numbers\n",
    "\n",
    "lrange(0, 10, 2)"
   ]
  },
  {
   "cell_type": "markdown",
   "id": "weird-steering",
   "metadata": {},
   "source": [
    "Die Funktion ``lrange()`` verhält sich wie ``range()``, jedoch gibt Sie eine Liste zurück.\n",
    "Ohne Standardargumente können wir die Funktion jedoch nicht mit nur einem Argument aufrufen."
   ]
  },
  {
   "cell_type": "code",
   "execution_count": null,
   "id": "fiscal-disclosure",
   "metadata": {
    "tags": [
     "raises-exception"
    ]
   },
   "outputs": [],
   "source": [
    "lrange(10)"
   ]
  },
  {
   "cell_type": "markdown",
   "id": "patient-boring",
   "metadata": {},
   "source": [
    "Definieren wir Standardargumente, müssen wir uns überlegen welche Werte sinnvoll sind.\n",
    "Was soll also passieren wenn wir beim Funktionsaufruf bestimmte Parameter weglassen?\n",
    "\n",
    "Standardargumente setzten wir durch eine Zuweisung im Funktionskopf.\n",
    "Dabei müssen alle Parameter mit Standardargumenten **hinten stehen!** \n",
    "Folgender Code wird ebenfalls zu einem Fehler führen:"
   ]
  },
  {
   "cell_type": "code",
   "execution_count": null,
   "id": "motivated-penny",
   "metadata": {
    "tags": [
     "raises-exception"
    ]
   },
   "outputs": [],
   "source": [
    "def lrange(start=0, stop, step=1):\n",
    "    numbers = list(range(start, stop, step))\n",
    "    return numbers\n",
    "\n",
    "lrange(0, 10, 2)"
   ]
  },
  {
   "cell_type": "markdown",
   "id": "protecting-barcelona",
   "metadata": {},
   "source": [
    "Wir müssen die Reihenfolge der Parameter verändern (und diese Änderung auch beim Aufruf der Funktion berücksichtigen):"
   ]
  },
  {
   "cell_type": "code",
   "execution_count": null,
   "id": "broken-hamilton",
   "metadata": {},
   "outputs": [],
   "source": [
    "def lrange(stop, start=0, step=1):\n",
    "    numbers = list(range(start, stop, step))\n",
    "    return numbers\n",
    "\n",
    "print(lrange(10, 0, 2))\n",
    "print(lrange(10))"
   ]
  },
  {
   "cell_type": "markdown",
   "id": "judicial-jewelry",
   "metadata": {},
   "source": [
    "Wir können auch **einzelne** Standardargumente beim Funktionsaufruf verändern. \n",
    "Zum Beispiel wollen wir vielleicht eine Liste mit ``lrange()`` erzeugen, für die ``stop=10``, ``start=0`` und ``step=2`` gilt. \n",
    "Da wir ``start`` weiterhin auf dem Standardwert ``0`` belassen, müssen wir es nicht angeben."
   ]
  },
  {
   "cell_type": "code",
   "execution_count": null,
   "id": "optional-chester",
   "metadata": {},
   "outputs": [],
   "source": [
    "lrange(10, step=2)"
   ]
  },
  {
   "cell_type": "markdown",
   "id": "continued-dryer",
   "metadata": {},
   "source": [
    "Um den Code besser lesen zu können macht es hin und wieder Sinn, diese Schreibweise auch dann zu verwenden, wenn Sie eigentlich gar nicht notwendig wäre."
   ]
  },
  {
   "cell_type": "code",
   "execution_count": null,
   "id": "confused-framing",
   "metadata": {},
   "outputs": [],
   "source": [
    "lrange(stop=10, start=0, step=2)"
   ]
  },
  {
   "cell_type": "markdown",
   "id": "funny-mortgage",
   "metadata": {},
   "source": [
    "Verwenden wir diese Schreibweise, können wir auch die Reihenfolge der Parameter missachten:"
   ]
  },
  {
   "cell_type": "code",
   "execution_count": null,
   "id": "reliable-sound",
   "metadata": {},
   "outputs": [],
   "source": [
    "lrange(start=0, stop=10, step=2)"
   ]
  },
  {
   "cell_type": "markdown",
   "id": "extra-congo",
   "metadata": {},
   "source": [
    "Lassen Sie sich nicht verwirren wenn wir einem Parameter eine Variable zuweisen, die denselben Namen trägt:"
   ]
  },
  {
   "cell_type": "code",
   "execution_count": null,
   "id": "intense-immigration",
   "metadata": {},
   "outputs": [],
   "source": [
    "start = 0\n",
    "lrange(start=start, stop=10, step=2)"
   ]
  },
  {
   "cell_type": "markdown",
   "id": "regulation-argentina",
   "metadata": {},
   "source": [
    "Diese beiden Variablen mit dem Namen ``start`` sind nicht dieselben Variablen.\n",
    "Das linke ``start`` ist der Parameter welches die Funktion schlussendlich verwendet und das rechte ``start`` ist das Argument, welches wir zuvor definiert haben.\n",
    "Wir setzten beim Aufruf die Adresse des linken ``start`` auf die Adresse des rechten ``start``."
   ]
  }
 ],
 "metadata": {
  "jupytext": {
   "formats": "md:myst",
   "text_representation": {
    "extension": ".md",
    "format_name": "myst"
   }
  },
  "kernelspec": {
   "display_name": "Python 3",
   "language": "python",
   "name": "python3"
  },
  "source_map": [
   11,
   49,
   56,
   60,
   67,
   85,
   96,
   103,
   107,
   111,
   116,
   120,
   126,
   139,
   145,
   150,
   155,
   164,
   173,
   177,
   184,
   190,
   192,
   196,
   198,
   202,
   204,
   208,
   211
  ]
 },
 "nbformat": 4,
 "nbformat_minor": 5
}