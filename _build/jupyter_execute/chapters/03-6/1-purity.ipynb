{
 "cells": [
  {
   "cell_type": "markdown",
   "id": "2b00fed6",
   "metadata": {},
   "source": [
    "(sec-purity)=\n",
    "# Reinheit\n",
    "\n",
    "Bevor wir nochmals die Implementierung und Nutzung einer ``Python``-Funktion besprechen, möchten wir Ihnen den Unterschied zwischen einer mathematischen Funktion und einer ``Python``-Funktion verdeutlichen -- Funktion ist eben nicht gleich Funktion!\n",
    "\n",
    "## Reine Funktionen\n",
    "\n",
    "Den Begriff 'Funktion' kennen wir aus der Mathematik, z.B. ist \n",
    "\n",
    "$$f(x) = 2 \\cdot x + 3$$\n",
    "\n",
    "eine [mathematische Funktion](sec-math-function).\n",
    "Sind wir pedantisch oder geht der Definitions- und Wertebereich nicht aus dem Kontext hervor, so geben wir bei einer Funktionsdefinition üblicherweise diese beiden Mengen an, z.B.\n",
    "\n",
    "$$f : \\mathbb{R} \\rightarrow \\mathbb{R}$$\n",
    "\n",
    "Diese mathematische Funktion $f$ können wir als ``Python``-Funktion realisieren:"
   ]
  },
  {
   "cell_type": "code",
   "execution_count": 1,
   "id": "37acf413",
   "metadata": {},
   "outputs": [
    {
     "data": {
      "text/plain": [
       "13"
      ]
     },
     "execution_count": 1,
     "metadata": {},
     "output_type": "execute_result"
    }
   ],
   "source": [
    "def f(x):\n",
    "    return 2*x + 3\n",
    "\n",
    "f(5)"
   ]
  },
  {
   "cell_type": "markdown",
   "id": "9c5dd1fa",
   "metadata": {},
   "source": [
    "Dennoch unterscheiden sich die beiden Funktionen.\n",
    "Die mathematische Funktion ist das abstrakte Etwas und die ``Python``-Funktion eine Realisierung.\n",
    "Wir bringen das Abstrakte in die echte Welt.\n",
    "\n",
    "Funktionen, welche Funktionen im mathematischen Sinne sind, bezeichnet man als [reine Funktionen](def-pure-function) (engl. *pure Functions*).\n",
    "\n",
    "```{admonition} Reine Funktionen\n",
    ":class: attention\n",
    ":name: attention-pure-functions\n",
    "\n",
    "*Unreine Funktionen* zu definieren sollte einen wichtigen Grund haben, andernfalls sind *reine Funktionen* zu bevorzugen! \n",
    "```\n",
    "\n",
    "## Unreine Funktionen\n",
    "\n",
    "Allerdings ist nicht jede ``Python``-Funktion auf eine mathematische Funktion zurückzuführen.\n",
    "Eine mathematische Funktion **kennt keinen Zustand**, also keine Dinge die sich ändern können.\n",
    "Sie erhält einen oder mehrere Argumente und gibt ein Ergebnis zurück -- das ist alles.\n",
    "\n",
    "In ``Python`` und nahezu allen anderen Programmiersprachen gibt es jedoch Dinge die sich ändern können, nämlich zusammengesetzte Datentypen bzw. *Datenstrukturen*.\n",
    "Und niemand verbietet uns diese *Datenstrukturen* innerhalb einer Funktion zu verändern.\n",
    "\n",
    "Zum Beispiel löscht folgende ``Python``-Funktion das letzte Element aus einer Liste.\n",
    "Sie hat keinen ``return``-Ausdruck und gibt deshalb ``None`` zurück.\n",
    "Allerdings verändert sie die übergebene Liste ``mylist``!"
   ]
  },
  {
   "cell_type": "code",
   "execution_count": 2,
   "id": "cbc46de3",
   "metadata": {},
   "outputs": [
    {
     "data": {
      "text/plain": [
       "[1, 2]"
      ]
     },
     "execution_count": 2,
     "metadata": {},
     "output_type": "execute_result"
    }
   ],
   "source": [
    "def remove_last(mylist):\n",
    "    del mylist[-1]\n",
    "    \n",
    "mylist = [1,2,3]\n",
    "remove_last(mylist)\n",
    "mylist"
   ]
  },
  {
   "cell_type": "markdown",
   "id": "63ae8f89",
   "metadata": {},
   "source": [
    "Dies bezeichnen wir als einen sog. *Seiteneffekt*, welcher oft erwünscht aber auch oft unerwünscht ist.\n",
    "\n",
    "Wir können durch eine kleine Änderung aus der Funktion eine Funktion im mathematischen Sinne machen.\n",
    "Dafür dürfen wir keinen **Zustand** verändern, d.h. die übergebenen Argumente (die Eingabe) dürfen nicht verändert werden."
   ]
  },
  {
   "cell_type": "code",
   "execution_count": 3,
   "id": "41bd4eaf",
   "metadata": {},
   "outputs": [
    {
     "name": "stdout",
     "output_type": "stream",
     "text": [
      "mylist: [1, 2, 3]\n",
      "returned_list: [1, 2]\n"
     ]
    }
   ],
   "source": [
    "def remove_last(mylist):\n",
    "    copy = mylist.copy()\n",
    "    del copy[-1]\n",
    "    return copy\n",
    "   \n",
    "mylist = [1,2,3]\n",
    "returned_list = remove_last(mylist)\n",
    "print(f'mylist: {mylist}')\n",
    "print(f'returned_list: {returned_list}')"
   ]
  },
  {
   "cell_type": "markdown",
   "id": "edc8d2d4",
   "metadata": {},
   "source": [
    "## Ist rein auch immer besser?\n",
    "\n",
    "Das Wort *rein* ist wertend, was uns, um ehrlich zu sein, nicht sonderlich gefällt.\n",
    "Zwar sollten wir, wenn es geht und keine Nachteile entstehen, *reine Funktionen* bevorzugen, doch basiert die [imperative Programmierung]() auf Seiteneffekten und damit auf der *'Unreinheit'*.\n",
    "Diese ist nicht per se schlecht.\n",
    "Oftmals ist sie notwendig und wichtig.\n",
    "\n",
    "Nehmen wir eine Funktion, welche ein paar wenige Elemente einer Liste verändert.\n",
    "Diese kann nur *rein* sein, wenn wir eine Kopie der Liste anlegen.\n",
    "Was ist aber wenn diese Funktion oft auf der gleichen Liste aufgeführt werden soll?\n",
    "Der verschwendete Speicherplatz und die verschwendete Rechenzeit machen eine Implementierung als *reine Funktion* wenig sinnvoll.\n",
    "\n",
    "Dennoch, reine Funktionen machen Ihren Code für Sie und andere leserlicher.\n",
    "Oftmals reicht es lediglich genau jene Funktion zu betrachten um herauszufinden was geschieht.\n",
    "Funktionen die hingegen einen Zustand ändern, sind oft schwer zu verstehen.\n",
    "Wir müssen oftmals den Zustand selbst betrachten und das kann eine ganze Kaskade von Analysen erfordern.\n",
    "\n",
    "Als Randnotiz sei gesagt, dass es in der funktionalen Programmierung nur *reine Funktionen* gibt.\n",
    "Um den Laufzeiteinbußen und dem erhöhten Speicherverbrauch entgegenzuwirken, wird das Kopieren von *Datenstrukturen* jedoch clevere gelöst.\n",
    "Schlüssel ist die *Unveränderlichkeit* **aller** *Datentypen*."
   ]
  }
 ],
 "metadata": {
  "jupytext": {
   "formats": "md:myst",
   "text_representation": {
    "extension": ".md",
    "format_name": "myst"
   }
  },
  "kernelspec": {
   "display_name": "Python 3",
   "language": "python",
   "name": "python3"
  },
  "language_info": {
   "codemirror_mode": {
    "name": "ipython",
    "version": 3
   },
   "file_extension": ".py",
   "mimetype": "text/x-python",
   "name": "python",
   "nbconvert_exporter": "python",
   "pygments_lexer": "ipython3",
   "version": "3.9.7"
  },
  "source_map": [
   11,
   31,
   36,
   64,
   71,
   78,
   88
  ]
 },
 "nbformat": 4,
 "nbformat_minor": 5
}