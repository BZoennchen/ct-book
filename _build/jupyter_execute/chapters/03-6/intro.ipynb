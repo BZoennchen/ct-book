{
 "cells": [
  {
   "cell_type": "markdown",
   "id": "446cd516",
   "metadata": {},
   "source": [
    "(sec-functions)=\n",
    "# Funktionen\n",
    "\n",
    "Der Schlüssel zur Berechnung von Lösungen bzw. der Verarbeitung von Information ist die [Wiederholung](sec-repetition-and-recursion).\n",
    "Wo es uns [Schleifen](sec-loops) erlauben eine bestimmte Folge von Arbeitsschritte *lokal* mehrfach auszuführen, erlauben es uns Funktionen eine Folge von Arbeitsschritte *global* auszuführen.\n",
    "In beiden Fällen ändern wir den Verlauf der Codeausführung, sodass dieser nicht mehr der Befehlsfolge (gelesen von oben nach unten) entspricht.\n",
    "\n",
    "Funktionen bündeln eine Folge von Arbeitsschritten / Befehle.\n",
    "Es können Parameter definiert werden, sodass wir der Funktion Argumente als Eingabe übergeben.\n",
    "Wir sind im Stande dieses Bündel irgendwo in unserem Code auszuführen (ohne es noch einmal niederzuschreiben).\n",
    "Wird die Funktion im Code aufgerufen, springen wir, bzw. die CPU durch ihren [Befehlszähler](def-program-counter), an die Stelle der Funktion, das Bündel an Anweisungen wird ausgeführt und schlussendlich springen wir wieder an jene Stelle zurück, von der wir hergekommen sind.\n",
    "\n",
    "Durch wiederholtes und verschachteltes Aufrufen einer Funktion erzeugen wir eine Art von Wiederholung.\n",
    "Zum Beispiel:"
   ]
  },
  {
   "cell_type": "code",
   "execution_count": 1,
   "id": "fc4fd493",
   "metadata": {},
   "outputs": [
    {
     "data": {
      "text/plain": [
       "4"
      ]
     },
     "execution_count": 1,
     "metadata": {},
     "output_type": "execute_result"
    }
   ],
   "source": [
    "def successor(n):\n",
    "  return n + 1\n",
    "\n",
    "successor(successor(successor(1)))"
   ]
  },
  {
   "cell_type": "markdown",
   "id": "0edc0220",
   "metadata": {},
   "source": [
    "Ruft sich eine Funktion, bis zu einer bestimmten Abbruchbedingung selbst auf, so sprechen wir von einer sog. [Rekursion](sec-recursion) oder [rekursiven Funktion](sec-recursive-functions).\n",
    "Zum Beispiel:"
   ]
  },
  {
   "cell_type": "code",
   "execution_count": 2,
   "id": "59af64f6",
   "metadata": {},
   "outputs": [
    {
     "data": {
      "text/plain": [
       "233"
      ]
     },
     "execution_count": 2,
     "metadata": {},
     "output_type": "execute_result"
    }
   ],
   "source": [
    "def fib(n):\n",
    "  if n == 0:\n",
    "    return 0\n",
    "  if n == 1:\n",
    "    return 1\n",
    "  return fib(n-1) + fib(n-2)\n",
    "\n",
    "fib(13)"
   ]
  },
  {
   "cell_type": "markdown",
   "id": "4fece13d",
   "metadata": {},
   "source": [
    "Viele sog. *built-in* (eingebaute) ``Python``-Funktionen haben wir bereits verwendet.\n",
    "Sie werden uns mit der ``Python``-Standard Bibliothek mitgeliefert.\n",
    "Zum Beispiel ist ``type()`` oder auch ``len()`` eine solche Funktion."
   ]
  },
  {
   "cell_type": "code",
   "execution_count": 3,
   "id": "474c0aeb",
   "metadata": {},
   "outputs": [
    {
     "data": {
      "text/plain": [
       "builtin_function_or_method"
      ]
     },
     "execution_count": 3,
     "metadata": {},
     "output_type": "execute_result"
    }
   ],
   "source": [
    "type(len)"
   ]
  },
  {
   "cell_type": "markdown",
   "id": "8959fcf7",
   "metadata": {},
   "source": [
    "``roboworld`` ist beispielsweise ein Modul, d.h. eine Ansammlung von Funktionalität, welches wir nutzten können.\n",
    "Deutlich bekannter ist das Modul ``numpy``, welches für numerische Berechnungen verwendet wird.\n",
    "Um eine Funktion eines Moduls aufzurufen stellen wir den Modulnamen, z.B. ``numpy`` und einen Punkt ``.`` vorne an. Zuvor müssen wir das Modul geladen haben:"
   ]
  },
  {
   "cell_type": "code",
   "execution_count": 4,
   "id": "a83dc79c",
   "metadata": {},
   "outputs": [
    {
     "data": {
      "text/plain": [
       "array([0.        , 0.01010101, 0.02020202, 0.03030303, 0.04040404,\n",
       "       0.05050505, 0.06060606, 0.07070707, 0.08080808, 0.09090909,\n",
       "       0.1010101 , 0.11111111, 0.12121212, 0.13131313, 0.14141414,\n",
       "       0.15151515, 0.16161616, 0.17171717, 0.18181818, 0.19191919,\n",
       "       0.2020202 , 0.21212121, 0.22222222, 0.23232323, 0.24242424,\n",
       "       0.25252525, 0.26262626, 0.27272727, 0.28282828, 0.29292929,\n",
       "       0.3030303 , 0.31313131, 0.32323232, 0.33333333, 0.34343434,\n",
       "       0.35353535, 0.36363636, 0.37373737, 0.38383838, 0.39393939,\n",
       "       0.4040404 , 0.41414141, 0.42424242, 0.43434343, 0.44444444,\n",
       "       0.45454545, 0.46464646, 0.47474747, 0.48484848, 0.49494949,\n",
       "       0.50505051, 0.51515152, 0.52525253, 0.53535354, 0.54545455,\n",
       "       0.55555556, 0.56565657, 0.57575758, 0.58585859, 0.5959596 ,\n",
       "       0.60606061, 0.61616162, 0.62626263, 0.63636364, 0.64646465,\n",
       "       0.65656566, 0.66666667, 0.67676768, 0.68686869, 0.6969697 ,\n",
       "       0.70707071, 0.71717172, 0.72727273, 0.73737374, 0.74747475,\n",
       "       0.75757576, 0.76767677, 0.77777778, 0.78787879, 0.7979798 ,\n",
       "       0.80808081, 0.81818182, 0.82828283, 0.83838384, 0.84848485,\n",
       "       0.85858586, 0.86868687, 0.87878788, 0.88888889, 0.8989899 ,\n",
       "       0.90909091, 0.91919192, 0.92929293, 0.93939394, 0.94949495,\n",
       "       0.95959596, 0.96969697, 0.97979798, 0.98989899, 1.        ])"
      ]
     },
     "execution_count": 4,
     "metadata": {},
     "output_type": "execute_result"
    }
   ],
   "source": [
    "import numpy\n",
    "numpy.linspace(0, 1, 100)"
   ]
  },
  {
   "cell_type": "code",
   "execution_count": 5,
   "id": "7f19a2cc",
   "metadata": {},
   "outputs": [
    {
     "data": {
      "text/plain": [
       "numpy._ArrayFunctionDispatcher"
      ]
     },
     "execution_count": 5,
     "metadata": {},
     "output_type": "execute_result"
    }
   ],
   "source": [
    "type(numpy.linspace)"
   ]
  },
  {
   "cell_type": "markdown",
   "id": "896627a4",
   "metadata": {},
   "source": [
    "Funktionen sind ein Mittel um Codewiederholungen zu verhindern und auch ein Mittel um Code zu strukturieren und bestimmte Funktionalität zu kapseln.\n",
    "Stellen Sie sich vor wir müssten jedes Mal wenn wir etwas ausgeben wollen den Code der Funktion ``print()`` niederschreiben.\n",
    "Schnell würden unsere Programme lange und auch langweilig und unübersichtlich werden.\n",
    "\n",
    "Gute Funktionen zu schreiben kann sehr befriedigend für uns Computational Thinker\\*innen sein.\n",
    "Wir lösen damit oft ein Teilproblem und kommen der gesamten Lösung näher.\n",
    "Mit ein wenig Erfahrung können wir sogar Probleme lösen indem wir davon ausgehen, ein Teilproblem hätten wir bereits gelöst -- auch wenn dies noch nicht der Fall ist.\n",
    "\n",
    "Wie ist das gemeint?\n",
    "Nun, wir wollen zum Beispiel eine Funktion schreiben, welche uns die ersten ``n`` Primzahlen berechnet und in eine Liste packt.\n",
    "Wir gehen einfach davon aus es gäbe eine Funktion ``is_prime(k)`` die prüft ob ``k`` eine Primzahl ist oder nicht.\n",
    "Unter dieser Annahme schreiben wir unsere Funktion ``prime_list(n)``:"
   ]
  },
  {
   "cell_type": "code",
   "execution_count": 6,
   "id": "66c6e106",
   "metadata": {},
   "outputs": [],
   "source": [
    "def is_prime(k):\n",
    "  pass\n",
    "\n",
    "def prime_list(n):\n",
    "  primelist = []\n",
    "  k = 1\n",
    "  while len(primelist) < n:\n",
    "    if is_prime(k):\n",
    "      primelist.append(k)\n",
    "    k += 1\n",
    "  return primelist"
   ]
  },
  {
   "cell_type": "markdown",
   "id": "2fdc53cc",
   "metadata": {},
   "source": [
    "Nachdem wir uns um die Generierung der Liste gekümmert haben, widmen wir uns der Funktion ``is_prime(k)``.\n",
    "Oder andere Entwickler\\*innen, die sich besser mit dem Problem auskennen, lösen es."
   ]
  },
  {
   "cell_type": "code",
   "execution_count": 7,
   "id": "23babba8",
   "metadata": {},
   "outputs": [
    {
     "data": {
      "text/plain": [
       "[2, 3, 5, 7, 11, 13, 17, 19, 23, 29, 31, 37, 41, 43, 47, 53, 59, 61, 67, 71]"
      ]
     },
     "execution_count": 7,
     "metadata": {},
     "output_type": "execute_result"
    }
   ],
   "source": [
    "def is_prime(k):\n",
    "  # a really stupid prime check\n",
    "  if k == 1:\n",
    "    return False\n",
    "  elif k == 2:\n",
    "    return True\n",
    "  else:\n",
    "    for i in range(2,k-1,1):\n",
    "      if k % i == 0:\n",
    "        return False\n",
    "  return True\n",
    "\n",
    "def prime_list(n):\n",
    "  primelist = []\n",
    "  k = 1\n",
    "  while len(primelist) < n:\n",
    "    if is_prime(k):\n",
    "      primelist.append(k)\n",
    "    k += 1\n",
    "  return primelist\n",
    "\n",
    "prime_list(20)"
   ]
  }
 ],
 "metadata": {
  "jupytext": {
   "formats": "md:myst",
   "text_representation": {
    "extension": ".md",
    "format_name": "myst"
   }
  },
  "kernelspec": {
   "display_name": "Python 3",
   "language": "python",
   "name": "python3"
  },
  "language_info": {
   "codemirror_mode": {
    "name": "ipython",
    "version": 3
   },
   "file_extension": ".py",
   "mimetype": "text/x-python",
   "name": "python",
   "nbconvert_exporter": "python",
   "pygments_lexer": "ipython3",
   "version": "3.11.4"
  },
  "source_map": [
   11,
   28,
   33,
   38,
   47,
   53,
   55,
   61,
   66,
   68,
   83,
   95,
   100
  ]
 },
 "nbformat": 4,
 "nbformat_minor": 5
}