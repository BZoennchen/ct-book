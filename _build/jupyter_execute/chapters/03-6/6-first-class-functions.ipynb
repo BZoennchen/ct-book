{
 "cells": [
  {
   "cell_type": "markdown",
   "id": "exact-amazon",
   "metadata": {},
   "source": [
    "(sec-first-class-functions)=\n",
    "# First-Class-Funktion\n",
    "\n",
    "Wie in ``JavaScript``, so sind Funktionen in ``Python`` ebenfalls First-Class-Funktionen (Funktionen erster Klasse).\n",
    "Das bedeutet im Wesentlichen, dass es keinen Unterschied mit dem Umgang zwischen Funktionen und Daten gibt."
   ]
  },
  {
   "cell_type": "code",
   "execution_count": 1,
   "id": "fifty-hollywood",
   "metadata": {},
   "outputs": [],
   "source": [
    "def f(x, y):\n",
    "    return 2*x + y"
   ]
  },
  {
   "cell_type": "markdown",
   "id": "smoking-acrylic",
   "metadata": {},
   "source": [
    "Wir können einer Variable eine Zahl wie auch eine Funktion zuweisen."
   ]
  },
  {
   "cell_type": "code",
   "execution_count": 2,
   "id": "upper-pattern",
   "metadata": {},
   "outputs": [
    {
     "data": {
      "text/plain": [
       "8"
      ]
     },
     "execution_count": 2,
     "metadata": {},
     "output_type": "execute_result"
    }
   ],
   "source": [
    "variable = f\n",
    "variable(3, 2)"
   ]
  },
  {
   "cell_type": "markdown",
   "id": "guided-religion",
   "metadata": {},
   "source": [
    "Wir können Funktionen in *Datenstrukturen* packen."
   ]
  },
  {
   "cell_type": "code",
   "execution_count": 3,
   "id": "alpine-guide",
   "metadata": {},
   "outputs": [
    {
     "name": "stdout",
     "output_type": "stream",
     "text": [
      "4\n",
      "4\n",
      "5\n",
      "-6\n"
     ]
    }
   ],
   "source": [
    "functions = [f, f, max, min]\n",
    "for func in functions:\n",
    "    print(func(5, -6))"
   ]
  },
  {
   "cell_type": "markdown",
   "id": "innovative-charger",
   "metadata": {},
   "source": [
    "Wir können Funktionen als Argumente übergeben und als Funktionswerte zurückgeben."
   ]
  },
  {
   "cell_type": "code",
   "execution_count": 4,
   "id": "structural-adolescent",
   "metadata": {},
   "outputs": [
    {
     "data": {
      "text/plain": [
       "26"
      ]
     },
     "execution_count": 4,
     "metadata": {},
     "output_type": "execute_result"
    }
   ],
   "source": [
    "def h(x, func):\n",
    "    return func(3, x) + x\n",
    "\n",
    "h(10, f)"
   ]
  },
  {
   "cell_type": "markdown",
   "id": "wrapped-phase",
   "metadata": {},
   "source": [
    "Doch richtig fällt uns der Unterschied erst auf, wenn wir eine Sprache betrachten, für die Funktionen keine *First-Class-Funktionen* sind.\n",
    "Beispiele wären ``Java``, ``C/C++``, und viele mehr.\n",
    "Es hat sich gezeigt, dass *First-Class-Funktionen* eine wertvolle Spracheigenschaft ist und Sprachen wie ``Java`` versuchen diese durch syntaktische Tricks zu simulieren.\n",
    "\n",
    "In ``Java`` können wir mittlerweile Funktionen ähnlich wie *First-Class-Funktionen* behandeln.\n",
    "Ein Beispiel:\n",
    "\n",
    "```java\n",
    "Function<Integer> func = (x) -> x * x;\n",
    "func(5);\n",
    "```\n",
    "\n",
    "Hierbei ist\n",
    "\n",
    "```java\n",
    "(x) -> x * x\n",
    "```\n",
    "\n",
    "eine [anonymen Funktion](sec-anonymous-function) die wir scheinbar einer Variablen ``func`` zuweisen.\n",
    "Doch im Hintergrund wird ein ganzes Objekt (Daten + Funktionen) erstellt, welches keine Daten und nur eine Funktion enthält.\n",
    "\n",
    "Sind Funktionen First-Class-Funktionen, so ist man als Programmierer\\*in eher dazu ermuntert mehr in Funktionen als in Objekten und Methoden zu denken."
   ]
  }
 ],
 "metadata": {
  "jupytext": {
   "formats": "md:myst",
   "text_representation": {
    "extension": ".md",
    "format_name": "myst"
   }
  },
  "kernelspec": {
   "display_name": "Python 3",
   "language": "python",
   "name": "python3"
  },
  "language_info": {
   "codemirror_mode": {
    "name": "ipython",
    "version": 3
   },
   "file_extension": ".py",
   "mimetype": "text/x-python",
   "name": "python",
   "nbconvert_exporter": "python",
   "pygments_lexer": "ipython3",
   "version": "3.9.8"
  },
  "source_map": [
   11,
   19,
   22,
   26,
   29,
   33,
   37,
   41,
   46
  ]
 },
 "nbformat": 4,
 "nbformat_minor": 5
}