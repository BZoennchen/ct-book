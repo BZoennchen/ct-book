{
 "cells": [
  {
   "cell_type": "markdown",
   "id": "broad-soviet",
   "metadata": {},
   "source": [
    "(sec-type-systems)=\n",
    "# Dynamische und statische Typisierung\n",
    "\n",
    "Für *statisch getypten Sprache* wird der Datentyp von Werten und Variablen geprüft **bevor** der Programmcode ausgeführt wird.\n",
    "Im Gegenteil dazu wird diese Prüfung für *dynamisch getypte Sprachen* erst zur Laufzeit durchgeführt, also **während** der Code ausgeführt wird.\n",
    "\n",
    "Damit Sie sich unter einer statisch getypten Sprache auch etwas vorstellen können folgt ein ``Java``-Programmcode, welcher die Summe aller Quadratzahlen von 1 bis ``n`` berechnet und ausgibt:\n",
    "\n",
    "```java\n",
    "public class Main {\n",
    "\n",
    "    public static void main(String args[]) {\n",
    "        int n = Integer.parseInt(args[0]);\n",
    "        int sum = 0;\n",
    "\n",
    "        for (int i = 1; i < n; i++) {\n",
    "            sum += i * i;\n",
    "        }\n",
    "\n",
    "        System.out.println(\"Sum squares from 1 to \" + n + \" = \" + sum);\n",
    "    }\n",
    "}\n",
    "```\n",
    "\n",
    "Um den Code auch tatsächlich auszuführen, muss er in einer Datei namens ``Main.java`` stehen.\n",
    "Wir müssen den Java-[Compiler](def-compiler) befehligen, diese Datei zu übersetzten.\n",
    "Dies geht über die Kommandozeile über den Befehl ``javac Main.java``.\n",
    "Der Compiler erzeugt eine Datei mit dem Namen ``Main.class``.\n",
    "Um das Programm auszuführen starten wir es schließlich mit ``java Main 10``, wobei ``10`` das ``0``-te Argument des Programms ist.\n",
    "\n",
    "```{exercise} Datentypen erraten\n",
    ":label: data-type-guessing-exercise\n",
    "Geben Sie an von welchem Datentyp die Variablen ``n``, ``sum``, ``i``, und ``args`` im obigen Java-Programm sind.\n",
    "```\n",
    "\n",
    "````{solution} data-type-guessing-exercise\n",
    ":label: data-type-guessing-solution\n",
    ":class: dropdown\n",
    "\n",
    "``n``, ``sum`` und ``i`` sind ganze Zahlen ``int``.\n",
    "``args`` ist ein sog. Array bestehend aus Zeichenketten ``String[]``.\n",
    "\n",
    "````\n",
    "\n",
    "Führen Sie folgenden Code aus:"
   ]
  },
  {
   "cell_type": "code",
   "execution_count": 1,
   "id": "legislative-poster",
   "metadata": {
    "tags": [
     "raises-exception"
    ]
   },
   "outputs": [
    {
     "name": "stdout",
     "output_type": "stream",
     "text": [
      "10\n"
     ]
    },
    {
     "ename": "TypeError",
     "evalue": "unsupported operand type(s) for +: 'int' and 'str'",
     "output_type": "error",
     "traceback": [
      "\u001b[0;31m---------------------------------------------------------------------------\u001b[0m",
      "\u001b[0;31mTypeError\u001b[0m                                 Traceback (most recent call last)",
      "\u001b[0;32m<ipython-input-1-b47f296b25be>\u001b[0m in \u001b[0;36m<module>\u001b[0;34m\u001b[0m\n\u001b[1;32m      2\u001b[0m \u001b[0mnumber\u001b[0m \u001b[0;34m=\u001b[0m \u001b[0mnumber\u001b[0m \u001b[0;34m+\u001b[0m \u001b[0;36m5\u001b[0m\u001b[0;34m\u001b[0m\u001b[0;34m\u001b[0m\u001b[0m\n\u001b[1;32m      3\u001b[0m \u001b[0mprint\u001b[0m\u001b[0;34m(\u001b[0m\u001b[0mnumber\u001b[0m\u001b[0;34m)\u001b[0m\u001b[0;34m\u001b[0m\u001b[0;34m\u001b[0m\u001b[0m\n\u001b[0;32m----> 4\u001b[0;31m \u001b[0mnumber\u001b[0m \u001b[0;34m=\u001b[0m \u001b[0mnumber\u001b[0m \u001b[0;34m+\u001b[0m \u001b[0;34m'b'\u001b[0m\u001b[0;34m\u001b[0m\u001b[0;34m\u001b[0m\u001b[0m\n\u001b[0m",
      "\u001b[0;31mTypeError\u001b[0m: unsupported operand type(s) for +: 'int' and 'str'"
     ]
    }
   ],
   "source": [
    "number = 5\n",
    "number = number + 5\n",
    "print(number)\n",
    "number = number + 'b'"
   ]
  },
  {
   "cell_type": "markdown",
   "id": "dress-disease",
   "metadata": {},
   "source": [
    "Dieser führt zu einem bekannten Fehler: ``unsupported operand type(s) for +: 'int' and 'str'`` und dennoch wird die ganze Zahl ``number`` ausgegeben.\n",
    "In anderen Worten der Code läuft solange bis es kracht.\n",
    "\n",
    "Lassen Sie uns das ganze einmal in ``Java`` transformieren:\n",
    "\n",
    "```java\n",
    "int number = 5;\n",
    "number = number + 5;\n",
    "System.out.println(number);\n",
    "number = number + \"b\";\n",
    "```\n",
    "\n",
    "Dieser Code wird gar nicht erst ausgeführt werden.\n",
    "Stattdessen erhalten wir eine ähnliche Fehlermeldung vor der Ausführung.\n",
    "In der ersten Zeilen sehen wir jedoch auch, dass wir den Datentyp für ``number`` explizit definieren müssen!\n",
    "In ``Java`` ist der Datentyp einer Variablen (hier ``number``) auf festgelegt solange die Variable existiert.\n",
    "Auch folgender Code führt zu einem Fehler:\n",
    "\n",
    "```java\n",
    "int number = 5;\n",
    "number = \"b\";\n",
    "```\n",
    "\n",
    "und auch dieser hier:\n",
    "\n",
    "```java\n",
    "int number = 5;\n",
    "String number = \"b\";\n",
    "```\n",
    "\n",
    "Dadurch dass Typen während der Ausführung gar nicht mehr vorhanden sind, gelten für die Typisierung strengere Regeln.\n",
    "Andernfalls wäre dies nicht möglich.\n",
    "\n",
    "Im Gegensatz dazu können wir in ``Python`` viel 'freier' mit Typen hantieren.\n",
    "Der Äquivalente Code wird einwandfrei ausgeführt:"
   ]
  },
  {
   "cell_type": "code",
   "execution_count": 2,
   "id": "bound-hampshire",
   "metadata": {},
   "outputs": [],
   "source": [
    "number = 5\n",
    "number = 'b'"
   ]
  },
  {
   "cell_type": "code",
   "execution_count": 3,
   "id": "minimal-alpha",
   "metadata": {},
   "outputs": [],
   "source": [
    "number = 5\n",
    "number = 'b'"
   ]
  },
  {
   "cell_type": "markdown",
   "id": "cosmetic-montreal",
   "metadata": {},
   "source": [
    "## Was ist besser?\n",
    "\n",
    "Die einfache Antwort hierauf lautet: nichts von beidem.\n",
    "Am liebsten hätte man natürlich eine dynamische Typisierung bei der dennoch die Typen auf Korrektheit vor dem Programmlauf überprüft werden.\n",
    "\n",
    "Die explizite Angabe des Datentyps bei *statisch getypten Sprachen* dient der Dokumentation und macht den Code oft lesbarer ohne zusätzliche Kommentare hinzuzufügen -- der Code ist die Dokumentation. \n",
    "\n",
    "Auf der anderen Seite hat eine statische Typisierung weitreichende Auswirkungen auf die Struktur des Codes.\n",
    "Wir können auf diese nicht im Detail eingehen, doch erfordern statisch getypte Sprachen einen viel strikteren Umgang mit Typen und deren Definition.\n",
    "Konzepte wie Vererbung und Polymorphie werden unerlässlich.\n",
    "\n",
    "Im allgemeinen sind statisch getypte Sprachen hungriger, was die Anzahl der Zeichen des geschriebenen Codes angeht.\n",
    "Mit dynamisch getypte Sprachen erreicht man oft den gleichen Effekt mit deutlich weniger Zeilen Code.\n",
    "\n",
    "In der Kategorie der Laufzeit des Codes gewinnen statisch getypte Sprachen.\n",
    "Vor der Ausführung sind alle Typen aller Werte, Variablen usw. bekannt.\n",
    "Somit können Sie sich vorstellen, dass [Übersetzer / Compiler](def-compiler) den Code besser optimieren können.\n",
    "Zum Beispiel kann die Typinformation während der Ausführung des Codes vergessen werden -- das spart Speicherplatz.\n",
    "\n",
    "## Sowohl als auch?\n",
    "\n",
    "``Python`` ist dynamisch getypt.\n",
    "Jedoch ruft ``Python`` intern ``C/C++`` Code auf und dieser ist statisch getypt!\n",
    "Wir sind zwar noch immer nicht am Optimum: Typisierungstests vor der Laufzeit und dynamische Typen, aber wir sind nah dran.\n",
    "``Python`` ist immer dann schnell, wenn der statisch getypte Code aufgerufen wird und immer dann langsam wenn wir lange im ``Python``-Code selbst (der dynamisch getypt ist) verweilen.\n",
    "\n",
    "## Typ hints mit Python\n",
    "\n",
    "Mit ``Python`` 3.6 wurde eine [Syntax](def-syntax) eingeführt mit der wir den Datentyp trotz dynamischer Typisierung direkt im Code angeben können.\n",
    "Wir werden dies im Kurs nicht verwenden, wollen es Ihnen aber auch nicht vorenthalten.\n",
    "Der angegebene Typ dient der reinen Dokumentation und hat keinerlei Auswirkungen auf die Laufzeit.\n",
    "Manche Entwicklungsumgebungen wie Visual Studio Code (SVCode) unterstützen auf Grundlage dieser [Typ hints](https://mypy.readthedocs.io/en/stable/cheat_sheet_py3.html) Warnmeldungen bzw. Fehlermeldungen.\n",
    "\n",
    "Mit Type hints wird aus"
   ]
  },
  {
   "cell_type": "code",
   "execution_count": 4,
   "id": "fifth-provision",
   "metadata": {},
   "outputs": [],
   "source": [
    "number = 5\n",
    "number = 'b'"
   ]
  },
  {
   "cell_type": "markdown",
   "id": "excessive-covering",
   "metadata": {},
   "source": [
    "folgender Code"
   ]
  },
  {
   "cell_type": "code",
   "execution_count": 5,
   "id": "accredited-jaguar",
   "metadata": {},
   "outputs": [],
   "source": [
    "number : int = 5\n",
    "number : str = 'b'"
   ]
  },
  {
   "cell_type": "markdown",
   "id": "senior-coating",
   "metadata": {},
   "source": [
    "Dieser wird ausgeführt wie zuvor doch Ihre Entwicklungsumgebung wird Sie vermutlich warnen, dass hier der Typ gewechselt wird.\n",
    "Besonders für Funktionen ist dies hilfreich, um die Dokumentation direkt in den Code zu integrieren.\n",
    "Zum Beispiel wird aus"
   ]
  },
  {
   "cell_type": "code",
   "execution_count": 6,
   "id": "relevant-cutting",
   "metadata": {},
   "outputs": [],
   "source": [
    "def add(x, y):\n",
    "    return x + y"
   ]
  },
  {
   "cell_type": "markdown",
   "id": "optional-scanner",
   "metadata": {},
   "source": [
    "folgender Code"
   ]
  },
  {
   "cell_type": "code",
   "execution_count": 7,
   "id": "narrative-trader",
   "metadata": {},
   "outputs": [],
   "source": [
    "def add(x: int, y: int) -> int:\n",
    "    return x + y"
   ]
  },
  {
   "cell_type": "markdown",
   "id": "digital-substitute",
   "metadata": {},
   "source": [
    "Wir geben uns und dem- oder derjenigen, welche unseren Code benutzt zu verstehen, dass die Funktion zwei ganze Zahlen erwartet und eine ganze Zahl zurückliefert."
   ]
  }
 ],
 "metadata": {
  "jupytext": {
   "formats": "md:myst",
   "text_representation": {
    "extension": ".md",
    "format_name": "myst"
   }
  },
  "kernelspec": {
   "display_name": "Python 3",
   "language": "python",
   "name": "python3"
  },
  "language_info": {
   "codemirror_mode": {
    "name": "ipython",
    "version": 3
   },
   "file_extension": ".py",
   "mimetype": "text/x-python",
   "name": "python",
   "nbconvert_exporter": "python",
   "pygments_lexer": "ipython3",
   "version": "3.9.8"
  },
  "source_map": [
   11,
   59,
   67,
   105,
   110,
   113,
   150,
   153,
   157,
   160,
   166,
   169,
   173,
   176
  ]
 },
 "nbformat": 4,
 "nbformat_minor": 5
}