{
 "cells": [
  {
   "cell_type": "markdown",
   "id": "functional-swimming",
   "metadata": {},
   "source": [
    "# Wiederholung als Grundlage"
   ]
  },
  {
   "cell_type": "code",
   "execution_count": 1,
   "id": "premier-origin",
   "metadata": {},
   "outputs": [],
   "source": [
    "def sum_sqrt(n):\n",
    "    sum_sqrt = 0\n",
    "    for i in range(n):\n",
    "        sum_sqrt += (i+1) * (i+1)\n",
    "    return sum_sqrt"
   ]
  }
 ],
 "metadata": {
  "jupytext": {
   "formats": "md:myst,ipynb",
   "text_representation": {
    "extension": ".md",
    "format_name": "myst",
    "format_version": 0.13,
    "jupytext_version": "1.10.3"
   }
  },
  "kernelspec": {
   "display_name": "Python 3",
   "language": "python",
   "name": "python3"
  },
  "language_info": {
   "codemirror_mode": {
    "name": "ipython",
    "version": 3
   },
   "file_extension": ".py",
   "mimetype": "text/x-python",
   "name": "python",
   "nbconvert_exporter": "python",
   "pygments_lexer": "ipython3",
   "version": "3.9.6"
  },
  "source_map": [
   13,
   17
  ]
 },
 "nbformat": 4,
 "nbformat_minor": 5
}