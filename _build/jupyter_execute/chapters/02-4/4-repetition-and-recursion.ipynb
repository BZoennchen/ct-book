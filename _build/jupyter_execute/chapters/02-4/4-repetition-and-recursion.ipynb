{
 "cells": [
  {
   "cell_type": "markdown",
   "id": "brief-episode",
   "metadata": {},
   "source": [
    "## Wiederholung und Rekursion\n",
    "\n",
    "Auf der konzeptionellen Ebene erscheinen Wiederholung und Rekursion grundverschieden.\n",
    "Es sind unterschiedliche Denkweisen.\n",
    "Wir können rekursiv oder aber in Wiederholungen denken.\n",
    "\n",
    "```{admonition} Wiederholung und Rekursion\n",
    ":class: important\n",
    "Sofern bei der Wiederholung, die Anzahl der Durchläufe nicht zur Laufzeit vor der Ausführung der Wiederholung bekannt sein muss können wir überraschenderweise jede Rekursion in eine Wiederholung und jede Wiederholung in eine Rekursion umwandeln!\n",
    "```\n",
    "\n",
    "### Wiederholung\n",
    "\n",
    "Das fundamentale Prinzip der *Wiederholung* ist zentraler Bestandteil des Computational Thinkings.\n",
    "Blicken wir in den Werkzeugkasten der Algorithmen so finden wir die Wiederholung überall.\n",
    "Sortieralgorithmen, die Berechnung eine Gleichungssystems, das Verarbeiten eines Bildes, die Schaltflächen einer App, überall finden wir Schleifen, die unsere Informationen *iterativ* verarbeiten.\n",
    "\n",
    "Nach der Definition eines Algorithmus, muss dieser aus endlich vielen Anweisungen bestehen.\n",
    "Will man jedoch eine variable Menge an Information verarbeiten, so muss ein Algorithmus abhängig von der Eingabegröße unterschiedlich viele Anweisungen ausführen.\n",
    "Das bedeutet, dass die Länge des Algorithmus unabhängig von der Anzahl der auszuführenden Anweisungen (für eine gegebenen Eingabe) sein können muss!\n",
    "Nach dem Schubfachprinzip bedeutet dies wiederum, dass in diesem Fall Teile des Algorithmus öfters durchlaufen werden - Wiederholung muss also in irgendeiner Form stattfinden.\n",
    "\n",
    "Überraschenderweise hat sich herausgestellt, dass *Wiederholung* in Kombination mit der *Fallunterscheidung* ausreicht, um alles berechnen zu können was wir bisher als natürlich berechenbar ansehen.\n",
    "Nach der unbeweisbaren Church-Turung-These werden wir keine Problem finden, was natürlich berechenbar aber nicht durch einen Computer berechnet werden kann.\n",
    "Die Fallunterscheidung in Kombination mit der Wiederholung ist scheinbar ausreichend.\n",
    "\n",
    "Nun haben Sie vielleicht die Hoffnung, Sie müssten nur die *Wiederholung* und die *Fallunterscheidung* beherrschen und können dann jedes Problem lösen.\n",
    "Leider sind diese beiden Techniken derart grundlegend, dass sie eine notwendige nicht aber ausreichende Bedingung für die Entwicklung von Algorithmen darstellen.\n",
    "Wir können das mit der Sprache vergleichen.\n",
    "Nur weil wir laute von uns geben können, heißt das nicht, dass wir uns in jeder Sprache verständigen können.\n",
    "Ein weiteres Beispiel wären die Naturwissenschaften.\n",
    "Nur weil wir die kleinsten Teilchen im Universum verstehen, bedeutet dass nicht, dass wir damit das entstehen von Leben oder anderen emergenten Übergängen erklären können.\n",
    "\n",
    "Wenn Sie jedoch Erfahrung im entwickeln von Algorithmen gesammelt haben und Algorithmen analysiert und verwendet haben, dann werden Sie beginnen in Wiederholungen zu denken.\n",
    "Sie werden beginnen in Wiederholungen von Wiederholungen von Wiederholungen zu denken.\n",
    "\n",
    "Nehmen wir zum Beispiel den [Bubblesort Algorithmus](https://en.wikipedia.org/wiki/Bubble_sort).\n",
    "Wir möchten eine Liste von Zahlen sortieren.\n",
    "Wir gehen durch die Liste (1. *Wiederholung*) und wann immer zwei nebeneinander liegende Zahlen falsch sortiert sind, vertauschen wir diese.\n",
    "Wir wiederholen dies (2. *Wiederholung*) solange bis keine Zahl mehr falsch sortiert ist."
   ]
  },
  {
   "cell_type": "code",
   "execution_count": 1,
   "id": "structural-petite",
   "metadata": {},
   "outputs": [
    {
     "name": "stdout",
     "output_type": "stream",
     "text": [
      "before sorting: [3, 2, 4, 9, 7, 5, 1, 8, 6]\n",
      "after sorting: [1, 2, 3, 4, 5, 6, 7, 8, 9]\n"
     ]
    }
   ],
   "source": [
    "import random as rnd\n",
    "\n",
    "def bubble_sort(numbers):\n",
    "    finished = False\n",
    "    while(not finished):\n",
    "        finished = True\n",
    "        for i in range(1,len(numbers)):\n",
    "            if numbers[i] < numbers[i-1]:\n",
    "                numbers[i], numbers[i-1] = numbers[i-1], numbers[i]\n",
    "                finished = False\n",
    "    \n",
    "numbers = [1,2,3,4,5,6,7,8,9]\n",
    "rnd.shuffle(numbers)\n",
    "print(f'before sorting: {numbers}')\n",
    "bubble_sort(numbers)\n",
    "print(f'after sorting: {numbers}')"
   ]
  },
  {
   "cell_type": "markdown",
   "id": "dominant-mediterranean",
   "metadata": {},
   "source": [
    "Die beiden Schleifen liefern uns auch einen Hinweis auf die Laufzeit des simplen Sortieralgorithmus.\n",
    "Nach jedem ausführen der inneren Schleife befindet sich ein neues Element an seiner korrekten Position.\n",
    "Damit brauchen wir maximal so viele Durchläufe (1. Wiederholung) wie es Elemente sind.\n",
    "Jeder Durchlauf benötigt ebenfalls maximal so viel Schritte wie es Elemente sind.\n",
    "Damit hat der Algorithmus im schlechtesten Fall eine quadratische Laufzeit.\n",
    "\n",
    "### Rekursion\n",
    "\n",
    "Rekursion scheint dieses unverständliche Konzept, welches Mathematiker\\*innen lieben und vor dem Programmierer\\*innen anfänglich davonlaufen.\n",
    "Derweil würden wir behaupten, dass die *rekursive denkweise* uns Menschen näher ist als das Denken in Wiederholungen.\n",
    "Rekursive Lösungen sind oft eleganter, kürzer, verständlicher aber leider auch langsamer als iterative Lösungen.\n",
    "\n",
    "```{admonition} Rekursion\n",
    ":name: def-recursion\n",
    ":class: important\n",
    "Als *Rekursion* wird ein Vorgang bezeichnet, welcher sich selbst als Teil enthält oder mithilfe von sich selbst definierbar ist.\n",
    "```"
   ]
  }
 ],
 "metadata": {
  "jupytext": {
   "formats": "md:myst",
   "text_representation": {
    "extension": ".md",
    "format_name": "myst"
   }
  },
  "kernelspec": {
   "display_name": "Python 3",
   "language": "python",
   "name": "python3"
  },
  "language_info": {
   "codemirror_mode": {
    "name": "ipython",
    "version": 3
   },
   "file_extension": ".py",
   "mimetype": "text/x-python",
   "name": "python",
   "nbconvert_exporter": "python",
   "pygments_lexer": "ipython3",
   "version": "3.9.8"
  },
  "source_map": [
   11,
   54,
   71
  ]
 },
 "nbformat": 4,
 "nbformat_minor": 5
}