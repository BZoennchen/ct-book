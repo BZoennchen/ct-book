{
 "cells": [
  {
   "cell_type": "markdown",
   "id": "irish-tamil",
   "metadata": {},
   "source": [
    "(sec-sort-cards-with-python)=\n",
    "# Karten sortieren in Python\n",
    "\n",
    "Wir gehen nicht davon aus, dass Sie bereits jetzt alles verstehen was wir im Folgenden programmieren werden.\n",
    "Ziel ist es aufzuzeigen, dass sich der Programmiercode kaum von unserer obigen Beschreibung unterscheidet und wir durch Programmiersprachen einen präzisen und vorgefertigten *Kontext* bekommen.\n",
    "Wir müssen diesen lediglich kennenlernen!\n",
    "Was sich also ändert ist der *Kontext*.\n",
    "Dieser ist in unserem Fall durch die Programmiersprache ``Python`` (ihrer [Syntax](def-syntax) und [Semantik](def-semantik)) und der verwendeten ``Python``-Module vorgegeben.\n",
    "\n",
    "\n",
    "```{exercise} Karten sortieren in Python\n",
    ":label: sort-cards-in-python-exercise\n",
    "Implementieren Sie Ihren Algorithmus in ``Python``.\n",
    "```\n",
    "\n",
    "Im folgenden präsentieren wir eine Lösung.\n",
    "Beachten Sie, dass es uns dabei nicht um die Laufzeit unseres Programms geht.\n",
    "Die Lösung ist weder effizient noch besonders elegant.\n",
    "\n",
    "## Modellierung der Karten und Hand\n",
    "\n",
    "Da unser *Kontext* natürlich keine physikalische Hand definiert, müssen wir diese anderweitig *modellieren*.\n",
    "Hierbei kommt die Abstraktion ins Spiel.\n",
    "\n",
    "```{exercise} Modellierung\n",
    ":label: exercise-sort-cards-modelling\n",
    "Welche Eigenschaften der Hand benötigen wir und welche sind überflüssig?\n",
    "```\n",
    "\n",
    "Die ausschlaggebenden Eigenschaften der Karten auf der Hand sind:\n",
    "\n",
    "1. Jede der $n$ Karten hat einen von $n$ nummerierten Plätzen auf der Hand (*Reihenfolge*)\n",
    "2. Karten können von der Hand gelöscht und hinzugefügt werden\n",
    "3. Es gibt eine *(totale) Ordnungsrelation* der Karten\n",
    "\n",
    "Wir modellieren jede Karte als Zeichenkette.\n",
    "Zum Beispiel steht ``'Bube'`` für einen der Buben des Kartendecks.\n",
    "Je nachdem welches Kartendeck Sie verwenden, können Sie die Namen entsprechend anpassen.\n",
    "Wir lassen alle unnötigen Informationen, wie zum Beispiel die Kartenfarbe, weg (*Abstraktion*).\n",
    "\n",
    "Eine Hand modellieren wir als Liste von Karten (Liste von Zeichenketten).\n",
    "\n",
    "````{admonition} Liste (Python)\n",
    ":class: python\n",
    ":name: python-list\n",
    "\n",
    "Eine [Python Liste](sec-list) repräsentiert ein endliches *veränderbares mathematisches Tupel*.\n",
    "Elemente können an jeder Position aus der Liste entfernt, und eingefügt werden.\n",
    "Die Position eines Elements in der Liste nennen wir *Index*.\n",
    "Beinhaltet die Liste ``lst``, ``n`` Elemente, so sind \n",
    "\n",
    "```python\n",
    "lst[0], lst[1], ..., lst[n-1]\n",
    "```\n",
    "\n",
    "ihre Elemente.\n",
    "````\n",
    "\n",
    "Folgende Liste ist ein Beispiel für eine Hand mit 6 Karten."
   ]
  },
  {
   "cell_type": "code",
   "execution_count": null,
   "id": "julian-numbers",
   "metadata": {},
   "outputs": [],
   "source": [
    "hand = ['9', '6', '6', 'Bube', 'Ass', '7']\n",
    "hand"
   ]
  },
  {
   "cell_type": "markdown",
   "id": "interpreted-amplifier",
   "metadata": {},
   "source": [
    "Der Befehl"
   ]
  },
  {
   "cell_type": "code",
   "execution_count": null,
   "id": "committed-trailer",
   "metadata": {},
   "outputs": [],
   "source": [
    "del hand[3]\n",
    "hand"
   ]
  },
  {
   "cell_type": "markdown",
   "id": "accepting-reynolds",
   "metadata": {},
   "source": [
    "löscht das vierte Element (das Element mit Index 3) aus der Liste.\n",
    "Um das Element wieder einzufügen können wir"
   ]
  },
  {
   "cell_type": "code",
   "execution_count": null,
   "id": "announced-recorder",
   "metadata": {},
   "outputs": [],
   "source": [
    "hand.insert(3, 'Bube')\n",
    "hand"
   ]
  },
  {
   "cell_type": "markdown",
   "id": "latter-excerpt",
   "metadata": {},
   "source": [
    "verwenden.\n",
    "\n",
    "## Modellierung der Ordungsrelation\n",
    "\n",
    "Auch hier gibt es viele verschiedene Möglichkeiten.\n",
    "Eine Lösung besteht darin den *Index* eines Tupels als *Ordnung* zu verwenden.\n",
    "Das Tupel muss lediglich alle möglichen Kartentypen geordnet enthalten.\n",
    "Wir verwenden diesmal keine ``list`` sondern ein unveränderbares ``Python``-``tuple``.\n",
    "\n",
    "````{admonition} Tupel (Python)\n",
    ":class: python\n",
    ":name: python-tuple\n",
    "\n",
    "Ein [Python-Tupel](sec-tuple) repräsentiert ein endliches *unveränderbares mathematisches Tupel*.\n",
    "Die Position eines Elements im Tupel nennen wir *Index*.\n",
    "Beinhaltet das Tupel ``tpl``, ``n`` Elemente, so sind \n",
    "```python\n",
    "tpl[0], tpl[1], ..., tpl[n-1]\n",
    "```\n",
    "ihre Elemente.\n",
    "````"
   ]
  },
  {
   "cell_type": "code",
   "execution_count": null,
   "id": "dedicated-conference",
   "metadata": {},
   "outputs": [],
   "source": [
    "cards = ('6', '7', '8', '9', '10', 'Bube', 'Dame', 'König', 'Ass')"
   ]
  },
  {
   "cell_type": "markdown",
   "id": "unnecessary-crawford",
   "metadata": {},
   "source": [
    "Um die konkrete Implementierung von ``cards`` an einer zentralen Stelle ändern zu können, ist es sinnvoll eine ``Python``-[Funktion](sec-functions) zu schreiben, welche ``cards`` zurückgibt.\n",
    "Sie brauchen noch ein wenig Erfahrung um den Unterschied und die Vorzüge zu verstehen."
   ]
  },
  {
   "cell_type": "code",
   "execution_count": null,
   "id": "warming-philadelphia",
   "metadata": {},
   "outputs": [],
   "source": [
    "def get_cards():\n",
    "    return cards"
   ]
  },
  {
   "cell_type": "markdown",
   "id": "baking-macedonia",
   "metadata": {},
   "source": [
    "Um die [Ordnung](exercise-sort-cards) einer Karte ``card`` zu bestimmen, iterieren wir durch alle ``cards`` und sobald wir die entsprechende Karte gefunden haben, geben wir den *Index* zurück."
   ]
  },
  {
   "cell_type": "code",
   "execution_count": null,
   "id": "vulnerable-congress",
   "metadata": {},
   "outputs": [],
   "source": [
    "def index_of(card):\n",
    "    for index in range(len(get_cards())):\n",
    "        if cards[index] == card:\n",
    "            return index\n",
    "\n",
    "index_of('Bube')"
   ]
  },
  {
   "cell_type": "markdown",
   "id": "binding-plymouth",
   "metadata": {},
   "source": [
    "Um zwei Karten vergleichen zu können, vergleichen wir ihre Indices."
   ]
  },
  {
   "cell_type": "code",
   "execution_count": null,
   "id": "moderate-crash",
   "metadata": {},
   "outputs": [],
   "source": [
    "index_of('7') < index_of('König')"
   ]
  },
  {
   "cell_type": "markdown",
   "id": "collected-slide",
   "metadata": {},
   "source": [
    "Wir packen den Vergleich zweier Karten ``card1`` und ``card2`` in eine weitere ``Python``-[Funktion](sec-functions)."
   ]
  },
  {
   "cell_type": "code",
   "execution_count": null,
   "id": "toxic-treat",
   "metadata": {},
   "outputs": [],
   "source": [
    "def is_smaller(card1, card2):\n",
    "    i = index_of(card1)    # finde Position von Karte 1\n",
    "    j = index_of(card2)    # finde Position von Karte 2\n",
    "    return i < j           # Falls Position von Karte 1 < Position von Karte 2 gib wahr zurück, sonst falsch"
   ]
  },
  {
   "cell_type": "markdown",
   "id": "superior-newcastle",
   "metadata": {},
   "source": [
    "## Sortieralgorithmus\n",
    "\n",
    "Blicken wir zurück auf unseren Sortieralgorithmus.\n",
    "\n",
    "```\n",
    "H <- unsere Hand mit Karten\n",
    "S <- ein leerer Stapel\n",
    "Solange noch Karten auf der Hand H sind:\n",
    "    Lege kleinste Karte auf der Hand H auf Stapel S \n",
    "```\n",
    "\n",
    "In ``Python`` sieht das ganz wie folgt aus."
   ]
  },
  {
   "cell_type": "code",
   "execution_count": null,
   "id": "secondary-entity",
   "metadata": {},
   "outputs": [],
   "source": [
    "def stack_sort(hand):                               # Sei H unsere Hand mit Karten (Argument der Funktion)\n",
    "    stack = [];                                     # Sei S ein leerer Stapel\n",
    "    while len(hand) > 0:                            # Solange noch Karten auf der Hand H sind:\n",
    "        stack.append(remove_smallest_card(hand))    # Lege kleinste Karte auf der Hand H auf Stapel S \n",
    "    return stack                                    # Gib den Stapel zurück (Rückgabewert)"
   ]
  },
  {
   "cell_type": "markdown",
   "id": "flying-veteran",
   "metadata": {},
   "source": [
    "Wir haben die Logik in eine Funktion gepackt, sodass wir diese bequem Aufrufen können.\n",
    "Wir haben unseren *Kontext* um diese Funktion erweitert.\n",
    "Leider ist die Funktion ``remove_smallest_card`` in unserem *Kontext* noch nicht definiert.\n",
    "Das holen wir nach."
   ]
  },
  {
   "cell_type": "code",
   "execution_count": null,
   "id": "representative-label",
   "metadata": {},
   "outputs": [],
   "source": [
    "def remove_smallest_card(hand):    # Sei H unsere Hand mit Karten (Argument der Funktion)\n",
    "    i = find_smallest_index(hand)  # Finde Position der kleinsten Karte auf der Hand\n",
    "    card = hand[i]                 # Merke dir Karte an der Position der kleinsten Karte auf der Hand\n",
    "    del hand[i]                    # Lösche Karte an der Position der kleinsten Karte auf der Hand\n",
    "    return card                    # Gib gemerkte Karte zurück (Rückgabewert)"
   ]
  },
  {
   "cell_type": "markdown",
   "id": "imperial-cincinnati",
   "metadata": {},
   "source": [
    "Wir haben das Problem ``remove_smallest_card`` in Unterprobleme aufgeteilt (*Dekomposition*).\n",
    "Die Funktion ``find_smallest_index`` soll uns den *Index* der kleinsten Karte auf der Hand zurückgeben."
   ]
  },
  {
   "cell_type": "code",
   "execution_count": null,
   "id": "abandoned-melissa",
   "metadata": {},
   "outputs": [],
   "source": [
    "def find_smallest_index(hand):\n",
    "    index = 0                                # Merke dir Position 0\n",
    "    for i in range(len(hand)):               # Gehe durch alle Positionen 0 bis (Anzahl der Karten auf der Hand) - 1\n",
    "        if is_smaller(hand[i], hand[index]): # Falls Karte an Position i kleiner ist als an der gemerkten Position\n",
    "            index = i                        # Merke dir Position i\n",
    "    return index                             # Gib gemerkte Position zurück  "
   ]
  },
  {
   "cell_type": "markdown",
   "id": "handled-cover",
   "metadata": {},
   "source": [
    "Jetzt ist alles in unserem *Kontext* definiert was notwendig ist und wir können den Sortieralgorithmus ``stack_sort`` ausführen.\n",
    "Lassen Sie uns die Hand ``hand`` sortieren:"
   ]
  },
  {
   "cell_type": "code",
   "execution_count": null,
   "id": "sound-gentleman",
   "metadata": {},
   "outputs": [],
   "source": [
    "stack_sort(hand)"
   ]
  },
  {
   "cell_type": "markdown",
   "id": "driving-passage",
   "metadata": {},
   "source": [
    "Was passiert wenn wir richtig viele Karten sortieren?\n",
    "Der folgende Code erzeugt eine durchgemischte Hand mit ``1000`` Karten.\n",
    "Wir erweitern dafür den *Kontext* um ein Paket ``random`` welches Funktionen für die Wahrscheinlichkeitsrechnung enthält."
   ]
  },
  {
   "cell_type": "code",
   "execution_count": null,
   "id": "international-algebra",
   "metadata": {
    "tags": [
     "output_scroll"
    ]
   },
   "outputs": [],
   "source": [
    "import random\n",
    "hand = [random.choice(get_cards()) for _ in range(1000)]\n",
    "hand"
   ]
  },
  {
   "cell_type": "markdown",
   "id": "purple-request",
   "metadata": {},
   "source": [
    "Sie werden merken, dass die Ausführung des folgenden Codes einen kurzen Moment dauert."
   ]
  },
  {
   "cell_type": "code",
   "execution_count": null,
   "id": "defensive-excellence",
   "metadata": {
    "tags": [
     "output_scroll"
    ]
   },
   "outputs": [],
   "source": [
    "stack_sort(hand)"
   ]
  }
 ],
 "metadata": {
  "jupytext": {
   "formats": "md:myst",
   "text_representation": {
    "extension": ".md",
    "format_name": "myst"
   }
  },
  "kernelspec": {
   "display_name": "Python 3",
   "language": "python",
   "name": "python3"
  },
  "source_map": [
   11,
   73,
   76,
   80,
   83,
   88,
   91,
   115,
   117,
   122,
   125,
   129,
   136,
   140,
   142,
   146,
   151,
   166,
   172,
   179,
   185,
   190,
   197,
   202,
   204,
   210,
   217,
   221
  ]
 },
 "nbformat": 4,
 "nbformat_minor": 5
}