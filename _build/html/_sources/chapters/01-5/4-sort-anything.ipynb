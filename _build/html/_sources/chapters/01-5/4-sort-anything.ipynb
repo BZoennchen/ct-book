{
 "cells": [
  {
   "cell_type": "markdown",
   "id": "amateur-heath",
   "metadata": {},
   "source": [
    "# Allgemeines Sortieren in Python\n",
    "\n",
    "Wie könnten wir unsere Implementierung ändern, sodass wir alle möglichen Listen von vergleichbaren Elementen sortieren können?\n",
    "\n",
    "```{exercise} Allgemeines Sortieren in Python\n",
    "Ändern oder erweitern Sie Ihren Programmiercode um Listen bestehend aus Zahlen oder Karten zu sortieren.\n",
    "```\n",
    "\n",
    "Wir können den Vergleichsoperator ``is_smaller()`` als Argument übergeben!"
   ]
  },
  {
   "cell_type": "code",
   "execution_count": null,
   "id": "smart-museum",
   "metadata": {},
   "outputs": [],
   "source": [
    "def find_smallest_index(hand, is_smaller):\n",
    "    index = 0                                \n",
    "    for i in range(len(hand)):               \n",
    "        if is_smaller(hand[i], hand[index]): \n",
    "            index = i\n",
    "    return index\n",
    "\n",
    "def remove_smallest_card(hand, is_smaller):\n",
    "    i = find_smallest_index(hand, is_smaller)\n",
    "    card = hand[i]\n",
    "    del hand[i]\n",
    "    return card\n",
    "\n",
    "def stack_sort(hand, is_smaller):\n",
    "    stack = [];                          \n",
    "    while len(hand) > 0:                 \n",
    "        card = remove_smallest_card(hand, is_smaller)\n",
    "        stack.append(card)\n",
    "    return stack\n",
    "\n",
    "def is_smaller(card1, card2):\n",
    "    i = index_of(card1) \n",
    "    j = index_of(card2) \n",
    "    return i < j\n",
    "\n",
    "def get_cards():\n",
    "    return ('6', '7', '8', '9', '10', 'Bube', 'Dame', 'König', 'Ass')\n",
    "\n",
    "def index_of(card):\n",
    "    cards = get_cards()\n",
    "    for index in range(len(cards)):\n",
    "        if cards[index] == card:\n",
    "            return index"
   ]
  },
  {
   "cell_type": "code",
   "execution_count": null,
   "id": "turned-saying",
   "metadata": {},
   "outputs": [],
   "source": [
    "hand = ['Bube', '6', 'Ass', '7', '9', '6']\n",
    "stack_sort(hand, is_smaller)"
   ]
  },
  {
   "cell_type": "code",
   "execution_count": null,
   "id": "regular-programming",
   "metadata": {},
   "outputs": [],
   "source": [
    "numbers = [-33, -22, 123, 1, 13, 533, -23, 124]\n",
    "stack_sort(numbers, lambda a, b: a < b)"
   ]
  },
  {
   "cell_type": "markdown",
   "id": "identical-apartment",
   "metadata": {},
   "source": [
    "Lassen Sie sich von dem Ausdruck"
   ]
  },
  {
   "cell_type": "code",
   "execution_count": null,
   "id": "olive-footwear",
   "metadata": {},
   "outputs": [],
   "source": [
    "lambda a,b : a < b"
   ]
  },
  {
   "cell_type": "markdown",
   "id": "homeless-border",
   "metadata": {},
   "source": [
    "nicht verwirren. \n",
    "Dieser Ausdruck definiert eine Funktion der wir keinen Namen geben.\n",
    "Diese nennen wir [anonyme Funktionen](sec-anonymous-function).\n",
    "Um solch eine Funktion nutzen zu können müssen wir sie entweder direkt als Argument weiterreichen oder sie in eine Variable speichern.\n",
    "\n",
    "Wir sparen uns damit ein paar Zeilen Code, da wir die definierte Funktion außerhalb des Aufrufs"
   ]
  },
  {
   "cell_type": "code",
   "execution_count": null,
   "id": "together-wagon",
   "metadata": {},
   "outputs": [],
   "source": [
    "numbers = [-33, -22, 123, 1, 13, 533, -23, 124]\n",
    "stack_sort(numbers, lambda a, b: a < b)"
   ]
  },
  {
   "cell_type": "markdown",
   "id": "irish-mumbai",
   "metadata": {},
   "source": [
    "nicht benötigen.\n",
    "Der folgende Code wäre äquivalent:"
   ]
  },
  {
   "cell_type": "code",
   "execution_count": null,
   "id": "sought-alberta",
   "metadata": {},
   "outputs": [],
   "source": [
    "numbers = [-33, -22, 123, 1, 13, 533, -23, 124]\n",
    "def is_smaller_numbers(a, b):\n",
    "    return a < b\n",
    "\n",
    "stack_sort(numbers, is_smaller_numbers)"
   ]
  }
 ],
 "metadata": {
  "jupytext": {
   "formats": "md:myst",
   "text_representation": {
    "extension": ".md",
    "format_name": "myst"
   }
  },
  "kernelspec": {
   "display_name": "Python 3",
   "language": "python",
   "name": "python3"
  },
  "source_map": [
   11,
   23,
   59,
   64,
   67,
   71,
   73,
   82,
   85,
   90
  ]
 },
 "nbformat": 4,
 "nbformat_minor": 5
}