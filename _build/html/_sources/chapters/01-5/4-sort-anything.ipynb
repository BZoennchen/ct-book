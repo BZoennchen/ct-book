{
 "cells": [
  {
   "cell_type": "markdown",
   "id": "75708544",
   "metadata": {},
   "source": [
    "# Allgemeines Sortieren in Python\n",
    "\n",
    "Wie könnten wir unsere Implementierung ändern, sodass wir alle möglichen Listen von vergleichbaren Elementen sortieren können?\n",
    "\n",
    "```{exercise} Allgemeines Sortieren in Python\n",
    "Ändern oder erweitern Sie Ihren Programmiercode um Listen bestehend aus Zahlen oder Karten zu sortieren.\n",
    "```\n",
    "\n",
    "Wir können den Vergleichsoperator ``is_smaller`` als Argument übergeben!\n",
    "Beachten Sie dass wir eine Funktion und keine reinen Daten übergeben."
   ]
  },
  {
   "cell_type": "code",
   "execution_count": 1,
   "id": "20247268",
   "metadata": {},
   "outputs": [],
   "source": [
    "def stack_sort(hand, is_smaller):\n",
    "    stack = [];                          \n",
    "    while len(hand) > 0:                 \n",
    "        card = remove_smallest_card(hand, is_smaller)\n",
    "        stack.append(card)\n",
    "    return stack\n",
    "\n",
    "def remove_smallest_card(hand, is_smaller):\n",
    "    i = find_smallest_index(hand, is_smaller)\n",
    "    card = hand[i]\n",
    "    del hand[i]\n",
    "    return card\n",
    "\n",
    "def find_smallest_index(hand, is_smaller):\n",
    "    index = 0                                \n",
    "    for i in range(len(hand)):               \n",
    "        if is_smaller(hand[i], hand[index]): \n",
    "            index = i\n",
    "    return index"
   ]
  },
  {
   "cell_type": "markdown",
   "id": "95653213",
   "metadata": {},
   "source": [
    "Den restlichen Code haben wir nicht verändert."
   ]
  },
  {
   "cell_type": "code",
   "execution_count": 2,
   "id": "355bc04c",
   "metadata": {},
   "outputs": [],
   "source": [
    "def is_smaller(card1, card2):\n",
    "    i = index_of(card1) \n",
    "    j = index_of(card2) \n",
    "    return i < j\n",
    "\n",
    "def get_cards():\n",
    "    return ('6', '7', '8', '9', '10', 'Bube', 'Dame', 'König', 'Ass')\n",
    "\n",
    "def index_of(card):\n",
    "    cards = get_cards()\n",
    "    for index in range(len(cards)):\n",
    "        if cards[index] == card:\n",
    "            return index"
   ]
  },
  {
   "cell_type": "markdown",
   "id": "32115bb2",
   "metadata": {},
   "source": [
    "Mit dem richtigen Vergleichsoperator lassen sich noch immer Karten sortieren."
   ]
  },
  {
   "cell_type": "code",
   "execution_count": 3,
   "id": "2bede277",
   "metadata": {},
   "outputs": [
    {
     "data": {
      "text/plain": [
       "['6', '6', '7', '9', 'Bube', 'Ass']"
      ]
     },
     "execution_count": 3,
     "metadata": {},
     "output_type": "execute_result"
    }
   ],
   "source": [
    "hand = ['Bube', '6', 'Ass', '7', '9', '6']\n",
    "stack_sort(hand, is_smaller)"
   ]
  },
  {
   "cell_type": "markdown",
   "id": "760b499c",
   "metadata": {},
   "source": [
    "Mit einem anderen Vergleichsoperator lassen sich noch immer Zahlen sortieren."
   ]
  },
  {
   "cell_type": "code",
   "execution_count": 4,
   "id": "91fce3b9",
   "metadata": {},
   "outputs": [
    {
     "data": {
      "text/plain": [
       "[-33, -23, -22, 1, 13, 123, 124, 533]"
      ]
     },
     "execution_count": 4,
     "metadata": {},
     "output_type": "execute_result"
    }
   ],
   "source": [
    "numbers = [-33, -22, 123, 1, 13, 533, -23, 124]\n",
    "def is_smaller_number(a, b):\n",
    "    return a < b\n",
    "\n",
    "stack_sort(numbers, is_smaller_number)"
   ]
  }
 ],
 "metadata": {
  "jupytext": {
   "formats": "md:myst",
   "text_representation": {
    "extension": ".md",
    "format_name": "myst"
   }
  },
  "kernelspec": {
   "display_name": "Python 3",
   "language": "python",
   "name": "python3"
  },
  "language_info": {
   "codemirror_mode": {
    "name": "ipython",
    "version": 3
   },
   "file_extension": ".py",
   "mimetype": "text/x-python",
   "name": "python",
   "nbconvert_exporter": "python",
   "pygments_lexer": "ipython3",
   "version": "3.11.4"
  },
  "source_map": [
   11,
   24,
   44,
   48,
   62,
   66,
   69,
   73
  ]
 },
 "nbformat": 4,
 "nbformat_minor": 5
}