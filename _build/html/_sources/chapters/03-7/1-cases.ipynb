{
 "cells": [
  {
   "cell_type": "markdown",
   "id": "important-consumer",
   "metadata": {},
   "source": [
    "(sec-cases)=\n",
    "# Fallunterscheidungen\n",
    "\n",
    "Für eine Fallunterscheidung können wir für jeden Fall $i$ einen bestimmten Codeblock $B_i$ definieren.\n",
    "Dieser wird genau dann ausgeführt sofern ein logischer Ausdruck $P_i$ wahr, d.h. ``True`` ergibt und kein anderer logischer Ausdruck $P_j$ für $j < i$ bereits ``True`` ergeben hat.\n",
    "In anderen Worten, der Fall $i$ trifft zu und kein Fall davor ist eingetreten.\n",
    "\n",
    "Damit wird bei eine Fallunterscheidung **höchstens** einer der Codeblöcke $B_0, \\ldots, B_n$ ausgeführt!\n",
    "Trifft keiner der Fälle zu, d.h. kein $P_i$ ergibt ``True`` und es ist kein Alternativfall (``else``) definiert, so wird keiner der Codeblöcke ausgeführt.\n",
    "Eine Fallunterscheidung beginnt immer mit dem ``if``-Signalwort!\n",
    "\n",
    "## ``if``\n",
    "\n",
    "Die einfachste Form der Fallunterscheidung prüft ob ein logischer Ausdruck $P_0$ eingetreten.\n",
    "Nur wenn dies zutrifft, wird der Codeblock $B_0$ ausgeführt:\n",
    "\n",
    "```python\n",
    "if P0:\n",
    "    B0\n",
    "```"
   ]
  },
  {
   "cell_type": "code",
   "execution_count": 1,
   "id": "mexican-johns",
   "metadata": {},
   "outputs": [
    {
     "name": "stdout",
     "output_type": "stream",
     "text": [
      "x: 3\n"
     ]
    }
   ],
   "source": [
    "x = 2\n",
    "\n",
    "if x <= 2:\n",
    "    x += 1\n",
    "    print(f'x: {x}')"
   ]
  },
  {
   "cell_type": "markdown",
   "id": "mexican-modeling",
   "metadata": {},
   "source": [
    "## ``if``-``else``\n",
    "\n",
    "In der nächsten Variante wird ein Codeblock $B_0$ nur dann ausgeführt, sofern ein logischer Ausdruck $P_0$ ``True`` ergibt.\n",
    "Ist dies nicht der Fall, so wird ein Alternativblock (``else``) $B_1$ ausgeführt.\n",
    "\n",
    "```python\n",
    "if P0:\n",
    "    B0\n",
    "else:\n",
    "    B1\n",
    "```"
   ]
  },
  {
   "cell_type": "code",
   "execution_count": 2,
   "id": "liked-shopping",
   "metadata": {},
   "outputs": [
    {
     "name": "stdout",
     "output_type": "stream",
     "text": [
      "x: 3\n",
      "3\n"
     ]
    }
   ],
   "source": [
    "x = 2\n",
    "\n",
    "if x <= 2:\n",
    "    x += 1\n",
    "    print(f'x: {x}')\n",
    "else:\n",
    "    print(f'x > 2')\n",
    "print(x)"
   ]
  },
  {
   "cell_type": "markdown",
   "id": "republican-rocket",
   "metadata": {},
   "source": [
    "## ``if``-``elif``\n",
    "\n",
    "In der nächsten Variante wird höchstens ein Codeblock $B_i$ nur dann ausgeführt, sofern ein logischer Ausdruck $P_i$ ``True`` ergibt.\n",
    "Gibt es mehr als einen logischen Ausdruck $P_i$ welcher ``True`` ergibt, so wird der erste Codeblock (der mit dem kleinsten $i$) ausgeführt.\n",
    "\n",
    "```python\n",
    "if P0:\n",
    "    B0\n",
    "elif P1:\n",
    "    B1\n",
    "elif P2\n",
    "    B2\n",
    "...\n",
    "```"
   ]
  },
  {
   "cell_type": "code",
   "execution_count": 3,
   "id": "adequate-frederick",
   "metadata": {},
   "outputs": [
    {
     "name": "stdout",
     "output_type": "stream",
     "text": [
      "x <= 2\n",
      "3\n"
     ]
    }
   ],
   "source": [
    "x = 2\n",
    "\n",
    "if x <= 2:\n",
    "    print(f'x <= 2')\n",
    "    x += 1\n",
    "elif x <= 5:\n",
    "    print(f'x <= 5')\n",
    "    x += 2\n",
    "elif x <= 6:\n",
    "    print(f'x <= 4')\n",
    "    x += 6\n",
    "print(x)"
   ]
  },
  {
   "cell_type": "markdown",
   "id": "smaller-multimedia",
   "metadata": {},
   "source": [
    "## ``if``-``elif``-``else``\n",
    "\n",
    "In der nächsten Variante wird genau ein Codeblock $B_i$ nur dann ausgeführt, sofern ein logischer Ausdruck $P_i$ ``True`` ergibt. Gibt es mehr als einen logischen Ausdruck $P_i$ welcher ``True`` ergibt, so wird der erste Codeblock (der mit dem kleinsten $i$) ausgeführt.\n",
    "Trifft kein Fall zu, wird der Alternativblock $B_n$ ausgeführt.\n",
    "\n",
    "```python\n",
    "if P0:\n",
    "    B0\n",
    "elif P1:\n",
    "    B1\n",
    "elif P2\n",
    "    B2\n",
    "...\n",
    "else:\n",
    "    Bn\n",
    "```"
   ]
  },
  {
   "cell_type": "code",
   "execution_count": 4,
   "id": "running-korean",
   "metadata": {},
   "outputs": [
    {
     "name": "stdout",
     "output_type": "stream",
     "text": [
      "x <= 2\n",
      "3\n"
     ]
    }
   ],
   "source": [
    "x = 2\n",
    "\n",
    "if x <= 2:\n",
    "    print(f'x <= 2')\n",
    "    x += 1\n",
    "elif x <= 5:\n",
    "    print(f'x <= 5')\n",
    "    x += 2\n",
    "elif x <= 7:\n",
    "    print(f'x <= 7')\n",
    "    x += 10\n",
    "else:\n",
    "    print(f'x > 2 and x > 5 and x > 7')\n",
    "    x = 2   \n",
    "print(x)"
   ]
  },
  {
   "cell_type": "markdown",
   "id": "cardiac-thesis",
   "metadata": {},
   "source": [
    "## ``if``-``if``-``else``\n",
    "\n",
    "Aufeinanderfolgende ``if``-Statements sind nicht eine sondern mehrere Fallunterscheidungen, denn jedes ``if``-Statement leitet eine neue Fallunterscheidung ein!"
   ]
  },
  {
   "cell_type": "code",
   "execution_count": 5,
   "id": "active-justice",
   "metadata": {},
   "outputs": [
    {
     "name": "stdout",
     "output_type": "stream",
     "text": [
      "x <= 2\n",
      "x <= 5\n",
      "x <= 7\n",
      "15\n"
     ]
    }
   ],
   "source": [
    "x = 2\n",
    "\n",
    "if x <= 2:\n",
    "    print(f'x <= 2')\n",
    "    x += 1\n",
    "if x <= 5:\n",
    "    print(f'x <= 5')\n",
    "    x += 2\n",
    "if x <= 7:\n",
    "    print(f'x <= 7')\n",
    "    x += 10\n",
    "else:\n",
    "    print(f'x > 2 and x > 5 and x > 7')\n",
    "    x = 2   \n",
    "print(x)"
   ]
  },
  {
   "cell_type": "markdown",
   "id": "activated-mentor",
   "metadata": {},
   "source": [
    "```{admonition} Aufeinander folgende Fallunterscheidungen\n",
    ":class: hint\n",
    "Es ist zu empfehlen aufeinanderfolgende ``if``-Statements durch eine Leerzeile zu trennen.\n",
    "```"
   ]
  },
  {
   "cell_type": "code",
   "execution_count": 6,
   "id": "weighted-milton",
   "metadata": {},
   "outputs": [
    {
     "name": "stdout",
     "output_type": "stream",
     "text": [
      "x <= 2\n",
      "x <= 5\n",
      "x <= 7\n",
      "15\n"
     ]
    }
   ],
   "source": [
    "x = 2\n",
    "\n",
    "if x <= 2:\n",
    "    print(f'x <= 2')\n",
    "    x += 1\n",
    "    \n",
    "if x <= 5:\n",
    "    print(f'x <= 5')\n",
    "    x += 2\n",
    "    \n",
    "if x <= 7:\n",
    "    print(f'x <= 7')\n",
    "    x += 10\n",
    "else:\n",
    "    print(f'x > 2 and x > 5 and x > 7')\n",
    "    x = 2   \n",
    "print(x)"
   ]
  },
  {
   "cell_type": "markdown",
   "id": "detailed-wellington",
   "metadata": {},
   "source": [
    "## Verschachtelung\n",
    "\n",
    "Selbstverständlich kann ein Codeblock $B_i$ erneut eine oder mehrere Fallunterscheidungen enthalten.\n",
    "Und selbstverständlich können wir Fallunterscheidungen in Funktionen einbauen."
   ]
  },
  {
   "cell_type": "code",
   "execution_count": 7,
   "id": "accessible-distribution",
   "metadata": {},
   "outputs": [
    {
     "name": "stdout",
     "output_type": "stream",
     "text": [
      "4\n",
      "1\n",
      "3\n",
      "0\n"
     ]
    }
   ],
   "source": [
    "def nested_branching(x, y):\n",
    "    if x > 2:\n",
    "        if y < 2:\n",
    "            out = x + y\n",
    "        else:\n",
    "            out = x - y\n",
    "    else:\n",
    "        if y > 2:\n",
    "            out = x * y\n",
    "        else:\n",
    "            out = 0\n",
    "    return out\n",
    "\n",
    "print(nested_branching(3, 1))\n",
    "print(nested_branching(3, 2))\n",
    "print(nested_branching(1, 3))\n",
    "print(nested_branching(1, 1))"
   ]
  },
  {
   "cell_type": "markdown",
   "id": "resident-forest",
   "metadata": {},
   "source": [
    "Wir können häufig verschachtelte Fallunterscheidungen auflösen. Zum Beispiel können wir die Funktion auch wie folgt definieren:"
   ]
  },
  {
   "cell_type": "code",
   "execution_count": 8,
   "id": "broad-arctic",
   "metadata": {},
   "outputs": [
    {
     "name": "stdout",
     "output_type": "stream",
     "text": [
      "4\n",
      "1\n",
      "3\n",
      "0\n"
     ]
    }
   ],
   "source": [
    "def nested_branching(x, y):\n",
    "    if x > 2 and y < 2:\n",
    "        out = x + y\n",
    "    elif x > 2:\n",
    "        out = x - y\n",
    "    elif x <= 2 and y > 2:\n",
    "        out = x * y\n",
    "    else:\n",
    "        out = 0\n",
    "    return out\n",
    "\n",
    "print(nested_branching(3, 1))\n",
    "print(nested_branching(3, 2))\n",
    "print(nested_branching(1, 3))\n",
    "print(nested_branching(1, 1))"
   ]
  },
  {
   "cell_type": "markdown",
   "id": "damaged-break",
   "metadata": {},
   "source": [
    "Es ist eine Frage der **Lesbarkeit**, welche Variante besser ist. \n",
    "In der zweiten Version haben wir zwar eine niedrigere Verschachtellung, allerdings sehen wir nicht sofort, dass die ersten Fälle \n",
    "\n",
    "```python\n",
    "if x > 2 and y < 2:\n",
    "        out = x + y\n",
    "elif x > 2:\n",
    "    out = x - y\n",
    "...\n",
    "```\n",
    "\n",
    "und die beiden letzten Teile\n",
    "\n",
    "```python\n",
    "...\n",
    "elif x <= 2 and y > 2:\n",
    "    out = x * y\n",
    "else:\n",
    "    out = 0\n",
    "```\n",
    "\n",
    "eine Entweder-Oder-Beziehung besitzen. \n",
    "Zudem haben wir zweimal den logischen Ausdruck ``x > 2``.\n",
    "\n",
    "Einen Block der Art:\n",
    "\n",
    "```python\n",
    "if P0:\n",
    "    if P1:\n",
    "        if P2:\n",
    "            if P3:\n",
    "                ...\n",
    "```\n",
    "\n",
    "lässt sich immer in \n",
    "\n",
    "```python\n",
    "if P0 and P1 and P2 and P3 ...:\n",
    "```\n",
    "\n",
    "umwandeln.\n",
    "\n",
    "## Schnellschreibweise\n",
    "\n",
    "``Python`` erlaubt es uns einen Ausdruck der Form\n",
    "\n",
    "```python\n",
    "if P0:\n",
    "    x = A0\n",
    "else:\n",
    "    x = A1\n",
    "```\n",
    "\n",
    "als \n",
    "\n",
    "```python\n",
    "x = A0 if P0 else A1\n",
    "````\n",
    "\n",
    "zu schreiben."
   ]
  },
  {
   "cell_type": "code",
   "execution_count": 9,
   "id": "atomic-language",
   "metadata": {},
   "outputs": [
    {
     "data": {
      "text/plain": [
       "0"
      ]
     },
     "execution_count": 9,
     "metadata": {},
     "output_type": "execute_result"
    }
   ],
   "source": [
    "y = 12\n",
    "x = 0 if y % 2 == 0 else 1\n",
    "x"
   ]
  },
  {
   "cell_type": "markdown",
   "id": "coordinated-colleague",
   "metadata": {},
   "source": [
    "Diese Schreibweise lässt sich gut mit sog. [Comprehension](sec-comprehension) verbinden:"
   ]
  },
  {
   "cell_type": "code",
   "execution_count": 10,
   "id": "accomplished-ukraine",
   "metadata": {},
   "outputs": [
    {
     "name": "stdout",
     "output_type": "stream",
     "text": [
      "numbers: [0, 1, 2, 3, 4, 5, 6, 7, 8, 9]\n",
      "even: [True, False, True, False, True, False, True, False, True, False]\n"
     ]
    }
   ],
   "source": [
    "numbers = list(range(10))\n",
    "even = [True if x % 2 == 0 else False for x in numbers]\n",
    "print(f'numbers: {numbers}')\n",
    "print(f'even: {even}')"
   ]
  },
  {
   "cell_type": "markdown",
   "id": "fuzzy-gasoline",
   "metadata": {},
   "source": [
    "## Beispiel (quadratische Gleichungen)\n",
    "\n",
    "Sei $f(x) = ax^2 + bx + c$ mit konstanten Zahlen $a, b, c \\in \\mathbb{R}$. Wir wissen, dass f(r) = 0 für\n",
    "\n",
    "$$x_{1,2} = \\frac{-b \\pm \\sqrt{b^2 - 4ac}}{2a}$$\n",
    "\n",
    "sofern $b^2 - 4ac >= 0$.\n",
    "Lassen Sie uns eine Funktion ``solve_quadratic(a, b, c)`` entwerfen, welche uns alle $x_{1,2}$ berechnet. (Es gibt eine, zwei oder keine Lösung).\n",
    "\n",
    "Lassen Sie uns als erstes eine Funktion entwerfen, die testet ob eine Fließkommazahl annähernd gleich null ist.\n",
    "Beachten Sie: Fließkommazahlen sind lediglich eine Annäherung des echten Wertes und damit ist der exakte Vergleich ``==`` ungeeignet.\n",
    "Stattdessen ist unsere Fließkommazahl ``x`` gleich null, falls sie annähernd gleich null ist."
   ]
  },
  {
   "cell_type": "code",
   "execution_count": 11,
   "id": "characteristic-banner",
   "metadata": {},
   "outputs": [],
   "source": [
    "def is_zero(x):\n",
    "    epsilon = 1.0e-12\n",
    "    return -epsilon < x < 1.0e-12"
   ]
  },
  {
   "cell_type": "markdown",
   "id": "experimental-chapter",
   "metadata": {},
   "source": [
    "Lassen Sie uns nun die quadratische Gleichung lösen.\n",
    "Dazu müssen wir lediglich die Formel für $r$ implementieren:"
   ]
  },
  {
   "cell_type": "code",
   "execution_count": 12,
   "id": "distant-baltimore",
   "metadata": {},
   "outputs": [],
   "source": [
    "def solve_quadratic(a, b, c):    \n",
    "    disc = b**2 - (4*a*c)\n",
    "            \n",
    "    # disc < 0 => no solution\n",
    "    if disc < 0:\n",
    "        return ()\n",
    "    \n",
    "    # disc == 0? => one solution\n",
    "    if is_zero(disc):\n",
    "        return -b / (2*a),\n",
    "    \n",
    "    # default case => 2 solutions\n",
    "    return (-b + disc) / (2*a), (-b - disc) / (2*a)"
   ]
  },
  {
   "cell_type": "markdown",
   "id": "complicated-might",
   "metadata": {},
   "source": [
    "Der Code scheint zur richtigen Lösung zu führen:"
   ]
  },
  {
   "cell_type": "code",
   "execution_count": 13,
   "id": "logical-gothic",
   "metadata": {},
   "outputs": [
    {
     "name": "stdout",
     "output_type": "stream",
     "text": [
      "solution for x^2 -4x + 1 = 0: (8.0, -4.0)\n",
      "solution for x^2 + x = 0: (0.0, -1.0)\n",
      "solution for x^2 = 0: (0.0,)\n"
     ]
    }
   ],
   "source": [
    "print(f'solution for x^2 -4x + 1 = 0: {solve_quadratic(1, -4, 1)}')\n",
    "print(f'solution for x^2 + x = 0: {solve_quadratic(1, 1, 0)}')\n",
    "print(f'solution for x^2 = 0: {solve_quadratic(1, 0, 0)}')"
   ]
  },
  {
   "cell_type": "markdown",
   "id": "manual-regular",
   "metadata": {},
   "source": [
    "Was passiert allerdings wenn ``a==0`` ist?"
   ]
  },
  {
   "cell_type": "code",
   "execution_count": 14,
   "id": "ruled-fraud",
   "metadata": {
    "tags": [
     "raises-exception"
    ]
   },
   "outputs": [
    {
     "ename": "ZeroDivisionError",
     "evalue": "division by zero",
     "output_type": "error",
     "traceback": [
      "\u001b[0;31m---------------------------------------------------------------------------\u001b[0m",
      "\u001b[0;31mZeroDivisionError\u001b[0m                         Traceback (most recent call last)",
      "\u001b[0;32m<ipython-input-14-6c6e15e0c825>\u001b[0m in \u001b[0;36m<module>\u001b[0;34m\u001b[0m\n\u001b[0;32m----> 1\u001b[0;31m \u001b[0mprint\u001b[0m\u001b[0;34m(\u001b[0m\u001b[0;34mf'solution for -4x + 1 = 0: {solve_quadratic(0, -4, 1)}'\u001b[0m\u001b[0;34m)\u001b[0m\u001b[0;34m\u001b[0m\u001b[0;34m\u001b[0m\u001b[0m\n\u001b[0m",
      "\u001b[0;32m<ipython-input-12-b7d31f4169b0>\u001b[0m in \u001b[0;36msolve_quadratic\u001b[0;34m(a, b, c)\u001b[0m\n\u001b[1;32m     11\u001b[0m \u001b[0;34m\u001b[0m\u001b[0m\n\u001b[1;32m     12\u001b[0m     \u001b[0;31m# default case => 2 solutions\u001b[0m\u001b[0;34m\u001b[0m\u001b[0;34m\u001b[0m\u001b[0m\n\u001b[0;32m---> 13\u001b[0;31m     \u001b[0;32mreturn\u001b[0m \u001b[0;34m(\u001b[0m\u001b[0;34m-\u001b[0m\u001b[0mb\u001b[0m \u001b[0;34m+\u001b[0m \u001b[0mdisc\u001b[0m\u001b[0;34m)\u001b[0m \u001b[0;34m/\u001b[0m \u001b[0;34m(\u001b[0m\u001b[0;36m2\u001b[0m\u001b[0;34m*\u001b[0m\u001b[0ma\u001b[0m\u001b[0;34m)\u001b[0m\u001b[0;34m,\u001b[0m \u001b[0;34m(\u001b[0m\u001b[0;34m-\u001b[0m\u001b[0mb\u001b[0m \u001b[0;34m-\u001b[0m \u001b[0mdisc\u001b[0m\u001b[0;34m)\u001b[0m \u001b[0;34m/\u001b[0m \u001b[0;34m(\u001b[0m\u001b[0;36m2\u001b[0m\u001b[0;34m*\u001b[0m\u001b[0ma\u001b[0m\u001b[0;34m)\u001b[0m\u001b[0;34m\u001b[0m\u001b[0;34m\u001b[0m\u001b[0m\n\u001b[0m",
      "\u001b[0;31mZeroDivisionError\u001b[0m: division by zero"
     ]
    }
   ],
   "source": [
    "print(f'solution for -4x + 1 = 0: {solve_quadratic(0, -4, 1)}')"
   ]
  },
  {
   "cell_type": "markdown",
   "id": "traditional-organizer",
   "metadata": {},
   "source": [
    "In diesem Fall teilen wir durch null und erhalten (zum Glück) einen Fehler.\n",
    "Sofern ``a==0`` gilt müssen wir die lineare Gleichung \n",
    "\n",
    "$$bx + c = 0 \\Rightarrow x = c/b$$\n",
    "\n",
    "lösen.\n",
    "Hier wartet ein weiterer Sonderfall für ``b==0``!\n",
    "In diesem Fall gibt es kein Ergebnis sofern ``c != 0``, andernfalls gibt es unendlich viele Lösungen.\n",
    "Nutzen wir die Fallunterscheidung um all diese Sonderfälle abzudecken:"
   ]
  },
  {
   "cell_type": "code",
   "execution_count": 15,
   "id": "artistic-trial",
   "metadata": {},
   "outputs": [],
   "source": [
    "def solve_quadratic(a, b, c):\n",
    "    \"\"\"\"\n",
    "    solves the quadratic equation ax^2 + bx + c = 0.\n",
    "    a == b == c == 0 is not allowed!\n",
    "    \"\"\"\n",
    "    \n",
    "    disc = b**2 - (4*a*c)\n",
    "    epsilon = 1.0e-12\n",
    "    \n",
    "    # a == 0? => line => one or none solution\n",
    "    if is_zero(a):\n",
    "        # b == 0? \n",
    "        if is_zero(b):\n",
    "            # c == 0 => infinitely many solutions\n",
    "            if is_zero(c):\n",
    "                raise AttributeError('Invalid arguments a == b == c == 0! This quadratic equation has infinitely many solutions.')\n",
    "            else:\n",
    "                return ()\n",
    "        else:\n",
    "            return -c/b,\n",
    "        \n",
    "    # disc < 0 => no solution\n",
    "    if disc < 0:\n",
    "        return ()\n",
    "    \n",
    "    # disc == 0? => one solution\n",
    "    if is_zero(disc):\n",
    "        return -b / (2*a),\n",
    "    \n",
    "    # default case => 2 solutions\n",
    "    return (-b + disc) / (2*a), (-b - disc) / (2*a)"
   ]
  },
  {
   "cell_type": "code",
   "execution_count": 16,
   "id": "floating-shaft",
   "metadata": {},
   "outputs": [
    {
     "name": "stdout",
     "output_type": "stream",
     "text": [
      "solution for x^2 -4x + 1 = 0: (8.0, -4.0)\n",
      "solution for x^2 + x = 0: (0.0, -1.0)\n",
      "solution for x^2 = 0: (0.0,)\n",
      "solution for -4x + 1 = 0: (0.25,)\n",
      "solution for 1 = 0: ()\n"
     ]
    }
   ],
   "source": [
    "print(f'solution for x^2 -4x + 1 = 0: {solve_quadratic(1, -4, 1)}')\n",
    "print(f'solution for x^2 + x = 0: {solve_quadratic(1, 1, 0)}')\n",
    "print(f'solution for x^2 = 0: {solve_quadratic(1, 0, 0)}')\n",
    "print(f'solution for -4x + 1 = 0: {solve_quadratic(0, -4, 1)}')\n",
    "print(f'solution for 1 = 0: {solve_quadratic(0, 0, 1)}')"
   ]
  },
  {
   "cell_type": "code",
   "execution_count": 17,
   "id": "disabled-islam",
   "metadata": {
    "tags": [
     "raises-exception"
    ]
   },
   "outputs": [
    {
     "ename": "AttributeError",
     "evalue": "Invalid arguments a == b == c == 0! This quadratic equation has infinitely many solutions.",
     "output_type": "error",
     "traceback": [
      "\u001b[0;31m---------------------------------------------------------------------------\u001b[0m",
      "\u001b[0;31mAttributeError\u001b[0m                            Traceback (most recent call last)",
      "\u001b[0;32m<ipython-input-17-055e6f16b212>\u001b[0m in \u001b[0;36m<module>\u001b[0;34m\u001b[0m\n\u001b[0;32m----> 1\u001b[0;31m \u001b[0mprint\u001b[0m\u001b[0;34m(\u001b[0m\u001b[0;34mf'solution for 0 = 0: {solve_quadratic(0, 0, 0)}'\u001b[0m\u001b[0;34m)\u001b[0m\u001b[0;34m\u001b[0m\u001b[0;34m\u001b[0m\u001b[0m\n\u001b[0m",
      "\u001b[0;32m<ipython-input-15-e1da46de2022>\u001b[0m in \u001b[0;36msolve_quadratic\u001b[0;34m(a, b, c)\u001b[0m\n\u001b[1;32m     14\u001b[0m             \u001b[0;31m# c == 0 => infinitely many solutions\u001b[0m\u001b[0;34m\u001b[0m\u001b[0;34m\u001b[0m\u001b[0m\n\u001b[1;32m     15\u001b[0m             \u001b[0;32mif\u001b[0m \u001b[0mis_zero\u001b[0m\u001b[0;34m(\u001b[0m\u001b[0mc\u001b[0m\u001b[0;34m)\u001b[0m\u001b[0;34m:\u001b[0m\u001b[0;34m\u001b[0m\u001b[0;34m\u001b[0m\u001b[0m\n\u001b[0;32m---> 16\u001b[0;31m                 \u001b[0;32mraise\u001b[0m \u001b[0mAttributeError\u001b[0m\u001b[0;34m(\u001b[0m\u001b[0;34m'Invalid arguments a == b == c == 0! This quadratic equation has infinitely many solutions.'\u001b[0m\u001b[0;34m)\u001b[0m\u001b[0;34m\u001b[0m\u001b[0;34m\u001b[0m\u001b[0m\n\u001b[0m\u001b[1;32m     17\u001b[0m             \u001b[0;32melse\u001b[0m\u001b[0;34m:\u001b[0m\u001b[0;34m\u001b[0m\u001b[0;34m\u001b[0m\u001b[0m\n\u001b[1;32m     18\u001b[0m                 \u001b[0;32mreturn\u001b[0m \u001b[0;34m(\u001b[0m\u001b[0;34m)\u001b[0m\u001b[0;34m\u001b[0m\u001b[0;34m\u001b[0m\u001b[0m\n",
      "\u001b[0;31mAttributeError\u001b[0m: Invalid arguments a == b == c == 0! This quadratic equation has infinitely many solutions."
     ]
    }
   ],
   "source": [
    "print(f'solution for 0 = 0: {solve_quadratic(0, 0, 0)}')"
   ]
  }
 ],
 "metadata": {
  "jupytext": {
   "formats": "md:myst",
   "text_representation": {
    "extension": ".md",
    "format_name": "myst"
   }
  },
  "kernelspec": {
   "display_name": "Python 3",
   "language": "python",
   "name": "python3"
  },
  "language_info": {
   "codemirror_mode": {
    "name": "ipython",
    "version": 3
   },
   "file_extension": ".py",
   "mimetype": "text/x-python",
   "name": "python",
   "nbconvert_exporter": "python",
   "pygments_lexer": "ipython3",
   "version": "3.9.8"
  },
  "source_map": [
   11,
   34,
   40,
   54,
   63,
   80,
   93,
   112,
   128,
   134,
   150,
   157,
   175,
   182,
   200,
   204,
   220,
   283,
   287,
   291,
   296,
   311,
   315,
   320,
   334,
   338,
   342,
   346,
   351,
   363,
   397,
   405
  ]
 },
 "nbformat": 4,
 "nbformat_minor": 5
}