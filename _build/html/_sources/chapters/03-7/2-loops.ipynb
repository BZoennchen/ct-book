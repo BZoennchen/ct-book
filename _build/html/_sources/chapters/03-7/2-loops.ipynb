{
 "cells": [
  {
   "cell_type": "markdown",
   "id": "modern-springer",
   "metadata": {},
   "source": [
    "(sec-loops)=\n",
    "# Schleifen\n",
    "\n",
    "Viele Aufgaben, die wir über unser Leben hinweg verrichten sind langweilig, da wir immer und immer wieder die gleichen Basisschritte wiederholen müssen. \n",
    "\n",
    "Nehmen Sie nur das Nachschlagen einer Telefonnummer im Telefonbuch (falls Sie so etwas überhaupt noch kennen). Wir gehen dabei Seite für Seite durch und suchen nach einem bestimmten Namen - langweilig ...\n",
    "\n",
    "Auch ganz alltägliche Dinge wie der Abwasch, Zähneputzen, Kochen, ja nahezu jede Aktion beinhaltet die eine oder andere Art der Wiederholung.\n",
    "\n",
    "Wie sich gezeigt hat, können wir interessanterweise durch diese langweiligen Wiederholungen ganz erstaunliche Dinge vollbringen. **Wiederholung ist die Grundlage aller Berechnung.**\n",
    "\n",
    "## Motivation\n",
    "\n",
    "Lassen Sie uns einmal auf unseren Roboter blicken.\n",
    "Dieser bewegt sich auf einem Gitter.\n",
    "Jeder Gitterpunkt ist entweder begehbar oder durch ein Hindernis belegt.\n",
    "Der Roboter kann nur nach Vorne laufen und sich nach links um 90 Grad drehen.\n",
    "Eine genauere Beschreibung des Roboters und seiner Welt finden Sie in der Übung [Roboterwelt](sec-robo-world).\n",
    "\n",
    "Die Folgende Welt enthält unseren Roboter (türkis), das Ziel (gelb), begehbare Zellen (lila) und unbegehbare Hindernisse (blau)."
   ]
  },
  {
   "cell_type": "code",
   "execution_count": 1,
   "id": "second-economy",
   "metadata": {},
   "outputs": [
    {
     "data": {
      "image/png": "[encoded data removed]",
      "text/plain": [
       "<Figure size 280x200 with 1 Axes>"
      ]
     },
     "execution_count": 1,
     "metadata": {
      "filenames": {
       "image/png": "/Users/bzoennchen/Development/workspaces/GitHub/ct-book/_build/jupyter_execute/chapters/03-7/2-loops_1_0.png"
      }
     },
     "output_type": "execute_result"
    }
   ],
   "source": [
    "import roboworld as rw\n",
    "\n",
    "world = rw.complex_maze(nrows=5, ncols=7)\n",
    "world.show()"
   ]
  },
  {
   "cell_type": "markdown",
   "id": "sweet-senator",
   "metadata": {},
   "source": [
    "Wir sollen nun einen Algorithmus entwerfen, welcher den Roboter zum Ziel führt (sofern dies möglich ist).\n",
    "Diese Aufgabe scheint überwältigend schwierig.\n",
    "Wir verwenden das ``random``-Modul um einen *fairen Münzwurf* zu simulieren.\n",
    "Zudem verwenden wir lediglich folgende Methoden des Roboters:\n",
    "+ ``turn_left()``\n",
    "+ ``is_wall_in_front()``\n",
    "+ ``move()``\n",
    "+ ``is_at_goal()``\n",
    "\n",
    "In wie vielen Zeilen Code können wir dieses Problem lösen?\n",
    "Durch das Potenzial der **Wiederholung** brauchen wir ca. 10 Zeilen Code!\n",
    "\n",
    "Zuerst definieren wir eine Funktion ``random_move(robo)`` welche den Roboter um einen zufälligen Nachbargitterpunkt bewegt (falls dies möglich ist)."
   ]
  },
  {
   "cell_type": "code",
   "execution_count": 2,
   "id": "biblical-primary",
   "metadata": {},
   "outputs": [],
   "source": [
    "import random as rnd\n",
    "\n",
    "def random_move(robo):\n",
    "    turns = rnd.choice([0,1,2,3])\n",
    "    for _ in range(turns):\n",
    "        robo.turn_left()\n",
    "    if not robo.is_wall_in_front():\n",
    "        robo.move()"
   ]
  },
  {
   "cell_type": "markdown",
   "id": "indirect-istanbul",
   "metadata": {},
   "source": [
    "Dann nutzten wir die Wiederholung und bewegen den Roboter immer weiter auf zufällige Nachbargitterpunkte bis er am Ziel angekommen ist:"
   ]
  },
  {
   "cell_type": "code",
   "execution_count": 3,
   "id": "suburban-aerospace",
   "metadata": {},
   "outputs": [],
   "source": [
    "robo = world.get_robo()\n",
    "robo.disable_print()\n",
    "while not robo.is_at_goal():\n",
    "    random_move(robo)"
   ]
  },
  {
   "cell_type": "markdown",
   "id": "arabic-basis",
   "metadata": {},
   "source": [
    "Lassen Sie uns die sog. *Zufallsfahrt* des Roboters ansehen:"
   ]
  },
  {
   "cell_type": "code",
   "execution_count": 4,
   "id": "adaptive-choir",
   "metadata": {},
   "outputs": [
    {
     "name": "stderr",
     "output_type": "stream",
     "text": [
      "MovieWriter imagemagick unavailable; using Pillow instead.\n"
     ]
    },
    {
     "data": {
      "text/html": [
       "\n",
       "<link rel=\"stylesheet\"\n",
       "href=\"https://maxcdn.bootstrapcdn.com/font-awesome/4.4.0/css/font-awesome.min.css\">\n",
       "<script language=\"javascript\">\n",
       "  function isInternetExplorer() {\n",
       "    ua = navigator.userAgent;\n",
       "    /* MSIE used to detect old browsers and Trident used to newer ones*/\n",
       "    return ua.indexOf(\"MSIE \") > -1 || ua.indexOf(\"Trident/\") > -1;\n",
       "  }\n",
       "\n",
       "  /* Define the Animation class */\n",
       "  function Animation(frames, img_id, slider_id, interval, loop_select_id){\n",
       "    this.img_id = img_id;\n",
       "    this.slider_id = slider_id;\n",
       "    this.loop_select_id = loop_select_id;\n",
       "    this.interval = interval;\n",
       "    this.current_frame = 0;\n",
       "    this.direction = 0;\n",
       "    this.timer = null;\n",
       "    this.frames = new Array(frames.length);\n",
       "\n",
       "    for (var i=0; i<frames.length; i++)\n",
       "    {\n",
       "     this.frames[i] = new Image();\n",
       "     this.frames[i].src = frames[i];\n",
       "    }\n",
       "    var slider = document.getElementById(this.slider_id);\n",
       "    slider.max = this.frames.length - 1;\n",
       "    if (isInternetExplorer()) {\n",
       "        // switch from oninput to onchange because IE <= 11 does not conform\n",
       "        // with W3C specification. It ignores oninput and onchange behaves\n",
       "        // like oninput. In contrast, Mircosoft Edge behaves correctly.\n",
       "        slider.setAttribute('onchange', slider.getAttribute('oninput'));\n",
       "        slider.setAttribute('oninput', null);\n",
       "    }\n",
       "    this.set_frame(this.current_frame);\n",
       "  }\n",
       "\n",
       "  Animation.prototype.get_loop_state = function(){\n",
       "    var button_group = document[this.loop_select_id].state;\n",
       "    for (var i = 0; i < button_group.length; i++) {\n",
       "        var button = button_group[i];\n",
       "        if (button.checked) {\n",
       "            return button.value;\n",
       "        }\n",
       "    }\n",
       "    return undefined;\n",
       "  }\n",
       "\n",
       "  Animation.prototype.set_frame = function(frame){\n",
       "    this.current_frame = frame;\n",
       "    document.getElementById(this.img_id).src =\n",
       "            this.frames[this.current_frame].src;\n",
       "    document.getElementById(this.slider_id).value = this.current_frame;\n",
       "  }\n",
       "\n",
       "  Animation.prototype.next_frame = function()\n",
       "  {\n",
       "    this.set_frame(Math.min(this.frames.length - 1, this.current_frame + 1));\n",
       "  }\n",
       "\n",
       "  Animation.prototype.previous_frame = function()\n",
       "  {\n",
       "    this.set_frame(Math.max(0, this.current_frame - 1));\n",
       "  }\n",
       "\n",
       "  Animation.prototype.first_frame = function()\n",
       "  {\n",
       "    this.set_frame(0);\n",
       "  }\n",
       "\n",
       "  Animation.prototype.last_frame = function()\n",
       "  {\n",
       "    this.set_frame(this.frames.length - 1);\n",
       "  }\n",
       "\n",
       "  Animation.prototype.slower = function()\n",
       "  {\n",
       "    this.interval /= 0.7;\n",
       "    if(this.direction > 0){this.play_animation();}\n",
       "    else if(this.direction < 0){this.reverse_animation();}\n",
       "  }\n",
       "\n",
       "  Animation.prototype.faster = function()\n",
       "  {\n",
       "    this.interval *= 0.7;\n",
       "    if(this.direction > 0){this.play_animation();}\n",
       "    else if(this.direction < 0){this.reverse_animation();}\n",
       "  }\n",
       "\n",
       "  Animation.prototype.anim_step_forward = function()\n",
       "  {\n",
       "    this.current_frame += 1;\n",
       "    if(this.current_frame < this.frames.length){\n",
       "      this.set_frame(this.current_frame);\n",
       "    }else{\n",
       "      var loop_state = this.get_loop_state();\n",
       "      if(loop_state == \"loop\"){\n",
       "        this.first_frame();\n",
       "      }else if(loop_state == \"reflect\"){\n",
       "        this.last_frame();\n",
       "        this.reverse_animation();\n",
       "      }else{\n",
       "        this.pause_animation();\n",
       "        this.last_frame();\n",
       "      }\n",
       "    }\n",
       "  }\n",
       "\n",
       "  Animation.prototype.anim_step_reverse = function()\n",
       "  {\n",
       "    this.current_frame -= 1;\n",
       "    if(this.current_frame >= 0){\n",
       "      this.set_frame(this.current_frame);\n",
       "    }else{\n",
       "      var loop_state = this.get_loop_state();\n",
       "      if(loop_state == \"loop\"){\n",
       "        this.last_frame();\n",
       "      }else if(loop_state == \"reflect\"){\n",
       "        this.first_frame();\n",
       "        this.play_animation();\n",
       "      }else{\n",
       "        this.pause_animation();\n",
       "        this.first_frame();\n",
       "      }\n",
       "    }\n",
       "  }\n",
       "\n",
       "  Animation.prototype.pause_animation = function()\n",
       "  {\n",
       "    this.direction = 0;\n",
       "    if (this.timer){\n",
       "      clearInterval(this.timer);\n",
       "      this.timer = null;\n",
       "    }\n",
       "  }\n",
       "\n",
       "  Animation.prototype.play_animation = function()\n",
       "  {\n",
       "    this.pause_animation();\n",
       "    this.direction = 1;\n",
       "    var t = this;\n",
       "    if (!this.timer) this.timer = setInterval(function() {\n",
       "        t.anim_step_forward();\n",
       "    }, this.interval);\n",
       "  }\n",
       "\n",
       "  Animation.prototype.reverse_animation = function()\n",
       "  {\n",
       "    this.pause_animation();\n",
       "    this.direction = -1;\n",
       "    var t = this;\n",
       "    if (!this.timer) this.timer = setInterval(function() {\n",
       "        t.anim_step_reverse();\n",
       "    }, this.interval);\n",
       "  }\n",
       "</script>\n",
       "\n",
       "<style>\n",
       ".animation {\n",
       "    display: inline-block;\n",
       "    text-align: center;\n",
       "}\n",
       "input[type=range].anim-slider {\n",
       "    width: 374px;\n",
       "    margin-left: auto;\n",
       "    margin-right: auto;\n",
       "}\n",
       ".anim-buttons {\n",
       "    margin: 8px 0px;\n",
       "}\n",
       ".anim-buttons button {\n",
       "    padding: 0;\n",
       "    width: 36px;\n",
       "}\n",
       ".anim-state label {\n",
       "    margin-right: 8px;\n",
       "}\n",
       ".anim-state input {\n",
       "    margin: 0;\n",
       "    vertical-align: middle;\n",
       "}\n",
       "</style>\n",
       "\n",
       "<div class=\"animation\">\n",
       "  <img id=\"_anim_imge0884320d55f4b3da910a711883b79cb\">\n",
       "  <div class=\"anim-controls\">\n",
       "    <input id=\"_anim_slidere0884320d55f4b3da910a711883b79cb\" type=\"range\" class=\"anim-slider\"\n",
       "           name=\"points\" min=\"0\" max=\"1\" step=\"1\" value=\"0\"\n",
       "           oninput=\"anime0884320d55f4b3da910a711883b79cb.set_frame(parseInt(this.value));\"></input>\n",
       "    <div class=\"anim-buttons\">\n",
       "      <button title=\"Decrease speed\" onclick=\"anime0884320d55f4b3da910a711883b79cb.slower()\">\n",
       "          <i class=\"fa fa-minus\"></i></button>\n",
       "      <button title=\"First frame\" onclick=\"anime0884320d55f4b3da910a711883b79cb.first_frame()\">\n",
       "        <i class=\"fa fa-fast-backward\"></i></button>\n",
       "      <button title=\"Previous frame\" onclick=\"anime0884320d55f4b3da910a711883b79cb.previous_frame()\">\n",
       "          <i class=\"fa fa-step-backward\"></i></button>\n",
       "      <button title=\"Play backwards\" onclick=\"anime0884320d55f4b3da910a711883b79cb.reverse_animation()\">\n",
       "          <i class=\"fa fa-play fa-flip-horizontal\"></i></button>\n",
       "      <button title=\"Pause\" onclick=\"anime0884320d55f4b3da910a711883b79cb.pause_animation()\">\n",
       "          <i class=\"fa fa-pause\"></i></button>\n",
       "      <button title=\"Play\" onclick=\"anime0884320d55f4b3da910a711883b79cb.play_animation()\">\n",
       "          <i class=\"fa fa-play\"></i></button>\n",
       "      <button title=\"Next frame\" onclick=\"anime0884320d55f4b3da910a711883b79cb.next_frame()\">\n",
       "          <i class=\"fa fa-step-forward\"></i></button>\n",
       "      <button title=\"Last frame\" onclick=\"anime0884320d55f4b3da910a711883b79cb.last_frame()\">\n",
       "          <i class=\"fa fa-fast-forward\"></i></button>\n",
       "      <button title=\"Increase speed\" onclick=\"anime0884320d55f4b3da910a711883b79cb.faster()\">\n",
       "          <i class=\"fa fa-plus\"></i></button>\n",
       "    </div>\n",
       "    <form title=\"Repetition mode\" action=\"#n\" name=\"_anim_loop_selecte0884320d55f4b3da910a711883b79cb\"\n",
       "          class=\"anim-state\">\n",
       "      <input type=\"radio\" name=\"state\" value=\"once\" id=\"_anim_radio1_e0884320d55f4b3da910a711883b79cb\"\n",
       "             >\n",
       "      <label for=\"_anim_radio1_e0884320d55f4b3da910a711883b79cb\">Once</label>\n",
       "      <input type=\"radio\" name=\"state\" value=\"loop\" id=\"_anim_radio2_e0884320d55f4b3da910a711883b79cb\"\n",
       "             checked>\n",
       "      <label for=\"_anim_radio2_e0884320d55f4b3da910a711883b79cb\">Loop</label>\n",
       "      <input type=\"radio\" name=\"state\" value=\"reflect\" id=\"_anim_radio3_e0884320d55f4b3da910a711883b79cb\"\n",
       "             >\n",
       "      <label for=\"_anim_radio3_e0884320d55f4b3da910a711883b79cb\">Reflect</label>\n",
       "    </form>\n",
       "  </div>\n",
       "</div>\n",
       "\n",
       "\n",
       "<script language=\"javascript\">\n",
       "  /* Instantiate the Animation class. */\n",
       "  /* The IDs given should match those used in the template above. */\n",
       "  (function() {\n",
       "    var img_id = \"_anim_imge0884320d55f4b3da910a711883b79cb\";\n",
       "    var slider_id = \"_anim_slidere0884320d55f4b3da910a711883b79cb\";\n",
       "    var loop_select_id = \"_anim_loop_selecte0884320d55f4b3da910a711883b79cb\";\n",
       "    var frames = new Array(10);\n",
       "\n",
       "  frames[0] = \"data:image/png;base64,iVBORw0KGgoAAAANSUhEUgAAARgAAADICAYAAAAzx/4XAAAAOXRFWHRTb2Z0d2FyZQBNYXRwbG90\\\n",
       "bGliIHZlcnNpb24zLjMuNCwgaHR0cHM6Ly9tYXRwbG90bGliLm9yZy8QVMy6AAAACXBIWXMAAAxO\\\n",
       "AAAMTgF/d4wjAAAEf0lEQVR4nO3XsWpkZRzG4e+MO+tmOOxwiEI6L8DOkAuQYCdCulQhTW5AphdF\\\n",
       "LEMqSYjFdFOm0U7IlVjkChKWkGxgw/EKPpvh5TvI81zBy/c//OB0s9lsXC6XZaq6ritj6xH/oSul\\\n",
       "jON0F3ZdZ98WfH/bebNcLsv+w2HrHVUnm+NyfnvXekbV6mCvrM9uWs+oOr0+sm8Lvr/tzFoPAP6/\\\n",
       "BAaIERggRmCAGIEBYgQGiBEYIEZggBiBAWIEBogRGCBGYIAYgQFiBAaIERggRmCAGIEBYgQGiBEY\\\n",
       "IEZggBiBAWIEBogRGCBGYIAYgQFiBAaIERggRmCAGIEBYgQGiBEYIEZggBiBAWIEBogRGCBGYIAY\\\n",
       "gQFiBAaI6fq+Hy8vrlrvqFoMO+Xp/rn1jKrJ79tdlMeX19Yzqvr5bNrvN/X7TnxfNwzDuP9w2HpH\\\n",
       "1en1UVmf3bSeUTX1fSeb43J+e9d6RtXqYG/S7zf1+059n18kIEZggBiBAWIEBogRGCBGYIAYgQFi\\\n",
       "BAaIERggRmCAGIEBYgQGiBEYIEZggBiBAWIEBogRGCBGYIAYgQFiBAaIERggRmCAGIEBYgQGiBEY\\\n",
       "IEZggBiBAWIEBogRGCBGYIAYgQFiBAaIERggRmCAGIEBYgQGiBEYIEZggJiu7/vx8uKq9Y6qxe6i\\\n",
       "PL68tp5R1c9n5en+ufWMqsm/3+efTXuf+26lG4Zh3H84bL2j6mRzXM5v71rPqFod7JX12U3rGVVT\\\n",
       "f78fv/1q0vvcdzt+kYAYgQFiBAaIERggRmCAGIEBYgQGiBEYIEZggBiBAWIEBogRGCBGYIAYgQFi\\\n",
       "BAaIERggRmCAGIEBYgQGiBEYIEZggBiBAWIEBogRGCBGYIAYgQFiBAaIERggRmCAGIEBYgQGiBEY\\\n",
       "IEZggBiBAWIEBogRGCBGYIAYgQFiur7vx9//WLfeUdXPZ+Xp/rn1jKrFsGPfFha7i/L48tp6RtX7\\\n",
       "d7Mym39oPaPq08f3k77vm/nbt+X89q71jqrVwV5Zn920nlF1en1k3xZONseT/v5++WG3fPn1T61n\\\n",
       "VP3z92+Tvq9fJCBGYIAYgQFiBAaIERggRmCAGIEBYgQGiBEYIEZggBiBAWIEBogRGCBGYIAYgQFi\\\n",
       "BAaIERggRmCAGIEBYgQGiBEYIEZggBiBAWIEBogRGCBGYIAYgQFiBAaIERggRmCAGIEBYgQGiBEY\\\n",
       "IEZggBiBAWIEBogRGCBGYICYru/78fLiqvWOqsWwU57un1vPqFrsLsrjy2vrGVX9fDbt95v4ffsv\\\n",
       "dsq7+YfWM6qePr6f9Pt1wzCM+w+HrXdUnV4flfXZTesZVSeb43J+e9d6RtXqYG/S7zf1+67+/L58\\\n",
       "982vrWdUbf76edLv5xcJiBEYIEZggBiBAWIEBogRGCBGYIAYgQFiBAaIERggRmCAGIEBYgQGiBEY\\\n",
       "IEZggBiBAWIEBogRGCBGYIAYgQFiBAaIERggRmCAGIEBYgQGiBEYIEZggBiBAWIEBogRGCBGYIAY\\\n",
       "gQFiBAaIERggRmCAGIEBYgQGiBEYIOZfbTrJ+lTZ+zAAAAAASUVORK5CYII=\\\n",
       "\"\n",
       "  frames[1] = \"data:image/png;base64,iVBORw0KGgoAAAANSUhEUgAAARgAAADICAYAAAAzx/4XAAAAOXRFWHRTb2Z0d2FyZQBNYXRwbG90\\\n",
       "bGliIHZlcnNpb24zLjMuNCwgaHR0cHM6Ly9tYXRwbG90bGliLm9yZy8QVMy6AAAACXBIWXMAAAxO\\\n",
       "AAAMTgF/d4wjAAAEgElEQVR4nO3XsWpsVRiG4bXHzPFk3DrsE8F0gpdgyAVIsPMU6VKFNClsZUob\\\n",
       "wTqkkoQITjdlGq1zD95BwD5BwsQgYbyCdZrhY23kea7g41+bF3Y3mUw28/m8jFXXdWXTesQHdKWU\\\n",
       "zWa8C7uus28Lvr/t7Mzn83LweNR6R9Xp6qRc3N23nlG1ONwvy/Pb1jOqzm6O7duC7287k9YDgP8v\\\n",
       "gQFiBAaIERggRmCAGIEBYgQGiBEYIEZggBiBAWIEBogRGCBGYIAYgQFiBAaIERggRmCAGIEBYgQG\\\n",
       "iBEYIEZggBiBAWIEBogRGCBGYIAYgQFiBAaIERggRmCAGIEBYgQGiBEYIEZggBiBAWIEBogRGCBG\\\n",
       "YIAYgQFiur7vN1eX1613VM2G3bJ+eG49o2r0+/Zm5enltfWMqn46Gff9xv6+I9/XDcOwOXg8ar2j\\\n",
       "6uzmuCzPb1vPqBr7vtPVSbm4u289o2pxuD/q+439fce+zy8SECMwQIzAADECA8QIDBAjMECMwAAx\\\n",
       "AgPECAwQIzBAjMAAMQIDxAgMECMwQIzAADECA8QIDBAjMECMwAAxAgPECAwQIzBAjMAAMQIDxAgM\\\n",
       "ECMwQIzAADECA8QIDBAjMECMwAAxAgPECAwQIzBAjMAAMQIDxAgMECMwQEzX9/3m6vK69Y6q2d6s\\\n",
       "PL28tp5R1U8nZf3w3HpG1ejv9/FHo9736dtJed1Zt55RNfn3k1HfrxuGYXPweNR6R9Xp6qRc3N23\\\n",
       "nlG1ONwvy/Pb1jOqxn6/H775ctT7fnz/Rfnrq99az6h69+f3o76fXyQgRmCAGIEBYgQGiBEYIEZg\\\n",
       "gBiBAWIEBogRGCBGYIAYgQFiBAaIERggRmCAGIEBYgQGiBEYIEZggBiBAWIEBogRGCBGYIAYgQFi\\\n",
       "BAaIERggRmCAGIEBYgQGiBEYIEZggBiBAWIEBogRGCBGYIAYgQFiBAaIERggRmCAmK7v+80vvy5b\\\n",
       "76jqp5OyfnhuPaNqNuzat4XZ3qw8vby2nlHl+9vOzvTNm3Jxd996R9XicL8sz29bz6g6uzm2bwun\\\n",
       "qxPf3xbG/r5+kYAYgQFiBAaIERggRmCAGIEBYgQGiBEYIEZggBiBAWIEBogRGCBGYIAYgQFiBAaI\\\n",
       "ERggRmCAGIEBYgQGiBEYIEZggBiBAWIEBogRGCBGYIAYgQFiBAaIERggRmCAGIEBYgQGiBEYIEZg\\\n",
       "gBiBAWIEBogRGCBGYIAYgQFiur7vN1eX1613VM2G3bJ+eG49o2q2NytPL6+tZ1T108m47zfy9+0/\\\n",
       "3y1vp3+3nlG1/uezUd+vG4Zhc/B41HpH1dnNcVme37aeUXW6OikXd/etZ1QtDvdHfb+xv+/i9+/K\\\n",
       "t1//3HpG1eqPn0Z9P79IQIzAADECA8QIDBAjMECMwAAxAgPECAwQIzBAjMAAMQIDxAgMECMwQIzA\\\n",
       "ADECA8QIDBAjMECMwAAxAgPECAwQIzBAjMAAMQIDxAgMECMwQIzAADECA8QIDBAjMECMwAAxAgPE\\\n",
       "CAwQIzBAjMAAMQIDxAgMECMwQIzAADH/AZG5yfoODkoPAAAAAElFTkSuQmCC\\\n",
       "\"\n",
       "  frames[2] = \"data:image/png;base64,iVBORw0KGgoAAAANSUhEUgAAARgAAADICAYAAAAzx/4XAAAAOXRFWHRTb2Z0d2FyZQBNYXRwbG90\\\n",
       "bGliIHZlcnNpb24zLjMuNCwgaHR0cHM6Ly9tYXRwbG90bGliLm9yZy8QVMy6AAAACXBIWXMAAAxO\\\n",
       "AAAMTgF/d4wjAAAEe0lEQVR4nO3XMUpkWRiG4XNrunq0uFhcnMCs99DiAgbpbBgwMxITNzDUBho6\\\n",
       "6EiMBsUJKqvQZDp2La5AaaRsA6lZwemk+DiX4XlW8HH+ywu3m0wmm/l8Xsaq67qyaT3iJ7pSymYz\\\n",
       "3oVd19m3Bd/fdt7N5/Ny+HTcekfV2eq0XN4/tJ5RtTg6KMuLu9Yzqs5vT+zbgu9vO5PWA4D/L4EB\\\n",
       "YgQGiBEYIEZggBiBAWIEBogRGCBGYIAYgQFiBAaIERggRmCAGIEBYgQGiBEYIEZggBiBAWIEBogR\\\n",
       "GCBGYIAYgQFiBAaIERggRmCAGIEBYgQGiBEYIEZggBiBAWIEBogRGCBGYIAYgQFiBAaIERggRmCA\\\n",
       "GIEBYrq+7zfXVzetd1TNht2yfnxpPaNq9Pv2Z+X59a31jKp+Ohn3+439viPf1w3DsDl8Om69o+r8\\\n",
       "9qQsL+5az6ga+76z1Wm5vH9oPaNqcXQw6vcb+33Hvs8vEhAjMECMwAAxAgPECAwQIzBAjMAAMQID\\\n",
       "xAgMECMwQIzAADECA8QIDBAjMECMwAAxAgPECAwQIzBAjMAAMQIDxAgMECMwQIzAADECA8QIDBAj\\\n",
       "MECMwAAxAgPECAwQIzBAjMAAMQIDxAgMECMwQIzAADECA8QIDBAjMEBM1/f95vrqpvWOqtn+rDy/\\\n",
       "vrWeUdVPJ2X9+NJ6RtXo3+/XX8a9z3230g3DsDl8Om69o+psdVou7x9az6haHB2U5cVd6xlVY3+/\\\n",
       "v37/MOp97rsdv0hAjMAAMQIDxAgMECMwQIzAADECA8QIDBAjMECMwAAxAgPECAwQIzBAjMAAMQID\\\n",
       "xAgMECMwQIzAADECA8QIDBAjMECMwAAxAgPECAwQIzBAjMAAMQIDxAgMECMwQIzAADECA8QIDBAj\\\n",
       "MECMwAAxAgPECAwQIzBAjMAAMV3f95u//1m23lHVTydl/fjSekbVbNi1bwuz/Vl5fn1rPaNqb2dS\\\n",
       "dqbfW8+oWv/YG/V9303fvy+X9w+td1Qtjg7K8uKu9Yyq89sT+7Zwtjod9ff39c/98unjl9Yzqlbf\\\n",
       "Po/6vn6RgBiBAWIEBogRGCBGYIAYgQFiBAaIERggRmCAGIEBYgQGiBEYIEZggBiBAWIEBogRGCBG\\\n",
       "YIAYgQFiBAaIERggRmCAGIEBYgQGiBEYIEZggBiBAWIEBogRGCBGYIAYgQFiBAaIERggRmCAGIEB\\\n",
       "YgQGiBEYIEZggBiBAWK6vu8311c3rXdUzYbdsn58aT2jarY/K8+vb61nVPXTybjfb+T37X/bLTvT\\\n",
       "761nVK1/7I36/bphGDaHT8etd1Sd356U5cVd6xlVZ6vTcnn/0HpG1eLoYNTvN/b7Lv79o3z6+KX1\\\n",
       "jKrVt8+jfj+/SECMwAAxAgPECAwQIzBAjMAAMQIDxAgMECMwQIzAADECA8QIDBAjMECMwAAxAgPE\\\n",
       "CAwQIzBAjMAAMQIDxAgMECMwQIzAADECA8QIDBAjMECMwAAxAgPECAwQIzBAjMAAMQIDxAgMECMw\\\n",
       "QIzAADECA8QIDBAjMECMwAAx/wGZMsn60lqsQwAAAABJRU5ErkJggg==\\\n",
       "\"\n",
       "  frames[3] = \"data:image/png;base64,iVBORw0KGgoAAAANSUhEUgAAARgAAADICAYAAAAzx/4XAAAAOXRFWHRTb2Z0d2FyZQBNYXRwbG90\\\n",
       "bGliIHZlcnNpb24zLjMuNCwgaHR0cHM6Ly9tYXRwbG90bGliLm9yZy8QVMy6AAAACXBIWXMAAAxO\\\n",
       "AAAMTgF/d4wjAAAEdElEQVR4nO3XPWokRwCG4erxztpqNx4aLViZ72ChAxjhzIlwokgIjC5g5gIL\\\n",
       "joUiIyEHk00oDDYGJzqLTiBhhH4CMXuCcjJ8VLM8zwk+qooXqpvNZpvFYlGmquu6smk94n90pZTN\\\n",
       "ZroLu66zbwve33beLRaLsv9w2HpH1cn6uJzf3rWeUbU82Curs5vWM6pOr4/s24L3t51Z6wHA50tg\\\n",
       "gBiBAWIEBogRGCBGYIAYgQFiBAaIERggRmCAGIEBYgQGiBEYIEZggBiBAWIEBogRGCBGYIAYgQFi\\\n",
       "BAaIERggRmCAGIEBYgQGiBEYIEZggBiBAWIEBogRGCBGYIAYgQFiBAaIERggRmCAGIEBYgQGiBEY\\\n",
       "IEZggJhuGIbN5cVV6x1V/bhTnu6fW8+omvy+3b48vr61nlE1zGfTPr+p3+/E93XjOG72Hw5b76g6\\\n",
       "vT4qq7Ob1jOqpr7vZH1czm/vWs+oWh7sTfr8pn6/U9/niwTECAwQIzBAjMAAMQIDxAgMECMwQIzA\\\n",
       "ADECA8QIDBAjMECMwAAxAgPECAwQIzBAjMAAMQIDxAgMECMwQIzAADECA8QIDBAjMECMwAAxAgPE\\\n",
       "CAwQIzBAjMAAMQIDxAgMECMwQIzAADECA8QIDBAjMECMwAAxAgPECAwQ0w3DsLm8uGq9o6rf7cvj\\\n",
       "61vrGVXDfFae7p9bz6ia/Pl9+cW097nfrXTjOG72Hw5b76g6WR+X89u71jOqlgd7ZXV203pG1dTP\\\n",
       "79cfvpv0Pve7HV8kIEZggBiBAWIEBogRGCBGYIAYgQFiBAaIERggRmCAGIEBYgQGiBEYIEZggBiB\\\n",
       "AWIEBogRGCBGYIAYgQFiBAaIERggRmCAGIEBYgQGiBEYIEZggBiBAWIEBogRGCBGYIAYgQFiBAaI\\\n",
       "ERggRmCAGIEBYgQGiBEYIEZggJhuGIbN73+sWu+oGuaz8nT/3HpGVT/u2LeFfrcvj69vrWdUTf39\\\n",
       "ff2hLy+zl9Yzqt7N378v57d3rXdULQ/2yurspvWMqtPrI/u2cLI+9v628MufP5d/vv239YwqXyQg\\\n",
       "RmCAGIEBYgQGiBEYIEZggBiBAWIEBogRGCBGYIAYgQFiBAaIERggRmCAGIEBYgQGiBEYIEZggBiB\\\n",
       "AWIEBogRGCBGYIAYgQFiBAaIERggRmCAGIEBYgQGiBEYIEZggBiBAWIEBogRGCBGYIAYgQFiBAaI\\\n",
       "ERggRmCAmG4Yhs3lxVXrHVX9uFOe7p9bz6jqd/vy+PrWekbVMJ9N+/wmfr/Dh53y1fy/1jOqnl6+\\\n",
       "mfT5deM4bvYfDlvvqDq9Piqrs5vWM6pO1sfl/Pau9Yyq5cHepM9v6ve7/Oun8uP3v7WeUbX+++Ok\\\n",
       "z88XCYgRGCBGYIAYgQFiBAaIERggRmCAGIEBYgQGiBEYIEZggBiBAWIEBogRGCBGYIAYgQFiBAaI\\\n",
       "ERggRmCAGIEBYgQGiBEYIEZggBiBAWIEBogRGCBGYIAYgQFiBAaIERggRmCAGIEBYgQGiBEYIEZg\\\n",
       "gBiBAWIEBogRGCDmE0d4yQSiQ4xeAAAAAElFTkSuQmCC\\\n",
       "\"\n",
       "  frames[4] = \"data:image/png;base64,iVBORw0KGgoAAAANSUhEUgAAARgAAADICAYAAAAzx/4XAAAAOXRFWHRTb2Z0d2FyZQBNYXRwbG90\\\n",
       "bGliIHZlcnNpb24zLjMuNCwgaHR0cHM6Ly9tYXRwbG90bGliLm9yZy8QVMy6AAAACXBIWXMAAAxO\\\n",
       "AAAMTgF/d4wjAAAEf0lEQVR4nO3XsWpkZRzG4e+MO+tmOOxwiEI6L8DOkAuQYCdCulQhTW5AphdF\\\n",
       "LEMqSYjFdFOm0U7IlVjkChKWkGxgw/EKPpvh5TvI81zBy/c//OB0s9lsXC6XZaq6ritj6xH/oSul\\\n",
       "jON0F3ZdZ98WfH/bebNcLsv+w2HrHVUnm+NyfnvXekbV6mCvrM9uWs+oOr0+sm8Lvr/tzFoPAP6/\\\n",
       "BAaIERggRmCAGIEBYgQGiBEYIEZggBiBAWIEBogRGCBGYIAYgQFiBAaIERggRmCAGIEBYgQGiBEY\\\n",
       "IEZggBiBAWIEBogRGCBGYIAYgQFiBAaIERggRmCAGIEBYgQGiBEYIEZggBiBAWIEBogRGCBGYIAY\\\n",
       "gQFiBAaI6fq+Hy8vrlrvqFoMO+Xp/rn1jKrJ79tdlMeX19Yzqvr5bNrvN/X7TnxfNwzDuP9w2HpH\\\n",
       "1en1UVmf3bSeUTX1fSeb43J+e9d6RtXqYG/S7zf1+059n18kIEZggBiBAWIEBogRGCBGYIAYgQFi\\\n",
       "BAaIERggRmCAGIEBYgQGiBEYIEZggBiBAWIEBogRGCBGYIAYgQFiBAaIERggRmCAGIEBYgQGiBEY\\\n",
       "IEZggBiBAWIEBogRGCBGYIAYgQFiBAaIERggRmCAGIEBYgQGiBEYIEZggJiu7/vx8uKq9Y6qxe6i\\\n",
       "PL68tp5R1c9n5en+ufWMqsm/3+efTXuf+26lG4Zh3H84bL2j6mRzXM5v71rPqFod7JX12U3rGVVT\\\n",
       "f78fv/1q0vvcdzt+kYAYgQFiBAaIERggRmCAGIEBYgQGiBEYIEZggBiBAWIEBogRGCBGYIAYgQFi\\\n",
       "BAaIERggRmCAGIEBYgQGiBEYIEZggBiBAWIEBogRGCBGYIAYgQFiBAaIERggRmCAGIEBYgQGiBEY\\\n",
       "IEZggBiBAWIEBogRGCBGYIAYgQFiur7vx9//WLfeUdXPZ+Xp/rn1jKrFsGPfFha7i/L48tp6RtX7\\\n",
       "d7Mym39oPaPq08f3k77vm/nbt+X89q71jqrVwV5Zn920nlF1en1k3xZONseT/v5++WG3fPn1T61n\\\n",
       "VP3z92+Tvq9fJCBGYIAYgQFiBAaIERggRmCAGIEBYgQGiBEYIEZggBiBAWIEBogRGCBGYIAYgQFi\\\n",
       "BAaIERggRmCAGIEBYgQGiBEYIEZggBiBAWIEBogRGCBGYIAYgQFiBAaIERggRmCAGIEBYgQGiBEY\\\n",
       "IEZggBiBAWIEBogRGCBGYICYru/78fLiqvWOqsWwU57un1vPqFrsLsrjy2vrGVX9fDbt95v4ffsv\\\n",
       "dsq7+YfWM6qePr6f9Pt1wzCM+w+HrXdUnV4flfXZTesZVSeb43J+e9d6RtXqYG/S7zf1+67+/L58\\\n",
       "982vrWdUbf76edLv5xcJiBEYIEZggBiBAWIEBogRGCBGYIAYgQFiBAaIERggRmCAGIEBYgQGiBEY\\\n",
       "IEZggBiBAWIEBogRGCBGYIAYgQFiBAaIERggRmCAGIEBYgQGiBEYIEZggBiBAWIEBogRGCBGYIAY\\\n",
       "gQFiBAaIERggRmCAGIEBYgQGiBEYIOZfbTrJ+lTZ+zAAAAAASUVORK5CYII=\\\n",
       "\"\n",
       "  frames[5] = \"data:image/png;base64,iVBORw0KGgoAAAANSUhEUgAAARgAAADICAYAAAAzx/4XAAAAOXRFWHRTb2Z0d2FyZQBNYXRwbG90\\\n",
       "bGliIHZlcnNpb24zLjMuNCwgaHR0cHM6Ly9tYXRwbG90bGliLm9yZy8QVMy6AAAACXBIWXMAAAxO\\\n",
       "AAAMTgF/d4wjAAAEXElEQVR4nO3XMUq0RwDG8Xk3336Jy0uWF1PY5Q4RDxAkXRo7K7HxAmEvEEgt\\\n",
       "VsEPU2y3pU1SexZPoATRWMibE0ya5WGG8Pud4GFm+MMMi8ViXq/XpVfDMJS59Yj/MJRS5rnfhcMw\\\n",
       "2LcH728/n9brdTl+Pm29o+pid16uHx5bz6janByV7dV96xlVl3dn9u3B+9vPovUA4P9LYIAYgQFi\\\n",
       "BAaIERggRmCAGIEBYgQGiBEYIEZggBiBAWIEBogRGCBGYIAYgQFiBAaIERggRmCAGIEBYgQGiBEY\\\n",
       "IEZggBiBAWIEBogRGCBGYIAYgQFiBAaIERggRmCAGIEBYgQGiBEYIEZggBiBAWIEBogRGCBGYICY\\\n",
       "YRzH+fbmS+sdVavpoLw+vbWeUdX9vsNVeXn/aD2jalwu+j6/3u+3833DNE3z8fNp6x1Vl3dnZXt1\\\n",
       "33pGVe/7Lnbn5frhsfWMqs3JUdfn1/v99r7PFwmIERggRmCAGIEBYgQGiBEYIEZggBiBAWIEBogR\\\n",
       "GCBGYIAYgQFiBAaIERggRmCAGIEBYgQGiBEYIEZggBiBAWIEBogRGCBGYIAYgQFiBAaIERggRmCA\\\n",
       "GIEBYgQGiBEYIEZggBiBAWIEBogRGCBGYIAYgQFiBAaIERggZhjHcb69+dJ6R9XqcFVe3j9az6ga\\\n",
       "l4vy+vTWekZV9+f39Vd973O/exmmaZqPn09b76i62J2X64fH1jOqNidHZXt133pGVe/n98uP33e9\\\n",
       "z/3uxxcJiBEYIEZggBiBAWIEBogRGCBGYIAYgQFiBAaIERggRmCAGIEBYgQGiBEYIEZggBiBAWIE\\\n",
       "BogRGCBGYIAYgQFiBAaIERggRmCAGIEBYgQGiBEYIEZggBiBAWIEBogRGCBGYIAYgQFiBAaIERgg\\\n",
       "RmCAGIEBYgQGiBEYIGYYx3H+/Y9t6x1V43JRXp/eWs+oWk0H9u1hdbgqL+8frWdUeX/7+bT8/Llc\\\n",
       "Pzy23lG1OTkq26v71jOqLu/O7NvDxe7c+9tD7/friwTECAwQIzBAjMAAMQIDxAgMECMwQIzAADEC\\\n",
       "A8QIDBAjMECMwAAxAgPECAwQIzBAjMAAMQIDxAgMECMwQIzAADECA8QIDBAjMECMwAAxAgPECAwQ\\\n",
       "IzBAjMAAMQIDxAgMECMwQIzAADECA8QIDBAjMECMwAAxAgPECAwQM4zjON/efGm9o2o1HZTXp7fW\\\n",
       "M6pWh6vy8v7RekbVuFz0fX6d3+/43UH5Zvl36xlVr/982/X5DdM0zcfPp613VF3enZXt1X3rGVUX\\\n",
       "u/Ny/fDYekbV5uSo6/Pr/X43f/5cfvrht9YzqnZ//dr1+fkiATECA8QIDBAjMECMwAAxAgPECAwQ\\\n",
       "IzBAjMAAMQIDxAgMECMwQIzAADECA8QIDBAjMECMwAAxAgPECAwQIzBAjMAAMQIDxAgMECMwQIzA\\\n",
       "ADECA8QIDBAjMECMwAAxAgPECAwQIzBAjMAAMQIDxAgMECMwQIzAADECA8T8CxCYyfruYozjAAAA\\\n",
       "AElFTkSuQmCC\\\n",
       "\"\n",
       "  frames[6] = \"data:image/png;base64,iVBORw0KGgoAAAANSUhEUgAAARgAAADICAYAAAAzx/4XAAAAOXRFWHRTb2Z0d2FyZQBNYXRwbG90\\\n",
       "bGliIHZlcnNpb24zLjMuNCwgaHR0cHM6Ly9tYXRwbG90bGliLm9yZy8QVMy6AAAACXBIWXMAAAxO\\\n",
       "AAAMTgF/d4wjAAAEZ0lEQVR4nO3XMWp0VQCG4XPHf37NcHG4RCGdC7AzZAES7GzSpRrSzAZkSsHG\\\n",
       "OqSShFhMlzKN1tmBe5gVJEhIDBLuv4JjM3ycizzPCj7OObxwutlsNi6XyzJVXdeVsfWI/9CVUsZx\\\n",
       "ugu7rrNvD97ffj4sl8ty/HTaekfV6u68XD7sWs+o2pwcle36vvWMqovbM/v24P3tZ9Z6APD/JTBA\\\n",
       "jMAAMQIDxAgMECMwQIzAADECA8QIDBAjMECMwAAxAgPECAwQIzBAjMAAMQIDxAgMECMwQIzAADEC\\\n",
       "A8QIDBAjMECMwAAxAgPECAwQIzBAjMAAMQIDxAgMECMwQIzAADECA8QIDBAjMECMwAAxAgPECAwQ\\\n",
       "IzBATNf3/Xh9ddN6R9ViOCgvj6+tZ1RNft/hojy/vbeeUdXPZ9M+v6nf78T3dcMwjMdPp613VF3c\\\n",
       "npXt+r71jKqp71vdnZfLh13rGVWbk6NJn9/U73fq+3yRgBiBAWIEBogRGCBGYIAYgQFiBAaIERgg\\\n",
       "RmCAGIEBYgQGiBEYIEZggBiBAWIEBogRGCBGYIAYgQFiBAaIERggRmCAGIEBYgQGiBEYIEZggBiB\\\n",
       "AWIEBogRGCBGYIAYgQFiBAaIERggRmCAGIEBYgQGiBEYIEZggBiBAWK6vu/H66ub1juqFoeL8vz2\\\n",
       "3npGVT+flZfH19YzqiZ/fp9/Nu197ncv3TAM4/HTaesdVau783L5sGs9o2pzclS26/vWM6qmfn4/\\\n",
       "ff/NpPe53/34IgExAgPECAwQIzBAjMAAMQIDxAgMECMwQIzAADECA8QIDBAjMECMwAAxAgPECAwQ\\\n",
       "IzBAjMAAMQIDxAgMECMwQIzAADECA8QIDBAjMECMwAAxAgPECAwQIzBAjMAAMQIDxAgMECMwQIzA\\\n",
       "ADECA8QIDBAjMECMwAAxAgPEdH3fj7/9vm29o6qfz8rL42vrGVWL4cC+PSwOF+X57b31jCrvbz8f\\\n",
       "5h8/lsuHXesdVZuTo7Jd37eeUXVxe2bfHlZ3597fHqZ+v75IQIzAADECA8QIDBAjMECMwAAxAgPE\\\n",
       "CAwQIzBAjMAAMQIDxAgMECMwQIzAADECA8QIDBAjMECMwAAxAgPECAwQIzBAjMAAMQIDxAgMECMw\\\n",
       "QIzAADECA8QIDBAjMECMwAAxAgPECAwQIzBAjMAAMQIDxAgMECMwQIzAADFd3/fj9dVN6x1Vi+Gg\\\n",
       "vDy+tp5RtThclOe399Yzqvr5bNrnN/H77b86KF/M/249o+qff78sswnv64ZhGI+fTlvvqLq4PSvb\\\n",
       "9X3rGVWru/Ny+bBrPaNqc3I06fOb+v1u/vix/PDdr61nVP3518/l629/aT2jyhcJiBEYIEZggBiB\\\n",
       "AWIEBogRGCBGYIAYgQFiBAaIERggRmCAGIEBYgQGiBEYIEZggBiBAWIEBogRGCBGYIAYgQFiBAaI\\\n",
       "ERggRmCAGIEBYgQGiBEYIEZggBiBAWIEBogRGCBGYIAYgQFiBAaIERggRmCAGIEBYgQGiBEYIOYT\\\n",
       "TlrHSXkwFeUAAAAASUVORK5CYII=\\\n",
       "\"\n",
       "  frames[7] = \"data:image/png;base64,iVBORw0KGgoAAAANSUhEUgAAARgAAADICAYAAAAzx/4XAAAAOXRFWHRTb2Z0d2FyZQBNYXRwbG90\\\n",
       "bGliIHZlcnNpb24zLjMuNCwgaHR0cHM6Ly9tYXRwbG90bGliLm9yZy8QVMy6AAAACXBIWXMAAAxO\\\n",
       "AAAMTgF/d4wjAAAEcUlEQVR4nO3XsWp0RQCG4Tlr9tesB5dD/iKd4CUYcgES7CxMlyqkCVjL3oBg\\\n",
       "HVJJQgS32zKFWudaAvYJEjamCMcrGJvlYw7yPFfwMTO8MN1sNhuXy2WZqq7ryth6xH/oSinjON2F\\\n",
       "XdfZtwPvbzd7y+WyHD2ftN5Rdb45K1cPj61nVK2OD8v68r71jKqLu1P7duD97WbWegDw/yUwQIzA\\\n",
       "ADECA8QIDBAjMECMwAAxAgPECAwQIzBAjMAAMQIDxAgMECMwQIzAADECA8QIDBAjMECMwAAxAgPE\\\n",
       "CAwQIzBAjMAAMQIDxAgMECMwQIzAADECA8QIDBAjMECMwAAxAgPECAwQIzBAjMAAMQIDxAgMECMw\\\n",
       "QEzX9/14c33bekfVYtgv26fX1jOqJr/vYFFe3t5bz6jq57Npn9/U73fi+7phGMaj55PWO6ou7k7L\\\n",
       "+vK+9Yyqqe8735yVq4fH1jOqVseHkz6/qd/v1Pf5IgExAgPECAwQIzBAjMAAMQIDxAgMECMwQIzA\\\n",
       "ADECA8QIDBAjMECMwAAxAgPECAwQIzBAjMAAMQIDxAgMECMwQIzAADECA8QIDBAjMECMwAAxAgPE\\\n",
       "CAwQIzBAjMAAMQIDxAgMECMwQIzAADECA8QIDBAjMECMwAAxAgPEdH3fjzfXt613VC0OFuXl7b31\\\n",
       "jKp+Pivbp9fWM6omf36ffjLtfe53J90wDOPR80nrHVXnm7Ny9fDYekbV6viwrC/vW8+omvr5/fjN\\\n",
       "l5Pe535344sExAgMECMwQIzAADECA8QIDBAjMECMwAAxAgPECAwQIzBAjMAAMQIDxAgMECMwQIzA\\\n",
       "ADECA8QIDBAjMECMwAAxAgPECAwQIzBAjMAAMQIDxAgMECMwQIzAADECA8QIDBAjMECMwAAxAgPE\\\n",
       "CAwQIzBAjMAAMQIDxAgMENP1fT/+8uu69Y6qfj4r26fX1jOqFsO+fTtYHCzKy9t76xlVU39/n3/c\\\n",
       "L+9729YzqvbmHz6Uq4fH1juqVseHZX1533pG1cXdqX07ON+ceX87+OH378tfX/3WekaVLxIQIzBA\\\n",
       "jMAAMQIDxAgMECMwQIzAADECA8QIDBAjMECMwAAxAgPECAwQIzBAjMAAMQIDxAgMECMwQIzAADEC\\\n",
       "A8QIDBAjMECMwAAxAgPECAwQIzBAjMAAMQIDxAgMECMwQIzAADECA8QIDBAjMECMwAAxAgPECAwQ\\\n",
       "IzBATNf3/Xhzfdt6R9Vi2C/bp9fWM6oWB4vy8vbeekZVP59N+/wmfr/9x/3y2fzv1jOqtv98Menz\\\n",
       "64ZhGI+eT1rvqLq4Oy3ry/vWM6rON2fl6uGx9Yyq1fHhpM9v6ve7+uO78u3XP7eeUbX586dJn58v\\\n",
       "EhAjMECMwAAxAgPECAwQIzBAjMAAMQIDxAgMECMwQIzAADECA8QIDBAjMECMwAAxAgPECAwQIzBA\\\n",
       "jMAAMQIDxAgMECMwQIzAADECA8QIDBAjMECMwAAxAgPECAwQIzBAjMAAMQIDxAgMECMwQIzAADEC\\\n",
       "A8QIDBAjMEDMv9AsySnBH2tNAAAAAElFTkSuQmCC\\\n",
       "\"\n",
       "  frames[8] = \"data:image/png;base64,iVBORw0KGgoAAAANSUhEUgAAARgAAADICAYAAAAzx/4XAAAAOXRFWHRTb2Z0d2FyZQBNYXRwbG90\\\n",
       "bGliIHZlcnNpb24zLjMuNCwgaHR0cHM6Ly9tYXRwbG90bGliLm9yZy8QVMy6AAAACXBIWXMAAAxO\\\n",
       "AAAMTgF/d4wjAAAEXklEQVR4nO3XMUp1RwCG4Tk3//0TL4dcDqawyx4iLiBIujR2VmLjBsItU6YW\\\n",
       "q6CY4naWNulSuIPswRUoQTQS5GQFk+byMUN4nhV8zAwvzLBYLOb1el16NQxDmVuP+A9DKWWe+104\\\n",
       "DIN9O/D+dvNpvV6Xw+fj1juqzu5Oy+XDY+sZVZujg7K9uG89o+r89sS+HXh/u1m0HgD8fwkMECMw\\\n",
       "QIzAADECA8QIDBAjMECMwAAxAgPECAwQIzBAjMAAMQIDxAgMECMwQIzAADECA8QIDBAjMECMwAAx\\\n",
       "AgPECAwQIzBAjMAAMQIDxAgMECMwQIzAADECA8QIDBAjMECMwAAxAgPECAwQIzBAjMAAMQIDxAgM\\\n",
       "EDOM4zhfX9203lG1mvbK69Nb6xlV3e/bX5WX94/WM6rG5aLv8+v9fjvfN0zTNB8+H7feUXV+e1K2\\\n",
       "F/etZ1T1vu/s7rRcPjy2nlG1OTro+vx6v9/e9/kiATECA8QIDBAjMECMwAAxAgPECAwQIzBAjMAA\\\n",
       "MQIDxAgMECMwQIzAADECA8QIDBAjMECMwAAxAgPECAwQIzBAjMAAMQIDxAgMECMwQIzAADECA8QI\\\n",
       "DBAjMECMwAAxAgPECAwQIzBAjMAAMQIDxAgMECMwQIzAADECA8QM4zjO11c3rXdUrfZX5eX9o/WM\\\n",
       "qnG5KK9Pb61nVHV/fl9+0fc+97uTYZqm+fD5uPWOqrO703L58Nh6RtXm6KBsL+5bz6jq/fx++v7b\\\n",
       "rve53934IgExAgPECAwQIzBAjMAAMQIDxAgMECMwQIzAADECA8QIDBAjMECMwAAxAgPECAwQIzBA\\\n",
       "jMAAMQIDxAgMECMwQIzAADECA8QIDBAjMECMwAAxAgPECAwQIzBAjMAAMQIDxAgMECMwQIzAADEC\\\n",
       "A8QIDBAjMECMwAAxAgPEDOM4zr/+tm29o2pcLsrr01vrGVWrac++Haz2V+Xl/aP1jCrvbzeflp8/\\\n",
       "l8uHx9Y7qjZHB2V7cd96RtX57Yl9Ozi7O/X+dtD7/foiATECA8QIDBAjMECMwAAxAgPECAwQIzBA\\\n",
       "jMAAMQIDxAgMECMwQIzAADECA8QIDBAjMECMwAAxAgPECAwQIzBAjMAAMQIDxAgMECMwQIzAADEC\\\n",
       "A8QIDBAjMECMwAAxAgPECAwQIzBAjMAAMQIDxAgMECMwQIzAADECA8QM4zjO11c3rXdUraa98vr0\\\n",
       "1npG1Wp/VV7eP1rPqBqXi77Pr/P7Hb/ZK18t/2o9o+rvf77uet8wTdN8+HzcekfV+e1J2V7ct55R\\\n",
       "dXZ3Wi4fHlvPqNocHXR9fr3f7+b3H8sP3/3SekbVH3/+3PU+XyQgRmCAGIEBYgQGiBEYIEZggBiB\\\n",
       "AWIEBogRGCBGYIAYgQFiBAaIERggRmCAGIEBYgQGiBEYIEZggBiBAWIEBogRGCBGYIAYgQFiBAaI\\\n",
       "ERggRmCAGIEBYgQGiBEYIEZggBiBAWIEBogRGCBGYIAYgQFiBAaIERggRmCAmH8BY/jHkZNALx0A\\\n",
       "AAAASUVORK5CYII=\\\n",
       "\"\n",
       "  frames[9] = \"data:image/png;base64,iVBORw0KGgoAAAANSUhEUgAAARgAAADICAYAAAAzx/4XAAAAOXRFWHRTb2Z0d2FyZQBNYXRwbG90\\\n",
       "bGliIHZlcnNpb24zLjMuNCwgaHR0cHM6Ly9tYXRwbG90bGliLm9yZy8QVMy6AAAACXBIWXMAAAxO\\\n",
       "AAAMTgF/d4wjAAAEcUlEQVR4nO3XsWp0RQCG4Tlr9tesB5dD/iKd4CUYcgES7CxMlyqkCVjL3oBg\\\n",
       "HVJJQgS32zKFWudaAvYJEjamCMcrGJvlYw7yPFfwMTO8MN1sNhuXy2WZqq7ryth6xH/oSinjON2F\\\n",
       "XdfZtwPvbzd7y+WyHD2ftN5Rdb45K1cPj61nVK2OD8v68r71jKqLu1P7duD97WbWegDw/yUwQIzA\\\n",
       "ADECA8QIDBAjMECMwAAxAgPECAwQIzBAjMAAMQIDxAgMECMwQIzAADECA8QIDBAjMECMwAAxAgPE\\\n",
       "CAwQIzBAjMAAMQIDxAgMECMwQIzAADECA8QIDBAjMECMwAAxAgPECAwQIzBAjMAAMQIDxAgMECMw\\\n",
       "QEzX9/14c33bekfVYtgv26fX1jOqJr/vYFFe3t5bz6jq57Npn9/U73fi+7phGMaj55PWO6ou7k7L\\\n",
       "+vK+9Yyqqe8735yVq4fH1jOqVseHkz6/qd/v1Pf5IgExAgPECAwQIzBAjMAAMQIDxAgMECMwQIzA\\\n",
       "ADECA8QIDBAjMECMwAAxAgPECAwQIzBAjMAAMQIDxAgMECMwQIzAADECA8QIDBAjMECMwAAxAgPE\\\n",
       "CAwQIzBAjMAAMQIDxAgMECMwQIzAADECA8QIDBAjMECMwAAxAgPEdH3fjzfXt613VC0OFuXl7b31\\\n",
       "jKp+Pivbp9fWM6omf36ffjLtfe53J90wDOPR80nrHVXnm7Ny9fDYekbV6viwrC/vW8+omvr5/fjN\\\n",
       "l5Pe535344sExAgMECMwQIzAADECA8QIDBAjMECMwAAxAgPECAwQIzBAjMAAMQIDxAgMECMwQIzA\\\n",
       "ADECA8QIDBAjMECMwAAxAgPECAwQIzBAjMAAMQIDxAgMECMwQIzAADECA8QIDBAjMECMwAAxAgPE\\\n",
       "CAwQIzBAjMAAMQIDxAgMENP1fT/+8uu69Y6qfj4r26fX1jOqFsO+fTtYHCzKy9t76xlVU39/n3/c\\\n",
       "L+9729YzqvbmHz6Uq4fH1juqVseHZX1533pG1cXdqX07ON+ceX87+OH378tfX/3WekaVLxIQIzBA\\\n",
       "jMAAMQIDxAgMECMwQIzAADECA8QIDBAjMECMwAAxAgPECAwQIzBAjMAAMQIDxAgMECMwQIzAADEC\\\n",
       "A8QIDBAjMECMwAAxAgPECAwQIzBAjMAAMQIDxAgMECMwQIzAADECA8QIDBAjMECMwAAxAgPECAwQ\\\n",
       "IzBATNf3/Xhzfdt6R9Vi2C/bp9fWM6oWB4vy8vbeekZVP59N+/wmfr/9x/3y2fzv1jOqtv98Menz\\\n",
       "64ZhGI+eT1rvqLq4Oy3ry/vWM6rON2fl6uGx9Yyq1fHhpM9v6ve7+uO78u3XP7eeUbX586dJn58v\\\n",
       "EhAjMECMwAAxAgPECAwQIzBAjMAAMQIDxAgMECMwQIzAADECA8QIDBAjMECMwAAxAgPECAwQIzBA\\\n",
       "jMAAMQIDxAgMECMwQIzAADECA8QIDBAjMECMwAAxAgPECAwQIzBAjMAAMQIDxAgMECMwQIzAADEC\\\n",
       "A8QIDBAjMEDMv9AsySnBH2tNAAAAAElFTkSuQmCC\\\n",
       "\"\n",
       "\n",
       "\n",
       "    /* set a timeout to make sure all the above elements are created before\n",
       "       the object is initialized. */\n",
       "    setTimeout(function() {\n",
       "        anime0884320d55f4b3da910a711883b79cb = new Animation(frames, img_id, slider_id, 149.0,\n",
       "                                 loop_select_id);\n",
       "    }, 0);\n",
       "  })()\n",
       "</script>\n"
      ],
      "text/plain": [
       "<IPython.core.display.HTML object>"
      ]
     },
     "metadata": {},
     "output_type": "display_data"
    }
   ],
   "source": [
    "rw.animate(world)"
   ]
  },
  {
   "cell_type": "markdown",
   "id": "bottom-celebration",
   "metadata": {},
   "source": [
    "Ist dieser Algorithmus besonders klever?\n",
    "Nein!\n",
    "Der Algorithmus ist sehr einfach und benötigt unter Umständen sehr viel Rechenzeit.\n",
    "Dennoch zeigt dieses Beispiel, dass die Wiederholung von einfachen Befehlen zu komplexen Lösungen führen können!\n",
    "\n",
    "```{admonition} Wiederholung und Codekomplexität\n",
    ":class: hint\n",
    "*Wiederholung* trennt den Aufwand zum Lösen einer Aufgabe von der Komplexität des Codes.\n",
    "Eine Berechnung kann enorm aufwendig sein und dennoch benötigen wir wenig Denkarbeit (wenig Code) um einen Algorithmus für die Lösung zu entwerfen!\n",
    "```\n",
    "\n",
    "## Die ``for``-Schleife\n",
    "\n",
    "Die ``for``-Schleife verwenden wir immer dann, wenn wir (zur Laufzeit) wissen wie viele Wiederholungen wir **maximal** benötigen.\n",
    "Dabei wollen wir entweder\n",
    "\n",
    "1. für eine bestimmte Anzahl $n \\in \\mathbb{N}$, oder\n",
    "2. für jedes Element einer *Datenstruktur* (Liste, Tupel, usw.)\n",
    "\n",
    "einen Befehlsblock ausführen.\n",
    "\n",
    "Im zweiten Fall spricht man auch von der sog. *Foreach-Schleife*.\n",
    "Durch den Zahlenbereich ``range()`` reduziert ``Python`` den ersten Fall auf den zweiten.\n",
    "\n",
    "### Die klassische ``for``-Schleife (Fall 1)\n",
    "\n",
    "```python\n",
    "n = ...\n",
    "for i in range(n):\n",
    "    # Codeblock\n",
    "```\n",
    "\n",
    "Der Name der *Zählervariable* (hier ``i``) kann frei gewählt werden, allerdings verwendet man für Fall 1 gewöhnlich: ``i``, ``j`` oder ``k``."
   ]
  },
  {
   "cell_type": "code",
   "execution_count": 5,
   "id": "sunrise-breed",
   "metadata": {},
   "outputs": [
    {
     "name": "stdout",
     "output_type": "stream",
     "text": [
      "0\n",
      "1\n",
      "4\n",
      "9\n",
      "16\n",
      "25\n",
      "36\n",
      "49\n",
      "64\n",
      "81\n"
     ]
    }
   ],
   "source": [
    "for i in range(10):\n",
    "    print(i**2)"
   ]
  },
  {
   "cell_type": "markdown",
   "id": "adapted-bangladesh",
   "metadata": {},
   "source": [
    "Will man andeutet, dass die *Zählervariable* nicht benötigt wird, so verwendet man den ``_`` als ihren Namen."
   ]
  },
  {
   "cell_type": "code",
   "execution_count": 6,
   "id": "subjective-charles",
   "metadata": {},
   "outputs": [
    {
     "name": "stdout",
     "output_type": "stream",
     "text": [
      "42 ist die Antwort!\n",
      "42 ist die Antwort!\n",
      "42 ist die Antwort!\n",
      "42 ist die Antwort!\n",
      "42 ist die Antwort!\n",
      "42 ist die Antwort!\n",
      "42 ist die Antwort!\n",
      "42 ist die Antwort!\n",
      "42 ist die Antwort!\n",
      "42 ist die Antwort!\n"
     ]
    }
   ],
   "source": [
    "for _ in range(10):\n",
    "    print('42 ist die Antwort!')"
   ]
  },
  {
   "cell_type": "markdown",
   "id": "dependent-index",
   "metadata": {},
   "source": [
    "### Die Foreach-Schleife (Fall 2)\n",
    "\n",
    "```python\n",
    "sequenz = ... # some Sequenz of Elements\n",
    "for element in sequenz:\n",
    "    # Codeblock\n",
    "```\n",
    "\n",
    "Der Name mit dem wir die Elemente der Sequenz ansprechen (hier ``element``) kann frei gewählt werden und sollte beschreiben über welche Elemente wir *iterieren*."
   ]
  },
  {
   "cell_type": "code",
   "execution_count": 7,
   "id": "judicial-vulnerability",
   "metadata": {},
   "outputs": [
    {
     "name": "stdout",
     "output_type": "stream",
     "text": [
      "Sarah\n",
      "Sebastian\n",
      "Babar\n",
      "Simon\n",
      "Martin\n"
     ]
    }
   ],
   "source": [
    "names = ['Sarah', 'Sebastian', 'Babar', 'Simon', 'Martin']\n",
    "\n",
    "for name in names:\n",
    "    print(name)"
   ]
  },
  {
   "cell_type": "markdown",
   "id": "sexual-voluntary",
   "metadata": {},
   "source": [
    "``range()`` ist, genau wie eine Liste und ein Tupel, auch eine *Sequenz*.\n",
    "Eine ``for``-Schleife läuft über die Einträge einer *Sequenz* oder anderer *iterierbarer* Strukturen.\n",
    "\n",
    "Es kann durchaus sein, dass wir die ``for``-Schleife auch dann verwenden, wenn nicht genau klar ist wie viele Wiederholungen wir benötigen, sondern nur klar ist, wie viele Wiederholungen wir **maximal** benötigen.\n",
    "\n",
    "Nehmen wir den Test ob eine Zahl $n$ eine Primzahl ist.\n",
    "Ein einfacher Algorithmus für den Test, testet für jede Zahl $2 \\leq m < n$ ob $m$ die Zahl $n$ teilt.\n",
    "Wenn dies der Fall ist, ist $n$ keine Primzahl und wir können die Wiederholung stoppen.\n",
    "Wir wissen demnach, dass wir maximal $n-m-3$ Wiederholungen benötigen.\n",
    "Es könnten jedoch auch weniger sein:"
   ]
  },
  {
   "cell_type": "code",
   "execution_count": 8,
   "id": "separate-pricing",
   "metadata": {},
   "outputs": [
    {
     "name": "stdout",
     "output_type": "stream",
     "text": [
      "True\n",
      "True\n",
      "False\n",
      "True\n"
     ]
    }
   ],
   "source": [
    "def is_prime(n):\n",
    "    prime = True\n",
    "    for i in range(2, n):\n",
    "        if n % i == 0:\n",
    "            prime = False\n",
    "            break\n",
    "    return prime\n",
    "\n",
    "print(is_prime(2))\n",
    "print(is_prime(13))\n",
    "print(is_prime(25))\n",
    "print(is_prime(83))"
   ]
  },
  {
   "cell_type": "markdown",
   "id": "understanding-slope",
   "metadata": {},
   "source": [
    "Um die ``for``-Schleife frühzeitig zu beenden verwenden wir ``break``.\n",
    "Mit ``break`` springen wir aus der **innersten** Schleife heraus.\n",
    "Wir könnten stattdessen auch ``return`` verwenden, um aus der Funktion herauszuspringen:"
   ]
  },
  {
   "cell_type": "code",
   "execution_count": 9,
   "id": "civic-interest",
   "metadata": {},
   "outputs": [
    {
     "name": "stdout",
     "output_type": "stream",
     "text": [
      "True\n",
      "True\n",
      "False\n",
      "True\n"
     ]
    }
   ],
   "source": [
    "def is_prime(n):\n",
    "    for i in range(2, n):\n",
    "        if n % i == 0:\n",
    "            return False\n",
    "    return True\n",
    "\n",
    "print(is_prime(2))\n",
    "print(is_prime(13))\n",
    "print(is_prime(25))\n",
    "print(is_prime(83))"
   ]
  },
  {
   "cell_type": "markdown",
   "id": "metallic-liechtenstein",
   "metadata": {},
   "source": [
    "Eine weitere Steuermöglichkeit bietet ``continue``.\n",
    "Mit ``continue`` springen wir nicht aus der Schleife heraus sondern springen zurück zum Schleifenkopf.\n",
    "Der Code nach ``continue`` wird übersprungen:"
   ]
  },
  {
   "cell_type": "code",
   "execution_count": 10,
   "id": "covered-macro",
   "metadata": {},
   "outputs": [
    {
     "name": "stdout",
     "output_type": "stream",
     "text": [
      "0\n",
      "2\n",
      "4\n",
      "6\n",
      "8\n"
     ]
    },
    {
     "data": {
      "text/plain": [
       "[0, 4, 8, 12, 16]"
      ]
     },
     "execution_count": 10,
     "metadata": {},
     "output_type": "execute_result"
    }
   ],
   "source": [
    "def double_even_numbers(numbers):\n",
    "    result = []\n",
    "    for number in numbers:\n",
    "        if number % 2 == 1:\n",
    "            continue\n",
    "            \n",
    "        print(number)\n",
    "        result.append(number*2)\n",
    "    return result\n",
    "numbers = list(range(10))\n",
    "double_even_numbers(numbers)"
   ]
  },
  {
   "cell_type": "markdown",
   "id": "absolute-commission",
   "metadata": {},
   "source": [
    "Allerdings braucht man ``continue`` so gut wie nie und wenn es verwendet wird handelt es sich oftmals um schlecht leserlichen Code."
   ]
  },
  {
   "cell_type": "code",
   "execution_count": 11,
   "id": "comparative-dietary",
   "metadata": {},
   "outputs": [
    {
     "name": "stdout",
     "output_type": "stream",
     "text": [
      "0\n",
      "2\n",
      "4\n",
      "6\n",
      "8\n"
     ]
    },
    {
     "data": {
      "text/plain": [
       "[0, 4, 8, 12, 16]"
      ]
     },
     "execution_count": 11,
     "metadata": {},
     "output_type": "execute_result"
    }
   ],
   "source": [
    "def double_even_numbers(numbers):\n",
    "    result = []\n",
    "    for number in numbers:\n",
    "        if number % 2 == 0:    \n",
    "            print(number)\n",
    "            result.append(number*2)\n",
    "    return result\n",
    "numbers = list(range(10))\n",
    "double_even_numbers(numbers)"
   ]
  },
  {
   "cell_type": "markdown",
   "id": "advanced-faculty",
   "metadata": {},
   "source": [
    "```{admonition} Kontrollmechanismen der for-Schleife\n",
    ":class: hint\n",
    "Gehen Sie sparsam mit ``break`` und ``continue`` um, oftmals brauchen Sie es nicht!\n",
    "```\n",
    "\n",
    "### Die ``while``-Schleife\n",
    "\n",
    "Die ``while``-Schleife verwenden wir immer dann, wenn wir (zur Laufzeit) **nicht** wissen wie viele Wiederholungen wir maximal benötigen.\n",
    "Die Wiederholung endet sobald eine bestimmte Bedingung, d.h. ein *logischer Ausdruck* ``P`` zu ``False`` ausgewertet wird.\n",
    "\n",
    "```python\n",
    "while P:\n",
    "    # Codeblock1\n",
    "else:\n",
    "    # Codeblock2\n",
    "```\n",
    "\n",
    "``Codeblock2`` wird einmal ausgeführt sobald ``P`` zu ``False`` ausgewertet wird und die ``while``-Schleife verlassen wird, d.h. als letzter Schritt.\n",
    "\n",
    "```{admonition} Endlosschleifen\n",
    ":class: warning\n",
    "Wird ``P`` niemals ``False`` endet die Wiederholung niemals und wir haben eine sog. *Endlosschleife*!\n",
    "```"
   ]
  },
  {
   "cell_type": "code",
   "execution_count": 12,
   "id": "million-flight",
   "metadata": {},
   "outputs": [
    {
     "name": "stdout",
     "output_type": "stream",
     "text": [
      "1\n",
      "2\n",
      "3\n",
      "4\n",
      "5\n",
      "6\n",
      "7\n",
      "8\n",
      "9\n",
      "10\n",
      "end of the while-loop\n"
     ]
    }
   ],
   "source": [
    "i = 0\n",
    "while i < 10:\n",
    "    i += 1\n",
    "    print(i)\n",
    "else:\n",
    "    print('end of the while-loop')"
   ]
  },
  {
   "cell_type": "markdown",
   "id": "rental-shift",
   "metadata": {},
   "source": [
    "```{admonition} Mächtigkeit der While-Schleife\n",
    ":class: important\n",
    "Jede ``for``-Schleife lässt sich in eine ``while``-Schleife transformieren!\n",
    "```"
   ]
  },
  {
   "cell_type": "code",
   "execution_count": 13,
   "id": "configured-packaging",
   "metadata": {},
   "outputs": [
    {
     "name": "stdout",
     "output_type": "stream",
     "text": [
      "Sarah\n",
      "Sebastian\n",
      "Babar\n",
      "Simon\n",
      "Martin\n",
      "\n",
      "Sarah\n",
      "Sebastian\n",
      "Babar\n",
      "Simon\n",
      "Martin\n"
     ]
    }
   ],
   "source": [
    "names = ['Sarah', 'Sebastian', 'Babar', 'Simon', 'Martin']\n",
    "\n",
    "for name in names:\n",
    "    print(name)\n",
    "\n",
    "print()\n",
    "\n",
    "i = 0\n",
    "while i < len(names):\n",
    "    print(names[i])\n",
    "    i += 1"
   ]
  },
  {
   "cell_type": "markdown",
   "id": "fixed-makeup",
   "metadata": {},
   "source": [
    "``while``-Schleifen sind mächtiger aber auch gefährlicher bzw. oftmals schwerer zu lesen und zu verstehen als ``for``-Schleifen.\n",
    "\n",
    "```{admonition} Verwendungskriterium\n",
    ":class: hint\n",
    "Verwenden Sie die ``while``-Schleife nur wenn die ``for``-Schleife ungeeignet ist.\n",
    "```\n",
    "\n",
    "``break`` und ``continue`` funktionieren für die ``while``-Schleife genauso wie für die ``for``-Schleife.\n",
    "\n",
    "```{admonition} Verwendungskriterium While-Schleife\n",
    ":class: hint\n",
    "Gehen Sie sparsam mit ``break`` und ``continue`` um, oftmals brauchen Sie es nicht!\n",
    "```\n",
    "\n",
    "Folgender Code zeigt eine unnötige Verwendung von ``continue``."
   ]
  },
  {
   "cell_type": "code",
   "execution_count": 14,
   "id": "organizational-bangladesh",
   "metadata": {},
   "outputs": [
    {
     "name": "stdout",
     "output_type": "stream",
     "text": [
      "1\n",
      "3\n",
      "5\n",
      "7\n",
      "9\n"
     ]
    }
   ],
   "source": [
    "# bad code!!!\n",
    "i = 0\n",
    "while i < 10:\n",
    "    i += 1\n",
    "    if i % 2 == 0:\n",
    "        continue\n",
    "    print(i)"
   ]
  },
  {
   "cell_type": "markdown",
   "id": "convenient-period",
   "metadata": {},
   "source": [
    "Stattdessen können wir die ``if``-Bedingung anpassen."
   ]
  },
  {
   "cell_type": "code",
   "execution_count": 15,
   "id": "joined-wealth",
   "metadata": {},
   "outputs": [
    {
     "name": "stdout",
     "output_type": "stream",
     "text": [
      "1\n",
      "3\n",
      "5\n",
      "7\n",
      "9\n"
     ]
    }
   ],
   "source": [
    "# better!\n",
    "i = 0\n",
    "while i < 10:\n",
    "    i += 1\n",
    "    if i % 2 == 1:\n",
    "        print(i)"
   ]
  },
  {
   "cell_type": "markdown",
   "id": "several-impact",
   "metadata": {},
   "source": [
    "Oder aber einfach die Zählervariable um zwei statt um eins erhöhen."
   ]
  },
  {
   "cell_type": "code",
   "execution_count": 16,
   "id": "conservative-colon",
   "metadata": {},
   "outputs": [
    {
     "name": "stdout",
     "output_type": "stream",
     "text": [
      "1\n",
      "3\n",
      "5\n",
      "7\n",
      "9\n"
     ]
    }
   ],
   "source": [
    "# even better!\n",
    "i = 1\n",
    "while i < 10:      \n",
    "    print(i)\n",
    "    i += 2"
   ]
  },
  {
   "cell_type": "markdown",
   "id": "painful-folder",
   "metadata": {},
   "source": [
    "Am einfachsten zu lesen bleibt jedoch die ``for``-Schleife."
   ]
  },
  {
   "cell_type": "code",
   "execution_count": 17,
   "id": "smoking-large",
   "metadata": {},
   "outputs": [
    {
     "name": "stdout",
     "output_type": "stream",
     "text": [
      "1\n",
      "3\n",
      "5\n",
      "7\n",
      "9\n"
     ]
    }
   ],
   "source": [
    "# even better!\n",
    "for i in range(1,10,2):\n",
    "  print(i)"
   ]
  },
  {
   "cell_type": "markdown",
   "id": "tender-forestry",
   "metadata": {},
   "source": [
    "```{admonition} Verhindern von Endlosschleifen\n",
    ":class: hint\n",
    "Prüfen Sie immer ob Ihre Bedingung ``P`` durch den Schleifenrumpf garantiert irgendwann ``False`` ergibt!\n",
    "```\n",
    "\n",
    "\n",
    "## Beispiel (ggT)\n",
    "\n",
    "Lassen Sie uns Euklid's Algorithmus ``gcd(m,n)`` zum finden des Größter gemeinsamer Teiler (ggT) zweier ganzer Zahlen von $m$ und $n$ implementieren.\n",
    "\n",
    "Euklid's Algorithmus geht wie folgt vor:\n",
    "\n",
    "1. Berechne den Restwert der Division $m / n$ (Modulodivision). Sei dieser gleich $r$.\n",
    "2. Setze $m \\leftarrow n$, $n \\leftarrow r$ und gehe zurück zu Schritt 1.\n",
    "3. Falls $r = 0$ (und somit $n = 0$), so ist der Algorithmus beendet. Das Ergebnis (ggT) ist $m$. Ansonsten fahre fort."
   ]
  },
  {
   "cell_type": "code",
   "execution_count": 18,
   "id": "certain-hostel",
   "metadata": {},
   "outputs": [
    {
     "data": {
      "text/plain": [
       "12"
      ]
     },
     "execution_count": 18,
     "metadata": {},
     "output_type": "execute_result"
    }
   ],
   "source": [
    "def gcd(m, n):\n",
    "    while n != 0:\n",
    "        r = m % n\n",
    "        m = n\n",
    "        n = r\n",
    "    return m\n",
    "gcd(36, 24)"
   ]
  },
  {
   "cell_type": "markdown",
   "id": "surprised-adult",
   "metadata": {},
   "source": [
    "Durch das packing bzw. unpacking (siehe [Tupel](sec-tuple)) können wir den Code noch verkürzen:"
   ]
  },
  {
   "cell_type": "code",
   "execution_count": 19,
   "id": "extra-development",
   "metadata": {},
   "outputs": [
    {
     "data": {
      "text/plain": [
       "12"
      ]
     },
     "execution_count": 19,
     "metadata": {},
     "output_type": "execute_result"
    }
   ],
   "source": [
    "def gcd(m, n):\n",
    "    while n != 0:\n",
    "        m, n = n, m % n\n",
    "    return m\n",
    "gcd(36, 24)"
   ]
  }
 ],
 "metadata": {
  "jupytext": {
   "formats": "md:myst",
   "text_representation": {
    "extension": ".md",
    "format_name": "myst"
   }
  },
  "kernelspec": {
   "display_name": "Python 3",
   "language": "python",
   "name": "python3"
  },
  "language_info": {
   "codemirror_mode": {
    "name": "ipython",
    "version": 3
   },
   "file_extension": ".py",
   "mimetype": "text/x-python",
   "name": "python",
   "nbconvert_exporter": "python",
   "pygments_lexer": "ipython3",
   "version": "3.9.8"
  },
  "source_map": [
   11,
   34,
   39,
   55,
   64,
   68,
   73,
   77,
   79,
   115,
   118,
   122,
   125,
   137,
   142,
   155,
   168,
   174,
   185,
   191,
   203,
   207,
   217,
   243,
   250,
   257,
   269,
   287,
   295,
   299,
   306,
   310,
   316,
   320,
   324,
   342,
   350,
   354
  ]
 },
 "nbformat": 4,
 "nbformat_minor": 5
}