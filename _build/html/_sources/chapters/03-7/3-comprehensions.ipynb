{
 "cells": [
  {
   "cell_type": "markdown",
   "id": "ideal-civilian",
   "metadata": {},
   "source": [
    "(sec-comprehension)=\n",
    "# Comprehensions\n",
    "\n",
    "Eine Comprehension ist eine Art von ``Python``-[Syntax](def-syntax), die es uns durch eine sehr kompakte Schreibweise erlaubt aus einer Datenstruktur eine andere Datenstruktur zu erstellen.\n",
    "\n",
    "## List-Comprehensions\n",
    "\n",
    "Ein Beispiel:"
   ]
  },
  {
   "cell_type": "code",
   "execution_count": 1,
   "id": "backed-scene",
   "metadata": {},
   "outputs": [
    {
     "name": "stdout",
     "output_type": "stream",
     "text": [
      "numbers: [0, 1, 2, 3, 4, 5, 6, 7, 8, 9]\n",
      "squares: [0, 1, 4, 9, 16, 25, 36, 49, 64, 81]\n"
     ]
    }
   ],
   "source": [
    "numbers = list(range(10))\n",
    "squares = [x*x for x in numbers]\n",
    "\n",
    "print(f'numbers: {numbers}')\n",
    "print(f'squares: {squares}')"
   ]
  },
  {
   "cell_type": "markdown",
   "id": "requested-settle",
   "metadata": {},
   "source": [
    "Wir erzeugen erst eine Liste ``numbers`` und transformieren diese in eine neue Liste aus Quadratzahlen.\n",
    "Dieser Code wird durch den ``Python``-[Interpreter](def-interpreter) in folgenden Code übersetzt:"
   ]
  },
  {
   "cell_type": "code",
   "execution_count": 2,
   "id": "devoted-banner",
   "metadata": {},
   "outputs": [
    {
     "name": "stdout",
     "output_type": "stream",
     "text": [
      "numbers: [0, 1, 2, 3, 4, 5, 6, 7, 8, 9]\n",
      "squares: [0, 1, 4, 9, 16, 25, 36, 49, 64, 81]\n"
     ]
    }
   ],
   "source": [
    "numbers = list(range(10))\n",
    "squares = []\n",
    "\n",
    "for x in numbers:\n",
    "    squares.append(x*x)\n",
    "\n",
    "print(f'numbers: {numbers}')\n",
    "print(f'squares: {squares}')"
   ]
  },
  {
   "cell_type": "markdown",
   "id": "sharing-pulse",
   "metadata": {},
   "source": [
    "``x*x`` ist eine [anonyme Funktion](sec-anonymous-function) in Kurzschreibweise.\n",
    "Wir können dies explizit verdeutlichen:"
   ]
  },
  {
   "cell_type": "code",
   "execution_count": 3,
   "id": "purple-rugby",
   "metadata": {},
   "outputs": [
    {
     "name": "stdout",
     "output_type": "stream",
     "text": [
      "numbers: [0, 1, 2, 3, 4, 5, 6, 7, 8, 9]\n",
      "squares: [0, 1, 4, 9, 16, 25, 36, 49, 64, 81]\n"
     ]
    }
   ],
   "source": [
    "def square(x):\n",
    "    return x*x\n",
    "\n",
    "numbers = list(range(10))\n",
    "squares = [square(x) for x in numbers]\n",
    "\n",
    "print(f'numbers: {numbers}')\n",
    "print(f'squares: {squares}')"
   ]
  },
  {
   "cell_type": "markdown",
   "id": "ordinary-diameter",
   "metadata": {},
   "source": [
    "Wir können die Liste der Elemente der Ursprungsliste auch durch eine Fallunterscheidung filter:"
   ]
  },
  {
   "cell_type": "code",
   "execution_count": 4,
   "id": "facial-roller",
   "metadata": {},
   "outputs": [
    {
     "name": "stdout",
     "output_type": "stream",
     "text": [
      "numbers: [0, 1, 2, 3, 4, 5, 6, 7, 8, 9]\n",
      "squares: [1, 9, 25, 49, 81]\n"
     ]
    }
   ],
   "source": [
    "def square(x):\n",
    "    return x*x\n",
    "\n",
    "numbers = list(range(10))\n",
    "odd_squares = [square(x) for x in numbers if x % 2 == 1]\n",
    "\n",
    "print(f'numbers: {numbers}')\n",
    "print(f'squares: {odd_squares}')"
   ]
  },
  {
   "cell_type": "markdown",
   "id": "traditional-experiment",
   "metadata": {},
   "source": [
    "Wir können auch mehrere Sequenzen kombinieren.\n",
    "Folgender Code"
   ]
  },
  {
   "cell_type": "code",
   "execution_count": 5,
   "id": "parallel-paradise",
   "metadata": {},
   "outputs": [
    {
     "name": "stdout",
     "output_type": "stream",
     "text": [
      "numbers: [0, 1, 1, 2, 2, 3, 3, 4, 4, 5]\n"
     ]
    }
   ],
   "source": [
    "numbers = [i + j for i in range(5) for j in range(2)]\n",
    "print(f'numbers: {numbers}')"
   ]
  },
  {
   "cell_type": "markdown",
   "id": "adjusted-motor",
   "metadata": {},
   "source": [
    "entspricht"
   ]
  },
  {
   "cell_type": "code",
   "execution_count": 6,
   "id": "previous-arcade",
   "metadata": {},
   "outputs": [
    {
     "name": "stdout",
     "output_type": "stream",
     "text": [
      "numbers: [0, 1, 1, 2, 2, 3, 3, 4, 4, 5]\n"
     ]
    }
   ],
   "source": [
    "numbers =[]\n",
    "for i in range(5):\n",
    "    for j in range(2):\n",
    "        numbers.append(i + j)\n",
    "print(f'numbers: {numbers}')"
   ]
  },
  {
   "cell_type": "markdown",
   "id": "golden-alarm",
   "metadata": {},
   "source": [
    "Lassen Sie uns damit eine Matrix $A$ mit\n",
    "\n",
    "$$\n",
    "A = \\begin{pmatrix}\n",
    "    0+0 & 0+1 & 0+2 & \\ldots & 0+(n-1)\\\\\n",
    "    1+0 & 1+1 & 1+2 & \\ldots & 1+(n-1)\\\\\n",
    "    \\vdots & \\vdots & \\vdots & \\vdots\\\\\n",
    "    (m-1) + 0 & (m-1) + 1 & (m-1) + 2 & \\ldots & (m-1)+(n-1)\n",
    "\\end{pmatrix}\n",
    "$$\n",
    "\n",
    "als Liste von Listen generieren:"
   ]
  },
  {
   "cell_type": "code",
   "execution_count": 7,
   "id": "fatal-interim",
   "metadata": {},
   "outputs": [
    {
     "name": "stdout",
     "output_type": "stream",
     "text": [
      "Matrix A: [[0, 1, 2, 3], [1, 2, 3, 4], [2, 3, 4, 5], [3, 4, 5, 6]]\n"
     ]
    }
   ],
   "source": [
    "n = 3\n",
    "m = 4\n",
    "A = [[(i+j) for i in range(m)] for j in range(m)]\n",
    "print(f'Matrix A: {A}')"
   ]
  },
  {
   "cell_type": "markdown",
   "id": "pending-pregnancy",
   "metadata": {},
   "source": [
    "## Dictionary-Comprehensions\n",
    "\n",
    "Sehr ähnlich lässt sich diese Schreibweise für [Wörterbücher](sec-dict) einsetzten."
   ]
  },
  {
   "cell_type": "code",
   "execution_count": 8,
   "id": "nasty-shakespeare",
   "metadata": {},
   "outputs": [
    {
     "data": {
      "text/plain": [
       "{'a': 1, 'b': 8, 'c': 27}"
      ]
     },
     "execution_count": 8,
     "metadata": {},
     "output_type": "execute_result"
    }
   ],
   "source": [
    "x = {'a': 1, 'b': 2, 'c': 3}\n",
    "\n",
    "{key:v**3 for (key, v) in x.items()}"
   ]
  },
  {
   "cell_type": "markdown",
   "id": "laughing-evolution",
   "metadata": {},
   "source": [
    "## Set-Comprehensions\n",
    "\n",
    "Und auch für [Mengen](sec-set) können wir Comprehensions verwenden."
   ]
  },
  {
   "cell_type": "code",
   "execution_count": 9,
   "id": "bibliographic-christopher",
   "metadata": {},
   "outputs": [
    {
     "data": {
      "text/plain": [
       "{1, 4, 9, 16}"
      ]
     },
     "execution_count": 9,
     "metadata": {},
     "output_type": "execute_result"
    }
   ],
   "source": [
    "numbers = {1,2,3,4}\n",
    "\n",
    "{x*x for x in numbers}"
   ]
  }
 ],
 "metadata": {
  "jupytext": {
   "formats": "md:myst",
   "text_representation": {
    "extension": ".md",
    "format_name": "myst"
   }
  },
  "kernelspec": {
   "display_name": "Python 3",
   "language": "python",
   "name": "python3"
  },
  "language_info": {
   "codemirror_mode": {
    "name": "ipython",
    "version": 3
   },
   "file_extension": ".py",
   "mimetype": "text/x-python",
   "name": "python",
   "nbconvert_exporter": "python",
   "pygments_lexer": "ipython3",
   "version": "3.9.8"
  },
  "source_map": [
   11,
   22,
   28,
   33,
   42,
   47,
   56,
   60,
   69,
   74,
   77,
   81,
   87,
   102,
   107,
   113,
   117,
   123
  ]
 },
 "nbformat": 4,
 "nbformat_minor": 5
}