{
 "cells": [
  {
   "cell_type": "markdown",
   "id": "straight-genome",
   "metadata": {},
   "source": [
    "(sec-functions)=\n",
    "# Funktionen\n",
    "\n",
    "Der Schlüssel zur Berechnung von Lösungen bzw. der Verarbeitung von Information ist die [Wiederholung](sec-repetition-and-recursion).\n",
    "Wo es uns [Schleifen](sec-loops) erlauben eine bestimmte Folge von Arbeitsschritte *lokal* mehrfach auszuführen, erlauben es uns Funktionen eine Folge von Arbeitsschritte *global* auszuführen.\n",
    "In beiden Fällen ändern wir den Verlauf der Codeausführung, sodass dieser nicht mehr der Befehlsfolge (gelesen von oben nach unten) entspricht.\n",
    "\n",
    "Funktionen bündeln eine Folge von Arbeitsschritten / Befehle.\n",
    "Es können Parameter definiert werden, sodass wir der Funktion Argumente als Eingabe übergeben.\n",
    "Wir sind im Stande dieses Bündel irgendwo in unserem Code auszuführen (ohne es noch einmal niederzuschreiben).\n",
    "Wird die Funktion im Code aufgerufen, springen wir, bzw. die CPU durch ihren [Befehlszähler](def-program-counter), an die Stelle der Funktion, das Bündel an Anweisungen wird ausgeführt und schlussendlich springen wir wieder an jene Stelle zurück, von der wir hergekommen sind.\n",
    "\n",
    "Durch wiederholtes und verschachteltes Aufrufen einer Funktion erzeugen wir eine Art von Wiederholung.\n",
    "Zum Beispiel:"
   ]
  },
  {
   "cell_type": "code",
   "execution_count": null,
   "id": "coordinated-cocktail",
   "metadata": {},
   "outputs": [],
   "source": [
    "def successor(n):\n",
    "  return n + 1\n",
    "\n",
    "successor(successor(successor(1)))"
   ]
  },
  {
   "cell_type": "markdown",
   "id": "chinese-theater",
   "metadata": {},
   "source": [
    "Ruft sich eine Funktion, bis zu einer bestimmten Abbruchbedingung selbst auf, so sprechen wir von einer sog. [Rekursion](sec-recursion) oder [rekursiven Funktion](sec-recursive-functions).\n",
    "Zum Beispiel:"
   ]
  },
  {
   "cell_type": "code",
   "execution_count": null,
   "id": "naval-muslim",
   "metadata": {},
   "outputs": [],
   "source": [
    "def fib(n):\n",
    "  if n == 0:\n",
    "    return 0\n",
    "  if n == 1:\n",
    "    return 1\n",
    "  return fib(n-1) + fib(n-2)\n",
    "\n",
    "fib(13)"
   ]
  },
  {
   "cell_type": "markdown",
   "id": "monetary-timing",
   "metadata": {},
   "source": [
    "Viele sog. *built-in* (eingebaute) ``Python``-Funktionen haben wir bereits verwendet.\n",
    "Sie werden uns mit der ``Python``-Standard Bibliothek mitgeliefert.\n",
    "Zum Beispiel ist ``type()`` oder auch ``len()`` eine solche Funktion."
   ]
  },
  {
   "cell_type": "code",
   "execution_count": null,
   "id": "mature-amber",
   "metadata": {},
   "outputs": [],
   "source": [
    "type(len)"
   ]
  },
  {
   "cell_type": "markdown",
   "id": "smoking-matthew",
   "metadata": {},
   "source": [
    "``roboworld`` ist beispielsweise ein Modul, d.h. eine Ansammlung von Funktionalität, welches wir nutzten können.\n",
    "Deutlich bekannter ist das Modul ``numpy``, welches für numerische Berechnungen verwendet wird.\n",
    "Um eine Funktion eines Moduls aufzurufen stellen wir den Modulnamen, z.B. ``numpy`` und einen Punkt ``.`` vorne an. Zuvor müssen wir das Modul geladen haben:"
   ]
  },
  {
   "cell_type": "code",
   "execution_count": null,
   "id": "homeless-piano",
   "metadata": {},
   "outputs": [],
   "source": [
    "import numpy\n",
    "numpy.linspace(0, 1, 100)"
   ]
  },
  {
   "cell_type": "code",
   "execution_count": null,
   "id": "union-discussion",
   "metadata": {},
   "outputs": [],
   "source": [
    "type(numpy.linspace)"
   ]
  },
  {
   "cell_type": "markdown",
   "id": "recorded-flexibility",
   "metadata": {},
   "source": [
    "Funktionen sind ein Mittel um Codewiederholungen zu verhindern und auch ein Mittel um Code zu strukturieren und bestimmte Funktionalität zu kapseln.\n",
    "Stellen Sie sich vor wir müssten jedes Mal wenn wir etwas ausgeben wollen den Code der Funktion ``print()`` niederschreiben.\n",
    "Schnell würden unsere Programme lange und auch langweilig und unübersichtlich werden.\n",
    "\n",
    "Gute Funktionen zu schreiben kann sehr befriedigend für uns Computational Thinker\\*innen sein.\n",
    "Wir lösen damit oft ein Teilproblem und kommen der gesamten Lösung näher.\n",
    "Mit ein wenig Erfahrung können wir sogar Probleme lösen indem wir davon ausgehen, ein Teilproblem hätten wir bereits gelöst -- auch wenn dies noch nicht der Fall ist.\n",
    "\n",
    "Wie ist das gemeint?\n",
    "Nun, wir wollen zum Beispiel eine Funktion schreiben, welche uns die ersten ``n`` Primzahlen berechnet und in eine Liste packt.\n",
    "Wir gehen einfach davon aus es gäbe eine Funktion ``is_prime(k)`` die prüft ob ``k`` eine Primzahl ist oder nicht.\n",
    "Unter dieser Annahme schreiben wir unsere Funktion ``prime_list(n)``:"
   ]
  },
  {
   "cell_type": "code",
   "execution_count": null,
   "id": "protecting-garlic",
   "metadata": {},
   "outputs": [],
   "source": [
    "def is_prime(k):\n",
    "  pass\n",
    "\n",
    "def prime_list(n):\n",
    "  primelist = []\n",
    "  k = 1\n",
    "  while len(primelist) < n:\n",
    "    if is_prime(k):\n",
    "      primelist.append(k)\n",
    "    k += 1\n",
    "  return primelist"
   ]
  },
  {
   "cell_type": "markdown",
   "id": "expanded-terrain",
   "metadata": {},
   "source": [
    "Nachdem wir uns um die Generierung der Liste gekümmert haben, widmen wir uns der Funktion ``is_prime(k)``.\n",
    "Oder andere Entwickler\\*innen, die sich besser mit dem Problem auskennen, lösen es."
   ]
  },
  {
   "cell_type": "code",
   "execution_count": null,
   "id": "solid-novel",
   "metadata": {},
   "outputs": [],
   "source": [
    "def is_prime(k):\n",
    "  # a really stupid prime check\n",
    "  if k == 1:\n",
    "    return False\n",
    "  elif k == 2:\n",
    "    return True\n",
    "  else:\n",
    "    for i in range(2,k-1,1):\n",
    "      if k % i == 0:\n",
    "        return False\n",
    "  return True\n",
    "\n",
    "def prime_list(n):\n",
    "  primelist = []\n",
    "  k = 1\n",
    "  while len(primelist) < n:\n",
    "    if is_prime(k):\n",
    "      primelist.append(k)\n",
    "    k += 1\n",
    "  return primelist\n",
    "\n",
    "prime_list(20)"
   ]
  }
 ],
 "metadata": {
  "jupytext": {
   "formats": "md:myst",
   "text_representation": {
    "extension": ".md",
    "format_name": "myst"
   }
  },
  "kernelspec": {
   "display_name": "Python 3",
   "language": "python",
   "name": "python3"
  },
  "source_map": [
   11,
   28,
   33,
   38,
   47,
   53,
   55,
   61,
   66,
   68,
   83,
   95,
   100
  ]
 },
 "nbformat": 4,
 "nbformat_minor": 5
}