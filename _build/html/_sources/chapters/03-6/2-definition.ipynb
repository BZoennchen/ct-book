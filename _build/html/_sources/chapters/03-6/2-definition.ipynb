{
 "cells": [
  {
   "cell_type": "markdown",
   "id": "alien-semester",
   "metadata": {},
   "source": [
    "# Grundlagen\n",
    "\n",
    "Ok, lasst uns ganz frisch starten, von der Definition einer Funktion bis hin zu ihrer Benutzung!\n",
    "\n",
    "## Definition\n",
    "\n",
    "In ``Python`` definieren wir eine Funktion mit dem Signalwort ``def`` (für Definition).\n",
    "Es folgt der Funktionsname und in runden Klammern, getrennt durch Komma, die Argumente der Funktion.\n",
    "Nach dem ``:`` beginnt der Funktionskörper, welcher eingerückt sein muss!\n",
    "\n",
    "```python\n",
    "def name_der_funktion(argument1, argument2, ...):\n",
    "    '''\n",
    "    An dieser Stelle steht der sog. \"docstring\".\n",
    "    Dieser wird ausgegeben wenn help() zur Funktion aufgerufen wird.\n",
    "    Er dient der Dokumentation und soll klären WAS Ihre Funktion macht.\n",
    "    '''\n",
    "    # Code\n",
    "    # Code\n",
    "    return output # (optional)\n",
    "```\n",
    "\n",
    "``Python`` erlaubt uns vor den Code des Funktionskörpers eine Zeichenkette zu schreiben.\n",
    "Diese dient lediglich der Dokumentation.\n",
    "Rufen wir zum Beispiel ``help(name_der_funktion)`` auf, erscheint genau jener Text.\n",
    "Nach diesem ``docstring`` folgt unser Befehlsbündel.\n",
    "\n",
    "Eine Funktion kann kein oder mehrere ``return``-Ausdrücke beinhalten.\n",
    "Allerdings liefert eine ``Python``-Funktion immer etwas zurück.\n",
    "Sollte die Funktion keinen ``return``-Ausdruck beinhalten oder das Programm in einen Zweig laufen, welcher ohne ein ``return`` endet, so gibt die Funktion ``None`` zurück.\n",
    "\n",
    "Der Name für ``name_der_funktion`` darf frei vergeben werden.\n",
    "Jedoch achtet man in der Programmierung stets auf **sprechende** Funktions- und Argumentnamen.\n",
    "Vergleichen Sie:"
   ]
  },
  {
   "cell_type": "code",
   "execution_count": 1,
   "id": "harmful-worker",
   "metadata": {},
   "outputs": [
    {
     "data": {
      "text/plain": [
       "-1"
      ]
     },
     "execution_count": 1,
     "metadata": {},
     "output_type": "execute_result"
    }
   ],
   "source": [
    "def dddd(something, l):\n",
    "    \"\"\"\n",
    "    computes the subtraction of something and l.\n",
    "    \"\"\"\n",
    "    return something - l\n",
    "dddd(5, 6)"
   ]
  },
  {
   "cell_type": "markdown",
   "id": "responsible-accordance",
   "metadata": {},
   "source": [
    "und"
   ]
  },
  {
   "cell_type": "code",
   "execution_count": 2,
   "id": "attractive-reducing",
   "metadata": {},
   "outputs": [
    {
     "data": {
      "text/plain": [
       "-1"
      ]
     },
     "execution_count": 2,
     "metadata": {},
     "output_type": "execute_result"
    }
   ],
   "source": [
    "def subtract(x, y):\n",
    "    \"\"\"\n",
    "    returns x - y\n",
    "    \"\"\"\n",
    "    return x - y\n",
    "subtract(5, 6)"
   ]
  },
  {
   "cell_type": "markdown",
   "id": "suffering-essay",
   "metadata": {},
   "source": [
    "Die erste Benennung erschwert das Lesen und Verstehen der Funktion.\n",
    "Für die zweite Version müssen wir lediglich auf den Namen ``subtract`` und den kurzen ``docstring`` blicken um zu verstehen was die Funktion tut.\n",
    "Den ``docstring`` könnten wir uns auch schenken, doch bedenken Sie dass andere Entwickler\\*innen, welche Ihren Code benutzten, oft nicht in den Code blicken sondern sich lediglich den ``docstring`` ausgeben lassen.\n",
    "\n",
    "```{admonition} Docstrings und Kommentare\n",
    ":class: warning\n",
    "\n",
    "Nichts ist irreführender als fehlerhafte, widersprüchliche oder schlicht falsche Kommentare!\n",
    "```\n",
    "\n",
    "## Rückgabewerte\n",
    "\n",
    "In ``Python`` ist es sehr einfach mehrere Rückgabewerte zu definieren:"
   ]
  },
  {
   "cell_type": "code",
   "execution_count": 3,
   "id": "sacred-demand",
   "metadata": {},
   "outputs": [
    {
     "data": {
      "text/plain": [
       "(1, 3)"
      ]
     },
     "execution_count": 3,
     "metadata": {},
     "output_type": "execute_result"
    }
   ],
   "source": [
    "def modulo(n, k):\n",
    "    \"\"\"\n",
    "    returns div, rest such that n = k * div + rest, \n",
    "    where n, k, div, rest are whole numbers.\n",
    "    \"\"\"\n",
    "    div = n // k\n",
    "    rest = n % k\n",
    "    return div, rest\n",
    "\n",
    "modulo(10, 7)"
   ]
  },
  {
   "cell_type": "markdown",
   "id": "dressed-kansas",
   "metadata": {},
   "source": [
    "Doch genau genommen hat eine ``Python``-Funktion genau einen Rückgabewert.\n",
    "Im obigen Beispiel handelt es sich um **ein** Tupel ``tuple``, wodurch der Eindruck entsteht, wir würden mehrere Werte zurückgeben.\n",
    "Durch das packing und unpacking (siehe Abschnitt [Tupel](sec-tuple)) 'simuliert' ``Python`` mehrere Rückgabewerte."
   ]
  },
  {
   "cell_type": "code",
   "execution_count": 4,
   "id": "explicit-principal",
   "metadata": {},
   "outputs": [
    {
     "name": "stdout",
     "output_type": "stream",
     "text": [
      "1\n",
      "3\n"
     ]
    }
   ],
   "source": [
    "div, rest = modulo(10, 7)\n",
    "print(div)\n",
    "print(rest)"
   ]
  },
  {
   "cell_type": "markdown",
   "id": "solved-holiday",
   "metadata": {},
   "source": [
    "Verwenden wir kein ``return`` so gibt die Funktion (sofern sie keinen Fehler oder eine Endlosschleife verursacht) ``None`` zurück."
   ]
  },
  {
   "cell_type": "code",
   "execution_count": 5,
   "id": "scheduled-label",
   "metadata": {},
   "outputs": [
    {
     "name": "stdout",
     "output_type": "stream",
     "text": [
      "42\n",
      "None\n"
     ]
    }
   ],
   "source": [
    "def print42():\n",
    "    print('42')\n",
    "    \n",
    "print(print42())"
   ]
  },
  {
   "cell_type": "markdown",
   "id": "dutch-pittsburgh",
   "metadata": {},
   "source": [
    "entspricht"
   ]
  },
  {
   "cell_type": "code",
   "execution_count": 6,
   "id": "diagnostic-haiti",
   "metadata": {},
   "outputs": [
    {
     "name": "stdout",
     "output_type": "stream",
     "text": [
      "42\n",
      "None\n"
     ]
    }
   ],
   "source": [
    "def print42():\n",
    "    print('42')\n",
    "    return None\n",
    "    \n",
    "print(print42())"
   ]
  },
  {
   "cell_type": "markdown",
   "id": "colonial-traveler",
   "metadata": {},
   "source": [
    "## Standardwerte für Argumente\n",
    "\n",
    "Wir können Argumenten auch einen sog. Standardwert verpassen.\n",
    "Dieser wird genau dann verwendet, wenn dieses Argument beim Aufruf der Funktion nicht definiert wurde.\n",
    "\n",
    "Erinnern Sie sich noch an die Funktion ``range()``?\n",
    "Diese konnten wir mit einem, zwei, oder drei Argumenten aufrufen.\n",
    "Das gelang, weil auch ``range()`` Standardwerte für zwei der drei Argumente festlegt.\n",
    "\n",
    "Lassen Sie uns eine Funktion ``lrange(start, stop, step)`` definieren, welche eine Liste bestehend aus dem entsprechenden Zahlenbereich ``range(start, stop, step)`` zurückliefert:"
   ]
  },
  {
   "cell_type": "code",
   "execution_count": 7,
   "id": "restricted-president",
   "metadata": {},
   "outputs": [
    {
     "data": {
      "text/plain": [
       "[0, 2, 4, 6, 8]"
      ]
     },
     "execution_count": 7,
     "metadata": {},
     "output_type": "execute_result"
    }
   ],
   "source": [
    "def lrange(start, stop, step):\n",
    "    numbers = list(range(start, stop, step))\n",
    "    return numbers\n",
    "\n",
    "lrange(0, 10, 2)"
   ]
  },
  {
   "cell_type": "markdown",
   "id": "operating-hearts",
   "metadata": {},
   "source": [
    "Die Funktion ``lrange()`` verhält sich wie ``range()``, jedoch gibt Sie eine Liste zurück.\n",
    "Ohne Standardwerte für die Argumente können wir die Funktion jedoch nicht mit nur einem Argument aufrufen."
   ]
  },
  {
   "cell_type": "code",
   "execution_count": 8,
   "id": "worldwide-uniform",
   "metadata": {
    "tags": [
     "raises-exception"
    ]
   },
   "outputs": [
    {
     "ename": "TypeError",
     "evalue": "lrange() missing 2 required positional arguments: 'stop' and 'step'",
     "output_type": "error",
     "traceback": [
      "\u001b[0;31m---------------------------------------------------------------------------\u001b[0m",
      "\u001b[0;31mTypeError\u001b[0m                                 Traceback (most recent call last)",
      "\u001b[0;32m<ipython-input-8-bafd5c29314f>\u001b[0m in \u001b[0;36m<module>\u001b[0;34m\u001b[0m\n\u001b[0;32m----> 1\u001b[0;31m \u001b[0mlrange\u001b[0m\u001b[0;34m(\u001b[0m\u001b[0;36m10\u001b[0m\u001b[0;34m)\u001b[0m\u001b[0;34m\u001b[0m\u001b[0;34m\u001b[0m\u001b[0m\n\u001b[0m",
      "\u001b[0;31mTypeError\u001b[0m: lrange() missing 2 required positional arguments: 'stop' and 'step'"
     ]
    }
   ],
   "source": [
    "lrange(10)"
   ]
  },
  {
   "cell_type": "markdown",
   "id": "black-element",
   "metadata": {},
   "source": [
    "Definieren wir Standardwerte, müssen wir uns überlegen welche Werte sinnvoll sind.\n",
    "Was soll also passieren wenn wir beim Funktionsaufruf bestimmte Argumente weglassen?\n",
    "\n",
    "Standardwerte setzten wir durch eine Zuweisung im Funktionskopf.\n",
    "Dabei müssen alle Argumente mit Standardwerten **hinten stehen!** \n",
    "Folgender Code wird ebenfalls zu einem Fehler führen:"
   ]
  },
  {
   "cell_type": "code",
   "execution_count": 9,
   "id": "major-georgia",
   "metadata": {
    "tags": [
     "raises-exception"
    ]
   },
   "outputs": [
    {
     "ename": "SyntaxError",
     "evalue": "non-default argument follows default argument (<ipython-input-9-acf95338e539>, line 1)",
     "output_type": "error",
     "traceback": [
      "\u001b[0;36m  File \u001b[0;32m\"<ipython-input-9-acf95338e539>\"\u001b[0;36m, line \u001b[0;32m1\u001b[0m\n\u001b[0;31m    def lrange(start=0, stop, step=1):\u001b[0m\n\u001b[0m                              ^\u001b[0m\n\u001b[0;31mSyntaxError\u001b[0m\u001b[0;31m:\u001b[0m non-default argument follows default argument\n"
     ]
    }
   ],
   "source": [
    "def lrange(start=0, stop, step=1):\n",
    "    numbers = list(range(start, stop, step))\n",
    "    return numbers\n",
    "\n",
    "lrange(0, 10, 2)"
   ]
  },
  {
   "cell_type": "markdown",
   "id": "allied-bunny",
   "metadata": {},
   "source": [
    "Wir müssen die Reihenfolge der Argumente verändern (und diese Änderung auch beim Aufruf der Funktion berücksichtigen):"
   ]
  },
  {
   "cell_type": "code",
   "execution_count": 10,
   "id": "novel-timing",
   "metadata": {},
   "outputs": [
    {
     "name": "stdout",
     "output_type": "stream",
     "text": [
      "[0, 2, 4, 6, 8]\n",
      "[0, 1, 2, 3, 4, 5, 6, 7, 8, 9]\n"
     ]
    }
   ],
   "source": [
    "def lrange(stop, start=0, step=1):\n",
    "    numbers = list(range(start, stop, step))\n",
    "    return numbers\n",
    "\n",
    "print(lrange(10, 0, 2))\n",
    "print(lrange(10))"
   ]
  },
  {
   "cell_type": "markdown",
   "id": "cooked-discount",
   "metadata": {},
   "source": [
    "Wir können auch **einzelne** Standardargumente beim Funktionsaufruf verändern. \n",
    "Zum Beispiel wollen wir vielleicht eine Liste mit ``lrange()`` erzeugen, für die ``stop=10``, ``start=0`` und ``step=2`` gilt. \n",
    "Da wir ``start`` weiterhin auf dem Standardwert ``0`` belassen, müssen wir es nicht angeben."
   ]
  },
  {
   "cell_type": "code",
   "execution_count": 11,
   "id": "certain-marsh",
   "metadata": {},
   "outputs": [
    {
     "data": {
      "text/plain": [
       "[0, 2, 4, 6, 8]"
      ]
     },
     "execution_count": 11,
     "metadata": {},
     "output_type": "execute_result"
    }
   ],
   "source": [
    "lrange(10, step=2)"
   ]
  },
  {
   "cell_type": "markdown",
   "id": "heavy-hartford",
   "metadata": {},
   "source": [
    "Um den Code besser lesen zu können macht es hin und wieder Sinn, diese Schreibweise auch dann zu verwenden, wenn Sie eigentlich gar nicht notwendig wäre."
   ]
  },
  {
   "cell_type": "code",
   "execution_count": 12,
   "id": "artistic-league",
   "metadata": {},
   "outputs": [
    {
     "data": {
      "text/plain": [
       "[0, 2, 4, 6, 8]"
      ]
     },
     "execution_count": 12,
     "metadata": {},
     "output_type": "execute_result"
    }
   ],
   "source": [
    "lrange(stop=10, start=0, step=2)"
   ]
  },
  {
   "cell_type": "markdown",
   "id": "assisted-substance",
   "metadata": {},
   "source": [
    "Verwenden wir diese Schreibweise, können wir auch die Reihenfolge der Argumente missachten:"
   ]
  },
  {
   "cell_type": "code",
   "execution_count": 13,
   "id": "characteristic-corps",
   "metadata": {},
   "outputs": [
    {
     "data": {
      "text/plain": [
       "[0, 2, 4, 6, 8]"
      ]
     },
     "execution_count": 13,
     "metadata": {},
     "output_type": "execute_result"
    }
   ],
   "source": [
    "lrange(start=0, stop=10, step=2)"
   ]
  },
  {
   "cell_type": "markdown",
   "id": "proud-offense",
   "metadata": {},
   "source": [
    "Lassen Sie sich nicht verwirren wenn wir einem Argument eine Variable zuweisen die denselben Namen trägt:"
   ]
  },
  {
   "cell_type": "code",
   "execution_count": 14,
   "id": "automated-concentrate",
   "metadata": {},
   "outputs": [
    {
     "data": {
      "text/plain": [
       "[0, 2, 4, 6, 8]"
      ]
     },
     "execution_count": 14,
     "metadata": {},
     "output_type": "execute_result"
    }
   ],
   "source": [
    "start = 0\n",
    "lrange(start=start, stop=10, step=2)"
   ]
  },
  {
   "cell_type": "markdown",
   "id": "unable-condition",
   "metadata": {},
   "source": [
    "Diese beiden Variablen mit dem Namen ``start`` sind nicht dieselben Variablen.\n",
    "Das linke ``start`` ist das Argument welches die Funktion schlussendlich verwendet und das rechte ``start`` ist die Variable, die wir zuvor definiert haben.\n",
    "Wir setzten beim Aufruf die Adresse des linken ``start`` auf die Adresse des rechten ``start``."
   ]
  }
 ],
 "metadata": {
  "jupytext": {
   "formats": "md:myst",
   "text_representation": {
    "extension": ".md",
    "format_name": "myst"
   }
  },
  "kernelspec": {
   "display_name": "Python 3",
   "language": "python",
   "name": "python3"
  },
  "language_info": {
   "codemirror_mode": {
    "name": "ipython",
    "version": 3
   },
   "file_extension": ".py",
   "mimetype": "text/x-python",
   "name": "python",
   "nbconvert_exporter": "python",
   "pygments_lexer": "ipython3",
   "version": "3.9.8"
  },
  "source_map": [
   11,
   48,
   55,
   59,
   66,
   82,
   93,
   100,
   104,
   108,
   113,
   117,
   123,
   136,
   142,
   147,
   152,
   161,
   170,
   174,
   181,
   187,
   189,
   193,
   195,
   199,
   201,
   205,
   208
  ]
 },
 "nbformat": 4,
 "nbformat_minor": 5
}