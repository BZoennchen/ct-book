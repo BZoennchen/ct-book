{
 "cells": [
  {
   "cell_type": "markdown",
   "id": "8c65244c",
   "metadata": {},
   "source": [
    "(sec-kind-of-data-types)=\n",
    "# Arten von Datentypen\n",
    "\n",
    "Der *Datentyp* einer Variablen gibt an, wie die [Bits](def-bit) und [Bytes](def-byte) [interpretiert](sec-interpretation) werden.\n",
    "Die Bits und Bytes des Speicherbereichs, auf welchen die Variable *zeigt*, machen den *Wert* der Variablen aus.\n",
    "Im folgenden definieren und initialisieren wir Variablen mit unterschiedlichen Datentypen: \n",
    "\n",
    "+ [Ganze Zahl](sec-int) ``int``, \n",
    "+ [Fließkommazahl](sec-float) ``float``, \n",
    "+ [Zeichenkette](sec-string) ``str``, \n",
    "+ [Wahrheitswert](sec-bool) ``bool``, \n",
    "+ eine [Liste](sec-list) ``list``, welche ganze Zahlen ``int`` enthält und\n",
    "+ ein [Tupel](sec-tuple) ``tuple``, welche Zeichenketten ``str`` enthält."
   ]
  },
  {
   "cell_type": "code",
   "execution_count": 1,
   "id": "ef8f940b",
   "metadata": {},
   "outputs": [],
   "source": [
    "number = 111\n",
    "floating_number = 1.3\n",
    "characters = 'Hello'\n",
    "boolean = True\n",
    "mylist = [1,2,3,4]\n",
    "mytuple = ('A', 'B', 'C')"
   ]
  },
  {
   "cell_type": "markdown",
   "id": "4de09287",
   "metadata": {},
   "source": [
    "Beim Datentyp ``list`` und ``tuple`` fällt auf, dass diese Werte eines anderen Datentyps enthalten, hier ``int`` und ``str``.\n",
    "Solche Datentypen nennen wir [zusammengesetzt Datentypen](sec-datastructures)) wohingegen wir Datentypen, welche wir nicht zerlegen können als [atomare Datentypen](def-atomare-data-types) bezeichnen.\n",
    "Diese *atomaren Datentypen* können zudem auch [atomare Datentypen](def-primitive-datatypes) sein.\n",
    "\n",
    "Zudem gibt es Datentypen, welche von der jeweiligen Programmiersprache definiert sind und solche die Sie selbst definieren.\n",
    "Erstere nennen wir *built-in Datentypen* und letztere werden durch *Klassen* realisiert.\n",
    "Wir werden auf [Klassen](sec-class-and-object) erst am Ende des Kurses eingehen.\n",
    "\n",
    "Zusammenfassend gibt es fünf Arten von Datentypen:\n",
    "\n",
    "1. Primitive Datentypen,\n",
    "2. atomare Datentypen\n",
    "3. zusammengesetzte Datentypen,\n",
    "4. built-in Datentypen und\n",
    "5. eigens definierte Datentypen.\n",
    "\n",
    "Dabei ist ein Datentyp entweder atomar oder zusammengesetzt und zugleich entweder built-in oder eigens definiert.\n",
    "Primitive Datentypen sind spezielle atomare Datentypen.\n",
    "Oftmals sind built-in Datentypen zugleich primitive Datentypen (siehe z.B. ``Java``, ``C/C++``).\n",
    "Eigens definierte Datentypen können niemals primitiv sein.\n",
    "\n",
    "## Primitive Datentypen\n",
    "\n",
    "```{admonition} Primitive Datentypen\n",
    ":name: def-primitive-datatypes\n",
    ":class: definition\n",
    "\n",
    "*Primitive Datentypen* sind jene Datentypen aus denen alle anderen Datentypen einer Sprache hervorgehen.\n",
    "Sie sind nicht weiter reduzierbar.\n",
    "```\n",
    "\n",
    "Unsere Definitionen von [atomaren](def-atomare-data-types) und [primitiven](def-primitive-datatypes) Datentypen ähneln sich sehr.\n",
    "\n",
    ">Worin besteht der Unterschied zwischen einem primitiven und einem atomaren Datentyp?\n",
    "\n",
    "Nehmen wir zum Beispiel den ``Python`` Datentyp ``int``.\n",
    "Der Wert vom Typ ``int`` besteht nicht nur ais dem reinen Wert der ganzen Zahl sondern enthält zusätzlich noch einen Zähler, welcher angibt wie viele Variablen auf den Wert verweisen.\n",
    "Das heißt wir können ``int`` weiter in den Zähler und den eigentlichen Wert zerlegen.\n",
    "Allerdings macht es keinen Sinn diese beiden Teile zu zersplittern und separat weiter zu verarbeiten -- sie gehören zusammen, da sie nur gemeinsam verarbeitbar sind!\n",
    "Zeichenketten sind weder primitiv noch atomar, denn eine Zeichenkette lässt sich in ihre einzelnen Zeichen zersplittern und die Weiterverarbeitung der einzelner Zeichen macht durchaus Sinn.\n",
    "\n",
    "Übertragen wir das auf die 'echte' Welt, so könnte man bei einem Brief von einem Wert eines [zusammengesetzten Datentyps](def-data-structures) sprechen.\n",
    "Dieser enthält einen Briefkopf, ein Datum einen Absender, Empfänger und den Text.\n",
    "Das Datum ist wiederum ein *zusammengesetzten Datentyp* bestehend aus Tag, Monat und Jahr.\n",
    "Der Tag ist schließlich ein *primitiver* oder (in ``Python``) ein *atomarer* Datentyp (eine Zahl zwischen 0 und 31).\n",
    "\n",
    "```{exercise} Der Datentyp Zeichenkette\n",
    ":label: datatype-str-exercise\n",
    "Ist ``set``, d.h. eine Menge, ein atomarer oder zusammengesetzter Datentyp?\n",
    "Begründen Sie Ihre Antwort.\n",
    "```\n",
    "\n",
    "```{solution} datatype-str-exercise\n",
    ":label: datatype-str-solution\n",
    ":class: dropdown\n",
    "\n",
    "``set`` ist ein zusammengesetzter Datentyp dessen Wert eine variable Anzahl an Werten verschiedener Datentypen enthalten kann.\n",
    "```\n",
    "\n",
    "(sec-built-in-data-types)=\n",
    "## Built-in Datentypen\n",
    "\n",
    "*Built-in* Datentypen sind jene Datentypen, welche die Programmiersprache (ohne weitere Bibliotheken) mitliefert.\n",
    "Zur Vollständigkeit listen wir hier alle *built-in Datentypen* von ``Python`` auf.\n",
    "Einige davon werden Sie jedoch in diesem Kurs nicht verwenden.\n",
    "Die wichtigsten *built-in Datentypen* sind hervorgehobenen:\n",
    "\n",
    "1. **Das Nichts** ``None``\n",
    "2. Zahlen (Numbers)\n",
    "   + **Ganze Zahlen** ``int``\n",
    "   + **Fließkommazahl (rationale Zahlen)** ``float``\n",
    "   + Komplexe Zahlen ``complex``\n",
    "3. Sequenzen (Sequences)\n",
    "    1. Unveränderlich\n",
    "       + **Zeichenketten** ``str``\n",
    "       + **Tupels** ``tuple``\n",
    "       + Bytes ``bytes``\n",
    "    2. Veränderlich\n",
    "       + **Listen** ``list``\n",
    "       + Byte Arrays ``bytearray``\n",
    "4. Mengen (Set types)\n",
    "   + **(normale) Mengen** ``set``\n",
    "   + (gefrorene Mengen) ``frozenset``\n",
    "5. Abbildungen (Mappings)\n",
    "   + **Wörterbuch** ``dict``\n",
    "6. Aufrufbare Typen (Callable)\n",
    "   + **Funktionen**\n",
    "   + Methoden\n",
    "   + Klassen\n",
    "7. Module\n",
    "\n",
    "Diese Datentypen stehen Ihnen zur Verfügung sobald Sie ``Python`` auf Ihrem System oder Ihrer Umgebung installiert haben.\n",
    "\n",
    "Anders als in vielen anderen Sprachen müssen Sie den (built-in) Datentyp einer Variablen in ``Python`` nicht explizit angeben.\n",
    "``Python`` schließt von der Schreibweise des Wertes automatisch auf den richtigen Datentyp.\n",
    "\n",
    "Eine Folge von Ziffern mit einem optional vorangestellten Minuszeichen werden als ganze Zahl ``int`` interpretiert.\n",
    "Befindet sich in der Folge ein Punkt ``.`` so wird der Wert als Fließkommazahl interpretiert.\n",
    "Sie können den Datentyp einer Variablen ``x`` oder eines Wertes mit ``type(x)`` abfragen:"
   ]
  },
  {
   "cell_type": "code",
   "execution_count": 2,
   "id": "67e5fddc",
   "metadata": {},
   "outputs": [
    {
     "data": {
      "text/plain": [
       "int"
      ]
     },
     "execution_count": 2,
     "metadata": {},
     "output_type": "execute_result"
    }
   ],
   "source": [
    "type(-3123)"
   ]
  },
  {
   "cell_type": "code",
   "execution_count": 3,
   "id": "953e5c96",
   "metadata": {},
   "outputs": [
    {
     "data": {
      "text/plain": [
       "float"
      ]
     },
     "execution_count": 3,
     "metadata": {},
     "output_type": "execute_result"
    }
   ],
   "source": [
    "type(1.313)"
   ]
  },
  {
   "cell_type": "code",
   "execution_count": 4,
   "id": "137ab683",
   "metadata": {},
   "outputs": [
    {
     "data": {
      "text/plain": [
       "str"
      ]
     },
     "execution_count": 4,
     "metadata": {},
     "output_type": "execute_result"
    }
   ],
   "source": [
    "name = 'Anna'\n",
    "type(name)"
   ]
  },
  {
   "cell_type": "code",
   "execution_count": 5,
   "id": "69381aac",
   "metadata": {},
   "outputs": [
    {
     "name": "stdout",
     "output_type": "stream",
     "text": [
      "List Type: <class 'list'>\n",
      "Element 0 Type: <class 'int'>\n",
      "Element 4 Type: <class 'str'>\n"
     ]
    }
   ],
   "source": [
    "mylist = [1, 2, 3, 4, 'A']\n",
    "print(f'List Type: {type(mylist)}')\n",
    "print(f'Element 0 Type: {type(mylist[0])}')\n",
    "print(f'Element 4 Type: {type(mylist[4])}')"
   ]
  },
  {
   "cell_type": "markdown",
   "id": "895db696",
   "metadata": {},
   "source": [
    "## Zusammengesetzte Datentypen\n",
    "\n",
    "Zusammengesetzte Datentypen definieren wir durch andere Datentypen, welche bereits definiert wurden.\n",
    "Die Basis der zusammengesetzten Datentypen sind deshalb entweder *built-in Datentypen* der Sprache oder eigens definierte zusammengesetzte Datentypen.\n",
    "\n",
    "Angenommen Sie wollen den Datentyp ``Person`` definieren welcher sich dadurch auszeichnet, dass er sich aus zwei Zeichenketten ``str`` nämlich dem Vor- und Nachnamen zusammensetzt.\n",
    "Durch [Klassen](sec-class-and-object) können Sie einen solchen Datentyp definieren.\n",
    "Wie wir dies machen, werden wir auf einen späteren Zeitpunkt verschieben.\n",
    "\n",
    "Listen ``list``, Tupel ``tuple``, Mengen ``set`` und Wörterbücher ``dict`` sind *zusammengesetzter built-in Datentypen* und zugleich enthalten die Werte (Objekte) dieser Datentypen eine\n",
    "variable Anzahl an Elementen unterschiedlicher Datentypen.\n",
    "Eine gute Analogie zu diesen sog, [Sammlung / Kollektion (engl. Collections)](def-collection) sind physikalische Ordner, Schließfächer, Listen auf Papier geschrieben, Rücksäcke, Körbe, Tüten und andere physikalischen Objekte die wir im Alltag verwenden um andere physikalische Objekte zu ordnen, strukturieren oder schlicht zu halten.\n",
    "Auch der Arbeitsspeicher ist in diesem Sinne eine sowohl physikalische wie auch virtuelle Kollektion an Bits.\n",
    "\n",
    "```{admonition} Sammlung (Collection)\n",
    ":name: def-collection\n",
    ":class: definition\n",
    "\n",
    "Als *Sammlung* bezeichnen wir alle Datentypen ([Tupel](sec-tuple), [Dictionary](def-python-dictionary), [Listen](sec-list), [Mengen](sec-set) usw.), die eine **variable Anzahl** an anderen Elementen (normalerweise mehrere) beinhalten.\n",
    "\n",
    "```\n",
    "\n",
    "Mit **variabler Anzahl** ist gemeint, dass es Sammlung gibt, welche 5 Elemente enthalten und Sammlung gibt die 1000 Elementen enthalten.\n",
    "Es kann dennoch sein, dass eine Sammlung die 10 Elemente enthält nicht verändert werden kann, d.h. sie wird auf immer dieser 10 Elemente enthalten."
   ]
  },
  {
   "cell_type": "code",
   "execution_count": 6,
   "id": "b3248675",
   "metadata": {},
   "outputs": [
    {
     "data": {
      "text/plain": [
       "[1, 2, 'A', 3, 1.23, [1, 2, 3]]"
      ]
     },
     "execution_count": 6,
     "metadata": {},
     "output_type": "execute_result"
    }
   ],
   "source": [
    "mylist = [1, 2, 'A', 3, 1.23, [1, 2, 3]]\n",
    "mylist"
   ]
  },
  {
   "cell_type": "code",
   "execution_count": 7,
   "id": "81fc9939",
   "metadata": {},
   "outputs": [
    {
     "data": {
      "text/plain": [
       "([1, 2, 'A', 3, 1.23, [1, 2, 3]], 'D')"
      ]
     },
     "execution_count": 7,
     "metadata": {},
     "output_type": "execute_result"
    }
   ],
   "source": [
    "mytuple = (mylist, 'D')\n",
    "mytuple"
   ]
  },
  {
   "cell_type": "code",
   "execution_count": 8,
   "id": "bdba3f42",
   "metadata": {},
   "outputs": [
    {
     "data": {
      "text/plain": [
       "{'firstname': 'Paulina', 'lastname': 'Schmidt', 'age': 23}"
      ]
     },
     "execution_count": 8,
     "metadata": {},
     "output_type": "execute_result"
    }
   ],
   "source": [
    "mydict = {'firstname' : 'Paulina', 'lastname' : 'Schmidt', 'age' : 23 }\n",
    "mydict"
   ]
  },
  {
   "cell_type": "code",
   "execution_count": 9,
   "id": "0359621c",
   "metadata": {},
   "outputs": [
    {
     "data": {
      "text/plain": [
       "{1, 2, 3, 4, 5, 6, 7, 8, 9, 10, 11, 12}"
      ]
     },
     "execution_count": 9,
     "metadata": {},
     "output_type": "execute_result"
    }
   ],
   "source": [
    "month = {1, 2, 3, 4, 5, 6, 7, 8, 9, 10, 11, 12}\n",
    "month"
   ]
  },
  {
   "cell_type": "markdown",
   "id": "8e4a4aaf",
   "metadata": {},
   "source": [
    "Eine Zeichenkette ``str`` ist ebenfalls eine Kollektion, jedoch sind deren Elemente alle vom gleichen Typ -- dem Zeichen."
   ]
  }
 ],
 "metadata": {
  "jupytext": {
   "formats": "md:myst",
   "text_representation": {
    "extension": ".md",
    "format_name": "myst"
   }
  },
  "kernelspec": {
   "display_name": "Python 3",
   "language": "python",
   "name": "python3"
  },
  "language_info": {
   "codemirror_mode": {
    "name": "ipython",
    "version": 3
   },
   "file_extension": ".py",
   "mimetype": "text/x-python",
   "name": "python",
   "nbconvert_exporter": "python",
   "pygments_lexer": "ipython3",
   "version": "3.11.4"
  },
  "source_map": [
   11,
   27,
   34,
   136,
   140,
   144,
   149,
   154,
   181,
   186,
   191,
   196,
   199
  ]
 },
 "nbformat": 4,
 "nbformat_minor": 5
}