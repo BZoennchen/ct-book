{
 "cells": [
  {
   "cell_type": "markdown",
   "id": "243228d3",
   "metadata": {},
   "source": [
    "(sec-data-types-advanced)=\n",
    "# Datentypen (Fortsetzung)\n",
    "\n",
    "Wie bereits erwähnt geht es in diesem Kapitel um die feinen aber durchaus wichtigen Details.\n",
    "Wir widmen uns folgenden Fragen:\n",
    "\n",
    "1. Was ist der Unterschied zwischen statischer und dynamischer Typisierung? Abschnitt [5.1 Dynamische und statische Typisierung](sec-type-systems).\n",
    "2. Weshalb gibt es überhaupt Datentypen? Abschnitt [5.2 Existenzberechtigung](sec-why-data-types).\n",
    "3. Was passiert bei einer Änderung des Datentyps einer Variablen? Abschnitt [5.3 Interpretationswechsel](sec-change-of-data-types).\n",
    "4. Welche Datentypen gibt es? Abschnitt [5.4 Arten von Datentypen](sec-kind-of-data-types).\n",
    "5. Warum gibt es in Python keine primitiven Datentypen? Abschnitt [5.5 Primitive Datentypen in Python?](sec-primitive-data-types-in-python))."
   ]
  }
 ],
 "metadata": {
  "jupytext": {
   "formats": "md:myst",
   "text_representation": {
    "extension": ".md",
    "format_name": "myst"
   }
  },
  "kernelspec": {
   "display_name": "Python 3",
   "language": "python",
   "name": "python3"
  },
  "source_map": [
   11
  ]
 },
 "nbformat": 4,
 "nbformat_minor": 5
}