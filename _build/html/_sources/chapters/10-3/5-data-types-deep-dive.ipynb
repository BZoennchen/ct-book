{
 "cells": [
  {
   "cell_type": "markdown",
   "id": "tired-thesaurus",
   "metadata": {},
   "source": [
    "(sec-datatypes-sequel)=\n",
    "# Datentypen (Fortsetzung)\n",
    "\n",
    "## Arten von Datentypen\n",
    "\n",
    "Der **Datentyp** einer Variablen gibt an, wie die Bits und Bytes interpretiert werden.\n",
    "Die Bits und Bytes des Speicherbereichs auf welchen die Variable *zeigt* machen den *Wert* der Variablen aus.\n",
    "Im folgenden definieren und initialisieren wir Variablen mit unterschiedlichen Datentypen: \n",
    "\n",
    "+ Ganze Zahl ``int``, \n",
    "+ Fließkommazahl ``float``, \n",
    "+ Zeichenkette ``str``, \n",
    "+ Wahrheitswert ``bool``, \n",
    "+ eine Liste ``list``, welche ganze Zahlen ``int`` enthält und\n",
    "+ ein Tupel ``tuple``, welche Zeichenketten ``str`` enthält."
   ]
  },
  {
   "cell_type": "code",
   "execution_count": 1,
   "id": "fatty-ottawa",
   "metadata": {},
   "outputs": [],
   "source": [
    "number = 111\n",
    "floating_number = 1.3\n",
    "characters = 'Hello'\n",
    "boolean = True\n",
    "mylist = [1,2,3,4]\n",
    "mytuple = ('A', 'B', 'C')"
   ]
  },
  {
   "cell_type": "markdown",
   "id": "distinct-rachel",
   "metadata": {},
   "source": [
    "Beim Datentyp ``list`` und ``tuple`` fällt auf, dass diese Werte eines anderen Datentyps enthalten, hier ``int`` und ``str``.\n",
    "Solche Datentypen nennen wir auch *zusammengesetzt Datentypen* wohingegen wir Datentypen, welche wir nicht zerlegen können als [primitive Datentypen](def-primitive-datatypes) bezeichnen.\n",
    "Zudem gibt es Datentypen, welche von der Programmiersprache die Sie verwenden von vornherein definiert sind und solche die Sie selbst definieren.\n",
    "Erstere nennen wir *built-in Datentypen* und letztere werden durch *Klassen* realisiert.\n",
    "Wir werden auf *Klassen* erst am Ende des Kurses eingehen.\n",
    "\n",
    "Zusammenfassend gibt es vier Arten von Datentypen:\n",
    "\n",
    "1. Primitive Datentypen,\n",
    "2. zusammengesetzte Datentypen,\n",
    "3. built-in Datentypen und\n",
    "4. eigens definierte Datentypen.\n",
    "\n",
    "Dabei ist ein Datentyp entweder primitiv oder zusammengesetzt und zugleich entweder built-in oder eigens definiert.\n",
    "Oftmals sind built-in Datentypen zugleich primitive Datentypen (siehe z.B. ``Java``, ``C/C++``) und eigens definierte Datentypen sind immer auch zusammengesetzte Datentypen.\n",
    "\n",
    "### Primitive Datentypen\n",
    "\n",
    "```{admonition} Primitive Datentypen\n",
    ":name: def-primitive-datatypes\n",
    "\n",
    "*Primitive Datentypen* sind jene Datentypen für die wir einen festen Speicherbereich definieren.\n",
    "Ein *primitiver Datentyp* besteht aus keiner Komposition anderer Datentypen.\n",
    "Ebenso besteht eine Variable vom Typ eines primitive Datentypen eben nicht aus einer Komposition anderer Variablen.\n",
    "```\n",
    "\n",
    "Ein *Wert* eines *primitiven Datentyps* belegt im Speicher immer die selbe Anzahl an [Bits](def-bit), wohingegen Werte von *zusammengesetzte Datentypen* unterschiedlich viel Speicher verbrauchen können.\n",
    "Zudem kann ein *primitiver Datentyp* nicht weiter in andere Datentypen zerlegt werden.\n",
    "\n",
    "Übertragen wir das auf die 'echte' Welt, so könnte man bei einem Brief von einem *zusammengesetzten Datentyp* sprechen.\n",
    "Dieser enthält einen Briefkopf, ein Datum einen Absender, Empfänger und den Text.\n",
    "Das Datum ist wiederum ein *zusammengesetzten Datentyp* bestehend aus Tag, Monat und Jahr.\n",
    "Der Tag ist schließlich ein *primitiver Datentyp* (eine Zahl zwischen 0 und 31).\n",
    "\n",
    "```{exercise} Der Datentyp Zeichenkette\n",
    ":label: datatype-str-exercise\n",
    "Ist ``str``, d.h. die Zeichenkette, ein primitiver oder zusammengesetzter Datentyp?\n",
    "Begründen Sie Ihre Antwort.\n",
    "```\n",
    "\n",
    "```{solution} datatype-str-exercise\n",
    ":label: datatype-str-solution\n",
    ":class: dropdown\n",
    "\n",
    "``str`` ist ein zusammengesetzter Datentyp.\n",
    "Zeichenketten haben eine variable Länge und so muss auch der Speicherbereich der von ihnen belegt wird variable sein.\n",
    "Eine Zeichenkette ist eine Liste aus Zeichen.\n",
    "Wir können den Datentyp Zeichenkette also in den Datentyp Zeichen zerlegen.\n",
    "```\n",
    "\n",
    "### Built-in Datentypen\n",
    "\n",
    "*Built-in* Datentypen sind jene Datentypen, welche die Programmiersprache (ohne weitere Bibliotheken) mitliefert.\n",
    "Zur Vollständigkeit listen wir hier alle *built-in Datentypen* von ``Python`` auf.\n",
    "Einige davon werden Sie jedoch in diesem Kurs nicht verwenden.\n",
    "Die wichtigsten *built-in Datentypen* sind hervorgehobenen:\n",
    "\n",
    "1. **Das Nichts** ``None``\n",
    "2. Zahlen (Numbers)\n",
    "   + **Ganze Zahlen** ``int``\n",
    "   + **Fließkommazahl (rationale Zahlen)** ``float``\n",
    "   + Komplexe Zahlen ``complex``\n",
    "3. Sequenzen (Sequences)\n",
    "    1. Unveränderlich\n",
    "       + **Zeichenketten** ``str``\n",
    "       + **Tupels** ``tuple``\n",
    "       + Bytes ``bytes``\n",
    "    2. Veränderlich\n",
    "       + **Listen** ``list``\n",
    "       + Byte Arrays ``bytearray``\n",
    "4. Mengen (Set types)\n",
    "   + **(normale) Mengen** ``set``\n",
    "   + (gefrorene Mengen) ``frozenset``\n",
    "5. Abbildungen (Mappings)\n",
    "   + **Wörterbuch** ``dict``\n",
    "6. Aufrufbare Typen (Callable)\n",
    "   + **Funktionen**\n",
    "   + Methoden\n",
    "   + Klassen\n",
    "7. Module\n",
    "\n",
    "Diese Datentypen stehen Ihnen zur Verfügung sobald Sie ``Python`` auf Ihrem System oder Ihrer Umgebung installiert haben.\n",
    "\n",
    "Anders als in vielen anderen Sprachen müssen Sie den (built-in) Datentyp einer Variablen in ``Python`` nicht explizit angeben.\n",
    "``Python`` schließt von der Schreibweise des Wertes automatisch auf den richtigen Datentyp.\n",
    "Eine Folge von Ziffern mit einem optional vorangestellten Minuszeichen werden als ganze Zahl ``int`` interpretiert.\n",
    "Befindet sich in der Folge ein Punkt ``.`` so wird der Wert als Fließkommazahl interpretiert.\n",
    "Sie können den Datentyp einer Variablen ``x`` oder eines Wertes mit ``type(x)`` abfragen:"
   ]
  },
  {
   "cell_type": "code",
   "execution_count": 2,
   "id": "instructional-allen",
   "metadata": {},
   "outputs": [
    {
     "data": {
      "text/plain": [
       "int"
      ]
     },
     "execution_count": 2,
     "metadata": {},
     "output_type": "execute_result"
    }
   ],
   "source": [
    "type(-3123)"
   ]
  },
  {
   "cell_type": "code",
   "execution_count": 3,
   "id": "together-license",
   "metadata": {},
   "outputs": [
    {
     "data": {
      "text/plain": [
       "float"
      ]
     },
     "execution_count": 3,
     "metadata": {},
     "output_type": "execute_result"
    }
   ],
   "source": [
    "type(1.313)"
   ]
  },
  {
   "cell_type": "code",
   "execution_count": 4,
   "id": "rolled-facing",
   "metadata": {},
   "outputs": [
    {
     "data": {
      "text/plain": [
       "str"
      ]
     },
     "execution_count": 4,
     "metadata": {},
     "output_type": "execute_result"
    }
   ],
   "source": [
    "name = 'Anna'\n",
    "type(name)"
   ]
  },
  {
   "cell_type": "code",
   "execution_count": 5,
   "id": "assumed-bobby",
   "metadata": {},
   "outputs": [
    {
     "name": "stdout",
     "output_type": "stream",
     "text": [
      "List Type: <class 'list'>\n",
      "Element 0 Type: <class 'int'>\n",
      "Element 4 Type: <class 'str'>\n"
     ]
    }
   ],
   "source": [
    "mylist = [1, 2, 3, 4, 'A']\n",
    "print(f'List Type: {type(mylist)}')\n",
    "print(f'Element 0 Type: {type(mylist[0])}')\n",
    "print(f'Element 4 Type: {type(mylist[4])}')"
   ]
  },
  {
   "cell_type": "markdown",
   "id": "verified-adelaide",
   "metadata": {},
   "source": [
    "### Zusammengesetzte Datentypen\n",
    "\n",
    "Zusammengesetzte Datentypen definieren wir durch andere Datentypen, welche bereits definiert wurden.\n",
    "Diese sind entweder *built-in Datentypen* der Sprache oder eigens definierte zusammengesetzte Datentypen.\n",
    "Angenommen Sie wollen den Datentyp ``Person`` definieren welcher sich dadurch auszeichnet, dass er sich aus zwei Zeichenketten ``str`` nämlich dem Vor- und Nachnamen zusammensetzt.\n",
    "Durch *Klassen* können Sie einen solchen Datentyp definieren.\n",
    "Wie wir dies machen, werden wir auf einen späteren Zeitpunkt verschieben.\n",
    "\n",
    "Eine Listen ``list``, Tupel ``tuple``, Mengen ``set`` und Wörterbücher ``dict`` sind *zusammengesetzter built-in Datentypen* und zugleich enthalten die Werte (Objekte) dieser Datentypen eine\n",
    "variable Anzahl an Elementen unterschiedlicher Datentypen.\n",
    "Eine gute Analogie zu diesen sog, [Sammlung / Kollektion (engl. Collections)](def-collection) sind physikalische Ordner, Schließfächer, Listen auf Papier geschrieben, Rücksäcke, Körbe, Tüten und andere physikalischen Objekte die wir im Alltag verwenden um andere physikalische Objekte zu ordnen, strukturieren oder schlicht zu halten.\n",
    "Auch der Arbeitsspeicher ist in diesem Sinne eine sowohl physikalische wie auch virtuelle Kollektion an Bits.\n",
    "\n",
    "```{admonition} Sammlung (Collection)\n",
    ":name: def-collection\n",
    "Als *Sammlung* bezeichnen wir alle Datentypen (Tupel, [Dictionary](def-python-dictionary), Listen, usw.) die eine **variable Anzahl** an anderen Elementen (normalerweise mehrere) beinhalten.\n",
    "\n",
    "```\n",
    "\n",
    "Mit **variabler Anzahl** ist gemeint, dass es Sammlung gibt, welche 5 Elemente enthalten und Sammlung gibt die 1000 Elementen enthalten.\n",
    "Es kann dennoch sein, dass eine Sammlung die 10 Elemente enthält nicht verändert werden kann, d.h. sie wird auf immer dieser 10 Elemente enthalten."
   ]
  },
  {
   "cell_type": "code",
   "execution_count": 6,
   "id": "ultimate-rolling",
   "metadata": {},
   "outputs": [
    {
     "data": {
      "text/plain": [
       "[1, 2, 'A', 3, 1.23, [1, 2, 3]]"
      ]
     },
     "execution_count": 6,
     "metadata": {},
     "output_type": "execute_result"
    }
   ],
   "source": [
    "mylist = [1, 2, 'A', 3, 1.23, [1, 2, 3]]\n",
    "mylist"
   ]
  },
  {
   "cell_type": "code",
   "execution_count": 7,
   "id": "consecutive-calendar",
   "metadata": {},
   "outputs": [
    {
     "data": {
      "text/plain": [
       "([1, 2, 'A', 3, 1.23, [1, 2, 3]], 'D')"
      ]
     },
     "execution_count": 7,
     "metadata": {},
     "output_type": "execute_result"
    }
   ],
   "source": [
    "mytuple = (mylist, 'D')\n",
    "mytuple"
   ]
  },
  {
   "cell_type": "code",
   "execution_count": 8,
   "id": "aging-start",
   "metadata": {},
   "outputs": [
    {
     "data": {
      "text/plain": [
       "{'firstname': 'Paulina', 'lastname': 'Schmidt', 'age': 23}"
      ]
     },
     "execution_count": 8,
     "metadata": {},
     "output_type": "execute_result"
    }
   ],
   "source": [
    "mydict = {'firstname' : 'Paulina', 'lastname' : 'Schmidt', 'age' : 23 }\n",
    "mydict"
   ]
  },
  {
   "cell_type": "code",
   "execution_count": 9,
   "id": "basic-trick",
   "metadata": {},
   "outputs": [
    {
     "data": {
      "text/plain": [
       "{1, 2, 3, 4, 5, 6, 7, 8, 9, 10, 11, 12}"
      ]
     },
     "execution_count": 9,
     "metadata": {},
     "output_type": "execute_result"
    }
   ],
   "source": [
    "month = {1, 2, 3, 4, 5, 6, 7, 8, 9, 10, 11, 12}\n",
    "month"
   ]
  },
  {
   "cell_type": "markdown",
   "id": "parallel-choice",
   "metadata": {},
   "source": [
    "Eine Zeichenkette ``str`` ist ebenfalls eine Kollektion, jedoch sind deren Elemente alle vom gleichen Typ -- dem Zeichen.\n",
    "\n",
    "## Eigens definierte Datentypen\n",
    "\n",
    "Dazu später mehr.\n",
    "\n",
    "## Primitive Datentypen in Python?\n",
    "\n",
    "Jetzt kommen wir zu einer Besonderheit in ``Python``, welche Sie als Anfänger erst einmal ignorieren können.\n",
    "Dennoch möchten wir Sie Ihnen nicht vorenthalten und auch kein Halbwissen vermitteln!\n",
    "\n",
    "Sie vermuten wohl zurecht, dass ``byte``, ``int``, ``long``, ``float``, ``bool`` [primitive Datentypen](def-primitive-datatypes) sind und Sie lägen bei vielen anderen Programmiersprachen richtig, doch in ``Python`` gibt es gar keine primitiven Datentypen.\n",
    "Das ist für Anfänger verwirrend!\n",
    "Wie kann es keine primitive Datentypen geben?\n",
    "Irgendwann muss sich doch ein Datentyp nicht mehr weiter zerlegen lassen?\n",
    "Und weshalb ist eine ganze Zahl ``int`` kein *primitiver Datentyp*?\n",
    "\n",
    "```{admonition} Datentypen in Python\n",
    ":name: alert-datatypes-python\n",
    ":class: warning\n",
    "Es gibt in ``Python`` keine primitiven Datentypen!\n",
    "```\n",
    "\n",
    "``Python`` kapselt die primitiven Datentypen für uns Programmierer*innen.\n",
    "Zu unserem eigenen Schutz können wir auf diese nicht direkt zugreifen und mit ihnen nicht direkt arbeiten.\n",
    "Hinter dem Datentyp ``int`` verbirgt sich ein zusammengesetzter Datentyp, der es uns leichter macht mit ganzen Zahlen umzugehen.\n",
    "Implementiert ist dieser Datentyp in der Programmiersprache ``C++`` und ``Python`` ruft am Ende des Tages ``C++``-Code auf.\n",
    "Die Implementierung von ``int`` findet sich in den folgenden Dateien (**bitte lassen Sie sich davon nicht abschrecken, Sie müssen diesen Code nicht verstehen!**)\n",
    "\n",
    "+ [longobject.c](https://github.com/python/cpython/blob/main/Objects/longobject.c)\n",
    "+ [longintrepr.h](https://github.com/python/cpython/blob/main/Include/longintrepr.h)\n",
    "+ [longobject.h](https://github.com/python/cpython/blob/main/Include/longobject.h)\n",
    "\n",
    "In ``Python`` benötigt eine ganze Zahl ``int`` nicht immer den gleichen Speicherbereich!\n",
    "Deshalb ist es, anders als in vielen anderen Sprachen, in ``Python`` möglich mit sehr großen ganzen Zahlen zu rechnen.\n",
    "Wäre ``int`` ein primitiver Datentyp, wie etwa in ``Java``, ``C/C++``, so würde ein ``int`` Wert immer gleich viel Speicherplatz belegen.\n",
    "Ob im Speicher eine ``5`` oder eine ``1000`` steht ist für den Speicherplatz den diese Werte verbrauchen egal.\n",
    "\n",
    "\n",
    "Wie alle Datentypen in ``Python`` ist auch ``str`` ein zusammengesetzter Datentyp.\n",
    "Anders als in vielen anderen Sprachen gibt es in ``Python`` keinen Datentyp für ein einzelnes Zeichen ``char``.\n",
    "Ein einzelnes Zeichen ist in ``Python`` eine Zeichenkette der Länge 1.\n",
    "Dennoch ist ``str`` kein primitiver Datentyp.\n",
    "\n",
    "## Interpretationswechsel\n",
    "\n",
    "Wir können zum Beispiel eine Variable mit einer Zahl initialisieren und diese Zahl als Zeichen interpretieren.\n",
    "Dazu brauchen wir jedoch eine geeignete Interpretation:"
   ]
  },
  {
   "cell_type": "code",
   "execution_count": 10,
   "id": "congressional-gauge",
   "metadata": {},
   "outputs": [
    {
     "name": "stdout",
     "output_type": "stream",
     "text": [
      "number 90\n",
      "characters 90\n",
      "str 90\n",
      "int 90\n"
     ]
    }
   ],
   "source": [
    "number = 90\n",
    "characters = str(number)\n",
    "print(f'number {number}')\n",
    "print(f'characters {characters}')\n",
    "print('str 90')\n",
    "print(f'int {90}')"
   ]
  },
  {
   "cell_type": "markdown",
   "id": "atlantic-virgin",
   "metadata": {},
   "source": [
    "Was passiert hier?\n",
    "Es wird viermal die Zahl ``90`` als Zeichenkette ausgegeben.\n",
    "Erst weisen wir die Zahl ``90`` der Variablen ``number`` zu.\n",
    "In der zweiten Zeile weisen wir die Zeichenkette ``'90'`` der Variablen ``characters`` zu.\n",
    "``str`` ist eine Funktion welche aus ihrem Argument eine Zeichenkette generiert.\n",
    "\n",
    "Würden wir uns die Bits der Speicherbereiche der Variablen ``number`` und ``characters`` anzeigen, so wären diese Bits nicht identisch.\n",
    "Die Bits welche die Zahl 90 ergeben, d.h. $90_{10} = 01011010_2$ ergeben in der von ``Python`` gewählten Interpretation (ASCII) nicht die Zeichenkette ``'90'``.\n",
    "Auch die Datentypen der beiden Variablen sind unterschiedlich.\n",
    "``characters`` ist eine sogenannte Zeichenkette (String ``str``) und ``number`` eine ganze Zahl (Integer ``int``).\n",
    "\n",
    "In diesem Beispiel wechseln wir also beides: Die Interpretation als auch den Wert (die Bits und Byte)!\n",
    "Mit ``str(90)`` sagen wir ``Python``: Bitte mach uns aus der Zahl 90 die Zeichenkette ``'90'``.\n",
    "Es wird außerdem klar, dass wir eine Zahl in ihrer Gestalt als ``int`` gar nicht ausgeben können!\n",
    "Stattdessen wird diese immer erst in eine Zeichenkette umgewandelt.\n",
    "Die Funktion ``print`` sorgt dafür, dass sowohl der Inhalt von ``number`` als auch ``90`` in die Zeichenkette ``'90'`` umgewandelt werden.\n",
    "\n",
    "Mit Ausnahme der [Bitoperationen](sec-bit-operations) bieten Hochsprachen wie ``Python``, ``Java``, ``JavaScript`` bewusst kaum die Möglichkeit direkt mit den Bits im Speicher zu interagieren.\n",
    "Wir ändern Zahlen, Text und anderes und die Hochsprachen kümmern sich darum, dass die Werte im Speicher dementsprechend angepasst werden.\n",
    "Diese Abstraktion schützt Programmierer*innen vor Fehlern und erhöht die Lesbarkeit des Quellcodes.\n",
    "Es macht keinen Sinn eine Bitfolge die erst als Text interpretiert wird auf einmal als Zahl zu interpretieren.\n",
    "\n",
    "Eine Dezimalzahl als Binärzahl zu interpretieren kann durchaus Sinn ergeben.\n",
    "Deshalb stellen die Bitoperationen eine Ausnahme dar.\n",
    "Der folgende Bitshift manipuliert einen Bereich des Speichers direkt."
   ]
  },
  {
   "cell_type": "code",
   "execution_count": 11,
   "id": "determined-millennium",
   "metadata": {},
   "outputs": [
    {
     "data": {
      "text/plain": [
       "10"
      ]
     },
     "execution_count": 11,
     "metadata": {},
     "output_type": "execute_result"
    }
   ],
   "source": [
    "5 << 1"
   ]
  },
  {
   "cell_type": "markdown",
   "id": "requested-university",
   "metadata": {},
   "source": [
    "Hier werden die Bits, welche die Zahl ``5`` repräsentieren um eins nach links verschieben, was einer Multiplikation mit ``2`` gleich kommt.\n",
    "Dabei wird die ``5`` für die Operation als Zahl in ihrer ursprünglichen Binärdarstellung interpretiert.\n",
    "\n",
    "Dies funktioniert jedoch nicht mit einem Zeichen.\n",
    "``Python`` verbietet den Bitshift für Zeichen obwohl das Zeichen auch als Bitfolge im Speicher liegt.\n",
    "Folgender Code führt zu einem Fehler, da er kaum einen Sinn oder Nutzten hat:\n",
    "\n",
    "```python\n",
    "'a' << 1\n",
    "```\n",
    "\n",
    "In anderen Sprachen wie ``C/C++`` würde dies funktionieren und zu unsauberen, unleserlichen und verwirrenden Code führen.\n",
    "Auch in diesen Sprachen ist es gute Praxis, dies nicht zu tun, obwohl es theoretisch möglich ist.\n",
    "Hier kann man Diskutieren was besser ist: Alles erlauben um maximale Freiheit zu gewährleisten oder Programmierer*innen einschränken, um sie zu schützen.\n",
    "\n",
    "Wir können das Zeichen ``'a'`` mit der Funktion ``ord`` in eine Zahl umwandeln.\n",
    "Das Ergebnis hängt mit der von ``Python`` gewählten Interpretation (ASCII) zusammen.\n",
    "Daraufhin können wir den Bitshift durchführen und die Zahl mit ``chr`` wieder in ein Zeichen zurück transformieren."
   ]
  },
  {
   "cell_type": "code",
   "execution_count": 12,
   "id": "adjusted-forth",
   "metadata": {},
   "outputs": [
    {
     "data": {
      "text/plain": [
       "'Â'"
      ]
     },
     "execution_count": 12,
     "metadata": {},
     "output_type": "execute_result"
    }
   ],
   "source": [
    "chr(ord('a') << 1)"
   ]
  },
  {
   "cell_type": "markdown",
   "id": "critical-wildlife",
   "metadata": {},
   "source": [
    "Wir erhalten ein neues Zeichen: Ein ``'Â'``, können wir das irgendwo gebrauchen?\n",
    "Das ist zu bezweifeln und selbst wenn, ist dieser Code besser lesbar, da wir explizit die Anweisung zur Umwandlung in eine Zahl angeben.\n",
    "\n",
    "Ändern wir in einer Hochsprache die Interpretation, so ändert sich meist auch der Wert im Speicher, da es meistens anders keinen Sinn macht und wir genau das erreichen wollen.\n",
    "Hochsprachen lösen uns von den Bits und Byte, stattdessen betrachten wir Zahlen in der Dezimalschreibweise.\n",
    "Vergessen wir einmal die Bits im Speicher und achten nur auf die Zahl ``90`` im obigen Beispiel, so können wir sagen dass sich der Wert ``90`` nicht ändern.\n",
    "Was sich ändert ist die Interpretation: Einmal die ``90`` als Zahl und einmal als Zeichenkette ``'90'``.\n",
    "\n",
    "## Existenzberechtigung\n",
    "\n",
    "Kommen wir noch einmal zurück zu unserer Analogie mit den *Dateiformaten*.\n",
    "Weshalb enden PDF-Dokumente mit ``.pdf`` und Bilder mit z.B. ``.png``?\n",
    "Ändern wir die Dateiendung oder lassen Sie Weg, so ändert sich der Inhalt der Datei nicht.\n",
    "Allerdings kann Ihr Programm zum Lesen von PDFs nur PDFs lesen und die Dateiendung ist eine Art Versprechen, dass es sich bei dieser Datei auch wirklich um eine PDF handelt.\n",
    "Zudem leitet Ihr Betriebssystem das öffnen der Datei an ein Programm weiter, welches diese Verarbeiten kann.\n",
    "Da das Betriebssystem nicht alle Dateiformate kennen kann (jeden Tag entstehen neue Formate) achtet es auf die Dateiendung.\n",
    "Wir als Benutzer können dem Betriebssystem mitteilen, welche Datei mit welchem Programm geöffnet werden soll.\n",
    "\n",
    "Datentypen existieren aus dem gleichen Grund.\n",
    "Sie sind ein verpflichtendes Versprechen, wie der Speicherbereich (die Bits und Byte) der den Wert ergibt aussieht.\n",
    "Funktionen und Operationen verlassen sich auf dieses Versprechen.\n",
    "Nur so können Sie Informationen verarbeiten, indem die [Interpretation](sec-interpretation) bekannt ist und auch eingehalten wird.\n",
    "Zum Beispiel erwartet die Addition ``+`` zwei Zahlen.\n",
    "Dabei kann es sich bei jeder der beiden Zahlen entweder um eine ganze Zahl ``int`` oder um eine Fließkommazahl handeln."
   ]
  },
  {
   "cell_type": "code",
   "execution_count": 13,
   "id": "taken-triple",
   "metadata": {},
   "outputs": [
    {
     "data": {
      "text/plain": [
       "12.1"
      ]
     },
     "execution_count": 13,
     "metadata": {},
     "output_type": "execute_result"
    }
   ],
   "source": [
    "3 + 9       # int + int\n",
    "3 + 8.6     # int + float\n",
    "-3.6 + 3.4  # float + float\n",
    "3.1 + 9     # float + int"
   ]
  },
  {
   "cell_type": "markdown",
   "id": "cultural-torture",
   "metadata": {},
   "source": [
    "Der Datentyp des Ergebnisses der Addition hängt von Datentypen der beiden Summanden ab."
   ]
  },
  {
   "cell_type": "code",
   "execution_count": 14,
   "id": "purple-fusion",
   "metadata": {},
   "outputs": [
    {
     "name": "stdout",
     "output_type": "stream",
     "text": [
      "<class 'int'>\n",
      "<class 'float'>\n",
      "<class 'float'>\n",
      "<class 'float'>\n"
     ]
    }
   ],
   "source": [
    "print(type(3 + 9))      # int + int -> int\n",
    "print(type(3 + 8.6))    # int + float -> float\n",
    "print(type(-3.6 + 3.4)) # float + float -> float\n",
    "print(type(3.1 + 9))    # float + int -> float"
   ]
  },
  {
   "cell_type": "markdown",
   "id": "municipal-paste",
   "metadata": {},
   "source": [
    "Zudem wird nicht jeder Datentyp von Addition unterstützt:"
   ]
  },
  {
   "cell_type": "code",
   "execution_count": 15,
   "id": "economic-hungarian",
   "metadata": {
    "tags": [
     "raises-exception"
    ]
   },
   "outputs": [
    {
     "ename": "TypeError",
     "evalue": "unsupported operand type(s) for +: 'int' and 'str'",
     "output_type": "error",
     "traceback": [
      "\u001b[0;31m---------------------------------------------------------------------------\u001b[0m",
      "\u001b[0;31mTypeError\u001b[0m                                 Traceback (most recent call last)",
      "\u001b[0;32m<ipython-input-15-20f79e7a2649>\u001b[0m in \u001b[0;36m<module>\u001b[0;34m\u001b[0m\n\u001b[0;32m----> 1\u001b[0;31m \u001b[0;36m3\u001b[0m \u001b[0;34m+\u001b[0m \u001b[0;34m'a'\u001b[0m \u001b[0;31m# int + str -> Fehler!\u001b[0m\u001b[0;34m\u001b[0m\u001b[0;34m\u001b[0m\u001b[0m\n\u001b[0m",
      "\u001b[0;31mTypeError\u001b[0m: unsupported operand type(s) for +: 'int' and 'str'"
     ]
    }
   ],
   "source": [
    "3 + 'a' # int + str -> Fehler!"
   ]
  },
  {
   "cell_type": "markdown",
   "id": "phantom-physiology",
   "metadata": {},
   "source": [
    "Der Fehler der durch diesen Code erzeugt wird besagt: ``unsupported operand type(s) for +: 'int' and 'str'``, d.h. diese Kombination aus Datentypen (``int`` und ``str``) wird nicht unterstützt.\n",
    "Was passiert wenn wir zwei Zeichenketten 'addieren'?"
   ]
  },
  {
   "cell_type": "code",
   "execution_count": 16,
   "id": "expanded-fluid",
   "metadata": {},
   "outputs": [
    {
     "data": {
      "text/plain": [
       "'ab'"
      ]
     },
     "execution_count": 16,
     "metadata": {},
     "output_type": "execute_result"
    }
   ],
   "source": [
    "'a' + 'b' # str + str -> str!"
   ]
  },
  {
   "cell_type": "markdown",
   "id": "bound-august",
   "metadata": {},
   "source": [
    "Überraschenderweise führt dies nicht zu einem Fehler.\n",
    "Wir sprechen hierbei nicht mehr von einer Addition, stattdessen handelt es sich um die sog. Konkatenation (Verkettung) von Zeichenketten.\n",
    "In anderen Worten entscheiden die Datentypen darüber, welche Operation der ``+``-Operator definiert bzw. welche Operation ausgeführt wird!\n",
    "\n",
    "Betrachten wir ein weiteres Beispiel:"
   ]
  },
  {
   "cell_type": "code",
   "execution_count": 17,
   "id": "instrumental-quantity",
   "metadata": {},
   "outputs": [
    {
     "data": {
      "text/plain": [
       "5"
      ]
     },
     "execution_count": 17,
     "metadata": {},
     "output_type": "execute_result"
    }
   ],
   "source": [
    "max([1,2,3,4,5])"
   ]
  },
  {
   "cell_type": "markdown",
   "id": "secret-miracle",
   "metadata": {},
   "source": [
    "und"
   ]
  },
  {
   "cell_type": "code",
   "execution_count": 18,
   "id": "brown-vermont",
   "metadata": {},
   "outputs": [
    {
     "data": {
      "text/plain": [
       "'b'"
      ]
     },
     "execution_count": 18,
     "metadata": {},
     "output_type": "execute_result"
    }
   ],
   "source": [
    "max('a','b')"
   ]
  },
  {
   "cell_type": "markdown",
   "id": "trying-awareness",
   "metadata": {},
   "source": [
    "Wir rufen beide Male die *built-in Funktion* ``max`` auf.\n",
    "Einmal ist das Argument eine Liste ``list`` und einmal rufen wir ``max`` mit zwei Argumenten, zwei ganzen Zeichenketten ``str`` auf.\n",
    "Das Ergebnis ist einmal das größte Element der Liste und einmal das lexikographisch größere Element der beiden Argumente.\n",
    "Der Datentyp der Rückgabewerte ist einmal eine ganze Zahl ``int`` und einmal eine Zeichenkette ``str``.\n",
    "\n",
    "Wird folgender Code funktionieren?"
   ]
  },
  {
   "cell_type": "code",
   "execution_count": 19,
   "id": "desperate-swing",
   "metadata": {
    "tags": [
     "raises-exception"
    ]
   },
   "outputs": [
    {
     "ename": "TypeError",
     "evalue": "'>' not supported between instances of 'str' and 'int'",
     "output_type": "error",
     "traceback": [
      "\u001b[0;31m---------------------------------------------------------------------------\u001b[0m",
      "\u001b[0;31mTypeError\u001b[0m                                 Traceback (most recent call last)",
      "\u001b[0;32m<ipython-input-19-ce3c1a936c84>\u001b[0m in \u001b[0;36m<module>\u001b[0;34m\u001b[0m\n\u001b[0;32m----> 1\u001b[0;31m \u001b[0mmax\u001b[0m\u001b[0;34m(\u001b[0m\u001b[0;36m3\u001b[0m\u001b[0;34m,\u001b[0m\u001b[0;34m'b'\u001b[0m\u001b[0;34m)\u001b[0m\u001b[0;34m\u001b[0m\u001b[0;34m\u001b[0m\u001b[0m\n\u001b[0m",
      "\u001b[0;31mTypeError\u001b[0m: '>' not supported between instances of 'str' and 'int'"
     ]
    }
   ],
   "source": [
    "max(3,'b')"
   ]
  },
  {
   "cell_type": "markdown",
   "id": "handled-notice",
   "metadata": {},
   "source": [
    "Wir können das an dieser Stelle nicht wissen.\n",
    "Es kommt darauf an **wie** die Funktion ``max`` implementiert wurde und **was** sie genau macht.\n",
    "Macht aus Ihrer Sicht ein solcher Aufruf Sinn?\n",
    "\n",
    "Führen wir den Code aus kommt es zu einem weiteren Fehler: ``'>' not supported between instances of 'str' and 'int'``.\n",
    "Was soll das nun bedeuten?\n",
    "Wer hat denn was von größer ``>`` gesagt?\n",
    "Nun, scheinbar verwendet die Funktion ``max`` den Größer-[Vergleichsoperator](sec-python-operator-compare) und dieser kann mit der Kombination ``str`` und ``int`` nicht umgehen.\n",
    "Wir erhalten den gleichen Fehler mit"
   ]
  },
  {
   "cell_type": "code",
   "execution_count": 20,
   "id": "verified-vault",
   "metadata": {
    "tags": [
     "raises-exception"
    ]
   },
   "outputs": [
    {
     "ename": "TypeError",
     "evalue": "'>' not supported between instances of 'int' and 'str'",
     "output_type": "error",
     "traceback": [
      "\u001b[0;31m---------------------------------------------------------------------------\u001b[0m",
      "\u001b[0;31mTypeError\u001b[0m                                 Traceback (most recent call last)",
      "\u001b[0;32m<ipython-input-20-c502c5c8c73d>\u001b[0m in \u001b[0;36m<module>\u001b[0;34m\u001b[0m\n\u001b[0;32m----> 1\u001b[0;31m \u001b[0;36m3\u001b[0m \u001b[0;34m>\u001b[0m \u001b[0;34m'b'\u001b[0m\u001b[0;34m\u001b[0m\u001b[0;34m\u001b[0m\u001b[0m\n\u001b[0m",
      "\u001b[0;31mTypeError\u001b[0m: '>' not supported between instances of 'int' and 'str'"
     ]
    }
   ],
   "source": [
    "3 > 'b'"
   ]
  },
  {
   "cell_type": "markdown",
   "id": "liquid-bible",
   "metadata": {},
   "source": [
    "Es ist im allgemeinen unklar wie wir eine Zahl mit einem Buchstaben vergleichen sollen.\n",
    "Wir können selbstverständlich einen solchen Vergleich selbst definieren.\n",
    "Wir greifen hier etwas vor:"
   ]
  },
  {
   "cell_type": "code",
   "execution_count": 21,
   "id": "selected-gather",
   "metadata": {},
   "outputs": [
    {
     "data": {
      "text/plain": [
       "'b'"
      ]
     },
     "execution_count": 21,
     "metadata": {},
     "output_type": "execute_result"
    }
   ],
   "source": [
    "def get_key(value):\n",
    "    if type(value) == str:\n",
    "        return ord(value[0])\n",
    "    else:\n",
    "        return value\n",
    "\n",
    "max(3, 'b', key=get_key)"
   ]
  },
  {
   "cell_type": "markdown",
   "id": "living-bibliography",
   "metadata": {},
   "source": [
    "Was passiert hier?\n",
    "Wir definieren eine eigene Funktion ``get_key``.\n",
    "Diese transformiert den Wert, welchen wir vergleichen wollen in einen anderen Wert.\n",
    "Ist der Wert eine Zeichenkette, so transformieren wir diese in eine ganze Zahl (ihren ASCII-Code).\n",
    "Andernfalls geben wir den Wert zurück (keine Transformation).\n",
    "\n",
    "Wir sagen der Funktion ``max`` Sie solle doch bitte vor jedem Vergleich die zu vergleichenden Werte durch unsere Funktion ``get_key`` transformieren.\n",
    "Was also passiert ist das ``max``"
   ]
  },
  {
   "cell_type": "code",
   "execution_count": 22,
   "id": "muslim-playing",
   "metadata": {},
   "outputs": [
    {
     "data": {
      "text/plain": [
       "False"
      ]
     },
     "execution_count": 22,
     "metadata": {},
     "output_type": "execute_result"
    }
   ],
   "source": [
    "get_key(3) > get_key('b')"
   ]
  },
  {
   "cell_type": "markdown",
   "id": "cooperative-referral",
   "metadata": {},
   "source": [
    "ausführt also"
   ]
  },
  {
   "cell_type": "code",
   "execution_count": 23,
   "id": "tender-judges",
   "metadata": {},
   "outputs": [
    {
     "data": {
      "text/plain": [
       "False"
      ]
     },
     "execution_count": 23,
     "metadata": {},
     "output_type": "execute_result"
    }
   ],
   "source": [
    "3 > ord('b')"
   ]
  },
  {
   "cell_type": "markdown",
   "id": "fuzzy-scotland",
   "metadata": {},
   "source": [
    "und ``ord('b')`` ergibt ``98``.\n",
    "Der Rückgabewert ist eine Zeichenkette ``str``.\n",
    "Rufen wir allerdings folgenden Code auf"
   ]
  },
  {
   "cell_type": "code",
   "execution_count": 24,
   "id": "legendary-relevance",
   "metadata": {},
   "outputs": [
    {
     "data": {
      "text/plain": [
       "100"
      ]
     },
     "execution_count": 24,
     "metadata": {},
     "output_type": "execute_result"
    }
   ],
   "source": [
    "def get_key(value):\n",
    "    if type(value) == str:\n",
    "        return ord(value[0])\n",
    "    else:\n",
    "        return value\n",
    "\n",
    "max(100, 'b', key=get_key)"
   ]
  },
  {
   "cell_type": "markdown",
   "id": "progressive-subcommittee",
   "metadata": {},
   "source": [
    "so ist der Rückgabewert eine ganze Zahl ``int``.\n",
    "Auch das ist in vielen anderen Sprachen anders.\n",
    "In ``Java``, ``C/C++`` ist der Rückgabewert einer Funktion immer vom gleichen Datentyp, denn diese Sprachen sind *statisch getypt* wohingegen ``Python`` oder auch ``JavaScript`` *dynamisch getypt* sind.\n",
    "\n",
    "## Dynamische und statische Typisierung\n",
    "\n",
    "Für *statisch getypten Sprache* wird der Datentyp von Werten und Variablen geprüft **bevor** der Programmcode ausgeführt wird.\n",
    "Im Gegenteil dazu wird diese Prüfung für *dynamisch getypte Sprachen* erst zur Laufzeit durchgeführt, also **während** der Code ausgeführt wird.\n",
    "\n",
    "Führen Sie folgenden Code aus:"
   ]
  },
  {
   "cell_type": "code",
   "execution_count": 25,
   "id": "qualified-cache",
   "metadata": {
    "tags": [
     "raises-exception"
    ]
   },
   "outputs": [
    {
     "name": "stdout",
     "output_type": "stream",
     "text": [
      "10\n"
     ]
    },
    {
     "ename": "TypeError",
     "evalue": "unsupported operand type(s) for +: 'int' and 'str'",
     "output_type": "error",
     "traceback": [
      "\u001b[0;31m---------------------------------------------------------------------------\u001b[0m",
      "\u001b[0;31mTypeError\u001b[0m                                 Traceback (most recent call last)",
      "\u001b[0;32m<ipython-input-25-b47f296b25be>\u001b[0m in \u001b[0;36m<module>\u001b[0;34m\u001b[0m\n\u001b[1;32m      2\u001b[0m \u001b[0mnumber\u001b[0m \u001b[0;34m=\u001b[0m \u001b[0mnumber\u001b[0m \u001b[0;34m+\u001b[0m \u001b[0;36m5\u001b[0m\u001b[0;34m\u001b[0m\u001b[0;34m\u001b[0m\u001b[0m\n\u001b[1;32m      3\u001b[0m \u001b[0mprint\u001b[0m\u001b[0;34m(\u001b[0m\u001b[0mnumber\u001b[0m\u001b[0;34m)\u001b[0m\u001b[0;34m\u001b[0m\u001b[0;34m\u001b[0m\u001b[0m\n\u001b[0;32m----> 4\u001b[0;31m \u001b[0mnumber\u001b[0m \u001b[0;34m=\u001b[0m \u001b[0mnumber\u001b[0m \u001b[0;34m+\u001b[0m \u001b[0;34m'b'\u001b[0m\u001b[0;34m\u001b[0m\u001b[0;34m\u001b[0m\u001b[0m\n\u001b[0m",
      "\u001b[0;31mTypeError\u001b[0m: unsupported operand type(s) for +: 'int' and 'str'"
     ]
    }
   ],
   "source": [
    "number = 5\n",
    "number = number + 5\n",
    "print(number)\n",
    "number = number + 'b'"
   ]
  },
  {
   "cell_type": "markdown",
   "id": "tested-summary",
   "metadata": {},
   "source": [
    "Dieser führt zu einem bekannten Fehler: ``unsupported operand type(s) for +: 'int' and 'str'`` und dennoch wird die ganze Zahl ``number`` ausgegeben.\n",
    "In anderen Worten der Code läuft solange bis es kracht.\n",
    "\n",
    "Lassen Sie uns das ganze einmal in ``Java`` transformieren:\n",
    "\n",
    "```java\n",
    "int number = 5;\n",
    "number = number + 5;\n",
    "System.out.println(number);\n",
    "number = number + \"b\";\n",
    "```\n",
    "\n",
    "Dieser Code wird gar nicht erst ausgeführt werden.\n",
    "Stattdessen erhalten wir eine ähnliche Fehlermeldung vor der Ausführung.\n",
    "In der ersten Zeilen sehen wir jedoch auch, dass wir den Datentyp für ``number`` explizit definieren müssen!\n",
    "In ``Java`` ist der Datentyp einer Variablen (hier ``number``) auf festgelegt solange die Variable existiert.\n",
    "Auch folgender Code führt zu einem Fehler:\n",
    "\n",
    "```java\n",
    "int number = 5;\n",
    "number = \"b\";\n",
    "```\n",
    "\n",
    "und auch dieser hier:\n",
    "\n",
    "```java\n",
    "int number = 5;\n",
    "String number = \"b\";\n",
    "```\n",
    "\n",
    "Dadurch, dass bevor der Code ausgeführt wird auf die richtigen Typen geprüft wird, gelten strengere Regeln für diese Typen.\n",
    "Andernfalls wäre dies nicht möglich.\n",
    "\n",
    "Im Gegensatz dazu können wir in ``Python`` viel 'freier' mit Typen handtieren.\n",
    "Der Äquivalente Code wird einwandfrei ausgeführt:"
   ]
  },
  {
   "cell_type": "code",
   "execution_count": 26,
   "id": "olive-criminal",
   "metadata": {},
   "outputs": [],
   "source": [
    "number = 5\n",
    "number = 'b'"
   ]
  },
  {
   "cell_type": "code",
   "execution_count": 27,
   "id": "great-malta",
   "metadata": {},
   "outputs": [],
   "source": [
    "number = 5\n",
    "number = 'b'"
   ]
  },
  {
   "cell_type": "markdown",
   "id": "photographic-accessory",
   "metadata": {},
   "source": [
    "### Was ist besser?\n",
    "\n",
    "Die einfache Antwort hierauf lautet: nichts von beidem.\n",
    "Am liebsten hätte man natürlich eine dynamische Typisierung bei der dennoch die Typen auf Korrektheit vor dem Programmlauf überprüft werden.\n",
    "\n",
    "Die explizite Angabe des Datentyps bei *statisch getypten Sprachen* dient der Dokumentation und macht den Code oft lesbarer ohne zusätzliche Kommentare hinzuzufügen -- der Code ist die Dokumentation. \n",
    "Auf der anderen Seite hat eine statische Typisierung weitreichende Auswirkungen auf die Struktur des Codes.\n",
    "Wir können auf diese nicht im Detail eingehen, doch erfordern statisch getypte Sprachen einen viel strikteren Umgang mit Typen und deren Definition.\n",
    "Konzepte wie Vererbung und Polymorphie werden unerlässlich.\n",
    "Im allgemeinen sind statisch getypte Sprachen hungriger, was die Anzahl der Zeichen des geschriebenen Codes angeht.\n",
    "Mit dynamisch getypte Sprachen erreicht man oft den gleichen Effekt mit deutlich weniger Zeilen Code.\n",
    "In der Kategorie der Laufzeit des Codes gewinnen statisch getypte Sprachen.\n",
    "Das macht auch Sinn, denn sind vor der Ausführung alle Typen aller Werte, Variablen usw. bekannt so können Sie sich vorstellen, dass [Übersetzer](def-compiler) den Code besser optimieren können.\n",
    "\n",
    "### Sowohl als auch?\n",
    "\n",
    "``Python`` ist dynamisch getypt.\n",
    "Jedoch ruft ``Python`` intern ``C/C++`` Code auf und ``C/C++`` sind statisch getypte Sprachen!\n",
    "Wir sind zwar noch immer nicht am Optimum: Typ checks vor der Laufzeit und dynamische Typen, aber wir sind nah dran.\n",
    "``Python`` ist immer dann schnell wenn der statisch getypte Code aufgerufen wird und immer dann langsam wenn wir lange im ``Python``-Code selbst (der dynamisch getypt ist) verweilen.\n",
    "\n",
    "### Typ hints mit Python\n",
    "\n",
    "Mit ``Python`` 3.6 wurde eine Syntax eingeführt mit der wir den Datentyp trotz dynamischer Typisierung direkt im Code angeben können.\n",
    "Wir werden dies im Kurs nicht verwenden wollen es Ihnen aber auch nicht vorenthalten.\n",
    "Der angegebene Typ dient der reinen Dokumentation und hat keinerlei Auswirkungen auf die Laufzeit.\n",
    "Manche Entwicklungsumgebungen wie Visual Studio Code (SVCode) bieten auf Grundlage dieser [Typ hints](https://mypy.readthedocs.io/en/stable/cheat_sheet_py3.html) Warnmeldungen bzw. Fehlermeldungen.\n",
    "\n",
    "Mit Type hints wird aus"
   ]
  },
  {
   "cell_type": "code",
   "execution_count": 28,
   "id": "affected-theme",
   "metadata": {},
   "outputs": [],
   "source": [
    "number = 5\n",
    "number = 'b'"
   ]
  },
  {
   "cell_type": "markdown",
   "id": "specified-letter",
   "metadata": {},
   "source": [
    "folgender Code\n",
    "\n",
    "```python\n",
    "number : int = 5\n",
    "number = 'b'\n",
    "```\n",
    "\n",
    "Dieser wird noch ausgeführt wie zuvor doch Ihre Entwicklungsumgebung wird Sie vermutlich warnen, dass hier der Typ gewechselt wird.\n",
    "Besonders für Funktionen ist dies hilfreich um die Dokumentation direkt in den Code zu integrieren.\n",
    "Zum Beispiel wird aus"
   ]
  },
  {
   "cell_type": "code",
   "execution_count": 29,
   "id": "rural-amplifier",
   "metadata": {},
   "outputs": [],
   "source": [
    "def add(x, y):\n",
    "    return x + y"
   ]
  },
  {
   "cell_type": "markdown",
   "id": "german-montgomery",
   "metadata": {},
   "source": [
    "folgender Code"
   ]
  },
  {
   "cell_type": "code",
   "execution_count": 30,
   "id": "competent-wages",
   "metadata": {},
   "outputs": [],
   "source": [
    "def add(x: int, y: int) -> int:\n",
    "    return x + y"
   ]
  },
  {
   "cell_type": "markdown",
   "id": "general-potato",
   "metadata": {},
   "source": [
    "Wir geben uns und dem- oder derjenigen, welche unseren Code benutzt zu verstehen, dass die Funktion zwei ganze Zahlen erwartet und eine ganze Zahl zurückliefert."
   ]
  }
 ],
 "metadata": {
  "jupytext": {
   "formats": "md:myst",
   "text_representation": {
    "extension": ".md",
    "format_name": "myst"
   }
  },
  "kernelspec": {
   "display_name": "Python 3",
   "language": "python",
   "name": "python3"
  },
  "language_info": {
   "codemirror_mode": {
    "name": "ipython",
    "version": 3
   },
   "file_extension": ".py",
   "mimetype": "text/x-python",
   "name": "python",
   "nbconvert_exporter": "python",
   "pygments_lexer": "ipython3",
   "version": "3.9.6"
  },
  "source_map": [
   11,
   29,
   36,
   127,
   131,
   135,
   140,
   145,
   169,
   174,
   179,
   184,
   187,
   238,
   245,
   273,
   275,
   296,
   298,
   325,
   330,
   334,
   339,
   343,
   348,
   353,
   355,
   363,
   365,
   369,
   371,
   380,
   385,
   397,
   402,
   408,
   416,
   427,
   429,
   433,
   435,
   441,
   449,
   462,
   470,
   508,
   513,
   516,
   548,
   551,
   564,
   567,
   571,
   574
  ]
 },
 "nbformat": 4,
 "nbformat_minor": 5
}