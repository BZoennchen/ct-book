{
 "cells": [
  {
   "cell_type": "markdown",
   "id": "recent-lawsuit",
   "metadata": {},
   "source": [
    "(sec-datatypes-intro)=\n",
    "# Datentypen (Einführung)\n",
    "\n",
    "Wie in Abschnitt [Repräsentation](sec-representation) beschrieben, befinden sich im Speicher des (digitalen) Computers ausschließlich [Bits](def-bit).\n",
    "Sie können sich den Speicher als eine lange lange Liste von Bits vorstellen.\n",
    "Diese können nur einen von zwei Zuständen (0 und 1) annehmen.\n",
    "Dennoch verarbeiten Computer Zahlen, Text, Bilder und mehr.\n",
    "Die Magie dahinter geschieht durch die Wahl und Implementierung einer [Interpretation](sec-interpretation).\n",
    "Unterschiedliche Interpretationen ermöglichen es, Bits und [Byte](def-byte) als Zahlen, Text, Bilder usw. zu verarbeiten.\n",
    "Dabei werden schlussendlich diese komplexeren **Datentypen** durch Bits und Byte [repräsentiert](sec-representation).\n",
    "\n",
    "So könnten wir ein Bild im ``PNG`` oder ``JPEG``-Format als *Werte-Datentyp*-Paar ansehen.\n",
    "Der *Wert* ist durch die Bits die das Bild als solches ausmachen definiert.\n",
    "Der *Datentyp* ``PNG`` oder ``JPEG`` gibt an wie diese Bits von der Computerhardware wie auch Software interpretiert werden müssen um das Bild auch als Bild verarbeiten zu können.\n",
    "\n",
    "Wir sprechen bei diesen Dateiendungen jedoch nicht von **Datentypen** sondern von *Dateiformaten*.\n",
    "Von **Datentypen** sprechen wir hingegen, wenn es um eine [Interpretation](sec-interpretation) im Zuge der Programmierung geht.\n",
    "\n",
    "```{admonition} Datentypen\n",
    ":name: def-datatypes\n",
    "\n",
    "Ein *Datentyp* oder auch kurz *Typ* ist ein Attribut eines Werts, welches der Computerhardware und dem Compiler oder Interpreter angibt wie der Wert zu verwenden bzw. zu interpretieren ist.\n",
    "\n",
    "```\n",
    "\n",
    "Um das Konzept um die Datentypen zu durchdringen empfehlen wir zu einem späteren Zeitpunkt die Übung [Speicher - alles ist eine Liste](sec-memory).\n",
    "\n",
    "## Ganze Zahlen - int\n",
    "\n",
    "TODO\n",
    "\n",
    "## Wahrheitswerte - bool\n",
    "\n",
    "TODO\n",
    "\n",
    "## Fließkommazahlen - float\n",
    "\n",
    "Computer sind gebaut um numerische Berechnungen auszuführen.\n",
    "\n",
    "## Zeichenketten - str\n",
    "\n",
    "TODO\n",
    "\n",
    "## Listen - list\n",
    "\n",
    "TODO\n",
    "\n",
    "## Tupel - tuple\n",
    "\n",
    "TODO\n",
    "\n",
    "## Mengen - set\n",
    "\n",
    "TODO\n",
    "\n",
    "## Wörterbücher - dict\n",
    "\n",
    "TODO"
   ]
  }
 ],
 "metadata": {
  "jupytext": {
   "formats": "md:myst",
   "text_representation": {
    "extension": ".md",
    "format_name": "myst"
   }
  },
  "kernelspec": {
   "display_name": "Python 3",
   "language": "python",
   "name": "python3"
  },
  "language_info": {
   "codemirror_mode": {
    "name": "ipython",
    "version": 3
   },
   "file_extension": ".py",
   "mimetype": "text/x-python",
   "name": "python",
   "nbconvert_exporter": "python",
   "pygments_lexer": "ipython3",
   "version": "3.9.6"
  },
  "source_map": [
   11
  ]
 },
 "nbformat": 4,
 "nbformat_minor": 5
}