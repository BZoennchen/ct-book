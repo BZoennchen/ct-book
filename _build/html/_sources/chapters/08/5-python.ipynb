{
 "cells": [
  {
   "cell_type": "markdown",
   "id": "laden-declaration",
   "metadata": {},
   "source": [
    "(sec-python)=\n",
    "# Python\n",
    "\n",
    "Wie ``Java``, ``C++``, ``C#``, ``Scala`` und viele mehr, zählt ``Python`` zu den Universalsprachen (General Purpose Languages) und ist damit *Turing-vollständig*. \n",
    "Das heißt ``Python`` ist in sehr vielen Bereichen anwendbar und ist im Stande all die Probleme zu lösen, die im Allgemeinen als lösbar angesehen werden.\n",
    "Der Name stammt von der Comedy-Gruppe Monty Python was möglichweise darauf hindeuten soll, dass die Sprache Spaß verbreiten soll!\n",
    "\n",
    "Was unterscheidet aber ``Python`` von den anderen oben genannten Sprachen? \n",
    "``Python`` ist heute eine der weit verbreitesten Sprachen und sie scheint sich weiter und weiter auszubreiten.\n",
    "Einer der Hauptgründe hierfür ist der einfache Zugang.\n",
    "``Python`` ist einfach zu lesen und zu erlernen.\n",
    "Als *interpretierte* Sprache mit guter Toolunterstützung kann jeder in wenigen Klicks einfach loslegen.\n",
    "Sie installieren ``Python`` (auf vielen Systemen ist es vorinstalliert), öffnen Ihre Konsole, tippen ``python`` und los gehts.\n",
    "\n",
    "Auch lässt sich in nur wenigen Zeilen ein kleines ``Python``-Skript schreiben und ausführen.\n",
    "Erstellen wir eine neue Datei ``sum-squares.py`` und fügen folgenden ``Python``-Code ein.\n",
    "\n",
    "```python\n",
    "import sys\n",
    "n = int(sys.argv[1])\n",
    "squares = sum([(i+1)**2 for i in range(n)])\n",
    "print(squares)\n",
    "```\n",
    "\n",
    "Führen wir dann das Programm durch den Konsolenbefehl\n",
    "\n",
    "```\n",
    "python sum-squares.py 5\n",
    "```\n",
    "\n",
    "aus, erhalten wir als Ausgabe die Summe der Quadratzahlen von $1$ bis $5$.\n",
    "So schnell geht's!\n",
    "\n",
    "Der einfache Zugang erklärt den anfänglichen Erfolg.\n",
    "Dieser Erfolg führte zur Unterstützung durch große IT-Unternehmen wie Google und Facebook aber auch der Universitäten, was wiederum die Entwicklung vieler Pakete insbesondere auch im wissenschaftlichen Umfeld antrieb.\n",
    "Paketen wie ``Numpy``, ``SciPy``, ``Pandas`` und ``Matplotlib`` ist es zu verdanken, dass ``Python`` im wissenschaftlichen Bereich derart verbreitet ist.\n",
    "Im Unterschied zu ``MATLAB`` und ``Mathematica``, gegen die sich ``Python`` behaupten musste, ist ``Python`` frei zugänglich, was schlussendlich zu einer höheren Codequalität wie auch einer schnelleren Weiterentwicklung geführt hat.\n",
    "\n",
    "Wissenschaftler\\*innen sind keine Programmierexpert\\*innen, legen besonders viel Wert auf die Reproduzierbarkeit und haben oft auch noch hohe Ansprüche an die Geschwindigkeit.\n",
    "Sie entwickeln keine großen Business-Anwendungen aber durchaus effiziente Algorithmen.\n",
    "Die Möglichkeit sehr schnell gut leserliche Scripte zu schreiben, die auch noch performant laufen (dazu gleich mehr), brachte ``Python`` in der Wissenschaft schnell voran.\n",
    "Und da heute die Methoden des wissenschaftlichen Rechnens, Big Data Analysis und des Machine Learnings auch in der Wirtschaft immer wichtiger werden, überträgt sich dieser Erfolg auf die Wirtschaft.\n",
    "\n",
    "Mit den ``Jupyter``-Notebooks haben Wissenschaftler\\*innen eine Möglichkeit erhalten, ihre Ergebnisse samt Code anderen in aufbereiteter Weise zur Verfügung zu stellen.\n",
    "Das beschleunigt den wissenschaftlichen Austausch und verbessert die Transparenz.\n",
    "Auch dieses Konzept gab es bereits durch ``Mathematica`` doch ist diese Sprache viel schwerer zu lesen und deren Lizenzen sind teuer.\n",
    "\n",
    "Gute Scripte zu schreiben ist zudem nicht für Wissenschaftler\\*innen sondern auch für Systemadministrator\\*innen und DevOps wichtig.\n",
    "Auch in diesem Bereich trat ``Python`` deshalb einen Siegeszug an.\n",
    "\n",
    "Da ``Python`` einen so schnellen und einfachen Zugang bietet, begannen mehr und mehr Anfänger die Sprache zu nutzen.\n",
    "Das brachte eine große Menge neue potenzieller Entwickler\\*innen auf den Arbeitsmarkt.\n",
    "Um dieses Potenzial nutzen zu können wurden die Bibliotheken um weitere Pakete für die Webentwicklung (``Django``, ``Flask``), graphische Benutzeroberflächen (``PyQt5``, ``Tkinter``, ``Kivy``) und mehr ergänzt.\n",
    "Das **Ökosystem** passte sich diesem Potenzial an, ganz nach dem Motto:\n",
    "\n",
    ">Wollen die Entwickler\\*innen nicht zum passenden **Ökosystem** kommen, muss das **Ökosystem** zu ihnen kommen.\n",
    "\n",
    "Dieses **Ökosystem** ist heute ``Python``s größte Stärke.\n",
    "Sie bekommen einen unglaublichen Schatz geschenkt!\n",
    "Das können Sie sich gar nicht vorstellen.\n",
    "Was Sie nicht kostenfrei bekommen sind die riesigen Rechnerressourcen die in großen Rechenzentren schlummern.\n",
    "\n",
    "\n",
    "Wir hatten Eingangs erwähnt, dass man sich oft zwischen Performance und Lesbarkeit bzw. Entwicklungszeit entscheiden muss.\n",
    "``Python`` trifft hier einen ganz bestimmten Sweetspot: die Sprache ist **maschinenenfern**, sehr **leserlich**, man bekommt schnell viel zustande und dennoch ist sie **Leistungsstark**, sofern wir das **Ökosystem** gut nutzen.\n",
    "Pakte verlagern aufwendige Berechnungen in ``C/C++``-Programmen, eine **maschinennahen** und **leistungsstarken** Spache.\n",
    "Wie dies funktioniert, soll uns an dieser Stelle noch nicht kümmern.\n",
    "Durch dieses Zusammenspiel bekommen wir beides: die **Leistung** durch ``C/C++`` und **Abstraktion** und **Lesbarkeit** durch ``Python``!\n",
    "\n",
    "``Python`` hat aber auch seine Tücken.\n",
    "Als dynamisch getypte sehr flexible Sprache kann es schwer sein Garantien für den geschriebenen Code sicherzustellen.\n",
    "Software oder auch Entwickler\\*innen, die Quellcode analysieren und auf Korrektheit prüfen, können es schwer haben."
   ]
  },
  {
   "cell_type": "code",
   "execution_count": 1,
   "id": "significant-nylon",
   "metadata": {},
   "outputs": [],
   "source": [
    "def sum_squares(n):\n",
    "    return sum([(i+1)**2 for i in range(n)])"
   ]
  },
  {
   "cell_type": "markdown",
   "id": "soviet-blackjack",
   "metadata": {},
   "source": [
    "Blicken wir nur auf die Argumente der Funktion ``sum_squares`` wissen wir nicht ob die Funktion eine Ganzzahl, eine Fließkommazahl oder eine Zeichenkette, oder irgendetwas anderes erwartet.\n",
    "Wir müssen deshalb mit Kommentaren kennzeichnen um was es sich handelt, um anderen Entwickler\\*innen die Fehlersuche zu erleichtern.\n",
    "Rufen wir die Methode mit einer Zeichenkette auf z.B. ``sum_square('a')`` wird uns niemand daran hindern und wir bemerken unseren Fehler erst, wenn das Programm abstürzt.\n",
    "\n",
    "Eine recht neue Möglichkeit ist es den Typ direkt im Code anzugeben, es bleibt aber reine Dokumentation und hat keine Wirkung auf die Ausführung:"
   ]
  },
  {
   "cell_type": "code",
   "execution_count": 2,
   "id": "tired-little",
   "metadata": {},
   "outputs": [],
   "source": [
    "def sum_squares(n: int) -> int:\n",
    "    return sum([(i+1)**2 for i in range(n)])"
   ]
  },
  {
   "cell_type": "markdown",
   "id": "least-pipeline",
   "metadata": {},
   "source": [
    "In statisch getypten Sprachen wie ``Java``, ``C++`` oder ``Haskell`` (siehe oben), ist dies durch die Definition der Funktion festgelegt.\n",
    "Hier würde bereits vor dem Start des Programms ein Fehler entstehen, falls wir ``sum_square('a')`` ausführen.\n",
    "Gerade bei sicherheitsrelevanter Software wie der Flugzeugsteuerung, Finanzsystemen oder großen Businessanwendungen kann dies zum Problem werden.\n",
    "\n",
    "Ein zweiter Aspekt den man gut oder schlecht finden kann ist, dass es ``Python`` den Entwickler\\*innen erschwert ihren Code als geistiges Eigentum zu schützen. \n",
    "\n",
    "Heute ist ``Python`` eine der populärsten Sprachen mit dem Potenzial immer weiter an Fahrt aufzunehmen.\n",
    "Sie hat eine sehr leserliche **Syntax**, ein herausragendes **Ökosystem**, ist in sehr vielen **Anwendungsbereichen** anzutreffen (Tendenz steigend) und bietet bei richtiger Verwendung auch gute **Performance**.\n",
    "Deshalb ist ``Python`` eine ausgezeichnete Wahl."
   ]
  }
 ],
 "metadata": {
  "jupytext": {
   "formats": "md:myst",
   "text_representation": {
    "extension": ".md",
    "format_name": "myst"
   }
  },
  "kernelspec": {
   "display_name": "Python 3",
   "language": "python",
   "name": "python3"
  },
  "language_info": {
   "codemirror_mode": {
    "name": "ipython",
    "version": 3
   },
   "file_extension": ".py",
   "mimetype": "text/x-python",
   "name": "python",
   "nbconvert_exporter": "python",
   "pygments_lexer": "ipython3",
   "version": "3.9.6"
  },
  "source_map": [
   11,
   86,
   89,
   97,
   100
  ]
 },
 "nbformat": 4,
 "nbformat_minor": 5
}