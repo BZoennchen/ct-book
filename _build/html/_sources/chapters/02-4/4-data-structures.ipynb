{
 "cells": [
  {
   "cell_type": "markdown",
   "id": "62c2cae9",
   "metadata": {},
   "source": [
    "(sec-data-structures)=\n",
    "# Datenstrukturen\n",
    "\n",
    "Programmiersprachen und deren Standardbibliotheken bieten viele vordefinierte Datentypen und Datenstrukturen.\n",
    "In diesem Abschnitt wollen wir über die fundamentalsten Datenstrukturen sprechen.\n",
    "Wir werden Ihnen dabei auch eine Implementierung präsentieren, die Sie sich ansehen können sobald Sie genug Erfahrung mit ``Python`` gesammelt haben.\n",
    "Für eine weiterführende und zugleich angewandte Diskussion verweisen wir auf im **PYTHON** Teil auf das Kapitel [Datentypen (Grundlagen)](sec-python-data-types) und [Datentypen (Fortsetzung)](sec-data-types-advanced).\n",
    "\n",
    "(sec-pointer)=\n",
    "## Zeiger\n",
    "\n",
    "Da sich alle Daten (Programm und dessen Eingabe/Ausgabe) im [Arbeitsspeicher](def-main-memory) befinden, müssen wir begreifen welche Funktionalität diese *konkrete* Datenstruktur bietet.\n",
    "Alle weiteren *abstrakten* Datenstrukturen bauen auf den Möglichkeiten auf, welche uns der Arbeitsspeicher bietet.\n",
    "\n",
    "Über die Geschichte hat sich der Arbeitsspeicher in Geschwindigkeit und Größe und bezüglich anderer Eigenschaften weiterentwickelt.\n",
    "Was uns jedoch interessiert sind die wenigen grundlegenden Eigenschaften, welche sich im Wesentlichen nicht verändert haben:\n",
    "\n",
    "Addressierbarkeit\n",
    ": Der Arbeitsspeicher ist im Wesentlichen eine lange **adressierbare** endliche Liste von Bits\n",
    "\n",
    "Effizienz\n",
    ": Die Adressierung eines Listeneintrags für eine gegebene Adresse ist sehr effizient\n",
    "\n",
    "Die Eigenschaft der *effizienten Adressierung* spiegelt sich in allen Programmiersprachen mehr oder weniger pregnannt wieder.\n",
    "\n",
    "```{figure} ../../figs/art-of-programming/ram.png\n",
    "---\n",
    "width: 400px\n",
    "name: fig-ram-banks\n",
    "---\n",
    "Der Arbeitsspeicher ist eine sehr lange Liste bestehend aus [Bits](def-bit).\n",
    "Die Adresse (links) ist im Wesentlichen die Nummer / der Index eines bestimmten Speicherplatzes (rechts).\n",
    "Alle Werte sind im Binärsystem dargestellt. An Adresse 00000111 befindet sich eine Adresse.\n",
    "```\n",
    "\n",
    "Gewöhnlich adressiert die CPU keine einzelnen Bits, sondern ein ganzes [Byte](def-byte).\n",
    "{numref}`Abbildung {number} <fig-ram-banks>` zeigt ein Beispiel eines Arbeitsspeichers der uns erlaubt jeweils ein Byte zu adressieren, zugleich werden Adressen, in diesem Beispiel, durch ein Byte dargestellt.\n",
    "\n",
    "```{exercise} Adressraum\n",
    ":label: address-space-exercise\n",
    "Wie viel Byte können im Beispiel von {numref}`Abbildung {number} <fig-ram-banks>` maximal adressiert werden?\n",
    "```\n",
    "\n",
    "```{solution} address-space-exercise\n",
    ":label: address-space-solution\n",
    ":class: dropdown\n",
    "Der Adressraum geht von $0000\\,0000_2$ bis $1111\\,1111_2$.\n",
    "Das heißt von $0_{10}$ bis $1\\,0000\\,0000_2 - 1_2 = 2^8-1 = 256-1 = 255$.\n",
    "Da jede Adresse ein Byte adressiert, können wir somit lediglich $256$ Byte adressieren.\n",
    "```\n",
    "\n",
    "```{exercise} 32-Bit-Adressraum\n",
    ":label: address-space-32-bit-exercise\n",
    "Weshalb war es vor Jahren nicht möglich mehr als ca. 4 GiB Arbeitsspeicher im Rechner zu verwenden?\n",
    "\n",
    "**Hinweis:** Es ereignete sich ein Wechsel von einer 32-Bit auf eine 64-Bit Adressierung.\n",
    "```\n",
    "\n",
    "```{solution} address-space-32-bit-exercise\n",
    ":label: address-space-32-bit-solution\n",
    ":class: dropdown\n",
    "Mit $32$ bildet sich ein *Adressraum* von $2^{32}$ Adressen.\n",
    "Wenn die CPU jedes einzelne Byte adressieren können soll, so ergibt sich ein Maximum an \n",
    "\n",
    "$$2^{32} \\cdot 1 = 2^{10} \\cdot 2^{10} \\cdot 2^{10} \\cdot 2^2$$\n",
    "\n",
    "Byte und das sind $2^{10} \\cdot 2^{10} \\cdot 2^2$ KiB, $2^{10} \\cdot 2^2$ MiB bzw. $4$ GiB.\n",
    "\n",
    "```\n",
    "\n",
    "Im Arbeitsspeicher befinden sich alle Werte (Zahlen, Text, Bilder, Videos) und Adressen in Binärdarstellung.\n",
    "Eine Adresse im Speicher bezeichnet man häufig auch als *Zeiger/Pointer* oder *Referenz*.\n",
    "Ein *Zeiger* kann auf einen weiteren *Zeiger* *zeigen/verweisen/referenzieren*.\n",
    "\n",
    "In {numref}`Abbildung {number} <fig-ram-banks>` zeigt der *Zeiger* an Adresse 3 auf den Speicherbereich bei Adresse 7.\n",
    "Dies ist wiederum eine Adresse die auf den Speicherbereich 1 zeigt und dort liegt der Wert 0.\n",
    "Selbstverständlich bedarf es der richtigen [Interpretation](sec-interpretation) der jeweiligen Speicherbereiche, denn es könnte sich beim Wert bei Adresse 3 auch um den Dezimalwert 7 oder irgendetwas anderes als einen *Zeiger* handeln.\n",
    "\n",
    "Für *Zeiger* gibt es keine perfekte Analogie aus der Realwelt, jedenfalls ist uns keine eingefallen.\n",
    "Folgendes kommt an den Sachverhalt nahe heran: Nehmen sie eine große geordnete Anreihung von Bankschließfächer als Arbeitsspeicher.\n",
    "Jedes Schließfach hat eine eindeutige Nummer (Speicheradresse).\n",
    "In jedem Schließfach kann sich etwas befinden, unter anderem auch ein Zettel mit einer Schließfachnummer (Zeiger).\n",
    "\n",
    "Das Problem an dieser Analogie ist jedoch, dass, wenn wir den Zettel in Händen halten, wir erst zum entsprechenden Schließfach gehen müssen.\n",
    "Dabei laufen wir an vielen anderen Schließfächern vorbei.\n",
    "Das kostet Zeit.\n",
    "Wenn wir allerdings einen Zeiger haben, so können wir auf den Wert unglaublich schnell zugreifen.\n",
    "Es kostet der CPU zwar auch etwas Zeit um den Zeiger *aufzulösen* aber muss sie nicht über alle dazwischenliegenden Speicherbereiche \"hinweglaufen\", d.h. iterieren.\n",
    "\n",
    "Ein Zeiger ähnelt einer Schnur, dessen erstes Ende wir in Händen halten und dessen anderes Ende am Objekt im Schließfach befestigt ist.\n",
    "Bei Aktivierung des Zeigers werden wir direkt ins Schließfach teleportiert!\n",
    "\n",
    "## Einfach verkette Liste\n",
    "\n",
    "Bleiben wir bei der Analogie der Schließfächer und Schnüre.\n",
    "Sie möchten ihre Lieblingsgerichte in alphabetischer Reihenfolge abspeichern.\n",
    "Dazu verwenden Sie die Schließfächer und Schnüre.\n",
    "Sie halten eine Schnur in den Händen, die auf das Schließfach mit Ihrem absoluten Lieblingsgericht zeigt.\n",
    "Das darauffolgende Schließfach verweist auf ihr zweitliebstes Gericht usw.\n",
    "Die bilden eine sog. *verkette Liste* (engl. *Linked List*).\n",
    "\n",
    "```{figure} ../../figs/art-of-programming/linked-list-ram.png\n",
    "---\n",
    "width: 800px\n",
    "name: fig-linked-list-ram\n",
    "---\n",
    "Gerichte 1 bis 5 in einer *verketteten Liste*. \n",
    "Jede Kachel repräsentiert ein Schließfach bzw. einen adressierbaren Speicherbereich.\n",
    "```\n",
    "\n",
    "Befinden Sie sich an einem Schließfach der Liste, so können Sie recht einfach ein neues Element an dieser Stelle einfügen.\n",
    "Eine *verkettete Liste* besteht aus sogenannten *Knoten* (Schließfach + Schnur zum nächsten Schließfach), welche durch *Zeiger* verbunden sind.\n",
    "Sie ist eine *dynamischen* Datenstruktur, d.h. Sie kann zur Laufzeit vergrößert und verkleinert werden.\n",
    "\n",
    "```{admonition} Dynamische Datenstrukturen\n",
    ":name: def-dynamic-ds\n",
    ":class: definition\n",
    "*Dynamische Datenstrukturen* können zur Laufzeit des Programms anwachsenden und schrumpfen, d.h. ihr Speicherverbrauch kann sich verändern. Möglich wird dies durch die Verwendung von *[Zeigern](sec-pointer)*.\n",
    "```\n",
    "\n",
    "Haben wir direkten Zugriff auf einen Knoten so können wir in die *verkettete Liste* ein neues Element was direkt nachfolgt effizient einfügen ohne dabei die anderen Elemente der Liste zu verschieben -- ein wesentlicher Vorteil dieser Datenstruktur.\n",
    "Jeder Knoten besteht aus zwei Teilen:\n",
    "\n",
    "Daten\n",
    ": Der Wert des Knotens (oder auch ein Zeiger auf den Wert des Knotens). Das ist der Inhalt des Schließfachs.\n",
    "\n",
    "Zeiger\n",
    ": Verweist auf den nächsten Knoten. Das ist die Schnur, die zum nächsten Schließfach führt.\n",
    "\n",
    "```{figure} ../../figs/art-of-programming/linked-list-node.png\n",
    "---\n",
    "width: 200px\n",
    "name: fig-linked-list-node\n",
    "---\n",
    "Knoten einer *verketteten Liste*.\n",
    "```"
   ]
  },
  {
   "cell_type": "code",
   "execution_count": 1,
   "id": "2f02bd95",
   "metadata": {},
   "outputs": [],
   "source": [
    "class Node:\n",
    "    def __init__(self, value, successor=None):\n",
    "        self.value = value\n",
    "        self.successor = successor\n",
    "        \n",
    "    def __repr__(self):\n",
    "        return repr(self.value)"
   ]
  },
  {
   "cell_type": "markdown",
   "id": "00a0b7a7",
   "metadata": {},
   "source": [
    "Den Anfangsknoten der Liste bezeichnet man als *Kopf/Head*.\n",
    "\n",
    "```{figure} ../../figs/art-of-programming/linked-list.png\n",
    "---\n",
    "width: 800px\n",
    "name: fig-linked-list\n",
    "---\n",
    "Einer *verkettete Liste* aus Zahlen.\n",
    "```\n",
    "\n",
    "Um Elemente am *Ende* (engl. *Tail*) einzufügen, kann es sinnvoll sein sich zusätzlich den letzten Knote der Liste zu merken.\n",
    "\n",
    "## Der Stapel\n",
    "\n",
    "### Eigenschaften\n",
    "\n",
    "Der *Stapel* (engl. *Stack*) oder auch *Stapelspeicher/Keller* ist einer der einfachsten [dynamischen Datenstrukturen](def-dynamic-ds), welche dem *Last-In-First-Out (LIFO)* Prinzip folgt.\n",
    "LIFO bedeutet soviel wie: *zuletzt hinein - zuerst heraus*.\n",
    "Das was zuletzt hinein gekommen ist, wird auch als erstes herausgenommen.\n",
    "Das beudeutet, dass wir eingefügte Elemente nur in umgekehrter Reihenfolge aus dem Stapel herausnehmen können.\n",
    "Gleichbedeutend ist der Begriff *Last Come, First Serve*, d.h. wer zuletzt kommt wird zuerst bedient.\n",
    "\n",
    "**Wie** der Stapel intern funktioniert ist nicht genau definiert, jedoch ist garantiert, dass die Datenstruktur die folgenden Operationen anbietet.\n",
    "\n",
    "| Operation                    | Laufzeit                           | Beschreibung                                                            |\n",
    "| ---------------------------- | ---------------------------------- | ----------------------------------------------------------------------- |\n",
    "| ``size``                     |  $\\mathcal{O}(1)$                  | Liefert Anzahl der Elemente                                             |\n",
    "| ``push(element)``            |  $\\mathcal{O}(1)$                  | Legt das Element ``element`` auf den Stapel                             |\n",
    "| ``peek()``                   |  $\\mathcal{O}(1)$                  | Liefert das Element zurück, welches ganz oben auf dem Stapel liegt      |\n",
    "| ``pop()``                    |  $\\mathcal{O}(1)$                  | Liefert das oberste Element des Stapels zurück und löscht es von diesem |\n",
    "\n",
    "All diese Operationen müssen eine gute Laufzeit haben. \n",
    "Man sagt auch, ihre (Zeit-)Komplexität ist konstant, d.h. $\\mathcal{O}(1)$.\n",
    "\n",
    "Stellen Sie sich einen Stapel aus Büchern vor.\n",
    "Das Buch was Sie zuletzt auf den Bücherstapel gelegt haben liegt zugriffsbereit ganz oben.\n",
    "Um auf die anderen Bücher zuzugreifen ohne den Stapel komplett zu zerstören, müssen Sie sich von oben nach unten durcharbeiten und alle Bücher bis zu dem gewünschten Buch vom Stapel nehmen.\n",
    "\n",
    "Wann könnte diese Datenstruktur sinvoll einsetzbar sein?\n",
    "Stellen Sie sich vor Sie laufen durch eine fremde Stadt.\n",
    "Sie orientieren sich anhand von Straßennamen.\n",
    "Um wieder zurück zu finden laufen Sie diese markanten Stellen in umgekehrter Reihenfolge ab.\n",
    "Sie können mit einem Stapel auch die Reihenfolge einer Serie von Elementen verändern.\n",
    "Das Ein- und Austreten aus einem Bus können wir durch einen Stapel modellieren.\n",
    "\n",
    "### Realisierung\n",
    "\n",
    "Für die genaue Realisierung eines Stapels gibt es viele Möglichkeiten.\n",
    "Eine davon stellt die Realisierung der *einfach verketteten Liste* mit einem *Head* dar:"
   ]
  },
  {
   "cell_type": "code",
   "execution_count": 2,
   "id": "1759c962",
   "metadata": {},
   "outputs": [],
   "source": [
    "class Stack:\n",
    "    def __init__(self):\n",
    "        self._head = None\n",
    "        self._size = 0\n",
    "        \n",
    "    def __repr__(self):\n",
    "        text = '=>'\n",
    "        node = self._head\n",
    "        for i in range(self.size):\n",
    "            if i != 0:\n",
    "                text += '  '\n",
    "            text += node.__repr__()\n",
    "            node = node.successor\n",
    "            if i < self.size-1:\n",
    "                text += '\\n'\n",
    "        text += ''\n",
    "        return text\n",
    "        \n",
    "    @property\n",
    "    def size(self):\n",
    "        return self._size\n",
    "    \n",
    "    def peek(self):\n",
    "        return self._head.value\n",
    "    \n",
    "    def pop(self):\n",
    "        result = self._head\n",
    "        self._head = self._head.successor\n",
    "        result.successor = None\n",
    "        self._size -= 1\n",
    "        return result.value\n",
    "            \n",
    "    def push(self, value):\n",
    "        if self._head:\n",
    "            node = Node(value, self._head)            \n",
    "            self._head = node\n",
    "        else:\n",
    "            self._head = Node(value)\n",
    "            \n",
    "        self._size += 1"
   ]
  },
  {
   "cell_type": "code",
   "execution_count": 3,
   "id": "cb24e2a8",
   "metadata": {},
   "outputs": [
    {
     "name": "stdout",
     "output_type": "stream",
     "text": [
      "=>\n",
      "\n",
      "=>'A'\n",
      "\n",
      "=>'B'\n",
      "  'A'\n",
      "\n",
      "=>'C'\n",
      "  'B'\n",
      "  'A'\n"
     ]
    }
   ],
   "source": [
    "# Last In\n",
    "stack = Stack()\n",
    "print(f'{stack}\\n')\n",
    "stack.push('A')\n",
    "print(f'{stack}\\n')\n",
    "stack.push('B')\n",
    "print(f'{stack}\\n')\n",
    "stack.push('C')\n",
    "print(stack)"
   ]
  },
  {
   "cell_type": "code",
   "execution_count": 4,
   "id": "a54667a5",
   "metadata": {},
   "outputs": [
    {
     "name": "stdout",
     "output_type": "stream",
     "text": [
      "=>'B'\n",
      "  'A'\n",
      "\n",
      "=>'A'\n",
      "\n",
      "=>\n",
      "\n"
     ]
    }
   ],
   "source": [
    "# First Out\n",
    "while stack.size > 0:\n",
    "    stack.pop()\n",
    "    print(f'{stack}\\n')"
   ]
  },
  {
   "cell_type": "markdown",
   "id": "18e954da",
   "metadata": {},
   "source": [
    "Wollen wir testen ob ein geklammerter Ausdruck z.B. ``'((3+2)+6)'`` richtig geklammert ist, können wir einen *Stapel* einsetzten, denn ist die erste Klammer eine offene, muss die letzte eine geschlossene sein.\n",
    "Die folgende Funktion ``parse`` bedient sich eines *Stapels*.\n",
    "Sie testet ob die Klammerung korrekt ist."
   ]
  },
  {
   "cell_type": "code",
   "execution_count": 5,
   "id": "90db5932",
   "metadata": {},
   "outputs": [
    {
     "name": "stdout",
     "output_type": "stream",
     "text": [
      "True\n",
      "False\n",
      "False\n",
      "True\n",
      "False\n"
     ]
    }
   ],
   "source": [
    "def parse(expression):\n",
    "    stack = Stack()\n",
    "    for c in expression:\n",
    "        if c == '(':\n",
    "            stack.push('(')\n",
    "        elif c == ')':\n",
    "            if stack.size == 0 or stack.peek() != '(':\n",
    "                return False\n",
    "            else:\n",
    "                stack.pop()\n",
    "    if stack.size > 0:\n",
    "        return False\n",
    "    return True\n",
    "\n",
    "print(parse('(3+5)*2'))\n",
    "print(parse('((3+5)*2'))\n",
    "print(parse('(3+5)*2)'))\n",
    "print(parse('()()()()((((()))))'))\n",
    "print(parse('()()()()((((())))'))"
   ]
  },
  {
   "cell_type": "markdown",
   "id": "91eb9e43",
   "metadata": {},
   "source": [
    "## Die Warteschlange\n",
    "\n",
    "### Eigenschaften\n",
    "\n",
    "Die *Warteschlange* (engl. *Queue*) ist eine [dynamischen Datenstrukturen](def-dynamic-ds) und folgt dem sog. *First-In-First-Out (FIFO)* Prinzip.\n",
    "FIFO bedeutet soviel wie: *zuerst hinein - zu erst hinaus*.\n",
    "Das was zuerst hinein gekommen ist, wird auch als erstes herausgenommen.\n",
    "Das beudeutet, dass wir eingefügte Elemente nur in der gleichen Reihenfolge aus der Queue herausnehmen können.\n",
    "Gleichbedeutend ist der Begriff *First Come, First Serve*, d.h. wer zuerst kommt mahlt zu erst.\n",
    "\n",
    "**Wie** die Warteschlange intern funktioniert ist nicht genau definiert, jedoch ist garantiert, dass die Datenstruktur die folgenden Operationen anbietet.\n",
    "\n",
    "| Operation                    | Laufzeit                           | Beschreibung                                                                   |\n",
    "| ---------------------------- | ---------------------------------- | ------------------------------------------------------------------------------ |\n",
    "| ``size``                     |  $\\mathcal{O}(1)$                  | Liefert Anzahl der Elemente                                                    |\n",
    "| ``enqueue(element)``         |  $\\mathcal{O}(1)$                  | Fügt das Element ``element`` hinten an                                         |\n",
    "| ``dequeue()``                |  $\\mathcal{O}(1)$                  | Liefert Element an forderster Stelle und löscht dieses aus der Struktur        |\n",
    "\n",
    "All diese Operationen müssen eine gute Laufzeit haben. \n",
    "Man sagt auch, ihre (Zeit-)Komplexität ist konstant, d.h. $\\mathcal{O}(1)$.\n",
    "Der $i$-ten ``dequeue`` Aufruf liefert genau das Element, welches beim $i$-ten ``enqueue`` Aufruf von eingefügt wurde.\n",
    "\n",
    "Der Name rührt daher, dass die Datenstruktur wie eine Warteschlange an der Kasse funktioniert.\n",
    "Der Kunden die sich zuerst in die Schlange einreihen, werden auch zuerst bedient und können die Schlange auch zuerst wieder verlassen.\n",
    "Wegen dieser Eigenschaft werden *Queues* oft als *Puffer* eingesetzt.\n",
    "Zum Beispiel werden die Netzwerkpakete die Ihr Router versendet erst in einer Queue gehalten und dann gesendet.\n",
    "\n",
    "### Realisierung\n",
    "\n",
    "Erneut gibt es unterschiedliche Möglichkeiten diese Datenstruktur zu realisieren.\n",
    "Glücklicherweise können wir abermals auf die *einfach verketteten Liste* zurückgreifen.\n",
    "Allerdings ist es notwendig sowohl auf den Kopf (*Head*) als auch auf das Ende (*Tail*) der Liste effizient zugreifen zu können.\n",
    "Deshalb merken wir uns und verwalten zusätzlich das Ende der Liste, d.h. den (*Tail*)."
   ]
  },
  {
   "cell_type": "code",
   "execution_count": 6,
   "id": "87ed9a0f",
   "metadata": {},
   "outputs": [],
   "source": [
    "class Queue:\n",
    "    def __init__(self):\n",
    "        self._head = None\n",
    "        self._tail = None\n",
    "        self._size = 0\n",
    "        \n",
    "    def __repr__(self):\n",
    "        text = '['\n",
    "        node = self._head\n",
    "        for i in range(self.size):\n",
    "            text += node.__repr__()\n",
    "            node = node.successor\n",
    "            if i < self.size-1:\n",
    "                text += ', '\n",
    "        text += ']'\n",
    "        return text\n",
    "        \n",
    "    @property\n",
    "    def size(self):\n",
    "        return self._size\n",
    "    \n",
    "    def dequeue(self):\n",
    "        result = self._head\n",
    "        self._head = self._head.successor\n",
    "        result.successor = None\n",
    "        self._size -= 1\n",
    "        return result.value\n",
    "            \n",
    "    def enqueue(self, value):\n",
    "        node = Node(value)   \n",
    "        if self._tail:         \n",
    "            self._tail.successor = node\n",
    "            self._tail = node\n",
    "        else:\n",
    "            self._tail = node\n",
    "            self._head = self._tail\n",
    "            \n",
    "        self._size += 1"
   ]
  },
  {
   "cell_type": "markdown",
   "id": "cc93690e",
   "metadata": {},
   "source": [
    "Lassen uns die Warteschlange fülle"
   ]
  },
  {
   "cell_type": "code",
   "execution_count": 7,
   "id": "de62ca24",
   "metadata": {},
   "outputs": [
    {
     "data": {
      "text/plain": [
       "[1, 2, 3, 4]"
      ]
     },
     "execution_count": 7,
     "metadata": {},
     "output_type": "execute_result"
    }
   ],
   "source": [
    "queue = Queue()\n",
    "queue.enqueue(1)\n",
    "queue.enqueue(2)\n",
    "queue.enqueue(3)\n",
    "queue.enqueue(4)\n",
    "queue"
   ]
  },
  {
   "cell_type": "markdown",
   "id": "20d30fc8",
   "metadata": {},
   "source": [
    " und wieder leeren."
   ]
  },
  {
   "cell_type": "code",
   "execution_count": 8,
   "id": "944bfd05",
   "metadata": {},
   "outputs": [
    {
     "name": "stdout",
     "output_type": "stream",
     "text": [
      "1\n",
      "2\n",
      "3\n",
      "4\n"
     ]
    }
   ],
   "source": [
    "for _ in range(queue.size):\n",
    "    print(queue.dequeue())"
   ]
  },
  {
   "cell_type": "markdown",
   "id": "78c95489",
   "metadata": {},
   "source": [
    "## Doppelt verkettete Liste\n",
    "\n",
    "Die *doppelt verkettete Liste* (engl. *Dequeue*) ist einer Erweiterung der *(einfach) verketteten Liste* und zugleich eine Kombination aus Warteschlange und Stack.\n",
    "Sie besteht aus Knoten, die nicht nur einen Zeiger auf den nächsten sondern auch auf den vorherigen Knoten enthalten.\n",
    "Das macht die Liste flexibler.\n",
    "Es lassen sich effizient vorne und hinten Elemente einfügen und löschen, doch ist der Verwaltungsaufwand größer."
   ]
  },
  {
   "cell_type": "code",
   "execution_count": 9,
   "id": "cf1c6773",
   "metadata": {},
   "outputs": [],
   "source": [
    "class NodeD:\n",
    "    def __init__(self, value, predecessor=None, successor=None):\n",
    "        self.value = value\n",
    "        self.successor  = successor\n",
    "        self.predecessor = predecessor\n",
    "        \n",
    "    def __repr__(self):\n",
    "        return repr(self.value)\n",
    "    \n",
    "    def append(self, node):\n",
    "        successor = self.successor\n",
    "        \n",
    "        self.successor = node\n",
    "        node.predecessor = self\n",
    "        \n",
    "        node.successor = successor\n",
    "        if successor:\n",
    "            successor.predecessor = node\n",
    "        \n",
    "    def prepend(self, node):\n",
    "        predecessor = self.predecessor\n",
    "        \n",
    "        self.predecessor = node\n",
    "        node.successor = self\n",
    "    \n",
    "        node.predecessor = predecessor    \n",
    "        if predecessor:\n",
    "            predecessor.successor = node"
   ]
  },
  {
   "cell_type": "markdown",
   "id": "0835eae3",
   "metadata": {},
   "source": [
    "Um einen neuen Knoten hinter einem gegebenen Knoten anzuhängen ``append`` müssen wir lediglich die *Zeiger* richtig \"verbiegen\".\n",
    "Auch diese Operation ist, bezogen auf die Laufzeit, sehr günstig.\n",
    "Wollen wir testen ob die Liste einen bestimmten Wert enthält ``contains``, so müssen wir diese von Kopf bis Fuß durchsuchen.\n",
    "Diese Operation ist teuer!\n",
    "\n",
    "Der Folgende Code zeigt die Realisierung eines Knotens durch eine ``Python``-Klasse.\n",
    "\n",
    "Die Klasse ``DoubleLinkedList`` zeigt eine sehr simple Realisierung einer *doppelt verketteten Liste*:\n",
    "\n",
    "| Operation                    | Laufzeit                           | Beschreibung                                                   |\n",
    "| ---------------------------- | ---------------------------------- | -------------------------------------------------------------- |\n",
    "| ``size``                     |  $\\mathcal{O}(1)$                  | Liefert Anzahl der Elemente                                    |\n",
    "| ``prepend(element)``         |  $\\mathcal{O}(1)$                  | Fügt das Element ``element`` vorne an (es wird zum Head)       |\n",
    "| ``append(element)``          |  $\\mathcal{O}(1)$                  | Fügt das Element ``element`` hinten an (es wird zum Tail)      |\n",
    "| ``first()``                  |  $\\mathcal{O}(1)$                  | Liefert erstes Element (Head) ohne es zu löschen               |\n",
    "| ``last()``                   |  $\\mathcal{O}(1)$                  | Liefert letzte Element (Tail) ohne es zu löschen               |\n",
    "| ``remove_first()``           |  $\\mathcal{O}(1)$                  | Liefert erstes Element (Head) und löscht es aus der Liste      |\n",
    "| ``remove_last()``            |  $\\mathcal{O}(1)$                  | Liefert letzte Element (Tail) und löscht es aus der Liste      |\n",
    "| ``contains(element)``        |  $\\mathcal{O}(n)$                  | ``True`` genau dann wenn ``element`` in der Liste ist.         |\n",
    "| ``__getitem__(i)``           |  $\\mathcal{O}(n)$                  | Liefert Element an der ``i``-ten Stelle in der Liste           |\n",
    "| ``__setitem__(i, value)``    |  $\\mathcal{O}(n)$                  | Ersetzt ``i``-tes Element in der Liste mit ``value``           |\n",
    "| ``__delitem__(i)``           |  $\\mathcal{O}(n)$                  | Ersetzt ``i``-tes Element in der Liste mit ``value``           |"
   ]
  },
  {
   "cell_type": "code",
   "execution_count": 10,
   "id": "da8528b6",
   "metadata": {},
   "outputs": [],
   "source": [
    "class DoubleLinkedList:\n",
    "    def __init__(self):\n",
    "        self._head = None\n",
    "        self._tail = None\n",
    "        self._size = 0\n",
    "        \n",
    "    def __repr__(self):\n",
    "        text = '['\n",
    "        node = self._head\n",
    "        for i in range(self._size):\n",
    "            text += node.__repr__()\n",
    "            node = node.successor\n",
    "            if i < self._size-1:\n",
    "                text += ', '\n",
    "        text += ']'\n",
    "        return text\n",
    "        \n",
    "    @property\n",
    "    def size(self):\n",
    "        return self._size\n",
    "    \n",
    "    def first(self):\n",
    "        return self._head.value\n",
    "    \n",
    "    def last(self):\n",
    "        return self._tail.value\n",
    "    \n",
    "    def remove_last(self):\n",
    "        tail = self._tail\n",
    "        self._tail = self._tail.predecessor\n",
    "        tail.predecessor = None\n",
    "        \n",
    "        if self._tail:\n",
    "            self._tail.successor = None\n",
    "        self._size -= 1\n",
    "        return tail.value\n",
    "        \n",
    "    def remove_first(self):\n",
    "        head = self._head\n",
    "        self._head = self._head.successor\n",
    "        head.successor = None\n",
    "        \n",
    "        if self._head:\n",
    "            self._head.predecessor = None\n",
    "        self._size -= 1\n",
    "        return head.value\n",
    "            \n",
    "    def append(self, vale):\n",
    "        node = NodeD(value)\n",
    "        if self._head:\n",
    "            self._tail.append(node)\n",
    "            self._tail = node\n",
    "        else:\n",
    "            self._head = node\n",
    "            self._tail = self._head\n",
    "        self.size += 1\n",
    "        \n",
    "    def prepend(self, value):\n",
    "        node = NodeD(value)\n",
    "        if self._head:\n",
    "            self._head.prepend(node)\n",
    "            self._head = node\n",
    "        else:\n",
    "            self._head = node\n",
    "            self._tail = self._head\n",
    "        self._size += 1\n",
    "        \n",
    "    def contains(self, value):\n",
    "        node = self._head\n",
    "        for _ in range(self.size):\n",
    "            if node.value == value:\n",
    "                return True\n",
    "            node = node.successor\n",
    "        return False\n",
    "    \n",
    "    def __get_node(self, key):\n",
    "        if key < 0:\n",
    "            key = key+self.size\n",
    "        \n",
    "        if self.size//2 > key:        # forwards\n",
    "            r = range(key)\n",
    "            node = self._head\n",
    "            for _ in range(key):\n",
    "                node = node.successor\n",
    "        else:                         # backwards\n",
    "            node = self._tail\n",
    "            r = range(self.size-1, -1, -1)\n",
    "            for _ in range(key):\n",
    "                node = node.predecessor\n",
    "        return node\n",
    "    \n",
    "    def __delitem__(self, key):\n",
    "        # del lst[key]\n",
    "        if key == 0:\n",
    "            self.remove_first()\n",
    "        elif key == self.size-1 or key == -1:\n",
    "            self.remove_last()\n",
    "        else:\n",
    "            node = self.__get_node(key)\n",
    "            predecessor = node.successor\n",
    "            successor = node.successor\n",
    "            predecessor.successor = succesor\n",
    "            successor.predecessor = predecessor\n",
    "            \n",
    "            node.successor = None\n",
    "            node.predecessor = None\n",
    "            self._size -= 1\n",
    "    \n",
    "    def __getitem__(self, key):\n",
    "        # self[key]\n",
    "        return self.__get_node(key).value\n",
    "            \n",
    "\n",
    "    def __setitem__(self, key, value):\n",
    "        # self[key] = value\n",
    "        node = self.__get_node(key)\n",
    "        node.value = value"
   ]
  },
  {
   "cell_type": "code",
   "execution_count": 11,
   "id": "0ccd4269",
   "metadata": {},
   "outputs": [
    {
     "data": {
      "text/plain": [
       "[54, 44, 31, 13]"
      ]
     },
     "execution_count": 11,
     "metadata": {},
     "output_type": "execute_result"
    }
   ],
   "source": [
    "lst = DoubleLinkedList()\n",
    "lst.prepend(13)\n",
    "lst.prepend(31)\n",
    "lst.prepend(44)\n",
    "lst.prepend(54)\n",
    "\n",
    "lst"
   ]
  },
  {
   "cell_type": "code",
   "execution_count": 12,
   "id": "d496787b",
   "metadata": {},
   "outputs": [
    {
     "data": {
      "text/plain": [
       "13"
      ]
     },
     "execution_count": 12,
     "metadata": {},
     "output_type": "execute_result"
    }
   ],
   "source": [
    "lst.last()"
   ]
  },
  {
   "cell_type": "code",
   "execution_count": 13,
   "id": "b685e586",
   "metadata": {},
   "outputs": [
    {
     "data": {
      "text/plain": [
       "54"
      ]
     },
     "execution_count": 13,
     "metadata": {},
     "output_type": "execute_result"
    }
   ],
   "source": [
    "lst.first()"
   ]
  },
  {
   "cell_type": "code",
   "execution_count": 14,
   "id": "540c8371",
   "metadata": {},
   "outputs": [
    {
     "name": "stdout",
     "output_type": "stream",
     "text": [
      "True\n",
      "54\n",
      "False\n"
     ]
    },
    {
     "data": {
      "text/plain": [
       "[54, 44, 31]"
      ]
     },
     "execution_count": 14,
     "metadata": {},
     "output_type": "execute_result"
    }
   ],
   "source": [
    "print(lst.contains(13))\n",
    "print(lst[3])\n",
    "del lst[3]\n",
    "print(lst.contains(13))\n",
    "lst"
   ]
  },
  {
   "cell_type": "code",
   "execution_count": 15,
   "id": "f030a27e",
   "metadata": {},
   "outputs": [
    {
     "name": "stdout",
     "output_type": "stream",
     "text": [
      "31\n",
      "44\n",
      "54\n"
     ]
    },
    {
     "data": {
      "text/plain": [
       "[]"
      ]
     },
     "execution_count": 15,
     "metadata": {},
     "output_type": "execute_result"
    }
   ],
   "source": [
    "while lst.size > 0:\n",
    "    print(lst.remove_last())\n",
    "\n",
    "lst"
   ]
  },
  {
   "cell_type": "markdown",
   "id": "8883c564",
   "metadata": {},
   "source": [
    "## Dequeue\n",
    "\n",
    "TODO\n",
    "\n",
    "## Arrays\n",
    "\n",
    "TODO\n",
    "\n",
    "## Hashmaps\n",
    "\n",
    "TODO\n",
    "\n",
    "## Bäume\n",
    "\n",
    "TODO"
   ]
  }
 ],
 "metadata": {
  "jupytext": {
   "formats": "md:myst",
   "text_representation": {
    "extension": ".md",
    "format_name": "myst"
   }
  },
  "kernelspec": {
   "display_name": "Python 3",
   "language": "python",
   "name": "python3"
  },
  "language_info": {
   "codemirror_mode": {
    "name": "ipython",
    "version": 3
   },
   "file_extension": ".py",
   "mimetype": "text/x-python",
   "name": "python",
   "nbconvert_exporter": "python",
   "pygments_lexer": "ipython3",
   "version": "3.9.7"
  },
  "source_map": [
   11,
   150,
   158,
   210,
   253,
   265,
   270,
   276,
   296,
   332,
   371,
   375,
   382,
   386,
   389,
   398,
   427,
   453,
   573,
   583,
   587,
   591,
   600,
   605
  ]
 },
 "nbformat": 4,
 "nbformat_minor": 5
}