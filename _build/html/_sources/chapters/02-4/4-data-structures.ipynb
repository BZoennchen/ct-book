{
 "cells": [
  {
   "cell_type": "markdown",
   "id": "casual-generation",
   "metadata": {},
   "source": [
    "(sec-data-structures)=\n",
    "# Datenstrukturen\n",
    "\n",
    "Programmiersprachen bieten viele vordefinierte Datentypen und Datenstrukturen.\n",
    "In diesem Abschnitt wollen wir über die fundamentalsten Datenstrukturen sprechen ohne dabei auf deren konkrete Realisierung einzugehen.\n",
    "Für eine weiterführende und zugleich angewandte Diskussion verweisen wir auf im **PYTHON** Teil auf das Kapitel [Datentypen (Grundlagen)](sec-python-data-types) und [Datentypen (Fortsetzung)](sec-data-types-advanced).\n",
    "\n",
    "## Variablen und Konstanten\n",
    "\n",
    "TODO\n",
    "\n",
    "## Werte und Adressen\n",
    "\n",
    "TODO\n",
    "\n",
    "## Stack\n",
    "\n",
    "TODO\n",
    "\n",
    "## Queue\n",
    "\n",
    "TODO\n",
    "\n",
    "## Dequeue\n",
    "\n",
    "TODO\n",
    "\n",
    "## Arrays\n",
    "\n",
    "TODO\n",
    "\n",
    "## Hashmaps\n",
    "\n",
    "TODO\n",
    "\n",
    "## Bäume\n",
    "\n",
    "TODO"
   ]
  }
 ],
 "metadata": {
  "jupytext": {
   "formats": "md:myst",
   "text_representation": {
    "extension": ".md",
    "format_name": "myst"
   }
  },
  "kernelspec": {
   "display_name": "Python 3",
   "language": "python",
   "name": "python3"
  },
  "language_info": {
   "codemirror_mode": {
    "name": "ipython",
    "version": 3
   },
   "file_extension": ".py",
   "mimetype": "text/x-python",
   "name": "python",
   "nbconvert_exporter": "python",
   "pygments_lexer": "ipython3",
   "version": "3.9.8"
  },
  "source_map": [
   11
  ]
 },
 "nbformat": 4,
 "nbformat_minor": 5
}