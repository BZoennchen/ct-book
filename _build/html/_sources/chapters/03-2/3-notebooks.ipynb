{
 "cells": [
  {
   "cell_type": "markdown",
   "id": "7eee0658",
   "metadata": {},
   "source": [
    "(sec-jupyter-notebooks)=\n",
    "# Jupyter Notebooks\n",
    "\n",
    "Wie Sie mittlerweile bemerkt haben, verwenden wir für unseren Kurs ``Python`` in Kombination mit den sogenannten *Jupyter Notebooks*.\n",
    "Weshalb eignet sich diese Kombination für den Einstieg in das [Computational Thinking](sec-what-is-ct)?\n",
    "Über [Python](sec-python) haben wir bereits gesprochen, was also sind Jupyter-Notebooks und wozu eignen sie sich?\n",
    "\n",
    "## Motivation\n",
    "\n",
    "Die folgende [Referenz](https://jupyter-notebook-beginner-guide.readthedocs.io/en/latest/what_is_jupyter.html) liefert eine ausführliche Erläuterung darüber was Jupyter Notebooks sind, welche wir hier in unseren Worten zusammenfassen.\n",
    "\n",
    "Ein Jupyter Notebook war zu Anfang in erster Linie dazu gedacht wissenschaftlichen Code effektiv innerhalb der Wissenschaftsgemeinschaft auszutauschen.\n",
    "In fast allen Naturwissenschaften kommt das wissenschaftliche Rechnen zum Tragen.\n",
    "Forscher entwickeln Computermodelle, simulieren mit Hilfe dieser die Realität und versuchen ausgehend von ihren Ergebnissen Rückschlüsse zu ziehen.\n",
    "Dabei ergibt sich ein großes Problem: Die Reproduzierbarkeit!\n",
    "Wird der Computercode nicht offengelegt, so ist es bei ansteigender Komplexität nahezu unmöglich die Forschungsergebnisse nachzuvollziehen.\n",
    "Nicht nur das, es wird ebenso enorm schwierig auf bestehenden Code aufzubauen.\n",
    "\n",
    "Aufgrund dieses frustrierenden Zustands machte sich [Fernando Pérez](https://en.wikipedia.org/wiki/Fernando_P%C3%A9rez_(software_developer)) an die Entwicklung des ersten Prototyps der Jupyter Notebooks.\n",
    "Die Technologie entstand demnach aus der Not heraus.\n",
    "Sie war dazu gedacht den wissenschaftlichen Austausch und die Zusammenarbeit, kurzum den Wissenstransfer zu verbessern.\n",
    "Das erdachte und verwirklichte Konzept war recht einfach: Code (Computermodell) und Theorie (die Modellbeschreibung) sollten sich vereint in einem **lesbaren** und **ausführbaren** Dokument befinden.\n",
    "Der Code sollte die Modellbeschreibung und die Modellbeschreibung den Code erklären.\n",
    "\n",
    "Wir glauben, dass sich Notebooks für den Einstieg eignen, da durch die zellenweise Auswertung (dazu kommen wir gleich) und die Zellenausgabe ein ständiges Feedback während des Lernen des Programmierens gewährleistet werden kann.\n",
    "Anfänger\\*innen können kleinteilig unterschiedliche Befehle ausprobieren und erhalten für jede Zelle eine Ausgabe/Feedback.\n",
    "Man könnte auch sagen, dass sich Notebooks einfach debuggen lassen.\n",
    "Notebooks bieten eine hohe Interaktion zwischen Programmierer/*in und Code bzw. der Maschine.\n",
    "Das verringert die Hürde um einfach mal loszulegen und kann zudem motivieren, Sie möglicherweise zum sog. *Live Programming* zu führen.\n",
    "(Beim Live Programming schreiben Sie Code in Echtzeit und führen diesen auch gleich aus, während Ihre Kolleg\\*innen zusehen.)\n",
    "\n",
    "## Starten\n",
    "\n",
    "Zunächst muss das ``jupyterlab`` Paket auf Ihrem System (oder ihrer aktuell aktiven virtuellen Umgebung) installiert und auffindbar sein.\n",
    "Ist dem so, können Sie mit\n",
    "\n",
    "```sh\n",
    "jupyter lab [path/to/notebook/file]\n",
    "```\n",
    "\n",
    "ein bestimmtes die Jupyter-Note starten und mit \n",
    "\n",
    "```sh\n",
    "jupyter lab\n",
    "```\n",
    "\n",
    "```{figure} ../../figs/python-tutorial/environment/jupyter-lab-start.png\n",
    "---\n",
    "width: 800px\n",
    "name: fig-jupyter-lab-start-2\n",
    "---\n",
    "Die Jupyter-Lab-Umgebung: Auf der linken Seite sehen Sie ihr aktuelles Verzeichnis und rechts können Sie unterschiedliche Anwendungen, z.B., ein Notebook starten.\n",
    "```\n",
    "\n",
    "die Jupyter-Lab-Umgebung im aktuellen Verzeichnis öffnen.\n",
    "Anschließend können Sie in Ihrem Browser zu Ihrem Notebook in einem Unterverzeichnis navigieren oder ein neues Notebook erstellen.\n",
    "\n",
    "Starten Sie ein ``Python``-Notebook, müssen Sie möglicherweise einen sog. *Kernel* auswählen.\n",
    "Jede mögliche Auswahl bezieht sich auf eine ``Python``-Umgebung, welche sich im Wesentlichen durch eine ``Python``-Version und bestimmten, von Ihnen installierten Paketen, auszeichnet.\n",
    "Wählen Sie die Umgebung, welche Sie verwenden wollen.\n",
    "\n",
    "```{figure} ../../figs/python-tutorial/environment/jupyter-lab-select-kernel.png\n",
    "---\n",
    "width: 200px\n",
    "name: fig-jupyter-lab-select-kernel\n",
    "---\n",
    "Auswahl eines Kernels: Uns stehen vier Kernels zur Verfügung.\n",
    "Der oberste in der Liste bezieht sich auf unsere globale ``Python 3.x`` Umgebung.\n",
    "Die anderen beziehen sich auf von uns angelegte virtuelle ``Python``-Umgebungen.\n",
    "```\n",
    "\n",
    "## Zellen\n",
    "\n",
    "Ein ausführbares Dokument?\n",
    "Was soll das sein?\n",
    "Ohne vorerst genaue ins Detail zu gehen bedeutet dies, dass das Dokument ``Python``-Code enthält der tatsächlich ausgeführt werden kann.\n",
    "Im Hintergrund rechnet der Computer, liefert das Ergebnis zurück und das Notebook zeigt es in einer gewissen Weise an.\n",
    "Führen wir zum Beispiel folgende Codezeile aus,"
   ]
  },
  {
   "cell_type": "code",
   "execution_count": 1,
   "id": "d6e5e6cb",
   "metadata": {},
   "outputs": [
    {
     "data": {
      "text/plain": [
       "16"
      ]
     },
     "execution_count": 1,
     "metadata": {},
     "output_type": "execute_result"
    }
   ],
   "source": [
    "2**4"
   ]
  },
  {
   "cell_type": "markdown",
   "id": "ef904e31",
   "metadata": {},
   "source": [
    "berechnet der Computer $2^4 = 16$, lieft das Ergebnis ans Notebook zurück, welches daraufhin das Ergebnis in gewisser Weise ausgibt.\n",
    "Die Kommunikation zwischen dem ``Python``-Interpreter und Ihrem Browser übernimmt der ausgewählte *Kernel*.\n",
    "\n",
    "Prinzipiell bestehen Jupyter Notebooks aus einer geordneten Liste von *Zellen*.\n",
    "Innerhalb einer Zelle befindet sich eine Art von Inhalt, d.h., entweder Code oder eine Beschreibung (Text, Bilder, Formeln).\n",
    "Befindet sich der Cursor innerhalb einer Zelle und wir drücken ``Strg``+``Enter`` (Mac ``CMD``+``Enter``), so wird diese Zelle ausgewertet (evaluiert).\n",
    "Handelt es sich um eine *Code-Zelle* wird der Code von oben nach unten ausgeführt.\n",
    "Handelt es sich stattdessen um eine *Beschreibungs-Zelle* wird aus dieser ``HTML``-Text erzeugt, welcher durch ihren Browser angezeigt wird.\n",
    "\n",
    "Um eine Zelle unterhalb einer anderen Zelle einzufügen drücken Sie mit der Maus links neben die Zelle und drücken ``b`` (below).\n",
    "Um eine Zelle oberhalb einzufügen drücken Sie ``a`` (above).\n",
    "Um die ausgewählte Zelle zu löschen drücken Sie zweimal schnell hintereinander ``d`` (delete).\n",
    "\n",
    "Ok, so ganz stimmt das nicht.\n",
    "Führen wir eine *Code-Zelle* aus, so wird, nachdem deren Code ausgewertet wurde oder die Auswertung aufgrund eines Fehlers abbricht, das Ergebnis oder die Fehlermeldung auch in ``HTML``-Text umgewandelt.\n",
    "\n",
    "Außerdem wird auch der unausgewertete Code oder die Beschreibung in ``HTML``-Text übersetzt.\n",
    "Ihr Browser ist im Stande ``HTML`` anzuzeigen, ganz so wie es Microsoft Word möglich ist, Word-Dokumente anzuzeigen.\n",
    "Alles in allem bietet Ihnen diese Technologie die Möglichkeit Code und dessen Beschreibung direkt in Ihren Browser \"hineinzutippen\", anzuzeigen, auszuwerten und diese Auswertung ebenfalls anzuzeigen.\n",
    "Es ist als würde Sie eine Schulaufgabe entwerfen, mit dem Computer lösen und das Ergebnis an der richtigen Stelle einfügen und das alles über ein einziges Dokument.\n",
    "\n",
    "Jupyter Notebooks bieten die Möglichkeit der Dokumentation durch ``Markdown`` und (Latex), sodass Text, mathematische Formeln, wie auch Bilder oder Plots in das Notebook eingefügt werden können.\n",
    "Dabei kann sowohl die Dokumentation wie auch der Code über das Dokument hinweg verteilt werden.\n",
    "Zwischen Code können Texte, Bilder und Formeln eingefügt werden.\n",
    "\n",
    "### Markdown\n",
    "\n",
    "Um eine Zelle in eine ``Markdown``-Zelle umzuwandeln, müssen Sie gleich links neben den Zelleninhalt klicken und dann ``m`` drücken.\n",
    "\n",
    "``Markdown`` ist eine äußerst einfache Beschreibungssprache.\n",
    "Auf der [offiziellen Webseite](https://www.markdownguide.org/) finden Sie, falls es Sie interessiert, einen guten Einstieg.\n",
    "Das [cheat-sheet](https://www.markdownguide.org/cheat-sheet/) ist immer wieder hilfreich, falls Sie vorhaben ihr Notebook mit einer Beschreibung zu füllen.\n",
    "Auch ``HTML`` ist eine solche Sprache, doch sehr viel komplizierter, jedoch wird ``Markdown``-Code in ``HTML``-Code übersetzt.\n",
    "Das braucht Sie jedoch nicht zu kümmern aber könnte Sie vielleicht zum staunen bringen, dass dieses Dokument mit Ausnahme des Codes, was sie gerade lesen in ``Markdown`` (mit ein paar Erweiterungen) geschrieben wurde.\n",
    "\n",
    "Eine Testprobe?\n",
    "Der Abschnitt sieht in ``Markdown`` wie folgt aus:\n",
    "\n",
    "```markdown\n",
    "### Markdown\n",
    "\n",
    "Um eine Zelle in eine ``Markdown``-Zelle umzuwandeln, müssen Sie gleich links neben den Zelleninhalt klicken und dann ``m`` drücken.\n",
    "\n",
    "``Markdown`` ist eine äußerst einfache Beschreibungssprache.\n",
    "Auf der [offiziellen Webseite](https://www.markdownguide.org/) finden Sie, falls es Sie interessiert, einen guten Einstieg.\n",
    "Das [cheat-sheet](https://www.markdownguide.org/cheat-sheet/) ist immer wieder hilfreich, falls Sie vorhaben ihr Notebook mit einer Beschreibung zu füllen.\n",
    "Auch ``HTML`` ist eine solche Sprache, doch sehr viel komplizierter, jedoch wird ``Markdown``-Code in ``HTML``-Code übersetzt.\n",
    "Das braucht Sie jedoch nicht zu kümmern aber könnte Sie vielleicht zum staunen bringen, dass dieses Dokument mit Ausnahme des Codes, was sie gerade lesen in ``Markdown`` (mit ein paar Erweiterungen) geschrieben wurde.```\n",
    "```\n",
    "\n",
    "### Code\n",
    "\n",
    "Der zweite und viel wichtigere Typ von Zellen sind die bereits angesprochenen *Code-Zellen*.\n",
    "Um aus einer Zelle eine *Code-Zelle* zu machen, müssen Sie gleich links neben den Zelleninhalt klicken und dann ``y`` drücken.\n",
    "Wenn Sie versehentlich aus einer Code-Zelle eine Markdown-Zelle gemacht haben, wird der Code einfach als Text interpretiert.\n",
    "Anstatt"
   ]
  },
  {
   "cell_type": "code",
   "execution_count": 2,
   "id": "e2110652",
   "metadata": {},
   "outputs": [],
   "source": [
    "x = 5 * 2 + 6"
   ]
  },
  {
   "cell_type": "markdown",
   "id": "e59b5eb8",
   "metadata": {},
   "source": [
    "sehen Sie\n",
    "\n",
    "```markdown\n",
    "x = 5 * 2 + 6\n",
    "```\n",
    "\n",
    "Es fehlt die farbliche Hervorhebung, welche Ihnen das Lesen des Codes vereinfacht und Sie können diese Zelle nicht ausführen, sondern nur auswerten.\n",
    "\n",
    "## Codeevaluierung\n",
    "\n",
    "Ohne zuvor mit dem Notebook und der Ausführung von ``Python``-Code experimentiert zu haben, wird Ihnen dieser kurze Abschnitt mysteriös vorkommen.\n",
    "Vielleicht lesen Sie sich diesen Teil bei Zeiten erneut durch.\n",
    "\n",
    "Wichtig ist festzuhalten: Ein Notebook besteht aus *Code-* und *Beschreibungszellen*.\n",
    "Für die Auswertung des Codes können wir alle *Beschreibungszellen* ignorieren.\n",
    "Nun lassen Sie uns die Zellen eines konkreten Notebooks von oben nach unten durchnummerieren.\n",
    "\n",
    "### Reihenfolge\n",
    "\n",
    "Da wir Menschen Dokumente von oben nach unten lesen, macht es Sinn die einzelnen Codezellen nacheinander von oben nach unten auszuführen.\n",
    "Hierfür bietet die Jupyter-Umgebung auch einen Knopf: ``Run -> Run All Cells`` wertet alle Zellen von oben nach unten aus.\n",
    "Dabei wird die i-te Zelle erst ausgewertet, wenn die i-1-te Zelle erfolgreich ausgewertet werden konnte.\n",
    "In anderen Worten, der Code wird so ausgewertet als hätten Sie alles in eine einzige Zelle in der gleichen Reihenfolge hineingeschrieben!\n",
    "\n",
    "```{figure} ../../figs/python-tutorial/environment/jn-all-cell-evaluation-lab.png\n",
    "---\n",
    "height: 300px\n",
    "name: fig-jn-all-cell-evaluation-lab\n",
    "---\n",
    "Alle Zellen ausführen: ``Run -> Run All Cells`` evaluiert alle Zellen von oben nach unten.\n",
    "```\n",
    "\n",
    "Diese Ausführungsreihenfolge ist jedoch nicht verpflichtend.\n",
    "Sie können manuell einzelne Zellen auswerten.\n",
    "Nehmen wir einmal folgende *Code-Zellen* (1,2,3,4):\n",
    "\n",
    "```python\n",
    "y = -3      # Zelle 1\n",
    "```\n",
    "\n",
    "```python\n",
    "x = z + y   # Zelle 2\n",
    "```\n",
    "\n",
    "```python\n",
    "z = 5       # Zelle 3\n",
    "```\n",
    "\n",
    "```python\n",
    "y = 20      # Zelle 4\n",
    "```\n",
    "\n",
    "Nehmen wir nun an, wir werten Zelle 1 dann 4 dann 3 und dann 2 aus.\n",
    "Was glauben Sie welchen Wert die Variable ``x`` enthält?\n",
    "Nun der effektiv können wir das gleiche Ergebnis erzeugen wenn wir den Inhalt entsprechend der Ausführungsreihenfolge in eine Zelle packen:"
   ]
  },
  {
   "cell_type": "code",
   "execution_count": 3,
   "id": "6967b545",
   "metadata": {},
   "outputs": [
    {
     "data": {
      "text/plain": [
       "25"
      ]
     },
     "execution_count": 3,
     "metadata": {},
     "output_type": "execute_result"
    }
   ],
   "source": [
    "y = -3      # Zelle 1\n",
    "y = 20      # Zelle 4\n",
    "z = 5       # Zelle 3\n",
    "x = z + y   # Zelle 2\n",
    "x"
   ]
  },
  {
   "cell_type": "markdown",
   "id": "67620c7f",
   "metadata": {},
   "source": [
    "Demnach ist ``x = 5 + 20`` und ``y = 20``.\n",
    "Führen wir daraufhin Zelle 1 dananch 2 aus, erhalten wir für ``x``: ``x = 5 + (-3) = 2``"
   ]
  },
  {
   "cell_type": "code",
   "execution_count": 4,
   "id": "7673311b",
   "metadata": {},
   "outputs": [
    {
     "data": {
      "text/plain": [
       "2"
      ]
     },
     "execution_count": 4,
     "metadata": {},
     "output_type": "execute_result"
    }
   ],
   "source": [
    "y = -3      # Zelle 1\n",
    "y = 20      # Zelle 4\n",
    "z = 5       # Zelle 3\n",
    "x = z + y   # Zelle 2\n",
    "y = -3      # Zelle 1\n",
    "x = z + y   # Zelle 2\n",
    "x"
   ]
  },
  {
   "cell_type": "markdown",
   "id": "6df4e628",
   "metadata": {},
   "source": [
    "```{admonition} Auswertungsreihenfolge (Notebooks)\n",
    ":name: remark-evaluation-ordering\n",
    ":class: remark\n",
    "Sie sollten darauf achten, dass ihr Code das gewünschte Resultat erzeugt indem alle Zellen, nach einem Neustart des Kernels, von oben nach unten ausgeführt werden.\n",
    "```\n",
    "\n",
    "### Wenn es kracht\n",
    "\n",
    "Was passiert wenn Ihr Code einen [syntaktischen](def-syntax) Fehler enthält oder [semantisch](def-semantik) keinen Sinn ergibt?\n",
    "Sobald Ihr Code während der Ausführung zu einem solchen Fehler führt, wird die Auswertung der Zelle und alle darauffolgenden Zellen abgebrochen.\n",
    "Zudem wird eine mehr oder weniger hilfreiche Fehlermeldung ausgegeben.\n",
    "\n",
    "Lassen wir es doch mal krachen."
   ]
  },
  {
   "cell_type": "code",
   "execution_count": 5,
   "id": "ba7f3f73",
   "metadata": {
    "tags": [
     "raises-exception"
    ]
   },
   "outputs": [
    {
     "ename": "NameError",
     "evalue": "name 'number' is not defined",
     "output_type": "error",
     "traceback": [
      "\u001b[0;31m---------------------------------------------------------------------------\u001b[0m",
      "\u001b[0;31mNameError\u001b[0m                                 Traceback (most recent call last)",
      "Cell \u001b[0;32mIn[5], line 2\u001b[0m\n\u001b[1;32m      1\u001b[0m \u001b[38;5;66;03m# mit Variablen rechnen, die noch nicht definiert ist\u001b[39;00m\n\u001b[0;32m----> 2\u001b[0m x \u001b[38;5;241m=\u001b[39m \u001b[43mnumber\u001b[49m \u001b[38;5;241m+\u001b[39m \u001b[38;5;241m4\u001b[39m\n",
      "\u001b[0;31mNameError\u001b[0m: name 'number' is not defined"
     ]
    }
   ],
   "source": [
    "# mit Variablen rechnen, die noch nicht definiert ist\n",
    "x = number + 4"
   ]
  },
  {
   "cell_type": "markdown",
   "id": "37a3f96d",
   "metadata": {},
   "source": [
    "Wir erhalten eine Fehlermeldung, welche darauf hindeutet, dass ``number`` noch nicht definiert ist.\n",
    "Haben Sie keine Angst vor solchen Fehlern.\n",
    "Im Gegenteil, provozieren Sie diese um zu sehen was passiert.\n",
    "\n",
    "Fehlermeldungen schützen Sie jedoch nur vor offensichtlichen Fehlern.\n",
    "Hin und wieder läuft unser Code, produziert jedoch nicht das richtige Ergebnis, da wir etwas falsch programmiert haben oder unsere Überlegungen - unser [Computational Thinking](sec-what-is-ct) -- fehlerhaft ist.\n",
    "\n",
    "Das kann dazu führen, dass unser Code gar nicht terminiert.\n",
    "In einem solchen Fall kommt die Auswertung der Zelle nie zum erliegen.\n",
    "Folgender Code beinhaltet eine sogenannten Endlosschleife.\n",
    "Wenn Sie ihn ausführen endet diese Auswertung niemals.\n",
    "\n",
    "```python\n",
    "x = 1\n",
    "while True:\n",
    "    x = x + 1\n",
    "```\n",
    "\n",
    "Sie sehen an dem kleinen Sternchen ``*``, dass die Zelle ausgewertet wird.\n",
    "Erst wenn dieses verschwindet ist die Auswertung abgeschlossen.\n",
    "\n",
    "```{figure} ../../figs/python-tutorial/environment/endless-loop-kernel-lab.png\n",
    "---\n",
    "width: 200px\n",
    "name: fig-endless-loop-kernel-lab\n",
    "---\n",
    "Während der Ausführung sehen wir den Stern ``*``.\n",
    "```\n",
    "\n",
    "Um die Auswertung abzubrechen (engl. interrupt) müssen wir den sog. *Kernel* unterbrechen ``Kernel -> Interrupt``.\n",
    "Stellen Sie sich den *Kernel* vorerst als einen Vermittler zwischen Notebook (bzw. Ihrem Browser) und ``Python`` vor.\n",
    "Beachten Sie, dass eine Unterbrechung des Kernels nicht bedeutet, dass alles so ist wie als hätten wir die Zelle gar nicht ausgeführt.\n",
    "Die Zelle wurde solange ausgeführt, bis wir den Vorgang unterbrochen haben.\n",
    "\n",
    "```{figure} ../../figs/python-tutorial/environment/interrupt-kernel-lab.png\n",
    "---\n",
    "height: 300px\n",
    "name: fig-interrupt-kernel-lab\n",
    "---\n",
    "Unterbrechung der Ausführung durch ``Kernel``->``Interrupt``.\n",
    "```\n",
    "\n",
    "Führen Sie folgende Zellen nacheinander aus.\n",
    "Unterbrechen Sie dabei nach der Ausführung der zweiten Zelle diese und führen Sie dann die letzte Zelle aus.\n",
    "Wenn die zweite und dritte Zelle mehrmals ausführen so erhöht sich ``k`` immer weiter.\n",
    "\n",
    "```python\n",
    "k = 1\n",
    "```\n",
    "\n",
    "```python\n",
    "k = k + 1\n",
    "x = 1\n",
    "while True:\n",
    "    x = x + 1\n",
    "```\n",
    "\n",
    "```python\n",
    "print(k)\n",
    "```"
   ]
  }
 ],
 "metadata": {
  "jupytext": {
   "formats": "md:myst",
   "text_representation": {
    "extension": ".md",
    "format_name": "myst"
   }
  },
  "kernelspec": {
   "display_name": "Python 3",
   "language": "python",
   "name": "python3"
  },
  "language_info": {
   "codemirror_mode": {
    "name": "ipython",
    "version": 3
   },
   "file_extension": ".py",
   "mimetype": "text/x-python",
   "name": "python",
   "nbconvert_exporter": "python",
   "pygments_lexer": "ipython3",
   "version": "3.11.4"
  },
  "source_map": [
   11,
   92,
   94,
   153,
   155,
   213,
   219,
   224,
   232,
   248,
   254
  ]
 },
 "nbformat": 4,
 "nbformat_minor": 5
}