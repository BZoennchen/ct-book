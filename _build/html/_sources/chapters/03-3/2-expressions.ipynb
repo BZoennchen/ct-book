{
 "cells": [
  {
   "cell_type": "markdown",
   "id": "e0c6890e",
   "metadata": {},
   "source": [
    "(sec-expressions)=\n",
    "# Ausdrücke\n",
    "\n",
    "Programmiersprachen sind viel einfacher aufgebaut als die menschliche Sprache.\n",
    "Entwickler\\*innen der Sprachen versuchen ihre [Syntax](def-syntax) so unmissverständlich, elegant, kurz und ausdrucksstark wie möglich zu gestalten.\n",
    "In der Vergangenheit gelang das nicht immer und über die Jahre haben wir viel dazu gelernt.\n",
    "In diesem Kurs verwenden wir ``Python`` insbesondere deshalb weil es eine der leserlichsten und zugleich mächtigsten Sprachen unserer Zeit ist.\n",
    "\n",
    "Jedes Programm, bzw. jeder Algorithmus besteht aus vielen *Ausdrücken*.\n",
    "Ein *Ausdruck* beschreibt wie Daten (die Eingabe) verarbeitet werden sollen.\n",
    "\n",
    "Die Multiplikation ``3 * 5`` ist beispielsweise ein Ausdruck der zwei Dezimalzahlen multipliziert.\n",
    "Der *Ausdruck* besteht aus dem Symbol ``*`` und zwei nummerischen *Ausdrücken*.\n",
    "Die Multiplikation wird durch den Computer, genauer die [CPU](def-cpu) berechnet.\n",
    "``3 * 5`` ergibt ``15``."
   ]
  },
  {
   "cell_type": "code",
   "execution_count": 1,
   "id": "debebe97",
   "metadata": {},
   "outputs": [
    {
     "data": {
      "text/plain": [
       "15"
      ]
     },
     "execution_count": 1,
     "metadata": {},
     "output_type": "execute_result"
    }
   ],
   "source": [
    "3 * 5"
   ]
  },
  {
   "cell_type": "markdown",
   "id": "671af36d",
   "metadata": {},
   "source": [
    "Die [Syntax](def-syntax) einer Programmiersprache ist strikt.\n",
    "Sie wird durch eine sog. *Grammatik* definiert.\n",
    "Zum Beispiel ist folgender *Ausdruck* fehlerhaft, da er nicht durch die *Grammatik* von ``Python`` definiert ist.\n",
    "Man sagt auch, dass die Sprache welche durch die Grammatik definiert ist, den folgenden Ausdruck nicht enthält."
   ]
  },
  {
   "cell_type": "code",
   "execution_count": 2,
   "id": "9f337354",
   "metadata": {
    "tags": [
     "raises-exception"
    ]
   },
   "outputs": [
    {
     "ename": "SyntaxError",
     "evalue": "invalid syntax (2378661981.py, line 1)",
     "output_type": "error",
     "traceback": [
      "\u001b[0;36m  File \u001b[0;32m\"/var/folders/j4/6x0yfkp53d99gq8g0hxfl_tw0000gn/T/ipykernel_46754/2378661981.py\"\u001b[0;36m, line \u001b[0;32m1\u001b[0m\n\u001b[0;31m    3 * * 5\u001b[0m\n\u001b[0m        ^\u001b[0m\n\u001b[0;31mSyntaxError\u001b[0m\u001b[0;31m:\u001b[0m invalid syntax\n"
     ]
    }
   ],
   "source": [
    "3 * * 5"
   ]
  },
  {
   "cell_type": "markdown",
   "id": "7344d5ef",
   "metadata": {},
   "source": [
    "Der Computer bzw. ``Python``-[Interpreter](def-interpreter) weiß mit dieser Folge an Symbolen nichts anzufangen.\n",
    "Wir werden vom Interpreter sachlich auf die mögliche Fehlerursache hingewiesen.\n",
    "Bereits kleiner Änderungen an der [Syntax](def-syntax) können zu einer neuen Bedeutung ([Semantik](def-semantik)) führen.\n",
    "In ``Python`` ist der *Ausdruck*"
   ]
  },
  {
   "cell_type": "code",
   "execution_count": 3,
   "id": "ccbfe985",
   "metadata": {},
   "outputs": [
    {
     "data": {
      "text/plain": [
       "243"
      ]
     },
     "execution_count": 3,
     "metadata": {},
     "output_type": "execute_result"
    }
   ],
   "source": [
    "3 ** 5"
   ]
  },
  {
   "cell_type": "markdown",
   "id": "3aa266cc",
   "metadata": {},
   "source": [
    "syntaktisch korrekt.\n",
    "Seine [Semantik](def-semantik) ist die Berechnung von $3^5$, was $243$ ergibt.\n",
    "In kaum einer anderen Sprache gibt es für die Potenz eine derart kurze Schreibweise.\n",
    "\n",
    "(sec-python-operator-arithmetic)=\n",
    "## Arithmetische Operatoren\n",
    "\n",
    "Die Multiplikation ``*`` wie auch die Potenz ``**`` bezeichnen wir als *arithmetische Operatoren*, da sie numerische Werte (Zahlen) verarbeiten.\n",
    "Es gibt jedoch noch eine ganze Reihe von weiteren *arithmetische Operatoren*:\n",
    "\n",
    "| Operator |     Beschreibung     |  Beispiel  |                     Bedeutung                      |\n",
    "| :------: | :------------------: | :--------: | :------------------------------------------------: |\n",
    "|   `+`    |       Addition       | ``3 + 4``  |                      $3 + 4$                       |\n",
    "|   `-`    |     Subtraktion      | ``3 - 4``  |                      $3 - 4$                       |\n",
    "|   `*`    |    Multiplikation    | ``3 * 4``  |                    $3 \\cdot 4$                     |\n",
    "|   `/`    |       Division       | ``3 / 4``  |                      $3 / 4$                       |\n",
    "|   `**`   |     Potenzierung     |  ``3**4``  |                       $3^4$                        |\n",
    "|   `//`   | ganzzahlige Division | ``3 // 4`` |         $\\left \\lfloor{3/4}\\right \\rfloor$         |\n",
    "|   `%`    |        Modulo        | ``10 % 4`` | $10 - (4 \\cdot \\left \\lfloor{10/4}\\right \\rfloor)$ |\n",
    "\n",
    "Jeder dieser Operatoren ``op`` erwartet zwei Zahlen, eine links und eine rechts von ``op``.\n",
    "\n",
    "Die Bedeutung der Modulo-Operation ``%`` sieht kompliziert aus, doch bedeutet dies schlicht, dass der *Rest* ``10 % 4`` der ganzzahlige Rest der [Restwertdivision](def-euclid-division) ist.\n",
    "\n",
    "Die ganzzahlige Division [rundet](sec-math-rounding) das Ergebnis der Division auf die nächst kleinere ganze Zahl (Integer).\n",
    "Beachten Sie"
   ]
  },
  {
   "cell_type": "code",
   "execution_count": 4,
   "id": "2ffde791",
   "metadata": {},
   "outputs": [
    {
     "data": {
      "text/plain": [
       "-1"
      ]
     },
     "execution_count": 4,
     "metadata": {},
     "output_type": "execute_result"
    }
   ],
   "source": [
    "-2 // 3"
   ]
  },
  {
   "cell_type": "markdown",
   "id": "bd3a3bf1",
   "metadata": {},
   "source": [
    "ergibt ``-1`` und"
   ]
  },
  {
   "cell_type": "code",
   "execution_count": 5,
   "id": "6d5761fd",
   "metadata": {},
   "outputs": [
    {
     "data": {
      "text/plain": [
       "0"
      ]
     },
     "execution_count": 5,
     "metadata": {},
     "output_type": "execute_result"
    }
   ],
   "source": [
    "2 // 3"
   ]
  },
  {
   "cell_type": "markdown",
   "id": "7cb07264",
   "metadata": {},
   "source": [
    "ergibt ``0``.\n",
    "\n",
    "*Arithmetische Operationen* werden von der *arithmetischen Einheit* der [CPU](def-cpu) ausgewertet.\n",
    "Mit ihnen können wir numerische Gleichungen lösen aber auch Indices manipulieren.\n",
    "\n",
    "(sec-python-operator-compare)=\n",
    "## Vergleichsoperatoren\n",
    "\n",
    "Objekte können über Vergleichsoperatoren miteinander verglichen werden. \n",
    "Das Ergebnis ist ein boolscher Wert ``True`` oder ``False``.\n",
    "\n",
    "| Operator  | Beschreibung                      |\n",
    "| :-------: | :-------------------------------- |\n",
    "| `x == y ` | ist `x` gleich `y`?               |\n",
    "| `x != y`  | ist `x` ungleich `y`?             |\n",
    "|  `x > y`  | ist `x` größer als `y`?           |\n",
    "| `x >= y`  | ist `x` größer oder gleich `y`?   |\n",
    "|  `x < y`  | ist `x` kleiner `y`?              |\n",
    "| `x <= y`  | ist `x` kleiner gleich `y`?       |\n",
    "| `x is y`  | ist `x` das selbe Objekt wie `y`? |\n",
    "\n",
    "Erneut ist ``Python`` hier ein wenig speziell, da es die mathematische Schreibweise $0 < x < 5$ zulässt.\n",
    "Dies erhöht die Lesbarkeit, da wir solche Verkettungen von Vergleichsoperatoren gewohnt sind."
   ]
  },
  {
   "cell_type": "code",
   "execution_count": 6,
   "id": "f96dd4c7",
   "metadata": {},
   "outputs": [
    {
     "data": {
      "text/plain": [
       "True"
      ]
     },
     "execution_count": 6,
     "metadata": {},
     "output_type": "execute_result"
    }
   ],
   "source": [
    "5 < 7 < 10 # True"
   ]
  },
  {
   "cell_type": "code",
   "execution_count": 7,
   "id": "6aab1b48",
   "metadata": {},
   "outputs": [
    {
     "data": {
      "text/plain": [
       "True"
      ]
     },
     "execution_count": 7,
     "metadata": {},
     "output_type": "execute_result"
    }
   ],
   "source": [
    "5 < 7 and 7 < 10 # True"
   ]
  },
  {
   "cell_type": "code",
   "execution_count": 8,
   "id": "1001e977",
   "metadata": {},
   "outputs": [
    {
     "data": {
      "text/plain": [
       "False"
      ]
     },
     "execution_count": 8,
     "metadata": {},
     "output_type": "execute_result"
    }
   ],
   "source": [
    "5 < 7 < 5 # False"
   ]
  },
  {
   "cell_type": "markdown",
   "id": "78c31ab2",
   "metadata": {},
   "source": [
    "*Vergleichsoperatoren* können auch auf nicht-numerischen Werten (ganze Zahlen ``int``, Fließkommazahlen ``float``) definiert sein.\n",
    "So können wir in ``Python`` auch Zeichenketten ``str`` mit den Vergleichsoperatoren lexikographisch vergleichen:"
   ]
  },
  {
   "cell_type": "code",
   "execution_count": 9,
   "id": "ef557828",
   "metadata": {},
   "outputs": [
    {
     "data": {
      "text/plain": [
       "True"
      ]
     },
     "execution_count": 9,
     "metadata": {},
     "output_type": "execute_result"
    }
   ],
   "source": [
    "'Anna' < 'Emma' # True"
   ]
  },
  {
   "cell_type": "markdown",
   "id": "c4be9aa8",
   "metadata": {},
   "source": [
    "(sec-logic-expressions)=\n",
    "## Logische Operatoren\n",
    "\n",
    "Der obige *Ausdruck* besteht aus dem *Ausdruck* ``and``, dem logischen UND ($\\land$).\n",
    "Dieser erwartet auf der linken und rechte Seite jeweils einen Wahrheitswert (*boolschen Ausdruck*).\n",
    "Zum Beispiel liefern [Vergleichsoperatoren](sec-python-operator-compare) *boolsche Ausdrücke* zurück."
   ]
  },
  {
   "cell_type": "code",
   "execution_count": 10,
   "id": "bac5c70d",
   "metadata": {},
   "outputs": [
    {
     "data": {
      "text/plain": [
       "False"
      ]
     },
     "execution_count": 10,
     "metadata": {},
     "output_type": "execute_result"
    }
   ],
   "source": [
    "x = True\n",
    "y = False\n",
    "\n",
    "x and y"
   ]
  },
  {
   "cell_type": "markdown",
   "id": "af25e7b3",
   "metadata": {},
   "source": [
    "``x and y`` ergibt genau dann ``True`` wenn die Auswertung von ``x`` und ``y`` jeweils ``True`` ergeben.\n",
    "Wir haben diese Operatoren bereits im Abschnitt [Manipulation](sec-manipulation) besprochen.\n",
    "Sie werden in Computern durch Gatter realisiert.\n",
    "Lassen Sie uns diese nochmals zusammenfassen:\n",
    "\n",
    "| Operator  | Beschreibung                                               |\n",
    "| :-------: | :--------------------------------------------------------- |\n",
    "|  `not x`  | ist `True` genau dann wenn `x == False`.                   |\n",
    "| `x and y` | ist `True` genau dann wenn `x == True` und `y == True`.    |\n",
    "| `x or y`  | ist `True` genau dann wenn ``x == True`` oder `y == True`. |\n",
    "\n",
    "(sec-bit-operations)=\n",
    "## Bitoperatoren\n",
    "\n",
    "Zur Vollständigkeit listen wir auch noch die *Bitoperatoren* auf.\n",
    "Diese manipulieren ganze Zahlen in ihrer [Binärdarstellung](sec-binary-numbers).\n",
    "\n",
    "Erinnern Sie sich an den Abschnitt [Repräsentation](sec-representation)?\n",
    "Dort haben wir beschrieben wie schlussendlich jeder Wert, egal ob Zahl, Zeichen, Bild, Ton als Binärcode im Speicher liegt.\n",
    "*Bitoperatoren* nehmen diesen Binärwert und verarbeiten bzw. kombinieren ihn.\n",
    "Dabei wird jedes [Bit](def-bit) des einen Werts mit dem Bit des anderen Werts kombiniert.\n",
    "\n",
    "Zum Beispiel kombinieren wir mit ``5 & 4`` jedes Bit der Zahl ``5`` mit dem ``and`` der Zahl ``4``.\n",
    "Dies nennen wir das *bitweise* UND."
   ]
  },
  {
   "cell_type": "code",
   "execution_count": 11,
   "id": "dd49a993",
   "metadata": {},
   "outputs": [
    {
     "data": {
      "text/plain": [
       "4"
      ]
     },
     "execution_count": 11,
     "metadata": {},
     "output_type": "execute_result"
    }
   ],
   "source": [
    "5 & 4"
   ]
  },
  {
   "cell_type": "markdown",
   "id": "0a2f08c8",
   "metadata": {},
   "source": [
    "entspricht dem *bitweisen* UND der Binärzahlen $101_2$ und $100_2$.\n",
    "Wir erhalten $100_2$, was wiederum gleich $4_{10}$ ergibt.\n",
    "\n",
    "| Operator | Beschreibung                                       | Beispiel | Ergebnis |\n",
    "| :------: | :------------------------------------------------- | :------- | :------- |\n",
    "| `x & y`  | UND von `x` mit `y`                                | `10 & 3` | `2`      |\n",
    "| `x | y`  | ODER von `x` mit `y`                               | `10 | 3` | `11`     |\n",
    "| `x ^ y`  | exklusives ODER von `x`  mit `y`                   | `10 ^ 3` | `9`      |\n",
    "| `x << y` | Bitverschiebung von `x` um `y` Stellen nach links  | `8 << 3` | `64`     |\n",
    "| `x >> y` | Bitverschiebung von `x` um `y` Stellen nach rechts | `8 >> 2` | `2`      |\n",
    "\n",
    "Weshalb ist ``10 ^ 3`` gleich ``9``?\n",
    "Es gilt $10_{10} = 01010_2$ und $3_{10} = 00011_2$.\n",
    "``^`` steht fpr das *exklusive* ODER gesprochen *entweder oder*, d.h. ein Bit wird zur 1 genau dann wenn das Bit der einen Zahl gleich 1 und das Bit der anderen Zahl gleich 0 ist oder genau anders herum.\n",
    "Dies ergibt demnach $01001_2 = 9_{10}$.\n",
    "\n",
    "Für ganze Zahlen entspricht die Bitverschiebung nach rechts, um ein Bit, der Multiplikation mit 2.\n",
    "Die Verschiebung nach rechts, um ein Bit, hingegen der [ganzzahligen Division](sec-python-operator-arithmetic) mit 2.\n",
    "Deshalb ist `8 << 3` gleich \n",
    "\n",
    "$$8 \\cdot 2 \\cdot 2 \\cdot 2 = 8 \\cdot 2^3 = 64$$\n",
    "\n",
    "und ``8 >> 2`` gleich \n",
    "\n",
    "$$\\left \\lfloor{8 \\cdot 2^{-2}}\\right \\rfloor = 2.$$"
   ]
  }
 ],
 "metadata": {
  "jupytext": {
   "formats": "md:myst",
   "text_representation": {
    "extension": ".md",
    "format_name": "myst"
   }
  },
  "kernelspec": {
   "display_name": "Python 3",
   "language": "python",
   "name": "python3"
  },
  "language_info": {
   "codemirror_mode": {
    "name": "ipython",
    "version": 3
   },
   "file_extension": ".py",
   "mimetype": "text/x-python",
   "name": "python",
   "nbconvert_exporter": "python",
   "pygments_lexer": "ipython3",
   "version": "3.9.7"
  },
  "source_map": [
   11,
   29,
   31,
   38,
   43,
   50,
   52,
   81,
   83,
   87,
   89,
   115,
   119,
   123,
   125,
   130,
   132,
   141,
   146,
   173,
   175
  ]
 },
 "nbformat": 4,
 "nbformat_minor": 5
}