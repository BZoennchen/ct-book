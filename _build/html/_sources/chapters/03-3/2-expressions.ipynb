{
 "cells": [
  {
   "cell_type": "markdown",
   "id": "57ffdd9d",
   "metadata": {},
   "source": [
    "(sec-expressions)=\n",
    "# Ausdrücke\n",
    "\n",
    "Im Vergleich zu natürlichen Sprachen, sind Programmiersprachen sind viel einfacher aufgebaut.\n",
    "Entwickler\\*innen der Sprachen versuchen ihre [Syntax](def-syntax) so unmissverständlich, elegant, kurz und ausdrucksstark wie möglich zu gestalten.\n",
    "In der Vergangenheit gelang das nicht immer und über die Jahre haben wir viel dazu gelernt.\n",
    "In diesem Kurs verwenden wir ``Python`` insbesondere deshalb, weil es eine der leserlichsten und zugleich mächtigsten Sprachen unserer Zeit ist.\n",
    "\n",
    "Jedes Programm, bzw. jeder Algorithmus besteht aus vielen *Ausdrücken*.\n",
    "Ein *Ausdruck* beschreibt wie Daten (die Eingabe) verarbeitet werden sollen.\n",
    "\n",
    "Die Multiplikation ``3 * 5`` ist beispielsweise ein Ausdruck der zwei Dezimalzahlen multipliziert.\n",
    "Der *Ausdruck* besteht aus dem Symbol ``*`` und zwei nummerischen *Ausdrücken*.\n",
    "Die Multiplikation wird durch den Computer, genauer die [CPU](def-cpu) berechnet.\n",
    "``3 * 5`` ergibt ``15``."
   ]
  },
  {
   "cell_type": "code",
   "execution_count": 1,
   "id": "d6d62df1",
   "metadata": {},
   "outputs": [
    {
     "data": {
      "text/plain": [
       "15"
      ]
     },
     "execution_count": 1,
     "metadata": {},
     "output_type": "execute_result"
    }
   ],
   "source": [
    "3 * 5"
   ]
  },
  {
   "cell_type": "markdown",
   "id": "262a02f8",
   "metadata": {},
   "source": [
    "Die [Syntax](def-syntax) einer Programmiersprache ist strikt.\n",
    "Sie wird durch eine sog. *Grammatik* definiert.å\n",
    "Zum Beispiel ist folgender *Ausdruck* fehlerhaft, da er nicht durch die *Grammatik* von ``Python`` definiert ist.\n",
    "Man sagt auch, dass die Sprache, welche durch die Grammatik definiert ist, den folgenden Ausdruck nicht enthält."
   ]
  },
  {
   "cell_type": "code",
   "execution_count": 2,
   "id": "0f26edc6",
   "metadata": {
    "tags": [
     "raises-exception"
    ]
   },
   "outputs": [
    {
     "ename": "SyntaxError",
     "evalue": "invalid syntax (2378661981.py, line 1)",
     "output_type": "error",
     "traceback": [
      "\u001b[0;36m  Cell \u001b[0;32mIn[2], line 1\u001b[0;36m\u001b[0m\n\u001b[0;31m    3 * * 5\u001b[0m\n\u001b[0m        ^\u001b[0m\n\u001b[0;31mSyntaxError\u001b[0m\u001b[0;31m:\u001b[0m invalid syntax\n"
     ]
    }
   ],
   "source": [
    "3 * * 5"
   ]
  },
  {
   "cell_type": "markdown",
   "id": "b0125c0d",
   "metadata": {},
   "source": [
    "Der Computer bzw. ``Python``-[Interpreter](def-interpreter) weiß mit dieser Folge an Symbolen nichts anzufangen.\n",
    "Wir werden vom Interpreter sachlich auf die mögliche Fehlerursache hingewiesen.\n",
    "Bereits kleine Änderungen an der [Syntax](def-syntax) können zu einer neuen Bedeutung ([Semantik](def-semantik)) führen.\n",
    "In ``Python`` ist der *Ausdruck*"
   ]
  },
  {
   "cell_type": "code",
   "execution_count": 3,
   "id": "d7168fda",
   "metadata": {},
   "outputs": [
    {
     "data": {
      "text/plain": [
       "243"
      ]
     },
     "execution_count": 3,
     "metadata": {},
     "output_type": "execute_result"
    }
   ],
   "source": [
    "3 ** 5"
   ]
  },
  {
   "cell_type": "markdown",
   "id": "bcad1012",
   "metadata": {},
   "source": [
    "syntaktisch korrekt.\n",
    "Seine [Semantik](def-semantik) ist die Berechnung von $3^5$, was $243$ ergibt.\n",
    "In kaum einer anderen Sprache gibt es für die Potenz eine derart kurze Schreibweise.\n",
    "\n",
    "(sec-python-operator-arithmetic)=\n",
    "## Arithmetische Operatoren\n",
    "\n",
    "Die Multiplikation ``*`` wie auch die Potenz ``**`` bezeichnen wir als *arithmetische Operatoren*, da sie numerische Werte (Zahlen) verarbeiten.\n",
    "Es gibt jedoch noch eine ganze Reihe von weiteren *arithmetische Operatoren*:\n",
    "\n",
    "| Operator |     Beschreibung     |  Beispiel  |                     Bedeutung                      |\n",
    "| :------: | :------------------: | :--------: | :------------------------------------------------: |\n",
    "|   `+`    |       Addition       | ``3 + 4``  |                      $3 + 4$                       |\n",
    "|   `-`    |     Subtraktion      | ``3 - 4``  |                      $3 - 4$                       |\n",
    "|   `*`    |    Multiplikation    | ``3 * 4``  |                    $3 \\cdot 4$                     |\n",
    "|   `/`    |       Division       | ``3 / 4``  |                      $3 / 4$                       |\n",
    "|   `**`   |     Potenzierung     |  ``3**4``  |                       $3^4$                        |\n",
    "|   `//`   | ganzzahlige Division | ``3 // 4`` |         $\\left \\lfloor{3/4}\\right \\rfloor$         |\n",
    "|   `%`    |        Modulo        | ``10 % 4`` | $10 - (4 \\cdot \\left \\lfloor{10/4}\\right \\rfloor)$ |\n",
    "\n",
    "Jeder dieser Operatoren ``op`` erwartet zwei Zahlen, eine links und eine rechts von ``op``.\n",
    "\n",
    "Die Bedeutung der Modulo-Operation ``%`` sieht kompliziert aus, doch bedeutet dies schlicht, dass ``10 % 4`` der *ganzzahlige Rest* der [Restwertdivision](def-euclid-division) ist.\n",
    "\n",
    "Die ganzzahlige Division [rundet](sec-math-rounding) das Ergebnis der Division auf die nächst kleinere ganze Zahl (Integer).\n",
    "Beachten Sie"
   ]
  },
  {
   "cell_type": "code",
   "execution_count": 4,
   "id": "99f507a7",
   "metadata": {},
   "outputs": [
    {
     "data": {
      "text/plain": [
       "-1"
      ]
     },
     "execution_count": 4,
     "metadata": {},
     "output_type": "execute_result"
    }
   ],
   "source": [
    "-2 // 3"
   ]
  },
  {
   "cell_type": "markdown",
   "id": "06125177",
   "metadata": {},
   "source": [
    "ergibt ``-1`` und"
   ]
  },
  {
   "cell_type": "code",
   "execution_count": 5,
   "id": "2a665ed8",
   "metadata": {},
   "outputs": [
    {
     "data": {
      "text/plain": [
       "0"
      ]
     },
     "execution_count": 5,
     "metadata": {},
     "output_type": "execute_result"
    }
   ],
   "source": [
    "2 // 3"
   ]
  },
  {
   "cell_type": "markdown",
   "id": "62d918e9",
   "metadata": {},
   "source": [
    "ergibt ``0``.\n",
    "\n",
    "*Arithmetische Operationen* werden von der *arithmetischen Einheit* der [CPU](def-cpu) ausgewertet.\n",
    "Mit ihnen können wir numerische Gleichungen lösen aber auch Indices manipulieren.\n",
    "\n",
    "(sec-python-operator-compare)=\n",
    "## Vergleichsoperatoren\n",
    "\n",
    "Objekte können über Vergleichsoperatoren miteinander verglichen werden. \n",
    "Das Ergebnis ist ein boolscher Wert ``True`` oder ``False``.\n",
    "\n",
    "| Operator  | Beschreibung                      |\n",
    "| :-------: | :-------------------------------- |\n",
    "| `x == y ` | ist `x` gleich `y`?               |\n",
    "| `x != y`  | ist `x` ungleich `y`?             |\n",
    "|  `x > y`  | ist `x` größer als `y`?           |\n",
    "| `x >= y`  | ist `x` größer oder gleich `y`?   |\n",
    "|  `x < y`  | ist `x` kleiner `y`?              |\n",
    "| `x <= y`  | ist `x` kleiner gleich `y`?       |\n",
    "| `x is y`  | ist `x` [identisch](def-identity) zu `y`? |\n",
    "\n",
    "Erneut ist ``Python`` hier ein wenig speziell, da es die mathematische Schreibweise $0 < x < 5$ zulässt.\n",
    "Dies erhöht die Lesbarkeit, da wir solche Verkettungen von Vergleichsoperatoren gewohnt sind."
   ]
  },
  {
   "cell_type": "code",
   "execution_count": 6,
   "id": "ac3458b5",
   "metadata": {},
   "outputs": [
    {
     "data": {
      "text/plain": [
       "True"
      ]
     },
     "execution_count": 6,
     "metadata": {},
     "output_type": "execute_result"
    }
   ],
   "source": [
    "5 < 7 < 10 # True"
   ]
  },
  {
   "cell_type": "code",
   "execution_count": 7,
   "id": "aac8002f",
   "metadata": {},
   "outputs": [
    {
     "data": {
      "text/plain": [
       "True"
      ]
     },
     "execution_count": 7,
     "metadata": {},
     "output_type": "execute_result"
    }
   ],
   "source": [
    "5 < 7 and 7 < 10 # True"
   ]
  },
  {
   "cell_type": "code",
   "execution_count": 8,
   "id": "e6d6515f",
   "metadata": {},
   "outputs": [
    {
     "data": {
      "text/plain": [
       "False"
      ]
     },
     "execution_count": 8,
     "metadata": {},
     "output_type": "execute_result"
    }
   ],
   "source": [
    "5 < 7 < 5 # False"
   ]
  },
  {
   "cell_type": "markdown",
   "id": "03f8e620",
   "metadata": {},
   "source": [
    "*Vergleichsoperatoren* können auch auf nicht-numerischen Werten (ganze Zahlen ``int``, Fließkommazahlen ``float``) definiert sein.\n",
    "So können wir in ``Python`` auch Zeichenketten ``str`` mit den Vergleichsoperatoren lexikographisch vergleichen:"
   ]
  },
  {
   "cell_type": "code",
   "execution_count": 9,
   "id": "6910e0ff",
   "metadata": {},
   "outputs": [
    {
     "data": {
      "text/plain": [
       "True"
      ]
     },
     "execution_count": 9,
     "metadata": {},
     "output_type": "execute_result"
    }
   ],
   "source": [
    "'Anna' < 'Emma' # True"
   ]
  },
  {
   "cell_type": "markdown",
   "id": "be740037",
   "metadata": {},
   "source": [
    "Generell vergleichen wir Objekte einer [Menge](sec-math-set) immer bezüglich einer [(totalen) Ordnung](def-math-order).\n",
    "Diese Ordnung muss irgendwo definiert worden sein, ob durch die Standardbibliothek von ``Python``, impliziet, oder durch uns Entwickler\\*innen.\n",
    "\n",
    "(sec-logic-expressions)=\n",
    "## Logische Operatoren\n",
    "\n",
    "Der obige *Ausdruck* ist aus weiteren Ausdrücken zusammengesetzt.\n",
    "Er behinhaltet den *Ausdruck* ``and``, d.h., dem logischen UND ($\\land$).\n",
    "Dieser erwartet auf der linken und rechte Seite jeweils einen Wahrheitswert (*boolschen Ausdruck*).\n",
    "Zum Beispiel, liefern [Vergleichsoperatoren](sec-python-operator-compare) *boolsche Ausdrücke* zurück."
   ]
  },
  {
   "cell_type": "code",
   "execution_count": 10,
   "id": "f717cbed",
   "metadata": {},
   "outputs": [
    {
     "data": {
      "text/plain": [
       "False"
      ]
     },
     "execution_count": 10,
     "metadata": {},
     "output_type": "execute_result"
    }
   ],
   "source": [
    "x = True\n",
    "y = False\n",
    "\n",
    "x and y"
   ]
  },
  {
   "cell_type": "markdown",
   "id": "6b6f1acc",
   "metadata": {},
   "source": [
    "``x and y`` ergibt genau dann ``True`` wenn die Auswertung von ``x`` und ``y`` jeweils ``True`` ergeben.\n",
    "Wir haben diese Operatoren bereits im Abschnitt [Manipulation](sec-manipulation) besprochen.\n",
    "Sie werden in Computern durch Gatter realisiert.\n",
    "Lassen Sie uns diese nochmals zusammenfassen:\n",
    "\n",
    "| Operator  | Beschreibung                                               |\n",
    "| :-------: | :--------------------------------------------------------- |\n",
    "|  `not x`  | ist `True` genau dann wenn `x == False`.                   |\n",
    "| `x and y` | ist `True` genau dann wenn `x == True` und `y == True`.    |\n",
    "| `x or y`  | ist `True` genau dann wenn ``x == True`` oder `y == True`. |\n",
    "\n",
    "(sec-bit-operations)=\n",
    "## Bitoperatoren\n",
    "\n",
    "Zur Vollständigkeit listen wir auch noch die sog. *Bitoperatoren* auf.\n",
    "Diese manipulieren ganze Zahlen in ihrer [Binärdarstellung](sec-binary-numbers).\n",
    "\n",
    "Erinnern Sie sich an den Abschnitt [Repräsentation](sec-representation)?\n",
    "Dort haben wir beschrieben wie schlussendlich jeder Wert, egal ob Zahl, Zeichen, Bild, Ton als Binärcode im Speicher liegt.\n",
    "*Bitoperatoren* nehmen diesen Binärwert und verarbeiten bzw. kombinieren ihn.\n",
    "Dabei wird jedes [Bit](def-bit) des einen Werts mit dem Bit des anderen Werts kombiniert.\n",
    "Unsere Gatter aus dem Abschnitt [Manipulation](sec-manipulation) bilden den Grundstock für eine derartige Verarbeitung.\n",
    "\n",
    "``Python`` bietet uns an diese maschinennahen Operationen auf Zahlen anzuwenden.\n",
    "Zum Beispiel, kombinieren wir mit ``5 & 4`` jedes Bit der Zahl ``5`` mit dem ``and`` der Zahl ``4``.\n",
    "Dies nennen wir das *bitweise* UND."
   ]
  },
  {
   "cell_type": "code",
   "execution_count": 11,
   "id": "37963df8",
   "metadata": {},
   "outputs": [
    {
     "data": {
      "text/plain": [
       "4"
      ]
     },
     "execution_count": 11,
     "metadata": {},
     "output_type": "execute_result"
    }
   ],
   "source": [
    "5 & 4"
   ]
  },
  {
   "cell_type": "markdown",
   "id": "bd19b4d2",
   "metadata": {},
   "source": [
    "Jedes Bit der Zahl $5_{10} = 0101_2$ und $4_{10} = 0100_2$ wird durch eine AND-Gatter gejagt.\n",
    "Dies nennen wir auch *bitweises* UND der Binärzahlen $0101_2$ und $0010_2$:\n",
    "\n",
    "```{math}\n",
    "  \\begin{split}\n",
    "\t  0101_2&\\\\\n",
    "\t  \\land\\ \\ 0010_2&\\\\ \\hline \\hline\n",
    "\t  = 0100_2&=4_{10}\n",
    "\t\\end{split}\n",
    "```\n",
    "\n",
    "Wenn Sie an dieser Stelle Probleme mit Binärzahlen haben, lesen sie Abschnitt [Zahlen im Binärsystem](sec-binary-numbers).\n",
    "Folgende *bitweisen Operationen* stehen Ihnen in zur Verfügung:\n",
    "\n",
    "| Operator | Beschreibung                                       | Beispiel | Ergebnis |\n",
    "| :------: | :------------------------------------------------- | :------- | :------- |\n",
    "| `x & y`  | UND von `x` mit `y`                                | `10 & 3` | `2`      |\n",
    "| `x \\| y`  | ODER von `x` mit `y`                               | `10 \\| 3` | `11`     |\n",
    "| `x ^ y`  | exklusives ODER von `x`  mit `y`                   | `10 ^ 3` | `9`      |\n",
    "| `x << y` | Bitverschiebung von `x` um `y` Stellen nach links  | `8 << 3` | `64`     |\n",
    "| `x >> y` | Bitverschiebung von `x` um `y` Stellen nach rechts | `8 >> 2` | `2`      |\n",
    "\n",
    "Weshalb ist ``10 ^ 3`` gleich ``9``?\n",
    "Die ``^``-Operation steht für das sog. *exklusive ODER* gesprochen *entweder oder*.\n",
    "Das exklusive oder $x \\oplus y$ ergibt 1 genau dann wenn *entweder* $x$ *oder* $y$ (nicht aber beide) gleich 1 sind.\n",
    "Es gilt $10_{10} = 01010_2$ und $3_{10} = 00011_2$.\n",
    "\n",
    "```{math}\n",
    "  \\begin{split}\n",
    "\t  01010_2&\\\\\n",
    "\t  \\oplus\\ \\ 00011_2&\\\\ \\hline \\hline\n",
    "\t  = 01001_2&=9_{10}\n",
    "\t\\end{split}\n",
    "```\n",
    "\n",
    "Für ganze Zahlen entspricht die Bitverschiebung um ein Bit nach links der Multiplikation mit 2.\n",
    "Die Verschiebung um ein Bit nach rechts, hingegen der [ganzzahligen Division](sec-python-operator-arithmetic) mit 2.\n",
    "Deshalb ist `8 << 3` gleich \n",
    "\n",
    "$$8 \\cdot 2 \\cdot 2 \\cdot 2 = 8 \\cdot 2^3 = 64$$\n",
    "\n",
    "und ``8 >> 2`` gleich \n",
    "\n",
    "$$\\left \\lfloor{8 \\cdot 2^{-2}}\\right \\rfloor = 2.$$"
   ]
  }
 ],
 "metadata": {
  "jupytext": {
   "formats": "md:myst",
   "text_representation": {
    "extension": ".md",
    "format_name": "myst"
   }
  },
  "kernelspec": {
   "display_name": "Python 3",
   "language": "python",
   "name": "python3"
  },
  "language_info": {
   "codemirror_mode": {
    "name": "ipython",
    "version": 3
   },
   "file_extension": ".py",
   "mimetype": "text/x-python",
   "name": "python",
   "nbconvert_exporter": "python",
   "pygments_lexer": "ipython3",
   "version": "3.11.4"
  },
  "source_map": [
   11,
   29,
   31,
   38,
   43,
   50,
   52,
   81,
   83,
   87,
   89,
   115,
   119,
   123,
   125,
   130,
   132,
   145,
   150,
   179,
   181
  ]
 },
 "nbformat": 4,
 "nbformat_minor": 5
}