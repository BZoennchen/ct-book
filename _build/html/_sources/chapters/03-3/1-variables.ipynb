{
 "cells": [
  {
   "cell_type": "markdown",
   "id": "c9b2beec",
   "metadata": {},
   "source": [
    "(sec-variables)=\n",
    "# Variablen\n",
    "\n",
    "*Variablen* können wir uns intuitiv zunächst als Namen oder Bezeichnung eines Wertes vorstellen.\n",
    "Mit diesem Namen können wir einen Wert im [Arbeitsspeicherspeicher](def-main-memory) des Computers identifizieren.\n",
    "So können wir uns Zwischenergebnisse merken und damit weiter rechnen.\n",
    "\n",
    "(sec-assignment)=\n",
    "## Initialisierung und Zuweisung\n",
    "\n",
    "Durch das ``=`` Zeichen weisen wir einer *Variablen* (auf der linken Seite) den Wert des *Ausdrucks* (auf der rechten Seite) zu.\n",
    "Zum Beispiel, weist"
   ]
  },
  {
   "cell_type": "code",
   "execution_count": 1,
   "id": "9825ed13",
   "metadata": {},
   "outputs": [],
   "source": [
    "x = 3 + 10"
   ]
  },
  {
   "cell_type": "markdown",
   "id": "384ca3e2",
   "metadata": {},
   "source": [
    "den ausgewerteten Wert ``3 + 10`` also ``13`` der Variablen ``x`` zu.\n",
    "Es ist äußerst wichtig, dass Sie zwischen dem ``=`` und dem mathematischen $=$ unterscheiden.\n",
    "\n",
    "$$x = 13$$\n",
    "\n",
    "bedeutet, dass $x$ gleich $13$ ist, wohingegen"
   ]
  },
  {
   "cell_type": "code",
   "execution_count": 2,
   "id": "1267081b",
   "metadata": {},
   "outputs": [],
   "source": [
    "x = 13"
   ]
  },
  {
   "cell_type": "markdown",
   "id": "d6e6293c",
   "metadata": {},
   "source": [
    "den Wert der Variablen ``x`` auf ``13`` setzt bzw. die Variable auf einen Speicherbereich verweisen lässt, welcher den Wert ``13`` enthält.\n",
    "Um eine *Zuweisung* mathematisch auszurücken, verwendet man oft $\\leftarrow$, also \n",
    "\n",
    "$$x \\leftarrow 13.$$\n",
    "\n",
    "Mit"
   ]
  },
  {
   "cell_type": "code",
   "execution_count": 3,
   "id": "42ece64a",
   "metadata": {},
   "outputs": [],
   "source": [
    "x = None"
   ]
  },
  {
   "cell_type": "markdown",
   "id": "16273e37",
   "metadata": {},
   "source": [
    "weisen wir ``x`` den Wert ``None`` ´, d.h. \"Nichts\" zu. Doch ist dieses \"Nichts\" nicht nichts ;).\n",
    "Es [repräsentiert](sec-representation) lediglich das Nichts.\n",
    "\n",
    "Versuchen wir eine *Variable* zu verarbeiten, die noch nicht initialisiert wurde, so erhalten wir einen Fehler:"
   ]
  },
  {
   "cell_type": "code",
   "execution_count": 4,
   "id": "8e5ced7d",
   "metadata": {
    "tags": [
     "raises-exception"
    ]
   },
   "outputs": [
    {
     "ename": "NameError",
     "evalue": "name 'v' is not defined",
     "output_type": "error",
     "traceback": [
      "\u001b[0;31m---------------------------------------------------------------------------\u001b[0m",
      "\u001b[0;31mNameError\u001b[0m                                 Traceback (most recent call last)",
      "\u001b[0;32m/var/folders/j4/6x0yfkp53d99gq8g0hxfl_tw0000gn/T/ipykernel_60841/1871040481.py\u001b[0m in \u001b[0;36m<module>\u001b[0;34m\u001b[0m\n\u001b[0;32m----> 1\u001b[0;31m \u001b[0mv\u001b[0m \u001b[0;34m+\u001b[0m \u001b[0;36m20\u001b[0m\u001b[0;34m\u001b[0m\u001b[0;34m\u001b[0m\u001b[0m\n\u001b[0m",
      "\u001b[0;31mNameError\u001b[0m: name 'v' is not defined"
     ]
    }
   ],
   "source": [
    "v + 20"
   ]
  },
  {
   "cell_type": "markdown",
   "id": "b162e211",
   "metadata": {},
   "source": [
    "Die Fehlermeldung ``name 'v' is not defined`` weißt uns darauf hin, dass die *Variable* ``v`` noch nicht *initialisiert* wurde.\n",
    "In anderen Worten ``v`` gibt es noch gar nicht und zeigt auch nicht auf eine Stelle im Speicher, hat also keinen Wert.\n",
    "In ``Python`` reicht es wenn Sie der *Variablen* einen Wert zuweisen.\n",
    "Sie wird automatisch erzeugt, d.h., *initialisiert*.\n",
    "Besitzt Sie noch keinen Wert so existiert sie auch nicht bzw. ist noch nicht *initialisiert*.\n",
    "\n",
    "```{admonition} Initialisierung mit Notebooks\n",
    ":name: remark-evaluation-ordering\n",
    ":class: remark\n",
    "Nach Ausführung dieser Codezeilen funktioniert auch der obige Code.\n",
    "Dies hängt mit der Funktionsweise der Notebooks zusammen.\n",
    "Sobald ``z`` *initialisiert* wurde, existiert ``z`` für alle Zellen des Notebooks.\n",
    "```\n",
    "\n",
    "(sec-vars-equality-and-identity)=\n",
    "## Variablen und der Arbeitsspeicher\n",
    "\n",
    "Eine *Variable* können wir als Paar von **Wert** und **Arbeitsspeicheradresse** verstehen.\n",
    "Der Wert der Variablen steht im [Arbeitsspeicher](def-main-memory) an einer bestimmten Arbeitsspeicheradresse.\n",
    "Den Arbeitsspeicher können wir uns als lange Liste von Bits vorstellen:\n",
    "\n",
    "```{figure} ../../figs/python-tutorial/variables/ram.png\n",
    "---\n",
    "width: 400px\n",
    "name: fig-ram\n",
    "---\n",
    "Der Arbeitsspeicher ist eine sehr lange Liste bestehend aus [Bits](def-bit).\n",
    "Die Adresse ist im Wesentlichen die Nummer / der Index eines bestimmten Speicherplatzes.\n",
    "```\n",
    "\n",
    "\n",
    "```{admonition} Pythons Typisierung\n",
    ":name: remark-python-type-mem\n",
    ":class: remark\n",
    "Eine ``Python`` *Variable* verweist durch eine Adresse eigentlich nicht nur auf einen Wert sondern auch auf einen [Datentyp](sec-typing-in-python) und auf den Referenzzähler, welcher angibt wie viele Variablen auf den Wert verweisen.\n",
    "Dies werden wir aber vorerst ignorieren.\n",
    "```\n",
    "\n",
    "Variablen abstrahieren den Zusammenhang zwischen Wert und Adresse, sodass Sie uns die Arbeit mit dem Arbeitsspeicher erleichtern.\n",
    "Wir müssen nicht wissen welche Speicheradressen belegt und welche noch frei sind.\n",
    "In ``Python`` kommen wir mit der eigentlichen Speicheradresse normalerweise gar nicht in Kontakt.\n",
    "\n",
    "Mit"
   ]
  },
  {
   "cell_type": "code",
   "execution_count": 5,
   "id": "583cae9b",
   "metadata": {},
   "outputs": [],
   "source": [
    "x = 25"
   ]
  },
  {
   "cell_type": "markdown",
   "id": "167dba78",
   "metadata": {},
   "source": [
    "Wird der **Wert** ``25`` in den Arbeitsspeicher an eine freie **Speicheradresse** geschrieben.\n",
    "Diese **Adresse** erhält die *Variable* ``x``. ``x`` *zeigt* auf den Speicherbereich in dem der **Wert** ``25`` steht!\n",
    "Folgende Abbildung verdeutlicht die Situation:\n",
    "\n",
    "```{figure} ../../figs/python-tutorial/variables/variable.png\n",
    "---\n",
    "width: 800px\n",
    "name: fig-variable\n",
    "---\n",
    "Initialisierung und Zuweisung einer Variable ``x``  mit dem Wert ``25``. Der Wert steht im Arbeitsspeicher (rechts) an der Speicheradresse 6. Die Variable zeigt auf diese Adresse im Speicher.\n",
    "```\n",
    "\n",
    "Mit der *built-in*-Funktion ``id`` können Sie sich eine Identifikationsnummer einer Variablen ausgeben lassen. Für zwei *Variablen* ist diese genau dann gleich, wenn deren **Arbeitsspeicheradressen** gleich sind."
   ]
  },
  {
   "cell_type": "code",
   "execution_count": 6,
   "id": "d30a52c5",
   "metadata": {},
   "outputs": [
    {
     "name": "stdout",
     "output_type": "stream",
     "text": [
      "140181290282032\n",
      "140181290282032\n"
     ]
    }
   ],
   "source": [
    "x = 25\n",
    "z = 25\n",
    "print(id(x))\n",
    "print(id(z))"
   ]
  },
  {
   "cell_type": "markdown",
   "id": "b16e7f3b",
   "metadata": {},
   "source": [
    "Sie sehen dass die ``id`` der Variablen ``x`` und ``z`` identisch sind.\n",
    "Ebenso ist ihr Wert identisch.\n",
    "Diese Situation sieht demnach wie folgt aus:\n",
    "\n",
    "```{figure} ../../figs/python-tutorial/variables/variable-equal-id.png\n",
    "---\n",
    "width: 800px\n",
    "name: fig-variable-equal-id\n",
    "---\n",
    "Initialisierung und Zuweisung einer Variablen ``x`` und ``z``  mit dem Wert ``25``. Die Adresse beider Variablen ist identisch.\n",
    "```\n",
    "\n",
    "```{admonition} Identität\n",
    ":name: def-identity\n",
    ":class: python\n",
    "Zwei *Variablen* ``x`` und ``y`` sind *identisch* genau dann wenn sie den gleichen Speicherbereich adressieren.\n",
    "```\n",
    "\n",
    "```{admonition} Gleichheit\n",
    ":name: def-equality\n",
    ":class: python\n",
    "Zwei *Variablen* ``x`` und ``y`` sind *gleich* genau dann wenn der Speicherbereich auf den sie verweisen den gleichen Wert beinhaltet.\n",
    "```\n",
    "\n",
    "``Python``-erkennt, dass es ausreicht, wenn beide *Variablen* auf den gleichen Speicherbereich zeigen.\n",
    "Wir als Programmierer\\*innen bekommen davon gar nichts mit. Verändern wir den Wert von ``z`` dann verändert sich auch die ``id``:"
   ]
  },
  {
   "cell_type": "code",
   "execution_count": 7,
   "id": "fe6dd86b",
   "metadata": {},
   "outputs": [
    {
     "name": "stdout",
     "output_type": "stream",
     "text": [
      "140181290282032\n",
      "140181290282000\n"
     ]
    }
   ],
   "source": [
    "x = 25\n",
    "z = 24\n",
    "print(id(x))\n",
    "print(id(z))"
   ]
  },
  {
   "cell_type": "markdown",
   "id": "898c203e",
   "metadata": {},
   "source": [
    "Die Situation könnte in etwa wie folgt aussehen:\n",
    "\n",
    "```{figure} ../../figs/python-tutorial/variables/variable-unequal-id.png\n",
    "---\n",
    "width: 800px\n",
    "name: fig-variable-unequal-id\n",
    "---\n",
    "Initialisierung und Zuweisung einer Variablen ``x`` und ``z``  mit dem Wert ``25`` und ``24``. Die Adresse beider Variablen ist nicht identisch.\n",
    "```\n",
    "\n",
    "````{admonition} Aus Identität folgt Gleichheit\n",
    ":name: theorem-equality-and-identity\n",
    ":class: theorem\n",
    "\n",
    "Zwei Variablen ``x`` und ``y``, die auf die gleiche Speicheradresse zeigen haben auch den gleichen Wert.\n",
    "Das heißt aus\n",
    "\n",
    "```python\n",
    "id(x) == id(y)\n",
    "```\n",
    "\n",
    "folgt\n",
    "\n",
    "```python\n",
    "x == y\n",
    "```\n",
    "\n",
    "Zwei Variablen können jedoch den gleichen Wert haben, allerdings auf verschiedene Speicherbereiche verweisen.\n",
    "````\n",
    "\n",
    "\n",
    "Ein Beispiel für zwei Variablen mit gleichem Wert und unterschiedlicher Identität ist leicht konstruiert:"
   ]
  },
  {
   "cell_type": "code",
   "execution_count": 8,
   "id": "91209f9d",
   "metadata": {},
   "outputs": [
    {
     "name": "stdout",
     "output_type": "stream",
     "text": [
      "140181056283728\n",
      "140181056283120\n"
     ]
    }
   ],
   "source": [
    "x = 2131313\n",
    "z = 2131313\n",
    "print(id(x))\n",
    "print(id(z))"
   ]
  },
  {
   "cell_type": "markdown",
   "id": "0e7cf765",
   "metadata": {},
   "source": [
    "Hmm?? \n",
    "Warum war die ``id`` beim Wert ``25`` identisch aber beim Wert ``2131313`` nicht?\n",
    "Hier kommen wir in die tiefen Details von ``Python``, welche fürs erste nicht so wichtig sind.\n",
    "Zur Optimierung der Laufzeit legt ``Python`` alle kleinen ganzen Zahlen bei Start der Ausführung in den Speicher, sodass Speicherplatz gespart wird.\n",
    "Das geht jedoch nur für eine endliche Anzahl an Zahlen (deshalb für die ersten k kleinsten Zahlen). \n",
    "``2131313`` zählt nicht dazu und somit wird der Wert jedesmal neu in den Speicher geschrieben.\n",
    "\n",
    "Folgender Code berechnet die erste Zahl die nicht bereits bei der Ausführung im Speicher liegt:"
   ]
  },
  {
   "cell_type": "code",
   "execution_count": 9,
   "id": "00658a13",
   "metadata": {},
   "outputs": [
    {
     "data": {
      "text/plain": [
       "257"
      ]
     },
     "execution_count": 9,
     "metadata": {},
     "output_type": "execute_result"
    }
   ],
   "source": [
    "x = 0\n",
    "z = 0\n",
    "while(id(x) == id(z)):\n",
    "    x = x + 1\n",
    "    z = z + 1\n",
    "x"
   ]
  },
  {
   "cell_type": "markdown",
   "id": "8f348c18",
   "metadata": {},
   "source": [
    "Wie sieht es mit negativen Zahlen aus?:"
   ]
  },
  {
   "cell_type": "code",
   "execution_count": 10,
   "id": "184e47e3",
   "metadata": {},
   "outputs": [
    {
     "data": {
      "text/plain": [
       "-6"
      ]
     },
     "execution_count": 10,
     "metadata": {},
     "output_type": "execute_result"
    }
   ],
   "source": [
    "x = 0\n",
    "z = 0\n",
    "while(id(x) == id(z)):\n",
    "    x = x - 1\n",
    "    z = z - 1\n",
    "x"
   ]
  },
  {
   "cell_type": "markdown",
   "id": "adab71cf",
   "metadata": {},
   "source": [
    "## Veränderung\n",
    "\n",
    "Wie der Name bereits betont, sind *Variablen* **variabel** und können somit verändert werden.\n",
    "Wir müssen jedoch zwischen zwei Veränderungen einer Variablen ``x`` unterscheiden:\n",
    "\n",
    "1. der Veränderung ihrer Wertes ``x``\n",
    "2. der Veränderung ihrer Speicheradresse ``id(x)`` (die auf den Wert zeigt)\n",
    "\n",
    "```{admonition} Veränderlich und Un­ver­än­der­lich­keit\n",
    ":name: def-mutable\n",
    ":class: definition\n",
    "\n",
    "Wir nennen eine Variable, *veränderlich* (engl. *mutable*) wenn wir deren Wert verändern können indem wir den Speicherbereich der Variable verändern können.\n",
    "Ein Variable ist dagegen *unveränderlich* (engl. *immutable*) wenn wir deren Speicherbereich nicht verändern können.\n",
    "\n",
    "Ist eine Variable *unveränderlich*, so wird deren Veränderung durch eine Kopie (einen neuen Speicherbereich) realisiert.\n",
    "Das Ursprungsobjekt bleibt *unverändert*.\n",
    "```\n",
    "\n",
    "### Zuweisung eines neuen Werts\n",
    "\n",
    "Eine *Variable* kann immer nur einen **Wert** bzw. auf einen bestimmten Speicherbereich *zeigen*.\n",
    "Weisen wir einer *Variablen* erneut einen **Wert** zu, wird dieser **Wert** in den Speicher an eine freie **Adresse** geschrieben und die **Adresse** der Variablen auf jene neue **Adresse** gesetzt."
   ]
  },
  {
   "cell_type": "code",
   "execution_count": 11,
   "id": "b76c9839",
   "metadata": {},
   "outputs": [
    {
     "name": "stdout",
     "output_type": "stream",
     "text": [
      "value of half = 0.5\n",
      "id of half = 140181056285072\n",
      "value of x = 25\n",
      "id of x = 140181290282032\n",
      "value of x = 24\n",
      "id of x = 140181290282000\n"
     ]
    }
   ],
   "source": [
    "half = 1/2\n",
    "print(f'value of half = {half}')\n",
    "print(f'id of half = {id(half)}')\n",
    "\n",
    "x = 25\n",
    "print(f'value of x = {x}')\n",
    "print(f'id of x = {id(x)}')\n",
    "\n",
    "x = 24\n",
    "print(f'value of x = {x}')\n",
    "print(f'id of x = {id(x)}')"
   ]
  },
  {
   "cell_type": "markdown",
   "id": "ce213765",
   "metadata": {},
   "source": [
    "````{admonition} Adressänderung\n",
    ":name: theorem-change-of-variable\n",
    ":class: theorem\n",
    "\n",
    "Veränderungen der einen *Variablen* haben keinen Effekt auf die **Adresse** bzw. *Identität* ``id`` anderer *Variablen*.\n",
    "````"
   ]
  },
  {
   "cell_type": "code",
   "execution_count": 12,
   "id": "9bb7c6d3",
   "metadata": {},
   "outputs": [
    {
     "name": "stdout",
     "output_type": "stream",
     "text": [
      "value of half = 0.5\n",
      "id of half = 140181056285072\n"
     ]
    }
   ],
   "source": [
    "print(f'value of half = {half}')\n",
    "print(f'id of half = {id(half)}')"
   ]
  },
  {
   "cell_type": "markdown",
   "id": "3caaf86e",
   "metadata": {},
   "source": [
    "Verändern wir *Variablen* nicht, so behalten sie ihre **Adresse** über das gesamte Notebook hinweg.\n",
    "\n",
    "### Zuweisung einer neuen Adresse\n",
    "\n",
    "Weisen wir einer Variablen ``x`` eine andere Variable ``y`` zu, so ändern wir die **Adresse** von ``x`` auf jene von ``y``. Das heißt, nach der *Zuweisung* zeigen beide Variablen auf den gleichen Speicherbereich und damit auf den gleichen **Wert**."
   ]
  },
  {
   "cell_type": "code",
   "execution_count": 13,
   "id": "923188db",
   "metadata": {},
   "outputs": [
    {
     "name": "stdout",
     "output_type": "stream",
     "text": [
      "value of x = 2131313\n",
      "id of x = 140181056283088\n",
      "value of y = 10\n",
      "id of y = 140181290281552\n",
      "value of z = 2131313\n",
      "id of z = 140181056284080\n"
     ]
    }
   ],
   "source": [
    "x = 2131313\n",
    "y = 10\n",
    "z = 2131313\n",
    "\n",
    "print(f'value of x = {x}')\n",
    "print(f'id of x = {id(x)}')\n",
    "\n",
    "print(f'value of y = {y}')\n",
    "print(f'id of y = {id(y)}')\n",
    "\n",
    "print(f'value of z = {z}')\n",
    "print(f'id of z = {id(z)}')"
   ]
  },
  {
   "cell_type": "code",
   "execution_count": 14,
   "id": "a14f4107",
   "metadata": {},
   "outputs": [
    {
     "name": "stdout",
     "output_type": "stream",
     "text": [
      "value of x = 2131313\n",
      "id of x = 140181056283088\n",
      "value of y = 2131313\n",
      "id of y = 140181056283088\n",
      "value of z = 2131313\n",
      "id of z = 140181056284080\n"
     ]
    }
   ],
   "source": [
    "y = x\n",
    "\n",
    "print(f'value of x = {x}')\n",
    "print(f'id of x = {id(x)}')\n",
    "\n",
    "print(f'value of y = {y}')\n",
    "print(f'id of y = {id(y)}')\n",
    "\n",
    "print(f'value of z = {z}')\n",
    "print(f'id of z = {id(z)}')"
   ]
  },
  {
   "cell_type": "markdown",
   "id": "1946e0f1",
   "metadata": {},
   "source": [
    "### Seiteneffekte\n",
    "\n",
    "Wie bereits erwähnt: Verändern wir eine *Variable* so können wir dadurch nicht die **Adresse** / *Identität* ``id`` einer anderen Variablen ändern! Wie verhält es sich jedoch mit dem **Wert** einer *Variablen*?\n",
    "\n",
    "Die Antwort ist etwas komplizierter und ist erst dann begreiflich wenn wir das Thema [Datentypen](sec-python-data-types) besprechen.\n",
    "Dennoch versuchen wir unser Glück:\n",
    "Eine Variable kann nicht nur einen einzelnen atomaren **Wert**, wie eine Zahl, enthalten, sondern auch einen **Wert** der sich aus anderen **Werten** [zusammensetzt](def-data-structures).\n",
    "Zum Beispiel:"
   ]
  },
  {
   "cell_type": "code",
   "execution_count": 15,
   "id": "3daf48b5",
   "metadata": {},
   "outputs": [
    {
     "data": {
      "text/plain": [
       "[1, 2, 3, 4, 5]"
      ]
     },
     "execution_count": 15,
     "metadata": {},
     "output_type": "execute_result"
    }
   ],
   "source": [
    "x = [1,2,3,4,5]\n",
    "x"
   ]
  },
  {
   "cell_type": "markdown",
   "id": "920504a3",
   "metadata": {},
   "source": [
    "Der Variablen ``x`` weisen wir hierbei eine sog. [Liste](sec-list) ``list`` zu, also ein geordnetes, veränderliches Tupel an Zahlen.\n",
    "In unserem Fall besteht die Liste, und somit ``x``, aus den Werten ``1, 2, 3, 4`` und ``5``.\n",
    "Um auf einen bestimmten **Wert** der Liste zuzugreifen brauchen wir seinen Index. Zum Beispiel liefert uns der Index ``1`` den Wert ``2``:"
   ]
  },
  {
   "cell_type": "code",
   "execution_count": 16,
   "id": "2c469674",
   "metadata": {},
   "outputs": [
    {
     "data": {
      "text/plain": [
       "2"
      ]
     },
     "execution_count": 16,
     "metadata": {},
     "output_type": "execute_result"
    }
   ],
   "source": [
    "x[1]"
   ]
  },
  {
   "cell_type": "markdown",
   "id": "060f9200",
   "metadata": {},
   "source": [
    "Wie sieht das nun im Speicher aus??? Welche Adresse hat ``x`` und wie sieht der Speicher an der Adresse von ``x`` aus? Der Aufruf"
   ]
  },
  {
   "cell_type": "code",
   "execution_count": 17,
   "id": "2334b90b",
   "metadata": {},
   "outputs": [
    {
     "data": {
      "text/plain": [
       "140181293651328"
      ]
     },
     "execution_count": 17,
     "metadata": {},
     "output_type": "execute_result"
    }
   ],
   "source": [
    "id(x)"
   ]
  },
  {
   "cell_type": "markdown",
   "id": "b35b3f07",
   "metadata": {},
   "source": [
    "Liefert uns eine ``id``, allerdings lieft uns der Aufruf"
   ]
  },
  {
   "cell_type": "code",
   "execution_count": 18,
   "id": "8d9d3a46",
   "metadata": {},
   "outputs": [
    {
     "data": {
      "text/plain": [
       "140181290281296"
      ]
     },
     "execution_count": 18,
     "metadata": {},
     "output_type": "execute_result"
    }
   ],
   "source": [
    "id(x[1])"
   ]
  },
  {
   "cell_type": "markdown",
   "id": "f584cd7f",
   "metadata": {},
   "source": [
    "ebenfalls eine (andere) ``id``."
   ]
  },
  {
   "cell_type": "code",
   "execution_count": 19,
   "id": "d8b2479f",
   "metadata": {},
   "outputs": [
    {
     "data": {
      "text/plain": [
       "140181290281328"
      ]
     },
     "execution_count": 19,
     "metadata": {},
     "output_type": "execute_result"
    }
   ],
   "source": [
    "id(x[2])"
   ]
  },
  {
   "cell_type": "markdown",
   "id": "4585c37a",
   "metadata": {},
   "source": [
    "Eine Liste ``list`` mit $n$ Elementen besteht in ``Python`` aus $n$ Adressen. Jede dieser Adressen zeigt auf den Wert des Listenelements. Das heißt, eigentlich sieht unsere Liste ``x`` wie folgt aus:\n",
    "\n",
    "```python\n",
    "[id(x[0]), id(x[1]), id(x[2]), id(x[3]), id(x[4])]\n",
    "```\n",
    "\n",
    "Doch ``Python`` vereinfacht uns den Umgang mit Listen und verbirgt diese Tatsache geschickt.\n",
    "\n",
    "Was aber passiert mit ``x`` wenn wir eines seiner Listenelemente verändern? Hier wird es spannend:"
   ]
  },
  {
   "cell_type": "code",
   "execution_count": 20,
   "id": "62718362",
   "metadata": {},
   "outputs": [
    {
     "name": "stdout",
     "output_type": "stream",
     "text": [
      "value of x = [1, 2, 3, 4, 5]\n",
      "id of x = 140181293651328\n",
      "value of x[1] = 2\n",
      "id of x[1] = 140181290281296\n",
      "\n",
      "value of x = [1, -10, 3, 4, 5]\n",
      "id of x = 140181293651328\n",
      "value of x[1] = -10\n",
      "id of x[1] = 140181056283568\n"
     ]
    }
   ],
   "source": [
    "print(f'value of x = {x}')\n",
    "print(f'id of x = {id(x)}')\n",
    "\n",
    "print(f'value of x[1] = {x[1]}')\n",
    "print(f'id of x[1] = {id(x[1])}')\n",
    "\n",
    "print()\n",
    "\n",
    "x[1] = -10\n",
    "print(f'value of x = {x}')\n",
    "print(f'id of x = {id(x)}')\n",
    "\n",
    "print(f'value of x[1] = {x[1]}')\n",
    "print(f'id of x[1] = {id(x[1])}')"
   ]
  },
  {
   "cell_type": "markdown",
   "id": "6457552d",
   "metadata": {},
   "source": [
    "Die Adresse von ``x`` ändert sich nicht!!! Es ändert sich nur die Adresse von ``x[1]``!!! Mit anderen Worten durch die *Zuweisung* von ``x[1] = -10`` wird keine neue Liste im Speicher angelegt, sondern nur ein neues Element!\n",
    "Dieses Element wird an eine freie Speicherstelle platziert und die entsprechende Adresse kommt in die Liste.\n",
    "\n",
    "Warum? \n",
    "Listen können groß werden und würden wir bei jeder Änderung eines Listenelements die gesamte Liste im Speicher kopieren, wäre das, im Bezug auf die Laufzeit, zu teuer und verschwenderisch.\n",
    "\n",
    "Dieses Verhalten hat jedoch Konsequenzen! \n",
    "Folgender Code führt zur Veränderung des Wertes der Variablen ``y`` von ``y == [[1, 2, 3], [1, 2, 3], [1,2,3]]`` nach ``y == [[-10, 2, 3], [-10, 2, 3], [1,2,3]]`` obwohl wir nicht direkt mit ``y`` interagieren."
   ]
  },
  {
   "cell_type": "code",
   "execution_count": 21,
   "id": "ae804b40",
   "metadata": {},
   "outputs": [
    {
     "name": "stdout",
     "output_type": "stream",
     "text": [
      "[[1, 2, 3], [1, 2, 3], [1, 2, 3]]\n",
      "[[-10, 2, 3], [-10, 2, 3], [1, 2, 3]]\n"
     ]
    }
   ],
   "source": [
    "x = [1, 2, 3]\n",
    "y = [x, x, [1,2,3]]\n",
    "print(y)\n",
    "\n",
    "x[0] = -10\n",
    "print(y)"
   ]
  },
  {
   "cell_type": "markdown",
   "id": "ff36d33e",
   "metadata": {},
   "source": [
    "Solche Veränderungen eines Wertes einer Variablen durch die Veränderung eines Werts einer anderen Variablen, nennen wir *Seiteneffekt*.\n",
    "\n",
    "````{admonition} Seiteneffekt\n",
    ":name: remark-change-of-variable-value\n",
    ":class: remark\n",
    "\n",
    "Handelt es sich beim Wert der Variablen um **keinen** [atomaren Datentyp](sec-atom-data-type), so kann die Veränderung des Werts dazu führen, dass sich der Wert einer anderen Variable verändert.\n",
    "````\n",
    "\n",
    "## Das Nichts\n",
    "\n",
    "Um einer *Variablen* \"keinen\" Wert zuzuweisen gibt es das Signalwort ``None``.\n",
    "Dies [repräsentiert](sec-representation) \"keinen Wert\" bzw. das Nichts.\n",
    "Dennoch besitzt die *Variable* einen Wert, eben den Wert ``None``."
   ]
  },
  {
   "cell_type": "code",
   "execution_count": 22,
   "id": "87331262",
   "metadata": {},
   "outputs": [],
   "source": [
    "z = 0\n",
    "z + 20\n",
    "z = None\n",
    "z"
   ]
  },
  {
   "cell_type": "markdown",
   "id": "e668a287",
   "metadata": {},
   "source": [
    "Die Ausgabemechanik des Notebooks ignoriert ``None``, jedoch können wir die *Variable* in eine Zeichenkette umwandeln und dann ausgeben:"
   ]
  },
  {
   "cell_type": "code",
   "execution_count": 23,
   "id": "20a3d919",
   "metadata": {},
   "outputs": [
    {
     "name": "stdout",
     "output_type": "stream",
     "text": [
      "4299430864\n",
      "None\n"
     ]
    }
   ],
   "source": [
    "z = None\n",
    "print(id(z))\n",
    "print(z)"
   ]
  },
  {
   "cell_type": "markdown",
   "id": "ddd8179e",
   "metadata": {},
   "source": [
    "``None`` wird uns wieder begegnen, wenn wir uns ``Python``-Funktionen ansehen.\n",
    "Vorab sei gesagt, dass falls eine [Funktion](sec-functions) keinen Rückgabewert besitzt, sie ``None`` zurückliefert.\n",
    "\n",
    "## Namenskonvention\n",
    "\n",
    "Namen müssen mit einem Klein- oder Großbuchstaben beginnen und können aus Zahlen und Buchstaben bestehen.\n",
    "Aus Gründen der Lesbarkeit folgen wir der Konvention von ``Python`` und schreiben *Variablen* komplett in Kleinbuchstaben, Zahlen und dem ``_``.\n",
    "Außerdem verwenden wir die englische Sprache, da alle Signalwörter von ``Python`` ohnehin in englisch formuliert werden müssen.\n",
    "Mit dem ``_`` trennen wir zusammengesetzte Namen.\n",
    "\n",
    "Beispiele für *Variablen* wären: ``x``, ``x1``, ``x2``, ``number``, ``x_direction``, ``temperature``."
   ]
  }
 ],
 "metadata": {
  "jupytext": {
   "formats": "md:myst",
   "text_representation": {
    "extension": ".md",
    "format_name": "myst"
   }
  },
  "kernelspec": {
   "display_name": "Python 3",
   "language": "python",
   "name": "python3"
  },
  "language_info": {
   "codemirror_mode": {
    "name": "ipython",
    "version": 3
   },
   "file_extension": ".py",
   "mimetype": "text/x-python",
   "name": "python",
   "nbconvert_exporter": "python",
   "pygments_lexer": "ipython3",
   "version": "3.9.7"
  },
  "source_map": [
   11,
   26,
   28,
   37,
   39,
   48,
   50,
   57,
   62,
   108,
   110,
   126,
   131,
   160,
   165,
   200,
   205,
   216,
   223,
   227,
   234,
   260,
   272,
   282,
   285,
   293,
   309,
   320,
   331,
   334,
   340,
   342,
   346,
   348,
   352,
   354,
   358,
   360,
   372,
   387,
   398,
   405,
   422,
   427,
   431,
   435
  ]
 },
 "nbformat": 4,
 "nbformat_minor": 5
}