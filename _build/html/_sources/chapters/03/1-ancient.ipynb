{
 "cells": [
  {
   "cell_type": "markdown",
   "id": "textile-street",
   "metadata": {},
   "source": [
    "# Antike\n",
    "\n",
    "Die Geschichte der Computer und Algorithmen beginnt 2700 bis 2400 Jahre vor Christus.\n",
    "Zu dieser Zeit konstruierten vermutlich die Sumerer das älteste bekannte Rechenhilfsmittel, den Abakus.\n",
    "Er unterstützte sie bei der Addition, Subtraktion, Multikation und Division ganzer Zahlen.\n",
    "Ziel war es Rechenfehler bei einfachen Berechnungen zu verhindern.\n",
    "Über zweitausend Jahre später erschufen die antiken Griechen eine Art mechanisch analogen Computer -- eine ganz erstaunliche Leistung, die für die kommenden tausend Jahre einzigartig bleiben sollte.\n",
    "Dieser antike Computer war dazu gedacht, bestimmte Positionen der Himmelskörper zu bestimmen.\n",
    "\n",
    "```{figure} ../../figs/greeks.png\n",
    "---\n",
    "height: 150px\n",
    "name: greeks\n",
    "---\n",
    "Denker*innen Ihrer Zeit: Euklid, Eratosthenes, Hypatia.\n",
    "```\n",
    "\n",
    "Sumerer, Ägypter, Babylonier, Chinesen, Griechen und andere antike Völker entwickelten Rechenhilfsmittel um insbesondere die Bewegung der Himmelskörper besser zu bestimmen und zu verstehen.\n",
    "In Alexandria bildete sich das Zentrum der damaligen Wissenschaft.\n",
    "Es wurden große Anstrengungen unternommen um das Wissen der damals bekannten Welt zu sammeln und zu erweitern.\n",
    "Bücher von Reisenden wurden händisch kopiert.\n",
    "Schiffe, die im Hafen ankerten, wurden nach neuen Mitschriften durchsucht.\n",
    "In der Agora wurde rege über die Laufbahn der Himmelskörper, geometrische Körper und besondere Zahlen diskutiert.\n",
    "\n",
    "```{figure} ../../figs/earth-curvature.png\n",
    "---\n",
    "height: 150px\n",
    "name: fig-earth-curvature\n",
    "---\n",
    "Eratosthenes und die Erdkrümmung.\n",
    "```\n",
    "\n",
    "Eratosthenes (276 v. Chr. - 194 v. Chr.) war einer der herausragenden Denker dieser Zeit und zugleich Leiter der Bibliothek in Alexandria.\n",
    "Eines Tages machte er eine herausragende Entdeckung:\n",
    "Er beobachtet, dass zur gleichen Zeit zwei Obelisken in verschiedenen Orten unterschiedlich lange Schatten auf die Erde warfen.\n",
    "Erstaunlicherweise schloss er daraus auf die Krümmung der Erde.\n",
    "Und da die Griechen von der Perfektion des Kreises überzeugt waren, folgerte Eratosthenes, dass die Erde eine Kugel sei.\n",
    "Er war sogar in der Lage die Erdkrümmung relativ genau zu berechnen und dadurch auf den Umfang der Erde zu schließen.\n",
    "Um seine Berechnungen durchführen zu können bediente er sich vermutlich eines menschlichen Computers, der ihm die Strecke zwischen Alexandria und Syren (800 km) ablief und berechnete."
   ]
  },
  {
   "cell_type": "code",
   "execution_count": 1,
   "id": "silent-beaver",
   "metadata": {},
   "outputs": [
    {
     "data": {
      "text/plain": [
       "[2,\n",
       " 3,\n",
       " 5,\n",
       " 7,\n",
       " 11,\n",
       " 13,\n",
       " 17,\n",
       " 19,\n",
       " 23,\n",
       " 29,\n",
       " 31,\n",
       " 37,\n",
       " 41,\n",
       " 43,\n",
       " 47,\n",
       " 53,\n",
       " 59,\n",
       " 61,\n",
       " 67,\n",
       " 71,\n",
       " 73,\n",
       " 79,\n",
       " 83,\n",
       " 89,\n",
       " 97]"
      ]
     },
     "execution_count": 1,
     "metadata": {},
     "output_type": "execute_result"
    }
   ],
   "source": [
    "import numpy as np\n",
    "\n",
    "def sieve_of_eratosthenes(N):\n",
    "    N = 100\n",
    "    prime_sieve = [True for i in range(N)]\n",
    "    prime_sieve[0] = False\n",
    "    prime_sieve[1] = False\n",
    "    for i in range(2, int(np.sqrt(N))):\n",
    "        if prime_sieve[i]:\n",
    "            for j in range(i**2, N, i):\n",
    "                prime_sieve[j] = False\n",
    "    \n",
    "    primes = []\n",
    "    for i in range(N):\n",
    "        if prime_sieve[i]:\n",
    "            primes.append(i)\n",
    "    return primes\n",
    "        \n",
    "sieve_of_eratosthenes(100)"
   ]
  },
  {
   "cell_type": "markdown",
   "id": "breeding-elevation",
   "metadata": {},
   "source": [
    "Wir finden also bereits zu dieser Zeit erste Beispiele für eine computergestützte Forschung.\n",
    "Für lästige und primitive Berechnungen begann man Computer zu beauftragen.\n",
    "Der Begriff *Computer* sollte lange Zeit auf eine Person anstatt eine Maschine hindeuten.\n",
    "So wurden bis Ende des zweiten Weltkrieg menschliche Computer, oft Frauen, mit Berechnungen beauftragt.\n",
    "\n",
    "Auch begann man zu dieser Zeit die ersten Algorithmen zu entwickeln.\n",
    "Nach Eratosthenes ist einer der ersten Algorithmen benannt, der *Sieb des Eratosthenes*.\n",
    "Es ist eine clevere Technik um Primzahlen zu berechnen.\n",
    "\n",
    "```{figure} ../../figs/the-elements.jpg\n",
    "---\n",
    "height: 150px\n",
    "name: fig-euklid-elements\n",
    "---\n",
    "Ein Fragment der Werke *Die Elemente*.\n",
    "```\n",
    "\n",
    "Doch noch vor Eratosthenes, notierte Euklid von Alexandria (ca 450 v. Chr. - Mitte 350 v. Chr.) in seinem Werk *Die Elemente*, einen Algorithmus für die Berechnung des größten gemeinsamen Teilers ``gcd(a,b)`` zweier natürlicher Zahlen ``a, b``.\n",
    "Über zweitausend Jahre später finden wir jene Algorithmen in einer anderen Form wieder."
   ]
  },
  {
   "cell_type": "code",
   "execution_count": 2,
   "id": "needed-fisher",
   "metadata": {},
   "outputs": [
    {
     "data": {
      "text/plain": [
       "12"
      ]
     },
     "execution_count": 2,
     "metadata": {},
     "output_type": "execute_result"
    }
   ],
   "source": [
    "def gcd(a,b):\n",
    "    while b:\n",
    "        a, b = b, a % b\n",
    "    return a\n",
    "\n",
    "gcd(36, 24)"
   ]
  },
  {
   "cell_type": "markdown",
   "id": "legislative-ethics",
   "metadata": {},
   "source": [
    ">[The Euclidean algorithm] is the granddaddy of all algorithms, because it is the oldest nontrivial algorithm that has survived to the present day. -- Donald Knuth, The Art of Computer Programming, Vol 2.\n",
    "\n",
    "Zwischen der Logik und der theoretischen Informatik gibt es einen sehr starken Zusammenhang.\n",
    "Berechnungen eines Rechners basieren auf logischen Operationen und das theoretische Prinzip des universellen digitalen Computers, wie auch wichtige Grenzen dessen was berechenbar ist, entstand aus den Arbeiten vieler Logiker.\n",
    "Den Anfang machten auch hier die Griechen.\n",
    "Ihnen haben wir ein System des logischen Schließens, die sog. Syllogismen des Aristoteles, zu verdanken.\n",
    "Neben den Syllogismen beschäftigte sich Aristoteles bereits mit dem *Satz vom Widerspruch* und dem *Satz vom ausgeschlossenen Dritten* sowie der Beweistechnik des *indirekten Beweises* -- allesamt fundamentale mathematische Techniken und Fragestellungen.\n",
    "Zur Zeit des römischen Reichs formulierten die Stoiker das erste aussagelogische Kalkül und auch im Mittelalter sollten sich kleinere Fortschritte im Bereich der Logik ergeben.\n",
    "Jedoch sollte erst im 19. Jahrhundert durch Mathematiker wie George Boole, Gottlob Frege und Bertrand Russell weitreichende Fortschritte möglich gemacht werden.\n",
    "\n",
    "```{figure} ../../figs/logicians.png\n",
    "---\n",
    "height: 150px\n",
    "name: logicians\n",
    "---\n",
    "Einflussreiche Logiker ihrer Zeit: Georg Boole, Gottlob Frege und Bertrand Russell.\n",
    "```\n",
    "\n",
    "In China wurde zwischen 200 vor und 100 nach Christus das Mathematikbuch *Jiu Zhang Suanshu* (*Neun Bücher arithmetischer Technik*) verfasst.\n",
    "In ihm findet sich einer der noch heute bekanntesten Algorithmen zum Lösen linearer Gleichungssystem: das sog. *Gaußsche Eliminationsverfahren*.\n",
    "Es wurde in Europa 1759 vom italienischen Mathematiker Lagrange publiziert und wohl unabhängig davon vom deutschen Mathematiker Gauß im Jahr 1811 entwickelt.\n",
    "Schon die Babylonier wussten wie sich Gleichungen mit zwei Unbekannten lösen lassen, jedoch waren ihre zu lösenden Probleme durch konkrete oft geometrische Fragestellungen motiviert.\n",
    "Das Besondere am *Gaußsche Eliminationsverfahren* ist seine Abstraktion, die zu einer allgemeinen Lösungstheorie für lineare Gleichungssysteme führte.\n",
    "\n",
    "Wie bereits erwähnt, dauerte es tausend Jahre bis an den Fortschritt der antiken Griechen wieder angeknüpft wurde.\n",
    "Wir wissen natürlich nicht welches, möglicherweise entscheidendes Wissen durch die Zerstörung und Plünderung der Bibliothek von Alexandria verloren gegangen ist."
   ]
  }
 ],
 "metadata": {
  "jupytext": {
   "formats": "md:myst",
   "text_representation": {
    "extension": ".md",
    "format_name": "myst"
   }
  },
  "kernelspec": {
   "display_name": "Python 3",
   "language": "python",
   "name": "python3"
  },
  "language_info": {
   "codemirror_mode": {
    "name": "ipython",
    "version": 3
   },
   "file_extension": ".py",
   "mimetype": "text/x-python",
   "name": "python",
   "nbconvert_exporter": "python",
   "pygments_lexer": "ipython3",
   "version": "3.9.6"
  },
  "source_map": [
   11,
   53,
   73,
   95,
   102
  ]
 },
 "nbformat": 4,
 "nbformat_minor": 5
}