{
 "cells": [
  {
   "cell_type": "markdown",
   "id": "liberal-lightning",
   "metadata": {},
   "source": [
    "# Imperativ vs. funktional\n",
    "\n",
    "Funktionale Programmiersprachen bieten hohe Sicherheit indem sie sogenannte *Seiteneffekte* nicht erlauben und anstatt Variablen (abänderbar) nur Konstanten (unabänderlich) zulassen.\n",
    "\n",
    "```{admonition} Seiteneffekt\n",
    ":name: def-side-effect\n",
    ":class: definition\n",
    "Übergeben Sie eine Variable oder eine Datenstruktur einer Funktion und ändert diese Funktion diese, dann sprechen wir von einem *Seiteneffekt*.\n",
    "```\n",
    "\n",
    "In imperativen Programmiersprachen (``Python``, ``Java``, ``C#``, ``C++``, ``C``, ``JavaScript``, ...) sind *Seiteneffekte* manchmal erwünscht und auch notwendig.\n",
    "Folgender Code zeigt einen Seiteneffekt in ``Python``."
   ]
  },
  {
   "cell_type": "code",
   "execution_count": 1,
   "id": "extreme-prediction",
   "metadata": {},
   "outputs": [
    {
     "name": "stdout",
     "output_type": "stream",
     "text": [
      "[]\n",
      "[1, 2, 3]\n",
      "[1, 2, 3]\n"
     ]
    }
   ],
   "source": [
    "y = []\n",
    "def sideeffect(x):\n",
    "    x += [1,2,3]\n",
    "    return x\n",
    "\n",
    "print(y)\n",
    "print(sideeffect(y))\n",
    "print(y)"
   ]
  },
  {
   "cell_type": "markdown",
   "id": "expected-coordinator",
   "metadata": {},
   "source": [
    "Dies ist in der funktionalen Programmiersprache ``Haskell`` nicht möglich!\n",
    "Wir können den obigen *Seiteneffekt* in ``Python`` wie folgt auflösen."
   ]
  },
  {
   "cell_type": "code",
   "execution_count": 2,
   "id": "worst-punishment",
   "metadata": {},
   "outputs": [
    {
     "name": "stdout",
     "output_type": "stream",
     "text": [
      "[]\n",
      "[1, 2, 3]\n",
      "[]\n"
     ]
    }
   ],
   "source": [
    "y = []\n",
    "def no_sideeffect(x):\n",
    "    x = x + [1,2,3]\n",
    "    return x\n",
    "\n",
    "print(y)\n",
    "print(no_sideeffect(y))\n",
    "print(y)"
   ]
  },
  {
   "cell_type": "markdown",
   "id": "fatty-track",
   "metadata": {},
   "source": [
    "Funktionale Sprachen umgehen *Seiteneffekte* indem sie keine Datenstrukturen ändern, sondern stattdessen neu erzeugen.\n",
    "Fügt man ein neues Element in eine Liste an, entsteht eine komplett neue Liste.\n",
    "Funktionale Sprachen verzichten auf Variablen und realisieren Operationen durch Konstanten und sog. *Pure Functions* (mathematische Funktionen).\n",
    "\n",
    "```{admonition} Reine Funktion (pure Function)\n",
    ":name: def-pure-function\n",
    ":class: definition\n",
    "\n",
    "Eine Funktion nennen wir *reine Funktion* wenn\n",
    "1. Der Rückgabewert der Funktion für die gleiche Funktionsargumente stets identisch ist.\n",
    "2. Wenn die Funktion keine *Seiteneffekte* hat.\n",
    "```\n",
    "\n",
    "*Reine Funktionen* verhalten sich deshalb wie mathematische Funktionen.\n",
    "Die folgende Funktion ist eine *reine Funktion*."
   ]
  },
  {
   "cell_type": "code",
   "execution_count": 3,
   "id": "italian-vault",
   "metadata": {},
   "outputs": [
    {
     "name": "stdout",
     "output_type": "stream",
     "text": [
      "3\n"
     ]
    }
   ],
   "source": [
    "def f(x):\n",
    "    return x + 1\n",
    "\n",
    "print(f(2))"
   ]
  },
  {
   "cell_type": "markdown",
   "id": "together-nashville",
   "metadata": {},
   "source": [
    "Folgende Funktion ist keine *reine Funktion*."
   ]
  },
  {
   "cell_type": "code",
   "execution_count": 4,
   "id": "exempt-shanghai",
   "metadata": {},
   "outputs": [
    {
     "name": "stdout",
     "output_type": "stream",
     "text": [
      "3\n",
      "2\n"
     ]
    }
   ],
   "source": [
    "y = 2\n",
    "def f(x):\n",
    "    if y == 2:\n",
    "        return x + 1\n",
    "    else:\n",
    "        return x\n",
    "\n",
    "print(f(2))\n",
    "y = 1\n",
    "print(f(2))"
   ]
  },
  {
   "cell_type": "markdown",
   "id": "attractive-hartford",
   "metadata": {},
   "source": [
    "````{admonition} Reine Funktion und Python\n",
    ":class: python\n",
    "``Python`` macht es uns schwer keine *reine Funktion* zu konstruieren.\n",
    "Zum Beispiel würde folgender Code zu einem Fehler führen:\n",
    "\n",
    "```python\n",
    "y = 0\n",
    "def f(x):\n",
    "    y = y + 1\n",
    "    return x + y\n",
    "\n",
    "print(f(2))\n",
    "print(f(2))\n",
    "```\n",
    "\n",
    "````\n",
    "\n",
    "```{exercise} Seiteneffekte\n",
    ":label: sideeffect-exercise\n",
    "Weshalb könnte es Sinn machen *Seiteneffekte* zuzulassen?\n",
    "Weshalb macht es zugleich Sinn sie so gut es geht zu vermeiden?\n",
    "```\n",
    "\n",
    "```{solution} sideeffect-exercise\n",
    ":label: sideeffect-solution\n",
    ":class: dropdown\n",
    "Immer wieder Kopien anzulegen kann viel Speicherplatz und Rechenzeit kosten.\n",
    "Zudem ist jede Eingabe durch ein Eingabegerät schlussendlich ein *Seiteneffekt*.\n",
    "Die Ein- und Ausgabe kann ohne *Seiteneffekte* nicht realisiert werden.\n",
    "\n",
    "Code der auf Funktionen ohne Seiteneffekte basiert, lässt sich leichter lesen, analysieren und kombinieren.\n",
    "Besonders wenn die Reihenfolge in der die Funktionen aufgerufen werden nicht mehr eindeutig ist (Parallelität), kann eine Fehlersuche unglaublich schwierig werden, wenn *Seiteneffekte* vorhanden sind.\n",
    "```\n",
    "\n",
    "Wir besprechen reine Funktionen in ``Python`` im Abschnitt [Reinheit](sec-purity).\n",
    "\n",
    "Funktionale Sprachen wie ``Haskell`` waren anfänglich rein akademische Sprachen mit denen sich in der Praxis nichts wirklich anfangen ließ.\n",
    "Nichtsdestotrotz haben diese Sprachen interessante Konzepte zutage gebracht.\n",
    "Von extrem sicher aber unbrauchbar wandern funktionale Sprachen Schritt für Schritt in Richtung extrem sicher und brauchbar.\n",
    "\n",
    "Imperative Sprachen hingegen wandern tendenziell von sehr brauchbar aber unsicher, zu sehr brauchbar und sicher.\n",
    "Beide Lager lernen voneinander.\n",
    "So existieren in ``Python`` und allen anderen sehr nützlichen Sprachen wie ``Java``, ``C#``, ``C++`` Konstrukte, die von funktionalen Sprachen inspiriert sind.\n",
    "Zum Beispiel erzeugt"
   ]
  },
  {
   "cell_type": "code",
   "execution_count": 5,
   "id": "arctic-intent",
   "metadata": {},
   "outputs": [
    {
     "data": {
      "text/plain": [
       "[1, 4, 9]"
      ]
     },
     "execution_count": 5,
     "metadata": {},
     "output_type": "execute_result"
    }
   ],
   "source": [
    "def square(x):\n",
    "    return x * x\n",
    "\n",
    "list(map(square, [1,2,3]))"
   ]
  },
  {
   "cell_type": "markdown",
   "id": "supposed-muslim",
   "metadata": {},
   "source": [
    "eine neue Liste mit den quadrierten Zahlen der Ursprungsliste.\n",
    "Das besondere dabei ist, dass wir die Funktion ``square`` einer anderen Funktion ``map`` übergeben.\n",
    "Funktionen als Übergabeparameter sind ein Konzept der funktionalen Sprachen mit dem Namen [Funktion erster Klasse](sec-first-class-functions) (first class function).\n",
    "In ``Haskell`` sieht das ganze wie folgt aus\n",
    "\n",
    "```haskell\n",
    "square :: Int -> Int\n",
    "square x = x * x\n",
    "map square [1, 2, 3]\n",
    "```"
   ]
  }
 ],
 "metadata": {
  "jupytext": {
   "formats": "md:myst",
   "text_representation": {
    "extension": ".md",
    "format_name": "myst"
   }
  },
  "kernelspec": {
   "display_name": "Python 3",
   "language": "python",
   "name": "python3"
  },
  "language_info": {
   "codemirror_mode": {
    "name": "ipython",
    "version": 3
   },
   "file_extension": ".py",
   "mimetype": "text/x-python",
   "name": "python",
   "nbconvert_exporter": "python",
   "pygments_lexer": "ipython3",
   "version": "3.9.8"
  },
  "source_map": [
   11,
   26,
   35,
   39,
   48,
   66,
   71,
   75,
   86,
   133,
   138
  ]
 },
 "nbformat": 4,
 "nbformat_minor": 5
}