{
 "cells": [
  {
   "cell_type": "markdown",
   "id": "c52772b9",
   "metadata": {},
   "source": [
    "(sec-math-operations)=\n",
    "# Operationen\n",
    "\n",
    "(sec-abs)=\n",
    "## Betrag\n",
    "\n",
    "Die Betragsfunktion $|\\cdot| : \\mathbb{R} \\rightarrow \\mathbb{R}^+$ wandelt eine negative Zahl in eine positive Zahl um.\n",
    "\n",
    "```{admonition} Betragsfunktion\n",
    ":name: def-math-abs\n",
    ":class: definition\n",
    "\n",
    "Sei $x \\in \\mathbb{R}$ eine reelle Zahl, so ist ihr *Betrag* definiert als\n",
    "\n",
    "$$\\text{abs}(x) = |x| = \\begin{cases} -x, & \\text{ falls } x < 0 \\\\ x, & \\text{ sonst.} \\end{cases}$$\n",
    "```"
   ]
  },
  {
   "cell_type": "code",
   "execution_count": 1,
   "id": "6a195e19",
   "metadata": {},
   "outputs": [
    {
     "data": {
      "text/plain": [
       "10"
      ]
     },
     "execution_count": 1,
     "metadata": {},
     "output_type": "execute_result"
    }
   ],
   "source": [
    "abs(-10)"
   ]
  },
  {
   "cell_type": "markdown",
   "id": "af4c9ca4",
   "metadata": {},
   "source": [
    "## Max- und Minimum\n",
    "\n",
    "```{admonition} Maximum\n",
    ":name: def-math-max\n",
    ":class: definition\n",
    "\n",
    "Für eine nicht leere Menge $M \\subset \\mathbb{R}$ ist das *Maximum* $\\max M$ definiert als\n",
    "\n",
    "$$\\max M = x \\text{ sodass } x \\in M \\text{ und } \\forall y \\in M : x \\geq y$$\n",
    "```"
   ]
  },
  {
   "cell_type": "code",
   "execution_count": 2,
   "id": "83a78fe6",
   "metadata": {},
   "outputs": [
    {
     "data": {
      "text/plain": [
       "5"
      ]
     },
     "execution_count": 2,
     "metadata": {},
     "output_type": "execute_result"
    }
   ],
   "source": [
    "M = {1,2,3,4,5}\n",
    "max(M)"
   ]
  },
  {
   "cell_type": "markdown",
   "id": "417f2693",
   "metadata": {},
   "source": [
    "```{admonition} Maximum\n",
    ":name: def-math-min\n",
    ":class: definition\n",
    "\n",
    "Für eine nicht leere Menge $M \\subset \\mathbb{R}$ ist das *Minimum* $\\min M$ definiert als\n",
    "\n",
    "$$\\min M = x \\text{ sodass } x \\in M \\text{ und } \\forall y \\in M : x \\leq y.$$\n",
    "```"
   ]
  },
  {
   "cell_type": "code",
   "execution_count": 3,
   "id": "50d98704",
   "metadata": {},
   "outputs": [
    {
     "data": {
      "text/plain": [
       "1"
      ]
     },
     "execution_count": 3,
     "metadata": {},
     "output_type": "execute_result"
    }
   ],
   "source": [
    "M = {1,2,3,4,5}\n",
    "min(M)"
   ]
  },
  {
   "cell_type": "markdown",
   "id": "dde08a6b",
   "metadata": {},
   "source": [
    "(sec-math-rounding)=\n",
    "## Ab- und Aufrunden\n",
    "\n",
    "Bei der Entwicklung Ihrer Algorithmen werden sie das *Abrunden* sehr oft einsetzten.\n",
    "Es wird in allen gängigen Programmiersprachen implizit durchgeführt, wenn Sie eine Gleitkommazahl in eine ganze Zahl umwandeln."
   ]
  },
  {
   "cell_type": "code",
   "execution_count": 4,
   "id": "fc37a253",
   "metadata": {},
   "outputs": [
    {
     "name": "stdout",
     "output_type": "stream",
     "text": [
      "1\n",
      "1\n"
     ]
    }
   ],
   "source": [
    "import math\n",
    "print(int(1.49))\n",
    "print(math.floor(1.49))"
   ]
  },
  {
   "cell_type": "markdown",
   "id": "6e4ea819",
   "metadata": {},
   "source": [
    "Diese Abrundungsfunktion $\\left \\lfloor{\\cdot}\\right \\rfloor : \\mathbb{R} \\rightarrow \\mathbb{Z}$ rundet Zahlen zur nächst größeren ganzen Zahl auf. \n",
    "\n",
    "```{admonition} Abrunden\n",
    ":name: def-math-floor\n",
    ":class: definition\n",
    "\n",
    "Sei $x \\in \\mathbb{R}$ so ist $x$ *aufgerundet* gleich\n",
    "\n",
    "$$\\text{floor}(x) = \\left \\lfloor{x}\\right \\rfloor = \\max\\{k \\in \\mathbb{Z} : k \\leq x \\}.$$\n",
    "```\n",
    "\n",
    "Diese Aufrundungsfunktion $\\left \\lceil{\\cdot}\\right \\rceil : \\mathbb{R} \\rightarrow \\mathbb{Z}$ rundet Zahlen zur nächst kleineren ganzen Zahl ab. \n",
    "\n",
    "```{admonition} Aufrunden\n",
    ":name: def-math-ceil\n",
    ":class: definition\n",
    "\n",
    "Sei $x \\in \\mathbb{R}$ so ist $x$ *abgerundet* gleich\n",
    "\n",
    "$$\\text{ceil}(x) = \\left \\lceil{x}\\right \\rceil = \\min\\{k \\in \\mathbb{Z} : k \\geq x \\}.$$\n",
    "```"
   ]
  },
  {
   "cell_type": "code",
   "execution_count": 5,
   "id": "a293a1af",
   "metadata": {},
   "outputs": [
    {
     "name": "stdout",
     "output_type": "stream",
     "text": [
      "2\n",
      "-1\n"
     ]
    }
   ],
   "source": [
    "import math\n",
    "print(math.ceil(1.49))\n",
    "print(math.ceil(-1.49))"
   ]
  },
  {
   "cell_type": "markdown",
   "id": "20152a6b",
   "metadata": {},
   "source": [
    "## Die Restwertdivision\n",
    "\n",
    "```{admonition} Restwert\n",
    ":name: def-euclid-division\n",
    ":class: definition\n",
    "\n",
    "Für zwei ganze Zahlen $n, m \\in \\mathbb{Z}$, $m \\neq 0$ gibt es zwei eindeutige ganze Zahlen $a, r \\in \\mathbb{Z}$, sodass\n",
    "\n",
    "$$\n",
    "n = m \\cdot a + r, \\quad 0 \\leq r < |m|.\n",
    "$$\n",
    "\n",
    "Wir nennen $r$ den *Rest*.\n",
    "```\n",
    "\n",
    "Seien $n, m$ gegeben so lassen sich $a$ durch die Division und das Abrunden ermitteln.\n",
    "\n",
    "$$a = \\left \\lfloor{ n / m}\\right \\rfloor$$\n",
    "\n",
    "und damit lässt sich der *Rest* $r$ bestimmen\n",
    "\n",
    "$$r = n - a \\cdot m.$$\n",
    "\n",
    "Zum Beispiel gilt für $n = 13$, $m = 5$: \n",
    "\n",
    "\\begin{gather*} \n",
    "a = \\left \\lfloor{13/5}\\right \\rfloor = 2\\\\\n",
    "r = 13 - 2 \\cdot 5 = 3.\n",
    "\\end{gather*}\n",
    "\n",
    "\n",
    "Die *Restwertdivision* wird von allem gängigen Programmiersprachen durch den ``%`` Operator unterstützt und ist für Computer relativ günstig zu berechnen.\n",
    "Mithilfe dieser Operation können wir zum Beispiel feststellen ob eine ganze Zahl gerade oder ungerade ist.\n",
    "Das ist genau dann der Fall wenn der Rest $r$ der Restwertdivision mit 2 gleich null ist."
   ]
  },
  {
   "cell_type": "code",
   "execution_count": 6,
   "id": "ddee07ed",
   "metadata": {},
   "outputs": [
    {
     "name": "stdout",
     "output_type": "stream",
     "text": [
      "False\n",
      "3\n"
     ]
    }
   ],
   "source": [
    "print(5 % 2 == 0)\n",
    "print(13 % 5)"
   ]
  }
 ],
 "metadata": {
  "jupytext": {
   "formats": "md:myst",
   "text_representation": {
    "extension": ".md",
    "format_name": "myst"
   }
  },
  "kernelspec": {
   "display_name": "Python 3",
   "language": "python",
   "name": "python3"
  },
  "language_info": {
   "codemirror_mode": {
    "name": "ipython",
    "version": 3
   },
   "file_extension": ".py",
   "mimetype": "text/x-python",
   "name": "python",
   "nbconvert_exporter": "python",
   "pygments_lexer": "ipython3",
   "version": "3.9.7"
  },
  "source_map": [
   11,
   30,
   32,
   45,
   48,
   59,
   62,
   69,
   73,
   97,
   101,
   138
  ]
 },
 "nbformat": 4,
 "nbformat_minor": 5
}