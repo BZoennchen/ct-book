{
 "cells": [
  {
   "cell_type": "markdown",
   "id": "aggregate-journalist",
   "metadata": {},
   "source": [
    "(sec-change-of-data-types)=\n",
    "# Interpretationswechsel\n",
    "\n",
    "Was passiert wenn wir eine Zahl in eine Zeichenkette umwandeln?\n",
    "Wir können zum Beispiel eine Variable mit einer Zahl initialisieren und diese Zahl als Zeichen interpretieren.\n",
    "Dazu brauchen wir jedoch eine geeignete Interpretation:"
   ]
  },
  {
   "cell_type": "code",
   "execution_count": 1,
   "id": "severe-customs",
   "metadata": {},
   "outputs": [
    {
     "name": "stdout",
     "output_type": "stream",
     "text": [
      "number 90\n",
      "characters 90\n",
      "str 90\n",
      "int 90\n"
     ]
    }
   ],
   "source": [
    "number = 90\n",
    "characters = str(number)\n",
    "print(f'number {number}')\n",
    "print(f'characters {characters}')\n",
    "print('str 90')\n",
    "print(f'int {90}')"
   ]
  },
  {
   "cell_type": "markdown",
   "id": "liked-hybrid",
   "metadata": {},
   "source": [
    "Was passiert hier?\n",
    "Es wird viermal die Zahl ``90`` als Zeichenkette ausgegeben.\n",
    "Erst weisen wir die Zahl ``90`` der Variablen ``number`` zu.\n",
    "In der zweiten Zeile weisen wir die Zeichenkette ``'90'`` der Variablen ``characters`` zu.\n",
    "``str`` ist eine Funktion welche aus ihrem Argument eine Zeichenkette generiert.\n",
    "\n",
    "Würden wir uns die Bits der Speicherbereiche der Variablen ``number`` und ``characters`` anzeigen, so wären diese Bits **nicht** identisch.\n",
    "Die Bits welche die Zahl 90 ergeben, d.h. $90_{10} = 01011010_2$ ergeben in der von ``Python`` gewählten Interpretation (ASCII) **nicht** die Zeichenkette ``'90'``.\n",
    "Auch die Datentypen der beiden Variablen sind unterschiedlich.\n",
    "``characters`` ist eine sogenannte Zeichenkette (String ``str``) und ``number`` eine ganze Zahl (Integer ``int``)."
   ]
  },
  {
   "cell_type": "code",
   "execution_count": 2,
   "id": "devoted-potter",
   "metadata": {},
   "outputs": [
    {
     "name": "stdout",
     "output_type": "stream",
     "text": [
      " tpye of number <class 'int'>\n",
      " tpye of characters <class 'str'>\n"
     ]
    }
   ],
   "source": [
    "print(f' tpye of number {type(number)}')\n",
    "print(f' tpye of characters {type(characters)}')"
   ]
  },
  {
   "cell_type": "markdown",
   "id": "bored-jersey",
   "metadata": {},
   "source": [
    "In diesem Beispiel wechseln wir nicht nur die Interpretation von 'interpretiere Bits als Zahl' auf 'interpretiere Bits als Zeichenkette' sondern auch den **Wert** -- die Bits werden ebenfalls verändert.\n",
    "Mit ``str(90)`` sagen wir ``Python``: Bitte mach uns aus der Zahl 90 die Zeichenkette ``'90'``.\n",
    "Es wird außerdem klar, dass wir eine Zahl in ihrer Gestalt als ``int`` gar nicht ausgeben können!\n",
    "Stattdessen wird diese immer erst in eine Zeichenkette umgewandelt.\n",
    "Die Funktion ``print`` sorgt dafür, dass sowohl der Inhalt von ``number`` als auch ``90`` in die Zeichenkette ``'90'`` umgewandelt werden.\n",
    "\n",
    "Mit Ausnahme der [Bitoperationen](sec-bit-operations) bieten Hochsprachen wie ``Python``, ``Java``, ``JavaScript`` bewusst kaum die Möglichkeit direkt mit den Bits im Speicher zu interagieren.\n",
    "Wir ändern Zahlen, Text und anderes und die Hochsprachen kümmern sich darum, dass die Werte im Speicher dementsprechend angepasst werden.\n",
    "Diese Abstraktion schützt Programmierer\\*innen vor Fehlern und erhöht die Lesbarkeit des Quellcodes.\n",
    "Es macht keinen Sinn eine Bitfolge die erst als Text interpretiert wird, auf einmal als Zahl zu interpretieren.\n",
    "\n",
    "Eine Dezimalzahl als Binärzahl zu interpretieren kann durchaus Sinn ergeben.\n",
    "Deshalb stellen die Bitoperationen eine Ausnahme dar.\n",
    "Die folgende Bitverschiebung manipuliert einen Bereich des Speichers direkt."
   ]
  },
  {
   "cell_type": "code",
   "execution_count": 3,
   "id": "suburban-concert",
   "metadata": {},
   "outputs": [
    {
     "data": {
      "text/plain": [
       "10"
      ]
     },
     "execution_count": 3,
     "metadata": {},
     "output_type": "execute_result"
    }
   ],
   "source": [
    "5 << 1"
   ]
  },
  {
   "cell_type": "markdown",
   "id": "israeli-uruguay",
   "metadata": {},
   "source": [
    "Hier werden die Bits, welche die Zahl ``5`` repräsentieren um eins nach links verschoben, was einer Multiplikation mit ``2`` gleichkommt.\n",
    "Dabei wird die ``5`` für die Operation als Zahl in ihrer ursprünglichen Binärdarstellung interpretiert.\n",
    "\n",
    "Dies funktioniert jedoch nicht mit einem Zeichen.\n",
    "``Python`` verbietet die Bitverschiebung für Zeichen obwohl das Zeichen ja auch als Bitfolge im Speicher liegt.\n",
    "Folgender Code führt zu einem Fehler, da er kaum einen Sinn oder Nutzten hat:\n",
    "\n",
    "```python\n",
    "'a' << 1\n",
    "```\n",
    "\n",
    "In anderen Sprachen wie ``C/C++`` würde dies funktionieren und zu unsauberen, unleserlichen und verwirrenden Code führen.\n",
    "Auch in diesen Sprachen ist es gute Praxis, dies nicht zu tun, obwohl es theoretisch möglich ist.\n",
    "Hier kann man Diskutieren was besser ist: Alles erlauben um maximale Freiheit zu gewährleisten oder Programmierer\\*innen einschränken, um sie zu schützen.\n",
    "\n",
    "Wir können das Zeichen ``'a'`` mit der Funktion ``ord`` in eine Zahl umwandeln.\n",
    "Das Ergebnis hängt mit der von ``Python`` gewählten Interpretation (ASCII) zusammen.\n",
    "Daraufhin können wir den Bitshift durchführen und die Zahl mit ``chr`` wieder in ein Zeichen zurück transformieren."
   ]
  },
  {
   "cell_type": "code",
   "execution_count": 4,
   "id": "worthy-medicaid",
   "metadata": {},
   "outputs": [
    {
     "data": {
      "text/plain": [
       "'Â'"
      ]
     },
     "execution_count": 4,
     "metadata": {},
     "output_type": "execute_result"
    }
   ],
   "source": [
    "chr(ord('a') << 1)"
   ]
  },
  {
   "cell_type": "markdown",
   "id": "conscious-rugby",
   "metadata": {},
   "source": [
    "Wir erhalten ein neues Zeichen: Ein ``'Â'``, können wir das irgendwo gebrauchen?\n",
    "Das ist zu bezweifeln und selbst wenn, ist dieser Code besser lesbar, da wir explizit die Anweisung zur Umwandlung in eine Zahl angeben.\n",
    "\n",
    "Ändern wir in einer Hochsprache die Interpretation, so ändert sich meist auch der Wert im Speicher, da es meistens anders keinen Sinn macht und wir genau das erreichen wollen.\n",
    "Hochsprachen lösen uns von den Bits und Byte, stattdessen betrachten wir Zahlen in der Dezimalschreibweise.\n",
    "Vergessen wir einmal die Bits im Speicher und achten nur auf die Zahl ``90`` im obigen Beispiel, so können wir sagen dass sich der Wert ``90`` nicht ändern.\n",
    "Was sich ändert ist die Interpretation: Einmal die ``90`` als Zahl und einmal als Zeichenkette ``'90'``."
   ]
  }
 ],
 "metadata": {
  "jupytext": {
   "formats": "md:myst",
   "text_representation": {
    "extension": ".md",
    "format_name": "myst"
   }
  },
  "kernelspec": {
   "display_name": "Python 3",
   "language": "python",
   "name": "python3"
  },
  "language_info": {
   "codemirror_mode": {
    "name": "ipython",
    "version": 3
   },
   "file_extension": ".py",
   "mimetype": "text/x-python",
   "name": "python",
   "nbconvert_exporter": "python",
   "pygments_lexer": "ipython3",
   "version": "3.9.6"
  },
  "source_map": [
   11,
   20,
   27,
   40,
   43,
   60,
   62,
   83,
   85
  ]
 },
 "nbformat": 4,
 "nbformat_minor": 5
}