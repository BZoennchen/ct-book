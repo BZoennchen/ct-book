{
 "cells": [
  {
   "cell_type": "markdown",
   "id": "meaning-fiction",
   "metadata": {},
   "source": [
    "(sec-binary-drawing)=\n",
    "# Binäres Zeichnen - Struktur ist Information\n",
    "\n",
    "````{admonition} Lernziel\n",
    ":class: learngoals\n",
    "\n",
    "In diesem Abschnitt werden wir das was wir im Abschnitt [Interpretation](sec-interpretation) und [Repräsentation](sec-representation) besprochen hatten konkretisieren.\n",
    "Wir werden eine bestimmte Interpretation nutzten um aus einer Folge von 0 und 1 Bilder \n",
    "\n",
    "```{figure} ../../figs/image-representation/zero-and-one-to-bw-picture.png\n",
    "---\n",
    "width: 200px\n",
    "name: fig-zero-and-one-to-bw-picture\n",
    "---\n",
    "```\n",
    "\n",
    "und Animationen zu generieren.\n",
    "\n",
    "```{figure} ../../figs/image-representation/flower.gif\n",
    "---\n",
    "width: 200px\n",
    "name: fig-flower\n",
    "---\n",
    "```\n",
    "\n",
    "zu repräsentieren.\n",
    "\n",
    "Sie werden lernen wie [Informationen](sec-information) erst durch einen [Interpreter](def-interpreter) eine bestimmte Bedeutung erlangen.\n",
    "Sie werden den Umgang mit mehrdimensionalen ``Python``-[Listen](sec-list) und [Tupeln](sec-tuple) erlernen.\n",
    "Außerdem werden Sie durch die Konstruktion einer eignen Interpretation in eine abstraktere Welt gelangen und sich in dieser austoben.\n",
    "Im Zuge dessen werden Sie Probleme in viele Teilprobleme aufteilen (**Dekomposition**).\n",
    "Sie werden Ihre **Mustererkennung** benötigen und auch **mathematisches Denken** praktizieren.\n",
    "````\n",
    "\n",
    "## Interpretation\n",
    "\n",
    "Wir beginnen mit einem Schwarz-Weiß-Rasterbild.\n",
    "In anderen Worten: Lassen Sie uns unsere eigene Interpretation konstruieren.\n",
    "\n",
    "Wir orientieren uns an dem sog. [Rasterbild](pixel-image).\n",
    "Es hat eine bestimmte Anzahl an Pixel in $x$ und $y$-Richtung.\n",
    "Die Anzahl $n$ in $x$-Richtung bezeichnen wir als Spalten und die Anzahl $m$ in $y$-Richtung bezeichnen wir als Zeilen.\n",
    "Wir wollen lediglich Schwarz-Weiß-Bilder zeichnen können, deshalb benötigen wir nur zwei mögliche Zustände je Pixel.\n",
    "Wir *modellieren* dies mit 0 (schwarz) und 1 (weiß).\n",
    "Das Bild kann als $m \\times n$-Matrix $B$ mit $B \\in \\mathbb{B}^{m \\times n}$ aufgefasst werden.\n",
    "\n",
    "```{exercise} Bits pro Pixel\n",
    ":label: repraesentation-bw-exercise\n",
    "Wie viele *Bits* benötigen Sie für jeden Pixel?\n",
    "```\n",
    "\n",
    "```{solution} repraesentation-bw-exercise\n",
    ":label: repraesentation-bw-solution\n",
    ":class: dropdown\n",
    "Jeder Pixel kann nur einen von zwei Zuständen annehmen, demnach brauchen wir pro Pixel $1$ *Bit*.\n",
    "```\n",
    "\n",
    "Jede Zeile des Bildes repräsentieren wir als Folge von 0 und 1.\n",
    "Da wir unser Bild verändern möchten, eignet sich in ``Python`` hierfür die Liste ``list``."
   ]
  },
  {
   "cell_type": "code",
   "execution_count": null,
   "id": "distinguished-mineral",
   "metadata": {},
   "outputs": [],
   "source": [
    "row = [0, 1, 0, 1, 0, 1, 1]"
   ]
  },
  {
   "cell_type": "markdown",
   "id": "characteristic-luxury",
   "metadata": {},
   "source": [
    "Ein Bild *modellieren* wir wiederum als Liste von Zeilen (Pixelstreifen) oder eben eine Liste von Listen."
   ]
  },
  {
   "cell_type": "code",
   "execution_count": null,
   "id": "written-serbia",
   "metadata": {},
   "outputs": [],
   "source": [
    "picture = [[0, 1, 0, 1, 0, 1, 1], # 1. Zeile\n",
    "           [1, 1, 0, 1, 0, 1, 1], # 2. Zeile\n",
    "           [0, 0, 1, 1, 1, 1, 1], # 3. Zeile\n",
    "           [1, 0, 0, 1, 0, 1, 1]] # 4. Zeile"
   ]
  },
  {
   "cell_type": "markdown",
   "id": "educated-czech",
   "metadata": {},
   "source": [
    "Unsere Interpretation erhält als Argument, d.h., als Repräsentanten eine zweidimensionale Liste aus Binärzahlen und liefert ein Schwarz-Weiß-Bild.\n",
    "Den notwendigen Interpreter, der diese Interpretation realisiert, bietet uns folgende Funktion:"
   ]
  },
  {
   "cell_type": "code",
   "execution_count": null,
   "id": "medical-planet",
   "metadata": {},
   "outputs": [],
   "source": [
    "import matplotlib.pyplot as plt\n",
    "def plot_picture(picture):\n",
    "    plt.imshow(picture, cmap='gray', vmin=0, vmax=1)\n",
    "\n",
    "plot_picture(picture)"
   ]
  },
  {
   "cell_type": "markdown",
   "id": "endless-biography",
   "metadata": {},
   "source": [
    "### Listen in Python\n",
    "\n",
    "Bevor wir weiter fortfahren, lassen Sie uns einen wiederholten Blick auf die ``Python``-Liste werfen.\n",
    "Eine ausführlichere Diskussion zu Listen finden Sie im Abschnitt [Listen](sec-list) im Teil **PYTHON**.\n",
    "\n",
    "Der Zugriff auf einzelne Listenelemente einer zweidimensionalen Liste unterscheidet sich im Endeffekt nicht von dem der eindimensionalen Liste.\n",
    "Mit"
   ]
  },
  {
   "cell_type": "code",
   "execution_count": null,
   "id": "sorted-corps",
   "metadata": {},
   "outputs": [],
   "source": [
    "picture[3][5]"
   ]
  },
  {
   "cell_type": "markdown",
   "id": "interracial-circle",
   "metadata": {},
   "source": [
    "greifen wir auf die vierte Liste der Liste ``picture`` zu und in dieser auf das sechste Element.\n",
    "Bedenken Sie, dass der Index einer Liste mit 0 startet.\n",
    "Im Falle unseres Bildes entspricht dies dem Zugriff des sechsten Elements in der vierten Zeile.\n",
    "\n",
    "Wenn Sie mit Listen arbeiten, ist es wichtig zu wissen wie diese im Speicher abgelegt werden, siehe Abschnitt [Listen und der Speicher](sec-list-and-memory).\n",
    "Wenn wir unser Rasterbild aus Listen von Listen konstruieren müssen wir dieses Wissen mit einbeziehen.\n",
    "Folgender Code erzeugt ein Bild mit zwei [identischen](def-identity) Zeilen zu erzeugen."
   ]
  },
  {
   "cell_type": "code",
   "execution_count": null,
   "id": "bound-seller",
   "metadata": {},
   "outputs": [],
   "source": [
    "row = [0, 1, 0, 1, 0, 1, 1]\n",
    "picture = [row, row]"
   ]
  },
  {
   "cell_type": "markdown",
   "id": "expressed-offset",
   "metadata": {},
   "source": [
    "Da die beiden Zeilen identische sind, entsteht ein merkwürdiges Phänomen, welches die folgende Aufgabe zum Vorschein bringt.\n",
    "\n",
    "```{exercise} Kopie einer Liste\n",
    ":label: copy-list-exercise\n",
    "Ändern Sie einen einzelnen Pixel des eben konstruierten Bildes ``picture`` und lassen Sie sich das Ergebnis anzeigen.\n",
    "Was stellen Sie fest?\n",
    "```\n",
    "\n",
    "````{solution} copy-list-exercise\n",
    ":label: rcopy-list-solution\n",
    ":class: dropdown\n",
    "Ändern wir einen Pixel einer Zeile, z.B. durch\n",
    "\n",
    "```python\n",
    "picture[0][0] = 1\n",
    "```\n",
    "\n",
    "so ändert wir sowohl ``picture[0][0]`` als auch ``picture[1][0]``.\n",
    "````\n",
    "\n",
    "Unser Bild enthält nicht nur zwei [gleiche](def-equality) sondern zwei [identische](def-identity) Zeilen.\n",
    "Die Zeile, also der Wert ``[0, 1, 0, 1, 0, 1, 1]`` wird nicht kopiert.\n",
    "Stattdessen wird die Speicheradresse kopiert, sodass beide Einträge der Liste ``picture`` die gleiche Adresse enthalten:"
   ]
  },
  {
   "cell_type": "code",
   "execution_count": null,
   "id": "fatty-plane",
   "metadata": {},
   "outputs": [],
   "source": [
    "print(f'Address of first row is {id(picture[0])}')\n",
    "print(f'Address of second row is {id(picture[1])}')"
   ]
  },
  {
   "cell_type": "markdown",
   "id": "prostate-decrease",
   "metadata": {},
   "source": [
    "Um das gewünschte Ergebnis zu erzielen, müssen wir den Wert der Liste ``row`` und nicht deren Adresse kopieren.\n",
    "In anderen Worten: Wir müssen eine *tiefe* und keine *flache Kopie* anlegen, siehe Abschnitt [Tiefe und flache Kopie](sec-copy-of-ds).\n",
    "Hierzu bietet uns ``Python`` die Listen-Methode ``copy()`` an:"
   ]
  },
  {
   "cell_type": "code",
   "execution_count": null,
   "id": "vanilla-procurement",
   "metadata": {},
   "outputs": [],
   "source": [
    "row = [0, 1, 0, 1, 0, 1, 1]\n",
    "picture = [row.copy(), row.copy()]"
   ]
  },
  {
   "cell_type": "markdown",
   "id": "wooden-emperor",
   "metadata": {},
   "source": [
    "Da nun alle Listenelemente in ``row`` kopiert werden, können Sie sicher sein, dass Änderungen der Listenelemente nur jene eine Liste betreffen.\n",
    "Bedenken Sie jedoch, dass ``copy`` nicht zwangsläufig eine *tiefe Kopie* erzeugt.\n",
    "Es kopiert lediglich die Elemente einer Liste indem deren Adressen kopiert werden.\n",
    "Ist Ihre Liste eine mehrdimensionale Liste, laufen Sie in das gleiche Problem:"
   ]
  },
  {
   "cell_type": "code",
   "execution_count": null,
   "id": "renewable-ultimate",
   "metadata": {},
   "outputs": [],
   "source": [
    "row = [0, 1, 0, 1, 0, 1, 1]\n",
    "picture = [row.copy(), row.copy()]\n",
    "picture_copy = picture.copy()\n",
    "picture_copy[0][0] = 1\n",
    "\n",
    "print(picture[0][0])\n",
    "print(picture_copy[0][0])"
   ]
  },
  {
   "cell_type": "markdown",
   "id": "weird-jamaica",
   "metadata": {},
   "source": [
    "```{admonition} Tiefe Kopie in Python\n",
    ":class: remark\n",
    ":name: remark-deep-copy-python\n",
    "\n",
    "Verwenden Sie die Funktion ``deepcopy`` des Moduls ``copy`` um eine *tiefe Kopie* in ``Python`` zu erzeugen.\n",
    "```\n",
    "\n",
    "Um Listen zu verketten, können Sie in ``Python`` den ``+``-Operator verwenden."
   ]
  },
  {
   "cell_type": "code",
   "execution_count": null,
   "id": "addressed-island",
   "metadata": {},
   "outputs": [],
   "source": [
    "[1,2,3,4] + [5,6,7,8]"
   ]
  },
  {
   "cell_type": "markdown",
   "id": "marked-anxiety",
   "metadata": {},
   "source": [
    "Das Ergebnis ist eine neue eindimensionale Liste die alle Elemente der beiden Listen in genau jener Reihenfolge enthält.\n",
    "Allerdings unterscheidet ``Python`` zwischen \n",
    "\n",
    "```python\n",
    "mylist += other_list\n",
    "```\n",
    "\n",
    "und\n",
    "\n",
    "```python\n",
    "mylist = mylist + other_list\n",
    "```\n",
    "\n",
    "Ersteres, also ``+=``, führt eine [veränderbare](def-mutable) (engl. *mutable*) Konkatenation durch, d.h. hier wird ``mylist`` verändert.\n",
    "Letzteres, also ``mylist + other_list``, führt eine [unveränderbare](def-mutable) (engl. *immutable*) Konkatenation durch, wodurch eine Kopie erzeugt wird. D.h. ``mylist = mylist + other_list`` erzeugt eine völlig neue Liste und ordnet es ``mylist`` zu.\n",
    "\n",
    "Sie mögen nun denken, dass Ergebnis ist doch identisch?\n",
    "Sehen wir uns folgenden Code an:"
   ]
  },
  {
   "cell_type": "code",
   "execution_count": null,
   "id": "interesting-player",
   "metadata": {},
   "outputs": [],
   "source": [
    "def concat_immutable(list1,list2):\n",
    "    concat = list1 + list2\n",
    "    return concat\n",
    "\n",
    "def concat_mutable(list1,list2):\n",
    "    list1 += list2\n",
    "    return list1\n",
    "\n",
    "a = [1,2,3,4]\n",
    "b = [5,6,7,8]\n",
    "c = concat_immutable(a,b)\n",
    "print(f'a = {a}')\n",
    "print(f'b = {b}')\n",
    "print(f'c = {c}')\n",
    "\n",
    "c = concat_mutable(a,b)\n",
    "print(f'a = {a}')\n",
    "print(f'b = {b}')\n",
    "print(f'c = {c}')"
   ]
  },
  {
   "cell_type": "markdown",
   "id": "following-updating",
   "metadata": {},
   "source": [
    "``concat_mutable`` verändert ``list1`` und da es sich nicht um einen [primitiven Datentyp](def-primitive-datatypes) handelt, wird nur die Referenz kopiert und nicht die Liste ``a`` selbst.\n",
    "Somit wird ``a += b`` ausgeführt und ``a`` wird verändert.\n",
    "Dies bezeichnen wir als sogenannten [Seiteneffekt](def-side-effect) und in diesem Fall ist es ein *unerwarteter Seiteneffekt*, den wir vermeiden sollten!\n",
    "Dennoch ist ``+=`` immer dann sehr sinnvoll wenn Sie eine Liste sukzessive füllen wollen.\n",
    "Denn jedes Mal die gesamte Liste zu kopieren kann zu einer langen Laufzeit führen.\n",
    "\n",
    "\n",
    "````{exercise} Immutable vs. Mutable\n",
    ":label: mutable-vs-immutable-concat\n",
    "Welcher der beiden Funktionen wird bei gleicher Eingabe in kürzerer Zeit ablaufen und warum?\n",
    "Testen Sie beide Versionen für große ``n`` > 0.\n",
    "\n",
    "```python\n",
    "def my_range_mutable(n):\n",
    "    number = []\n",
    "    for i in range(n):\n",
    "        number += [i]\n",
    "    return number\n",
    "\n",
    "def my_range_immutable(n):\n",
    "    number = []\n",
    "    for i in range(n):\n",
    "        number = number + [i]\n",
    "    return number\n",
    "````\n",
    "\n",
    "Um über die Elemente einer Liste zu *iterieren*, verwendet man in ``Python`` die ``for``-[Schleife](sec-for) und wie immer bestimmt die [Einrückung](https://www.python-kurs.eu/python3_bloecke.php) die Strukturierung (``Python`` verzichtet auf Klammern):"
   ]
  },
  {
   "cell_type": "code",
   "execution_count": null,
   "id": "guilty-motel",
   "metadata": {},
   "outputs": [],
   "source": [
    "for row in picture:\n",
    "    print(row)"
   ]
  },
  {
   "cell_type": "markdown",
   "id": "hourly-quantity",
   "metadata": {},
   "source": [
    "```{exercise} Iteration\n",
    ":label: iteration-exercise\n",
    "Schreiben Sie einen Code der jedes Pixel des Bildes einzeln durch ``print()`` ausgibt.\n",
    "```"
   ]
  },
  {
   "cell_type": "code",
   "execution_count": null,
   "id": "dental-amsterdam",
   "metadata": {},
   "outputs": [],
   "source": [
    "for row in picture:\n",
    "    for pixel in row:\n",
    "        print(pixel)"
   ]
  },
  {
   "cell_type": "markdown",
   "id": "south-orlando",
   "metadata": {},
   "source": [
    "(sec-python-function)=\n",
    "### Funktionen in Python\n",
    "\n",
    "[Funktionen](sec-functions) definieren wir mit dem Schlüsselwort ``def`` gefolgt vom Funktionsnamen und den [Parametern](def-parameter)  der Funktion sowie ihrer Logik.\n",
    "Die Werte, die diese *Parameter* beim Funktionsaufruf annehmen, nennen wir *Argumente*.\n",
    "\n",
    "Falls Sie mit Ihrer Funktion einen Wert, eine Liste, oder ein anderes Objekt zurückgeben möchten nutzen Sie das ``return``-Schlüsselwort.\n",
    "Zum Beispiel:"
   ]
  },
  {
   "cell_type": "code",
   "execution_count": null,
   "id": "interior-column",
   "metadata": {},
   "outputs": [],
   "source": [
    "x = 10\n",
    "c = 100\n",
    "def add(x, y):\n",
    "    c = x + y\n",
    "    return c\n",
    "add(15, x)"
   ]
  },
  {
   "cell_type": "markdown",
   "id": "automatic-angola",
   "metadata": {},
   "source": [
    "Die [Variablen](sec-variables) ``x`` und ``c`` außerhalb der Funktion befinden sich in einem anderen [Namensraum](sec-namespaces).\n",
    "Deshalb bleiben diese unverändert.\n",
    "\n",
    "Durch den obigen Aufruf wird der Parameter ``x`` auf eine Speicheradresse gesetzt, die auf den Wert ``15`` *referenziert*.\n",
    "``y`` hingegen wird auf die Speicheradresse von ``x`` (welches sich außerhalb der Funktion befindet) gesetzt.\n",
    "``c`` wird zu ``25`` und wird zurückgegeben.\n",
    "\n",
    "Falls ``y`` innerhalb der Funktion verändert wird, würde ``Python`` eine neue Kopie des Werts im Speicher anlegen, da es sich um einen *unveränderlichen* (*immutable*) Datentyp handelt.\n",
    "Alle [atomaren Datentypen](def-atomare-data-types) wie ``int, float, bool`` aber auch ``str``(Zeichenketten) und ``tuple`` sind unveränderlich.\n",
    "Listen jedoch nicht!\n",
    "\n",
    "Eine gute Übung ist es eine mehrdimensionale Liste zu *abzuflachen* (engl. *flatten*), d.h., aus einer mehrdimensionalen Liste wird eine Liste, welche eine Dimension weniger hat erzeugt.\n",
    "Hierbei bleibt die Reihenfolge der Elemente gewöhnlich erhalten.\n",
    "\n",
    "\n",
    "```{exercise} Flatten\n",
    ":label: flatten-exercise\n",
    "Schreiben Sie eine Funktion ``flatten(mylist)``, die die $n$-dimensionalen Liste ``mylist`` in eine $n-1$-dimensionale Liste transformiert.\n",
    "Zum Beispiel soll aus ``[[[1,2], [3,3]], [[1,3], [4,5]]]``, also einer $3$-dimensionalen Liste, ``[[1,2], [3,3], [1,3], [4,5]]``, also eine $2$-dimensionale Liste werden.\n",
    "```"
   ]
  },
  {
   "cell_type": "code",
   "execution_count": null,
   "id": "likely-gross",
   "metadata": {},
   "outputs": [],
   "source": [
    "def flatten(mylist):\n",
    "    result = []\n",
    "    for sub_list in mylist:\n",
    "        for element in sub_list:\n",
    "            result.append(element)\n",
    "\n",
    "    return result\n",
    "\n",
    "flatten([[[1,2], [3,3]], [[1,3], [4,5]]])"
   ]
  },
  {
   "cell_type": "markdown",
   "id": "organized-reset",
   "metadata": {},
   "source": [
    "In unserer Lösung bewirkt ``result.append(element)`` das gleich wie ``result += [element]`` jedoch ist die erste Version klarer zu lesen denn wir wollen das Element ``element`` anhängen (engl. append).\n",
    "\n",
    "## Informationserzeugung\n",
    "\n",
    "```{exercise} Bild generieren\n",
    ":label: representation-pic-with-border\n",
    "Generieren Sie ein weißes $10 \\times 10$ Rasterbild.\n",
    "Dieses soll einen schwarzen Rand besitzen, welches einen Pixel breit ist.\n",
    "Nutzen Sie die Programmierung um sich Zeit zu sparen!\n",
    "```"
   ]
  },
  {
   "cell_type": "code",
   "execution_count": null,
   "id": "killing-philadelphia",
   "metadata": {},
   "outputs": [],
   "source": [
    "top = [0 for i in range(10)]\n",
    "center = [0] + [1 for i in range(8)] + [0]\n",
    "picture = [top.copy()] + [center.copy() for i in range(8)] + [top.copy()]\n",
    "picture"
   ]
  },
  {
   "cell_type": "markdown",
   "id": "light-leisure",
   "metadata": {},
   "source": [
    "Auch bei der Erzeugung dieses Bilds müssen Sie darauf achten die richtige Art von Kopien zu erzeugen.\n",
    "Um sich Code zu sparen kann das sog. [List-Comprehension](sec-comprehension) Ihnen Zeit beim Schreiben sparen.\n",
    "\n",
    "````{admonition} List Comprehension (Python)\n",
    ":class: dropdown python\n",
    ":name: python-list-comprehension\n",
    "Das [List-Comprehension](sec-comprehension) ist eine kurze [Syntax](def-syntax) um aus einer bestehenden Sequenz/Liste eine neue Liste zu erzeugen.\n",
    "\n",
    "**Beispiel:**\n",
    "```python\n",
    "[0 for i in range(10)]\n",
    "```\n",
    "\n",
    "oder\n",
    "\n",
    "```python\n",
    "[0 for _ in range(10)]\n",
    "```\n",
    "\n",
    "sind Kurformen von\n",
    "```python\n",
    "newlist = []\n",
    "for _ in range(10):\n",
    "    newlist.append(0)\n",
    "```\n",
    "\n",
    "und erzeugen aus der Sequenz ``0,1,2,3,4,5,6,7,8,9`` die Liste ``[0,0,0,0,0,0,0,0,0,0]``.\n",
    "````\n",
    "\n",
    "```{exercise} Bild manipulieren\n",
    "Testen Sie Ihr generiertes Bild.\n",
    "Ändern Sie den Pixel in der 5-ten Zeile und und 5-ten Spalte, sowie einen Pixeln in der ersten Spalte und einen in der ersten Zeile\n",
    "```"
   ]
  },
  {
   "cell_type": "code",
   "execution_count": null,
   "id": "numerical-relevance",
   "metadata": {},
   "outputs": [],
   "source": [
    "picture[4][4] = 1\n",
    "picture"
   ]
  },
  {
   "cell_type": "code",
   "execution_count": null,
   "id": "mexican-oregon",
   "metadata": {},
   "outputs": [],
   "source": [
    "picture[4][0] = 1\n",
    "picture"
   ]
  },
  {
   "cell_type": "code",
   "execution_count": null,
   "id": "buried-institute",
   "metadata": {},
   "outputs": [],
   "source": [
    "picture[0][4] = 1\n",
    "picture"
   ]
  },
  {
   "cell_type": "markdown",
   "id": "proper-semiconductor",
   "metadata": {},
   "source": [
    "```{exercise} Variables Bild generieren\n",
    "Schreiben Sie eine Funktion, die Ihnen ein weißes Bild mit schwarzem Rand generiert.\n",
    "Dabei soll die Breite ``width`` und Höhe ``height`` sowie die Randbreite ``border_width`` ein Parameter der Funktion sein.\n",
    "```"
   ]
  },
  {
   "cell_type": "code",
   "execution_count": null,
   "id": "regulated-pressure",
   "metadata": {},
   "outputs": [],
   "source": [
    "def generate_border_picture(width=10, height=10, border_width=1):\n",
    "    picture = []\n",
    "    \n",
    "    yborder = min(border_width,height)\n",
    "    xborder = min(border_width,width)\n",
    "    top = [0 for _ in range(width)]\n",
    "    for _ in range(yborder):\n",
    "        picture.append(top.copy())\n",
    "        \n",
    "    for _ in range(height-2*border_width):\n",
    "        picture.append(\n",
    "            [0 for _ in range(xborder)] + \n",
    "            [1 for _ in range(width-2*border_width)] + \n",
    "            [0 for _ in range(xborder)])\n",
    "    \n",
    "    for _ in range(min(border_width,height-yborder)):\n",
    "        picture.append(top.copy())\n",
    "    return picture\n",
    "generate_border_picture(width=5, height=10, border_width=2)"
   ]
  },
  {
   "cell_type": "markdown",
   "id": "parental-delay",
   "metadata": {},
   "source": [
    "```{exercise} Variable Bildgenerierung testen\n",
    "Testen Sie Ihre Funktion insbesondere für besondere Werte wie ``border_width > width``.\n",
    "```\n",
    "\n",
    "````{exercise} Variable Bildgenerierung testen\n",
    "Folgende Funktion plottet Ihr Bild.\n",
    "```python\n",
    "import matplotlib.pyplot as plt\n",
    "def plot_picture(picture):\n",
    "    plt.imshow(picture, cmap='gray', vmin=0, vmax=1)\n",
    "```\n",
    "Sehen Sie sich die dazugehörige [Dokumentation](https://matplotlib.org/stable/api/_as_gen/matplotlib.pyplot.imshow.html) an und nutzen Sie die Funktion.\n",
    "````\n",
    "\n",
    "Mit folgendem Code können wir uns unser Bild anzeigen."
   ]
  },
  {
   "cell_type": "code",
   "execution_count": null,
   "id": "assumed-tonight",
   "metadata": {},
   "outputs": [],
   "source": [
    "picture = generate_border_picture(width=5, height=10, border_width=1)\n",
    "plot_picture(picture)"
   ]
  },
  {
   "cell_type": "markdown",
   "id": "exclusive-advocacy",
   "metadata": {},
   "source": [
    "## Informationsmanipulation\n",
    "\n",
    "Wir haben bereits jetzt ein neues Bildformat geschaffen und ein kleines Programm, welches unser Format interpretieren und als Rasterbild anzeigt.\n",
    "In anderen Worten, unsere erdachte [Interpretation](sec-interpretation) wurde realisiert.\n",
    "\n",
    "Jetzt können wir uns austoben und weitere Bilder generieren.\n",
    "Wie wäre es zum Beispiel mit einem Kreis, Rechteck oder Dreieck?\n",
    "Diese Objekte direkt als Ansammlung von Pixeln zu beschreiben ist schwierig und unflexibel.\n",
    "\n",
    "Was uns das Leben deutlich leichter macht, ist die Einführung einer weiteren Interpretation.\n",
    "Diese soll uns in eine **abstraktere** Welt ka­ta­pul­tie­ren.\n",
    "In anderen Worten: Wir konstruieren eine Interpretation die geometrische (mathematische) Objekten wie den Kreis, ein Rechteck oder Dreieck (Repräsentanten) in eine zweidimensionale Liste aus 0 und 1 (Bedeutung) übersetzt.\n",
    "Diese Übersetzung bezeichnet man auch als **Digitalisierung**.\n",
    "\n",
    "```{figure} ../../figs/image-representation/point-to-pixel.png\n",
    "---\n",
    "height: 350px\n",
    "name: fig-point-to-pixel\n",
    "---\n",
    "```\n",
    "\n",
    "Unsere geometrischen Objekte haben reelle Koordinaten z.B. können wir einen Kreis durch seinen Mittelpunkt $c = (x,y)$ und Radius $r$ eindeutig beschreiben.\n",
    "Um die Koordinaten in Pixelkoordinaten zu transformieren legen wir auf das Rasterbild ein reeles Koordinatensystem. \n",
    "Hat unser Bild $n \\times n$ Pixelbild und wir möchten den Raum $10 \\times 10 \\subset \\mathbb{R}^2$ durch das Bild abbilden, entspricht die erste Bildzeile dem Raum $10 \\times 1$.\n",
    "\n",
    "Um keine Verzerrung zu erhalten sollten Pixel in $x$ und in $y$ Richtung gleich viel Anteil des Euklidischen Raumes überziehen.\n",
    "Die Auflösung ``resolution`` gibt an wie viel Raum ein Pixel repräsentiert.\n",
    "Bei einer ``resolution = 0.1`` repräsentiert ein Pixel den Raum $0.1 \\times 0.1$.\n",
    "Anders ausgedrückt, braucht es $10 \\times 10$ Pixel um den Raum $1 \\times 1$ im $\\mathbb{R}^2$ zu repräsentieren.\n",
    "\n",
    "Kennen wir die ``resolution``, die Anzahl der Pixel in $x$-Richtung ``cols``, die Anzahl der Pixel in $y$-Richtung ``rows`` und gehen davon aus, dass der Raum $R$ den wir Abbilden möchten in $(0,0)$ beginnt und nur positive Werte enthält, also $R = [0;w] \\times [0;h]$, dann können wir für einen gegebenen Punkt $p = (x,y) \\in \\mathbb{R}^2$ den Pixel $(i,j) \\in \\mathbb{N}^2$ berechnen der $p$ enthält.\n",
    "\n",
    "```{exercise} Pixel berechnen\n",
    "Schreiben Sie eine Funktion ``to_pixel(p, resolution)`` die Ihnen den Pixel ``(i,j)`` zurückgibt der den Punkt ``p = (x,y)`` enthält.\n",
    "Bedenken Sie, dass die Indexierung der Pixel mit 0 beginnt.\n",
    "```"
   ]
  },
  {
   "cell_type": "code",
   "execution_count": null,
   "id": "emotional-mistress",
   "metadata": {},
   "outputs": [],
   "source": [
    "def to_pixel(p, resolution):\n",
    "    x, y = p\n",
    "    return int(x / resolution), int(y/ resolution)\n",
    "\n",
    "to_pixel((0.7, 0), 0.5)"
   ]
  },
  {
   "cell_type": "markdown",
   "id": "guilty-privilege",
   "metadata": {},
   "source": [
    "Soweit so gut!\n",
    "Widmen wir uns nun dem Problem ein Rechteck bzw. Dreieck zu zeichnen.\n",
    "Wir wenden die **Mustererkennung** an und bemerken, dass sowohl das Dreieck als auch das Rechteck aus Segmenten besteht (drei für das Dreieck und 4 für das Rechteck).\n",
    "Deshalb können wir das Problem in das Zeichnen mehrere Segmente **zerteilen**.\n",
    "\n",
    "Ein Segment können wir durch zwei Punkte $p_1 = (x_1, y_1)$ und $p_2 = (x_2, y_2)$ definieren.\n",
    "Wir könnten aus den Punkten die Geradengleichung $f(x) = mx + t$ berechnen und diese 'abfahren'.\n",
    "Hier würden wir jedoch auf unangenehme Sonderfälle stoßen.\n",
    "Zum Beispiel, lässt sich ein Segment was parallel zur $y$-Achse verläuft nicht durch eine Funktion beschreiben.\n",
    "\n",
    "```{figure} ../../figs/image-representation/midpoint.png\n",
    "---\n",
    "width: 300px\n",
    "name: fig-midpoint\n",
    "---\n",
    "```\n",
    "\n",
    "Was sagt uns folgende Beobachtung:\n",
    "Ist $p_1, p_2$ gegeben dann ist der Mittelpunkt $m_1 = ((x_1 + x_2)/2, (y_1 + y_2)/2)$ Teil des Segments.\n",
    "Außerdem erhalten wir neue Segmente $(p_1,m_1)$ und $(m_1,p_2)$.\n",
    "Wir können dies mit den beiden neuen Segmenten wiederholen und erhalten vier neue Segmente.\n",
    "Diesen Vorgang können wir solange fortsetzen, bis ein Segment komplett in einem Pixel enthalten ist und eine weitere Verfeinerung keine Wirkung mehr erzeugt.\n",
    "\n",
    "Wir können diesen Vorgang [rekursiv](sec-recursion) realisieren.\n",
    "Das heißt die Funktion, welche den Mittelpunkt berechnet, wird innerhalb dieser Funktion erneut aufgerufen.\n",
    "Das kann endlos so weiter gehen und wir müssen uns eine **Abbruchbedingung** überlegen.\n",
    "\n",
    "```{exercise} Mittelpunkt berechnen\n",
    "Schreiben Sie eine Funktion ``midpoint(p1, p2)`` die Ihnen den Mittelpunkt ``(mx,my)`` des Segments ``(p1=(x1,y1), p2=(x2, y2))`` zurückgibt.\n",
    "```"
   ]
  },
  {
   "cell_type": "code",
   "execution_count": null,
   "id": "floppy-harvard",
   "metadata": {},
   "outputs": [],
   "source": [
    "def midpoint(p1, p2):\n",
    "    return (p1[0]+p2[0])/2, (p1[1]+p2[1])/2\n",
    "\n",
    "midpoint((0,0),(3,3))"
   ]
  },
  {
   "cell_type": "markdown",
   "id": "characteristic-bearing",
   "metadata": {},
   "source": [
    "````{exercise} Länge berechnen\n",
    "Schreiben Sie eine Funktion ``distance(p1,p2)``, die Ihnen die Länge des Segments ``(p1=(x1,y1), p2=(x2, y2))`` zurückgibt.\n",
    "\n",
    "**Tipp:** Sie können die Funktion ``sqrt`` der ``numpy`` Bibliothek verwenden, d.h.\n",
    "\n",
    "```python\n",
    "import numpy as np\n",
    "...\n",
    "np.sqrt(...)\n",
    "...\n",
    "```\n",
    "\n",
    "````\n",
    "\n",
    "``distance()`` können wir als Abbruchbedingung der Rekursion verwenden.\n",
    "Ist ``distance(p1,p2) <= resolution`` macht es keinen großen Sinn mehr das Segment ``(p1,p2)`` weiter zu verkleinern. \n",
    "\n",
    "```{exercise} Segmentpunkte erzeugen\n",
    "Schreiben Sie eine Funktion ``line(p1, p2, resolution)``, die Ihnen Punkte des Segments ``(p1,p2)`` erzeugt und als Liste zurückgibt.\n",
    "```"
   ]
  },
  {
   "cell_type": "code",
   "execution_count": null,
   "id": "consolidated-convertible",
   "metadata": {
    "tags": [
     "output_scroll"
    ]
   },
   "outputs": [],
   "source": [
    "import numpy as np\n",
    "def distance(p1, p2):\n",
    "    return np.sqrt((p1[0]-p2[0])**2 + (p1[1]-p2[1])**2)\n",
    "\n",
    "def split(p1, p2, resolution, points):\n",
    "    if distance(p1,p2) <= resolution:\n",
    "        return points\n",
    "    m1 = midpoint(p1, p2)\n",
    "    points.append(m1)\n",
    "    split(p1,m1,resolution,points)\n",
    "    split(m1,p2,resolution,points)\n",
    "    return points\n",
    "\n",
    "def line(p1, p2, resolution):\n",
    "    points = []\n",
    "    split(p1, p2, resolution, points)\n",
    "    return points\n",
    "line((0,0),(3,0),0.1)"
   ]
  },
  {
   "cell_type": "markdown",
   "id": "major-activation",
   "metadata": {},
   "source": [
    "Mit ``line`` können wir Punkte eines Segments erzeugen und durch ``to_pixel`` können wir diese Punkte in Pixel umwandeln.\n",
    "Lassen Sie uns ein Bild einer Geraden zeichnen:"
   ]
  },
  {
   "cell_type": "code",
   "execution_count": null,
   "id": "departmental-australian",
   "metadata": {},
   "outputs": [],
   "source": [
    "resolution = 0.1\n",
    "picture = generate_border_picture(width=100, height=100, border_width=0)\n",
    "points = line((1,1), (9,9), resolution)\n",
    "pixels = list(map(lambda point: to_pixel(point, resolution), points))\n",
    "for pixel in pixels:\n",
    "    picture[pixel[1]][pixel[0]] = 0\n",
    "    \n",
    "plot_picture(picture)"
   ]
  },
  {
   "cell_type": "markdown",
   "id": "formed-checkout",
   "metadata": {},
   "source": [
    "Das sieht schon recht gut aus.\n",
    "Da der Pixel ``picture[0][0]`` rechts oben ist, ist unser Koordinatensystem an der $x$-Achse gespiegelt und nach oben verschoben, was wir vernachlässigen können.\n",
    "\n",
    "```{exercise} Linie zeichnen\n",
    "Schreiben Sie eine Funktion ``draw_line(picture, p1, p2, resolution)``, die das Segment ``(p1,p2)`` in das Bild ``picture`` hinein zeichnen.\n",
    "Behandeln Sie auch den Fall, dass das Segment nicht in das Bild passt (es soll dann kein Fehler erscheinen, sondern der Teil der nicht hinein passt wird abgeschnitten).\n",
    "```"
   ]
  },
  {
   "cell_type": "code",
   "execution_count": null,
   "id": "studied-homework",
   "metadata": {},
   "outputs": [],
   "source": [
    "def contains_pixel(picture, pixel):\n",
    "    return pixel[0] >= 0 and pixel[0] < len(picture) and pixel[1] >= 0 and pixel[1] < len(picture[0])\n",
    "\n",
    "def draw_line(picture, p1, p2, resolution):\n",
    "    points= line(p1, p2, resolution)\n",
    "    pixels = list(map(lambda point: to_pixel(point, resolution), points))\n",
    "    for pixel in pixels:\n",
    "        if contains_pixel(picture, pixel):\n",
    "            picture[pixel[1]][pixel[0]] = 0\n",
    "\n",
    "resolution = 0.1\n",
    "picture = generate_border_picture(width=100, height=100, border_width=0)\n",
    "draw_line(picture, (-1,-1), (11,11), resolution)\n",
    "plot_picture(picture)"
   ]
  },
  {
   "cell_type": "markdown",
   "id": "mathematical-preference",
   "metadata": {},
   "source": [
    "Jetzt haben wir alle Teilprobleme gelöst und können das Dreieck bzw. Rechteck zeichnen.\n",
    "\n",
    "```{exercise} Dreieck zeichnen\n",
    "Schreiben Sie eine Funktion ``draw_triangle(picture, p1, p2, p3, resolution)`` die das Dreieck ``(p1,p2,p3)`` in das Bild ``picture`` hinein zeichnet.\n",
    "```"
   ]
  },
  {
   "cell_type": "code",
   "execution_count": null,
   "id": "formed-party",
   "metadata": {},
   "outputs": [],
   "source": [
    "def draw_triangle(picture, p1, p2, p3, resolution):\n",
    "    draw_line(picture, p1, p2, resolution)\n",
    "    draw_line(picture, p2, p3, resolution)\n",
    "    draw_line(picture, p3, p1, resolution)\n",
    "    \n",
    "resolution = 0.1\n",
    "picture = generate_border_picture(width=100, height=100, border_width=0)\n",
    "draw_triangle(picture, (1,1), (5,9), (9,1), resolution)\n",
    "plot_picture(picture)"
   ]
  },
  {
   "cell_type": "markdown",
   "id": "mechanical-hebrew",
   "metadata": {},
   "source": [
    "```{exercise} Rechteck zeichnen\n",
    "Schreiben Sie eine Funktion ``draw_rectangle(picture, p1, p2, p3, p4, resolution)`` die das Rechteck ``(p1,p2,p3,p4)`` in das Bild ``picture`` hinein zeichnet.\n",
    "```"
   ]
  },
  {
   "cell_type": "code",
   "execution_count": null,
   "id": "collected-unknown",
   "metadata": {},
   "outputs": [],
   "source": [
    "def draw_rectangle(picture, p1, p2, p3, p4, resolution):\n",
    "    draw_line(picture, p1, p2, resolution)\n",
    "    draw_line(picture, p2, p3, resolution)\n",
    "    draw_line(picture, p3, p4, resolution)\n",
    "    draw_line(picture, p4, p1, resolution)\n",
    "    \n",
    "resolution = 0.1\n",
    "picture = generate_border_picture(width=100, height=100, border_width=0)\n",
    "draw_rectangle(picture, (1,1), (1,9), (9,9), (9,1), resolution)\n",
    "plot_picture(picture)"
   ]
  },
  {
   "cell_type": "markdown",
   "id": "limited-festival",
   "metadata": {},
   "source": [
    "Wenn wir uns die beiden Funktionen ``draw_triangle`` und ``draw_rectangle`` genauer ansehen und unsere **Mustererkennung** aktivieren, könnte uns etwas auffallen?\n",
    "Die Funktionen gleichen sich!\n",
    "Beide zeichnen eine Sequenz/Liste von zusammenhängenden Segmenten oder anders gesagt: Beide zeichnen ein Polygon!\n",
    "\n",
    "```{exercise} Polygon zeichnen\n",
    "Schreiben Sie eine Funktion ``draw_polygon(picture, polygon, resolution)`` die das Polygon ``polygon = (p1,p2,p3,p4,p5,...)`` in das Bild ``picture`` hinein zeichnet.\n",
    "``polygon`` kann eine Liste oder Tupel aus Punkten sein.\n",
    "\n",
    "**Annahme:** Gehen Sie davon aus, dass die Reihenfolge der Punkte korrekt ist.\n",
    "```"
   ]
  },
  {
   "cell_type": "code",
   "execution_count": null,
   "id": "appropriate-edwards",
   "metadata": {},
   "outputs": [],
   "source": [
    "def draw_polygon(picture, polygon, resolution):\n",
    "    for i in range(len(polygon)):\n",
    "        draw_line(picture, polygon[i-1], polygon[i], resolution)\n",
    "    \n",
    "resolution = 0.1\n",
    "picture = generate_border_picture(width=100, height=100, border_width=0)\n",
    "draw_polygon(picture, ((1,1), (1,9), (9,9), (9,1)), resolution)\n",
    "plot_picture(picture)"
   ]
  },
  {
   "cell_type": "markdown",
   "id": "little-audio",
   "metadata": {},
   "source": [
    "Dreieck, Rechteck und Polygon hätten wir geschafft.\n",
    "Für den Kreis $K$ müssen wir zurück in unsere **abstrakte** Welt der geometrischen Objekte, denn einen Kreis mit lauter Segmenten darzustellen macht wenig Sinn.\n",
    "\n",
    "Die Punkte eines Kreises lassen sich durch eine *Kurve* beschreiben.\n",
    "Sie der Kreis durch seinen Mittelpunkt $m = (x_m, y_m)$ und den radius $r$ beschrieben dann sind\n",
    "\n",
    "$$K = \\{(x_m + \\cos(t) \\cdot r, y_m + \\sin(t) \\cdot r) : t \\in [0;2\\pi]\\}$$\n",
    "\n",
    "die Punkte des Kreises bzw. der Kreis selbst.\n",
    "Um den Kreis zu zeichnen unterteilen wir einfach das Intervall $[0;2\\pi]$ in $n$ Teile und erhalten so $n$ Punkte.\n",
    "Wir könnten z.B. $n$ so wählen dass $2\\pi / n <$ ``resolution`` ist. \n",
    "\n",
    "```{exercise} Kreis zeichnen\n",
    "Schreiben Sie eine Funktion ``draw_circle(picture, circle, resolution)``, die den Kreis ``circle = (m=(x,y), r)`` in das Bild ``picture`` hinein zeichnet.\n",
    "Sie können erneut ``numpy`` verwenden, d.h. ``np.sin()``, ``np.cos()``, ``np.pi`` und (optional) ``np.linspace()``.\n",
    "```"
   ]
  },
  {
   "cell_type": "code",
   "execution_count": null,
   "id": "silent-going",
   "metadata": {},
   "outputs": [],
   "source": [
    "import numpy as np\n",
    "def draw_circle(picture, circle, resolution):\n",
    "    center = circle[0]\n",
    "    radius = circle[1]\n",
    "    n = int(6 * np.pi / resolution)\n",
    "    t = np.linspace(start=0.0, stop=2 * np.pi, num=n)\n",
    "    for dt in t:\n",
    "        x = center[0] + np.cos(dt) * radius\n",
    "        y = center[1] + np.sin(dt) * radius\n",
    "        pixel = to_pixel((x, y), resolution)\n",
    "        if contains_pixel(picture, pixel):\n",
    "            picture[pixel[1]][pixel[0]] = 0\n",
    "    \n",
    "resolution = 0.1\n",
    "picture = generate_border_picture(width=100, height=100, border_width=0)\n",
    "draw_circle(picture, ((5,5), 3), resolution)\n",
    "plot_picture(picture)"
   ]
  },
  {
   "cell_type": "markdown",
   "id": "continuing-stocks",
   "metadata": {},
   "source": [
    "Im Falle des Kreises beschreibt \n",
    "\n",
    "$$k(t) = (x_m + \\cos(t) \\cdot r, y_m + \\sin(t) \\cdot r)$$\n",
    "\n",
    "die *Kurve* des Kreises.\n",
    "Wir können aber auch andere *Kurven* wie zum Beispiel die Funktion $f(x) = x^2$ durch die *Kurve* $k(t) = (t, f(t))$ zeichnen.\n",
    "Durch wie viele Punkte die Funktion noch gut erkennbar ist, ist jedoch im allgemeinen nicht so einfach zu schätzen.\n",
    "\n",
    "\n",
    "```{exercise} (mathematische) Funktion zeichnen\n",
    "Suchen Sie sich irgendeine geeignete Funktion aus und zeichnen Sie diese in einem geeigneten Intervall.\n",
    "```"
   ]
  },
  {
   "cell_type": "code",
   "execution_count": null,
   "id": "acceptable-respondent",
   "metadata": {},
   "outputs": [],
   "source": [
    "import numpy as np\n",
    "def draw_function(picture, f, start, stop, resolution):\n",
    "    n = int(3 * (stop - start) / resolution)\n",
    "    t = np.linspace(start=start, stop=stop, num=n)\n",
    "    for dt in t:\n",
    "        pixel = to_pixel((dt, f(dt)), resolution)\n",
    "        if contains_pixel(picture, pixel):\n",
    "            picture[pixel[1]][pixel[0]] = 0\n",
    "            \n",
    "resolution = 0.1\n",
    "picture = generate_border_picture(width=100, height=100, border_width=0)\n",
    "draw_function(picture, lambda t: (t-5)**2, 1, 9, resolution)\n",
    "plot_picture(picture)"
   ]
  },
  {
   "cell_type": "markdown",
   "id": "proud-healing",
   "metadata": {},
   "source": [
    "## Daumenkino\n",
    "\n",
    "Die folgende Methode (*Interpreter*) erwartet eine Liste von Bilder (in Ihrem Format) und generiert daraus eine Animation (eine Folge von Plots).\n",
    "Falls Sie den Parameter ``save`` auf ``True`` setzen, wird ein GIF (eine Bildfolge/Daumenkino/Minivideo) erzeugt und in der Datei ``'binary-drawing.gif'`` abgespeichert."
   ]
  },
  {
   "cell_type": "code",
   "execution_count": null,
   "id": "human-server",
   "metadata": {},
   "outputs": [],
   "source": [
    "import matplotlib.pyplot as plt\n",
    "import matplotlib.animation as animation\n",
    "from matplotlib import animation, rc\n",
    "from IPython.display import HTML, display\n",
    "from IPython.display import HTML\n",
    "\n",
    "def animate(pictures, interval = 100, save = False, title = '', dpi = 80):\n",
    "    cmap='gray'\n",
    "    vmin = 0\n",
    "    vmax = 1\n",
    "    fig, ax = plt.subplots()\n",
    "    plt.title(title)\n",
    "    im = plt.imshow(pictures[0], animated=True, cmap = cmap, vmin = vmin, vmax = vmax)\n",
    "    i = {'index': 0} # trick to enforce sideeffect\n",
    "    def updatefig(*args):\n",
    "        i['index'] += 1\n",
    "        if i['index'] == len(pictures):\n",
    "            i['index'] = 0\n",
    "        im.set_array(pictures[i['index']])\n",
    "        return im, \n",
    "    ani = animation.FuncAnimation(fig, updatefig, interval=interval, blit=True, save_count=len(pictures))\n",
    "    if save:\n",
    "        ani.save('binary-drawing.gif', dpi=dpi, writer=\"imagemagick\")\n",
    "    plt.close()\n",
    "    return ani"
   ]
  },
  {
   "cell_type": "markdown",
   "id": "enormous-small",
   "metadata": {},
   "source": [
    "````{exercise} Einfaches Daumenkino\n",
    "Generieren Sie folgendes GIF/Daumenkino bzw. Animation:\n",
    "\n",
    "```{figure} ../../figs/image-representation/daumenkino.gif\n",
    "---\n",
    "height: 150px\n",
    "name: fig-daumenkino\n",
    "---\n",
    "```\n",
    "\n",
    "**Tipp:** Sie benötigen lediglich mehrere Aufrufe von ``generate_border_picture()``.\n",
    "````"
   ]
  },
  {
   "cell_type": "code",
   "execution_count": null,
   "id": "descending-caribbean",
   "metadata": {},
   "outputs": [],
   "source": [
    "size = 20\n",
    "increase = [generate_border_picture(width=size, height=size, border_width=i) for i in range(size//2)]\n",
    "decrease = [generate_border_picture(width=size, height=size, border_width=(size//2)-i) for i in range((size//2)-1)]\n",
    "border_pictures = increase + decrease\n",
    "ani = animate(border_pictures, save=True)\n",
    "HTML(ani.to_jshtml())"
   ]
  },
  {
   "cell_type": "markdown",
   "id": "major-memphis",
   "metadata": {},
   "source": [
    "Fassen wir noch einmal kurz zusammen was wir bis jetzt geschafft haben:\n",
    "Wir haben uns ein Format / eine [Interpretation](sec-interpretation) für ein Schwarz-Weiß-Bild ausgedacht und umgesetzt.\n",
    "Durch ein wenig Hilfe externer Module können wir unser Rasterbild anzeigen.\n",
    "Wir haben Algorithmen implementiert die uns Polygone (inkl. Dreiecke und Rechtecke), Kreise und sogar Funktionen zeichnen.\n",
    "Und jetzt haben wir sogar die Möglichkeit aus einer Folge von Bildern ein kleines Video zu generieren.\n",
    "Dieses Video wiederum ist nichts anderes als eine Liste von Listen von Listen bestehend aus Nullen und Einsen.\n",
    "\n",
    "Wir haben jetzt die Möglichkeit eine unbegrenzte Menge an Animationen zu erzeugen, von bewegten geometrischen Objekten bis hin zum [Game Of Life](https://de.wikipedia.org/wiki/Conways_Spiel_des_Lebens) - Ihre Kreativität ist das Limit.\n",
    "\n",
    "````{exercise} Simulation eines Partikels\n",
    "Generieren Sie eine Animation eines Balls, welcher sich in einer Box bewegt, d.h. der Ball bewegt sich mit konstanter Geschwindigkeit und prallt von der Wand ab.\n",
    "\n",
    "```{figure} ../../figs/image-representation/daumenkino_ball.gif\n",
    "---\n",
    "height: 150px\n",
    "name: fig-daumenkino-ball\n",
    "---\n",
    "```\n",
    "\n",
    "**Tipps:** Schreiben Sie erst eine Methode die einen *Kreis* ``circle = (m = (x,y), r)`` in einer Box fortbewegt und diese Bewegung als Liste von Kreisen zurückgibt.\n",
    "Anschließend können Sie mit ``draw_circle()`` diese Liste in eine Liste von Bildern umwandeln. Bedenken Sie, dass sie für jeden Kreis ein neues Bild durch ``generate_border_picture()`` generieren müssen. \n",
    "````"
   ]
  },
  {
   "cell_type": "code",
   "execution_count": null,
   "id": "assisted-married",
   "metadata": {},
   "outputs": [],
   "source": [
    "def generate_ball_box(width, height, circle, resolution):\n",
    "    w = int(width/resolution)\n",
    "    h = int(height/resolution)\n",
    "    picture = generate_border_picture(width=w, height=h, border_width=1)\n",
    "    ball = draw_circle(picture, circle, resolution)\n",
    "    return picture\n",
    "\n",
    "def animate_ball(nframes):\n",
    "    resolution = 0.1\n",
    "    box_width = 10\n",
    "    box_height = 10\n",
    "    x = 5\n",
    "    y = 5\n",
    "    radius = 1\n",
    "    velocity = [0.1,0.3]\n",
    "    \n",
    "    animation = []\n",
    "    time = 1\n",
    "    for i in range(nframes):\n",
    "        # collision detection\n",
    "        if x - radius <= 0 or x + radius >= box_width:\n",
    "            velocity[0] = -velocity[0]\n",
    "        if y - radius <= 0 or y + radius >= box_height:\n",
    "            velocity[1] = -velocity[1]\n",
    "        \n",
    "        x = x + velocity[0] * time\n",
    "        y = y + velocity[1] * time\n",
    "        circle = ((x,y),radius)\n",
    "        animation.append(generate_ball_box(box_width,box_height,circle,resolution))\n",
    "    return animation\n",
    "\n",
    "ani = animate(animate_ball(nframes=100), save=True)\n",
    "HTML(ani.to_jshtml())"
   ]
  },
  {
   "cell_type": "markdown",
   "id": "musical-maldives",
   "metadata": {},
   "source": [
    "```{exercise} Eigenes Daumenkino\n",
    "Erzeugen Sie Ihr eigenes Daumenkino. Vielleicht ein bewegtes Dreieck oder eine fortlaufende Sinuswelle oder etwas ganz anderes?\n",
    "```\n",
    "\n",
    "## Fourier-Zeichnungen (optional)\n",
    "\n",
    "Was nun folgt ist ein sich Austoben in der Welt die wir uns geschaffen haben.\n",
    "Wir möchten Ihnen eine ganz bestimmte Zeichenmethode nicht vorenthalten.\n",
    "\n",
    "Stellen Sie sich ein Blatt Papier vor.\n",
    "Auf diesem zeichnen Sie einen Kreis $K_0$.\n",
    "Anhand dieses Kreises zeichnen Sie einen weiteren Kreis $K_1$, sodass der Mittelpunkt von $K_1$, während Sie zeichnen, auf $K_0$ wandert.\n",
    "Nachdem Sie fertig sind, löschen Sie $K_0$.\n",
    "\n",
    "Ihr Ergebnis hängt davon ab, wie schnell sie auf $K_0$ wandern und wie schnell Sie $K_1$ zeichnen, d.h. das Ergebnis hängt von den Frequenzen und Radii ab.\n",
    "\n",
    "Zeichnen Sie beide Kreise mit der gleichen Frequenz und starten Sie beide Kreise bei $y = 0$, so ist $K_1$ ein Kreis wobei dessen Radius die Summe der Radii der beiden Kreise ist.\n",
    "\n",
    "Angenommen \n",
    "\n",
    "$$K_0(t) = (x_0 + \\cos(\\omega_0 \\cdot t) \\cdot r_0, y_0 + \\sin(\\omega_0 \\cdot t) \\cdot r_0)$$\n",
    "\n",
    "und \n",
    "\n",
    "$$K_1(t) = (\\cos(\\omega_1 \\cdot t) \\cdot r_1, \\sin(\\omega_1 \\cdot t) \\cdot r_1)$$\n",
    "\n",
    "dann gilt für ihre gezeichnete Kurve \n",
    "\n",
    "$$K(t) = K_0(t) + K_1(t)$$\n",
    "\n",
    "Wir können das weiter verallgemeinern und von $n$ Kreisen ausgehen, dann gilt für ihre Zeichnung:\n",
    "\n",
    "$$K(t) = \\sum_{i=0}^{n-1} K_i(t)$$\n",
    "\n",
    "````{exercise} Fourier-Zeichnungen\n",
    "Schreiben Sie eine Funktion ``draw_circular(picture, center, frequencies, radii, resolution, start stop)``, die die oben beschriebene Zeichentechnik implementiert.\n",
    "Dabei soll ``center`` gleich $(x_0, y_0)$, ``frequencies`` eine Liste die alle Frequenzen $\\omega_0, \\ldots \\omega_{n-1}$ und ``radii`` eine Liste die alle Radii $r_0, \\ldots, r_{n-1}$ enthält sein.\n",
    "``start`` und ``stop`` sollen ihr (Zeichen-)Intervall definieren.\n",
    "\n",
    "Als Motivation hier ein Beispiel:\n",
    "\n",
    "```python\n",
    "resolution = 0.1\n",
    "picture = generate_border_picture(width=100, height=100, border_width=0)\n",
    "draw_circular(picture, (5,5), [4,15], [3,0.7], resolution, 0.0, 2*np.pi)\n",
    "plot_picture(picture)\n",
    "```\n",
    "\n",
    "ergibt\n",
    "\n",
    "```{figure} ../../figs/image-representation/fourier-drawing.png\n",
    "---\n",
    "height: 150px\n",
    "name: fig-fourier-drawing\n",
    "---\n",
    "```\n",
    "\n",
    "````"
   ]
  },
  {
   "cell_type": "code",
   "execution_count": null,
   "id": "alpine-canon",
   "metadata": {},
   "outputs": [],
   "source": [
    "def draw_circular(picture, center, frequencies, radii, resolution, start=0.0, stop=2*np.pi):\n",
    "    n = int(2*max(frequencies)*(stop-start) / resolution)\n",
    "    t = np.linspace(start=start, stop=stop, num=n)\n",
    "    for dt in t:\n",
    "        x = center[0]\n",
    "        y = center[1]\n",
    "        \n",
    "        for i in range(min(len(frequencies), len(radii))):\n",
    "            radius = radii[i]\n",
    "            frequency = frequencies[i]\n",
    "            x = x + np.cos(frequency*dt) * radius\n",
    "            y = y + np.sin(frequency*dt) * radius\n",
    "        \n",
    "        pixel = to_pixel((x, y), resolution)\n",
    "        if contains_pixel(picture, pixel):\n",
    "            picture[pixel[1]][pixel[0]] = 0\n",
    "            \n",
    "resolution = 0.1\n",
    "picture = generate_border_picture(width=100, height=100, border_width=0)\n",
    "draw_circular(picture, (5,5), [1,5,4], [2,1,0.5], resolution, 0.0, 2*np.pi)\n",
    "plot_picture(picture)"
   ]
  },
  {
   "cell_type": "markdown",
   "id": "given-legislation",
   "metadata": {},
   "source": [
    "Es ergeben sich interessante Fragen.\n",
    "Zum Beispiel, mit welchen Argumenten erhalten Sie ein **harmonisches** (ein eher einfaches) Bild und warum?\n",
    "Wann erhalten Sie hingegen ein komplexeres Gebilde?\n",
    "Was hat das mit den **harmonischen** bzw. **unharmonischen** Schwingungen und einem **harmonischen** bzw. **unharmonischen** Ton zu tun?\n",
    "Können wir durch unsere Zeichenmethode Ton zeichnen?\n",
    "\n",
    "Falls Sie sich mehr mathematisches Wissen zu diesem Thema aneignen möchten, ist folgendes exzellentes Video von **Grant Sanderson** ein wunderbarer Einstieg.\n",
    "\n",
    "<div style=\"display: block;margin-left: auto;margin-right: auto;width: 632px;\">\n",
    "<iframe width=\"632\" height=\"276\" src=\"https://www.youtube.com/embed/r6sGWTCMz2k\" title=\"YouTube video player\" frameborder=\"0\" allow=\"accelerometer; autoplay; clipboard-write; encrypted-media; gyroscope; picture-in-picture\" allowfullscreen></iframe>\n",
    "</div>"
   ]
  }
 ],
 "metadata": {
  "jupytext": {
   "formats": "md:myst",
   "text_representation": {
    "extension": ".md",
    "format_name": "myst"
   }
  },
  "kernelspec": {
   "display_name": "Python 3",
   "language": "python",
   "name": "python3"
  },
  "source_map": [
   11,
   73,
   75,
   79,
   84,
   89,
   95,
   106,
   108,
   118,
   121,
   147,
   150,
   156,
   159,
   166,
   174,
   185,
   187,
   208,
   228,
   258,
   261,
   268,
   272,
   283,
   290,
   313,
   323,
   336,
   341,
   377,
   382,
   387,
   390,
   397,
   417,
   435,
   438,
   477,
   483,
   516,
   521,
   544,
   566,
   571,
   580,
   590,
   605,
   613,
   623,
   629,
   640,
   653,
   662,
   681,
   699,
   714,
   728,
   735,
   761,
   776,
   783,
   808,
   842,
   903,
   925
  ]
 },
 "nbformat": 4,
 "nbformat_minor": 5
}