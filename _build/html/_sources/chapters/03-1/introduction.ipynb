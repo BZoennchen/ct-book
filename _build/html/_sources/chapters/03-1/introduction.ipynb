{
 "cells": [
  {
   "cell_type": "markdown",
   "id": "12300c40",
   "metadata": {},
   "source": [
    "# Programmieren in Python\n",
    "\n",
    "Ein Maler oder Bildhauer\\*innen gießen Ideen und Gedanken auf Papier bzw. in Stein.\n",
    "Genauso gießen wir unsere Gedanken, resultierend aus dem [Computational Thinking](sec-what-is-ct), in Programmcode.\n",
    "Eine ganz klare Trennung zwischen dem Denken und dem Programmieren gibt es natürlich nicht.\n",
    "Vielmehr schärft das Programmieren unsere Gedanken.\n",
    "Häufig fallen uns Fehler, unberücksichtigte Fälle oder Schwachstellen erst auf, wenn wir mit dem Programmieren beginnen.\n",
    "\n",
    "Was für den Mathematiker der Beweis ist, dass ist für uns die Ausführung unseres Codes.\n",
    "Ob dieser in allen Fällen, d.h., für jede möglich Eingabe auch das erwünschte Ergebnis liefert, können wir oft nicht so einfach zeigen.\n",
    "Doch falls unser Denken mit der Implementierung übereinstimmt und wir auf dem Weg auf keine Lücken in unserer Logik gestoßen sind, so ist die Wahrscheinlichkeit groß, dass wir es mit einer korrekten Lösung zu tun haben.\n",
    "Durch die Realisierung unser Gedanken, durch das Programmieren, stellen wir unter anderem fest, ob unsere Gedanken rigoros, logisch einwandfrei und scharf genug waren oder ob wir uns selbst in die Irre geführt haben."
   ]
  },
  {
   "cell_type": "code",
   "execution_count": 1,
   "id": "0266292b",
   "metadata": {},
   "outputs": [
    {
     "name": "stdout",
     "output_type": "stream",
     "text": [
      "The Zen of Python, by Tim Peters\n",
      "\n",
      "Beautiful is better than ugly.\n",
      "Explicit is better than implicit.\n",
      "Simple is better than complex.\n",
      "Complex is better than complicated.\n",
      "Flat is better than nested.\n",
      "Sparse is better than dense.\n",
      "Readability counts.\n",
      "Special cases aren't special enough to break the rules.\n",
      "Although practicality beats purity.\n",
      "Errors should never pass silently.\n",
      "Unless explicitly silenced.\n",
      "In the face of ambiguity, refuse the temptation to guess.\n",
      "There should be one-- and preferably only one --obvious way to do it.\n",
      "Although that way may not be obvious at first unless you're Dutch.\n",
      "Now is better than never.\n",
      "Although never is often better than *right* now.\n",
      "If the implementation is hard to explain, it's a bad idea.\n",
      "If the implementation is easy to explain, it may be a good idea.\n",
      "Namespaces are one honking great idea -- let's do more of those!\n"
     ]
    }
   ],
   "source": [
    "import this"
   ]
  },
  {
   "cell_type": "markdown",
   "id": "6660c3f0",
   "metadata": {},
   "source": [
    "Für die Namenskonventionen, d.h. die Schreibweise von Funktionen, Variablen, Klassen und mehr empfehlen wir den [PEP 8 Style Guide für Python Code](https://pep8.org/)."
   ]
  }
 ],
 "metadata": {
  "jupytext": {
   "formats": "md:myst",
   "text_representation": {
    "extension": ".md",
    "format_name": "myst"
   }
  },
  "kernelspec": {
   "display_name": "Python 3",
   "language": "python",
   "name": "python3"
  },
  "language_info": {
   "codemirror_mode": {
    "name": "ipython",
    "version": 3
   },
   "file_extension": ".py",
   "mimetype": "text/x-python",
   "name": "python",
   "nbconvert_exporter": "python",
   "pygments_lexer": "ipython3",
   "version": "3.9.7"
  },
  "source_map": [
   11,
   26,
   28
  ]
 },
 "nbformat": 4,
 "nbformat_minor": 5
}