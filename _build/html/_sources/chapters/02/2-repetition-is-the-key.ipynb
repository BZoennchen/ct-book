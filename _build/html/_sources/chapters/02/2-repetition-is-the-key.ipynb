{
 "cells": [
  {
   "cell_type": "markdown",
   "id": "parental-memorial",
   "metadata": {},
   "source": [
    "# Wiederholung als Grundlage\n",
    "\n",
    "[Computational Thinking](sec-what-is-ct) beginnt normalerweise dort wo alle Denkprozesse beginnen: in den Köpfen der Menschen.\n",
    "Der Computer ist sekundäres Werkzeug um das Resultat des Denkprozesses niederzuschreiben und schlussendlich auszuführen.\n",
    "Wir können eine Musikkomposition als jene Niederschrift und dessen Aufführung als Ausführung interpretieren.\n",
    "Schließlich ist eine Musikkomposition nichts anderes als ein [Algorithmus](def-algorithm), beschrieben durch eine endliche Folge von Noten.\n",
    "Wie bei einer Niederschrift eines [Algorithmus](def-algorithm) in Form von Quellcode können wir zwischen\n",
    "\n",
    "1. der Komplexität der Aufführung/Ausführung (wie viele Noten werden gespielt bzw. wie lange dauert das Stück) und \n",
    "2. der Komplexität der Beschreibung (wie viele Seiten an Noten beschreiben das Stück) unterscheiden.\n",
    "\n",
    "Denken Sie nur an die verschiedenen Kinderlieder, die Sie in einer Endlosschleife singen können und dennoch auf wenigen Seiten Papier beschrieben vorfinden.\n",
    "\n",
    "Was sich mit der Erfindung und fortwährenden Verbesserungen der Computer geändert hat, ist die benötigte Zeit, die einzelne (arithmetische und kombinatorische) Operationen benötigen.\n",
    "Primzahlen lassen sich ab einer gewissen Größe nicht mehr händisch berechnen, da der Prozess die Lebenszeit eines Menschen überschreitet.\n",
    "Computer verschieben diese Grenzen nach oben.\n",
    "Doch gehen auch Sie selbstverständlich irgendwann in die Knie.\n",
    "\n",
    "Ähnlich wie in der Musik und Literatur brauchen wir für die Kommunikation unseres Denkprozesses eine einheitliche Basis, die wir Sprache nennen. \n",
    "Der einzige große Unterschied zur Musik und Literatur ist, dass diese [Programmiersprache](sec-programming-languages) auch von Rechenmaschinen verstanden wird. \n",
    "Wie bei einem Musikstück ist es eine notwendige Voraussetzung, dass wir dem Computer eine endliche Folge von unmissverständlichen Anweisungen mitgeben.\n",
    "Die selben Anweisungen könnten wir auch einem Menschen mitgeben, jedoch können wir von ihm nur für kleine Aufgaben eine Antwort erwarten.\n",
    "\n",
    "Solange sich eine Problemlösung (unsere Musikkomposition) durch Wiederholung ausdrücken lässt, kann sie durch endlich viel Programmcode (Noten) beschrieben und damit (theoretisch) gelöst (aufgeführt) werden.\n",
    "Die Komplexität des Programmcodes (die länge des Stücks) entkoppelt sich von der Komplexität der ausgeführten Berechnung (der Aufführung).\n",
    "Zum Beispiel beschreibt folgender ``Python``-code die Berechnung der Summe aller Quadratzahlen von ``1`` bis ``n+1``."
   ]
  },
  {
   "cell_type": "code",
   "execution_count": 1,
   "id": "artificial-custom",
   "metadata": {},
   "outputs": [
    {
     "data": {
      "text/plain": [
       "385"
      ]
     },
     "execution_count": 1,
     "metadata": {},
     "output_type": "execute_result"
    }
   ],
   "source": [
    "def sum_sqrt(n):\n",
    "    sum_sqrt = 0\n",
    "    for i in range(n):\n",
    "        sum_sqrt += (i+1) * (i+1)\n",
    "    return sum_sqrt\n",
    "\n",
    "sum_sqrt(10)"
   ]
  },
  {
   "cell_type": "markdown",
   "id": "published-ghost",
   "metadata": {},
   "source": [
    "Die Anzahl der auszuführenden Anweisungen steigt linear mit ``n``, doch der Programmiercode bleibt unverändert.\n",
    "Hierin liegt die ganze Magie: **Wiederholung**!"
   ]
  }
 ],
 "metadata": {
  "jupytext": {
   "formats": "md:myst",
   "text_representation": {
    "extension": ".md",
    "format_name": "myst"
   }
  },
  "kernelspec": {
   "display_name": "Python 3",
   "language": "python",
   "name": "python3"
  },
  "language_info": {
   "codemirror_mode": {
    "name": "ipython",
    "version": 3
   },
   "file_extension": ".py",
   "mimetype": "text/x-python",
   "name": "python",
   "nbconvert_exporter": "python",
   "pygments_lexer": "ipython3",
   "version": "3.9.8"
  },
  "source_map": [
   11,
   40,
   48
  ]
 },
 "nbformat": 4,
 "nbformat_minor": 5
}