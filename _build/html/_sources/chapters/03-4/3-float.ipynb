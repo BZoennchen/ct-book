{
 "cells": [
  {
   "cell_type": "markdown",
   "id": "sublime-aquarium",
   "metadata": {},
   "source": [
    "(sec-float)=\n",
    "# Fließkommazahlen - float\n",
    "\n",
    "Zunächst ist zu sagen, dass Sie für Fließkommazahlen (engl. [Floating Point Number](https://docs.python.org/3/library/functions.html#float)) nicht das Komma ``,`` sondern den englischsprachigen Punkt ``.`` verwenden.\n",
    "\n",
    "Im Gegensatz zu ganzen Zahlen benötigen Fließkommazahlen immer die gleiche Anzahl an Bits.\n",
    "Da stellt sich die Frage: Wie ist es unter diesen Bedingungen möglich Zahlen darzustellen, deren absoluter Wert sehr verschieden ist?\n",
    "Zum Beispiel können wir problemlos die Zahl $0.0000000001$ und die Zahl $10000000.0$ als Fließkommazahl definieren:"
   ]
  },
  {
   "cell_type": "code",
   "execution_count": 1,
   "id": "signed-thumb",
   "metadata": {},
   "outputs": [
    {
     "name": "stdout",
     "output_type": "stream",
     "text": [
      "1e-10\n",
      "10000000.0\n"
     ]
    }
   ],
   "source": [
    "small_float = 0.0000000001\n",
    "large_float = 10000000.0\n",
    "print(small_float)\n",
    "print(large_float)"
   ]
  },
  {
   "cell_type": "markdown",
   "id": "israeli-preference",
   "metadata": {},
   "source": [
    "``1e-10`` bedeutet hierbei $1.0 \\cdot 10^{-10}$ und diese Darstellung liefert uns bereits Hinweise auf die Antwort.\n",
    "\n",
    "Physiker\\*innen kennen das Problem der Zahlen aus sehr unterschiedlichen Skalen.\n",
    "Die Lichtgeschwindigkeit in km/h ist eine sehr große Zahl, wohingegen die Ladung eines Elektrons in Coulomb eine sehr kleine Zahl ist.\n",
    "Physiker\\*innen möchten ebenfalls in einem riesigen Zahlenbereich rechnen und dabei Zahlen kompakt notieren können.\n",
    "Deshalb haben sie die wissenschaftliche Notation eingeführt.\n",
    "Fließkommazahlen sind aus dieser Notation entstanden.\n",
    "In dieser Notation schreiben wir $10000000.0$ als $0.1 \\cdot 10^8$ und aus $0.0000000001$ wird $0.1 \\cdot 10^{-9}$.\n",
    "\n",
    "Ohne zu sehr ins Detail zu gehen, besteht eine Fließkommazahl ``float`` aus Bits für die einzelnen Teile dieser Schreibweise:\n",
    "\n",
    "+ das *Vorzeichen*, \n",
    "+ die *Mantisse* und \n",
    "+ den Exponenten.\n",
    "\n",
    "Für $0.1 \\cdot 10^8$ wäre das *Vorzeichen* gleich +, die *Mantisse* gleich 0.1 und der *Exponent* gleich 8.\n",
    "\n",
    "Da der Computer jedoch im Binärsystem rechnet, verwendet er als Basis die 2 anstatt die 10.\n",
    "Nehmen wir die Zahl \n",
    "\n",
    "$$0.875_{10} = 8 \\cdot 10^{-1} + 7 \\cdot 10^{-2} + 5 \\cdot 10^{-3}.$$\n",
    "\n",
    "Binär können wir die Zahl wie folgt ausdrücken:\n",
    "\n",
    "$$0.111_2 = 1 \\cdot 2^{-1} + 1 \\cdot 2^{-2} + 1 \\cdot 2^{-3}.$$\n",
    "\n",
    "Soweit so gut.\n",
    "Was passiert aber wenn jede Ziffer von 0 verschieden ist und sich endlos fortsetzt z.B. $\\pi = 3.14159265359 \\ldots$ oder auch $1/3 = 0.33333333333 \\ldots$?\n",
    "In diesem Fall wird die Zahl abgeschnitten sobald keine Bits mehr zur Verfügung stehen.\n",
    "Demnach ist eine Fließkommazahl immer nur eine gute **Annäherung** des echten Werts!!!\n",
    "\n",
    "Weshalb folgende Rechnung nicht 0.3 ergibt, erklärt sich durch diese **Annäherung** in Kombination mit der Binärdarstellung!"
   ]
  },
  {
   "cell_type": "code",
   "execution_count": 2,
   "id": "realistic-wrist",
   "metadata": {},
   "outputs": [
    {
     "data": {
      "text/plain": [
       "0.30000000000000004"
      ]
     },
     "execution_count": 2,
     "metadata": {},
     "output_type": "execute_result"
    }
   ],
   "source": [
    "0.2 + 0.1"
   ]
  },
  {
   "cell_type": "markdown",
   "id": "inner-reverse",
   "metadata": {},
   "source": [
    "Denn es gilt:\n",
    "\n",
    "$$0.1_{10} = 0.0001100110011 \\ldots_2.$$\n",
    "\n",
    "```{admonition} Ungenauigkeit der Fließkommazahlen\n",
    ":class: important\n",
    "Fließkommazahlen ``float`` sind eine gute *Annäherung* des echten Werts.\n",
    "```\n",
    "\n",
    "Dieses Verhalten kann nicht nur zu kleinen Ungenauigkeiten, sondern zu großen Fehlern führen.\n",
    "Folgender Code subtrahiert 20 mal $1.0 \\cdot 10^{-14}$ von $1.0 \\cdot 10^{10}$.\n",
    "Doch verändern diese Subtraktionen ``x`` nicht."
   ]
  },
  {
   "cell_type": "code",
   "execution_count": 3,
   "id": "armed-evans",
   "metadata": {},
   "outputs": [
    {
     "name": "stdout",
     "output_type": "stream",
     "text": [
      "epsilon = 1e-14\n",
      "x = 10000000000.0 before subtraction\n",
      "x = 10000000000.0 after subtraction\n"
     ]
    }
   ],
   "source": [
    "x = 1e10\n",
    "epsilon = 1e-14\n",
    "\n",
    "print(f'epsilon = {epsilon}')\n",
    "print(f'x = {x} before subtraction')\n",
    "\n",
    "for i in range(20):\n",
    "  x = x - epsilon\n",
    "\n",
    "print(f'x = {x} after subtraction')"
   ]
  },
  {
   "cell_type": "markdown",
   "id": "japanese-adrian",
   "metadata": {},
   "source": [
    "Das zeigt, dass der (akkumulierte) Fehler theoretisch unendlich groß werden kann.\n",
    "Besonders kritisch ist die Subtraktion und Addition von Zahlen die in sehr unterschiedliche Skalen fallen.\n",
    "Die Multiplikation und Division ist für Fließkommazahlen sehr viel ungefährlicher."
   ]
  },
  {
   "cell_type": "code",
   "execution_count": 4,
   "id": "about-stroke",
   "metadata": {},
   "outputs": [
    {
     "name": "stdout",
     "output_type": "stream",
     "text": [
      "epsilon = 1e-14\n",
      "x = 10000000000.0 before multiplication\n",
      "x = 0.0001 after multiplication\n"
     ]
    }
   ],
   "source": [
    "x = 1e10\n",
    "epsilon = 1e-14\n",
    "\n",
    "print(f'epsilon = {epsilon}')\n",
    "print(f'x = {x} before multiplication')\n",
    "x = x * epsilon\n",
    "print(f'x = {x} after multiplication')"
   ]
  },
  {
   "cell_type": "markdown",
   "id": "incomplete-binary",
   "metadata": {},
   "source": [
    "Obiger Code liefert das korrekte Ergebnis von: \n",
    "\n",
    "$$(1.0 \\cdot 10^{10}) \\cdot (1.0 \\cdot 10^{-14}) = 1.0 \\cdot 10^{10-14} = 1.0 \\cdot 10^{-4} = 0.0001.$$\n",
    "\n",
    "```{admonition} Ungenauigkeit der Fließkommazahlen\n",
    ":class: warning\n",
    "Prüfen Sie Fließkommazahlen niemals auf Gleichheit ``==``.\n",
    "Verwenden Sie stattdessen immer einen kleinen Bereich in dem die Zahl liegen sollte.\n",
    "```"
   ]
  }
 ],
 "metadata": {
  "jupytext": {
   "formats": "md:myst",
   "text_representation": {
    "extension": ".md",
    "format_name": "myst"
   }
  },
  "kernelspec": {
   "display_name": "Python 3",
   "language": "python",
   "name": "python3"
  },
  "language_info": {
   "codemirror_mode": {
    "name": "ipython",
    "version": 3
   },
   "file_extension": ".py",
   "mimetype": "text/x-python",
   "name": "python",
   "nbconvert_exporter": "python",
   "pygments_lexer": "ipython3",
   "version": "3.9.8"
  },
  "source_map": [
   11,
   22,
   27,
   62,
   64,
   79,
   90,
   96,
   104
  ]
 },
 "nbformat": 4,
 "nbformat_minor": 5
}