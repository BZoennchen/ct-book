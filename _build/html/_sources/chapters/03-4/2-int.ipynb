{
 "cells": [
  {
   "cell_type": "markdown",
   "id": "loose-beaver",
   "metadata": {},
   "source": [
    "(sec-int)=\n",
    "# Ganze Zahlen - int\n",
    "\n",
    "Ganze Zahlen (engl. [Integer](https://docs.python.org/3/library/functions.html#int)) ``int`` ist ein *atomarer Datentyp* und verhält sich so wie wir es erwarten.\n",
    "\n",
    "Falls Sie bereits Programmierkenntnisse besitzen, so gibt es in ``Python`` jedoch eine Besonderheit: Ganze Zahlen können nicht überlaufen.\n",
    "Anders als Fließkommazahlen benötigen ganze Zahlen ``int`` in ``Python`` eine variable Anzahl an Bits.\n",
    "Anders ausgedrückt: Nicht jede Zahl benötigt die gleiche Anzahl an Bits im Speicher!\n",
    "Solange Ihr Speicher nicht komplett belegt ist, können Sie in ``Python`` somit mit sehr großen ganzen Zahlen rechnen."
   ]
  },
  {
   "cell_type": "code",
   "execution_count": 1,
   "id": "hired-pointer",
   "metadata": {},
   "outputs": [
    {
     "name": "stdout",
     "output_type": "stream",
     "text": [
      "<class 'int'>\n",
      "10000000000000000000000000000000000000000000000000000000000000000000000000000000000000000000000000000\n"
     ]
    }
   ],
   "source": [
    "large_number = 10**100\n",
    "print(type(large_number))\n",
    "print(large_number)"
   ]
  },
  {
   "cell_type": "markdown",
   "id": "organizational-stake",
   "metadata": {},
   "source": [
    "```{admonition} Python und der Überlauf\n",
    ":class: important\n",
    "In ``Python`` gibt es keinen *Überlauf* für ganze Zahlen ``int``.\n",
    "```\n",
    "\n",
    "Da wir bei mathematischen Operationen wie ``+``, ``-``, ``*``, ``/``, ``//`` und ``**`` ganze Zahlen ``int`` und Fließkommazahlen ``float`` vermischen können, müssen wir darauf achten welcher Datentyp am Ende herauskommt.\n",
    "Sobald eine Fließkommazahl ein Teil der Berechnung ist, ist das Ergebnis vom Typ ``float``."
   ]
  },
  {
   "cell_type": "code",
   "execution_count": 2,
   "id": "considerable-combination",
   "metadata": {},
   "outputs": [
    {
     "name": "stdout",
     "output_type": "stream",
     "text": [
      "<class 'float'>\n",
      "3.0\n"
     ]
    }
   ],
   "source": [
    "x = 3 * 1.0     # int * float -> float   \n",
    "print(type(x))\n",
    "print(x)"
   ]
  },
  {
   "cell_type": "code",
   "execution_count": 3,
   "id": "speaking-people",
   "metadata": {},
   "outputs": [
    {
     "name": "stdout",
     "output_type": "stream",
     "text": [
      "<class 'float'>\n",
      "1e+100\n"
     ]
    }
   ],
   "source": [
    "large_number = 10.0**100\n",
    "print(type(large_number))\n",
    "print(large_number)"
   ]
  },
  {
   "cell_type": "markdown",
   "id": "worst-involvement",
   "metadata": {},
   "source": [
    "Auch bei der ganzzahligen Division ``//`` erhalten wir als Datentyp eine Fließkommazahl sofern eine Fließkommazahl bei der Operation teilnimmt:"
   ]
  },
  {
   "cell_type": "code",
   "execution_count": 4,
   "id": "coordinated-bridges",
   "metadata": {},
   "outputs": [
    {
     "name": "stdout",
     "output_type": "stream",
     "text": [
      "<class 'float'>\n",
      "1.0\n"
     ]
    }
   ],
   "source": [
    "x = 3.0 // 2     # float // int -> float   \n",
    "print(type(x))\n",
    "print(x)"
   ]
  },
  {
   "cell_type": "code",
   "execution_count": 5,
   "id": "advanced-china",
   "metadata": {},
   "outputs": [
    {
     "name": "stdout",
     "output_type": "stream",
     "text": [
      "<class 'float'>\n",
      "1.0\n"
     ]
    }
   ],
   "source": [
    "x = 3 // 2.0     # int // float -> float   \n",
    "print(type(x))\n",
    "print(x)"
   ]
  },
  {
   "cell_type": "code",
   "execution_count": 6,
   "id": "formal-choir",
   "metadata": {},
   "outputs": [
    {
     "name": "stdout",
     "output_type": "stream",
     "text": [
      "<class 'int'>\n",
      "1\n"
     ]
    }
   ],
   "source": [
    "x = 3 // 2     # int // int -> int   \n",
    "print(type(x))\n",
    "print(x)"
   ]
  }
 ],
 "metadata": {
  "jupytext": {
   "formats": "md:myst",
   "text_representation": {
    "extension": ".md",
    "format_name": "myst"
   }
  },
  "kernelspec": {
   "display_name": "Python 3",
   "language": "python",
   "name": "python3"
  },
  "language_info": {
   "codemirror_mode": {
    "name": "ipython",
    "version": 3
   },
   "file_extension": ".py",
   "mimetype": "text/x-python",
   "name": "python",
   "nbconvert_exporter": "python",
   "pygments_lexer": "ipython3",
   "version": "3.9.8"
  },
  "source_map": [
   11,
   23,
   27,
   37,
   43,
   47,
   51,
   57,
   63
  ]
 },
 "nbformat": 4,
 "nbformat_minor": 5
}