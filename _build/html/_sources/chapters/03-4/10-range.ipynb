{
 "cells": [
  {
   "cell_type": "markdown",
   "id": "exposed-preference",
   "metadata": {},
   "source": [
    "(sec-range)=\n",
    "# Zahlenbereich - range\n",
    "\n",
    "Ein *Zahlenbereich* oder kurz *Bereich* (engl. [Range](https://docs.python.org/3/library/stdtypes.html#typesseq-range)) ``range`` ist eine **unveränderliche** *faule* (engl. *lazy*) [Sequenzen](https://docs.python.org/3/library/stdtypes.html#sequence-types-list-tuple-range) von **ganzen Zahlen**.\n",
    "\n",
    "In ``Python`` verwenden wir diese *Bereiche*, wenn wir einen bestimmten Programmcode eine bekannte und feste Anzahl an Durchläufen mithilfe der ``for``-Schleife durchlaufen wollen.\n",
    "*Faul* (engl. *lazy*) bedeutet, dass Werte erst dann erzeugt werden, wenn Sie gebraucht werden.\n",
    "Der Aufruf ``range(10)`` erzeugt einen *Zahlenbereich*, welcher die Zahlen $0, 1, \\ldots 9$ enthält.\n",
    "Doch anders als eine Liste, liegen die ganzen Zahlen noch nicht im Speicher.\n",
    "Sie werden beim Zugriff auf den jeweiligen *Zahlenbereich* **berechnet**.\n",
    "\n",
    "Die Eigenschaft der *Faulheit* wurde mit **Python 3** eingeführt.\n",
    "\n",
    "## Erstellung\n",
    "\n",
    "Einen *Zahlenbereich* erstellen wir entweder mit ``range(stop)``, ``range(start, stop)`` oder ``range(start, stop, step)``.\n",
    "Alle Argumente müssen ganze Zahlen sein. Vergleichen Sie"
   ]
  },
  {
   "cell_type": "code",
   "execution_count": null,
   "id": "rubber-library",
   "metadata": {},
   "outputs": [],
   "source": [
    "print(list(range(10)))\n",
    "print(list(range(5, 10)))\n",
    "print(list(range(5, 10, 2)))"
   ]
  },
  {
   "cell_type": "markdown",
   "id": "demographic-picture",
   "metadata": {},
   "source": [
    "Auch negative ganze Zahlen sind möglich, hiermit können wir eine absteigende Sequenz erzeugen:"
   ]
  },
  {
   "cell_type": "code",
   "execution_count": null,
   "id": "crude-titanium",
   "metadata": {},
   "outputs": [],
   "source": [
    "print(list(range(-10)))     # start = 0 und stop = -10, thus empty range\n",
    "print(list(range(-10, -5)))\n",
    "print(list(range(-5, 5, 2)))"
   ]
  },
  {
   "cell_type": "markdown",
   "id": "returning-brand",
   "metadata": {},
   "source": [
    "## Indexierung\n",
    "\n",
    "*Zahlenbereich* können, wie [Listen](sec-list-index), indexiert werden."
   ]
  },
  {
   "cell_type": "code",
   "execution_count": null,
   "id": "standard-reasoning",
   "metadata": {},
   "outputs": [],
   "source": [
    "myrange = range(10)\n",
    "print(myrange[0])\n",
    "print(myrange[1])"
   ]
  },
  {
   "cell_type": "markdown",
   "id": "original-grain",
   "metadata": {},
   "source": [
    "Indexieren wir mehr als einen Wert eines Zahlenbereichs, so wird ein neuer entsprechender Zahlenbereichs erzeugt:"
   ]
  },
  {
   "cell_type": "code",
   "execution_count": null,
   "id": "saving-thomas",
   "metadata": {},
   "outputs": [],
   "source": [
    "myrange = range(10)\n",
    "print(myrange[2::3])\n",
    "print(myrange[-1:2:-2])"
   ]
  },
  {
   "cell_type": "markdown",
   "id": "right-sudan",
   "metadata": {},
   "source": [
    "Der obige Code erzeugt lediglich neue *lazy* Bereiche, doch die ganzen Zahlen werden nicht in den Speicher gelegt.\n",
    "Wandeln wir Bereiche in eine Liste um, so werden deren ganze Zahlen in den Speicher abgelegt."
   ]
  },
  {
   "cell_type": "code",
   "execution_count": null,
   "id": "according-valuation",
   "metadata": {},
   "outputs": [],
   "source": [
    "myrange = range(10)\n",
    "print(list(myrange[2::3]))\n",
    "print(list(myrange[-1:2:-2]))"
   ]
  }
 ],
 "metadata": {
  "jupytext": {
   "formats": "md:myst",
   "text_representation": {
    "extension": ".md",
    "format_name": "myst"
   }
  },
  "kernelspec": {
   "display_name": "Python 3",
   "language": "python",
   "name": "python3"
  },
  "source_map": [
   11,
   31,
   35,
   39,
   43,
   49,
   53,
   57,
   61,
   66
  ]
 },
 "nbformat": 4,
 "nbformat_minor": 5
}