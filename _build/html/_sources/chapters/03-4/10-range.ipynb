{
 "cells": [
  {
   "cell_type": "markdown",
   "id": "9a8a710d",
   "metadata": {},
   "source": [
    "(sec-range)=\n",
    "# Zahlenbereich - range\n",
    "\n",
    "Ein *Zahlenbereich* oder kurz *Bereich* (engl. [Range](https://docs.python.org/3/library/stdtypes.html#typesseq-range)) ``range`` ist eine **unveränderliche** *faule* (engl. *lazy*) [Sequenzen](https://docs.python.org/3/library/stdtypes.html#sequence-types-list-tuple-range) von **ganzen Zahlen**.\n",
    "\n",
    "In ``Python`` verwenden wir diese *Bereiche*, wenn wir einen bestimmten Programmcode eine bekannte und feste Anzahl an Durchläufen mithilfe der ``for``-Schleife durchlaufen wollen.\n",
    "*Faul* (engl. *lazy*) bedeutet, dass Werte erst dann erzeugt werden, wenn Sie gebraucht werden.\n",
    "Der Aufruf ``range(10)`` erzeugt einen *Zahlenbereich*, welcher die Zahlen $0, 1, \\ldots 9$ enthält.\n",
    "Doch anders als eine Liste, liegen die ganzen Zahlen noch nicht im Speicher.\n",
    "Sie werden beim Zugriff auf den jeweiligen *Zahlenbereich* **berechnet**.\n",
    "\n",
    "Die Eigenschaft der *Faulheit* wurde mit **Python 3** eingeführt.\n",
    "\n",
    "## Erstellung\n",
    "\n",
    "Einen *Zahlenbereich* erstellen wir entweder mit ``range(stop)``, ``range(start, stop)`` oder ``range(start, stop, step)``.\n",
    "Alle Argumente müssen ganze Zahlen sein. Vergleichen Sie"
   ]
  },
  {
   "cell_type": "code",
   "execution_count": 1,
   "id": "297e9959",
   "metadata": {},
   "outputs": [
    {
     "name": "stdout",
     "output_type": "stream",
     "text": [
      "[0, 1, 2, 3, 4, 5, 6, 7, 8, 9]\n",
      "[5, 6, 7, 8, 9]\n",
      "[5, 7, 9]\n"
     ]
    }
   ],
   "source": [
    "print(list(range(10)))\n",
    "print(list(range(5, 10)))\n",
    "print(list(range(5, 10, 2)))"
   ]
  },
  {
   "cell_type": "markdown",
   "id": "ce0f416a",
   "metadata": {},
   "source": [
    "Auch negative ganze Zahlen sind möglich, hiermit können wir eine absteigende Sequenz erzeugen:"
   ]
  },
  {
   "cell_type": "code",
   "execution_count": 2,
   "id": "037f3662",
   "metadata": {},
   "outputs": [
    {
     "name": "stdout",
     "output_type": "stream",
     "text": [
      "[]\n",
      "[-10, -9, -8, -7, -6]\n",
      "[-5, -3, -1, 1, 3]\n"
     ]
    }
   ],
   "source": [
    "print(list(range(-10)))     # start = 0 und stop = -10, thus empty range\n",
    "print(list(range(-10, -5)))\n",
    "print(list(range(-5, 5, 2)))"
   ]
  },
  {
   "cell_type": "markdown",
   "id": "6d88a43e",
   "metadata": {},
   "source": [
    "## Indexierung\n",
    "\n",
    "*Zahlenbereich* können, wie [Listen](sec-list-index), indexiert werden."
   ]
  },
  {
   "cell_type": "code",
   "execution_count": 3,
   "id": "8e53c9bd",
   "metadata": {},
   "outputs": [
    {
     "name": "stdout",
     "output_type": "stream",
     "text": [
      "0\n",
      "1\n"
     ]
    }
   ],
   "source": [
    "myrange = range(10)\n",
    "print(myrange[0])\n",
    "print(myrange[1])"
   ]
  },
  {
   "cell_type": "markdown",
   "id": "b96096a8",
   "metadata": {},
   "source": [
    "Indexieren wir mehr als einen Wert eines Zahlenbereichs, so wird ein neuer entsprechender Zahlenbereichs erzeugt:"
   ]
  },
  {
   "cell_type": "code",
   "execution_count": 4,
   "id": "5b02f7d0",
   "metadata": {},
   "outputs": [
    {
     "name": "stdout",
     "output_type": "stream",
     "text": [
      "range(2, 10, 3)\n",
      "range(9, 2, -2)\n"
     ]
    }
   ],
   "source": [
    "myrange = range(10)\n",
    "print(myrange[2::3])\n",
    "print(myrange[-1:2:-2])"
   ]
  },
  {
   "cell_type": "markdown",
   "id": "fffa30b2",
   "metadata": {},
   "source": [
    "Der obige Code erzeugt lediglich neue *lazy* Bereiche, doch die ganzen Zahlen werden nicht in den Speicher gelegt.\n",
    "Wandeln wir Bereiche in eine Liste um, so werden deren ganze Zahlen in den Speicher abgelegt."
   ]
  },
  {
   "cell_type": "code",
   "execution_count": 5,
   "id": "b6a66ebd",
   "metadata": {},
   "outputs": [
    {
     "name": "stdout",
     "output_type": "stream",
     "text": [
      "[2, 5, 8]\n",
      "[9, 7, 5, 3]\n"
     ]
    }
   ],
   "source": [
    "myrange = range(10)\n",
    "print(list(myrange[2::3]))\n",
    "print(list(myrange[-1:2:-2]))"
   ]
  }
 ],
 "metadata": {
  "jupytext": {
   "formats": "md:myst",
   "text_representation": {
    "extension": ".md",
    "format_name": "myst"
   }
  },
  "kernelspec": {
   "display_name": "Python 3",
   "language": "python",
   "name": "python3"
  },
  "language_info": {
   "codemirror_mode": {
    "name": "ipython",
    "version": 3
   },
   "file_extension": ".py",
   "mimetype": "text/x-python",
   "name": "python",
   "nbconvert_exporter": "python",
   "pygments_lexer": "ipython3",
   "version": "3.11.4"
  },
  "source_map": [
   11,
   31,
   35,
   39,
   43,
   49,
   53,
   57,
   61,
   66
  ]
 },
 "nbformat": 4,
 "nbformat_minor": 5
}