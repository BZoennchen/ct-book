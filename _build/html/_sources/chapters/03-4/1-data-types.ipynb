{
 "cells": [
  {
   "cell_type": "markdown",
   "id": "3fcb369e",
   "metadata": {},
   "source": [
    "(sec-working-with-data-types)=\n",
    "# Pythons Datentypen\n",
    "\n",
    "Beginnen wir mit der Praxis und sehen uns an welche Datentypen uns ``Python`` bietet und was wir mit diesen anfangen können.\n",
    "\n",
    "```{admonition} Built-in Datentypen\n",
    ":name: def-built-in-data-types\n",
    ":class: python\n",
    "\n",
    "Die von ``Python`` vorab definierten Datentypen nennt man *built-in Datentypen*.\n",
    "```\n",
    "\n",
    "Wir werden in diesem Kapitel nicht alle *built-in Datentypen* besprechen, sondern jene mit denen Sie die meiste Zeit zu tun haben.\n",
    "Eine vollständige Liste der Datentypen finden Sie im Abschnitt [Built-in Datentypen](sec-built-in-data-types).\n",
    "\n",
    "Wir können die *built-in Datentypen* in weitere zwei Kategorien zerteilen:\n",
    "\n",
    "1. *Atomare Datentypen*, also Datentypen die sich auf einen einzelnen Wert beziehen und\n",
    "2. *Zusammengesetzt Datentypen*\n",
    "\n",
    "Haben Sie bereits Programmiererfahrung, so werden Sie *atomare Datentypen* als *primitive Datentypen* wahrnehmen, doch streng genommen gibt es in ``Python`` keine primitiven Datentypen.\n",
    "Dennoch verhalten sich *atomare Datentypen* ähnlich wie *primitive Datentypen*.\n",
    "\n",
    "```{admonition} Python und primitive Datentypen\n",
    ":name: theorem-primitive-data-types-in-python\n",
    ":class: theorem\n",
    "\n",
    "Es gibt in ``Python`` keine primitiven Datentypen.\n",
    "```\n",
    "\n",
    "Der Wert eines *atomaren Datentyps* lässt sich nicht sinnvoll weiter in seine Einzelteile zersplittern.\n",
    "\n",
    "*Zusammengesetzte Datentypen* sind zum Beispiel: Zeichenketten ``str``, Listen ``list``, Tupel ``tuple``, Mengen ``set`` und Wörterbücher ``dict``.\n",
    "\n",
    "Den Datentyp einer Variable oder eines Wertes erfragen Sie mit der *built-in* Funktion ``type``."
   ]
  },
  {
   "cell_type": "code",
   "execution_count": 1,
   "id": "cb6a064f",
   "metadata": {},
   "outputs": [
    {
     "name": "stdout",
     "output_type": "stream",
     "text": [
      "<class 'int'>\n",
      "<class 'str'>\n",
      "<class 'float'>\n"
     ]
    }
   ],
   "source": [
    "x = 5\n",
    "text = 'Hello'\n",
    "print(type(x))\n",
    "print(type(text))\n",
    "print(type(3.1))"
   ]
  },
  {
   "cell_type": "markdown",
   "id": "8beb6767",
   "metadata": {},
   "source": [
    "(sec-atom-data-type)=\n",
    "## Atomare Datentypen \n",
    "\n",
    "Eine wesentlich Eigenschaft von *atomaren Datentypen* ist die Unveränderbarkeit ihres des Werts.\n",
    "Der **Wert** einer Variable eines *atomaren Datentyps* liegt **unverändert** im Speicher.\n",
    "\n",
    "```{admonition} Atomare Datentypen\n",
    ":name: def-atomare-data-types\n",
    ":class: python\n",
    "\n",
    "*Datentypen* welche sich auf einen einzelnen Wert beziehen, d.h., ganze Zahlen ``int``, Wahrheitswerte ``bool`` und Gleitkommazahlen ``float`` sind *atomare Datentypen*.\n",
    "```\n",
    "\n",
    "Wird der **Wert** durch keiner Variablen adressiert, wird er (vom [Garbage Collector](def-garbage-collector)) zwar gelöscht.\n",
    "In anderen Worten, wird der Speicher von Ihrem laufenden Programm nicht mehr benötigt, kümmert sich der Garbage Collector, den von Ihnen belegten Speicher wieder freizugeben.\n",
    "Der Speicher der durch einen Wert eines *atomaren Datentyp* belegt ist kann also durchaus verändert werden, allerdings nur dann wenn er nicht mehr gebraucht wird.\n",
    "\n",
    "```{admonition} Unveränderliche atomare Datentypen\n",
    ":class: theorem\n",
    ":name: theorem-immutable-atom-data-types\n",
    "Atomare Datentypen sind *unveränderlich*.\n",
    "```\n",
    "\n",
    "Wir haben dieses Phänomen bereits im Abschnitt [Variablen](sec-variables) beobachtet.\n",
    "Wir hatten festgehalten, dass Veränderungen der einen Variablen keinen Effekt auf die **Adresse** bzw. *Identität* ``id`` anderer Variablen haben.\n",
    "Für *atomare Datentypen* gilt noch mehr: \n",
    "\n",
    "```{admonition} Unveränderliche atomare Datentypen\n",
    ":class: remark\n",
    ":name: remark-immutable-atom-data-types\n",
    "Ändern wir den **Wert** einer Variable vom Typ ``int``, ``bool`` oder ``float``, so kann diese Änderung nicht den **Wert** einer anderen Variablen verändern.\n",
    "```\n",
    "\n",
    "Folgendes Beispiel illustriert diese Tatsache."
   ]
  },
  {
   "cell_type": "code",
   "execution_count": 2,
   "id": "ba538710",
   "metadata": {},
   "outputs": [
    {
     "name": "stdout",
     "output_type": "stream",
     "text": [
      "value of x = 12313\n",
      "id of x = 4582848368\n",
      "value of z = 12313\n",
      "id of z = 4582848368\n",
      "change value of x\n",
      "value of x = 11341\n",
      "id of x = 4582842544\n",
      "value of z = 12313\n",
      "id of z = 4582848368\n"
     ]
    }
   ],
   "source": [
    "x = 12313\n",
    "z = x\n",
    "print(f'value of x = {x}')\n",
    "print(f'id of x = {id(x)}')\n",
    "\n",
    "print(f'value of z = {z}')\n",
    "print(f'id of z = {id(z)}')\n",
    "print('change value of x')\n",
    "x = 11341\n",
    "print(f'value of x = {x}')\n",
    "print(f'id of x = {id(x)}')\n",
    "\n",
    "print(f'value of z = {z}')\n",
    "print(f'id of z = {id(z)}')"
   ]
  },
  {
   "cell_type": "markdown",
   "id": "e9a116c0",
   "metadata": {},
   "source": [
    "(sec-datastructures)=\n",
    "## Zusammengesetzte Datentypen\n",
    "\n",
    "*Zusammengesetzte Datentypen* oder auch *Datenstrukturen* bestehen hingegen aus mehreren Werten.\n",
    "Sie strukturieren diese Werte.\n",
    "\n",
    "```{admonition} Zusammengesetzt Datentypen \n",
    ":name: def-data-structures\n",
    ":class: python\n",
    "\n",
    "Datentypen welche Sammlungen von Werten modellieren, bezeichnen wir als *zusammengesetzte Datentypen* oder *Datenstrukturen*.\n",
    "```\n",
    "\n",
    "Anders als bei *atomaren Datentypen* lässt sich der **Wert** einer Datenstruktur verändern.\n",
    "D.h., der Inhalt der Datenstruktur kann in der Regel verändert werden.\n",
    "\n",
    "Sie können sich eine Datenstruktur wie ein Behältnis aus der Realwelt vorstellen.\n",
    "Einen Rucksack können wir mit Dingen befüllen, die wir möglicherweise nicht verändern können.\n",
    "Der Rucksack selbst, lässt sich demnach sehr leicht verändern.\n",
    "Wir müssen lediglich Elemente hinauswerfen oder einfügen.\n",
    "\n",
    "Nehmen wir einmal an, eine Datenstruktur enthält ausschließlich ganze Zahlen ``int``.\n",
    "Verändern wir nun eine dieser Zahlen, so wird der **Wert** im Speicher, der diese Zahl repräsentiert, nicht verändert -- es ist ja ein *atomarer Datentyp*!\n",
    "**Aber** es wird ein neuer Wert in den Speicher geschrieben und die Datenstruktur wird so manipuliert, dass einer ihrer Einträge nun auf diesen neuen Wert zeigt.\n",
    "\n",
    "Im Abschnitt [Listen und der Speicher](sec-list-and-memory) sehen wir uns an was genau im Speicher vor sich geht, wenn wir mit Listen arbeiten.\n",
    "Dies kann auf andere *Datenstrukturen* übertragen werden."
   ]
  }
 ],
 "metadata": {
  "jupytext": {
   "formats": "md:myst",
   "text_representation": {
    "extension": ".md",
    "format_name": "myst"
   }
  },
  "kernelspec": {
   "display_name": "Python 3",
   "language": "python",
   "name": "python3"
  },
  "language_info": {
   "codemirror_mode": {
    "name": "ipython",
    "version": 3
   },
   "file_extension": ".py",
   "mimetype": "text/x-python",
   "name": "python",
   "nbconvert_exporter": "python",
   "pygments_lexer": "ipython3",
   "version": "3.10.8"
  },
  "source_map": [
   11,
   49,
   55,
   92,
   107
  ]
 },
 "nbformat": 4,
 "nbformat_minor": 5
}