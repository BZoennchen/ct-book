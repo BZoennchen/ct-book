{
 "cells": [
  {
   "cell_type": "markdown",
   "id": "dc46da9c",
   "metadata": {},
   "source": [
    "(sec-set)=\n",
    "# Mengen - set\n",
    "\n",
    "``Python``-Mengen (engl. [Set](https://docs.python.org/3/library/stdtypes.html#set-types-set-frozenset)) ``set`` ist eine ungeordnete Zusammenfassung (engl. collection) von Elementen, wobei jedes Element in der Menge einzigartig ist.\n",
    "Damit repräsentieren ``Python``-Mengen ``set`` *endliche* [Mengen](sec-math-set) im mathematischen Sinne.\n",
    "Endlich deshalb, weil die Elemente von ``Python``-Mengen explizit im Speicher liegen und wir nur endlich viel Arbeitsspeicher zur Verfügung haben.\n",
    "\n",
    "Eine mathematische Menge $M$ ist ein abstraktes Objekt, das aus der Zusammenfassung einer Anzahl von einzelnen Elementen hervorgeht.\n",
    "Dabei ist jedes Element was sich in der Menge befindet von allen anderen Elementen verschieden.\n",
    "Anders als [mathematische Tupel](sec-math-tuple) (durch die ``Python``-Tupel und den Listen motiviert sind) sind Mengen ungeordnet.\n",
    "\n",
    "Von hier an meinen wir mit Mengen die ``Python``-Mengen ``set`` und sprechen ansonsten von mathematischen Mengen.\n",
    "\n",
    "## Motivation\n",
    "\n",
    "Mengen benutzten wir immer dann, wenn wir die Eigenschaft der **Eindeutigkeit** und **Unordnung** nutzten wollen.\n",
    "Dabei bezieht sich diese Eindeutigkeit auf die [Gleichheit](def-equality) und nicht auf die [Identität](def-identity).\n",
    "D.h. eine ``Python``-Menge enthält keine zwei Elemente ``x``, ``y`` für die ``x == y`` zu ``True`` ausgewertet wird.\n",
    "\n",
    "Es ist an dieser Stelle anzumerken, dass der Test \n",
    "\n",
    "$$e \\in M$$\n",
    "\n",
    "für eine Menge deutlich weniger Rechenzeit benötigt als für eine Liste.\n",
    "Präziser ausgedrückt, ist die Laufzeit dieser Operation für Mengen konstant $\\mathcal{O}(1)$ und für Listen wächst sie linear mit der Anzahl ihrer Elemente $\\mathcal{O}(n)$.\n",
    "\n",
    "Befinden sich $n$ Elemente in der Liste bzw. Menge so benötigen wir im schlechtesten Fall $n$ Berechnungsschritte um festzustellen ob sich ein bestimmtes Element in der Liste befindet.\n",
    "Verwenden wir hingegen eine Menge, so benötigen wir nicht mehr als eine bestimmte konstante Anzahl an Schritten.\n",
    "In anderen Worten, die Laufzeit des Test ist (nahezu) unabhängig von der Anzahl der Elemente die sich in der Menge befinden!\n",
    "Das heißt, die Laufzeit hängt von der Größe der Liste ``list`` ab, überraschenderweise jedoch nicht von der Größe der Menge ``set``.\n",
    "\n",
    "## Erstellung\n",
    "\n",
    "Eine Menge erzeugen Sie ähnlich wie eine Liste, allerdings verwenden wir die geschweiften Klammern:"
   ]
  },
  {
   "cell_type": "code",
   "execution_count": 1,
   "id": "f7a4325e",
   "metadata": {},
   "outputs": [
    {
     "data": {
      "text/plain": [
       "{0, 1, 2, 3, 4, 5}"
      ]
     },
     "execution_count": 1,
     "metadata": {},
     "output_type": "execute_result"
    }
   ],
   "source": [
    "numbers = {0, 1, 2, 3, 4, 5, 0}\n",
    "numbers"
   ]
  },
  {
   "cell_type": "markdown",
   "id": "16e575ae",
   "metadata": {},
   "source": [
    "Sie können Listen, Tupel und im Allgemeinen Sequenzen in Mengen umwandeln:"
   ]
  },
  {
   "cell_type": "code",
   "execution_count": 2,
   "id": "e2cdd709",
   "metadata": {},
   "outputs": [
    {
     "name": "stdout",
     "output_type": "stream",
     "text": [
      "{0, 1, 2, 3, 4, 5, 6, 7, 8, 9, 10, 11, 12, 13, 14, 15, 16, 17, 18, 19}\n",
      "{'b', 'c', 'd', 'f', 'a', 'e'}\n"
     ]
    }
   ],
   "source": [
    "numbers = set(range(20))\n",
    "print(numbers)\n",
    "chars = set('aabcdddef')\n",
    "print(chars)"
   ]
  },
  {
   "cell_type": "markdown",
   "id": "945ad5d3",
   "metadata": {},
   "source": [
    "Beachten Sie, dass hierbei doppelte Elemente nicht doppelt in der Menge vorkommen.\n",
    "Beachten Sie auch, dass Sie eine leere Menge **nicht** mit ``{}`` sondern mit"
   ]
  },
  {
   "cell_type": "code",
   "execution_count": 3,
   "id": "d8be1fe0",
   "metadata": {},
   "outputs": [
    {
     "data": {
      "text/plain": [
       "set()"
      ]
     },
     "execution_count": 3,
     "metadata": {},
     "output_type": "execute_result"
    }
   ],
   "source": [
    "emptyset = set()\n",
    "emptyset"
   ]
  },
  {
   "cell_type": "markdown",
   "id": "4fea6252",
   "metadata": {},
   "source": [
    "erzeugen! ``{}`` erzeugt hingegen ein leeres [Wörterbuch](sec-dict).\n",
    "\n",
    "## Indexierung?\n",
    "\n",
    "Da Mengen ungeordnet sind, können wir diese nicht indexieren.\n",
    "Folgender Code führt zu einem Fehler."
   ]
  },
  {
   "cell_type": "code",
   "execution_count": 4,
   "id": "28ba7427",
   "metadata": {
    "tags": [
     "raises-exception"
    ]
   },
   "outputs": [
    {
     "ename": "TypeError",
     "evalue": "'set' object is not subscriptable",
     "output_type": "error",
     "traceback": [
      "\u001b[0;31m---------------------------------------------------------------------------\u001b[0m",
      "\u001b[0;31mTypeError\u001b[0m                                 Traceback (most recent call last)",
      "Cell \u001b[0;32mIn[4], line 2\u001b[0m\n\u001b[1;32m      1\u001b[0m numbers \u001b[38;5;241m=\u001b[39m {\u001b[38;5;241m0\u001b[39m, \u001b[38;5;241m1\u001b[39m, \u001b[38;5;241m2\u001b[39m, \u001b[38;5;241m3\u001b[39m, \u001b[38;5;241m4\u001b[39m, \u001b[38;5;241m5\u001b[39m}\n\u001b[0;32m----> 2\u001b[0m \u001b[43mnumbers\u001b[49m\u001b[43m[\u001b[49m\u001b[38;5;241;43m2\u001b[39;49m\u001b[43m]\u001b[49m\n",
      "\u001b[0;31mTypeError\u001b[0m: 'set' object is not subscriptable"
     ]
    }
   ],
   "source": [
    "numbers = {0, 1, 2, 3, 4, 5}\n",
    "numbers[2]"
   ]
  },
  {
   "cell_type": "markdown",
   "id": "4f5a18ed",
   "metadata": {},
   "source": [
    "Wir können zwar testen, ob sich ein Element in der Menge befindet"
   ]
  },
  {
   "cell_type": "code",
   "execution_count": 5,
   "id": "c265c11e",
   "metadata": {},
   "outputs": [
    {
     "name": "stdout",
     "output_type": "stream",
     "text": [
      "2 in numbers?: True\n",
      "-3 in numbers?: False\n"
     ]
    }
   ],
   "source": [
    "numbers = {0, 1, 2, 3, 4, 5}\n",
    "print(f'2 in numbers?: {2 in numbers}')\n",
    "print(f'-3 in numbers?: {-3 in numbers}')"
   ]
  },
  {
   "cell_type": "markdown",
   "id": "41bdc0c8",
   "metadata": {},
   "source": [
    "und wir können auch mit einer Schleife durch alle Elemente iterieren"
   ]
  },
  {
   "cell_type": "code",
   "execution_count": 6,
   "id": "a811b6c6",
   "metadata": {},
   "outputs": [
    {
     "name": "stdout",
     "output_type": "stream",
     "text": [
      "0\n",
      "1\n",
      "2\n",
      "3\n",
      "4\n",
      "5\n"
     ]
    }
   ],
   "source": [
    "numbers = {0, 1, 2, 3, 4, 5}\n",
    "for number in numbers:\n",
    "    print(number)"
   ]
  },
  {
   "cell_type": "markdown",
   "id": "49b58fd4",
   "metadata": {},
   "source": [
    "doch bleibt uns der Zugriff auf einzelne Elemente verwehrt.\n",
    "Mengen bieten weder einen Index noch irgendeine anderes Möglichkeit, um auf bestimmte einzelne Mengenelemente zugreifen zu können.\n",
    "\n",
    "## Mengenoperationen\n",
    "\n",
    "Was Mengen bieten sind die sog. Mengenoperationen, welche den mathematischen Mengenoperationen gleichen.\n",
    "Seien $A$ und $B$ mathematische Mengen und ``a``, ``b`` ihre entsprechenden ``Python``-Repräsentanten, dann entspricht"
   ]
  },
  {
   "cell_type": "code",
   "execution_count": 7,
   "id": "2ae9aa50",
   "metadata": {},
   "outputs": [
    {
     "name": "stdout",
     "output_type": "stream",
     "text": [
      "{0, 2, 4}\n",
      "{0, 2, 4}\n"
     ]
    }
   ],
   "source": [
    "a = {0, 1, 2, 3, 4, 5}\n",
    "b = {1, 3, 5, 7, 9, 11}\n",
    "\n",
    "print(a - b)\n",
    "print(a.difference(b))"
   ]
  },
  {
   "cell_type": "markdown",
   "id": "1f49030e",
   "metadata": {},
   "source": [
    "$$A \\setminus B$$"
   ]
  },
  {
   "cell_type": "code",
   "execution_count": 8,
   "id": "ee0113e2",
   "metadata": {},
   "outputs": [
    {
     "name": "stdout",
     "output_type": "stream",
     "text": [
      "{0, 1, 2, 3, 4, 5, 7, 9, 11}\n",
      "{0, 1, 2, 3, 4, 5, 7, 9, 11}\n"
     ]
    }
   ],
   "source": [
    "a = {0, 1, 2, 3, 4, 5}\n",
    "b = {1, 3, 5, 7, 9, 11}\n",
    "\n",
    "print(a | b)\n",
    "print(a.union(b))"
   ]
  },
  {
   "cell_type": "markdown",
   "id": "a937b728",
   "metadata": {},
   "source": [
    "$$A \\cup B$$"
   ]
  },
  {
   "cell_type": "code",
   "execution_count": 9,
   "id": "5be2d966",
   "metadata": {},
   "outputs": [
    {
     "name": "stdout",
     "output_type": "stream",
     "text": [
      "{1, 3, 5}\n",
      "{1, 3, 5}\n"
     ]
    }
   ],
   "source": [
    "a = {0, 1, 2, 3, 4, 5}\n",
    "b = {1, 3, 5, 7, 9, 11}\n",
    "\n",
    "print(a & b)\n",
    "print(a.intersection(b))"
   ]
  },
  {
   "cell_type": "markdown",
   "id": "1ce3fcd3",
   "metadata": {},
   "source": [
    "$$A \\cap B$$\n",
    "\n",
    "und"
   ]
  },
  {
   "cell_type": "code",
   "execution_count": 10,
   "id": "6f964831",
   "metadata": {},
   "outputs": [
    {
     "name": "stdout",
     "output_type": "stream",
     "text": [
      "{0, 2, 4, 7, 9, 11}\n",
      "{0, 2, 4, 7, 9, 11}\n"
     ]
    }
   ],
   "source": [
    "a = {0, 1, 2, 3, 4, 5}\n",
    "b = {1, 3, 5, 7, 9, 11}\n",
    "\n",
    "print(a ^ b)\n",
    "print(a.symmetric_difference(b))"
   ]
  },
  {
   "cell_type": "markdown",
   "id": "0ef329ed",
   "metadata": {},
   "source": [
    "$$(A \\cup B) \\setminus (A \\cap B),$$\n",
    "\n",
    "d.h., Elemente in entweder $A$ oder $B$ jedoch keine Elemente die in $A$ und $B$ vorkommen (exklusives Oder).\n",
    "\n",
    "## Veränderung\n",
    "\n",
    "Mengen sind **veränderlich** (engl. mutable) allerdings darf eine Menge nur **unveränderliche** (engl. immutable) Elemente enthalten!\n",
    "Damit darf eine Menge keine Listen enthalten, weshalb folgender Code zu einem Fehler führt\n",
    "\n",
    "```{admonition} Mengen in Python\n",
    ":name: attention-sets-in-python\n",
    ":class: attention\n",
    "Eine Menge ist **veränderlich** darf jedoch lediglich **unveränderliche** Elemente enthalten.\n",
    "```"
   ]
  },
  {
   "cell_type": "code",
   "execution_count": 11,
   "id": "cad2df9a",
   "metadata": {
    "tags": [
     "raises-exception"
    ]
   },
   "outputs": [
    {
     "ename": "TypeError",
     "evalue": "unhashable type: 'list'",
     "output_type": "error",
     "traceback": [
      "\u001b[0;31m---------------------------------------------------------------------------\u001b[0m",
      "\u001b[0;31mTypeError\u001b[0m                                 Traceback (most recent call last)",
      "Cell \u001b[0;32mIn[11], line 1\u001b[0m\n\u001b[0;32m----> 1\u001b[0m myset \u001b[38;5;241m=\u001b[39m {\u001b[38;5;241m0\u001b[39m, \u001b[38;5;241m1\u001b[39m, [\u001b[38;5;241m2\u001b[39m, \u001b[38;5;241m3\u001b[39m, \u001b[38;5;241m4\u001b[39m]}\n",
      "\u001b[0;31mTypeError\u001b[0m: unhashable type: 'list'"
     ]
    }
   ],
   "source": [
    "myset = {0, 1, [2, 3, 4]}"
   ]
  },
  {
   "cell_type": "markdown",
   "id": "f2361256",
   "metadata": {},
   "source": [
    "Warum gilt dies?\n",
    "Blicken wir auf folgendes (nicht funktionierendes) Beispiel\n",
    "\n",
    "```python\n",
    "list1 = [1,2,3]\n",
    "list2 = [0,2,3]\n",
    "myset = {list1, list2}\n",
    "```\n",
    "\n",
    "Es befinden sich nun zwei unterschiedliche Listen in der Menge ``myset``.\n",
    "Soweit alles in Ordnung.\n",
    "Was passiert allerdings wenn wir ``list2`` so verändern, dass sich ``list1 == list2`` ergibt?\n",
    "\n",
    "```python\n",
    "list2[0] = 1\n",
    "```\n",
    "\n",
    "Nach dieser Codezeile befänden sich zwei gleiche Elemente in der Menge, was natürlich nicht sein darf.\n",
    "Die Menge müsste deshalb von dieser Änderung etwas mitbekommen und daraufhin sich selbst anpassen.\n",
    "Das würde die Implementierung einer Menge immens verkomplizieren und würde zu großen Problemen führen.\n",
    "Deshalb bekommt die Menge von dieser Änderung nichts mit und somit hätten wir den Salat.\n",
    "\n",
    "Wir können mit den Funktionen ``add()`` und ``remove()`` Elemente zu einer Menge hinzufügen und von ihr entfernen."
   ]
  },
  {
   "cell_type": "code",
   "execution_count": 12,
   "id": "1f9e2f4c",
   "metadata": {
    "tags": [
     "raises-exception"
    ]
   },
   "outputs": [
    {
     "name": "stdout",
     "output_type": "stream",
     "text": [
      "{0, 1, 2}\n",
      "{0, 1, 2, 3}\n",
      "{0, 2, 3}\n"
     ]
    },
    {
     "ename": "KeyError",
     "evalue": "10",
     "output_type": "error",
     "traceback": [
      "\u001b[0;31m---------------------------------------------------------------------------\u001b[0m",
      "\u001b[0;31mKeyError\u001b[0m                                  Traceback (most recent call last)",
      "Cell \u001b[0;32mIn[12], line 8\u001b[0m\n\u001b[1;32m      6\u001b[0m numbers\u001b[38;5;241m.\u001b[39mremove(\u001b[38;5;241m1\u001b[39m) \u001b[38;5;66;03m# remove element\u001b[39;00m\n\u001b[1;32m      7\u001b[0m \u001b[38;5;28mprint\u001b[39m(numbers)\n\u001b[0;32m----> 8\u001b[0m \u001b[43mnumbers\u001b[49m\u001b[38;5;241;43m.\u001b[39;49m\u001b[43mremove\u001b[49m\u001b[43m(\u001b[49m\u001b[38;5;241;43m10\u001b[39;49m\u001b[43m)\u001b[49m \u001b[38;5;66;03m# remove non-existing element causes error\u001b[39;00m\n\u001b[1;32m      9\u001b[0m \u001b[38;5;28mprint\u001b[39m(numbers)\n",
      "\u001b[0;31mKeyError\u001b[0m: 10"
     ]
    }
   ],
   "source": [
    "numbers = {0, 1, 2}\n",
    "numbers.add(0)    # add duplicate, silently ignored\n",
    "print(numbers)\n",
    "numbers.add(3)    # add new element\n",
    "print(numbers)\n",
    "numbers.remove(1) # remove element\n",
    "print(numbers)\n",
    "numbers.remove(10) # remove non-existing element causes error\n",
    "print(numbers)"
   ]
  },
  {
   "cell_type": "markdown",
   "id": "e3c05645",
   "metadata": {},
   "source": [
    "Es gibt auch den Datentyp / die Datenstruktur ``frozenset``.\n",
    "Diese ist im Gegensatz zu ``set`` **unveränderlich**.\n",
    "Diese benötigen Sie, wenn Ihre Menge weitere Mengen enthalten soll.\n",
    "\n",
    "Wir können Mengen auch durch die Mengenoperationen verändern.\n",
    "Wie der ``+``-Operator auf Listen und Tupel, legen die oben beschriebenen Operatoren Kopien im Speicher an.\n",
    "Dies sehen wir, wie so oft, wenn wir uns die ``id``s ansehen:"
   ]
  },
  {
   "cell_type": "code",
   "execution_count": 13,
   "id": "62cacd1e",
   "metadata": {},
   "outputs": [
    {
     "name": "stdout",
     "output_type": "stream",
     "text": [
      "id of a before difference: 4402635136\n",
      "id of a after difference: 4402635136\n",
      "id of c: 4402632448\n",
      "a = {0, 1, 2, 3, 4, 5}\n",
      "b = {1, 3, 5, 7, 9, 11}\n",
      "c = {0, 2, 4}\n"
     ]
    }
   ],
   "source": [
    "a = {0, 1, 2, 3, 4, 5}\n",
    "b = {1, 3, 5, 7, 9, 11}\n",
    "\n",
    "print(f'id of a before difference: {id(a)}')\n",
    "\n",
    "c = a - b\n",
    "print(f'id of a after difference: {id(a)}')\n",
    "print(f'id of c: {id(c)}')\n",
    "print(f'a = {a}')\n",
    "print(f'b = {b}')\n",
    "print(f'c = {c}')"
   ]
  },
  {
   "cell_type": "markdown",
   "id": "901a2842",
   "metadata": {},
   "source": [
    "Wir können jedoch auch das Gegenstück zum ``+=``-Operator verwenden:"
   ]
  },
  {
   "cell_type": "code",
   "execution_count": 14,
   "id": "3831c272",
   "metadata": {},
   "outputs": [
    {
     "name": "stdout",
     "output_type": "stream",
     "text": [
      "id of a before difference: 4402634688\n",
      "id of a after difference: 4402634688\n",
      "a = {0, 2, 4}\n",
      "b = {1, 3, 5, 7, 9, 11}\n"
     ]
    }
   ],
   "source": [
    "a = {0, 1, 2, 3, 4, 5}\n",
    "b = {1, 3, 5, 7, 9, 11}\n",
    "\n",
    "print(f'id of a before difference: {id(a)}')\n",
    "\n",
    "a -= b\n",
    "print(f'id of a after difference: {id(a)}')\n",
    "print(f'a = {a}')\n",
    "print(f'b = {b}')"
   ]
  },
  {
   "cell_type": "markdown",
   "id": "70f15f4d",
   "metadata": {},
   "source": [
    "Wir sehen, dass in diesem Fall der Speicherbereich durch den wir zu Beginn durch ``a`` zugreifen können, verändert wird.\n",
    "\n",
    "## Mengen und der Speicher\n",
    "\n",
    "Wenn Sie verstanden haben wie Mengen im Speicher realisiert werden, wird Ihnen noch klarer warum diese nur **unveränderliche** Elemente enthalten dürfen.\n",
    "Eine ausgiebige Beschreibung dessen finden Sie im Kapitel [Namensregister](sec-name-register), genauer im Abschnitt [Hashing und das Dictionary](sec-hashing).\n",
    "Lassen Sie uns dennoch versuchen die Grundproblematik und das Grundprinzip herauszuarbeiten.\n",
    "\n",
    "Auf dem Computer gibt es keine Hardwareeinheit, die so etwas wie eine Menge realisieren würde.\n",
    "Der Speicher eines Computers ist eine sehr lange Liste auf deren Elemente wir durch Indices (**Adressen**) zugreifen können.\n",
    "Kennen wir die Adresse, so ist der Zugriff enorm schnell.\n",
    "\n",
    "Um zu testen ob sich ein Element in der Liste befindet, müssen wir es in der Liste suchen und im schlimmsten Fall alle Elemente durchgehen."
   ]
  },
  {
   "cell_type": "code",
   "execution_count": 15,
   "id": "4594d4a8",
   "metadata": {},
   "outputs": [
    {
     "data": {
      "text/plain": [
       "True"
      ]
     },
     "execution_count": 15,
     "metadata": {},
     "output_type": "execute_result"
    }
   ],
   "source": [
    "mylist = [1, 'a', 2, 5, 6, 8]\n",
    "6 in mylist"
   ]
  },
  {
   "cell_type": "markdown",
   "id": "14150c2f",
   "metadata": {},
   "source": [
    "entspricht folgendem Code"
   ]
  },
  {
   "cell_type": "code",
   "execution_count": 16,
   "id": "f0956c1d",
   "metadata": {},
   "outputs": [
    {
     "data": {
      "text/plain": [
       "True"
      ]
     },
     "execution_count": 16,
     "metadata": {},
     "output_type": "execute_result"
    }
   ],
   "source": [
    "mylist = [1, 'a', 2, 5, 6, 8]\n",
    "contains = False\n",
    "for element in mylist:\n",
    "    if 6 == element:\n",
    "        contains = True\n",
    "        break\n",
    "contains"
   ]
  },
  {
   "cell_type": "markdown",
   "id": "f2ee5eec",
   "metadata": {},
   "source": [
    "Genau dieses Durchsuchen versuchen Mengen zu verhindern.\n",
    "\n",
    "Ok, machen wir es uns ein wenig einfacher.\n",
    "Nehmen wir einmal an Sie möchten eine veränderliche Menge von ganzen Zahlen *modellieren*.\n",
    "Sie wissen jedoch, dass die Zahlen $k$ alle zwischen 100 und 130 liegen, genauer gesagt $100 \\leq k < 130$.\n",
    "Wie könnten wir unter diesen Voraussetzungen eine Menge als Liste implementieren?\n",
    "\n",
    "Wir wählen eine Liste die immer 30 Elemente enthält, sodass wir für eine gegebene Zahl $k$ den zugehörigen Listenindex\n",
    "\n",
    "$$i \\leftarrow (k-100)$$\n",
    "\n",
    "sehr einfach berechnen können.\n",
    "\n",
    "Aber hatten wir nicht gesagt, dass eine Liste keine Lücken enthält?\n",
    "Wir können künstliche Lücken einfügen.\n",
    "Unsere leere Menge enthält 30 'Lücken'.\n",
    "Wir verwenden hierfür das Symbol für das Nichts, d.h., ``None``."
   ]
  },
  {
   "cell_type": "code",
   "execution_count": 17,
   "id": "f5d181cf",
   "metadata": {
    "tags": [
     "output_scroll"
    ]
   },
   "outputs": [
    {
     "data": {
      "text/plain": [
       "[None,\n",
       " None,\n",
       " None,\n",
       " None,\n",
       " None,\n",
       " None,\n",
       " None,\n",
       " None,\n",
       " None,\n",
       " None,\n",
       " None,\n",
       " None,\n",
       " None,\n",
       " None,\n",
       " None,\n",
       " None,\n",
       " None,\n",
       " None,\n",
       " None,\n",
       " None,\n",
       " None,\n",
       " None,\n",
       " None,\n",
       " None,\n",
       " None,\n",
       " None,\n",
       " None,\n",
       " None,\n",
       " None,\n",
       " None]"
      ]
     },
     "execution_count": 17,
     "metadata": {},
     "output_type": "execute_result"
    }
   ],
   "source": [
    "emptyset = [None for i in range(30)]\n",
    "emptyset"
   ]
  },
  {
   "cell_type": "markdown",
   "id": "00021f29",
   "metadata": {},
   "source": [
    "Um ein Element ``k`` hinzuzufügen müssen wir\n",
    "\n",
    "1. seinen Index berechnen\n",
    "2. und es hinzufügen."
   ]
  },
  {
   "cell_type": "code",
   "execution_count": 18,
   "id": "7a5925e2",
   "metadata": {
    "tags": [
     "output_scroll"
    ]
   },
   "outputs": [
    {
     "data": {
      "text/plain": [
       "[None,\n",
       " None,\n",
       " None,\n",
       " None,\n",
       " None,\n",
       " None,\n",
       " None,\n",
       " None,\n",
       " None,\n",
       " None,\n",
       " None,\n",
       " None,\n",
       " None,\n",
       " None,\n",
       " None,\n",
       " None,\n",
       " None,\n",
       " None,\n",
       " None,\n",
       " None,\n",
       " None,\n",
       " None,\n",
       " 122,\n",
       " None,\n",
       " None,\n",
       " None,\n",
       " None,\n",
       " None,\n",
       " None,\n",
       " None]"
      ]
     },
     "execution_count": 18,
     "metadata": {},
     "output_type": "execute_result"
    }
   ],
   "source": [
    "myset = [None for i in range(30)]\n",
    "k = 122\n",
    "index = k - 100\n",
    "myset[index] = k\n",
    "myset"
   ]
  },
  {
   "cell_type": "markdown",
   "id": "985c6950",
   "metadata": {},
   "source": [
    "Um zu testen ob sich ein gegebenes Element in der Menge befindet reicht es \n",
    "\n",
    "1. seinen Index zu berechnen und\n",
    "2. zu prüfen ob es an dieser Stelle in der Liste ist."
   ]
  },
  {
   "cell_type": "code",
   "execution_count": 19,
   "id": "fcbcc3f4",
   "metadata": {},
   "outputs": [
    {
     "name": "stdout",
     "output_type": "stream",
     "text": [
      "123 in myset?: False\n",
      "122 in myset?: True\n"
     ]
    }
   ],
   "source": [
    "k1 = 123\n",
    "index1 = k1 - 100\n",
    "\n",
    "k2 = 122\n",
    "index2 = k2 - 100\n",
    "\n",
    "print(f'{k1} in myset?: {myset[index1] == k1}')\n",
    "print(f'{k2} in myset?: {myset[index2] == k2}')"
   ]
  },
  {
   "cell_type": "markdown",
   "id": "d39c8fc8",
   "metadata": {},
   "source": [
    "Sowohl das Hinzufügen als auch das Testen sind immens schnelle Operationen.\n",
    "Wir müssen nur eine arithmetische Berechnung durchführen und sind bereits am Ziel.\n",
    "\n",
    "Auf diesem Prinzip basieren Mengen ``set`` bzw. ``frozenset`` (und auch Wörterbücher ``dict``) in ``Python`` und anderen Programmiersprachen.\n",
    "Der Index wird abhängig vom Element durch eine sog. Hashfunktion berechnet.\n",
    "Diese Hashfunktion erhält als Argument das Element selbst.\n",
    "\n",
    "Eine Menge verwendet bzw. verbraucht mehr Speicher als Ihre Elemente benötigen -- anders als Listen enthält sie 'Lücken'.\n",
    "Dadurch sind die Elemente im Speicher breit verteilt, d.h., *gestreut*.\n",
    "\n",
    "Für ganze Zahlen in einem bestimmten Bereich ist das noch einfach, da die Hashfunktion für die Berechnung des Index simpel ist.\n",
    "Für beliebige Objekte wird dies deutlich schwieriger.\n",
    "Wir diskutieren dies im Kapitel [Namensregister](sec-name-register) im Detail."
   ]
  }
 ],
 "metadata": {
  "jupytext": {
   "formats": "md:myst",
   "text_representation": {
    "extension": ".md",
    "format_name": "myst"
   }
  },
  "kernelspec": {
   "display_name": "Python 3",
   "language": "python",
   "name": "python3"
  },
  "language_info": {
   "codemirror_mode": {
    "name": "ipython",
    "version": 3
   },
   "file_extension": ".py",
   "mimetype": "text/x-python",
   "name": "python",
   "nbconvert_exporter": "python",
   "pygments_lexer": "ipython3",
   "version": "3.11.4"
  },
  "source_map": [
   11,
   48,
   51,
   55,
   60,
   65,
   68,
   77,
   83,
   87,
   91,
   95,
   99,
   109,
   115,
   119,
   125,
   129,
   135,
   140,
   146,
   163,
   168,
   194,
   207,
   217,
   229,
   233,
   243,
   259,
   262,
   266,
   274,
   294,
   300,
   307,
   316,
   323,
   332
  ]
 },
 "nbformat": 4,
 "nbformat_minor": 5
}