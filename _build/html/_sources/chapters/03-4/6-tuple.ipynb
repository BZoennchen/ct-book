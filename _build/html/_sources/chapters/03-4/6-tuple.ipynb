{
 "cells": [
  {
   "cell_type": "markdown",
   "id": "27c875de",
   "metadata": {},
   "source": [
    "(sec-tuple)=\n",
    "# Tupel - tuple\n",
    "\n",
    "[Listen](sec-list) und [Tupel](https://docs.python.org/3/library/stdtypes.html#tuple) ``tuple`` (wie auch [Zeichenketten](sec-string), und [Zahlenbereiche](sec-range)) sind allesamt [Sequenzen](https://docs.python.org/3/library/stdtypes.html#sequence-types-list-tuple-range) und haben dadurch sehr ähnliche Eigenschaften.\n",
    "Einzig bei der Erstellung verwenden wir statt der eckigen die runden Klammern:"
   ]
  },
  {
   "cell_type": "code",
   "execution_count": 1,
   "id": "383162ef",
   "metadata": {},
   "outputs": [
    {
     "data": {
      "text/plain": [
       "(1, 2, 3, 4, 5)"
      ]
     },
     "execution_count": 1,
     "metadata": {},
     "output_type": "execute_result"
    }
   ],
   "source": [
    "numbers = (1, 2, 3, 4, 5)\n",
    "numbers"
   ]
  },
  {
   "cell_type": "markdown",
   "id": "998d2d4b",
   "metadata": {},
   "source": [
    "Die Indexierung ist identisch zur [Indexierung von Listen](sec-list-index)."
   ]
  },
  {
   "cell_type": "code",
   "execution_count": 2,
   "id": "1e60dc7a",
   "metadata": {},
   "outputs": [
    {
     "name": "stdout",
     "output_type": "stream",
     "text": [
      "(3, 4)\n"
     ]
    }
   ],
   "source": [
    "numbers = (1, 2, 3, 4, 5)\n",
    "print(numbers[2:4])"
   ]
  },
  {
   "cell_type": "markdown",
   "id": "2f8cc62e",
   "metadata": {},
   "source": [
    "Der große Unterschied lieft in der Veränderbarkeit, denn Tupel ``tuple`` sind **unveränderlich** (engl. **immutable**)!\n",
    "\n",
    "```{admonition} Unveränderlichkeit\n",
    ":class: attention\n",
    ":name: attention-immutable-tuple\n",
    "Im Gegensatz zu Listen sind Tupel *unveränderliche* Datenstrukturen.\n",
    "```\n",
    "\n",
    "Aber Vorsicht ist geboten, denn das bedeutet nicht, dass wir ein Tupel überhaupt nicht verändern können.\n",
    "Was wir jedoch nicht verändern können sind die **Adressen** bzw. ``id``s seiner Elemente!\n",
    "\n",
    "Folgender Code führt zu einem Fehler:"
   ]
  },
  {
   "cell_type": "code",
   "execution_count": 3,
   "id": "a3d17fd5",
   "metadata": {
    "tags": [
     "raises-exception"
    ]
   },
   "outputs": [
    {
     "ename": "TypeError",
     "evalue": "'tuple' object does not support item assignment",
     "output_type": "error",
     "traceback": [
      "\u001b[0;31m---------------------------------------------------------------------------\u001b[0m",
      "\u001b[0;31mTypeError\u001b[0m                                 Traceback (most recent call last)",
      "\u001b[0;32m/var/folders/j4/6x0yfkp53d99gq8g0hxfl_tw0000gn/T/ipykernel_25475/2770479326.py\u001b[0m in \u001b[0;36m<module>\u001b[0;34m\u001b[0m\n\u001b[1;32m      1\u001b[0m \u001b[0mnumbers\u001b[0m \u001b[0;34m=\u001b[0m \u001b[0;34m(\u001b[0m\u001b[0;36m1\u001b[0m\u001b[0;34m,\u001b[0m \u001b[0;36m2\u001b[0m\u001b[0;34m,\u001b[0m \u001b[0;36m3\u001b[0m\u001b[0;34m,\u001b[0m \u001b[0;36m4\u001b[0m\u001b[0;34m,\u001b[0m \u001b[0;36m5\u001b[0m\u001b[0;34m)\u001b[0m\u001b[0;34m\u001b[0m\u001b[0;34m\u001b[0m\u001b[0m\n\u001b[0;32m----> 2\u001b[0;31m \u001b[0mnumbers\u001b[0m\u001b[0;34m[\u001b[0m\u001b[0;36m2\u001b[0m\u001b[0;34m]\u001b[0m \u001b[0;34m=\u001b[0m \u001b[0;34m-\u001b[0m\u001b[0;36m10\u001b[0m\u001b[0;34m\u001b[0m\u001b[0;34m\u001b[0m\u001b[0m\n\u001b[0m",
      "\u001b[0;31mTypeError\u001b[0m: 'tuple' object does not support item assignment"
     ]
    }
   ],
   "source": [
    "numbers = (1, 2, 3, 4, 5)\n",
    "numbers[2] = -10"
   ]
  },
  {
   "cell_type": "markdown",
   "id": "a0bc623d",
   "metadata": {},
   "source": [
    "Doch können wir eine *Datenstruktur*, die Element eines Tupels ist, durchaus verändern:"
   ]
  },
  {
   "cell_type": "code",
   "execution_count": 4,
   "id": "3a66b4d5",
   "metadata": {},
   "outputs": [
    {
     "data": {
      "text/plain": [
       "(1, 2, ['a', 4, 5])"
      ]
     },
     "execution_count": 4,
     "metadata": {},
     "output_type": "execute_result"
    }
   ],
   "source": [
    "numbers = (1, 2, [3, 4, 5])\n",
    "numbers[2][0] = 'a'\n",
    "numbers"
   ]
  },
  {
   "cell_type": "markdown",
   "id": "c62d2cfc",
   "metadata": {},
   "source": [
    "Tupel werden oft verwendet wenn wir eine Ansammlung von heterogenen Datentypen zusammenfassen wollen, und wir explizit ausdrücken bzw. sicher gehen wollen, dass dieses Tupel nicht verändert wird.\n",
    "\n",
    "Um beispielsweise das sich nicht ändernde Alphabet zu modellieren, eignet sich ein Tupel:"
   ]
  },
  {
   "cell_type": "code",
   "execution_count": 5,
   "id": "13331973",
   "metadata": {
    "tags": [
     "output_scroll"
    ]
   },
   "outputs": [
    {
     "data": {
      "text/plain": [
       "('A',\n",
       " 'B',\n",
       " 'C',\n",
       " 'D',\n",
       " 'E',\n",
       " 'F',\n",
       " 'G',\n",
       " 'H',\n",
       " 'I',\n",
       " 'J',\n",
       " 'K',\n",
       " 'L',\n",
       " 'M',\n",
       " 'N',\n",
       " 'O',\n",
       " 'P',\n",
       " 'Q',\n",
       " 'R',\n",
       " 'S',\n",
       " 'T',\n",
       " 'U',\n",
       " 'V',\n",
       " 'W',\n",
       " 'X',\n",
       " 'Y',\n",
       " 'Z')"
      ]
     },
     "execution_count": 5,
     "metadata": {},
     "output_type": "execute_result"
    }
   ],
   "source": [
    "alphabet = ('A', 'B', 'C', 'D', 'E', 'F', 'G', 'H', 'I', 'J', 'K', 'L', 'M', 'N', 'O', 'P', 'Q', 'R', 'S', 'T', 'U', 'V', 'W', 'X', 'Y', 'Z')\n",
    "alphabet"
   ]
  },
  {
   "cell_type": "markdown",
   "id": "0dd4a325",
   "metadata": {},
   "source": [
    "``Python`` bietet eine etwas hässliche Abkürzung für die Erstellung eines Tupels mit nur einem Element:"
   ]
  },
  {
   "cell_type": "code",
   "execution_count": 6,
   "id": "6c91c33d",
   "metadata": {},
   "outputs": [
    {
     "data": {
      "text/plain": [
       "(1,)"
      ]
     },
     "execution_count": 6,
     "metadata": {},
     "output_type": "execute_result"
    }
   ],
   "source": [
    "singleton = 1,\n",
    "singleton"
   ]
  },
  {
   "cell_type": "markdown",
   "id": "de8d146d",
   "metadata": {},
   "source": [
    "entspricht"
   ]
  },
  {
   "cell_type": "code",
   "execution_count": 7,
   "id": "21a32d1e",
   "metadata": {},
   "outputs": [
    {
     "data": {
      "text/plain": [
       "(1,)"
      ]
     },
     "execution_count": 7,
     "metadata": {},
     "output_type": "execute_result"
    }
   ],
   "source": [
    "singleton = (1,)\n",
    "singleton"
   ]
  },
  {
   "cell_type": "markdown",
   "id": "552f8e7b",
   "metadata": {},
   "source": [
    "Achtung"
   ]
  },
  {
   "cell_type": "code",
   "execution_count": 8,
   "id": "9048d41f",
   "metadata": {},
   "outputs": [
    {
     "data": {
      "text/plain": [
       "1"
      ]
     },
     "execution_count": 8,
     "metadata": {},
     "output_type": "execute_result"
    }
   ],
   "source": [
    "number = (1)\n",
    "number"
   ]
  },
  {
   "cell_type": "markdown",
   "id": "55cce194",
   "metadata": {},
   "source": [
    "funktioniert nicht!\n",
    "\n",
    "``Python`` bietet auch das Konzept des *tuple-packing* und *tuple-unpacking*, was enorm praktisch ist:"
   ]
  },
  {
   "cell_type": "code",
   "execution_count": 9,
   "id": "87a7548e",
   "metadata": {},
   "outputs": [
    {
     "name": "stdout",
     "output_type": "stream",
     "text": [
      "x = 1\n",
      "y = 2\n",
      "z = 3\n",
      "packing = (1, 2, 3)\n"
     ]
    }
   ],
   "source": [
    "triple = (1, 2, 3)\n",
    "x, y, z = triple  # unpacking\n",
    "print(f'x = {x}')\n",
    "print(f'y = {y}')\n",
    "print(f'z = {z}')\n",
    "packing = x, y, z # packing\n",
    "print(f'packing = {packing}')"
   ]
  },
  {
   "cell_type": "markdown",
   "id": "7f2ea77f",
   "metadata": {},
   "source": [
    "Ziemlich cool, wie wir finden.\n",
    "Packing bzw. unpacking ist insbesondere praktisch, wenn Sie eine Funktion schreiben möchten, die mehr als ein Rückgabewert hat:"
   ]
  },
  {
   "cell_type": "code",
   "execution_count": 10,
   "id": "007b3fe2",
   "metadata": {},
   "outputs": [
    {
     "name": "stdout",
     "output_type": "stream",
     "text": [
      "red = 201, green = 199, blue = 137\n"
     ]
    }
   ],
   "source": [
    "import random as rnd\n",
    "def random_rgb_color():\n",
    "    r = rnd.randint(0, 255)\n",
    "    g = rnd.randint(0, 255)\n",
    "    b = rnd.randint(0, 255)\n",
    "    return r, g, b\n",
    "\n",
    "r, g, b = random_rgb_color()\n",
    "print(f'red = {r}, green = {g}, blue = {b}')"
   ]
  },
  {
   "cell_type": "markdown",
   "id": "73bf3268",
   "metadata": {},
   "source": [
    "Im Falle der Listen hat der ``+=``-Operator die Liste verändert.\n",
    "Was glauben Sie macht der ``+=``-Operator für Tupel?\n",
    "Ist er definiert?\n",
    "Testen wir es aus:"
   ]
  },
  {
   "cell_type": "code",
   "execution_count": 11,
   "id": "a7c10074",
   "metadata": {
    "tags": [
     "raises-exception"
    ]
   },
   "outputs": [
    {
     "data": {
      "text/plain": [
       "(1, 2, 3, 4, 5, 6, 7, 8)"
      ]
     },
     "execution_count": 11,
     "metadata": {},
     "output_type": "execute_result"
    }
   ],
   "source": [
    "numbers = (1, 2, 3, 4, 5)\n",
    "numbers += (6,7,8)\n",
    "numbers"
   ]
  },
  {
   "cell_type": "markdown",
   "id": "b02f0ffa",
   "metadata": {},
   "source": [
    "Kein Fehler!\n",
    "Wird nun doch ``numbers`` verändert?\n",
    "Ja und nein.\n",
    "Der Speicherbereich des ursprünglichen Tupels bleibt unverändert, stattdessen wird eine Kopie angelegt."
   ]
  },
  {
   "cell_type": "code",
   "execution_count": 12,
   "id": "df37493c",
   "metadata": {
    "tags": [
     "raises-exception"
    ]
   },
   "outputs": [
    {
     "name": "stdout",
     "output_type": "stream",
     "text": [
      "id before += 140655348874672\n",
      "id after += 140655112650192\n",
      "id after += of the original 140655348874672\n",
      "numbers: (1, 2, 3, 4, 5, 6, 7, 8)\n",
      "numbers_copy: (1, 2, 3, 4, 5)\n"
     ]
    }
   ],
   "source": [
    "numbers = (1, 2, 3, 4, 5)\n",
    "numbers_copy = numbers\n",
    "print(f'id before += {id(numbers)}')\n",
    "numbers += (6,7,8)\n",
    "print(f'id after += {id(numbers)}')\n",
    "print(f'id after += of the original {id(numbers_copy)}')\n",
    "print(f'numbers: {numbers}')\n",
    "print(f'numbers_copy: {numbers_copy}')"
   ]
  },
  {
   "cell_type": "markdown",
   "id": "1b005b38",
   "metadata": {},
   "source": [
    "Diese Inkonsistenz kann gefährlich sein, denn obwohl die [Syntax](def-syntax) der Listenverkettung und Tupelverkettung sehr ähnlich sind, ist ihre [Semantik](def-semantik) sehr verschieden.\n",
    "\n",
    "````{exercise} Effizienzbetrachtung von Tupeln und Listen\n",
    ":label: tuple-vs-lists-appending-exercise\n",
    "Welche der folgenden Code-Teile benötigt nach Ihrer Meinung mehr Computerressourcen und warum?\n",
    "\n",
    "Listenerzeugung durch Anhängen:\n",
    "\n",
    "```python\n",
    "numbers = []\n",
    "i = 0\n",
    "while i < 100:\n",
    "    numbers += [i]\n",
    "    i += 1\n",
    "numbers\n",
    "```\n",
    "\n",
    "Tupelerzeugung durch Anhängen:\n",
    "\n",
    "```python\n",
    "numbers = tuple()\n",
    "i = 0\n",
    "while i < 100:\n",
    "    numbers += (i,)\n",
    "    i += 1\n",
    "numbers\n",
    "```\n",
    "````\n",
    "\n",
    "```{solution} tuple-vs-lists-appending-exercise\n",
    ":label: tuple-vs-lists-appending-solution\n",
    ":class: dropdown\n",
    "\n",
    "Die Tupelerzeugung durch Anhängen ist deutlich langsamer und speicherintensiver, denn bei jeder Konkatenation ``+=`` wird ``numbers`` im Speicher kopiert.\n",
    "Der Code erzeugt damit 100 unterschiedliche Tupel!\n",
    "Im Fall der Liste wird einfach nur ein Element hinten dran gehängt.\n",
    "\n",
    "```"
   ]
  }
 ],
 "metadata": {
  "jupytext": {
   "formats": "md:myst",
   "text_representation": {
    "extension": ".md",
    "format_name": "myst"
   }
  },
  "kernelspec": {
   "display_name": "Python 3",
   "language": "python",
   "name": "python3"
  },
  "language_info": {
   "codemirror_mode": {
    "name": "ipython",
    "version": 3
   },
   "file_extension": ".py",
   "mimetype": "text/x-python",
   "name": "python",
   "nbconvert_exporter": "python",
   "pygments_lexer": "ipython3",
   "version": "3.9.7"
  },
  "source_map": [
   11,
   19,
   22,
   26,
   29,
   44,
   50,
   54,
   58,
   65,
   71,
   75,
   78,
   82,
   85,
   89,
   92,
   98,
   106,
   111,
   121,
   128,
   135,
   142,
   154
  ]
 },
 "nbformat": 4,
 "nbformat_minor": 5
}