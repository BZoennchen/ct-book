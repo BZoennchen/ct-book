{
 "cells": [
  {
   "cell_type": "markdown",
   "id": "spectacular-denial",
   "metadata": {},
   "source": [
    "(sec-bool)=\n",
    "# Wahrheitswerte - bool\n",
    "\n",
    "Ein Wahrheitswert ([Boolean](https://docs.python.org/3/library/stdtypes.html#truth-value-testing)) ``bool`` kann, genau wie ein [Bit](def-bit), einen von zwei Wahrheitswerten ``True`` (1) oder ``False`` (0) annehmen.\n",
    "``True`` bedeutet wahr und ``False`` falsch.\n",
    "\n",
    "``True`` oder ``False`` verwenden wir sehr selten explizit.\n",
    "Viel häufiger wird ein logischer Ausdruck, zu ``True`` oder ``False`` *ausgewertet*."
   ]
  },
  {
   "cell_type": "code",
   "execution_count": null,
   "id": "marked-router",
   "metadata": {},
   "outputs": [],
   "source": [
    "x = 9\n",
    "is_lesser_than_10 = x < 10\n",
    "print(is_lesser_than_10)"
   ]
  },
  {
   "cell_type": "markdown",
   "id": "developed-union",
   "metadata": {},
   "source": [
    "In diesem Beispiel verwenden wir einen [Vergleichsoperator](sec-python-operator-compare), der den Ausdruck ``x < 10`` zu ``True`` auswertet, da $x = 9 < 10$ gilt.\n",
    "*Boolsche* bzw. *logische Ausdrücke* lassen sich durch [logische Operatoren](sec-logic-expressions) verknüpfen.\n",
    "\n",
    "*Boolsche Ausdrücke* und damit Wahrheitswerte ``bool`` benötigen wir für die Steuerung unseres Programmablaufs.\n",
    "[Kontrollstrukturen](sec-control-statements) führen, je nach Auswertung eines *boolschen Ausdrucks*, unterschiedliche Code-Teile aus.\n",
    "\n",
    "Folgender Code führt 10 Mal die Codezeile\n",
    "\n",
    "```python\n",
    "print(f'{x} is less than 10')\n",
    "```\n",
    "\n",
    "und einmal die Codezeile\n",
    "\n",
    "```python\n",
    "print(f'{x} not is less than 10')\n",
    "```\n",
    "\n",
    "aus."
   ]
  },
  {
   "cell_type": "code",
   "execution_count": null,
   "id": "racial-reward",
   "metadata": {},
   "outputs": [],
   "source": [
    "for x in range(11):\n",
    "  if x < 10:      # is True if and only if x < 10\n",
    "    print(f'{x} is less than 10')\n",
    "  else:\n",
    "    print(f'{x} not is less than 10')"
   ]
  },
  {
   "cell_type": "markdown",
   "id": "inappropriate-skirt",
   "metadata": {},
   "source": [
    "Würden wir die ``for``-[Schleife](sec-for) und die ``if``-[Bedingung](sec-cases) *ausbreiten*, sähe der Code wie folgt aus:"
   ]
  },
  {
   "cell_type": "code",
   "execution_count": null,
   "id": "hungarian-walker",
   "metadata": {},
   "outputs": [],
   "source": [
    "x = 0\n",
    "print(f'{x} is less than 10')\n",
    "x += 1\n",
    "print(f'{x} is less than 10')\n",
    "x += 1\n",
    "print(f'{x} is less than 10')\n",
    "x += 1\n",
    "print(f'{x} is less than 10')\n",
    "x += 1\n",
    "print(f'{x} is less than 10')\n",
    "x += 1\n",
    "print(f'{x} is less than 10')\n",
    "x += 1\n",
    "print(f'{x} is less than 10')\n",
    "x += 1\n",
    "print(f'{x} is less than 10')\n",
    "x += 1\n",
    "print(f'{x} is less than 10')\n",
    "x += 1\n",
    "print(f'{x} is less than 10')\n",
    "x += 1\n",
    "print(f'{x} not is less than 10')"
   ]
  }
 ],
 "metadata": {
  "jupytext": {
   "formats": "md:myst",
   "text_representation": {
    "extension": ".md",
    "format_name": "myst"
   }
  },
  "kernelspec": {
   "display_name": "Python 3",
   "language": "python",
   "name": "python3"
  },
  "source_map": [
   11,
   22,
   26,
   48,
   54,
   58
  ]
 },
 "nbformat": 4,
 "nbformat_minor": 5
}