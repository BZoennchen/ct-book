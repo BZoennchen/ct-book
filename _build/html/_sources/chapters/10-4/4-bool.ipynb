{
 "cells": [
  {
   "cell_type": "markdown",
   "id": "limiting-artist",
   "metadata": {},
   "source": [
    "# Wahrheitswerte - bool\n",
    "\n",
    "Ein Wahrheitswert ([Boolean](https://docs.python.org/3/library/stdtypes.html#truth-value-testing)) ``bool`` kann, genau wie ein [Bit](def-bit), einen von zwei Wahrheitswerten ``True`` (1) oder ``False`` (0) annehmen.\n",
    "``True`` bedeutet wahr und ``False`` falsch.\n",
    "\n",
    "``True`` oder ``False`` verwenden wir sehr selten explizit.\n",
    "Viel häufiger wird ein logischer Ausdruck, nach *Auswertung* entweder ``True`` oder ``False``."
   ]
  },
  {
   "cell_type": "code",
   "execution_count": 1,
   "id": "adjusted-basement",
   "metadata": {},
   "outputs": [
    {
     "name": "stdout",
     "output_type": "stream",
     "text": [
      "True\n"
     ]
    }
   ],
   "source": [
    "x = 9\n",
    "is_lesser_than_10 = x < 10\n",
    "print(is_lesser_than_10)"
   ]
  },
  {
   "cell_type": "markdown",
   "id": "directed-confidence",
   "metadata": {},
   "source": [
    "In diesem Beispiel verwenden wir einen [Vergleichsoperator](sec-python-operator-compare), der den Ausdruck $x < 10$ zu ``True`` auswertet, da $x = 9 < 10$ gilt.\n",
    "*Boolsche* bzw. *logische Ausdrücke* lassen sich durch [logische Operatoren](sec-logic-expressions) verknüpfen.\n",
    "\n",
    "*Boolsche Ausdrücke* und damit Wahrheitswerte ``bool`` benötigen wir für die Steuerung unseres Programmablaufs.\n",
    "[Kontrollstrukturen](sec-control-statements) führen, je nach Auswertung eines *boolschen Ausdrucks*, unterschiedliche Code-Teile aus.\n",
    "\n",
    "Folgender Code führt 10 Mal die Codezeile\n",
    "\n",
    "```python\n",
    "print(f'{x} is less than 10')\n",
    "```\n",
    "\n",
    "und einmal die Codezeile\n",
    "\n",
    "```python\n",
    "print(f'{x} not is less than 10')\n",
    "```\n",
    "\n",
    "aus."
   ]
  },
  {
   "cell_type": "code",
   "execution_count": 2,
   "id": "cloudy-berlin",
   "metadata": {},
   "outputs": [
    {
     "name": "stdout",
     "output_type": "stream",
     "text": [
      "0 is less than 10\n",
      "1 is less than 10\n",
      "2 is less than 10\n",
      "3 is less than 10\n",
      "4 is less than 10\n",
      "5 is less than 10\n",
      "6 is less than 10\n",
      "7 is less than 10\n",
      "8 is less than 10\n",
      "9 is less than 10\n",
      "10 not is less than 10\n"
     ]
    }
   ],
   "source": [
    "for x in range(11):\n",
    "  if x < 10:      # is True if and only if x < 10\n",
    "    print(f'{x} is less than 10')\n",
    "  else:\n",
    "    print(f'{x} not is less than 10')"
   ]
  },
  {
   "cell_type": "markdown",
   "id": "friendly-serbia",
   "metadata": {},
   "source": [
    "Würden wir die ``for``-Schleife und die ``if``-Bedingung *ausbreiten*, sähe der Code wie folgt aus:"
   ]
  },
  {
   "cell_type": "code",
   "execution_count": 3,
   "id": "international-darkness",
   "metadata": {},
   "outputs": [
    {
     "name": "stdout",
     "output_type": "stream",
     "text": [
      "0 is less than 10\n",
      "1 is less than 10\n",
      "2 is less than 10\n",
      "3 is less than 10\n",
      "4 is less than 10\n",
      "5 is less than 10\n",
      "6 is less than 10\n",
      "7 is less than 10\n",
      "8 is less than 10\n",
      "9 is less than 10\n",
      "10 not is less than 10\n"
     ]
    }
   ],
   "source": [
    "x = 0\n",
    "print(f'{x} is less than 10')\n",
    "x += 1\n",
    "print(f'{x} is less than 10')\n",
    "x += 1\n",
    "print(f'{x} is less than 10')\n",
    "x += 1\n",
    "print(f'{x} is less than 10')\n",
    "x += 1\n",
    "print(f'{x} is less than 10')\n",
    "x += 1\n",
    "print(f'{x} is less than 10')\n",
    "x += 1\n",
    "print(f'{x} is less than 10')\n",
    "x += 1\n",
    "print(f'{x} is less than 10')\n",
    "x += 1\n",
    "print(f'{x} is less than 10')\n",
    "x += 1\n",
    "print(f'{x} is less than 10')\n",
    "x += 1\n",
    "print(f'{x} not is less than 10')"
   ]
  }
 ],
 "metadata": {
  "jupytext": {
   "formats": "md:myst",
   "text_representation": {
    "extension": ".md",
    "format_name": "myst"
   }
  },
  "kernelspec": {
   "display_name": "Python 3",
   "language": "python",
   "name": "python3"
  },
  "language_info": {
   "codemirror_mode": {
    "name": "ipython",
    "version": 3
   },
   "file_extension": ".py",
   "mimetype": "text/x-python",
   "name": "python",
   "nbconvert_exporter": "python",
   "pygments_lexer": "ipython3",
   "version": "3.9.8"
  },
  "source_map": [
   11,
   21,
   25,
   47,
   53,
   57
  ]
 },
 "nbformat": 4,
 "nbformat_minor": 5
}