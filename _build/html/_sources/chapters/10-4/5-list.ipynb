{
 "cells": [
  {
   "cell_type": "markdown",
   "id": "comparable-papua",
   "metadata": {},
   "source": [
    "(sec-list)=\n",
    "# Listen - list\n",
    "\n",
    "Listen (engl. [List](https://docs.python.org/3/library/stdtypes.html#list)) ``list`` sind eine der wichtigsten *Datentypen* und zugleich einfachsten *Datenstrukturen* in ``Python``.\n",
    "Sobald Sie irgendetwas sinnvolles programmieren möchten, kommen Sie um die Liste kaum herum.\n",
    "Das Grundkonzept einer Liste ist einfach und doch so fundamental wichtig!\n",
    "\n",
    "Listen sind eng mit der Wiederholung und somit mit Schleifen verbunden.\n",
    "Auch wir können Schleifen an dieser Stelle nicht vermeiden, auch wenn wir sie noch nicht im Detail besprochen haben.\n",
    "\n",
    "Nehmen wir einmal an wir bekämen den Auftrag ein Programm zu schreiben, welches ``n`` ganze Zahlen aufaddiert, wobei wir weder ``n`` noch die Zahlen kennen.\n",
    "Zugegeben, das Programm ist nicht gerade interessant aber aller Anfang ist klein.\n",
    "Eine variable Anzahl an Zahlen lässt sich hervorragend durch eine *Liste* modellieren.\n",
    "Wir gehen also davon aus, dass wir eine Liste ``numbers`` bekommen und daraus die Summe berechnen müssen.\n",
    "Folgender Code löst die Aufgabe.\n",
    "``numbers`` ist eine Liste, welche zwei Zahlen (1 und 2) enthält."
   ]
  },
  {
   "cell_type": "code",
   "execution_count": 1,
   "id": "judicial-spirituality",
   "metadata": {},
   "outputs": [
    {
     "data": {
      "text/plain": [
       "3"
      ]
     },
     "execution_count": 1,
     "metadata": {},
     "output_type": "execute_result"
    }
   ],
   "source": [
    "numbers = [1, 2]\n",
    "\n",
    "result = 0\n",
    "for x in numbers:\n",
    "  result += x\n",
    "\n",
    "result"
   ]
  },
  {
   "cell_type": "markdown",
   "id": "reliable-toner",
   "metadata": {},
   "source": [
    "Der Code funktioniert auch noch wenn ``numbers`` mehr, weniger oder andere Zahlen enthält!\n",
    "Probieren Sie es aus.\n",
    "\n",
    "Wie alle Datenstrukturen in ``Python``, können Listen Werte mit unterschiedlichen Datentypen enthalten."
   ]
  },
  {
   "cell_type": "code",
   "execution_count": 2,
   "id": "massive-aurora",
   "metadata": {},
   "outputs": [
    {
     "data": {
      "text/plain": [
       "[1, 2, 3, 'a', 'b', 'c', 1.0, 2.0, 3.0]"
      ]
     },
     "execution_count": 2,
     "metadata": {},
     "output_type": "execute_result"
    }
   ],
   "source": [
    "mylist = [1,2,3,'a','b','c',1.0,2.0,3.0]\n",
    "mylist"
   ]
  },
  {
   "cell_type": "markdown",
   "id": "friendly-closer",
   "metadata": {},
   "source": [
    "Listen können selbstverständlich andere Listen (bzw. Datenstrukturen) enthalten:"
   ]
  },
  {
   "cell_type": "code",
   "execution_count": 3,
   "id": "pointed-monthly",
   "metadata": {},
   "outputs": [
    {
     "data": {
      "text/plain": [
       "[['a', 'b', 'c'], 2, 3, [1, 2, 3]]"
      ]
     },
     "execution_count": 3,
     "metadata": {},
     "output_type": "execute_result"
    }
   ],
   "source": [
    "mylist = [['a','b','c'], 2, 3, [1, 2, 3]]\n",
    "mylist"
   ]
  },
  {
   "cell_type": "markdown",
   "id": "based-contract",
   "metadata": {},
   "source": [
    "## Erstellung\n",
    "\n",
    "Es gibt unterschiedliche Möglichkeiten eine Liste zu erzeugen.\n",
    "Wir können z.B. mit einer leeren Liste starten und diese füllen:"
   ]
  },
  {
   "cell_type": "code",
   "execution_count": 4,
   "id": "appropriate-graphic",
   "metadata": {},
   "outputs": [
    {
     "data": {
      "text/plain": [
       "[0, 1, 2, 3, 4, 5]"
      ]
     },
     "execution_count": 4,
     "metadata": {},
     "output_type": "execute_result"
    }
   ],
   "source": [
    "numbers = []\n",
    "numbers.append(0)\n",
    "numbers.append(1)\n",
    "numbers.append(2)\n",
    "numbers.append(3)\n",
    "numbers.append(4)\n",
    "numbers.append(5)\n",
    "numbers"
   ]
  },
  {
   "cell_type": "markdown",
   "id": "related-dakota",
   "metadata": {},
   "source": [
    "oder kürzer"
   ]
  },
  {
   "cell_type": "code",
   "execution_count": 5,
   "id": "fitted-detector",
   "metadata": {},
   "outputs": [
    {
     "data": {
      "text/plain": [
       "[0, 1, 2, 3, 4, 5]"
      ]
     },
     "execution_count": 5,
     "metadata": {},
     "output_type": "execute_result"
    }
   ],
   "source": [
    "numbers = []\n",
    "for i in range(6):\n",
    "  numbers.append(i)\n",
    "\n",
    "numbers"
   ]
  },
  {
   "cell_type": "markdown",
   "id": "recognized-associate",
   "metadata": {},
   "source": [
    "Oder wir starten mit einer vollen Liste."
   ]
  },
  {
   "cell_type": "code",
   "execution_count": 6,
   "id": "divine-foster",
   "metadata": {},
   "outputs": [
    {
     "data": {
      "text/plain": [
       "[0, 1, 2, 3, 4, 5]"
      ]
     },
     "execution_count": 6,
     "metadata": {},
     "output_type": "execute_result"
    }
   ],
   "source": [
    "numbers = [0, 1, 2, 3, 4, 5]\n",
    "numbers"
   ]
  },
  {
   "cell_type": "markdown",
   "id": "pharmaceutical-subscriber",
   "metadata": {},
   "source": [
    "Die *built-in* Funktion ``range()`` erzeugt einen sog. Zahlenbereich (engl. [Range](https://docs.python.org/3/library/stdtypes.html#typesseq-range)), welchen wir im Abschnitt [Bereich - range](sec-range) erörtern.\n",
    "Wir können diesen Bereich, der auch eine Sequenz ist, in eine Liste packen bzw. in eine Liste umwandeln:"
   ]
  },
  {
   "cell_type": "code",
   "execution_count": 7,
   "id": "guided-uncertainty",
   "metadata": {},
   "outputs": [
    {
     "data": {
      "text/plain": [
       "[0, 1, 2, 3, 4, 5, 6, 7, 8, 9]"
      ]
     },
     "execution_count": 7,
     "metadata": {},
     "output_type": "execute_result"
    }
   ],
   "source": [
    "numbers = [i for i in range(10)]\n",
    "numbers"
   ]
  },
  {
   "cell_type": "markdown",
   "id": "sound-field",
   "metadata": {},
   "source": [
    "oder noch kürzer:"
   ]
  },
  {
   "cell_type": "code",
   "execution_count": 8,
   "id": "talented-cambridge",
   "metadata": {},
   "outputs": [
    {
     "data": {
      "text/plain": [
       "[0, 1, 2, 3, 4, 5, 6, 7, 8, 9]"
      ]
     },
     "execution_count": 8,
     "metadata": {},
     "output_type": "execute_result"
    }
   ],
   "source": [
    "numbers = list(range(10))\n",
    "numbers"
   ]
  },
  {
   "cell_type": "markdown",
   "id": "adjacent-chaos",
   "metadata": {},
   "source": [
    "(sec-list-index)=\n",
    "## Indexierung\n",
    "\n",
    "Wir können auf die Elemente einer Liste mit einem Index zugreifen.\n",
    "Dieser Index beginnt bei 0 und endet bei der Länge der Liste - 1, d.h. ``len(mylist) - 1``.\n",
    "``len(mylist)`` gibt eine natürliche Zahl (0 inklusive) zurück, welche die Länge der Liste ``mylist`` angibt."
   ]
  },
  {
   "cell_type": "code",
   "execution_count": 9,
   "id": "floppy-talent",
   "metadata": {},
   "outputs": [
    {
     "data": {
      "text/plain": [
       "9"
      ]
     },
     "execution_count": 9,
     "metadata": {},
     "output_type": "execute_result"
    }
   ],
   "source": [
    "mylist = [1,2,3,'a','b','c',1.0,2.0,3.0]\n",
    "len(mylist)"
   ]
  },
  {
   "cell_type": "markdown",
   "id": "mathematical-timing",
   "metadata": {},
   "source": [
    "In anderen Worten: Die Elemente einer Liste sind in aufsteigender Reihenfolge angeordnet.\n",
    "Jedes Element hat seinen Platz bzw. Index und kein Platz ist leer!"
   ]
  },
  {
   "cell_type": "code",
   "execution_count": 10,
   "id": "quick-sister",
   "metadata": {},
   "outputs": [
    {
     "name": "stdout",
     "output_type": "stream",
     "text": [
      "1\n",
      "3.0\n"
     ]
    }
   ],
   "source": [
    "print(mylist[0])\n",
    "print(mylist[len(mylist)-1])"
   ]
  },
  {
   "cell_type": "markdown",
   "id": "asian-cause",
   "metadata": {},
   "source": [
    "In ``Python`` können wir statt ``mylist[len(mylist)-1]``  auch ``mylist[-1]`` schreiben."
   ]
  },
  {
   "cell_type": "code",
   "execution_count": 11,
   "id": "distributed-andrews",
   "metadata": {},
   "outputs": [
    {
     "name": "stdout",
     "output_type": "stream",
     "text": [
      "3.0\n",
      "3.0\n"
     ]
    }
   ],
   "source": [
    "print(mylist[len(mylist)-1])\n",
    "print(mylist[-1])"
   ]
  },
  {
   "cell_type": "markdown",
   "id": "welcome-tragedy",
   "metadata": {},
   "source": [
    "``Python`` bietet eine angenehme und mächtige Syntax um einen Teil der Liste in eine neue Liste zu kopieren.\n",
    "Mit ``mylist[start:ende:i]`` nehmen wir jedes ``i``-te Element beginnend von ``start`` bis ``ende``.\n",
    "Dabei ist ``i`` optional und ist gleich ``1``, wenn es nicht angegeben wird.\n",
    "Bei diesem Operationen bleibt ``mylist`` unverändert."
   ]
  },
  {
   "cell_type": "code",
   "execution_count": 12,
   "id": "aggressive-madness",
   "metadata": {},
   "outputs": [
    {
     "name": "stdout",
     "output_type": "stream",
     "text": [
      "[2, 'a', 'c', 2.0]\n",
      "[2, 3, 'a', 'b', 'c', 1.0, 2.0]\n",
      "[2, 3, 'a', 'b', 'c', 1.0, 2.0]\n",
      "[1, 2, 3, 'a', 'b', 'c', 1.0, 2.0, 3.0]\n"
     ]
    }
   ],
   "source": [
    "mylist = [1,2,3,'a','b','c',1.0,2.0,3.0]\n",
    "print(mylist[1:8:2])\n",
    "print(mylist[1:8:1])\n",
    "print(mylist[1:8])\n",
    "print(mylist)"
   ]
  },
  {
   "cell_type": "markdown",
   "id": "stone-formula",
   "metadata": {},
   "source": [
    "Auch eine negative Indexierung ist erlaubt."
   ]
  },
  {
   "cell_type": "code",
   "execution_count": 13,
   "id": "minimal-jimmy",
   "metadata": {},
   "outputs": [
    {
     "name": "stdout",
     "output_type": "stream",
     "text": [
      "[3.0, 1.0, 'b', 3]\n",
      "[1.0, 'b', 3]\n"
     ]
    }
   ],
   "source": [
    "mylist = [1,2,3,'a','b','c',1.0,2.0,3.0]\n",
    "print(mylist[8:1:-2])\n",
    "print(mylist[-3:-8:-2])"
   ]
  },
  {
   "cell_type": "markdown",
   "id": "fewer-germany",
   "metadata": {},
   "source": [
    "## Veränderung\n",
    "\n",
    "Anders als Tupel ``tuple`` sind Listen veränderbar, d.h. wir können Elemente löschen und hinzufügen."
   ]
  },
  {
   "cell_type": "code",
   "execution_count": 14,
   "id": "naval-creature",
   "metadata": {},
   "outputs": [
    {
     "name": "stdout",
     "output_type": "stream",
     "text": [
      "chars: ['a', 'b', 'c'] before append.\n",
      "chars: ['a', 'b', 'c', 'd'] before remove.\n",
      "chars: ['a', 'c', 'd'] after remove.\n"
     ]
    }
   ],
   "source": [
    "chars = ['a','b','c']\n",
    "print(f'chars: {chars} before append.')\n",
    "chars.append('d')\n",
    "print(f'chars: {chars} before remove.')\n",
    "chars.remove('b')\n",
    "print(f'chars: {chars} after remove.')"
   ]
  },
  {
   "cell_type": "markdown",
   "id": "temporal-exemption",
   "metadata": {},
   "source": [
    "Dabei fügt ``append`` das neue Element hinten an.\n",
    "Um ein Listenelement anhand seines Indexes zu löschen können wir ``del`` (delete) verwenden."
   ]
  },
  {
   "cell_type": "code",
   "execution_count": 15,
   "id": "french-algeria",
   "metadata": {},
   "outputs": [
    {
     "name": "stdout",
     "output_type": "stream",
     "text": [
      "chars: ['a', 'b', 'c'] before del.\n",
      "chars: ['a', 'c'] after del.\n"
     ]
    }
   ],
   "source": [
    "chars = ['a','b','c']\n",
    "print(f'chars: {chars} before del.')\n",
    "del chars[1]\n",
    "print(f'chars: {chars} after del.')"
   ]
  },
  {
   "cell_type": "markdown",
   "id": "operating-restoration",
   "metadata": {},
   "source": [
    "``del`` funktioniert ebenfalls mit dem Indexieren, d.h. wir können viele Elemente mit einem Befehl löschen.\n",
    "Im folgenden löschen wir jedes 2-te Element wodurch nur ungerade Zahlen übrig bleiben."
   ]
  },
  {
   "cell_type": "code",
   "execution_count": 16,
   "id": "broke-arctic",
   "metadata": {},
   "outputs": [
    {
     "name": "stdout",
     "output_type": "stream",
     "text": [
      "numbers: [0, 1, 2, 3, 4, 5, 6, 7, 8, 9, 10, 11, 12, 13, 14, 15, 16, 17, 18, 19] before del.\n",
      "numbers: [1, 3, 5, 7, 9, 11, 13, 15, 17, 19] after del.\n"
     ]
    }
   ],
   "source": [
    "numbers = list(range(20))\n",
    "print(f'numbers: {numbers} before del.')\n",
    "del numbers[::2]\n",
    "print(f'numbers: {numbers} after del.')"
   ]
  },
  {
   "cell_type": "markdown",
   "id": "selected-battlefield",
   "metadata": {},
   "source": [
    "Sobald ein Element gelöscht wird, verkleinert sich auch die Liste.\n",
    "Es entstehen keine Lücken.\n",
    "\n",
    "Wir können auch ein Element an einer bestimmten Stelle einfügen."
   ]
  },
  {
   "cell_type": "code",
   "execution_count": 17,
   "id": "unknown-newspaper",
   "metadata": {},
   "outputs": [
    {
     "name": "stdout",
     "output_type": "stream",
     "text": [
      "chars: ['a', 'b', 'c'] before insert.\n",
      "chars: ['a', 'd', 'b', 'c'] after insert.\n"
     ]
    }
   ],
   "source": [
    "chars = ['a','b','c']\n",
    "print(f'chars: {chars} before insert.')\n",
    "chars.insert(1, 'd')\n",
    "print(f'chars: {chars} after insert.')"
   ]
  },
  {
   "cell_type": "markdown",
   "id": "relevant-declaration",
   "metadata": {},
   "source": [
    "Dies fügt das Element ``'d'`` an vor das Element mit dem Index 1 ein.\n",
    "Anders ausgedrückt, das eingefügte Element hat nach der Operation den Index, welchen wir bei ``insert`` angeben.\n",
    "\n",
    "(sec-list-and-memory)=\n",
    "## Listen und der Speicher\n",
    "\n",
    "Wie funktioniert eine Liste im tieferen Sinne?\n",
    "Also wie ist sie im Speicher abgelegt, was passiert wenn wir sie verändern und wie greifen wir auf sie und ihre Elemente über **Adressen** zu?\n",
    "\n",
    "Um zu verstehen wie und warum Listen funktionieren müssen wir wichtige Tatsache festhalten, die wir bereits im Abschnitt [Variablen](sec-variables) unbemerkt verwendet haben:\n",
    "Kennen wir eine **Adresse** eines **Wertes**, kurz gesagt die *Variable* welche auf den Wert zeigt, so ist der Zugriff auf diesen Wert extrem schnell!\n",
    "Solange wir die **Adressen** kennen, ist er Zugriff in den **Arbeitsspeicher** generell extrem schnell.\n",
    "Es gibt kleine 'Strafen' wenn **Adressen** weit auseinander liegen.\n",
    "\n",
    "Mit dieser Information, lassen Sie uns anhand eines Beispiel testen, wie sich die **Adressen** und **Werte** einer ``list`` (aus Zahlen) verhalten."
   ]
  },
  {
   "cell_type": "code",
   "execution_count": 18,
   "id": "blank-trial",
   "metadata": {},
   "outputs": [
    {
     "name": "stdout",
     "output_type": "stream",
     "text": [
      "value of numbers = [1, 2, 3, 4, 5]\n",
      "id of numbers = 4588730880\n",
      "value of numbers[2] = 3\n",
      "id of numbers[2] = 4550891888\n",
      "change value of numbers[2]\n",
      "value of numbers = [1, 2, -20, 4, 5]\n",
      "id of numbers = 4588730880\n",
      "value of numbers[2] = -20\n",
      "id of numbers[2] = 4588770288\n"
     ]
    }
   ],
   "source": [
    "numbers = [1, 2, 3, 4, 5]\n",
    "print(f'value of numbers = {numbers}')\n",
    "print(f'id of numbers = {id(numbers)}')\n",
    "\n",
    "print(f'value of numbers[2] = {numbers[2]}')\n",
    "print(f'id of numbers[2] = {id(numbers[2])}')\n",
    "print('change value of numbers[2]')\n",
    "\n",
    "numbers[2] = -20\n",
    "\n",
    "print(f'value of numbers = {numbers}')\n",
    "print(f'id of numbers = {id(numbers)}')\n",
    "print(f'value of numbers[2] = {numbers[2]}')\n",
    "print(f'id of numbers[2] = {id(numbers[2])}')"
   ]
  },
  {
   "cell_type": "markdown",
   "id": "affecting-indianapolis",
   "metadata": {},
   "source": [
    "Im obigen Code erstellen wir eine Liste, welche die Zahlen 1 bis 5 enthält.\n",
    "Dann verändern wir das zweite Element der Liste (eine Liste startet mit dem 0-ten Element).\n",
    "Die **Adresse** der *Variable* ``numbers`` ändert sich bei diesem Vorgang nicht!\n",
    "Allerdings ändert sich die Adresse des Elements ``numbers[2]`` und der **Wert** von ``numbers``.\n",
    "\n",
    "```{figure} ../../figs/python-tutorial/datatypes/list.png\n",
    "---\n",
    "width: 600px\n",
    "name: fig-data-type-list\n",
    "---\n",
    "Die Liste aus unsrem obigen Beispiel **bevor** wir den Wert ``3`` auf ``-20`` gesetzt haben.\n",
    "```\n",
    "\n",
    "Ändern wir den Wert eines Listenelements, ändern wir diesen Hinweis!\n",
    "\n",
    "```{figure} ../../figs/python-tutorial/datatypes/list-2.png\n",
    "---\n",
    "width: 600px\n",
    "name: fig-data-type-list-2\n",
    "---\n",
    "Die Liste aus unsrem obigen Beispiel **nachdem** wir den Wert ``3`` auf ``-20`` gesetzt haben.\n",
    "```\n",
    "\n",
    "Alle *Datenstrukturen* sind *Behälter*, die andere Daten aufnehmen können, ähnlich wie Schließfächer, Ordner oder Rucksäcke.\n",
    "Nehmen wir als Analogie Schließfächer aus der echten Welt.\n",
    "Stellen wir uns vor, der Platz in einem Schließfach wäre ein Teil des Speicherplatzes, welcher von unserer Liste benötigt wird.\n",
    "Was befindet sich nun in unseren Schließfächern?\n",
    "In ``Python`` sind es **nicht** die Objekte/Werte selbst sondern die **Adresse** der Objekte/Werte.\n",
    "Es befindet sich quasi ein Zettel auf dem der Hinweis steht, wo wir das Objekt, was zu jenem Schließfach gehört, finden.\n",
    "Oder aber wir stellen uns eine Schnur vor, die von dem Schließfach auf das Objekt verweist.\n",
    "\n",
    "Das besondere einer Liste, bzw. die Charakteristik welches Sie auszeichnet ist, dass die **Adressen** Ihrer Elemente im Speicher ohne Lücke nebeneinander liegen.\n",
    "Da **Adressen** immer die gleiche feste Anzahl an Bits benötigen, kann man für eine gegebene Adresse einer Liste und den Index eines Elements, die Speicheradresse der Speicheradresse, die auf das Element zeigt berechnen.\n",
    "\n",
    "Angenommen die Adresse der Liste ``mylist`` ist $Start$ und jede Adresse benötigt 4 Byte und wir können 1 Byte adressieren, dann befindet sich die Adresse $adr_i$ des $i$-ten Elements an der Speicheradresse:\n",
    "\n",
    "$$Start + i \\cdot 4.$$\n",
    "\n",
    "Diese Rechnung kann der Rechner sehr schnell durchführen und deshalb können wir auf Elemente einer Liste deren Index wir kennen extrem schnell zugreifen.\n",
    "\n",
    "Um dieses Konzept besser zu verstehen und herauszufinden wie sich *atomare* wie auch *zusammengesetzt Datentypen* verhalten, hilft oft nur eins: Ausprobieren!\n",
    "\n",
    "Im Kapitel [Speicher - alles ist eine Liste](sec-memory) erstellen wir unser eigenes Speichermanagementsystem durch ``Python``-Listen.\n",
    "Diese Übung bietet detaillierte Einblicke in die funktionsweise des Speichers und wie es gelingt Listen voller **Adressen** zu verwalten.\n",
    "\n",
    "## Der Unterschied zwischen + und +=\n",
    "\n",
    "Der ``+`` und auch der ``+=``-Operator ist in ``Python`` auch für Listen definiert.\n",
    "Ähnlich wie bei Zeichenketten, verkettet er zwei Listen.\n",
    "Überraschenderweise bewirkt jedoch folgender Code"
   ]
  },
  {
   "cell_type": "code",
   "execution_count": 19,
   "id": "indie-hungarian",
   "metadata": {},
   "outputs": [
    {
     "name": "stdout",
     "output_type": "stream",
     "text": [
      " id before concat: 4588662528\n",
      " id after concat: 4588728192\n"
     ]
    },
    {
     "data": {
      "text/plain": [
       "[1, 2, 3, 4, 5, 6]"
      ]
     },
     "execution_count": 19,
     "metadata": {},
     "output_type": "execute_result"
    }
   ],
   "source": [
    "list1 = [1, 2, 3]\n",
    "list2 = [4, 5, 6]\n",
    "print(f' id before concat: {id(list1)}')\n",
    "list1 = list1 + list2\n",
    "print(f' id after concat: {id(list1)}')\n",
    "list1"
   ]
  },
  {
   "cell_type": "markdown",
   "id": "global-savage",
   "metadata": {},
   "source": [
    "nicht das selbe wie"
   ]
  },
  {
   "cell_type": "code",
   "execution_count": 20,
   "id": "unnecessary-retailer",
   "metadata": {},
   "outputs": [
    {
     "name": "stdout",
     "output_type": "stream",
     "text": [
      " id before concat: 4588529600\n",
      " id after concat: 4588529600\n"
     ]
    },
    {
     "data": {
      "text/plain": [
       "[1, 2, 3, 4, 5, 6]"
      ]
     },
     "execution_count": 20,
     "metadata": {},
     "output_type": "execute_result"
    }
   ],
   "source": [
    "list1 = [1, 2, 3]\n",
    "list2 = [4, 5, 6]\n",
    "print(f' id before concat: {id(list1)}')\n",
    "list1 += list2\n",
    "print(f' id after concat: {id(list1)}')\n",
    "list1"
   ]
  },
  {
   "cell_type": "markdown",
   "id": "confidential-chamber",
   "metadata": {},
   "source": [
    "auch wenn ``list1`` in beiden Fällen die gleichen Werte enthält so ändert sich im ersten Fall die **Adresse** von ``list1``.\n",
    "Im zweiten Fall bleibt die ``id`` und damit die **Adresse** unverändert.\n",
    "Was bedeutet das?\n",
    "\n",
    "Verwenden wir ``liste1 + liste2`` so wird eine neue Liste im Speicher angelegt und die Verkettung der beiden Listen wird dort abgelegt.\n",
    "D.h. die Listenelemente der beiden Listen werden **kopiert**!\n",
    "Die beiden Listen die bei der Operation teilnehmen bleiben unverändert.\n",
    "\n",
    "Verwenden wir hingegen ``liste1 += liste2`` so werden die Elemente von ``liste2`` kopiert und an ``liste1`` angehängt.\n",
    "Damit wird ``list1`` verändert und es wird keine neue Liste angelegt!\n",
    "``liste1 += liste2`` entspricht somit"
   ]
  },
  {
   "cell_type": "code",
   "execution_count": 21,
   "id": "determined-whole",
   "metadata": {},
   "outputs": [
    {
     "data": {
      "text/plain": [
       "[1, 2, 3, 4, 5, 6]"
      ]
     },
     "execution_count": 21,
     "metadata": {},
     "output_type": "execute_result"
    }
   ],
   "source": [
    "list1 = [1, 2, 3]\n",
    "list2 = [4, 5, 6]\n",
    "for x in list2:\n",
    "    list1.append(x)\n",
    "list1"
   ]
  },
  {
   "cell_type": "markdown",
   "id": "judicial-layout",
   "metadata": {},
   "source": [
    "und ``concat_list = liste1 + liste2`` entspricht"
   ]
  },
  {
   "cell_type": "code",
   "execution_count": 22,
   "id": "possible-injury",
   "metadata": {},
   "outputs": [
    {
     "data": {
      "text/plain": [
       "[1, 2, 3, 4, 5, 6]"
      ]
     },
     "execution_count": 22,
     "metadata": {},
     "output_type": "execute_result"
    }
   ],
   "source": [
    "list1 = [1, 2, 3]\n",
    "list2 = [4, 5, 6]\n",
    "concat_list = []\n",
    "for x in list1:\n",
    "    concat_list.append(x)\n",
    "for x in list2:\n",
    "    concat_list.append(x)\n",
    "concat_list"
   ]
  },
  {
   "cell_type": "markdown",
   "id": "impressed-allergy",
   "metadata": {},
   "source": [
    "## Tiefe und flache Kopien\n",
    "\n",
    "Kopieren wir eine Liste durch Indexierung oder durch die Funktion ``mylist.copy()`` so wird eine sogenannte *flache* (engl. shallow) Kopie angelegt.\n",
    "Was bedeutet das?\n",
    "Das bedeutet, dass lediglich die **Adressen** welche sich in der Liste befinden kopiert werden, siehe {numref}`Abbildung {number} <fig-data-type-list>`.\n",
    "Zeigen diese **Adressen** auf Werte *atomare Datentypen*, so ist dies in jedem Fall ausreichend.\n",
    "\n",
    "Folgender Code zeigt, dass die **Adressen** der Elemente der Kopie identisch sind:"
   ]
  },
  {
   "cell_type": "code",
   "execution_count": 23,
   "id": "engaging-vertex",
   "metadata": {},
   "outputs": [
    {
     "name": "stdout",
     "output_type": "stream",
     "text": [
      "ids of numbers\n",
      "4550891824\n",
      "4550891856\n",
      "4550891888\n",
      "ids of numbers_shallow_copy\n",
      "4550891824\n",
      "4550891856\n",
      "4550891888\n"
     ]
    }
   ],
   "source": [
    "numbers = [1, 2, 3]\n",
    "numbers_shallow_copy = numbers[:]\n",
    "\n",
    "print('ids of numbers')\n",
    "for x in numbers:\n",
    "    print(id(x))\n",
    "\n",
    "print('ids of numbers_shallow_copy')\n",
    "for x in numbers_shallow_copy:\n",
    "    print(id(x))"
   ]
  },
  {
   "cell_type": "markdown",
   "id": "improved-kenya",
   "metadata": {},
   "source": [
    "Problematisch kann es werden, wenn wir in einer *Datenstruktur* eine weitere *Datenstruktur* halten und eine *flache Kopie* anfertigen.\n",
    "Blicken Sie auf folgendes Beispiel:"
   ]
  },
  {
   "cell_type": "code",
   "execution_count": 24,
   "id": "sorted-borough",
   "metadata": {},
   "outputs": [
    {
     "data": {
      "text/plain": [
       "[1, 2, ['b', 4, 5]]"
      ]
     },
     "execution_count": 24,
     "metadata": {},
     "output_type": "execute_result"
    }
   ],
   "source": [
    "numbers = [1, 2, [3, 4, 5]]\n",
    "numbers_shallow_copy = numbers[:]\n",
    "\n",
    "numbers[2][0] = 'b' \n",
    "numbers_shallow_copy"
   ]
  },
  {
   "cell_type": "markdown",
   "id": "seventh-blend",
   "metadata": {},
   "source": [
    "Wir ändern etwas in der Liste ``number`` und diese Änderung wird auch in ``numbers_shallow_copy`` übernommen.\n",
    "Warum?\n",
    "Nunja, die **Adressen**"
   ]
  },
  {
   "cell_type": "code",
   "execution_count": 25,
   "id": "coordinated-portland",
   "metadata": {},
   "outputs": [
    {
     "name": "stdout",
     "output_type": "stream",
     "text": [
      "4588662528\n",
      "4588662528\n"
     ]
    }
   ],
   "source": [
    "print(id(numbers[2]))\n",
    "print(id(numbers_shallow_copy[2]))"
   ]
  },
  {
   "cell_type": "markdown",
   "id": "fifteen-newfoundland",
   "metadata": {},
   "source": [
    "sind identisch!\n",
    "Wir verändern den Speicherbereich der sich an **Adresse** befindet und da beide Listen auf diesen Bereich zeigen, werden beide Listen verändert.\n",
    "\n",
    "Dieses Verhalten kann auch durchaus wünschenswert sein.\n",
    "Allerdings wollen wir häufig eine echte d.h. *tiefe Kopie* einer Datenstruktur erhalten.\n",
    "Um dies zu erreichen reicht es nicht nur die *Datenstruktur* zu kopieren, Sie müssen alle *Datenstrukturen* die diese *Datenstruktur* enthält kopieren und auch alle *Datenstrukturen* die diese enthalten und so weiter und so fort.\n",
    "\n",
    "Für unser obiges Beispiel erstellen wir wie folgt eine *tiefe Kopie*:"
   ]
  },
  {
   "cell_type": "code",
   "execution_count": 26,
   "id": "beautiful-thanks",
   "metadata": {},
   "outputs": [
    {
     "name": "stdout",
     "output_type": "stream",
     "text": [
      "ids of numbers\n",
      "4550891824\n",
      "4550891856\n",
      "4588730432\n",
      "ids of numbers_deep_copy\n",
      "4550891824\n",
      "4550891856\n",
      "4588731328\n"
     ]
    },
    {
     "data": {
      "text/plain": [
       "[1, 2, [3, 4, 5]]"
      ]
     },
     "execution_count": 26,
     "metadata": {},
     "output_type": "execute_result"
    }
   ],
   "source": [
    "numbers = [1, 2, [3, 4, 5]]\n",
    "numbers_deep_copy = []\n",
    "\n",
    "for x in numbers:\n",
    "    if type(x) != list:\n",
    "        numbers_deep_copy.append(x)\n",
    "    else:\n",
    "        numbers_deep_copy.append(x.copy())\n",
    "\n",
    "\n",
    "print('ids of numbers')\n",
    "for x in numbers:\n",
    "    print(id(x))\n",
    "\n",
    "print('ids of numbers_deep_copy')\n",
    "for x in numbers_deep_copy:\n",
    "    print(id(x))\n",
    "\n",
    "numbers_deep_copy"
   ]
  },
  {
   "cell_type": "markdown",
   "id": "naval-sleeping",
   "metadata": {},
   "source": [
    "Wir sehen dass sich bei der *tiefen Kopie* die Adresse des letzten Elements verändert hat, da es eine *Datenstruktur* ist.\n",
    "Ändern wir nun ``numbers`` so hat diese Änderung keine Auswirkung auf ``numbers_deep_copy``"
   ]
  },
  {
   "cell_type": "code",
   "execution_count": 27,
   "id": "formal-simple",
   "metadata": {},
   "outputs": [
    {
     "data": {
      "text/plain": [
       "[1, 2, [3, 4, 5]]"
      ]
     },
     "execution_count": 27,
     "metadata": {},
     "output_type": "execute_result"
    }
   ],
   "source": [
    "numbers[2][0] = 'b' \n",
    "numbers_deep_copy"
   ]
  },
  {
   "cell_type": "markdown",
   "id": "athletic-medication",
   "metadata": {},
   "source": [
    "Und was machen wir wenn wir eine dreidimensionale oder gar vierdimensionale Liste haben?\n",
    "Wir bräuchten eine sog. rekursive Funktion, welche uns eine Kopie erstellt.\n",
    "Glücklicherweise bietet uns ``Python`` durch das ``copy``-Modul bereits Funktionen zur Erstellung *flacher* und *tiefer Kopien*.\n",
    "Die Funktion ``copy()`` liefert eine *flache* und die Funktion ``deepcopy()`` eine *tiefe Kopie*:"
   ]
  },
  {
   "cell_type": "code",
   "execution_count": 28,
   "id": "living-third",
   "metadata": {},
   "outputs": [
    {
     "name": "stdout",
     "output_type": "stream",
     "text": [
      "shallow copy: [1, 2, [3, ['b', 5]]]\n",
      "deep copy: [1, 2, [3, [4, 5]]]\n"
     ]
    }
   ],
   "source": [
    "import copy\n",
    "\n",
    "numbers = [1, 2, [3, [4, 5]]]\n",
    "numbers_shallow_copy = copy.copy(numbers)\n",
    "numbers_deep_copy = copy.deepcopy(numbers)\n",
    "\n",
    "numbers[2][1][0] = 'b'\n",
    "\n",
    "print(f'shallow copy: {numbers_shallow_copy}')\n",
    "print(f'deep copy: {numbers_deep_copy}')"
   ]
  }
 ],
 "metadata": {
  "jupytext": {
   "formats": "md:myst",
   "text_representation": {
    "extension": ".md",
    "format_name": "myst"
   }
  },
  "kernelspec": {
   "display_name": "Python 3",
   "language": "python",
   "name": "python3"
  },
  "language_info": {
   "codemirror_mode": {
    "name": "ipython",
    "version": 3
   },
   "file_extension": ".py",
   "mimetype": "text/x-python",
   "name": "python",
   "nbconvert_exporter": "python",
   "pygments_lexer": "ipython3",
   "version": "3.9.6"
  },
  "source_map": [
   11,
   30,
   38,
   45,
   48,
   52,
   55,
   62,
   71,
   75,
   81,
   85,
   88,
   93,
   96,
   100,
   103,
   111,
   114,
   119,
   122,
   126,
   129,
   136,
   142,
   146,
   150,
   156,
   163,
   168,
   173,
   178,
   183,
   190,
   195,
   213,
   228,
   281,
   288,
   292,
   299,
   313,
   319,
   323,
   332,
   343,
   354,
   359,
   365,
   371,
   374,
   385,
   405,
   410,
   413,
   420
  ]
 },
 "nbformat": 4,
 "nbformat_minor": 5
}