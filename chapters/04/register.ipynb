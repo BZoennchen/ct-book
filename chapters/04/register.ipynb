{
 "cells": [
  {
   "cell_type": "markdown",
   "id": "compatible-apple",
   "metadata": {},
   "source": [
    "# Namensregister\n",
    "In diesem Notebook erstellen wir ein Namensregisters ``dictionary`` in Form einer Liste von Listen. \n",
    "Die Lister auf oberster Ebene soll für jeden Buchstaben a-z einen Eintrag d.h. eine Liste enthalten. In jeder Liste pro Eintrag stehen die sortierten Namen die mit einem bestimmten Buchstaben anfnagen, also:\n",
    "\n",
    "``dictionary = [['Adrian', 'Anna', ...], ['Ben', 'berta'], ...]``\n",
    "\n",
    "Wir lesen diese Vornamen aus einer CSV-Datei, welche doppelte Einträge enthält. Wir werden Schritt für Schritt Funktionen schreiben die uns helfen mit dem Namensregister bequem umzugehen.\n",
    "\n",
    "**Lerninhalt**\n",
    "\n",
    "+ Lesen einer CSV-Datei\n",
    "+ Transformation von Zeichenketter in Kleinbuchstaben\n",
    "+ Entwicklung einer Hashfunktion\n",
    "+ Füllen des Namensregisters ``dictionary`` (mithilfe der Hashfunktion)\n",
    "+ Löschen ``unique`` von doppelten Einträgen aus **unsortierter** Namensliste\n",
    "+ Erzeugen einer Alphabet-Generators ``alphabet_range``\n",
    "+ Test ob Name in Namensregister enthalten ``contains``, d.h. in **unsortierter** Namensliste\n",
    "+ Selbstimplementierter Vergleichsoperator ``is_smaller`` für Zeichenketten\n",
    "+ Schnelles sortieren der Namenslisten durch ``merge_sort``\n",
    "+ Initialisierung des Namensregisters (mit doppelten Einträgen) in eine Funktion zusammenfassen um ``merge_sort`` und ``unique_sorted`` bzw. ``unique_contains`` zu testen\n",
    "+ Löschen ``unique_sorted`` von doppelten Einträgen aus **sortierter** Namensliste\n",
    "+ Test ob Name in Namensregister enthalten ``unique_contains``, d.h. in **sortierter** Namensliste. Hierbei implementieren wir die binäre Suche ``binary_search``\n",
    "+ Überall kleine Tests einbauen\n",
    "\n",
    "\n",
    "**Lerninhalt & Lernziel**\n",
    "\n",
    "+ Umgang mit Listen (erzeugen, füllen, ändern, durch iterieren)\n",
    "+ Vor- aber auch Nachteile einer Hashmap und Hashfunktion verstehen\n",
    "+ Vorteile der Sortierung erkennen, d.h. auch ein Gefühl für die Laufzeitunterschiede entwickeln\n",
    "+ Rekursion nutzen\n",
    "+ Funktionen erster Ordnung (Funktion als Argument)\n",
    "+ Binäre Suche, als auch die logarithmische Laufzeit $\\mathcal{O}(\\log(n))$ verstehen\n",
    "+ Testen schätzen lernen\n",
    "\n",
    "----"
   ]
  },
  {
   "cell_type": "markdown",
   "id": "brutal-timothy",
   "metadata": {},
   "source": [
    "## Aufgabe 0\n",
    "\n",
    "importieren Sie ``reader`` aus dem modul ``csv``."
   ]
  },
  {
   "cell_type": "code",
   "execution_count": 109,
   "id": "military-religious",
   "metadata": {},
   "outputs": [],
   "source": [
    "from csv import reader"
   ]
  },
  {
   "cell_type": "markdown",
   "id": "olive-voluntary",
   "metadata": {},
   "source": [
    "## Aufgabe 1\n",
    "\n",
    "Lesen Sie die Vornamen aus der folgenden CSV-Datei ``'./data/baby-names.csv'`` und fügen Sie die Namen in die Liste ``names`` ein.\n",
    "\n",
    "Diese Datei enthält die Top 1000 Mädchen- und Jungennamen von 1880 bis 2009 in den USA. \n",
    "Der Header lautet ``\"year\",\"name\",\"percent\",\"sex\"``. ``year`` ist das jeweilige Jahr, ``name`` der Vorname, ``percent`` der prozentuale Anteil der Neugeborenen mit diesem Namen und ``sex`` das Geschlecht (``'boy', 'girl'``). \n",
    "Die Datei ist sortiert nach ``year`` dann nach ``percent``.\n",
    "Da jedoch ein Name für mehrere Jahre enthalten ist, entsteht eine **unsortierte** Liste."
   ]
  },
  {
   "cell_type": "code",
   "execution_count": 110,
   "id": "blank-antigua",
   "metadata": {},
   "outputs": [],
   "source": [
    "max_printed_names = 10\n",
    "names = []\n",
    "with open('baby-names.csv') as file:\n",
    "    babynames = reader(file, delimiter=',')\n",
    "    for row in babynames:\n",
    "        names.append(row[1])"
   ]
  },
  {
   "cell_type": "code",
   "execution_count": 111,
   "id": "interracial-metropolitan",
   "metadata": {},
   "outputs": [
    {
     "output_type": "execute_result",
     "data": {
      "text/plain": [
       "['name',\n",
       " 'John',\n",
       " 'William',\n",
       " 'James',\n",
       " 'Charles',\n",
       " 'George',\n",
       " 'Frank',\n",
       " 'Joseph',\n",
       " 'Thomas',\n",
       " 'Henry']"
      ]
     },
     "metadata": {},
     "execution_count": 111
    }
   ],
   "source": [
    "names[:max_printed_names]"
   ]
  },
  {
   "cell_type": "markdown",
   "id": "adapted-deputy",
   "metadata": {},
   "source": [
    "## Aufgabe 2\n",
    "\n",
    "1. Finden Sie heraus, wie Python Zeichenketten vergleicht z.B. was ergibt ``'Anna' <= 'Annaa'``.\n",
    "2. Konstruieren Sie eine Hashfunktion ``hash_str``. Ihre Hashfunktion erzeugt aus einem String eine ganzzahligen positive Zahl, dabei soll Klein- und Großschreibung ignoriert werden, d.h.: ``hash_str('Anna') == hash_str('anNA)``.\n",
    "3. Testen Sie ihre Hashfunktion \n",
    "\n",
    "**Tipp:** Erzeugen Sie sich erst eine Hilfsfunktion ``lowercase``, welche die Großbuchstaben einer Zeichenkette in Kleinbuchstaben umwandelt. Für die gesamte Aufgabe könnten die Python-Funktionen ``ord`` und ``chr`` hilfreich sein!"
   ]
  },
  {
   "cell_type": "code",
   "execution_count": 112,
   "id": "timely-intensity",
   "metadata": {},
   "outputs": [
    {
     "output_type": "stream",
     "name": "stdout",
     "text": [
      "False\nTrue\nTrue\nTrue\nFalse\n"
     ]
    }
   ],
   "source": [
    "# Python scheint alpabethisch zu vergleichen, jedoch unter Berücksichtigung der Groß- und Kleinschreibung\n",
    "print('Anna' <= 'Aanna')\n",
    "print('Anna' <= 'Bene')\n",
    "print('Paul' > 'Carolin')\n",
    "print('Anna' > 'Aanna')\n",
    "print('anna' == 'AnNA')"
   ]
  },
  {
   "cell_type": "code",
   "execution_count": 113,
   "id": "expected-deployment",
   "metadata": {},
   "outputs": [
    {
     "output_type": "stream",
     "name": "stdout",
     "text": [
      "65\n66\n97\n98\n"
     ]
    }
   ],
   "source": [
    "# Unicode convertion\n",
    "print(ord('A'))\n",
    "print(ord('B'))\n",
    "print(ord('a'))\n",
    "print(ord('b'))"
   ]
  },
  {
   "cell_type": "code",
   "execution_count": 114,
   "id": "floppy-burke",
   "metadata": {},
   "outputs": [],
   "source": [
    "def lowercase(string):\n",
    "    diff = ord('a') - ord('A')\n",
    "    result = ''\n",
    "    for c in string:\n",
    "        code = ord(c)\n",
    "        lc = c\n",
    "        if code <= ord('Z') and code >= ord('A'):\n",
    "            lc = chr(code + diff)\n",
    "        result += lc\n",
    "    return result"
   ]
  },
  {
   "cell_type": "code",
   "execution_count": 115,
   "id": "moral-module",
   "metadata": {},
   "outputs": [
    {
     "output_type": "execute_result",
     "data": {
      "text/plain": [
       "'abctddd'"
      ]
     },
     "metadata": {},
     "execution_count": 115
    }
   ],
   "source": [
    "# Schnelltest von lowercase()\n",
    "lowercase('AbCTddd')"
   ]
  },
  {
   "cell_type": "code",
   "execution_count": 116,
   "id": "immune-draft",
   "metadata": {},
   "outputs": [
    {
     "output_type": "execute_result",
     "data": {
      "text/plain": [
       "'abctddd'"
      ]
     },
     "metadata": {},
     "execution_count": 116
    }
   ],
   "source": [
    "# Natürlich gibt es diese Funktion bereits in Python\n",
    "'AbCTddd'.lower()"
   ]
  },
  {
   "cell_type": "code",
   "execution_count": 117,
   "id": "rental-edmonton",
   "metadata": {},
   "outputs": [],
   "source": [
    "def hash_str(string):\n",
    "    return ord(lowercase(string[0]))-ord('a')"
   ]
  },
  {
   "cell_type": "code",
   "execution_count": 118,
   "id": "vulnerable-citizen",
   "metadata": {
    "scrolled": true
   },
   "outputs": [
    {
     "output_type": "stream",
     "name": "stdout",
     "text": [
      "Anna |-> 0\n",
      "Bene |-> 1\n",
      "Claudia |-> 2\n",
      "Dominik |-> 3\n",
      "Erika |-> 4\n",
      "Felix |-> 5\n",
      "Gerta |-> 6\n",
      "Hermine |-> 7\n",
      "Iris |-> 8\n",
      "Janus |-> 9\n",
      "Klaus |-> 10\n",
      "Lena |-> 11\n",
      "Markus |-> 12\n",
      "Nils |-> 13\n",
      "Otto |-> 14\n",
      "Petra |-> 15\n",
      "Quinn |-> 16\n",
      "Ria |-> 17\n",
      "Steffen |-> 18\n",
      "Tina |-> 19\n",
      "Ulrich |-> 20\n",
      "Vikki |-> 21\n",
      "Winz |-> 22\n",
      "Xavier |-> 23\n",
      "Yesenia |-> 24\n",
      "Zachary |-> 25\n"
     ]
    }
   ],
   "source": [
    "# Test der Hashfunktion!\n",
    "test_names = ['Anna', 'Bene', 'Claudia', 'Dominik', 'Erika', \n",
    "              'Felix', 'Gerta', 'Hermine', 'Iris', 'Janus', 'Klaus', \n",
    "              'Lena', 'Markus', 'Nils', 'Otto', 'Petra', 'Quinn', \n",
    "              'Ria', 'Steffen', 'Tina', 'Ulrich', 'Vikki', 'Winz', \n",
    "              'Xavier', 'Yesenia', 'Zachary']\n",
    "\n",
    "for name in test_names:\n",
    "    print(f'{name} |-> {hash_str(name)}')"
   ]
  },
  {
   "cell_type": "markdown",
   "id": "altered-plastic",
   "metadata": {},
   "source": [
    "## Aufgabe 3\n",
    "\n",
    "Nutzen Sie nun Ihre Hashfunktion ``hash_str`` um das Namensregisters ``dictionary`` zu bauen, d.h.\n",
    "1. Erstellen Sie ein leeres Namensregister ``dictionary``\n",
    "2. Füllen Sie es\n",
    "3. Lassen Sie sich ein Namensliste eines Buchstabens anzeigen\n",
    "\n",
    "**Tipp:** Mit ``dictionary[hash_str('Q')]`` sollten Sie die Namensliste der Namen die mit ``'Q'`` oder ``'q'`` beginnen addressieren können."
   ]
  },
  {
   "cell_type": "code",
   "execution_count": 119,
   "id": "acceptable-bahamas",
   "metadata": {},
   "outputs": [],
   "source": [
    "# Namensregister initialisieren, benutzten von syntaktischem Zucker ;)\n",
    "dictionary = [[] for _ in range(26)]\n",
    "\n",
    "# Achtung: dies hier funktioniert nicht, da nur eine Liste angelegt wird und ihre Referenz kopiert wird\n",
    "# dictionary = [[]] * 26\n",
    "\n",
    "# oder ohne Zucker\n",
    "dictionary = []\n",
    "for _ in range(26):\n",
    "    dictionary.append([])"
   ]
  },
  {
   "cell_type": "code",
   "execution_count": 120,
   "id": "featured-latvia",
   "metadata": {},
   "outputs": [],
   "source": [
    "# Namensregister mit Namen aus der CSV füllen\n",
    "for name in names:\n",
    "    dictionary[hash_str(name)].append(name)"
   ]
  },
  {
   "cell_type": "code",
   "execution_count": 121,
   "id": "peripheral-apple",
   "metadata": {},
   "outputs": [
    {
     "output_type": "execute_result",
     "data": {
      "text/plain": [
       "['Quincy',\n",
       " 'Quincy',\n",
       " 'Quincy',\n",
       " 'Quincy',\n",
       " 'Quincy',\n",
       " 'Quincy',\n",
       " 'Quincy',\n",
       " 'Quincy',\n",
       " 'Quincy',\n",
       " 'Quincy']"
      ]
     },
     "metadata": {},
     "execution_count": 121
    }
   ],
   "source": [
    "dictionary[hash_str('Q')][:max_printed_names]"
   ]
  },
  {
   "cell_type": "markdown",
   "id": "bronze-density",
   "metadata": {},
   "source": [
    "## Aufgabe 4\n",
    "\n",
    "Schreiben Sie eine Funktion ``unique``, welche doppelte Einträge aus Ihrem Namensregister löscht."
   ]
  },
  {
   "cell_type": "code",
   "execution_count": 122,
   "id": "minimal-switch",
   "metadata": {},
   "outputs": [],
   "source": [
    "# Verwenden der Methode aus 'Karten sortieren' oder neu implementieren z.B.\n",
    "\n",
    "# Falle, folgender Code funktioniert nicht:\n",
    "# for bucket in dictionary:\n",
    "#     bucket = list(set(bucket))\n",
    "def unique(dictionary):\n",
    "    for i in range(len(dictionary)):\n",
    "        dictionary[i] = list(set(dictionary[i]))\n",
    "        \n",
    "unique(dictionary)"
   ]
  },
  {
   "cell_type": "code",
   "execution_count": 123,
   "id": "verbal-geology",
   "metadata": {
    "scrolled": true
   },
   "outputs": [
    {
     "output_type": "execute_result",
     "data": {
      "text/plain": [
       "['Qiana',\n",
       " 'Quintin',\n",
       " 'Quentin',\n",
       " 'Quinton',\n",
       " 'Quinn',\n",
       " 'Quinten',\n",
       " 'Queenie',\n",
       " 'Queen',\n",
       " 'Quint',\n",
       " 'Quincy',\n",
       " 'Quiana']"
      ]
     },
     "metadata": {},
     "execution_count": 123
    }
   ],
   "source": [
    "dictionary[hash_str('Q')]"
   ]
  },
  {
   "cell_type": "markdown",
   "id": "demonstrated-paper",
   "metadata": {},
   "source": [
    "## Aufgabe 5\n",
    "\n",
    "Es wäre praktisch einen alphabetischen ``range`` sagen wir ``alph_range(start, end)`` zu haben, welcher uns Buchstaben von einem Startbuchstaben bis zu einem Endbuchstaben zurückgibt z.B. ``alph_range(0, 26)`` wäre eine Sequenz (``generator``) von ``'a'`` bis ``'z'``.\n",
    "Aufauend darauf wäre eine Methode ``alphabet_range(lower_case=True)`` gut, welche entweder eine Sequenz (``generator``) des kleinen oder großen Alphabets zurückgibt.\n",
    "1. Schreiben Sie die Funktion ``alph_range``\n",
    "2. Schreiben Sie die Funktion ``alphabet_range`` bei diese ``alph_range`` benutzt\n",
    "3. Testen Sie ``alphabet_range`` indem Sie sich ``list(alphabet_range())`` und ``list(alphabet_range(False))`` anzeigen lassen"
   ]
  },
  {
   "cell_type": "code",
   "execution_count": 124,
   "id": "another-tradition",
   "metadata": {},
   "outputs": [],
   "source": [
    "def alph_range(start, end):\n",
    "    alph = ord('a') + start\n",
    "    for i in range(start,end):\n",
    "        yield chr(alph)\n",
    "        alph = alph + 1"
   ]
  },
  {
   "cell_type": "code",
   "execution_count": 125,
   "id": "electric-mixture",
   "metadata": {},
   "outputs": [
    {
     "output_type": "stream",
     "name": "stdout",
     "text": [
      " a b c d e f g h i j k l m n o p q r s t u v w x y z\n"
     ]
    }
   ],
   "source": [
    "# Ausgabe aller Kleinbuchstaben\n",
    "text = ''\n",
    "for c in alph_range(0, 26):\n",
    "    text += (' ' + c)\n",
    "print(text)"
   ]
  },
  {
   "cell_type": "code",
   "execution_count": 126,
   "id": "olive-korean",
   "metadata": {},
   "outputs": [
    {
     "output_type": "stream",
     "name": "stdout",
     "text": [
      " A B C D E F G H I J K L M N O P Q R S T U V W X Y Z\n"
     ]
    }
   ],
   "source": [
    "# Ausgabe aller Großbuchstaben\n",
    "text = ''\n",
    "start = -(ord('a')-ord('A'))\n",
    "end = start + 26\n",
    "for c in alph_range(start, end):\n",
    "    text += (' ' + c)\n",
    "print(text)"
   ]
  },
  {
   "cell_type": "code",
   "execution_count": 127,
   "id": "ecological-works",
   "metadata": {},
   "outputs": [],
   "source": [
    "# Warum nicht in eine Methode kapseln\n",
    "def alphabet_range(lower_case=True):\n",
    "    start = 0\n",
    "    end = 26\n",
    "    if not lower_case:\n",
    "        start = -(ord('a')-ord('A'))\n",
    "        end = start + 26 \n",
    "    return alph_range(start, end)"
   ]
  },
  {
   "cell_type": "code",
   "execution_count": 128,
   "id": "acoustic-shift",
   "metadata": {},
   "outputs": [
    {
     "output_type": "stream",
     "name": "stdout",
     "text": [
      "['a', 'b', 'c', 'd', 'e', 'f', 'g', 'h', 'i', 'j', 'k', 'l', 'm', 'n', 'o', 'p', 'q', 'r', 's', 't', 'u', 'v', 'w', 'x', 'y', 'z']\n"
     ]
    }
   ],
   "source": [
    "print(list(alphabet_range()))"
   ]
  },
  {
   "cell_type": "code",
   "execution_count": 129,
   "id": "passive-apartment",
   "metadata": {},
   "outputs": [
    {
     "output_type": "stream",
     "name": "stdout",
     "text": [
      "['A', 'B', 'C', 'D', 'E', 'F', 'G', 'H', 'I', 'J', 'K', 'L', 'M', 'N', 'O', 'P', 'Q', 'R', 'S', 'T', 'U', 'V', 'W', 'X', 'Y', 'Z']\n"
     ]
    }
   ],
   "source": [
    "print(list(alphabet_range(False)))"
   ]
  },
  {
   "cell_type": "markdown",
   "id": "mediterranean-boston",
   "metadata": {},
   "source": [
    "## Aufgabe 6\n",
    "\n",
    "Schreiben Sie eine Funktion ``contains(dictionary, name)``, welche genau dann ``True`` zurückgibt, wenn Ihr Namensregister den Namen ``name`` enthält."
   ]
  },
  {
   "cell_type": "code",
   "execution_count": 130,
   "id": "prime-wednesday",
   "metadata": {},
   "outputs": [],
   "source": [
    "# Python's in ist hier sehr mächtig, alternativ wäre auch eine Schleife korrekt (gerade für Anfänger)\n",
    "def contains(dictionary, name):\n",
    "    return name in dictionary[hash_str(name)]\n",
    "\n",
    "# Alternative, nutzt nicht alle Python-Features\n",
    "def contains(dictionary, name):\n",
    "    for element in dictionary[hash_str(name)]:\n",
    "        if element == name:\n",
    "            return True\n",
    "    return False"
   ]
  },
  {
   "cell_type": "code",
   "execution_count": 131,
   "id": "heated-subscriber",
   "metadata": {},
   "outputs": [
    {
     "output_type": "execute_result",
     "data": {
      "text/plain": [
       "True"
      ]
     },
     "metadata": {},
     "execution_count": 131
    }
   ],
   "source": [
    "contains(dictionary, 'Quincy')"
   ]
  },
  {
   "cell_type": "code",
   "execution_count": 132,
   "id": "individual-woman",
   "metadata": {},
   "outputs": [
    {
     "output_type": "execute_result",
     "data": {
      "text/plain": [
       "False"
      ]
     },
     "metadata": {},
     "execution_count": 132
    }
   ],
   "source": [
    "contains(dictionary, 'Quincyy')"
   ]
  },
  {
   "cell_type": "code",
   "execution_count": 133,
   "id": "elementary-alarm",
   "metadata": {},
   "outputs": [
    {
     "output_type": "execute_result",
     "data": {
      "text/plain": [
       "False"
      ]
     },
     "metadata": {},
     "execution_count": 133
    }
   ],
   "source": [
    "# contains ist case sensitive\n",
    "contains(dictionary, 'quincy')"
   ]
  },
  {
   "cell_type": "markdown",
   "id": "convinced-division",
   "metadata": {},
   "source": [
    "## Aufgabe 7\n",
    "Als nächstes Wollen wir die Namensliste also ``dictionary[hash_str('a')]`` bis ``dictionary[hash_str('z')]`` sortieren. Hierfür brauchen wir einen Ordnung auf unseren Vornamen oder anders gesagt einen Vergleichsoperator ``is_smaller`` und einen Sortieralgorithmus wobei wir diesmal Merge-Sort ``merge_sort`` implementieren.\n",
    "1. Schreiben Sie eine Funktion ``is_smaller(name1, name2)`` die ``True`` zurückgibt genau dann wenn ``name1`` in der Namensliste vor ``name2`` stehen soll. **Extra:** Sie könnten auf den Python Zeichenkettenvergleich verzichten und ihn durch Ihren Code ersetzten.\n",
    "2. Implementieren Sie ``merge_sort`` **Tipp:** Schreiben Sie eine Hilfsmethode ``merge`` die zwei sortierte Listen zusammenfügt (das Resultat ist erneut eine sortierte Liste).\n",
    "3. Implementieren Sie die Funktion ``sort_dictionary`` welche Ihr gesamtes Namensregister sortiert.\n",
    "4. Welchen Vorteil könnte es haben ein sortiertes Namensregister zu haben?\n",
    "5. Testen Sie alle Ihre Funktionen"
   ]
  },
  {
   "cell_type": "code",
   "execution_count": 134,
   "id": "greenhouse-assistant",
   "metadata": {},
   "outputs": [],
   "source": [
    "# zunächst brauchen wir einen Vergleichsoperator, hier eine Version die auf den Zeichenkettenvergleich von \n",
    "# von Python verzichtet\n",
    "def is_smaller(name1, name2):\n",
    "    name1_lower = lowercase(name1)\n",
    "    name2_lower = lowercase(name2)\n",
    "    for i in range(min(len(name1_lower), len(name2_lower))):\n",
    "        if ord(name1_lower[i]) < ord(name2_lower[i]):\n",
    "            return True\n",
    "        elif ord(name1_lower[i]) > ord(name2_lower[i]):\n",
    "            return False\n",
    "    # at this point the prefix of both strings are equals\n",
    "    return len(name1) < len(name2)\n",
    "\n",
    "# oder\n",
    "def is_smaller(name1, name2):\n",
    "    return lowercase(name1) < lowercase(name2)\n",
    "\n",
    "# oder\n",
    "def is_smaller(name1, name2):\n",
    "    return name1.lower() < name2.lower()"
   ]
  },
  {
   "cell_type": "code",
   "execution_count": 135,
   "id": "recorded-model",
   "metadata": {},
   "outputs": [
    {
     "output_type": "stream",
     "name": "stdout",
     "text": [
      "False\nTrue\nTrue\nTrue\nTrue\nTrue\nTrue\nTrue\nTrue\n"
     ]
    }
   ],
   "source": [
    "# In plain Python wir haben:\n",
    "print('Anna' < 'Aanna')\n",
    "print('Anna' < 'Bene')\n",
    "print('Carolin' < 'Paul')\n",
    "print('Aanna' < 'Anna')\n",
    "print('Anna' < 'Annaa')\n",
    "\n",
    "print('Anna' < 'aanna')\n",
    "print('Anna' < 'bene')\n",
    "print('Carolin' < 'paul')\n",
    "print('Aanna' < 'anna')"
   ]
  },
  {
   "cell_type": "code",
   "execution_count": 136,
   "id": "behind-adjustment",
   "metadata": {},
   "outputs": [
    {
     "output_type": "stream",
     "name": "stdout",
     "text": [
      "False\nTrue\nTrue\nTrue\nFalse\nTrue\nTrue\nTrue\n"
     ]
    }
   ],
   "source": [
    "# und nun:\n",
    "print(is_smaller('Anna','Aanna'))\n",
    "print(is_smaller('Anna','Bene'))\n",
    "print(is_smaller('Carolin', 'Paul'))\n",
    "print(is_smaller('Aanna', 'Anna'))\n",
    "\n",
    "print(is_smaller('Anna','aanna'))\n",
    "print(is_smaller('Anna','bene'))\n",
    "print(is_smaller('Carolin', 'paul'))\n",
    "print(is_smaller('Aanna', 'anna'))"
   ]
  },
  {
   "cell_type": "code",
   "execution_count": 137,
   "id": "imported-schema",
   "metadata": {},
   "outputs": [],
   "source": [
    "# als nächstes implementieren wir das Verschmelzen zweier sortierter Listen\n",
    "def merge(sorted_list1, sorted_list2, is_smaller):\n",
    "    # we assume both lists are sorted (ascending)\n",
    "    result = []\n",
    "    i = 0\n",
    "    j = 0\n",
    "    while i < len(sorted_list1) and j < len(sorted_list2):\n",
    "        if is_smaller(sorted_list1[i], sorted_list2[j]):\n",
    "            result.append(sorted_list1[i])\n",
    "            i += 1\n",
    "        else:\n",
    "            result.append(sorted_list2[j])\n",
    "            j += 1\n",
    "    rest = sorted_list2\n",
    "    index = j\n",
    "    if i < len(sorted_list1)-1:\n",
    "        rest = sorted_list1\n",
    "        index = i\n",
    "    \n",
    "    # append the remaining content\n",
    "    for k in range(index,len(rest)):\n",
    "        result.append(rest[k])\n",
    "    \n",
    "    return result"
   ]
  },
  {
   "cell_type": "code",
   "execution_count": 138,
   "id": "consistent-chase",
   "metadata": {},
   "outputs": [
    {
     "output_type": "stream",
     "name": "stdout",
     "text": [
      "True\nTrue\n[1, 2, 3, 4, 5, 6, 8, 9, 20, 21]\n"
     ]
    }
   ],
   "source": [
    "# Schnelltest\n",
    "sorted_list1 = [1,2,3,4,5,6]\n",
    "sorted_list2 = [8,9,20,21]\n",
    "\n",
    "merge1 = merge(sorted_list1, sorted_list2, lambda a, b: a < b)\n",
    "merge2 = merge(sorted_list2, sorted_list1, lambda a, b: a < b)\n",
    "print(merge1 == merge2)\n",
    "print(len(merge1) == len(sorted_list1) + len(sorted_list2))\n",
    "print(merge1)"
   ]
  },
  {
   "cell_type": "code",
   "execution_count": 139,
   "id": "touched-wilderness",
   "metadata": {},
   "outputs": [],
   "source": [
    "# nun folgt der merge_sort Algorithmus\n",
    "def merge_sort(mylist, is_smaller):\n",
    "    if len(mylist) <= 1:\n",
    "        return mylist\n",
    "    if len(mylist) == 2:\n",
    "        if(is_smaller(mylist[1], mylist[0])):\n",
    "            return [mylist[1], mylist[0]]\n",
    "        else:\n",
    "            return mylist\n",
    "    else:\n",
    "        pivot = int(len(mylist) / 2)\n",
    "        list1 = mylist[:pivot]\n",
    "        list2 = mylist[pivot:]\n",
    "        sorted_list1 = merge_sort(list1, is_smaller)\n",
    "        sorted_list2 = merge_sort(list2, is_smaller)\n",
    "        # time to merge\n",
    "        return merge(sorted_list1, sorted_list2, is_smaller)"
   ]
  },
  {
   "cell_type": "code",
   "execution_count": 140,
   "id": "overall-mills",
   "metadata": {},
   "outputs": [
    {
     "output_type": "stream",
     "name": "stdout",
     "text": [
      "True\nTrue\nTrue\n"
     ]
    }
   ],
   "source": [
    "# Schnelltest\n",
    "mylist = [1,6,4,3,9,2, 123, -12, 8, 0, 1, 1, -12, 564]\n",
    "sorted_list = merge_sort(mylist, lambda a, b : a < b)\n",
    "\n",
    "print(all(ele in sorted_list for ele in mylist))\n",
    "print(all(ele in mylist for ele in sorted_list))\n",
    "print(len(sorted_list) == len(mylist))"
   ]
  },
  {
   "cell_type": "code",
   "execution_count": 141,
   "id": "incorporated-timer",
   "metadata": {
    "scrolled": true
   },
   "outputs": [
    {
     "output_type": "execute_result",
     "data": {
      "text/plain": [
       "['Qiana',\n",
       " 'Queen',\n",
       " 'Queenie',\n",
       " 'Quentin',\n",
       " 'Quiana',\n",
       " 'Quincy',\n",
       " 'Quinn',\n",
       " 'Quintin',\n",
       " 'Quinton']"
      ]
     },
     "metadata": {},
     "execution_count": 141
    }
   ],
   "source": [
    "def sort_dictionary(dictionary):\n",
    "    for i in range(len(dictionary)):\n",
    "        dictionary[i] = merge_sort(dictionary[i], is_smaller)\n",
    "\n",
    "sort_dictionary(dictionary)\n",
    "dictionary[hash_str('Q')]"
   ]
  },
  {
   "cell_type": "markdown",
   "id": "involved-interest",
   "metadata": {},
   "source": [
    "## Aufgabe 8\n",
    "\n",
    "Um unsere Methoden zu testen wäre es gut das Namensregister mit einer Funktion neu zu erzeugen, d.h. unsortiert und mit doppelten Einträgen.\n",
    "Definieren Sie eine Funktion ``init_dictionary`` welche dies übernimmt. Sie müssen im Endeffekt nur den Code von oben richtig kombinieren."
   ]
  },
  {
   "cell_type": "code",
   "execution_count": 142,
   "id": "finished-opinion",
   "metadata": {},
   "outputs": [],
   "source": [
    "def init_dictionary():\n",
    "    # read from file\n",
    "    names = []\n",
    "    with open('baby-names.csv') as file:\n",
    "        babynames = reader(file, delimiter=',')\n",
    "        for row in babynames:\n",
    "            names.append(row[1])\n",
    "    \n",
    "    # generate empty dictionary\n",
    "    dictionary = [[] for _ in range(26)]\n",
    "    \n",
    "    # fill the dictionary\n",
    "    for name in names:\n",
    "        dictionary[hash_str(name)].append(name)\n",
    "    \n",
    "    # dont forget to return it\n",
    "    return dictionary"
   ]
  },
  {
   "cell_type": "markdown",
   "id": "vanilla-power",
   "metadata": {},
   "source": [
    "## Aufgabe 9\n",
    "\n",
    "Schreiben Sie neue Varianten von ``unique`` (``unique_sorted``) und ``contains`` (``contains_sorted``) unter der Annahme, dass Ihr Namensregister sortiert ist, d.h. nutzen Sie diese Tatsache aus! \n",
    "**Tipp:** ``unique_sorted`` ähnelt ``merge``, und ``contains_sorted`` beruht auf der binären Suche."
   ]
  },
  {
   "cell_type": "code",
   "execution_count": 143,
   "id": "egyptian-population",
   "metadata": {},
   "outputs": [],
   "source": [
    "def unique_sorted(dictionary):\n",
    "     for i in range(len(dictionary)):\n",
    "        if len(dictionary[i]) > 0:\n",
    "            result = []\n",
    "            result.append(dictionary[i][0])\n",
    "            for j in range(1,len(dictionary[i])):\n",
    "                if(dictionary[i][j] != result[-1]):\n",
    "                    result.append(dictionary[i][j])\n",
    "            dictionary[i] = result"
   ]
  },
  {
   "cell_type": "code",
   "execution_count": 144,
   "id": "expanded-mirror",
   "metadata": {},
   "outputs": [],
   "source": [
    "dictionary_fresh = init_dictionary()"
   ]
  },
  {
   "cell_type": "code",
   "execution_count": 145,
   "id": "preceding-personal",
   "metadata": {
    "scrolled": true
   },
   "outputs": [],
   "source": [
    "dictionary = dictionary_fresh.copy()"
   ]
  },
  {
   "cell_type": "code",
   "execution_count": 146,
   "id": "announced-fiber",
   "metadata": {},
   "outputs": [
    {
     "output_type": "execute_result",
     "data": {
      "text/plain": [
       "['Arthur',\n",
       " 'Albert',\n",
       " 'Andrew',\n",
       " 'Alfred',\n",
       " 'Alexander',\n",
       " 'August',\n",
       " 'Allen',\n",
       " 'Archie',\n",
       " 'Alex',\n",
       " 'Anthony']"
      ]
     },
     "metadata": {},
     "execution_count": 146
    }
   ],
   "source": [
    "dictionary[0][:max_printed_names]"
   ]
  },
  {
   "cell_type": "code",
   "execution_count": 147,
   "metadata": {},
   "outputs": [
    {
     "output_type": "execute_result",
     "data": {
      "text/plain": [
       "['Zack', 'Zeb', 'Zeke', 'Zack', 'Zeb', 'Zack', 'Zeb', 'Zack', 'Zeb', 'Zeke']"
      ]
     },
     "metadata": {},
     "execution_count": 147
    }
   ],
   "source": [
    "dictionary[25][:max_printed_names]"
   ]
  },
  {
   "cell_type": "code",
   "execution_count": 148,
   "id": "brazilian-consortium",
   "metadata": {},
   "outputs": [
    {
     "output_type": "execute_result",
     "data": {
      "text/plain": [
       "['Qiana',\n",
       " 'Qiana',\n",
       " 'Qiana',\n",
       " 'Qiana',\n",
       " 'Qiana',\n",
       " 'Queen',\n",
       " 'Queen',\n",
       " 'Queen',\n",
       " 'Queen',\n",
       " 'Queen']"
      ]
     },
     "metadata": {},
     "execution_count": 148
    }
   ],
   "source": [
    "# Für den Test erzeugen wir ein frisches sortiertes Namesregister\n",
    "sort_dictionary(dictionary)\n",
    "dictionary[hash_str('Q')][:max_printed_names]"
   ]
  },
  {
   "cell_type": "code",
   "execution_count": 149,
   "id": "central-prediction",
   "metadata": {},
   "outputs": [
    {
     "output_type": "execute_result",
     "data": {
      "text/plain": [
       "['Aaden',\n",
       " 'Aaliyah',\n",
       " 'Aarav',\n",
       " 'Aaron',\n",
       " 'Ab',\n",
       " 'Abagail',\n",
       " 'Abb',\n",
       " 'Abbey',\n",
       " 'Abbie',\n",
       " 'Abbigail']"
      ]
     },
     "metadata": {},
     "execution_count": 149
    }
   ],
   "source": [
    "unique_sorted(dictionary)\n",
    "dictionary[hash_str('A')][:max_printed_names]"
   ]
  },
  {
   "cell_type": "code",
   "execution_count": 150,
   "id": "digital-progressive",
   "metadata": {},
   "outputs": [],
   "source": [
    "def binary_search(names, name, is_smaller):\n",
    "    pivot = int(len(names) / 2)\n",
    "    if names[pivot] == name:\n",
    "        return pivot\n",
    "    if len(names) <= 1:\n",
    "        return None\n",
    "    if is_smaller(name, names[pivot]):\n",
    "        return binary_search(names[:pivot], name, is_smaller)\n",
    "    else:\n",
    "        right = binary_search(names[pivot:], name, is_smaller)\n",
    "        if right == None:\n",
    "            return None\n",
    "        return pivot + right"
   ]
  },
  {
   "cell_type": "code",
   "execution_count": 151,
   "id": "deadly-schedule",
   "metadata": {},
   "outputs": [
    {
     "output_type": "stream",
     "name": "stdout",
     "text": [
      "True\nTrue\nTrue\nNone\n"
     ]
    }
   ],
   "source": [
    "mylist = [1,2,3,4,5,6,7,8]\n",
    "\n",
    "print(mylist[binary_search(mylist, 7, lambda a, b: a < b)] == 7)\n",
    "print(mylist[binary_search(mylist, 1, lambda a, b: a < b)] == 1)\n",
    "print(mylist[binary_search(mylist, 8, lambda a, b: a < b)] == 8)\n",
    "print(binary_search(mylist, 18, lambda a, b: a < b))"
   ]
  },
  {
   "cell_type": "code",
   "execution_count": 152,
   "id": "broadband-springer",
   "metadata": {},
   "outputs": [],
   "source": [
    "def unique_contains(dictionary, name):\n",
    "    result = binary_search(dictionary[hash_str(name)], name, is_smaller)\n",
    "    return result != None"
   ]
  },
  {
   "cell_type": "code",
   "execution_count": 153,
   "id": "headed-joint",
   "metadata": {},
   "outputs": [
    {
     "output_type": "execute_result",
     "data": {
      "text/plain": [
       "False"
      ]
     },
     "metadata": {},
     "execution_count": 153
    }
   ],
   "source": [
    "unique_contains(dictionary, 'Quinttt')"
   ]
  },
  {
   "cell_type": "code",
   "execution_count": 154,
   "id": "moral-haiti",
   "metadata": {},
   "outputs": [
    {
     "output_type": "execute_result",
     "data": {
      "text/plain": [
       "True"
      ]
     },
     "metadata": {},
     "execution_count": 154
    }
   ],
   "source": [
    "unique_contains(dictionary, 'Quint')"
   ]
  },
  {
   "cell_type": "markdown",
   "id": "logical-serve",
   "metadata": {},
   "source": [
    "## Aufgabe 10\n",
    "Schreiben Sie ein Funktion ``test_unique_contains`` die ``True`` zurückgibt, falls ``unique_contains`` für alle Namen im Namensregister ``True`` zurückgibt, andernfalls soll ``test_unique_contains`` ``False`` zurückgeben. Schreiben Sie hierfür eine kleine Hilfsfunktion ``get_names`` die Ihnen aus dem sortierten und ohne doppelten Einträgen gefüllten Namensregister ``dictionary`` alle Namen in einer Liste zurückgibt.\n",
    "\n",
    "Ist die neue Liste die Ihnen ``get_names`` zurückgibt sortiert? Warum bzw. warum nicht?"
   ]
  },
  {
   "cell_type": "code",
   "execution_count": 159,
   "id": "lucky-christopher",
   "metadata": {},
   "outputs": [],
   "source": [
    "def get_names(dictionary):\n",
    "    result = []\n",
    "    for names in dictionary:\n",
    "         result += names\n",
    "    return result"
   ]
  },
  {
   "cell_type": "code",
   "execution_count": 160,
   "id": "otherwise-interface",
   "metadata": {},
   "outputs": [
    {
     "output_type": "execute_result",
     "data": {
      "text/plain": [
       "['Aaden',\n",
       " 'Aaliyah',\n",
       " 'Aarav',\n",
       " 'Aaron',\n",
       " 'Ab',\n",
       " 'Abagail',\n",
       " 'Abb',\n",
       " 'Abbey',\n",
       " 'Abbie',\n",
       " 'Abbigail']"
      ]
     },
     "metadata": {},
     "execution_count": 160
    }
   ],
   "source": [
    "all_names = get_names(dictionary)\n",
    "all_names[:max_printed_names]"
   ]
  },
  {
   "cell_type": "code",
   "execution_count": 161,
   "id": "taken-mandate",
   "metadata": {},
   "outputs": [],
   "source": [
    "def test_unique_contains(dictionary):\n",
    "    names = get_names(dictionary)\n",
    "    for name in names:\n",
    "        if not unique_contains(dictionary, name):\n",
    "            return False\n",
    "    return True\n",
    "\n",
    "# oder mit syntaktischem Zucker:\n",
    "def test_unique_contains(dictionary):\n",
    "    return all(unique_contains(dictionary, name) for name in get_names(dictionary))"
   ]
  },
  {
   "cell_type": "code",
   "execution_count": 162,
   "id": "timely-stable",
   "metadata": {},
   "outputs": [
    {
     "output_type": "execute_result",
     "data": {
      "text/plain": [
       "True"
      ]
     },
     "metadata": {},
     "execution_count": 162
    }
   ],
   "source": [
    "test_unique_contains(dictionary)"
   ]
  }
 ],
 "metadata": {
  "kernelspec": {
   "display_name": "Python 3",
   "language": "python",
   "name": "python3"
  },
  "language_info": {
   "codemirror_mode": {
    "name": "ipython",
    "version": 3
   },
   "file_extension": ".py",
   "mimetype": "text/x-python",
   "name": "python",
   "nbconvert_exporter": "python",
   "pygments_lexer": "ipython3",
   "version": "3.9.2-final"
  }
 },
 "nbformat": 4,
 "nbformat_minor": 5
}