{
 "cells": [
  {
   "cell_type": "markdown",
   "id": "severe-thesaurus",
   "metadata": {},
   "source": [
    "# Binäres Zeichnen - Struktur ist Information\n",
    "\n",
    "````{admonition} Lernziel\n",
    ":class: learngoals\n",
    "\n",
    "In diesem Abschnitt nutzen wir zwei Zustände **Strom aus**, **Strom an** bzw. $0$ und $1$ um erst ein Schwarz-Weiß-Bild \n",
    "\n",
    "```{figure} ../../figs/image-representation/zero-and-one-to-bw-picture.png\n",
    "---\n",
    "width: 200px\n",
    "name: fig-zero-and-one-to-bw-picture\n",
    "---\n",
    "```\n",
    "\n",
    "und schlussendlich ein Video bzw. eine Animation\n",
    "\n",
    "```{figure} ../../figs/image-representation/flower.gif\n",
    "---\n",
    "width: 200px\n",
    "name: fig-flower\n",
    "---\n",
    "```\n",
    "\n",
    " zu repräsentieren.\n",
    "\n",
    "Diese Übung soll verdeutlichen, wie Informationen erst durch einen Interpreter eine bestimmte Bedeutung erlangen.\n",
    "Sie sollen selbst erfahren, wie durch Strukturen in einer Folge aus $0$ und $1$ Information entsteht.\n",
    "Sie werden diese Struktur selbst erarbeiten.\n",
    "\n",
    "In Sachen ``Python``-Programmierung lernen Sie mit mehrdimensionalen Listen und Tupeln umzugehen und wie sie Ihren Code durch Funktionen strukturieren können.\n",
    "\n",
    "Zudem werden Sie sehen, wie Sie durch ``Python``-Funktionen in eine abstraktere Welt gelangen und in dieser denken können.\n",
    "Wir werden Probleme in viele Teilprobleme aufteilen (**Dekomposition**), Sie werden Ihre **Mustererkennung** benötigen und auch **mathematisches Denken** trainieren.\n",
    "````\n",
    "\n",
    "## Das Bildformat (Informationsrepräsentation)\n",
    "\n",
    "Wir beginnen mit einem Schwarz-Weiß-Rasterbild.\n",
    "Ein [Rasterbild](pixel-image) hat eine bestimmte Anzahl $m$ an Pixel in $y$-Richtung (Zeilen) und eine bestimmte Anzahl $n$ an Pixel in $x$-Richtung (Spalten).\n",
    "Das Bild kann als $m \\times n$-Matrix aufgefasst werden.\n",
    "In unserem Fall des Schwarz-Weiß-Bilds ist jeder Pixel entweder schwarz $0$ oder weiß $1$.\n",
    "\n",
    "```{exercise} Bits pro Pixel\n",
    ":label: repraesentation-bw-exercise\n",
    "Wie viele *Bits* benötigen Sie für jeden Pixel?\n",
    "```\n",
    "\n",
    "```{solution} repraesentation-bw-exercise\n",
    ":label: repraesentation-bw-solution\n",
    ":class: dropdown\n",
    "Jeder Pixel kann nur einen von zwei Zuständen annehmen, demnach brauchen wir pro Pixel $1$ *Bit*.\n",
    "```\n",
    "\n",
    "Jede Zeile des Bildes repräsentieren wir als Folge von $0$ und $1$.\n",
    "Da wir unser Bild verändern möchten eignet sich in ``Python`` hierfür die Liste ``list``."
   ]
  },
  {
   "cell_type": "code",
   "execution_count": 1,
   "id": "french-failing",
   "metadata": {},
   "outputs": [],
   "source": [
    "row = [0, 1, 0, 1, 0, 1, 1]"
   ]
  },
  {
   "cell_type": "markdown",
   "id": "stainless-remains",
   "metadata": {},
   "source": [
    "Ein Bild modellieren wir wiederum als eine Liste von Zeilen (Pixelstreifen) oder eben eine Liste von Listen."
   ]
  },
  {
   "cell_type": "code",
   "execution_count": 2,
   "id": "potential-mouth",
   "metadata": {},
   "outputs": [],
   "source": [
    "picture = [[0, 1, 0, 1, 0, 1, 1], # 1. Zeile\n",
    "           [1, 1, 0, 1, 0, 1, 1], # 2. Zeile\n",
    "           [0, 0, 1, 1, 1, 1, 1], # 3. Zeile\n",
    "           [1, 0, 0, 1, 0, 1, 1]] # 4. Zeile"
   ]
  },
  {
   "cell_type": "markdown",
   "id": "collected-david",
   "metadata": {},
   "source": [
    "## Listen in Python\n",
    "Mit"
   ]
  },
  {
   "cell_type": "code",
   "execution_count": 3,
   "id": "thick-constant",
   "metadata": {},
   "outputs": [
    {
     "data": {
      "text/plain": [
       "1"
      ]
     },
     "execution_count": 3,
     "metadata": {},
     "output_type": "execute_result"
    }
   ],
   "source": [
    "picture[3][5]"
   ]
  },
  {
   "cell_type": "markdown",
   "id": "white-copper",
   "metadata": {},
   "source": [
    "greifen wir auf das Element in der ``4``-ten Zeile und ``6``-ten Spalte zu denn der Index einer Liste beginnt mit ``0``.\n",
    "\n",
    "Bevor wir weiter fortfahren möchten wir ein wichtiges Merkmal der ``Python``-Liste hervorheben.\n",
    "Sie könnten dazu geneigt sein folgender Code zu verwenden um ein Bild mit zwei identischen Zeilen zu erzeugen."
   ]
  },
  {
   "cell_type": "code",
   "execution_count": 4,
   "id": "deadly-antigua",
   "metadata": {},
   "outputs": [],
   "source": [
    "row = [0, 1, 0, 1, 0, 1, 1]\n",
    "picture = [row, row]"
   ]
  },
  {
   "cell_type": "markdown",
   "id": "decreased-blade",
   "metadata": {},
   "source": [
    "Doch hierbei entsteht ein merkwürdiges Phänomen, welches die folgende Aufgabe zum Vorschein bringt.\n",
    "\n",
    "```{exercise} Kopie einer Liste\n",
    ":label: copy-list-exercise\n",
    "Ändern Sie nun ein einzelnen Pixel und lassen Sie sich das Ergebnis anzeigen.\n",
    "Was stellen Sie fest?\n",
    "```\n",
    "\n",
    "````{solution} copy-list-exercise\n",
    ":label: rcopy-list-solution\n",
    ":class: dropdown\n",
    "Ändern wir einen Pixel einer Zeile, z.B. durch\n",
    "\n",
    "```python\n",
    "picture[0][0] = 1\n",
    "```\n",
    "\n",
    "so ändert wir sowohl ``picture[0][0]`` als auch ``picture[1][0]``.\n",
    "````\n",
    "\n",
    "Unser Bild enthält keine zwei identische Zeilen sondern zweimal die gleiche Zeile.\n",
    "Es wird nicht der Wert also ``[0, 1, 0, 1, 0, 1, 1]`` kopiert sondern die Referenz / der Zeiger welche auf eine Liste zeigt.\n",
    "\n",
    "Um das gewünschte Ergebnis zu erzielen müssen wir die Liste und nicht ihre Referenz kopieren, hierzu bietet uns ``Python`` die Listen-Methode ``copy()`` an:"
   ]
  },
  {
   "cell_type": "code",
   "execution_count": 5,
   "id": "right-adrian",
   "metadata": {},
   "outputs": [],
   "source": [
    "row = [0, 1, 0, 1, 0, 1, 1]\n",
    "picture = [row.copy(), row.copy()]"
   ]
  },
  {
   "cell_type": "markdown",
   "id": "stunning-curtis",
   "metadata": {},
   "source": [
    "Da eine Kopie der Liste (des Objekts) gemacht wird, können Sie sicher sein, dass Änderungen der Listenelemente nur jene eine Liste betreffen.\n",
    "Bedenken Sie jedoch, dass keine sog. *tiefe Kopie* gemacht wird.\n",
    "Zum Beispiel laufen Sie mit"
   ]
  },
  {
   "cell_type": "code",
   "execution_count": 6,
   "id": "dramatic-polish",
   "metadata": {},
   "outputs": [],
   "source": [
    "row = [0, 1, 0, 1, 0, 1, 1]\n",
    "picture = [row.copy(), row.copy()]\n",
    "picture2 = picture.copy()\n",
    "picture2[0][0] = 1"
   ]
  },
  {
   "cell_type": "markdown",
   "id": "artificial-skiing",
   "metadata": {},
   "source": [
    "in das gleiche Problem.\n",
    "\n",
    "Um Listen zu verketten können Sie in ``Python`` den ``+``-Operator verwenden."
   ]
  },
  {
   "cell_type": "code",
   "execution_count": 7,
   "id": "beneficial-portfolio",
   "metadata": {},
   "outputs": [
    {
     "data": {
      "text/plain": [
       "[1, 2, 3, 4, 5, 6, 7, 8]"
      ]
     },
     "execution_count": 7,
     "metadata": {},
     "output_type": "execute_result"
    }
   ],
   "source": [
    "[1,2,3,4] + [5,6,7,8]"
   ]
  },
  {
   "cell_type": "markdown",
   "id": "paperback-trace",
   "metadata": {},
   "source": [
    "Das Ergebnis ist eine neue eindimensionale Liste die alle Elemente der beiden Listen in genau jener Reihenfolge enthält.\n",
    "Allerdings unterscheidet ``Python`` zwischen ``mylist += other_list`` und ``mylist = mylist + other_list``!\n",
    "Ersteres, also ``+=``, führt eine [veränderbare](def-mutable) (engl. *mutable*) Addition durch, d.h. hier wird ``mylist`` verändert.\n",
    "Letzteres, also ``mylist + other_list``, führt eine [unveränderbare](def-mutable) (engl. *immutable*) Addition durch, wodurch eine Kopie erzeugt wird. D.h. ``mylist = mylist + other_list`` erzeugt eine völlig neue Liste und ordnet es ``mylist`` zu.\n",
    "\n",
    "```{admonition} Veränderlich und Un­ver­än­der­lich­keit\n",
    ":name: def-mutable\n",
    "\n",
    "Wir nennen ein Objekt, z.B. eine Variable, *veränderlich* (engl. *mutable*) wenn wir dessen Wert verändern können indem wir den Speicherbereich des Objekts verändern können.\n",
    "Ein Objekt ist dagegen *unveränderlich* (engl. *immutable*) wenn wir dessen Speicherbereich nicht verändern können.\n",
    "Ist ein Objekt *unveränderlich* so wird dessen Veränderung durch eine Kopie (einen neuen Speicherbereich) realisiert.\n",
    "Das Ursprungsobjekt bleibt *unverändert*.\n",
    "\n",
    "Ist eine Operation *unveränderlich* so verändert sie den Speicherbereich der Objekte, auf denen sie ausgeführt wird, nicht\n",
    "```\n",
    "\n",
    "Sie mögen nun denken, dass Ergebnis ist doch identisch?\n",
    "Sehen wir uns folgenden Code an:"
   ]
  },
  {
   "cell_type": "code",
   "execution_count": 8,
   "id": "prescribed-copper",
   "metadata": {},
   "outputs": [
    {
     "name": "stdout",
     "output_type": "stream",
     "text": [
      "a = [1, 2, 3, 4]\n",
      "b = [5, 6, 7, 8]\n",
      "c = [1, 2, 3, 4, 5, 6, 7, 8]\n",
      "a = [1, 2, 3, 4, 5, 6, 7, 8]\n",
      "b = [5, 6, 7, 8]\n",
      "c = [1, 2, 3, 4, 5, 6, 7, 8]\n"
     ]
    }
   ],
   "source": [
    "def concat_immutable(list1,list2):\n",
    "    concat = list1 + list2\n",
    "    return concat\n",
    "\n",
    "def concat_mutable(list1,list2):\n",
    "    list1 += list2\n",
    "    return list1\n",
    "\n",
    "a = [1,2,3,4]\n",
    "b = [5,6,7,8]\n",
    "c = concat_immutable(a,b)\n",
    "print(f'a = {a}')\n",
    "print(f'b = {b}')\n",
    "print(f'c = {c}')\n",
    "\n",
    "c = concat_mutable(a,b)\n",
    "print(f'a = {a}')\n",
    "print(f'b = {b}')\n",
    "print(f'c = {c}')"
   ]
  },
  {
   "cell_type": "markdown",
   "id": "infinite-norwegian",
   "metadata": {},
   "source": [
    "``concat_mutable`` verändert ``list1`` und da es sich nicht um einen [primitiven Datentyp](def-primitive-datatypes) handelt, wird nur die Referenz kopiert und nicht die Liste ``a`` selbst.\n",
    "Somit wird ``a += b`` ausgeführt und ``a`` wird verändert.\n",
    "Dies bezeichnen wir als sogenannten *Seiteneffekt* und in diesem Fall ist es ein unerwarteter *Seiteneffekt* den wir vermeiden sollten!\n",
    "Dennoch ist ``+=`` immer dann sehr sinnvoll wenn Sie eine Liste sukzessive füllen wollen.\n",
    "Denn jedesmal die gesamte Liste zu kopieren kann zu einer langen Laufzeit führen.\n",
    "\n",
    "\n",
    "````{exercise} Immutable vs. Mutable\n",
    ":label: mutable-vs-immutable-concat\n",
    "Welcher der beiden Funktionen wird bei gleicher Eingabe schneller laufen und warum?\n",
    "Testen Sie beide Versionen für große ``n`` > 0.\n",
    "\n",
    "```python\n",
    "def my_range_mutable(n):\n",
    "    number = []\n",
    "    for i in range(n):\n",
    "        number += [i]\n",
    "    return number\n",
    "\n",
    "def my_range_immutable(n):\n",
    "    number = []\n",
    "    for i in range(n):\n",
    "        number = number + [i]\n",
    "    return number\n",
    "````\n",
    "\n",
    "Um über die Elemente einer Liste zu *iterieren*, verwendet man in ``Python`` das [For-Schleife](https://www.python-kurs.eu/python3_for-schleife.php) und wie immer bestimmt die [Einrückung](https://www.python-kurs.eu/python3_bloecke.php) die Strukturierung (``Python`` verzichtet auf Klammern):"
   ]
  },
  {
   "cell_type": "code",
   "execution_count": 9,
   "id": "continuing-amateur",
   "metadata": {},
   "outputs": [
    {
     "ename": "NameError",
     "evalue": "name 'element' is not defined",
     "output_type": "error",
     "traceback": [
      "\u001b[0;31m---------------------------------------------------------------------------\u001b[0m",
      "\u001b[0;31mNameError\u001b[0m                                 Traceback (most recent call last)",
      "\u001b[0;32m<ipython-input-9-f78e22bf765b>\u001b[0m in \u001b[0;36m<module>\u001b[0;34m\u001b[0m\n\u001b[1;32m      1\u001b[0m \u001b[0;32mfor\u001b[0m \u001b[0mrow\u001b[0m \u001b[0;32min\u001b[0m \u001b[0mpicture\u001b[0m\u001b[0;34m:\u001b[0m\u001b[0;34m\u001b[0m\u001b[0;34m\u001b[0m\u001b[0m\n\u001b[0;32m----> 2\u001b[0;31m     \u001b[0mprint\u001b[0m\u001b[0;34m(\u001b[0m\u001b[0melement\u001b[0m\u001b[0;34m)\u001b[0m\u001b[0;34m\u001b[0m\u001b[0;34m\u001b[0m\u001b[0m\n\u001b[0m",
      "\u001b[0;31mNameError\u001b[0m: name 'element' is not defined"
     ]
    }
   ],
   "source": [
    "for row in picture:\n",
    "    print(element)"
   ]
  },
  {
   "cell_type": "markdown",
   "id": "first-replica",
   "metadata": {},
   "source": [
    "```{exercise} Iteration\n",
    ":label: iteration-exercise\n",
    "Schreiben Sie einen Code der jedes Pixel des Bildes einzeln durch ``print()`` ausgibt.\n",
    "```"
   ]
  },
  {
   "cell_type": "code",
   "execution_count": null,
   "id": "apart-affairs",
   "metadata": {},
   "outputs": [],
   "source": [
    "for row in picture:\n",
    "    for pixel in row:\n",
    "        print(pixel)"
   ]
  },
  {
   "cell_type": "markdown",
   "id": "atomic-pharmacy",
   "metadata": {},
   "source": [
    "(sec-python-function)=\n",
    "## Funktionen in Python\n",
    "\n",
    "Funktionen definieren wir mit dem Schlüsselwort ``def`` gefolgt vom Funktionsnamen und den *Argumenten* der Funktion sowie ihrer Logik.\n",
    "Anstatt *Argumente* sprechen wir auch von *Parametern*.\n",
    "Falls Sie mit Ihrer Funktion einen Wert, eine Liste, oder ein anderes Objekt zurückgeben möchten nutzen Sie das ``return``-Schlüsselwort.\n",
    "Variablen der Funktion sind ihre Argumente und alle anderen Variablen die sie innerhalb der Funktion definieren.\n",
    "Zum Beispiel:"
   ]
  },
  {
   "cell_type": "code",
   "execution_count": null,
   "id": "martial-roads",
   "metadata": {},
   "outputs": [],
   "source": [
    "x = 10\n",
    "c = 100\n",
    "def add(x, y):\n",
    "    c = x + y\n",
    "    return c\n",
    "add(15, x)"
   ]
  },
  {
   "cell_type": "markdown",
   "id": "quick-facial",
   "metadata": {},
   "source": [
    "Die Variablen ``x`` und ``c`` außerhalb der Funktion haben nichts mit den Variablen innerhalb oder Argumenten der Funktion zu tun.\n",
    "Sie bleiben unverändert.\n",
    "Durch den obigen Aufruf wird erhalt das Argument ``x`` den Wert ``15`` und ``y`` die Referenz zu ``x`` außerhalb der Funktion.\n",
    "``c`` wird zu ``25`` und wird zurückgegeben.\n",
    "Falls ``y`` innerhalb der Funktion verändert wird, würde ``Python`` eine neue Kopie anlegen, da es sich um einen *unveränderlichen* (*immutable*) Datentyp handelt.\n",
    "Alle [primitiven Datentypen](def-primitive-datatypes) wie ``int, float, bool`` aber auch ``str``(Zeichenketten) und ``tuple`` sind unveränderlich.\n",
    "Listen jedoch nicht!\n",
    "\n",
    "Eine gute Übung ist es eine Liste zu *flatten*, d.h. aus einer mehrdimensionalen Liste, eine Liste der Dimension $1$ zu machen.\n",
    "Hierbei soll die Reihenfolge der Elemente erhalten bleiben.\n",
    "\n",
    "\n",
    "```{exercise} Flatten\n",
    ":label: flatten-exercise\n",
    "Schreiben Sie eine Funktion ``flatten(mylist)``, die die $n$-dimensionalen Liste ``mylist`` in eine $n-1$-dimensionale Liste transformiert.\n",
    "Zum Beispiel soll aus ``[[[1,2], [3,3]], [[1,3], [4,5]]]``, also einer $3$-dimensionalen Liste, ``[[1,2], [3,3], [1,3], [4,5]]``, also eine $2$-dimensionale Liste werden.\n",
    "```"
   ]
  },
  {
   "cell_type": "code",
   "execution_count": null,
   "id": "centered-intersection",
   "metadata": {},
   "outputs": [],
   "source": [
    "def flatten(mylist):\n",
    "    result = []\n",
    "    for sub_list in mylist:\n",
    "        for element in sub_list:\n",
    "            result.append(element)\n",
    "\n",
    "    return result\n",
    "\n",
    "flatten([[[1,2], [3,3]], [[1,3], [4,5]]])"
   ]
  },
  {
   "cell_type": "markdown",
   "id": "foreign-herald",
   "metadata": {},
   "source": [
    "In unserer Lösung bewirkt ``result.append(element)`` das gleich wie ``result += [element]`` jedoch ist die erste Version klarer zu lesen denn wir wollen das Element ``element`` anhängen (engl. append).\n",
    "\n",
    "## Bildgenerierung (Informationserzeugung)\n",
    "\n",
    "```{exercise} Bild generieren\n",
    ":label: repraesentation-pic-with-border\n",
    "Generieren Sie ein weißes $10 \\times 10$ Rasterbild mit einem ein Pixel breiten schwarzen Rand.\n",
    "Nutzen Sie die Programmierung um sich Zeit zu sparen!\n",
    "```"
   ]
  },
  {
   "cell_type": "code",
   "execution_count": null,
   "id": "satisfied-darwin",
   "metadata": {},
   "outputs": [],
   "source": [
    "top = [0 for i in range(10)]\n",
    "center = [0] + [1 for i in range(8)] + [0]\n",
    "picture = [top.copy()] + [center.copy() for i in range(8)] + [top.copy()]\n",
    "picture"
   ]
  },
  {
   "cell_type": "markdown",
   "id": "gothic-adapter",
   "metadata": {},
   "source": [
    "Auch hier müssen Sie darauf achten die richtigen Kopien zu machen.\n",
    "Um sich Code zu sparen kann das sog. *List Comprehension* Ihnen Zeit beim Schreiben sparen.\n",
    "\n",
    "````{admonition} List Comprehension (Python)\n",
    ":class: dropdown\n",
    "Das *List Comprehension* ist eine kurze Syntax um aus einer bestehenden Sequenz/Liste eine neue Liste zu erzeugen.\n",
    "\n",
    "**Beispiel:**\n",
    "```python\n",
    "[0 for i in range(10)]\n",
    "```\n",
    "\n",
    "oder\n",
    "\n",
    "```python\n",
    "[0 for _ in range(10)]\n",
    "```\n",
    "\n",
    "sind Kurformen von\n",
    "```python\n",
    "newlist = []\n",
    "for _ in range(10):\n",
    "    newlist.append(0)\n",
    "```\n",
    "\n",
    "und erzeugen aus der Sequenz ``0,1,2,3,4,5,6,7,8,9`` die Liste ``[0,0,0,0,0,0,0,0,0,0]``.\n",
    "````\n",
    "\n",
    "```{exercise} Bild manipulieren\n",
    "Testen Sie ihr generiertes Bild.\n",
    "Ändern Sie den Pixel in der $5$-ten Zeile und und $5$-Spalte, sowie einen Pixeln in der ersten Spalte und einen in der ersten Zeile\n",
    "```"
   ]
  },
  {
   "cell_type": "code",
   "execution_count": null,
   "id": "changed-lawyer",
   "metadata": {},
   "outputs": [],
   "source": [
    "picture[4][4] = 1\n",
    "picture"
   ]
  },
  {
   "cell_type": "code",
   "execution_count": null,
   "id": "experimental-weight",
   "metadata": {},
   "outputs": [],
   "source": [
    "picture[4][0] = 1\n",
    "picture"
   ]
  },
  {
   "cell_type": "code",
   "execution_count": null,
   "id": "bright-width",
   "metadata": {},
   "outputs": [],
   "source": [
    "picture[0][4] = 1\n",
    "picture"
   ]
  },
  {
   "cell_type": "markdown",
   "id": "bright-capitol",
   "metadata": {},
   "source": [
    "```{exercise} Variables Bild generieren\n",
    "Schreiben Sie eine Funktion die Ihnen ein weißes Bild mit schwarzem Rand generiert.\n",
    "Dabei soll die Breite ``width`` und Höhe ``height`` sowie die Randbreite ``border_width`` ein Argument der Funktion sein.\n",
    "```"
   ]
  },
  {
   "cell_type": "code",
   "execution_count": null,
   "id": "iraqi-installation",
   "metadata": {},
   "outputs": [],
   "source": [
    "def generate_border_picture(width=10, height=10, border_width=1):\n",
    "    picture = []\n",
    "    \n",
    "    yborder = min(border_width,height)\n",
    "    xborder = min(border_width,width)\n",
    "    top = [0 for _ in range(width)]\n",
    "    for _ in range(yborder):\n",
    "        picture.append(top.copy())\n",
    "        \n",
    "    for _ in range(height-2*border_width):\n",
    "        picture.append(\n",
    "            [0 for _ in range(xborder)] + \n",
    "            [1 for _ in range(width-2*border_width)] + \n",
    "            [0 for _ in range(xborder)])\n",
    "    \n",
    "    for _ in range(min(border_width,height-yborder)):\n",
    "        picture.append(top.copy())\n",
    "    return picture\n",
    "generate_border_picture(width=5, height=10, border_width=2)"
   ]
  },
  {
   "cell_type": "markdown",
   "id": "outer-stewart",
   "metadata": {},
   "source": [
    "```{exercise} Variable Bildgenerierung testen\n",
    "Testen Sie Ihre Funktion insbesondere für besondere Werte wie ``border_width > width``.\n",
    "```\n",
    "\n",
    "````{exercise} Variable Bildgenerierung testen\n",
    "Folgende Funktion plottet Ihr Bild.\n",
    "```python\n",
    "import matplotlib.pyplot as plt\n",
    "def plot_picture(picture):\n",
    "    plt.imshow(picture, cmap='gray', vmin=0, vmax=1)\n",
    "```\n",
    "Sehen Sie sich die dazugehörige [Dokumentation](https://matplotlib.org/stable/api/_as_gen/matplotlib.pyplot.imshow.html) an und nutzen Sie die Funktion.\n",
    "````\n",
    "\n",
    "Mit folgendem Code"
   ]
  },
  {
   "cell_type": "code",
   "execution_count": null,
   "id": "bacterial-composition",
   "metadata": {},
   "outputs": [],
   "source": [
    "picture = generate_border_picture(width=5, height=10, border_width=1)\n",
    "plot_picture(picture)"
   ]
  },
  {
   "cell_type": "markdown",
   "id": "religious-vector",
   "metadata": {},
   "source": [
    "erzuegen wir\n",
    "\n",
    "```{figure} ../../figs/image-representation/border-picture.png\n",
    "---\n",
    "height: 150px\n",
    "name: fig-border-picture.\n",
    "---\n",
    "```\n",
    "\n",
    "## Zeichnen (Informationsmanipulation)\n",
    "\n",
    "Wir haben bereits jetzt ein neues Bildformat geschaffen und ein kleines Programm, welches unser Format interpretieren und als Rasterbild anzeigt.\n",
    "Jetzt können wir uns austoben und weitere Bilder generieren.\n",
    "Wie wäre es zum Beispiel mit einem Kreis, Rechteck oder Dreieck?\n",
    "Diese Objekte direkt als Ansammlung von Pixeln zu beschreiben ist schwierig und unflexibel.\n",
    "Was uns das Leben deutlich leichter macht ist die Anwendung der **Abstraktion**.\n",
    "Wir starten mit den geometrischen mathematischen Objekten Kreis, Rechteck und Dreieck und überlegen uns eine Funktion die diese Objekte **digitalisiert**.\n",
    "\n",
    "```{figure} ../../figs/image-representation/point-to-pixel.png\n",
    "---\n",
    "height: 350px\n",
    "name: fig-point-to-pixel\n",
    "---\n",
    "```\n",
    "\n",
    "Unsere geometrischen Objekte haben reelle Koordinaten z.B. können wir einen Kreis durch seinen Mittelpunkt $c = (x,y)$ und Radius $r$ eindeutig beschreiben.\n",
    "Um die Koordinaten in Pixelkoordinaten zu transformieren legen wir auf das Rasterbild ein reeles Koordinatensystem. \n",
    "Hat unser Bild $n \\times n$ Pixelbild und wir möchten den Raum $10 \\times 10 \\subset \\mathbb{R}^2$ durch das Bild abbilden, entspricht die erste Bildzeile dem Raum $10 \\times 1$.\n",
    "Um keine Verzerrung zu erhalten sollten Pixel in $x$ und in $y$ Richtung gleich viel Anteil des Euklidischen Raumes überziehen.\n",
    "Die Auflösung ``resolution`` gibt an wie viel Raum ein Pixel repräsentiert.\n",
    "Bei einer ``resolution = 0.1`` repräsentiert ein Pixel den Raum $0.1 \\times 0.1$.\n",
    "Anders ausgedrückt, braucht es $10 \\times 10$ Pixel um den Raum $1 \\times 1$ im $\\mathbb{R}^2$ zu repräsentieren.\n",
    "\n",
    "Kennen wir die ``resolution``, die Anzahl der Pixel in $x$-Richtung ``cols``, die Anzahl der Pixel in $y$-Richtung ``rows`` und gehen davon aus, dass der Raum $R$ den wir Abbilden möchten in $(0,0)$ beginnt und nur positive Werte enthält also $R = [0;w] \\times [0;h]$, dann können wir für einen gegebenen Punkt $p = (x,y) \\in \\mathbb{R}^2$ den Pixel $(i,j) \\in \\mathbb{N}^2$ berechnen der $p$ enthält.\n",
    "\n",
    "```{exercise} Pixel berechnen\n",
    "Schreiben Sie eine Funktion ``to_pixel(p, resolution)`` die Ihnen den Pixel ``(i,j)`` zurückgibt der den Punkt ``p = (x,y)`` enthält.\n",
    "Bedenken Sie, dass wir Pixel beginnend mit $0$ zählen.\n",
    "```"
   ]
  },
  {
   "cell_type": "code",
   "execution_count": null,
   "id": "through-arrival",
   "metadata": {},
   "outputs": [],
   "source": [
    "def to_pixel(p, resolution):\n",
    "    x, y = p\n",
    "    return int(x / resolution), int(y/ resolution)\n",
    "\n",
    "to_pixel((0.7, 0), 0.5)"
   ]
  },
  {
   "cell_type": "markdown",
   "id": "apparent-sessions",
   "metadata": {},
   "source": [
    "Soweit so gut!\n",
    "Widmen wir uns nun dem Problem ein Rechteck bzw. Dreieck zu zeichnen.\n",
    "Wir wenden die **Mustererkennung** an und bemerken, dass sowohl das Dreieck als auch Rechteck aus Segmenten besteht (drei für das Dreieck und 4 für das Rechteck).\n",
    "Deshalb können wir das Problem in das Zeichnen mehrere Segmente **zerteilen**.\n",
    "\n",
    "Ein Segment ist definiert durch zwei Punkte $p_1 = (x_1, y_1)$ und $p_2 = (x_2, y_2)$.\n",
    "Wir könnten aus den Punkten die Geradengleichung $f(x) = mx + t$ berechnen und diese 'abfahren'.\n",
    "Hier würden wir jedoch auf unangenehme Sonderfälle stoßen.\n",
    "Zum Beispiel, lässt sich ein Segment was parallel zur $y$-Achse verläuft nicht durch eine Funktion beschreiben.\n",
    "\n",
    "```{figure} ../../figs/image-representation/midpoint.png\n",
    "---\n",
    "width: 300px\n",
    "name: fig-midpoint\n",
    "---\n",
    "```\n",
    "\n",
    "Was sagt uns folgende Beobachtung:\n",
    "Ist $p_1, p_2$ gegeben dann ist der Mittelpunkt $m_1 = ((x_1 + x_2)/2, (y_1 + y_2)/2)$ Teil des Segments.\n",
    "Außerdem erhalten wir neue Segmente $(p_1,m_1)$ und $(m_1,p_2)$.\n",
    "Wir können dies mit den beiden neuen Segmenten wiederholen und erhalten vier neue Segmente.\n",
    "Diesen Vorgang können wir solange fortsetzen, bis ein Segment komplett in einem Pixel enthalten ist und eine weitere Verfeinerung keine Wirkung mehr erzeugt.\n",
    "\n",
    "Wir können diesen Vorgang **rekursiv** realisieren.\n",
    "Das heißt die Funktion, welche den Mittelpunkt berechnet, wird innerhalb dieser Funktion erneut aufgerufen.\n",
    "Das kann endlos so weiter gehen und wir müssen uns eine **Abbruchbedingung** überlegen.\n",
    "\n",
    "```{exercise} Mittelpunkt berechnen\n",
    "Schreiben Sie eine Funktion ``midpoint(p1, p2)`` die Ihnen den Mittelpunkt ``(mx,my)`` des Segments ``(p1=(x1,y1), p2=(x2, y2))`` zurückgibt.\n",
    "```"
   ]
  },
  {
   "cell_type": "code",
   "execution_count": null,
   "id": "devoted-genetics",
   "metadata": {},
   "outputs": [],
   "source": [
    "def midpoint(p1, p2):\n",
    "    return (p1[0]+p2[0])/2, (p1[1]+p2[1])/2\n",
    "\n",
    "midpoint((0,0),(3,3))"
   ]
  },
  {
   "cell_type": "markdown",
   "id": "fourth-leeds",
   "metadata": {},
   "source": [
    "````{exercise} Mittelpunkt berechnen\n",
    "Schreiben Sie eine Funktion ``distance(p1,p2)`` die Ihnen den Mittelpunkt die Länge des Segments ``(p1=(x1,y1), p2=(x2, y2))`` zurückgibt.\n",
    "\n",
    "**Tipp:** Sie können die Funktion ``sqrt`` der ``numpy`` Bibliothek verwenden, d.h.\n",
    "\n",
    "```python\n",
    "import numpy as np\n",
    "...\n",
    "np.sqrt(...)\n",
    "...\n",
    "```\n",
    "\n",
    "````\n",
    "\n",
    "``distance()`` können wir als Abbruchbedingung der Rekursion verwenden.\n",
    "Ist ``distance(p1,p2) <= resolution`` macht es keinen großen Sinn mehr das Segment ``(p1,p2)`` weiter zu verkleinern. \n",
    "\n",
    "```{exercise} Segmentpunkte erzeugen\n",
    "Schreiben Sie eine Funktion ``line(p1, p2, resolution)``, die Ihnen Punkte des Segments ``(p1,p2)`` erzeugt und als Liste zurückgibt.\n",
    "```"
   ]
  },
  {
   "cell_type": "code",
   "execution_count": null,
   "id": "drawn-relay",
   "metadata": {},
   "outputs": [],
   "source": [
    "import numpy as np\n",
    "def distance(p1, p2):\n",
    "    return np.sqrt((p1[0]-p2[0])**2 + (p1[1]-p2[1])**2)\n",
    "\n",
    "def split(p1, p2, resolution, points):\n",
    "    if distance(p1,p2) <= resolution:\n",
    "        return points\n",
    "    m1 = midpoint(p1, p2)\n",
    "    points.append(m1)\n",
    "    split(p1,m1,resolution,points)\n",
    "    split(m1,p2,resolution,points)\n",
    "    return points\n",
    "\n",
    "def line(p1, p2, resolution):\n",
    "    points = []\n",
    "    split(p1, p2, resolution, points)\n",
    "    return points\n",
    "line((0,0),(3,0),0.1)"
   ]
  },
  {
   "cell_type": "markdown",
   "id": "generic-calculator",
   "metadata": {},
   "source": [
    "Mit ``line`` können nun Punkte eines Segments erzeugen und durch ``to_pixel`` können wir diese Punkte in Pixel umwandeln.\n",
    "Lassen Sie uns nun einmal ein Bild mit einer Geraden zeichen:"
   ]
  },
  {
   "cell_type": "code",
   "execution_count": null,
   "id": "restricted-skill",
   "metadata": {},
   "outputs": [],
   "source": [
    "resolution = 0.1\n",
    "picture = generate_border_picture(width=100, height=100, border_width=0)\n",
    "points = line((1,1), (9,9), resolution)\n",
    "pixels = list(map(lambda point: to_pixel(point, resolution), points))\n",
    "for pixel in pixels:\n",
    "    picture[pixel[1]][pixel[0]] = 0\n",
    "    \n",
    "plot_picture(picture)"
   ]
  },
  {
   "cell_type": "markdown",
   "id": "spanish-hudson",
   "metadata": {},
   "source": [
    "Das sieht schon recht gut aus.\n",
    "Da der Pixel ``picture[0][0]`` rechts oben ist, ist unser Koordinatensystem an der $x$-Achse gespiegelt und nach oben verschoben, was wir jedoch hier vernachlässigen.\n",
    "\n",
    "```{exercise} Linie zeichnen\n",
    "Schreiben Sie eine Funktion ``draw_line(picture, p1, p2, resolution)``, die das Segment ``(p1,p2)`` in das Bild ``picture`` hineinzeichnet.\n",
    "Behandeln Sie auch den Fall, dass das Segment nicht in das Bild passt (es soll dann kein Fehler kommen sondern der Teil der nicht hinein passt wird abgeschnitten).\n",
    "```"
   ]
  },
  {
   "cell_type": "code",
   "execution_count": null,
   "id": "stainless-employer",
   "metadata": {},
   "outputs": [],
   "source": [
    "def contains_pixel(picture, pixel):\n",
    "    return pixel[0] >= 0 and pixel[0] < len(picture) and pixel[1] >= 0 and pixel[1] < len(picture[0])\n",
    "\n",
    "def draw_line(picture, p1, p2, resolution):\n",
    "    points= line(p1, p2, resolution)\n",
    "    pixels = list(map(lambda point: to_pixel(point, resolution), points))\n",
    "    for pixel in pixels:\n",
    "        if contains_pixel(picture, pixel):\n",
    "            picture[pixel[1]][pixel[0]] = 0\n",
    "\n",
    "resolution = 0.1\n",
    "picture = generate_border_picture(width=100, height=100, border_width=0)\n",
    "draw_line(picture, (-1,-1), (11,11), resolution)\n",
    "plot_picture(picture)"
   ]
  },
  {
   "cell_type": "markdown",
   "id": "aquatic-collective",
   "metadata": {},
   "source": [
    "Jetzt haben wir alle Teilprobleme gelöst und können das Dreieck bzw. Rechteck zeichnen.\n",
    "\n",
    "```{exercise} Dreieck zeichnen\n",
    "Schreiben Sie eine Funktion ``draw_triangle(picture, p1, p2, p3, resolution)`` die das Dreieck ``(p1,p2,p3)`` in das Bild ``picture`` hineinzeichnet.\n",
    "```"
   ]
  },
  {
   "cell_type": "code",
   "execution_count": null,
   "id": "outside-breeding",
   "metadata": {},
   "outputs": [],
   "source": [
    "def draw_triangle(picture, p1, p2, p3, resolution):\n",
    "    draw_line(picture, p1, p2, resolution)\n",
    "    draw_line(picture, p2, p3, resolution)\n",
    "    draw_line(picture, p3, p1, resolution)\n",
    "    \n",
    "resolution = 0.1\n",
    "picture = generate_border_picture(width=100, height=100, border_width=0)\n",
    "draw_triangle(picture, (1,1), (5,9), (9,1), resolution)\n",
    "plot_picture(picture)"
   ]
  },
  {
   "cell_type": "markdown",
   "id": "processed-blair",
   "metadata": {},
   "source": [
    "```{exercise} Rechteck zeichnen\n",
    "Schreiben Sie eine Funktion ``draw_rectangle(picture, p1, p2, p3, p4, resolution)`` die das Rechteck ``(p1,p2,p3,p4)`` in das Bild ``picture`` hineinzeichnet.\n",
    "```"
   ]
  },
  {
   "cell_type": "code",
   "execution_count": null,
   "id": "comprehensive-johnson",
   "metadata": {},
   "outputs": [],
   "source": [
    "def draw_rectangle(picture, p1, p2, p3, p4, resolution):\n",
    "    draw_line(picture, p1, p2, resolution)\n",
    "    draw_line(picture, p2, p3, resolution)\n",
    "    draw_line(picture, p3, p4, resolution)\n",
    "    draw_line(picture, p4, p1, resolution)\n",
    "    \n",
    "resolution = 0.1\n",
    "picture = generate_border_picture(width=100, height=100, border_width=0)\n",
    "draw_rectangle(picture, (1,1), (1,9), (9,9), (9,1), resolution)\n",
    "plot_picture(picture)"
   ]
  },
  {
   "cell_type": "markdown",
   "id": "precious-nancy",
   "metadata": {},
   "source": [
    "Wenn wir uns nun die beiden Funktionen ``draw_triangle`` und ``draw_rectangle`` genauer ansehen und unsere **Mustererkennung** aktivieren könnte uns etwas auffallen?\n",
    "Die Funktionen gleichen sich!\n",
    "Beide zeichnen eine Sequenz/Liste von zusammenhängenden Segmenten oder anders gesagt: beide zeichnen ein Polygon!\n",
    "\n",
    "```{exercise} Polygon zeichnen\n",
    "Schreiben Sie eine Funktion ``draw_polygon(picture, polygon, resolution)`` die das Polygon ``polygon = (p1,p2,p3,p4,p5,...)`` in das Bild ``picture`` hineinzeichnet.\n",
    "``polygon`` kann eine Liste oder Tupel sein.\n",
    "```"
   ]
  },
  {
   "cell_type": "code",
   "execution_count": null,
   "id": "circular-reducing",
   "metadata": {},
   "outputs": [],
   "source": [
    "def draw_polygon(picture, polygon, resolution):\n",
    "    for i in range(len(polygon)):\n",
    "        draw_line(picture, polygon[i-1], polygon[i], resolution)\n",
    "    \n",
    "resolution = 0.1\n",
    "picture = generate_border_picture(width=100, height=100, border_width=0)\n",
    "draw_polygon(picture, ((1,1), (1,9), (9,9), (9,1)), resolution)\n",
    "plot_picture(picture)"
   ]
  },
  {
   "cell_type": "markdown",
   "id": "impressive-component",
   "metadata": {},
   "source": [
    "Dreieck und Reckteck hätten wir geschafft.\n",
    "Für den Kreis $K$ müssen wir zurück in unsere **abstrakte** Welt der geometrischen Objekte, denn einen Kreis nicht mit lauter Segmenten darzustellen macht wenig Sinn.\n",
    "Die Punkte eines Kreises lassen sich durch eine *Kurve* beschreiben.\n",
    "Sie der Kreis durch seinen Mittelpunkt $m = (x_m, y_m)$ und den radius $r$ beschrieben dann sind\n",
    "\n",
    "$$K = \\{(x_m + \\cos(t) \\cdot r, y_m + \\sin(t) \\cdot r) : t \\in [0;2\\pi]\\}$$\n",
    "\n",
    "die Punkte des Kreises bzw. der Kreis selbst.\n",
    "Um den Kreis zu zeichnen unterteilen wir einfach das Intervall $[0;2\\pi]$ in $n$ Teile und erhalten so $n$ Punkte.\n",
    "Wir könnten z.B. $n$ so wählen dass $2\\pi / n <$ ``resolution`` ist. \n",
    "\n",
    "```{exercise} Kreis zeichnen\n",
    "Schreiben Sie eine Funktion ``draw_circle(picture, circle, resolution)`` die den Kreis ``circle = (m=(x,y), r)`` in das Bild ``picture`` hineinzeichnet.\n",
    "Sie können erneut ``numpy`` verwenden, d.h. ``np.sin()``, ``np.cos()``, ``np.pi`` und (optional) ``np.linspace()``.\n",
    "```"
   ]
  },
  {
   "cell_type": "code",
   "execution_count": null,
   "id": "greatest-insider",
   "metadata": {},
   "outputs": [],
   "source": [
    "import numpy as np\n",
    "def draw_circle(picture, circle, resolution):\n",
    "    center = circle[0]\n",
    "    radius = circle[1]\n",
    "    n = int(6 * np.pi / resolution)\n",
    "    t = np.linspace(start=0.0, stop=2 * np.pi, num=n)\n",
    "    for dt in t:\n",
    "        x = center[0] + np.cos(dt) * radius\n",
    "        y = center[1] + np.sin(dt) * radius\n",
    "        pixel = to_pixel((x, y), resolution)\n",
    "        if contains_pixel(picture, pixel):\n",
    "            picture[pixel[1]][pixel[0]] = 0\n",
    "    \n",
    "resolution = 0.1\n",
    "picture = generate_border_picture(width=100, height=100, border_width=0)\n",
    "draw_circle(picture, ((5,5), 3), resolution)\n",
    "plot_picture(picture)"
   ]
  },
  {
   "cell_type": "markdown",
   "id": "female-services",
   "metadata": {},
   "source": [
    "Im Falle des Kreises beschreibt \n",
    "\n",
    "$$k(t) = (x_m + \\cos(t) \\cdot r, y_m + \\sin(t) \\cdot r)$$\n",
    "\n",
    "die *Kurve* des Kreises.\n",
    "Wir können aber auch andere *Kurven* wir zum Beispiel die Funktion $f(x) = x^2$ durch die *Kurve* $k(t) = (t, f(t))$ zeichnen.\n",
    "Durch wie viele Punkte die Funktion noch gut erkennbar ist, ist jedoch im allgemeinen nicht so einfach zu schätzen.\n",
    "\n",
    "\n",
    "```{exercise} (mathematische) Funktion zeichnen\n",
    "Suchen Sie sich irgendeine geeignete Funktion aus und zeichnen Sie diese in einem geeigneten Intervall.\n",
    "```"
   ]
  },
  {
   "cell_type": "code",
   "execution_count": null,
   "id": "hindu-david",
   "metadata": {},
   "outputs": [],
   "source": [
    "import numpy as np\n",
    "def draw_function(picture, f, start, stop, resolution):\n",
    "    n = int(3 * (stop - start) / resolution)\n",
    "    t = np.linspace(start=start, stop=stop, num=n)\n",
    "    for dt in t:\n",
    "        pixel = to_pixel((dt, f(dt)), resolution)\n",
    "        if contains_pixel(picture, pixel):\n",
    "            picture[pixel[1]][pixel[0]] = 0\n",
    "            \n",
    "resolution = 0.1\n",
    "picture = generate_border_picture(width=100, height=100, border_width=0)\n",
    "draw_function(picture, lambda t: (t-5)**2, 1, 9, resolution)\n",
    "plot_picture(picture)"
   ]
  },
  {
   "cell_type": "markdown",
   "id": "union-growing",
   "metadata": {},
   "source": [
    "## Daumenkino\n",
    "\n",
    "Die folgende Methode erwartet eine Liste von Bilder (in Ihrem Format) und generiert daraus eine Animation (eine Folge von Plots) und falls Sie das Argument ``save`` auf ``True`` setzen wird ein GIF (eine Bildfolge/Daumenkino/Minivideo) erzeugt und in der Datei ``'binary-drawing.gif'`` abgespeichert."
   ]
  },
  {
   "cell_type": "code",
   "execution_count": null,
   "id": "entitled-pathology",
   "metadata": {},
   "outputs": [],
   "source": [
    "import matplotlib.pyplot as plt\n",
    "import matplotlib.animation as animation\n",
    "from matplotlib import animation, rc\n",
    "from IPython.display import HTML, display\n",
    "from IPython.display import HTML\n",
    "\n",
    "def animate(pictures, interval = 100, save = False, title = '', dpi = 80):\n",
    "    cmap='gray'\n",
    "    vmin = 0\n",
    "    vmax = 1\n",
    "    fig, ax = plt.subplots()\n",
    "    plt.title(title)\n",
    "    im = plt.imshow(pictures[0], animated=True, cmap = cmap, vmin = vmin, vmax = vmax)\n",
    "    i = {'index': 0} # trick to enforce sideeffect\n",
    "    def updatefig(*args):\n",
    "        i['index'] += 1\n",
    "        if i['index'] == len(pictures):\n",
    "            i['index'] = 0\n",
    "        im.set_array(pictures[i['index']])\n",
    "        return im, \n",
    "    ani = animation.FuncAnimation(fig, updatefig, interval=interval, blit=True, save_count=len(pictures))\n",
    "    if save:\n",
    "        ani.save('binary-drawing.gif', dpi=dpi, writer=\"imagemagick\")\n",
    "    plt.close()\n",
    "    return ani"
   ]
  },
  {
   "cell_type": "markdown",
   "id": "noted-hebrew",
   "metadata": {},
   "source": [
    "````{exercise} Einfaches Daumenkino\n",
    "Generieren Sie folgendes GIF/Daumenkino bzw. Animation:\n",
    "\n",
    "```{figure} ../../figs/image-representation/daumenkino.gif\n",
    "---\n",
    "height: 150px\n",
    "name: fig-daumenkino\n",
    "---\n",
    "```\n",
    "\n",
    "**Tipp:** Sie benötigen lediglich mehrere Aufrufe von ``generate_border_picture()``.\n",
    "````"
   ]
  },
  {
   "cell_type": "code",
   "execution_count": null,
   "id": "purple-columbus",
   "metadata": {},
   "outputs": [],
   "source": [
    "size = 20\n",
    "increase = [generate_border_picture(width=size, height=size, border_width=i) for i in range(size//2)]\n",
    "decrease = [generate_border_picture(width=size, height=size, border_width=(size//2)-i) for i in range((size//2)-1)]\n",
    "border_pictures = increase + decrease\n",
    "ani = animate(border_pictures, save=True)\n",
    "HTML(ani.to_jshtml())"
   ]
  },
  {
   "cell_type": "markdown",
   "id": "printable-pleasure",
   "metadata": {},
   "source": [
    "Fassen wir noch einmal kurz zusammen was wir bis jetzt geschafft haben:\n",
    "Wir haben uns ein Format für ein Schwarz-Weiß-Bild ausgedacht und umgesetzt.\n",
    "Durch ein wenig Hilfe externer Bibliotheken können wir unser Rasterbild anzeigen.\n",
    "Wir haben Algorithmen implementiert die uns Polygone (inkl. Dreiecke und Rechtecke), Kreise und sogar Funktionen zeichnen.\n",
    "Und jetzt haben wir sogar die Möglichkeit aus einer Folge von Bildern ein kleines Video zu generieren.\n",
    "Dieses Video wiederum ist nichts anderes als eine Liste von Listen von Listen von $0$ und $1$.\n",
    "Wir haben nun die Möglichkeit eine unbegrenzte Menge an Animationen zu erzeugen, von bewegten geometrischen Objekten bis hin zum [Game Of Life](https://de.wikipedia.org/wiki/Conways_Spiel_des_Lebens) - Ihre Kreativität ist das Limit.\n",
    "\n",
    "````{exercise} Simulation eines Partikels\n",
    "Generieren Sie eine Animation ein Partikel (einen Ball) der sich in einer Box bewegt, d.h. der Ball bewegt sich mit konstanter Geschwindigkeit und prallt von der Wand ab.\n",
    "\n",
    "```{figure} ../../figs/image-representation/daumenkino_ball.gif\n",
    "---\n",
    "height: 150px\n",
    "name: fig-daumenkino-ball\n",
    "---\n",
    "```\n",
    "\n",
    "**Tipps:** Schreiben Sie erst eine Methode die einen *Kreis* ``circle = (m = (x,y), r)`` in einer Box fortbewegt und diese Bewegung als Liste von Kreisen zurückgibt.\n",
    "Anschließend können Sie mit ``draw_circle()`` diese Liste in eine Liste von Bildern umwandeln. Bedenken Sie, dass sie für jeden Kreis ein neues Bild durch ``generate_border_picture()`` generieren müssen. \n",
    "````"
   ]
  },
  {
   "cell_type": "code",
   "execution_count": null,
   "id": "rubber-tuner",
   "metadata": {},
   "outputs": [],
   "source": [
    "def generate_ball_box(width, height, circle, resolution):\n",
    "    w = int(width/resolution)\n",
    "    h = int(height/resolution)\n",
    "    picture = generate_border_picture(width=w, height=h, border_width=1)\n",
    "    ball = draw_circle(picture, circle, resolution)\n",
    "    return picture\n",
    "\n",
    "def animate_ball(nframes):\n",
    "    resolution = 0.1\n",
    "    box_width = 10\n",
    "    box_height = 10\n",
    "    x = 5\n",
    "    y = 5\n",
    "    radius = 1\n",
    "    velocity = [0.1,0.3]\n",
    "    \n",
    "    animation = []\n",
    "    time = 1\n",
    "    for i in range(nframes):\n",
    "        # collision detection\n",
    "        if x - radius <= 0 or x + radius >= box_width:\n",
    "            velocity[0] = -velocity[0]\n",
    "        if y - radius <= 0 or y + radius >= box_height:\n",
    "            velocity[1] = -velocity[1]\n",
    "        \n",
    "        x = x + velocity[0] * time\n",
    "        y = y + velocity[1] * time\n",
    "        circle = ((x,y),radius)\n",
    "        animation.append(generate_ball_box(box_width,box_height,circle,resolution))\n",
    "    return animation\n",
    "\n",
    "ani = animate(animate_ball(nframes=100), save=True)\n",
    "HTML(ani.to_jshtml())"
   ]
  },
  {
   "cell_type": "markdown",
   "id": "composite-rough",
   "metadata": {},
   "source": [
    "```{exercise} Eigenes Daumenkino\n",
    "Erzeugen Sie Ihr eigenes Daumenkino. Vielleicht ein bewegtes Dreieck oder eine fortlaufende Sinuswelle oder etwas ganz anderes?\n",
    "```\n",
    "\n",
    "## Fourier-Zeichnungen (optional)\n",
    "\n",
    "Was nun folgt ist ein sich Austoben in der Welt die wir uns geschaffen haben.\n",
    "Wir möchten Ihnen eine ganz bestimmte Zeichenmethode nicht vorenthalten.\n",
    "Stellen Sie sich ein Blatt Papier vor.\n",
    "Auf diesem zeichnen Sie einen Kreis $K_0$.\n",
    "Anhand dieses Kreises zeichnen Sie einen weiteren Kreis $K_1$ sodass der Mittelpunkt von $K_1$ während Sie zeichnen auf $K_0$ wandert.\n",
    "Nachdem Sie fertig sind, löschen $K_0$.\n",
    "Ihr Ergebnis hängt davon ab wie schnell sie auf $K_0$ wandern und wie schnell Sie $K_1$ zeichen, d.h. das Ergebnis hängt von den Frequenzen ab.\n",
    "Zeichnen Sie beide Kreise mit der gleichen Frequenz und starten beide Kreise bei $y = 0$ so ist $K_1$ ein Kreis wobei dessen Radius die Summe der Radii der beiden Kreise ist.\n",
    "\n",
    "Angenommen $K_0(t) = (x_0 + \\cos(\\omega_0 \\cdot t) \\cdot r_0, y_0 + \\sin(\\omega_0 \\cdot t) \\cdot r_0)$ und $K_1(t) = (\\cos(\\omega_1 \\cdot t) \\cdot r_1, \\sin(\\omega_1 \\cdot t) \\cdot r_1)$ dann gilt für ihre gezeichnete Kurve \n",
    "\n",
    "$$K(t) = K_0(t) + K_1(t)$$\n",
    "\n",
    "Wir können das weiter verallgemeinen und von $n$ Kreisen ausgehen, dann gilt für ihre Zeichnung:\n",
    "\n",
    "$$K(t) = \\sum_{i=0}^{n-1} K_i(t)$$\n",
    "\n",
    "````{exercise} Fourier-Zeichnungen\n",
    "Schreiben Sie eine Funktion ``draw_circular(picture, center, frequencies, radii, resolution, start stop)``, die die oben beschriebene Zeichentechnik implementiert.\n",
    "Dabei soll ``center`` gleich $(x_0, y_0)$, ``frequencies`` eine Liste die alle Frequenzen $\\omega_0, \\ldots \\omega_{n-1}$ und ``radii`` eine Liste die alle Radii $r_0, \\ldots, r_{n-1}$ enthält sein.\n",
    "``start`` und ``stop`` sollen ihr (Zeichen-)Intervall definieren.\n",
    "\n",
    "Als Motivation hier ein Beispiel:\n",
    "\n",
    "```{code-cell} python3\n",
    "resolution = 0.1\n",
    "picture = generate_border_picture(width=100, height=100, border_width=0)\n",
    "draw_circular(picture, (5,5), [4,15], [3,0.7], resolution, 0.0, 2*np.pi)\n",
    "plot_picture(picture)\n",
    "```\n",
    "\n",
    "ergibt\n",
    "\n",
    "```{figure} ../../figs/image-representation/fourier-drawing.png\n",
    "---\n",
    "height: 150px\n",
    "name: fig-fourier-drawing\n",
    "---\n",
    "```\n",
    "\n",
    "````"
   ]
  },
  {
   "cell_type": "code",
   "execution_count": null,
   "id": "partial-scott",
   "metadata": {},
   "outputs": [],
   "source": [
    "def draw_circular(picture, center, frequencies, radii, resolution, start=0.0, stop=2*np.pi):\n",
    "    n = int(2*max(frequencies)*(stop-start) / resolution)\n",
    "    t = np.linspace(start=start, stop=stop, num=n)\n",
    "    for dt in t:\n",
    "        x = center[0]\n",
    "        y = center[1]\n",
    "        \n",
    "        for i in range(min(len(frequencies), len(radii))):\n",
    "            radius = radii[i]\n",
    "            frequency = frequencies[i]\n",
    "            x = x + np.cos(frequency*dt) * radius\n",
    "            y = y + np.sin(frequency*dt) * radius\n",
    "        \n",
    "        pixel = to_pixel((x, y), resolution)\n",
    "        if contains_pixel(picture, pixel):\n",
    "            picture[pixel[1]][pixel[0]] = 0\n",
    "            \n",
    "resolution = 0.1\n",
    "picture = generate_border_picture(width=100, height=100, border_width=0)\n",
    "draw_circular(picture, (5,5), [1,5,4], [2,1,0.5], resolution, 0.0, 2*np.pi)\n",
    "plot_picture(picture)"
   ]
  },
  {
   "cell_type": "markdown",
   "id": "worse-trademark",
   "metadata": {},
   "source": [
    "Es ergeben sich interessante Fragen.\n",
    "Zum Beispiel, mit welchen Argumenten erhalten Sie ein **harmonisches** (ein eher einfaches) Bild und warum?\n",
    "Wann erhalten Sie hingegen ein komplexeres Gebilde?\n",
    "Was hat das mit den **harmonischen** bzw. **unharmonischen** Schwingungen und einem **harmonischen** bzw. **unharmonischen** Ton zu tun?\n",
    "Können wir durch unsere Zeichenmethode Ton zeichnen?\n",
    "\n",
    "Falls Sie sich mehr mathematisches Wissen zu diesem Thema aneignen möchten, ist folgendes exzellentes Video von **Grant Sanderson** ein wunderbarer Einstieg:\n",
    "\n",
    "<div style=\"display: block;margin-left: auto;margin-right: auto;width: 632px;\">\n",
    "<iframe width=\"632\" height=\"276\" src=\"https://www.youtube.com/embed/r6sGWTCMz2k\" title=\"YouTube video player\" frameborder=\"0\" allow=\"accelerometer; autoplay; clipboard-write; encrypted-media; gyroscope; picture-in-picture\" allowfullscreen></iframe>\n",
    "</div>"
   ]
  }
 ],
 "metadata": {
  "jupytext": {
   "formats": "md:myst",
   "text_representation": {
    "extension": ".md",
    "format_name": "myst"
   }
  },
  "kernelspec": {
   "display_name": "Python 3",
   "language": "python",
   "name": "python3"
  },
  "language_info": {
   "codemirror_mode": {
    "name": "ipython",
    "version": 3
   },
   "file_extension": ".py",
   "mimetype": "text/x-python",
   "name": "python",
   "nbconvert_exporter": "python",
   "pygments_lexer": "ipython3",
   "version": "3.9.6"
  },
  "source_map": [
   11,
   69,
   71,
   75,
   80,
   85,
   87,
   94,
   97,
   124,
   127,
   133,
   138,
   144,
   146,
   167,
   187,
   217,
   220,
   227,
   231,
   242,
   249,
   269,
   279,
   291,
   296,
   331,
   336,
   341,
   344,
   351,
   371,
   389,
   392,
   434,
   440,
   473,
   478,
   501,
   520,
   525,
   534,
   544,
   559,
   567,
   577,
   583,
   594,
   605,
   614,
   632,
   650,
   665,
   679,
   685,
   711,
   726,
   733,
   757,
   791,
   841,
   863
  ]
 },
 "nbformat": 4,
 "nbformat_minor": 5
}