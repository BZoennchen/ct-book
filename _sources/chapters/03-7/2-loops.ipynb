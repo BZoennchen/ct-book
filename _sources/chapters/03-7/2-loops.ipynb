{
 "cells": [
  {
   "cell_type": "markdown",
   "id": "broke-python",
   "metadata": {},
   "source": [
    "(sec-loops)=\n",
    "# Schleifen\n",
    "\n",
    "Viele Aufgaben, die wir über unser Leben hinweg verrichten sind langweilig, da wir immer und immer wieder die gleichen Basisschritte wiederholen müssen. \n",
    "\n",
    "Nehmen Sie nur das Nachschlagen einer Telefonnummer im Telefonbuch (falls Sie so etwas überhaupt noch kennen). Wir gehen dabei Seite für Seite durch und suchen nach einem bestimmten Namen - langweilig ...\n",
    "\n",
    "Auch ganz alltägliche Dinge wie der Abwasch, Zähneputzen, Kochen, ja nahezu jede Aktion beinhaltet die eine oder andere Art der Wiederholung.\n",
    "\n",
    "Wie sich gezeigt hat, können wir interessanterweise durch diese langweiligen Wiederholungen ganz erstaunliche Dinge vollbringen. **Wiederholung ist die Grundlage aller Berechnung.**\n",
    "\n",
    "## Motivation\n",
    "\n",
    "Lassen Sie uns einmal auf unseren Roboter blicken.\n",
    "Dieser bewegt sich auf einem Gitter.\n",
    "Jeder Gitterpunkt ist entweder begehbar oder durch ein Hindernis belegt.\n",
    "Der Roboter kann nur nach Vorne laufen und sich nach links um 90 Grad drehen.\n",
    "Eine genauere Beschreibung des Roboters und seiner Welt finden Sie in der Übung [Roboterwelt](sec-robo-world).\n",
    "\n",
    "Die Folgende Welt enthält unseren Roboter (türkis), das Ziel (gelb), begehbare Zellen (lila) und unbegehbare Hindernisse (blau)."
   ]
  },
  {
   "cell_type": "code",
   "execution_count": 1,
   "id": "rural-advice",
   "metadata": {},
   "outputs": [
    {
     "data": {
      "image/png": "[encoded data removed]",
      "text/plain": [
       "<Figure size 280x200 with 1 Axes>"
      ]
     },
     "execution_count": 1,
     "metadata": {
      "filenames": {
       "image/png": "/Users/bzoennchen/Development/workspaces/GitHub/ct-book/_build/jupyter_execute/chapters/03-7/2-loops_1_0.png"
      }
     },
     "output_type": "execute_result"
    }
   ],
   "source": [
    "import roboworld as rw\n",
    "\n",
    "world = rw.complex_maze(nrows=5, ncols=7)\n",
    "world.show()"
   ]
  },
  {
   "cell_type": "markdown",
   "id": "dietary-level",
   "metadata": {},
   "source": [
    "Wir sollen nun einen Algorithmus entwerfen, welcher den Roboter zum Ziel führt (sofern dies möglich ist).\n",
    "Diese Aufgabe scheint überwältigend schwierig.\n",
    "Wir verwenden das ``random``-Modul um einen *fairen Münzwurf* zu simulieren.\n",
    "Zudem verwenden wir lediglich folgende Methoden des Roboters:\n",
    "+ ``turn_left()``\n",
    "+ ``is_wall_in_front()``\n",
    "+ ``move()``\n",
    "+ ``is_at_goal()``\n",
    "\n",
    "In wie vielen Zeilen Code können wir dieses Problem lösen?\n",
    "Durch das Potenzial der **Wiederholung** brauchen wir ca. 10 Zeilen Code!\n",
    "\n",
    "Zuerst definieren wir eine Funktion ``random_move(robo)`` welche den Roboter um einen zufälligen Nachbargitterpunkt bewegt (falls dies möglich ist)."
   ]
  },
  {
   "cell_type": "code",
   "execution_count": 2,
   "id": "equipped-sampling",
   "metadata": {},
   "outputs": [],
   "source": [
    "import random as rnd\n",
    "\n",
    "def random_move(robo):\n",
    "    turns = rnd.choice([0,1,2,3])\n",
    "    for _ in range(turns):\n",
    "        robo.turn_left()\n",
    "    if not robo.is_wall_in_front():\n",
    "        robo.move()"
   ]
  },
  {
   "cell_type": "markdown",
   "id": "interested-mother",
   "metadata": {},
   "source": [
    "Dann nutzten wir die Wiederholung und bewegen den Roboter immer weiter auf zufällige Nachbargitterpunkte bis er am Ziel angekommen ist:"
   ]
  },
  {
   "cell_type": "code",
   "execution_count": 3,
   "id": "literary-steam",
   "metadata": {},
   "outputs": [],
   "source": [
    "robo = world.get_robo()\n",
    "robo.disable_print()\n",
    "while not robo.is_at_goal():\n",
    "    random_move(robo)"
   ]
  },
  {
   "cell_type": "markdown",
   "id": "uniform-billy",
   "metadata": {},
   "source": [
    "Lassen Sie uns die sog. *Zufallsfahrt* des Roboters ansehen:"
   ]
  },
  {
   "cell_type": "code",
   "execution_count": 4,
   "id": "complimentary-indication",
   "metadata": {},
   "outputs": [
    {
     "name": "stderr",
     "output_type": "stream",
     "text": [
      "MovieWriter imagemagick unavailable; using Pillow instead.\n"
     ]
    },
    {
     "data": {
      "text/html": [
       "\n",
       "<link rel=\"stylesheet\"\n",
       "href=\"https://maxcdn.bootstrapcdn.com/font-awesome/4.4.0/css/font-awesome.min.css\">\n",
       "<script language=\"javascript\">\n",
       "  function isInternetExplorer() {\n",
       "    ua = navigator.userAgent;\n",
       "    /* MSIE used to detect old browsers and Trident used to newer ones*/\n",
       "    return ua.indexOf(\"MSIE \") > -1 || ua.indexOf(\"Trident/\") > -1;\n",
       "  }\n",
       "\n",
       "  /* Define the Animation class */\n",
       "  function Animation(frames, img_id, slider_id, interval, loop_select_id){\n",
       "    this.img_id = img_id;\n",
       "    this.slider_id = slider_id;\n",
       "    this.loop_select_id = loop_select_id;\n",
       "    this.interval = interval;\n",
       "    this.current_frame = 0;\n",
       "    this.direction = 0;\n",
       "    this.timer = null;\n",
       "    this.frames = new Array(frames.length);\n",
       "\n",
       "    for (var i=0; i<frames.length; i++)\n",
       "    {\n",
       "     this.frames[i] = new Image();\n",
       "     this.frames[i].src = frames[i];\n",
       "    }\n",
       "    var slider = document.getElementById(this.slider_id);\n",
       "    slider.max = this.frames.length - 1;\n",
       "    if (isInternetExplorer()) {\n",
       "        // switch from oninput to onchange because IE <= 11 does not conform\n",
       "        // with W3C specification. It ignores oninput and onchange behaves\n",
       "        // like oninput. In contrast, Mircosoft Edge behaves correctly.\n",
       "        slider.setAttribute('onchange', slider.getAttribute('oninput'));\n",
       "        slider.setAttribute('oninput', null);\n",
       "    }\n",
       "    this.set_frame(this.current_frame);\n",
       "  }\n",
       "\n",
       "  Animation.prototype.get_loop_state = function(){\n",
       "    var button_group = document[this.loop_select_id].state;\n",
       "    for (var i = 0; i < button_group.length; i++) {\n",
       "        var button = button_group[i];\n",
       "        if (button.checked) {\n",
       "            return button.value;\n",
       "        }\n",
       "    }\n",
       "    return undefined;\n",
       "  }\n",
       "\n",
       "  Animation.prototype.set_frame = function(frame){\n",
       "    this.current_frame = frame;\n",
       "    document.getElementById(this.img_id).src =\n",
       "            this.frames[this.current_frame].src;\n",
       "    document.getElementById(this.slider_id).value = this.current_frame;\n",
       "  }\n",
       "\n",
       "  Animation.prototype.next_frame = function()\n",
       "  {\n",
       "    this.set_frame(Math.min(this.frames.length - 1, this.current_frame + 1));\n",
       "  }\n",
       "\n",
       "  Animation.prototype.previous_frame = function()\n",
       "  {\n",
       "    this.set_frame(Math.max(0, this.current_frame - 1));\n",
       "  }\n",
       "\n",
       "  Animation.prototype.first_frame = function()\n",
       "  {\n",
       "    this.set_frame(0);\n",
       "  }\n",
       "\n",
       "  Animation.prototype.last_frame = function()\n",
       "  {\n",
       "    this.set_frame(this.frames.length - 1);\n",
       "  }\n",
       "\n",
       "  Animation.prototype.slower = function()\n",
       "  {\n",
       "    this.interval /= 0.7;\n",
       "    if(this.direction > 0){this.play_animation();}\n",
       "    else if(this.direction < 0){this.reverse_animation();}\n",
       "  }\n",
       "\n",
       "  Animation.prototype.faster = function()\n",
       "  {\n",
       "    this.interval *= 0.7;\n",
       "    if(this.direction > 0){this.play_animation();}\n",
       "    else if(this.direction < 0){this.reverse_animation();}\n",
       "  }\n",
       "\n",
       "  Animation.prototype.anim_step_forward = function()\n",
       "  {\n",
       "    this.current_frame += 1;\n",
       "    if(this.current_frame < this.frames.length){\n",
       "      this.set_frame(this.current_frame);\n",
       "    }else{\n",
       "      var loop_state = this.get_loop_state();\n",
       "      if(loop_state == \"loop\"){\n",
       "        this.first_frame();\n",
       "      }else if(loop_state == \"reflect\"){\n",
       "        this.last_frame();\n",
       "        this.reverse_animation();\n",
       "      }else{\n",
       "        this.pause_animation();\n",
       "        this.last_frame();\n",
       "      }\n",
       "    }\n",
       "  }\n",
       "\n",
       "  Animation.prototype.anim_step_reverse = function()\n",
       "  {\n",
       "    this.current_frame -= 1;\n",
       "    if(this.current_frame >= 0){\n",
       "      this.set_frame(this.current_frame);\n",
       "    }else{\n",
       "      var loop_state = this.get_loop_state();\n",
       "      if(loop_state == \"loop\"){\n",
       "        this.last_frame();\n",
       "      }else if(loop_state == \"reflect\"){\n",
       "        this.first_frame();\n",
       "        this.play_animation();\n",
       "      }else{\n",
       "        this.pause_animation();\n",
       "        this.first_frame();\n",
       "      }\n",
       "    }\n",
       "  }\n",
       "\n",
       "  Animation.prototype.pause_animation = function()\n",
       "  {\n",
       "    this.direction = 0;\n",
       "    if (this.timer){\n",
       "      clearInterval(this.timer);\n",
       "      this.timer = null;\n",
       "    }\n",
       "  }\n",
       "\n",
       "  Animation.prototype.play_animation = function()\n",
       "  {\n",
       "    this.pause_animation();\n",
       "    this.direction = 1;\n",
       "    var t = this;\n",
       "    if (!this.timer) this.timer = setInterval(function() {\n",
       "        t.anim_step_forward();\n",
       "    }, this.interval);\n",
       "  }\n",
       "\n",
       "  Animation.prototype.reverse_animation = function()\n",
       "  {\n",
       "    this.pause_animation();\n",
       "    this.direction = -1;\n",
       "    var t = this;\n",
       "    if (!this.timer) this.timer = setInterval(function() {\n",
       "        t.anim_step_reverse();\n",
       "    }, this.interval);\n",
       "  }\n",
       "</script>\n",
       "\n",
       "<style>\n",
       ".animation {\n",
       "    display: inline-block;\n",
       "    text-align: center;\n",
       "}\n",
       "input[type=range].anim-slider {\n",
       "    width: 374px;\n",
       "    margin-left: auto;\n",
       "    margin-right: auto;\n",
       "}\n",
       ".anim-buttons {\n",
       "    margin: 8px 0px;\n",
       "}\n",
       ".anim-buttons button {\n",
       "    padding: 0;\n",
       "    width: 36px;\n",
       "}\n",
       ".anim-state label {\n",
       "    margin-right: 8px;\n",
       "}\n",
       ".anim-state input {\n",
       "    margin: 0;\n",
       "    vertical-align: middle;\n",
       "}\n",
       "</style>\n",
       "\n",
       "<div class=\"animation\">\n",
       "  <img id=\"_anim_img38effed7cdf44a75b152fe3c238ac9a2\">\n",
       "  <div class=\"anim-controls\">\n",
       "    <input id=\"_anim_slider38effed7cdf44a75b152fe3c238ac9a2\" type=\"range\" class=\"anim-slider\"\n",
       "           name=\"points\" min=\"0\" max=\"1\" step=\"1\" value=\"0\"\n",
       "           oninput=\"anim38effed7cdf44a75b152fe3c238ac9a2.set_frame(parseInt(this.value));\"></input>\n",
       "    <div class=\"anim-buttons\">\n",
       "      <button title=\"Decrease speed\" onclick=\"anim38effed7cdf44a75b152fe3c238ac9a2.slower()\">\n",
       "          <i class=\"fa fa-minus\"></i></button>\n",
       "      <button title=\"First frame\" onclick=\"anim38effed7cdf44a75b152fe3c238ac9a2.first_frame()\">\n",
       "        <i class=\"fa fa-fast-backward\"></i></button>\n",
       "      <button title=\"Previous frame\" onclick=\"anim38effed7cdf44a75b152fe3c238ac9a2.previous_frame()\">\n",
       "          <i class=\"fa fa-step-backward\"></i></button>\n",
       "      <button title=\"Play backwards\" onclick=\"anim38effed7cdf44a75b152fe3c238ac9a2.reverse_animation()\">\n",
       "          <i class=\"fa fa-play fa-flip-horizontal\"></i></button>\n",
       "      <button title=\"Pause\" onclick=\"anim38effed7cdf44a75b152fe3c238ac9a2.pause_animation()\">\n",
       "          <i class=\"fa fa-pause\"></i></button>\n",
       "      <button title=\"Play\" onclick=\"anim38effed7cdf44a75b152fe3c238ac9a2.play_animation()\">\n",
       "          <i class=\"fa fa-play\"></i></button>\n",
       "      <button title=\"Next frame\" onclick=\"anim38effed7cdf44a75b152fe3c238ac9a2.next_frame()\">\n",
       "          <i class=\"fa fa-step-forward\"></i></button>\n",
       "      <button title=\"Last frame\" onclick=\"anim38effed7cdf44a75b152fe3c238ac9a2.last_frame()\">\n",
       "          <i class=\"fa fa-fast-forward\"></i></button>\n",
       "      <button title=\"Increase speed\" onclick=\"anim38effed7cdf44a75b152fe3c238ac9a2.faster()\">\n",
       "          <i class=\"fa fa-plus\"></i></button>\n",
       "    </div>\n",
       "    <form title=\"Repetition mode\" action=\"#n\" name=\"_anim_loop_select38effed7cdf44a75b152fe3c238ac9a2\"\n",
       "          class=\"anim-state\">\n",
       "      <input type=\"radio\" name=\"state\" value=\"once\" id=\"_anim_radio1_38effed7cdf44a75b152fe3c238ac9a2\"\n",
       "             >\n",
       "      <label for=\"_anim_radio1_38effed7cdf44a75b152fe3c238ac9a2\">Once</label>\n",
       "      <input type=\"radio\" name=\"state\" value=\"loop\" id=\"_anim_radio2_38effed7cdf44a75b152fe3c238ac9a2\"\n",
       "             checked>\n",
       "      <label for=\"_anim_radio2_38effed7cdf44a75b152fe3c238ac9a2\">Loop</label>\n",
       "      <input type=\"radio\" name=\"state\" value=\"reflect\" id=\"_anim_radio3_38effed7cdf44a75b152fe3c238ac9a2\"\n",
       "             >\n",
       "      <label for=\"_anim_radio3_38effed7cdf44a75b152fe3c238ac9a2\">Reflect</label>\n",
       "    </form>\n",
       "  </div>\n",
       "</div>\n",
       "\n",
       "\n",
       "<script language=\"javascript\">\n",
       "  /* Instantiate the Animation class. */\n",
       "  /* The IDs given should match those used in the template above. */\n",
       "  (function() {\n",
       "    var img_id = \"_anim_img38effed7cdf44a75b152fe3c238ac9a2\";\n",
       "    var slider_id = \"_anim_slider38effed7cdf44a75b152fe3c238ac9a2\";\n",
       "    var loop_select_id = \"_anim_loop_select38effed7cdf44a75b152fe3c238ac9a2\";\n",
       "    var frames = new Array(8);\n",
       "\n",
       "  frames[0] = \"data:image/png;base64,iVBORw0KGgoAAAANSUhEUgAAARgAAADICAYAAAAzx/4XAAAAOXRFWHRTb2Z0d2FyZQBNYXRwbG90\\\n",
       "bGliIHZlcnNpb24zLjMuNCwgaHR0cHM6Ly9tYXRwbG90bGliLm9yZy8QVMy6AAAACXBIWXMAAAxO\\\n",
       "AAAMTgF/d4wjAAAEV0lEQVR4nO3XQUosVxiG4VNN5MZOkabwQlzHFVdgklEmkokjES7uoDcQuGNx\\\n",
       "qDhx5lACCYFMXERW4ApsgrRKkMoKTibFxynC86zg4z/wwukWi8W4Wq3KXHVdV8bWI/5DV0oZx/ku\\\n",
       "dL9puq6zb4KvVqtVOdgctd5RdXp3Ui4eHlvPqFof7pfb8/vWM6rcb5qzm2P7Jli0HgD8fwkMECMw\\\n",
       "QIzAADECA8QIDBAjMECMwAAxAgPECAwQIzBAjMAAMQIDxAgMECMwQIzAADECA8QIDBAjMECMwAAx\\\n",
       "AgPECAwQIzBAjMAAMQIDxAgMECMwQIzAADECA8QIDBAjMECMwAAxAgPECAwQIzBAjMAAMQIDxAgM\\\n",
       "ENP1fT9eXV633lG1HHbL9uml9Ywq+6aZ/b69ZXl+e289o6rfWcz6ft0wDOPB5qj1jqqzm+Nye37f\\\n",
       "ekaVfdPMfd/p3Um5eHhsPaNqfbg/6/v5IgExAgPECAwQIzBAjMAAMQIDxAgMECMwQIzAADECA8QI\\\n",
       "DBAjMECMwAAxAgPECAwQIzBAjMAAMQIDxAgMECMwQIzAADECA8QIDBAjMECMwAAxAgPECAwQIzBA\\\n",
       "jMAAMQIDxAgMECMwQIzAADECA8QIDBAjMECMwAAxAgPEdH3fj1eX1613VC33luX57b31jKp+Z1G2\\\n",
       "Ty+tZ1S53zTLYde+CbphGMaDzVHrHVWndyfl4uGx9Yyq9eF+uT2/bz2jyv2mObs5tm8CXyQgRmCA\\\n",
       "GIEBYgQGiBEYIEZggBiBAWIEBogRGCBGYIAYgQFiBAaIERggRmCAGIEBYgQGiBEYIEZggBiBAWIE\\\n",
       "BogRGCBGYIAYgQFiBAaIERggRmCAGIEBYgQGiBEYIEZggBiBAWIEBogRGCBGYIAYgQFiBAaIERgg\\\n",
       "RmCAmK7v+/Hq8rr1jqpvPi7L6+K19YyqD/98KNunl9YzqpZ7y/L89t56RlW/s3C/CeZ+v24YhvFg\\\n",
       "c9R6R9XnX38uf3z3Z+sZVT/+9X25Pb9vPaPq9O6kXDw8tp5RtT7cd78J5n4/XyQgRmCAGIEBYgQG\\\n",
       "iBEYIEZggBiBAWIEBogRGCBGYIAYgQFiBAaIERggRmCAGIEBYgQGiBEYIEZggBiBAWIEBogRGCBG\\\n",
       "YIAYgQFiBAaIERggRmCAGIEBYgQGiBEYIEZggBiBAWIEBogRGCBGYIAYgQFiBAaIERggRmCAmK7v\\\n",
       "+/Hq8rr1jqrlsFu2Ty+tZ1TNfV//cbd8vfN36xlV29dvZ32/ub/v3Pd1wzCMB5uj1juqzm6Oy+35\\\n",
       "fesZVXPft/7tp/LDpy+tZ1Td/f7LrO839/ed+z5fJCBGYIAYgQFiBAaIERggRmCAGIEBYgQGiBEY\\\n",
       "IEZggBiBAWIEBogRGCBGYIAYgQFiBAaIERggRmCAGIEBYgQGiBEYIEZggBiBAWIEBogRGCBGYIAY\\\n",
       "gQFiBAaIERggRmCAGIEBYgQGiBEYIEZggBiBAWIEBogRGCBGYICYfwG8Pco/yIzbqwAAAABJRU5E\\\n",
       "rkJggg==\\\n",
       "\"\n",
       "  frames[1] = \"data:image/png;base64,iVBORw0KGgoAAAANSUhEUgAAARgAAADICAYAAAAzx/4XAAAAOXRFWHRTb2Z0d2FyZQBNYXRwbG90\\\n",
       "bGliIHZlcnNpb24zLjMuNCwgaHR0cHM6Ly9tYXRwbG90bGliLm9yZy8QVMy6AAAACXBIWXMAAAxO\\\n",
       "AAAMTgF/d4wjAAAEWklEQVR4nO3XMUp0VxzG4XOHSD4nlwwXP4jriLgCkypphjRWIoTZwWwgkFos\\\n",
       "FRs7SwkkBNK4lOAKlCCjFnKzgpPm8nIu4XlW8PI/8IPTLRaLcbValbnquq6MrUf8h66UMo7zXeh+\\\n",
       "03RdZ98EX6xWq3L0fNJ6R9XZ3Wm5eHhsPaNqe3xYbjf3rWdUud805zdr+yZYtB4A/H8JDBAjMECM\\\n",
       "wAAxAgPECAwQIzBAjMAAMQIDxAgMECMwQIzAADECA8QIDBAjMECMwAAxAgPECAwQIzBAjMAAMQID\\\n",
       "xAgMECMwQIzAADECA8QIDBAjMECMwAAxAgPECAwQIzBAjMAAMQIDxAgMECMwQIzAADECA8QIDBDT\\\n",
       "9X0/Xl1et95RtRz2y+7ptfWMKvummf2+g2V5ef9oPaOq31vM+n7dMAzj0fNJ6x1V5zfrcru5bz2j\\\n",
       "yr5p5r7v7O60XDw8tp5RtT0+nPX9fJGAGIEBYgQGiBEYIEZggBiBAWIEBogRGCBGYIAYgQFiBAaI\\\n",
       "ERggRmCAGIEBYgQGiBEYIEZggBiBAWIEBogRGCBGYIAYgQFiBAaIERggRmCAGIEBYgQGiBEYIEZg\\\n",
       "gBiBAWIEBogRGCBGYIAYgQFiBAaIERggRmCAGIEBYrq+78ery+vWO6qWB8vy8v7RekZVv7cou6fX\\\n",
       "1jOq3G+a5bBv3wTdMAzj0fNJ6x1VZ3en5eLhsfWMqu3xYbnd3LeeUeV+05zfrO2bwBcJiBEYIEZg\\\n",
       "gBiBAWIEBogRGCBGYIAYgQFiBAaIERggRmCAGIEBYgQGiBEYIEZggBiBAWIEBogRGCBGYIAYgQFi\\\n",
       "BAaIERggRmCAGIEBYgQGiBEYIEZggBiBAWIEBogRGCBGYIAYgQFiBAaIERggRmCAGIEBYgQGiBEY\\\n",
       "IKbr+368urxuvaNqOeyX3dNr6xlVX31elrfFW+sZVV9+fCov7x+tZ1T1e4tZv+/yYOl+E3TDMIxH\\\n",
       "zyetd1Sd36zL7ea+9Yyqn3/7qfz5zV+tZ1R99/cP5eLhsfWMqu3x4azf9+zu1P0m8EUCYgQGiBEY\\\n",
       "IEZggBiBAWIEBogRGCBGYIAYgQFiBAaIERggRmCAGIEBYgQGiBEYIEZggBiBAWIEBogRGCBGYIAY\\\n",
       "gQFiBAaIERggRmCAGIEBYgQGiBEYIEZggBiBAWIEBogRGCBGYIAYgQFiBAaIERggRmCAGIEBYgQG\\\n",
       "iOn6vh+vLq9b76haDvtl9/TaekbV3Pf1n/fLp71/Ws+o2r19Pev7zf19576vG4ZhPHo+ab2j6vxm\\\n",
       "XW43961nVM193/b3H8v33/7aekbV3R+/zPp+c3/fue/zRQJiBAaIERggRmCAGIEBYgQGiBEYIEZg\\\n",
       "gBiBAWIEBogRGCBGYIAYgQFiBAaIERggRmCAGIEBYgQGiBEYIEZggBiBAWIEBogRGCBGYIAYgQFi\\\n",
       "BAaIERggRmCAGIEBYgQGiBEYIEZggBiBAWIEBogRGCBGYIAYgQFiBAaI+Re8Pco/cALp9AAAAABJ\\\n",
       "RU5ErkJggg==\\\n",
       "\"\n",
       "  frames[2] = \"data:image/png;base64,iVBORw0KGgoAAAANSUhEUgAAARgAAADICAYAAAAzx/4XAAAAOXRFWHRTb2Z0d2FyZQBNYXRwbG90\\\n",
       "bGliIHZlcnNpb24zLjMuNCwgaHR0cHM6Ly9tYXRwbG90bGliLm9yZy8QVMy6AAAACXBIWXMAAAxO\\\n",
       "AAAMTgF/d4wjAAAESUlEQVR4nO3XMUpsZxzG4e8METLD4Q4HU7iOiCuQ26Wxs5Jp3IFlmkBqsVSm\\\n",
       "mc5ymqS6hTvIHlyBEmS8EuRkBV+aw8t3CM+zgpf/Ofzg6xaLxbher8tcdV1XxtYj/kNXShnH+S50\\\n",
       "v2m6rrNvgh/W63U5fT1vvaPq6vGy3D49t55RdXN2UnbX+9Yzqtxvms32wr4JFq0HAP9fAgPECAwQ\\\n",
       "IzBAjMAAMQIDxAgMECMwQIzAADECA8QIDBAjMECMwAAxAgPECAwQIzBAjMAAMQIDxAgMECMwQIzA\\\n",
       "ADECA8QIDBAjMECMwAAxAgPECAwQIzBAjMAAMQIDxAgMECMwQIzAADECA8QIDBAjMECMwAAxAgPE\\\n",
       "dH3fj/d3D613VK2GZTm8vLeeUWXfNLPfd7wqbx+frWdU9UeLWd+vG4ZhPH09b72jarO9KLvrfesZ\\\n",
       "VfZNM/d9V4+X5fbpufWMqpuzk1nfzxMJiBEYIEZggBiBAWIEBogRGCBGYIAYgQFiBAaIERggRmCA\\\n",
       "GIEBYgQGiBEYIEZggBiBAWIEBogRGCBGYIAYgQFiBAaIERggRmCAGIEBYgQGiBEYIEZggBiBAWIE\\\n",
       "BogRGCBGYIAYgQFiBAaIERggRmCAGIEBYgQGiBEYIKbr+368v3tovaNqdbwqbx+frWdU9UeLcnh5\\\n",
       "bz2jyv2mWQ1L+ybohmEYT1/PW++ounq8LLdPz61nVN2cnZTd9b71jCr3m2azvbBvAk8kIEZggBiB\\\n",
       "AWIEBogRGCBGYIAYgQFiBAaIERggRmCAGIEBYgQGiBEYIEZggBiBAWIEBogRGCBGYIAYgQFiBAaI\\\n",
       "ERggRmCAGIEBYgQGiBEYIEZggBiBAWIEBogRGCBGYIAYgQFiBAaIERggRmCAGIEBYgQGiBEYIEZg\\\n",
       "gJiu7/vx/u6h9Y6q1bAsh5f31jOqZr/veFXePj5bz6jqjxbuN8Hc79cNwzCevp633lG12V6U3fW+\\\n",
       "9Yyque+7erwst0/PrWdU3ZyduN8Ec7+fJxIQIzBAjMAAMQIDxAgMECMwQIzAADECA8QIDBAjMECM\\\n",
       "wAAxAgPECAwQIzBAjMAAMQIDxAgMECMwQIzAADECA8QIDBAjMECMwAAxAgPECAwQIzBAjMAAMQID\\\n",
       "xAgMECMwQIzAADECA8QIDBAjMECMwAAxAgPECAwQIzBATNf3/Xh/99B6R9VqWJbDy3vrGVX9T8vy\\\n",
       "49HfrWdUff/ny6z3Hb5/mfX3nfv/N/d93TAM4+nreesdVZvtRdld71vPqLr545fy9effW8+o+vbX\\\n",
       "r7Pe9/jnb7P+vnP//+a+zxMJiBEYIEZggBiBAWIEBogRGCBGYIAYgQFiBAaIERggRmCAGIEBYgQG\\\n",
       "iBEYIEZggBiBAWIEBogRGCBGYIAYgQFiBAaIERggRmCAGIEBYgQGiBEYIEZggBiBAWIEBogRGCBG\\\n",
       "YIAYgQFiBAaIERggRmCAGIEBYgQGiBEYIOZf2k7KP/B18DcAAAAASUVORK5CYII=\\\n",
       "\"\n",
       "  frames[3] = \"data:image/png;base64,iVBORw0KGgoAAAANSUhEUgAAARgAAADICAYAAAAzx/4XAAAAOXRFWHRTb2Z0d2FyZQBNYXRwbG90\\\n",
       "bGliIHZlcnNpb24zLjMuNCwgaHR0cHM6Ly9tYXRwbG90bGliLm9yZy8QVMy6AAAACXBIWXMAAAxO\\\n",
       "AAAMTgF/d4wjAAAEPklEQVR4nO3XQUo0RxzG4eoh8uGkYWgMxHuIJ5iQ/ZCNKxkIcwPPIS6V2bhz\\\n",
       "OWQVyMZD5ASewFmIfhKkc4LKpnmpJjzPCV7+BT+obrFYjKvVqsxV13VlbD3iP3SllHGc70L3m6br\\\n",
       "Ovsm+GG1WpWL47r1jqrrp6ty+/zSekbVzeV5edwdWs+ocr9ptvuNfRMsWg8A/r8EBogRGCBGYIAY\\\n",
       "gQFiBAaIERggRmCAGIEBYgQGiBEYIEZggBiBAWIEBogRGCBGYIAYgQFiBAaIERggRmCAGIEBYgQG\\\n",
       "iBEYIEZggBiBAWIEBogRGCBGYIAYgQFiBAaIERggRmCAGIEBYgQGiBEYIEZggBiBAWIEBojp+r4f\\\n",
       "7+8eWu+oWg6n5f31o/WMKvummf2+s2V5+/xqPaOqP1nM+n7dMAzjxXHdekfVdr8pj7tD6xlV9k0z\\\n",
       "933XT1fl9vml9Yyqm8vzWd/PFwmIERggRmCAGIEBYgQGiBEYIEZggBiBAWIEBogRGCBGYIAYgQFi\\\n",
       "BAaIERggRmCAGIEBYgQGiBEYIEZggBiBAWIEBogRGCBGYIAYgQFiBAaIERggRmCAGIEBYgQGiBEY\\\n",
       "IEZggBiBAWIEBogRGCBGYIAYgQFiBAaIERggpuv7fry/e2i9o2p5tixvn1+tZ1T1J4vy/vrRekaV\\\n",
       "+02zHE7tm6AbhmG8OK5b76i6froqt88vrWdU3Vyel8fdofWMKvebZrvf2DeBLxIQIzBAjMAAMQID\\\n",
       "xAgMECMwQIzAADECA8QIDBAjMECMwAAxAgPECAwQIzBAjMAAMQIDxAgMECMwQIzAADECA8QIDBAj\\\n",
       "MECMwAAxAgPECAwQIzBAjMAAMQIDxAgMECMwQIzAADECA8QIDBAjMECMwAAxAgPECAwQIzBATNf3\\\n",
       "/Xh/99B6R9VyOC3vrx+tZ1TNft/Zsrx9frWeUdWfLNxvgrnfrxuGYbw4rlvvqNruN+Vxd2g9o2ru\\\n",
       "+66frsrt80vrGVU3l+fuN8Hc7+eLBMQIDBAjMECMwAAxAgPECAwQIzBAjMAAMQIDxAgMECMwQIzA\\\n",
       "ADECA8QIDBAjMECMwAAxAgPECAwQIzBAjMAAMQIDxAgMECMwQIzAADECA8QIDBAjMECMwAAxAgPE\\\n",
       "CAwQIzBAjMAAMQIDxAgMECMwQIzAADECA8QIDBDT9X0/3t89tN5RtRxOy/vrR+sZVXPf9+NPy/J9\\\n",
       "8b31jKpv/3yb9f3m/r5z39cNwzBeHNetd1Rt95vyuDu0nlE1932///Fb+fPnv1rPqPr1719mfb+5\\\n",
       "v+/c9/kiATECA8QIDBAjMECMwAAxAgPECAwQIzBAjMAAMQIDxAgMECMwQIzAADECA8QIDBAjMECM\\\n",
       "wAAxAgPECAwQIzBAjMAAMQIDxAgMECMwQIzAADECA8QIDBAjMECMwAAxAgPECAwQIzBAjMAAMQID\\\n",
       "xAgMECMwQIzAADECA8T8CzOjyj/S7r9hAAAAAElFTkSuQmCC\\\n",
       "\"\n",
       "  frames[4] = \"data:image/png;base64,iVBORw0KGgoAAAANSUhEUgAAARgAAADICAYAAAAzx/4XAAAAOXRFWHRTb2Z0d2FyZQBNYXRwbG90\\\n",
       "bGliIHZlcnNpb24zLjMuNCwgaHR0cHM6Ly9tYXRwbG90bGliLm9yZy8QVMy6AAAACXBIWXMAAAxO\\\n",
       "AAAMTgF/d4wjAAAEVUlEQVR4nO3XsUpkVxzH8XOHFeJw2eHiBnyHdBGfYEi3jZ2V2Nimsg+BkFIs\\\n",
       "FZvpppxmtwv4JCl8AmURXSFy8wQnzeXHuYTP5wl+/A984XSLxWJcrVZlrrquK2PrEf+hK6WM43wX\\\n",
       "ut80XdfZN8GH1WpVjp7WrXdUnW1Py9X9Q+sZVZfHh2VzsWs9o8r9pjm/O7FvgkXrAcD/l8AAMQID\\\n",
       "xAgMECMwQIzAADECA8QIDBAjMECMwAAxAgPECAwQIzBAjMAAMQIDxAgMECMwQIzAADECA8QIDBAj\\\n",
       "MECMwAAxAgPECAwQIzBAjMAAMQIDxAgMECMwQIzAADECA8QIDBAjMECMwAAxAgPECAwQIzBAjMAA\\\n",
       "MV3f9+PN9W3rHVXLYb+8PL62nlFl3zSz33ewLM9v761nVPV7i1nfrxuGYTx6WrfeUXV+d1I2F7vW\\\n",
       "M6rsm2bu+862p+Xq/qH1jKrL48NZ388XCYgRGCBGYIAYgQFiBAaIERggRmCAGIEBYgQGiBEYIEZg\\\n",
       "gBiBAWIEBogRGCBGYIAYgQFiBAaIERggRmCAGIEBYgQGiBEYIEZggBiBAWIEBogRGCBGYIAYgQFi\\\n",
       "BAaIERggRmCAGIEBYgQGiBEYIEZggBiBAWIEBogRGCCm6/t+vLm+bb2janmwLM9v761nVPV7i/Ly\\\n",
       "+Np6RpX7TbMc9u2boBuGYTx6WrfeUXW2PS1X9w+tZ1RdHh+WzcWu9Ywq95vm/O7Evgl8kYAYgQFi\\\n",
       "BAaIERggRmCAGIEBYgQGiBEYIEZggBiBAWIEBogRGCBGYIAYgQFiBAaIERggRmCAGIEBYgQGiBEY\\\n",
       "IEZggBiBAWIEBogRGCBGYIAYgQFiBAaIERggRmCAGIEBYgQGiBEYIEZggBiBAWIEBogRGCBGYIAY\\\n",
       "gQFiur7vx5vr29Y7qvpP+2Wx9631jKp/vn8sL4+vrWdULQ+W5fntvfWMqn5v4X4TzP1+3TAM49HT\\\n",
       "uvWOql+/fC4//vRb6xlVf//1Z9lc7FrPqDrbnpar+4fWM6oujw/db4K5388XCYgRGCBGYIAYgQFi\\\n",
       "BAaIERggRmCAGIEBYgQGiBEYIEZggBiBAWIEBogRGCBGYIAYgQFiBAaIERggRmCAGIEBYgQGiBEY\\\n",
       "IEZggBiBAWIEBogRGCBGYIAYgQFiBAaIERggRmCAGIEBYgQGiBEYIEZggBiBAWIEBogRGCCm6/t+\\\n",
       "vLm+bb2jajnsl5fH19Yzqua+r/+0X37Y+9Z6RtXL94+zvt/c33fu+7phGMajp3XrHVXndydlc7Fr\\\n",
       "PaNq7vsuv3wuv/z8R+sZVduvv8/6fnN/37nv80UCYgQGiBEYIEZggBiBAWIEBogRGCBGYIAYgQFi\\\n",
       "BAaIERggRmCAGIEBYgQGiBEYIEZggBiBAWIEBogRGCBGYIAYgQFiBAaIERggRmCAGIEBYgQGiBEY\\\n",
       "IEZggBiBAWIEBogRGCBGYIAYgQFiBAaIERggRmCAGIEBYgQGiPkXrlbKPyAQhXUAAAAASUVORK5C\\\n",
       "YII=\\\n",
       "\"\n",
       "  frames[5] = \"data:image/png;base64,iVBORw0KGgoAAAANSUhEUgAAARgAAADICAYAAAAzx/4XAAAAOXRFWHRTb2Z0d2FyZQBNYXRwbG90\\\n",
       "bGliIHZlcnNpb24zLjMuNCwgaHR0cHM6Ly9tYXRwbG90bGliLm9yZy8QVMy6AAAACXBIWXMAAAxO\\\n",
       "AAAMTgF/d4wjAAAETUlEQVR4nO3XMUpsVxzH8XOHCHG4OFxM4ToirkBel8bOSmzcwWwgEFKKRQpl\\\n",
       "mqkir7J56QKuIEtI4QqUIOMTIjcrOGkuP87l8fms4Mf/wBdOt1gsxtVqVeaq67oyth7xP7pSyjjO\\\n",
       "d6H7TdN1nX0TfLdarcrxy2nrHVUX9+fl+vGp9Yyq9clR2V49tJ5R5X7TXG7O7Jtg0XoA8O0SGCBG\\\n",
       "YIAYgQFiBAaIERggRmCAGIEBYgQGiBEYIEZggBiBAWIEBogRGCBGYIAYgQFiBAaIERggRmCAGIEB\\\n",
       "YgQGiBEYIEZggBiBAWIEBogRGCBGYIAYgQFiBAaIERggRmCAGIEBYgQGiBEYIEZggBiBAWIEBogR\\\n",
       "GCCm6/t+vL25a72jajnsl93zW+sZVfZNM/t9h8vy+v7RekZVv7eY9f26YRjG45fT1juqLjdnZXv1\\\n",
       "0HpGlX3TzH3fxf15uX58aj2jan1yNOv7+SIBMQIDxAgMECMwQIzAADECA8QIDBAjMECMwAAxAgPE\\\n",
       "CAwQIzBAjMAAMQIDxAgMECMwQIzAADECA8QIDBAjMECMwAAxAgPECAwQIzBAjMAAMQIDxAgMECMw\\\n",
       "QIzAADECA8QIDBAjMECMwAAxAgPECAwQIzBAjMAAMQIDxHR934+3N3etd1QtD5fl9f2j9Yyqfm9R\\\n",
       "ds9vrWdUud80y2Hfvgm6YRjG45fT1juqLu7Py/XjU+sZVeuTo7K9emg9o8r9prncnNk3gS8SECMw\\\n",
       "QIzAADECA8QIDBAjMECMwAAxAgPECAwQIzBAjMAAMQIDxAgMECMwQIzAADECA8QIDBAjMECMwAAx\\\n",
       "AgPECAwQIzBAjMAAMQIDxAgMECMwQIzAADECA8QIDBAjMECMwAAxAgPECAwQIzBAjMAAMQIDxAgM\\\n",
       "ECMwQEzX9/34++ffWu+o+vfrQdk9v7WeUbUc9ue973BZXt8/Ws+o6vcW7jfB3O/XHR4O45e/Dlrv\\\n",
       "qPr7z1/L9uqh9Yyqy83ZrPdd3J+X68en1jOq1idH7jfB3O/niwTECAwQIzBAjMAAMQIDxAgMECMw\\\n",
       "QIzAADECA8QIDBAjMECMwAAxAgPECAwQIzBAjMAAMQIDxAgMECMwQIzAADECA8QIDBAjMECMwAAx\\\n",
       "AgPECAwQIzBAjMAAMQIDxAgMECMwQIzAADECA8QIDBAjMECMwAAxAgPECAwQ0/V9P97e3LXeUbUc\\\n",
       "9svu+a31jKq57+t/2C/f7/3TekbV7uvBrO839/ed+75uGIbx+OW09Y6qy81Z2V49tJ5RNfd96y8/\\\n",
       "lU8//tJ6RtX9Hz/P+n5zf9+57/NFAmIEBogRGCBGYIAYgQFiBAaIERggRmCAGIEBYgQGiBEYIEZg\\\n",
       "gBiBAWIEBogRGCBGYIAYgQFiBAaIERggRmCAGIEBYgQGiBEYIEZggBiBAWIEBogRGCBGYIAYgQFi\\\n",
       "BAaIERggRmCAGIEBYgQGiBEYIEZggBiBAWIEBoj5D2ojzT8ajdbbAAAAAElFTkSuQmCC\\\n",
       "\"\n",
       "  frames[6] = \"data:image/png;base64,iVBORw0KGgoAAAANSUhEUgAAARgAAADICAYAAAAzx/4XAAAAOXRFWHRTb2Z0d2FyZQBNYXRwbG90\\\n",
       "bGliIHZlcnNpb24zLjMuNCwgaHR0cHM6Ly9tYXRwbG90bGliLm9yZy8QVMy6AAAACXBIWXMAAAxO\\\n",
       "AAAMTgF/d4wjAAAEPklEQVR4nO3XMUp0VxzG4XOHT8gMlwyX+QrXEXEFki6NnZVM4w7cQCC1WKRQ\\\n",
       "ppluCHxgk9RuIhuwTKUE0VjIzQpOmsvLuYTnWcHL/8APTrdYLMb1el3mquu6MrYe8R+6Uso4zneh\\\n",
       "+03TdZ19E3xZr9fl5OWs9Y6qy8NFuXl8aj2j6vr0uOyvHlrPqHK/aba7c/smWLQeAPx/CQwQIzBA\\\n",
       "jMAAMQIDxAgMECMwQIzAADECA8QIDBAjMECMwAAxAgPECAwQIzBAjMAAMQIDxAgMECMwQIzAADEC\\\n",
       "A8QIDBAjMECMwAAxAgPECAwQIzBAjMAAMQIDxAgMECMwQIzAADECA8QIDBAjMECMwAAxAgPECAwQ\\\n",
       "0/V9P97d3rfeUbUaluXt+b31jCr7ppn9vs2qvH58tp5R1R8tZn2/bhiG8eTlrPWOqu3uvOyvHlrP\\\n",
       "qLJvmrnvuzxclJvHp9Yzqq5Pj2d9P18kIEZggBiBAWIEBogRGCBGYIAYgQFiBAaIERggRmCAGIEB\\\n",
       "YgQGiBEYIEZggBiBAWIEBogRGCBGYIAYgQFiBAaIERggRmCAGIEBYgQGiBEYIEZggBiBAWIEBogR\\\n",
       "GCBGYIAYgQFiBAaIERggRmCAGIEBYgQGiBEYIEZggJiu7/vx7va+9Y6q1WZVXj8+W8+o6o8W5e35\\\n",
       "vfWMKvebZjUs7ZugG4ZhPHk5a72j6vJwUW4en1rPqLo+PS77q4fWM6rcb5rt7ty+CXyRgBiBAWIE\\\n",
       "BogRGCBGYIAYgQFiBAaIERggRmCAGIEBYgQGiBEYIEZggBiBAWIEBogRGCBGYIAYgQFiBAaIERgg\\\n",
       "RmCAGIEBYgQGiBEYIEZggBiBAWIEBogRGCBGYIAYgQFiBAaIERggRmCAGIEBYgQGiBEYIEZggBiB\\\n",
       "AWK6vu/Hu9v71juqVsOyvD2/t55RNft9m1V5/fhsPaOqP1q43wRzv183DMN48nLWekfVdnde9lcP\\\n",
       "rWdUzX3f5eGi3Dw+tZ5RdX167H4TzP1+vkhAjMAAMQIDxAgMECMwQIzAADECA8QIDBAjMECMwAAx\\\n",
       "AgPECAwQIzBAjMAAMQIDxAgMECMwQIzAADECA8QIDBAjMECMwAAxAgPECAwQIzBAjMAAMQIDxAgM\\\n",
       "ECMwQIzAADECA8QIDBAjMECMwAAxAgPECAwQIzBAjMAAMV3f9+O3335tvaPq7Z/vy9vze+sZVath\\\n",
       "Oet9/ddl+e7o79YzqrzvNHPf133dDONff25a76g6/PFz2V89tJ5Rtd2dz3rf9e8/lR9/+KX1jCrv\\\n",
       "O83c9/kiATECA8QIDBAjMECMwAAxAgPECAwQIzBAjMAAMQIDxAgMECMwQIzAADECA8QIDBAjMECM\\\n",
       "wAAxAgPECAwQIzBAjMAAMQIDxAgMECMwQIzAADECA8QIDBAjMECMwAAxAgPECAwQIzBAjMAAMQID\\\n",
       "xAgMECMwQIzAADECA8T8C/81zT/VvaOrAAAAAElFTkSuQmCC\\\n",
       "\"\n",
       "  frames[7] = \"data:image/png;base64,iVBORw0KGgoAAAANSUhEUgAAARgAAADICAYAAAAzx/4XAAAAOXRFWHRTb2Z0d2FyZQBNYXRwbG90\\\n",
       "bGliIHZlcnNpb24zLjMuNCwgaHR0cHM6Ly9tYXRwbG90bGliLm9yZy8QVMy6AAAACXBIWXMAAAxO\\\n",
       "AAAMTgF/d4wjAAAESklEQVR4nO3XMUp0VxzG4XOHb5I4XDJc/ArrLOETVyDp0kxnJUPAHbiBQGqx\\\n",
       "VKbIdH6dTVLbZR9CeiWIxkJuVnDSXF7OJTzPCl7+B35wusViMa7X6zJXXdeVsfWI/9CVUsZxvgvd\\\n",
       "b5qu6+yb4NN6vS7Hz6etd1Sd352Vq4fH1jOqLk+Oyv7ivvWMKvebZrvb2DfBovUA4P9LYIAYgQFi\\\n",
       "BAaIERggRmCAGIEBYgQGiBEYIEZggBiBAWIEBogRGCBGYIAYgQFiBAaIERggRmCAGIEBYgQGiBEY\\\n",
       "IEZggBiBAWIEBogRGCBGYIAYgQFiBAaIERggRmCAGIEBYgQGiBEYIEZggBiBAWIEBogRGCBGYICY\\\n",
       "ru/78eb6tvWOqtVwUF6f3lrPqLJvmtnvO1yVl/eP1jOq+uVi1vfrhmEYj59PW++o2u42ZX9x33pG\\\n",
       "lX3TzH3f+d1ZuXp4bD2j6vLkaNb380UCYgQGiBEYIEZggBiBAWIEBogRGCBGYIAYgQFiBAaIERgg\\\n",
       "RmCAGIEBYgQGiBEYIEZggBiBAWIEBogRGCBGYIAYgQFiBAaIERggRmCAGIEBYgQGiBEYIEZggBiB\\\n",
       "AWIEBogRGCBGYIAYgQFiBAaIERggRmCAGIEBYgQGiOn6vh9vrm9b76haHa7Ky/tH6xlV/XJRXp/e\\\n",
       "Ws+ocr9pVsOBfRN0wzCMx8+nrXdUnd+dlauHx9Yzqi5Pjsr+4r71jCr3m2a729g3gS8SECMwQIzA\\\n",
       "ADECA8QIDBAjMECMwAAxAgPECAwQIzBAjMAAMQIDxAgMECMwQIzAADECA8QIDBAjMECMwAAxAgPE\\\n",
       "CAwQIzBAjMAAMQIDxAgMECMwQIzAADECA8QIDBAjMECMwAAxAgPECAwQIzBAjMAAMQIDxAgMECMw\\\n",
       "QEzX9/24/3rTekfV4n1VXp/eWs+oWg0H8953uCov7x+tZ1T1y4X7TTD3+3365ttl+euH31rvqPr8\\\n",
       "589lf3HfekbVdreZ9b7zu7Ny9fDYekbV5cmR+00w9/v5IgExAgPECAwQIzBAjMAAMQIDxAgMECMw\\\n",
       "QIzAADECA8QIDBAjMECMwAAxAgPECAwQIzBAjMAAMQIDxAgMECMwQIzAADECA8QIDBAjMECMwAAx\\\n",
       "AgPECAwQIzBAjMAAMQIDxAgMECMwQIzAADECA8QIDBAjMECMwAAxAgPEdH3fjzfXt613VK2Gg/L6\\\n",
       "9NZ6RtXc9/WfD8p3y79bz6h6/ef7Wd9v7u87933dMAzj8fNp6x1V292m7C/uW8+omvu+y99/Kj9+\\\n",
       "+bX1jKq7P36Z9f3m/r5z3+eLBMQIDBAjMECMwAAxAgPECAwQIzBAjMAAMQIDxAgMECMwQIzAADEC\\\n",
       "A8QIDBAjMECMwAAxAgPECAwQIzBAjMAAMQIDxAgMECMwQIzAADECA8QIDBAjMECMwAAxAgPECAwQ\\\n",
       "IzBAjMAAMQIDxAgMECMwQIzAADECA8QIDBDzL4TnylFRhjr0AAAAAElFTkSuQmCC\\\n",
       "\"\n",
       "\n",
       "\n",
       "    /* set a timeout to make sure all the above elements are created before\n",
       "       the object is initialized. */\n",
       "    setTimeout(function() {\n",
       "        anim38effed7cdf44a75b152fe3c238ac9a2 = new Animation(frames, img_id, slider_id, 149.0,\n",
       "                                 loop_select_id);\n",
       "    }, 0);\n",
       "  })()\n",
       "</script>\n"
      ],
      "text/plain": [
       "<IPython.core.display.HTML object>"
      ]
     },
     "metadata": {},
     "output_type": "display_data"
    }
   ],
   "source": [
    "rw.animate(world)"
   ]
  },
  {
   "cell_type": "markdown",
   "id": "dirty-debate",
   "metadata": {},
   "source": [
    "Ist dieser Algorithmus besonders klever?\n",
    "Nein!\n",
    "Der Algorithmus ist sehr einfach und benötigt unter Umständen sehr viel Rechenzeit.\n",
    "Dennoch zeigt dieses Beispiel, dass die Wiederholung von einfachen Befehlen zu komplexen Lösungen führen können!\n",
    "\n",
    "```{admonition} Wiederholung und Codekomplexität\n",
    ":class: hint\n",
    "*Wiederholung* trennt den Aufwand zum Lösen einer Aufgabe von der Komplexität des Codes.\n",
    "Eine Berechnung kann enorm aufwendig sein und dennoch benötigen wir wenig Denkarbeit (wenig Code) um einen Algorithmus für die Lösung zu entwerfen!\n",
    "```\n",
    "\n",
    "## Die ``for``-Schleife\n",
    "\n",
    "Die ``for``-Schleife verwenden wir immer dann, wenn wir (zur Laufzeit) wissen wie viele Wiederholungen wir **maximal** benötigen.\n",
    "Dabei wollen wir entweder\n",
    "\n",
    "1. für eine bestimmte Anzahl $n \\in \\mathbb{N}$, oder\n",
    "2. für jedes Element einer *Datenstruktur* (Liste, Tupel, usw.)\n",
    "\n",
    "einen Befehlsblock ausführen.\n",
    "\n",
    "Im zweiten Fall spricht man auch von der sog. *Foreach-Schleife*.\n",
    "Durch den Zahlenbereich ``range()`` reduziert ``Python`` den ersten Fall auf den zweiten.\n",
    "\n",
    "### Die klassische ``for``-Schleife (Fall 1)\n",
    "\n",
    "```python\n",
    "n = ...\n",
    "for i in range(n):\n",
    "    # Codeblock\n",
    "```\n",
    "\n",
    "Der Name der *Zählervariable* (hier ``i``) kann frei gewählt werden, allerdings verwendet man für Fall 1 gewöhnlich: ``i``, ``j`` oder ``k``."
   ]
  },
  {
   "cell_type": "code",
   "execution_count": 5,
   "id": "western-entrepreneur",
   "metadata": {},
   "outputs": [
    {
     "name": "stdout",
     "output_type": "stream",
     "text": [
      "0\n",
      "1\n",
      "4\n",
      "9\n",
      "16\n",
      "25\n",
      "36\n",
      "49\n",
      "64\n",
      "81\n"
     ]
    }
   ],
   "source": [
    "for i in range(10):\n",
    "    print(i**2)"
   ]
  },
  {
   "cell_type": "markdown",
   "id": "expressed-introduction",
   "metadata": {},
   "source": [
    "Will man andeutet, dass die *Zählervariable* nicht benötigt wird, so verwendet man den ``_`` als ihren Namen."
   ]
  },
  {
   "cell_type": "code",
   "execution_count": 6,
   "id": "distributed-duplicate",
   "metadata": {},
   "outputs": [
    {
     "name": "stdout",
     "output_type": "stream",
     "text": [
      "42 ist die Antwort!\n",
      "42 ist die Antwort!\n",
      "42 ist die Antwort!\n",
      "42 ist die Antwort!\n",
      "42 ist die Antwort!\n",
      "42 ist die Antwort!\n",
      "42 ist die Antwort!\n",
      "42 ist die Antwort!\n",
      "42 ist die Antwort!\n",
      "42 ist die Antwort!\n"
     ]
    }
   ],
   "source": [
    "for _ in range(10):\n",
    "    print('42 ist die Antwort!')"
   ]
  },
  {
   "cell_type": "markdown",
   "id": "statutory-peripheral",
   "metadata": {},
   "source": [
    "### Die Foreach-Schleife (Fall 2)\n",
    "\n",
    "```python\n",
    "sequenz = ... # some Sequenz of Elements\n",
    "for element in sequenz:\n",
    "    # Codeblock\n",
    "```\n",
    "\n",
    "Der Name mit dem wir die Elemente der Sequenz ansprechen (hier ``element``) kann frei gewählt werden und sollte beschreiben über welche Elemente wir *iterieren*."
   ]
  },
  {
   "cell_type": "code",
   "execution_count": 7,
   "id": "anonymous-hebrew",
   "metadata": {},
   "outputs": [
    {
     "name": "stdout",
     "output_type": "stream",
     "text": [
      "Sarah\n",
      "Sebastian\n",
      "Babar\n",
      "Simon\n",
      "Martin\n"
     ]
    }
   ],
   "source": [
    "names = ['Sarah', 'Sebastian', 'Babar', 'Simon', 'Martin']\n",
    "\n",
    "for name in names:\n",
    "    print(name)"
   ]
  },
  {
   "cell_type": "markdown",
   "id": "indian-kennedy",
   "metadata": {},
   "source": [
    "``range()`` ist, genau wie eine Liste und ein Tupel, auch eine *Sequenz*.\n",
    "Eine ``for``-Schleife läuft über die Einträge einer *Sequenz* oder anderer *iterierbarer* Strukturen.\n",
    "\n",
    "Es kann durchaus sein, dass wir die ``for``-Schleife auch dann verwenden, wenn nicht genau klar ist wie viele Wiederholungen wir benötigen, sondern nur klar ist, wie viele Wiederholungen wir **maximal** benötigen.\n",
    "\n",
    "Nehmen wir den Test ob eine Zahl $n$ eine Primzahl ist.\n",
    "Ein einfacher Algorithmus für den Test, testet für jede Zahl $2 \\leq m < n$ ob $m$ die Zahl $n$ teilt.\n",
    "Wenn dies der Fall ist, ist $n$ keine Primzahl und wir können die Wiederholung stoppen.\n",
    "Wir wissen demnach, dass wir maximal $n-m-3$ Wiederholungen benötigen.\n",
    "Es könnten jedoch auch weniger sein:"
   ]
  },
  {
   "cell_type": "code",
   "execution_count": 8,
   "id": "graphic-millennium",
   "metadata": {},
   "outputs": [
    {
     "name": "stdout",
     "output_type": "stream",
     "text": [
      "True\n",
      "True\n",
      "False\n",
      "True\n"
     ]
    }
   ],
   "source": [
    "def is_prime(n):\n",
    "    prime = True\n",
    "    for i in range(2, n):\n",
    "        if n % i == 0:\n",
    "            prime = False\n",
    "            break\n",
    "    return prime\n",
    "\n",
    "print(is_prime(2))\n",
    "print(is_prime(13))\n",
    "print(is_prime(25))\n",
    "print(is_prime(83))"
   ]
  },
  {
   "cell_type": "markdown",
   "id": "british-darwin",
   "metadata": {},
   "source": [
    "Um die ``for``-Schleife frühzeitig zu beenden verwenden wir ``break``.\n",
    "Mit ``break`` springen wir aus der **innersten** Schleife heraus.\n",
    "Wir könnten stattdessen auch ``return`` verwenden, um aus der Funktion herauszuspringen:"
   ]
  },
  {
   "cell_type": "code",
   "execution_count": 9,
   "id": "jewish-matthew",
   "metadata": {},
   "outputs": [
    {
     "name": "stdout",
     "output_type": "stream",
     "text": [
      "True\n",
      "True\n",
      "False\n",
      "True\n"
     ]
    }
   ],
   "source": [
    "def is_prime(n):\n",
    "    for i in range(2, n):\n",
    "        if n % i == 0:\n",
    "            return False\n",
    "    return True\n",
    "\n",
    "print(is_prime(2))\n",
    "print(is_prime(13))\n",
    "print(is_prime(25))\n",
    "print(is_prime(83))"
   ]
  },
  {
   "cell_type": "markdown",
   "id": "floppy-stability",
   "metadata": {},
   "source": [
    "Eine weitere Steuermöglichkeit bietet ``continue``.\n",
    "Mit ``continue`` springen wir nicht aus der Schleife heraus sondern springen zurück zum Schleifenkopf.\n",
    "Der Code nach ``continue`` wird übersprungen:"
   ]
  },
  {
   "cell_type": "code",
   "execution_count": 10,
   "id": "responsible-japanese",
   "metadata": {},
   "outputs": [
    {
     "name": "stdout",
     "output_type": "stream",
     "text": [
      "0\n",
      "2\n",
      "4\n",
      "6\n",
      "8\n"
     ]
    },
    {
     "data": {
      "text/plain": [
       "[0, 4, 8, 12, 16]"
      ]
     },
     "execution_count": 10,
     "metadata": {},
     "output_type": "execute_result"
    }
   ],
   "source": [
    "def double_even_numbers(numbers):\n",
    "    result = []\n",
    "    for number in numbers:\n",
    "        if number % 2 == 1:\n",
    "            continue\n",
    "            \n",
    "        print(number)\n",
    "        result.append(number*2)\n",
    "    return result\n",
    "numbers = list(range(10))\n",
    "double_even_numbers(numbers)"
   ]
  },
  {
   "cell_type": "markdown",
   "id": "cooperative-ecology",
   "metadata": {},
   "source": [
    "Allerdings braucht man ``continue`` so gut wie nie und wenn es verwendet wird handelt es sich oftmals um schlecht leserlichen Code."
   ]
  },
  {
   "cell_type": "code",
   "execution_count": 11,
   "id": "protected-following",
   "metadata": {},
   "outputs": [
    {
     "name": "stdout",
     "output_type": "stream",
     "text": [
      "0\n",
      "2\n",
      "4\n",
      "6\n",
      "8\n"
     ]
    },
    {
     "data": {
      "text/plain": [
       "[0, 4, 8, 12, 16]"
      ]
     },
     "execution_count": 11,
     "metadata": {},
     "output_type": "execute_result"
    }
   ],
   "source": [
    "def double_even_numbers(numbers):\n",
    "    result = []\n",
    "    for number in numbers:\n",
    "        if number % 2 == 0:    \n",
    "            print(number)\n",
    "            result.append(number*2)\n",
    "    return result\n",
    "numbers = list(range(10))\n",
    "double_even_numbers(numbers)"
   ]
  },
  {
   "cell_type": "markdown",
   "id": "grand-genesis",
   "metadata": {},
   "source": [
    "```{admonition} Kontrollmechanismen der for-Schleife\n",
    ":class: hint\n",
    "Gehen Sie sparsam mit ``break`` und ``continue`` um, oftmals brauchen Sie es nicht!\n",
    "```\n",
    "\n",
    "### Die ``while``-Schleife\n",
    "\n",
    "Die ``while``-Schleife verwenden wir immer dann, wenn wir (zur Laufzeit) **nicht** wissen wie viele Wiederholungen wir maximal benötigen.\n",
    "Die Wiederholung endet sobald eine bestimmte Bedingung, d.h. ein *logischer Ausdruck* ``P`` zu ``False`` ausgewertet wird.\n",
    "\n",
    "```python\n",
    "while P:\n",
    "    # Codeblock1\n",
    "else:\n",
    "    # Codeblock2\n",
    "```\n",
    "\n",
    "``Codeblock2`` wird einmal ausgeführt sobald ``P`` zu ``False`` ausgewertet wird und die ``while``-Schleife verlassen wird, d.h. als letzter Schritt.\n",
    "\n",
    "```{admonition} Endlosschleifen\n",
    ":class: warning\n",
    "Wird ``P`` niemals ``False`` endet die Wiederholung niemals und wir haben eine sog. *Endlosschleife*!\n",
    "```"
   ]
  },
  {
   "cell_type": "code",
   "execution_count": 12,
   "id": "african-piece",
   "metadata": {},
   "outputs": [
    {
     "name": "stdout",
     "output_type": "stream",
     "text": [
      "1\n",
      "2\n",
      "3\n",
      "4\n",
      "5\n",
      "6\n",
      "7\n",
      "8\n",
      "9\n",
      "10\n",
      "end of the while-loop\n"
     ]
    }
   ],
   "source": [
    "i = 0\n",
    "while i < 10:\n",
    "    i += 1\n",
    "    print(i)\n",
    "else:\n",
    "    print('end of the while-loop')"
   ]
  },
  {
   "cell_type": "markdown",
   "id": "geographic-uganda",
   "metadata": {},
   "source": [
    "```{admonition} Mächtigkeit der While-Schleife\n",
    ":class: important\n",
    "Jede ``for``-Schleife lässt sich in eine ``while``-Schleife transformieren!\n",
    "```"
   ]
  },
  {
   "cell_type": "code",
   "execution_count": 13,
   "id": "ultimate-syria",
   "metadata": {},
   "outputs": [
    {
     "name": "stdout",
     "output_type": "stream",
     "text": [
      "Sarah\n",
      "Sebastian\n",
      "Babar\n",
      "Simon\n",
      "Martin\n",
      "\n",
      "Sarah\n",
      "Sebastian\n",
      "Babar\n",
      "Simon\n",
      "Martin\n"
     ]
    }
   ],
   "source": [
    "names = ['Sarah', 'Sebastian', 'Babar', 'Simon', 'Martin']\n",
    "\n",
    "for name in names:\n",
    "    print(name)\n",
    "\n",
    "print()\n",
    "\n",
    "i = 0\n",
    "while i < len(names):\n",
    "    print(names[i])\n",
    "    i += 1"
   ]
  },
  {
   "cell_type": "markdown",
   "id": "neither-seller",
   "metadata": {},
   "source": [
    "``while``-Schleifen sind mächtiger aber auch gefährlicher bzw. oftmals schwerer zu lesen und zu verstehen als ``for``-Schleifen.\n",
    "\n",
    "```{admonition} Verwendungskriterium\n",
    ":class: hint\n",
    "Verwenden Sie die ``while``-Schleife nur wenn die ``for``-Schleife ungeeignet ist.\n",
    "```\n",
    "\n",
    "``break`` und ``continue`` funktionieren für die ``while``-Schleife genauso wie für die ``for``-Schleife.\n",
    "\n",
    "```{admonition} Verwendungskriterium While-Schleife\n",
    ":class: hint\n",
    "Gehen Sie sparsam mit ``break`` und ``continue`` um, oftmals brauchen Sie es nicht!\n",
    "```\n",
    "\n",
    "Folgender Code zeigt eine unnötige Verwendung von ``continue``."
   ]
  },
  {
   "cell_type": "code",
   "execution_count": 14,
   "id": "specialized-disclosure",
   "metadata": {},
   "outputs": [
    {
     "name": "stdout",
     "output_type": "stream",
     "text": [
      "1\n",
      "3\n",
      "5\n",
      "7\n",
      "9\n"
     ]
    }
   ],
   "source": [
    "# bad code!!!\n",
    "i = 0\n",
    "while i < 10:\n",
    "    i += 1\n",
    "    if i % 2 == 0:\n",
    "        continue\n",
    "    print(i)"
   ]
  },
  {
   "cell_type": "markdown",
   "id": "flush-connection",
   "metadata": {},
   "source": [
    "Stattdessen können wir die ``if``-Bedingung anpassen."
   ]
  },
  {
   "cell_type": "code",
   "execution_count": 15,
   "id": "worthy-thesis",
   "metadata": {},
   "outputs": [
    {
     "name": "stdout",
     "output_type": "stream",
     "text": [
      "1\n",
      "3\n",
      "5\n",
      "7\n",
      "9\n"
     ]
    }
   ],
   "source": [
    "# better!\n",
    "i = 0\n",
    "while i < 10:\n",
    "    i += 1\n",
    "    if i % 2 == 1:\n",
    "        print(i)"
   ]
  },
  {
   "cell_type": "markdown",
   "id": "impaired-gossip",
   "metadata": {},
   "source": [
    "Oder aber einfach die Zählervariable um zwei statt um eins erhöhen."
   ]
  },
  {
   "cell_type": "code",
   "execution_count": 16,
   "id": "medium-monkey",
   "metadata": {},
   "outputs": [
    {
     "name": "stdout",
     "output_type": "stream",
     "text": [
      "1\n",
      "3\n",
      "5\n",
      "7\n",
      "9\n"
     ]
    }
   ],
   "source": [
    "# even better!\n",
    "i = 1\n",
    "while i < 10:      \n",
    "    print(i)\n",
    "    i += 2"
   ]
  },
  {
   "cell_type": "markdown",
   "id": "intelligent-medication",
   "metadata": {},
   "source": [
    "Am einfachsten zu lesen bleibt jedoch die ``for``-Schleife."
   ]
  },
  {
   "cell_type": "code",
   "execution_count": 17,
   "id": "revised-drink",
   "metadata": {},
   "outputs": [
    {
     "name": "stdout",
     "output_type": "stream",
     "text": [
      "1\n",
      "3\n",
      "5\n",
      "7\n",
      "9\n"
     ]
    }
   ],
   "source": [
    "# even better!\n",
    "for i in range(1,10,2):\n",
    "  print(i)"
   ]
  },
  {
   "cell_type": "markdown",
   "id": "solar-butterfly",
   "metadata": {},
   "source": [
    "```{admonition} Verhindern von Endlosschleifen\n",
    ":class: hint\n",
    "Prüfen Sie immer ob Ihre Bedingung ``P`` durch den Schleifenrumpf garantiert irgendwann ``False`` ergibt!\n",
    "```\n",
    "\n",
    "\n",
    "## Beispiel (ggT)\n",
    "\n",
    "Lassen Sie uns Euklid's Algorithmus ``gcd(m,n)`` zum finden des Größter gemeinsamer Teiler (ggT) zweier ganzer Zahlen von $m$ und $n$ implementieren.\n",
    "\n",
    "Euklid's Algorithmus geht wie folgt vor:\n",
    "\n",
    "1. Berechne den Restwert der Division $m / n$ (Modulodivision). Sei dieser gleich $r$.\n",
    "2. Setze $m \\leftarrow n$, $n \\leftarrow r$ und gehe zurück zu Schritt 1.\n",
    "3. Falls $r = 0$ (und somit $n = 0$), so ist der Algorithmus beendet. Das Ergebnis (ggT) ist $m$. Ansonsten fahre fort."
   ]
  },
  {
   "cell_type": "code",
   "execution_count": 18,
   "id": "tough-lightning",
   "metadata": {},
   "outputs": [
    {
     "data": {
      "text/plain": [
       "12"
      ]
     },
     "execution_count": 18,
     "metadata": {},
     "output_type": "execute_result"
    }
   ],
   "source": [
    "def gcd(m, n):\n",
    "    while n != 0:\n",
    "        r = m % n\n",
    "        m = n\n",
    "        n = r\n",
    "    return m\n",
    "gcd(36, 24)"
   ]
  },
  {
   "cell_type": "markdown",
   "id": "mighty-investment",
   "metadata": {},
   "source": [
    "Durch das packing bzw. unpacking (siehe [Tupel](sec-tuple)) können wir den Code noch verkürzen:"
   ]
  },
  {
   "cell_type": "code",
   "execution_count": 19,
   "id": "creative-graduation",
   "metadata": {},
   "outputs": [
    {
     "data": {
      "text/plain": [
       "12"
      ]
     },
     "execution_count": 19,
     "metadata": {},
     "output_type": "execute_result"
    }
   ],
   "source": [
    "def gcd(m, n):\n",
    "    while n != 0:\n",
    "        m, n = n, m % n\n",
    "    return m\n",
    "gcd(36, 24)"
   ]
  }
 ],
 "metadata": {
  "jupytext": {
   "formats": "md:myst",
   "text_representation": {
    "extension": ".md",
    "format_name": "myst"
   }
  },
  "kernelspec": {
   "display_name": "Python 3",
   "language": "python",
   "name": "python3"
  },
  "language_info": {
   "codemirror_mode": {
    "name": "ipython",
    "version": 3
   },
   "file_extension": ".py",
   "mimetype": "text/x-python",
   "name": "python",
   "nbconvert_exporter": "python",
   "pygments_lexer": "ipython3",
   "version": "3.9.8"
  },
  "source_map": [
   11,
   34,
   39,
   55,
   64,
   68,
   73,
   77,
   79,
   115,
   118,
   122,
   125,
   137,
   142,
   155,
   168,
   174,
   185,
   191,
   203,
   207,
   217,
   243,
   250,
   257,
   269,
   287,
   295,
   299,
   306,
   310,
   316,
   320,
   324,
   342,
   350,
   354
  ]
 },
 "nbformat": 4,
 "nbformat_minor": 5
}