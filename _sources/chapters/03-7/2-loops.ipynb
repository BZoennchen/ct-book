{
 "cells": [
  {
   "cell_type": "markdown",
   "id": "meaningful-tenant",
   "metadata": {},
   "source": [
    "(sec-loops)=\n",
    "# Schleifen\n",
    "\n",
    "Viele Aufgaben, die wir über unser Leben hinweg verrichten sind langweilig, da wir immer und immer wieder die gleichen Basisschritte wiederholen müssen. \n",
    "\n",
    "Nehmen Sie nur das Nachschlagen einer Telefonnummer im Telefonbuch (falls Sie so etwas überhaupt noch kennen). Wir gehen dabei Seite für Seite durch und suchen nach einem bestimmten Namen - langweilig ...\n",
    "\n",
    "Auch ganz alltägliche Dinge wie der Abwasch, Zähneputzen, Kochen, ja nahezu jede Aktion beinhaltet die eine oder andere Art der Wiederholung.\n",
    "\n",
    "Wie sich gezeigt hat, können wir interessanterweise durch diese langweiligen Wiederholungen ganz erstaunliche Dinge vollbringen. **Wiederholung ist die Grundlage aller Berechnung.**\n",
    "\n",
    "## Motivation\n",
    "\n",
    "Lassen Sie uns einmal auf unseren Roboter blicken.\n",
    "Dieser bewegt sich auf einem Gitter.\n",
    "Jeder Gitterpunkt ist entweder begehbar oder durch ein Hindernis belegt.\n",
    "Der Roboter kann nur nach Vorne laufen und sich nach links um 90 Grad drehen.\n",
    "Eine genauere Beschreibung des Roboters und seiner Welt finden Sie in der Übung [Roboterwelt](sec-robo-world).\n",
    "\n",
    "Die Folgende Welt enthält unseren Roboter (türkis), das Ziel (gelb), begehbare Zellen (lila) und unbegehbare Hindernisse (blau)."
   ]
  },
  {
   "cell_type": "code",
   "execution_count": 1,
   "id": "scheduled-contract",
   "metadata": {},
   "outputs": [
    {
     "data": {
      "image/png": "[encoded data removed]",
      "text/plain": [
       "<Figure size 280x200 with 1 Axes>"
      ]
     },
     "execution_count": 1,
     "metadata": {
      "filenames": {
       "image/png": "/Users/bzoennchen/Development/workspaces/GitHub/ct-book/_build/jupyter_execute/chapters/03-7/2-loops_1_0.png"
      }
     },
     "output_type": "execute_result"
    }
   ],
   "source": [
    "import roboworld as rw\n",
    "\n",
    "world = rw.complex_maze(nrows=5, ncols=7)\n",
    "world.show()"
   ]
  },
  {
   "cell_type": "markdown",
   "id": "negative-intro",
   "metadata": {},
   "source": [
    "Wir sollen nun einen Algorithmus entwerfen, welcher den Roboter zum Ziel führt (sofern dies möglich ist).\n",
    "Diese Aufgabe scheint überwältigend schwierig.\n",
    "Wir verwenden das ``random``-Modul um einen *fairen Münzwurf* zu simulieren.\n",
    "Zudem verwenden wir lediglich folgende Methoden des Roboters:\n",
    "+ ``turn_left()``\n",
    "+ ``is_wall_in_front()``\n",
    "+ ``move()``\n",
    "+ ``is_at_goal()``\n",
    "\n",
    "In wie vielen Zeilen Code können wir dieses Problem lösen?\n",
    "Durch das Potenzial der **Wiederholung** brauchen wir ca. 10 Zeilen Code!\n",
    "\n",
    "Zuerst definieren wir eine Funktion ``random_move(robo)`` welche den Roboter um einen zufälligen Nachbargitterpunkt bewegt (falls dies möglich ist)."
   ]
  },
  {
   "cell_type": "code",
   "execution_count": 2,
   "id": "duplicate-bathroom",
   "metadata": {},
   "outputs": [],
   "source": [
    "import random as rnd\n",
    "\n",
    "def random_move(robo):\n",
    "    turns = rnd.choice([0,1,2,3])\n",
    "    for _ in range(turns):\n",
    "        robo.turn_left()\n",
    "    if not robo.is_wall_in_front():\n",
    "        robo.move()"
   ]
  },
  {
   "cell_type": "markdown",
   "id": "suspected-toolbox",
   "metadata": {},
   "source": [
    "Dann nutzten wir die Wiederholung und bewegen den Roboter immer weiter auf zufällige Nachbargitterpunkte bis er am Ziel angekommen ist:"
   ]
  },
  {
   "cell_type": "code",
   "execution_count": 3,
   "id": "regulated-gasoline",
   "metadata": {},
   "outputs": [],
   "source": [
    "robo = world.get_robo()\n",
    "robo.disable_print()\n",
    "while not robo.is_at_goal():\n",
    "    random_move(robo)"
   ]
  },
  {
   "cell_type": "markdown",
   "id": "ethical-karen",
   "metadata": {},
   "source": [
    "Lassen Sie uns die sog. *Zufallsfahrt* des Roboters ansehen:"
   ]
  },
  {
   "cell_type": "code",
   "execution_count": 4,
   "id": "champion-agenda",
   "metadata": {},
   "outputs": [
    {
     "name": "stderr",
     "output_type": "stream",
     "text": [
      "MovieWriter imagemagick unavailable; using Pillow instead.\n"
     ]
    },
    {
     "data": {
      "text/html": [
       "\n",
       "<link rel=\"stylesheet\"\n",
       "href=\"https://maxcdn.bootstrapcdn.com/font-awesome/4.4.0/css/font-awesome.min.css\">\n",
       "<script language=\"javascript\">\n",
       "  function isInternetExplorer() {\n",
       "    ua = navigator.userAgent;\n",
       "    /* MSIE used to detect old browsers and Trident used to newer ones*/\n",
       "    return ua.indexOf(\"MSIE \") > -1 || ua.indexOf(\"Trident/\") > -1;\n",
       "  }\n",
       "\n",
       "  /* Define the Animation class */\n",
       "  function Animation(frames, img_id, slider_id, interval, loop_select_id){\n",
       "    this.img_id = img_id;\n",
       "    this.slider_id = slider_id;\n",
       "    this.loop_select_id = loop_select_id;\n",
       "    this.interval = interval;\n",
       "    this.current_frame = 0;\n",
       "    this.direction = 0;\n",
       "    this.timer = null;\n",
       "    this.frames = new Array(frames.length);\n",
       "\n",
       "    for (var i=0; i<frames.length; i++)\n",
       "    {\n",
       "     this.frames[i] = new Image();\n",
       "     this.frames[i].src = frames[i];\n",
       "    }\n",
       "    var slider = document.getElementById(this.slider_id);\n",
       "    slider.max = this.frames.length - 1;\n",
       "    if (isInternetExplorer()) {\n",
       "        // switch from oninput to onchange because IE <= 11 does not conform\n",
       "        // with W3C specification. It ignores oninput and onchange behaves\n",
       "        // like oninput. In contrast, Mircosoft Edge behaves correctly.\n",
       "        slider.setAttribute('onchange', slider.getAttribute('oninput'));\n",
       "        slider.setAttribute('oninput', null);\n",
       "    }\n",
       "    this.set_frame(this.current_frame);\n",
       "  }\n",
       "\n",
       "  Animation.prototype.get_loop_state = function(){\n",
       "    var button_group = document[this.loop_select_id].state;\n",
       "    for (var i = 0; i < button_group.length; i++) {\n",
       "        var button = button_group[i];\n",
       "        if (button.checked) {\n",
       "            return button.value;\n",
       "        }\n",
       "    }\n",
       "    return undefined;\n",
       "  }\n",
       "\n",
       "  Animation.prototype.set_frame = function(frame){\n",
       "    this.current_frame = frame;\n",
       "    document.getElementById(this.img_id).src =\n",
       "            this.frames[this.current_frame].src;\n",
       "    document.getElementById(this.slider_id).value = this.current_frame;\n",
       "  }\n",
       "\n",
       "  Animation.prototype.next_frame = function()\n",
       "  {\n",
       "    this.set_frame(Math.min(this.frames.length - 1, this.current_frame + 1));\n",
       "  }\n",
       "\n",
       "  Animation.prototype.previous_frame = function()\n",
       "  {\n",
       "    this.set_frame(Math.max(0, this.current_frame - 1));\n",
       "  }\n",
       "\n",
       "  Animation.prototype.first_frame = function()\n",
       "  {\n",
       "    this.set_frame(0);\n",
       "  }\n",
       "\n",
       "  Animation.prototype.last_frame = function()\n",
       "  {\n",
       "    this.set_frame(this.frames.length - 1);\n",
       "  }\n",
       "\n",
       "  Animation.prototype.slower = function()\n",
       "  {\n",
       "    this.interval /= 0.7;\n",
       "    if(this.direction > 0){this.play_animation();}\n",
       "    else if(this.direction < 0){this.reverse_animation();}\n",
       "  }\n",
       "\n",
       "  Animation.prototype.faster = function()\n",
       "  {\n",
       "    this.interval *= 0.7;\n",
       "    if(this.direction > 0){this.play_animation();}\n",
       "    else if(this.direction < 0){this.reverse_animation();}\n",
       "  }\n",
       "\n",
       "  Animation.prototype.anim_step_forward = function()\n",
       "  {\n",
       "    this.current_frame += 1;\n",
       "    if(this.current_frame < this.frames.length){\n",
       "      this.set_frame(this.current_frame);\n",
       "    }else{\n",
       "      var loop_state = this.get_loop_state();\n",
       "      if(loop_state == \"loop\"){\n",
       "        this.first_frame();\n",
       "      }else if(loop_state == \"reflect\"){\n",
       "        this.last_frame();\n",
       "        this.reverse_animation();\n",
       "      }else{\n",
       "        this.pause_animation();\n",
       "        this.last_frame();\n",
       "      }\n",
       "    }\n",
       "  }\n",
       "\n",
       "  Animation.prototype.anim_step_reverse = function()\n",
       "  {\n",
       "    this.current_frame -= 1;\n",
       "    if(this.current_frame >= 0){\n",
       "      this.set_frame(this.current_frame);\n",
       "    }else{\n",
       "      var loop_state = this.get_loop_state();\n",
       "      if(loop_state == \"loop\"){\n",
       "        this.last_frame();\n",
       "      }else if(loop_state == \"reflect\"){\n",
       "        this.first_frame();\n",
       "        this.play_animation();\n",
       "      }else{\n",
       "        this.pause_animation();\n",
       "        this.first_frame();\n",
       "      }\n",
       "    }\n",
       "  }\n",
       "\n",
       "  Animation.prototype.pause_animation = function()\n",
       "  {\n",
       "    this.direction = 0;\n",
       "    if (this.timer){\n",
       "      clearInterval(this.timer);\n",
       "      this.timer = null;\n",
       "    }\n",
       "  }\n",
       "\n",
       "  Animation.prototype.play_animation = function()\n",
       "  {\n",
       "    this.pause_animation();\n",
       "    this.direction = 1;\n",
       "    var t = this;\n",
       "    if (!this.timer) this.timer = setInterval(function() {\n",
       "        t.anim_step_forward();\n",
       "    }, this.interval);\n",
       "  }\n",
       "\n",
       "  Animation.prototype.reverse_animation = function()\n",
       "  {\n",
       "    this.pause_animation();\n",
       "    this.direction = -1;\n",
       "    var t = this;\n",
       "    if (!this.timer) this.timer = setInterval(function() {\n",
       "        t.anim_step_reverse();\n",
       "    }, this.interval);\n",
       "  }\n",
       "</script>\n",
       "\n",
       "<style>\n",
       ".animation {\n",
       "    display: inline-block;\n",
       "    text-align: center;\n",
       "}\n",
       "input[type=range].anim-slider {\n",
       "    width: 374px;\n",
       "    margin-left: auto;\n",
       "    margin-right: auto;\n",
       "}\n",
       ".anim-buttons {\n",
       "    margin: 8px 0px;\n",
       "}\n",
       ".anim-buttons button {\n",
       "    padding: 0;\n",
       "    width: 36px;\n",
       "}\n",
       ".anim-state label {\n",
       "    margin-right: 8px;\n",
       "}\n",
       ".anim-state input {\n",
       "    margin: 0;\n",
       "    vertical-align: middle;\n",
       "}\n",
       "</style>\n",
       "\n",
       "<div class=\"animation\">\n",
       "  <img id=\"_anim_imgee780348d66240cab331abcf4dabaee9\">\n",
       "  <div class=\"anim-controls\">\n",
       "    <input id=\"_anim_slideree780348d66240cab331abcf4dabaee9\" type=\"range\" class=\"anim-slider\"\n",
       "           name=\"points\" min=\"0\" max=\"1\" step=\"1\" value=\"0\"\n",
       "           oninput=\"animee780348d66240cab331abcf4dabaee9.set_frame(parseInt(this.value));\"></input>\n",
       "    <div class=\"anim-buttons\">\n",
       "      <button title=\"Decrease speed\" onclick=\"animee780348d66240cab331abcf4dabaee9.slower()\">\n",
       "          <i class=\"fa fa-minus\"></i></button>\n",
       "      <button title=\"First frame\" onclick=\"animee780348d66240cab331abcf4dabaee9.first_frame()\">\n",
       "        <i class=\"fa fa-fast-backward\"></i></button>\n",
       "      <button title=\"Previous frame\" onclick=\"animee780348d66240cab331abcf4dabaee9.previous_frame()\">\n",
       "          <i class=\"fa fa-step-backward\"></i></button>\n",
       "      <button title=\"Play backwards\" onclick=\"animee780348d66240cab331abcf4dabaee9.reverse_animation()\">\n",
       "          <i class=\"fa fa-play fa-flip-horizontal\"></i></button>\n",
       "      <button title=\"Pause\" onclick=\"animee780348d66240cab331abcf4dabaee9.pause_animation()\">\n",
       "          <i class=\"fa fa-pause\"></i></button>\n",
       "      <button title=\"Play\" onclick=\"animee780348d66240cab331abcf4dabaee9.play_animation()\">\n",
       "          <i class=\"fa fa-play\"></i></button>\n",
       "      <button title=\"Next frame\" onclick=\"animee780348d66240cab331abcf4dabaee9.next_frame()\">\n",
       "          <i class=\"fa fa-step-forward\"></i></button>\n",
       "      <button title=\"Last frame\" onclick=\"animee780348d66240cab331abcf4dabaee9.last_frame()\">\n",
       "          <i class=\"fa fa-fast-forward\"></i></button>\n",
       "      <button title=\"Increase speed\" onclick=\"animee780348d66240cab331abcf4dabaee9.faster()\">\n",
       "          <i class=\"fa fa-plus\"></i></button>\n",
       "    </div>\n",
       "    <form title=\"Repetition mode\" action=\"#n\" name=\"_anim_loop_selectee780348d66240cab331abcf4dabaee9\"\n",
       "          class=\"anim-state\">\n",
       "      <input type=\"radio\" name=\"state\" value=\"once\" id=\"_anim_radio1_ee780348d66240cab331abcf4dabaee9\"\n",
       "             >\n",
       "      <label for=\"_anim_radio1_ee780348d66240cab331abcf4dabaee9\">Once</label>\n",
       "      <input type=\"radio\" name=\"state\" value=\"loop\" id=\"_anim_radio2_ee780348d66240cab331abcf4dabaee9\"\n",
       "             checked>\n",
       "      <label for=\"_anim_radio2_ee780348d66240cab331abcf4dabaee9\">Loop</label>\n",
       "      <input type=\"radio\" name=\"state\" value=\"reflect\" id=\"_anim_radio3_ee780348d66240cab331abcf4dabaee9\"\n",
       "             >\n",
       "      <label for=\"_anim_radio3_ee780348d66240cab331abcf4dabaee9\">Reflect</label>\n",
       "    </form>\n",
       "  </div>\n",
       "</div>\n",
       "\n",
       "\n",
       "<script language=\"javascript\">\n",
       "  /* Instantiate the Animation class. */\n",
       "  /* The IDs given should match those used in the template above. */\n",
       "  (function() {\n",
       "    var img_id = \"_anim_imgee780348d66240cab331abcf4dabaee9\";\n",
       "    var slider_id = \"_anim_slideree780348d66240cab331abcf4dabaee9\";\n",
       "    var loop_select_id = \"_anim_loop_selectee780348d66240cab331abcf4dabaee9\";\n",
       "    var frames = new Array(2);\n",
       "\n",
       "  frames[0] = \"data:image/png;base64,iVBORw0KGgoAAAANSUhEUgAAARgAAADICAYAAAAzx/4XAAAAOXRFWHRTb2Z0d2FyZQBNYXRwbG90\\\n",
       "bGliIHZlcnNpb24zLjMuNCwgaHR0cHM6Ly9tYXRwbG90bGliLm9yZy8QVMy6AAAACXBIWXMAAAxO\\\n",
       "AAAMTgF/d4wjAAAEiElEQVR4nO3XMUptRwDG8Tn3Pd97Xg65HCxi5x4iLkBMUgYkjZUIwQ2IS0jx\\\n",
       "KrEKiiluEywlVSCNZA1ZgStQgigG5KZIPWnkY4bw+63g48ycP8wwm81Wi8Wi9GoYhlKG1iv+w6qU\\\n",
       "1WrVekXVMAz2vcEwDKXfdf/+Gj3ve79YLMr2w17rHVU//Pp9+e3L31vPqPr2z6/L8vim9Yyqo6t9\\\n",
       "+97g8PqgnN3etZ5RdbK71fW+WesBwP+XwAAxAgPECAwQIzBAjMAAMQIDxAgMECMwQIzAADECA8QI\\\n",
       "DBAjMECMwAAxAgPECAwQIzBAjMAAMQIDxAgMECMwQIzAADECA8QIDBAjMECMwAAxAgPECAwQIzBA\\\n",
       "jMAAMQIDxAgMECMwQIzAADECA8QIDBAjMECMwAAxwziOq59+XrbeUfXFp1n5tPZX6xlVT38vyuPL\\\n",
       "a+sZVePHd33vW5uVp/vn1jOq5tN63/s25l2f7/u1Dx/K2e1d6x1Vn7/bKN989WPrGVW//PG56+93\\\n",
       "srvV9b7Tnc2yPL5pPaPq6Gq/632H1wddn68nEhAjMECMwAAxAgPECAwQIzBAjMAAMQIDxAgMECMw\\\n",
       "QIzAADECA8QIDBAjMECMwAAxAgPECAwQIzBAjMAAMQIDxAgMECMwQIzAADECA8QIDBAjMECMwAAx\\\n",
       "AgPECAwQIzBAjMAAMQIDxAgMECMwQIzAADECA8QIDBAjMEDMMI7j6uL8svWOqvm0Xp7un1vPqOp+\\\n",
       "38a8PL68tp5RNX581/e+tVnf59v5/RumaVptP+y13lF1dLVflsc3rWdU9b7v8PqgnN3etZ5RdbK7\\\n",
       "1fW+053Nrs+39/vniQTECAwQIzBAjMAAMQIDxAgMECMwQIzAADECA8QIDBAjMECMwAAxAgPECAwQ\\\n",
       "IzBAjMAAMQIDxAgMECMwQIzAADECA8QIDBAjMECMwAAxAgPECAwQIzBAjMAAMQIDxAgMECMwQIzA\\\n",
       "ADECA8QIDBAjMECMwAAxAgPECAwQM4zjuLo4v2y9o2q+MS+PL6+tZ1SNa7PydP/cekbVfFq37w3c\\\n",
       "v7cZpmlabT/std5RdXh9UM5u71rPqDrd2SzL45vWM6qOrvbtewP37208kYAYgQFiBAaIERggRmCA\\\n",
       "GIEBYgQGiBEYIEZggBiBAWIEBogRGCBGYIAYgQFiBAaIERggRmCAGIEBYgQGiBEYIEZggBiBAWIE\\\n",
       "BogRGCBGYIAYgQFiBAaIERggRmCAGIEBYgQGiBEYIEZggBiBAWIEBogRGCBGYIAYgQFihnEcVxfn\\\n",
       "l613VM2n9fJ0/9x6RlX3+zbm5fHltfWMqnFt1vf36/18O983TNO02n7Ya72j6uhqvyyPb1rPqOp9\\\n",
       "3+H1QTm7vWs9o+p0Z7Pr79f7+fa+zxMJiBEYIEZggBiBAWIEBogRGCBGYIAYgQFiBAaIERggRmCA\\\n",
       "GIEBYgQGiBEYIEZggBiBAWIEBogRGCBGYIAYgQFiBAaIERggRmCAGIEBYgQGiBEYIEZggBiBAWIE\\\n",
       "BogRGCBGYIAYgQFiBAaIERggRmCAGIEBYgQGiBEYIOYf3KrIh3dSKvYAAAAASUVORK5CYII=\\\n",
       "\"\n",
       "  frames[1] = \"data:image/png;base64,iVBORw0KGgoAAAANSUhEUgAAARgAAADICAYAAAAzx/4XAAAAOXRFWHRTb2Z0d2FyZQBNYXRwbG90\\\n",
       "bGliIHZlcnNpb24zLjMuNCwgaHR0cHM6Ly9tYXRwbG90bGliLm9yZy8QVMy6AAAACXBIWXMAAAxO\\\n",
       "AAAMTgF/d4wjAAAEa0lEQVR4nO3XQUqkRwCG4fp7pmfG5ifNjxt33iHiAUSyDbhzJW68gHiELGYl\\\n",
       "roJiFr0JLj2C5CieQAmiGJDOCSqb5qNqwvOc4KOqeKGG2Wy2Xi6XpVfDMJT1et16RpV9m/kh9rUe\\\n",
       "8R+GUrre93m5XJa958PWO6pOb4/K6uy+9Ywq+zbT+76Tu+Ny+fDYekbV+cFu1/tmrQcA/18CA8QI\\\n",
       "DBAjMECMwAAxAgPECAwQIzBAjMAAMQIDxAgMECMwQIzAADECA8QIDBAjMECMwAAxAgPECAwQIzBA\\\n",
       "jMAAMQIDxAgMECMwQIzAADECA8QIDBAjMECMwAAxAgPECAwQIzBAjMAAMQIDxAgMECMwQIzAADEC\\\n",
       "A8QM4ziuf/9j1XpH1U/fZuXb/O/WM6pe/1mWl/eP1jOqxq+f+t43n5XXp7fWM6oW01bf+7YXXd/v\\\n",
       "5/mXL+Xy4bH1jqrvv26XX37+rfWMqj//+t71+Z0f7Ha972J/p6zO7lvPqDq9Pep638ndcdf364sE\\\n",
       "xAgMECMwQIzAADECA8QIDBAjMECMwAAxAgPECAwQIzBAjMAAMQIDxAgMECMwQIzAADECA8QIDBAj\\\n",
       "MECMwAAxAgPECAwQIzBAjMAAMQIDxAgMECMwQIzAADECA8QIDBAjMECMwAAxAgPECAwQIzBAjMAA\\\n",
       "MQIDxAgMEDOM47i+vrppvaNqMW2V16e31jOqut+3vSgv7x+tZ1SNXz/1vW8+6/t+O39/wzRN673n\\\n",
       "w9Y7qk5vj8rq7L71jKre953cHZfLh8fWM6rOD3a73nexv9P1/fb+/nyRgBiBAWIEBogRGCBGYIAY\\\n",
       "gQFiBAaIERggRmCAGIEBYgQGiBEYIEZggBiBAWIEBogRGCBGYIAYgQFiBAaIERggRmCAGIEBYgQG\\\n",
       "iBEYIEZggBiBAWIEBogRGCBGYIAYgQFiBAaIERggRmCAGIEBYgQGiBEYIEZggBiBAWKGcRzX11c3\\\n",
       "rXdULbYX5eX9o/WMqnE+K69Pb61nVC2mLfs24P1tZpimab33fNh6R9XJ3XG5fHhsPaPqYn+nrM7u\\\n",
       "W8+oOr09sm8D3t9mfJGAGIEBYgQGiBEYIEZggBiBAWIEBogRGCBGYIAYgQFiBAaIERggRmCAGIEB\\\n",
       "YgQGiBEYIEZggBiBAWIEBogRGCBGYIAYgQFiBAaIERggRmCAGIEBYgQGiBEYIEZggBiBAWIEBogR\\\n",
       "GCBGYIAYgQFiBAaIERggRmCAGIEBYoZxHNfXVzetd1Qtpq3y+vTWekZV9/u2F+Xl/aP1jKpxPuv7\\\n",
       "/Hq/3873DdM0rfeeD1vvqDq9PSqrs/vWM6p633dyd1wuHx5bz6i62N/p+vx6v9/e9/kiATECA8QI\\\n",
       "DBAjMECMwAAxAgPECAwQIzBAjMAAMQIDxAgMECMwQIzAADECA8QIDBAjMECMwAAxAgPECAwQIzBA\\\n",
       "jMAAMQIDxAgMECMwQIzAADECA8QIDBAjMECMwAAxAgPECAwQIzBAjMAAMQIDxAgMECMwQIzAADEC\\\n",
       "A8T8CyrSyocTa0YAAAAAAElFTkSuQmCC\\\n",
       "\"\n",
       "\n",
       "\n",
       "    /* set a timeout to make sure all the above elements are created before\n",
       "       the object is initialized. */\n",
       "    setTimeout(function() {\n",
       "        animee780348d66240cab331abcf4dabaee9 = new Animation(frames, img_id, slider_id, 149.0,\n",
       "                                 loop_select_id);\n",
       "    }, 0);\n",
       "  })()\n",
       "</script>\n"
      ],
      "text/plain": [
       "<IPython.core.display.HTML object>"
      ]
     },
     "metadata": {},
     "output_type": "display_data"
    }
   ],
   "source": [
    "rw.animate(world)"
   ]
  },
  {
   "cell_type": "markdown",
   "id": "activated-signature",
   "metadata": {},
   "source": [
    "Ist dieser Algorithmus besonders klever?\n",
    "Nein!\n",
    "Der Algorithmus ist sehr einfach und benötigt unter Umständen sehr viel Rechenzeit.\n",
    "Dennoch zeigt dieses Beispiel, dass die Wiederholung von einfachen Befehlen zu komplexen Lösungen führen können!\n",
    "\n",
    "```{admonition} Wiederholung und Codekomplexität\n",
    ":class: hint\n",
    "*Wiederholung* trennt den Aufwand zum Lösen einer Aufgabe von der Komplexität des Codes.\n",
    "Eine Berechnung kann enorm aufwendig sein und dennoch benötigen wir wenig Denkarbeit (wenig Code) um einen Algorithmus für die Lösung zu entwerfen!\n",
    "```\n",
    "\n",
    "## Die ``for``-Schleife\n",
    "\n",
    "Die ``for``-Schleife verwenden wir immer dann, wenn wir (zur Laufzeit) wissen wie viele Wiederholungen wir **maximal** benötigen.\n",
    "Dabei wollen wir entweder\n",
    "\n",
    "1. für eine bestimmte Anzahl $n \\in \\mathbb{N}$, oder\n",
    "2. für jedes Element einer *Datenstruktur* (Liste, Tupel, usw.)\n",
    "\n",
    "einen Befehlsblock ausführen.\n",
    "\n",
    "Im zweiten Fall spricht man auch von der sog. *Foreach-Schleife*.\n",
    "Durch den Zahlenbereich ``range()`` reduziert ``Python`` den ersten Fall auf den zweiten.\n",
    "\n",
    "### Die klassische ``for``-Schleife (Fall 1)\n",
    "\n",
    "```python\n",
    "n = ...\n",
    "for i in range(n):\n",
    "    # Codeblock\n",
    "```\n",
    "\n",
    "Der Name der *Zählervariable* (hier ``i``) kann frei gewählt werden, allerdings verwendet man für Fall 1 gewöhnlich: ``i``, ``j`` oder ``k``."
   ]
  },
  {
   "cell_type": "code",
   "execution_count": 5,
   "id": "binary-motel",
   "metadata": {},
   "outputs": [
    {
     "name": "stdout",
     "output_type": "stream",
     "text": [
      "0\n",
      "1\n",
      "4\n",
      "9\n",
      "16\n",
      "25\n",
      "36\n",
      "49\n",
      "64\n",
      "81\n"
     ]
    }
   ],
   "source": [
    "for i in range(10):\n",
    "    print(i**2)"
   ]
  },
  {
   "cell_type": "markdown",
   "id": "metropolitan-bailey",
   "metadata": {},
   "source": [
    "Will man andeutet, dass die *Zählervariable* nicht benötigt wird, so verwendet man den ``_`` als ihren Namen."
   ]
  },
  {
   "cell_type": "code",
   "execution_count": 6,
   "id": "pleased-light",
   "metadata": {},
   "outputs": [
    {
     "name": "stdout",
     "output_type": "stream",
     "text": [
      "42 ist die Antwort!\n",
      "42 ist die Antwort!\n",
      "42 ist die Antwort!\n",
      "42 ist die Antwort!\n",
      "42 ist die Antwort!\n",
      "42 ist die Antwort!\n",
      "42 ist die Antwort!\n",
      "42 ist die Antwort!\n",
      "42 ist die Antwort!\n",
      "42 ist die Antwort!\n"
     ]
    }
   ],
   "source": [
    "for _ in range(10):\n",
    "    print('42 ist die Antwort!')"
   ]
  },
  {
   "cell_type": "markdown",
   "id": "mechanical-permit",
   "metadata": {},
   "source": [
    "### Die Foreach-Schleife (Fall 2)\n",
    "\n",
    "```python\n",
    "sequenz = ... # some Sequenz of Elements\n",
    "for element in sequenz:\n",
    "    # Codeblock\n",
    "```\n",
    "\n",
    "Der Name mit dem wir die Elemente der Sequenz ansprechen (hier ``element``) kann frei gewählt werden und sollte beschreiben über welche Elemente wir *iterieren*."
   ]
  },
  {
   "cell_type": "code",
   "execution_count": 7,
   "id": "infrared-import",
   "metadata": {},
   "outputs": [
    {
     "name": "stdout",
     "output_type": "stream",
     "text": [
      "Sarah\n",
      "Sebastian\n",
      "Babar\n",
      "Simon\n",
      "Martin\n"
     ]
    }
   ],
   "source": [
    "names = ['Sarah', 'Sebastian', 'Babar', 'Simon', 'Martin']\n",
    "\n",
    "for name in names:\n",
    "    print(name)"
   ]
  },
  {
   "cell_type": "markdown",
   "id": "independent-anthropology",
   "metadata": {},
   "source": [
    "``range()`` ist, genau wie eine Liste und ein Tupel, auch eine *Sequenz*.\n",
    "Eine ``for``-Schleife läuft über die Einträge einer *Sequenz* oder anderer *iterierbarer* Strukturen.\n",
    "\n",
    "Es kann durchaus sein, dass wir die ``for``-Schleife auch dann verwenden, wenn nicht genau klar ist wie viele Wiederholungen wir benötigen, sondern nur klar ist, wie viele Wiederholungen wir **maximal** benötigen.\n",
    "\n",
    "Nehmen wir den Test ob eine Zahl $n$ eine Primzahl ist.\n",
    "Ein einfacher Algorithmus für den Test, testet für jede Zahl $2 \\leq m < n$ ob $m$ die Zahl $n$ teilt.\n",
    "Wenn dies der Fall ist, ist $n$ keine Primzahl und wir können die Wiederholung stoppen.\n",
    "Wir wissen demnach, dass wir maximal $n-m-3$ Wiederholungen benötigen.\n",
    "Es könnten jedoch auch weniger sein:"
   ]
  },
  {
   "cell_type": "code",
   "execution_count": 8,
   "id": "opposed-industry",
   "metadata": {},
   "outputs": [
    {
     "name": "stdout",
     "output_type": "stream",
     "text": [
      "True\n",
      "True\n",
      "False\n",
      "True\n"
     ]
    }
   ],
   "source": [
    "def is_prime(n):\n",
    "    prime = True\n",
    "    for i in range(2, n):\n",
    "        if n % i == 0:\n",
    "            prime = False\n",
    "            break\n",
    "    return prime\n",
    "\n",
    "print(is_prime(2))\n",
    "print(is_prime(13))\n",
    "print(is_prime(25))\n",
    "print(is_prime(83))"
   ]
  },
  {
   "cell_type": "markdown",
   "id": "comparative-proposal",
   "metadata": {},
   "source": [
    "Um die ``for``-Schleife frühzeitig zu beenden verwenden wir ``break``.\n",
    "Mit ``break`` springen wir aus der **innersten** Schleife heraus.\n",
    "Wir könnten stattdessen auch ``return`` verwenden, um aus der Funktion herauszuspringen:"
   ]
  },
  {
   "cell_type": "code",
   "execution_count": 9,
   "id": "serious-facial",
   "metadata": {},
   "outputs": [
    {
     "name": "stdout",
     "output_type": "stream",
     "text": [
      "True\n",
      "True\n",
      "False\n",
      "True\n"
     ]
    }
   ],
   "source": [
    "def is_prime(n):\n",
    "    for i in range(2, n):\n",
    "        if n % i == 0:\n",
    "            return False\n",
    "    return True\n",
    "\n",
    "print(is_prime(2))\n",
    "print(is_prime(13))\n",
    "print(is_prime(25))\n",
    "print(is_prime(83))"
   ]
  },
  {
   "cell_type": "markdown",
   "id": "eight-amplifier",
   "metadata": {},
   "source": [
    "Eine weitere Steuermöglichkeit bietet ``continue``.\n",
    "Mit ``continue`` springen wir nicht aus der Schleife heraus sondern springen zurück zum Schleifenkopf.\n",
    "Der Code nach ``continue`` wird übersprungen:"
   ]
  },
  {
   "cell_type": "code",
   "execution_count": 10,
   "id": "fatal-hamburg",
   "metadata": {},
   "outputs": [
    {
     "name": "stdout",
     "output_type": "stream",
     "text": [
      "0\n",
      "2\n",
      "4\n",
      "6\n",
      "8\n"
     ]
    },
    {
     "data": {
      "text/plain": [
       "[0, 4, 8, 12, 16]"
      ]
     },
     "execution_count": 10,
     "metadata": {},
     "output_type": "execute_result"
    }
   ],
   "source": [
    "def double_even_numbers(numbers):\n",
    "    result = []\n",
    "    for number in numbers:\n",
    "        if number % 2 == 1:\n",
    "            continue\n",
    "            \n",
    "        print(number)\n",
    "        result.append(number*2)\n",
    "    return result\n",
    "numbers = list(range(10))\n",
    "double_even_numbers(numbers)"
   ]
  },
  {
   "cell_type": "markdown",
   "id": "emotional-deputy",
   "metadata": {},
   "source": [
    "Allerdings braucht man ``continue`` so gut wie nie und wenn es verwendet wird handelt es sich oftmals um schlecht leserlichen Code."
   ]
  },
  {
   "cell_type": "code",
   "execution_count": 11,
   "id": "compound-shark",
   "metadata": {},
   "outputs": [
    {
     "name": "stdout",
     "output_type": "stream",
     "text": [
      "0\n",
      "2\n",
      "4\n",
      "6\n",
      "8\n"
     ]
    },
    {
     "data": {
      "text/plain": [
       "[0, 4, 8, 12, 16]"
      ]
     },
     "execution_count": 11,
     "metadata": {},
     "output_type": "execute_result"
    }
   ],
   "source": [
    "def double_even_numbers(numbers):\n",
    "    result = []\n",
    "    for number in numbers:\n",
    "        if number % 2 == 0:    \n",
    "            print(number)\n",
    "            result.append(number*2)\n",
    "    return result\n",
    "numbers = list(range(10))\n",
    "double_even_numbers(numbers)"
   ]
  },
  {
   "cell_type": "markdown",
   "id": "polyphonic-mirror",
   "metadata": {},
   "source": [
    "```{admonition} Kontrollmechanismen der for-Schleife\n",
    ":class: hint\n",
    "Gehen Sie sparsam mit ``break`` und ``continue`` um, oftmals brauchen Sie es nicht!\n",
    "```\n",
    "\n",
    "### Die ``while``-Schleife\n",
    "\n",
    "Die ``while``-Schleife verwenden wir immer dann, wenn wir (zur Laufzeit) **nicht** wissen wie viele Wiederholungen wir maximal benötigen.\n",
    "Die Wiederholung endet sobald eine bestimmte Bedingung, d.h. ein *logischer Ausdruck* ``P`` zu ``False`` ausgewertet wird.\n",
    "\n",
    "```python\n",
    "while P:\n",
    "    # Codeblock1\n",
    "else:\n",
    "    # Codeblock2\n",
    "```\n",
    "\n",
    "``Codeblock2`` wird einmal ausgeführt sobald ``P`` zu ``False`` ausgewertet wird und die ``while``-Schleife verlassen wird, d.h. als letzter Schritt.\n",
    "\n",
    "```{admonition} Endlosschleifen\n",
    ":class: warning\n",
    "Wird ``P`` niemals ``False`` endet die Wiederholung niemals und wir haben eine sog. *Endlosschleife*!\n",
    "```"
   ]
  },
  {
   "cell_type": "code",
   "execution_count": 12,
   "id": "derived-pride",
   "metadata": {},
   "outputs": [
    {
     "name": "stdout",
     "output_type": "stream",
     "text": [
      "1\n",
      "2\n",
      "3\n",
      "4\n",
      "5\n",
      "6\n",
      "7\n",
      "8\n",
      "9\n",
      "10\n",
      "end of the while-loop\n"
     ]
    }
   ],
   "source": [
    "i = 0\n",
    "while i < 10:\n",
    "    i += 1\n",
    "    print(i)\n",
    "else:\n",
    "    print('end of the while-loop')"
   ]
  },
  {
   "cell_type": "markdown",
   "id": "designing-lingerie",
   "metadata": {},
   "source": [
    "```{admonition} Mächtigkeit der While-Schleife\n",
    ":class: important\n",
    "Jede ``for``-Schleife lässt sich in eine ``while``-Schleife transformieren!\n",
    "```"
   ]
  },
  {
   "cell_type": "code",
   "execution_count": 13,
   "id": "inappropriate-speech",
   "metadata": {},
   "outputs": [
    {
     "name": "stdout",
     "output_type": "stream",
     "text": [
      "Sarah\n",
      "Sebastian\n",
      "Babar\n",
      "Simon\n",
      "Martin\n",
      "\n",
      "Sarah\n",
      "Sebastian\n",
      "Babar\n",
      "Simon\n",
      "Martin\n"
     ]
    }
   ],
   "source": [
    "names = ['Sarah', 'Sebastian', 'Babar', 'Simon', 'Martin']\n",
    "\n",
    "for name in names:\n",
    "    print(name)\n",
    "\n",
    "print()\n",
    "\n",
    "i = 0\n",
    "while i < len(names):\n",
    "    print(names[i])\n",
    "    i += 1"
   ]
  },
  {
   "cell_type": "markdown",
   "id": "superior-creator",
   "metadata": {},
   "source": [
    "``while``-Schleifen sind mächtiger aber auch gefährlicher bzw. oftmals schwerer zu lesen und zu verstehen als ``for``-Schleifen.\n",
    "\n",
    "```{admonition} Verwendungskriterium\n",
    ":class: hint\n",
    "Verwenden Sie die ``while``-Schleife nur wenn die ``for``-Schleife ungeeignet ist.\n",
    "```\n",
    "\n",
    "``break`` und ``continue`` funktionieren für die ``while``-Schleife genauso wie für die ``for``-Schleife.\n",
    "\n",
    "```{admonition} Verwendungskriterium While-Schleife\n",
    ":class: hint\n",
    "Gehen Sie sparsam mit ``break`` und ``continue`` um, oftmals brauchen Sie es nicht!\n",
    "```\n",
    "\n",
    "Folgender Code zeigt eine unnötige Verwendung von ``continue``."
   ]
  },
  {
   "cell_type": "code",
   "execution_count": 14,
   "id": "tired-challenge",
   "metadata": {},
   "outputs": [
    {
     "name": "stdout",
     "output_type": "stream",
     "text": [
      "1\n",
      "3\n",
      "5\n",
      "7\n",
      "9\n"
     ]
    }
   ],
   "source": [
    "# bad code!!!\n",
    "i = 0\n",
    "while i < 10:\n",
    "    i += 1\n",
    "    if i % 2 == 0:\n",
    "        continue\n",
    "    print(i)"
   ]
  },
  {
   "cell_type": "markdown",
   "id": "regulated-cleaning",
   "metadata": {},
   "source": [
    "Stattdessen können wir die ``if``-Bedingung anpassen."
   ]
  },
  {
   "cell_type": "code",
   "execution_count": 15,
   "id": "continued-competition",
   "metadata": {},
   "outputs": [
    {
     "name": "stdout",
     "output_type": "stream",
     "text": [
      "1\n",
      "3\n",
      "5\n",
      "7\n",
      "9\n"
     ]
    }
   ],
   "source": [
    "# better!\n",
    "i = 0\n",
    "while i < 10:\n",
    "    i += 1\n",
    "    if i % 2 == 1:\n",
    "        print(i)"
   ]
  },
  {
   "cell_type": "markdown",
   "id": "awful-edwards",
   "metadata": {},
   "source": [
    "Oder aber einfach die Zählervariable um zwei statt um eins erhöhen."
   ]
  },
  {
   "cell_type": "code",
   "execution_count": 16,
   "id": "expected-defense",
   "metadata": {},
   "outputs": [
    {
     "name": "stdout",
     "output_type": "stream",
     "text": [
      "1\n",
      "3\n",
      "5\n",
      "7\n",
      "9\n"
     ]
    }
   ],
   "source": [
    "# even better!\n",
    "i = 1\n",
    "while i < 10:      \n",
    "    print(i)\n",
    "    i += 2"
   ]
  },
  {
   "cell_type": "markdown",
   "id": "quality-sussex",
   "metadata": {},
   "source": [
    "Am einfachsten zu lesen bleibt jedoch die ``for``-Schleife."
   ]
  },
  {
   "cell_type": "code",
   "execution_count": 17,
   "id": "green-climb",
   "metadata": {},
   "outputs": [
    {
     "name": "stdout",
     "output_type": "stream",
     "text": [
      "1\n",
      "3\n",
      "5\n",
      "7\n",
      "9\n"
     ]
    }
   ],
   "source": [
    "# even better!\n",
    "for i in range(1,10,2):\n",
    "  print(i)"
   ]
  },
  {
   "cell_type": "markdown",
   "id": "external-administrator",
   "metadata": {},
   "source": [
    "```{admonition} Verhindern von Endlosschleifen\n",
    ":class: hint\n",
    "Prüfen Sie immer ob Ihre Bedingung ``P`` durch den Schleifenrumpf garantiert irgendwann ``False`` ergibt!\n",
    "```\n",
    "\n",
    "\n",
    "## Beispiel (ggT)\n",
    "\n",
    "Lassen Sie uns Euklid's Algorithmus ``gcd(m,n)`` zum finden des Größter gemeinsamer Teiler (ggT) zweier ganzer Zahlen von $m$ und $n$ implementieren.\n",
    "\n",
    "Euklid's Algorithmus geht wie folgt vor:\n",
    "\n",
    "1. Berechne den Restwert der Division $m / n$ (Modulodivision). Sei dieser gleich $r$.\n",
    "2. Setze $m \\leftarrow n$, $n \\leftarrow r$ und gehe zurück zu Schritt 1.\n",
    "3. Falls $r = 0$ (und somit $n = 0$), so ist der Algorithmus beendet. Das Ergebnis (ggT) ist $m$. Ansonsten fahre fort."
   ]
  },
  {
   "cell_type": "code",
   "execution_count": 18,
   "id": "narrow-crawford",
   "metadata": {},
   "outputs": [
    {
     "data": {
      "text/plain": [
       "12"
      ]
     },
     "execution_count": 18,
     "metadata": {},
     "output_type": "execute_result"
    }
   ],
   "source": [
    "def gcd(m, n):\n",
    "    while n != 0:\n",
    "        r = m % n\n",
    "        m = n\n",
    "        n = r\n",
    "    return m\n",
    "gcd(36, 24)"
   ]
  },
  {
   "cell_type": "markdown",
   "id": "dental-killing",
   "metadata": {},
   "source": [
    "Durch das packing bzw. unpacking (siehe [Tupel](sec-tuple)) können wir den Code noch verkürzen:"
   ]
  },
  {
   "cell_type": "code",
   "execution_count": 19,
   "id": "monthly-wilderness",
   "metadata": {},
   "outputs": [
    {
     "data": {
      "text/plain": [
       "12"
      ]
     },
     "execution_count": 19,
     "metadata": {},
     "output_type": "execute_result"
    }
   ],
   "source": [
    "def gcd(m, n):\n",
    "    while n != 0:\n",
    "        m, n = n, m % n\n",
    "    return m\n",
    "gcd(36, 24)"
   ]
  }
 ],
 "metadata": {
  "jupytext": {
   "formats": "md:myst",
   "text_representation": {
    "extension": ".md",
    "format_name": "myst"
   }
  },
  "kernelspec": {
   "display_name": "Python 3",
   "language": "python",
   "name": "python3"
  },
  "language_info": {
   "codemirror_mode": {
    "name": "ipython",
    "version": 3
   },
   "file_extension": ".py",
   "mimetype": "text/x-python",
   "name": "python",
   "nbconvert_exporter": "python",
   "pygments_lexer": "ipython3",
   "version": "3.9.8"
  },
  "source_map": [
   11,
   34,
   39,
   55,
   64,
   68,
   73,
   77,
   79,
   115,
   118,
   122,
   125,
   137,
   142,
   155,
   168,
   174,
   185,
   191,
   203,
   207,
   217,
   243,
   250,
   257,
   269,
   287,
   295,
   299,
   306,
   310,
   316,
   320,
   324,
   342,
   350,
   354
  ]
 },
 "nbformat": 4,
 "nbformat_minor": 5
}