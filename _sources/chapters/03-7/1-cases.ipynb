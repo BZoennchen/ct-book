{
 "cells": [
  {
   "cell_type": "markdown",
   "id": "olive-hours",
   "metadata": {},
   "source": [
    "(sec-cases)=\n",
    "# Fallunterscheidungen\n",
    "\n",
    "Für eine Fallunterscheidung können wir für jeden Fall $i$ einen bestimmten Codeblock $B_i$ definieren.\n",
    "Dieser wird genau dann ausgeführt sofern ein logischer Ausdruck $P_i$ wahr, d.h. ``True`` ergibt und kein anderer logischer Ausdruck $P_j$ für $j < i$ bereits ``True`` ergeben hat.\n",
    "In anderen Worten, der Fall $i$ trifft zu und kein Fall davor ist bereits eingetreten.\n",
    "\n",
    "Damit führt eine Fallunterscheidung zur Ausführung von **höchstens** einer der Codeblöcke $B_0, \\ldots, B_n$.\n",
    "Trifft keiner der Fälle zu, d.h. kein $P_i$ ergibt ``True`` und es ist kein Alternativfall (``else``) definiert, so wird keiner der Codeblöcke ausgeführt.\n",
    "Eine Fallunterscheidung beginnt immer mit dem ``if``-Signalwort!\n",
    "\n",
    "## ``if``\n",
    "\n",
    "Die einfachste Form der Fallunterscheidung prüft ob ein logischer Ausdruck $P_0$ eingetreten.\n",
    "Nur wenn dies zutrifft, wird der Codeblock $B_0$ ausgeführt:\n",
    "\n",
    "```python\n",
    "if P0:\n",
    "    B0\n",
    "```"
   ]
  },
  {
   "cell_type": "code",
   "execution_count": null,
   "id": "colonial-norman",
   "metadata": {},
   "outputs": [],
   "source": [
    "x = 2\n",
    "\n",
    "if x <= 2:\n",
    "    x += 1\n",
    "    print(f'x: {x}')"
   ]
  },
  {
   "cell_type": "markdown",
   "id": "greenhouse-horizon",
   "metadata": {},
   "source": [
    "## ``if``-``else``\n",
    "\n",
    "In der nächsten Variante wird ein Codeblock $B_0$ nur dann ausgeführt, sofern ein logischer Ausdruck $P_0$ ``True`` ergibt.\n",
    "Ist dies nicht der Fall, so wird ein Alternativblock (``else``) $B_1$ ausgeführt.\n",
    "\n",
    "```python\n",
    "if P0:\n",
    "    B0\n",
    "else:\n",
    "    B1\n",
    "```"
   ]
  },
  {
   "cell_type": "code",
   "execution_count": null,
   "id": "surface-correlation",
   "metadata": {},
   "outputs": [],
   "source": [
    "x = 2\n",
    "\n",
    "if x <= 2:\n",
    "    x += 1\n",
    "    print(f'x: {x}')\n",
    "else:\n",
    "    print(f'x > 2')\n",
    "print(x)"
   ]
  },
  {
   "cell_type": "markdown",
   "id": "crude-japanese",
   "metadata": {},
   "source": [
    "## ``if``-``elif``\n",
    "\n",
    "In der nächsten Variante wird höchstens ein Codeblock $B_i$ nur dann ausgeführt, sofern ein logischer Ausdruck $P_i$ ``True`` ergibt.\n",
    "Gibt es mehr als einen logischen Ausdruck $P_i$ welcher ``True`` ergibt, so wird der erste Codeblock (der mit dem kleinsten $i$) ausgeführt.\n",
    "\n",
    "```python\n",
    "if P0:\n",
    "    B0\n",
    "elif P1:\n",
    "    B1\n",
    "elif P2\n",
    "    B2\n",
    "...\n",
    "```"
   ]
  },
  {
   "cell_type": "code",
   "execution_count": null,
   "id": "identified-local",
   "metadata": {},
   "outputs": [],
   "source": [
    "x = 2\n",
    "\n",
    "if x <= 2:\n",
    "    print(f'x <= 2')\n",
    "    x += 1\n",
    "elif x <= 5:\n",
    "    print(f'x <= 5')\n",
    "    x += 2\n",
    "elif x <= 6:\n",
    "    print(f'x <= 4')\n",
    "    x += 6\n",
    "print(x)"
   ]
  },
  {
   "cell_type": "markdown",
   "id": "oriented-spirituality",
   "metadata": {},
   "source": [
    "## ``if``-``elif``-``else``\n",
    "\n",
    "In der nächsten Variante wird genau ein Codeblock $B_i$ nur dann ausgeführt, sofern ein logischer Ausdruck $P_i$ ``True`` ergibt. Gibt es mehr als einen logischen Ausdruck $P_i$ welcher ``True`` ergibt, so wird der erste Codeblock (der mit dem kleinsten $i$) ausgeführt.\n",
    "Trifft kein Fall zu, wird der Alternativblock $B_n$ ausgeführt.\n",
    "\n",
    "```python\n",
    "if P0:\n",
    "    B0\n",
    "elif P1:\n",
    "    B1\n",
    "elif P2\n",
    "    B2\n",
    "...\n",
    "else:\n",
    "    Bn\n",
    "```"
   ]
  },
  {
   "cell_type": "code",
   "execution_count": null,
   "id": "hungry-balloon",
   "metadata": {},
   "outputs": [],
   "source": [
    "x = 2\n",
    "\n",
    "if x <= 2:\n",
    "    print(f'x <= 2')\n",
    "    x += 1\n",
    "elif x <= 5:\n",
    "    print(f'x <= 5')\n",
    "    x += 2\n",
    "elif x <= 7:\n",
    "    print(f'x <= 7')\n",
    "    x += 10\n",
    "else:\n",
    "    print(f'x > 2 and x > 5 and x > 7')\n",
    "    x = 2   \n",
    "print(x)"
   ]
  },
  {
   "cell_type": "markdown",
   "id": "recovered-metallic",
   "metadata": {},
   "source": [
    "## ``if``-``if``-``else``\n",
    "\n",
    "Aufeinanderfolgende ``if``-Statements sind nicht eine sondern mehrere Fallunterscheidungen, denn jedes ``if``-Statement leitet eine neue Fallunterscheidung ein!"
   ]
  },
  {
   "cell_type": "code",
   "execution_count": null,
   "id": "closed-attraction",
   "metadata": {},
   "outputs": [],
   "source": [
    "x = 2\n",
    "\n",
    "if x <= 2:\n",
    "    print(f'x <= 2')\n",
    "    x += 1\n",
    "if x <= 5:\n",
    "    print(f'x <= 5')\n",
    "    x += 2\n",
    "if x <= 7:\n",
    "    print(f'x <= 7')\n",
    "    x += 10\n",
    "else:\n",
    "    print(f'x > 2 and x > 5 and x > 7')\n",
    "    x = 2   \n",
    "print(x)"
   ]
  },
  {
   "cell_type": "markdown",
   "id": "divided-desire",
   "metadata": {},
   "source": [
    "```{admonition} Aufeinander folgende Fallunterscheidungen\n",
    ":class: remark\n",
    ":name: remark-multi-cases\n",
    "Es ist zu empfehlen aufeinanderfolgende ``if``-Statements durch eine Leerzeile zu trennen.\n",
    "```"
   ]
  },
  {
   "cell_type": "code",
   "execution_count": null,
   "id": "decreased-shore",
   "metadata": {},
   "outputs": [],
   "source": [
    "x = 2\n",
    "\n",
    "if x <= 2:\n",
    "    print(f'x <= 2')\n",
    "    x += 1\n",
    "    \n",
    "if x <= 5:\n",
    "    print(f'x <= 5')\n",
    "    x += 2\n",
    "    \n",
    "if x <= 7:\n",
    "    print(f'x <= 7')\n",
    "    x += 10\n",
    "else:\n",
    "    print(f'x > 2 and x > 5 and x > 7')\n",
    "    x = 2   \n",
    "print(x)"
   ]
  },
  {
   "cell_type": "markdown",
   "id": "south-slovak",
   "metadata": {},
   "source": [
    "## Verschachtelung\n",
    "\n",
    "Selbstverständlich kann ein Codeblock $B_i$ erneut eine oder mehrere Fallunterscheidungen enthalten.\n",
    "Und selbstverständlich können wir Fallunterscheidungen in Funktionen einbauen."
   ]
  },
  {
   "cell_type": "code",
   "execution_count": null,
   "id": "dutch-allocation",
   "metadata": {},
   "outputs": [],
   "source": [
    "def nested_branching(x, y):\n",
    "    if x > 2:\n",
    "        if y < 2:\n",
    "            out = x + y\n",
    "        else:\n",
    "            out = x - y\n",
    "    else:\n",
    "        if y > 2:\n",
    "            out = x * y\n",
    "        else:\n",
    "            out = 0\n",
    "    return out\n",
    "\n",
    "print(nested_branching(3, 1))\n",
    "print(nested_branching(3, 2))\n",
    "print(nested_branching(1, 3))\n",
    "print(nested_branching(1, 1))"
   ]
  },
  {
   "cell_type": "markdown",
   "id": "naval-resource",
   "metadata": {},
   "source": [
    "Wir können häufig verschachtelte Fallunterscheidungen auflösen. Zum Beispiel können wir die Funktion auch wie folgt definieren:"
   ]
  },
  {
   "cell_type": "code",
   "execution_count": null,
   "id": "manufactured-curve",
   "metadata": {},
   "outputs": [],
   "source": [
    "def nested_branching(x, y):\n",
    "    if x > 2 and y < 2:\n",
    "        out = x + y\n",
    "    elif x > 2:\n",
    "        out = x - y\n",
    "    elif x <= 2 and y > 2:\n",
    "        out = x * y\n",
    "    else:\n",
    "        out = 0\n",
    "    return out\n",
    "\n",
    "print(nested_branching(3, 1))\n",
    "print(nested_branching(3, 2))\n",
    "print(nested_branching(1, 3))\n",
    "print(nested_branching(1, 1))"
   ]
  },
  {
   "cell_type": "markdown",
   "id": "chinese-glass",
   "metadata": {},
   "source": [
    "Es ist eine Frage der **Lesbarkeit**, welche Variante besser ist. \n",
    "In der zweiten Version haben wir zwar eine niedrigere Verschachtellung, allerdings sehen wir nicht sofort, dass die ersten Fälle \n",
    "\n",
    "```python\n",
    "if x > 2 and y < 2:\n",
    "        out = x + y\n",
    "elif x > 2:\n",
    "    out = x - y\n",
    "...\n",
    "```\n",
    "\n",
    "und die beiden letzten Teile\n",
    "\n",
    "```python\n",
    "...\n",
    "elif x <= 2 and y > 2:\n",
    "    out = x * y\n",
    "else:\n",
    "    out = 0\n",
    "```\n",
    "\n",
    "eine Entweder-Oder-Beziehung besitzen. \n",
    "Zudem haben wir zweimal den logischen Ausdruck ``x > 2``.\n",
    "\n",
    "Einen Block der Art:\n",
    "\n",
    "```python\n",
    "if P0:\n",
    "    if P1:\n",
    "        if P2:\n",
    "            if P3:\n",
    "                ...\n",
    "```\n",
    "\n",
    "lässt sich immer in \n",
    "\n",
    "```python\n",
    "if P0 and P1 and P2 and P3 ...:\n",
    "```\n",
    "\n",
    "umwandeln.\n",
    "\n",
    "## Schnellschreibweise\n",
    "\n",
    "``Python`` erlaubt es uns einen Ausdruck der Form\n",
    "\n",
    "```python\n",
    "if P0:\n",
    "    x = A0\n",
    "else:\n",
    "    x = A1\n",
    "```\n",
    "\n",
    "als \n",
    "\n",
    "```python\n",
    "x = A0 if P0 else A1\n",
    "````\n",
    "\n",
    "zu schreiben."
   ]
  },
  {
   "cell_type": "code",
   "execution_count": null,
   "id": "racial-omega",
   "metadata": {},
   "outputs": [],
   "source": [
    "y = 12\n",
    "x = 0 if y % 2 == 0 else 1\n",
    "x"
   ]
  },
  {
   "cell_type": "markdown",
   "id": "neither-grass",
   "metadata": {},
   "source": [
    "Diese Schreibweise lässt sich gut mit sog. [Comprehension](sec-comprehension) verbinden:"
   ]
  },
  {
   "cell_type": "code",
   "execution_count": null,
   "id": "union-interpretation",
   "metadata": {},
   "outputs": [],
   "source": [
    "numbers = list(range(10))\n",
    "even = [True if x % 2 == 0 else False for x in numbers]\n",
    "print(f'numbers: {numbers}')\n",
    "print(f'even: {even}')"
   ]
  },
  {
   "cell_type": "markdown",
   "id": "german-completion",
   "metadata": {},
   "source": [
    "## Beispiel (quadratische Gleichungen)\n",
    "\n",
    "Sei $f(x) = ax^2 + bx + c$ mit konstanten Zahlen $a, b, c \\in \\mathbb{R}$. Wir wissen, dass $f(x) = 0$ für\n",
    "\n",
    "$$x_{1,2} = \\frac{-b \\pm \\sqrt{b^2 - 4ac}}{2a}$$\n",
    "\n",
    "sofern $b^2 - 4ac >= 0$.\n",
    "Lassen Sie uns eine Funktion ``solve_quadratic(a, b, c)`` entwerfen, welche uns alle $x_{1,2}$ berechnet. \n",
    "Es gibt eine, zwei oder keine Lösung.\n",
    "\n",
    "Lassen Sie uns als erstes eine Funktion entwerfen, die testet ob eine Fließkommazahl annähernd gleich null ist.\n",
    "Beachten Sie: [Fließkommazahlen](sec-float) sind lediglich eine Annäherung des echten Wertes und damit ist der exakte Vergleich ``==`` ungeeignet.\n",
    "Stattdessen ist unsere Fließkommazahl ``x`` gleich null, falls sie annähernd gleich null ist."
   ]
  },
  {
   "cell_type": "code",
   "execution_count": null,
   "id": "portuguese-wayne",
   "metadata": {},
   "outputs": [],
   "source": [
    "def is_zero(x):\n",
    "    epsilon = 1.0e-12\n",
    "    return -epsilon < x < 1.0e-12"
   ]
  },
  {
   "cell_type": "markdown",
   "id": "decimal-centre",
   "metadata": {},
   "source": [
    "Lassen Sie uns nun die quadratische Gleichung lösen.\n",
    "Dazu müssen wir lediglich die Formel für $x_{1,2}$ implementieren:"
   ]
  },
  {
   "cell_type": "code",
   "execution_count": null,
   "id": "portable-japanese",
   "metadata": {},
   "outputs": [],
   "source": [
    "def solve_quadratic(a, b, c):    \n",
    "    disc = b**2 - (4*a*c)\n",
    "            \n",
    "    # disc < 0 => no solution\n",
    "    if disc < 0:\n",
    "        return ()\n",
    "    \n",
    "    # disc == 0? => one solution\n",
    "    if is_zero(disc):\n",
    "        return -b / (2*a),\n",
    "    \n",
    "    # default case => 2 solutions\n",
    "    return (-b + disc) / (2*a), (-b - disc) / (2*a)"
   ]
  },
  {
   "cell_type": "markdown",
   "id": "coral-chemical",
   "metadata": {},
   "source": [
    "Der Code scheint zur richtigen Lösung zu führen:"
   ]
  },
  {
   "cell_type": "code",
   "execution_count": null,
   "id": "american-clothing",
   "metadata": {},
   "outputs": [],
   "source": [
    "print(f'solution for x^2 -4x + 1 = 0: {solve_quadratic(1, -4, 1)}')\n",
    "print(f'solution for x^2 + x = 0: {solve_quadratic(1, 1, 0)}')\n",
    "print(f'solution for x^2 = 0: {solve_quadratic(1, 0, 0)}')"
   ]
  },
  {
   "cell_type": "markdown",
   "id": "photographic-sheffield",
   "metadata": {},
   "source": [
    "Was passiert allerdings wenn ``a==0`` ist?"
   ]
  },
  {
   "cell_type": "code",
   "execution_count": null,
   "id": "horizontal-reality",
   "metadata": {
    "tags": [
     "raises-exception"
    ]
   },
   "outputs": [],
   "source": [
    "print(f'solution for -4x + 1 = 0: {solve_quadratic(0, -4, 1)}')"
   ]
  },
  {
   "cell_type": "markdown",
   "id": "affiliated-placement",
   "metadata": {},
   "source": [
    "In diesem Fall teilen wir durch null und erhalten (zum Glück) einen Fehler.\n",
    "Sofern ``a==0`` gilt müssen wir die lineare Gleichung \n",
    "\n",
    "$$bx + c = 0 \\Rightarrow x = c/b$$\n",
    "\n",
    "lösen.\n",
    "Hier wartet ein weiterer Sonderfall für ``b==0``!\n",
    "In diesem Fall gibt es kein Ergebnis sofern ``c != 0``, andernfalls gibt es unendlich viele Lösungen.\n",
    "Nutzen wir die Fallunterscheidung um all diese Sonderfälle abzudecken:"
   ]
  },
  {
   "cell_type": "code",
   "execution_count": null,
   "id": "cellular-hamilton",
   "metadata": {},
   "outputs": [],
   "source": [
    "def solve_quadratic(a, b, c):\n",
    "    \"\"\"\"\n",
    "    solves the quadratic equation ax^2 + bx + c = 0.\n",
    "    a == b == c == 0 is not allowed!\n",
    "    \"\"\"\n",
    "    \n",
    "    disc = b**2 - (4*a*c)\n",
    "    epsilon = 1.0e-12\n",
    "    \n",
    "    # a == 0? => line => one or none solution\n",
    "    if is_zero(a):\n",
    "        # b == 0? \n",
    "        if is_zero(b):\n",
    "            # c == 0 => infinitely many solutions\n",
    "            if is_zero(c):\n",
    "                raise AttributeError('Invalid arguments a == b == c == 0! This quadratic equation has infinitely many solutions.')\n",
    "            else:\n",
    "                return ()\n",
    "        else:\n",
    "            return -c/b,\n",
    "        \n",
    "    # disc < 0 => no solution\n",
    "    if disc < 0:\n",
    "        return ()\n",
    "    \n",
    "    # disc == 0? => one solution\n",
    "    if is_zero(disc):\n",
    "        return -b / (2*a),\n",
    "    \n",
    "    # default case => 2 solutions\n",
    "    return (-b + disc) / (2*a), (-b - disc) / (2*a)"
   ]
  },
  {
   "cell_type": "code",
   "execution_count": null,
   "id": "rental-italian",
   "metadata": {},
   "outputs": [],
   "source": [
    "print(f'solution for x^2 -4x + 1 = 0: {solve_quadratic(1, -4, 1)}')\n",
    "print(f'solution for x^2 + x = 0: {solve_quadratic(1, 1, 0)}')\n",
    "print(f'solution for x^2 = 0: {solve_quadratic(1, 0, 0)}')\n",
    "print(f'solution for -4x + 1 = 0: {solve_quadratic(0, -4, 1)}')\n",
    "print(f'solution for 1 = 0: {solve_quadratic(0, 0, 1)}')"
   ]
  },
  {
   "cell_type": "markdown",
   "id": "fantastic-substance",
   "metadata": {},
   "source": [
    "Gilt ``a == b == c == 0`` wird unsere Funktion zu $f(x) = 0$ und demnach gilt für jedes $x_0 \\in \\mathbb{R}$ dass es eine Nullstelle ist.\n",
    "Das wären unendlich viele Zahlen, deshalb werfen wir (``raise``) in diesem Fall einen Fehler."
   ]
  },
  {
   "cell_type": "code",
   "execution_count": null,
   "id": "spare-lighter",
   "metadata": {
    "tags": [
     "raises-exception"
    ]
   },
   "outputs": [],
   "source": [
    "print(f'solution for 0 = 0: {solve_quadratic(0, 0, 0)}')"
   ]
  }
 ],
 "metadata": {
  "jupytext": {
   "formats": "md:myst",
   "text_representation": {
    "extension": ".md",
    "format_name": "myst"
   }
  },
  "kernelspec": {
   "display_name": "Python 3",
   "language": "python",
   "name": "python3"
  },
  "source_map": [
   11,
   34,
   40,
   54,
   63,
   80,
   93,
   112,
   128,
   134,
   150,
   158,
   176,
   183,
   201,
   205,
   221,
   284,
   288,
   292,
   297,
   313,
   317,
   322,
   336,
   340,
   344,
   348,
   353,
   365,
   399,
   405,
   410
  ]
 },
 "nbformat": 4,
 "nbformat_minor": 5
}