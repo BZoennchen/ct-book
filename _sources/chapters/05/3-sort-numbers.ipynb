{
 "cells": [
  {
   "cell_type": "markdown",
   "id": "finished-energy",
   "metadata": {},
   "source": [
    "# Zahlen sortieren in Python\n",
    "\n",
    "Wunderbar, wir können nun Karten sortieren. \n",
    "Aber können wir vielleicht noch viel mehr?\n",
    "Sehen Sie sich den Code genau an.\n",
    "An welcher Stelle geht es wirklich um Karten?\n",
    "Wie und wo müsste man den Code ändern um z.B. Zahlen zu sortieren?\n",
    "\n",
    "```{exercise} Zahlen sortieren in Python\n",
    "Ändern oder erweitern Sie Ihren Programmiercode um Zahlen anstatt Karten zu sortieren.\n",
    "```\n",
    "\n",
    "Wir benötigen lediglich einen neuen Vergleichsoperator ``is_smaller()``."
   ]
  },
  {
   "cell_type": "code",
   "execution_count": 1,
   "id": "worse-adrian",
   "metadata": {},
   "outputs": [
    {
     "ename": "NameError",
     "evalue": "name 'stack_sort' is not defined",
     "output_type": "error",
     "traceback": [
      "\u001b[0;31m---------------------------------------------------------------------------\u001b[0m",
      "\u001b[0;31mNameError\u001b[0m                                 Traceback (most recent call last)",
      "\u001b[0;32m<ipython-input-1-96a1f3a1650e>\u001b[0m in \u001b[0;36m<module>\u001b[0;34m\u001b[0m\n\u001b[1;32m      2\u001b[0m     \u001b[0;32mreturn\u001b[0m \u001b[0mnumber1\u001b[0m \u001b[0;34m<\u001b[0m \u001b[0mnumber2\u001b[0m\u001b[0;34m\u001b[0m\u001b[0;34m\u001b[0m\u001b[0m\n\u001b[1;32m      3\u001b[0m \u001b[0;34m\u001b[0m\u001b[0m\n\u001b[0;32m----> 4\u001b[0;31m \u001b[0mstack_sort\u001b[0m\u001b[0;34m(\u001b[0m\u001b[0;34m[\u001b[0m\u001b[0;34m-\u001b[0m\u001b[0;36m11\u001b[0m\u001b[0;34m,\u001b[0m \u001b[0;36m12\u001b[0m\u001b[0;34m,\u001b[0m \u001b[0;34m-\u001b[0m\u001b[0;36m6\u001b[0m\u001b[0;34m,\u001b[0m \u001b[0;36m45\u001b[0m\u001b[0;34m,\u001b[0m \u001b[0;36m1\u001b[0m\u001b[0;34m,\u001b[0m \u001b[0;36m54\u001b[0m\u001b[0;34m,\u001b[0m \u001b[0;34m-\u001b[0m\u001b[0;36m55\u001b[0m\u001b[0;34m,\u001b[0m \u001b[0;36m88\u001b[0m\u001b[0;34m]\u001b[0m\u001b[0;34m)\u001b[0m\u001b[0;34m\u001b[0m\u001b[0;34m\u001b[0m\u001b[0m\n\u001b[0m",
      "\u001b[0;31mNameError\u001b[0m: name 'stack_sort' is not defined"
     ]
    }
   ],
   "source": [
    "def is_smaller(number1, number2):\n",
    "    return number1 < number2\n",
    "\n",
    "stack_sort([-11, 12, -6, 45, 1, 54, -55, 88])"
   ]
  },
  {
   "cell_type": "code",
   "execution_count": null,
   "id": "civil-uncle",
   "metadata": {},
   "outputs": [],
   "source": [
    "import random\n",
    "n_numbers = 1000\n",
    "\n",
    "hand = [random.randint(0, n_numbers) for _ in range(n_numbers)]\n",
    "stack_sort(hand)"
   ]
  }
 ],
 "metadata": {
  "jupytext": {
   "formats": "md:myst",
   "text_representation": {
    "extension": ".md",
    "format_name": "myst"
   }
  },
  "kernelspec": {
   "display_name": "Python 3",
   "language": "python",
   "name": "python3"
  },
  "language_info": {
   "codemirror_mode": {
    "name": "ipython",
    "version": 3
   },
   "file_extension": ".py",
   "mimetype": "text/x-python",
   "name": "python",
   "nbconvert_exporter": "python",
   "pygments_lexer": "ipython3",
   "version": "3.9.6"
  },
  "source_map": [
   11,
   27,
   34
  ]
 },
 "nbformat": 4,
 "nbformat_minor": 5
}