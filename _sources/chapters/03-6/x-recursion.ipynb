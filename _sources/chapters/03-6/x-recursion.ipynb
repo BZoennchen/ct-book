{
 "cells": [
  {
   "cell_type": "markdown",
   "id": "ab4e7624",
   "metadata": {},
   "source": [
    "(sec-recursive-functions)=\n",
    "# Rekursive Funktionen\n",
    "\n",
    "Bevor Sie fortfahren sollten Sie sich den Abschnitt [Wiederholung](sec-repetition-and-recursion) durchgelesen haben.\n",
    "\n",
    "Wir werden in diesem Abschnitt nicht über Rekursion an sich sprechen, sondern wie *rekursive Funktionen* in den allermeisten Programmiersprachen realisiert werden.\n",
    "\n",
    ">Wie realisiert der Computer Rekursion? \n",
    "\n",
    ">Was passiert bei einem rekursiven Aufruf?\n",
    "\n",
    ">Und was sind überhaupt *rekursive Funktionen*?\n",
    "\n",
    "```{admonition} Rekursive Funktionen\n",
    ":class: definition\n",
    ":name: def-recursive-function\n",
    "Als *rekursive Funktion* wird eine Funktion bezeichnet, welche sich für bestimmte Argumente selbst aufruft.\n",
    "```\n",
    "\n",
    "Die folgende Berechnung der Fakultät ist eine rekursive Funktion, welche wir bereits eingeführt hatten."
   ]
  },
  {
   "cell_type": "code",
   "execution_count": 1,
   "id": "d649fe7f",
   "metadata": {},
   "outputs": [
    {
     "data": {
      "text/plain": [
       "24"
      ]
     },
     "execution_count": 1,
     "metadata": {},
     "output_type": "execute_result"
    }
   ],
   "source": [
    "def fac(n):\n",
    "    if n <= 1:    # Base cases!\n",
    "        return 1\n",
    "    else:         # Recursive case\n",
    "        return n * fac(n-1) # Recursive call \n",
    "\n",
    "fac(4)"
   ]
  },
  {
   "cell_type": "markdown",
   "id": "18c2901b",
   "metadata": {},
   "source": [
    "Damit eine rekursive Funktion terminiert benötigt sie mindestens einen *Basisfall*, d.h. einen Pfad an Anweisungen, welcher **keinen** Funktionsaufruf der Funktion selbst enthält.\n",
    "Das ist eine notwendige aber noch nicht hinreichende Bedingung.\n",
    "Um formal zu beweisen, dass eine rekursive Funktion terminiert und auch das richtig berechnet, verwendet man die sog. [Induktion](sec-induction).\n",
    "\n",
    "Im obigen Fall sehen wir recht schnell, dass alles korrekt ablaufen sollte, sofern ``n`` eine natürliche Zahl ist.\n",
    "Da wir ``n`` bei jedem rekursiven Aufruf um 1 verkleinern, muss irgendwann die ``if``-Bedingung zutreffen.\n",
    "In anderen Worten kommen wir immer irgendwann in den *Basisfall*!\n",
    "\n",
    "Wie aber werden die Variablen der unterschiedlichen Funktionsaufrufe verwaltet?\n",
    "Gibt es nur ein einzelnes ``n``, welches von allen Funktionsaufrufen verwendet wird?\n",
    "Dieser Punkt ist äußerst wichtig.\n",
    "Lassen Sie uns den Funktionsaufruf ``fac(4)`` einmal 'ausbreiten':\n",
    "``fac(4)`` wird zu ``4 * fac(3)`` wird zu ``4 * fac(2)`` wird zu ``4 * 3 * fac(1)`` wird schließlich zu ``4 * 3 * 2 * 1``.\n",
    "\n",
    "## Stack und Heap\n",
    "\n",
    "Es ist äußerst wichtig zu begreifen, dass bei jedem rekursiven Aufruf ein neuer [lokaler Namensraum](sec-local-namespace) eröffnet wird!\n",
    "Das bedeutet, jeder Funktionsaufruf verwendet einen frischen Satz an Variablen.\n",
    "Dieser Namensraum befindet sich auf dem sog. *Stack*, zu deutsch *Stapel*.\n",
    "\n",
    "```{admonition} Stack (Arbeitsspeicher)\n",
    ":name: def-stack\n",
    ":class: definition\n",
    "\n",
    "Der *Stack* ist ein spezieller Bereich des Arbeitsspeichers, auf welchem die Variablen des lokalen Namensraums liegen.\n",
    "Bei jedem Funktionsaufruf wird ein Namensraum automatisch auf den Stack gelegt und bei jedem Rücksprung (``return``) wird der entsprechende Namensraum automatisch vom Stack gelöscht.\n",
    "```\n",
    "\n",
    "Immer wenn wir ``fac`` aufrufen, wird ein neuer lokaler Namensraum auf den Stack gelegt.\n",
    "Dieser enthält die Variable ``n``.\n",
    "Da die Funktionen rekursiv aufgerufen werden, füllt sich der Stack bis wir uns im Aufruf von ``fac(1)`` befinden.\n",
    "\n",
    "```{figure} ../../figs/python-tutorial/functions/stack_fill.png\n",
    "---\n",
    "width: 500px\n",
    "name: fig-stack_fill\n",
    "---\n",
    "Befüllung des *Stacks* durch den Aufruf der *rekursiven Funktion* ``fac(4)``.\n",
    "```\n",
    "\n",
    "``fac(1)`` gelangt in den *Basisfall* und beendet die Rekursionskette.\n",
    "Es ließt sein ``n`` aus seinem Namensraum (in {numref}`Abbildung {number} <fig-stack_fill>` ist das der ``namespace4``), prüft ``n <= 1`` und liefert ``1`` zurück.\n",
    "Durch diesen Rücksprung, wird der Namensraum gelöscht und der nächste Namensraum auf dem *Stack* definiert den Namensraum des aktuellen Funktionsaufrufs.\n",
    "In diesem hat ``n`` den Wert ``2`` und wir befinden uns bereits an der Stelle ``return n * fac(1)`` und da ``fac(1)`` soeben den Wert ``1`` zurückgeliefert hat, wird dieser Ausdruck zu ``return n * 1`` und somit zu ``return 2 * 1``.\n",
    "\n",
    "Sukzessive leert sich der Stack.\n",
    "\n",
    "```{figure} ../../figs/python-tutorial/functions/stack_clear.png\n",
    "---\n",
    "width: 500px\n",
    "name: fig-stack_clear\n",
    "---\n",
    "Der *Stacks* leert sich beim Rücksprung.\n",
    "```\n",
    "\n",
    "Wann immer eine Funktion aufgerufen wird (egal ob rekursiv oder nicht) wird oben auf dem Stack ein Speicherblock für den lokalen Namensraum reserviert und wann immer die Funktion terminiert/zurückspringt der Speicherblock wird wieder freigegeben.\n",
    "Der Zugriff auf den Stack ist schnell, da die Reservierung und das Freigeben wenig Verwaltungsinformation benötigt.\n",
    "Außerdem ist der Stack ein zusammenhängender Speicherbereich, d.h., aufeinanderfolgende Speicherzugriffe liegen nahe im Speicher beisammen.\n",
    "\n",
    "```{admonition} Stack und Funktionsaufrufe\n",
    ":class: remark\n",
    ":name: remark-stack-speed\n",
    "Damit wir als Programmierer\\*innen Codeblöcke aus Gründen der Laufzeit Funktionen vermeiden, muss der *Stack* sehr effizient sein!\n",
    "```\n",
    "\n",
    "Die maximale Tiefe des *Stacks* ist an eine bestimmte Zahl gebunden.\n",
    "Ist unsere Rekursion zu tief, läuft der Stacks voll:"
   ]
  },
  {
   "cell_type": "code",
   "execution_count": 2,
   "id": "931838d7",
   "metadata": {
    "tags": [
     "raises-exception"
    ]
   },
   "outputs": [
    {
     "data": {
      "text/plain": [
       "402387260077093773543702433923003985719374864210714632543799910429938512398629020592044208486969404800479988610197196058631666872994808558901323829669944590997424504087073759918823627727188732519779505950995276120874975462497043601418278094646496291056393887437886487337119181045825783647849977012476632889835955735432513185323958463075557409114262417474349347553428646576611667797396668820291207379143853719588249808126867838374559731746136085379534524221586593201928090878297308431392844403281231558611036976801357304216168747609675871348312025478589320767169132448426236131412508780208000261683151027341827977704784635868170164365024153691398281264810213092761244896359928705114964975419909342221566832572080821333186116811553615836546984046708975602900950537616475847728421889679646244945160765353408198901385442487984959953319101723355556602139450399736280750137837615307127761926849034352625200015888535147331611702103968175921510907788019393178114194545257223865541461062892187960223838971476088506276862967146674697562911234082439208160153780889893964518263243671616762179168909779911903754031274622289988005195444414282012187361745992642956581746628302955570299024324153181617210465832036786906117260158783520751516284225540265170483304226143974286933061690897968482590125458327168226458066526769958652682272807075781391858178889652208164348344825993266043367660176999612831860788386150279465955131156552036093988180612138558600301435694527224206344631797460594682573103790084024432438465657245014402821885252470935190620929023136493273497565513958720559654228749774011413346962715422845862377387538230483865688976461927383814900140767310446640259899490222221765904339901886018566526485061799702356193897017860040811889729918311021171229845901641921068884387121855646124960798722908519296819372388642614839657382291123125024186649353143970137428531926649875337218940694281434118520158014123344828015051399694290153483077644569099073152433278288269864602789864321139083506217095002597389863554277196742822248757586765752344220207573630569498825087968928162753848863396909959826280956121450994871701244516461260379029309120889086942028510640182154399457156805941872748998094254742173582401063677404595741785160829230135358081840096996372524230560855903700624271243416909004153690105933983835777939410970027753472000000000000000000000000000000000000000000000000000000000000000000000000000000000000000000000000000000000000000000000000000000000000000000000000000000000000000000000000000000000000000000000000000000000000000000000000000000000000000000000000000000000"
      ]
     },
     "execution_count": 2,
     "metadata": {},
     "output_type": "execute_result"
    }
   ],
   "source": [
    "fac(1000)"
   ]
  },
  {
   "cell_type": "markdown",
   "id": "b94984c4",
   "metadata": {},
   "source": [
    "Wir können die maximale erlaubte Rekursionstiefe auch anpassen:"
   ]
  },
  {
   "cell_type": "code",
   "execution_count": 3,
   "id": "5b5ca7f5",
   "metadata": {
    "tags": [
     "raises-exception"
    ]
   },
   "outputs": [
    {
     "data": {
      "text/plain": [
       "402387260077093773543702433923003985719374864210714632543799910429938512398629020592044208486969404800479988610197196058631666872994808558901323829669944590997424504087073759918823627727188732519779505950995276120874975462497043601418278094646496291056393887437886487337119181045825783647849977012476632889835955735432513185323958463075557409114262417474349347553428646576611667797396668820291207379143853719588249808126867838374559731746136085379534524221586593201928090878297308431392844403281231558611036976801357304216168747609675871348312025478589320767169132448426236131412508780208000261683151027341827977704784635868170164365024153691398281264810213092761244896359928705114964975419909342221566832572080821333186116811553615836546984046708975602900950537616475847728421889679646244945160765353408198901385442487984959953319101723355556602139450399736280750137837615307127761926849034352625200015888535147331611702103968175921510907788019393178114194545257223865541461062892187960223838971476088506276862967146674697562911234082439208160153780889893964518263243671616762179168909779911903754031274622289988005195444414282012187361745992642956581746628302955570299024324153181617210465832036786906117260158783520751516284225540265170483304226143974286933061690897968482590125458327168226458066526769958652682272807075781391858178889652208164348344825993266043367660176999612831860788386150279465955131156552036093988180612138558600301435694527224206344631797460594682573103790084024432438465657245014402821885252470935190620929023136493273497565513958720559654228749774011413346962715422845862377387538230483865688976461927383814900140767310446640259899490222221765904339901886018566526485061799702356193897017860040811889729918311021171229845901641921068884387121855646124960798722908519296819372388642614839657382291123125024186649353143970137428531926649875337218940694281434118520158014123344828015051399694290153483077644569099073152433278288269864602789864321139083506217095002597389863554277196742822248757586765752344220207573630569498825087968928162753848863396909959826280956121450994871701244516461260379029309120889086942028510640182154399457156805941872748998094254742173582401063677404595741785160829230135358081840096996372524230560855903700624271243416909004153690105933983835777939410970027753472000000000000000000000000000000000000000000000000000000000000000000000000000000000000000000000000000000000000000000000000000000000000000000000000000000000000000000000000000000000000000000000000000000000000000000000000000000000000000000000000000000000"
      ]
     },
     "execution_count": 3,
     "metadata": {},
     "output_type": "execute_result"
    }
   ],
   "source": [
    "import sys\n",
    "sys.setrecursionlimit(5000)\n",
    "\n",
    "fac(1000)"
   ]
  },
  {
   "cell_type": "markdown",
   "id": "16a6be3b",
   "metadata": {},
   "source": [
    "Der andere Speicherbereich, welcher nicht zum *Stack* gehört, bezeichnen wir als *Heap*.\n",
    "\n",
    "```{admonition} Heap (Arbeitsspeicher)\n",
    ":name: def-heap\n",
    ":class: definition\n",
    "Der *Heap* ist ein Speicherbereich für die *dynamische Speicherverwaltung*.\n",
    "Anders als beim *Stack* gibt es kein Muster mit dem der *Heap* gefüllt bzw. geleert werden muss.\n",
    "```\n",
    "\n",
    "Im *Heap* kann man kreuz und quer Speicher reservieren und freigeben.\n",
    "Das macht die Verwaltung des *Heaps* komplexer.\n",
    "Im Vergleich zum *Stack* ist es deutlich aufwendiger zu protokollieren, welche Speicherbereiche frei und welche belegt sind.\n",
    "\n",
    "## Laufzeit\n",
    "\n",
    "Obwohl der *Stack* enorm effizient ist, sind iterative Lösungen fast immer schneller in ihrer Ausführung.\n",
    "Übersetzten wir den Code in Maschinencode, also in die niedrigste bzw. konkreteste Form, so benötigen rekursive Lösungen fast immer mehr Sprungbefehle.\n",
    "\n",
    "Auch benötigt ein Funktionsaufruf mehr Ressourcenmanagement als ein Sprung zum Anfang einer Schleife.\n",
    "Vergleichen wir unsere rekursive Lösung mit der iterativen:"
   ]
  },
  {
   "cell_type": "code",
   "execution_count": 4,
   "id": "536f4485",
   "metadata": {},
   "outputs": [],
   "source": [
    "def fac_it(n):\n",
    "    result = 1\n",
    "    for i in range(1,n+1):\n",
    "        result += i\n",
    "    return result"
   ]
  },
  {
   "cell_type": "markdown",
   "id": "96b4e280",
   "metadata": {},
   "source": [
    "Die iterative Lösung verwendet lediglich drei Variablen nämlich ``n``, ``i`` und ``result``, wohingegen wir bei der rekursiven Lösung für ``fac(n)`` ca. ``n`` Variablen benötigen.\n",
    "\n",
    "Zusätzlich sind [CPU's](def-cpu) in der von [Neumann Architektur](sec-von-neumann) auf Schleifen optimiert.\n",
    "Rücksprünge kann die CPU nur vorhersagen, wenn es von ihnen nicht zu viele hintereinander gibt.\n",
    "Dazu verwendet die CPU einen begrenzten Speicher.\n",
    "Läuft dieser voll, schlägt die Vorhersage fehl und die Ausführungszeit verlängert sich drastisch.\n",
    "\n",
    "Lassen Sie uns die Laufzeiten der beiden Implementierungen vergleichen:"
   ]
  },
  {
   "cell_type": "code",
   "execution_count": 5,
   "id": "b1309f53",
   "metadata": {},
   "outputs": [
    {
     "name": "stdout",
     "output_type": "stream",
     "text": [
      "22.2 µs ± 25.8 ns per loop (mean ± std. dev. of 7 runs, 10,000 loops each)\n"
     ]
    }
   ],
   "source": [
    "%timeit fac_it(1000)"
   ]
  },
  {
   "cell_type": "code",
   "execution_count": 6,
   "id": "ff17b0fb",
   "metadata": {},
   "outputs": [
    {
     "name": "stdout",
     "output_type": "stream",
     "text": [
      "392 µs ± 4.07 µs per loop (mean ± std. dev. of 7 runs, 1,000 loops each)\n"
     ]
    }
   ],
   "source": [
    "%timeit fac(1000)"
   ]
  },
  {
   "cell_type": "markdown",
   "id": "9b874859",
   "metadata": {},
   "source": [
    "Der rekursive Aufruf benötigt ca. 473 Nanosekunden, wohingegen die iterative Berechnung ca. 60 Nanosekunden benötigt.\n",
    "Das heißt die iterative Berechnung ist um einen Faktor von\n",
    "\n",
    "$$\\frac{473}{60} \\approx 7.8$$\n",
    "\n",
    "schneller!\n",
    "\n",
    "## Endrekursionen (in Python?)\n",
    "\n",
    "Der Laufzeitvergleich hängt jedoch auch mit der verwendeten Programmiersprache zusammen.\n",
    "Funktionale Sprachen bieten, zum Beispiel, das Konzept der optimierten *Endrekursion* (engl. *Tail Recursion*).\n",
    "\n",
    "```{admonition} Endrekursion\n",
    ":name: def-tail-recursion\n",
    ":class: definition\n",
    "*Endrekursion*  ist eine bestimmte Form der Rekursion bei der der rekursive Aufruf einer Funktion auch ihre **letzte Anweisung** ist.\n",
    "```\n",
    "\n",
    "Ist eine Funktion endrekursiv, eliminieren die [Compiler](def-compiler) oder [Interpreter](def-interpreter) von funktionalen Sprachen die rekursiven Aufrufe der Funktion -- der *Stack* bleibt (bis auf einen Eintrag) leer.\n",
    "Unsere ``fac``-Funktion ist keine *Endrekursion*, denn nach dem rekursiven Aufruf folgt eine Multiplikation.\n",
    "Wir können daraus jedoch leicht eine *Endrekursion* machen:"
   ]
  },
  {
   "cell_type": "code",
   "execution_count": 7,
   "id": "b54cae8c",
   "metadata": {},
   "outputs": [
    {
     "data": {
      "text/plain": [
       "24"
      ]
     },
     "execution_count": 7,
     "metadata": {},
     "output_type": "execute_result"
    }
   ],
   "source": [
    "def fac_tail(n, acc=1):\n",
    "    if n <= 1:\n",
    "        return acc\n",
    "    else:\n",
    "        return fac_tail(n-1, acc*n)\n",
    "\n",
    "fac_tail(4)"
   ]
  },
  {
   "cell_type": "markdown",
   "id": "9f3ebd3f",
   "metadata": {},
   "source": [
    "Alle Arbeit ist getan und dann folgt der rekursive Aufruf.\n",
    "Deshalb können wir eigentlich alle Namensräume, welche auf dem [Stack](def-stack) liegen vergessen.\n",
    "Wir haben ``n`` bereits verarbeitet und brauchen es nicht mehr.\n",
    "Deshalb belastet diese Rekursion den *Stack* nicht, sofern unser [Compiler](def-compiler) oder [Interpreter](def-interpreter) dies auch optimiert.\n",
    "\n",
    "```{admonition} Endrekursion in Python\n",
    ":name: remark-tail-recursion-python\n",
    ":class: remark\n",
    "Der ``Python``-Interpreter nutzt die *Endrekursion* nicht aus.\n",
    "```\n",
    "\n",
    "Der ``Python``-Interpreter optimiert dies nicht!\n",
    "D.h. obwohl wir ``n`` vergessen könnten, wird es auf den *Stack* gelegt.\n",
    "Warum sich die Entwickler\\*innen gegen *elimination von Endrekursionen* (engl. *Tail Recursion Elimination (TRE)*) entschieden haben, hat verschiedene Gründe:\n",
    "\n",
    "+ TRE zerstört den sog. Stack Trace (wichtig für Fehlermeldungen)\n",
    "+ TRE als Option würde Entwickler\\*innen motivieren die Rekursion häufiger zu verwenden, doch würde der Code dann nicht überall gleich effizient laufen\n",
    "+ Entwickler\\*innen von ``Python`` glauben nicht an die Rekursion als Basis jeder Programmierung\n",
    "+ In ``Python`` wäre die Realisierung durch dessen Dynamik äußerst kompliziert, hier ein einfaches Beispiel was bereits zu Problemen führt:"
   ]
  },
  {
   "cell_type": "code",
   "execution_count": 8,
   "id": "27ecfe05",
   "metadata": {},
   "outputs": [
    {
     "data": {
      "text/plain": [
       "4"
      ]
     },
     "execution_count": 8,
     "metadata": {},
     "output_type": "execute_result"
    }
   ],
   "source": [
    "def f(x):\n",
    "    if x > 0:\n",
    "        return f(x-1)\n",
    "    return 0\n",
    "\n",
    "g = f\n",
    "def f(x):\n",
    "    return x\n",
    "g(5)"
   ]
  },
  {
   "cell_type": "markdown",
   "id": "3d6614c7",
   "metadata": {},
   "source": [
    "Wir binden ``g`` an das erste ``f``.\n",
    "Dann aber definieren wir ``f`` neu.\n",
    "``g(5)`` ruft das alte ``f`` auf, nennen wir es ``f_old``.\n",
    "Somit wird ``g(5)`` zu ``f_old(5)``.\n",
    "Diese Funktion ruft nun das nicht rekursive neue ``f`` auf, d.h. ``f(5-1)`` wird zu ``f(4)`` wird zu ``4``.\n",
    "Wie soll der Interpreter protokollieren welche Funktionen rekursiv sind und welche nicht oder nicht mehr?\n",
    "Dadurch, dass wir Funktionsnamen in ``Python`` zur Laufzeit ändern können, wäre dies unglaublich aufwendig.\n",
    "\n",
    "An diesem Beispiel wird deutlich, dass die Flexibilität und Dynamik einer Sprache ihren Preis hat.\n",
    "Für Interpreter und Compiler wird es schwerer und schwerer Optimierungen durchzuführen!"
   ]
  }
 ],
 "metadata": {
  "jupytext": {
   "formats": "md:myst",
   "text_representation": {
    "extension": ".md",
    "format_name": "myst"
   }
  },
  "kernelspec": {
   "display_name": "Python 3",
   "language": "python",
   "name": "python3"
  },
  "language_info": {
   "codemirror_mode": {
    "name": "ipython",
    "version": 3
   },
   "file_extension": ".py",
   "mimetype": "text/x-python",
   "name": "python",
   "nbconvert_exporter": "python",
   "pygments_lexer": "ipython3",
   "version": "3.11.4"
  },
  "source_map": [
   11,
   34,
   42,
   112,
   118,
   122,
   130,
   153,
   159,
   170,
   174,
   176,
   200,
   208,
   230,
   240
  ]
 },
 "nbformat": 4,
 "nbformat_minor": 5
}