{
 "cells": [
  {
   "cell_type": "markdown",
   "id": "ab5188f4",
   "metadata": {},
   "source": [
    "(sec-anonymous-function)=\n",
    "# Anonyme Funktionen\n",
    "\n",
    "*Anonyme Funktionen* sind **namenlose** Funktionen.\n",
    "Nehmen wir folgende Funktion mit dem Namen ``add``:"
   ]
  },
  {
   "cell_type": "code",
   "execution_count": 1,
   "id": "02a16752",
   "metadata": {},
   "outputs": [],
   "source": [
    "def add(x, y):\n",
    "    return x + y"
   ]
  },
  {
   "cell_type": "markdown",
   "id": "f12b59e1",
   "metadata": {},
   "source": [
    "Diese Funktion können wir über ihren Namen ansprechen:"
   ]
  },
  {
   "cell_type": "code",
   "execution_count": 2,
   "id": "f60db4b5",
   "metadata": {},
   "outputs": [
    {
     "data": {
      "text/plain": [
       "10"
      ]
     },
     "execution_count": 2,
     "metadata": {},
     "output_type": "execute_result"
    }
   ],
   "source": [
    "add(4, 6)"
   ]
  },
  {
   "cell_type": "markdown",
   "id": "393fda57",
   "metadata": {},
   "source": [
    "Der Name befindet sich im [globalen Namensraum](sec-global-namespace) und verweist auf den Code der die Funktion realisiert.\n",
    "Wir können einen Verweis auf die Funktion auch in einer Variablen abspeichern, dazu verwenden wir lediglich den Namen der Funktion:"
   ]
  },
  {
   "cell_type": "code",
   "execution_count": 3,
   "id": "6283a1c6",
   "metadata": {},
   "outputs": [
    {
     "data": {
      "text/plain": [
       "10"
      ]
     },
     "execution_count": 3,
     "metadata": {},
     "output_type": "execute_result"
    }
   ],
   "source": [
    "func = add\n",
    "func(4, 6)"
   ]
  },
  {
   "cell_type": "markdown",
   "id": "635cfd7f",
   "metadata": {},
   "source": [
    "Eine *anonyme Funktion* erlaubt uns dies ebenfalls."
   ]
  },
  {
   "cell_type": "code",
   "execution_count": 4,
   "id": "b6db3cb4",
   "metadata": {},
   "outputs": [
    {
     "data": {
      "text/plain": [
       "10"
      ]
     },
     "execution_count": 4,
     "metadata": {},
     "output_type": "execute_result"
    }
   ],
   "source": [
    "func = lambda x, y : x + y\n",
    "func(4, 6)"
   ]
  },
  {
   "cell_type": "markdown",
   "id": "56b26204",
   "metadata": {},
   "source": [
    "In ``Python`` sind *anonyme Funktionen* zugleich *kleine Funktionen*.\n",
    "\n",
    "Mit dem Signalwort ``lambda`` beginnt die Definition einer *anonyme Funktion*.\n",
    "Nach ``lambda`` folgen die Parameter und nach dem ``:`` der Funktionsrumpf.\n",
    "Die gesamte Funktionsdefinition muss dabei in eine Zeile passen.\n",
    "Es darf sich beim Funktionsrumpf nur im **einen** Ausdruck handeln.\n",
    "Der Rückgabewert ist automatisch der ausgewertete Ausdruck hinter dem ``:``.\n",
    "\n",
    "Bei dieser enormen Einschränkung stellt sich die Frage, wann verwenden wir *anonyme Funktionen*?\n",
    "Anonyme Funktionen werden oft benutzt wenn die Logik der Funktion sehr einfach ist und wir Funktionen als Argumente verwenden um das Verhalten anderer Funktionen zu verändern.\n",
    "Oder aber wenn Funktionen andere Funktionen zurückliefern.\n",
    "\n",
    "Diese *anonyme Funktionen* können, wenn sie vernünftig eingesetzt werden, unseren Code verkürzen und die Lesbarkeit erhöhen sowie unserer Produktivität steigern.\n",
    "\n",
    "Nehmen wir eine Liste von ganzen Zahlen.\n",
    "Und sagen wir, wir wollen eine neue Liste erzeugen, welche die Quadrate all dieser Zahlen enthält.\n",
    "Die *built-in* Funktion ``map(func, iterable)`` transformiert ``iterable`` indem es die Funktion ``func`` auf jedem Element von ``iterable`` ausführt."
   ]
  },
  {
   "cell_type": "code",
   "execution_count": 5,
   "id": "c9992507",
   "metadata": {},
   "outputs": [
    {
     "data": {
      "text/plain": [
       "[0, 1, 4, 9, 16, 25, 36, 49, 64, 81]"
      ]
     },
     "execution_count": 5,
     "metadata": {},
     "output_type": "execute_result"
    }
   ],
   "source": [
    "numbers = list(range(10))\n",
    "def square(x):\n",
    "    return x * x\n",
    "\n",
    "list(map(square, numbers))"
   ]
  },
  {
   "cell_type": "markdown",
   "id": "667c71f5",
   "metadata": {},
   "source": [
    "Nach diesem Aufruf brauchen wir ``square()`` vermutlich nie wieder, zudem ist die Funktion so simpel, dass eine vollwertige Definition übertrieben scheint.\n",
    "Kürzer geht das ganze mit einer *anonymen Funktion*:"
   ]
  },
  {
   "cell_type": "code",
   "execution_count": 6,
   "id": "88750c40",
   "metadata": {},
   "outputs": [
    {
     "data": {
      "text/plain": [
       "[0, 1, 4, 9, 16, 25, 36, 49, 64, 81]"
      ]
     },
     "execution_count": 6,
     "metadata": {},
     "output_type": "execute_result"
    }
   ],
   "source": [
    "numbers = list(range(10))\n",
    "list(map(lambda x: x * x, numbers))"
   ]
  },
  {
   "cell_type": "markdown",
   "id": "1f540a3b",
   "metadata": {},
   "source": [
    "Erwartet eine Funktion eine andere Funktion, so ist es oft sinnvoll ein Standardarguments als *anonyme Funktion* festzulegen, da wir ihn nur an dieser Stelle brauchen:"
   ]
  },
  {
   "cell_type": "code",
   "execution_count": 7,
   "id": "13ec31c0",
   "metadata": {},
   "outputs": [
    {
     "name": "stdout",
     "output_type": "stream",
     "text": [
      "[0, 1, 2, 3, 4, 5, 6, 7, 8, 9]\n",
      "[1, 3, 5, 7, 9, 11, 13, 15, 17, 19]\n"
     ]
    }
   ],
   "source": [
    "def apply(mylist, func = lambda e : e):\n",
    "    return list(map(func, numbers))\n",
    "\n",
    "numbers = list(range(10))\n",
    "print(apply(numbers))\n",
    "print(apply(numbers, lambda x: 2*x+1))"
   ]
  },
  {
   "cell_type": "markdown",
   "id": "a9cfd18b",
   "metadata": {},
   "source": [
    "Ein weiterer Fall für den sich eine *anonyme Funktion* eignen kann ist, wenn wir bestimmte Parameter fixieren wollen.\n",
    "Das bedeutet wir haben eine Funktion mit $n$ Parametern und wir möchten daraus eine neue Funktion mit $m < n$ Parametern bauen und dabei $n-m$ Parameter fixieren.\n",
    "Zum Beispiel:"
   ]
  },
  {
   "cell_type": "code",
   "execution_count": 8,
   "id": "a8596270",
   "metadata": {},
   "outputs": [
    {
     "data": {
      "text/plain": [
       "1.5555555555555556"
      ]
     },
     "execution_count": 8,
     "metadata": {},
     "output_type": "execute_result"
    }
   ],
   "source": [
    "def f(a, b, c, d):\n",
    "    return (2 * a + b**2 - 3*c) / d\n",
    "\n",
    "# fix a and d\n",
    "h = lambda b, c: f(4, b, c, 9)\n",
    "\n",
    "h(3, 1)"
   ]
  },
  {
   "cell_type": "markdown",
   "id": "5b733a59",
   "metadata": {},
   "source": [
    "So können wir aus einer allgemeineren Funktion eine speziellere Funktion mit weniger Freiheitsgraden bauen."
   ]
  }
 ],
 "metadata": {
  "jupytext": {
   "formats": "md:myst",
   "text_representation": {
    "extension": ".md",
    "format_name": "myst"
   }
  },
  "kernelspec": {
   "display_name": "Python 3",
   "language": "python",
   "name": "python3"
  },
  "language_info": {
   "codemirror_mode": {
    "name": "ipython",
    "version": 3
   },
   "file_extension": ".py",
   "mimetype": "text/x-python",
   "name": "python",
   "nbconvert_exporter": "python",
   "pygments_lexer": "ipython3",
   "version": "3.9.7"
  },
  "source_map": [
   11,
   19,
   22,
   26,
   28,
   33,
   36,
   40,
   43,
   63,
   69,
   74,
   77,
   81,
   88,
   94,
   102
  ]
 },
 "nbformat": 4,
 "nbformat_minor": 5
}