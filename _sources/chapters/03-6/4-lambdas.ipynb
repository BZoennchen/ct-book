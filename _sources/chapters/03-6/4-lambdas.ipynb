{
 "cells": [
  {
   "cell_type": "markdown",
   "id": "automotive-switzerland",
   "metadata": {},
   "source": [
    "(sec-anonymous-function)=\n",
    "# Anonyme Funktionen\n",
    "\n",
    "*Anonyme Funktionen* sind **namenlose** Funktionen.\n",
    "Nehmen wir folgende Funktion mit dem Namen ``add``:"
   ]
  },
  {
   "cell_type": "code",
   "execution_count": null,
   "id": "executed-rates",
   "metadata": {},
   "outputs": [],
   "source": [
    "def add(x, y):\n",
    "    return x + y"
   ]
  },
  {
   "cell_type": "markdown",
   "id": "polished-employment",
   "metadata": {},
   "source": [
    "Diese Funktion können wir über ihren Namen ansprechen:"
   ]
  },
  {
   "cell_type": "code",
   "execution_count": null,
   "id": "brave-jones",
   "metadata": {},
   "outputs": [],
   "source": [
    "add(4, 6)"
   ]
  },
  {
   "cell_type": "markdown",
   "id": "democratic-tournament",
   "metadata": {},
   "source": [
    "Der Name befindet sich im [globalen Namensraum](sec-global-namespace) und verweist auf den Code der die Funktion realisiert.\n",
    "Wir können einen Verweis auf die Funktion auch in einer Variablen abspeichern, dazu verwenden wir lediglich den Namen der Funktion:"
   ]
  },
  {
   "cell_type": "code",
   "execution_count": null,
   "id": "crazy-wisdom",
   "metadata": {},
   "outputs": [],
   "source": [
    "func = add\n",
    "func(4, 6)"
   ]
  },
  {
   "cell_type": "markdown",
   "id": "trained-guitar",
   "metadata": {},
   "source": [
    "Eine *anonyme Funktion* erlaubt uns dies ebenfalls."
   ]
  },
  {
   "cell_type": "code",
   "execution_count": null,
   "id": "dynamic-catering",
   "metadata": {},
   "outputs": [],
   "source": [
    "func = lambda x, y : x + y\n",
    "func(4, 6)"
   ]
  },
  {
   "cell_type": "markdown",
   "id": "sticky-granny",
   "metadata": {},
   "source": [
    "In ``Python`` sind *anonyme Funktionen* zugleich *kleine Funktionen*.\n",
    "\n",
    "Mit dem Signalwort ``lambda`` beginnt die Definition einer *anonyme Funktion*.\n",
    "Nach ``lambda`` folgen die Parameter und nach dem ``:`` der Funktionsrumpf.\n",
    "Die gesamte Funktionsdefinition muss dabei in eine Zeile passen.\n",
    "Es darf sich beim Funktionsrumpf nur im **einen** Ausdruck handeln.\n",
    "Der Rückgabewert ist automatisch der ausgewertete Ausdruck hinter dem ``:``.\n",
    "\n",
    "Bei dieser enormen Einschränkung stellt sich die Frage, wann verwenden wir *anonyme Funktionen*?\n",
    "Anonyme Funktionen werden oft benutzt wenn die Logik der Funktion sehr einfach ist und wir Funktionen als Argumente verwenden um das Verhalten anderer Funktionen zu verändern.\n",
    "Oder aber wenn Funktionen andere Funktionen zurückliefern.\n",
    "\n",
    "Diese *anonyme Funktionen* können, wenn sie vernünftig eingesetzt werden, unseren Code verkürzen und die Lesbarkeit erhöhen sowie unserer Produktivität steigern.\n",
    "\n",
    "Nehmen wir eine Liste von ganzen Zahlen.\n",
    "Und sagen wir, wir wollen eine neue Liste erzeugen, welche die Quadrate all dieser Zahlen enthält.\n",
    "Die *built-in* Funktion ``map(func, iterable)`` transformiert ``iterable`` indem es die Funktion ``func`` auf jedem Element von ``iterable`` ausführt."
   ]
  },
  {
   "cell_type": "code",
   "execution_count": null,
   "id": "distributed-attendance",
   "metadata": {},
   "outputs": [],
   "source": [
    "numbers = list(range(10))\n",
    "def square(x):\n",
    "    return x * x\n",
    "\n",
    "list(map(square, numbers))"
   ]
  },
  {
   "cell_type": "markdown",
   "id": "impaired-settlement",
   "metadata": {},
   "source": [
    "Nach diesem Aufruf brauchen wir ``square()`` vermutlich nie wieder, zudem ist die Funktion so simpel, dass eine vollwertige Definition übertrieben scheint.\n",
    "Kürzer geht das ganze mit einer *anonymen Funktion*:"
   ]
  },
  {
   "cell_type": "code",
   "execution_count": null,
   "id": "demographic-manner",
   "metadata": {},
   "outputs": [],
   "source": [
    "numbers = list(range(10))\n",
    "list(map(lambda x: x * x, numbers))"
   ]
  },
  {
   "cell_type": "markdown",
   "id": "weird-sessions",
   "metadata": {},
   "source": [
    "Erwartet eine Funktion eine andere Funktion, so ist es oft sinnvoll ein Standardarguments als *anonyme Funktion* festzulegen, da wir ihn nur an dieser Stelle brauchen:"
   ]
  },
  {
   "cell_type": "code",
   "execution_count": null,
   "id": "intense-tongue",
   "metadata": {},
   "outputs": [],
   "source": [
    "def apply(mylist, func = lambda e : e):\n",
    "    return list(map(func, numbers))\n",
    "\n",
    "numbers = list(range(10))\n",
    "print(apply(numbers))\n",
    "print(apply(numbers, lambda x: 2*x+1))"
   ]
  },
  {
   "cell_type": "markdown",
   "id": "abroad-worker",
   "metadata": {},
   "source": [
    "Ein weiterer Fall für den sich eine *anonyme Funktion* eignen kann ist, wenn wir bestimmte Parameter fixieren wollen.\n",
    "Das bedeutet wir haben eine Funktion mit $n$ Parametern und wir möchten daraus eine neue Funktion mit $m < n$ Parametern bauen und dabei $n-m$ Parameter fixieren.\n",
    "Zum Beispiel:"
   ]
  },
  {
   "cell_type": "code",
   "execution_count": null,
   "id": "duplicate-luther",
   "metadata": {},
   "outputs": [],
   "source": [
    "def f(a, b, c, d):\n",
    "    return (2 * a + b**2 - 3*c) / d\n",
    "\n",
    "# fix a and d\n",
    "h = lambda b, c: f(4, b, c, 9)\n",
    "\n",
    "h(3, 1)"
   ]
  },
  {
   "cell_type": "markdown",
   "id": "spread-celebration",
   "metadata": {},
   "source": [
    "So können wir aus einer allgemeineren Funktion eine speziellere Funktion mit weniger Freiheitsgraden bauen."
   ]
  }
 ],
 "metadata": {
  "jupytext": {
   "formats": "md:myst",
   "text_representation": {
    "extension": ".md",
    "format_name": "myst"
   }
  },
  "kernelspec": {
   "display_name": "Python 3",
   "language": "python",
   "name": "python3"
  },
  "source_map": [
   11,
   19,
   22,
   26,
   28,
   33,
   36,
   40,
   43,
   63,
   69,
   74,
   77,
   81,
   88,
   94,
   102
  ]
 },
 "nbformat": 4,
 "nbformat_minor": 5
}