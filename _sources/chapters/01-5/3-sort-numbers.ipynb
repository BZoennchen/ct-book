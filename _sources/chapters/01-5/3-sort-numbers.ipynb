{
 "cells": [
  {
   "cell_type": "markdown",
   "id": "alien-minnesota",
   "metadata": {},
   "source": [
    "# Zahlen sortieren in Python\n",
    "\n",
    "Wunderbar, wir können nun Karten sortieren. \n",
    "Aber können wir vielleicht noch viel mehr?\n",
    "Sehen Sie sich den Code aus dem letzten Abschnitt genau an.\n",
    "An welcher Stelle geht es wirklich um Karten?\n",
    "Wie und wo müsste man den Code ändern um z.B. Zahlen zu sortieren?\n",
    "\n",
    "```{exercise} Zahlen sortieren in Python\n",
    "Ändern oder erweitern Sie Ihren Programmiercode um Zahlen anstatt Karten zu sortieren.\n",
    "```"
   ]
  },
  {
   "cell_type": "code",
   "execution_count": null,
   "id": "together-fluid",
   "metadata": {
    "tags": [
     "hide-input"
    ]
   },
   "outputs": [],
   "source": [
    "# Kopie des Codes des vorherigen Abschnitts.\n",
    "\n",
    "def find_smallest_index(hand):\n",
    "    index = 0\n",
    "    for i in range(len(hand)):\n",
    "        if is_smaller(hand[i], hand[index]):\n",
    "            index = i\n",
    "    return index\n",
    "\n",
    "def remove_smallest_card(hand):    \n",
    "    i = find_smallest_index(hand)\n",
    "    card = hand[i]\n",
    "    del hand[i]\n",
    "    return card\n",
    "\n",
    "def stack_sort(hand):\n",
    "    stack = [];\n",
    "    while len(hand) > 0:\n",
    "        stack.append(remove_smallest_card(hand))\n",
    "    return stack   "
   ]
  },
  {
   "cell_type": "markdown",
   "id": "prepared-corpus",
   "metadata": {},
   "source": [
    "Wir benötigen lediglich einen neuen Vergleichsoperator ``is_smaller()``."
   ]
  },
  {
   "cell_type": "code",
   "execution_count": null,
   "id": "useful-promise",
   "metadata": {},
   "outputs": [],
   "source": [
    "def is_smaller(number1, number2):\n",
    "    return number1 < number2\n",
    "\n",
    "stack_sort([-11, 12, -6, 45, 1, 54, -55, 88])"
   ]
  },
  {
   "cell_type": "code",
   "execution_count": null,
   "id": "effective-silicon",
   "metadata": {
    "tags": [
     "output_scroll"
    ]
   },
   "outputs": [],
   "source": [
    "import random\n",
    "n_numbers = 1000\n",
    "\n",
    "hand = [random.randint(0, n_numbers) for _ in range(n_numbers)]\n",
    "stack_sort(hand)"
   ]
  }
 ],
 "metadata": {
  "jupytext": {
   "formats": "md:myst",
   "text_representation": {
    "extension": ".md",
    "format_name": "myst"
   }
  },
  "kernelspec": {
   "display_name": "Python 3",
   "language": "python",
   "name": "python3"
  },
  "source_map": [
   11,
   25,
   47,
   51,
   60
  ]
 },
 "nbformat": 4,
 "nbformat_minor": 5
}