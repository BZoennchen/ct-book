{
 "cells": [
  {
   "cell_type": "markdown",
   "id": "75959bcf",
   "metadata": {},
   "source": [
    "# Denken lernen?\n",
    "\n",
    ">I think everybody should learn how to program a computer, because it teaches you how to think. So I view computer science as a liberal art. It should be something everybode learns. -- Steve Jobs\n",
    "\n",
    "Es mag für Sie ein wenig vermessen klingen, dass Sie in diesem Kurs das \"richtige\" Denken lernen sollen.\n",
    "Sollten Sie das nicht bereits beherrschen?\n",
    "Wären Sie andernfalls überhaupt im Studium gelandet?\n",
    "\n",
    "Computational Thinking ist eine Form des Denkens, die anderen Formen weder überlegen noch unterlegen ist.\n",
    "In vielen Bereichen des Lebens ist es von Vorteil wenn die Bedeutung einer Arbeit unklar bleibt.\n",
    "Literarische Meisterwerke sind beispielweise oftmals genau deshalb so meisterlich, da sie eine Vielzahl an Interpretationen zulassen.\n",
    "Oder denken Sie an unsere naturliche Sprache, die ungenau und oft mehrdeutig ist aber dadurch eine Flexibilität aufweist, die viele Perspektiven und Interpretationen zulässt.\n",
    "\n",
    "Wie wir sehen werden verhält es sich beim Computational Thinking anders.\n",
    "Wir wagen in die Welt der formalen Sprachen, welche keine Missverständnisse und Mehrdeutigkeiten zulassen.\n",
    "\n",
    "## Schnelles und langsames Denken\n",
    "\n",
    "In seinem Buch *Schnelles Denken, Langsames Denken* {cite:p}`kahneman:2011` beschreibt der Nobelpreisträger und einflussreiche Wissenschaftler unserer Zeit Daniel Kahneman sehr eindringlich, wie wir Menschen Entscheidungen treffen.\n",
    "Er betont dabei, dass Zögern ein überlebensnotwendiger Reflex ist und beschreibt was in unserem Gehirn vor sich geht, wenn wir andere Menschen oder Dinge beurteilen. \n",
    "Vereinfacht ausgedrückt wird das menschliche Denken durch zwei kognitive Systeme bestimmt:\n",
    "Durch das *(1) schnelle Denken* und durch das *(2) langsame Denken*.\n",
    "Blicken Sie auf folgende Aufgabe:\n",
    "\n",
    "```{exercise} Blinzeln des Alphabets\n",
    ":label: fast-and-slow-thinking-exercise\n",
    "Ein Schläger und ein Ball kosten zusammen 1.10 Euro.\n",
    "Der Schläger kostet einen Euro mehr als der Ball.\n",
    "Wie viel kostet der Ball?\n",
    "```"
   ]
  },
  {
   "cell_type": "code",
   "execution_count": 1,
   "id": "98bfc877",
   "metadata": {
    "tags": [
     "remove-input"
    ]
   },
   "outputs": [
    {
     "ename": "ModuleNotFoundError",
     "evalue": "No module named 'jupyterquiz'",
     "output_type": "error",
     "traceback": [
      "\u001b[0;31m---------------------------------------------------------------------------\u001b[0m",
      "\u001b[0;31mModuleNotFoundError\u001b[0m                       Traceback (most recent call last)",
      "Cell \u001b[0;32mIn[1], line 15\u001b[0m\n\u001b[1;32m      1\u001b[0m quiz\u001b[38;5;241m=\u001b[39m[{\n\u001b[1;32m      2\u001b[0m     \u001b[38;5;124m\"\u001b[39m\u001b[38;5;124mquestion\u001b[39m\u001b[38;5;124m\"\u001b[39m: \u001b[38;5;124m\"\u001b[39m\u001b[38;5;124mNennen Sie Ihre Antwort:\u001b[39m\u001b[38;5;124m\"\u001b[39m,\n\u001b[1;32m      3\u001b[0m     \u001b[38;5;124m\"\u001b[39m\u001b[38;5;124mtype\u001b[39m\u001b[38;5;124m\"\u001b[39m: \u001b[38;5;124m\"\u001b[39m\u001b[38;5;124mnumeric\u001b[39m\u001b[38;5;124m\"\u001b[39m,\n\u001b[0;32m   (...)\u001b[0m\n\u001b[1;32m     12\u001b[0m     ]\n\u001b[1;32m     13\u001b[0m }]\n\u001b[0;32m---> 15\u001b[0m \u001b[38;5;28;01mfrom\u001b[39;00m \u001b[38;5;21;01mjupyterquiz\u001b[39;00m \u001b[38;5;28;01mimport\u001b[39;00m display_quiz\n\u001b[1;32m     16\u001b[0m display_quiz(quiz, border_radius\u001b[38;5;241m=\u001b[39m\u001b[38;5;241m2\u001b[39m, lang\u001b[38;5;241m=\u001b[39m\u001b[38;5;124m'\u001b[39m\u001b[38;5;124mde\u001b[39m\u001b[38;5;124m'\u001b[39m)\n",
      "\u001b[0;31mModuleNotFoundError\u001b[0m: No module named 'jupyterquiz'"
     ]
    }
   ],
   "source": [
    "quiz=[{\n",
    "    \"question\": \"Nennen Sie Ihre Antwort:\",\n",
    "    \"type\": \"numeric\",\n",
    "    \"precision\": 2,\n",
    "    \"answers\": [\n",
    "        {\n",
    "            \"type\": \"value\",\n",
    "            \"value\": 0.05,\n",
    "            \"correct\": True,\n",
    "            \"feedback\": \"Richtig.\"\n",
    "        }\n",
    "    ]\n",
    "}]\n",
    "\n",
    "from jupyterquiz import display_quiz\n",
    "display_quiz(quiz, border_radius=2, lang='de')"
   ]
  },
  {
   "cell_type": "markdown",
   "id": "9f69cacf",
   "metadata": {},
   "source": [
    "Intuitiv, d.h., durch das *schnelle Denken* beantworten die meisten Menschen diese Frage mit: Der Ball kostet 10 Cent.\n",
    "Diese Antwort ist jedoch falsch!\n",
    "Nehmen wir uns einen Augenblick Zeit und aktivieren unser *langsames Denken*.\n",
    "Sagen wir der Preis des Balls sei $b$ und der Preis des Schlägers $s$.\n",
    "Dann erkennen wir, dass \n",
    "\n",
    "$$b + s = 1.10 \\text{ und } s = b + 1.0$$\n",
    "\n",
    "gilt.\n",
    "Wir lösen beide Gleichungen nach $b$ auf und erhalten:\n",
    "\n",
    "$$b = s - 1 \\land b = 1.10 - s \\Rightarrow s-1 = 1.10-s \\Rightarrow 2s = 2.10 \\Rightarrow s = 1.05$$\n",
    "\n",
    "und demnach gilt $b = s - 1= 1.05-1 = 0.05$ also 5 Cent.\n",
    "Das falsche Ergebnis entstammt dem *schnellen* und das richtige dem *langsamen Denken*!\n",
    "\n",
    "Wenn Sie etwas intuitiv, quasi aus dem Bauch heraus und mühelos abschätzten oder unbewusst einfach tun, dann ist das *schnelle Denken* aktiv.\n",
    "Nehmen wir das Autofahren.\n",
    "Wenn Sie geübt darin sind, werden Sie ohne darüber nachzudenken \"einfach fahren\".\n",
    "Sie werden allein durch den Ton den das Auto macht und wie die Straße schimmert wissen was zu tun ist.\n",
    "Wenn Sie einen Ball fangen wollen, dann werden Sie keine komplizierte Berechnung durchführen, sondern eine fast schon automatische Abschätzung vornehmen.\n",
    "Tischtennisspieler\\*innen können den Ball, der sich in einer unglaublichen Geschwindigkeit über den Tisch bewegt, scheinbar mühelos verfolgen und treffen.\n",
    "Wie ist das möglich?\n",
    "\n",
    "In all diesen Beispielen haben wir in früherer Zeit mit dem *langsamen Denken* begonnen.\n",
    "In der Fahrschule mussten wir noch über den genauen Ablauf beim Autofahren nachdenken.\n",
    "Tischtennisspieler\\*innen benötigen tausende von Stunden Training, um derartige Leistungen zu erzielen.\n",
    "Durch das *langsame Denken* schaffen wir es Stück für Stück, entsprechende Fähigkeit ins *schnelle Denken* zu transformieren.\n",
    "Das allerdings kostet Zeit und Anstrengung, besonders zu Beginn.\n",
    "Können wir irgendwann das *schnelle Denken* nutzen vergessen wir häufig wie schwer es zu Beginn gewesen ist und wundern uns über Anfänger\\*innen, welche sich noch in der Phase des *langsamen Denkens* befinden.\n",
    "Oftmals fällt es uns als Expert\\*innen schwer zu erklären was wir genau machen, also warum wir z.B. beim Autofahren eine bestimmte Entscheidung treffen.\n",
    "Wir sehen die Lösung oder was zu tun ist einfach vor uns.\n",
    "\n",
    "Als geübte und erfolgreiche Programmierer\\*innen können wir auf viele Techniken, Konzepte, die Form und Bedeutung von Anweisungen, die Struktur des Programmiercodes, oder auch Codemuster im Modus des *schnellen Denkens* zugreifen.\n",
    "So können wir unser gesamtes *langsames Denken* auf das eigentlich zu lösende Problem loslassen.\n",
    "\n",
    "Jedoch geht es nicht nur darum, dass *schnelle Denken* zu nutzen, sondern es zu kontrollieren und es uns bewusst zu machen.\n",
    "Man spricht dabei von der sog. *Metakognition*.\n",
    "Viele kognitive Verzerrungen (Bias) sind auf das *schnelle Denken* zurückzuführen.\n",
    "Zum Beispiel neigen wir aufgrund des sog. Bestätigungseffekt (engl. confirmation bias) dazu Informationen auszuwählen und aufzunehmen, die unserer vorher gebildeten Meinung entsprechen.\n",
    "Wir deuten Informationen, sodass sie die eigenen Erwartungen bestätigen.\n",
    "\n",
    "```{exercise} Blinzeln des Alphabets\n",
    ":label: confirmation-bias-exercise\n",
    "Sie überholen den dritten. Welchen Platz haben Sie dann?\n",
    "```\n",
    "\n",
    "Vorschnell ist die Antwort: Den zweiten Platz!\n",
    "Dies suggeriert der Überholvorgang.\n",
    "Wir können unsere Verzerrungen, die durch das *schnelle Denken* entstehen, nicht verhindern.\n",
    "Doch können wir immer wieder innehalten und unser *langsames Denken* aktivieren und nachprüfen ob unsere Intuition korrekt ist.\n",
    "\n",
    "## Durch Fehler lernen\n",
    "\n",
    "Kreativ-logisches Denken ist, wie so vieles im Leben, keine binäre Fähigkeit, die entweder vorhanden ist oder nicht.\n",
    "Ein gewisses Talent ist hilfreich aber um richtig gut darin zu werden braucht es Übung---die Denkmuskel müssen gefüttert werden.\n",
    "Vergleichbar mit den abgespeicherten Bewegungsabläufen im Leistungssport, welche Sie problemlos automatisch abrufen können, erlernen wir im Denksport Muster, welche Sie problemlos erkennen.\n",
    "Schachspieler blicken auf einen Spielstand analysieren Muster (Positionen von mehreren Figuren als Ganzes), durch die sie auf neue Spielzüge schließen.\n",
    "Das Lesen von mathematischen Ausdrücken wird Ihnen immer leichter Fallen je mehr Ausdrücke Sie lesen.\n",
    "Das liegt nicht nur daran, dass Sie besser in Mathe werden, sondern dass Sie die Symbole wie Ihre Muttersprache schneller und besser als Muster erkennen.\n",
    "Programmcode werden Sie immer schneller und besser verstehen, je mehr Programmcode Sie zu verstehen versuchen.\n",
    "Um diese Erfolge zu feiern bedarf es der täglichen Übung des Programmierens und der Konfrontation mit immer komplexeren Problemen.\n",
    "\n",
    "Denken ist zudem ein lebenslanger Prozess mit einem Rückkopplungseffekt.\n",
    "Unsere Gedanken der Vergangenheit formen unsere Gedanken der Zukunft.\n",
    "In der Biologie spricht man dabei von Autopoesie {cite}`maturana:1987`, d.h. von der Selbsterschaffung und Selbsterhaltung eines Systems, in diesem Fall unseres Geistes.\n",
    "Es ist deshalb ratsam sich hin und wieder Gedanken über seine Gedanken zu machen.\n",
    "Diese rekursive Eigenschaft der Selbstbeobachtung ist uns Menschen zum Glück möglich, wir können uns sogar dabei beobachten wie wir uns beobachten und so weiter und so fort.\n",
    "\n",
    "Klare Gedanken zu fassen und sich präzise auszudrücken ist nicht nur nützlich, sondern birgt auch einen intrinsischen Wert.\n",
    "Es schult Ihre Fähigkeit Sachverhalte schnell aufzunehmen, schärft Ihren Verstand und wirkt sich nach unserer Ansicht auch auf das kritische Denken aus.\n",
    "Zum Beispiel fällt es Ihnen möglicherweise bei einem Gespräch leichter feststellen, ob eine Argumentation logische Fehler enthält.\n",
    "\n",
    "Außerdem wage ich zu behaupten, dass Sie durch [Computational Thinking](sec-what-is-ct) in eine Welt eintauchen können in der Sie das Ruder übernehmen.\n",
    "Es ist eine sehr reine Welt die, anders als unsere oft verschwommene Realität, noch klare Wahrheiten und Strukturen bietet und zugleich eine Spielwiese für kreatives Schaffen darstellt.\n",
    "Sie werden im Laufe des Kurses feststellen, dass es viele neue interessante Konzepte und Objekte zu entdecken gibt."
   ]
  }
 ],
 "metadata": {
  "jupytext": {
   "formats": "md:myst",
   "text_representation": {
    "extension": ".md",
    "format_name": "myst"
   }
  },
  "kernelspec": {
   "display_name": "Python 3",
   "language": "python",
   "name": "python3"
  },
  "language_info": {
   "codemirror_mode": {
    "name": "ipython",
    "version": 3
   },
   "file_extension": ".py",
   "mimetype": "text/x-python",
   "name": "python",
   "nbconvert_exporter": "python",
   "pygments_lexer": "ipython3",
   "version": "3.11.4"
  },
  "source_map": [
   11,
   44,
   65
  ]
 },
 "nbformat": 4,
 "nbformat_minor": 5
}