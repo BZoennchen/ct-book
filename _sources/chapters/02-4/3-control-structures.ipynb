{
 "cells": [
  {
   "cell_type": "markdown",
   "id": "3f85441e",
   "metadata": {},
   "source": [
    "(sec-control-structures)=\n",
    "# Kontrollstrukturen\n",
    "\n",
    "Durch [Wiederholung](sec-repetition-and-recursion) in Form von *Schleifen* und *(rekursiven) Funktionen* vermeiden wir es Anweisungen, die wir mehrfach ausführen wollen, auch mehrfach niederzuschreiben.\n",
    "Erst durch diese fundamentale Eigenschaft, ist es überhaupt möglich, dass wir die Anzahl der ausgeführten Anweisungen von der Länge des Programmcodes entkoppeln.\n",
    "\n",
    "[Fallunterscheidungen](sec-if-else) erlauben es uns wiederum bestimmte Anweisungen nur dann auszuführen, wenn eine bestimmte Bedingung zur Laufzeit des Programms erfüllt ist.\n",
    "\n",
    "*Schleifen* und *Fallunterscheidungen* kombiniert mit *Variablen*, bilden bereits alles was wir benötigen.\n",
    "Um unseren Programmcode zu strukturieren und bestimmte Programmteile an verschiedenen Stellen aufzurufen, gibt es zusätzlich das Konzept der Programmierfunktionen oder kurz *Funktionen*.\n",
    "\n",
    "```{admonition} Kontrollstrukturen\n",
    ":name: def-control-structure\n",
    ":class: definition\n",
    "\n",
    "*Kontrollstrukturen* sind Anweisungen, welche die Abarbeitungsreihenfolge von anderen Anweisungen, und damit den Programmablauf kontrollieren.\n",
    "```\n",
    "\n",
    "Zusammenfassend konzentrieren wir uns auf:\n",
    "\n",
    "1. Fallunterscheidungen (bedingte Ausführung)\n",
    "2. Schleifen (Wiederholung)\n",
    "3. Funktionen (Wiederholung)\n",
    "\n",
    "Wie bereits erwähnt, muss eine Programmiersprache nur sehr wenige und auch nur sehr primitive Kontrollstrukturen anbieten damit diese als [Turing-vollständig](def-turing-complete) gilt.\n",
    "Theoretisch ist es bereits ausreichend wenn eine Programmiersprache \n",
    "\n",
    "1. Variablen unterstützt, auf die wir einen konstanten Wert addieren oder subtrahieren können und\n",
    "2. eine Wiederholung unterstützt, dessen Abbruchbedingung vor dem Eintritt in die Wiederholung unbekannt ist (``while``-Schleife)\n",
    "\n",
    "Die Fallunterscheidung, lässt sich (in hässlicher Form) durch eine Schleife ausdrücken.\n",
    "\n",
    "(sec-if-else)=\n",
    "## Fallunterscheidungen\n",
    "\n",
    "Die erste Kontrollstruktur realisiert die bedingte Ausführung, das bedeutet, eine bestimmte Sequenz von Anweisungen ``A1, ... ,An`` wird nur dann ausgeführt, wenn eine Bedingung ``B`` zutrifft.\n",
    "\n",
    "```\n",
    "if B:\n",
    "    A1\n",
    "    ...\n",
    "    An\n",
    "```\n",
    "\n",
    "Die Bedingung ``B`` kann nur zu wahr ``True`` oder falsch ``False`` ausgewertet werden.\n",
    "Gewöhnlich hängt der Wahrheitswert der Bedingung vom Programmablauf ab, d.h., er ist erst zur Laufzeit bekannt.\n",
    "Zum Beispiel gibt folgendes Programm ``'you win!'`` mit einer (pseudo) Wahrscheinlichkeit von 50% aus, da der *Variablen* ``x`` ein Zufallswert zwischen 0 und 1 (Gleichverteilung) zugewiesen wird."
   ]
  },
  {
   "cell_type": "code",
   "execution_count": 1,
   "id": "bad6687a",
   "metadata": {},
   "outputs": [],
   "source": [
    "import random as rnd\n",
    "\n",
    "x = rnd.random()\n",
    "if x > 0.5:\n",
    "    print('you win!')"
   ]
  },
  {
   "cell_type": "markdown",
   "id": "27132675",
   "metadata": {},
   "source": [
    "Es gibt von diesen Fallunterscheidungen verschiedene Varianten, wobei diese lediglich syntaktischer Zucker sind.\n",
    "Für ``Python`` besprechen wir alle Möglichkeiten im Teil **PYTHON** in [Kontrollstrukturen](sec-cases).\n",
    "\n",
    "(sec-repetition-and-recursion)=\n",
    "## Wiederholung\n",
    "\n",
    "Das fundamentale Prinzip der *Wiederholung* ist zentraler Bestandteil des [Computational Thinkings](sec-what-is-ct).\n",
    "Blicken wir in den Werkzeugkasten der Algorithmen so finden wir die Wiederholung überall.\n",
    "Sortieralgorithmen, die Berechnung eines Gleichungssystems, das Verarbeiten eines Bildes, die Schaltflächen einer App, überall finden wir Schleifen, die unsere Informationen *iterativ* verarbeiten.\n",
    "\n",
    "Nach der Definition eines Algorithmus, muss dieser aus endlich vielen Anweisungen bestehen.\n",
    "Will man jedoch eine variable Menge an Information verarbeiten, so muss ein Algorithmus, abhängig von der Eingabegröße, unterschiedlich viele Anweisungen ausführen.\n",
    "Das bedeutet, dass die Länge des Algorithmus (Textlänge) unabhängig von der Anzahl der auszuführenden Anweisungen (für eine gegebenen Eingabe) sein muss!\n",
    "Nach dem Schubfachprinzip bedeutet dies wiederum, dass in diesem Fall Teile des Algorithmus öfters durchlaufen werden - Wiederholung muss also in irgendeiner Form stattfinden.\n",
    "\n",
    "Überraschenderweise hat sich herausgestellt, dass *Wiederholung* in Kombination mit der *Fallunterscheidung* ausreicht, um alles berechnen zu können was wir bisher als natürlich [berechenbar](def-turing-computable) ansehen.\n",
    "Nach der unbeweisbaren [Church-Turing-These](def-church-these) werden wir kein Problem finden, welches natürlich berechenbar aber nicht durch einen Computer berechnet werden kann.\n",
    "Die Fallunterscheidung in Kombination mit der Wiederholung ist scheinbar ausreichend.\n",
    "\n",
    "Nun haben Sie vielleicht die Hoffnung, Sie müssten nur die [Wiederholung](sec-repetition-and-recursion) und die [Fallunterscheidungen](sec-if-else) beherrschen und können dann jedes Problem lösen.\n",
    "Leider sind diese beiden Techniken derart grundlegend, dass sie eine notwendige nicht aber ausreichende Bedingung für die Entwicklung von Algorithmen darstellen.\n",
    "Wir können das mit der Sprache vergleichen.\n",
    "Nur weil wir Laute von uns geben können, heißt das nicht, dass wir uns in jeder Sprache verständigen können.\n",
    "Ein weiteres Beispiel wären die Naturwissenschaften.\n",
    "Nur weil wir die kleinsten Teilchen im Universum verstehen, bedeutet dass nicht, dass wir damit das entstehen von Leben oder andere komplexe Übergängen erklären können.\n",
    "\n",
    "Wir kennen zwei Arten von Wiederholungen:\n",
    "\n",
    "1. Die [Iteration](sec-iteration) und \n",
    "2. die [Rekursion](sec-recursion).\n",
    "\n",
    "Auf der konzeptionellen Ebene erscheinen Iteration und Rekursion grundverschieden -- es sind unterschiedliche Denkweisen.\n",
    "Wir können rekursiv oder iterativ denken.\n",
    "\n",
    "```{admonition} Iteration und Rekursion\n",
    ":class: theorem\n",
    ":name: theorem-iteration-and-recursion\n",
    "\n",
    "Jede Rekursion kann in eine unbestimmte Iteration und jede (unbestimmte) Iteration in eine Rekursion umgewandelt werden.\n",
    "\n",
    "```\n",
    "\n",
    "Mit *unbestimmt* meinen wir, dass bevor die Iteration beginnt nicht bekannt ist, wie viele Wiederholungen nötig sind.\n",
    "\n",
    "Manche Probleme lassen sich leichter rekursiv und andere leichter iterativ lösen bzw. durchdenken.\n",
    "In manchen Fällen ist es beispielsweise sinnvoll eine rekursive Lösung zu entwickeln und diese dann in eine iterative umzuwandeln.\n",
    "\n",
    "(sec-iteration)=\n",
    "### Iteration\n",
    "\n",
    "Wenn Sie Erfahrung im entwickeln von iterativen Algorithmen gesammelt haben und iterative Algorithmen analysiert und verwendet haben, dann werden Sie beginnen in Iterationen zu denken.\n",
    "Sie werden beginnen in Iterationen von Iterationen von Iterationen zu denken.\n",
    "\n",
    "Das wohl einfachste Beispiel für eine Iteration ist die Addition einer Menge von Zahlen.\n",
    "Lassen Sie uns alle geraden Zahlen von ``2`` bis ``n`` addieren.\n",
    "Hierzu brauchen wir eine Variable ``acc``, welche wir mit dem Wert ``0`` initialisieren und dann iterativ 2 dann 4, und so weiter addieren."
   ]
  },
  {
   "cell_type": "code",
   "execution_count": 2,
   "id": "0a37336c",
   "metadata": {},
   "outputs": [
    {
     "data": {
      "text/plain": [
       "2450"
      ]
     },
     "execution_count": 2,
     "metadata": {},
     "output_type": "execute_result"
    }
   ],
   "source": [
    "acc = 0\n",
    "n = 100\n",
    "for k in range(2,n,2):\n",
    "    acc += k\n",
    "\n",
    "acc"
   ]
  },
  {
   "cell_type": "code",
   "execution_count": 3,
   "id": "d1194cf4",
   "metadata": {},
   "outputs": [
    {
     "data": {
      "text/plain": [
       "2450"
      ]
     },
     "execution_count": 3,
     "metadata": {},
     "output_type": "execute_result"
    }
   ],
   "source": [
    "acc = 0\n",
    "n = 100\n",
    "k = 2\n",
    "while k < n:\n",
    "    acc += k\n",
    "    k += 2\n",
    "\n",
    "acc"
   ]
  },
  {
   "cell_type": "markdown",
   "id": "3bfcf02f",
   "metadata": {},
   "source": [
    "Betrachten wir einen etwas komplizierteren Algorithmus: Den [Bubblesort Algorithmus](https://en.wikipedia.org/wiki/Bubble_sort).\n",
    "Dieser sortiert eine Liste von vergleichbaren Objekten.\n",
    "Wir gehen durch die Liste (1. *Iterationen*) und wann immer zwei nebeneinander liegende Zahlen falsch sortiert sind, vertauschen wir diese.\n",
    "Wir wiederholen dies (2. *Iterationen*) solange bis keine zwei benachbarte Zahlen falsch sortiert sind."
   ]
  },
  {
   "cell_type": "code",
   "execution_count": 4,
   "id": "cda40cd9",
   "metadata": {},
   "outputs": [
    {
     "name": "stdout",
     "output_type": "stream",
     "text": [
      "before sorting: [5, 1, 9, 7, 3, 4, 6, 8, 2]\n",
      "after sorting: [1, 2, 3, 4, 5, 6, 7, 8, 9]\n"
     ]
    }
   ],
   "source": [
    "import random as rnd\n",
    "\n",
    "def bubble_sort(numbers):\n",
    "    finished = False\n",
    "    while(not finished):\n",
    "        finished = True\n",
    "        for i in range(1,len(numbers)):\n",
    "            if numbers[i] < numbers[i-1]:\n",
    "                numbers[i], numbers[i-1] = numbers[i-1], numbers[i]\n",
    "                finished = False\n",
    "    \n",
    "numbers = [1,2,3,4,5,6,7,8,9]\n",
    "rnd.shuffle(numbers)\n",
    "print(f'before sorting: {numbers}')\n",
    "bubble_sort(numbers)\n",
    "print(f'after sorting: {numbers}')"
   ]
  },
  {
   "cell_type": "markdown",
   "id": "e8b18145",
   "metadata": {},
   "source": [
    "Die beiden Schleifen liefern uns auch einen Hinweis auf die Laufzeit dieses simplen Sortieralgorithmus.\n",
    "Nach jedem ausführen der inneren Schleife befindet sich ein neues Element an seiner korrekten Position.\n",
    "Damit brauchen wir maximal so viele Durchläufe (1. Iterationen) wie es Elemente sind.\n",
    "Jeder Durchlauf benötigt ebenfalls maximal so viel Schritte wie es Elemente sind.\n",
    "Damit hat der Algorithmus im schlechtesten Fall eine quadratische Laufzeit.\n",
    "Das bedeutet, wollen wir $n$ Zahlen sortieren ist die [Zeitkomplexität](sec-complexity) des Algorithmus gleich $\\mathcal{O}(n^2)$.\n",
    "\n",
    "```{exercise} Fallunterscheidung durch Schleife\n",
    ":label: if-by-for-exercise\n",
    "Schreiben Sie ein Programm, welches den Algorithmus von oben (die zufällige Ausgabe von ``'you win!'``) realisiert, ohne eine Fallunterscheidung zu verwenden.\n",
    "```\n",
    "\n",
    "````{solution} if-by-for-exercise\n",
    ":label: if-by-for-solution\n",
    ":class: dropdown\n",
    "\n",
    "```python\n",
    "import random as rnd\n",
    "\n",
    "x = rnd.random()\n",
    "for i in range(int(0.5+x)):\n",
    "    print('you win!')\n",
    "```\n",
    "\n",
    "````\n",
    "\n",
    "(sec-recursion)=\n",
    "### Rekursion\n",
    "\n",
    "Rekursion ist dieses scheinbar unverständliche Konzept, welches Mathematiker\\*innen lieben und vor dem Programmierer\\*innen anfänglich davonlaufen.\n",
    "Derweil würden wir behaupten, dass die *rekursive Denkweise* uns Menschen näher ist als das Denken in Iterationen.\n",
    "Rekursive Lösungen sind oft eleganter, kürzer, verständlicher aber leider auch langsamer als iterative Lösungen.\n",
    "Die Rekursion hängt dabei stark mit der Induktion zusammen, siehe Abschnitt [vollständige Induktion](sec-induction).\n",
    "\n",
    "Nehmen wir die Berechnung der Fakultät, einmal *iterativ*\n",
    "\n",
    "$$\\text{fac}_\\text{it}(n) = n \\cdot (n-1) \\cdot (n-2) \\cdot \\ldots \\cdot 1 = \\prod\\limits_{i=1}^n i$$"
   ]
  },
  {
   "cell_type": "code",
   "execution_count": 5,
   "id": "193f4a4c",
   "metadata": {},
   "outputs": [
    {
     "data": {
      "text/plain": [
       "120"
      ]
     },
     "execution_count": 5,
     "metadata": {},
     "output_type": "execute_result"
    }
   ],
   "source": [
    "def fac_it(n):\n",
    "    result = 1\n",
    "    for i in range(1,n+1):\n",
    "        result *= i\n",
    "    return result\n",
    "\n",
    "fac_it(5)"
   ]
  },
  {
   "cell_type": "markdown",
   "id": "8def4dc5",
   "metadata": {},
   "source": [
    "und einmal *rekursiv*\n",
    "\n",
    "$$\\text{fac}_\\text{rec}(n) = \\begin{cases} 1 & \\text{ falls } n = 0\\\\ n \\cdot \\text{fac}_\\text{rec}(n-1) & \\text{ sonst}\\end{cases}$$"
   ]
  },
  {
   "cell_type": "code",
   "execution_count": 6,
   "id": "c390d03e",
   "metadata": {},
   "outputs": [
    {
     "data": {
      "text/plain": [
       "120"
      ]
     },
     "execution_count": 6,
     "metadata": {},
     "output_type": "execute_result"
    }
   ],
   "source": [
    "def fac_rec(n):\n",
    "    if n <= 1:\n",
    "        return 1\n",
    "    return n * fac_rec(n-1)\n",
    "\n",
    "fac_rec(5)"
   ]
  },
  {
   "cell_type": "markdown",
   "id": "d648fd1d",
   "metadata": {},
   "source": [
    "Die Rekursion beinhaltet einen Selbstbezug, wohingegen die iterative Lösung diesen ausbreitet bzw. auflöst.\n",
    "Betrachten wir die rekursive Lösung benötigen wir für die Berechnung lediglich die Multiplikation und den Selbstbezug - keine Schleife, und abgesehen von ``n``, nicht einmal eine Variable.\n",
    "\n",
    "```{admonition} Rekursion\n",
    ":name: def-recursion\n",
    ":class: definition\n",
    "Als *Rekursion* wird ein Vorgang bezeichnet, welcher sich selbst als Teil enthält oder mithilfe von sich selbst definierbar ist.\n",
    "```\n",
    "\n",
    "(sec-hanoi)=\n",
    "### Die Türme von Hanoi\n",
    "\n",
    "Probleme lassen sich immer dann leichter rekursiv lösen, wenn der Selbstbezug offensichtlich oder einfach zu finden ist.\n",
    "Ein Beispiel sind die sog. [Türme von Hanoi](https://de.wikipedia.org/wiki/T%C3%BCrme_von_Hanoi).\n",
    "\n",
    "Ein Turm bestehend aus $n$ unterschiedlich breiten Schichten soll von einem Ort 0 zu einem anderen Ort 2 gebracht werden.\n",
    "Der Turm wird nach oben immer schmaler, d.h., die Schicht die über einer anderen liegt ist schmaler.\n",
    "Wir können nur eine einzelne Schicht bewegen und wir dürfen keine Schicht auf eine schmälere legen.\n",
    "Es gibt nur einen zusätzlichen Ablegeort 1.\n",
    "Wie bringen wir den Turm nun von Ort 0 nach Ort 2?\n",
    "\n",
    "**(1) Induktionsanfang:** Hat der Turm nur eine Schicht, ist das Problem schnell gelöst: Bewege Schicht von 0 nach 2.\n",
    "\n",
    "Besteht der Turm aus zwei Schichten, ist das Problem auch noch einfach zu lösen: \n",
    "\n",
    "1. Bewege oberste Schickt von 0 nach 1.\n",
    "2. Bewege unterste Schicht von 0 nach 2 und\n",
    "3. Bewege dann die schmälere Schicht von 1 auf 2.\n",
    "\n",
    "```{figure} ../../figs/art-of-programming/hanoi.png\n",
    "---\n",
    "width: 800px\n",
    "name: fig-hanoi-3\n",
    "---\n",
    "Die Türme von Hanoi mit drei Schichten.\n",
    "```\n",
    "\n",
    "Wie gehen wir aber für einen allgemeinen Fall mit $n$ Schichten vor?\n",
    "\n",
    "**(2) Induktionsschritt:** Nun,\n",
    "\n",
    "1. wir bringen die obersten $n-1$ Schichten von 0 nach 1,\n",
    "2. die unterste Schicht von 0 nach 2 und dann \n",
    "3. die $n-1$ Schichten von 1 nach 2.\n",
    "\n",
    "```{figure} ../../figs/art-of-programming/hanoi-abstract.png\n",
    "---\n",
    "width: 800px\n",
    "name: fig-hanoi-abstract\n",
    "---\n",
    "Die Türme von Hanoi mit $n$ Schichten.\n",
    "```\n",
    "\n",
    "Diese $n-1$ Schichten sind ein Turm, der um eine Schicht kleiner ist.\n",
    "Auch die eine Schicht ist ein Turm, bestehend aus nur einer Schicht.\n",
    "Aus dem Problem einen Turm der Höhe $n$ zu verschieben wurde: Verschiebe Turm der Höhe $n-1$ (Selbstbezug) + Verschiebe eine Scheibe (Rest).\n",
    "\n",
    "Rekursiv zu denken bedeutet oft, dass wir einfach mal davon ausgehen, wir hätten das Problem bereits gelöst.\n",
    "Wir schreiben in einem deklarativen Stil, d.h., wir schreiben hin was wir wollen und nicht was wir tun.\n",
    "Wir gehen also davon aus es gäbe eine Funktion ``move_tower(n, fr, to, tmp)``, welche die obersten ``n`` Schichten eines Turms von ``fr`` nach ``to`` bringt und dabei ``tmp`` als Zwischenablage verwendet.\n",
    "\n",
    "```python\n",
    "def move_tower(n, fr, to, tmp):\n",
    "    pass\n",
    "```\n",
    "\n",
    "unter dieser Annahme bewegen wir den Turm wie oben beschrieben:\n",
    "\n",
    "```python\n",
    "def move_tower(n, fr, to, tmp):\n",
    "    if n == 1:\n",
    "        move(fr, to)             # real move from upper most stone\n",
    "    \n",
    "    move_tower(n-1, fr, tmp, to) # eg 0 -> 1\n",
    "    move_tower(1, fr, to, tmp)   # eg 0 -> 2\n",
    "    move_tower(n-1, tmp, to, fr) # eg 1 -> 2\n",
    "```\n",
    "\n",
    "Um das ganze vorzuführen modellieren wir einen Turm als Liste von Zahlen und die drei Plätze als Liste der Länge 3."
   ]
  },
  {
   "cell_type": "code",
   "execution_count": 7,
   "id": "84262c71",
   "metadata": {},
   "outputs": [
    {
     "name": "stdout",
     "output_type": "stream",
     "text": [
      "[[0, 1, 2, 3, 4, 5], [], []]\n",
      "[[], [], [0, 1, 2, 3, 4, 5]]\n"
     ]
    }
   ],
   "source": [
    "def move(hanoi, fr, to):\n",
    "    hanoi[to].insert(0, hanoi[fr][0])\n",
    "    del hanoi[fr][0]\n",
    "\n",
    "def move_tower(hanoi, n, fr, to, spare):\n",
    "    if n == 1:\n",
    "        move(hanoi, fr, to)\n",
    "    else:    \n",
    "        move_tower(hanoi, n-1, fr, spare, to)\n",
    "        move_tower(hanoi, 1, fr, to, spare)\n",
    "        move_tower(hanoi, n-1, spare, to, fr)\n",
    "\n",
    "n = 6\n",
    "tower = list(range(n))\n",
    "hanoi = [tower, [], []]\n",
    "print(hanoi)\n",
    "\n",
    "move_tower(hanoi, n, 0, 2, 1)\n",
    "print(hanoi)"
   ]
  },
  {
   "cell_type": "markdown",
   "id": "727262b6",
   "metadata": {},
   "source": [
    "Erstaunlich, wie kurz die Lösung am Ende ausfällt.\n",
    "Es fühlt sich fast so an als hätten wir an irgendeiner Stelle betrogen.\n",
    "\n",
    "Aber Vorsicht! \n",
    "Zu beweisen, dass der Algorithmus korrekt funktioniert ist nicht trivial.\n",
    "In anderen Worten, es ist nicht offensichtlich, dass der Algorithmus korrekt ist dennoch ist es intuitiv plausibel.\n",
    "Wir die Korrektheit mit einem [Induktionsbeweis](sec-induction-proof) zeigen.\n",
    "Dazu müssen wir zeigen:\n",
    "\n",
    "1. **Induktionsschritt:** Zeige $A(n_0)$, d.h., ``move_tower`` liefert das korrekte Ergebnis für einen Turm der aus nur einer Scheibe besteht ($n_0 = 1$)\n",
    "2. **Induktionsschritt:** Zeige $A(n) \\Rightarrow A(n+1)$, d.h. falls ``move_tower`` das richtige Ergebnis für Turm mit $n$ Schreiben liefert, dann liefert die Funktion auch das richtige Ergebnis für $n+1$ Scheiben.\n",
    "\n",
    "Um eine gute iterative Lösung zu finden braucht es Gehirnschmalz, doch denken Sie daran: Es gibt sie immer!\n",
    "\n",
    "```{exercise} Türme von Hanoi\n",
    ":label: hanoi-exercise\n",
    "Zeigen Sie, dass der oben beschriebene Algorithmus das korrekte Ergebnis liefer.\n",
    "```"
   ]
  }
 ],
 "metadata": {
  "jupytext": {
   "formats": "md:myst",
   "text_representation": {
    "extension": ".md",
    "format_name": "myst"
   }
  },
  "kernelspec": {
   "display_name": "Python 3",
   "language": "python",
   "name": "python3"
  },
  "language_info": {
   "codemirror_mode": {
    "name": "ipython",
    "version": 3
   },
   "file_extension": ".py",
   "mimetype": "text/x-python",
   "name": "python",
   "nbconvert_exporter": "python",
   "pygments_lexer": "ipython3",
   "version": "3.11.4"
  },
  "source_map": [
   11,
   61,
   67,
   126,
   135,
   144,
   151,
   168,
   208,
   216,
   222,
   229,
   311,
   331
  ]
 },
 "nbformat": 4,
 "nbformat_minor": 5
}