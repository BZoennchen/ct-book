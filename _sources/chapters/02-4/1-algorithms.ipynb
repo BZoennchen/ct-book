{
 "cells": [
  {
   "cell_type": "markdown",
   "id": "sophisticated-routine",
   "metadata": {},
   "source": [
    "# Algorithmen\n",
    "Donald Knuth definiert in seiner Bibel der Programmierung (*The Art of Programming*) einen Algorithmus wie folgt:\n",
    "\n",
    ">Ein \\[Computer-\\]Algorithmus ist eine endliche Folge von Anweisung um für eine bestimmte Eingabe eine bestimmte Ausgabe zu erzeugen.\n",
    "Jede Anweisung bzw. jeder Schritt muss so präzise und unmissverständlich beschrieben sein, sodass er von einer Maschine verstanden und schlussendlich ausgeführt werden kann. -- Donald Knuth (1977)\n",
    "\n",
    "```{admonition} Algorithmus\n",
    ":name: def-algorithm\n",
    "Ein Algorithmus ist eine endliche Folge von unmissverständlich beschriebenen ausführbaren Anweisung (z.B. Text/Programmcode) um für eine bestimmte endliche Eingabe in endlich vielen Schritten eine endliche Ausgabe zu erzeugen (wobei zu jeder Zeit der Ausführung nur endlich viel Speicherplatz verwendet wird).\n",
    "```\n",
    "\n",
    "Ein Algorithmus hat demnach folgende Eigenschaften:\n",
    "\n",
    "1. **Endlichkeit**: Er besteht aus einer endlichen Folge von Anweisungen.\n",
    "2. **Eindeutigkeit**: Jede Anweisung hat eine eindeutige Bedeutung.\n",
    "3. **Ausführbarkeit**: Jede Anweisung ist ausführbar.\n",
    "4. **Gebundenheit**: Bei der Ausführung (unabhängig von der endlichen Eingabe) benötigt der Algorithmus zu jeder Zeit endlich viel Speicher\n",
    "5. **Terminierung**: Der Algorithmus endet nach endlich vielen Schritten\n",
    "   \n",
    "oftmals wird zudem erwartet, dass\n",
    "\n",
    "1. **Determiniertheit**: Der Algorithmus erzeugt bei gleicher Eingabe auch die gleiche Ausgabe.\n",
    "2. **Deterministisch**: Während der Ausführung definiert der Algorithmus zu jedem Zeitpunkt die nächste Anweisung.\n",
    "\n",
    "(sec-what-and-how)=\n",
    "## Das Was und das Wie\n",
    "\n",
    "Nach unserer Auffassung muss ein Algorithmus nicht zwangsläufig von einer Maschine verstanden werden.\n",
    "Die Unmissverständlichkeit bezieht sich hingegen auf einen bestimmten *Kontext* und im Falle der von Maschinen ausgeführten Algorithmen gehört die Maschine zu diesem *Kontext*.\n",
    "So ist ein Kochrezept ein Algorithmus der im *Kontext* der Küche und des Kochens eine (hoffentlich) unmissverständliche endliche Folge von Anweisungen darstellt.\n",
    "Durch das Ausführen des Kochrezepts können wir mithilfe von bestimmten Kochutensilien (Eingabe) ein bestimmtes Gericht (Ausgabe) zubereiten.\n",
    "\n",
    "Algorithmen lassen sich auch von der ausführenden Einheit, also der Maschine oder dem Koch loslösen.\n",
    "Während des entwickeln eines Algorithmus ist uns oft klar was eine bestimmte Anweisung tut, d.h., **was** passiert, doch unklar ist oft **wie** dies realisiert ist.\n",
    "In der Realwelt sind wir daran gewöhnt.\n",
    "Wir wissen zwar dass uns der Flieger von München nach Frankfurt bringt, wie das aber im Detail funktioniert ist uns jedoch unklar.\n",
    "Selbst bei den einfachsten Dingen des Alltags wissen wir sehr oft nicht wie die Dinge genau funktionieren.\n",
    "Bevor wir uns Gedanken über Hammer und Nagel machen, hauen wir den Hammer in die Wand.\n",
    "\n",
    "Ein Beispiel aus der Programmiere wäre folgendes: Nehmen wir an ``min`` lieft uns die kleinste und ``max`` die größte Zahl aus einer Liste von Zahlen.\n",
    "Wir kennen also das **Was**.\n",
    "**Wie** ``min`` und ``max`` dies realisieren bleibt im folgenden Algorithmus verborgen und selbstverständlich können wir ``min`` btw. ``max`` verwenden ohne das **Wie** zu kennen."
   ]
  },
  {
   "cell_type": "code",
   "execution_count": 1,
   "id": "super-banking",
   "metadata": {},
   "outputs": [
    {
     "name": "stdout",
     "output_type": "stream",
     "text": [
      "-123\n",
      "41\n"
     ]
    }
   ],
   "source": [
    "x = [1, 36, 8, 3, 41, -123, 0, 3]\n",
    "x_min = min(x)\n",
    "x_max = max(x)\n",
    "print(x_min)\n",
    "print(x_max)"
   ]
  },
  {
   "cell_type": "markdown",
   "id": "proved-strip",
   "metadata": {},
   "source": [
    "Dies ist die Norm.\n",
    "Ihre Algorithmen werden unmissverständlich sein, was jedoch im Detail auf der ausführenden Einheit passiert, bleibt verborgen.\n",
    "Je nachdem welche Programmiersprache und welche Bibliotheken/Pakete Sie verwenden, befinden Sie sich näher oder weiter weg von der ausführenden Einheit.\n",
    "Zusätzlich können Sie sich selbst weiter von ihr entfernen.\n",
    "Zum Beispiel können wir eine Funktion schreiben, die uns das größte und kleinste Element einer Liste zurückliefert:"
   ]
  },
  {
   "cell_type": "code",
   "execution_count": 2,
   "id": "emotional-teens",
   "metadata": {},
   "outputs": [
    {
     "name": "stdout",
     "output_type": "stream",
     "text": [
      "(-123, 41)\n"
     ]
    }
   ],
   "source": [
    "def min_and_max(l):\n",
    "    l_min = min(x)\n",
    "    l_max = max(x)\n",
    "    return l_min, l_max\n",
    "\n",
    "x = [1, 36, 8, 3, 41, -123, 0, 3]\n",
    "print(min_and_max(x))"
   ]
  },
  {
   "cell_type": "markdown",
   "id": "removable-vaccine",
   "metadata": {},
   "source": [
    "Obwohl wir das **Wie** von ``min`` und ``max`` womöglich nicht kennen, wissen wir dass ``min_and_max`` funktioniert, da wir das **Was** von ``min`` und ``max`` kennen.\n",
    "\n",
    "Je maschinennäher Sie programmieren, desto mehr **Kontrolle** aber auch **Verantwortung** haben Sie über die genaue Umsetzung (das **Wie**).\n",
    "Die zusätzliche Kontrolle, die Sie dann nicht einfach abgeben können, führt deshalb zu einem höheren **Entwicklungsaufwand**.\n",
    "\n",
    "```{figure} ../../figs/world-code-computer.png\n",
    "---\n",
    "height: 400px\n",
    "name: fig-world-code-computer\n",
    "---\n",
    "Zusammenhang zwischen modellierter Welt, Quellcode und der realen Welt der Computer.\n",
    "```\n",
    "\n",
    "Je näher Sie an der Maschine programmieren, desto näher befinden Sie sich in der wirklichen physikalischen Welt der Transistoren und elektrischen Schaltkreise.\n",
    "Paradoxerweise führt die Nähe zur wirklichen Welt dazu, dass es schwerer wird die wirkliche Welt zu modellieren.\n",
    "Wir sprechen hier von zwei verschiedenen Welten, der Welt der elektrischen Schaltkreise und beispielsweise der Welt der Planeten oder die Welt des Kartensortierens.\n",
    "\n",
    "Wie wir uns von der Maschine wegbewegen und so an Abstraktheit gewinnen hat wiederum mit der von uns bereits diskutierten [Interpretation](sec-interpretation) $I$ zu tun.\n",
    "Die oben beschriebene Funktion ``min_and_max`` führt zu einer neuen Interpretation in welcher ``min_and_max`` ein Repräsentant ist.\n",
    "Dieser repräsentiert alle notwendigen Anweisungen für die Berechnung und Rückgabe des maximalen und minimalen Elements einer Liste.\n",
    "``min``, ``max`` ``return l_min, l_max`` können wir als Bedeutungen dieser Interpretation.\n",
    "Gleichzeitig sind diese Anweisungen wiederum Repräsentanten einer weiteren Interpretation, welche ins Konkretere führt.\n",
    "\n",
    "Sogenannte Hochsprachen wie ``Python``, ``Java``, ``C#`` abstrahieren die Welt der elektrischen Schaltkreise in eine phantastische Welt aus Datenstrukturen, Variablen, Funktionen, Klassen und Objekte.\n",
    "Pakete und Bibliotheken reichern diese Welt mit weiteren Algorithmen und Datenstrukturen an.\n",
    "Diese Pakete und Bibliotheken werden unentwegt von Programmierer\\*innen durch *Computational Thinking* erschaffen.\n",
    "Durch die Abstraktion wird es möglich, dass elektrische Schaltkreise ganze Galaxien simulieren, Fahrzeuge bewegen oder Transaktionen durchführen.\n",
    "Schlussendlich basiert jedoch alles auf zwei Zuständen, 0 und 1, unvorstellbar vieler winziger elektrischer Bauteile.\n",
    "\n",
    "## Die Natur eines Algorithmus\n",
    "\n",
    "Lassen Sie uns noch ein wenig tiefer in die Natur eines Algorithmus einsteigen.\n",
    "Achtung! Es wird ein wenig philosophisch.\n",
    "\n",
    "Überlegen Sie sich einmal was die Zahl $2$ eigentlich ist?\n",
    "Zunächst einmal ist sie ein Zeichen was wir soeben niedergeschrieben haben.\n",
    "Doch angenommen vor ihnen liegen zwei Äpfel, dann wird die $2$ durch diese zwei Äpfel ausgedrückt.\n",
    "Wir finden Formen der $2$ an vielen verschiedenen Orden in der realen Welt aber nirgends finden wir DIE eine einzigartige $2$.\n",
    "\n",
    "Was DIE $2$ wirklich ist, ist ein Problem mit dem sich viele Philosophen schon auseinander gesetzt haben.\n",
    "Platon ging davon aus, dass es eine echte Welt der Ideen gäbe in der die Idee der $2$ enthalten ist.\n",
    "Nach seiner Vorstellung tragen alle Repräsentanten der $2$ die Idee der $2$ in sich.\n",
    "Die Idee der $2$ scheint durch den Repräsentanten hindurch.\n",
    "Vertreter dieser Strömung (z.b. Gottlob Frege, Kurt Gödel, Hilary Putnam, Penelope Maddy) werden als mathematische Platonisten bezeichnet.\n",
    "\n",
    "Nominalisten (z.B. Ludwig Wittgenstein, Rudolf Carnap, Harty Field) lehnen diese Ideenwelt ab und definieren die $2$ als Objekt in Raum und Zeit, welches ein Repräsentant aller zwei realen Objekte ist.\n",
    "So gesehen würde die $2$ aus unserer Welt verschwinden sobald es keine Repräsentanten von ihr mehr gäbe.\n",
    "\n",
    "Das ist ja alles schön und gut aber was hat das mit den Algorithmen zu tun.\n",
    "Ein Algorithmus kann auch als ein Repräsentant (oder als eine Idee der Ideenwelt) aufgefasst werden.\n",
    "Euklid's Algorithmus zum Finden des größten gemeinsamen Teilers ``gcd``, kann in vielen Unterschiedlichen Formen niedergeschrieben werden.\n",
    "Der Algorithmus kann sogar nur in unserem Kopf existieren.\n",
    "Ist der ``gcd`` in ``Java`` ein anderer Algorithmus als der in ``Python``?\n",
    "Ändere ich die Namen meiner Variablen, ist es dann ein anderer Algorithmus?\n",
    "Darüber lässt sich streiten.\n",
    "Wir sagen aber gewöhnlich: *Ich habe den ``gcd``-Algorithmus in ``Python`` programmiert* oder *das ist der Pseudocode für den ``gcd``-Algorithmus*.\n",
    "\n",
    "Ob nun ein Algorithmus ein Re­prä­sen­tant all seiner Realisierungen ist oder ob jede Realisierung ein eigener Algorithmus ist, ist in der Praxis unwichtig.\n",
    "Dennoch lohnt es sich ein paar Gehirnzellen dieser Fragestellung zu widmen.\n",
    "Beantworten Sie es für sich selbst."
   ]
  }
 ],
 "metadata": {
  "jupytext": {
   "formats": "md:myst",
   "text_representation": {
    "extension": ".md",
    "format_name": "myst"
   }
  },
  "kernelspec": {
   "display_name": "Python 3",
   "language": "python",
   "name": "python3"
  },
  "language_info": {
   "codemirror_mode": {
    "name": "ipython",
    "version": 3
   },
   "file_extension": ".py",
   "mimetype": "text/x-python",
   "name": "python",
   "nbconvert_exporter": "python",
   "pygments_lexer": "ipython3",
   "version": "3.9.8"
  },
  "source_map": [
   11,
   56,
   62,
   70,
   78
  ]
 },
 "nbformat": 4,
 "nbformat_minor": 5
}