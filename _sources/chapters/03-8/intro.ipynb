{
 "cells": [
  {
   "cell_type": "markdown",
   "id": "exclusive-series",
   "metadata": {},
   "source": [
    "# Objektorientierte Programmierung\n",
    "\n",
    "Um zu verstehen was die *objektorientierte Programmierung* ist, ist es äußerst hilfreich sich klar zu machen, was die *objekt-orientierte Programmierung* nicht ist, beziehungsweise woraus die *objektorientierte Programmierung* entstanden ist.\n",
    "\n",
    "Die *objectorientierte Programmierung* ist ein Programmierparadigma, welches sich in den letzten 15 Jahren in vielen Bereichen der Softwareentwicklung durchgesetzt hat.\n",
    "Bis hierhin haben wir uns auf die *prozedurale Programmierung* beschränkt.\n",
    "Auch vor der Einführung der *objekt-orientierte Programmierung* war die *prozedurale Programmierung*, die dominierende Art und Weise zu programmieren.\n",
    "\n",
    "Im *prozeduralen Programmierparadigma* schreiben wir Funktionen, die bestimmte Daten verarbeiten.\n",
    "Jede Funktion steht für sich 'separat' neben den Daten und erhält (sofern sie keine globalen Variablen verwendet) alle Daten als Argumente übergeben.\n",
    "Zum Beispiel können wir als Daten ein Rechteck als Wörterbuch definieren:"
   ]
  },
  {
   "cell_type": "code",
   "execution_count": 1,
   "id": "skilled-sword",
   "metadata": {},
   "outputs": [],
   "source": [
    "rect1 = dict(x=10, y=10, width=100, height=20)\n",
    "rect2 = dict(x=-10, y=-10, width=100, height=30)"
   ]
  },
  {
   "cell_type": "markdown",
   "id": "documentary-antenna",
   "metadata": {},
   "source": [
    "Wenn wir nun eine Funktion schreiben wollen, welche tested ob ein Punkt sich in einem Rechteck befindet, würden wir das in der *prozeduralen Programmierung* wie folgt machen:"
   ]
  },
  {
   "cell_type": "code",
   "execution_count": 2,
   "id": "adult-round",
   "metadata": {},
   "outputs": [
    {
     "name": "stdout",
     "output_type": "stream",
     "text": [
      "True\n",
      "False\n"
     ]
    }
   ],
   "source": [
    "def contains(rect, point):\n",
    "  if point[0] < rect['x'] or point[1] < rect['y']:\n",
    "    return False\n",
    "  if point[0] > rect['x'] + rect['width'] or point[1] > rect['y'] + rect['height']:\n",
    "    return False\n",
    "  return True\n",
    "\n",
    "print(contains(rect1, (15, 17)))\n",
    "print(contains(rect2, (315, 317)))"
   ]
  },
  {
   "cell_type": "markdown",
   "id": "theoretical-scratch",
   "metadata": {},
   "source": [
    "Wir könnten uns weitere Funktionen überlegen, die wir auf ein Rechteck anwenden wollen.\n",
    "Zum Beispiel eine Funktion um das Rechteck zu verschieben:"
   ]
  },
  {
   "cell_type": "code",
   "execution_count": 3,
   "id": "southern-comfort",
   "metadata": {},
   "outputs": [
    {
     "name": "stdout",
     "output_type": "stream",
     "text": [
      "{'x': 20, 'y': 5, 'width': 100, 'height': 20}\n",
      "{'x': 10, 'y': 10, 'width': 100, 'height': 20}\n"
     ]
    }
   ],
   "source": [
    "def translate(rect, delta):\n",
    "  return dict(x=rect['x']+delta[0], y=rect['y']+delta[1], width=rect['width'], height=rect['height'])\n",
    "\n",
    "print(translate(rect1, (10,-5)))\n",
    "print(rect1)"
   ]
  },
  {
   "cell_type": "markdown",
   "id": "confirmed-garbage",
   "metadata": {},
   "source": [
    "Da wir in der *prozeduralen Programmierung* bevorzugt [reine Funktionen](sec-purity) verwenden, legt ``translate`` eine Kopie an und liefert diese verschobene Kopie zurück.\n",
    "\n",
    "```{admonition} Prozedurale Programmierung\n",
    "Die *prozedurale Programmierung* ist ein *Programmierparadigma*, welches auf *Funktionen / Prozeduren* aufgebaut ist.\n",
    "Sie gilt als Erweiterung des *imperativen Paradigmas*.\n",
    "```\n",
    "\n",
    "Im Gegensatz dazu bündeln wir in der *objektorientierte Programmierung* Daten und deren Operanden.\n",
    "Das heißt, Funktionen welche wir auf die Daten anwenden wollen und die Daten selbst werden in ein sog. *Objekt* gepackt.\n",
    "*Objekte* sind Daten angereichert mit Funktionen, welche wir als *Methoden des Objekts* bezeichnen.\n",
    "Objekte sind zugleich Werte bzw. Instanzen von einem bestimmten *benutzerdefinierten zusammengesetzten Datentyp*, den wir als *Klasse* bezeichnen.\n",
    "\n",
    "Lassen Sie uns zuerst einen *zusammengesetzten Datentyp* ``Rectangle`` erzeugen, welcher zugleich die *Methoden* ``contains`` und ``translate`` enthält."
   ]
  },
  {
   "cell_type": "code",
   "execution_count": 4,
   "id": "endangered-connectivity",
   "metadata": {},
   "outputs": [],
   "source": [
    "class Rectangle():\n",
    "  def __init__(self, x, y, width, height):\n",
    "    self.x = x\n",
    "    self.y = y\n",
    "    self.width = width\n",
    "    self.height = height\n",
    "\n",
    "  def __str__(self):\n",
    "    return f'x={self.x}, y={self.y}, width={self.width}, height={self.height}'\n",
    "\n",
    "  def contains(self, point):\n",
    "    if point[0] < self.x or point[1] < self.y:\n",
    "      return False\n",
    "    if point[0] > self.x + self.width or point[1] > self.y + self.height:\n",
    "      return False\n",
    "    return True\n",
    "\n",
    "  def translate(self, point):\n",
    "    self.x += point[0]\n",
    "    self.y += point[1]"
   ]
  },
  {
   "cell_type": "markdown",
   "id": "juvenile-cleaner",
   "metadata": {},
   "source": [
    "In dieser Version verändert ``translate(point)`` das *Objekt* anstatt eine Kopie zurückzuliefern."
   ]
  },
  {
   "cell_type": "code",
   "execution_count": 5,
   "id": "universal-encounter",
   "metadata": {},
   "outputs": [
    {
     "name": "stdout",
     "output_type": "stream",
     "text": [
      "True\n",
      "False\n",
      "None\n",
      "x=20, y=5, width=100, height=20\n"
     ]
    }
   ],
   "source": [
    "rect1 = Rectangle(x=10, y=10, width=100, height=20)\n",
    "rect2 = Rectangle(-10, -10, 100, 30)\n",
    "\n",
    "print(rect1.contains((15, 17)))\n",
    "print(rect2.contains((315, 317)))\n",
    "print(rect1.translate((10,-5)))\n",
    "print(rect1)"
   ]
  },
  {
   "cell_type": "markdown",
   "id": "private-lecture",
   "metadata": {},
   "source": [
    "Die Ausgabe der vorletzten Zeile zeigt, dass ``translate`` keinen Rückgabewert hat sondern das *Objekt* ``rect1`` verändert.\n",
    "Die Ausgabe des Objekts ist jene die wir in der Methode ``__str__()`` definiert haben.\n",
    "Die Klasse *erbt* die ``__str__()`` Methode von der Klasse ``object`` und diese wird von der Funktion ``print()`` genutzt.\n",
    "Wir *überschreiben* die Standarddefinition von ``__str__()`` um eine schönere Ausgabe zu erzielen.\n",
    "Die ``__init__()`` Methode initialisiert das Objekt mit seinen Daten.\n",
    "Diese Methode wird aufgerufen sobald wir das Objekt durch ``Rectangle(x=10, y=10, width=100, height=20)`` erzeugt haben.\n",
    "\n",
    "```{admonition} Objektorientierte Programmierung (OOP)\n",
    "Die *objektorientierte Programmierung* ist ein Programmierparadigma, welches auf *Objekten* aufgebaut ist.\n",
    "Diese *Objekte* beinhalten und kapseln *Daten* und deren dazugehörige *Methoden*.\n",
    "```"
   ]
  }
 ],
 "metadata": {
  "jupytext": {
   "formats": "md:myst",
   "text_representation": {
    "extension": ".md",
    "format_name": "myst"
   }
  },
  "kernelspec": {
   "display_name": "Python 3",
   "language": "python",
   "name": "python3"
  },
  "language_info": {
   "codemirror_mode": {
    "name": "ipython",
    "version": 3
   },
   "file_extension": ".py",
   "mimetype": "text/x-python",
   "name": "python",
   "nbconvert_exporter": "python",
   "pygments_lexer": "ipython3",
   "version": "3.9.8"
  },
  "source_map": [
   11,
   25,
   28,
   32,
   42,
   47,
   53,
   69,
   90,
   94,
   102
  ]
 },
 "nbformat": 4,
 "nbformat_minor": 5
}