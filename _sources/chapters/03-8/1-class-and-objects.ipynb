{
 "cells": [
  {
   "cell_type": "markdown",
   "id": "852558de",
   "metadata": {},
   "source": [
    "(sec-class-and-object)=\n",
    "# Klassen und Objekte\n",
    "\n",
    "Eine *Klasse* ist die Blaupause seiner *Objekte*.\n",
    "\n",
    "```{admonition} Klassen\n",
    ":class: definition\n",
    ":name: def-class\n",
    "Eine Klasse ist ein *zusammengesetzter Datentyp* der *Methoden* definiert, die allesamt auf Werte des eigenen Typs angewendet werden können.\n",
    "Eine *Klasse* definiert eine Blaupause für ein Bündel aus **Daten** und **Funktionen**, welche wir *Methoden* nennen.\n",
    "```\n",
    "\n",
    "Und ein *Objekt* ist eine konkrete *Instanz* einer *Klasse*, d.h. eine Variable eines *zusammengesetzte Datentyp* belegt mit bestimmten Werten und ausgestattet mit Methoden der Klasse.\n",
    "\n",
    "```{admonition} Objekte in Python\n",
    ":class: attention\n",
    ":name: attention-objects-in-python\n",
    "In ``Python`` ist alles (auch Werte von atomaren Datentypen) ein Objekt.\n",
    "```\n",
    "\n",
    "Es kann viele *Objekte* einer *Klasse* geben.\n",
    "Jedes *Objekt* liegt als *Datenbündel* im Speicher.\n",
    "Jedes Objekt einer bestimmten Klasse beinhaltet andere Werte, doch sind die Methoden aller Objekte einer Klasse [identisch](def-identity).\n",
    "\n",
    "## Klassen\n",
    "\n",
    "Eine *Klasse* ist eine Definition eines [zusammengesetzten Datentyps](sec-datastructures) angereichert mit *Methoden*, die auf dem Datentyp ausgeführt werden sollen.\n",
    "Sie ist ein Codeblock der mit dem ``class``-Ausdruck beginnt:\n",
    "\n",
    "```python\n",
    "class ClassName(Superclass):\n",
    "    def __init__(self, arguments):\n",
    "        # define or assign object attributes\n",
    "\n",
    "    def other_method(self, arguments):\n",
    "        # body of the method\n",
    "```\n",
    "\n",
    "Ähnlich wie eine Funktion, müssen wir eine Klasse zuerst definieren bevor wir sie nutzten können.\n",
    "Doch anders als Funktionen, schreibt man Klassennamen (hier ``ClassName``) in [CamelCase/CamelCaps](https://en.wikipedia.org/wiki/Camel_case).\n",
    "``Superclass`` ist optional und ist die Klasse von der ``ClassName`` *erbt*.\n",
    "Was das bedeutet, werden wir im Abschnitt [Vererbung](sec-inheritance) besprechen.\n",
    "\n",
    "Methoden der Form ``__method_name__()``, sind spezielle ``Python``-Methoden die eine vordefinierte Bedeutung besitzen.\n",
    "Die voran- und nachgestellten doppelten Unterstriche deuten an, dass diese Methoden für spezielle Zwecke reserviert sind.\n",
    "``__init__()`` wird ausgeführt sobald ein Objekt der Klasse instanziiert / erzeugt wurde.\n",
    "Genau genommen ist ``__init__()`` nicht der [Konstruktor](def-constructor), sondern wird direkt nach dem Konstruktor aufgerufen.\n",
    "\n",
    "In ``Python`` definieren wir den Konstruktor nicht explizit.\n",
    "``__init__()``  füllt das Objekt mit seinen Daten bevor das Objekt benutzt wird.\n",
    "\n",
    "```{admonition} Konstruktor\n",
    ":name: def-constructor\n",
    ":class: definition\n",
    "Als *Konstruktor* bezeichnen wir eine spezielle Methode einer Klasse, die beim Erzeugen des Objekts der Klasse aufgerufen wird.\n",
    "Die Methode erzeugt das Objekt, d.h., diese Methode reserviert Speicher und legt es das Objekt in den Arbeitsspeicher, an die entsprechende Speicheradresse.\n",
    "```\n",
    "\n",
    "Die Methode ``other_method`` ist eine Funktion des Objekts der Klasse ``ClassName``.\n",
    "\n",
    "Es wird Ihnen aufgefallen sein, dass jede der Methoden als ersten Parameter ``self`` definiert.\n",
    "Jede Klassenmethode muss diesen Extraparameter ``self`` besitzen.\n",
    "Der Wert dieses ersten Parameters wird automatisch mit dem Objekt **selbst** initialisiert.\n",
    "Durch dieses ``self`` können wir auf alle Attribute und Methoden des Objekts zugreifen (auch die privaten).\n",
    "Greifen wir auf Attribute oder Methoden des Objekts zu, so müssen wir den Weg über den ``self``-Parameter gehen.\n",
    "\n",
    "Blicken wir auf ein Beispiel.\n",
    "Wir definieren eine neue Klasse ``Student`` mit den *Attributen* ``sid`` (id der Studierenden), ``name``, ``type`` und ``age``.\n",
    "Wir definieren eine Methode ``say_name`` welche Informationen über den Studierenden ausgibt.\n",
    "Alle Attribute bis auf ``type`` werden bei der Objekterzeugung übergeben."
   ]
  },
  {
   "cell_type": "code",
   "execution_count": 1,
   "id": "e82e79e2",
   "metadata": {},
   "outputs": [],
   "source": [
    "class Student():\n",
    "    def __init__(self, sid, name, age):\n",
    "        self.sid = sid\n",
    "        self.name = name\n",
    "        self.age = age\n",
    "        self.type = 'learning'\n",
    "        \n",
    "    def say_name(self):\n",
    "        print(f'My name is {self.name}.')"
   ]
  },
  {
   "cell_type": "markdown",
   "id": "a6a50480",
   "metadata": {},
   "source": [
    "Sie sehen wie wir über ``self.attributename`` auf die *Attribute* des Objekts zugreifen können.\n",
    "Für Methoden gilt diese Regel ebenso.\n",
    "Lassen Sie uns dies veranschaulichen, indem wir unsere Klasse um eine weitere Methode ``report`` erweitern."
   ]
  },
  {
   "cell_type": "code",
   "execution_count": 2,
   "id": "fb7ea133",
   "metadata": {},
   "outputs": [],
   "source": [
    "class Student():\n",
    "    def __init__(self, sid, name, age):\n",
    "        self.sid = sid\n",
    "        self.name = name\n",
    "        self.age = age\n",
    "        self.type = 'learning'\n",
    "        \n",
    "    def say_name(self):\n",
    "        print(f'My name is {self.name}.')\n",
    "\n",
    "    def report(self, score):\n",
    "        self.say_name()\n",
    "        print(f'My id is: {self.sid}')\n",
    "        print(f'My age is: {self.age}')\n",
    "        print(f'My score is: {score}')"
   ]
  },
  {
   "cell_type": "markdown",
   "id": "8ed5338c",
   "metadata": {},
   "source": [
    "``report`` ruft die Methode ``say_name`` durch ``self.say_name()`` auf.\n",
    "Beachten Sie, dass wir das ``self`` **nicht** als Argument übergeben müssen!\n",
    "Der Interpreter wandelt ``self.say_name()`` zu ``say_name(self)`` um.\n",
    "\n",
    "In ``report`` übergeben wir ein weiteres Argument ``score``, welches wir wie gewöhnt durch seinen Namen ansprechen können.\n",
    "\n",
    "## Objekte\n",
    "\n",
    "Ein *Objekt* ist eine Instanz einer Klasse.\n",
    "Die *Klasse* ist der *Datentyp* und das Objekt ist ein *Wert* vom Typ der Klasse angereichert mit den Methoden, die in der Klasse definiert wurden.\n",
    "Wir können viele verschiedene und auch gleiche *Objekte* einer *Klasse* erzeugen.\n",
    "Die Klasse können wir als den Bauplan der Objekte verstehen.\n",
    "\n",
    "```{admonition} Objekte\n",
    ":class: definition\n",
    ":name: def-objects\n",
    "Ein *Objekt* ist eine konkrete Instanz einer Klasse.\n",
    "```\n",
    "\n",
    "Rufen wir Methoden eines Objekts auf, müssen wir das erste spezielle ``self``-Argument nicht angeben.\n",
    "Eine Methode ``methodname`` des Objekts ``objectname`` rufen wir durch\n",
    "\n",
    "```python\n",
    "objectname.methodname(arguments)\n",
    "```\n",
    "\n",
    "auf.\n",
    "\n",
    "Ein solcher Aufruf wird auch als Nachricht, die wir an einen Empfänger schicken, verstanden.\n",
    "Dabei ist die Nachricht gleich ``methodname(arguments)`` und der Empfänger ist das Objekt ``objectname``.\n",
    "Diese Analogie wird deutlich wenn wir uns an den Roboter ``robo`` erinnern.\n",
    "Diesen haben wir mit der Nachricht ``move()`` gesagt, er solle sich bewegen.\n",
    "\n",
    "Auch im folgenden Beispiel können wir Methodenaufrufe als Anweisungen oder Nachrichten die an das Objekt gesendet werden verstehen:"
   ]
  },
  {
   "cell_type": "code",
   "execution_count": 3,
   "id": "cebdb810",
   "metadata": {},
   "outputs": [
    {
     "name": "stdout",
     "output_type": "stream",
     "text": [
      "My name is Susan.\n",
      "My name is Mike.\n",
      "learning\n",
      "24\n",
      "\n",
      "My name is Mike.\n",
      "My id is: 002\n",
      "My age is: 23\n",
      "My score is: 331\n"
     ]
    }
   ],
   "source": [
    "student1 = Student(\"001\", \"Susan\", 24)\n",
    "student2 = Student(\"002\", \"Mike\", 23)\n",
    "\n",
    "student1.say_name()\n",
    "student2.say_name()\n",
    "print(student1.type)\n",
    "print(student1.age)\n",
    "print()\n",
    "student2.report(331)"
   ]
  },
  {
   "cell_type": "markdown",
   "id": "cab7b0d9",
   "metadata": {},
   "source": [
    "Im obigen Beispiel erzeugen wir zwei Instanzen ``student1``, ``student2`` der Klasse ``Student``.\n",
    "Die Daten der Objekte unterscheiden sich, doch deren Methoden sind identisch.\n",
    "Rufen wir ``report`` auf, so wird intern (innerhalb des Objekts) die Methode ``say_name`` aufgerufen.\n",
    "\n",
    "## Klassenattribute\n",
    "\n",
    "``self.attributename`` sind *Attribute* des *Objekts*.\n",
    "Diese können für jedes Objekt einen anderen Wert besitzen.\n",
    "\n",
    "*Klassenattribute* sind hingegen *Attribute* einer Klasse und da es nur eine *Klasse* eines bestimmten *Typs* gibt, teilen sich alle *Objekte* einer *Klasse* deren *Klassenattribute*.\n",
    "\n",
    "Wir definieren *Klassenattribute* indem wir das ``self`` weglassen und diese außerhalb jedweder Methode niederschreiben.\n",
    "Um ein Klassenattribute zu verwenden, müssen wir den Klassennamen voranstellen, d.h. ``ClassName.attributename``.\n",
    "\n",
    "Im folgenden Fall führen wir ein *Klassenattribut* ``n_instances`` ein, welches die Anzahl der erzeugten Objekte der Klasse ``Student`` beinhaltet."
   ]
  },
  {
   "cell_type": "code",
   "execution_count": 4,
   "id": "e796e635",
   "metadata": {},
   "outputs": [],
   "source": [
    "class Student():\n",
    "    n_instances = 0\n",
    "\n",
    "    def __init__(self, sid, name, age):\n",
    "        self.sid = sid\n",
    "        self.name = name\n",
    "        self.age = age\n",
    "        self.type = 'learning'\n",
    "        Student.n_instances +=1\n",
    "        \n",
    "    def say_name(self):\n",
    "        print(f'My name is {self.name}.')\n",
    "\n",
    "    def report(self, score):\n",
    "        self.say_name()\n",
    "        print(f'My id is: {self.sid}')\n",
    "        print(f'My age is: {self.age}')\n",
    "        print(f'My score is: {score}')\n",
    "    \n",
    "    def num_instances(self):\n",
    "        print(f'We have {Student.n_instances}-instance in total')"
   ]
  },
  {
   "cell_type": "markdown",
   "id": "f4488b3c",
   "metadata": {},
   "source": [
    "Lassen Sie uns den Code testen:"
   ]
  },
  {
   "cell_type": "code",
   "execution_count": 5,
   "id": "e887cabe",
   "metadata": {},
   "outputs": [
    {
     "name": "stdout",
     "output_type": "stream",
     "text": [
      "We have 1-instance in total\n",
      "We have 2-instance in total\n",
      "We have 2-instance in total\n"
     ]
    }
   ],
   "source": [
    "student1 = Student(\"001\", \"Susan\", 23)\n",
    "student1.num_instances()\n",
    "student2 = Student(\"002\", \"Mike\", 25)\n",
    "student1.num_instances()\n",
    "student2.num_instances()"
   ]
  },
  {
   "cell_type": "markdown",
   "id": "642f6e0d",
   "metadata": {},
   "source": [
    "Wir erzeugen zwei Objekte, doch lediglich ``sid``, ``name`` und ``age`` gehören zu einem bestimmten Objekt.\n",
    "``student1.name`` hat den Wert ``\"Susan\"`` und ``student2.name`` hat den Wert ``\"Mike\"``.\n",
    "Doch ``n_instances`` wird **objektübergreifend** geteilt.\n",
    "Bei der Erzeugung der Klasse wird ``n_instances`` auf den Wert ``0`` gesetzt.\n",
    "Immer wenn wir ein ``Student``-Objekt erzeugen, erhöht sich das *Klassenattribut* ``n_instances`` um eins.\n",
    "\n",
    "```{admonition} Klassenattribute\n",
    ":class: attention\n",
    ":name: attention-class-attributes\n",
    "*Klassenattribute* sollten sparsam eingesetzt werden und sollten niemals dazu verwendet werden um das Verhalten eines Objekts zu beeinflussen!\n",
    "Das *Verhalten* muss sich stets aus der Kombination von Objektattributen und Methoden ergeben.\n",
    "```"
   ]
  }
 ],
 "metadata": {
  "jupytext": {
   "formats": "md:myst",
   "text_representation": {
    "extension": ".md",
    "format_name": "myst"
   }
  },
  "kernelspec": {
   "display_name": "Python 3",
   "language": "python",
   "name": "python3"
  },
  "language_info": {
   "codemirror_mode": {
    "name": "ipython",
    "version": 3
   },
   "file_extension": ".py",
   "mimetype": "text/x-python",
   "name": "python",
   "nbconvert_exporter": "python",
   "pygments_lexer": "ipython3",
   "version": "3.11.4"
  },
  "source_map": [
   11,
   84,
   94,
   100,
   116,
   153,
   163,
   181,
   203,
   207,
   213
  ]
 },
 "nbformat": 4,
 "nbformat_minor": 5
}