{
 "cells": [
  {
   "cell_type": "markdown",
   "id": "unexpected-winner",
   "metadata": {},
   "source": [
    "# Programmieren in Python\n",
    "\n",
    "Ein Maler oder Bildhauer\\*innen gießen Ideen und Gedanken auf Papier bzw. in Stein.\n",
    "Genauso gießen wir unsere Gedanken, resultierend aus dem [Computational Thinking](sec-what-is-ct), in Programmcode.\n",
    "Eine ganz klare Trennung zwischen dem Denken und dem Programmieren gibt es natürlich nicht.\n",
    "Vielmehr schärft das Programmieren unsere Gedanken.\n",
    "Häufig fallen uns Fehler, unberücksichtigte Fälle oder Schwachstellen erst auf, wenn wir mit dem Programmieren beginnen.\n",
    "\n",
    "Was für den Mathematiker der Beweis ist, dass ist für uns die Ausführung unseres Codes.\n",
    "Ob dieser in allen Fällen, d.h., für jede möglich Eingabe auch das erwünschte Ergebnis liefert, können wir oft nicht so einfach zeigen.\n",
    "Doch falls unser Denken mit der Implementierung übereinstimmt und wir auf dem Weg auf keine Lücken in unserer Logik gestoßen sind, so ist die Wahrscheinlichkeit groß, dass wir es mit einer korrekten Lösung zu tun haben.\n",
    "Durch die Realisierung unser Gedanken, durch das Programmieren, stellen wir unter anderem fest, ob unsere Gedanken rigoros, logisch einwandfrei und scharf genug waren oder ob wir uns selbst in die Irre geführt haben."
   ]
  },
  {
   "cell_type": "code",
   "execution_count": null,
   "id": "bulgarian-clearing",
   "metadata": {},
   "outputs": [],
   "source": [
    "import this"
   ]
  },
  {
   "cell_type": "markdown",
   "id": "latter-scottish",
   "metadata": {},
   "source": [
    "Für die Namenskonventionen, d.h. die Schreibweise von Funktionen, Variablen, Klassen und mehr empfehlen wir den [PEP 8 Style Guide für Python Code](https://pep8.org/)."
   ]
  }
 ],
 "metadata": {
  "jupytext": {
   "formats": "md:myst",
   "text_representation": {
    "extension": ".md",
    "format_name": "myst"
   }
  },
  "kernelspec": {
   "display_name": "Python 3",
   "language": "python",
   "name": "python3"
  },
  "source_map": [
   11,
   26,
   28
  ]
 },
 "nbformat": 4,
 "nbformat_minor": 5
}