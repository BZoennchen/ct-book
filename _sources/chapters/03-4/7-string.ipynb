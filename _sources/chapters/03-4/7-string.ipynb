{
 "cells": [
  {
   "cell_type": "markdown",
   "id": "6fe8c1a0",
   "metadata": {},
   "source": [
    "(sec-string)=\n",
    "# Zeichenketten - str\n",
    "\n",
    "Eine Zeichenkette (engl. [String](https://docs.python.org/3/library/stdtypes.html#text-sequence-type-str)) ``str`` ist eine [Sequenzen](https://docs.python.org/3/library/stdtypes.html#sequence-types-list-tuple-range) von Zeichen.\n",
    "Wie ein [Tupel](sec-tuple), ist auch eine Zeichenkette **unveränderlich** (engl. immutable).\n",
    "So kann eine Zeichenkette als ein besonderes Tupel, welches nur Zeichen enthält, gedeutet werden.\n",
    "\n",
    "``Python`` bietet uns viele nützliche Funktionen um auf Zeichenketten zu operieren.\n",
    "Zeichenketten können durch einfache oder doppelte Anführungszeichen umschlossen sein."
   ]
  },
  {
   "cell_type": "code",
   "execution_count": 1,
   "id": "fdfbdba9",
   "metadata": {},
   "outputs": [],
   "source": [
    "text = 'Hello World!'\n",
    "text = \"Hello World!\""
   ]
  },
  {
   "cell_type": "markdown",
   "id": "460d6917",
   "metadata": {},
   "source": [
    "Was wir bereits exzessive genutzt haben ist die Ausgabe von Zeichenketten durch die *built-in* Funktion ``print``."
   ]
  },
  {
   "cell_type": "code",
   "execution_count": 2,
   "id": "de963db5",
   "metadata": {},
   "outputs": [
    {
     "name": "stdout",
     "output_type": "stream",
     "text": [
      "Hello World!\n"
     ]
    }
   ],
   "source": [
    "text = 'Hello World!'\n",
    "print(text)"
   ]
  },
  {
   "cell_type": "markdown",
   "id": "38f8e46c",
   "metadata": {},
   "source": [
    "Um Variablen oder Werte anderer Datentypen mit ``print`` auszugeben, mussten wir diese immer mit der *built-in Funktion* ``str`` in eine Zeichenkette umwandeln.\n",
    "Da dies so häufig gemacht werden muss, haben die Entwickler\\*innen von ``Python`` sich etwas einfallen lassen.\n",
    "Stellen wir vor unsere Zeichenkette ein ``f``, so handelt es sich um eine sog. *formatierte Zeichenkette*.\n",
    "Diese helfen uns Variablen oder Werte direkt in eine Zeichenkette einzufügen.\n",
    "Vergleichen Sie folgenden Code:"
   ]
  },
  {
   "cell_type": "code",
   "execution_count": 3,
   "id": "46b96252",
   "metadata": {},
   "outputs": [
    {
     "name": "stdout",
     "output_type": "stream",
     "text": [
      "x + y = 5 + 10 = 15\n",
      "x + y = 5 + 10 = 15\n"
     ]
    }
   ],
   "source": [
    "x = 5\n",
    "y = 10\n",
    "print('x + y = ' + str(x) + ' + ' + str(y) + ' = ' + str(x+y)) # ugly\n",
    "print(f'x + y = {x} + {y} = {x+y}')                            # beautiful"
   ]
  },
  {
   "cell_type": "markdown",
   "id": "a764c8ca",
   "metadata": {},
   "source": [
    "Das vereinfacht das Schreiben und Lesen solcher Ausgaben ungemein.\n",
    "Sie können formatierte Zeichenketten auch ohne ``print`` verwenden."
   ]
  },
  {
   "cell_type": "code",
   "execution_count": 4,
   "id": "86d97840",
   "metadata": {},
   "outputs": [
    {
     "data": {
      "text/plain": [
       "'x + y = 5 + 10 = 15'"
      ]
     },
     "execution_count": 4,
     "metadata": {},
     "output_type": "execute_result"
    }
   ],
   "source": [
    "x = 5\n",
    "y = 10\n",
    "formatted_str = f'x + y = {x} + {y} = {x+y}'\n",
    "formatted_str"
   ]
  },
  {
   "cell_type": "markdown",
   "id": "7d47df40",
   "metadata": {},
   "source": [
    "Zwei Zeichenketten lassen sich mit dem ``+``-Operator verketten."
   ]
  },
  {
   "cell_type": "code",
   "execution_count": 5,
   "id": "93380728",
   "metadata": {},
   "outputs": [
    {
     "name": "stdout",
     "output_type": "stream",
     "text": [
      "Hello\n",
      " Welt!\n",
      "Hello Welt!\n"
     ]
    }
   ],
   "source": [
    "prefix = 'Hello'\n",
    "suffix = ' Welt!'\n",
    "text = prefix + suffix\n",
    "print(prefix)\n",
    "print(suffix)\n",
    "print(text)"
   ]
  },
  {
   "cell_type": "markdown",
   "id": "a97d8448",
   "metadata": {},
   "source": [
    "Bestimmte Zeichen kontrollieren die Darstellung des Textes, z.B. ob eine Leerzeile ein Leerzeichen oder ein Tab eingefügt werden soll."
   ]
  },
  {
   "cell_type": "code",
   "execution_count": 6,
   "id": "44c13450",
   "metadata": {},
   "outputs": [
    {
     "name": "stdout",
     "output_type": "stream",
     "text": [
      "Hello World\n",
      "!\n"
     ]
    }
   ],
   "source": [
    "space = ' '\n",
    "space_line = '\\n'\n",
    "\n",
    "print('Hello' + space + 'World' + space_line + '!')"
   ]
  },
  {
   "cell_type": "markdown",
   "id": "c277917c",
   "metadata": {},
   "source": [
    "Die *leere Zeichenkette* verändert bei der Verkettung eine andere Zeichenkette nicht.\n",
    "Es ist das neutrale Element der Zeichenverkettung."
   ]
  },
  {
   "cell_type": "code",
   "execution_count": 7,
   "id": "dbb5b0cd",
   "metadata": {},
   "outputs": [
    {
     "name": "stdout",
     "output_type": "stream",
     "text": [
      "The correct answer is 42!\n",
      "The correct answer is 42!\n"
     ]
    },
    {
     "data": {
      "text/plain": [
       "True"
      ]
     },
     "execution_count": 7,
     "metadata": {},
     "output_type": "execute_result"
    }
   ],
   "source": [
    "empty_str = ''\n",
    "\n",
    "print('The correct answer is 42!')\n",
    "print('The correct' + empty_str + empty_str + empty_str + ' answer is 42!')\n",
    "\n",
    "'Hello' == 'Hello' + empty_str"
   ]
  },
  {
   "cell_type": "markdown",
   "id": "b83130a1",
   "metadata": {},
   "source": [
    "Zeichenketten lassen sich wie Listen und Tupel [indexieren](sec-list-index),\n",
    "Mit der *built-in Funktion* ``len``, kann man die Länge einer Zeichenkette erfragen.\n",
    "Folgender Code gibt jedes einzelne Zeichen einer Zeichenkette aus."
   ]
  },
  {
   "cell_type": "code",
   "execution_count": 8,
   "id": "374f2cf5",
   "metadata": {},
   "outputs": [
    {
     "name": "stdout",
     "output_type": "stream",
     "text": [
      "H\n",
      "e\n",
      "l\n",
      "l\n",
      "o\n",
      " \n",
      "W\n",
      "o\n",
      "r\n",
      "l\n",
      "d\n",
      "!\n"
     ]
    }
   ],
   "source": [
    "text = 'Hello World!'\n",
    "\n",
    "for i in range(len(text)):\n",
    "  print(text[i])"
   ]
  },
  {
   "cell_type": "markdown",
   "id": "394e5164",
   "metadata": {},
   "source": [
    "Das lässt sich jedoch auch einfacher schreiben:"
   ]
  },
  {
   "cell_type": "code",
   "execution_count": 9,
   "id": "23ff3449",
   "metadata": {},
   "outputs": [
    {
     "name": "stdout",
     "output_type": "stream",
     "text": [
      "H\n",
      "e\n",
      "l\n",
      "l\n",
      "o\n",
      " \n",
      "W\n",
      "o\n",
      "r\n",
      "l\n",
      "d\n",
      "!\n"
     ]
    }
   ],
   "source": [
    "text = 'Hello World!'\n",
    "\n",
    "for char in text:\n",
    "  print(char)"
   ]
  },
  {
   "cell_type": "markdown",
   "id": "38dbe435",
   "metadata": {},
   "source": [
    "Auch bei Zeichenketten können wir negative Indices verwenden.\n",
    "``text[-1]`` gibt uns das letzte und ``text[-2]`` das vorletzte Zeichen."
   ]
  },
  {
   "cell_type": "code",
   "execution_count": 10,
   "id": "7d78fd2a",
   "metadata": {},
   "outputs": [
    {
     "name": "stdout",
     "output_type": "stream",
     "text": [
      "t\n",
      "a\n"
     ]
    }
   ],
   "source": [
    "text = 'Zeichensalat'\n",
    "\n",
    "print(text[-1])\n",
    "print(text[-2])"
   ]
  },
  {
   "cell_type": "markdown",
   "id": "8ae0edfd",
   "metadata": {},
   "source": [
    "Lassen Sie uns eine Zeichenkette umdrehen:"
   ]
  },
  {
   "cell_type": "code",
   "execution_count": 11,
   "id": "4c46b5c3",
   "metadata": {},
   "outputs": [
    {
     "name": "stdout",
     "output_type": "stream",
     "text": [
      "Zeichensalat\n",
      "talasnehcieZ\n"
     ]
    }
   ],
   "source": [
    "text = 'Zeichensalat'\n",
    "reverse_text = ''\n",
    "\n",
    "for i in range(len(text)):\n",
    "  reverse_text += text[-(i+1)]\n",
    "\n",
    "print(text)\n",
    "print(reverse_text)"
   ]
  },
  {
   "cell_type": "markdown",
   "id": "4e9af8b2",
   "metadata": {},
   "source": [
    "Genau wie [Listen](sec-list) und [Tupeln](sec-tuple), lassen sich auch Zeichenketten zerschneiden ([indexieren](sec-list-index))."
   ]
  },
  {
   "cell_type": "code",
   "execution_count": 12,
   "id": "37455cda",
   "metadata": {},
   "outputs": [
    {
     "name": "stdout",
     "output_type": "stream",
     "text": [
      "Ze\n",
      "Zeichensalat\n",
      "Zeichensa\n",
      "eichensala\n",
      "la\n",
      "ichensalat\n"
     ]
    }
   ],
   "source": [
    "text = 'Zeichensalat'\n",
    "print(text[0:2])\n",
    "print(text[0:len(text)])   # take it all\n",
    "print(text[0:-3])          # negative indexing\n",
    "print(text[1:-1])          # skip first and last\n",
    "print(text[-3:-1])         # negative indexing\n",
    "print(text[2:])            # skip the first 2 and take the rest"
   ]
  },
  {
   "cell_type": "markdown",
   "id": "70253683",
   "metadata": {},
   "source": [
    "Dabei ist ``text[2:]`` eine Kurzschreibweise für ``text[2:len(text)]`` und ``text[:2]`` für ``text[0:2]``.\n",
    "\n",
    "Hin und wieder kann es vorkommen, dass Sie Zeichen schreiben möchten, welche bereits in ``Python`` mit einer Bedeutung belegt sind.\n",
    "Wie schreiben wir beispielsweise ``Anna sagte: 'Wie geht es dir'``?\n",
    "Dafür müssen wir das ``'``-Zeichen mit einem ``\\`` *maskieren*:"
   ]
  },
  {
   "cell_type": "code",
   "execution_count": 13,
   "id": "ab8677d0",
   "metadata": {},
   "outputs": [
    {
     "name": "stdout",
     "output_type": "stream",
     "text": [
      "Anna sagte: 'Wie geht es dir'\n"
     ]
    }
   ],
   "source": [
    "print('Anna sagte: \\'Wie geht es dir\\'')"
   ]
  },
  {
   "cell_type": "markdown",
   "id": "d1584863",
   "metadata": {},
   "source": [
    "Zeichenketten sind Objekte die uns viele nützliche Funktionen anbieten.\n",
    "Zu beachten ist, dass Zeichenketten **unveränderlich** sind, d.h. die Funktionen liefern neue Zeichenkette zurück, die ursprüngliche bleibt unverändert.\n",
    "\n",
    "Mit ``text.upper()`` können wir beispielsweise alle Zeichen einer Zeichenkette in Großbuchstaben transformieren."
   ]
  },
  {
   "cell_type": "code",
   "execution_count": 14,
   "id": "f2b525f8",
   "metadata": {},
   "outputs": [
    {
     "name": "stdout",
     "output_type": "stream",
     "text": [
      "Zeichensalat\n",
      "ZEICHENSALAT\n"
     ]
    }
   ],
   "source": [
    "text = 'Zeichensalat'\n",
    "text_upper = text.upper()\n",
    "print(text)\n",
    "print(text_upper)"
   ]
  },
  {
   "cell_type": "markdown",
   "id": "cc479266",
   "metadata": {},
   "source": [
    "Wir können die Vorkommnisse eines Zeichen in einer Zeichenkette zählen oder ganze Zeichenfolgen ersetzten:"
   ]
  },
  {
   "cell_type": "code",
   "execution_count": 15,
   "id": "4c8aff23",
   "metadata": {},
   "outputs": [
    {
     "name": "stdout",
     "output_type": "stream",
     "text": [
      "2\n",
      "Zeichenspinat\n"
     ]
    }
   ],
   "source": [
    "text = 'Zeichensalat'\n",
    "print(text.count('a'))\n",
    "print(text.replace('salat', 'spinat'))"
   ]
  },
  {
   "cell_type": "markdown",
   "id": "054c4406",
   "metadata": {},
   "source": [
    "Es würde zu weit gehen alle Funktionen zu besprechen -- das wäre auch ziemlich langweilig.\n",
    "Schauen Sie sich einfach die [Dokumentation](https://docs.python.org/3/library/string.html) an oder verwenden Sie die eingebaute Hilfe ``help(str)``."
   ]
  }
 ],
 "metadata": {
  "jupytext": {
   "formats": "md:myst",
   "text_representation": {
    "extension": ".md",
    "format_name": "myst"
   }
  },
  "kernelspec": {
   "display_name": "Python 3",
   "language": "python",
   "name": "python3"
  },
  "language_info": {
   "codemirror_mode": {
    "name": "ipython",
    "version": 3
   },
   "file_extension": ".py",
   "mimetype": "text/x-python",
   "name": "python",
   "nbconvert_exporter": "python",
   "pygments_lexer": "ipython3",
   "version": "3.9.13"
  },
  "source_map": [
   11,
   23,
   26,
   30,
   33,
   41,
   46,
   51,
   56,
   60,
   67,
   71,
   76,
   81,
   88,
   94,
   99,
   103,
   108,
   113,
   118,
   123,
   132,
   136,
   144,
   152,
   154,
   161,
   166,
   170,
   174
  ]
 },
 "nbformat": 4,
 "nbformat_minor": 5
}