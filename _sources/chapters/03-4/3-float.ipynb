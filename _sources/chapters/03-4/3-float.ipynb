{
 "cells": [
  {
   "cell_type": "markdown",
   "id": "6e422923",
   "metadata": {},
   "source": [
    "(sec-float)=\n",
    "# Fließkommazahlen - float\n",
    "\n",
    "Zunächst ist zu sagen, dass Sie für Gleit- bzw. Fließkommazahlen (engl. [Floating Point Number](https://docs.python.org/3/library/functions.html#float)) nicht das Komma ``,`` sondern den englischsprachigen Punkt ``.`` verwenden.\n",
    "\n",
    "Im Gegensatz zu ganzen Zahlen benötigen Fließkommazahlen immer die gleiche Anzahl an Bits, nämlich genau **64 Bit**.\n",
    "Da stellt sich die Frage: Wie ist es unter diesen Bedingungen möglich Zahlen darzustellen, deren absoluter Wert sehr verschieden ist?\n",
    "Zum Beispiel können wir problemlos die Zahl \n",
    "\n",
    "$$0.0000000001$$ \n",
    "\n",
    "und die Zahl \n",
    "\n",
    "$$10000000.0$$\n",
    "\n",
    "als Fließkommazahl definieren:"
   ]
  },
  {
   "cell_type": "code",
   "execution_count": 1,
   "id": "f96246f1",
   "metadata": {},
   "outputs": [
    {
     "name": "stdout",
     "output_type": "stream",
     "text": [
      "1e-10\n",
      "10000000.0\n"
     ]
    }
   ],
   "source": [
    "small_float = 0.0000000001\n",
    "large_float = 10000000.0\n",
    "print(small_float)\n",
    "print(large_float)"
   ]
  },
  {
   "cell_type": "markdown",
   "id": "bb40901a",
   "metadata": {},
   "source": [
    "``1e-10`` bedeutet hierbei $1.0 \\cdot 10^{-10}$.\n",
    "Diese Darstellung liefert uns bereits Hinweise auf die Antwort.\n",
    "\n",
    "Physiker\\*innen kennen das Problem der Zahlen aus sehr unterschiedlichen Skalen.\n",
    "Die Lichtgeschwindigkeit in km/h ist eine sehr große Zahl, wohingegen die Ladung eines Elektrons in Coulomb eine sehr kleine Zahl ist.\n",
    "Physiker\\*innen möchten ebenfalls in einem riesigen Zahlenbereich rechnen und dabei Zahlen kompakt notieren können.\n",
    "Deshalb haben sie die wissenschaftliche Notation eingeführt.\n",
    "Fließkommazahlen sind aus dieser Notation entstanden.\n",
    "In dieser Notation schreiben wir \n",
    "\n",
    "$$10000000.0$$\n",
    "\n",
    "als \n",
    "\n",
    "$$0.1 \\cdot 10^8$$ \n",
    "\n",
    "und aus \n",
    "\n",
    "$$0.0000000001$$ \n",
    "\n",
    "wird \n",
    "\n",
    "$$0.1 \\cdot 10^{-9}.$$\n",
    "\n",
    "Ohne zu sehr ins Detail zu gehen, besteht eine Fließkommazahl ``float`` aus Bits für die einzelnen Teile dieser Schreibweise:\n",
    "\n",
    "+ das *Vorzeichen* (1 Bit), \n",
    "+ die *Mantisse* (52 Bit) und \n",
    "+ den Exponenten (11 Bit).\n",
    "\n",
    "Für $0.1 \\cdot 10^8$ wäre das *Vorzeichen* gleich +, die *Mantisse* gleich 0.1 und der *Exponent* gleich 8.\n",
    "\n",
    "Da der Computer jedoch im Binärsystem rechnet, verwendet er als Basis die 2 anstatt die 10.\n",
    "Nehmen wir die Zahl \n",
    "\n",
    "$$0.875_{10} = 8 \\cdot 10^{-1} + 7 \\cdot 10^{-2} + 5 \\cdot 10^{-3}.$$\n",
    "\n",
    "Binär können wir die Zahl wie folgt ausdrücken:\n",
    "\n",
    "$$0.111_2 = 1 \\cdot 2^{-1} + 1 \\cdot 2^{-2} + 1 \\cdot 2^{-3}.$$\n",
    "\n",
    "Soweit so gut.\n",
    "Was passiert aber wenn jede Ziffer von 0 verschieden ist und sich endlos fortsetzt z.B. $\\pi = 3.14159265359 \\ldots$ oder auch $1/3 = 0.33333333333 \\ldots$?\n",
    "In diesem Fall wird die Zahl abgeschnitten sobald keine Bits mehr zur Verfügung stehen (und es wird auf die letzte darstellbare Stelle aufgerundet).\n",
    "Demnach ist eine Fließkommazahl immer nur eine gute **Annäherung** des echten Werts!!!\n",
    "\n",
    "```{admonition} Fließkommazahlen sind Annäherungen\n",
    ":name: remark-float-approx\n",
    ":class: remark\n",
    "\n",
    "Eine Fließkommazahl ist eine gute Annäherung des exakten Werts den sie repräsentieren soll.\n",
    "```\n",
    "\n",
    "Weshalb folgende Rechnung nicht 0.3 ergibt, erklärt sich durch diese **Annäherung** in Kombination mit der Binärdarstellung!"
   ]
  },
  {
   "cell_type": "code",
   "execution_count": 2,
   "id": "10a71717",
   "metadata": {},
   "outputs": [
    {
     "data": {
      "text/plain": [
       "0.30000000000000004"
      ]
     },
     "execution_count": 2,
     "metadata": {},
     "output_type": "execute_result"
    }
   ],
   "source": [
    "0.2 + 0.1"
   ]
  },
  {
   "cell_type": "markdown",
   "id": "03823181",
   "metadata": {},
   "source": [
    "Denn es gilt:\n",
    "\n",
    "$$0.1_{10} = 0.0001100110011 \\ldots_2.$$\n",
    "\n",
    "Dieses Verhalten kann nicht nur zu kleinen Ungenauigkeiten, sondern zu großen Fehlern führen.\n",
    "Folgender Code subtrahiert 20 mal $1.0 \\cdot 10^{-14}$ von $1.0 \\cdot 10^{10}$.\n",
    "Doch verändern diese Subtraktionen ``x`` nicht."
   ]
  },
  {
   "cell_type": "code",
   "execution_count": 3,
   "id": "ebe62cb9",
   "metadata": {},
   "outputs": [
    {
     "name": "stdout",
     "output_type": "stream",
     "text": [
      "epsilon = 1e-14\n",
      "x = 10000000000.0 before subtraction\n",
      "x = 10000000000.0 after subtraction\n"
     ]
    }
   ],
   "source": [
    "x = 1e10\n",
    "epsilon = 1e-14\n",
    "\n",
    "print(f'epsilon = {epsilon}')\n",
    "print(f'x = {x} before subtraction')\n",
    "\n",
    "for i in range(20):\n",
    "  x = x - epsilon\n",
    "\n",
    "print(f'x = {x} after subtraction')"
   ]
  },
  {
   "cell_type": "markdown",
   "id": "39b5fbd9",
   "metadata": {},
   "source": [
    "Das zeigt, dass der (akkumulierte) Fehler theoretisch unendlich groß werden kann.\n",
    "Kritisch ist die Addition bzw. Subtraktion von Zahlen die in sehr unterschiedlichen Skalen liegen.\n",
    "Die Multiplikation und Division ist für Fließkommazahlen sehr viel ungefährlicher."
   ]
  },
  {
   "cell_type": "code",
   "execution_count": 4,
   "id": "5bf0f5ab",
   "metadata": {},
   "outputs": [
    {
     "name": "stdout",
     "output_type": "stream",
     "text": [
      "epsilon = 1e-14\n",
      "x = 10000000000.0 before multiplication\n",
      "x = 0.0001 after multiplication\n"
     ]
    }
   ],
   "source": [
    "x = 1e10\n",
    "epsilon = 1e-14\n",
    "\n",
    "print(f'epsilon = {epsilon}')\n",
    "print(f'x = {x} before multiplication')\n",
    "x = x * epsilon\n",
    "print(f'x = {x} after multiplication')"
   ]
  },
  {
   "cell_type": "markdown",
   "id": "948a033a",
   "metadata": {},
   "source": [
    "Obiger Code liefert das korrekte Ergebnis von: \n",
    "\n",
    "$$(1.0 \\cdot 10^{10}) \\cdot (1.0 \\cdot 10^{-14}) = 1.0 \\cdot 10^{10-14} = 1.0 \\cdot 10^{-4} = 0.0001.$$\n",
    "\n",
    "```{admonition} Ungenauigkeit der Fließkommazahlen\n",
    ":class: attention\n",
    ":name: attention-float-approx\n",
    "Prüfen Sie Fließkommazahlen niemals auf Gleichheit ``==``.\n",
    "Verwenden Sie stattdessen immer einen kleinen Bereich in dem die Zahl liegen sollte.\n",
    "```\n",
    "\n",
    "Besonders kritisch ist die Subtraktion (oder Addition und unterschiedliche Vorzeichen) von Zahlen, die sehr nahe beieinander liegen.\n",
    "Anstatt des korrekten Ergebnisses erhalten wir eine Zahl deren relative Abweichung vom richtigen Ergebnis weit daneben liegen kann:"
   ]
  },
  {
   "cell_type": "code",
   "execution_count": 5,
   "id": "1ec77a16",
   "metadata": {},
   "outputs": [
    {
     "name": "stdout",
     "output_type": "stream",
     "text": [
      "x = 100123123123.101\n",
      "y = 100123123123.102\n",
      "x-y = -0.001007080078125\n",
      "relative error = 0.007080078124999979\n",
      "absolute error = 7.080078124999979e-06\n"
     ]
    }
   ],
   "source": [
    "x = 100123123123.101\n",
    "y = 100123123123.102\n",
    "\n",
    "abs_error = abs(0.001 - abs(x-y))\n",
    "\n",
    "print(f'x = {x}')\n",
    "print(f'y = {y}')\n",
    "print(f'x-y = {x-y}')\n",
    "print(f'relative error = {abs_error/0.001}')\n",
    "print(f'absolute error = {abs_error}')"
   ]
  },
  {
   "cell_type": "markdown",
   "id": "4f1c064e",
   "metadata": {},
   "source": [
    "Sowohl der absolute als auch der relative Fehler sind groß.\n",
    "Wir können den absoluten Fehler durch weitere Operationen beliebig erhöhen:"
   ]
  },
  {
   "cell_type": "code",
   "execution_count": 6,
   "id": "a83af55d",
   "metadata": {},
   "outputs": [
    {
     "name": "stdout",
     "output_type": "stream",
     "text": [
      "x = 100123123123.101\n",
      "y = 100123123123.102\n",
      "result = -100708.0078125\n",
      "relative error = 0.007080078124999979\n",
      "absolute error = 708.007812499998\n"
     ]
    }
   ],
   "source": [
    "x = 100123123123.101\n",
    "y = 100123123123.102\n",
    "a = 100000000\n",
    "\n",
    "sub = x-y\n",
    "result = sub * a\n",
    "abs_error = abs(0.001 - abs(x-y))*a\n",
    "\n",
    "print(f'x = {x}')\n",
    "print(f'y = {y}')\n",
    "print(f'result = {result}')\n",
    "print(f'relative error = {abs_error/100000}')\n",
    "print(f'absolute error = {abs_error}')"
   ]
  },
  {
   "cell_type": "markdown",
   "id": "3dcf8e55",
   "metadata": {},
   "source": [
    "Das kann soweit gehen, dass alle verbleibenden Bits sich aus Rundungsfehlern in der Berechnung ergeben.\n",
    "Diesen Effekt nennt [Auslöschung](https://de.wikipedia.org/wiki/Ausl%C3%B6schung_(numerische_Mathematik)).\n",
    "\n",
    "Im Artikel [What Every Computer Scientist Should Know About Floating-Point Arithmetik](https://docs.oracle.com/cd/E19957-01/806-3568/ncg_goldberg.html) finden Sie einen ausführlichen Diskurs zu diesem Thema, welcher allerdings weit über diesen Kurs hinausgeht.\n",
    "\n",
    "```{exercise} Modellierung von Geldbeträgen\n",
    ":label: float-money-exercise\n",
    "Sie wollen eine Finanzsoftware entwickeln.\n",
    "Sollten Sie die Geldbeträge als Fließkommazahlen abspeichern?\n",
    "Begründen Sie Ihre Antwort.\n",
    "```\n",
    "\n",
    "```{solution} float-money-exercise\n",
    ":label: float-money-solution\n",
    ":class: dropdown\n",
    "\n",
    "Im Finanzwesen arbeiten wir mit Gleitkommazahlen mit der Basis 10.\n",
    "Selbst wenn diese Zahlen nur wenige Nachkommastellen besitzen können diese im Binärsystem unendlich viele Nachkommastellen besitzen.\n",
    "Da wir im Bankwesen exakte Werte benötigen, eignen Fließkommazahlen nicht.\n",
    "Das Modul [decimal](https://docs.python.org/3/library/decimal.html) bietet die nötige Funktionalität.\n",
    "\n",
    "```"
   ]
  }
 ],
 "metadata": {
  "jupytext": {
   "formats": "md:myst",
   "text_representation": {
    "extension": ".md",
    "format_name": "myst"
   }
  },
  "kernelspec": {
   "display_name": "Python 3",
   "language": "python",
   "name": "python3"
  },
  "language_info": {
   "codemirror_mode": {
    "name": "ipython",
    "version": 3
   },
   "file_extension": ".py",
   "mimetype": "text/x-python",
   "name": "python",
   "nbconvert_exporter": "python",
   "pygments_lexer": "ipython3",
   "version": "3.9.7"
  },
  "source_map": [
   11,
   30,
   35,
   92,
   94,
   104,
   115,
   121,
   129,
   145,
   156,
   161,
   175
  ]
 },
 "nbformat": 4,
 "nbformat_minor": 5
}