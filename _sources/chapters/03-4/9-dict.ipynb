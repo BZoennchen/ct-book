{
 "cells": [
  {
   "cell_type": "markdown",
   "id": "vocal-lawrence",
   "metadata": {},
   "source": [
    "(sec-dict)=\n",
    "# Wörterbücher - dict\n",
    "\n",
    "Die letzte *built-in* Datenstruktur, welche wir besprechen, sind die sogenannten Wörterbücher (engl. [Dictionary](https://docs.python.org/3/library/stdtypes.html#dict)) ``dict``.\n",
    "In anderen Programmiersprachen, wie z.B. ``Java`` spricht man stattdessen auch von *Hashtables* oder *Hashmaps*.\n",
    "Sie sind neben den [Listen](sec-list) ``list`` die zweitwichtigste Datenstruktur in ``Python``.\n",
    "Zwar ist ihr Anwendungsgebiet ein anderes doch sind sie ähnlich wie [Mengen](sec-set) ``set`` realisiert.\n",
    "\n",
    "Wörterbücher sind **veränderlich** (engl. mutable).\n",
    "Wir können sie uns als zweispaltige Tabelle vorstellen.\n",
    "Eine Spalte beinhaltet die **eindeutigen** sog. **Schlüssel** ``key``s und die andere Spalte enthält die sog. **Werte**  ``value``s.\n",
    "Jede Zeile ist ein Tupel ``tuple`` aus ``key`` und ``value``.\n",
    "\n",
    "Da die Schlüssel im Sinne der [Gleichheit](warning-equality-and-identity) eindeutig sind, kann die Spalte aus ``key``s als Menge ``set`` an **Schlüsseln** angesehen werden.\n",
    "Die **Werte** müssen hingegen nicht eindeutig sein.\n",
    "Sind Sie wie ich ein Freund der Mathematik, so realisiert ein Wörterbücher ``dict`` eine Funktion:\n",
    "\n",
    "$$f : K \\rightarrow V,$$\n",
    "\n",
    "wobei $K$ die endliche Menge der Schlüssel ist.\n",
    "Es kann durchaus zwei **Schlüssel** geben, die auf den gleichen **Wert** ``value`` verweisen, doch müssen die Schlüssel eindeutig sein!\n",
    "\n",
    "Wie bei den Mengen, gilt für die **Schlüssel**, dass diese aus **unveränderlichen** Datentypen bestehen müssen.\n",
    "Das hat die gleichen Gründe wie in Abschnitt [Mengen](sec-set) angesprochen.\n",
    "Deshalb eigenen sich zum Beispiel [Zahlen](sec-int), [Zeichenketten](sec-string), [Fließkommazahlen](sec-float) oder [Tupel](sec-tuple) -- die **unveränderliche** Datentypen enthalten -- als Schlüssel.\n",
    "\n",
    "Identisch zu Mengen, können wir extrem schnell testen ob es einen bestimmten Eintrag im Wörterbücher für einen bestimmten Schlüssel gibt.\n",
    "Das folgt aus der Eigenschaft der [Mengen](sec-set).\n",
    "Doch anders als bei Mengen ``set``, identifizieren wir damit nicht nur den Schlüssel ``key`` der Menge $K$, sondern auch dessen Wert ``value`` aus $V$.\n",
    "Wir nutzten die schnelle Adressierung bzw. den schnellen Zugriff um auf **veränderliche** Werte zugreifen zu können.\n",
    "\n",
    "## Erstellung\n",
    "\n",
    "Ein Wörterbuch ``dict`` erzeugen Sie ebenfalls durch den Einsatz der geschweiften Klammern, doch besteht jeder Eintrag aus einem Tupel ``(key, value)`` geschrieben als: ``key: value``.\n",
    "Zum Beispiel könnten wir ein Wörterbuch ``students`` erstellen für welches die eindeutige Matrikelnummer die Schlüssel $K$ und die Nachnamen die Werte $V$ sind."
   ]
  },
  {
   "cell_type": "code",
   "execution_count": 1,
   "id": "military-arrow",
   "metadata": {},
   "outputs": [
    {
     "data": {
      "text/plain": [
       "{123451: 'Langer', 213131: 'Schmidt', 4131129: 'Langer'}"
      ]
     },
     "execution_count": 1,
     "metadata": {},
     "output_type": "execute_result"
    }
   ],
   "source": [
    "students = {123451: 'Huber', 123451: 'Langer', 213131: 'Schmidt', 4131129: 'Langer'}\n",
    "students"
   ]
  },
  {
   "cell_type": "markdown",
   "id": "fancy-positive",
   "metadata": {},
   "source": [
    "Wir können ein Wörterbuch durch die Funktion ``dict()`` aus einer Liste von Tupeln konstruieren:"
   ]
  },
  {
   "cell_type": "code",
   "execution_count": 2,
   "id": "pleasant-equilibrium",
   "metadata": {},
   "outputs": [
    {
     "data": {
      "text/plain": [
       "{123451: 'Langer', 213131: 'Schmidt', 4131129: 'Langer'}"
      ]
     },
     "execution_count": 2,
     "metadata": {},
     "output_type": "execute_result"
    }
   ],
   "source": [
    "students = dict([(123451, 'Huber'), (123451, 'Langer'), (213131, 'Schmidt'), (4131129, 'Langer')])\n",
    "students"
   ]
  },
  {
   "cell_type": "markdown",
   "id": "indian-reggae",
   "metadata": {},
   "source": [
    "Sofern Ihre Schlüssel Zeichenketten ``str`` sind, erlaubt uns ``Python`` auch die *Argumentschreibweise* zu verwenden:"
   ]
  },
  {
   "cell_type": "code",
   "execution_count": 3,
   "id": "enclosed-imaging",
   "metadata": {},
   "outputs": [
    {
     "name": "stdout",
     "output_type": "stream",
     "text": [
      "{'shape': 'rectangle', 'x': 0.0, 'y': 1.0, 'width': 10, 'height': 20}\n"
     ]
    }
   ],
   "source": [
    "rectangle = dict(shape='rectangle', x=0.0, y=1.0, width=10, height=20)\n",
    "print(rectangle)"
   ]
  },
  {
   "cell_type": "markdown",
   "id": "worldwide-florist",
   "metadata": {},
   "source": [
    "## Zugriff\n",
    "\n",
    "Im Unterschied zu Mengen können wir auf die **Werte** ``value`` eines Wörterbuchs durch den passenden **Schlüssel** ``key`` zugreifen.\n",
    "Auch hierzu verwenden wir die eckigen Klammern.\n",
    "``dictionary[key]`` ergibt den ``value`` für den Schlüssel ``key`` des Wörterbuchs."
   ]
  },
  {
   "cell_type": "code",
   "execution_count": 4,
   "id": "automatic-victor",
   "metadata": {},
   "outputs": [
    {
     "name": "stdout",
     "output_type": "stream",
     "text": [
      " key = 123451, value = Langer\n",
      " key = 4131129, value = Langer\n",
      " key = 213131, value = Schmidt\n"
     ]
    }
   ],
   "source": [
    "students = {123451: 'Huber', 123451: 'Langer', 213131: 'Schmidt', 4131129: 'Langer'}\n",
    "print(f' key = {123451}, value = {students[123451]}')\n",
    "print(f' key = {4131129}, value = {students[4131129]}')\n",
    "print(f' key = {213131}, value = {students[213131]}')"
   ]
  },
  {
   "cell_type": "markdown",
   "id": "resident-settlement",
   "metadata": {},
   "source": [
    "Gibt es den Schlüssel nicht im Wörterbuch, so erhalten wir einen Fehler beim Zugriff."
   ]
  },
  {
   "cell_type": "code",
   "execution_count": 5,
   "id": "dynamic-contributor",
   "metadata": {
    "tags": [
     "raises-exception"
    ]
   },
   "outputs": [
    {
     "ename": "KeyError",
     "evalue": "0",
     "output_type": "error",
     "traceback": [
      "\u001b[0;31m---------------------------------------------------------------------------\u001b[0m",
      "\u001b[0;31mKeyError\u001b[0m                                  Traceback (most recent call last)",
      "\u001b[0;32m<ipython-input-5-91f3d6609e62>\u001b[0m in \u001b[0;36m<module>\u001b[0;34m\u001b[0m\n\u001b[0;32m----> 1\u001b[0;31m \u001b[0mprint\u001b[0m\u001b[0;34m(\u001b[0m\u001b[0;34mf' key = {00000}, value = {students[00000]}'\u001b[0m\u001b[0;34m)\u001b[0m\u001b[0;34m\u001b[0m\u001b[0;34m\u001b[0m\u001b[0m\n\u001b[0m",
      "\u001b[0;31mKeyError\u001b[0m: 0"
     ]
    }
   ],
   "source": [
    "print(f' key = {00000}, value = {students[00000]}')"
   ]
  },
  {
   "cell_type": "markdown",
   "id": "sensitive-uruguay",
   "metadata": {},
   "source": [
    "## Veränderung\n",
    "\n",
    "Folgender Ausdruck hat eine von zwei möglichen Bedeutungen."
   ]
  },
  {
   "cell_type": "code",
   "execution_count": 6,
   "id": "systematic-atlanta",
   "metadata": {},
   "outputs": [
    {
     "data": {
      "text/plain": [
       "{123451: 'Langer', 213131: 'Schmidt', 4131129: 'Langer', 123133: 'Fischer'}"
      ]
     },
     "execution_count": 6,
     "metadata": {},
     "output_type": "execute_result"
    }
   ],
   "source": [
    "students = dict([(123451, 'Huber'), (123451, 'Langer'), (213131, 'Schmidt'), (4131129, 'Langer')])\n",
    "students[123133] = 'Fischer'\n",
    "students"
   ]
  },
  {
   "cell_type": "markdown",
   "id": "uniform-error",
   "metadata": {},
   "source": [
    "In unserem Fall, fügen wir in das Wörterbuch ``students`` ein neues Tupel ``(123133, 'Fischer')`` ein.\n",
    "Existiert der Schlüssen, hier ``123133``, so verändern wir den damit identifizierten Eintrag:"
   ]
  },
  {
   "cell_type": "code",
   "execution_count": 7,
   "id": "agreed-consumer",
   "metadata": {},
   "outputs": [
    {
     "data": {
      "text/plain": [
       "{123451: 'Langer', 213131: 'Schmidt', 4131129: 'Langer', 123133: 'Alberto'}"
      ]
     },
     "execution_count": 7,
     "metadata": {},
     "output_type": "execute_result"
    }
   ],
   "source": [
    "students[123133] = 'Alberto'\n",
    "students"
   ]
  },
  {
   "cell_type": "markdown",
   "id": "alone-commissioner",
   "metadata": {},
   "source": [
    "In den meisten Fällen möchte man genau das, einen Eintrag verändern oder neu einfügen wenn er noch nicht existiert.\n",
    "Möchten Sie jedoch einen Eintrag nur verändern und nicht einfügen falls er nicht existiert, so müssen Sie zuvor testen ob er existiert:"
   ]
  },
  {
   "cell_type": "code",
   "execution_count": 8,
   "id": "narrow-success",
   "metadata": {},
   "outputs": [
    {
     "name": "stdout",
     "output_type": "stream",
     "text": [
      "{123451: 'Langer', 213131: 'Schmidt', 4131129: 'Langer', 123133: 'Hamilton'}\n",
      "{123451: 'Langer', 213131: 'Schmidt', 4131129: 'Langer', 123133: 'Hamilton'}\n"
     ]
    }
   ],
   "source": [
    "# no insertion but a change\n",
    "if 123133 in students:\n",
    "  students[123133] = 'Hamilton'\n",
    "print(students)\n",
    "\n",
    "# no insertion and no change\n",
    "if -131331 in students:\n",
    "  students[-131331] = 'Hamilton'\n",
    "print(students)"
   ]
  },
  {
   "cell_type": "markdown",
   "id": "alive-canon",
   "metadata": {},
   "source": [
    "Wir testen in diesem Code ob der Schlüssel sich im Wörterbuch befindet.\n",
    "Um zu testen ob ein Tupel ``(key, value)`` sich im Wörterbuch befindet müssen Sie\n",
    "\n",
    "1. testen ob sich ``key`` im Wörterbuch befindet und\n",
    "2. ob ``dictionary[key] == value`` gilt."
   ]
  },
  {
   "cell_type": "code",
   "execution_count": 9,
   "id": "affecting-location",
   "metadata": {},
   "outputs": [
    {
     "name": "stdout",
     "output_type": "stream",
     "text": [
      "True\n",
      "False\n",
      "False\n"
     ]
    }
   ],
   "source": [
    "# no insertion but a change\n",
    "print(123133 in students and students[123133] == 'Hamilton')\n",
    "print(123133 in students and students[123133] == 'Schmidt')\n",
    "print(-111111 in students and students[-111111] == 'Schmidt')"
   ]
  },
  {
   "cell_type": "markdown",
   "id": "unknown-object",
   "metadata": {},
   "source": [
    "Um ein Tupel aus dem Wörterbuch zu löschen verwenden wir erneut die *built-in*-Operation ``del``:"
   ]
  },
  {
   "cell_type": "code",
   "execution_count": 10,
   "id": "everyday-offering",
   "metadata": {},
   "outputs": [
    {
     "name": "stdout",
     "output_type": "stream",
     "text": [
      "True\n",
      "False\n"
     ]
    }
   ],
   "source": [
    "# no insertion but a change\n",
    "print(123133 in students and students[123133] == 'Hamilton')\n",
    "del students[123133]\n",
    "print(123133 in students and students[123133] == 'Hamilton')"
   ]
  },
  {
   "cell_type": "markdown",
   "id": "recent-print",
   "metadata": {},
   "source": [
    "## Ansichten\n",
    "\n",
    "Wir könne uns auch alle Schlüssel und Werte eines Wörterbuchs holen.\n",
    "Durch ``dictionary.keys()`` erhalten wir die Schlüssel, durch ``dictionary.values()`` die Werte, und durch ``dictionary.items()`` beide Spalten (als Liste von Tupeln):"
   ]
  },
  {
   "cell_type": "code",
   "execution_count": 11,
   "id": "rational-natural",
   "metadata": {},
   "outputs": [
    {
     "name": "stdout",
     "output_type": "stream",
     "text": [
      "dictionary: {123451: 'Langer', 213131: 'Schmidt', 4131129: 'Langer'}\n",
      "\n",
      "key: dict_keys([123451, 213131, 4131129])\n",
      "values: dict_values(['Langer', 'Schmidt', 'Langer'])\n",
      "items: dict_items([(123451, 'Langer'), (213131, 'Schmidt'), (4131129, 'Langer')])\n"
     ]
    }
   ],
   "source": [
    "students = dict([(123451, 'Huber'), (123451, 'Langer'), (213131, 'Schmidt'), (4131129, 'Langer')])\n",
    "print(f'dictionary: {students}\\n')\n",
    "print(f'key: {students.keys()}')\n",
    "print(f'values: {students.values()}')\n",
    "print(f'items: {students.items()}')"
   ]
  },
  {
   "cell_type": "markdown",
   "id": "pleasant-graphic",
   "metadata": {},
   "source": [
    "Es scheint so als wären dies alles Listen ``list``, doch das ist nicht korrekt.\n",
    "Zwar werden Sie wie Listen ausgegeben, doch sind sie **unveränderlich**."
   ]
  },
  {
   "cell_type": "code",
   "execution_count": 12,
   "id": "massive-judgment",
   "metadata": {
    "tags": [
     "raises-exception"
    ]
   },
   "outputs": [
    {
     "ename": "TypeError",
     "evalue": "'dict_values' object does not support item assignment",
     "output_type": "error",
     "traceback": [
      "\u001b[0;31m---------------------------------------------------------------------------\u001b[0m",
      "\u001b[0;31mTypeError\u001b[0m                                 Traceback (most recent call last)",
      "\u001b[0;32m<ipython-input-12-fc150e7bf5ce>\u001b[0m in \u001b[0;36m<module>\u001b[0;34m\u001b[0m\n\u001b[1;32m      2\u001b[0m \u001b[0;34m\u001b[0m\u001b[0m\n\u001b[1;32m      3\u001b[0m \u001b[0mvalues\u001b[0m \u001b[0;34m=\u001b[0m \u001b[0mstudents\u001b[0m\u001b[0;34m.\u001b[0m\u001b[0mvalues\u001b[0m\u001b[0;34m(\u001b[0m\u001b[0;34m)\u001b[0m\u001b[0;34m\u001b[0m\u001b[0;34m\u001b[0m\u001b[0m\n\u001b[0;32m----> 4\u001b[0;31m \u001b[0mvalues\u001b[0m\u001b[0;34m[\u001b[0m\u001b[0;36m0\u001b[0m\u001b[0;34m]\u001b[0m \u001b[0;34m=\u001b[0m \u001b[0;34m'Test'\u001b[0m\u001b[0;34m\u001b[0m\u001b[0;34m\u001b[0m\u001b[0m\n\u001b[0m",
      "\u001b[0;31mTypeError\u001b[0m: 'dict_values' object does not support item assignment"
     ]
    }
   ],
   "source": [
    "students = dict([(123451, 'Huber'), (123451, 'Langer'), (213131, 'Schmidt'), (4131129, 'Langer')])\n",
    "\n",
    "values = students.values()\n",
    "values[0] = 'Test'"
   ]
  },
  {
   "cell_type": "markdown",
   "id": "illegal-diesel",
   "metadata": {},
   "source": [
    "Sie werden als sog. Ansichten (engl. [View Objects](https://docs.python.org/3/library/stdtypes.html#dict-views)) bezeichnet.\n",
    "Das bedeutet kurz gesagt: Änderungen am Wörterbuch werden in diesen Datenstrukturen übernommen, doch können wir *Ansichten* nicht direkt ändern.\n",
    "``students.values()`` gibt uns eine *Ansicht* auf die Werte des Wörterbuchs ``students``."
   ]
  },
  {
   "cell_type": "code",
   "execution_count": 13,
   "id": "committed-carry",
   "metadata": {},
   "outputs": [
    {
     "name": "stdout",
     "output_type": "stream",
     "text": [
      "dict_values(['Langer', 'Schmidt', 'Langer'])\n",
      "dict_values(['Müller', 'Schmidt', 'Langer'])\n"
     ]
    }
   ],
   "source": [
    "students = dict([(123451, 'Huber'), (123451, 'Langer'), (213131, 'Schmidt'), (4131129, 'Langer')])\n",
    "\n",
    "values = students.values()\n",
    "\n",
    "print(values)\n",
    "students[123451] = 'Müller'\n",
    "print(values)"
   ]
  },
  {
   "cell_type": "markdown",
   "id": "normal-madagascar",
   "metadata": {},
   "source": [
    "In diesem Beispiel ist die letzte Zeile interessant.\n",
    "Obwohl wir ``values`` nicht verändern, wird es durch unsere Änderungen am Wörterbuch ``students`` verändert.\n",
    "Dies ist ein sog. *erwünschter Seiteneffekt*.\n",
    "\n",
    "## Wörterbücher und der Speicher\n",
    "\n",
    "Wie Wörterbücher im Speicher realisiert werden erläutern wir ansatzweise im Abschnitt [Mengen](sec-set) und tiefgreifender im Kapitel [Namensregister](sec-name-register) im Abschnitt [Hashing und das Dictionary](sec-hashing)."
   ]
  }
 ],
 "metadata": {
  "jupytext": {
   "formats": "md:myst",
   "text_representation": {
    "extension": ".md",
    "format_name": "myst"
   }
  },
  "kernelspec": {
   "display_name": "Python 3",
   "language": "python",
   "name": "python3"
  },
  "language_info": {
   "codemirror_mode": {
    "name": "ipython",
    "version": 3
   },
   "file_extension": ".py",
   "mimetype": "text/x-python",
   "name": "python",
   "nbconvert_exporter": "python",
   "pygments_lexer": "ipython3",
   "version": "3.9.8"
  },
  "source_map": [
   11,
   49,
   52,
   56,
   59,
   63,
   66,
   74,
   79,
   83,
   88,
   94,
   98,
   103,
   106,
   111,
   121,
   130,
   135,
   139,
   144,
   151,
   157,
   162,
   170,
   176,
   184
  ]
 },
 "nbformat": 4,
 "nbformat_minor": 5
}