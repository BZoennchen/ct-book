{
 "cells": [
  {
   "cell_type": "markdown",
   "id": "ed917fb4",
   "metadata": {},
   "source": [
    "(sec-int)=\n",
    "# Ganze Zahlen - int\n",
    "\n",
    "Der Datentyp, welcher ganze Zahlen repräsentiert ``int`` (engl. [Integer](https://docs.python.org/3/library/functions.html#int)) ist ein [atomarer Datentyp](def-atomare-data-types) und verhält sich so wie wir es erwarten.\n",
    "\n",
    "Falls Sie jedoch bereits Programmierkenntnisse besitzen, so gibt es für Sie in ``Python`` eine Besonderheit:\n",
    "\n",
    "```{admonition} Fehlender Überlauf\n",
    ":name: remark-int-overflow\n",
    ":class: remark\n",
    "\n",
    "In ``Python`` gibt es **keinen** Überlauf für ganze Zahlen ``int``.\n",
    "```\n",
    "\n",
    "Anders als Fließkommazahlen benötigen ganze Zahlen ``int`` in ``Python`` eine variable Anzahl an Bits.\n",
    "Anders ausgedrückt: Nicht jede Zahl benötigt die gleiche Anzahl an Bits im Speicher!\n",
    "Solange Ihr Speicher nicht komplett belegt ist, können Sie in ``Python`` somit mit sehr großen ganzen Zahlen rechnen."
   ]
  },
  {
   "cell_type": "code",
   "execution_count": 1,
   "id": "b5c14ffd",
   "metadata": {},
   "outputs": [
    {
     "name": "stdout",
     "output_type": "stream",
     "text": [
      "<class 'int'>\n",
      "10000000000000000000000000000000000000000000000000000000000000000000000000000000000000000000000000000\n"
     ]
    }
   ],
   "source": [
    "large_number = 10**100 \n",
    "print(type(large_number))\n",
    "print(large_number)"
   ]
  },
  {
   "cell_type": "markdown",
   "id": "7d8d3671",
   "metadata": {},
   "source": [
    "Da wir bei mathematischen Operationen wie ``+``, ``-``, ``*``, ``/``, ``//`` und ``**`` ganze Zahlen ``int`` und Fließkommazahlen ``float`` vermischen können, müssen wir darauf achten welcher Datentyp am Ende herauskommt.\n",
    "Sobald eine Fließkommazahl ein Teil der Berechnung ist, ist das Ergebnis vom Typ ``float``."
   ]
  },
  {
   "cell_type": "code",
   "execution_count": 2,
   "id": "afd34467",
   "metadata": {},
   "outputs": [
    {
     "name": "stdout",
     "output_type": "stream",
     "text": [
      "<class 'float'>\n",
      "3.0\n"
     ]
    }
   ],
   "source": [
    "x = 3 * 1.0     # int * float -> float   \n",
    "print(type(x))\n",
    "print(x)"
   ]
  },
  {
   "cell_type": "code",
   "execution_count": 3,
   "id": "7c0f8ae1",
   "metadata": {},
   "outputs": [
    {
     "name": "stdout",
     "output_type": "stream",
     "text": [
      "<class 'float'>\n",
      "1e+100\n"
     ]
    }
   ],
   "source": [
    "large_number = 10.0**100     # float ** int -> float  \n",
    "print(type(large_number))\n",
    "print(large_number)"
   ]
  },
  {
   "cell_type": "markdown",
   "id": "95666454",
   "metadata": {},
   "source": [
    "Auch für die ganzzahligen Division ``//`` erhalten wir als Datentyp eine Fließkommazahl sofern eine Fließkommazahl bei der Operation teilnimmt:"
   ]
  },
  {
   "cell_type": "code",
   "execution_count": 4,
   "id": "5730f8ea",
   "metadata": {},
   "outputs": [
    {
     "name": "stdout",
     "output_type": "stream",
     "text": [
      "<class 'float'>\n",
      "1.0\n"
     ]
    }
   ],
   "source": [
    "x = 3.0 // 2     # float // int -> float   \n",
    "print(type(x))\n",
    "print(x)"
   ]
  },
  {
   "cell_type": "code",
   "execution_count": 5,
   "id": "3d8f5d87",
   "metadata": {},
   "outputs": [
    {
     "name": "stdout",
     "output_type": "stream",
     "text": [
      "<class 'float'>\n",
      "1.0\n"
     ]
    }
   ],
   "source": [
    "x = 3 // 2.0     # int // float -> float   \n",
    "print(type(x))\n",
    "print(x)"
   ]
  },
  {
   "cell_type": "code",
   "execution_count": 6,
   "id": "ff34d557",
   "metadata": {},
   "outputs": [
    {
     "name": "stdout",
     "output_type": "stream",
     "text": [
      "<class 'int'>\n",
      "1\n"
     ]
    }
   ],
   "source": [
    "x = 3 // 2     # int // int -> int   \n",
    "print(type(x))\n",
    "print(x)"
   ]
  }
 ],
 "metadata": {
  "jupytext": {
   "formats": "md:myst",
   "text_representation": {
    "extension": ".md",
    "format_name": "myst"
   }
  },
  "kernelspec": {
   "display_name": "Python 3",
   "language": "python",
   "name": "python3"
  },
  "language_info": {
   "codemirror_mode": {
    "name": "ipython",
    "version": 3
   },
   "file_extension": ".py",
   "mimetype": "text/x-python",
   "name": "python",
   "nbconvert_exporter": "python",
   "pygments_lexer": "ipython3",
   "version": "3.11.4"
  },
  "source_map": [
   11,
   31,
   35,
   40,
   46,
   50,
   54,
   60,
   66
  ]
 },
 "nbformat": 4,
 "nbformat_minor": 5
}