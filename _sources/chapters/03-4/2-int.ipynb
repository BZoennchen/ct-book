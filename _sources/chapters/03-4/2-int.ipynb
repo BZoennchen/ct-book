{
 "cells": [
  {
   "cell_type": "markdown",
   "id": "27516e41",
   "metadata": {},
   "source": [
    "(sec-int)=\n",
    "# Ganze Zahlen - int\n",
    "\n",
    "Der Datentyp, welcher ganze Zahlen repräsentiert ``int`` (engl. [Integer](https://docs.python.org/3/library/functions.html#int)) ist ein [atomarer Datentyp](def-atomare-data-types) und verhält sich so wie wir es erwarten.\n",
    "\n",
    "Falls Sie jedoch bereits Programmierkenntnisse besitzen, so gibt es für Sie in ``Python`` eine Besonderheit:\n",
    "\n",
    "```{admonition} Fehlender Überlauf\n",
    ":name: remark-int-overflow\n",
    ":class: remark\n",
    "\n",
    "In ``Python`` gibt es **keinen** Überlauf für ganze Zahlen ``int``.\n",
    "```\n",
    "\n",
    "Anders als Fließkommazahlen benötigen ganze Zahlen ``int`` in ``Python`` eine variable Anzahl an Bits.\n",
    "Anders ausgedrückt: Nicht jede Zahl benötigt die gleiche Anzahl an Bits im Speicher!\n",
    "Solange Ihr Speicher nicht komplett belegt ist, können Sie in ``Python`` somit mit sehr großen ganzen Zahlen rechnen."
   ]
  },
  {
   "cell_type": "code",
   "execution_count": 1,
   "id": "2d6599b0",
   "metadata": {},
   "outputs": [
    {
     "name": "stdout",
     "output_type": "stream",
     "text": [
      "<class 'int'>\n",
      "10000000000000000000000000000000000000000000000000000000000000000000000000000000000000000000000000000\n"
     ]
    }
   ],
   "source": [
    "large_number = 10**100 \n",
    "print(type(large_number))\n",
    "print(large_number)"
   ]
  },
  {
   "cell_type": "markdown",
   "id": "3b7bad3e",
   "metadata": {},
   "source": [
    "Da wir bei mathematischen Operationen wie ``+``, ``-``, ``*``, ``/``, ``//`` und ``**`` ganze Zahlen ``int`` und Fließkommazahlen ``float`` vermischen können, müssen wir darauf achten welcher Datentyp am Ende herauskommt.\n",
    "Sobald eine Fließkommazahl ein Teil der Berechnung ist, ist das Ergebnis vom Typ ``float``."
   ]
  },
  {
   "cell_type": "code",
   "execution_count": 2,
   "id": "05bb23be",
   "metadata": {},
   "outputs": [
    {
     "name": "stdout",
     "output_type": "stream",
     "text": [
      "<class 'float'>\n",
      "3.0\n"
     ]
    }
   ],
   "source": [
    "x = 3 * 1.0     # int * float -> float   \n",
    "print(type(x))\n",
    "print(x)"
   ]
  },
  {
   "cell_type": "code",
   "execution_count": 3,
   "id": "dc00c3ce",
   "metadata": {},
   "outputs": [
    {
     "name": "stdout",
     "output_type": "stream",
     "text": [
      "<class 'float'>\n",
      "1e+100\n"
     ]
    }
   ],
   "source": [
    "large_number = 10.0**100     # float ** int -> float  \n",
    "print(type(large_number))\n",
    "print(large_number)"
   ]
  },
  {
   "cell_type": "markdown",
   "id": "380344d0",
   "metadata": {},
   "source": [
    "Auch für die ganzzahligen Division ``//`` erhalten wir als Datentyp eine Fließkommazahl sofern eine Fließkommazahl bei der Operation teilnimmt:"
   ]
  },
  {
   "cell_type": "code",
   "execution_count": 4,
   "id": "154017ff",
   "metadata": {},
   "outputs": [
    {
     "name": "stdout",
     "output_type": "stream",
     "text": [
      "<class 'float'>\n",
      "1.0\n"
     ]
    }
   ],
   "source": [
    "x = 3.0 // 2     # float // int -> float   \n",
    "print(type(x))\n",
    "print(x)"
   ]
  },
  {
   "cell_type": "code",
   "execution_count": 5,
   "id": "6b870654",
   "metadata": {},
   "outputs": [
    {
     "name": "stdout",
     "output_type": "stream",
     "text": [
      "<class 'float'>\n",
      "1.0\n"
     ]
    }
   ],
   "source": [
    "x = 3 // 2.0     # int // float -> float   \n",
    "print(type(x))\n",
    "print(x)"
   ]
  },
  {
   "cell_type": "code",
   "execution_count": 6,
   "id": "f5f0cbf1",
   "metadata": {},
   "outputs": [
    {
     "name": "stdout",
     "output_type": "stream",
     "text": [
      "<class 'int'>\n",
      "1\n"
     ]
    }
   ],
   "source": [
    "x = 3 // 2     # int // int -> int   \n",
    "print(type(x))\n",
    "print(x)"
   ]
  }
 ],
 "metadata": {
  "jupytext": {
   "formats": "md:myst",
   "text_representation": {
    "extension": ".md",
    "format_name": "myst"
   }
  },
  "kernelspec": {
   "display_name": "Python 3",
   "language": "python",
   "name": "python3"
  },
  "language_info": {
   "codemirror_mode": {
    "name": "ipython",
    "version": 3
   },
   "file_extension": ".py",
   "mimetype": "text/x-python",
   "name": "python",
   "nbconvert_exporter": "python",
   "pygments_lexer": "ipython3",
   "version": "3.9.7"
  },
  "source_map": [
   11,
   31,
   35,
   40,
   46,
   50,
   54,
   60,
   66
  ]
 },
 "nbformat": 4,
 "nbformat_minor": 5
}