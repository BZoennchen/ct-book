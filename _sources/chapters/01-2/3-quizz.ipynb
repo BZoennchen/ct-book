{
 "cells": [
  {
   "cell_type": "markdown",
   "id": "fb033049",
   "metadata": {},
   "source": [
    "# Quiz"
   ]
  },
  {
   "cell_type": "code",
   "execution_count": 1,
   "id": "8d075386",
   "metadata": {
    "tags": [
     "remove-input"
    ]
   },
   "outputs": [
    {
     "ename": "ModuleNotFoundError",
     "evalue": "No module named 'jupyterquiz'",
     "output_type": "error",
     "traceback": [
      "\u001b[0;31m---------------------------------------------------------------------------\u001b[0m",
      "\u001b[0;31mModuleNotFoundError\u001b[0m                       Traceback (most recent call last)",
      "Cell \u001b[0;32mIn[1], line 90\u001b[0m\n\u001b[1;32m      1\u001b[0m quiz\u001b[38;5;241m=\u001b[39m[{\n\u001b[1;32m      2\u001b[0m         \u001b[38;5;124m\"\u001b[39m\u001b[38;5;124mquestion\u001b[39m\u001b[38;5;124m\"\u001b[39m: \u001b[38;5;124m\"\u001b[39m\u001b[38;5;124mWelche Fähigkeiten zählen wir zum Computational Thinking?\u001b[39m\u001b[38;5;124m\"\u001b[39m,\n\u001b[1;32m      3\u001b[0m         \u001b[38;5;124m\"\u001b[39m\u001b[38;5;124mtype\u001b[39m\u001b[38;5;124m\"\u001b[39m: \u001b[38;5;124m\"\u001b[39m\u001b[38;5;124mmany_choice\u001b[39m\u001b[38;5;124m\"\u001b[39m,\n\u001b[0;32m   (...)\u001b[0m\n\u001b[1;32m     87\u001b[0m         ]\n\u001b[1;32m     88\u001b[0m     }]\n\u001b[0;32m---> 90\u001b[0m \u001b[38;5;28;01mfrom\u001b[39;00m \u001b[38;5;21;01mjupyterquiz\u001b[39;00m \u001b[38;5;28;01mimport\u001b[39;00m display_quiz\n\u001b[1;32m     91\u001b[0m display_quiz(quiz, border_radius\u001b[38;5;241m=\u001b[39m\u001b[38;5;241m2\u001b[39m, lang\u001b[38;5;241m=\u001b[39m\u001b[38;5;124m'\u001b[39m\u001b[38;5;124mde\u001b[39m\u001b[38;5;124m'\u001b[39m)\n",
      "\u001b[0;31mModuleNotFoundError\u001b[0m: No module named 'jupyterquiz'"
     ]
    }
   ],
   "source": [
    "quiz=[{\n",
    "        \"question\": \"Welche Fähigkeiten zählen wir zum Computational Thinking?\",\n",
    "        \"type\": \"many_choice\",\n",
    "        \"answers\": [\n",
    "            {\n",
    "                \"answer\": \"Abstraktes Denken\",\n",
    "                \"correct\": True,\n",
    "                \"feedback\": \"Richtig.\"\n",
    "            },\n",
    "            {\n",
    "                \"answer\": \"Probleme in Teilprobleme zerlegen\",\n",
    "                \"correct\": True,\n",
    "                \"feedback\": \"Richtig.\"\n",
    "            },\n",
    "            {\n",
    "                \"answer\": \"Strukturen erkennen\",\n",
    "                \"correct\": True,\n",
    "                \"feedback\": \"Richtig.\"\n",
    "            },\n",
    "            {\n",
    "                \"answer\": \"Algorithmen entwerfen\",\n",
    "                \"correct\": True,\n",
    "                \"feedback\": \"Richtig.\"\n",
    "            },\n",
    "            {\n",
    "                \"answer\": \"Software entwickeln\",\n",
    "                \"correct\": False,\n",
    "                \"feedback\": \"Falsch.\"\n",
    "            },\n",
    "            {\n",
    "                \"answer\": \"Die Abarbeitung wiederholender Aufgaben\",\n",
    "                \"correct\": False,\n",
    "                \"feedback\": \"Falsch.\"\n",
    "            }\n",
    "        ]\n",
    "    },\n",
    "    {\n",
    "        \"question\": \"Welche Aussagen sind korrekt?\",\n",
    "        \"type\": \"many_choice\",\n",
    "        \"answers\": [\n",
    "            {\n",
    "                \"answer\": \"Informatik ist eine Wissenschaftsdiziplin\",\n",
    "                \"correct\": True,\n",
    "                \"feedback\": \"Richtig.\"\n",
    "            },\n",
    "            {\n",
    "                \"answer\": \"CT ist eine Denkweise\",\n",
    "                \"correct\": True,\n",
    "                \"feedback\": \"Richtig.\"\n",
    "            },\n",
    "            {\n",
    "                \"answer\": \"CT ist ein Teilgebiet der Informatik\",\n",
    "                \"correct\": False,\n",
    "                \"feedback\": \"Falsch.\"\n",
    "            },\n",
    "            {\n",
    "                \"answer\": \"CT ist eine Fähigkeit die Informatiker*innen lernen\",\n",
    "                \"correct\": True,\n",
    "                \"feedback\": \"Richtig.\"\n",
    "            },\n",
    "            {\n",
    "                \"answer\": \"Informatik ist die Wissenschaft der Computer\",\n",
    "                \"correct\": False,\n",
    "                \"feedback\": \"Falsch.\"\n",
    "            }\n",
    "        ]\n",
    "    },\n",
    "    {\n",
    "        \"question\": \"Weshalb kann ein sehr kurzer Programmcode zu einer langen Ausführungszeit führen?\",\n",
    "        \"type\": \"many_choice\",\n",
    "        \"answers\": [\n",
    "            {\n",
    "                \"answer\": \"Weil das Programm Fehler enthält\",\n",
    "                \"correct\": False,\n",
    "                \"feedback\": \"Richtig.\"\n",
    "            },\n",
    "            {\n",
    "                \"answer\": \"Weil ein bestimmter Programmcode wiederholt ausgeführt wird\",\n",
    "                \"correct\": True,\n",
    "                \"feedback\": \"Richtig.\"\n",
    "            },\n",
    "            {\n",
    "                \"answer\": \"Weil es Abzweigungen im Programmcode gibt\",\n",
    "                \"correct\": False,\n",
    "                \"feedback\": \"Falsch.\"\n",
    "            }\n",
    "        ]\n",
    "    }]\n",
    "\n",
    "from jupyterquiz import display_quiz\n",
    "display_quiz(quiz, border_radius=2, lang='de')"
   ]
  }
 ],
 "metadata": {
  "jupytext": {
   "formats": "md:myst",
   "text_representation": {
    "extension": ".md",
    "format_name": "myst"
   }
  },
  "kernelspec": {
   "display_name": "Python 3",
   "language": "python",
   "name": "python3"
  },
  "language_info": {
   "codemirror_mode": {
    "name": "ipython",
    "version": 3
   },
   "file_extension": ".py",
   "mimetype": "text/x-python",
   "name": "python",
   "nbconvert_exporter": "python",
   "pygments_lexer": "ipython3",
   "version": "3.11.4"
  },
  "source_map": [
   11,
   15
  ]
 },
 "nbformat": 4,
 "nbformat_minor": 5
}