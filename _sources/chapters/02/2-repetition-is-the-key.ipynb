{
 "cells": [
  {
   "cell_type": "markdown",
   "id": "greater-copying",
   "metadata": {},
   "source": [
    "# Wiederholung als Grundlage"
   ]
  },
  {
   "cell_type": "code",
   "execution_count": 1,
   "id": "ongoing-tunisia",
   "metadata": {},
   "outputs": [],
   "source": [
    "def sum_sqrt(n):\n",
    "    sum_sqrt = 0\n",
    "    for i in range(n):\n",
    "        sum_sqrt += (i+1) * (i+1)\n",
    "    return sum_sqrt"
   ]
  },
  {
   "cell_type": "markdown",
   "id": "chronic-definition",
   "metadata": {},
   "source": [
    "Die Anzahl der auszuführenden Anweisungen steigt linear mit ``n``, doch der Programmiercode bleibt unverändert.\n",
    "Hierin liegt die ganze Magie: **Wiederholung**!"
   ]
  }
 ],
 "metadata": {
  "jupytext": {
   "formats": "md:myst",
   "text_representation": {
    "extension": ".md",
    "format_name": "myst",
    "format_version": "1.1",
    "jupytext_version": "1.1.0"
   }
  },
  "kernelspec": {
   "display_name": "Python 3",
   "language": "python",
   "name": "python3"
  },
  "language_info": {
   "codemirror_mode": {
    "name": "ipython",
    "version": 3
   },
   "file_extension": ".py",
   "mimetype": "text/x-python",
   "name": "python",
   "nbconvert_exporter": "python",
   "pygments_lexer": "ipython3",
   "version": "3.9.6"
  },
  "source_map": [
   13,
   18,
   24
  ]
 },
 "nbformat": 4,
 "nbformat_minor": 5
}