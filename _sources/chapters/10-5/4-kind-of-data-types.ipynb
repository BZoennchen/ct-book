{
 "cells": [
  {
   "cell_type": "markdown",
   "id": "metropolitan-assistant",
   "metadata": {},
   "source": [
    "(sec-kind-of-data-types)=\n",
    "# Arten von Datentypen\n",
    "\n",
    "Der **Datentyp** einer Variablen gibt an, wie die Bits und Bytes interpretiert werden.\n",
    "Die Bits und Bytes des Speicherbereichs auf welchen die Variable *zeigt* machen den *Wert* der Variablen aus.\n",
    "Im folgenden definieren und initialisieren wir Variablen mit unterschiedlichen Datentypen: \n",
    "\n",
    "+ Ganze Zahl ``int``, \n",
    "+ Fließkommazahl ``float``, \n",
    "+ Zeichenkette ``str``, \n",
    "+ Wahrheitswert ``bool``, \n",
    "+ eine Liste ``list``, welche ganze Zahlen ``int`` enthält und\n",
    "+ ein Tupel ``tuple``, welche Zeichenketten ``str`` enthält."
   ]
  },
  {
   "cell_type": "code",
   "execution_count": 1,
   "id": "careful-dream",
   "metadata": {},
   "outputs": [],
   "source": [
    "number = 111\n",
    "floating_number = 1.3\n",
    "characters = 'Hello'\n",
    "boolean = True\n",
    "mylist = [1,2,3,4]\n",
    "mytuple = ('A', 'B', 'C')"
   ]
  },
  {
   "cell_type": "markdown",
   "id": "organic-yugoslavia",
   "metadata": {},
   "source": [
    "Beim Datentyp ``list`` und ``tuple`` fällt auf, dass diese Werte eines anderen Datentyps enthalten, hier ``int`` und ``str``.\n",
    "Solche Datentypen nennen wir auch *zusammengesetzt Datentypen* wohingegen wir Datentypen, welche wir nicht zerlegen können als [primitive Datentypen](def-primitive-datatypes) bezeichnen.\n",
    "Zudem gibt es Datentypen, welche von der Programmiersprache die Sie verwenden von vornherein definiert sind und solche die Sie selbst definieren.\n",
    "Erstere nennen wir *built-in Datentypen* und letztere werden durch *Klassen* realisiert.\n",
    "Wir werden auf *Klassen* erst am Ende des Kurses eingehen.\n",
    "\n",
    "Zusammenfassend gibt es vier Arten von Datentypen:\n",
    "\n",
    "1. Primitive Datentypen,\n",
    "2. zusammengesetzte Datentypen,\n",
    "3. built-in Datentypen und\n",
    "4. eigens definierte Datentypen.\n",
    "\n",
    "Dabei ist ein Datentyp entweder primitiv oder zusammengesetzt und zugleich entweder built-in oder eigens definiert.\n",
    "Oftmals sind built-in Datentypen zugleich primitive Datentypen (siehe z.B. ``Java``, ``C/C++``) und eigens definierte Datentypen sind immer auch zusammengesetzte Datentypen.\n",
    "\n",
    "## Primitive Datentypen\n",
    "\n",
    "```{admonition} Primitive Datentypen\n",
    ":name: def-primitive-datatypes\n",
    "\n",
    "*Primitive Datentypen* sind jene Datentypen für die wir einen festen Speicherbereich definieren.\n",
    "Ein *primitiver Datentyp* besteht aus keiner Komposition anderer Datentypen.\n",
    "Ebenso besteht eine Variable vom Typ eines primitive Datentypen eben nicht aus einer Komposition anderer Variablen.\n",
    "```\n",
    "\n",
    "Ein *Wert* eines *primitiven Datentyps* belegt im Speicher immer die selbe Anzahl an [Bits](def-bit), wohingegen Werte von *zusammengesetzte Datentypen* unterschiedlich viel Speicher verbrauchen können.\n",
    "Zudem kann ein *primitiver Datentyp* nicht weiter in andere Datentypen zerlegt werden.\n",
    "\n",
    "Übertragen wir das auf die 'echte' Welt, so könnte man bei einem Brief von einem *zusammengesetzten Datentyp* sprechen.\n",
    "Dieser enthält einen Briefkopf, ein Datum einen Absender, Empfänger und den Text.\n",
    "Das Datum ist wiederum ein *zusammengesetzten Datentyp* bestehend aus Tag, Monat und Jahr.\n",
    "Der Tag ist schließlich ein *primitiver Datentyp* (eine Zahl zwischen 0 und 31).\n",
    "\n",
    "```{exercise} Der Datentyp Zeichenkette\n",
    ":label: datatype-str-exercise\n",
    "Ist ``str``, d.h. die Zeichenkette, ein primitiver oder zusammengesetzter Datentyp?\n",
    "Begründen Sie Ihre Antwort.\n",
    "```\n",
    "\n",
    "```{solution} datatype-str-exercise\n",
    ":label: datatype-str-solution\n",
    ":class: dropdown\n",
    "\n",
    "``str`` ist ein zusammengesetzter Datentyp.\n",
    "Zeichenketten haben eine variable Länge und so muss auch der Speicherbereich der von ihnen belegt wird variable sein.\n",
    "Eine Zeichenkette ist eine Liste aus Zeichen.\n",
    "Wir können den Datentyp Zeichenkette also in den Datentyp Zeichen zerlegen.\n",
    "```\n",
    "\n",
    "(sec-built-in-data-types)=\n",
    "## Built-in Datentypen\n",
    "\n",
    "*Built-in* Datentypen sind jene Datentypen, welche die Programmiersprache (ohne weitere Bibliotheken) mitliefert.\n",
    "Zur Vollständigkeit listen wir hier alle *built-in Datentypen* von ``Python`` auf.\n",
    "Einige davon werden Sie jedoch in diesem Kurs nicht verwenden.\n",
    "Die wichtigsten *built-in Datentypen* sind hervorgehobenen:\n",
    "\n",
    "1. **Das Nichts** ``None``\n",
    "2. Zahlen (Numbers)\n",
    "   + **Ganze Zahlen** ``int``\n",
    "   + **Fließkommazahl (rationale Zahlen)** ``float``\n",
    "   + Komplexe Zahlen ``complex``\n",
    "3. Sequenzen (Sequences)\n",
    "    1. Unveränderlich\n",
    "       + **Zeichenketten** ``str``\n",
    "       + **Tupels** ``tuple``\n",
    "       + Bytes ``bytes``\n",
    "    2. Veränderlich\n",
    "       + **Listen** ``list``\n",
    "       + Byte Arrays ``bytearray``\n",
    "4. Mengen (Set types)\n",
    "   + **(normale) Mengen** ``set``\n",
    "   + (gefrorene Mengen) ``frozenset``\n",
    "5. Abbildungen (Mappings)\n",
    "   + **Wörterbuch** ``dict``\n",
    "6. Aufrufbare Typen (Callable)\n",
    "   + **Funktionen**\n",
    "   + Methoden\n",
    "   + Klassen\n",
    "7. Module\n",
    "\n",
    "Diese Datentypen stehen Ihnen zur Verfügung sobald Sie ``Python`` auf Ihrem System oder Ihrer Umgebung installiert haben.\n",
    "\n",
    "Anders als in vielen anderen Sprachen müssen Sie den (built-in) Datentyp einer Variablen in ``Python`` nicht explizit angeben.\n",
    "``Python`` schließt von der Schreibweise des Wertes automatisch auf den richtigen Datentyp.\n",
    "Eine Folge von Ziffern mit einem optional vorangestellten Minuszeichen werden als ganze Zahl ``int`` interpretiert.\n",
    "Befindet sich in der Folge ein Punkt ``.`` so wird der Wert als Fließkommazahl interpretiert.\n",
    "Sie können den Datentyp einer Variablen ``x`` oder eines Wertes mit ``type(x)`` abfragen:"
   ]
  },
  {
   "cell_type": "code",
   "execution_count": 2,
   "id": "concerned-component",
   "metadata": {},
   "outputs": [
    {
     "data": {
      "text/plain": [
       "int"
      ]
     },
     "execution_count": 2,
     "metadata": {},
     "output_type": "execute_result"
    }
   ],
   "source": [
    "type(-3123)"
   ]
  },
  {
   "cell_type": "code",
   "execution_count": 3,
   "id": "unlikely-kennedy",
   "metadata": {},
   "outputs": [
    {
     "data": {
      "text/plain": [
       "float"
      ]
     },
     "execution_count": 3,
     "metadata": {},
     "output_type": "execute_result"
    }
   ],
   "source": [
    "type(1.313)"
   ]
  },
  {
   "cell_type": "code",
   "execution_count": 4,
   "id": "nonprofit-state",
   "metadata": {},
   "outputs": [
    {
     "data": {
      "text/plain": [
       "str"
      ]
     },
     "execution_count": 4,
     "metadata": {},
     "output_type": "execute_result"
    }
   ],
   "source": [
    "name = 'Anna'\n",
    "type(name)"
   ]
  },
  {
   "cell_type": "code",
   "execution_count": 5,
   "id": "fifth-handling",
   "metadata": {},
   "outputs": [
    {
     "name": "stdout",
     "output_type": "stream",
     "text": [
      "List Type: <class 'list'>\n",
      "Element 0 Type: <class 'int'>\n",
      "Element 4 Type: <class 'str'>\n"
     ]
    }
   ],
   "source": [
    "mylist = [1, 2, 3, 4, 'A']\n",
    "print(f'List Type: {type(mylist)}')\n",
    "print(f'Element 0 Type: {type(mylist[0])}')\n",
    "print(f'Element 4 Type: {type(mylist[4])}')"
   ]
  },
  {
   "cell_type": "markdown",
   "id": "through-humidity",
   "metadata": {},
   "source": [
    "## Zusammengesetzte Datentypen\n",
    "\n",
    "Zusammengesetzte Datentypen definieren wir durch andere Datentypen, welche bereits definiert wurden.\n",
    "Diese sind entweder *built-in Datentypen* der Sprache oder eigens definierte zusammengesetzte Datentypen.\n",
    "Angenommen Sie wollen den Datentyp ``Person`` definieren welcher sich dadurch auszeichnet, dass er sich aus zwei Zeichenketten ``str`` nämlich dem Vor- und Nachnamen zusammensetzt.\n",
    "Durch *Klassen* können Sie einen solchen Datentyp definieren.\n",
    "Wie wir dies machen, werden wir auf einen späteren Zeitpunkt verschieben.\n",
    "\n",
    "Eine Listen ``list``, Tupel ``tuple``, Mengen ``set`` und Wörterbücher ``dict`` sind *zusammengesetzter built-in Datentypen* und zugleich enthalten die Werte (Objekte) dieser Datentypen eine\n",
    "variable Anzahl an Elementen unterschiedlicher Datentypen.\n",
    "Eine gute Analogie zu diesen sog, [Sammlung / Kollektion (engl. Collections)](def-collection) sind physikalische Ordner, Schließfächer, Listen auf Papier geschrieben, Rücksäcke, Körbe, Tüten und andere physikalischen Objekte die wir im Alltag verwenden um andere physikalische Objekte zu ordnen, strukturieren oder schlicht zu halten.\n",
    "Auch der Arbeitsspeicher ist in diesem Sinne eine sowohl physikalische wie auch virtuelle Kollektion an Bits.\n",
    "\n",
    "```{admonition} Sammlung (Collection)\n",
    ":name: def-collection\n",
    "Als *Sammlung* bezeichnen wir alle Datentypen (Tupel, [Dictionary](def-python-dictionary), Listen, usw.) die eine **variable Anzahl** an anderen Elementen (normalerweise mehrere) beinhalten.\n",
    "\n",
    "```\n",
    "\n",
    "Mit **variabler Anzahl** ist gemeint, dass es Sammlung gibt, welche 5 Elemente enthalten und Sammlung gibt die 1000 Elementen enthalten.\n",
    "Es kann dennoch sein, dass eine Sammlung die 10 Elemente enthält nicht verändert werden kann, d.h. sie wird auf immer dieser 10 Elemente enthalten."
   ]
  },
  {
   "cell_type": "code",
   "execution_count": 6,
   "id": "painful-potter",
   "metadata": {},
   "outputs": [
    {
     "data": {
      "text/plain": [
       "[1, 2, 'A', 3, 1.23, [1, 2, 3]]"
      ]
     },
     "execution_count": 6,
     "metadata": {},
     "output_type": "execute_result"
    }
   ],
   "source": [
    "mylist = [1, 2, 'A', 3, 1.23, [1, 2, 3]]\n",
    "mylist"
   ]
  },
  {
   "cell_type": "code",
   "execution_count": 7,
   "id": "paperback-necklace",
   "metadata": {},
   "outputs": [
    {
     "data": {
      "text/plain": [
       "([1, 2, 'A', 3, 1.23, [1, 2, 3]], 'D')"
      ]
     },
     "execution_count": 7,
     "metadata": {},
     "output_type": "execute_result"
    }
   ],
   "source": [
    "mytuple = (mylist, 'D')\n",
    "mytuple"
   ]
  },
  {
   "cell_type": "code",
   "execution_count": 8,
   "id": "hungry-excess",
   "metadata": {},
   "outputs": [
    {
     "data": {
      "text/plain": [
       "{'firstname': 'Paulina', 'lastname': 'Schmidt', 'age': 23}"
      ]
     },
     "execution_count": 8,
     "metadata": {},
     "output_type": "execute_result"
    }
   ],
   "source": [
    "mydict = {'firstname' : 'Paulina', 'lastname' : 'Schmidt', 'age' : 23 }\n",
    "mydict"
   ]
  },
  {
   "cell_type": "code",
   "execution_count": 9,
   "id": "changed-danger",
   "metadata": {},
   "outputs": [
    {
     "data": {
      "text/plain": [
       "{1, 2, 3, 4, 5, 6, 7, 8, 9, 10, 11, 12}"
      ]
     },
     "execution_count": 9,
     "metadata": {},
     "output_type": "execute_result"
    }
   ],
   "source": [
    "month = {1, 2, 3, 4, 5, 6, 7, 8, 9, 10, 11, 12}\n",
    "month"
   ]
  },
  {
   "cell_type": "markdown",
   "id": "small-module",
   "metadata": {},
   "source": [
    "Eine Zeichenkette ``str`` ist ebenfalls eine Kollektion, jedoch sind deren Elemente alle vom gleichen Typ -- dem Zeichen."
   ]
  }
 ],
 "metadata": {
  "jupytext": {
   "formats": "md:myst",
   "text_representation": {
    "extension": ".md",
    "format_name": "myst"
   }
  },
  "kernelspec": {
   "display_name": "Python 3",
   "language": "python",
   "name": "python3"
  },
  "language_info": {
   "codemirror_mode": {
    "name": "ipython",
    "version": 3
   },
   "file_extension": ".py",
   "mimetype": "text/x-python",
   "name": "python",
   "nbconvert_exporter": "python",
   "pygments_lexer": "ipython3",
   "version": "3.9.8"
  },
  "source_map": [
   11,
   27,
   34,
   126,
   130,
   134,
   139,
   144,
   168,
   173,
   178,
   183,
   186
  ]
 },
 "nbformat": 4,
 "nbformat_minor": 5
}