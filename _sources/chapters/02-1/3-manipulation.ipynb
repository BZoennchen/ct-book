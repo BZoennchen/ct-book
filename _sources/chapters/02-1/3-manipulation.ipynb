{
 "cells": [
  {
   "cell_type": "markdown",
   "id": "b95903b6",
   "metadata": {},
   "source": [
    "(sec-manipulation)=\n",
    "# Manipulation\n",
    "\n",
    "Eingabegeräte transformieren Information, wie etwa einen Tastendruck oder die Aufnahmen einer Videokamera, in elektrische Signale.\n",
    "Sie realisieren eine bestimmte [Interpretation](def-interpretation) $I$.\n",
    "Die Tastatur interpretiert unseren Tastendruck einer bestimmten Taste und gibt ihre Bedeutung an die anderen Bauteile des Computers weiter.\n",
    "Die elektrischen Signale (**Strom aus** und **Strom an**) gelangen über mikroskopisch kleine Leitungen in sogenannte Schaltkreise.\n",
    "Dort werden die Signale, d. h. die [Bits](def-bit) und [Byte](def-byte) weiterverarbeiten.\n",
    "\n",
    "*Logikgatter* oder kurz *Gatter* sind konzeptionelle Anordnungen von elektrischen Schaltungen, welche boolsche Operationen durchführen.\n",
    "\n",
    "```{admonition} Gatter und Bauteile\n",
    ":class: remark\n",
    ":name: remark-gates\n",
    "\n",
    "Gatter beschreiben die Funktionsweise.\n",
    "Elektrische Schaltkreise und Transistoren sind eine mögliche Realisierung.\n",
    "Gatter sind **konzeptionelle Bauteile** wohingegen elektrische Schaltkreise, Transistoren, Leitungen und Flip-Flops (später mehr dazu) **physikalische Bauteile** sind.\n",
    "```\n",
    "\n",
    "Ein oder zwei Signale gelangen in ein Gatter und, je nachdem um welches Gatter es sich handelt, wird ein bestimmtes Ausgabesignal ausgegeben.\n",
    "Das Ausgabesignal hängt von den ein oder zwei Eingabesignalen und dessen Typ des Gatters ab.\n",
    "Jedes Gatter realisiert eine [(mathematische) Funktion](def-math-function).\n",
    "\n",
    "(sec-gates)=\n",
    "## Basis Gatter\n",
    "\n",
    "Das einfachste **Not**-Gatter nimmt als Eingabe ein Signal und gibt dessen *Negation* davon aus.\n",
    "Aus 0 wird 1 und aus 1 wird 0."
   ]
  },
  {
   "cell_type": "code",
   "execution_count": 1,
   "id": "90853967",
   "metadata": {},
   "outputs": [
    {
     "name": "stdout",
     "output_type": "stream",
     "text": [
      "1\n",
      "0\n"
     ]
    }
   ],
   "source": [
    "def lnot(bit):\n",
    "    return int(not bit)\n",
    "    \n",
    "print(lnot(0))\n",
    "print(lnot(1))"
   ]
  },
  {
   "cell_type": "markdown",
   "id": "7e610f8d",
   "metadata": {},
   "source": [
    "```{figure} ../../figs/digital-computer/manipulation/gatter-not.png\n",
    "---\n",
    "width: 300px\n",
    "name: fig-not\n",
    "---\n",
    "Das Symbol für das **Not**-Gatter (links) und seine Ein- und Ausgabewerte (rechts).\n",
    "```\n",
    "\n",
    "Ein weiteres sehr einfaches Gatter ist das sogenannte **AND**-Gatter.\n",
    "Es kombiniert zwei Signale und gibt genau dann 1 aus, wenn beide Eingabesignale gleich 1 sind."
   ]
  },
  {
   "cell_type": "code",
   "execution_count": 2,
   "id": "3e9cb597",
   "metadata": {},
   "outputs": [
    {
     "name": "stdout",
     "output_type": "stream",
     "text": [
      "0\n",
      "0\n",
      "0\n",
      "1\n"
     ]
    }
   ],
   "source": [
    "def land(in1, in2):\n",
    "    return in1 and in2\n",
    "    \n",
    "print(land(0,0)) \n",
    "print(land(0,1))\n",
    "print(land(1,0))\n",
    "print(land(1,1))"
   ]
  },
  {
   "cell_type": "markdown",
   "id": "2a9e0fdc",
   "metadata": {},
   "source": [
    "```{figure} ../../figs/digital-computer/manipulation/gatter-and.png\n",
    "---\n",
    "width: 340px\n",
    "name: fig-and\n",
    "---\n",
    "Das Symbol für das **AND**-Gatter (links) und seine Ein- und Ausgabewerte (rechts).\n",
    "```\n",
    "\n",
    "Zu guter Letzt fehlt noch das **OR**-Gatter.\n",
    "Es kombiniert zwei Signale und gibt 1 aus genau dann wenn eines oder beide der Eingabesignale gleich 1 sind."
   ]
  },
  {
   "cell_type": "code",
   "execution_count": 3,
   "id": "5374d7d9",
   "metadata": {},
   "outputs": [
    {
     "name": "stdout",
     "output_type": "stream",
     "text": [
      "0\n",
      "1\n",
      "1\n",
      "1\n"
     ]
    }
   ],
   "source": [
    "def lor(in1, in2):\n",
    "    return in1 or in2\n",
    "    \n",
    "print(lor(0,0)) \n",
    "print(lor(0,1))\n",
    "print(lor(1,0))\n",
    "print(lor(1,1))"
   ]
  },
  {
   "cell_type": "markdown",
   "id": "1cff89fc",
   "metadata": {},
   "source": [
    "```{figure} ../../figs/digital-computer/manipulation/gatter-or.png\n",
    "---\n",
    "width: 340px\n",
    "name: fig-or\n",
    "---\n",
    "Das Symbol für das **OR**-Gatter (links) und seine Ein- und Ausgabewerte (rechts).\n",
    "```\n",
    "\n",
    "```{exercise} OR-Gatter\n",
    ":label: or-gate-exercise\n",
    "Das Symbol für das OR-Gatter enthält das größer gleich Zeichen $\\geq$.\n",
    "Was könnte das für einen Grund haben?\n",
    "Schreiben Sie eine Python Funktion ``lor(in1, in2)`` die sich diesen Grund zunutze macht.\n",
    "\n",
    "**Tipp**: Denken Sie an die Addition.\n",
    "```\n",
    "\n",
    "````{solution} or-gate-exercise\n",
    ":label: or-gate-solution\n",
    ":class: dropdown\n",
    "Der Grund dafür ist, dass das Gatter genau dann 1 ist wenn\n",
    "\n",
    "$$x + y \\geq 1$$\n",
    "\n",
    "gilt.\n",
    "\n",
    "```python\n",
    "def lor(in1, in2):\n",
    "    return int(in1 + in2 >= 1)\n",
    "\n",
    "print(lor(0,0)) \n",
    "print(lor(0,1))\n",
    "print(lor(1,0))\n",
    "print(lor(1,1))\n",
    "```\n",
    "\n",
    "````\n",
    "\n",
    "Jedes Gatter können wir auch als [Interpretation](sec-interpretation) $I$ beschreiben.\n",
    "Zum Beispiel wäre die Interpretation des **AND**-Gatters durch folgende Mengen gegeben:\n",
    "\n",
    "+ Bedeutung $B_{\\text{AND}} = \\left\\{0, 1\\right\\}$\n",
    "+ Repräsentation $R_{\\text{AND}} = \\left\\{ 00, 01, 10, 11 \\right\\}$\n",
    "+ Interpretation $I_{\\text{AND}} = \\left\\{ (00, 0), (01, 0), (10, 0), (11, 1) \\right\\}$.\n",
    "\n",
    "Nun gut, diese Operationen scheinen lächerlich einfach zu sein, aber kombinieren wir mehrere Gatter können wir mehr und mehr komplexe Operationen durchführen.\n",
    "Im Endeffekt **basieren alle Berechnungen des Computers auf diesen sehr primitiven Gattern/Operationen**.\n",
    "Die Logikgatter implementieren die sog. *boolsche Algebra*.\n",
    "\n",
    "Obwohl sehr viele kleine Operationen notwendig sind, lassen sich diese Operationen sehr schnell durchführen.\n",
    "Signale breiten sich mit annähernd Lichtgeschwindigkeit aus und so sind gigantische Mengen an primitiven Operationen in sehr kurzer Zeit durchführbar.\n",
    "Je kleiner die Chips, desto kleiner ist die Distanz, welche die Signale überwinden müssen und desto schneller ist der Computer.\n",
    "\n",
    "## Komplement\n",
    "\n",
    "In Abschnitt [Ganze Zahlen](sec-integers) haben wir besprochen wie diese durch das zweier Komplement repräsentiert werden.\n",
    "Um aus eine Binärzahl $k = b_{n-1}\\ldots b_0$ ihr Negativ zu bilden, also $-k$, bilden wir das Komplement und addieren eins:\n",
    "\n",
    "$$-k = \\overline{b_{n-1}\\ldots b_0} + 1$$\n",
    "\n",
    "Wie würden wir das Komplement $\\overline{b_{n-1}\\ldots b_0}$ mit Gattern realisieren?\n",
    "Jedes Signal $b_i$ muss durch ein Not-Gatter negiert werden.\n",
    "Somit könnten wir die Signale der Binärzahl durch $n$ Not-Gatter hindurch schicken und würden ihr Komplement erhalten:"
   ]
  },
  {
   "cell_type": "code",
   "execution_count": 4,
   "id": "46c1af92",
   "metadata": {},
   "outputs": [
    {
     "name": "stdout",
     "output_type": "stream",
     "text": [
      "(1, 1, 1, 1)\n",
      "(0, 1, 0, 0)\n"
     ]
    }
   ],
   "source": [
    "def complement(b3, b2, b1, b0):\n",
    "    return lnot(b3), lnot(b2), lnot(b1), lnot(b0)\n",
    "\n",
    "print(complement(0,0,0,0)) \n",
    "print(complement(1,0,1,1)) "
   ]
  },
  {
   "cell_type": "markdown",
   "id": "c4f4b94a",
   "metadata": {},
   "source": [
    "(sec-addierer)=\n",
    "## Addierer\n",
    "\n",
    "Betrachten Sie einmal ``land`` und ``lor``.\n",
    "Welche mathematische Funktion realisieren diese einfachen Gatter?\n",
    "Nun ja, wenn wir die beiden Eingabesignale als Zahlen interpretieren, dann ist ``land`` gleich dem Minimum ``min`` und ``lor`` gleich dem ``max`` der beiden Signale:"
   ]
  },
  {
   "cell_type": "code",
   "execution_count": 5,
   "id": "f17f7276",
   "metadata": {},
   "outputs": [
    {
     "name": "stdout",
     "output_type": "stream",
     "text": [
      "0\n",
      "1\n",
      "1\n",
      "1\n",
      "0\n",
      "0\n",
      "0\n",
      "1\n"
     ]
    }
   ],
   "source": [
    "def lor(in1, in2):\n",
    "    return max(in1, in2)\n",
    "\n",
    "def land(in1, in2):\n",
    "    return min(in1, in2)   \n",
    "\n",
    "print(lor(0,0)) \n",
    "print(lor(0,1))\n",
    "print(lor(1,0))\n",
    "print(lor(1,1))\n",
    "\n",
    "print(land(0,0)) \n",
    "print(land(0,1))\n",
    "print(land(1,0))\n",
    "print(land(1,1))"
   ]
  },
  {
   "cell_type": "markdown",
   "id": "f1e8018c",
   "metadata": {},
   "source": [
    "Diese Operation ist sehr simpel.\n",
    "Dennoch berechnen wir mit nur einem Gatter bereits etwas.\n",
    "\n",
    "Im folgenden wollen wir Ihnen durch den Bau eines $n$-Bit Addierers zeigen, wie wir durch *Komposition* aus einfachen Berechnungen/Bauteilen komplexe Berechnungen/Bauteilen realisieren können.\n",
    "\n",
    "### 1-Bit-Addierer\n",
    "\n",
    "Bauen wir aus den gegebenen Gattern einen Addierer der zwei Zahlen $a, b \\in \\{0,1\\}$ addiert.\n",
    "Der Addierer erhält zwei Eingabesignale $a, b$ und gibt zwei Signale $c = c_0, c_1$ aus.\n",
    "Sei $c = c_1c_0$ das Ergebnis der Addition.\n",
    "Lassen Sie uns alle Möglichkeiten notieren:\n",
    "\n",
    "\\begin{equation*}\n",
    "\\begin{split}\n",
    "    b\\ + a\\ &= c_1c_0\\\\ \\hline\n",
    "    0_2 + 0_2 &= 00_2 \\\\\n",
    "    0_2 + 1_2 &= 01_2 \\\\\n",
    "    1_2 + 0_2 &= 01_2 \\\\\n",
    "    1_2 + 1_2 &= 10_2\n",
    "\\end{split}\n",
    "\\end{equation*}\n",
    "\n",
    "Wir erhalten $c_1 = 1$, d.h. einen *Übertrag* von $1$ genau dann wenn $a$ und $b$ gleich $1$ sind.\n",
    "Hingegen ist $c_0$ genau dann $1$ wenn entweder $a$ oder $b$, nicht aber beide, gleich $1$ sind. \n",
    "Daraus ergeben sich folgende boolsche Operationen:\n",
    "\n",
    "$$\n",
    "\\begin{split}\n",
    "    c_1 &= a \\land b \\\\\n",
    "    c_0 &= \\neg (a \\land b) \\land (a \\lor b) = \\neg c_1 \\land (a \\lor b)\n",
    "\\end{split}\n",
    "$$\n",
    "\n",
    "Wir haben diese Operationen als ``Python`` Funktion implementiert."
   ]
  },
  {
   "cell_type": "code",
   "execution_count": 6,
   "id": "5fac8c17",
   "metadata": {},
   "outputs": [
    {
     "data": {
      "text/plain": [
       "[1, 0]"
      ]
     },
     "execution_count": 6,
     "metadata": {},
     "output_type": "execute_result"
    }
   ],
   "source": [
    "def ladd(in1, in0):\n",
    "\n",
    "    # c1 = a and b\n",
    "    out1 = land(in1,in0)\n",
    "\n",
    "    # c0 = (not c1) and (a or b)\n",
    "    out0 = land(lnot(out1), lor(in0, in1))\n",
    "\n",
    "    #return c1c2\n",
    "    return [out1, out0]\n",
    "\n",
    "ladd(1,1)"
   ]
  },
  {
   "cell_type": "markdown",
   "id": "3a5a7ae2",
   "metadata": {},
   "source": [
    "Als Gatter-Bauplan sieht das ganze wie folgt aus.\n",
    "\n",
    "```{figure} ../../figs/digital-computer/manipulation/adder.png\n",
    "---\n",
    "width: 600px\n",
    "name: fig-adder\n",
    "---\n",
    "Skizze eines 1-Bit-Addierers. Der Zusammenschluss der Gatter (links) und das Symbol für unseren Addierer (rechts).\n",
    "```\n",
    "### Erweiterter 1-Bit-Addierer\n",
    "\n",
    "Durch vier Gatter lassen sich also zwei 1-Bit Zahlen addieren.\n",
    "Was passiert wenn wir die Anzahl der Bits erhöhen?\n",
    "Immerhin ist das Addieren von 1-Bit Zahlen doch sehr einschränkend.\n",
    "Addieren wir größere Zahlen, so stellen wir fest, dass sich diese Operation auf den 1-Bit-Addierer zurückführen lässt.\n",
    "Wenn Sie, zum Beispiel,\n",
    "\n",
    "$$1101_2 + 1001_2$$\n",
    "\n",
    "berechnen, so betrachten Sie in jedem Berechnungsschritt lediglich 3 Bits:\n",
    "1. das Bit an der $i$-ten Stelle der ersten Zahl\n",
    "2. das Bit an der $i$-ten Stelle der zweiten Zahl\n",
    "3. und den Übertrag der letzten ($i-1$-ten) 1-Bit-Addition!\n",
    "\n",
    "So lautet die erste Rechnung $1+1+0 = 0$ und der Übertrag ist gleich $1$.\n",
    "Die zweite Rechnung lautet $0+0+1 = 1$ und der Übertrag ist gleich $0$.\n",
    "Die dritte lautet $0+1+0 = 1$ und der Übertrag ist gleich $0$.\n",
    "Die vierte und letzte lautet $1+1+0 = 0$ und der Übertrag ist $1$.\n",
    "Daraus ergibt sich:\n",
    "\n",
    "$$1101_2 + 1001_2 = 10110_2$$\n",
    "\n",
    "binär, was \n",
    "\n",
    "$$(2^3 \\cdot 1 + 2^2 \\cdot 1 + 2^1 \\cdot 0 + 2^0 \\cdot 1) + (2^3 \\cdot 1 + 2^2 \\cdot 0 + 2^1 \\cdot 0 + 2^0 \\cdot 1) = 13_{10} + 9_{10} = 22_{10}$$\n",
    "\n",
    "im Dezimalsystem ergibt.\n",
    "\n",
    "Wir addieren also je drei 1-Bit Zahlen!\n",
    "Unser Addierer von oben addiert jedoch nur zwei 1-Bit Zahlen.\n",
    "Lassen Sie uns also einen 1-Bit-Addierer der drei Zahlen addieren kann konstruieren.\n",
    "Dieser dient dann der Konstruktion des $n$-Bit-Addierers.\n",
    "Wir benötigen einen 1-Bit-Addierer mit drei Eingabesignale $u, a, b$ und weiterhin zwei Ausgabesignalen $c_0, c_1$, jedoch interpretieren wir diesmal $u$ als Übertrag für den nächsten Addierer!\n",
    "\n",
    "Lassen Sie uns erneut alle Möglichkeiten notieren:\n",
    "\n",
    "\\begin{equation*}\n",
    "\\begin{split}\n",
    "    b\\ + a\\ + u\\ &= c_1c_0\\\\ \\hline\n",
    "    0_2 + 0_2 + 0_2 &= 00_2 \\\\\n",
    "    0_2 + 0_2 + 1_2 &= 01_2 \\\\\n",
    "    0_2 + 1_2 + 0_2 &= 01_2 \\\\\n",
    "    0_2 + 1_2 + 1_2 &= 10_2 \\\\\n",
    "    1_2 + 0_2 + 0_2 &= 01_2 \\\\\n",
    "    1_2 + 0_2 + 1_2 &= 10_2 \\\\\n",
    "    1_2 + 1_2 + 0_2 &= 10_2 \\\\\n",
    "    1_2 + 1_2 + 1_2 &= 11_2\n",
    "\\end{split}\n",
    "\\end{equation*}\n",
    "\n",
    "Betrachten Sie nun $c_0$.\n",
    "Fragen wir uns: wann wird $c_0$ gleich $1$?\n",
    "$c_0$ wird genau dann $1$, wenn genau eines der drei Eingabesignale $1$ ist, d.h., wenn\n",
    "\n",
    "$$(u \\land \\neg a \\land \\neg b) \\lor (a \\land \\neg b \\land \\neg u) \\lor (b \\land \\neg u \\land \\neg a).$$\n",
    "\n",
    "**oder** alle drei Eingabesignale gleich $1$ sind, d.h., wenn\n",
    "\n",
    "$$(u \\land a \\land b).$$\n",
    "\n",
    "Zusammengefasst ergibt sich\n",
    "\n",
    "$$c_0 = (u \\land \\neg a \\land \\neg b) \\lor (a \\land \\neg b \\land \\neg u) \\lor (b \\land \\neg u \\land \\neg a) \\lor (u \\land a \\land b).$$\n",
    "\n",
    "Das scheint sehr ausschweifend, jedoch nur weil wir auf sehr primitive Operationen zurückgreifen können.\n",
    "Wie sieht es mit $c_1$, also unserem Übertrag aus?\n",
    "$a_1$ ist genau dann $1$ wenn mehr als 1-Bit der Eingabe gleich $1$ ist, d.h. \n",
    "\n",
    "$$c_1 = (u \\land a) \\lor (a \\land b) \\lor (b \\land u)$$\n",
    "\n",
    "Kennen wir $c_1$ dann können wir $c_0$ etwas kürzer schreiben.\n",
    "Denn anstatt zu sagen es muss genau eines der drei Eingabesignale $1$ sein, können wir auch sagen: es gibt keinen Übertrag ($c_1 = 0$) und irgendein Eingabesignal ist $1$.\n",
    "Aus\n",
    "\n",
    "$$(u \\land \\neg a \\land \\neg b) \\lor (a \\land \\neg b \\land \\neg u) \\lor (b \\land \\neg u \\land \\neg a)$$\n",
    "\n",
    "wird\n",
    "\n",
    "$$\\neg c_0 \\land (u \\lor a \\lor b)$$\n",
    "\n",
    "und wir erhalten insgesamt:\n",
    "\n",
    "$$c_0 = (u \\land a \\land b) \\lor (\\neg c_1 \\land (u \\lor a \\lor b)).$$"
   ]
  },
  {
   "cell_type": "code",
   "execution_count": 7,
   "id": "4d45b1af",
   "metadata": {},
   "outputs": [
    {
     "name": "stdout",
     "output_type": "stream",
     "text": [
      "[0, 0]\n",
      "[0, 1]\n",
      "[0, 1]\n",
      "[1, 0]\n",
      "[0, 1]\n",
      "[1, 0]\n",
      "[1, 0]\n",
      "[1, 1]\n"
     ]
    }
   ],
   "source": [
    "def ladd(in2, in1, in0):\n",
    "\n",
    "    # u and a\n",
    "    and01 = land(in1,in0)\n",
    "    \n",
    "    # a and b\n",
    "    and12 = land(in1,in2)\n",
    "\n",
    "    # u and b\n",
    "    and02 = land(in0,in2)\n",
    "\n",
    "    # u or a or b\n",
    "    or_all = lor(lor(in0, in1), in2)\n",
    "\n",
    "    # u and b1 and b\n",
    "    and_all = land(and01, in2)\n",
    "\n",
    "    # (u and b1) or (b1 and b) or (u and b)\n",
    "    out1 = lor(lor(and01, and12), and02)\n",
    "\n",
    "    # (u and a and b) or ((not c1) and (u or a or b))\n",
    "    out0 = lor(and_all, land(lnot(out1), or_all))\n",
    "    return [out1, out0]\n",
    "\n",
    "print(ladd(0,0,0))\n",
    "print(ladd(0,0,1))\n",
    "print(ladd(0,1,0))\n",
    "print(ladd(0,1,1))\n",
    "print(ladd(1,0,0))\n",
    "print(ladd(1,0,1))\n",
    "print(ladd(1,1,0))\n",
    "print(ladd(1,1,1))"
   ]
  },
  {
   "cell_type": "markdown",
   "id": "91c6e0ac",
   "metadata": {},
   "source": [
    "### $n$-Bit-Addierer\n",
    "\n",
    "Für einen $n$-Bit-Addierer brauchen wir $n$ hintereinander geschaltene 1-Bit-Addierer, welche alle (bis auf den ersten) drei Signale aufnehmen.\n",
    "Wie oben erwähnt addiert der $i$-te 1-Bit-Addierer das $i$-te Bit der beiden Eingabezahlen und den Übertrag des $(i-1)$-ten 1-Bit-Addierers.\n",
    "Für den ersten Addierer ist der Übertrag $u$ gleich $0$.\n",
    "\n",
    "```{figure} ../../figs/digital-computer/manipulation/4-bit-adder.png\n",
    "---\n",
    "width: 400px\n",
    "name: fig-4-bit-adder\n",
    "---\n",
    "Skizze eines 4-Bit-Addierers, der $a + b = c$ berechnet. Dabei sind $a, b$ 4-Bit Zahlen und $c$ eine 5-Bit Zahl: $c_4c_3c_2c_1c_0 = a_3a_2a_1a_0 + b_3b_2b_1b_0$\n",
    "```\n",
    "\n",
    "Hier sehen Sie den ``Python`` Code eines $4$-Bit-Addierers (wir lesen die Bits von rechts nach links, d.h. das Bit an der Stelle 0 in der liste ist das höchste Bit!):"
   ]
  },
  {
   "cell_type": "code",
   "execution_count": 8,
   "id": "701b0ea3",
   "metadata": {},
   "outputs": [
    {
     "data": {
      "text/plain": [
       "[0, 1, 1, 0, 0]"
      ]
     },
     "execution_count": 8,
     "metadata": {},
     "output_type": "execute_result"
    }
   ],
   "source": [
    "def ladd4(a, b):\n",
    "    # a[3] und b[3] sind die erste Eingabesignale (niedrigsten Bits)\n",
    "    u1, c0 = ladd(a[3], b[3], 0)\n",
    "    u2, c1 = ladd(a[2], b[2], u1)\n",
    "    u3, c2 = ladd(a[1], b[1], u2)\n",
    "    c4, c3 = ladd(a[0], b[0], u3)\n",
    "    return [c4, c3, c2, c1, c0]\n",
    "\n",
    "ladd4([0,0,1,1], [1,0,0,1])"
   ]
  },
  {
   "cell_type": "markdown",
   "id": "4c7ca577",
   "metadata": {},
   "source": [
    "Hängt man nun Addierer aneinander so kann man einen Multiplizierer und andere Recheneinheiten wie Fließkommaddierer und mehr bauen.\n",
    "\n",
    "```{exercise} $n$-Bit-Addierer\n",
    ":label: n-bit-adder-exercise\n",
    "Definieren Sie eine ``Python``-Funktion ``laddn(a, b)``, die unter Verwendung von ``ladd(in1, in2, in3)`` Bits variabler länge addiert.\n",
    "Gehen Sie davon aus, dass die Listen ``a`` und ``b`` die gleiche Länge haben.\n",
    "\n",
    "**Hinweis:** Studieren Sie den obigen Code, d.h. ``ladd4``. Was wiederholt sich immer wieder und lässt sich somit automatisieren?\n",
    "```\n",
    "\n",
    "````{solution} n-bit-adder-exercise\n",
    ":label: n-bit-adder-solution\n",
    ":class: dropdown\n",
    "\n",
    "```python\n",
    "def laddn(a, b):\n",
    "    u = 0\n",
    "    n = len(a)\n",
    "    result = []\n",
    "    for i in range(n):\n",
    "        u, c = ladd(a[n-1-i], b[n-1-i], u)\n",
    "        result = [c] + result \n",
    "    result = [u] + result\n",
    "    return result\n",
    "\n",
    "laddn([1,1,1,1], [1,0,0,1])\n",
    "```\n",
    "````\n",
    "\n",
    "```{admonition} Modellierung der Gatter und Addierer\n",
    ":class: remark\n",
    ":name: remark-adder-gates\n",
    "Unser ``Python`` Code modelliert den Addierer als Gatterzusammenschluss.\n",
    "Natürlich können wir in ``Python`` deutlich einfacher zwei Zahlen addieren.\n",
    "```\n",
    "\n",
    "Es gibt auch noch andere Gatter als **AND**, **NOT** und **OR** z.B. **NAND**, **XOR** oder **NOR**, aber all diese Gatter lassen sich durch die drei fundamentalen Gatter ausdrücken.\n",
    "\n",
    "```{admonition} Anzahl, Größe und Geschwindigkeit\n",
    ":class: remark\n",
    ":name: remark-gate-speed\n",
    "Gatter beschreiben die Funktionsweise, realisiert durch Transistoren, sind unvorstellbar klein und können unvorstellbar oft angesteuert werden.\n",
    "Transistoren sind dünner als wenige Nanometer (etwa 4000 mal dünner als ein Haar) und lassen sich hunderte Milliarden Mal in der Sekunde ansteuern.\n",
    "Zum Beispiel befinden sich auf dem Intel i7 4770K Prozessor ca. 1.4 Milliarden Transistoren auf einer Fläche von 177 Quadratmillimeter.\n",
    "```"
   ]
  }
 ],
 "metadata": {
  "jupytext": {
   "formats": "md:myst",
   "text_representation": {
    "extension": ".md",
    "format_name": "myst"
   }
  },
  "kernelspec": {
   "display_name": "Python 3",
   "language": "python",
   "name": "python3"
  },
  "language_info": {
   "codemirror_mode": {
    "name": "ipython",
    "version": 3
   },
   "file_extension": ".py",
   "mimetype": "text/x-python",
   "name": "python",
   "nbconvert_exporter": "python",
   "pygments_lexer": "ipython3",
   "version": "3.11.4"
  },
  "source_map": [
   11,
   43,
   49,
   62,
   70,
   83,
   91,
   157,
   163,
   172,
   188,
   225,
   238,
   334,
   367,
   385,
   395
  ]
 },
 "nbformat": 4,
 "nbformat_minor": 5
}