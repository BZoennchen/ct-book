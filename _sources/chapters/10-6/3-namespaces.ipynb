{
 "cells": [
  {
   "cell_type": "markdown",
   "id": "viral-flesh",
   "metadata": {},
   "source": [
    "# Namensräume und Sichtbarkeit\n",
    "\n",
    "Jeder *Name*, d.h. jede *Variable* in einem Programm hat einen sogenannten \n",
    "\n",
    "+ *Scope* (Sichtbarkeitsbereich), \n",
    "+ eine *Lebensdauer*,\n",
    "+ und ist einem *Namensraum* zugeordnet.\n",
    "\n",
    "Der Scope wird aus den gerade bestehenden Namensräumen bestimmt.\n",
    "\n",
    "## Namensräume\n",
    "\n",
    "Ein *Namensraum* ist eine Sammlung von derzeit definierten symbolischen Namen mit der jeweiligen Information welches Objekt (im Speicher) der jeweilige Name referenziert.\n",
    "Wir können uns einen Namensraum als ein [Wörterbuch](sec-dict) vorstellen, wobei die Schlüssel die Namen sind und die Werte die jeweiligen Objekte.\n",
    "Jedes Schlüssel-Wert-Paar bildet einen Namen auf sein entsprechendes Objekt ab.\n",
    "\n",
    "In ``Python`` gibt es vier *Namensräume* (engl. namespaces):\n",
    "\n",
    "1. *built-in*,\n",
    "2. *global*\n",
    "3. *enclosing*\n",
    "4. *local*\n",
    "\n",
    "Und alle diese *Namensräume* haben eine unterschiedliche *Lebensdauer*.\n",
    "``Python`` kümmert sich automatisch um die Erstellung und Löschung der *Namensräume* zur Laufzeit.\n",
    "\n",
    "### Built-in\n",
    "\n",
    "Im *built-in Namensraum* befinden sich alle Namen aller ``Python`` *built-in* Objekte.\n",
    "Zum Beispiel befinden sich die Namen ``len``, ``list``, ``str`` usw. in diesem Namensraum.\n",
    "Diesen Namensraum sollten wir nicht verändern.\n",
    "Wir können uns alle Namen des *built-in* Namensraums ausgeben lassen:"
   ]
  },
  {
   "cell_type": "code",
   "execution_count": 1,
   "id": "blind-lyric",
   "metadata": {
    "tags": [
     "output_scroll"
    ]
   },
   "outputs": [
    {
     "data": {
      "text/plain": [
       "['ArithmeticError',\n",
       " 'AssertionError',\n",
       " 'AttributeError',\n",
       " 'BaseException',\n",
       " 'BlockingIOError',\n",
       " 'BrokenPipeError',\n",
       " 'BufferError',\n",
       " 'BytesWarning',\n",
       " 'ChildProcessError',\n",
       " 'ConnectionAbortedError',\n",
       " 'ConnectionError',\n",
       " 'ConnectionRefusedError',\n",
       " 'ConnectionResetError',\n",
       " 'DeprecationWarning',\n",
       " 'EOFError',\n",
       " 'Ellipsis',\n",
       " 'EnvironmentError',\n",
       " 'Exception',\n",
       " 'False',\n",
       " 'FileExistsError',\n",
       " 'FileNotFoundError',\n",
       " 'FloatingPointError',\n",
       " 'FutureWarning',\n",
       " 'GeneratorExit',\n",
       " 'IOError',\n",
       " 'ImportError',\n",
       " 'ImportWarning',\n",
       " 'IndentationError',\n",
       " 'IndexError',\n",
       " 'InterruptedError',\n",
       " 'IsADirectoryError',\n",
       " 'KeyError',\n",
       " 'KeyboardInterrupt',\n",
       " 'LookupError',\n",
       " 'MemoryError',\n",
       " 'ModuleNotFoundError',\n",
       " 'NameError',\n",
       " 'None',\n",
       " 'NotADirectoryError',\n",
       " 'NotImplemented',\n",
       " 'NotImplementedError',\n",
       " 'OSError',\n",
       " 'OverflowError',\n",
       " 'PendingDeprecationWarning',\n",
       " 'PermissionError',\n",
       " 'ProcessLookupError',\n",
       " 'RecursionError',\n",
       " 'ReferenceError',\n",
       " 'ResourceWarning',\n",
       " 'RuntimeError',\n",
       " 'RuntimeWarning',\n",
       " 'StopAsyncIteration',\n",
       " 'StopIteration',\n",
       " 'SyntaxError',\n",
       " 'SyntaxWarning',\n",
       " 'SystemError',\n",
       " 'SystemExit',\n",
       " 'TabError',\n",
       " 'TimeoutError',\n",
       " 'True',\n",
       " 'TypeError',\n",
       " 'UnboundLocalError',\n",
       " 'UnicodeDecodeError',\n",
       " 'UnicodeEncodeError',\n",
       " 'UnicodeError',\n",
       " 'UnicodeTranslateError',\n",
       " 'UnicodeWarning',\n",
       " 'UserWarning',\n",
       " 'ValueError',\n",
       " 'Warning',\n",
       " 'ZeroDivisionError',\n",
       " '__IPYTHON__',\n",
       " '__build_class__',\n",
       " '__debug__',\n",
       " '__doc__',\n",
       " '__import__',\n",
       " '__loader__',\n",
       " '__name__',\n",
       " '__package__',\n",
       " '__spec__',\n",
       " 'abs',\n",
       " 'all',\n",
       " 'any',\n",
       " 'ascii',\n",
       " 'bin',\n",
       " 'bool',\n",
       " 'breakpoint',\n",
       " 'bytearray',\n",
       " 'bytes',\n",
       " 'callable',\n",
       " 'chr',\n",
       " 'classmethod',\n",
       " 'compile',\n",
       " 'complex',\n",
       " 'copyright',\n",
       " 'credits',\n",
       " 'delattr',\n",
       " 'dict',\n",
       " 'dir',\n",
       " 'display',\n",
       " 'divmod',\n",
       " 'enumerate',\n",
       " 'eval',\n",
       " 'exec',\n",
       " 'filter',\n",
       " 'float',\n",
       " 'format',\n",
       " 'frozenset',\n",
       " 'get_ipython',\n",
       " 'getattr',\n",
       " 'globals',\n",
       " 'hasattr',\n",
       " 'hash',\n",
       " 'help',\n",
       " 'hex',\n",
       " 'id',\n",
       " 'input',\n",
       " 'int',\n",
       " 'isinstance',\n",
       " 'issubclass',\n",
       " 'iter',\n",
       " 'len',\n",
       " 'license',\n",
       " 'list',\n",
       " 'locals',\n",
       " 'map',\n",
       " 'max',\n",
       " 'memoryview',\n",
       " 'min',\n",
       " 'next',\n",
       " 'object',\n",
       " 'oct',\n",
       " 'open',\n",
       " 'ord',\n",
       " 'pow',\n",
       " 'print',\n",
       " 'property',\n",
       " 'range',\n",
       " 'repr',\n",
       " 'reversed',\n",
       " 'round',\n",
       " 'set',\n",
       " 'setattr',\n",
       " 'slice',\n",
       " 'sorted',\n",
       " 'staticmethod',\n",
       " 'str',\n",
       " 'sum',\n",
       " 'super',\n",
       " 'tuple',\n",
       " 'type',\n",
       " 'vars',\n",
       " 'zip']"
      ]
     },
     "execution_count": 1,
     "metadata": {},
     "output_type": "execute_result"
    }
   ],
   "source": [
    "dir(__builtins__)"
   ]
  },
  {
   "cell_type": "markdown",
   "id": "traditional-grade",
   "metadata": {},
   "source": [
    "Sobald er startet, legt der ``Python``-[Interpreter](def-interpreter) den *built-in Namensraum* an sobald er startet.\n",
    "Die *Lebensdauer* des Namensraums endet sobald der Interpreter beendet wird.\n",
    "\n",
    "\n",
    "### Global\n",
    "\n",
    "Der *globale Namensraum* beinhaltet alle Namen die auf der Ebene des Hauptprogramms definiert wurden.\n",
    "``Python`` erzeugt den globalen Namensraum sobald das Hauptprogramm startet.\n",
    "Der Namensraum existiert ebenfalls solange der Interpreter noch nicht beendet ist.\n",
    "\n",
    "Genau genommen erzeugt der Interpreter für jedes Modul einen globalen Namensraum, es gibt somit möglicherweise mehrerer.\n",
    "Jedes Modul was wir mit ``import`` laden, erhält seinen eigenen globalen Namensraum.\n",
    "\n",
    "(sec-local-namespace)=\n",
    "### Lokal und umschließend\n",
    "\n",
    "Wann immer eine Funktion ausgeführt wird, wird ein neuer *lokaler Namensraum* für diesen Funktionsaufruf erzeugt.\n",
    "Die Lebensdauer des Namensraums endet sobald die Funktion verlassen wird oder die Funktion durch einen Fehler abbricht.\n",
    "\n",
    "Ein *umschließender Namensraum* wird hingegen erzeugt, wenn wir innerhalb einer Funktion eine weitere Funktion definieren.\n",
    "Das haben wir bis hierher noch nie gemacht, sehen wir uns also ein Beispiel an:"
   ]
  },
  {
   "cell_type": "code",
   "execution_count": 2,
   "id": "stunning-skill",
   "metadata": {},
   "outputs": [
    {
     "name": "stdout",
     "output_type": "stream",
     "text": [
      "start f()\n",
      "start g()\n",
      "end g()\n",
      "end f()\n"
     ]
    }
   ],
   "source": [
    "def f():\n",
    "    print('start f()')\n",
    "\n",
    "    def g():\n",
    "        print('start g()')\n",
    "        print('end g()')\n",
    "        return\n",
    "    \n",
    "    g()\n",
    "    print('end f()')\n",
    "    return\n",
    "\n",
    "f()"
   ]
  },
  {
   "cell_type": "markdown",
   "id": "distinguished-american",
   "metadata": {},
   "source": [
    "``Python`` erzeugt hierbei zwei Namensräume.\n",
    "Einen *lokalen Namensraum* für ``g()`` und einen *umschließenden Namensraum* für ``f()``, denn ``f()`` *umschließt* ``g()``.\n",
    "Beide Namensraume bleiben bestehen bis deren jeweilige Funktion beendet ist.\n",
    "\n",
    "## Sichtbarkeit\n",
    "\n",
    "Es gibt also mehrere *Namensräume* und wie in einem Wörterbuch müssen die Schlüssel, d.h. die Namen innerhalb eines Namensraums eindeutig sein.\n",
    "Allerdings kann es den gleichen Namen in verschiedenen Namensräumen geben und dieser kann auf unterschiedliche Objekte verweisen.\n",
    "\n",
    "Existiert ein Name nun in mehreren Namensräumen, woher wissen wir welcher Namensraum von ``Python`` verwendet wird?\n",
    "Der Namensraum den ``Python`` wählt, legt fest welches Objekt (im Speicher) wir schlussendlich adressieren!\n",
    "\n",
    "Die *Sichtbarkeit* bzw. der *Scope* entscheidet darüber!\n",
    "Der *Scope* eines Namens ist der Bereich eines Programms in dem der Name eine Bedeutung hat.\n",
    "Der Interpreter bestimmt dies zur Laufzeit.\n",
    "Als Basis verwendet er die Information, wo die Namensdefinitionen auftauchen, und wo der Name referenziert wird.\n",
    "\n",
    "Bezieht sich unser Code auf den Namen ``x``, so sucht ``Python`` den Namen ``x`` in der folgenden Reihenfolge:\n",
    "\n",
    "1. **Lokal**: Sofern wir ``x`` innerhalb einer Funktion referenzieren, sucht ``Python`` im lokalen Namensraum der Funktion.\n",
    "2. **Enclosing**: Referenzieren wir ``x`` innerhalb einer umschlossenen Funktion und so sucht der Interpreter als nächstes im umschließenden Namensraum der umschließenden Funktion.\n",
    "3. **Global**: Schlägt dies auch fehl und er findet ``x`` nicht, sucht der Interpreter im globalen Namensraum.\n",
    "4. **Built-in**: Wenn selbst das fehlschlägt, sucht der Interpreter als letztes im built-in Namensraum.\n",
    "\n",
    "## Beispiele\n",
    "\n",
    "Im folgenden Beispiel, hat die Variable ``y`` einen lokale Sichtbarkeit.\n",
    "Der Interpreter sucht und findet sie im lokalen Scope innerhalb von ``printY()``.\n",
    "Außerhalb der Funktion ist ``y`` jedoch nicht definiert (weder im globalen noch im built-in Namensraum).\n",
    "Deshalb kommt es zu einem Fehler in der letzten Zeile."
   ]
  },
  {
   "cell_type": "code",
   "execution_count": 3,
   "id": "attended-excitement",
   "metadata": {
    "tags": [
     "raises-exception"
    ]
   },
   "outputs": [
    {
     "name": "stdout",
     "output_type": "stream",
     "text": [
      "2\n"
     ]
    },
    {
     "ename": "NameError",
     "evalue": "name 'y' is not defined",
     "output_type": "error",
     "traceback": [
      "\u001b[0;31m---------------------------------------------------------------------------\u001b[0m",
      "\u001b[0;31mNameError\u001b[0m                                 Traceback (most recent call last)",
      "\u001b[0;32m<ipython-input-3-7e9e0ad9033e>\u001b[0m in \u001b[0;36m<module>\u001b[0;34m\u001b[0m\n\u001b[1;32m      4\u001b[0m \u001b[0;34m\u001b[0m\u001b[0m\n\u001b[1;32m      5\u001b[0m \u001b[0mprintY\u001b[0m\u001b[0;34m(\u001b[0m\u001b[0;34m)\u001b[0m\u001b[0;34m\u001b[0m\u001b[0;34m\u001b[0m\u001b[0m\n\u001b[0;32m----> 6\u001b[0;31m \u001b[0my\u001b[0m\u001b[0;34m\u001b[0m\u001b[0;34m\u001b[0m\u001b[0m\n\u001b[0m",
      "\u001b[0;31mNameError\u001b[0m: name 'y' is not defined"
     ]
    }
   ],
   "source": [
    "def printY():\n",
    "    y = 2\n",
    "    print(y)\n",
    "\n",
    "printY()\n",
    "y"
   ]
  },
  {
   "cell_type": "markdown",
   "id": "proved-academy",
   "metadata": {},
   "source": [
    "Ein weiteres Beispiel:"
   ]
  },
  {
   "cell_type": "code",
   "execution_count": 4,
   "id": "offensive-walter",
   "metadata": {},
   "outputs": [
    {
     "name": "stdout",
     "output_type": "stream",
     "text": [
      "2\n"
     ]
    }
   ],
   "source": [
    "x = 2\n",
    "def printX():\n",
    "    print(x)\n",
    "\n",
    "printX()"
   ]
  },
  {
   "cell_type": "markdown",
   "id": "blind-health",
   "metadata": {},
   "source": [
    "Innerhalb der Funktion sucht der Interpreter das ``x`` erst im lokalen Namensraum und findet es nicht.\n",
    "Den umschließenden Namensraum gibt es nicht.\n",
    "Dann findet er schließlich ``x`` im globalen Namensraum.\n",
    "\n",
    "Was passiert im folgenden Code?"
   ]
  },
  {
   "cell_type": "code",
   "execution_count": 5,
   "id": "concerned-arnold",
   "metadata": {},
   "outputs": [
    {
     "name": "stdout",
     "output_type": "stream",
     "text": [
      "42\n"
     ]
    },
    {
     "data": {
      "text/plain": [
       "5"
      ]
     },
     "execution_count": 5,
     "metadata": {},
     "output_type": "execute_result"
    }
   ],
   "source": [
    "z = 5\n",
    "def printZ():\n",
    "    z = 42\n",
    "    print(z)\n",
    "\n",
    "printZ()\n",
    "z"
   ]
  },
  {
   "cell_type": "markdown",
   "id": "graduate-monday",
   "metadata": {},
   "source": [
    "Innerhalb der Funktion findet der Interpreter das ``z`` im lokalen Namensraum und es hat den Wert ``42``.\n",
    "Nachdem die Funktion beendet wird, existiert dieser Namensraum nicht mehr und das ``z`` in der letzten Zeile stammt aus dem globalen Namensraum!\n",
    "\n",
    "Es wird immer die **lokale** Variable, d.h. die Variable des **lokalen Namensraums** bevorzugt!\n",
    "Die eine Variable liegt im globalen Namensraum ``global.z``, die andere im lokalen Namensraum der Funktion ``global.printZ.z``.\n",
    "\n",
    "Sie können das Verhalten auch sehr gut mit der *built-in*-Funktion ``id()`` untersuchen:"
   ]
  },
  {
   "cell_type": "code",
   "execution_count": 6,
   "id": "united-newcastle",
   "metadata": {},
   "outputs": [
    {
     "name": "stdout",
     "output_type": "stream",
     "text": [
      "global z id: 4502944176\n",
      "lokal z id (after lokal z is defined): 4502945360\n",
      "42\n"
     ]
    },
    {
     "data": {
      "text/plain": [
       "5"
      ]
     },
     "execution_count": 6,
     "metadata": {},
     "output_type": "execute_result"
    }
   ],
   "source": [
    "z = 5\n",
    "print(f'global z id: {id(z)}')\n",
    "def printZ():\n",
    "    z = 42\n",
    "    print(f'lokal z id (after lokal z is defined): {id(z)}')\n",
    "    print(z)\n",
    "\n",
    "printZ()\n",
    "z"
   ]
  },
  {
   "cell_type": "markdown",
   "id": "polar-morrison",
   "metadata": {},
   "source": [
    "```{admonition} Doppelte Namensräume?\n",
    ":class: hint\n",
    "\n",
    "Eine Variable kann innerhalb einer Funktion entweder aus dem **lokalen** oder **globalen** Namensraum stammen.\n",
    "Niemals jedoch an der einen Stelle aus dem einen und an der anderen Stelle aus dem anderen Namensraum!\n",
    "```\n",
    "\n",
    "Der ``Python``-Interpreter schützt uns vor möglichen und äußerst undurchsichtigen Verwendungen zweier Variablen mit dem scheinbar gleichen Namen.\n",
    "Folgender Code führt zum Glück zu einem Fehler:"
   ]
  },
  {
   "cell_type": "code",
   "execution_count": 7,
   "id": "upper-addition",
   "metadata": {
    "tags": [
     "raises-exception"
    ]
   },
   "outputs": [
    {
     "name": "stdout",
     "output_type": "stream",
     "text": [
      "global z id: 4502944176\n"
     ]
    },
    {
     "ename": "UnboundLocalError",
     "evalue": "local variable 'z' referenced before assignment",
     "output_type": "error",
     "traceback": [
      "\u001b[0;31m---------------------------------------------------------------------------\u001b[0m",
      "\u001b[0;31mUnboundLocalError\u001b[0m                         Traceback (most recent call last)",
      "\u001b[0;32m<ipython-input-7-5457ec48b571>\u001b[0m in \u001b[0;36m<module>\u001b[0;34m\u001b[0m\n\u001b[1;32m      7\u001b[0m     \u001b[0mprint\u001b[0m\u001b[0;34m(\u001b[0m\u001b[0mz\u001b[0m\u001b[0;34m)\u001b[0m\u001b[0;34m\u001b[0m\u001b[0;34m\u001b[0m\u001b[0m\n\u001b[1;32m      8\u001b[0m \u001b[0;34m\u001b[0m\u001b[0m\n\u001b[0;32m----> 9\u001b[0;31m \u001b[0mprintZ\u001b[0m\u001b[0;34m(\u001b[0m\u001b[0;34m)\u001b[0m\u001b[0;34m\u001b[0m\u001b[0;34m\u001b[0m\u001b[0m\n\u001b[0m\u001b[1;32m     10\u001b[0m \u001b[0mz\u001b[0m\u001b[0;34m\u001b[0m\u001b[0;34m\u001b[0m\u001b[0m\n",
      "\u001b[0;32m<ipython-input-7-5457ec48b571>\u001b[0m in \u001b[0;36mprintZ\u001b[0;34m()\u001b[0m\n\u001b[1;32m      2\u001b[0m \u001b[0mprint\u001b[0m\u001b[0;34m(\u001b[0m\u001b[0;34mf'global z id: {id(z)}'\u001b[0m\u001b[0;34m)\u001b[0m\u001b[0;34m\u001b[0m\u001b[0;34m\u001b[0m\u001b[0m\n\u001b[1;32m      3\u001b[0m \u001b[0;32mdef\u001b[0m \u001b[0mprintZ\u001b[0m\u001b[0;34m(\u001b[0m\u001b[0;34m)\u001b[0m\u001b[0;34m:\u001b[0m\u001b[0;34m\u001b[0m\u001b[0;34m\u001b[0m\u001b[0m\n\u001b[0;32m----> 4\u001b[0;31m     \u001b[0mprint\u001b[0m\u001b[0;34m(\u001b[0m\u001b[0;34mf'lokal z id (before lokal z is defined): {id(z)}'\u001b[0m\u001b[0;34m)\u001b[0m\u001b[0;34m\u001b[0m\u001b[0;34m\u001b[0m\u001b[0m\n\u001b[0m\u001b[1;32m      5\u001b[0m     \u001b[0mz\u001b[0m \u001b[0;34m=\u001b[0m \u001b[0;36m42\u001b[0m\u001b[0;34m\u001b[0m\u001b[0;34m\u001b[0m\u001b[0m\n\u001b[1;32m      6\u001b[0m     \u001b[0mprint\u001b[0m\u001b[0;34m(\u001b[0m\u001b[0;34mf'lokal z id (after lokal z is defined): {id(z)}'\u001b[0m\u001b[0;34m)\u001b[0m\u001b[0;34m\u001b[0m\u001b[0;34m\u001b[0m\u001b[0m\n",
      "\u001b[0;31mUnboundLocalError\u001b[0m: local variable 'z' referenced before assignment"
     ]
    }
   ],
   "source": [
    "z = 5\n",
    "print(f'global z id: {id(z)}')\n",
    "def printZ():\n",
    "    print(f'lokal z id (before lokal z is defined): {id(z)}')\n",
    "    z = 42\n",
    "    print(f'lokal z id (after lokal z is defined): {id(z)}')\n",
    "    print(z)\n",
    "\n",
    "printZ()\n",
    "z"
   ]
  },
  {
   "cell_type": "markdown",
   "id": "baking-humanitarian",
   "metadata": {},
   "source": [
    "Der Interpreter ließt ``z = 42`` innerhalb der Funktion und weiß deshalb, dass ``z`` im *lokalen Namensraum* liegen muss.\n",
    "Dann wirft er den Fehler in der ersten Zeile der Funktion, da ``z`` angesprochen aber noch nicht definiert wurde.\n",
    "Er lehnt es ab, stattdessen das *globale* ``z`` zu verwenden.\n",
    "\n",
    "Blicken wir auf ein etwas komplizierteres Beispiel und überlegen uns was genau vor sich geht:"
   ]
  },
  {
   "cell_type": "code",
   "execution_count": 8,
   "id": "systematic-turtle",
   "metadata": {},
   "outputs": [
    {
     "name": "stdout",
     "output_type": "stream",
     "text": [
      "global z id: 4502944176\n",
      "lokal z id: 4502945360\n",
      "42\n",
      "\n",
      "global z id: 4502945360\n",
      "global z id: 4502945360\n",
      "42\n"
     ]
    }
   ],
   "source": [
    "def printZ(z):\n",
    "    if z == 42:\n",
    "        print(f'global z id: {id(z)}')\n",
    "        print(z)\n",
    "    else:\n",
    "        z = 42\n",
    "        print(f'lokal z id: {id(z)}')\n",
    "        print(z)\n",
    "\n",
    "z = 5\n",
    "print(f'global z id: {id(z)}')\n",
    "printZ(z)\n",
    "print()\n",
    "\n",
    "z = 42\n",
    "print(f'global z id: {id(z)}')\n",
    "printZ(z)"
   ]
  },
  {
   "cell_type": "markdown",
   "id": "greater-effort",
   "metadata": {},
   "source": [
    "Vor dem Funktionsaufruf gibt es den Namen ``z`` im *globalen Namensraum*.\n",
    "Der Wert auf den dieser verweist ist gleich ``5``.\n",
    "Dann rufen wir ``printZ(z)`` auf.\n",
    "Damit wandert ``z`` in den *lokalen Namensraum* der Funktion ``printZ()``.\n",
    "Dieses *lokale* ``z`` zeigt (noch) auf den gleichen Speicherbereich wie das *globale* ``z``.\n",
    "Dann werden Adresse und Wert des *lokalen* ``z`` durch ``z = 42`` geändert.\n",
    "Beim zweiten Funktionsaufruf wird diese Änderung nicht durchgeführt, da ``z == 42``.\n",
    "\n",
    "Lassen Sie uns zum Abschluss noch ein Beispiel mit einem *umschließenden Namensraum* betrachten.\n",
    "Dabei werden wir jedoch eine Funktion als Rückgabewert verwenden.\n",
    "Wir werden dies noch ausführlicher besprechen, nehmen Sie es also als kleinen Ausblick:"
   ]
  },
  {
   "cell_type": "code",
   "execution_count": 9,
   "id": "precise-arcade",
   "metadata": {},
   "outputs": [
    {
     "name": "stdout",
     "output_type": "stream",
     "text": [
      "42\n",
      "42\n",
      "42\n"
     ]
    }
   ],
   "source": [
    "def magic(x):\n",
    "    def printX():\n",
    "        print(x)\n",
    "    return printX\n",
    "\n",
    "func = magic(42)\n",
    "func()\n",
    "func()\n",
    "func()"
   ]
  },
  {
   "cell_type": "markdown",
   "id": "engaging-analysis",
   "metadata": {},
   "source": [
    "Hmm???\n",
    "Was passiert hier?\n",
    "Kurz gesagt: Die Funktion ``magic()`` gibt die Funktion ``printX()`` zurück.\n",
    "Der Name der Funktion befindet sich in ``func`` und wir rufen mit ``func()`` auf.\n",
    "Der Interpreter sucht im *lokalen Namensraum* von ``func()``, d.h. im *lokalen Namensraum* von ``printX()`` und findet ``x`` nicht.\n",
    "Dann sucht er im *umschließenden Namensraum* und wird fündig.\n",
    "Das bedeutet der *umschließenden Namensraum* besteht möglicherweise weiterhin, auch nachdem die *umschließenden Funktion* beendet wurde.\n",
    "\n",
    "Dieses Konzept bezeichnet man als sog. [Closure](https://de.wikipedia.org/wiki/Closure_(Funktion))."
   ]
  }
 ],
 "metadata": {
  "jupytext": {
   "formats": "md:myst",
   "text_representation": {
    "extension": ".md",
    "format_name": "myst"
   }
  },
  "kernelspec": {
   "display_name": "Python 3",
   "language": "python",
   "name": "python3"
  },
  "language_info": {
   "codemirror_mode": {
    "name": "ipython",
    "version": 3
   },
   "file_extension": ".py",
   "mimetype": "text/x-python",
   "name": "python",
   "nbconvert_exporter": "python",
   "pygments_lexer": "ipython3",
   "version": "3.9.8"
  },
  "source_map": [
   11,
   46,
   51,
   75,
   89,
   122,
   132,
   136,
   142,
   150,
   158,
   168,
   178,
   190,
   204,
   212,
   230,
   244,
   254
  ]
 },
 "nbformat": 4,
 "nbformat_minor": 5
}