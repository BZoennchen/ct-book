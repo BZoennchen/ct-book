{
 "cells": [
  {
   "cell_type": "markdown",
   "id": "inclusive-screw",
   "metadata": {},
   "source": [
    "(sec-working-with-data-types)=\n",
    "# Pythons Datentypen\n",
    "\n",
    "Beginnen wir mit der Praxis und sehen uns an welche Datentypen uns ``Python`` bietet und was wir mit diesen anfangen können.\n",
    "Die von ``Python`` vorab definierten Datentypen nennt man *built-in Datentypen*.\n",
    "Wir werden in diesem Kapitel nicht alle *built-in Datentypen* besprechen, sondern jene mit denen Sie die meiste Zeit zu tun haben.\n",
    "Eine vollständige Liste der Datentypen finden Sie im Abschnitt [Built-in Datentypen](sec-built-in-data-types).\n",
    "\n",
    "Wir können die *built-in Datentypen* in weitere zwei Kategorien zerteilen:\n",
    "\n",
    "1. *Atomare Datentypen*, also Datentypen die sich auf einen einzelnen Wert beziehen und\n",
    "2. *Zusammengesetzt Datentypen*\n",
    "\n",
    "Haben Sie bereits Programmiererfahrung, so werden Sie *atomare Datentypen* als *primitive Datentypen* wahrnehmen, doch streng genommen gibt es in ``Python`` keine primitiven Datentypen.\n",
    "Dennoch verhalten sich *atomare Datentypen* ähnlich wie *primitive Datentypen*.\n",
    "\n",
    "*Atomare Datentypen* sind: Ganze Zahlen ``int``, Wahrheitswerte ``bool`` und Fließkommazahlen ``float``.\n",
    "*Zusammengesetzte Datentypen* sind: Zeichenketten ``str``, Listen ``list``, Tupel ``tuple``, Mengen ``set`` und Wörterbücher ``dict``.\n",
    "\n",
    "Den Datentyp einer Variable oder eines Wertes erfragen Sie mit der *built-in* Funktion ``type``."
   ]
  },
  {
   "cell_type": "code",
   "execution_count": 1,
   "id": "forced-marketing",
   "metadata": {},
   "outputs": [
    {
     "name": "stdout",
     "output_type": "stream",
     "text": [
      "<class 'int'>\n",
      "<class 'str'>\n",
      "<class 'float'>\n"
     ]
    }
   ],
   "source": [
    "x = 5\n",
    "text = 'Hello'\n",
    "print(type(x))\n",
    "print(type(text))\n",
    "print(type(3.1))"
   ]
  },
  {
   "cell_type": "markdown",
   "id": "coupled-repair",
   "metadata": {},
   "source": [
    "## Atomare Datentypen \n",
    "\n",
    "Eine wesentlich Eigenschaft von *atomaren Datentypen* ist, dass der **Wert** einer Variable eines *atomaren Datentyps* **unverändert** im Speicher liegt.\n",
    "Wird der **Wert** von keiner Variablen mehr adressiert, wird er (von [Garbage Collector](def-garbage-collector)) zwar gelöscht, um den Speicher wieder freizugeben, doch kann er nicht verändert werden solange eine Variable den Wert noch adressiert.\n",
    "\n",
    "```{admonition} Unveränderliche atomare Datentypen\n",
    ":class: important\n",
    "Atomare Datentypen sind *unveränderlich*.\n",
    "```\n",
    "\n",
    "Wir haben dieses Phänomen bereits im Abschnitt [Variablen](sec-variables) beobachtet.\n",
    "Wir hatten festgehalten, dass Veränderungen der einen Variablen keinen Effekt auf die **Adresse** bzw. *Identität* ``id`` anderer Variablen haben.\n",
    "Für *atomare Datentypen* gilt noch mehr: Ändern wir den **Wert** einer Variable vom Typ ``int``, ``bool`` oder ``float``, so kann diese Änderung nicht den **Wert** einer anderen Variablen verändern:"
   ]
  },
  {
   "cell_type": "code",
   "execution_count": 2,
   "id": "freelance-anatomy",
   "metadata": {},
   "outputs": [
    {
     "name": "stdout",
     "output_type": "stream",
     "text": [
      "value of x = 12313\n",
      "id of x = 4585745424\n",
      "value of z = 12313\n",
      "id of z = 4585745424\n",
      "change value of x\n",
      "value of x = 11341\n",
      "id of x = 4585745744\n",
      "value of z = 12313\n",
      "id of z = 4585745424\n"
     ]
    }
   ],
   "source": [
    "x = 12313\n",
    "z = x\n",
    "print(f'value of x = {x}')\n",
    "print(f'id of x = {id(x)}')\n",
    "\n",
    "print(f'value of z = {z}')\n",
    "print(f'id of z = {id(z)}')\n",
    "print('change value of x')\n",
    "x = 11341\n",
    "print(f'value of x = {x}')\n",
    "print(f'id of x = {id(x)}')\n",
    "\n",
    "print(f'value of z = {z}')\n",
    "print(f'id of z = {id(z)}')"
   ]
  },
  {
   "cell_type": "markdown",
   "id": "endless-organ",
   "metadata": {},
   "source": [
    "```{admonition} Atomare Datentypen\n",
    "Atomare Datentypen bestehen aus einem *atomaren* Wert, den wir nicht weiter zerteilen können.\n",
    "```\n",
    "\n",
    "(sec-datastructures)=\n",
    "## Zusammengesetzte Datentypen\n",
    "\n",
    "*Zusammengesetzte Datentypen* oder auch *Datenstrukturen* bestehen hingegen aus mehreren Werten.\n",
    "Sie strukturieren diese Werte.\n",
    "\n",
    "Anders als bei *atomaren Datentypen* lässt sich der **Wert** einer Datenstruktur verändern.\n",
    "Was die Datenstruktur enthält kann in der Regel verändert werden.\n",
    "\n",
    "Nehmen wir einmal an, eine Datenstruktur enthält ausschließlich ganze Zahlen ``int``.\n",
    "Verändern wir nun eine dieser Zahlen, so wird der **Wert** im Speicher, der diese Zahl repräsentiert, nicht verändert -- es ist ja ein *atomarer Datentyp*!\n",
    "**Aber** es wird ein neuer Wert in den Speicher geschrieben und die Datenstruktur wird so manipuliert, dass einer ihrer Einträge nun auf diesen neuen Wert zeigt.\n",
    "\n",
    "Im Abschnitt [Listen und der Speicher](sec-list-and-memory) sehen wir uns an was genau im Speicher vor sich geht, wenn wir mit Listen arbeiten.\n",
    "Dies kann auf andere *Datenstrukturen* übertragen werden.\n",
    "\n",
    "```{admonition} Datenstrukturen (bzw. zusammengesetzte Datentypen)\n",
    ":name: def-datastructure\n",
    "Datenstrukturen strukturieren andere Werte. \n",
    "Diese Werte können wiederum Datenstrukturen oder atomare Datentypen sein.\n",
    "```"
   ]
  }
 ],
 "metadata": {
  "jupytext": {
   "formats": "md:myst",
   "text_representation": {
    "extension": ".md",
    "format_name": "myst"
   }
  },
  "kernelspec": {
   "display_name": "Python 3",
   "language": "python",
   "name": "python3"
  },
  "language_info": {
   "codemirror_mode": {
    "name": "ipython",
    "version": 3
   },
   "file_extension": ".py",
   "mimetype": "text/x-python",
   "name": "python",
   "nbconvert_exporter": "python",
   "pygments_lexer": "ipython3",
   "version": "3.9.8"
  },
  "source_map": [
   11,
   34,
   40,
   56,
   71
  ]
 },
 "nbformat": 4,
 "nbformat_minor": 5
}