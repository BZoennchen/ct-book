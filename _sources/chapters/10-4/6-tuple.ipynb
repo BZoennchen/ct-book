{
 "cells": [
  {
   "cell_type": "markdown",
   "id": "vulnerable-default",
   "metadata": {},
   "source": [
    "# Tupel - tuple\n",
    "\n",
    "Listen und [Tupel](https://docs.python.org/3/library/stdtypes.html#tuple) (wie auch Zeichenketten, und ``range``) sind allesamt [Sequenzen](https://docs.python.org/3/library/stdtypes.html#sequence-types-list-tuple-range) und haben dadurch sehr ähnliche Eigenschaften.\n",
    "Einzig bei der Erstellung verwenden wir statt der eckigen die runden Klammern:"
   ]
  },
  {
   "cell_type": "code",
   "execution_count": 1,
   "id": "premium-array",
   "metadata": {},
   "outputs": [
    {
     "data": {
      "text/plain": [
       "(1, 2, 3, 4, 5)"
      ]
     },
     "execution_count": 1,
     "metadata": {},
     "output_type": "execute_result"
    }
   ],
   "source": [
    "numbers = (1, 2, 3, 4, 5)\n",
    "numbers"
   ]
  },
  {
   "cell_type": "markdown",
   "id": "facial-shareware",
   "metadata": {},
   "source": [
    "Die Indexierung ist identisch."
   ]
  },
  {
   "cell_type": "code",
   "execution_count": 2,
   "id": "fatty-spectrum",
   "metadata": {},
   "outputs": [
    {
     "name": "stdout",
     "output_type": "stream",
     "text": [
      "(3, 4)\n"
     ]
    }
   ],
   "source": [
    "numbers = (1, 2, 3, 4, 5)\n",
    "print(numbers[2:4])"
   ]
  },
  {
   "cell_type": "markdown",
   "id": "classical-rhythm",
   "metadata": {},
   "source": [
    "Der große Unterschied lieft in der Veränderbarkeit, denn Tupel ``tuple`` sind **unveränderlich** (engl. **immutable**)!\n",
    "Aber Vorsicht ist geboten, denn das bedeutet nicht, dass wir ein Tupel überhaupt nicht verändern können.\n",
    "Was wir jedoch nicht verändern können sind die **Adressen** bzw. ``id``s seiner Elemente!\n",
    "\n",
    "Folgender Code führt zu einem Fehler:"
   ]
  },
  {
   "cell_type": "code",
   "execution_count": 3,
   "id": "unable-witch",
   "metadata": {
    "tags": [
     "raises-exception"
    ]
   },
   "outputs": [
    {
     "ename": "TypeError",
     "evalue": "'tuple' object does not support item assignment",
     "output_type": "error",
     "traceback": [
      "\u001b[0;31m---------------------------------------------------------------------------\u001b[0m",
      "\u001b[0;31mTypeError\u001b[0m                                 Traceback (most recent call last)",
      "\u001b[0;32m<ipython-input-3-d023483acbdb>\u001b[0m in \u001b[0;36m<module>\u001b[0;34m\u001b[0m\n\u001b[1;32m      1\u001b[0m \u001b[0mnumbers\u001b[0m \u001b[0;34m=\u001b[0m \u001b[0;34m(\u001b[0m\u001b[0;36m1\u001b[0m\u001b[0;34m,\u001b[0m \u001b[0;36m2\u001b[0m\u001b[0;34m,\u001b[0m \u001b[0;36m3\u001b[0m\u001b[0;34m,\u001b[0m \u001b[0;36m4\u001b[0m\u001b[0;34m,\u001b[0m \u001b[0;36m5\u001b[0m\u001b[0;34m)\u001b[0m\u001b[0;34m\u001b[0m\u001b[0;34m\u001b[0m\u001b[0m\n\u001b[0;32m----> 2\u001b[0;31m \u001b[0mnumbers\u001b[0m\u001b[0;34m[\u001b[0m\u001b[0;36m2\u001b[0m\u001b[0;34m]\u001b[0m \u001b[0;34m=\u001b[0m \u001b[0;34m-\u001b[0m\u001b[0;36m10\u001b[0m\u001b[0;34m\u001b[0m\u001b[0;34m\u001b[0m\u001b[0m\n\u001b[0m",
      "\u001b[0;31mTypeError\u001b[0m: 'tuple' object does not support item assignment"
     ]
    }
   ],
   "source": [
    "numbers = (1, 2, 3, 4, 5)\n",
    "numbers[2] = -10"
   ]
  },
  {
   "cell_type": "markdown",
   "id": "surface-terrorist",
   "metadata": {},
   "source": [
    "Doch können wir eine *Datenstruktur* die Element eines Tupels ist durchaus verändern:"
   ]
  },
  {
   "cell_type": "code",
   "execution_count": 4,
   "id": "exposed-satisfaction",
   "metadata": {},
   "outputs": [
    {
     "data": {
      "text/plain": [
       "(1, 2, ['a', 4, 5])"
      ]
     },
     "execution_count": 4,
     "metadata": {},
     "output_type": "execute_result"
    }
   ],
   "source": [
    "numbers = (1, 2, [3, 4, 5])\n",
    "numbers[2][0] = 'a'\n",
    "numbers"
   ]
  },
  {
   "cell_type": "markdown",
   "id": "plain-indian",
   "metadata": {},
   "source": [
    "Tupel werden oft verwendet wenn wir eine Ansammlung von heterogenen Datentypen zusammenfassen wollen und wir explizit ausdrücken bzw. sicher gehen wollen, dass dieses Tupel nicht verändert wird. \n",
    "Zum Beispiel ein Tupel was das Alphabet repräsentiert.\n",
    "Dieses wird sich und soll sich auch nicht verändern."
   ]
  },
  {
   "cell_type": "code",
   "execution_count": 5,
   "id": "outstanding-thesaurus",
   "metadata": {},
   "outputs": [
    {
     "data": {
      "text/plain": [
       "('A',\n",
       " 'B',\n",
       " 'C',\n",
       " 'D',\n",
       " 'E',\n",
       " 'F',\n",
       " 'G',\n",
       " 'H',\n",
       " 'I',\n",
       " 'J',\n",
       " 'K',\n",
       " 'L',\n",
       " 'M',\n",
       " 'N',\n",
       " 'O',\n",
       " 'P',\n",
       " 'Q',\n",
       " 'R',\n",
       " 'S',\n",
       " 'T',\n",
       " 'U',\n",
       " 'V',\n",
       " 'W',\n",
       " 'X',\n",
       " 'Y',\n",
       " 'Z')"
      ]
     },
     "execution_count": 5,
     "metadata": {},
     "output_type": "execute_result"
    }
   ],
   "source": [
    "alphabet = ('A', 'B', 'C', 'D', 'E', 'F', 'G', 'H', 'I', 'J', 'K', 'L', 'M', 'N', 'O', 'P', 'Q', 'R', 'S', 'T', 'U', 'V', 'W', 'X', 'Y', 'Z')\n",
    "alphabet"
   ]
  },
  {
   "cell_type": "markdown",
   "id": "engaging-reducing",
   "metadata": {},
   "source": [
    "``Python`` bietet eine etwas hässliche Abkürzung für die Erstellung eines Tupels mit nur einem Element:"
   ]
  },
  {
   "cell_type": "code",
   "execution_count": 6,
   "id": "satellite-measurement",
   "metadata": {},
   "outputs": [
    {
     "data": {
      "text/plain": [
       "(1,)"
      ]
     },
     "execution_count": 6,
     "metadata": {},
     "output_type": "execute_result"
    }
   ],
   "source": [
    "singleton = 1,\n",
    "singleton"
   ]
  },
  {
   "cell_type": "markdown",
   "id": "spare-reservoir",
   "metadata": {},
   "source": [
    "entspricht"
   ]
  },
  {
   "cell_type": "code",
   "execution_count": 7,
   "id": "automatic-steal",
   "metadata": {},
   "outputs": [
    {
     "data": {
      "text/plain": [
       "(1,)"
      ]
     },
     "execution_count": 7,
     "metadata": {},
     "output_type": "execute_result"
    }
   ],
   "source": [
    "singleton = (1,)\n",
    "singleton"
   ]
  },
  {
   "cell_type": "markdown",
   "id": "loved-ghost",
   "metadata": {},
   "source": [
    "Achtung"
   ]
  },
  {
   "cell_type": "code",
   "execution_count": 8,
   "id": "liable-cargo",
   "metadata": {},
   "outputs": [
    {
     "data": {
      "text/plain": [
       "1"
      ]
     },
     "execution_count": 8,
     "metadata": {},
     "output_type": "execute_result"
    }
   ],
   "source": [
    "number = (1)\n",
    "number"
   ]
  },
  {
   "cell_type": "markdown",
   "id": "black-isaac",
   "metadata": {},
   "source": [
    "funktioniert nicht!\n",
    "\n",
    "Python bietet auch das Konzept des *tuple-packing* und *tuple-unpacking*, was enorm praktisch ist:"
   ]
  },
  {
   "cell_type": "code",
   "execution_count": 9,
   "id": "dying-moderator",
   "metadata": {},
   "outputs": [
    {
     "name": "stdout",
     "output_type": "stream",
     "text": [
      "x = 1\n",
      "y = 2\n",
      "z = 3\n",
      "packing = (1, 2, 3)\n"
     ]
    }
   ],
   "source": [
    "triple = (1, 2, 3)\n",
    "x, y, z = triple  # unpacking\n",
    "print(f'x = {x}')\n",
    "print(f'y = {y}')\n",
    "print(f'z = {z}')\n",
    "packing = x, y, z # packing\n",
    "print(f'packing = {packing}')"
   ]
  },
  {
   "cell_type": "markdown",
   "id": "looking-syntax",
   "metadata": {},
   "source": [
    "Ziemlich cool, wie wir finden.\n",
    "Das ist insbesondere praktisch wenn Sie eine Funktion schreiben möchten, die mehr als ein Rückgabewert hat:"
   ]
  },
  {
   "cell_type": "code",
   "execution_count": 10,
   "id": "genetic-external",
   "metadata": {},
   "outputs": [
    {
     "name": "stdout",
     "output_type": "stream",
     "text": [
      "red = 124, green = 122, blue = 72\n"
     ]
    }
   ],
   "source": [
    "import random as rnd\n",
    "def random_rgb_color():\n",
    "    r = rnd.randint(0, 255)\n",
    "    g = rnd.randint(0, 255)\n",
    "    b = rnd.randint(0, 255)\n",
    "\n",
    "    return r, g, b\n",
    "\n",
    "r, g, b = random_rgb_color()\n",
    "print(f'red = {r}, green = {g}, blue = {b}')"
   ]
  },
  {
   "cell_type": "markdown",
   "id": "improved-excess",
   "metadata": {},
   "source": [
    "Im Falle der Listen hat der ``+=``-Operator die Liste verändert.\n",
    "Was glauben Sie macht der ``+=``-Operator für Tupel?\n",
    "Ist er definiert?\n",
    "Testen wir es aus:"
   ]
  },
  {
   "cell_type": "code",
   "execution_count": 11,
   "id": "incorporated-catalyst",
   "metadata": {
    "tags": [
     "raises-exception"
    ]
   },
   "outputs": [
    {
     "data": {
      "text/plain": [
       "(1, 2, 3, 4, 5, 6, 7, 8)"
      ]
     },
     "execution_count": 11,
     "metadata": {},
     "output_type": "execute_result"
    }
   ],
   "source": [
    "numbers = (1, 2, 3, 4, 5)\n",
    "numbers += (6,7,8)\n",
    "numbers"
   ]
  },
  {
   "cell_type": "markdown",
   "id": "federal-stream",
   "metadata": {},
   "source": [
    "Kein Fehler!\n",
    "Wird nun doch also doch ``numbers``?\n",
    "Ja und nein.\n",
    "Der Speicherbereich des ursprünglichen Tupels bleibt unverändert, stattdessen wird eine Kopie angelegt."
   ]
  },
  {
   "cell_type": "code",
   "execution_count": 12,
   "id": "missing-chicago",
   "metadata": {
    "tags": [
     "raises-exception"
    ]
   },
   "outputs": [
    {
     "name": "stdout",
     "output_type": "stream",
     "text": [
      "id before += 4571844832\n",
      "id after += 4563090672\n",
      "id after += of the original 4571844832\n",
      "numbers: (1, 2, 3, 4, 5, 6, 7, 8)\n",
      "numbers_copy: (1, 2, 3, 4, 5)\n"
     ]
    }
   ],
   "source": [
    "numbers = (1, 2, 3, 4, 5)\n",
    "numbers_copy = numbers\n",
    "print(f'id before += {id(numbers)}')\n",
    "numbers += (6,7,8)\n",
    "print(f'id after += {id(numbers)}')\n",
    "print(f'id after += of the original {id(numbers_copy)}')\n",
    "print(f'numbers: {numbers}')\n",
    "print(f'numbers_copy: {numbers_copy}')"
   ]
  },
  {
   "cell_type": "markdown",
   "id": "shared-korean",
   "metadata": {},
   "source": [
    "````{exercise} Tupel vs Listen (Effizienz)\n",
    ":label: tuple-vs-lists-appending-exercise\n",
    "Welche der folgenden Code-Teile benötigt nach Ihrer meinung mehr Computerressourcen und warum?\n",
    "\n",
    "Listenerzeugung durch Anhängen:\n",
    "\n",
    "```python\n",
    "numbers = []\n",
    "i = 0\n",
    "while i < 100:\n",
    "    numbers += [i]\n",
    "    i += 1\n",
    "numbers\n",
    "```\n",
    "\n",
    "Tupelerzeugung durch Anhängen:\n",
    "\n",
    "```python\n",
    "numbers = tuple()\n",
    "i = 0\n",
    "while i < 100:\n",
    "    numbers += (i,)\n",
    "    i += 1\n",
    "numbers\n",
    "```\n",
    "````\n",
    "\n",
    "```{solution} tuple-vs-lists-appending-exercise\n",
    ":label: tuple-vs-lists-appending-solution\n",
    ":class: dropdown\n",
    "\n",
    "Die Tupelerzeugung durch Anhängen ist deutlich langsamer und speicherintensiver, denn bei jeder Konkatenation ``+=`` wird ``numbers`` im Speicher kopiert.\n",
    "Der Code erzeugt damit 100 unterschiedliche Tupel!\n",
    "Im Fall der Liste wird einfach nur ein Element hinten dran gehängt.\n",
    "\n",
    "```"
   ]
  }
 ],
 "metadata": {
  "jupytext": {
   "formats": "md:myst",
   "text_representation": {
    "extension": ".md",
    "format_name": "myst"
   }
  },
  "kernelspec": {
   "display_name": "Python 3",
   "language": "python",
   "name": "python3"
  },
  "language_info": {
   "codemirror_mode": {
    "name": "ipython",
    "version": 3
   },
   "file_extension": ".py",
   "mimetype": "text/x-python",
   "name": "python",
   "nbconvert_exporter": "python",
   "pygments_lexer": "ipython3",
   "version": "3.9.6"
  },
  "source_map": [
   11,
   18,
   21,
   25,
   28,
   36,
   42,
   46,
   50,
   57,
   60,
   64,
   67,
   71,
   74,
   78,
   81,
   87,
   95,
   100,
   111,
   118,
   125,
   132,
   144
  ]
 },
 "nbformat": 4,
 "nbformat_minor": 5
}