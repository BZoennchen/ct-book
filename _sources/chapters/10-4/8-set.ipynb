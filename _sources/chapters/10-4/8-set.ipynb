{
 "cells": [
  {
   "cell_type": "markdown",
   "id": "aware-pickup",
   "metadata": {},
   "source": [
    "(sec-set)=\n",
    "# Mengen - set\n",
    "\n",
    "``Python``-Mengen (engl. [Set](https://docs.python.org/3/library/stdtypes.html#set-types-set-frozenset)) ``set`` ist eine ungeordnete Zusammenfassung (engl. collection) von Elementen, wobei jedes Element in der Menge einzigartig ist.\n",
    "Damit repräsentieren ``Python``-Mengen ``set`` *endliche* Mengen im mathematischen Sinne.\n",
    "Endlich deshalb, weil die Elemente von ``Python``-Mengen explizit im Speicher liegen und wir nur endlich viel Arbeitsspeicher zur Verfügung haben.\n",
    "\n",
    "Eine mathematische Menge $M$ ist ein abstraktes Objekt, das aus der Zusammenfassung einer Anzahl von einzelnen Elementen hervorgeht.\n",
    "Dabei ist jedes Element was sich in der Menge befindet von allen anderen Elementen verschieden.\n",
    "Anders als mathematische Tupel (durch die ``Python``-Tupel und den Listen motiviert sind) sind Mengen ungeordnet.\n",
    "\n",
    "Von hier an meinen wir mit Mengen die ``Python``-Mengen ``set`` und sprechen ansonsten von mathematischen Mengen.\n",
    "\n",
    "## Motivation\n",
    "\n",
    "Mengen benutzten wir immer dann, wenn wir die Eigenschaft der Eindeutigkeit und Unordnung nutzten wollen.\n",
    "Dabei bezieht sich diese Eindeutigkeit auf die [Gleichheit](warning-equality-and-identity) und nicht auf die Identität.\n",
    "D.h. eine ``Python``-Menge enthält keine zwei Elemente ``x``, ``y`` für die ``x == y`` zu ``True`` ausgewertet wird.\n",
    "\n",
    "Es ist an dieser Stelle anzumerken, dass der Test \n",
    "\n",
    "$$e \\in M$$\n",
    "\n",
    "für eine Menge deutlich weniger Rechenzeit benötigt als für eine Liste.\n",
    "Dies hängt natürlich von der Größe der Liste ``list`` ab, überraschenderweise jedoch nicht von der Größe der Menge ``set``.\n",
    "Befinden sich $n$ Elemente der Liste bzw. Menge so benötigen wir im schlechtesten Fall ca. $n$ Berechnungsschritte um festzustellen ob sich eine Element in der Liste befindet.\n",
    "Verwenden wir hingegen eine Menge, so benötigen wir nicht mehr als eine bestimmte konstante Anzahl an Schritten.\n",
    "In anderen Worten, die Laufzeit des Test ist (nahezu) unabhängig von der Anzahl der Elemente die sich in der Menge befinden!\n",
    "\n",
    "## Erstellung\n",
    "\n",
    "Eine Menge erzeugen Sie ähnlich wie eine Liste, allerdings verwenden wir die geschweiften Klammern:"
   ]
  },
  {
   "cell_type": "code",
   "execution_count": 1,
   "id": "indonesian-elizabeth",
   "metadata": {},
   "outputs": [
    {
     "data": {
      "text/plain": [
       "{0, 1, 2, 3, 4, 5}"
      ]
     },
     "execution_count": 1,
     "metadata": {},
     "output_type": "execute_result"
    }
   ],
   "source": [
    "numbers = {0, 1, 2, 3, 4, 5, 0}\n",
    "numbers"
   ]
  },
  {
   "cell_type": "markdown",
   "id": "amateur-diesel",
   "metadata": {},
   "source": [
    "Sie können Listen, Tupel und im Allgemeinen Sequenzen in Mengen umwandeln:"
   ]
  },
  {
   "cell_type": "code",
   "execution_count": 2,
   "id": "nuclear-audio",
   "metadata": {},
   "outputs": [
    {
     "name": "stdout",
     "output_type": "stream",
     "text": [
      "{0, 1, 2, 3, 4, 5, 6, 7, 8, 9, 10, 11, 12, 13, 14, 15, 16, 17, 18, 19}\n",
      "{'b', 'a', 'e', 'c', 'd', 'f'}\n"
     ]
    }
   ],
   "source": [
    "numbers = set(range(20))\n",
    "print(numbers)\n",
    "chars = set('aabcdddef')\n",
    "print(chars)"
   ]
  },
  {
   "cell_type": "markdown",
   "id": "controlled-framework",
   "metadata": {},
   "source": [
    "Beachten Sie, dass hierbei doppelte Elemente nicht doppelt in der Menge vorkommen.\n",
    "Beachten Sie auch, dass Sie eine leere Menge **nicht** mit ``{}`` sondern mit"
   ]
  },
  {
   "cell_type": "code",
   "execution_count": 3,
   "id": "synthetic-talent",
   "metadata": {},
   "outputs": [
    {
     "data": {
      "text/plain": [
       "set()"
      ]
     },
     "execution_count": 3,
     "metadata": {},
     "output_type": "execute_result"
    }
   ],
   "source": [
    "emptyset = set()\n",
    "emptyset"
   ]
  },
  {
   "cell_type": "markdown",
   "id": "expanded-nancy",
   "metadata": {},
   "source": [
    "erzeugen! ``{}`` erzeugt hingegen ein leeres [Wörterbuch](sec-dict).\n",
    "\n",
    "## Indexierung?\n",
    "\n",
    "Da Mengen ungeordnet sind, können wir diese nicht indexieren.\n",
    "Folgender Code führt zu einem Fehler."
   ]
  },
  {
   "cell_type": "code",
   "execution_count": 4,
   "id": "employed-prompt",
   "metadata": {
    "tags": [
     "raises-exception"
    ]
   },
   "outputs": [
    {
     "ename": "TypeError",
     "evalue": "'set' object is not subscriptable",
     "output_type": "error",
     "traceback": [
      "\u001b[0;31m---------------------------------------------------------------------------\u001b[0m",
      "\u001b[0;31mTypeError\u001b[0m                                 Traceback (most recent call last)",
      "\u001b[0;32m<ipython-input-4-0e790772eb66>\u001b[0m in \u001b[0;36m<module>\u001b[0;34m\u001b[0m\n\u001b[1;32m      1\u001b[0m \u001b[0mnumbers\u001b[0m \u001b[0;34m=\u001b[0m \u001b[0;34m{\u001b[0m\u001b[0;36m0\u001b[0m\u001b[0;34m,\u001b[0m \u001b[0;36m1\u001b[0m\u001b[0;34m,\u001b[0m \u001b[0;36m2\u001b[0m\u001b[0;34m,\u001b[0m \u001b[0;36m3\u001b[0m\u001b[0;34m,\u001b[0m \u001b[0;36m4\u001b[0m\u001b[0;34m,\u001b[0m \u001b[0;36m5\u001b[0m\u001b[0;34m}\u001b[0m\u001b[0;34m\u001b[0m\u001b[0;34m\u001b[0m\u001b[0m\n\u001b[0;32m----> 2\u001b[0;31m \u001b[0mnumbers\u001b[0m\u001b[0;34m[\u001b[0m\u001b[0;36m2\u001b[0m\u001b[0;34m]\u001b[0m\u001b[0;34m\u001b[0m\u001b[0;34m\u001b[0m\u001b[0m\n\u001b[0m",
      "\u001b[0;31mTypeError\u001b[0m: 'set' object is not subscriptable"
     ]
    }
   ],
   "source": [
    "numbers = {0, 1, 2, 3, 4, 5}\n",
    "numbers[2]"
   ]
  },
  {
   "cell_type": "markdown",
   "id": "scheduled-asbestos",
   "metadata": {},
   "source": [
    "Wir können zwar testen, ob sich ein Element in der Menge befindet"
   ]
  },
  {
   "cell_type": "code",
   "execution_count": 5,
   "id": "middle-strap",
   "metadata": {},
   "outputs": [
    {
     "name": "stdout",
     "output_type": "stream",
     "text": [
      "2 in numbers?: True\n",
      "-3 in numbers?: False\n"
     ]
    }
   ],
   "source": [
    "numbers = {0, 1, 2, 3, 4, 5}\n",
    "print(f'2 in numbers?: {2 in numbers}')\n",
    "print(f'-3 in numbers?: {-3 in numbers}')"
   ]
  },
  {
   "cell_type": "markdown",
   "id": "rough-journalism",
   "metadata": {},
   "source": [
    "und wir können auch mit einer Schleife durch alle Elemente iterieren"
   ]
  },
  {
   "cell_type": "code",
   "execution_count": 6,
   "id": "wrong-chancellor",
   "metadata": {},
   "outputs": [
    {
     "name": "stdout",
     "output_type": "stream",
     "text": [
      "0\n",
      "1\n",
      "2\n",
      "3\n",
      "4\n",
      "5\n"
     ]
    }
   ],
   "source": [
    "numbers = {0, 1, 2, 3, 4, 5}\n",
    "for number in numbers:\n",
    "    print(number)"
   ]
  },
  {
   "cell_type": "markdown",
   "id": "buried-employment",
   "metadata": {},
   "source": [
    "doch bleibt uns der Zugriff auf einzelne Elemente verwehrt.\n",
    "Mengen bieten weder einen Index noch irgendetwas anderes durch das wir auf einzelne Mengenelemente zugreifen können.\n",
    "\n",
    "## Mengenoperationen\n",
    "\n",
    "Was Mengen bieten sind die sog. Mengenoperationen, welche den mathematischen Mengenoperationen gleichen.\n",
    "Seien $A$ und $B$ mathematische Mengen und ``a``, ``b`` ihre entsprechenden ``Python``-Repräsentanten, dann entspricht"
   ]
  },
  {
   "cell_type": "code",
   "execution_count": 7,
   "id": "sized-meditation",
   "metadata": {},
   "outputs": [
    {
     "name": "stdout",
     "output_type": "stream",
     "text": [
      "{0, 2, 4}\n",
      "{0, 2, 4}\n"
     ]
    }
   ],
   "source": [
    "a = {0, 1, 2, 3, 4, 5}\n",
    "b = {1, 3, 5, 7, 9, 11}\n",
    "\n",
    "print(a - b)\n",
    "print(a.difference(b))"
   ]
  },
  {
   "cell_type": "markdown",
   "id": "developing-dallas",
   "metadata": {},
   "source": [
    "$$A \\setminus B$$"
   ]
  },
  {
   "cell_type": "code",
   "execution_count": 8,
   "id": "aggregate-vegetation",
   "metadata": {},
   "outputs": [
    {
     "name": "stdout",
     "output_type": "stream",
     "text": [
      "{0, 1, 2, 3, 4, 5, 7, 9, 11}\n",
      "{0, 1, 2, 3, 4, 5, 7, 9, 11}\n"
     ]
    }
   ],
   "source": [
    "a = {0, 1, 2, 3, 4, 5}\n",
    "b = {1, 3, 5, 7, 9, 11}\n",
    "\n",
    "print(a | b)\n",
    "print(a.union(b))"
   ]
  },
  {
   "cell_type": "markdown",
   "id": "proved-frederick",
   "metadata": {},
   "source": [
    "$$A \\cup B$$"
   ]
  },
  {
   "cell_type": "code",
   "execution_count": 9,
   "id": "regular-board",
   "metadata": {},
   "outputs": [
    {
     "name": "stdout",
     "output_type": "stream",
     "text": [
      "{1, 3, 5}\n",
      "{1, 3, 5}\n"
     ]
    }
   ],
   "source": [
    "a = {0, 1, 2, 3, 4, 5}\n",
    "b = {1, 3, 5, 7, 9, 11}\n",
    "\n",
    "print(a & b)\n",
    "print(a.intersection(b))"
   ]
  },
  {
   "cell_type": "markdown",
   "id": "about-nutrition",
   "metadata": {},
   "source": [
    "$$A \\cap B$$\n",
    "\n",
    "und"
   ]
  },
  {
   "cell_type": "code",
   "execution_count": 10,
   "id": "destroyed-blogger",
   "metadata": {},
   "outputs": [
    {
     "name": "stdout",
     "output_type": "stream",
     "text": [
      "{0, 2, 4, 7, 9, 11}\n",
      "{0, 2, 4, 7, 9, 11}\n"
     ]
    }
   ],
   "source": [
    "a = {0, 1, 2, 3, 4, 5}\n",
    "b = {1, 3, 5, 7, 9, 11}\n",
    "\n",
    "print(a ^ b)\n",
    "print(a.symmetric_difference(b))"
   ]
  },
  {
   "cell_type": "markdown",
   "id": "compressed-render",
   "metadata": {},
   "source": [
    "$$(A \\cup B) \\setminus (A \\cap B),$$\n",
    "\n",
    "d.h., Elemente in entweder $A$ oder $B$ jedoch keine Elemente die in $A$ und $B$ vorkommen (exklusives Oder).\n",
    "\n",
    "## Veränderung\n",
    "\n",
    "Mengen sind **veränderlich** (engl. mutable) allerdings darf eine Menge nur **unveränderliche** (engl. immutable) Elemente enthalten!\n",
    "Damit darf eine Menge keine Listen enthalten, weshalb folgender Code zu einem Fehler führt\n",
    "\n",
    "```{admonition} Mengen in Python\n",
    ":name: alert-sets-in-python\n",
    ":class: warning\n",
    "Eine Menge ist **veränderlich** darf jedoch lediglich **unveränderliche** Elemente enthalten.\n",
    "```"
   ]
  },
  {
   "cell_type": "code",
   "execution_count": 11,
   "id": "cellular-vacation",
   "metadata": {
    "tags": [
     "raises-exception"
    ]
   },
   "outputs": [
    {
     "ename": "TypeError",
     "evalue": "unhashable type: 'list'",
     "output_type": "error",
     "traceback": [
      "\u001b[0;31m---------------------------------------------------------------------------\u001b[0m",
      "\u001b[0;31mTypeError\u001b[0m                                 Traceback (most recent call last)",
      "\u001b[0;32m<ipython-input-11-e1125c30d233>\u001b[0m in \u001b[0;36m<module>\u001b[0;34m\u001b[0m\n\u001b[0;32m----> 1\u001b[0;31m \u001b[0mmyset\u001b[0m \u001b[0;34m=\u001b[0m \u001b[0;34m{\u001b[0m\u001b[0;36m0\u001b[0m\u001b[0;34m,\u001b[0m \u001b[0;36m1\u001b[0m\u001b[0;34m,\u001b[0m \u001b[0;34m[\u001b[0m\u001b[0;36m2\u001b[0m\u001b[0;34m,\u001b[0m \u001b[0;36m3\u001b[0m\u001b[0;34m,\u001b[0m \u001b[0;36m4\u001b[0m\u001b[0;34m]\u001b[0m\u001b[0;34m}\u001b[0m\u001b[0;34m\u001b[0m\u001b[0;34m\u001b[0m\u001b[0m\n\u001b[0m",
      "\u001b[0;31mTypeError\u001b[0m: unhashable type: 'list'"
     ]
    }
   ],
   "source": [
    "myset = {0, 1, [2, 3, 4]}"
   ]
  },
  {
   "cell_type": "markdown",
   "id": "alpha-congo",
   "metadata": {},
   "source": [
    "Warum gilt dies?\n",
    "Blicken wir auf folgendes (nicht funktionierendes) Beispiel\n",
    "\n",
    "```python\n",
    "list1 = [1,2,3]\n",
    "list2 = [0,2,3]\n",
    "myset = {list1, list2}\n",
    "```\n",
    "\n",
    "Es befinden sich nun zwei unterschiedliche Listen in der Menge ``myset``.\n",
    "Soweit alles in Ordnung.\n",
    "Was passiert allerdings wenn wir ``list2`` so verändern, dass sich ``list1 == list2`` ergibt?\n",
    "\n",
    "```python\n",
    "list2[0] = 1\n",
    "```\n",
    "\n",
    "Nach dieser Codezeile befänden sich zwei gleiche Elemente in der Menge, was natürlich nicht sein darf.\n",
    "Die Menge müsste deshalb von dieser Änderung etwas mitbekommen und daraufhin sich selbst anpassen.\n",
    "Das würde die Implementierung einer Menge immens verkomplizieren und würde zu großen Problemen führen.\n",
    "Deshalb bekommt die Menge von dieser Änderung nichts mit und somit hätten wir den Salat.\n",
    "\n",
    "Wir können mit den Funktionen ``add()`` und ``remove()`` Elemente zu einer Menge hinzufügen und löschen."
   ]
  },
  {
   "cell_type": "code",
   "execution_count": 12,
   "id": "smaller-metallic",
   "metadata": {
    "tags": [
     "raises-exception"
    ]
   },
   "outputs": [
    {
     "name": "stdout",
     "output_type": "stream",
     "text": [
      "{0, 1, 2}\n",
      "{0, 1, 2, 3}\n",
      "{0, 2, 3}\n"
     ]
    },
    {
     "ename": "KeyError",
     "evalue": "10",
     "output_type": "error",
     "traceback": [
      "\u001b[0;31m---------------------------------------------------------------------------\u001b[0m",
      "\u001b[0;31mKeyError\u001b[0m                                  Traceback (most recent call last)",
      "\u001b[0;32m<ipython-input-12-77994b60467c>\u001b[0m in \u001b[0;36m<module>\u001b[0;34m\u001b[0m\n\u001b[1;32m      6\u001b[0m \u001b[0mnumbers\u001b[0m\u001b[0;34m.\u001b[0m\u001b[0mremove\u001b[0m\u001b[0;34m(\u001b[0m\u001b[0;36m1\u001b[0m\u001b[0;34m)\u001b[0m \u001b[0;31m# remove element\u001b[0m\u001b[0;34m\u001b[0m\u001b[0;34m\u001b[0m\u001b[0m\n\u001b[1;32m      7\u001b[0m \u001b[0mprint\u001b[0m\u001b[0;34m(\u001b[0m\u001b[0mnumbers\u001b[0m\u001b[0;34m)\u001b[0m\u001b[0;34m\u001b[0m\u001b[0;34m\u001b[0m\u001b[0m\n\u001b[0;32m----> 8\u001b[0;31m \u001b[0mnumbers\u001b[0m\u001b[0;34m.\u001b[0m\u001b[0mremove\u001b[0m\u001b[0;34m(\u001b[0m\u001b[0;36m10\u001b[0m\u001b[0;34m)\u001b[0m \u001b[0;31m# remove non-existing element causes error\u001b[0m\u001b[0;34m\u001b[0m\u001b[0;34m\u001b[0m\u001b[0m\n\u001b[0m\u001b[1;32m      9\u001b[0m \u001b[0mprint\u001b[0m\u001b[0;34m(\u001b[0m\u001b[0mnumbers\u001b[0m\u001b[0;34m)\u001b[0m\u001b[0;34m\u001b[0m\u001b[0;34m\u001b[0m\u001b[0m\n",
      "\u001b[0;31mKeyError\u001b[0m: 10"
     ]
    }
   ],
   "source": [
    "numbers = {0, 1, 2}\n",
    "numbers.add(0)    # add duplicate, silently ignored\n",
    "print(numbers)\n",
    "numbers.add(3)    # add new element\n",
    "print(numbers)\n",
    "numbers.remove(1) # remove element\n",
    "print(numbers)\n",
    "numbers.remove(10) # remove non-existing element causes error\n",
    "print(numbers)"
   ]
  },
  {
   "cell_type": "markdown",
   "id": "communist-internship",
   "metadata": {},
   "source": [
    "Es gibt auch den Datentyp / die Datenstruktur ``frozenset``.\n",
    "Diese ist im Gegensatz zu ``set`` **unveränderlich**.\n",
    "Diese benötigen Sie, wenn Ihre Menge weitere Mengen enthalten soll.\n",
    "\n",
    "Wir können Mengen auch durch die Mengenoperationen verändern.\n",
    "Wie der ``+``-Operator auf Listen und Tupel, legen die oben beschriebenen Operatoren Kopien im Speicher an.\n",
    "Dies sehen wir, wie so oft, wenn wir uns die ``id``s ansehen:"
   ]
  },
  {
   "cell_type": "code",
   "execution_count": 13,
   "id": "senior-korea",
   "metadata": {},
   "outputs": [
    {
     "name": "stdout",
     "output_type": "stream",
     "text": [
      "id of a before difference: 4572715712\n",
      "id of a after difference: 4572715712\n",
      "id of c: 4572716832\n",
      "a = {0, 1, 2, 3, 4, 5}\n",
      "b = {1, 3, 5, 7, 9, 11}\n",
      "c = {0, 2, 4}\n"
     ]
    }
   ],
   "source": [
    "a = {0, 1, 2, 3, 4, 5}\n",
    "b = {1, 3, 5, 7, 9, 11}\n",
    "\n",
    "print(f'id of a before difference: {id(a)}')\n",
    "\n",
    "c = a - b\n",
    "print(f'id of a after difference: {id(a)}')\n",
    "print(f'id of c: {id(c)}')\n",
    "print(f'a = {a}')\n",
    "print(f'b = {b}')\n",
    "print(f'c = {c}')"
   ]
  },
  {
   "cell_type": "markdown",
   "id": "consistent-madrid",
   "metadata": {},
   "source": [
    "Wir können jedoch auch das Gegenstück zum ``+=``-Operator verwenden:"
   ]
  },
  {
   "cell_type": "code",
   "execution_count": 14,
   "id": "focal-attention",
   "metadata": {},
   "outputs": [
    {
     "name": "stdout",
     "output_type": "stream",
     "text": [
      "id of a before difference: 4572716608\n",
      "id of a after difference: 4572716608\n",
      "a = {0, 2, 4}\n",
      "b = {1, 3, 5, 7, 9, 11}\n"
     ]
    }
   ],
   "source": [
    "a = {0, 1, 2, 3, 4, 5}\n",
    "b = {1, 3, 5, 7, 9, 11}\n",
    "\n",
    "print(f'id of a before difference: {id(a)}')\n",
    "\n",
    "a -= b\n",
    "print(f'id of a after difference: {id(a)}')\n",
    "print(f'a = {a}')\n",
    "print(f'b = {b}')"
   ]
  },
  {
   "cell_type": "markdown",
   "id": "exciting-weather",
   "metadata": {},
   "source": [
    "Wir sehen, dass in diesem Fall der Speicherbereich durch den wir zu Beginn durch ``a`` zugreifen können, verändert wird.\n",
    "\n",
    "## Mengen und der Speicher\n",
    "\n",
    "Wenn Sie verstanden haben wie Mengen im Speicher realisiert werden, wird Ihnen noch klarer warum diese nur **unveränderliche** Elemente enthalten dürfen.\n",
    "Eine ausgiebige Beschreibung dessen finden Sie im Kapitel [Namensregister](sec-name-register), genauer im Abschnitt [Hashing und das Dictionary](sec-hashing).\n",
    "Lassen Sie uns dennoch versuchen die Grundproblematik und das Grundprinzip herauszuarbeiten.\n",
    "\n",
    "Auf dem Computer gibt es keine Hardwareeinheit, die so etwas wie eine Menge realisieren würde.\n",
    "Der Speicher eines Computers ist eine sehr lange Liste auf deren Elemente wir durch Indices (**Adressen**) zugreifen können.\n",
    "Kennen wir die Adresse, so ist der Zugriff enorm schnell.\n",
    "\n",
    "Um zu testen ob sich ein Element in der Liste befindet, müssen wir es in der Liste suchen und im schlimmsten Fall alle Elemente durchgehen."
   ]
  },
  {
   "cell_type": "code",
   "execution_count": 15,
   "id": "rental-turning",
   "metadata": {},
   "outputs": [
    {
     "data": {
      "text/plain": [
       "True"
      ]
     },
     "execution_count": 15,
     "metadata": {},
     "output_type": "execute_result"
    }
   ],
   "source": [
    "mylist = [1, 'a', 2, 5, 6, 8]\n",
    "6 in mylist"
   ]
  },
  {
   "cell_type": "markdown",
   "id": "controversial-turkish",
   "metadata": {},
   "source": [
    "entspricht folgendem Code"
   ]
  },
  {
   "cell_type": "code",
   "execution_count": 16,
   "id": "electronic-communist",
   "metadata": {},
   "outputs": [
    {
     "data": {
      "text/plain": [
       "True"
      ]
     },
     "execution_count": 16,
     "metadata": {},
     "output_type": "execute_result"
    }
   ],
   "source": [
    "mylist = [1, 'a', 2, 5, 6, 8]\n",
    "contains = False\n",
    "for element in mylist:\n",
    "    if 6 == element:\n",
    "        contains = True\n",
    "        break\n",
    "contains"
   ]
  },
  {
   "cell_type": "markdown",
   "id": "institutional-guatemala",
   "metadata": {},
   "source": [
    "Genau dieses Durchsuchen versuchen Mengen zu verhindern.\n",
    "\n",
    "Ok, machen wir es uns ein wenig einfacher.\n",
    "Nehmen wir einmal an Sie möchten eine veränderliche Menge von ganzen Zahlen *modellieren*.\n",
    "Sie wissen jedoch, dass die Zahlen $k$ alle zwischen 100 und 130 liegen, genauer gesagt $100 \\leq k < 130$.\n",
    "Wie könnten wir unter diesen Voraussetzungen eine Menge als Liste implementieren?\n",
    "\n",
    "Wir wählen eine Liste die immer hundert Elemente enthält, sodass wir für eine gegebene Zahl $k$ den zugehörigen Listenindex\n",
    "\n",
    "$$i \\leftarrow (k-100)$$\n",
    "\n",
    "sehr einfach berechnen können.\n",
    "\n",
    "Aber hatten wir nicht gesagt, dass eine Liste keine Lücken enthält?\n",
    "Wir können künstliche Lücken einfügen.\n",
    "Unsere leere Menge enthält 30 'Lücken'.\n",
    "Wir verwenden hierfür das Symbol für das Nichts, d.h., ``None``."
   ]
  },
  {
   "cell_type": "code",
   "execution_count": 17,
   "id": "actual-component",
   "metadata": {},
   "outputs": [
    {
     "data": {
      "text/plain": [
       "[None,\n",
       " None,\n",
       " None,\n",
       " None,\n",
       " None,\n",
       " None,\n",
       " None,\n",
       " None,\n",
       " None,\n",
       " None,\n",
       " None,\n",
       " None,\n",
       " None,\n",
       " None,\n",
       " None,\n",
       " None,\n",
       " None,\n",
       " None,\n",
       " None,\n",
       " None,\n",
       " None,\n",
       " None,\n",
       " None,\n",
       " None,\n",
       " None,\n",
       " None,\n",
       " None,\n",
       " None,\n",
       " None,\n",
       " None]"
      ]
     },
     "execution_count": 17,
     "metadata": {},
     "output_type": "execute_result"
    }
   ],
   "source": [
    "emptyset = [None for i in range(30)]\n",
    "emptyset"
   ]
  },
  {
   "cell_type": "markdown",
   "id": "convinced-hungarian",
   "metadata": {},
   "source": [
    "Um ein Element ``k`` hinzuzufügen müssen wir\n",
    "\n",
    "1. seinen Index berechnen\n",
    "2. und es hinzufügen."
   ]
  },
  {
   "cell_type": "code",
   "execution_count": 18,
   "id": "russian-sleep",
   "metadata": {},
   "outputs": [
    {
     "data": {
      "text/plain": [
       "[None,\n",
       " None,\n",
       " None,\n",
       " None,\n",
       " None,\n",
       " None,\n",
       " None,\n",
       " None,\n",
       " None,\n",
       " None,\n",
       " None,\n",
       " None,\n",
       " None,\n",
       " None,\n",
       " None,\n",
       " None,\n",
       " None,\n",
       " None,\n",
       " None,\n",
       " None,\n",
       " None,\n",
       " None,\n",
       " 122,\n",
       " None,\n",
       " None,\n",
       " None,\n",
       " None,\n",
       " None,\n",
       " None,\n",
       " None]"
      ]
     },
     "execution_count": 18,
     "metadata": {},
     "output_type": "execute_result"
    }
   ],
   "source": [
    "myset = [None for i in range(30)]\n",
    "k = 122\n",
    "index = k - 100\n",
    "myset[index] = k\n",
    "myset"
   ]
  },
  {
   "cell_type": "markdown",
   "id": "psychological-turkey",
   "metadata": {},
   "source": [
    "Um zu testen ob sich ein gegebenes Element in der Menge befindet reicht es \n",
    "\n",
    "1. seinen Index zu berechnen und\n",
    "2. zu prüfen ob es an dieser Stelle in der Liste ist."
   ]
  },
  {
   "cell_type": "code",
   "execution_count": 19,
   "id": "gross-sellers",
   "metadata": {},
   "outputs": [
    {
     "name": "stdout",
     "output_type": "stream",
     "text": [
      "123 in myset?: False\n",
      "122 in myset?: True\n"
     ]
    }
   ],
   "source": [
    "k1 = 123\n",
    "index1 = k1 - 100\n",
    "\n",
    "k2 = 122\n",
    "index2 = k2 - 100\n",
    "\n",
    "print(f'{k1} in myset?: {myset[index1] == k1}')\n",
    "print(f'{k2} in myset?: {myset[index2] == k2}')"
   ]
  },
  {
   "cell_type": "markdown",
   "id": "successful-campus",
   "metadata": {},
   "source": [
    "Sowohl das Hinzufügen als auch das Testen sind immens schnelle Operationen.\n",
    "Wir müssen nur eine arithmetische Berechnung durchführen und sind bereits am Ziel.\n",
    "\n",
    "Auf diesem Prinzip basieren Mengen ``set`` bzw. ``frozenset`` (und auch Wörterbücher ``dict``) in ``Python`` und anderen Programmiersprachen.\n",
    "Der Index wird abhängig vom Element selbst berechnet.\n",
    "Eine Menge verwendet bzw. verbraucht mehr Speicher als Ihre Elemente benötigen -- anders als Listen enthält sie 'Lücken'.\n",
    "Dadurch sind die Elemente im Speicher breit verteilt.\n",
    "\n",
    "Für ganze Zahlen in einem bestimmten Bereich ist das noch einfach, da die Funktion für die Berechnung des Index simpel ist.\n",
    "Für beliebige Objekte wird dies deutlich schwieriger.\n",
    "Wir diskutieren dies im Kapitel [Namensregister](sec-name-register) im Detail."
   ]
  }
 ],
 "metadata": {
  "jupytext": {
   "formats": "md:myst",
   "text_representation": {
    "extension": ".md",
    "format_name": "myst"
   }
  },
  "kernelspec": {
   "display_name": "Python 3",
   "language": "python",
   "name": "python3"
  },
  "language_info": {
   "codemirror_mode": {
    "name": "ipython",
    "version": 3
   },
   "file_extension": ".py",
   "mimetype": "text/x-python",
   "name": "python",
   "nbconvert_exporter": "python",
   "pygments_lexer": "ipython3",
   "version": "3.9.8"
  },
  "source_map": [
   11,
   46,
   49,
   53,
   58,
   63,
   66,
   75,
   81,
   85,
   89,
   93,
   97,
   107,
   113,
   117,
   123,
   127,
   133,
   138,
   144,
   161,
   166,
   192,
   205,
   215,
   227,
   231,
   241,
   257,
   260,
   264,
   272,
   292,
   295,
   302,
   308,
   315,
   324
  ]
 },
 "nbformat": 4,
 "nbformat_minor": 5
}