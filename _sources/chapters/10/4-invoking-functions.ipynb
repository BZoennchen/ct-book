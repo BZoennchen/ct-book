{
 "cells": [
  {
   "cell_type": "markdown",
   "id": "nervous-boost",
   "metadata": {},
   "source": [
    "# Funktionsaufrufe\n",
    "\n",
    "Wie wir eigene Funktionen definieren werden wir uns noch genauer ansehen.\n",
    "Vorerst begnügen wir uns mit dem *Aufrufen* von bereits existierenden *Funktionen*.\n",
    "\n",
    "Vorab sei betont, dass eine *mathematische Funktion* sich von einer ``Python``-Funktion unterscheidet.\n",
    "Wollen wir eine bestimmte Abfolge von [Ausdrücken](sec-expressions) wieder und wieder aufrufen, so können wir diese Ausdrücke in einer Funktion *kapseln*.\n",
    "Diese Funktion erfüllt einen bestimmten Zweck.\n",
    "Benutzten wir bereits existierende Funktionen, so kennen wir (jedenfalls sollte das so sein) **Wie** aber nicht unbedingt das **Wie**.\n",
    "\n",
    "Wir rufen eine Funktion mit dem Namen ``name`` auf indem wir an den Namen Runde Klammern anfügen: ``name()``.\n",
    "Funktionen erwarten eine bestimmte Anzahl an *Argumenten*, wobei es manchmal auch *optionale Argumente* geben kann.\n",
    "Argumente sind Werte, welche die Funktion erwartet und die wir übergeben müssen.\n",
    "Diese Argumente werden von der Funktion verarbeitet.\n",
    "\n",
    "Zum Beispiel bietet ``Python`` die vordefinierte Funktion ``abs`` an, welche ein Argument erwartet, eine Zahl, erwartet."
   ]
  },
  {
   "cell_type": "code",
   "execution_count": 1,
   "id": "occasional-roommate",
   "metadata": {},
   "outputs": [
    {
     "data": {
      "text/plain": [
       "23"
      ]
     },
     "execution_count": 1,
     "metadata": {},
     "output_type": "execute_result"
    }
   ],
   "source": [
    "abs(-23)"
   ]
  },
  {
   "cell_type": "markdown",
   "id": "selected-dream",
   "metadata": {},
   "source": [
    "In diesem Fall realisiert diese ``Python``-Funktion eine *mathematische Funktion*, nämlich den Betrag $abs(x) = |x|$.\n",
    "Weitere Beispiele sind die ``Python``-Funktionen ``round`` und ``max``."
   ]
  },
  {
   "cell_type": "code",
   "execution_count": 2,
   "id": "abroad-microwave",
   "metadata": {},
   "outputs": [
    {
     "data": {
      "text/plain": [
       "4"
      ]
     },
     "execution_count": 2,
     "metadata": {},
     "output_type": "execute_result"
    }
   ],
   "source": [
    "round(5 - 1.3)"
   ]
  },
  {
   "cell_type": "code",
   "execution_count": 3,
   "id": "vertical-arbor",
   "metadata": {},
   "outputs": [
    {
     "data": {
      "text/plain": [
       "9"
      ]
     },
     "execution_count": 3,
     "metadata": {},
     "output_type": "execute_result"
    }
   ],
   "source": [
    "max(2, 3, 5 - 3, 3 * 3)"
   ]
  },
  {
   "cell_type": "code",
   "execution_count": 4,
   "id": "sustained-dressing",
   "metadata": {},
   "outputs": [
    {
     "data": {
      "text/plain": [
       "2"
      ]
     },
     "execution_count": 4,
     "metadata": {},
     "output_type": "execute_result"
    }
   ],
   "source": [
    "max(2, -10)"
   ]
  },
  {
   "cell_type": "markdown",
   "id": "elect-state",
   "metadata": {},
   "source": [
    "``round`` erwartet ebenfalls eine Zahl als Argument.\n",
    "Die Funktion berechnet aus dem Argument die am nächsten liegende ganze Zahl und liefert diese zurück.\n",
    "In anderen Worten, ``round`` rundet zur nächst liegenden ganzen Zahl. \n",
    "``max`` erwartet zwei Zahlen oder als Argumente und liefert die größte Zahl zurück.\n",
    "Bemerkenswert beim obigen *Funktionsaufruf* ist, dass die *Ausdrücke* ``5-3`` und ``3 * 3`` ausgewertet werden bevor die Funktion aufgerufen wird.\n",
    "Das heißt die Funktion wird mit den Argumenten ``2, 3, 2`` und ``9`` aufgerufen.\n",
    "Wir sehen auch, dass ``max`` mit einer unterschiedlichen Anzahl an Argumenten umgehen kann.\n",
    "\n",
    "## Module\n",
    "\n",
    "Es gibt nur wenige vordefinierte Funktionen, die keine Argumente besitzen.\n",
    "Ein Beispiel hierfür ist die Funktion ``random()`` des *Moduls* ``random``.\n",
    "Ein ``Python``-Modul ist eine Ansammlung von Funktionalität, es ist eine Zusammenstellung von Funktionen, welche zusammengehören.\n",
    "Im Modul ``random`` befinden sich zum Beispiel viele Funktionen bei denen es um den Zufall und Wahrscheinlichkeiten geht.\n",
    "\n",
    "Um ein Modul nutzten zu können muss es, d.h. dessen Quellcode, auf Ihrem System installiert sein.\n",
    "Manche Module wie beispielsweise ``random`` gehören zur Standardbibliothek von ``Python`` und werden installiert sobald ``Python`` installiert wird.\n",
    "Ist das Modul installiert, müssen wir es in unseren Code *importieren*.\n",
    "Wir machen es unserem Code bekannt, sodass wir es auch nutzten können.\n",
    "Dies geschieht mit dem *Schlüsselwort* ``import``."
   ]
  },
  {
   "cell_type": "code",
   "execution_count": 5,
   "id": "ideal-sunrise",
   "metadata": {},
   "outputs": [
    {
     "data": {
      "text/plain": [
       "0.42818002982015935"
      ]
     },
     "execution_count": 5,
     "metadata": {},
     "output_type": "execute_result"
    }
   ],
   "source": [
    "import random\n",
    "random.random()"
   ]
  },
  {
   "cell_type": "markdown",
   "id": "beneficial-departure",
   "metadata": {},
   "source": [
    "Mit ``import random`` machen wir das Modul ``random`` unter dem Namen ``random`` bekannt.\n",
    "In der zweiten Zeile des Codes rufen wir die Funktion ``random`` des Moduls ``random`` auf.\n",
    "Diese kann ohne Argumente aufgerufen werden.\n",
    "\n",
    "Was macht diese Funktion?\n",
    "Wenn Sie die obige Zelle mehrfach ausführen werden Sie feststellen, dass sie uns eine zufällige Fließkommazahl zwischen 0 und 1 zurückliefert.\n",
    "\n",
    "Funktionen, Module und auch Funktionen von Modulen enthalten oft eine Dokumentation in Form von Kommentaren.\n",
    "Wir können uns deshalb Informationen zu dem **Was** (und manchmal auch zu dem **Wie**) einer Funktion holen.\n",
    "Hierzu schreiben wir den Funktionsnamen ohne die runden Klammern und fügen ein ``?`` an.\n",
    "Oder Sie verwenden die Hilfefunktion ``help`` und übergeben die Funktion: ``help(random.random)``."
   ]
  },
  {
   "cell_type": "code",
   "execution_count": 6,
   "id": "material-showcase",
   "metadata": {},
   "outputs": [
    {
     "name": "stdout",
     "output_type": "stream",
     "text": [
      "Help on built-in function random:\n",
      "\n",
      "random() method of random.Random instance\n",
      "    random() -> x in the interval [0, 1).\n",
      "\n"
     ]
    }
   ],
   "source": [
    "import random\n",
    "help(random.random)"
   ]
  },
  {
   "cell_type": "markdown",
   "id": "listed-format",
   "metadata": {},
   "source": [
    "Die Ausgabe lautet:\n",
    "\n",
    "```\n",
    "Help on built-in function random:\n",
    "\n",
    "random() method of random.Random instance\n",
    "    random() -> x in the interval [0, 1).\n",
    "```\n",
    "\n",
    "``random() -> x`` bedeutet, dass ``random()`` den Wert ``x`` zurückgibt, wobei ``x`` im Intervall $[0;1)$ liegt.\n",
    "In anderen Worten: Die Funktion ``random()`` liefert einen Wert zwischen 0 und 1 zurück, wobei die 1 ausgeschlossen ist.\n",
    "\n",
    "```{exercise} Hilfe\n",
    ":label: help-exercise\n",
    "Nutzten Sie die eingebaute Hilfe und betrachten Sie die Ausgabe von ``help(max)`` bzw. ``max?``.\n",
    "Beschreiben Sie die möglichen Argumente der Funktion ``max`` und das **Was** jener Funktion.\n",
    "Sie müssen nicht jedes Wort verstehen aber ziehen Sie ihre Schlüsse.\n",
    "```\n",
    "\n",
    "```{solution} help-exercise\n",
    ":label: help-solution\n",
    ":class: dropdown\n",
    "\n",
    "Neben der optionalen Argumente erwartet ``max`` entweder ein iterierbares Argument oder aber mindestens zwei Argumente.\n",
    "Im ersten Fall gibt ``max`` das größte Element des iterierbaren Arguments zurück.\n",
    "D.h. ein iterierbares Argument ist wohl so etwas wie eine Sequenz, Liste, Menge an Elementen.\n",
    "\n",
    "```\n",
    "\n",
    "## Auswertungsreihenfolge\n",
    "\n",
    "Ein *Funktionsaufruf* ist ebenfalls ein *Ausdruck* und wie beim Rechnen werden Ausdrücke von innen nach außen *ausgewertet*.\n",
    "Blicken Sie auf folgenden Ausdruck:"
   ]
  },
  {
   "cell_type": "code",
   "execution_count": 7,
   "id": "northern-champion",
   "metadata": {},
   "outputs": [
    {
     "data": {
      "text/plain": [
       "7"
      ]
     },
     "execution_count": 7,
     "metadata": {},
     "output_type": "execute_result"
    }
   ],
   "source": [
    "round(max(abs(-abs(-3)), 3, 5 + 3) - 0.6)"
   ]
  },
  {
   "cell_type": "markdown",
   "id": "loose-cooling",
   "metadata": {},
   "source": [
    "Dieser Ausdruck besteht aus mehreren Ausdrücken.\n",
    "Die Auswertung des gesamten Ausdrucks erfolgt von innen nach außen.\n",
    "Um ``round`` auszuwerten muss zu aller erst der Ausdruck ``max(abs(-abs(-3)), 3, 5 + 3) - 0.6`` ausgewertet werden.\n",
    "Deshalb wird ``max(abs(-abs(-3)), 3, 5 + 3)`` ausgewertet.\n",
    "Um jedoch ``max`` auszuwerten werden alle Argumente berechnet.\n",
    "Es beginnt mit dem ersten Argument: ``abs(-abs(-3))`` wird zu ``abs(-3)`` wird zu ``3`` und wir erhalten ``max(3, 3, 5 + 3)``.\n",
    "Das zweite Argument ist bereits ausgewertet und aus ``5+3`` wird ``8``.\n",
    "Schlussendlich wird ``max(3, 3, 8)`` zu ``8``.\n",
    "Was bleibt ist ``round(8 - 0.6)`` was zu ``round(7.4)`` ausgewertet wird.\n",
    "Dieser Ausdruck ergibt ``7``.\n",
    "\n",
    "Wir können jeder [Variablen](sec-variables) auch einen Ausdruck zuweisen.\n",
    "Dieser wird ausgewertet und das Ergebnis wird der Variablen zugewiesen."
   ]
  },
  {
   "cell_type": "code",
   "execution_count": 8,
   "id": "dutch-indonesia",
   "metadata": {},
   "outputs": [
    {
     "data": {
      "text/plain": [
       "7"
      ]
     },
     "execution_count": 8,
     "metadata": {},
     "output_type": "execute_result"
    }
   ],
   "source": [
    "x = round(max(abs(-abs(-3)), 3, 5 + 3) - 0.6)\n",
    "x"
   ]
  },
  {
   "cell_type": "markdown",
   "id": "internal-literacy",
   "metadata": {},
   "source": [
    "Auch können wir Funktionsausdrücke mit anderen Ausdrucken wie etwa [arithmetische Operatoren](sec-python-operator-arithmetic) kombinieren.\n",
    "Durch die folgende Abfolge von Ausdrücken berechnen wir den prozentualen Anteil der Einwohner in Deutschland, die in München wohnen auf zwei Nachkommastellen gerundet:"
   ]
  },
  {
   "cell_type": "code",
   "execution_count": 9,
   "id": "european-romania",
   "metadata": {},
   "outputs": [
    {
     "data": {
      "text/plain": [
       "1.87"
      ]
     },
     "execution_count": 9,
     "metadata": {},
     "output_type": "execute_result"
    }
   ],
   "source": [
    "population_munich = 1_553_373\n",
    "population_germany = 83_121_363\n",
    "persentage = round(10000 * 1_553_373 / 83_121_363) / 100\n",
    "persentage"
   ]
  },
  {
   "cell_type": "markdown",
   "id": "weekly-couple",
   "metadata": {},
   "source": [
    "## Das Kennenlernen\n",
    "\n",
    "Programmieren beginnt oft mit der Dokumentation von Modulen und Bibliotheken.\n",
    "Bevor wir loslegen müssen wir erst in Erfahrung bringen **was** überhaupt möglich ist.\n",
    "Welche vordefinierten Funktionen und welche Module gibt es bzw. welche dieser Module könnten für meine Zwecke nützlich sein.\n",
    "\n",
    "Selbst nach Jahren an Programmierkenntnissen hört dieser Lernprozess nie auf.\n",
    "Ständig werden neue nützliche Module programmiert und auch Sie werden noch irgendwann Ihre eigenen Module implementieren und nutzten.\n",
    "Einer der wichtigsten Fähigkeiten ist es, Dokumentationen zu finden und richtig zu lesen.\n",
    "\n",
    "Mit der Erfahrung funktioniert auch das immer besser.\n",
    "Zum Beispiel würden erfahrene Programmierer*innen richtigerweise vermuten, dass das Modul ``random`` auch eine Funktion bieten wird, welche eine zufällige natürliche Zahl zurückliefert.\n",
    "Durchforsten wir das Internet nach diesem Modul so stoßen wir möglicherweise auf [diese Seite](https://docs.python.org/3/library/random.html).\n",
    "Dort finden wir eine Funktion ``random.randint``.\n",
    "\n",
    "```{exercise} Dokumentation\n",
    ":label: documentation-exercise\n",
    "Finden Sie die Dokumentation der Funktion ``random.shuffle`` und beschreiben Sie anhand der Dokumentation das **Was** dieser Funktion.\n",
    "```\n",
    "\n",
    "```{solution} documentation-exercise\n",
    ":label: documentation-solution\n",
    ":class: dropdown\n",
    "\n",
    "Diese Funktion mischt eine gegebene Sequenz.\n",
    "Die übergebene Sequenz ``x`` wird dadurch verändert (durchgemischt).\n",
    "\n",
    "```"
   ]
  }
 ],
 "metadata": {
  "jupytext": {
   "formats": "md:myst",
   "text_representation": {
    "extension": ".md",
    "format_name": "myst"
   }
  },
  "kernelspec": {
   "display_name": "Python 3",
   "language": "python",
   "name": "python3"
  },
  "language_info": {
   "codemirror_mode": {
    "name": "ipython",
    "version": 3
   },
   "file_extension": ".py",
   "mimetype": "text/x-python",
   "name": "python",
   "nbconvert_exporter": "python",
   "pygments_lexer": "ipython3",
   "version": "3.9.6"
  },
  "source_map": [
   11,
   30,
   32,
   37,
   41,
   45,
   47,
   70,
   73,
   87,
   90,
   126,
   128,
   144,
   147,
   152,
   157
  ]
 },
 "nbformat": 4,
 "nbformat_minor": 5
}