{
 "cells": [
  {
   "cell_type": "markdown",
   "id": "viral-planet",
   "metadata": {},
   "source": [
    "(sec-expressions)=\n",
    "# Ausdrücke\n",
    "\n",
    "Programmiersprachen sind viel einfacher aufgebaut als die menschliche Sprache.\n",
    "Entwickler der Sprachen versuchen ihre [Syntax](def-syntax) so unmissverständlich, elegant, kurz und ausdrucksstark wie möglich zu gestalten.\n",
    "In der Vergangenheit gelang das nicht immer und über die Jahre haben wir viel dazu gelernt.\n",
    "In diesem Kurs verwenden wir ``Python`` insbesondere deshalb weil es eine der leserlichsten und zugleich mächtigsten Sprachen unserer Zeit ist.\n",
    "\n",
    "Jedes Programm, bzw. jeder Algorithmus besteht aus vielen *Ausdrücken*.\n",
    "Ein *Ausdruck* beschreibt wie Daten (die Eingabe) verarbeitet werden sollen.\n",
    "Durch eine Abfolge von *Ausdruck* werden Daten immer und immer weiter verarbeitet.\n",
    "\n",
    "Die Multiplikation ``3 * 5`` ist beispielsweise ein Ausdruck der zwei Dezimalzahlen multipliziert.\n",
    "Der *Ausdruck* besteht aus dem Symbol ``*`` und zwei nummerischen *Ausdrücken*.\n",
    "Die Multiplikation wird durch den Computer, genauer die [CPU](def-cpu) berechnet.\n",
    "``3 * 5`` ergibt ``15``."
   ]
  },
  {
   "cell_type": "code",
   "execution_count": 1,
   "id": "polish-century",
   "metadata": {},
   "outputs": [
    {
     "data": {
      "text/plain": [
       "15"
      ]
     },
     "execution_count": 1,
     "metadata": {},
     "output_type": "execute_result"
    }
   ],
   "source": [
    "3 * 5"
   ]
  },
  {
   "cell_type": "markdown",
   "id": "baking-neighborhood",
   "metadata": {},
   "source": [
    "Die [Syntax](def-syntax) einer Programmiersprache ist strikt.\n",
    "Sie wird durch eine sog. *Grammatik* definiert.\n",
    "Zum Beispiel ist folgender *Ausdruck* fehlerhaft, da er der nicht durch die *Grammatik* von ``Python`` definiert ist."
   ]
  },
  {
   "cell_type": "code",
   "execution_count": 2,
   "id": "combined-willow",
   "metadata": {
    "tags": [
     "raises-exception"
    ]
   },
   "outputs": [
    {
     "ename": "SyntaxError",
     "evalue": "invalid syntax (<ipython-input-2-a03b9e7879f4>, line 1)",
     "output_type": "error",
     "traceback": [
      "\u001b[0;36m  File \u001b[0;32m\"<ipython-input-2-a03b9e7879f4>\"\u001b[0;36m, line \u001b[0;32m1\u001b[0m\n\u001b[0;31m    3 * * 5\u001b[0m\n\u001b[0m        ^\u001b[0m\n\u001b[0;31mSyntaxError\u001b[0m\u001b[0;31m:\u001b[0m invalid syntax\n"
     ]
    }
   ],
   "source": [
    "3 * * 5"
   ]
  },
  {
   "cell_type": "markdown",
   "id": "automatic-falls",
   "metadata": {},
   "source": [
    "Der Computer weiß mit dieser Folge an Symbolen nichts anzufangen.\n",
    "Wir werden vom [Interpreter](def-interpreter) sachlich auf die mögliche Fehlerursache hingewiesen.\n",
    "Bereits kleiner Änderungen an der [Syntax](def-syntax) können zu einer neuen Bedeutung ([Semantik](def-semantik)) führen.\n",
    "In ``Python`` ist der *Ausdruck*"
   ]
  },
  {
   "cell_type": "code",
   "execution_count": 3,
   "id": "intelligent-greeting",
   "metadata": {},
   "outputs": [
    {
     "data": {
      "text/plain": [
       "243"
      ]
     },
     "execution_count": 3,
     "metadata": {},
     "output_type": "execute_result"
    }
   ],
   "source": [
    "3 ** 5"
   ]
  },
  {
   "cell_type": "markdown",
   "id": "olympic-bottle",
   "metadata": {},
   "source": [
    "syntaktisch korrekt.\n",
    "Seine [Semantik](def-semantik) ist $3^5$ was zu $243$ *ausgewertet* wird.\n",
    "Dies ist eine Besonderheit, denn in kaum einer anderen Sprache gibt es für die Potenz ein derart kurze Schreibweise.\n",
    "\n",
    "(sec-python-operator-arithmetic)=\n",
    "## Arithmetische Operatoren\n",
    "\n",
    "Die Multiplikation ``*`` wie auch die Potenz ``**`` bezeichnen wir als *arithmetische Operatoren*, da sie numerische Werte (Zahlen) verarbeiten.\n",
    "Es gibt jedoch noch eine ganze Reihe von weiteren *arithmetische Operatoren*:\n",
    "\n",
    "| Operator |     Beschreibung     |  Beispiel  |                     Bedeutung                      |\n",
    "| :------: | :------------------: | :--------: | :------------------------------------------------: |\n",
    "|   `+`    |       Addition       | ``3 + 4``  |                      $3 + 4$                       |\n",
    "|   `-`    |     Subtraktion      | ``3 - 4``  |                      $3 - 4$                       |\n",
    "|   `*`    |    Multiplikation    | ``3 * 4``  |                    $3 \\cdot 4$                     |\n",
    "|   `/`    |       Division       | ``3 / 4``  |                      $3 / 4$                       |\n",
    "|   `**`   |     Potenzierung     |  ``3**4``  |                       $3^4$                        |\n",
    "|   `//`   | ganzzahlige Division | ``3 // 4`` |         $\\left \\lfloor{3/4}\\right \\rfloor$         |\n",
    "|   `%`    |        Modulo        | ``10 % 4`` | $10 - (4 \\cdot \\left \\lfloor{10/4}\\right \\rfloor)$ |\n",
    "\n",
    "Jeder dieser Operatoren ``op`` erwartet zwei Zahlen, eine links und eine rechts vom jeweiligen Operator.\n",
    "Die Bedeutung der Modulo-Operation sieht kompliziert aus doch bedeutet dies schlicht, dass der Rest ``10 % 4`` der ganzzahlige Rest der [Restwertdivision](def-euclid-division) ist.\n",
    "Die ganzzahlige Division rundet das Ergebnis der Division auf die nächst kleinere ganze Zahl (Integer).\n",
    "Beachten Sie"
   ]
  },
  {
   "cell_type": "code",
   "execution_count": 4,
   "id": "focal-centre",
   "metadata": {},
   "outputs": [
    {
     "data": {
      "text/plain": [
       "-1"
      ]
     },
     "execution_count": 4,
     "metadata": {},
     "output_type": "execute_result"
    }
   ],
   "source": [
    "-2 // 3"
   ]
  },
  {
   "cell_type": "markdown",
   "id": "magnetic-taiwan",
   "metadata": {},
   "source": [
    "ergibt ``-1`` und"
   ]
  },
  {
   "cell_type": "code",
   "execution_count": 5,
   "id": "analyzed-passing",
   "metadata": {},
   "outputs": [
    {
     "data": {
      "text/plain": [
       "0"
      ]
     },
     "execution_count": 5,
     "metadata": {},
     "output_type": "execute_result"
    }
   ],
   "source": [
    "2 // 3"
   ]
  },
  {
   "cell_type": "markdown",
   "id": "scenic-cleveland",
   "metadata": {},
   "source": [
    "ergibt ``0``.\n",
    "*Arithmetische Operationen* werden von der *arithmetischen Einheit* der [CPU](def-cpu) ausgewertet.\n",
    "Mit ihnen können wir numerische Gleichungen lösen aber auch Indices manipulieren.\n",
    "\n",
    "(sec-python-operator-compare)=\n",
    "## Vergleichsoperatoren\n",
    "\n",
    "Objekte können über Vergleichsoperatoren miteinander verglichen werden. Das Ergebnis ist ein Boolscher Wert.\n",
    "\n",
    "| Operator  | Beschreibung                      |\n",
    "| :-------: | :-------------------------------- |\n",
    "| `x == y ` | ist `x` gleich `y`?               |\n",
    "| `x != y`  | ist `x` ungleich `y`?             |\n",
    "|  `x > y`  | ist `x` größer als `y`?           |\n",
    "| `x >= y`  | ist `x` größer oder gleich `y`?   |\n",
    "|  `x < y`  | ist `x` kleiner `y`?              |\n",
    "| `x <= y`  | ist `x` kleiner gleich `y`?       |\n",
    "| `x is y`  | ist `x` das selbe Objekt wie `y`? |\n",
    "\n",
    "Erneut ist ``Python`` hier ein wenig speziell indem es die mathematische Schreibweise $0 < x < 5$ anstatt $0 < x \\ \\land \\ x < 5$ zulässt.\n",
    "Dies erhöht die Lesbarkeit, da wir solche Verkettungen von Vergleichsoperatoren gewohnt sind."
   ]
  },
  {
   "cell_type": "code",
   "execution_count": 6,
   "id": "satisfied-exclusive",
   "metadata": {},
   "outputs": [
    {
     "data": {
      "text/plain": [
       "True"
      ]
     },
     "execution_count": 6,
     "metadata": {},
     "output_type": "execute_result"
    }
   ],
   "source": [
    "5 < 7 < 10 # True"
   ]
  },
  {
   "cell_type": "code",
   "execution_count": 7,
   "id": "middle-calgary",
   "metadata": {},
   "outputs": [
    {
     "data": {
      "text/plain": [
       "True"
      ]
     },
     "execution_count": 7,
     "metadata": {},
     "output_type": "execute_result"
    }
   ],
   "source": [
    "5 < 7 and 7 < 10 # True"
   ]
  },
  {
   "cell_type": "code",
   "execution_count": 8,
   "id": "nutritional-peeing",
   "metadata": {},
   "outputs": [
    {
     "data": {
      "text/plain": [
       "False"
      ]
     },
     "execution_count": 8,
     "metadata": {},
     "output_type": "execute_result"
    }
   ],
   "source": [
    "5 < 7 < 5 # False"
   ]
  },
  {
   "cell_type": "markdown",
   "id": "institutional-polish",
   "metadata": {},
   "source": [
    "*Vergleichsoperatoren* können auch auf anderen Datentypen als numerische Werte (ganze Zahlen ``int``, Fließkommazahlen ``float``) definiert sein.\n",
    "So können wir in ``Python`` auch Zeichenketten ``str`` mit den Vergleichsoperatoren lexikographisch vergleichen:"
   ]
  },
  {
   "cell_type": "code",
   "execution_count": 9,
   "id": "communist-prayer",
   "metadata": {},
   "outputs": [
    {
     "data": {
      "text/plain": [
       "True"
      ]
     },
     "execution_count": 9,
     "metadata": {},
     "output_type": "execute_result"
    }
   ],
   "source": [
    "'Anna' < 'Emma' # True"
   ]
  },
  {
   "cell_type": "markdown",
   "id": "impressive-hello",
   "metadata": {},
   "source": [
    "## Logische Operatoren\n",
    "\n",
    "Der obige *Ausdruck* besteht aus dem *Ausdruck* ``and``.\n",
    "Dieser erwartet auf der linken und rechte Seite jeweils einen Wahrheitswert (*boolschen Ausdruck*).\n",
    "[Vergleichsoperatoren](sec-python-operator-compare) liefern sind *boolsche Ausdrücke*."
   ]
  },
  {
   "cell_type": "code",
   "execution_count": 10,
   "id": "accompanied-representative",
   "metadata": {},
   "outputs": [
    {
     "data": {
      "text/plain": [
       "False"
      ]
     },
     "execution_count": 10,
     "metadata": {},
     "output_type": "execute_result"
    }
   ],
   "source": [
    "x = True\n",
    "y = False\n",
    "\n",
    "x and y"
   ]
  },
  {
   "cell_type": "markdown",
   "id": "desirable-wayne",
   "metadata": {},
   "source": [
    "ergibt genau dann ``True`` wenn die Auswertung von ``x`` und ``y`` jeweils ``True`` ergeben.\n",
    "Wir haben diese Operatoren bereits im Abschnitt [Manipulation](sec-manipulation) besprochen.\n",
    "Lassen Sie sie uns nochmals zusammenfassen:\n",
    "\n",
    "| Operator  | Beschreibung                                               |\n",
    "| :-------: | :--------------------------------------------------------- |\n",
    "|  `not x`  | ist `True` genau dann wenn `x == False`.                   |\n",
    "| `x and y` | ist `True` genau dann wenn `x == True` und `y == True`.    |\n",
    "| `x or y`  | ist `True` genau dann wenn ``x == True`` oder `y == True`. |\n",
    "\n",
    "(sec-bit-operations)=\n",
    "## Bitoperatoren\n",
    "\n",
    "Der Vollständigkeit listen wir auch noch die *Bitoperatoren* auf.\n",
    "Diese sind dazu vorgesehen um den Wert in [Binärdarstellung](sec-binary-numbers) zu manipulieren.\n",
    "Erinnern Sie sich an den Abschnitt [Repräsentation](sec-representation).\n",
    "Dort haben wir beschrieben wie schlussendlich jeder Wert, egal ob Zahl, Zeichen, Bild, Ton als Binärcode im Speicher liegt.\n",
    "*Bitoperatoren* nehmen diesen Binärwert und verarbeiten bzw. kombinieren ihn genau wie die Addition zwei Zahlen in der Dezimalschreibweise verarbeitet.\n",
    "\n",
    "Dabei wird jedes Bit des einen Werts mit dem [Bit](def-bit) des anderen Werts kombiniert.\n",
    "Zum Beispiel ``5 & 4`` führt eine führ jedes Bit die ``and`` Operation aus.\n",
    "Das nennen wir Verundung."
   ]
  },
  {
   "cell_type": "code",
   "execution_count": 11,
   "id": "combined-administrator",
   "metadata": {},
   "outputs": [
    {
     "data": {
      "text/plain": [
       "4"
      ]
     },
     "execution_count": 11,
     "metadata": {},
     "output_type": "execute_result"
    }
   ],
   "source": [
    "5 & 4"
   ]
  },
  {
   "cell_type": "markdown",
   "id": "promising-sunday",
   "metadata": {},
   "source": [
    "entspricht eine Verundung der Binärzahlen $101_2$ mit $100_2$ durch und ergibt demnach $100_2$, was wiederum gleich $4_{10}$ ist.\n",
    "\n",
    "| Operator | Beschreibung                                       | Beispiel | Ergebnis |\n",
    "| :------: | :------------------------------------------------- | :------- | :------- |\n",
    "| `x & y`  | Verundung von `x` mit `y`                          | `10 & 3` | `2`      |\n",
    "| `x | y`  | Veroderung von `x` mit `y`                         | `10 | 3` | `11`     |\n",
    "| `x ^ y`  | exklusive Veroderung von `x`  mit `y`              | `10 ^ 3` | `9`      |\n",
    "| `x << y` | Bitverschiebung von `x` um `y` Stellen nach links  | `8 << 3` | `64`     |\n",
    "| `x >> y` | Bitverschiebung von `x` um `y` Stellen nach rechts | `8 >> 2` | `2`      |\n",
    "\n",
    "Weshalb ist ``10 ^ 3`` gleich ``9``?\n",
    "Nun $10_{10} = 01010_2$ und $3_{10} = 00011_2$.\n",
    "Das exklusive oder bedeutet gesprochen **entweder oder**, d.h. ein Bit wird zur 1 genau dann wenn das Bit der einen Zahl gleich 1 und das Bit der anderen Zahl gleich 0 ist oder genau anders herum.\n",
    "Dies ergibt $01001_2 = 9_{10}$.\n",
    "\n",
    "Für ganze Zahlen entspricht die Bitverschiebung nach rechts um ein Bit der Multiplikation mit 2.\n",
    "Die Verschiebung nach rechts um ein Bit hingegen der [ganzzahligen Division](sec-python-operator-arithmetic) durch 2.\n",
    "Deshalb ist `8 << 3` gleich $8 \\cdot 2 \\cdot 2 \\cdot 2 = 8 \\cdot 2^3 = 64$ und ``8 >> 2`` $\\left \\lfloor{8 \\cdot 2^{-2}}\\right \\rfloor = 2$."
   ]
  }
 ],
 "metadata": {
  "jupytext": {
   "formats": "md:myst",
   "text_representation": {
    "extension": ".md",
    "format_name": "myst"
   }
  },
  "kernelspec": {
   "display_name": "Python 3",
   "language": "python",
   "name": "python3"
  },
  "language_info": {
   "codemirror_mode": {
    "name": "ipython",
    "version": 3
   },
   "file_extension": ".py",
   "mimetype": "text/x-python",
   "name": "python",
   "nbconvert_exporter": "python",
   "pygments_lexer": "ipython3",
   "version": "3.9.6"
  },
  "source_map": [
   11,
   30,
   32,
   38,
   43,
   50,
   52,
   79,
   81,
   85,
   87,
   111,
   115,
   119,
   121,
   126,
   128,
   136,
   141,
   166,
   168
  ]
 },
 "nbformat": 4,
 "nbformat_minor": 5
}