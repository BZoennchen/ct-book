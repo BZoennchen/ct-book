{
 "cells": [
  {
   "cell_type": "markdown",
   "id": "former-russell",
   "metadata": {},
   "source": [
    "(sec-manipulation)=\n",
    "# Manipulation\n",
    "\n",
    "Eingabegeräte transformieren die Information, wie etwa einen Tastendruck oder die Aufnahmen einer Videokamera, in elektrische Signale, d.h. **Strom aus** und **Strom an** um.\n",
    "Diese Signale gelangen über mikroskopisch kleine Leitungen in sogenannte Schaltkreise, welche sie weiterverarbeiten.\n",
    "Wie geht das von statten?\n",
    "\n",
    "*Logikgatter* oder kurz *Gatter* sind Anordnungen von elektrischen Schaltungen, welche Boolsche Operationen durchführen.\n",
    "\n",
    "```{admonition} Gatter und Bauteile\n",
    "Gatter beschreiben die Funktionsweise.\n",
    "Elektrische Schaltkreise und Transistoren sind eine mögliche Realisierung.\n",
    "Gatter sind **konzeptionelle Bauteile** wohingegen elektrische Schaltkreise, Transistoren, Leitungen und Flip-Flops (später mehr dazu) **physikalische Bauteile** sind.\n",
    "```\n",
    "\n",
    "Ein oder zwei Signale gelangen in ein Gatter und, je nachdem um welches Gatter es sich handelt, wird ein bestimmtes Ausgabesignal ausgegeben.\n",
    "Das Ausgabesignal hängt von den ein oder zwei Eingabesignalen des Gatters und dessen Typ ab.\n",
    "\n",
    "## Basis Gatter\n",
    "\n",
    "Das wohl einfachste Gatter nimmt als Eingabe ein Signal und gibt die Negation davon aus.\n",
    "Aus $0$ wird $1$ und aus $1$ wird $0$.\n",
    "Wir nennen es das **Not**-Gatter."
   ]
  },
  {
   "cell_type": "code",
   "execution_count": 1,
   "id": "collectible-disaster",
   "metadata": {},
   "outputs": [
    {
     "name": "stdout",
     "output_type": "stream",
     "text": [
      "1\n",
      "0\n"
     ]
    }
   ],
   "source": [
    "def lnot(bit):\n",
    "    return int(not bit)\n",
    "    \n",
    "print(lnot(0))\n",
    "print(lnot(1))"
   ]
  },
  {
   "cell_type": "markdown",
   "id": "looking-scott",
   "metadata": {},
   "source": [
    "```{figure} ../../figs/gatter-not.png\n",
    "---\n",
    "width: 300px\n",
    "name: fig-not\n",
    "---\n",
    "Das **Not**-Gatter.\n",
    "```\n",
    "\n",
    "Ein weiteres sehr einfaches Gatter ist das sogenannte **AND**-Gatter.\n",
    "Es kombiniert zwei Signale und gibt genau dann $1$ aus wenn die beiden Eingabesignale gleich $1$ sind."
   ]
  },
  {
   "cell_type": "code",
   "execution_count": 2,
   "id": "voluntary-transmission",
   "metadata": {},
   "outputs": [
    {
     "name": "stdout",
     "output_type": "stream",
     "text": [
      "0\n",
      "0\n",
      "0\n",
      "1\n"
     ]
    }
   ],
   "source": [
    "def land(in1, in2):\n",
    "    return in1 and in2\n",
    "    \n",
    "print(land(0,0)) \n",
    "print(land(0,1))\n",
    "print(land(1,0))\n",
    "print(land(1,1))"
   ]
  },
  {
   "cell_type": "markdown",
   "id": "willing-story",
   "metadata": {},
   "source": [
    "```{figure} ../../figs/gatter-and.png\n",
    "---\n",
    "width: 340px\n",
    "name: fig-and\n",
    "---\n",
    "Das **AND**-Gatter.\n",
    "```\n",
    "\n",
    "Zu guter Letzt fehlt noch das **OR**-Gatter.\n",
    "Es kombiniert zwei Signale und gibt $1$ aus genau dann wenn eines oder beide der Eingabesignale gleich $1$ sind."
   ]
  },
  {
   "cell_type": "code",
   "execution_count": 3,
   "id": "forced-johnston",
   "metadata": {},
   "outputs": [
    {
     "name": "stdout",
     "output_type": "stream",
     "text": [
      "0\n",
      "1\n",
      "1\n",
      "1\n"
     ]
    }
   ],
   "source": [
    "def lor(in1, in2):\n",
    "    return in1 or in2\n",
    "    \n",
    "print(lor(0,0)) \n",
    "print(lor(0,1))\n",
    "print(lor(1,0))\n",
    "print(lor(1,1))"
   ]
  },
  {
   "cell_type": "markdown",
   "id": "foster-shell",
   "metadata": {},
   "source": [
    "```{figure} ../../figs/gatter-or.png\n",
    "---\n",
    "width: 340px\n",
    "name: fig-or\n",
    "---\n",
    "Das **OR**-Gatter.\n",
    "```\n",
    "\n",
    "```{exercise} OR-Gatter\n",
    ":label: or-gate-exercise\n",
    "Das Symbol für das OR-Gatter enthält das größer gleich Zeichen $\\geq$.\n",
    "Was könnte das für einen Grund haben?\n",
    "Schreiben Sie eine Python Funktion ``lor(in1, in2)`` die sich diesen Grund zunutze macht.\n",
    "\n",
    "**Tipp**: Denken Sie an die Addition.\n",
    "```\n",
    "\n",
    "````{solution} or-gate-exercise\n",
    ":label: or-gate-solution\n",
    ":class: dropdown\n",
    "Der Grund dafür ist, dass das Gatter genau dann 1 ist wenn\n",
    "\n",
    "$$x + y \\geq 1$$\n",
    "\n",
    "gilt.\n",
    "\n",
    "```python\n",
    "def lor(in1, in2):\n",
    "    return int(in1 + in2 >= 1)\n",
    "\n",
    "print(lor(0,0)) \n",
    "print(lor(0,1))\n",
    "print(lor(1,0))\n",
    "print(lor(1,1))\n",
    "```\n",
    "\n",
    "````\n",
    "\n",
    "Nun gut, diese Operationen scheinen lächerlich einfach zu sein, aber kombinieren wir mehrere Gatter können wir mehr und mehr komplexe Operationen durchführen.\n",
    "Im Endeffekt basieren alle Berechnungen des Computers auf diesen sehr primitiven Gattern/Operationen.\n",
    "Die Logikgatter implementieren die sog. *Boolsche Algebra* (siehe [Geschichte der Computer und Algorithmen](history-today)).\n",
    "\n",
    "Obwohl sehr viele kleine Operationen notwendig sind, lassen sich diese Operationen sehr schnell durchführen.\n",
    "Signale breiten sich mit annähernd Lichtgeschwindigkeit aus und so sind gigantische Mengen an primitiven Operationen in sehr kurzer Zeit durchführbar.\n",
    "Je kleiner die Chips desto kleiner ist die Distanz, welche die Signale wandern müssen und desto schneller ist der Computer.\n",
    "\n",
    "## Addierer\n",
    "\n",
    "Betrachten Sie einmal ``land`` und ``lor``.\n",
    "Welche mathematische Funktion realisieren diese einfachen Gatter?\n",
    "Nun ja, wenn wir die beiden Eingabesignale als Zahlen interpretieren dann ist ``land`` gleich dem Minimum ``min`` und ``lor`` gleich dem ``max`` der beiden Signale:"
   ]
  },
  {
   "cell_type": "code",
   "execution_count": 4,
   "id": "endangered-think",
   "metadata": {},
   "outputs": [
    {
     "name": "stdout",
     "output_type": "stream",
     "text": [
      "0\n",
      "1\n",
      "1\n",
      "1\n",
      "0\n",
      "0\n",
      "0\n",
      "1\n"
     ]
    }
   ],
   "source": [
    "def lor(in1, in2):\n",
    "    return max(in1, in2)\n",
    "\n",
    "def land(in1, in2):\n",
    "    return min(in1, in2)   \n",
    "\n",
    "print(lor(0,0)) \n",
    "print(lor(0,1))\n",
    "print(lor(1,0))\n",
    "print(lor(1,1))\n",
    "\n",
    "print(land(0,0)) \n",
    "print(land(0,1))\n",
    "print(land(1,0))\n",
    "print(land(1,1))"
   ]
  },
  {
   "cell_type": "markdown",
   "id": "sorted-departure",
   "metadata": {},
   "source": [
    "### 1-Bit-Addierer\n",
    "\n",
    "Bauen wir aus den gegebenen Gattern einen Addierer der zwei Zahlen $b_1, b_0 \\in \\{0,1\\}$ addiert.\n",
    "Der Addierer bekommt also zwei Eingabesignale gibt aber auch zwei Signale aus, denn $1 + 1$ (binär) ist gleich $10$ (binär).\n",
    "Sei $a_1a_0$ das Ergebnis der Addition.\n",
    "\n",
    "Wir erhalten $a_1 = 1$, d.h. einen *Übertrag* von $1$ genau dann wenn $b_0$ und $b_1$ gleich $1$ sind.\n",
    "Hingegen ist $a_0$ genau dann $1$ wenn entweder $b_0$ oder $b_1$ nicht aber beide gleich $1$ sind. \n",
    "Daraus ergeben sich folgende Boolsche Operationen:\n",
    "\n",
    "$$\n",
    "\\begin{split}\n",
    "    a_1 &= b_0 \\land b_1 \\\\\n",
    "    a_0 &= \\neg (b_0 \\land b_1) \\land (b_0 \\lor b_1) = \\neg a_1 \\land (b_0 \\lor b_1)\n",
    "\\end{split}\n",
    "$$\n",
    "\n",
    "Wir haben diese als ``Python`` Funktion implementiert."
   ]
  },
  {
   "cell_type": "code",
   "execution_count": 5,
   "id": "widespread-bloom",
   "metadata": {},
   "outputs": [
    {
     "data": {
      "text/plain": [
       "[1, 0]"
      ]
     },
     "execution_count": 5,
     "metadata": {},
     "output_type": "execute_result"
    }
   ],
   "source": [
    "def ladd(in1, in0):\n",
    "\n",
    "    # a1 = b0 and b1\n",
    "    out1 = land(in1,in0)\n",
    "\n",
    "    # a0 = (not a1) and (b0 or b1)\n",
    "    out0 = land(lnot(out1), lor(in0, in1))\n",
    "\n",
    "    #return a1a2\n",
    "    return [out1, out0]\n",
    "\n",
    "ladd(1,1)"
   ]
  },
  {
   "cell_type": "markdown",
   "id": "annoying-syndication",
   "metadata": {},
   "source": [
    "Als Gatter-Bauplan sieht das ganze wie folgt aus.\n",
    "\n",
    "```{figure} ../../figs/adder.png\n",
    "---\n",
    "width: 600px\n",
    "name: fig-adder\n",
    "---\n",
    "Skizze eines 1-Bit-Addierers. Links der Zusammenschluss der Gatter und rechts das Symbol für unseren Addierer.\n",
    "```\n",
    "### Erweiterter 1-Bit-Addierer\n",
    "\n",
    "Durch vier Gatter lassen sich also zwei 1-Bit Zahlen addieren.\n",
    "Was passiert wenn wir die Anzahl der Bits erhöhen?\n",
    "Immerhin ist das Addieren von 1-Bit Zahlen doch sehr einschränkend.\n",
    "Addieren wir größere Zahlen stellen wir fest, dass sich diese Operation auf den 1-Bit-Addierer zurückführen lässt.\n",
    "Wenn Sie zum Beispiel \n",
    "\n",
    "$$1101 + 1001$$\n",
    "\n",
    "berechnen, so betrachten Sie lediglich 3 Bits:\n",
    "1. das Bit an der $i$-ten Stelle der ersten Zahl\n",
    "2. das Bit an der $i$-ten Stelle der zweiten Zahl\n",
    "3. und den Übertrag der 'letzten' 1-Bit-Addition!\n",
    "\n",
    "So lautet die erste Rechnung $1+1+0 = 0$ und der Übertrag ist gleich $1$.\n",
    "Die zweite Rechnung lautet $0+0+1 = 1$ und der Übertrag ist gleich $0$.\n",
    "Die dritte lautet $0+1+0 = 1$ und der Übertrag ist gleich $0$.\n",
    "Die vierte und letzte lautet $1+1+0 = 0$ und der Übertrag ist $1$.\n",
    "Daraus ergibt sich:\n",
    "\n",
    "$$1101 + 1001 = 10110$$\n",
    "\n",
    "binär, was \n",
    "\n",
    "$$(2^3 \\cdot 1 + 2^2 \\cdot 1 + 2^1 \\cdot 0 + 2^0 \\cdot 1) + (2^3 \\cdot 1 + 2^2 \\cdot 0 + 2^1 \\cdot 0 + 2^0 \\cdot 1) = 13 + 9 = 22$$\n",
    "\n",
    "im Dezimalsystem ergibt.\n",
    "\n",
    "Wir addieren also je drei 1-Bit Zahlen!\n",
    "Unser Addierer von oben addiert jedoch nur zwei 1-Bit Zahlen.\n",
    "Lassen Sie uns also einen 1-Bit-Addierer der drei Zahlen addieren kann konstruieren.\n",
    "Dieser dient dann der Konstruktion des $n$-Bit-Addierers.\n",
    "Wir benötigen einen 1-Bit-Addierer mit drei Eingabesignale und weiterhin zwei Ausgabesignalen, jedoch interpretieren wir diesmal $a_1$ als Übertrag für den nächsten Addierer!\n",
    "\n",
    "```{admonition} Lernziel\n",
    ":class: learngoals\n",
    "\n",
    "Sie müssen folgende Beschreibung der notwendigen *Boolschen Operationen* und auch darauf folgenden ``Python``-Code nicht im Detail verstehen.\n",
    "Es geht uns darum, dass Sie ein Gefühl dafür bekommen wie durch die **Komposition** primitiver Operationen (in Form von Gattern) mächtigere Bauteile entstehen.\n",
    "\n",
    "```\n",
    "\n",
    "Lassen Sie uns $a_0$ betrachten.\n",
    "Fragen wir uns: wann wird $a_0$ gleich $1$?\n",
    "Wenn genau eines der drei Eingabesignale $1$ sind, dann ist $a_0$ auch $1$, d.h. wenn\n",
    "\n",
    "$$(b_0 \\land \\neg b_1 \\land \\neg b_2) \\lor (b_1 \\land \\neg b_2 \\land \\neg b_0) \\lor (b_2 \\land \\neg b_0 \\land \\neg b_1).$$\n",
    "\n",
    "Wenn jedoch alle drei Eingabesignale gleich $1$ sind dann ist $a_0$ ebenfalls $1$, d.h. wenn\n",
    "\n",
    "$$(b_0 \\land b_1 \\land b_3).$$\n",
    "\n",
    "Zusammengefasst ergibt sich\n",
    "\n",
    "$$a_0 = (b_0 \\land \\neg b_1 \\land \\neg b_2) \\lor (b_1 \\land \\neg b_2 \\land \\neg b_0) \\lor (b_2 \\land \\neg b_0 \\land \\neg b_1) \\lor (b_0 \\land b_1 \\land b_3).$$\n",
    "\n",
    "Das scheint sehr ausschweifend, jedoch nur weil wir mit sehr primitiven Operationen arbeiten können.\n",
    "Wie sieht es mit $a_1$ also unserem Übertrag aus?\n",
    "$a_1$ ist genau dann $1$ wenn mehr als 1-Bit der Eingabe gleich $1$ ist, d.h. \n",
    "\n",
    "$$a_1 = (b_0 \\land b_1) \\lor (b_1 \\land b_2) \\lor (b_2 \\land b_0).$$\n",
    "\n",
    "Kennen wir $a_1$ dann können wir $a_0$ etwas kürzer schreiben.\n",
    "Denn anstatt zu sagen es muss genau eines der drei Eingabesignale $1$ sein, können wir auch sagen: es gibt keinen Übertrag ($a_1 = 0$) und irgendein Eingabesignal ist $1$.\n",
    "Aus \n",
    "\n",
    "$$b_0 \\land \\neg b_1 \\land \\neg b_2) \\lor (b_1 \\land \\neg b_2 \\land \\neg b_0) \\lor (b_2 \\land \\neg b_0 \\land \\neg b_1)$$\n",
    "\n",
    "wird\n",
    "\n",
    "$$\\neg a_0 \\land (b_0 \\lor b_1 \\lor b_2)$$\n",
    "\n",
    "und wir erhalten insgesamt:\n",
    "\n",
    "$$a_0 = (b_0 \\land b_1 \\land b_3) \\lor (\\neg a_1 \\land (b_0 \\lor b_1 \\lor b_2)).$$"
   ]
  },
  {
   "cell_type": "code",
   "execution_count": 6,
   "id": "transparent-liabilities",
   "metadata": {},
   "outputs": [
    {
     "name": "stdout",
     "output_type": "stream",
     "text": [
      "[0, 0]\n",
      "[0, 1]\n",
      "[0, 1]\n",
      "[1, 0]\n",
      "[0, 1]\n",
      "[1, 0]\n",
      "[1, 0]\n",
      "[1, 1]\n"
     ]
    }
   ],
   "source": [
    "def ladd(in2, in1, in0):\n",
    "\n",
    "    # b0 and b1\n",
    "    and01 = land(in1,in0)\n",
    "    \n",
    "    # b1 and b2\n",
    "    and12 = land(in1,in2)\n",
    "\n",
    "    # b0 and b2\n",
    "    and02 = land(in0,in2)\n",
    "\n",
    "    # b0 or b1 or b2\n",
    "    or_all = lor(lor(in0, in1), in2)\n",
    "\n",
    "    # b0 and b1 and b2\n",
    "    and_all = land(and01, in2)\n",
    "\n",
    "    # (b0 and b1) or (b1 and b2) or (b0 and b2)\n",
    "    out1 = lor(lor(and01, and12), and02)\n",
    "\n",
    "    # (b0 and b1 and b2) or ((not a1) and (b0 or b1 or b2))\n",
    "    out0 = lor(and_all, land(lnot(out1), or_all))\n",
    "    return [out1, out0]\n",
    "\n",
    "print(ladd(0,0,0))\n",
    "print(ladd(0,0,1))\n",
    "print(ladd(0,1,0))\n",
    "print(ladd(0,1,1))\n",
    "print(ladd(1,0,0))\n",
    "print(ladd(1,0,1))\n",
    "print(ladd(1,1,0))\n",
    "print(ladd(1,1,1))"
   ]
  },
  {
   "cell_type": "markdown",
   "id": "urban-discount",
   "metadata": {},
   "source": [
    "### $n$-Bit-Addierer\n",
    "\n",
    "Für einen $n$-Addierer brauchen wir $n$ 1-Bit-Addierer die drei Signale aufnehmen.\n",
    "Wie oben erwähnt addiert der $i$-te 1-Bit-Addierer das $i$-te Bit der beiden Eingabezahlen und den Übertrag des $(i-1)$-ten 1-Bit-Addierers.\n",
    "Für den ersten Addierer ist der Übertrag gleich $0$.\n",
    "\n",
    "```{figure} ../../figs/4-bit-adder.png\n",
    "---\n",
    "width: 400px\n",
    "name: fig-4-bit-adder\n",
    "---\n",
    "Skizze eines 4-Bit-Addierers. Berechnet wird $a + b = c$.\n",
    "```\n",
    "\n",
    "Hier sehen Sie den ``Python`` Code eines $4$-Bit-Addierers (wir lesen die Bits von rechts nach links, d.h. das Bit an der Stelle 0 in der liste ist das höchste Bit!):"
   ]
  },
  {
   "cell_type": "code",
   "execution_count": 7,
   "id": "formed-fifteen",
   "metadata": {},
   "outputs": [
    {
     "data": {
      "text/plain": [
       "[0, 1, 1, 0, 0]"
      ]
     },
     "execution_count": 7,
     "metadata": {},
     "output_type": "execute_result"
    }
   ],
   "source": [
    "def ladd4(a, b):\n",
    "    # a[3] und b[3] sind die erste Eingabesignale (niedrigsten Bits)\n",
    "    u1, c0 = ladd(a[3], b[3], 0)\n",
    "    u2, c1 = ladd(a[2], b[2], u1)\n",
    "    u3, c2 = ladd(a[1], b[1], u2)\n",
    "    c4, c3 = ladd(a[0], b[0], u3)\n",
    "    return [c4, c3, c2, c1, c0]\n",
    "\n",
    "ladd4([0,0,1,1], [1,0,0,1])"
   ]
  },
  {
   "cell_type": "markdown",
   "id": "basic-england",
   "metadata": {},
   "source": [
    "Hängt man nun Addierer aneinander so kann man einen Multiplizierer und andere Recheneinheiten wie Fließkommaddierer und mehr bauen.\n",
    "\n",
    "```{exercise} $n$-Bit-Addierer\n",
    ":label: n-bit-adder-exercise\n",
    "Definieren Sie eine ``Python``-Funktion ``laddn(a, b)`` die unter Verwendung von ``ladd(in1, in2, in3)`` Bits variabler länge addiert.\n",
    "Gehen Sie davon aus, dass die Listen ``a`` und ``b`` die gleiche Länge haben.\n",
    "\n",
    "**Hinweis:** Studieren Sie den obigen Code, d.h. ``ladd4``. Was wiederholt sich immer wieder und lässt sich somit automatisieren?\n",
    "```\n",
    "\n",
    "````{solution} n-bit-adder-exercise\n",
    ":label: n-bit-adder-solution\n",
    ":class: dropdown\n",
    "\n",
    "```python\n",
    "def laddn(a, b):\n",
    "    u = 0\n",
    "    n = len(a)\n",
    "    result = []\n",
    "    for i in range(n):\n",
    "        u, c = ladd(a[n-1-i], b[n-1-i], u)\n",
    "        result = [c] + result \n",
    "    result = [u] + result\n",
    "    return result\n",
    "\n",
    "laddn([1,1,1,1], [1,0,0,1])\n",
    "```\n",
    "````\n",
    "\n",
    "```{admonition} Modellierung der Gatter und Addierer\n",
    ":class: hint\n",
    "Unser ``Python`` Code modelliert den Addierer als **Gatterzusammenschluss**.\n",
    "Natürlich können wir in ``Python`` deutlich einfacher zwei Zahlen addieren.\n",
    "```\n",
    "\n",
    "Es gibt auch noch andere Gatter als **AND**, **NOT** und **OR** z.B. **NAND**, **XOR** oder **NOR**, aber all diese Gatter lassen sich durch die drei fundamentalen Gatter ausdrücken.\n",
    "\n",
    "```{admonition} Anzahl, Größer und Geschwindigkeit\n",
    ":class: hint\n",
    "Gatter beschreiben die Funktionsweise, realisiert durch Transistoren, sind unvorstellbar klein und können unvorstellbar oft angesteuert werden.\n",
    "Transistoren sind dünner als wenige Nanometer (etwa 4000 mal dünner als ein Haar) und lassen sich hunderte Milliarden Mal in der Sekunde ansteuern.\n",
    "Zum Beispiel befinden sich auf dem Intel i7 4770K Prozessor ca. 1.4 Milliarden Transistoren auf einer Fläche von 177 Quadratmillimeter.\n",
    "```"
   ]
  }
 ],
 "metadata": {
  "jupytext": {
   "formats": "md:myst",
   "text_representation": {
    "extension": ".md",
    "format_name": "myst"
   }
  },
  "kernelspec": {
   "display_name": "Python 3",
   "language": "python",
   "name": "python3"
  },
  "language_info": {
   "codemirror_mode": {
    "name": "ipython",
    "version": 3
   },
   "file_extension": ".py",
   "mimetype": "text/x-python",
   "name": "python",
   "nbconvert_exporter": "python",
   "pygments_lexer": "ipython3",
   "version": "3.9.6"
  },
  "source_map": [
   11,
   37,
   43,
   56,
   64,
   77,
   85,
   139,
   155,
   176,
   189,
   277,
   310,
   328,
   338
  ]
 },
 "nbformat": 4,
 "nbformat_minor": 5
}